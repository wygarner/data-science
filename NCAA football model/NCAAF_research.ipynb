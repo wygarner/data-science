{
 "cells": [
  {
   "cell_type": "code",
   "execution_count": 1,
   "metadata": {},
   "outputs": [
    {
     "data": {
      "application/javascript": [
       "\n",
       "            setTimeout(function() {\n",
       "                var nbb_cell_id = 1;\n",
       "                var nbb_unformatted_code = \"%load_ext nb_black\";\n",
       "                var nbb_formatted_code = \"%load_ext nb_black\";\n",
       "                var nbb_cells = Jupyter.notebook.get_cells();\n",
       "                for (var i = 0; i < nbb_cells.length; ++i) {\n",
       "                    if (nbb_cells[i].input_prompt_number == nbb_cell_id) {\n",
       "                        if (nbb_cells[i].get_text() == nbb_unformatted_code) {\n",
       "                             nbb_cells[i].set_text(nbb_formatted_code);\n",
       "                        }\n",
       "                        break;\n",
       "                    }\n",
       "                }\n",
       "            }, 500);\n",
       "            "
      ],
      "text/plain": [
       "<IPython.core.display.Javascript object>"
      ]
     },
     "metadata": {},
     "output_type": "display_data"
    }
   ],
   "source": [
    "%load_ext nb_black"
   ]
  },
  {
   "cell_type": "code",
   "execution_count": 4,
   "metadata": {},
   "outputs": [
    {
     "data": {
      "application/javascript": [
       "\n",
       "            setTimeout(function() {\n",
       "                var nbb_cell_id = 4;\n",
       "                var nbb_unformatted_code = \"# Imports\\nimport pandas as pd\\nimport numpy as np\\nimport scipy.stats as stats\\nimport matplotlib.pyplot as plt\\nimport seaborn as sns\\nimport statsmodels.stats.proportion as proportion\\nfrom statsmodels.stats.multicomp import pairwise_tukeyhsd\\nimport statsmodels.api as sm\\nfrom statsmodels.formula.api import ols\\nfrom statsmodels.graphics.gofplots import qqplot\\nimport ssl\\nfrom sqlalchemy import create_engine\\nfrom statsmodels.stats.multitest import multipletests\\nimport plotly_express as px\\nimport json\\nimport urllib3\\nimport certifi\\nimport sqlite3\";\n",
       "                var nbb_formatted_code = \"# Imports\\nimport pandas as pd\\nimport numpy as np\\nimport scipy.stats as stats\\nimport matplotlib.pyplot as plt\\nimport seaborn as sns\\nimport statsmodels.stats.proportion as proportion\\nfrom statsmodels.stats.multicomp import pairwise_tukeyhsd\\nimport statsmodels.api as sm\\nfrom statsmodels.formula.api import ols\\nfrom statsmodels.graphics.gofplots import qqplot\\nimport ssl\\nfrom sqlalchemy import create_engine\\nfrom statsmodels.stats.multitest import multipletests\\nimport plotly_express as px\\nimport json\\nimport urllib3\\nimport certifi\\nimport sqlite3\";\n",
       "                var nbb_cells = Jupyter.notebook.get_cells();\n",
       "                for (var i = 0; i < nbb_cells.length; ++i) {\n",
       "                    if (nbb_cells[i].input_prompt_number == nbb_cell_id) {\n",
       "                        if (nbb_cells[i].get_text() == nbb_unformatted_code) {\n",
       "                             nbb_cells[i].set_text(nbb_formatted_code);\n",
       "                        }\n",
       "                        break;\n",
       "                    }\n",
       "                }\n",
       "            }, 500);\n",
       "            "
      ],
      "text/plain": [
       "<IPython.core.display.Javascript object>"
      ]
     },
     "metadata": {},
     "output_type": "display_data"
    }
   ],
   "source": [
    "# Imports\n",
    "import pandas as pd\n",
    "import numpy as np\n",
    "import scipy.stats as stats\n",
    "import matplotlib.pyplot as plt\n",
    "import seaborn as sns\n",
    "import statsmodels.stats.proportion as proportion\n",
    "from statsmodels.stats.multicomp import pairwise_tukeyhsd\n",
    "import statsmodels.api as sm\n",
    "from statsmodels.formula.api import ols\n",
    "from statsmodels.graphics.gofplots import qqplot\n",
    "import ssl\n",
    "import plotly_express as px\n",
    "import json\n",
    "import urllib3\n",
    "import certifi\n",
    "import sqlite3"
   ]
  },
  {
   "cell_type": "code",
   "execution_count": 5,
   "metadata": {},
   "outputs": [
    {
     "data": {
      "application/javascript": [
       "\n",
       "            setTimeout(function() {\n",
       "                var nbb_cell_id = 5;\n",
       "                var nbb_unformatted_code = \"# Read from games table to create three DFs: all_games, home_wins, away_wins\\n\\nconn = sqlite3.connect(\\\"NCAAF.db\\\")\\n\\nc = conn.cursor()\\n\\nall_games = pd.read_sql_query(\\\"SELECT * FROM games \\\", conn)\\nall_games[\\\"W/L\\\"] = np.where(all_games[\\\"home_score\\\"] > all_games[\\\"away_score\\\"], \\\"W\\\", \\\"L\\\")\\nall_games.drop(columns=[\\\"home_offense_plays\\\", \\\"away_offense_plays\\\"], inplace=True)\\n\\nhome_wins = pd.read_sql_query(\\n    \\\"SELECT * FROM games WHERE games.home_score>games.away_score\\\", conn\\n)\\n\\naway_wins = pd.read_sql_query(\\n    \\\"SELECT * FROM games WHERE games.home_score<games.away_score\\\", conn\\n)\";\n",
       "                var nbb_formatted_code = \"# Read from games table to create three DFs: all_games, home_wins, away_wins\\n\\nconn = sqlite3.connect(\\\"NCAAF.db\\\")\\n\\nc = conn.cursor()\\n\\nall_games = pd.read_sql_query(\\\"SELECT * FROM games \\\", conn)\\nall_games[\\\"W/L\\\"] = np.where(all_games[\\\"home_score\\\"] > all_games[\\\"away_score\\\"], \\\"W\\\", \\\"L\\\")\\nall_games.drop(columns=[\\\"home_offense_plays\\\", \\\"away_offense_plays\\\"], inplace=True)\\n\\nhome_wins = pd.read_sql_query(\\n    \\\"SELECT * FROM games WHERE games.home_score>games.away_score\\\", conn\\n)\\n\\naway_wins = pd.read_sql_query(\\n    \\\"SELECT * FROM games WHERE games.home_score<games.away_score\\\", conn\\n)\";\n",
       "                var nbb_cells = Jupyter.notebook.get_cells();\n",
       "                for (var i = 0; i < nbb_cells.length; ++i) {\n",
       "                    if (nbb_cells[i].input_prompt_number == nbb_cell_id) {\n",
       "                        if (nbb_cells[i].get_text() == nbb_unformatted_code) {\n",
       "                             nbb_cells[i].set_text(nbb_formatted_code);\n",
       "                        }\n",
       "                        break;\n",
       "                    }\n",
       "                }\n",
       "            }, 500);\n",
       "            "
      ],
      "text/plain": [
       "<IPython.core.display.Javascript object>"
      ]
     },
     "metadata": {},
     "output_type": "display_data"
    }
   ],
   "source": [
    "# Read from games table to create three DFs: all_games, home_wins, away_wins\n",
    "\n",
    "conn = sqlite3.connect(\"NCAAF.db\")\n",
    "\n",
    "c = conn.cursor()\n",
    "\n",
    "all_games = pd.read_sql_query(\"SELECT * FROM games \", conn)\n",
    "all_games[\"W/L\"] = np.where(all_games[\"home_score\"] > all_games[\"away_score\"], \"W\", \"L\")\n",
    "all_games.drop(columns=[\"home_offense_plays\", \"away_offense_plays\"], inplace=True)\n",
    "\n",
    "home_wins = pd.read_sql_query(\n",
    "    \"SELECT * FROM games WHERE games.home_score>games.away_score\", conn\n",
    ")\n",
    "\n",
    "away_wins = pd.read_sql_query(\n",
    "    \"SELECT * FROM games WHERE games.home_score<games.away_score\", conn\n",
    ")"
   ]
  },
  {
   "cell_type": "markdown",
   "metadata": {},
   "source": [
    "### Research question\n",
    "What is the statistical significance of statistics which measure the five factors of college football to winning and losing?\n",
    "\n",
    "### The five factors of college football\n",
    "* Explosiveness\n",
    "* Efficiency\n",
    "* Field position\n",
    "* Finishing drives\n",
    "* Turnovers\n",
    "\n",
    "### Stats to measure the five factors\n",
    "* ypp: yards per play\n",
    "* success_rate: successful plays/total plays\n",
    "    * What is a successful play?\n",
    "        * On first down: Gaining half of the required yards to gain a first down\n",
    "        * On second down: Gaining 70 percent of the required yards to gain a first down\n",
    "        * On third/fourth down: Gaining all of the required yards to gain a frist down\n",
    "* ppapsp: Projected points added per succesful play\n",
    "* afp: Average starting field position\n",
    "* ppti40: Points per trip inside the 40 yard line\n",
    "* turnovers: turnovers/plays"
   ]
  },
  {
   "cell_type": "markdown",
   "metadata": {},
   "source": [
    "### Hypothesis\n",
    "\n",
    "x1= `home_wins feature`\\\n",
    "x2= `away_wins feature`\\\n",
    "\\\n",
    "For each feature:\\\n",
    "H<sub>o</sub>: `mean(x1) - mean(x2) = 0`\n",
    "\n",
    "H<sub>a</sub>: `mean(x1) - mean(x2) != 0`"
   ]
  },
  {
   "cell_type": "markdown",
   "metadata": {},
   "source": [
    "### Data\n",
    "* all_games\n",
    "    * DF with stats from 4046 games from 2014-2019\n",
    "* home_wins\n",
    "    * DF containing data from only wins by home team\n",
    "* away_wins\n",
    "    * DF containing data from only wins by away team"
   ]
  },
  {
   "cell_type": "code",
   "execution_count": 43,
   "metadata": {},
   "outputs": [
    {
     "data": {
      "text/html": [
       "<div>\n",
       "<style scoped>\n",
       "    .dataframe tbody tr th:only-of-type {\n",
       "        vertical-align: middle;\n",
       "    }\n",
       "\n",
       "    .dataframe tbody tr th {\n",
       "        vertical-align: top;\n",
       "    }\n",
       "\n",
       "    .dataframe thead th {\n",
       "        text-align: right;\n",
       "    }\n",
       "</style>\n",
       "<table border=\"1\" class=\"dataframe\">\n",
       "  <thead>\n",
       "    <tr style=\"text-align: right;\">\n",
       "      <th></th>\n",
       "      <th>game_id</th>\n",
       "      <th>year</th>\n",
       "      <th>week</th>\n",
       "      <th>home_team</th>\n",
       "      <th>away_team</th>\n",
       "      <th>home_ypp</th>\n",
       "      <th>home_success_rate</th>\n",
       "      <th>home_ppapsp</th>\n",
       "      <th>home_afp</th>\n",
       "      <th>home_ppti40</th>\n",
       "      <th>home_turnovers</th>\n",
       "      <th>away_ypp</th>\n",
       "      <th>away_success_rate</th>\n",
       "      <th>away_ppapsp</th>\n",
       "      <th>away_afp</th>\n",
       "      <th>away_ppti40</th>\n",
       "      <th>away_turnovers</th>\n",
       "      <th>home_score</th>\n",
       "      <th>away_score</th>\n",
       "      <th>W/L</th>\n",
       "    </tr>\n",
       "  </thead>\n",
       "  <tbody>\n",
       "    <tr>\n",
       "      <th>0</th>\n",
       "      <td>400603840</td>\n",
       "      <td>2015</td>\n",
       "      <td>1</td>\n",
       "      <td>South Carolina</td>\n",
       "      <td>North Carolina</td>\n",
       "      <td>4.425</td>\n",
       "      <td>0.388</td>\n",
       "      <td>0.432</td>\n",
       "      <td>31.818</td>\n",
       "      <td>4.250</td>\n",
       "      <td>0.000</td>\n",
       "      <td>6.100</td>\n",
       "      <td>0.400</td>\n",
       "      <td>0.439</td>\n",
       "      <td>22.800</td>\n",
       "      <td>2.167</td>\n",
       "      <td>0.043</td>\n",
       "      <td>17</td>\n",
       "      <td>13</td>\n",
       "      <td>W</td>\n",
       "    </tr>\n",
       "    <tr>\n",
       "      <th>1</th>\n",
       "      <td>400763593</td>\n",
       "      <td>2015</td>\n",
       "      <td>1</td>\n",
       "      <td>UCF</td>\n",
       "      <td>Florida International</td>\n",
       "      <td>4.353</td>\n",
       "      <td>0.382</td>\n",
       "      <td>0.522</td>\n",
       "      <td>33.727</td>\n",
       "      <td>2.800</td>\n",
       "      <td>0.000</td>\n",
       "      <td>4.743</td>\n",
       "      <td>0.338</td>\n",
       "      <td>0.410</td>\n",
       "      <td>18.167</td>\n",
       "      <td>4.250</td>\n",
       "      <td>0.014</td>\n",
       "      <td>14</td>\n",
       "      <td>15</td>\n",
       "      <td>L</td>\n",
       "    </tr>\n",
       "    <tr>\n",
       "      <th>2</th>\n",
       "      <td>400763399</td>\n",
       "      <td>2015</td>\n",
       "      <td>1</td>\n",
       "      <td>Central Michigan</td>\n",
       "      <td>Oklahoma State</td>\n",
       "      <td>4.392</td>\n",
       "      <td>0.378</td>\n",
       "      <td>0.425</td>\n",
       "      <td>20.917</td>\n",
       "      <td>4.333</td>\n",
       "      <td>0.014</td>\n",
       "      <td>5.620</td>\n",
       "      <td>0.394</td>\n",
       "      <td>0.434</td>\n",
       "      <td>30.000</td>\n",
       "      <td>4.000</td>\n",
       "      <td>0.000</td>\n",
       "      <td>13</td>\n",
       "      <td>24</td>\n",
       "      <td>L</td>\n",
       "    </tr>\n",
       "    <tr>\n",
       "      <th>3</th>\n",
       "      <td>400756896</td>\n",
       "      <td>2015</td>\n",
       "      <td>1</td>\n",
       "      <td>Wake Forest</td>\n",
       "      <td>Elon</td>\n",
       "      <td>7.190</td>\n",
       "      <td>0.488</td>\n",
       "      <td>0.579</td>\n",
       "      <td>26.000</td>\n",
       "      <td>4.556</td>\n",
       "      <td>0.000</td>\n",
       "      <td>2.385</td>\n",
       "      <td>0.135</td>\n",
       "      <td>0.146</td>\n",
       "      <td>25.167</td>\n",
       "      <td>3.000</td>\n",
       "      <td>0.000</td>\n",
       "      <td>41</td>\n",
       "      <td>3</td>\n",
       "      <td>W</td>\n",
       "    </tr>\n",
       "    <tr>\n",
       "      <th>4</th>\n",
       "      <td>400787299</td>\n",
       "      <td>2015</td>\n",
       "      <td>1</td>\n",
       "      <td>Ball State</td>\n",
       "      <td>VMI</td>\n",
       "      <td>5.290</td>\n",
       "      <td>0.480</td>\n",
       "      <td>0.510</td>\n",
       "      <td>41.067</td>\n",
       "      <td>4.800</td>\n",
       "      <td>0.010</td>\n",
       "      <td>6.524</td>\n",
       "      <td>0.369</td>\n",
       "      <td>0.596</td>\n",
       "      <td>22.071</td>\n",
       "      <td>5.429</td>\n",
       "      <td>0.000</td>\n",
       "      <td>48</td>\n",
       "      <td>36</td>\n",
       "      <td>W</td>\n",
       "    </tr>\n",
       "  </tbody>\n",
       "</table>\n",
       "</div>"
      ],
      "text/plain": [
       "     game_id  year  week         home_team              away_team  home_ypp  \\\n",
       "0  400603840  2015     1    South Carolina         North Carolina     4.425   \n",
       "1  400763593  2015     1               UCF  Florida International     4.353   \n",
       "2  400763399  2015     1  Central Michigan         Oklahoma State     4.392   \n",
       "3  400756896  2015     1       Wake Forest                   Elon     7.190   \n",
       "4  400787299  2015     1        Ball State                    VMI     5.290   \n",
       "\n",
       "   home_success_rate  home_ppapsp  home_afp  home_ppti40  home_turnovers  \\\n",
       "0              0.388        0.432    31.818        4.250           0.000   \n",
       "1              0.382        0.522    33.727        2.800           0.000   \n",
       "2              0.378        0.425    20.917        4.333           0.014   \n",
       "3              0.488        0.579    26.000        4.556           0.000   \n",
       "4              0.480        0.510    41.067        4.800           0.010   \n",
       "\n",
       "   away_ypp  away_success_rate  away_ppapsp  away_afp  away_ppti40  \\\n",
       "0     6.100              0.400        0.439    22.800        2.167   \n",
       "1     4.743              0.338        0.410    18.167        4.250   \n",
       "2     5.620              0.394        0.434    30.000        4.000   \n",
       "3     2.385              0.135        0.146    25.167        3.000   \n",
       "4     6.524              0.369        0.596    22.071        5.429   \n",
       "\n",
       "   away_turnovers  home_score  away_score W/L  \n",
       "0           0.043          17          13   W  \n",
       "1           0.014          14          15   L  \n",
       "2           0.000          13          24   L  \n",
       "3           0.000          41           3   W  \n",
       "4           0.000          48          36   W  "
      ]
     },
     "execution_count": 43,
     "metadata": {},
     "output_type": "execute_result"
    },
    {
     "data": {
      "application/javascript": [
       "\n",
       "            setTimeout(function() {\n",
       "                var nbb_cell_id = 43;\n",
       "                var nbb_unformatted_code = \"all_games.head()\";\n",
       "                var nbb_formatted_code = \"all_games.head()\";\n",
       "                var nbb_cells = Jupyter.notebook.get_cells();\n",
       "                for (var i = 0; i < nbb_cells.length; ++i) {\n",
       "                    if (nbb_cells[i].input_prompt_number == nbb_cell_id) {\n",
       "                        if (nbb_cells[i].get_text() == nbb_unformatted_code) {\n",
       "                             nbb_cells[i].set_text(nbb_formatted_code);\n",
       "                        }\n",
       "                        break;\n",
       "                    }\n",
       "                }\n",
       "            }, 500);\n",
       "            "
      ],
      "text/plain": [
       "<IPython.core.display.Javascript object>"
      ]
     },
     "metadata": {},
     "output_type": "display_data"
    }
   ],
   "source": [
    "all_games.head()"
   ]
  },
  {
   "cell_type": "code",
   "execution_count": 42,
   "metadata": {},
   "outputs": [
    {
     "data": {
      "text/html": [
       "<div>\n",
       "<style scoped>\n",
       "    .dataframe tbody tr th:only-of-type {\n",
       "        vertical-align: middle;\n",
       "    }\n",
       "\n",
       "    .dataframe tbody tr th {\n",
       "        vertical-align: top;\n",
       "    }\n",
       "\n",
       "    .dataframe thead th {\n",
       "        text-align: right;\n",
       "    }\n",
       "</style>\n",
       "<table border=\"1\" class=\"dataframe\">\n",
       "  <thead>\n",
       "    <tr style=\"text-align: right;\">\n",
       "      <th></th>\n",
       "      <th>game_id</th>\n",
       "      <th>year</th>\n",
       "      <th>week</th>\n",
       "      <th>home_team</th>\n",
       "      <th>away_team</th>\n",
       "      <th>home_ypp</th>\n",
       "      <th>home_success_rate</th>\n",
       "      <th>home_ppapsp</th>\n",
       "      <th>home_afp</th>\n",
       "      <th>home_ppti40</th>\n",
       "      <th>...</th>\n",
       "      <th>away_ypp</th>\n",
       "      <th>away_success_rate</th>\n",
       "      <th>away_ppapsp</th>\n",
       "      <th>away_afp</th>\n",
       "      <th>away_ppti40</th>\n",
       "      <th>away_turnovers</th>\n",
       "      <th>home_offense_plays</th>\n",
       "      <th>away_offense_plays</th>\n",
       "      <th>home_score</th>\n",
       "      <th>away_score</th>\n",
       "    </tr>\n",
       "  </thead>\n",
       "  <tbody>\n",
       "    <tr>\n",
       "      <th>0</th>\n",
       "      <td>400603840</td>\n",
       "      <td>2015</td>\n",
       "      <td>1</td>\n",
       "      <td>South Carolina</td>\n",
       "      <td>North Carolina</td>\n",
       "      <td>4.425</td>\n",
       "      <td>0.388</td>\n",
       "      <td>0.432</td>\n",
       "      <td>31.818</td>\n",
       "      <td>4.250</td>\n",
       "      <td>...</td>\n",
       "      <td>6.100</td>\n",
       "      <td>0.400</td>\n",
       "      <td>0.439</td>\n",
       "      <td>22.800</td>\n",
       "      <td>2.167</td>\n",
       "      <td>0.043</td>\n",
       "      <td>80</td>\n",
       "      <td>70</td>\n",
       "      <td>17</td>\n",
       "      <td>13</td>\n",
       "    </tr>\n",
       "    <tr>\n",
       "      <th>1</th>\n",
       "      <td>400756896</td>\n",
       "      <td>2015</td>\n",
       "      <td>1</td>\n",
       "      <td>Wake Forest</td>\n",
       "      <td>Elon</td>\n",
       "      <td>7.190</td>\n",
       "      <td>0.488</td>\n",
       "      <td>0.579</td>\n",
       "      <td>26.000</td>\n",
       "      <td>4.556</td>\n",
       "      <td>...</td>\n",
       "      <td>2.385</td>\n",
       "      <td>0.135</td>\n",
       "      <td>0.146</td>\n",
       "      <td>25.167</td>\n",
       "      <td>3.000</td>\n",
       "      <td>0.000</td>\n",
       "      <td>84</td>\n",
       "      <td>52</td>\n",
       "      <td>41</td>\n",
       "      <td>3</td>\n",
       "    </tr>\n",
       "    <tr>\n",
       "      <th>2</th>\n",
       "      <td>400787299</td>\n",
       "      <td>2015</td>\n",
       "      <td>1</td>\n",
       "      <td>Ball State</td>\n",
       "      <td>VMI</td>\n",
       "      <td>5.290</td>\n",
       "      <td>0.480</td>\n",
       "      <td>0.510</td>\n",
       "      <td>41.067</td>\n",
       "      <td>4.800</td>\n",
       "      <td>...</td>\n",
       "      <td>6.524</td>\n",
       "      <td>0.369</td>\n",
       "      <td>0.596</td>\n",
       "      <td>22.071</td>\n",
       "      <td>5.429</td>\n",
       "      <td>0.000</td>\n",
       "      <td>100</td>\n",
       "      <td>84</td>\n",
       "      <td>48</td>\n",
       "      <td>36</td>\n",
       "    </tr>\n",
       "    <tr>\n",
       "      <th>3</th>\n",
       "      <td>400764854</td>\n",
       "      <td>2015</td>\n",
       "      <td>1</td>\n",
       "      <td>Connecticut</td>\n",
       "      <td>Villanova</td>\n",
       "      <td>5.016</td>\n",
       "      <td>0.476</td>\n",
       "      <td>0.512</td>\n",
       "      <td>26.300</td>\n",
       "      <td>4.200</td>\n",
       "      <td>...</td>\n",
       "      <td>3.972</td>\n",
       "      <td>0.389</td>\n",
       "      <td>0.460</td>\n",
       "      <td>26.800</td>\n",
       "      <td>2.800</td>\n",
       "      <td>0.014</td>\n",
       "      <td>63</td>\n",
       "      <td>72</td>\n",
       "      <td>20</td>\n",
       "      <td>15</td>\n",
       "    </tr>\n",
       "    <tr>\n",
       "      <th>4</th>\n",
       "      <td>400756895</td>\n",
       "      <td>2015</td>\n",
       "      <td>1</td>\n",
       "      <td>Georgia Tech</td>\n",
       "      <td>Alcorn State</td>\n",
       "      <td>10.228</td>\n",
       "      <td>0.684</td>\n",
       "      <td>0.963</td>\n",
       "      <td>42.462</td>\n",
       "      <td>7.000</td>\n",
       "      <td>...</td>\n",
       "      <td>3.222</td>\n",
       "      <td>0.278</td>\n",
       "      <td>0.309</td>\n",
       "      <td>34.857</td>\n",
       "      <td>2.333</td>\n",
       "      <td>0.042</td>\n",
       "      <td>57</td>\n",
       "      <td>72</td>\n",
       "      <td>69</td>\n",
       "      <td>6</td>\n",
       "    </tr>\n",
       "  </tbody>\n",
       "</table>\n",
       "<p>5 rows × 21 columns</p>\n",
       "</div>"
      ],
      "text/plain": [
       "     game_id  year  week       home_team       away_team  home_ypp  \\\n",
       "0  400603840  2015     1  South Carolina  North Carolina     4.425   \n",
       "1  400756896  2015     1     Wake Forest            Elon     7.190   \n",
       "2  400787299  2015     1      Ball State             VMI     5.290   \n",
       "3  400764854  2015     1     Connecticut       Villanova     5.016   \n",
       "4  400756895  2015     1    Georgia Tech    Alcorn State    10.228   \n",
       "\n",
       "   home_success_rate  home_ppapsp  home_afp  home_ppti40  ...  away_ypp  \\\n",
       "0              0.388        0.432    31.818        4.250  ...     6.100   \n",
       "1              0.488        0.579    26.000        4.556  ...     2.385   \n",
       "2              0.480        0.510    41.067        4.800  ...     6.524   \n",
       "3              0.476        0.512    26.300        4.200  ...     3.972   \n",
       "4              0.684        0.963    42.462        7.000  ...     3.222   \n",
       "\n",
       "   away_success_rate  away_ppapsp  away_afp  away_ppti40  away_turnovers  \\\n",
       "0              0.400        0.439    22.800        2.167           0.043   \n",
       "1              0.135        0.146    25.167        3.000           0.000   \n",
       "2              0.369        0.596    22.071        5.429           0.000   \n",
       "3              0.389        0.460    26.800        2.800           0.014   \n",
       "4              0.278        0.309    34.857        2.333           0.042   \n",
       "\n",
       "   home_offense_plays  away_offense_plays  home_score  away_score  \n",
       "0                  80                  70          17          13  \n",
       "1                  84                  52          41           3  \n",
       "2                 100                  84          48          36  \n",
       "3                  63                  72          20          15  \n",
       "4                  57                  72          69           6  \n",
       "\n",
       "[5 rows x 21 columns]"
      ]
     },
     "execution_count": 42,
     "metadata": {},
     "output_type": "execute_result"
    },
    {
     "data": {
      "application/javascript": [
       "\n",
       "            setTimeout(function() {\n",
       "                var nbb_cell_id = 42;\n",
       "                var nbb_unformatted_code = \"home_wins.head()\";\n",
       "                var nbb_formatted_code = \"home_wins.head()\";\n",
       "                var nbb_cells = Jupyter.notebook.get_cells();\n",
       "                for (var i = 0; i < nbb_cells.length; ++i) {\n",
       "                    if (nbb_cells[i].input_prompt_number == nbb_cell_id) {\n",
       "                        if (nbb_cells[i].get_text() == nbb_unformatted_code) {\n",
       "                             nbb_cells[i].set_text(nbb_formatted_code);\n",
       "                        }\n",
       "                        break;\n",
       "                    }\n",
       "                }\n",
       "            }, 500);\n",
       "            "
      ],
      "text/plain": [
       "<IPython.core.display.Javascript object>"
      ]
     },
     "metadata": {},
     "output_type": "display_data"
    }
   ],
   "source": [
    "home_wins.head()"
   ]
  },
  {
   "cell_type": "code",
   "execution_count": 44,
   "metadata": {},
   "outputs": [
    {
     "data": {
      "text/html": [
       "<div>\n",
       "<style scoped>\n",
       "    .dataframe tbody tr th:only-of-type {\n",
       "        vertical-align: middle;\n",
       "    }\n",
       "\n",
       "    .dataframe tbody tr th {\n",
       "        vertical-align: top;\n",
       "    }\n",
       "\n",
       "    .dataframe thead th {\n",
       "        text-align: right;\n",
       "    }\n",
       "</style>\n",
       "<table border=\"1\" class=\"dataframe\">\n",
       "  <thead>\n",
       "    <tr style=\"text-align: right;\">\n",
       "      <th></th>\n",
       "      <th>game_id</th>\n",
       "      <th>year</th>\n",
       "      <th>week</th>\n",
       "      <th>home_team</th>\n",
       "      <th>away_team</th>\n",
       "      <th>home_ypp</th>\n",
       "      <th>home_success_rate</th>\n",
       "      <th>home_ppapsp</th>\n",
       "      <th>home_afp</th>\n",
       "      <th>home_ppti40</th>\n",
       "      <th>...</th>\n",
       "      <th>away_ypp</th>\n",
       "      <th>away_success_rate</th>\n",
       "      <th>away_ppapsp</th>\n",
       "      <th>away_afp</th>\n",
       "      <th>away_ppti40</th>\n",
       "      <th>away_turnovers</th>\n",
       "      <th>home_offense_plays</th>\n",
       "      <th>away_offense_plays</th>\n",
       "      <th>home_score</th>\n",
       "      <th>away_score</th>\n",
       "    </tr>\n",
       "  </thead>\n",
       "  <tbody>\n",
       "    <tr>\n",
       "      <th>0</th>\n",
       "      <td>400763593</td>\n",
       "      <td>2015</td>\n",
       "      <td>1</td>\n",
       "      <td>UCF</td>\n",
       "      <td>Florida International</td>\n",
       "      <td>4.353</td>\n",
       "      <td>0.382</td>\n",
       "      <td>0.522</td>\n",
       "      <td>33.727</td>\n",
       "      <td>2.800</td>\n",
       "      <td>...</td>\n",
       "      <td>4.743</td>\n",
       "      <td>0.338</td>\n",
       "      <td>0.410</td>\n",
       "      <td>18.167</td>\n",
       "      <td>4.250</td>\n",
       "      <td>0.014</td>\n",
       "      <td>68</td>\n",
       "      <td>74</td>\n",
       "      <td>14</td>\n",
       "      <td>15</td>\n",
       "    </tr>\n",
       "    <tr>\n",
       "      <th>1</th>\n",
       "      <td>400763399</td>\n",
       "      <td>2015</td>\n",
       "      <td>1</td>\n",
       "      <td>Central Michigan</td>\n",
       "      <td>Oklahoma State</td>\n",
       "      <td>4.392</td>\n",
       "      <td>0.378</td>\n",
       "      <td>0.425</td>\n",
       "      <td>20.917</td>\n",
       "      <td>4.333</td>\n",
       "      <td>...</td>\n",
       "      <td>5.620</td>\n",
       "      <td>0.394</td>\n",
       "      <td>0.434</td>\n",
       "      <td>30.000</td>\n",
       "      <td>4.000</td>\n",
       "      <td>0.000</td>\n",
       "      <td>74</td>\n",
       "      <td>71</td>\n",
       "      <td>13</td>\n",
       "      <td>24</td>\n",
       "    </tr>\n",
       "    <tr>\n",
       "      <th>2</th>\n",
       "      <td>400603839</td>\n",
       "      <td>2015</td>\n",
       "      <td>1</td>\n",
       "      <td>Vanderbilt</td>\n",
       "      <td>Western Kentucky</td>\n",
       "      <td>4.612</td>\n",
       "      <td>0.375</td>\n",
       "      <td>0.399</td>\n",
       "      <td>34.417</td>\n",
       "      <td>1.857</td>\n",
       "      <td>...</td>\n",
       "      <td>4.268</td>\n",
       "      <td>0.375</td>\n",
       "      <td>0.379</td>\n",
       "      <td>27.615</td>\n",
       "      <td>4.667</td>\n",
       "      <td>0.000</td>\n",
       "      <td>80</td>\n",
       "      <td>56</td>\n",
       "      <td>12</td>\n",
       "      <td>14</td>\n",
       "    </tr>\n",
       "    <tr>\n",
       "      <th>3</th>\n",
       "      <td>400763398</td>\n",
       "      <td>2015</td>\n",
       "      <td>1</td>\n",
       "      <td>Minnesota</td>\n",
       "      <td>TCU</td>\n",
       "      <td>4.167</td>\n",
       "      <td>0.385</td>\n",
       "      <td>0.355</td>\n",
       "      <td>22.667</td>\n",
       "      <td>4.250</td>\n",
       "      <td>...</td>\n",
       "      <td>4.469</td>\n",
       "      <td>0.448</td>\n",
       "      <td>0.416</td>\n",
       "      <td>35.000</td>\n",
       "      <td>2.875</td>\n",
       "      <td>0.021</td>\n",
       "      <td>78</td>\n",
       "      <td>96</td>\n",
       "      <td>17</td>\n",
       "      <td>23</td>\n",
       "    </tr>\n",
       "    <tr>\n",
       "      <th>4</th>\n",
       "      <td>400787302</td>\n",
       "      <td>2015</td>\n",
       "      <td>1</td>\n",
       "      <td>Idaho</td>\n",
       "      <td>Ohio</td>\n",
       "      <td>4.550</td>\n",
       "      <td>0.525</td>\n",
       "      <td>0.441</td>\n",
       "      <td>31.917</td>\n",
       "      <td>5.400</td>\n",
       "      <td>...</td>\n",
       "      <td>6.465</td>\n",
       "      <td>0.479</td>\n",
       "      <td>0.575</td>\n",
       "      <td>46.909</td>\n",
       "      <td>5.000</td>\n",
       "      <td>0.000</td>\n",
       "      <td>80</td>\n",
       "      <td>71</td>\n",
       "      <td>28</td>\n",
       "      <td>45</td>\n",
       "    </tr>\n",
       "  </tbody>\n",
       "</table>\n",
       "<p>5 rows × 21 columns</p>\n",
       "</div>"
      ],
      "text/plain": [
       "     game_id  year  week         home_team              away_team  home_ypp  \\\n",
       "0  400763593  2015     1               UCF  Florida International     4.353   \n",
       "1  400763399  2015     1  Central Michigan         Oklahoma State     4.392   \n",
       "2  400603839  2015     1        Vanderbilt       Western Kentucky     4.612   \n",
       "3  400763398  2015     1         Minnesota                    TCU     4.167   \n",
       "4  400787302  2015     1             Idaho                   Ohio     4.550   \n",
       "\n",
       "   home_success_rate  home_ppapsp  home_afp  home_ppti40  ...  away_ypp  \\\n",
       "0              0.382        0.522    33.727        2.800  ...     4.743   \n",
       "1              0.378        0.425    20.917        4.333  ...     5.620   \n",
       "2              0.375        0.399    34.417        1.857  ...     4.268   \n",
       "3              0.385        0.355    22.667        4.250  ...     4.469   \n",
       "4              0.525        0.441    31.917        5.400  ...     6.465   \n",
       "\n",
       "   away_success_rate  away_ppapsp  away_afp  away_ppti40  away_turnovers  \\\n",
       "0              0.338        0.410    18.167        4.250           0.014   \n",
       "1              0.394        0.434    30.000        4.000           0.000   \n",
       "2              0.375        0.379    27.615        4.667           0.000   \n",
       "3              0.448        0.416    35.000        2.875           0.021   \n",
       "4              0.479        0.575    46.909        5.000           0.000   \n",
       "\n",
       "   home_offense_plays  away_offense_plays  home_score  away_score  \n",
       "0                  68                  74          14          15  \n",
       "1                  74                  71          13          24  \n",
       "2                  80                  56          12          14  \n",
       "3                  78                  96          17          23  \n",
       "4                  80                  71          28          45  \n",
       "\n",
       "[5 rows x 21 columns]"
      ]
     },
     "execution_count": 44,
     "metadata": {},
     "output_type": "execute_result"
    },
    {
     "data": {
      "application/javascript": [
       "\n",
       "            setTimeout(function() {\n",
       "                var nbb_cell_id = 44;\n",
       "                var nbb_unformatted_code = \"away_wins.head()\";\n",
       "                var nbb_formatted_code = \"away_wins.head()\";\n",
       "                var nbb_cells = Jupyter.notebook.get_cells();\n",
       "                for (var i = 0; i < nbb_cells.length; ++i) {\n",
       "                    if (nbb_cells[i].input_prompt_number == nbb_cell_id) {\n",
       "                        if (nbb_cells[i].get_text() == nbb_unformatted_code) {\n",
       "                             nbb_cells[i].set_text(nbb_formatted_code);\n",
       "                        }\n",
       "                        break;\n",
       "                    }\n",
       "                }\n",
       "            }, 500);\n",
       "            "
      ],
      "text/plain": [
       "<IPython.core.display.Javascript object>"
      ]
     },
     "metadata": {},
     "output_type": "display_data"
    }
   ],
   "source": [
    "away_wins.head()"
   ]
  },
  {
   "cell_type": "markdown",
   "metadata": {},
   "source": [
    "### Test for normality of the distributions of the features\n",
    "Before testing for statistcal signifance, we must determine if the distributions for each feature are normal or not."
   ]
  },
  {
   "cell_type": "code",
   "execution_count": 13,
   "metadata": {
    "scrolled": true
   },
   "outputs": [
    {
     "name": "stdout",
     "output_type": "stream",
     "text": [
      "home_ypp \n",
      "\n",
      "Variance:  2.0960641859561147\n",
      "Skewness:  0.5392012682373369\n",
      "Kurtosis:  0.7800094419816421\n",
      "------------------------ \n",
      "\n",
      "home_success_rate \n",
      "\n",
      "Variance:  0.006641649032706628\n",
      "Skewness:  0.13489183419669495\n",
      "Kurtosis:  -0.10963783304690988\n",
      "------------------------ \n",
      "\n",
      "home_ppapsp \n",
      "\n",
      "Variance:  0.01679808099416452\n",
      "Skewness:  0.4938338425716846\n",
      "Kurtosis:  0.8035621522643122\n",
      "------------------------ \n",
      "\n",
      "home_afp \n",
      "\n",
      "Variance:  37.89640938362801\n",
      "Skewness:  0.38655239275308484\n",
      "Kurtosis:  0.7254853414492222\n",
      "------------------------ \n",
      "\n",
      "home_ppti40 \n",
      "\n",
      "Variance:  1.2347213388973803\n",
      "Skewness:  -0.3391013138506352\n",
      "Kurtosis:  -0.015505996529882271\n",
      "------------------------ \n",
      "\n",
      "home_turnovers \n",
      "\n",
      "Variance:  0.00016265503713486522\n",
      "Skewness:  1.0842869975984746\n",
      "Kurtosis:  1.3278299868326666\n",
      "------------------------ \n",
      "\n",
      "away_ypp \n",
      "\n",
      "Variance:  1.7833888059094272\n",
      "Skewness:  0.04579621582127414\n",
      "Kurtosis:  0.2836764135413241\n",
      "------------------------ \n",
      "\n",
      "away_success_rate \n",
      "\n",
      "Variance:  0.006939279649772343\n",
      "Skewness:  -0.16155740365639235\n",
      "Kurtosis:  0.01611526258004936\n",
      "------------------------ \n",
      "\n",
      "away_ppapsp \n",
      "\n",
      "Variance:  0.013777430157888099\n",
      "Skewness:  0.016982299646043322\n",
      "Kurtosis:  0.10509496476542424\n",
      "------------------------ \n",
      "\n",
      "away_afp \n",
      "\n",
      "Variance:  37.07907660806193\n",
      "Skewness:  1.7946172188965965\n",
      "Kurtosis:  8.036383406963234\n",
      "------------------------ \n",
      "\n",
      "away_ppti40 \n",
      "\n",
      "Variance:  2.9016500117932256\n",
      "Skewness:  -0.12569093565459782\n",
      "Kurtosis:  -0.2853842945049232\n",
      "------------------------ \n",
      "\n",
      "away_turnovers \n",
      "\n",
      "Variance:  0.0003066923072523662\n",
      "Skewness:  0.821849622032388\n",
      "Kurtosis:  0.7681511526647844\n",
      "------------------------ \n",
      "\n"
     ]
    },
    {
     "data": {
      "application/javascript": [
       "\n",
       "            setTimeout(function() {\n",
       "                var nbb_cell_id = 13;\n",
       "                var nbb_unformatted_code = \"features = [\\n    \\\"home_ypp\\\",\\n    \\\"home_success_rate\\\",\\n    \\\"home_ppapsp\\\",\\n    \\\"home_afp\\\",\\n    \\\"home_ppti40\\\",\\n    \\\"home_turnovers\\\",\\n    \\\"away_ypp\\\",\\n    \\\"away_success_rate\\\",\\n    \\\"away_ppapsp\\\",\\n    \\\"away_afp\\\",\\n    \\\"away_ppti40\\\",\\n    \\\"away_turnovers\\\",\\n]\\n\\nfor feature in features:\\n    home_wins_desc = stats.describe(home_wins[feature])\\n    print(feature, \\\"\\\\n\\\")\\n    print(\\\"Variance: \\\", home_wins_desc[3])\\n    print(\\\"Skewness: \\\", home_wins_desc[4])\\n    print(\\\"Kurtosis: \\\", home_wins_desc[5])\\n    print(\\\"-\\\" * 24, \\\"\\\\n\\\")\";\n",
       "                var nbb_formatted_code = \"features = [\\n    \\\"home_ypp\\\",\\n    \\\"home_success_rate\\\",\\n    \\\"home_ppapsp\\\",\\n    \\\"home_afp\\\",\\n    \\\"home_ppti40\\\",\\n    \\\"home_turnovers\\\",\\n    \\\"away_ypp\\\",\\n    \\\"away_success_rate\\\",\\n    \\\"away_ppapsp\\\",\\n    \\\"away_afp\\\",\\n    \\\"away_ppti40\\\",\\n    \\\"away_turnovers\\\",\\n]\\n\\nfor feature in features:\\n    home_wins_desc = stats.describe(home_wins[feature])\\n    print(feature, \\\"\\\\n\\\")\\n    print(\\\"Variance: \\\", home_wins_desc[3])\\n    print(\\\"Skewness: \\\", home_wins_desc[4])\\n    print(\\\"Kurtosis: \\\", home_wins_desc[5])\\n    print(\\\"-\\\" * 24, \\\"\\\\n\\\")\";\n",
       "                var nbb_cells = Jupyter.notebook.get_cells();\n",
       "                for (var i = 0; i < nbb_cells.length; ++i) {\n",
       "                    if (nbb_cells[i].input_prompt_number == nbb_cell_id) {\n",
       "                        if (nbb_cells[i].get_text() == nbb_unformatted_code) {\n",
       "                             nbb_cells[i].set_text(nbb_formatted_code);\n",
       "                        }\n",
       "                        break;\n",
       "                    }\n",
       "                }\n",
       "            }, 500);\n",
       "            "
      ],
      "text/plain": [
       "<IPython.core.display.Javascript object>"
      ]
     },
     "metadata": {},
     "output_type": "display_data"
    }
   ],
   "source": [
    "features = [\n",
    "    \"home_ypp\",\n",
    "    \"home_success_rate\",\n",
    "    \"home_ppapsp\",\n",
    "    \"home_afp\",\n",
    "    \"home_ppti40\",\n",
    "    \"home_turnovers\",\n",
    "    \"away_ypp\",\n",
    "    \"away_success_rate\",\n",
    "    \"away_ppapsp\",\n",
    "    \"away_afp\",\n",
    "    \"away_ppti40\",\n",
    "    \"away_turnovers\",\n",
    "]\n",
    "\n",
    "# Describe the distributions of each feature in the home_wins DF\n",
    "for feature in features:\n",
    "    home_wins_desc = stats.describe(home_wins[feature])\n",
    "    print(feature, \"\\n\")\n",
    "    print(\"Variance: \", home_wins_desc[3])\n",
    "    print(\"Skewness: \", home_wins_desc[4])\n",
    "    print(\"Kurtosis: \", home_wins_desc[5])\n",
    "    print(\"-\" * 24, \"\\n\")"
   ]
  },
  {
   "cell_type": "markdown",
   "metadata": {},
   "source": [
    "The skewness and kurtosis of most of the features doesn't seem to be a problem. Let's visualize the distributions and see for ourselves."
   ]
  },
  {
   "cell_type": "code",
   "execution_count": 15,
   "metadata": {
    "scrolled": true
   },
   "outputs": [
    {
     "data": {
      "image/png": "[encoded data removed]",
      "text/plain": [
       "<Figure size 432x288 with 1 Axes>"
      ]
     },
     "metadata": {
      "needs_background": "light"
     },
     "output_type": "display_data"
    },
    {
     "data": {
      "image/png": "[encoded data removed]",
      "text/plain": [
       "<Figure size 432x288 with 1 Axes>"
      ]
     },
     "metadata": {
      "needs_background": "light"
     },
     "output_type": "display_data"
    },
    {
     "data": {
      "image/png": "[encoded data removed]",
      "text/plain": [
       "<Figure size 432x288 with 1 Axes>"
      ]
     },
     "metadata": {
      "needs_background": "light"
     },
     "output_type": "display_data"
    },
    {
     "data": {
      "image/png": "[encoded data removed]",
      "text/plain": [
       "<Figure size 432x288 with 1 Axes>"
      ]
     },
     "metadata": {
      "needs_background": "light"
     },
     "output_type": "display_data"
    },
    {
     "data": {
      "image/png": "[encoded data removed]",
      "text/plain": [
       "<Figure size 432x288 with 1 Axes>"
      ]
     },
     "metadata": {
      "needs_background": "light"
     },
     "output_type": "display_data"
    },
    {
     "data": {
      "image/png": "[encoded data removed]",
      "text/plain": [
       "<Figure size 432x288 with 1 Axes>"
      ]
     },
     "metadata": {
      "needs_background": "light"
     },
     "output_type": "display_data"
    },
    {
     "data": {
      "image/png": "[encoded data removed]",
      "text/plain": [
       "<Figure size 432x288 with 1 Axes>"
      ]
     },
     "metadata": {
      "needs_background": "light"
     },
     "output_type": "display_data"
    },
    {
     "data": {
      "image/png": "[encoded data removed]",
      "text/plain": [
       "<Figure size 432x288 with 1 Axes>"
      ]
     },
     "metadata": {
      "needs_background": "light"
     },
     "output_type": "display_data"
    },
    {
     "data": {
      "image/png": "[encoded data removed]",
      "text/plain": [
       "<Figure size 432x288 with 1 Axes>"
      ]
     },
     "metadata": {
      "needs_background": "light"
     },
     "output_type": "display_data"
    },
    {
     "data": {
      "image/png": "[encoded data removed]",
      "text/plain": [
       "<Figure size 432x288 with 1 Axes>"
      ]
     },
     "metadata": {
      "needs_background": "light"
     },
     "output_type": "display_data"
    },
    {
     "data": {
      "image/png": "[encoded data removed]",
      "text/plain": [
       "<Figure size 432x288 with 1 Axes>"
      ]
     },
     "metadata": {
      "needs_background": "light"
     },
     "output_type": "display_data"
    },
    {
     "data": {
      "image/png": "[encoded data removed]",
      "text/plain": [
       "<Figure size 432x288 with 1 Axes>"
      ]
     },
     "metadata": {
      "needs_background": "light"
     },
     "output_type": "display_data"
    },
    {
     "data": {
      "application/javascript": [
       "\n",
       "            setTimeout(function() {\n",
       "                var nbb_cell_id = 15;\n",
       "                var nbb_unformatted_code = \"# Visualize \\nfor feature in features:\\n    plt.hist(home_wins[feature], alpha=0.5, label=\\\"wins\\\")\\n    plt.hist(away_wins[feature], alpha=0.5, label=\\\"losses\\\")\\n    plt.axvline(home_wins[feature].mean(), c=\\\"blue\\\")\\n    plt.axvline(away_wins[feature].mean(), c=\\\"orange\\\")\\n    plt.legend()\\n    plt.title(feature)\\n    plt.show()\";\n",
       "                var nbb_formatted_code = \"# Visualize\\nfor feature in features:\\n    plt.hist(home_wins[feature], alpha=0.5, label=\\\"wins\\\")\\n    plt.hist(away_wins[feature], alpha=0.5, label=\\\"losses\\\")\\n    plt.axvline(home_wins[feature].mean(), c=\\\"blue\\\")\\n    plt.axvline(away_wins[feature].mean(), c=\\\"orange\\\")\\n    plt.legend()\\n    plt.title(feature)\\n    plt.show()\";\n",
       "                var nbb_cells = Jupyter.notebook.get_cells();\n",
       "                for (var i = 0; i < nbb_cells.length; ++i) {\n",
       "                    if (nbb_cells[i].input_prompt_number == nbb_cell_id) {\n",
       "                        if (nbb_cells[i].get_text() == nbb_unformatted_code) {\n",
       "                             nbb_cells[i].set_text(nbb_formatted_code);\n",
       "                        }\n",
       "                        break;\n",
       "                    }\n",
       "                }\n",
       "            }, 500);\n",
       "            "
      ],
      "text/plain": [
       "<IPython.core.display.Javascript object>"
      ]
     },
     "metadata": {},
     "output_type": "display_data"
    }
   ],
   "source": [
    "# Visualize histograms of distributions for each feature and compare the means\n",
    "# Wins and losses are from the prespective of the home team\n",
    "# A win is a win for the home team and a loss is a win for the away team\n",
    "for feature in features:\n",
    "    plt.hist(home_wins[feature], alpha=0.5, label=\"wins\")\n",
    "    plt.hist(away_wins[feature], alpha=0.5, label=\"losses\")\n",
    "    plt.axvline(home_wins[feature].mean(), c=\"blue\")\n",
    "    plt.axvline(away_wins[feature].mean(), c=\"orange\")\n",
    "    plt.legend()\n",
    "    plt.title(feature)\n",
    "    plt.show()"
   ]
  },
  {
   "cell_type": "markdown",
   "metadata": {},
   "source": [
    "From our histograms we can see there is a noticible difference of means for each feature between wins and losses.\\\n",
    "\\\n",
    "Most of the features appear to have normal distributions with the exception of *turnover rate* and *average field position*. \\\n",
    "\\\n",
    "It is also interesting to see that the size of the distributions of wins (home wins) is much greater than losses (away wins). **How often does the home team win?**"
   ]
  },
  {
   "cell_type": "code",
   "execution_count": 18,
   "metadata": {},
   "outputs": [
    {
     "name": "stdout",
     "output_type": "stream",
     "text": [
      "Home win rate:  0.63\n"
     ]
    },
    {
     "data": {
      "application/javascript": [
       "\n",
       "            setTimeout(function() {\n",
       "                var nbb_cell_id = 18;\n",
       "                var nbb_unformatted_code = \"print(\\\"Home win rate: \\\", round(len(home_wins) / len(all_games), 2))\";\n",
       "                var nbb_formatted_code = \"print(\\\"Home win rate: \\\", round(len(home_wins) / len(all_games), 2))\";\n",
       "                var nbb_cells = Jupyter.notebook.get_cells();\n",
       "                for (var i = 0; i < nbb_cells.length; ++i) {\n",
       "                    if (nbb_cells[i].input_prompt_number == nbb_cell_id) {\n",
       "                        if (nbb_cells[i].get_text() == nbb_unformatted_code) {\n",
       "                             nbb_cells[i].set_text(nbb_formatted_code);\n",
       "                        }\n",
       "                        break;\n",
       "                    }\n",
       "                }\n",
       "            }, 500);\n",
       "            "
      ],
      "text/plain": [
       "<IPython.core.display.Javascript object>"
      ]
     },
     "metadata": {},
     "output_type": "display_data"
    }
   ],
   "source": [
    "print(\"Home win rate: \", round(len(home_wins) / len(all_games), 2))"
   ]
  },
  {
   "cell_type": "code",
   "execution_count": 46,
   "metadata": {
    "scrolled": true
   },
   "outputs": [
    {
     "data": {
      "image/png": "[encoded data removed]",
      "text/plain": [
       "<Figure size 432x288 with 1 Axes>"
      ]
     },
     "metadata": {
      "needs_background": "light"
     },
     "output_type": "display_data"
    },
    {
     "data": {
      "image/png": "[encoded data removed]",
      "text/plain": [
       "<Figure size 432x288 with 1 Axes>"
      ]
     },
     "metadata": {
      "needs_background": "light"
     },
     "output_type": "display_data"
    },
    {
     "data": {
      "image/png": "[encoded data removed]",
      "text/plain": [
       "<Figure size 432x288 with 1 Axes>"
      ]
     },
     "metadata": {
      "needs_background": "light"
     },
     "output_type": "display_data"
    },
    {
     "data": {
      "image/png": "[encoded data removed]",
      "text/plain": [
       "<Figure size 432x288 with 1 Axes>"
      ]
     },
     "metadata": {
      "needs_background": "light"
     },
     "output_type": "display_data"
    },
    {
     "data": {
      "image/png": "[encoded data removed]",
      "text/plain": [
       "<Figure size 432x288 with 1 Axes>"
      ]
     },
     "metadata": {
      "needs_background": "light"
     },
     "output_type": "display_data"
    },
    {
     "data": {
      "image/png": "[encoded data removed]",
      "text/plain": [
       "<Figure size 432x288 with 1 Axes>"
      ]
     },
     "metadata": {
      "needs_background": "light"
     },
     "output_type": "display_data"
    },
    {
     "data": {
      "image/png": "[encoded data removed]",
      "text/plain": [
       "<Figure size 432x288 with 1 Axes>"
      ]
     },
     "metadata": {
      "needs_background": "light"
     },
     "output_type": "display_data"
    },
    {
     "data": {
      "image/png": "[encoded data removed]",
      "text/plain": [
       "<Figure size 432x288 with 1 Axes>"
      ]
     },
     "metadata": {
      "needs_background": "light"
     },
     "output_type": "display_data"
    },
    {
     "data": {
      "image/png": "[encoded data removed]",
      "text/plain": [
       "<Figure size 432x288 with 1 Axes>"
      ]
     },
     "metadata": {
      "needs_background": "light"
     },
     "output_type": "display_data"
    },
    {
     "data": {
      "image/png": "[encoded data removed]",
      "text/plain": [
       "<Figure size 432x288 with 1 Axes>"
      ]
     },
     "metadata": {
      "needs_background": "light"
     },
     "output_type": "display_data"
    },
    {
     "data": {
      "image/png": "[encoded data removed]",
      "text/plain": [
       "<Figure size 432x288 with 1 Axes>"
      ]
     },
     "metadata": {
      "needs_background": "light"
     },
     "output_type": "display_data"
    },
    {
     "data": {
      "image/png": "[encoded data removed]",
      "text/plain": [
       "<Figure size 432x288 with 1 Axes>"
      ]
     },
     "metadata": {
      "needs_background": "light"
     },
     "output_type": "display_data"
    },
    {
     "data": {
      "application/javascript": [
       "\n",
       "            setTimeout(function() {\n",
       "                var nbb_cell_id = 46;\n",
       "                var nbb_unformatted_code = \"# Bar plots for each feature to further visualize the difference in means.\\n\\nfor feature in features:\\n    sns.barplot(x=\\\"W/L\\\", y=feature, data=all_games)\\n    plt.show()\";\n",
       "                var nbb_formatted_code = \"# Bar plots for each feature to further visualize the difference in means.\\n\\nfor feature in features:\\n    sns.barplot(x=\\\"W/L\\\", y=feature, data=all_games)\\n    plt.show()\";\n",
       "                var nbb_cells = Jupyter.notebook.get_cells();\n",
       "                for (var i = 0; i < nbb_cells.length; ++i) {\n",
       "                    if (nbb_cells[i].input_prompt_number == nbb_cell_id) {\n",
       "                        if (nbb_cells[i].get_text() == nbb_unformatted_code) {\n",
       "                             nbb_cells[i].set_text(nbb_formatted_code);\n",
       "                        }\n",
       "                        break;\n",
       "                    }\n",
       "                }\n",
       "            }, 500);\n",
       "            "
      ],
      "text/plain": [
       "<IPython.core.display.Javascript object>"
      ]
     },
     "metadata": {},
     "output_type": "display_data"
    }
   ],
   "source": [
    "# Bar plots for each feature to further visualize the difference in means.\n",
    "\n",
    "for feature in features:\n",
    "    sns.barplot(x=\"W/L\", y=feature, data=all_games)\n",
    "    plt.show()"
   ]
  },
  {
   "cell_type": "code",
   "execution_count": 27,
   "metadata": {},
   "outputs": [
    {
     "data": {
      "application/javascript": [
       "\n",
       "            setTimeout(function() {\n",
       "                var nbb_cell_id = 27;\n",
       "                var nbb_unformatted_code = \"# Seperate the features between normal and non-normal distributions\\nnormal_dists = [\\n    \\\"home_ypp\\\",\\n    \\\"home_success_rate\\\",\\n    \\\"home_ppapsp\\\",\\n    \\\"home_ppti40\\\",\\n    \\\"away_ypp\\\",\\n    \\\"away_success_rate\\\",\\n    \\\"away_ppapsp\\\",\\n    \\\"away_ppti40\\\",\\n]\\n\\nnon_normal_dists = [i for i in features if i not in normal_dists]\";\n",
       "                var nbb_formatted_code = \"# Seperate the features between normal and non-normal distributions\\nnormal_dists = [\\n    \\\"home_ypp\\\",\\n    \\\"home_success_rate\\\",\\n    \\\"home_ppapsp\\\",\\n    \\\"home_ppti40\\\",\\n    \\\"away_ypp\\\",\\n    \\\"away_success_rate\\\",\\n    \\\"away_ppapsp\\\",\\n    \\\"away_ppti40\\\",\\n]\\n\\nnon_normal_dists = [i for i in features if i not in normal_dists]\";\n",
       "                var nbb_cells = Jupyter.notebook.get_cells();\n",
       "                for (var i = 0; i < nbb_cells.length; ++i) {\n",
       "                    if (nbb_cells[i].input_prompt_number == nbb_cell_id) {\n",
       "                        if (nbb_cells[i].get_text() == nbb_unformatted_code) {\n",
       "                             nbb_cells[i].set_text(nbb_formatted_code);\n",
       "                        }\n",
       "                        break;\n",
       "                    }\n",
       "                }\n",
       "            }, 500);\n",
       "            "
      ],
      "text/plain": [
       "<IPython.core.display.Javascript object>"
      ]
     },
     "metadata": {},
     "output_type": "display_data"
    }
   ],
   "source": [
    "# Seperate the features between normal and non-normal distributions\n",
    "normal_dists = [\n",
    "    \"home_ypp\",\n",
    "    \"home_success_rate\",\n",
    "    \"home_ppapsp\",\n",
    "    \"home_ppti40\",\n",
    "    \"away_ypp\",\n",
    "    \"away_success_rate\",\n",
    "    \"away_ppapsp\",\n",
    "    \"away_ppti40\",\n",
    "]\n",
    "\n",
    "non_normal_dists = [i for i in features if i not in normal_dists]"
   ]
  },
  {
   "cell_type": "markdown",
   "metadata": {},
   "source": [
    "### Test for statistcal signifance\n",
    "After determining which distributions are normal and non-normal we can run the appropriate tests to find the statistcal significance.\\\n",
    "\\\n",
    "For features with normal distributions, we will perform an indpendent T-test and find the confidence intervals at a 95% confidence level.\\\n",
    "\\\n",
    "For features with non-normal distributions, we will perform a chi-squared test and find the confidence interval."
   ]
  },
  {
   "cell_type": "code",
   "execution_count": 47,
   "metadata": {
    "scrolled": true
   },
   "outputs": [
    {
     "name": "stdout",
     "output_type": "stream",
     "text": [
      "home_ypp \n",
      "\n",
      "t:  34.677\n",
      "p:  0.0\n",
      "ci:  1.475  -  1.645\n",
      "------------------------ \n",
      "\n",
      "home_success_rate \n",
      "\n",
      "t:  32.493\n",
      "p:  0.0\n",
      "ci:  0.079  -  0.089\n",
      "------------------------ \n",
      "\n",
      "home_ppapsp \n",
      "\n",
      "t:  31.713\n",
      "p:  0.0\n",
      "ci:  0.119  -  0.134\n",
      "------------------------ \n",
      "\n",
      "home_ppti40 \n",
      "\n",
      "t:  27.615\n",
      "p:  0.0\n",
      "ci:  1.061  -  1.238\n",
      "------------------------ \n",
      "\n",
      "away_ypp \n",
      "\n",
      "t:  -35.087\n",
      "p:  0.0\n",
      "ci:  -1.635  -  -1.46\n",
      "------------------------ \n",
      "\n",
      "away_success_rate \n",
      "\n",
      "t:  -31.489\n",
      "p:  0.0\n",
      "ci:  -0.089  -  -0.079\n",
      "------------------------ \n",
      "\n",
      "away_ppapsp \n",
      "\n",
      "t:  -31.595\n",
      "p:  0.0\n",
      "ci:  -0.131  -  -0.116\n",
      "------------------------ \n",
      "\n",
      "away_ppti40 \n",
      "\n",
      "t:  -23.425\n",
      "p:  0.0\n",
      "ci:  -1.25  -  -1.073\n",
      "------------------------ \n",
      "\n"
     ]
    },
    {
     "data": {
      "application/javascript": [
       "\n",
       "            setTimeout(function() {\n",
       "                var nbb_cell_id = 47;\n",
       "                var nbb_unformatted_code = \"# Perform independent T-tests and find confidence interval for each feature\\nfor feature in normal_dists:\\n    t, p = stats.ttest_ind(home_wins[feature], away_wins[feature])\\n    x1 = home_wins[feature]\\n    x2 = away_wins[feature]\\n    x, y = [\\n        (x1.mean() - x2.mean())\\n        + (i) * (np.sqrt(x1.std() ** 2 / len(x1) + x2.std() ** 2 / len(x2)))\\n        for i in [-1.96, 1.96]\\n    ]\\n    if feature=='home_ypp':\\n        ypp_p= p\\n        ypp_lower=x\\n        ypp_upper=y\\n    print(feature, \\\"\\\\n\\\")\\n    print(\\\"t: \\\", round(t, 3))\\n    print(\\\"p: \\\", round(p, 3))\\n    print(\\\"ci: \\\", round(x, 3), \\\" - \\\", round(y, 3))\\n    print(\\\"-\\\" * 24, \\\"\\\\n\\\")\";\n",
       "                var nbb_formatted_code = \"# Perform independent T-tests and find confidence interval for each feature\\nfor feature in normal_dists:\\n    t, p = stats.ttest_ind(home_wins[feature], away_wins[feature])\\n    x1 = home_wins[feature]\\n    x2 = away_wins[feature]\\n    x, y = [\\n        (x1.mean() - x2.mean())\\n        + (i) * (np.sqrt(x1.std() ** 2 / len(x1) + x2.std() ** 2 / len(x2)))\\n        for i in [-1.96, 1.96]\\n    ]\\n    if feature == \\\"home_ypp\\\":\\n        ypp_p = p\\n        ypp_lower = x\\n        ypp_upper = y\\n    print(feature, \\\"\\\\n\\\")\\n    print(\\\"t: \\\", round(t, 3))\\n    print(\\\"p: \\\", round(p, 3))\\n    print(\\\"ci: \\\", round(x, 3), \\\" - \\\", round(y, 3))\\n    print(\\\"-\\\" * 24, \\\"\\\\n\\\")\";\n",
       "                var nbb_cells = Jupyter.notebook.get_cells();\n",
       "                for (var i = 0; i < nbb_cells.length; ++i) {\n",
       "                    if (nbb_cells[i].input_prompt_number == nbb_cell_id) {\n",
       "                        if (nbb_cells[i].get_text() == nbb_unformatted_code) {\n",
       "                             nbb_cells[i].set_text(nbb_formatted_code);\n",
       "                        }\n",
       "                        break;\n",
       "                    }\n",
       "                }\n",
       "            }, 500);\n",
       "            "
      ],
      "text/plain": [
       "<IPython.core.display.Javascript object>"
      ]
     },
     "metadata": {},
     "output_type": "display_data"
    }
   ],
   "source": [
    "# Perform independent T-tests and find confidence interval for each feature\n",
    "for feature in normal_dists:\n",
    "    t, p = stats.ttest_ind(home_wins[feature], away_wins[feature])\n",
    "    x1 = home_wins[feature]\n",
    "    x2 = away_wins[feature]\n",
    "    x, y = [\n",
    "        (x1.mean() - x2.mean())\n",
    "        + (i) * (np.sqrt(x1.std() ** 2 / len(x1) + x2.std() ** 2 / len(x2)))\n",
    "        for i in [-1.96, 1.96]\n",
    "    ]\n",
    "    if feature == \"home_ypp\":\n",
    "        ypp_p = p\n",
    "        ypp_lower = x\n",
    "        ypp_upper = y\n",
    "    print(feature, \"\\n\")\n",
    "    print(\"t: \", round(t, 3))\n",
    "    print(\"p: \", round(p, 3))\n",
    "    print(\"ci: \", round(x, 3), \" - \", round(y, 3))\n",
    "    print(\"-\" * 24, \"\\n\")"
   ]
  },
  {
   "cell_type": "code",
   "execution_count": 34,
   "metadata": {
    "scrolled": true
   },
   "outputs": [
    {
     "name": "stdout",
     "output_type": "stream",
     "text": [
      "home_afp \n",
      "\n",
      "test statistic:  1887.5\n",
      "p:  0.0\n",
      "ci:  4.265  -  5.03\n",
      "------------------------ \n",
      "\n",
      "home_turnovers \n",
      "\n",
      "test statistic:  509.187\n",
      "p:  0.0\n",
      "ci:  -0.012  -  -0.01\n",
      "------------------------ \n",
      "\n",
      "away_afp \n",
      "\n",
      "test statistic:  1975.048\n",
      "p:  0.0\n",
      "ci:  -4.636  -  -3.847\n",
      "------------------------ \n",
      "\n",
      "away_turnovers \n",
      "\n",
      "test statistic:  499.381\n",
      "p:  0.0\n",
      "ci:  0.01  -  0.012\n",
      "------------------------ \n",
      "\n"
     ]
    },
    {
     "data": {
      "application/javascript": [
       "\n",
       "            setTimeout(function() {\n",
       "                var nbb_cell_id = 34;\n",
       "                var nbb_unformatted_code = \"# Perfrom chi-squared test of features that do not have normal distributions\\n\\nfor feature in non_normal_dists:\\n    crosstab = pd.crosstab(all_games[feature], all_games[\\\"W/L\\\"])\\n    stat, p, df, expected = stats.chi2_contingency(crosstab)\\n    x1 = home_wins[feature]\\n    x2 = away_wins[feature]\\n    x, y = [\\n        (x1.mean() - x2.mean())\\n        + (i) * (np.sqrt(x1.std() ** 2 / len(x1) + x2.std() ** 2 / len(x2)))\\n        for i in [-1.96, 1.96]\\n    ]\\n    print(feature, \\\"\\\\n\\\")\\n    print(\\\"test statistic: \\\", round(stat, 3))\\n    print(\\\"p: \\\", round(p, 3))\\n    print(\\\"ci: \\\", round(x, 3), \\\" - \\\", round(y, 3))\\n    print(\\\"-\\\" * 24, \\\"\\\\n\\\")\";\n",
       "                var nbb_formatted_code = \"# Perfrom chi-squared test of features that do not have normal distributions\\n\\nfor feature in non_normal_dists:\\n    crosstab = pd.crosstab(all_games[feature], all_games[\\\"W/L\\\"])\\n    stat, p, df, expected = stats.chi2_contingency(crosstab)\\n    x1 = home_wins[feature]\\n    x2 = away_wins[feature]\\n    x, y = [\\n        (x1.mean() - x2.mean())\\n        + (i) * (np.sqrt(x1.std() ** 2 / len(x1) + x2.std() ** 2 / len(x2)))\\n        for i in [-1.96, 1.96]\\n    ]\\n    print(feature, \\\"\\\\n\\\")\\n    print(\\\"test statistic: \\\", round(stat, 3))\\n    print(\\\"p: \\\", round(p, 3))\\n    print(\\\"ci: \\\", round(x, 3), \\\" - \\\", round(y, 3))\\n    print(\\\"-\\\" * 24, \\\"\\\\n\\\")\";\n",
       "                var nbb_cells = Jupyter.notebook.get_cells();\n",
       "                for (var i = 0; i < nbb_cells.length; ++i) {\n",
       "                    if (nbb_cells[i].input_prompt_number == nbb_cell_id) {\n",
       "                        if (nbb_cells[i].get_text() == nbb_unformatted_code) {\n",
       "                             nbb_cells[i].set_text(nbb_formatted_code);\n",
       "                        }\n",
       "                        break;\n",
       "                    }\n",
       "                }\n",
       "            }, 500);\n",
       "            "
      ],
      "text/plain": [
       "<IPython.core.display.Javascript object>"
      ]
     },
     "metadata": {},
     "output_type": "display_data"
    }
   ],
   "source": [
    "# Perfrom chi-squared test of features that do not have normal distributions\n",
    "\n",
    "for feature in non_normal_dists:\n",
    "    crosstab = pd.crosstab(all_games[feature], all_games[\"W/L\"])\n",
    "    stat, p, df, expected = stats.chi2_contingency(crosstab)\n",
    "    x1 = home_wins[feature]\n",
    "    x2 = away_wins[feature]\n",
    "    x, y = [\n",
    "        (x1.mean() - x2.mean())\n",
    "        + (i) * (np.sqrt(x1.std() ** 2 / len(x1) + x2.std() ** 2 / len(x2)))\n",
    "        for i in [-1.96, 1.96]\n",
    "    ]\n",
    "    print(feature, \"\\n\")\n",
    "    print(\"test statistic: \", round(stat, 3))\n",
    "    print(\"p: \", round(p, 3))\n",
    "    print(\"ci: \", round(x, 3), \" - \", round(y, 3))\n",
    "    print(\"-\" * 24, \"\\n\")"
   ]
  },
  {
   "cell_type": "markdown",
   "metadata": {},
   "source": [
    "### Test results\n",
    "The p-value for each feature is well below .05 and pretty close to zero so we can reject the null hypothesis for each statistic that we tested. We can use the test results to form conclusions for each feature.\\\n",
    "*For example:*"
   ]
  },
  {
   "cell_type": "code",
   "execution_count": 53,
   "metadata": {},
   "outputs": [
    {
     "name": "stdout",
     "output_type": "stream",
     "text": [
      "In 95% of samples we can expect to see a difference of home_ypp of wins and losses between 1.475 and 1.645\n"
     ]
    },
    {
     "data": {
      "application/javascript": [
       "\n",
       "            setTimeout(function() {\n",
       "                var nbb_cell_id = 53;\n",
       "                var nbb_unformatted_code = \"print(\\n    \\\"In 95% of samples we can expect to see a difference of home_ypp of wins and losses between\\\",\\n    round(ypp_lower, 3),\\n    \\\"and\\\",\\n    round(ypp_upper, 3),\\n)\";\n",
       "                var nbb_formatted_code = \"print(\\n    \\\"In 95% of samples we can expect to see a difference of home_ypp of wins and losses between\\\",\\n    round(ypp_lower, 3),\\n    \\\"and\\\",\\n    round(ypp_upper, 3),\\n)\";\n",
       "                var nbb_cells = Jupyter.notebook.get_cells();\n",
       "                for (var i = 0; i < nbb_cells.length; ++i) {\n",
       "                    if (nbb_cells[i].input_prompt_number == nbb_cell_id) {\n",
       "                        if (nbb_cells[i].get_text() == nbb_unformatted_code) {\n",
       "                             nbb_cells[i].set_text(nbb_formatted_code);\n",
       "                        }\n",
       "                        break;\n",
       "                    }\n",
       "                }\n",
       "            }, 500);\n",
       "            "
      ],
      "text/plain": [
       "<IPython.core.display.Javascript object>"
      ]
     },
     "metadata": {},
     "output_type": "display_data"
    }
   ],
   "source": [
    "print(\n",
    "    \"In 95% of samples we can expect to see a difference of home_ypp of wins and losses between\",\n",
    "    round(ypp_lower, 3),\n",
    "    \"and\",\n",
    "    round(ypp_upper, 3),\n",
    ")"
   ]
  },
  {
   "cell_type": "markdown",
   "metadata": {},
   "source": [
    "### Conclusion\n",
    "For further research I think it would be useful to apply a regression model to these features and attempt to predict the scores of games. Yards per play and success rate had the largest difference of means between the two groups in terms of units of standard error (t-statistic). This information could be useful to teams developing a game strategy or bettors tyring to increase their edge."
   ]
  }
 ],
 "metadata": {
  "kernelspec": {
   "display_name": "Python3 (data_science_env)",
   "language": "python",
   "name": "data_science-env"
  },
  "language_info": {
   "codemirror_mode": {
    "name": "ipython",
    "version": 3
   },
   "file_extension": ".py",
   "mimetype": "text/x-python",
   "name": "python",
   "nbconvert_exporter": "python",
   "pygments_lexer": "ipython3",
   "version": "3.7.3"
  }
 },
 "nbformat": 4,
 "nbformat_minor": 4
}
