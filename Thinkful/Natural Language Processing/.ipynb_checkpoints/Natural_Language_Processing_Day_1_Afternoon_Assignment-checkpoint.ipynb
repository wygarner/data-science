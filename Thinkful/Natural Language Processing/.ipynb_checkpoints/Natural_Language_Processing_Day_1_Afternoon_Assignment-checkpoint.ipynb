{
 "cells": [
  {
   "cell_type": "markdown",
   "metadata": {
    "colab_type": "text",
    "id": "IihPCGvd34PH"
   },
   "source": [
    "# Text Acquisition & Ingestion Assignment"
   ]
  },
  {
   "cell_type": "code",
   "execution_count": 0,
   "metadata": {
    "colab": {
     "base_uri": "https://localhost:8080/",
     "height": 51
    },
    "colab_type": "code",
    "id": "DhLA_w7p34PM",
    "outputId": "5179d344-7e56-4870-cd20-d21959ed91d1"
   },
   "outputs": [
    {
     "name": "stdout",
     "output_type": "stream",
     "text": [
      "\u001b[?25l\r",
      "\u001b[K     |█▊                              | 10kB 20.6MB/s eta 0:00:01\r",
      "\u001b[K     |███▍                            | 20kB 2.5MB/s eta 0:00:01\r",
      "\u001b[K     |█████▏                          | 30kB 3.3MB/s eta 0:00:01\r",
      "\u001b[K     |██████▉                         | 40kB 3.8MB/s eta 0:00:01\r",
      "\u001b[K     |████████▌                       | 51kB 3.2MB/s eta 0:00:01\r",
      "\u001b[K     |██████████▎                     | 61kB 3.6MB/s eta 0:00:01\r",
      "\u001b[K     |████████████                    | 71kB 3.9MB/s eta 0:00:01\r",
      "\u001b[K     |█████████████▋                  | 81kB 4.3MB/s eta 0:00:01\r",
      "\u001b[K     |███████████████▍                | 92kB 4.3MB/s eta 0:00:01\r",
      "\u001b[K     |█████████████████               | 102kB 4.3MB/s eta 0:00:01\r",
      "\u001b[K     |██████████████████▊             | 112kB 4.3MB/s eta 0:00:01\r",
      "\u001b[K     |████████████████████▌           | 122kB 4.3MB/s eta 0:00:01\r",
      "\u001b[K     |██████████████████████▏         | 133kB 4.3MB/s eta 0:00:01\r",
      "\u001b[K     |███████████████████████▉        | 143kB 4.3MB/s eta 0:00:01\r",
      "\u001b[K     |█████████████████████████▋      | 153kB 4.3MB/s eta 0:00:01\r",
      "\u001b[K     |███████████████████████████▎    | 163kB 4.3MB/s eta 0:00:01\r",
      "\u001b[K     |█████████████████████████████   | 174kB 4.3MB/s eta 0:00:01\r",
      "\u001b[K     |██████████████████████████████▊ | 184kB 4.3MB/s eta 0:00:01\r",
      "\u001b[K     |████████████████████████████████| 194kB 4.3MB/s \n",
      "\u001b[?25h  Building wheel for feedparser (setup.py) ... \u001b[?25l\u001b[?25hdone\n"
     ]
    }
   ],
   "source": [
    "!pip install feedparser --quiet\n",
    "\n",
    "import json\n",
    "import requests\n",
    "import feedparser\n",
    "from bs4 import BeautifulSoup"
   ]
  },
  {
   "cell_type": "code",
   "execution_count": 0,
   "metadata": {
    "colab": {
     "base_uri": "https://localhost:8080/",
     "height": 68
    },
    "colab_type": "code",
    "id": "mvk43p2XbS1z",
    "outputId": "592947b3-5214-423e-b214-aa16ae12e1d5"
   },
   "outputs": [
    {
     "name": "stdout",
     "output_type": "stream",
     "text": [
      "[nltk_data] Downloading package punkt to /root/nltk_data...\n",
      "[nltk_data]   Unzipping tokenizers/punkt.zip.\n"
     ]
    },
    {
     "data": {
      "text/plain": [
       "True"
      ]
     },
     "execution_count": 13,
     "metadata": {
      "tags": []
     },
     "output_type": "execute_result"
    }
   ],
   "source": [
    "import nltk\n",
    "nltk.download('punkt')"
   ]
  },
  {
   "cell_type": "markdown",
   "metadata": {
    "colab_type": "text",
    "id": "lZ3ytdXA34PR"
   },
   "source": [
    "### Iterate through the list of article URLs below, scraping the text from each one and saving it to a text file. "
   ]
  },
  {
   "cell_type": "code",
   "execution_count": 0,
   "metadata": {
    "colab": {},
    "colab_type": "code",
    "id": "mDbZqPpT34PU"
   },
   "outputs": [],
   "source": [
    "articles = ['http://lite.cnn.io/en/article/h_eac18760a7a7f9a1bf33616f1c4a336d',\n",
    "            'http://lite.cnn.io/en/article/h_de3f82f17d289680dd2b47c6413ebe7c',\n",
    "            'http://lite.cnn.io/en/article/h_72f4dc9d6f35458a89af014b62e625ad',\n",
    "            'http://lite.cnn.io/en/article/h_aa21fe6bf176071cb49e09d422c3adf0',\n",
    "            'http://lite.cnn.io/en/article/h_8ad34a532921c9076cdc9d7390d2f1bc',\n",
    "            'http://lite.cnn.io/en/article/h_84422c79110d9989177cfaf1c5f45fe7',\n",
    "            'http://lite.cnn.io/en/article/h_d010d9580abac3a44c6181ec6fb63d58',\n",
    "            'http://lite.cnn.io/en/article/h_fb11f4e9d7c5323e75b337d9e9e5e368',\n",
    "            'http://lite.cnn.io/en/article/h_7b27f0b131067f8ece6238ac559670ab',\n",
    "            'http://lite.cnn.io/en/article/h_8cae7f735fa9573d470f802063ceffe2',\n",
    "            'http://lite.cnn.io/en/article/h_72c3668280e82576fcc2602b0fa70c14',\n",
    "            'http://lite.cnn.io/en/article/h_d20658fb0e20212051cda0e0a7248c8a',\n",
    "            'http://lite.cnn.io/en/article/h_56611c43d7928120d2ae21666ccc7417',\n",
    "            'http://lite.cnn.io/en/article/h_bda0394e3c5ee7054ee65c022bca7695']"
   ]
  },
  {
   "cell_type": "code",
   "execution_count": 0,
   "metadata": {
    "colab": {},
    "colab_type": "code",
    "id": "AfDWUtDr34PX"
   },
   "outputs": [],
   "source": [
    "def html_to_text(html):\n",
    "    TAGS = ['h1', 'h2', 'h3', 'h4', 'h5', 'h6', 'h7', 'p', 'li']\n",
    "\n",
    "    soup = BeautifulSoup(html, \"lxml\")\n",
    "    text_list = [tag.get_text() for tag in soup.find_all(TAGS)]\n",
    "    text = ' '.join(text_list)\n",
    "    return text"
   ]
  },
  {
   "cell_type": "code",
   "execution_count": 0,
   "metadata": {
    "colab": {},
    "colab_type": "code",
    "id": "e_VFT7QAZZcs"
   },
   "outputs": [],
   "source": [
    "PATH='/content/data/CNN'\n",
    "\n",
    "for index, url in enumerate(articles):\n",
    "  response = requests.get(url)\n",
    "  html = response.text\n",
    "  text = html_to_text(html)\n",
    "\n",
    "  # save the article to text file\n",
    "  with open(f'{PATH}/article_{index}.txt', 'wb') as f:\n",
    "    f.write(text.encode())\n",
    "    \n",
    "  # f = open(f'{PATH}/article_{index}.txt', 'wb')\n",
    "  # f.write(text.encode())\n",
    "  # f.close()"
   ]
  },
  {
   "cell_type": "markdown",
   "metadata": {
    "colab_type": "text",
    "id": "BgGlAM2X34Pc"
   },
   "source": [
    "### Ingest the text files generated via web scraping into a corpus and print the corpus statistics."
   ]
  },
  {
   "cell_type": "code",
   "execution_count": 0,
   "metadata": {
    "colab": {},
    "colab_type": "code",
    "id": "mmybAnNB34Pf"
   },
   "outputs": [],
   "source": [
    "from nltk.corpus.reader.plaintext import PlaintextCorpusReader\n",
    "\n",
    "DOC_PATTERN = r'.*\\.txt'\n",
    "news_corpus = PlaintextCorpusReader(PATH, DOC_PATTERN)"
   ]
  },
  {
   "cell_type": "code",
   "execution_count": 0,
   "metadata": {
    "colab": {},
    "colab_type": "code",
    "id": "5BP7Ken2bBgy"
   },
   "outputs": [],
   "source": [
    "def corpus_stats(corpus):\n",
    "    print(\"Corpus Statistics\")\n",
    "    print(\"Number of documents: \" + str(len(corpus.fileids())))\n",
    "    print(\"Number of paragraphs: \" + str(len(corpus.paras())))\n",
    "    print(\"Number of sentences: \" + str(len(corpus.sents())))\n",
    "    print(\"Number of words: \" + str(len(corpus.words())))\n",
    "    print(\"Vocabulary: \" + str(len(set(w.lower() for w in corpus.words()))))\n",
    "    print(\"Avg chars per word: \" + str(round(len(corpus.raw())/len(corpus.words()),1)))\n",
    "    print(\"Avg words per sentence: \" + str(round(len(corpus.words())/len(corpus.sents()),1)))"
   ]
  },
  {
   "cell_type": "code",
   "execution_count": 0,
   "metadata": {
    "colab": {
     "base_uri": "https://localhost:8080/",
     "height": 153
    },
    "colab_type": "code",
    "id": "CFPmATEibFjW",
    "outputId": "40123b2e-cb82-4d33-cf05-c9878069389c"
   },
   "outputs": [
    {
     "name": "stdout",
     "output_type": "stream",
     "text": [
      "Corpus Statistics\n",
      "Number of documents: 14\n",
      "Number of paragraphs: 14\n",
      "Number of sentences: 590\n",
      "Number of words: 14159\n",
      "Vocabulary: 2914\n",
      "Avg chars per word: 5.0\n",
      "Avg words per sentence: 24.0\n"
     ]
    }
   ],
   "source": [
    "corpus_stats(news_corpus)"
   ]
  },
  {
   "cell_type": "markdown",
   "metadata": {
    "colab_type": "text",
    "id": "sGP_4yfR34Pi"
   },
   "source": [
    "### Parse the O'Reilly Radar RSS feed below, extract the text from each post, and save it to a text file.\n",
    "\n",
    "The content of each post contains HTML tags. Strip those out using the same approach you used for web scraping so that only text is saved to the files."
   ]
  },
  {
   "cell_type": "code",
   "execution_count": 0,
   "metadata": {
    "colab": {},
    "colab_type": "code",
    "id": "CDbqkFCF34Pl"
   },
   "outputs": [],
   "source": [
    "feed = 'http://feeds.feedburner.com/oreilly/radar/atom'"
   ]
  },
  {
   "cell_type": "code",
   "execution_count": 0,
   "metadata": {
    "colab": {},
    "colab_type": "code",
    "id": "l-a9JgWH34Po"
   },
   "outputs": [],
   "source": [
    "parsed = feedparser.parse(feed)\n",
    "posts = parsed.entries\n",
    "\n",
    "PATH = '/content/data/oreilly'\n",
    "\n",
    "posts[0]['content'][0]['value']\n",
    "for index, post in enumerate(posts):\n",
    "  content = post['content'][0]['value']\n",
    "  text = html_to_text(content)\n",
    "\n",
    "  with open(f'{PATH}/article_{index}.txt', 'wb') as f:\n",
    "    f.write(text.encode())"
   ]
  },
  {
   "cell_type": "markdown",
   "metadata": {
    "colab_type": "text",
    "id": "SqK4w9sa34Pr"
   },
   "source": [
    "### Ingest the text files generated via RSS parsing into a corpus and print the corpus statistics."
   ]
  },
  {
   "cell_type": "code",
   "execution_count": 0,
   "metadata": {
    "colab": {},
    "colab_type": "code",
    "id": "61lXbT14dAXG"
   },
   "outputs": [],
   "source": [
    "DOC_PATTERN = r'.*\\.txt'\n",
    "oreilly_corpus = PlaintextCorpusReader(PATH, DOC_PATTERN)"
   ]
  },
  {
   "cell_type": "code",
   "execution_count": 0,
   "metadata": {
    "colab": {
     "base_uri": "https://localhost:8080/",
     "height": 153
    },
    "colab_type": "code",
    "id": "mOcQVyJUdGqU",
    "outputId": "99611851-a509-428a-ab78-d2c333a782f2"
   },
   "outputs": [
    {
     "name": "stdout",
     "output_type": "stream",
     "text": [
      "Corpus Statistics\n",
      "Number of documents: 60\n",
      "Number of paragraphs: 60\n",
      "Number of sentences: 1631\n",
      "Number of words: 40843\n",
      "Vocabulary: 5783\n",
      "Avg chars per word: 5.2\n",
      "Avg words per sentence: 25.0\n"
     ]
    }
   ],
   "source": [
    "corpus_stats(oreilly_corpus)"
   ]
  },
  {
   "cell_type": "code",
   "execution_count": 0,
   "metadata": {
    "colab": {},
    "colab_type": "code",
    "id": "cd4x36-934Ps"
   },
   "outputs": [],
   "source": []
  },
  {
   "cell_type": "markdown",
   "metadata": {
    "colab_type": "text",
    "id": "9BDwjO8t34Pw"
   },
   "source": [
    "### Make an API call to the Hacker News API to retrieve their Ask, Show, and Job category items. \n",
    "\n",
    "- URL: https://hacker-news.firebaseio.com/v0/askstories.json"
   ]
  },
  {
   "cell_type": "code",
   "execution_count": 0,
   "metadata": {
    "colab": {},
    "colab_type": "code",
    "id": "W7vyWOSN34Px"
   },
   "outputs": [],
   "source": [
    "url = 'https://hacker-news.firebaseio.com/v0/askstories.json'\n",
    "results = requests.get(url).json()"
   ]
  },
  {
   "cell_type": "markdown",
   "metadata": {
    "colab_type": "text",
    "id": "yEasqCkr34P0"
   },
   "source": [
    "### Once you have retrieved the item IDs from the URL above, retrieve each item by adding the item ID to the URL below, extract the item's text property, and save the text from each item to disk as its own document.\n",
    "\n",
    "- URL: https://hacker-news.firebaseio.com/v0/item/ITEM_ID_HERE.json\n",
    "\n",
    "The content of some items may contain HTML tags. Strip those out using the same approach you used for web scraping so that only text is saved to the files."
   ]
  },
  {
   "cell_type": "code",
   "execution_count": 0,
   "metadata": {
    "colab": {},
    "colab_type": "code",
    "id": "6Vp7yfWB34P1"
   },
   "outputs": [],
   "source": [
    "PATH='/content/data/hacker_news'\n",
    "\n",
    "for index, item in enumerate(results):\n",
    "  url = f'https://hacker-news.firebaseio.com/v0/item/{item}.json'\n",
    "  try:\n",
    "    post = requests.get(url).json()['text']\n",
    "    text = html_to_text(post)\n",
    "\n",
    "    with open(f'{PATH}/post_{index}.txt', 'wb') as f:\n",
    "      f.write(text.encode())\n",
    "  except:\n",
    "    pass"
   ]
  },
  {
   "cell_type": "markdown",
   "metadata": {
    "colab_type": "text",
    "id": "hw9-v8sK34P5"
   },
   "source": [
    "### Ingest the text files generated via API into a corpus and print the corpus statistics."
   ]
  },
  {
   "cell_type": "code",
   "execution_count": 0,
   "metadata": {
    "colab": {},
    "colab_type": "code",
    "id": "dcsiPdkx34P7"
   },
   "outputs": [],
   "source": [
    "DOC_PATTERN = r'.*\\.txt'\n",
    "hacker_corpus = PlaintextCorpusReader(PATH, DOC_PATTERN)"
   ]
  },
  {
   "cell_type": "code",
   "execution_count": 0,
   "metadata": {
    "colab": {
     "base_uri": "https://localhost:8080/",
     "height": 153
    },
    "colab_type": "code",
    "id": "NycAjAjefDAU",
    "outputId": "9f5a4c33-4eea-4c48-aa3a-b2f6014ff5af"
   },
   "outputs": [
    {
     "name": "stdout",
     "output_type": "stream",
     "text": [
      "Corpus Statistics\n",
      "Number of documents: 65\n",
      "Number of paragraphs: 65\n",
      "Number of sentences: 373\n",
      "Number of words: 7382\n",
      "Vocabulary: 1779\n",
      "Avg chars per word: 4.7\n",
      "Avg words per sentence: 19.8\n"
     ]
    }
   ],
   "source": [
    "corpus_stats(hacker_corpus)"
   ]
  },
  {
   "cell_type": "code",
   "execution_count": 0,
   "metadata": {
    "colab": {},
    "colab_type": "code",
    "id": "fZd-aeLffG50"
   },
   "outputs": [],
   "source": []
  }
 ],
 "metadata": {
  "colab": {
   "name": "Natural Language Processing Day 1 Afternoon Assignment.ipynb",
   "provenance": []
  },
  "kernelspec": {
   "display_name": "Python 3",
   "language": "python",
   "name": "python3"
  },
  "language_info": {
   "codemirror_mode": {
    "name": "ipython",
    "version": 3
   },
   "file_extension": ".py",
   "mimetype": "text/x-python",
   "name": "python",
   "nbconvert_exporter": "python",
   "pygments_lexer": "ipython3",
   "version": "3.7.7"
  }
 },
 "nbformat": 4,
 "nbformat_minor": 1
}
