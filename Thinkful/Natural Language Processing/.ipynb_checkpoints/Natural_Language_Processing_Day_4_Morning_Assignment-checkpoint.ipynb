{
 "cells": [
  {
   "cell_type": "markdown",
   "metadata": {
    "colab_type": "text",
    "id": "F4I54bZzMImI"
   },
   "source": [
    "# Machine Learning: Text Classification Assignment"
   ]
  },
  {
   "cell_type": "code",
   "execution_count": 0,
   "metadata": {
    "colab": {},
    "colab_type": "code",
    "id": "NBhHdzKtMImK"
   },
   "outputs": [],
   "source": [
    "from nltk import word_tokenize\n",
    "from nltk.corpus import stopwords\n",
    "from sklearn.pipeline import Pipeline\n",
    "from nltk.stem.snowball import SnowballStemmer\n",
    "from nltk.stem.wordnet import WordNetLemmatizer\n",
    "from sklearn.metrics import classification_report\n",
    "from sklearn.model_selection import cross_val_score\n",
    "from sklearn.ensemble import RandomForestClassifier\n",
    "from sklearn.feature_extraction.text import CountVectorizer\n",
    "from sklearn.feature_extraction.text import TfidfTransformer\n",
    "from sklearn.model_selection import train_test_split as tts\n",
    "from nltk.corpus.reader.plaintext import CategorizedPlaintextCorpusReader"
   ]
  },
  {
   "cell_type": "code",
   "execution_count": 0,
   "metadata": {
    "colab": {
     "base_uri": "https://localhost:8080/",
     "height": 136
    },
    "colab_type": "code",
    "id": "2Wn2aLYMSWs_",
    "outputId": "402646d1-ee1a-4ebe-c7e8-a2f167cc26eb"
   },
   "outputs": [
    {
     "name": "stdout",
     "output_type": "stream",
     "text": [
      "[nltk_data] Downloading package punkt to /root/nltk_data...\n",
      "[nltk_data]   Unzipping tokenizers/punkt.zip.\n",
      "[nltk_data] Downloading package stopwords to /root/nltk_data...\n",
      "[nltk_data]   Unzipping corpora/stopwords.zip.\n",
      "[nltk_data] Downloading package wordnet to /root/nltk_data...\n",
      "[nltk_data]   Unzipping corpora/wordnet.zip.\n"
     ]
    },
    {
     "data": {
      "text/plain": [
       "True"
      ]
     },
     "execution_count": 13,
     "metadata": {
      "tags": []
     },
     "output_type": "execute_result"
    }
   ],
   "source": [
    "import nltk\n",
    "nltk.download('punkt')\n",
    "nltk.download('stopwords')\n",
    "nltk.download('wordnet')"
   ]
  },
  {
   "cell_type": "code",
   "execution_count": 0,
   "metadata": {
    "colab": {
     "base_uri": "https://localhost:8080/",
     "height": 122
    },
    "colab_type": "code",
    "id": "q9Ct_MNHDhrS",
    "outputId": "56df696d-2a43-4130-d7ad-bb9b35da14e2"
   },
   "outputs": [
    {
     "name": "stdout",
     "output_type": "stream",
     "text": [
      "Go to this URL in a browser: https://accounts.google.com/o/oauth2/auth?client_id=947318989803-6bn6qk8qdgf4n4g3pfee6491hc0brc4i.apps.googleusercontent.com&redirect_uri=urn%3aietf%3awg%3aoauth%3a2.0%3aoob&response_type=code&scope=email%20https%3a%2f%2fwww.googleapis.com%2fauth%2fdocs.test%20https%3a%2f%2fwww.googleapis.com%2fauth%2fdrive%20https%3a%2f%2fwww.googleapis.com%2fauth%2fdrive.photos.readonly%20https%3a%2f%2fwww.googleapis.com%2fauth%2fpeopleapi.readonly\n",
      "\n",
      "Enter your authorization code:\n",
      "··········\n",
      "Mounted at /content/drive\n"
     ]
    }
   ],
   "source": [
    "from google.colab import drive\n",
    "drive.mount('/content/drive')"
   ]
  },
  {
   "cell_type": "markdown",
   "metadata": {
    "colab_type": "text",
    "id": "d2tVDJJaMImN"
   },
   "source": [
    "### Use the CategorizedPlaintextCorpusReader to import the AP_News corpus."
   ]
  },
  {
   "cell_type": "code",
   "execution_count": 0,
   "metadata": {
    "colab": {},
    "colab_type": "code",
    "id": "REtoZb_iMImO"
   },
   "outputs": [],
   "source": [
    "DOC_PATTERN = r'.*\\.txt'\n",
    "CAT_PATTERN = r'([\\w_\\s]+)/.*'\n",
    "\n",
    "PATH = '/content/drive/My Drive/DSI Month 4/Week 13/NLP text sets/AP_News'\n",
    "\n",
    "corpus = CategorizedPlaintextCorpusReader(PATH, DOC_PATTERN, cat_pattern=CAT_PATTERN)"
   ]
  },
  {
   "cell_type": "markdown",
   "metadata": {
    "colab_type": "text",
    "id": "SQMuBvquMImP"
   },
   "source": [
    "### Create two separate lists - one containing the text from each document and another containing the category of each article in the corpus."
   ]
  },
  {
   "cell_type": "code",
   "execution_count": 0,
   "metadata": {
    "colab": {},
    "colab_type": "code",
    "id": "8jU4ZNM-MImQ"
   },
   "outputs": [],
   "source": [
    "docs = [corpus.raw(fileid) for fileid in corpus.fileids()]\n",
    "categories = [corpus.categories(fileid)[0] for fileid in corpus.fileids()]"
   ]
  },
  {
   "cell_type": "code",
   "execution_count": 0,
   "metadata": {
    "colab": {
     "base_uri": "https://localhost:8080/",
     "height": 88
    },
    "colab_type": "code",
    "id": "FyOWDHZZR7Zs",
    "outputId": "fd090c20-97c5-48c5-daab-71f2338d4a87"
   },
   "outputs": [
    {
     "data": {
      "text/plain": [
       "['HONOLULU (AP) — The University of Hawaii seeks additional funds for student mental health services, scholarships and other items in a new supplementary budget request, officials said. The Board of Regents approved the fiscal year 2020-2021 supplemental operating budget of about $28 million Thursday, The Honolulu Star-Advertiser reported. The request will be submitted to the state Legislature and Democratic Gov. The university requested $2.6 million to hire 19 psychologists for the 10-campus system. The University of Hawaii Manoa has eight psychologists, the Hilo campus has three, and the West Oahu campus has 1.75 positions, while each community college has one position, said Allyson Tanouye, who coordinates mental health throughout the university system. \"The national standard is one mental health professional per 1,000 to 1,500 students,\" Tanouye said. \"If we add the 19 positions we will be up to one per 1,500. That\\'s how low we are\". The mental health funding would also expand programs to prevent suicide, reduce mental health stigma, provide peer education, and alert new students and parents to college transition challenges, officials said. The largest item in the supplemental budget is $17.7 million to expand the Hawaii Promise Program scholarship to four-year state institutions. The university has proposed a flat amount to cover tuition and fees of Hawaii residents qualifying for need-based federal Pell grants. \"This is looking to focus on the most needy students going to the four-year campuses,\" said Donald Straney, vice president for academic planning and policy. \"It would add Hawaii Promise on top of the Pell grants to cover the total tuition costs of students who are receiving those grants\". The request also covered staffing increases including positions for operations and maintenance, security, educational and cultural programming, and student mentors. Information from: Honolulu Star-Advertiser, http://www.staradvertiser.com.',\n",
       " 'NEW YORK (AP) — Go ahead and rinse your cranberries, potatoes and green beans. But food experts say don\\'t — repeat don\\'t — wash the turkey before popping it in the oven on Thanksgiving Day. They say that could spread the germs lurking on your turkey in the kitchen sink or nearby food. But it\\'s been a challenge trying to convince cooks to stop rinsing off raw poultry. \"If your mother did it and your grandmother did it, and suddenly the (government) says not to wash your turkey, you may take some time to adjust,\" said Drusilla Banks, who teaches food sanitation for the University of Illinois Extension. Germs that can make people sick are common in the guts of healthy poultry and are legally allowed to be on raw turkey and chicken. The assumption is that nobody eats their poultry rare, and that thorough cooking will kill the bacteria. So it\\'s possible that two common causes of food poisoning — salmonella and campylobacter — are on the turkey, said Mindy Brashears, a food safety official at the U.S. Department of Agriculture. The do-not-wash raw poultry advice from the USDA is relatively new and perhaps hasn\\'t caught on because it goes against the ingrained belief that washing makes things clean, said Banks. Participants in a food safety study offered their own rationale: \"If it\\'s still slimy — I\\'m not sure what that is. It just feels good to wash it,\" said one. Another said: \"My grandmother taught me that. She just said to wash all your food because there\\'s no telling where it\\'s been before it got in the pack\". Benjamin Chapman, a study author and food safety expert at North Carolina State University, said the instinct to wash raw poultry goes back at least decades when people relied more on visual cues to spot problems with poultry. TV chef Julia Child was among those who said washing chicken was \"just the safer thing to do\" before experts began advising against it. But food prep is a juggling act, and germs from poultry can be spread even if it\\'s not washed, especially when birds are removed from packaging. It\\'s why washing and sanitizing hands, utensils and surfaces are even more important. The USDA-funded study underscores that point. Researchers sprayed raw chicken with a harmless strain of E. coli and watched volunteer cooks at test kitchens. Among those who washed their raw chicken, about a quarter ended up spreading the bacteria to their lettuce. But even some of those who did not rinse the chicken got germs on the lettuce. There are other opportunities for germs to survive and thrive on turkeys: thawing and cooking. For thawing, experts say frozen birds shouldn\\'t be left out on counters since germs can start multiplying on the outer parts that defrost first. They instead recommend thawing in fridges, cold water or in microwaves. You can also cook a frozen turkey, but it will take a lot longer. And to ensure a bird is thoroughly cooked, they say to use a thermometer to check that the deepest and thickest parts of it have reached 165 degrees. Even after the meal is cooked, you aren\\'t out of the danger zone. To keep turkey and other leftovers safe, experts say they should be refrigerated after two hours. The Associated Press Health and Science Department receives support from the Howard Hughes Medical Institute\\'s Department of Science Education. The AP is solely responsible for all content.',\n",
       " 'NEW YORK (AP) — U.S. health officials on Friday told people to avoid romaine lettuce grown in Salinas, California, because of another food poisoning outbreak. The notice comes almost exactly one year after a similar outbreak led to a blanket warning about romaine. Officials urged Americans not to eat the leafy green if the label doesn\\'t say where it was grown. They also urged supermarkets and restaurants not to serve or sell the lettuce, unless they\\'re sure it was grown elsewhere. The warning applies to all types of romaine from the Salinas region, include whole heads, hearts and pre-cut salad mixes. \"We\\'re concerned this romaine could be in other products,\" said Laura Gieraltowski, lead investigator of the outbreak at the U.S. Centers for Disease Control and Prevention. Officials said their investigation led to farms in Salinas and that they are looking for the source of E. coli tied to the illnesses. Salinas is a major growing region for romaine from around April to this time of year, when growing shifts south to Yuma, Arizona. After last year\\'s pre-Thanksgiving outbreak tied to romaine, the produce industry agreed to voluntarily label the lettuce with harvest regions. Health officials said that would make it easier to trace romaine and issue more specific public health warnings when outbreaks happen. Officials never identified exactly how romaine might have become contaminated in past outbreaks. But another outbreak in spring 2018 that sickened more than 200 people and killed five was traced to tainted irrigation water near a cattle lot. (E. coli is found in the feces of animals such as cows.) It\\'s not clear exactly why romaine keeps popping up in outbreaks, but food safety experts note the popularity of romaine lettuce and the difficulty of eliminating risk for produce grown in open fields and eaten raw. Industry groups noted that they tightened safety measures following last year\\'s outbreaks, including expanding buffer zones between growing fields and livestock. \"It\\'s very, very disturbing. Very frustrating all around,\" said Trevor Suslow of the Produce Marketing Association. The CDC says 40 people have been reported sick so far in 16 states. The most recent reported illness started on Nov. 10. The agency says it\\'s the same E. coli strain tied to previous outbreaks, including the one from last Thanksgiving. The CDC\\'s Gieraltowski said that suggests there\\'s a persisting contamination source in the environment. The Associated Press Health and Science Department receives support from the Howard Hughes Medical Institute\\'s Department of Science Education. The AP is solely responsible for all content.']"
      ]
     },
     "execution_count": 8,
     "metadata": {
      "tags": []
     },
     "output_type": "execute_result"
    }
   ],
   "source": [
    "docs[:3]"
   ]
  },
  {
   "cell_type": "code",
   "execution_count": 0,
   "metadata": {
    "colab": {
     "base_uri": "https://localhost:8080/",
     "height": 34
    },
    "colab_type": "code",
    "id": "9NQOTftGR9cQ",
    "outputId": "8c6d7037-08a1-42ec-dc51-4befe92d30c9"
   },
   "outputs": [
    {
     "data": {
      "text/plain": [
       "['health', 'health', 'health']"
      ]
     },
     "execution_count": 9,
     "metadata": {
      "tags": []
     },
     "output_type": "execute_result"
    }
   ],
   "source": [
    "categories[:3]"
   ]
  },
  {
   "cell_type": "markdown",
   "metadata": {
    "colab_type": "text",
    "id": "OGRABGW8MImR"
   },
   "source": [
    "### Preprocess the corpus, ensuring to include the following steps.\n",
    "\n",
    "- Word tokenize the documents.\n",
    "- Lemmatize, stem, and lowercase all tokens.\n",
    "- Remove punctuation and stop words."
   ]
  },
  {
   "cell_type": "code",
   "execution_count": 0,
   "metadata": {
    "colab": {},
    "colab_type": "code",
    "id": "20jjCep4SHEw"
   },
   "outputs": [],
   "source": [
    "def preprocess(docs):\n",
    "    lemmatizer = WordNetLemmatizer()\n",
    "    stemmer = SnowballStemmer('english')\n",
    "    preprocessed = []\n",
    "    \n",
    "    for doc in docs:\n",
    "        tokenized = word_tokenize(doc)\n",
    "\n",
    "        cleaned = [stemmer.stem(lemmatizer.lemmatize(token.lower())) \n",
    "                   for token in tokenized \n",
    "                   if not token.lower() in stopwords.words('english') \n",
    "                   if token.isalpha()]\n",
    "\n",
    "        untokenized = \" \".join(cleaned)\n",
    "        preprocessed.append(untokenized)\n",
    "        \n",
    "    return preprocessed"
   ]
  },
  {
   "cell_type": "code",
   "execution_count": 0,
   "metadata": {
    "colab": {},
    "colab_type": "code",
    "id": "6PpE-n39SIL8"
   },
   "outputs": [],
   "source": [
    "preprocessed = preprocess(docs)"
   ]
  },
  {
   "cell_type": "code",
   "execution_count": 0,
   "metadata": {
    "colab": {
     "base_uri": "https://localhost:8080/",
     "height": 54
    },
    "colab_type": "code",
    "id": "6lG0zF_7SfMs",
    "outputId": "c2bd863e-1b92-4f94-bda6-0d433184d6c3"
   },
   "outputs": [
    {
     "data": {
      "text/plain": [
       "'honolulu ap univers hawaii seek addit fund student mental health servic scholarship item new supplementari budget request offici said board regent approv fiscal year supplement oper budget million thursday honolulu report request submit state legislatur democrat gov univers request million hire psychologist system univers hawaii manoa eight psychologist hilo campus three west oahu campus posit communiti colleg one posit said allyson tanouy coordin mental health throughout univers system nation standard one mental health profession per student tanouy said add posit one per low mental health fund would also expand program prevent suicid reduc mental health stigma provid peer educ alert new student parent colleg transit challeng offici said largest item supplement budget million expand hawaii promis program scholarship state institut univers propos flat amount cover tuition fee hawaii resid qualifi feder pell grant look focus needi student go campus said donald straney vice presid academ plan polici would add hawaii promis top pell grant cover total tuition cost student receiv grant request also cover staf increas includ posit oper mainten secur educ cultur program student mentor inform honolulu http'"
      ]
     },
     "execution_count": 15,
     "metadata": {
      "tags": []
     },
     "output_type": "execute_result"
    }
   ],
   "source": [
    "preprocessed[0]"
   ]
  },
  {
   "cell_type": "code",
   "execution_count": 0,
   "metadata": {
    "colab": {},
    "colab_type": "code",
    "id": "M9deA2E0SUnZ"
   },
   "outputs": [],
   "source": []
  },
  {
   "cell_type": "markdown",
   "metadata": {
    "colab_type": "text",
    "id": "gZE-q4ziMImT"
   },
   "source": [
    "### Split the data into training and testing sets with the size of the test set being 30% of the records."
   ]
  },
  {
   "cell_type": "code",
   "execution_count": 0,
   "metadata": {
    "colab": {},
    "colab_type": "code",
    "id": "4TZW2bjjSokg"
   },
   "outputs": [],
   "source": [
    "x_train, x_test, y_train, y_test = tts(preprocessed, categories, test_size=0.3)"
   ]
  },
  {
   "cell_type": "markdown",
   "metadata": {
    "colab_type": "text",
    "id": "reegQu_5MImV"
   },
   "source": [
    "### Construct a pipeline that TF-IDF vectorizes the text and trains a Random Forest classification model."
   ]
  },
  {
   "cell_type": "code",
   "execution_count": 0,
   "metadata": {
    "colab": {
     "base_uri": "https://localhost:8080/",
     "height": 408
    },
    "colab_type": "code",
    "id": "_3JJ3hjNMImW",
    "outputId": "6c3910c1-910b-4e0b-c73f-c65464eef35a"
   },
   "outputs": [
    {
     "data": {
      "text/plain": [
       "Pipeline(memory=None,\n",
       "         steps=[('vect',\n",
       "                 CountVectorizer(analyzer='word', binary=False,\n",
       "                                 decode_error='strict',\n",
       "                                 dtype=<class 'numpy.int64'>, encoding='utf-8',\n",
       "                                 input='content', lowercase=True, max_df=1.0,\n",
       "                                 max_features=None, min_df=1,\n",
       "                                 ngram_range=(1, 1), preprocessor=None,\n",
       "                                 stop_words=None, strip_accents=None,\n",
       "                                 token_pattern='(?u)\\\\b\\\\w\\\\w+\\\\b',\n",
       "                                 tokenizer=None, vocabulary=Non...\n",
       "                 RandomForestClassifier(bootstrap=True, ccp_alpha=0.0,\n",
       "                                        class_weight=None, criterion='gini',\n",
       "                                        max_depth=None, max_features='auto',\n",
       "                                        max_leaf_nodes=None, max_samples=None,\n",
       "                                        min_impurity_decrease=0.0,\n",
       "                                        min_impurity_split=None,\n",
       "                                        min_samples_leaf=1, min_samples_split=2,\n",
       "                                        min_weight_fraction_leaf=0.0,\n",
       "                                        n_estimators=100, n_jobs=None,\n",
       "                                        oob_score=False, random_state=None,\n",
       "                                        verbose=0, warm_start=False))],\n",
       "         verbose=False)"
      ]
     },
     "execution_count": 18,
     "metadata": {
      "tags": []
     },
     "output_type": "execute_result"
    }
   ],
   "source": [
    "# model = Pipeline([\n",
    "#     ('tfidf', TfidfVectorizer()),\n",
    "#     ('clf', RandomForestClassifier(n_estimators=100)),\n",
    "# ])\n",
    "\n",
    "model = Pipeline([\n",
    "    ('vect', CountVectorizer()),\n",
    "    ('tfidf', TfidfTransformer()),\n",
    "    ('clf', RandomForestClassifier(n_estimators=100)),\n",
    "])\n",
    "\n",
    "model.fit(x_train, y_train)"
   ]
  },
  {
   "cell_type": "markdown",
   "metadata": {
    "colab_type": "text",
    "id": "cFt6djjpMImX"
   },
   "source": [
    "### Generate predictions on the test set and print a classification report to evaluate how well the model performed."
   ]
  },
  {
   "cell_type": "code",
   "execution_count": 0,
   "metadata": {
    "colab": {
     "base_uri": "https://localhost:8080/",
     "height": 204
    },
    "colab_type": "code",
    "id": "yWT99tvHMImY",
    "outputId": "91143782-ffdf-443b-a2f3-8039c51098ac"
   },
   "outputs": [
    {
     "name": "stdout",
     "output_type": "stream",
     "text": [
      "              precision    recall  f1-score   support\n",
      "\n",
      "      health       0.79      0.83      0.81        18\n",
      "    politics       0.73      0.85      0.79        13\n",
      "      sports       1.00      1.00      1.00        17\n",
      "        tech       0.93      0.78      0.85        18\n",
      "\n",
      "    accuracy                           0.86        66\n",
      "   macro avg       0.86      0.86      0.86        66\n",
      "weighted avg       0.87      0.86      0.86        66\n",
      "\n"
     ]
    }
   ],
   "source": [
    "predictions = model.predict(x_test)\n",
    "print(classification_report(y_test, predictions))"
   ]
  },
  {
   "cell_type": "markdown",
   "metadata": {
    "colab_type": "text",
    "id": "T2BwKeBNMImZ"
   },
   "source": [
    "### Perform 10-fold cross validation and obtain the averge F1 score across all the folds."
   ]
  },
  {
   "cell_type": "code",
   "execution_count": 0,
   "metadata": {
    "colab": {
     "base_uri": "https://localhost:8080/",
     "height": 51
    },
    "colab_type": "code",
    "id": "-n9cTvc6MIma",
    "outputId": "9ab67228-4a5b-45b5-f82a-da308106efdb"
   },
   "outputs": [
    {
     "name": "stdout",
     "output_type": "stream",
     "text": [
      "0.7677396214896215\n",
      "0.09002211247645452\n"
     ]
    }
   ],
   "source": [
    "scores = cross_val_score(model, preprocessed, categories, \n",
    "                         cv=10, scoring='f1_macro')\n",
    "\n",
    "print(scores.mean())\n",
    "print(scores.std())"
   ]
  },
  {
   "cell_type": "markdown",
   "metadata": {
    "colab_type": "text",
    "id": "1H9ERShiMImb"
   },
   "source": [
    "### Ingest, preprocess, and predict the topic of the article at the following URL."
   ]
  },
  {
   "cell_type": "code",
   "execution_count": 0,
   "metadata": {
    "colab": {},
    "colab_type": "code",
    "id": "0d2mfYGSMImc"
   },
   "outputs": [],
   "source": [
    "url = 'https://www.nytimes.com/2019/11/25/business/uber-london.html'"
   ]
  },
  {
   "cell_type": "code",
   "execution_count": 0,
   "metadata": {
    "colab": {},
    "colab_type": "code",
    "id": "7piaPcKNMImd"
   },
   "outputs": [],
   "source": [
    "import requests\n",
    "from bs4 import BeautifulSoup\n",
    "\n",
    "def get_url_text(url):\n",
    "    response = requests.get(url)\n",
    "    content = response.text\n",
    "    \n",
    "    TAGS = ['h1', 'h2', 'h3', 'h4', 'h5', 'h6', 'h7', 'p', 'li']\n",
    "    soup = BeautifulSoup(content, \"lxml\")\n",
    "    text_list = [tag.get_text() for tag in soup.find_all(TAGS)]\n",
    "    text = ' '.join(text_list)\n",
    "    return text"
   ]
  },
  {
   "cell_type": "code",
   "execution_count": 0,
   "metadata": {
    "colab": {},
    "colab_type": "code",
    "id": "L5Ov63auT4Ym"
   },
   "outputs": [],
   "source": [
    "text = get_url_text(url)"
   ]
  },
  {
   "cell_type": "code",
   "execution_count": 0,
   "metadata": {
    "colab": {},
    "colab_type": "code",
    "id": "sJ5kzwMqT7gG"
   },
   "outputs": [],
   "source": [
    "cleaned = preprocess([text])"
   ]
  },
  {
   "cell_type": "code",
   "execution_count": 0,
   "metadata": {
    "colab": {
     "base_uri": "https://localhost:8080/",
     "height": 54
    },
    "colab_type": "code",
    "id": "xhI9f7sGT8an",
    "outputId": "c6c3e69f-11d4-4ff8-ae8b-d98d5ce9cfaf"
   },
   "outputs": [
    {
     "data": {
      "text/plain": [
       "['advertis support uber fight surviv london lose licens compani odd regul driver tradit cab lucrat european market adam satariano ami tsang london uber suffer major blow monday london transport author made surpris decis extend taxi oper licens persist safeti problem throw question whether compani continu oper lucrat european market decis immedi affect uber presenc london street compani said would appeal decis set could long legal process uber continu oper throughout time news add difficult year compani stage disappoint initi public offer may uber sinc experienc execut turnov sever round layoff face continu public scrutini safeti passeng transport london regul taxi privat hire servic citi said uber meet fit proper standard need hold taxi licens regul said uber pattern failur place passeng safeti risk includ vulner uber app allow unauthor driver carri thousand rider clear concern issu aros also concern confid similar issu happen helen chapman director licens regul charg transport london said statement uber experi london highlight broader regulatori challeng europ compani struggl get foothold countri like germani spain itali denmark tougher regul limit avail london one uber lucrat market also home contenti struggl govern author compani battl retain licens british capit year author london also revok uber licens among reason poor oversight driver uber appeal decis grant licens agre govern supervis sever polici chang includ adopt rule report incid polic keep tire driver road name new independ board overse british oper citi author acknowledg uber made number posit chang improv cultur leadership system said gone far enough compani licens due expir monday transport author said one main issu flaw uber system let unauthor driver sneak onto driver sidestep rule collud author driver pick rider account least trip conduct least driver use workaround mean journey uninsur passeng journey took place unlicens driver transport london said practic known account spoof challeng platform polic food deliveri compani also seen peopl work account other sidestep polici london offici cite safeti defici uber includ instanc dismiss suspend driver abl creat anoth account transport london found sever exampl driver correct insur regul said volum problem lost faith uber abil improv uber said statement would oper normal appeal decis call extraordinari compani said first notifi regul unauthor driver may sinc close loophol understand held high bar dara khosrowshahi uber chief execut said twitter tfl decis wrong last year fundament chang oper london come far keep go million driver rider reli khosrowshahi join uber promis clean compani cultur known make growth top prioriti flout govern regul uber continu grappl critic safeti enough protect rider driver unit state senat richard blumenth democrat connecticut call uber lyft adopt fingerprint background check driver washington post recent report polici kept incid report polic lack problemat driver rival car servic revok uber licens london could ultim substanti financi implic compani struggl make profit month report billion quarter loss uber also announc seri new secur measur month includ enhanc safeti train driver discrimin button allow driver passeng report abus direct line emerg servic london uber said would put new safeti check place confirm ident driver could use app ad similar process australia unauthor driver fraudul use friend account plead guilti rape woman uber arriv london around driver citi sadiq khan mayor london said transport london could confid uber enough regul place prevent anoth serious safeti breach know decis may unpopular uber user safeti paramount concern said statement organ repres driver london tradit cab see uber undercut busi lobbi compani licens renew includ steve mcnamara general secretari licens taxi driver associ celebr monday decis said london would safer unfit oper get away deliber shirk respons said statement uber month compli condit temporari licens yet continu put london risk let driver road proper licens other said decis unfair harm thousand driver use platform mayor decis deni uber licens come hammer blow driver work precari condit said jame farrar chairman unit privat hire driver branch independ worker union great britain mani face distress face unemploy also crippl debt struggl meet car leas muhum ali uber driver four year said decis meant would live constant worri keep insecur said ali drive least hour week unsur adam satariano report london ami tsang hong kong advertis site index site inform navig new york time compani nytco contact u work u advertis brand studio ad choic privaci term servic term sale site map help subscript']"
      ]
     },
     "execution_count": 26,
     "metadata": {
      "tags": []
     },
     "output_type": "execute_result"
    }
   ],
   "source": [
    "cleaned"
   ]
  },
  {
   "cell_type": "code",
   "execution_count": 0,
   "metadata": {
    "colab": {
     "base_uri": "https://localhost:8080/",
     "height": 34
    },
    "colab_type": "code",
    "id": "yAiqETT9UHTR",
    "outputId": "b2665e17-bf34-4c6d-fe3c-95b09aa12f90"
   },
   "outputs": [
    {
     "data": {
      "text/plain": [
       "'tech'"
      ]
     },
     "execution_count": 28,
     "metadata": {
      "tags": []
     },
     "output_type": "execute_result"
    }
   ],
   "source": [
    "model.predict(cleaned)[0]"
   ]
  },
  {
   "cell_type": "code",
   "execution_count": 0,
   "metadata": {
    "colab": {},
    "colab_type": "code",
    "id": "Yh4mC6IBUMVg"
   },
   "outputs": [],
   "source": []
  }
 ],
 "metadata": {
  "colab": {
   "collapsed_sections": [],
   "name": "Natural Language Processing Day 4 Morning Assignment.ipynb",
   "provenance": []
  },
  "kernelspec": {
   "display_name": "Python 3",
   "language": "python",
   "name": "python3"
  },
  "language_info": {
   "codemirror_mode": {
    "name": "ipython",
    "version": 3
   },
   "file_extension": ".py",
   "mimetype": "text/x-python",
   "name": "python",
   "nbconvert_exporter": "python",
   "pygments_lexer": "ipython3",
   "version": "3.7.7"
  }
 },
 "nbformat": 4,
 "nbformat_minor": 1
}
