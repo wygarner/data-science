{
 "cells": [
  {
   "cell_type": "code",
   "execution_count": 1,
   "metadata": {},
   "outputs": [
    {
     "data": {
      "application/javascript": [
       "\n",
       "            setTimeout(function() {\n",
       "                var nbb_cell_id = 1;\n",
       "                var nbb_unformatted_code = \"%load_ext nb_black\";\n",
       "                var nbb_formatted_code = \"%load_ext nb_black\";\n",
       "                var nbb_cells = Jupyter.notebook.get_cells();\n",
       "                for (var i = 0; i < nbb_cells.length; ++i) {\n",
       "                    if (nbb_cells[i].input_prompt_number == nbb_cell_id) {\n",
       "                        if (nbb_cells[i].get_text() == nbb_unformatted_code) {\n",
       "                             nbb_cells[i].set_text(nbb_formatted_code);\n",
       "                        }\n",
       "                        break;\n",
       "                    }\n",
       "                }\n",
       "            }, 500);\n",
       "            "
      ],
      "text/plain": [
       "<IPython.core.display.Javascript object>"
      ]
     },
     "metadata": {},
     "output_type": "display_data"
    }
   ],
   "source": [
    "%load_ext nb_black"
   ]
  },
  {
   "cell_type": "markdown",
   "metadata": {
    "colab_type": "text",
    "id": "IihPCGvd34PH"
   },
   "source": [
    "# Text Acquisition & Ingestion Assignment"
   ]
  },
  {
   "cell_type": "code",
   "execution_count": 52,
   "metadata": {
    "colab": {},
    "colab_type": "code",
    "id": "DhLA_w7p34PM"
   },
   "outputs": [
    {
     "data": {
      "application/javascript": [
       "\n",
       "            setTimeout(function() {\n",
       "                var nbb_cell_id = 52;\n",
       "                var nbb_unformatted_code = \"import json\\nimport requests\\nimport feedparser\\nfrom bs4 import BeautifulSoup\\nimport nltk\\nfrom nltk.corpus.reader.plaintext import PlaintextCorpusReader\";\n",
       "                var nbb_formatted_code = \"import json\\nimport requests\\nimport feedparser\\nfrom bs4 import BeautifulSoup\\nimport nltk\\nfrom nltk.corpus.reader.plaintext import PlaintextCorpusReader\";\n",
       "                var nbb_cells = Jupyter.notebook.get_cells();\n",
       "                for (var i = 0; i < nbb_cells.length; ++i) {\n",
       "                    if (nbb_cells[i].input_prompt_number == nbb_cell_id) {\n",
       "                        if (nbb_cells[i].get_text() == nbb_unformatted_code) {\n",
       "                             nbb_cells[i].set_text(nbb_formatted_code);\n",
       "                        }\n",
       "                        break;\n",
       "                    }\n",
       "                }\n",
       "            }, 500);\n",
       "            "
      ],
      "text/plain": [
       "<IPython.core.display.Javascript object>"
      ]
     },
     "metadata": {},
     "output_type": "display_data"
    }
   ],
   "source": [
    "import json\n",
    "import requests\n",
    "import feedparser\n",
    "from bs4 import BeautifulSoup\n",
    "from nltk.corpus.reader.plaintext import PlaintextCorpusReader"
   ]
  },
  {
   "cell_type": "markdown",
   "metadata": {
    "colab_type": "text",
    "id": "lZ3ytdXA34PR"
   },
   "source": [
    "### Iterate through the list of article URLs below, scraping the text from each one and saving it to a text file. "
   ]
  },
  {
   "cell_type": "code",
   "execution_count": 4,
   "metadata": {
    "colab": {},
    "colab_type": "code",
    "id": "mDbZqPpT34PU"
   },
   "outputs": [
    {
     "data": {
      "application/javascript": [
       "\n",
       "            setTimeout(function() {\n",
       "                var nbb_cell_id = 4;\n",
       "                var nbb_unformatted_code = \"articles = ['http://lite.cnn.io/en/article/h_eac18760a7a7f9a1bf33616f1c4a336d',\\n            'http://lite.cnn.io/en/article/h_de3f82f17d289680dd2b47c6413ebe7c',\\n            'http://lite.cnn.io/en/article/h_72f4dc9d6f35458a89af014b62e625ad',\\n            'http://lite.cnn.io/en/article/h_aa21fe6bf176071cb49e09d422c3adf0',\\n            'http://lite.cnn.io/en/article/h_8ad34a532921c9076cdc9d7390d2f1bc',\\n            'http://lite.cnn.io/en/article/h_84422c79110d9989177cfaf1c5f45fe7',\\n            'http://lite.cnn.io/en/article/h_d010d9580abac3a44c6181ec6fb63d58',\\n            'http://lite.cnn.io/en/article/h_fb11f4e9d7c5323e75b337d9e9e5e368',\\n            'http://lite.cnn.io/en/article/h_7b27f0b131067f8ece6238ac559670ab',\\n            'http://lite.cnn.io/en/article/h_8cae7f735fa9573d470f802063ceffe2',\\n            'http://lite.cnn.io/en/article/h_72c3668280e82576fcc2602b0fa70c14',\\n            'http://lite.cnn.io/en/article/h_d20658fb0e20212051cda0e0a7248c8a',\\n            'http://lite.cnn.io/en/article/h_56611c43d7928120d2ae21666ccc7417',\\n            'http://lite.cnn.io/en/article/h_bda0394e3c5ee7054ee65c022bca7695']\";\n",
       "                var nbb_formatted_code = \"articles = [\\n    \\\"http://lite.cnn.io/en/article/h_eac18760a7a7f9a1bf33616f1c4a336d\\\",\\n    \\\"http://lite.cnn.io/en/article/h_de3f82f17d289680dd2b47c6413ebe7c\\\",\\n    \\\"http://lite.cnn.io/en/article/h_72f4dc9d6f35458a89af014b62e625ad\\\",\\n    \\\"http://lite.cnn.io/en/article/h_aa21fe6bf176071cb49e09d422c3adf0\\\",\\n    \\\"http://lite.cnn.io/en/article/h_8ad34a532921c9076cdc9d7390d2f1bc\\\",\\n    \\\"http://lite.cnn.io/en/article/h_84422c79110d9989177cfaf1c5f45fe7\\\",\\n    \\\"http://lite.cnn.io/en/article/h_d010d9580abac3a44c6181ec6fb63d58\\\",\\n    \\\"http://lite.cnn.io/en/article/h_fb11f4e9d7c5323e75b337d9e9e5e368\\\",\\n    \\\"http://lite.cnn.io/en/article/h_7b27f0b131067f8ece6238ac559670ab\\\",\\n    \\\"http://lite.cnn.io/en/article/h_8cae7f735fa9573d470f802063ceffe2\\\",\\n    \\\"http://lite.cnn.io/en/article/h_72c3668280e82576fcc2602b0fa70c14\\\",\\n    \\\"http://lite.cnn.io/en/article/h_d20658fb0e20212051cda0e0a7248c8a\\\",\\n    \\\"http://lite.cnn.io/en/article/h_56611c43d7928120d2ae21666ccc7417\\\",\\n    \\\"http://lite.cnn.io/en/article/h_bda0394e3c5ee7054ee65c022bca7695\\\",\\n]\";\n",
       "                var nbb_cells = Jupyter.notebook.get_cells();\n",
       "                for (var i = 0; i < nbb_cells.length; ++i) {\n",
       "                    if (nbb_cells[i].input_prompt_number == nbb_cell_id) {\n",
       "                        if (nbb_cells[i].get_text() == nbb_unformatted_code) {\n",
       "                             nbb_cells[i].set_text(nbb_formatted_code);\n",
       "                        }\n",
       "                        break;\n",
       "                    }\n",
       "                }\n",
       "            }, 500);\n",
       "            "
      ],
      "text/plain": [
       "<IPython.core.display.Javascript object>"
      ]
     },
     "metadata": {},
     "output_type": "display_data"
    }
   ],
   "source": [
    "articles = [\n",
    "    \"http://lite.cnn.io/en/article/h_eac18760a7a7f9a1bf33616f1c4a336d\",\n",
    "    \"http://lite.cnn.io/en/article/h_de3f82f17d289680dd2b47c6413ebe7c\",\n",
    "    \"http://lite.cnn.io/en/article/h_72f4dc9d6f35458a89af014b62e625ad\",\n",
    "    \"http://lite.cnn.io/en/article/h_aa21fe6bf176071cb49e09d422c3adf0\",\n",
    "    \"http://lite.cnn.io/en/article/h_8ad34a532921c9076cdc9d7390d2f1bc\",\n",
    "    \"http://lite.cnn.io/en/article/h_84422c79110d9989177cfaf1c5f45fe7\",\n",
    "    \"http://lite.cnn.io/en/article/h_d010d9580abac3a44c6181ec6fb63d58\",\n",
    "    \"http://lite.cnn.io/en/article/h_fb11f4e9d7c5323e75b337d9e9e5e368\",\n",
    "    \"http://lite.cnn.io/en/article/h_7b27f0b131067f8ece6238ac559670ab\",\n",
    "    \"http://lite.cnn.io/en/article/h_8cae7f735fa9573d470f802063ceffe2\",\n",
    "    \"http://lite.cnn.io/en/article/h_72c3668280e82576fcc2602b0fa70c14\",\n",
    "    \"http://lite.cnn.io/en/article/h_d20658fb0e20212051cda0e0a7248c8a\",\n",
    "    \"http://lite.cnn.io/en/article/h_56611c43d7928120d2ae21666ccc7417\",\n",
    "    \"http://lite.cnn.io/en/article/h_bda0394e3c5ee7054ee65c022bca7695\",\n",
    "]"
   ]
  },
  {
   "cell_type": "code",
   "execution_count": 57,
   "metadata": {
    "colab": {},
    "colab_type": "code",
    "id": "AfDWUtDr34PX"
   },
   "outputs": [
    {
     "data": {
      "application/javascript": [
       "\n",
       "            setTimeout(function() {\n",
       "                var nbb_cell_id = 57;\n",
       "                var nbb_unformatted_code = \"tags = [\\\"h1\\\", \\\"h2\\\", \\\"h3\\\", \\\"h4\\\", \\\"h6\\\", \\\"h7\\\", \\\"p\\\", \\\"li\\\"]\\ncount = 0\\nfor article in articles:\\n    response = requests.get(article)\\n    content = response.text\\n    soup = BeautifulSoup(content, \\\"lxml\\\")\\n\\n    text_list = [tag.get_text() for tag in soup.find_all(tags)]\\n    text = \\\" \\\".join(text_list)\\n    text_file = open(\\\"articles/\\\" + \\\"article\\\" + str(count) + \\\".txt\\\", \\\"w+\\\")\\n    text_file.write(text)\\n    text_file.close()\\n    count += 1\";\n",
       "                var nbb_formatted_code = \"tags = [\\\"h1\\\", \\\"h2\\\", \\\"h3\\\", \\\"h4\\\", \\\"h6\\\", \\\"h7\\\", \\\"p\\\", \\\"li\\\"]\\ncount = 0\\nfor article in articles:\\n    response = requests.get(article)\\n    content = response.text\\n    soup = BeautifulSoup(content, \\\"lxml\\\")\\n\\n    text_list = [tag.get_text() for tag in soup.find_all(tags)]\\n    text = \\\" \\\".join(text_list)\\n    text_file = open(\\\"articles/\\\" + \\\"article\\\" + str(count) + \\\".txt\\\", \\\"w+\\\")\\n    text_file.write(text)\\n    text_file.close()\\n    count += 1\";\n",
       "                var nbb_cells = Jupyter.notebook.get_cells();\n",
       "                for (var i = 0; i < nbb_cells.length; ++i) {\n",
       "                    if (nbb_cells[i].input_prompt_number == nbb_cell_id) {\n",
       "                        if (nbb_cells[i].get_text() == nbb_unformatted_code) {\n",
       "                             nbb_cells[i].set_text(nbb_formatted_code);\n",
       "                        }\n",
       "                        break;\n",
       "                    }\n",
       "                }\n",
       "            }, 500);\n",
       "            "
      ],
      "text/plain": [
       "<IPython.core.display.Javascript object>"
      ]
     },
     "metadata": {},
     "output_type": "display_data"
    }
   ],
   "source": [
    "tags = [\"h1\", \"h2\", \"h3\", \"h4\", \"h6\", \"h7\", \"p\", \"li\"]\n",
    "count = 0\n",
    "for article in articles:\n",
    "    response = requests.get(article)\n",
    "    content = response.text\n",
    "    soup = BeautifulSoup(content, \"lxml\")\n",
    "\n",
    "    text_list = [tag.get_text() for tag in soup.find_all(tags)]\n",
    "    text = \" \".join(text_list)\n",
    "    text_file = open(\"articles/\" + \"article\" + str(count) + \".txt\", \"w+\")\n",
    "    text_file.write(text)\n",
    "    text_file.close()\n",
    "    count += 1"
   ]
  },
  {
   "cell_type": "markdown",
   "metadata": {
    "colab_type": "text",
    "id": "BgGlAM2X34Pc"
   },
   "source": [
    "### Ingest the text files generated via web scraping into a corpus and print the corpus statistics."
   ]
  },
  {
   "cell_type": "code",
   "execution_count": 58,
   "metadata": {
    "colab": {},
    "colab_type": "code",
    "id": "mmybAnNB34Pf"
   },
   "outputs": [
    {
     "data": {
      "application/javascript": [
       "\n",
       "            setTimeout(function() {\n",
       "                var nbb_cell_id = 58;\n",
       "                var nbb_unformatted_code = \"DOC_PATTERN = \\\".*\\\\.txt\\\"\\n\\ncorpus = PlaintextCorpusReader(\\\"articles/\\\", DOC_PATTERN)\";\n",
       "                var nbb_formatted_code = \"DOC_PATTERN = \\\".*\\\\.txt\\\"\\n\\ncorpus = PlaintextCorpusReader(\\\"articles/\\\", DOC_PATTERN)\";\n",
       "                var nbb_cells = Jupyter.notebook.get_cells();\n",
       "                for (var i = 0; i < nbb_cells.length; ++i) {\n",
       "                    if (nbb_cells[i].input_prompt_number == nbb_cell_id) {\n",
       "                        if (nbb_cells[i].get_text() == nbb_unformatted_code) {\n",
       "                             nbb_cells[i].set_text(nbb_formatted_code);\n",
       "                        }\n",
       "                        break;\n",
       "                    }\n",
       "                }\n",
       "            }, 500);\n",
       "            "
      ],
      "text/plain": [
       "<IPython.core.display.Javascript object>"
      ]
     },
     "metadata": {},
     "output_type": "display_data"
    }
   ],
   "source": [
    "DOC_PATTERN = \".*\\.txt\"\n",
    "\n",
    "corpus = PlaintextCorpusReader(\"articles/\", DOC_PATTERN)"
   ]
  },
  {
   "cell_type": "code",
   "execution_count": 59,
   "metadata": {},
   "outputs": [
    {
     "data": {
      "text/plain": [
       "['article0.txt',\n",
       " 'article1.txt',\n",
       " 'article10.txt',\n",
       " 'article11.txt',\n",
       " 'article12.txt',\n",
       " 'article13.txt',\n",
       " 'article2.txt',\n",
       " 'article3.txt',\n",
       " 'article4.txt',\n",
       " 'article5.txt',\n",
       " 'article6.txt',\n",
       " 'article7.txt',\n",
       " 'article8.txt',\n",
       " 'article9.txt']"
      ]
     },
     "execution_count": 59,
     "metadata": {},
     "output_type": "execute_result"
    },
    {
     "data": {
      "application/javascript": [
       "\n",
       "            setTimeout(function() {\n",
       "                var nbb_cell_id = 59;\n",
       "                var nbb_unformatted_code = \"corpus.fileids()\";\n",
       "                var nbb_formatted_code = \"corpus.fileids()\";\n",
       "                var nbb_cells = Jupyter.notebook.get_cells();\n",
       "                for (var i = 0; i < nbb_cells.length; ++i) {\n",
       "                    if (nbb_cells[i].input_prompt_number == nbb_cell_id) {\n",
       "                        if (nbb_cells[i].get_text() == nbb_unformatted_code) {\n",
       "                             nbb_cells[i].set_text(nbb_formatted_code);\n",
       "                        }\n",
       "                        break;\n",
       "                    }\n",
       "                }\n",
       "            }, 500);\n",
       "            "
      ],
      "text/plain": [
       "<IPython.core.display.Javascript object>"
      ]
     },
     "metadata": {},
     "output_type": "display_data"
    }
   ],
   "source": [
    "corpus.fileids()"
   ]
  },
  {
   "cell_type": "code",
   "execution_count": 62,
   "metadata": {
    "scrolled": true
   },
   "outputs": [
    {
     "data": {
      "text/plain": [
       "[[['Pink', 'taking', 'a', 'break', 'to', 'focus', 'on', 'family', '(', 'CNN', ')', '-', 'Pink', 'has', 'been', 'working', 'pretty', 'hard', 'and', 'it', 'sounds', 'like', 'she', 'will', 'be', 'taking', 'a', 'step', 'back', 'in', '2020', '.'], ['Speaking', 'with', '\"', 'Entertainment', 'Tonight', '\"', 'on', 'the', 'Country', 'Music', 'Association', 'Awards', 'red', 'carpet', ',', 'the', 'singer', 'was', 'joined', 'by', 'her', 'husband', ',', 'Carey', 'Hart', ',', 'and', 'their', 'kids', 'Willow', ',', '8', ',', 'and', 'Jameson', ',', '2', '.'], ['Pink', 'was', 'there', 'to', 'perform', 'her', 'song', '\"', 'Love', 'Me', 'Anyway', '\"', 'with', 'country', 'star', 'Chris', 'Stapleton', ',', 'and', 'she', 'talked', 'about', 'how', 'hectic', 'things', 'have', 'been', '.'], ['\"', 'We', 'did', 'two', 'and', 'a', 'half', 'years', 'of', '[', 'music', ']', 'and', 'Willow', \"'\", 's', 'back', 'in', 'school', 'now', ',', 'Jameson', \"'\", 's', 'going', 'to', 'start', 'pre', '-', 'school', 'soon', ',\"', 'Pink', 'said', '.'], ['\"', 'It', \"'\", 's', 'kind', 'of', 'the', 'year', 'of', 'the', 'family', '.\"'], ['The', 'star', 'also', 'praised', 'her', 'husband', ',', 'with', 'whom', 'she', 'will', 'celebrate', '14', 'years', 'of', 'marriage', 'in', 'January', '.'], ['\"', 'Carey', 'has', 'a', 'lot', 'going', 'on', 'as', 'well', ',\"', 'she', 'said', 'of', 'Hart', ',', 'who', 'went', 'from', 'being', 'a', 'professional', 'motocross', 'competitor', 'to', 'racing', 'off', '-', 'road', 'trucks', '.'], ['\"', 'He', \"'\", 's', 'super', 'supportive', ',', 'he', 'follows', 'me', 'around', 'the', 'world', 'and', 'now', 'it', \"'\", 's', 'his', 'turn', '.\"'], ['According', 'to', 'Billboard', ',', 'Pink', \"'\", 's', 'Beautiful', 'Trauma', 'Tour', 'ranks', 'as', 'the', '10th', 'highest', '-', 'grossing', 'tour', 'of', 'all', 'time', ',', 'earning', 'more', 'than', '$', '397', 'million', '.'], ['©', '2019', 'Cable', 'News', 'Network', '.'], ['Turner', 'Broadcasting', 'System', ',', 'Inc', '.', 'All', 'Rights', 'Reserved', '.'], ['Listen', 'to', 'CNN', '(', 'low', '-', 'bandwidth', 'usage', ')', 'Go', 'to', 'the', 'full', 'CNN', 'experience']], [['Deval', 'Patrick', 'tells', 'allies', 'he', \"'\", 's', 'running', 'for', 'president', '(', 'CNN', ')', '-', 'Former', 'Massachusetts', 'Gov', '.'], ['Deval', 'Patrick', 'told', 'friends', 'and', 'allies', 'in', 'phone', 'calls', 'on', 'Wednesday', 'that', 'he', 'has', 'made', 'a', 'decision', 'to', 'run', 'for', 'president', ',', 'two', 'people', 'familiar', 'with', 'the', 'matter', 'say', '.'], ['Plans', 'for', 'the', 'timing', 'of', 'his', 'formal', 'announcement', 'were', 'still', 'in', 'flux', 'Wednesday', ',', 'with', 'attention', 'on', 'impeachment', ',', 'but', 'a', 'source', 'familiar', 'with', 'the', 'plans', 'tells', 'CNN', 'that', 'Patrick', 'will', 'officially', 'file', 'for', 'the', 'New', 'Hampshire', 'primary', 'on', 'Thursday', 'in', 'Concord', 'after', 'he', 'appears', 'on', '\"', 'CBS', 'This', 'Morning', '.\"'], ['The', 'odds', 'could', 'be', 'incredibly', 'steep', 'for', 'a', 'late', 'entrant', 'like', 'Patrick', ',', 'who', 'is', 'not', 'well', 'known', 'nationally', 'and', 'does', 'not', 'have', 'personal', 'wealth', 'to', 'finance', 'a', 'campaign', '.'], ['Patrick', 'has', 'missed', 'the', 'deadline', 'to', 'appear', 'on', 'the', 'primary', 'ballot', 'in', 'Alabama', 'and', 'Arkansas', '.'], ['The', 'deadline', 'to', 'file', 'in', 'New', 'Hampshire', 'is', 'Friday', '.'], ['Patrick', 'could', 'seize', 'upon', 'potential', 'advantages', 'in', 'early', '-', 'voting', 'states', ':', 'He', 'is', 'from', 'Massachusetts', ',', 'which', 'is', 'next', 'door', 'to', 'New', 'Hampshire', ',', 'home', 'of', 'the', 'first', '-', 'in', '-', 'the', '-', 'nation', 'primary', '.'], ['And', 'being', 'one', 'of', 'the', 'country', \"'\", 's', 'first', 'African', 'American', 'governors', 'could', 'be', 'politically', 'beneficial', 'in', 'South', 'Carolina', ',', 'where', 'a', 'majority', 'of', 'Democratic', 'primary', 'voters', 'are', 'black', '.'], ['CNN', 'reported', 'on', 'Monday', 'that', 'Patrick', 'was', 'seriously', 'weighing', 'whether', 'he', 'could', 'make', 'a', 'credible', 'last', '-', 'minute', 'entry', 'into', 'the', 'Democratic', 'Party', \"'\", 's', 'crowded', 'primary', 'contest', 'after', 'previously', 'ruling', 'out', 'a', 'bid', 'late', 'last', 'year', '.'], ['The', 'conversations', 'began', 'before', 'former', 'New', 'York', 'City', 'Mayor', 'Michael', 'Bloomberg', 'stepped', 'forward', 'last', 'week', 'to', 'tease', 'a', 'possible', 'run', '.'], ['Patrick', 'told', 'friends', 'he', 'regrets', 'not', 'moving', 'forward', 'with', 'a', '2020', 'campaign', 'earlier', 'this', 'year', 'and', 'was', 'trying', 'to', 'determine', 'if', 'it', 'would', 'still', 'be', 'possible', '.'], ['His', 'considerations', 'were', 'first', 'reported', 'Monday', 'by', 'The', 'New', 'York', 'Times', '.'], ['Last', 'year', ',', 'Patrick', 'had', 'built', 'a', 'small', 'but', 'formidable', 'team', 'of', 'advisers', 'in', 'Boston', 'as', 'he', 'planned', 'a', '2020', 'bid', 'and', 'had', 'the', 'backing', 'of', 'some', 'top', 'aides', 'from', 'President', 'Barack', 'Obama', \"'\", 's', '2008', 'and', '2012', 'campaigns', '.'], ['But', 'he', 'publicly', 'ruled', 'out', 'a', 'presidential', 'bid', 'nearly', 'a', 'year', 'ago', ',', 'citing', 'the', '\"', 'cruelty', 'of', 'our', 'elections', 'process', '.\"'], ['He', 'wrote', 'in', 'a', 'December', 'Facebook', 'post', ':', '\"', 'After', 'a', 'lot', 'of', 'conversation', ',', 'reflection', 'and', 'prayer', ',', 'I', \"'\", 've', 'decided', 'that', 'a', '2020', 'campaign', 'for', 'president', 'is', 'not', 'for', 'me', '.'], ['I', \"'\", 've', 'been', 'overwhelmed', 'by', 'advice', 'and', 'encouragement', 'from', 'people', 'from', 'all', 'over', 'the', 'country', ',', 'known', 'and', 'unknown', '.\"'], ['\"', 'But', 'knowing', 'that', 'the', 'cruelty', 'of', 'our', 'elections', 'process', 'would', 'ultimately', 'splash', 'back', 'on', 'people', 'whom', 'Diane', 'and', 'I', 'love', ',', 'but', 'who', 'hadn', \"'\", 't', 'signed', 'up', 'for', 'the', 'journey', ',', 'was', 'more', 'than', 'I', 'could', 'ask', ',\"', 'he', 'wrote', '.'], ['Patrick', 'told', 'WBUR', 'at', 'the', 'time', 'that', 'his', 'wife', ',', 'Diane', ',', 'had', 'recently', 'been', 'diagnosed', 'with', 'uterine', 'cancer', 'and', 'had', 'surgery', 'right', 'before', 'Thanksgiving', 'last', 'year', '.'], ['He', 'cited', 'it', 'as', 'something', 'that', 'caused', 'him', 'to', 'carefully', 'consider', 'whether', 'he', 'wanted', 'to', 'put', 'his', 'family', 'though', 'months', 'of', 'grueling', 'campaigning', '.'], ['Patrick', 'entered', 'the', 'private', 'sector', 'in', '2015', 'and', 'took', 'a', 'job', 'at', 'Bain', 'Capital', ',', 'the', 'Boston', '-', 'based', 'private', 'investment', 'firm', 'that', 'became', 'a', 'liability', 'to', 'the', '2012', 'presidential', 'run', 'of', 'Republican', 'Mitt', 'Romney', ',', 'another', 'former', 'Massachusetts', 'governor', 'and', 'now', 'a', 'US', 'senator', 'from', 'Utah', '.'], ['Patrick', \"'\", 's', 'work', 'at', 'the', 'firm', ',', 'which', 'was', 'co', '-', 'founded', 'by', 'Romney', ',', 'could', 'be', 'a', 'liability', 'if', 'he', 'seeks', 'the', 'Democratic', 'nomination', ',', 'as', 'he', 'would', 'be', 'entering', 'a', 'race', 'where', 'frontrunner', 'Democrats', 'have', 'cast', 'wealthy', 'and', 'powerful', 'interests', 'as', 'the', 'enemy', 'of', 'progressive', 'policies', '.'], ['Patrick', 'last', 'year', 'defended', 'his', 'work', 'at', 'Bain', 'Capital', ',', 'telling', 'CNN', ':', '\"', 'I', \"'\", 've', 'never', 'taken', 'a', 'job', 'where', 'I', \"'\", 've', 'left', 'my', 'conscience', 'at', 'the', 'door', ',', 'and', 'I', 'haven', \"'\", 't', 'started', 'now', '.\"'], ['Patrick', 'had', 'upped', 'his', 'political', 'involvement', 'ahead', 'of', 'the', '2018', 'midterms', '--', 'endorsing', 'candidates', 'in', 'South', 'Carolina', ',', 'Texas', ',', 'New', 'Jersey', 'and', 'a', 'handful', 'of', 'other', 'states', '--', 'leading', 'many', 'to', 'believe', 'he', 'was', 'going', 'to', 'jump', 'into', 'the', 'race', '.'], ['©', '2019', 'Cable', 'News', 'Network', '.'], ['Turner', 'Broadcasting', 'System', ',', 'Inc', '.', 'All', 'Rights', 'Reserved', '.'], ['Listen', 'to', 'CNN', '(', 'low', '-', 'bandwidth', 'usage', ')', 'Go', 'to', 'the', 'full', 'CNN', 'experience']], ...]"
      ]
     },
     "execution_count": 62,
     "metadata": {},
     "output_type": "execute_result"
    },
    {
     "data": {
      "application/javascript": [
       "\n",
       "            setTimeout(function() {\n",
       "                var nbb_cell_id = 62;\n",
       "                var nbb_unformatted_code = \"corpus.paras()\";\n",
       "                var nbb_formatted_code = \"corpus.paras()\";\n",
       "                var nbb_cells = Jupyter.notebook.get_cells();\n",
       "                for (var i = 0; i < nbb_cells.length; ++i) {\n",
       "                    if (nbb_cells[i].input_prompt_number == nbb_cell_id) {\n",
       "                        if (nbb_cells[i].get_text() == nbb_unformatted_code) {\n",
       "                             nbb_cells[i].set_text(nbb_formatted_code);\n",
       "                        }\n",
       "                        break;\n",
       "                    }\n",
       "                }\n",
       "            }, 500);\n",
       "            "
      ],
      "text/plain": [
       "<IPython.core.display.Javascript object>"
      ]
     },
     "metadata": {},
     "output_type": "display_data"
    }
   ],
   "source": [
    "corpus.paras()"
   ]
  },
  {
   "cell_type": "markdown",
   "metadata": {
    "colab_type": "text",
    "id": "sGP_4yfR34Pi"
   },
   "source": [
    "### Parse the O'Reilly Radar RSS feed below, extract the text from each post, and save it to a text file.\n",
    "\n",
    "The content of each post contains HTML tags. Strip those out using the same approach you used for web scraping so that only text is saved to the files."
   ]
  },
  {
   "cell_type": "code",
   "execution_count": 31,
   "metadata": {
    "colab": {},
    "colab_type": "code",
    "id": "CDbqkFCF34Pl"
   },
   "outputs": [
    {
     "data": {
      "application/javascript": [
       "\n",
       "            setTimeout(function() {\n",
       "                var nbb_cell_id = 31;\n",
       "                var nbb_unformatted_code = \"feed = 'http://feeds.feedburner.com/oreilly/radar/atom'\";\n",
       "                var nbb_formatted_code = \"feed = \\\"http://feeds.feedburner.com/oreilly/radar/atom\\\"\";\n",
       "                var nbb_cells = Jupyter.notebook.get_cells();\n",
       "                for (var i = 0; i < nbb_cells.length; ++i) {\n",
       "                    if (nbb_cells[i].input_prompt_number == nbb_cell_id) {\n",
       "                        if (nbb_cells[i].get_text() == nbb_unformatted_code) {\n",
       "                             nbb_cells[i].set_text(nbb_formatted_code);\n",
       "                        }\n",
       "                        break;\n",
       "                    }\n",
       "                }\n",
       "            }, 500);\n",
       "            "
      ],
      "text/plain": [
       "<IPython.core.display.Javascript object>"
      ]
     },
     "metadata": {},
     "output_type": "display_data"
    }
   ],
   "source": [
    "feed = \"http://feeds.feedburner.com/oreilly/radar/atom\""
   ]
  },
  {
   "cell_type": "code",
   "execution_count": 33,
   "metadata": {
    "colab": {},
    "colab_type": "code",
    "id": "l-a9JgWH34Po"
   },
   "outputs": [
    {
     "data": {
      "application/javascript": [
       "\n",
       "            setTimeout(function() {\n",
       "                var nbb_cell_id = 33;\n",
       "                var nbb_unformatted_code = \"parsed = feedparser.parse(feed)\\nposts = parsed.entries\";\n",
       "                var nbb_formatted_code = \"parsed = feedparser.parse(feed)\\nposts = parsed.entries\";\n",
       "                var nbb_cells = Jupyter.notebook.get_cells();\n",
       "                for (var i = 0; i < nbb_cells.length; ++i) {\n",
       "                    if (nbb_cells[i].input_prompt_number == nbb_cell_id) {\n",
       "                        if (nbb_cells[i].get_text() == nbb_unformatted_code) {\n",
       "                             nbb_cells[i].set_text(nbb_formatted_code);\n",
       "                        }\n",
       "                        break;\n",
       "                    }\n",
       "                }\n",
       "            }, 500);\n",
       "            "
      ],
      "text/plain": [
       "<IPython.core.display.Javascript object>"
      ]
     },
     "metadata": {},
     "output_type": "display_data"
    }
   ],
   "source": [
    "parsed = feedparser.parse(feed)\n",
    "posts = parsed.entries"
   ]
  },
  {
   "cell_type": "code",
   "execution_count": 34,
   "metadata": {},
   "outputs": [
    {
     "name": "stdout",
     "output_type": "stream",
     "text": [
      "Most of the technical news this month continues to swirl around coronavirus. Many things are happening under that rubric⁠—for example, delivery during a pandemic could be the killer app for autonomous vehicles. And money being (literally) dirty, the pandemic could drive the development of new payment systems that are more inclusive. I haven’t seen as [&#8230;]\n",
      "~~~~~~~~~~~~~~~~~~~~~~~~~~~~~~~~~~~~~~~~~~~~~~~~\n",
      "Privacy Threats in Intimate Relationships &#8212; This article provides an overview of intimate threats: a class of privacy threats that can arise within our families, romantic partnerships, close friendships, and caregiving relationships. Many common assumptions about privacy are upended in the context of these relationships, and many otherwise effective protective measures fail when applied to [&#8230;]\n",
      "~~~~~~~~~~~~~~~~~~~~~~~~~~~~~~~~~~~~~~~~~~~~~~~~\n",
      "Computers Barely Work &#8212; An interview with Greg Kroah-Hartman. A joyful interview with a Linux kernel maintainer, words I never thought I&#8217;d type. TinyInst &#8212; a lightweight dynamic instrumentation library that can be used to instrument only selected module(s) in the process, while leaving the rest of the process to run natively. It is meant [&#8230;]\n",
      "~~~~~~~~~~~~~~~~~~~~~~~~~~~~~~~~~~~~~~~~~~~~~~~~\n",
      "Ears to Faces &#8212; our goal is to generate a frontal face image of a subject given his/her ear image as the input. It&#8217;s &#8230; astonishing. GLTR &#8212; a visual forensic tool to detect text that was automatically generated from large language models. Moving Work From Push to Pull &#8212; A small Phoenix Project-type story [&#8230;]\n",
      "~~~~~~~~~~~~~~~~~~~~~~~~~~~~~~~~~~~~~~~~~~~~~~~~\n",
      "In a recent Twitter thread, Adam Jacob (co-founder and former CTO of Chef) talked about Chef’s switch from an “open core” model to a a “Red Hat” model for licensing their software.&#160; It was a fascinating discussion, with important implications for open source companies and their business models. I’ll reproduce the thread here, with Nat [&#8230;]\n",
      "~~~~~~~~~~~~~~~~~~~~~~~~~~~~~~~~~~~~~~~~~~~~~~~~\n",
      "Undie Detector &#8212; Safe Meeting keeps an eye on you during your video conferences, and if it sees business-inappropriate attire, the video is immediately muted. Using Formal Methods to Eliminate Exploitable Bugs &#8212; An overview video of the use of formal methods to prevent bugs, with reference to DARPA&#8217;s High Assurance Cyber-Military Systems project. n8n [&#8230;]\n",
      "~~~~~~~~~~~~~~~~~~~~~~~~~~~~~~~~~~~~~~~~~~~~~~~~\n",
      "Coders on Twitch &#8212; Currently, livestream coding is an open secret — a flourishing subculture that’s easily overlooked. At any given moment, there are at least a dozen coders streaming, and there are hundreds of active streamers cataloged in Twitch’s Science &#38; Technology category. Passive pair programming? Finding and Characterizing Information Warfare Campaigns &#8212; I [&#8230;]\n",
      "~~~~~~~~~~~~~~~~~~~~~~~~~~~~~~~~~~~~~~~~~~~~~~~~\n",
      "Real-time Face Video Swapping From A Single Portrait &#8212; Our method runs fully automatically and at real-time rate on any target face captured by cameras or from legacy video. More importantly, unlike existing deep learning based methods, our method does not need to pre-train any models, i.e., pre-collecting a large image/video dataset of the source [&#8230;]\n",
      "~~~~~~~~~~~~~~~~~~~~~~~~~~~~~~~~~~~~~~~~~~~~~~~~\n",
      "Confidential Computing &#8212; Confidential computing uses hardware-based techniques to isolate data, specific functions, or an entire application from the operating system, hypervisor or virtual machine manager, and other privileged processes. Data is stored in the trusted execution environment (TEE), where it’s impossible to view the data or operations performed on it from outside, even with [&#8230;]\n",
      "~~~~~~~~~~~~~~~~~~~~~~~~~~~~~~~~~~~~~~~~~~~~~~~~\n",
      "Living Computers Museum Closing &#8212; Since we opened, our philosophy has been simple. To understand computing technology, you need to experience that technology firsthand. The current global situation is making it difficult for us to serve our mission and we will spend the months ahead reassessing if, how, and when to reopen. It&#8217;ll be a [&#8230;]\n",
      "~~~~~~~~~~~~~~~~~~~~~~~~~~~~~~~~~~~~~~~~~~~~~~~~\n",
      "Algorithms tell stories about who people are. The first story an algorithm told about me was that my life was in danger. It was 7:53 pm on a clear Monday evening in September of 1981, at the Columbia Hospital for Women in Washington DC. I was exactly one minute old. The medical team scored me—as [&#8230;]\n",
      "~~~~~~~~~~~~~~~~~~~~~~~~~~~~~~~~~~~~~~~~~~~~~~~~\n",
      "Facebook Reportedly Ignored Its Own Research Showing Algorithms Divided Users &#8212; “Our algorithms exploit the human brain’s attraction to divisiveness,” one slide from the presentation read. The group found that if this core element of its recommendation engine were left unchecked, it would continue to serve Facebook users “more and more divisive content in an [&#8230;]\n",
      "~~~~~~~~~~~~~~~~~~~~~~~~~~~~~~~~~~~~~~~~~~~~~~~~\n",
      "Habits of High-Performing Teams &#8212; instead of experience points that build strength, defense, magic, and resistance, every new piece of work is an “enemy” that, when delivered, will spread domain context and confidence around your team. Original Sources of MS-DOS 1.25 and 2.0 &#8212; Best old nerd joke on this was on Lobsters: Luckily all [&#8230;]\n",
      "~~~~~~~~~~~~~~~~~~~~~~~~~~~~~~~~~~~~~~~~~~~~~~~~\n",
      "NoTo Font &#8212; An elegant font with glyphs for all languages. Google commissioned it from Monotype to avoid those rectangular boxes that show up when your font doesn&#8217;t have a particular character. (Those boxes are called &#8220;tofu&#8221; and the font name is short for &#8220;No Tofu&#8221;. This is explained in Monotype&#8217;s post). Context-Aware Human Generation [&#8230;]\n",
      "~~~~~~~~~~~~~~~~~~~~~~~~~~~~~~~~~~~~~~~~~~~~~~~~\n",
      "COVID-19 Contact Tracing Data Standard &#8212; Possibly the fastest-created government standards. New Zealand&#8217;s aiming to have all the contact tracing apps support the actions of the contact tracers, and standards are a part of that. Why No One Uses Functional Languages &#8212; Compared to users of C, &#8220;no one&#8221; is a tolerably accurate count of [&#8230;]\n",
      "~~~~~~~~~~~~~~~~~~~~~~~~~~~~~~~~~~~~~~~~~~~~~~~~\n",
      "Fuzzing: On the Exponential Cost of Vulnerability Discovery &#8212; Given the same non-deterministic fuzzer, finding the same bugs linearly faster requires linearly more machines. Yet, finding linearly more bugs in the same time requires exponentially more machines. Similarly, with exponentially more machines, we can cover the same code exponentially faster, but uncovered code only linearly [&#8230;]\n",
      "~~~~~~~~~~~~~~~~~~~~~~~~~~~~~~~~~~~~~~~~~~~~~~~~\n",
      "The Paradox of Source Code Secrecy &#8212; In a world of privatized decisionmaking, the largely consistent move towards closed code in software sectors, has a number of deleterious results for the public, particularly in the age of algorithmic dominance. However, this Article argues that source code also carries a paradoxical character that is peculiar to [&#8230;]\n",
      "~~~~~~~~~~~~~~~~~~~~~~~~~~~~~~~~~~~~~~~~~~~~~~~~\n",
      "We wanted to discover what our readers were doing with cloud, microservices, and other critical infrastructure and operations technologies. So we constructed a survey and ran it earlier this year: from January 9th through January 31st, 2020. All told, we received 1,283 responses. A lot happened between January and the first week of March, when [&#8230;]\n",
      "~~~~~~~~~~~~~~~~~~~~~~~~~~~~~~~~~~~~~~~~~~~~~~~~\n",
      "This Service Helps Malware Authors Fix Flaws in their Code (Krebs on Security) &#8212; Of course the Bad Guys(tm) are going to want security audits. Of course! “We can examine your (or not exactly your) PHP code for vulnerabilities and backdoors,” reads his offering on several prominent Russian cybercrime forums. “Possible options include, for example, [&#8230;]\n",
      "~~~~~~~~~~~~~~~~~~~~~~~~~~~~~~~~~~~~~~~~~~~~~~~~\n",
      "These are unprecedented times, at least by information age standards. Much of the U.S. economy has ground to a halt, and social norms about our data and our privacy have been thrown out the window throughout much of the world. Moreover, things seem likely to keep changing until a vaccine or effective treatment for COVID-19 [&#8230;]\n",
      "~~~~~~~~~~~~~~~~~~~~~~~~~~~~~~~~~~~~~~~~~~~~~~~~\n",
      "The Web Assembly App Gap &#8212; This essay states the case for the modern browser as a platform, and explores some components that might fill the gaps in a modern stack. [&#8230;] Content-aware, versioned data; UI Framework; Standard interfaces for automation; Stateful Service Architecture. (via Paul Butler) Hints and Principles for Computer System Design &#8212; [&#8230;]\n",
      "~~~~~~~~~~~~~~~~~~~~~~~~~~~~~~~~~~~~~~~~~~~~~~~~\n",
      "Favourite Developer-Efficiency Tips &#8212; Before putting a project or incomplete task away, make notes of what the next thing was that you were going to work on. This lets you bypass that 10 minute orientation getting back into the project the next time you pick it up. I&#8217;d not heard it called that before. All [&#8230;]\n",
      "~~~~~~~~~~~~~~~~~~~~~~~~~~~~~~~~~~~~~~~~~~~~~~~~\n",
      "In our previous article, What You Need to Know About Product Management for AI, we discussed the need for an AI Product Manager.&#160; This role includes everything a traditional PM does, but also requires an operational understanding of machine learning software development, along with a realistic view of its capabilities and limitations. In this article, [&#8230;]\n",
      "~~~~~~~~~~~~~~~~~~~~~~~~~~~~~~~~~~~~~~~~~~~~~~~~\n",
      "Malware Toolkit Targetting Airgapped Networks &#8212; ESET researchers have discovered a previously unreported cyber-espionage framework that we named Ramsay and that is tailored for collection and exfiltration of sensitive documents and is capable of operating within air‑gapped networks. Our Weird Behavior During the Pandemic is Messing with AI Models &#8212; Machine-learning models trained on normal [&#8230;]\n",
      "~~~~~~~~~~~~~~~~~~~~~~~~~~~~~~~~~~~~~~~~~~~~~~~~\n",
      "The Confessions of Marcus Hutchins, the Hacker Who Saved the Internet &#8212; Story of the MalwareTech security researcher who foiled WannaCry, only to be arrested by the FBI for having sold malware as a kid. Young Marcus had terrible opsec. The Next Social Era is Here &#8212; Arguing we&#8217;re ready for another boom in social [&#8230;]\n",
      "~~~~~~~~~~~~~~~~~~~~~~~~~~~~~~~~~~~~~~~~~~~~~~~~\n",
      "flecs &#8212; a Fast and Lightweight ECS (Entity Component System). An ECS [&#8230;] is a way to organize code that is mostly used in gaming and simulation projects. ECS code generally performs better than traditional OOP, and is typically easier to reuse. The main differences between ECS and OOP are composition is a first class [&#8230;]\n",
      "~~~~~~~~~~~~~~~~~~~~~~~~~~~~~~~~~~~~~~~~~~~~~~~~\n",
      "You probably interact with fifty to a hundred machine learning products every day, from your social media feeds and YouTube recommendations to your email spam filter and the updates that the New York Times, CNN, or Fox News decide to push, not to mention the hidden models that place ads on the websites you visit, [&#8230;]\n",
      "~~~~~~~~~~~~~~~~~~~~~~~~~~~~~~~~~~~~~~~~~~~~~~~~\n",
      "Oragono &#8212; a modern IRC server written in Go. DeepFake Cartoon Voices &#8212; Fifteen.ai is a text-to-speech tool that you can use to generate 44.1 kHz voices of various characters. The voices are generated in real time using multiple audio synthesis algorithms and customized deep neural networks trained on very little available data (between 55 [&#8230;]\n",
      "~~~~~~~~~~~~~~~~~~~~~~~~~~~~~~~~~~~~~~~~~~~~~~~~\n",
      "Mathematics for Machine Learning &#8212; We wrote a book on Mathematics for Machine Learning that motivates people to learn mathematical concepts. The book is not intended to cover advanced machine learning techniques because there are already plenty of books doing this. Instead, we aim to provide the necessary mathematical skills to read those other books. [&#8230;]\n",
      "~~~~~~~~~~~~~~~~~~~~~~~~~~~~~~~~~~~~~~~~~~~~~~~~\n",
      "After last month’s “all coronavirus, all the time” report, I was concerned that this month would be more of the same.&#160; And there is, indeed, a lot of coronavirus. But there are many other trends and interesting items to look at–possibly a sign that people are working effectively from home. Coronavirus Coronavirus prompts serious discussion [&#8230;]\n",
      "~~~~~~~~~~~~~~~~~~~~~~~~~~~~~~~~~~~~~~~~~~~~~~~~\n",
      "Super Bootable 64 &#8212; Super Mario 64 shipped before the SDK was finalised, and it had to be compiled with optimisations turned off. This meant the binary was easily reversed to source code, and now the unportable has been ported. This site probably won&#8217;t last long, because DMCA, but it&#8217;s technically a sweet feat. (via [&#8230;]\n",
      "~~~~~~~~~~~~~~~~~~~~~~~~~~~~~~~~~~~~~~~~~~~~~~~~\n",
      "Raman Spectroscopy &#8212; Low Cost, High Performances, 100% Open Source Raman Spectrometer. [&#8230;] We currently offer the spectrometer in a Starter Edition version designed for teaching Raman spectroscopy and we will soon release a Performance Edition version which achieves a tested 12 cm-1 resolution at low costs. Great to see this getting into the hands [&#8230;]\n",
      "~~~~~~~~~~~~~~~~~~~~~~~~~~~~~~~~~~~~~~~~~~~~~~~~\n",
      "Leaving Amazon (Tim Bray) &#8212; May 1st was my last day as a VP and Distinguished Engineer at Amazon Web Services, after five years and five months of rewarding fun. I quit in dismay at Amazon firing whistleblowers who were making noise about warehouse employees frightened of Covid-19. Observability is a Many-Splendoured Thing (Charity Majors) [&#8230;]\n",
      "~~~~~~~~~~~~~~~~~~~~~~~~~~~~~~~~~~~~~~~~~~~~~~~~\n",
      "We’ve all seen that the world (well, governments, specifically state governments, to say nothing of the banks) is screaming for COBOL programmers—a cry that goes up roughly every five years. We somehow muddle through the crisis at hand, then people forget that it was ever a problem. It&#8217;s time we asked what the crisis really [&#8230;]\n",
      "~~~~~~~~~~~~~~~~~~~~~~~~~~~~~~~~~~~~~~~~~~~~~~~~\n",
      "Popcorn Linux &#8212; exploring how to improve the programmability of emerging heterogeneous hardware, in particular, those with Instruction Set Architecture (ISA)-diverse cores, from node-scale (e.g., Xeon/Xeon-Phi, ARM/x86, CPU/GPU/FPGAs) to rack-scale (e.g., Scale-out processors, Firebox, The Machine), in both native and virtualized settings. Additionally, the project is exploring how to automatically compile/synthesize/execute code on ISA-heterogeneous hardware. [&#8230;]\n",
      "~~~~~~~~~~~~~~~~~~~~~~~~~~~~~~~~~~~~~~~~~~~~~~~~\n",
      "Tasmota &#8212; Alternative firmware for ESP8266 with easy configuration using webUI, OTA updates, automation using timers or rules, expandability and entirely local control over MQTT, HTTP, Serial or KNX. Selfie 2 Waifu &#8212; deep learning constructs an anime character from your photo. Paper for the underlying technique. (via @tkasasagi) The Handbook of Cyber Wargames: Wargaming [&#8230;]\n",
      "~~~~~~~~~~~~~~~~~~~~~~~~~~~~~~~~~~~~~~~~~~~~~~~~\n",
      "To Microservices and Back Again: Why Segment Went Back to a Monolith &#8212; microservices came with increased operational overhead and problems around code reuse. &#8230; If microservices are implemented incorrectly or used as a band-aid without addressing some of the root flaws in your system, you&#8217;ll be unable to do new product development because you&#8217;re [&#8230;]\n",
      "~~~~~~~~~~~~~~~~~~~~~~~~~~~~~~~~~~~~~~~~~~~~~~~~\n",
      "podpaperscissors &#8212; From the classic &#8220;prisoner&#8217;s dilemma&#8221; to more obscure coördination games, Pod Paper Scissors takes game theory out of the dry textbook and into the real world. &#8230; Each episode will feature different kinds of games and situations. Experts in a variety of fields will casually converse with the hosts about how the particular [&#8230;]\n",
      "~~~~~~~~~~~~~~~~~~~~~~~~~~~~~~~~~~~~~~~~~~~~~~~~\n",
      "Learning a Language &#8212; this list of questions facing anyone taking a new language for a test run just burns with truth. (Also: encouraging to see how many of these questions are answered by the Cookbook format) OpenVAS &#8212; Open Vulnerability Assessment Scanner, aka &#8220;what a cheap external security assessment vendor will run and then [&#8230;]\n",
      "~~~~~~~~~~~~~~~~~~~~~~~~~~~~~~~~~~~~~~~~~~~~~~~~\n",
      "Teleforking a Process onto a Different Computer &#8212; a working proof of concept (I just don’t replicate tricky things so that I could keep it simple, meaning it’s just a fun tech demo you probably shouldn’t use for anything real) of a telefork() function call that spawns a process on another machine and returns the [&#8230;]\n",
      "~~~~~~~~~~~~~~~~~~~~~~~~~~~~~~~~~~~~~~~~~~~~~~~~\n",
      "The Suddenly Remote Playbook &#8212; I just want to note that if you have to look after kids when you&#8217;re supposed to be working, you&#8217;re not working from home. Not everyone&#8217;s getting a glorious introduction to the delights of working from home. taichi &#8212; a programming language designed for high-performance computer graphics. It is deeply [&#8230;]\n",
      "~~~~~~~~~~~~~~~~~~~~~~~~~~~~~~~~~~~~~~~~~~~~~~~~\n",
      "Moloch &#8212; Large scale, open source, indexed packet capture and search. 3Dify Instagram Photos &#8212; open source toolset for adding a 3d effect to photos on Instagram&#8217;s web site. It uses 3d-photo-inpainting running in Colab (free GPU) and Cloud pubsub/storage for communication. A glimpse of the future: we could augment all our apps with deep [&#8230;]\n",
      "~~~~~~~~~~~~~~~~~~~~~~~~~~~~~~~~~~~~~~~~~~~~~~~~\n",
      "Three months ago, Apple released a new credit card in partnership with Goldman Sachs that aimed to disrupt the highly regulated world of consumer finance. However, a well-known software developer tweeted that he was given 20x the credit line offered to his wife, despite the fact that they have been filing joint tax returns and [&#8230;]\n",
      "~~~~~~~~~~~~~~~~~~~~~~~~~~~~~~~~~~~~~~~~~~~~~~~~\n",
      "Posthog — open source product analytics. Into the Mainframe (Recurse) — the interviews with two mainframe programmers are a great reminder of how much things have changed. And how they haven&#8217;t. For instance, later in my career I kept a weighted punching clown in my office. As programmers, we liked our users, but we also [&#8230;]\n",
      "~~~~~~~~~~~~~~~~~~~~~~~~~~~~~~~~~~~~~~~~~~~~~~~~\n",
      "It&#8217;s Time to Learn (Scott Berkun) &#8212; a strong response to Marc Andreessen&#8217;s It&#8217;s Time to Build. It feels like we are in a disrupted time when anything is possible, and folks are wondering where the levers are to pull. pygraphistry &#8212; a library to extract, transform, and visually explore big graphs. Desert Island Devops [&#8230;]\n",
      "~~~~~~~~~~~~~~~~~~~~~~~~~~~~~~~~~~~~~~~~~~~~~~~~\n",
      "CastleDB &#8212; a structured static database [&#8230;]. CastleDB looks like any spreadsheet editor, except that each sheet has a data model. [&#8230;] stores both its data model and the data contained in the rows into an easily readable JSON file. [&#8230;] allows efficient collaboration on data editing. Mainframes Are Having a Moment (IEEE Spectrum) &#8212; [&#8230;]\n",
      "~~~~~~~~~~~~~~~~~~~~~~~~~~~~~~~~~~~~~~~~~~~~~~~~\n",
      "Nebula &#8212;open source distributed, scalable, lightning-fast graph database. COBOL Programming Course &#8212; from the Open Mainframe Project. Serverless Handbook &#8212; a resource teaching frontend engineers everything they need to know to dive into backend. Novel Annealing Processor Is the Best Ever at Solving Combinatorial Optimization Problems (IEEE Spectrum) &#8212; Dubbed STATICA (Stochastic Cellular Automata Annealer [&#8230;]\n",
      "~~~~~~~~~~~~~~~~~~~~~~~~~~~~~~~~~~~~~~~~~~~~~~~~\n",
      "Kanboard &#8212; free and open source Trello-like Kanban boards. Remote Work Playbook &#8212; really useful advice on the actual mechanics of working remotely, not just which tools to use but how to use them. E.g., As an individual contributor, is there something you just did that you think a colleague would have to do at [&#8230;]\n",
      "~~~~~~~~~~~~~~~~~~~~~~~~~~~~~~~~~~~~~~~~~~~~~~~~\n",
      "Coding vs Programming (John Gruber) &#8212; I&#8217;d noticed this linguistic change too. See also Engineering vs Programming vs Computer Science. Coding is shorter so it&#8217;s probably gaining in popularity because shorter is easier to say and thus more convenient. micrograd (Andre Karpathy) &#8212; A tiny Autograd engine (with a bite! :D). Implements backpropagation (reverse-mode autodiff) [&#8230;]\n",
      "~~~~~~~~~~~~~~~~~~~~~~~~~~~~~~~~~~~~~~~~~~~~~~~~\n",
      "The Science of Happiness &#8212; free enrolment in Berkeley&#8217;s MOOC to teach positive psychology. Learn science-based principles and practices for a happy, meaningful life. The New Business of AI (A16Z) &#8212; many AI companies have: Lower gross margins due to heavy cloud infrastructure usage and ongoing human support; Scaling challenges due to the thorny problem [&#8230;]\n",
      "~~~~~~~~~~~~~~~~~~~~~~~~~~~~~~~~~~~~~~~~~~~~~~~~\n",
      "Since early in March, technology news has been all Coronavirus, all the time. That’s a trend we expect to continue through April and probably beyond. So let’s start with Coronavirus news, and hope that we have something different for next month. Coronavirus The Coronavirus pandemic is forcing reconsideration of how private data is used.&#160; Maciej [&#8230;]\n",
      "~~~~~~~~~~~~~~~~~~~~~~~~~~~~~~~~~~~~~~~~~~~~~~~~\n",
      "Introduction to COBOL &#8212; a 1999 web site (!) with slides from a University of Limerick course. IBM will offer free (presumably more modern) training. zoombot &#8212; a highly advanced AI to handle Zoom calls. storybook.js &#8212; open source toolkit and sandbox to build UI components in isolation so you can develop hard-to-reach states and [&#8230;]\n",
      "~~~~~~~~~~~~~~~~~~~~~~~~~~~~~~~~~~~~~~~~~~~~~~~~\n",
      "FairMOT &#8212; one-shot multi-object tracking that remarkably outperforms the state-of-the-arts on the MOT challenge datasets at 30 FPS. pipedream &#8212; IFTTT for coders. Compiler Explorer &#8212; an interactive tool that lets you type code in one window and see the results of its compilation in another window. Using the site should be pretty self-explanatory: by [&#8230;]\n",
      "~~~~~~~~~~~~~~~~~~~~~~~~~~~~~~~~~~~~~~~~~~~~~~~~\n",
      "The Fuzzy Edges of Character Encoding &#8212; the history, politics, and computational basics of text-based character encoding and digital representations of text, from Morse Code to ASCII to Unicode (and emoji), as well as alternative text encoding schemes. (via Everest Pipkin) AutoHotkey &#8212; an automation scripting language for Windows. The Electronic Nose and its Applications: [&#8230;]\n",
      "~~~~~~~~~~~~~~~~~~~~~~~~~~~~~~~~~~~~~~~~~~~~~~~~\n",
      "System Design for Advanced Beginners &#8212; a friendly explanation of the what and why of systems, with acknowledgement of the real world like There are many tools out there, each with different strengths and weaknesses, and many ways to build a technology company. The real, honest reasons that we will make many of our technological [&#8230;]\n",
      "~~~~~~~~~~~~~~~~~~~~~~~~~~~~~~~~~~~~~~~~~~~~~~~~\n",
      "locust &#8212; open source load testing tool: define user behaviour with Python code, and swarm your system with millions of simultaneous users. (via @nzigel) Background Matting &#8212; a method for creating a matte – the per-pixel foreground color and alpha – of a person by taking photos or videos in an everyday setting with a [&#8230;]\n",
      "~~~~~~~~~~~~~~~~~~~~~~~~~~~~~~~~~~~~~~~~~~~~~~~~\n",
      "Data Governance sounds like a candidate for the most boring topic in technology: something dreamed up by middle-managers to add friction to data scientists&#8217; lives. The funny thing about governance, though, is that it’s closely related to data discovery. And data discovery is neither dull nor additional friction; it&#8217;s an exciting process that enables great [&#8230;]\n",
      "~~~~~~~~~~~~~~~~~~~~~~~~~~~~~~~~~~~~~~~~~~~~~~~~\n",
      "Rufus &#8212; Create bootable USB drives the easy way. Improving Audio Quality in Duo with WaveNetEQ &#8212; Google filling in missing packets in voice calls using deep learning. CRN++ &#8212; language for programming deterministic (mass-action) chemical kinetics to perform computation. Crafting Crafting Interpreters &#8212; story behind the writing of the Crafting Interpreters book.\n",
      "~~~~~~~~~~~~~~~~~~~~~~~~~~~~~~~~~~~~~~~~~~~~~~~~\n",
      "The Zero Trust Learning Curve (Palo Alto Networks) &#8212; don&#8217;t learn with the Crown Jewels. The trouble with starting with the most sensitive protect surfaces is that they’re often too fragile and many people don’t know how they work. Starting there with Zero Trust frequently results in failures. Too often, when this happens, organizations blame [&#8230;]\n",
      "~~~~~~~~~~~~~~~~~~~~~~~~~~~~~~~~~~~~~~~~~~~~~~~~\n",
      "Imperial College&#8217;s COVID19 Model &#8212; in github, in R, MIT-licensed. This repository has code for replication purposes. The bleeding edge code and advancements are done in a private repository. Readings on Time &#8212; I bumped on this idea while reading Alan Kay’s writing about making the difference between mutable and immutable data “moot” in the [&#8230;]\n",
      "~~~~~~~~~~~~~~~~~~~~~~~~~~~~~~~~~~~~~~~~~~~~~~~~\n"
     ]
    },
    {
     "data": {
      "application/javascript": [
       "\n",
       "            setTimeout(function() {\n",
       "                var nbb_cell_id = 34;\n",
       "                var nbb_unformatted_code = \"for post in posts:\\n    print(post['summary'])\\n    print('~'*48)\";\n",
       "                var nbb_formatted_code = \"for post in posts:\\n    print(post[\\\"summary\\\"])\\n    print(\\\"~\\\" * 48)\";\n",
       "                var nbb_cells = Jupyter.notebook.get_cells();\n",
       "                for (var i = 0; i < nbb_cells.length; ++i) {\n",
       "                    if (nbb_cells[i].input_prompt_number == nbb_cell_id) {\n",
       "                        if (nbb_cells[i].get_text() == nbb_unformatted_code) {\n",
       "                             nbb_cells[i].set_text(nbb_formatted_code);\n",
       "                        }\n",
       "                        break;\n",
       "                    }\n",
       "                }\n",
       "            }, 500);\n",
       "            "
      ],
      "text/plain": [
       "<IPython.core.display.Javascript object>"
      ]
     },
     "metadata": {},
     "output_type": "display_data"
    }
   ],
   "source": [
    "for post in posts:\n",
    "    print(post[\"summary\"])\n",
    "    print(\"~\" * 48)"
   ]
  },
  {
   "cell_type": "markdown",
   "metadata": {
    "colab_type": "text",
    "id": "SqK4w9sa34Pr"
   },
   "source": [
    "### Ingest the text files generated via RSS parsing into a corpus and print the corpus statistics."
   ]
  },
  {
   "cell_type": "code",
   "execution_count": 38,
   "metadata": {
    "colab": {},
    "colab_type": "code",
    "id": "cd4x36-934Ps"
   },
   "outputs": [
    {
     "data": {
      "application/javascript": [
       "\n",
       "            setTimeout(function() {\n",
       "                var nbb_cell_id = 38;\n",
       "                var nbb_unformatted_code = \"count = 0\\nfor post in posts:\\n    text = post[\\\"summary\\\"]\\n    text_file = open(\\\"orielly/\\\" + \\\"article\\\" + str(count) + \\\".txt\\\", \\\"w+\\\")\\n    text_file.write(text)\\n    text_file.close()\\n    count += 1\";\n",
       "                var nbb_formatted_code = \"count = 0\\nfor post in posts:\\n    text = post[\\\"summary\\\"]\\n    text_file = open(\\\"orielly/\\\" + \\\"article\\\" + str(count) + \\\".txt\\\", \\\"w+\\\")\\n    text_file.write(text)\\n    text_file.close()\\n    count += 1\";\n",
       "                var nbb_cells = Jupyter.notebook.get_cells();\n",
       "                for (var i = 0; i < nbb_cells.length; ++i) {\n",
       "                    if (nbb_cells[i].input_prompt_number == nbb_cell_id) {\n",
       "                        if (nbb_cells[i].get_text() == nbb_unformatted_code) {\n",
       "                             nbb_cells[i].set_text(nbb_formatted_code);\n",
       "                        }\n",
       "                        break;\n",
       "                    }\n",
       "                }\n",
       "            }, 500);\n",
       "            "
      ],
      "text/plain": [
       "<IPython.core.display.Javascript object>"
      ]
     },
     "metadata": {},
     "output_type": "display_data"
    }
   ],
   "source": [
    "count = 0\n",
    "for post in posts:\n",
    "    text = post[\"summary\"]\n",
    "    text_file = open(\"orielly/\" + \"article\" + str(count) + \".txt\", \"w+\")\n",
    "    text_file.write(text)\n",
    "    text_file.close()\n",
    "    count += 1"
   ]
  },
  {
   "cell_type": "code",
   "execution_count": null,
   "metadata": {},
   "outputs": [],
   "source": []
  },
  {
   "cell_type": "markdown",
   "metadata": {
    "colab_type": "text",
    "id": "9BDwjO8t34Pw"
   },
   "source": [
    "### Make an API call to the Hacker News API to retrieve their Ask, Show, and Job category items. \n",
    "\n",
    "- URL: https://hacker-news.firebaseio.com/v0/askstories.json"
   ]
  },
  {
   "cell_type": "code",
   "execution_count": 46,
   "metadata": {
    "colab": {},
    "colab_type": "code",
    "id": "W7vyWOSN34Px",
    "scrolled": true
   },
   "outputs": [
    {
     "data": {
      "text/plain": [
       "[23458316,\n",
       " 23458656,\n",
       " 23457980,\n",
       " 23457859,\n",
       " 23456680,\n",
       " 23457324,\n",
       " 23455788,\n",
       " 23446627,\n",
       " 23455552,\n",
       " 23455415,\n",
       " 23444750,\n",
       " 23438930,\n",
       " 23454272,\n",
       " 23450110,\n",
       " 23453836,\n",
       " 23455741,\n",
       " 23453678,\n",
       " 23450827,\n",
       " 23445144,\n",
       " 23446890,\n",
       " 23449079,\n",
       " 23452325,\n",
       " 23440328,\n",
       " 23440346,\n",
       " 23454106,\n",
       " 23446580,\n",
       " 23449674,\n",
       " 23448385,\n",
       " 23439661,\n",
       " 23447335,\n",
       " 23446847,\n",
       " 23443090,\n",
       " 23436830,\n",
       " 23436117,\n",
       " 23445532,\n",
       " 23445513,\n",
       " 23445210,\n",
       " 23439547,\n",
       " 23434881,\n",
       " 23438024,\n",
       " 23443474,\n",
       " 23440951,\n",
       " 23440403,\n",
       " 23439311,\n",
       " 23439067,\n",
       " 23438001,\n",
       " 23437562,\n",
       " 23437279,\n",
       " 23432704,\n",
       " 23443284,\n",
       " 23435831,\n",
       " 23446168,\n",
       " 23458961,\n",
       " 23458901,\n",
       " 23458701,\n",
       " 23458115,\n",
       " 23458032,\n",
       " 23457274,\n",
       " 23457175,\n",
       " 23456504,\n",
       " 23456201,\n",
       " 23455986,\n",
       " 23455592,\n",
       " 23455433,\n",
       " 23455020,\n",
       " 23454947,\n",
       " 23454817,\n",
       " 23454737,\n",
       " 23454491,\n",
       " 23454441,\n",
       " 23454394,\n",
       " 23454357]"
      ]
     },
     "execution_count": 46,
     "metadata": {},
     "output_type": "execute_result"
    },
    {
     "data": {
      "application/javascript": [
       "\n",
       "            setTimeout(function() {\n",
       "                var nbb_cell_id = 46;\n",
       "                var nbb_unformatted_code = \"url = \\\"https://hacker-news.firebaseio.com/v0/askstories.json\\\"\\nresponse = requests.get(url)\\nresults = json.loads(response.content)\\nid_list = results\\nid_list\";\n",
       "                var nbb_formatted_code = \"url = \\\"https://hacker-news.firebaseio.com/v0/askstories.json\\\"\\nresponse = requests.get(url)\\nresults = json.loads(response.content)\\nid_list = results\\nid_list\";\n",
       "                var nbb_cells = Jupyter.notebook.get_cells();\n",
       "                for (var i = 0; i < nbb_cells.length; ++i) {\n",
       "                    if (nbb_cells[i].input_prompt_number == nbb_cell_id) {\n",
       "                        if (nbb_cells[i].get_text() == nbb_unformatted_code) {\n",
       "                             nbb_cells[i].set_text(nbb_formatted_code);\n",
       "                        }\n",
       "                        break;\n",
       "                    }\n",
       "                }\n",
       "            }, 500);\n",
       "            "
      ],
      "text/plain": [
       "<IPython.core.display.Javascript object>"
      ]
     },
     "metadata": {},
     "output_type": "display_data"
    }
   ],
   "source": [
    "url = \"https://hacker-news.firebaseio.com/v0/askstories.json\"\n",
    "response = requests.get(url)\n",
    "results = json.loads(response.content)\n",
    "id_list = results\n",
    "id_list"
   ]
  },
  {
   "cell_type": "markdown",
   "metadata": {
    "colab_type": "text",
    "id": "yEasqCkr34P0"
   },
   "source": [
    "### Once you have retrieved the item IDs from the URL above, retrieve each item by adding the item ID to the URL below, extract the item's text property, and save the text from each item to disk as its own document.\n",
    "\n",
    "- URL: https://hacker-news.firebaseio.com/v0/item/ITEM_ID_HERE.json\n",
    "\n",
    "The content of some items may contain HTML tags. Strip those out using the same approach you used for web scraping so that only text is saved to the files."
   ]
  },
  {
   "cell_type": "code",
   "execution_count": 51,
   "metadata": {
    "colab": {},
    "colab_type": "code",
    "id": "6Vp7yfWB34P1"
   },
   "outputs": [
    {
     "name": "stdout",
     "output_type": "stream",
     "text": [
      "NO TEXT \n",
      "\n",
      "NO TEXT \n",
      "\n",
      "NO TEXT \n",
      "\n",
      "NO TEXT \n",
      "\n",
      "NO TEXT \n",
      "\n",
      "NO TEXT \n",
      "\n"
     ]
    },
    {
     "data": {
      "application/javascript": [
       "\n",
       "            setTimeout(function() {\n",
       "                var nbb_cell_id = 51;\n",
       "                var nbb_unformatted_code = \"count = 0\\nfor i in id_list:\\n    try:\\n        url = \\\"https://hacker-news.firebaseio.com/v0/item/\\\" + str(i) + \\\".json\\\"\\n        response = requests.get(url)\\n        results = json.loads(response.content)\\n        text = results[\\\"text\\\"]\\n        text_file = open(\\\"hacker_news/\\\" + \\\"article\\\" + str(count) + \\\".txt\\\", \\\"w+\\\")\\n        text_file.write(text)\\n        text_file.close()\\n        count += 1\\n    except(KeyError):\\n        print(\\\"NO TEXT\\\",'\\\\n')\";\n",
       "                var nbb_formatted_code = \"count = 0\\nfor i in id_list:\\n    try:\\n        url = \\\"https://hacker-news.firebaseio.com/v0/item/\\\" + str(i) + \\\".json\\\"\\n        response = requests.get(url)\\n        results = json.loads(response.content)\\n        text = results[\\\"text\\\"]\\n        text_file = open(\\\"hacker_news/\\\" + \\\"article\\\" + str(count) + \\\".txt\\\", \\\"w+\\\")\\n        text_file.write(text)\\n        text_file.close()\\n        count += 1\\n    except (KeyError):\\n        print(\\\"NO TEXT\\\", \\\"\\\\n\\\")\";\n",
       "                var nbb_cells = Jupyter.notebook.get_cells();\n",
       "                for (var i = 0; i < nbb_cells.length; ++i) {\n",
       "                    if (nbb_cells[i].input_prompt_number == nbb_cell_id) {\n",
       "                        if (nbb_cells[i].get_text() == nbb_unformatted_code) {\n",
       "                             nbb_cells[i].set_text(nbb_formatted_code);\n",
       "                        }\n",
       "                        break;\n",
       "                    }\n",
       "                }\n",
       "            }, 500);\n",
       "            "
      ],
      "text/plain": [
       "<IPython.core.display.Javascript object>"
      ]
     },
     "metadata": {},
     "output_type": "display_data"
    }
   ],
   "source": [
    "count = 0\n",
    "for i in id_list:\n",
    "    try:\n",
    "        url = \"https://hacker-news.firebaseio.com/v0/item/\" + str(i) + \".json\"\n",
    "        response = requests.get(url)\n",
    "        results = json.loads(response.content)\n",
    "        text = results[\"text\"]\n",
    "        text_file = open(\"hacker_news/\" + \"article\" + str(count) + \".txt\", \"w+\")\n",
    "        text_file.write(text)\n",
    "        text_file.close()\n",
    "        count += 1\n",
    "    except (KeyError):\n",
    "        print(\"NO TEXT\", \"\\n\")"
   ]
  },
  {
   "cell_type": "markdown",
   "metadata": {
    "colab_type": "text",
    "id": "hw9-v8sK34P5"
   },
   "source": [
    "### Ingest the text files generated via API into a corpus and print the corpus statistics."
   ]
  },
  {
   "cell_type": "code",
   "execution_count": 0,
   "metadata": {
    "colab": {},
    "colab_type": "code",
    "id": "dcsiPdkx34P7"
   },
   "outputs": [],
   "source": []
  }
 ],
 "metadata": {
  "colab": {
   "name": "Day 71, Lecture 2: Afternoon Assignment.ipynb",
   "provenance": []
  },
  "kernelspec": {
   "display_name": "Python 3",
   "language": "python",
   "name": "python3"
  },
  "language_info": {
   "codemirror_mode": {
    "name": "ipython",
    "version": 3
   },
   "file_extension": ".py",
   "mimetype": "text/x-python",
   "name": "python",
   "nbconvert_exporter": "python",
   "pygments_lexer": "ipython3",
   "version": "3.7.7"
  }
 },
 "nbformat": 4,
 "nbformat_minor": 1
}
