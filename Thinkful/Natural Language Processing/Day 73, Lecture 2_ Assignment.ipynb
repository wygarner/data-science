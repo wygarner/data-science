{
 "cells": [
  {
   "cell_type": "code",
   "execution_count": 1,
   "metadata": {},
   "outputs": [
    {
     "data": {
      "application/javascript": [
       "\n",
       "            setTimeout(function() {\n",
       "                var nbb_cell_id = 1;\n",
       "                var nbb_unformatted_code = \"%load_ext nb_black\";\n",
       "                var nbb_formatted_code = \"%load_ext nb_black\";\n",
       "                var nbb_cells = Jupyter.notebook.get_cells();\n",
       "                for (var i = 0; i < nbb_cells.length; ++i) {\n",
       "                    if (nbb_cells[i].input_prompt_number == nbb_cell_id) {\n",
       "                        if (nbb_cells[i].get_text() == nbb_unformatted_code) {\n",
       "                             nbb_cells[i].set_text(nbb_formatted_code);\n",
       "                        }\n",
       "                        break;\n",
       "                    }\n",
       "                }\n",
       "            }, 500);\n",
       "            "
      ],
      "text/plain": [
       "<IPython.core.display.Javascript object>"
      ]
     },
     "metadata": {},
     "output_type": "display_data"
    }
   ],
   "source": [
    "%load_ext nb_black"
   ]
  },
  {
   "cell_type": "markdown",
   "metadata": {
    "colab_type": "text",
    "id": "JCLo8OfaJeLJ"
   },
   "source": [
    "# Exploring and Analyzing Text Data Assignment "
   ]
  },
  {
   "cell_type": "code",
   "execution_count": 10,
   "metadata": {},
   "outputs": [
    {
     "name": "stderr",
     "output_type": "stream",
     "text": [
      "[nltk_data] Downloading package averaged_perceptron_tagger to\n",
      "[nltk_data]     /Users/wyattgarner/nltk_data...\n",
      "[nltk_data]   Unzipping taggers/averaged_perceptron_tagger.zip.\n"
     ]
    },
    {
     "data": {
      "text/plain": [
       "True"
      ]
     },
     "execution_count": 10,
     "metadata": {},
     "output_type": "execute_result"
    },
    {
     "data": {
      "application/javascript": [
       "\n",
       "            setTimeout(function() {\n",
       "                var nbb_cell_id = 10;\n",
       "                var nbb_unformatted_code = \"import nltk\\nnltk.download('averaged_perceptron_tagger')\";\n",
       "                var nbb_formatted_code = \"import nltk\\n\\nnltk.download(\\\"averaged_perceptron_tagger\\\")\";\n",
       "                var nbb_cells = Jupyter.notebook.get_cells();\n",
       "                for (var i = 0; i < nbb_cells.length; ++i) {\n",
       "                    if (nbb_cells[i].input_prompt_number == nbb_cell_id) {\n",
       "                        if (nbb_cells[i].get_text() == nbb_unformatted_code) {\n",
       "                             nbb_cells[i].set_text(nbb_formatted_code);\n",
       "                        }\n",
       "                        break;\n",
       "                    }\n",
       "                }\n",
       "            }, 500);\n",
       "            "
      ],
      "text/plain": [
       "<IPython.core.display.Javascript object>"
      ]
     },
     "metadata": {},
     "output_type": "display_data"
    }
   ],
   "source": [
    "import nltk\n",
    "\n",
    "nltk.download(\"averaged_perceptron_tagger\")"
   ]
  },
  {
   "cell_type": "code",
   "execution_count": 28,
   "metadata": {
    "colab": {},
    "colab_type": "code",
    "id": "ILXNGki2JeLM"
   },
   "outputs": [
    {
     "data": {
      "application/javascript": [
       "\n",
       "            setTimeout(function() {\n",
       "                var nbb_cell_id = 28;\n",
       "                var nbb_unformatted_code = \"import spacy\\nimport string\\nimport pandas as pd\\nfrom nltk import pos_tag\\nfrom nltk.text import Text\\nfrom nltk import sent_tokenize\\nfrom nltk import word_tokenize\\nfrom nltk.corpus import stopwords\\nfrom nltk.probability import FreqDist\\nfrom nltk.corpus.reader.plaintext import PlaintextCorpusReader\\nimport itertools\\nimport matplotlib.pyplot as plt\\nimport seaborn as sns\\nfrom wordcloud import WordCloud, STOPWORDS\";\n",
       "                var nbb_formatted_code = \"import spacy\\nimport string\\nimport pandas as pd\\nfrom nltk import pos_tag\\nfrom nltk.text import Text\\nfrom nltk import sent_tokenize\\nfrom nltk import word_tokenize\\nfrom nltk.corpus import stopwords\\nfrom nltk.probability import FreqDist\\nfrom nltk.corpus.reader.plaintext import PlaintextCorpusReader\\nimport itertools\\nimport matplotlib.pyplot as plt\\nimport seaborn as sns\\nfrom wordcloud import WordCloud, STOPWORDS\";\n",
       "                var nbb_cells = Jupyter.notebook.get_cells();\n",
       "                for (var i = 0; i < nbb_cells.length; ++i) {\n",
       "                    if (nbb_cells[i].input_prompt_number == nbb_cell_id) {\n",
       "                        if (nbb_cells[i].get_text() == nbb_unformatted_code) {\n",
       "                             nbb_cells[i].set_text(nbb_formatted_code);\n",
       "                        }\n",
       "                        break;\n",
       "                    }\n",
       "                }\n",
       "            }, 500);\n",
       "            "
      ],
      "text/plain": [
       "<IPython.core.display.Javascript object>"
      ]
     },
     "metadata": {},
     "output_type": "display_data"
    }
   ],
   "source": [
    "import spacy\n",
    "import string\n",
    "import pandas as pd\n",
    "from nltk import pos_tag\n",
    "from nltk.text import Text\n",
    "from nltk import sent_tokenize\n",
    "from nltk import word_tokenize\n",
    "from nltk.corpus import stopwords\n",
    "from nltk.probability import FreqDist\n",
    "from nltk.corpus.reader.plaintext import PlaintextCorpusReader\n",
    "import itertools\n",
    "import matplotlib.pyplot as plt\n",
    "import seaborn as sns\n",
    "from wordcloud import WordCloud, STOPWORDS"
   ]
  },
  {
   "cell_type": "markdown",
   "metadata": {
    "colab_type": "text",
    "id": "AcjtNHJ1JeLO"
   },
   "source": [
    "### Read the CNN Lite plain text file articles into a corpus using the NLTK's PlaintextCorpusReader."
   ]
  },
  {
   "cell_type": "code",
   "execution_count": 3,
   "metadata": {
    "colab": {},
    "colab_type": "code",
    "id": "clvA9lkNJeLP"
   },
   "outputs": [
    {
     "data": {
      "application/javascript": [
       "\n",
       "            setTimeout(function() {\n",
       "                var nbb_cell_id = 3;\n",
       "                var nbb_unformatted_code = \"DOC_PATTERN = \\\".*\\\\.txt\\\"\\n\\ncorpus = PlaintextCorpusReader(\\\"articles/\\\", DOC_PATTERN)\";\n",
       "                var nbb_formatted_code = \"DOC_PATTERN = \\\".*\\\\.txt\\\"\\n\\ncorpus = PlaintextCorpusReader(\\\"articles/\\\", DOC_PATTERN)\";\n",
       "                var nbb_cells = Jupyter.notebook.get_cells();\n",
       "                for (var i = 0; i < nbb_cells.length; ++i) {\n",
       "                    if (nbb_cells[i].input_prompt_number == nbb_cell_id) {\n",
       "                        if (nbb_cells[i].get_text() == nbb_unformatted_code) {\n",
       "                             nbb_cells[i].set_text(nbb_formatted_code);\n",
       "                        }\n",
       "                        break;\n",
       "                    }\n",
       "                }\n",
       "            }, 500);\n",
       "            "
      ],
      "text/plain": [
       "<IPython.core.display.Javascript object>"
      ]
     },
     "metadata": {},
     "output_type": "display_data"
    }
   ],
   "source": [
    "DOC_PATTERN = \".*\\.txt\"\n",
    "\n",
    "corpus = PlaintextCorpusReader(\"articles/\", DOC_PATTERN)"
   ]
  },
  {
   "cell_type": "markdown",
   "metadata": {
    "colab_type": "text",
    "id": "q5KxRP36JeLR"
   },
   "source": [
    "### Iterate through the fileids in the corpus, extract the raw text of each document, and store them in a list."
   ]
  },
  {
   "cell_type": "code",
   "execution_count": 4,
   "metadata": {
    "colab": {},
    "colab_type": "code",
    "id": "U0BzPgeiJeLR"
   },
   "outputs": [
    {
     "data": {
      "text/plain": [
       "['Pink taking a break to focus on family (CNN) - Pink has been working pretty hard and it sounds like she will be taking a step back in 2020. Speaking with \"Entertainment Tonight\" on the Country Music Association Awards red carpet, the singer was joined by her husband, Carey Hart, and their kids Willow, 8, and Jameson, 2. Pink was there to perform her song \"Love Me Anyway\" with country star Chris Stapleton, and she  talked about how hectic things have been.  \"We did two and a half years of [music] and Willow\\'s back in school now, Jameson\\'s going to start pre-school soon,\" Pink said. \"It\\'s kind of the year of the family.\" The star also praised her husband, with whom she will celebrate 14 years of marriage in January. \"Carey has a lot going on as well,\" she said of Hart, who went from being a professional motocross competitor to racing off-road trucks. \"He\\'s super supportive, he follows me around the world and now it\\'s his turn.\" According to Billboard, Pink\\'s Beautiful Trauma Tour ranks as the 10th highest-grossing tour of all time, earning more than $397 million.  © 2019 Cable News Network. Turner Broadcasting System, Inc. All Rights Reserved. Listen to CNN (low-bandwidth usage) Go to the full CNN experience',\n",
       " 'Deval Patrick tells allies he\\'s running for president (CNN) - Former Massachusetts Gov. Deval Patrick told friends and allies in phone calls on Wednesday that he has made a decision to run for president, two people familiar with the matter say. Plans for the timing of his formal announcement were still in flux Wednesday, with attention on impeachment, but a source familiar with the plans tells CNN that Patrick will officially file for the New Hampshire primary on Thursday in Concord after he appears on \"CBS This Morning.\" The odds could be incredibly steep for a late entrant like Patrick, who is not well known nationally and does not have personal wealth to finance a campaign. Patrick has missed the deadline to appear on the primary ballot in Alabama and Arkansas. The deadline to file in New Hampshire is Friday. Patrick could seize upon potential advantages in early-voting states: He is from Massachusetts, which is next door to New Hampshire, home of the first-in-the-nation primary. And being one of the country\\'s first African American governors could be politically beneficial in South Carolina, where a majority of Democratic primary voters are black. CNN reported on Monday that Patrick was seriously weighing whether he could make a credible last-minute entry into the Democratic Party\\'s crowded primary contest after previously ruling out a bid late last year. The conversations began before former New York City Mayor Michael Bloomberg stepped forward last week to tease a possible run. Patrick told friends he regrets not moving forward with a 2020 campaign earlier this year and was trying to determine if it would still be possible. His considerations were first reported Monday by The New York Times.  Last year, Patrick had built a small but formidable team of advisers in Boston as he planned a 2020 bid and had the backing of some top aides from President Barack Obama\\'s 2008 and 2012 campaigns. But he publicly ruled out a presidential bid nearly a year ago, citing the \"cruelty of our elections process.\" He wrote in a December Facebook post: \"After a lot of conversation, reflection and prayer, I\\'ve decided that a 2020 campaign for president is not for me. I\\'ve been overwhelmed by advice and encouragement from people from all over the country, known and unknown.\" \"But knowing that the cruelty of our elections process would ultimately splash back on people whom Diane and I love, but who hadn\\'t signed up for the journey, was more than I could ask,\" he wrote. Patrick told WBUR at the time that his wife, Diane, had recently been diagnosed with uterine cancer and had surgery right before Thanksgiving last year. He cited it as something that caused him to carefully consider whether he wanted to put his family though months of grueling campaigning. Patrick entered the private sector in 2015 and took a job at Bain Capital, the Boston-based private investment firm that became a liability to the 2012 presidential run of Republican Mitt Romney, another former Massachusetts governor and now a US senator from Utah. Patrick\\'s work at the firm, which was co-founded by Romney, could be a liability if he seeks the Democratic nomination, as he would be entering a race where frontrunner Democrats have cast wealthy and powerful interests as the enemy of progressive policies. Patrick last year defended his work at Bain Capital, telling CNN: \"I\\'ve never taken a job where I\\'ve left my conscience at the door, and I haven\\'t started now.\" Patrick had upped his political involvement ahead of the 2018 midterms -- endorsing candidates in South Carolina, Texas, New Jersey and a handful of other states -- leading many to believe he was going to jump into the race. © 2019 Cable News Network. Turner Broadcasting System, Inc. All Rights Reserved. Listen to CNN (low-bandwidth usage) Go to the full CNN experience',\n",
       " 'Meet Narwhal, the rescue puppy with a tail growing out of his forehead (CNN) - There\\'s a 10-week-old puppy in Missouri with a tail growing out of his forehead. Yes, his forehead. No, it doesn\\'t wag. And, appropriately, his name is Narwhal. Well, his full name is \"Narwhal the Little Magical Furry Unicorn,\" according to dog rescue nonprofit organization Mac\\'s Mission, which took him in after he was discovered last Saturday. He was found in the freezing cold, with what appears to be the beginnings of frostbite on one paw. Unlike an actual narwhal whale, which has a protruding canine tooth that resembles a tusk, the tail on Narwhal\\'s forehead is short and stubby, sprouting right between his eyes -- and flops from side to side when he plays. He has a normal tail, too, this one is just extra. Workers at Mac\\'s Mission, which specializes in special needs dogs who had been abused or born with defects, say he\\'s recovering quickly, with the frostbite healing.  \"He seems completely healthy other than some usual puppy worms he got meds for,\" said the organization in a Facebook post. Vets took X-ray scans which showed the tail isn\\'t connected to anything. It has no real use, as far as they can tell, but it also doesn\\'t cause him any pain and there\\'s no medical reason to remove it -- so the forehead tail is here to stay. \"The unicorn face tail does not bother Narwhal and he never slows down just like any normal puppy,\" said the Facebook post. He was found with another dog, which rescue workers speculate may be his father. This older dog, who has been named Poppa Smurf, is a Daschund Terrier mix -- so they assume Narwhal may have some Daschund in him as well. It\\'s not clear what happened to the two of them before they were discovered, but a spokesperson from Mac\\'s Mission told CNN Narwhal is from rural Missouri in the Midwest, and loves to play -- and now, he has thousands of fans online, after his special tail catapulted him to internet fame. The rush of online attention has been \"crazy,\" the spokesperson, adding that the staff \"feel like we\\'re in a dream.\" He\\'s not yet ready for adoption, Mac\\'s Mission said online -- but that hasn\\'t stopped Narwhal\\'s fans from wanting to take him home. The organization has already received over 50 adoption applications for him, a spokesperson told CNN. Narwhal will likely be listed for adoption once he\\'s older and has gone through more medical procedures like vaccinations. The staff say they also want to monitor his unicorn horn a little while longer to make sure it doesn\\'t grow or become a problem. \"Everyone is super interested in him,\" the spokesperson said — but \"we are hopeful they are seeing the other available dogs as well!\" © 2019 Cable News Network. Turner Broadcasting System, Inc. All Rights Reserved. Listen to CNN (low-bandwidth usage) Go to the full CNN experience',\n",
       " 'Democrats\\' 2020 uncertainty has heavyweights thinking about a run (CNN) - Three Democratic heavyweights this week have dangled the possibility of a 2020 White House run, a reflection of the extraordinarily unsettled nature of the Democratic field only a few months before voting begins. On the eve of the first public impeachment hearings, former New York Mayor Michael Bloomberg made a run to Arkansas on Tuesday to secure his spot on that state\\'s Democratic primary ballot, should he decide to run. Former Massachusetts Gov. Deval Patrick weighed a late entry to the race while facing down Friday\\'s filing deadline in the key state of New Hampshire. And Hillary Clinton coyly suggested, once again, that she could leap from the sidelines. Clearly enjoying the opportunity to taunt Trump at this vulnerable moment in his presidency -- and undoubtedly unnerving some current 2020 Democrats -- Clinton told BBC Radio that she was not running for president in 2020, but she left the door ajar. \"Never say never, and I will certainly tell you I\\'m under enormous pressure from many, many, many people to think about it,\" Clinton told BBC radio in the midst of a publicity tour for her new book with her daughter, Chelsea. \"But as of this moment, sitting here in this studio talking to you, that is absolutely not in my plans.\"  In Clinton\\'s case, teasing another White House bid was most likely a lighthearted way of drawing publicity for her new book. Last month, when Trump tweeted that \"Crooked Hillary Clinton\" should run again to \"steal it away from Uber Left Elizabeth Warren,\" the 2016 Democratic nominee playfully tweeted back: \"Don\\'t tempt me. Do your job.\" (CNN reported in October that Clinton\\'s admirers have tried to coax her off the sidelines, but she has repeatedly ruled out a run).  Still, the fact that Patrick and Bloomberg could soon join the field underscores how fractured Democrats are three months before the opening contest in Iowa. The party still has not settled its long-running debate about whether to swing hard to the left by nominating a candidate like Warren, a senator from Massachusetts, or Sen. Bernie Sanders of Vermont -- both of whom have excited a younger generation of activists -- or embrace a more moderate candidate who could theoretically appeal to Republicans and independents disenchanted by Trump, as well as blue-collar voters who the party lost to Trump in 2016. The latest polls in early-primary states demonstrate that lack of consensus among Democrats about who would be strongest against Trump, which has prompted much of the hand-wringing in recent months. A new Monmouth University poll of likely caucusgoers out Tuesday showed South Bend, Indiana, Mayor Pete Buttigieg surging to the top of the field with 22%, followed by Biden with 19%, Warren with 18% and Sanders at 13%. All four were within the margin of error -- meaning that none of them could claim front-runner status in the Hawkeye State. (Bloomberg registered at 1%).  Biden held a slender lead in New Hampshire in a new Quinnipiac University poll this week with the support of 20% of likely voters in the state. Warren followed at 16%, Buttigieg at 15% and Sanders at 14%.  The glimmer of hope for Patrick and Bloomberg at this late stage is rooted in Democrats\\' uncertainty about Biden, who was perceived as a far stronger front-runner before he entered the race earlier this year. But both men are untested among the broader electorate. The filing deadlines to get on key state ballots this week appear to have forced the hand of Bloomberg and Patrick, who could face a major disadvantage if they miss the chance to compete in all 50 states, particularly if the race devolves into a prolonged delegate fight. Last week Bloomberg\\'s team filed the paperwork needed to get on the primary ballot in Alabama. (Patrick missed the deadlines in Alabama and appears to have missed Arkansas\\'). Bloomberg\\'s adviser Howard Wolfson told CNN in a statement last week that Bloomberg plans to skip the first four primary contests. \"If we run, we are confident we can win in states voting on Super Tuesday and beyond, where we will start on an even footing,\" Wolfson said. On Tuesday in Arkansas, Bloomberg told a gaggle of reporters he was \"still exploring what we\\'re going to do\" and deflected questions about Biden\\'s strength as a candidate, calling him \"a very nice guy.\"  \"I\\'ve known him for a long time, and if you want to know about Joe Biden, you\\'ve got to talk to Joe Biden. He\\'s running his campaign, I\\'m running mine and one thing doesn\\'t necessarily have anything to do with another,\" Bloomberg told reporters. \"All I\\'ve got to do is -- if I run -- explain to people what I think is wrong with this country, and how I would fix it. And then the public can make a decision,\" the former New York mayor said. \"I\\'ve been more and more upset with what\\'s going on here,\" he said. \"We don\\'t talk to each other. We don\\'t work together. There\\'s a lack of honesty and civility. That is not good for our country, and I\\'ve got two daughters and two grandkids that I care about. And I\\'d like to do something about it, whether it\\'s running for president or something else.\" © 2019 Cable News Network. Turner Broadcasting System, Inc. All Rights Reserved. Listen to CNN (low-bandwidth usage) Go to the full CNN experience',\n",
       " 'Most important takeaways from the first day of public impeachment hearings (CNN) - The House Intelligence Committee opened historic impeachment hearings Wednesday to investigate whether President Donald Trump (and his allies) abused his office in an attempt to strong-arm Ukraine into opening an inquiry into his political rival, former Vice President Joe Biden. I monitored the highly anticipated -- and hugely high-stakes -- hearing as it happened. Below, my thoughts on the biggest moments of the day. Adam Schiff appeals to history -- and the future Intelligence Committee Chairman Adam Schiff\\'s opening statement had a very clear message: These hearings aren\\'t about just Trump. They\\'re about how the presidency functions (and should function) within our democracy -- and about the checks and balances between the legislative and executive branches built into the Constitution. \"Our answer to these questions will affect not only the future of this presidency, but the future of the presidency itself, and what kind of conduct or misconduct the American people may come to expect from their commander-in-chief,\" said Schiff at one point. At another, citing the Trump\\'s administration\\'s refusal to allow its senior officials to testify before Congress, Schiff said such a move \"is not what the Founders intended,\" adding: \"The prospects for further corruption and abuse of power, in this administration or another, will be exponentially increased.\" In closing, Schiff asked, \"Is that what Americans should now expect from their President? If this is not impeachable conduct, what is? Does the oath of office itself -- requiring that our laws be faithfully executed, that our President defend a Constitution that balances the powers of its branches, setting ambition against ambition so that we become no monarchy -- still have meaning?\" The goal of Schiff\\'s repeated invocations of history -- he mentioned the Founders twice and the Constitution three times -- was to cast these hearings less as a partisan effort directed at Trump and more as a necessary defense of the democratic principles on which the country was founded. This isn\\'t about Trump or even a particular political party, Schiff was saying. This is about how we want our government to work -- and not work. It seems unlikely that Schiff\\'s appeal to history will sway many people on the committee. Even before he began speaking, Republicans had put signs behind the dais criticizing the proceedings. Devin Nunes turns it up to 11 If Schiff tried to ground the hearings in history, California Rep. Devin Nunes, the highest-ranking Republican on the Intelligence Committee, sought to go the gonzo route.  He called the hearings a \"pitiful finale\" to Democratic attempts to overturn the results of the 2016 election.  He described the closed-door testimony offered by Ukraine witnesses a \"cult-like atmosphere.\"  He suggested that the whistleblower \"was known to have a bias against President Trump.\" He derided the \"impeachment sham.\" He called the proceedings a \"Star Chamber.\" He dismissed the investigation as a \"low-rent Ukrainian sequel\" to the Mueller investigation. Nowhere that I could tell did Nunes actually, you know, address the July 25 transcript between Trump and Ukrainian President Volodymyr Zelensky. Or the facts presented by the witnesses called by House investigators. Bill Taylor\\'s opening statement is a wow Taylor, the top US official in Ukraine, delivered a tour-de-force opening statement -- packed with details about the formation of an \"irregular\" channel (led by personal lawyer Rudy Giuliani) with Ukraine that often ran directly counter to his own regular channel and longstanding US policy in the region.   Taylor also laid out an excruciatingly specific timeline of his interactions with, among others, National Security Adviser John Bolton, US Ambassador to the European Union Gordon Sondland and top Ukrainian officials. In that timeline, he repeatedly made clear that there was a not-very-quiet understanding that military aid from the US to Ukraine was being withheld unless and until the country announced an investigation into Burisma Holdings, a Ukrainian natural gas company where Hunter Biden, the former vice president\\'s son, sat on the board. Most stunningly, Taylor recounted an episode that he was told about only after his September 22 closed-door testimony involving Sondland. According to Taylor, Sondland met with a top aide to Zelensky on July 26 -- one day after the fateful call between Trump and Zelensky. Sondland then called Trump and informed him of the nature of the meeting and an aide to Taylor heard Trump ask of \"the investigations.\" Following that call, the Taylor aide asked Sondland what Trump\\'s thoughts were on Ukraine. Sondland replied that Trump cares more about the Biden investigation than anything else. Which, wow. The geopolitical impact of Trump\\'s approach to Ukraine While the focus of Wednesday\\'s hearing -- from members of Congress at least -- is what Trump (and his allies) did in regard to Ukraine and the Bidens, both Taylor and George Kent, a State Department official, repeatedly expressed their concerns about the impact of withholding military aid to the country.  Taylor noted that he had traveled to the Donbass region in eastern Ukraine and had seen, directly, the impact of the nearly $400 million in withheld American military aid for the country in its ongoing fight against Russian incursions. Kent, similarly, sought to emphasize how critical Ukraine -- and America\\'s support for Ukraine -- was in the ongoing efforts to limit Russia\\'s advancement in the region. (Russia annexed Crimea, a Ukrainian territory, in 2014.) The genuine concern expressed by Taylor and Kent is a startling reminder that the pressure campaign organized by the White House had, to these longtime diplomats\\' minds, real-world implications not just for Ukraine but for the United States\\' interests in the region -- and specifically in its dealings with Russia. In short: This wasn\\'t just about Trump getting what he wanted on the Bidens from Ukraine. This had real reverberations in American geopolitics. Taylor says none of this was normal One of Republicans\\' biggest talking points going into these impeachment hearings was that nothing Trump did in his call with Zelensky was outside the normal operating procedures of a President negotiating with a foreign leader. \"We do that all that time with foreign policy,\" acting White House chief of staff Mick Mulvaney said last month, adding, \"Get over it.\" Taylor was clear on Wednesday that he did not agree with the Republican view on this. \"It\\'s one thing to try to leverage a meeting in the White House,\" said Taylor. \"It\\'s another thing -- I thought -- to try to leverage security assistance. ... It\\'s much more alarming.\" Partisans will take the side that affirms their view. But remember that Taylor is a longtime diplomat serving under both Democratic and Republican presidents. And that Mulvaney is, well, not. Nunes pushed a debunked Ukraine conspiracy theory Opening his questions to Kent and Taylor in the early afternoon, Nunes detailed a widely debunked conspiracy theory that, somehow, the Ukrainians were involved in working to aid Democratic nominee Hillary Clinton\\'s 2016 campaign and that the country might have possession of the hacked Democratic National Committee\\'s server. (The President brought up this same conspiracy theory during his July 25 call with Zelensky.) To be clear: There is no evidence that Ukraine played any role in the 2016 US presidential election. Kent said as much during his testimony -- under oath -- earlier on Wednesday. Former National Security Council Russia expert Fiona Hill said the same during her closed-door testimony to House investigators.  And former White House homeland security adviser Tom Bossert summed it up to ABC\\'s George Stephanopoulos this way in late September: \"It is completely debunked ... I am deeply frustrated with what [Giuliani] and the legal team is doing and repeating that debunked theory to the president. It sticks in his mind when he hears it over and over again, and for clarity here, George, let me just again repeat that it has no validity.\" So, no, Devin Nunes. Republicans\\' main talking point: Yawn There\\'s a very clear effort by prominent Republicans to paint this impeachment hearing as a big nothingburger. \"This sham hearing is not only boring, it is a colossal waste of taxpayer time & money,\" tweeted White House press secretary Stephanie Grisham.\"This is horribly boring... #Snoozefest,\" tweeted Eric Trump. And North Carolina Rep. Mark Meadows, a close White House ally, told CNN\\'s Lauren Fox: \"I don\\'t know about you but it\\'s hard for me to stay awake and listen to all of this.\" The similarity in language is, well, not an accident. It\\'s obvious that Republicans believe their best way to get through all of this is to say that it\\'s all boring and a bunch of details that only nerds care about.  Will it work? For the base, yes. For the rest of the country? I doubt it. Jim Jordan showcases his patented interviewing style House Republicans so value Ohio Rep. Jim Jordan -- and his ability to score points in congressional hearings -- that they added him to the Intelligence Committee just days before Wednesday\\'s hearing. And Jordan did his thing. He spoke fast. He interrupted. He snarked. (\"You\\'re their star witness?\" Jordan sarcastically asked Taylor. \"I\\'ve seen church prayer chains that are easier to understand than this.\") The goal of all of this -- as it always is with Jordan -- is to make witnesses look unsure and unsteady. (When you talk really fast and then push the witness to immediately respond in a single-word answer, it tends to have that effect.)  Did it work with Taylor? There were a few \"ums and \"ahs\" from the ambassador, but he stuck to his story. Republicans say Ukraine never did what Trump asked, so... One of the main thrusts of the GOP argument against the testimony of Taylor and Kent is that, for all of their concerns about what Trump asked of Zelensky, the nearly $400 million in military aid was released in September -- even without Ukraine making any public statement about its plans to investigate the Bidens. Jordan hit on the nothing-actually-happened line. As did Texas Rep. John Ratcliffe. As did New York Rep. Elise Stefanik. But context matters. Right around the time that the aid was released fully -- September 11 -- Congress had begun to ask questions (on a bipartisan basis) about why the aid was being withheld. And there was already talk about a whistleblower complaint, which had been formally filed on August 11, alleging wrongdoing by Trump on that call with Zelensky among other things. That timing suggests that the argument being made by Jordan and other Republicans isn\\'t as conclusive as they want it to seem. © 2019 Cable News Network. Turner Broadcasting System, Inc. All Rights Reserved. Listen to CNN (low-bandwidth usage) Go to the full CNN experience',\n",
       " 'How I became an all-American Muslim girl Editor\\'s Note: Nadine Jolie Courtney is the author of the novel \"All-American Muslim Girl.\" Her writing has appeared in Angeleno, O: The Oprah Magazine, Architectural Digest, Town & Country and elsewhere. The views expressed here are hers. Read more opinion on CNN.  (CNN) - On January 27th, 2017, after President Donald Trump issued an executive order banning entry to the US by citizens of seven Muslim-majority countries (and indefinitely halting refugees from Syria), thousands of protesters stormed John F. Kennedy airport in New York City, and other airports around the country, proclaiming their solidarity with Muslims. Countless more, I among them, watched on television as the events unfolded. It was a watershed moment for American Muslims like me, who had grown up believing that people would judge us for our religion. The sky was blue, water was wet, and other Americans looked down on Islam. These were facts we internalized. It\\'s why for most of my life, I\\'ve lived as a white-passing, mixed-raced Muslim: green eyes, blonde hair, fair skin. Despite my father\\'s Middle Eastern and Asian ancestry, I look a lot like my white, Catholic-born mother: the basic girl-next-door. But for me, the day Trump instituted the travel ban and Americans from all walks of life fought back against it was doubly profound: it\\'s the day I stopped hiding. It\\'s the day I re-opened the word document on my computer and started writing the personal story I\\'d been too afraid to explore for 10 years. It\\'s the day I officially began writing my novel \"All-American Muslim Girl\" -- about Islamophobia, white privilege, identity and erasure.  Because of my appearance, the Islamophobia I\\'ve experienced over the years is very different from that of my Muslim cousins, aunts and friends. People don\\'t stare at me at the grocery store or make comments about my appearance or lack of hijab while I\\'m working out. I don\\'t get told in parking lots to \"go back where I came from.\" I\\'ve never had somebody yell \"Allahu akbar!\" at me in the hallway at school. All of these things have happened to people I love. Unlike them, I almost never feel in danger because of my religion.   Instead, I\\'m subject to microaggressions: people\\'s jaws dropping when they find out I\\'m Muslim. Incredulous comments like, \"You? But you look so American!\" -- as if Muslims can\\'t be Americans, too. People staring at me quizzically, asking of my heritage, \"So, like...what are you?\" And, of course, the endless questions about whether I pray, whether I drink, whether I eat bacon, whether I support various international policies -- as if they\\'re trying to figure out whether they can trust me. It\\'s not just the comments. When I was in elementary school, in the thick of years spent keeping my family\\'s religion silent — a privilege obviously afforded to us by virtue of pale skin, stemming from my father\\'s Circassian heritage -- my best friend\\'s family didn\\'t know we were Muslims. Soon after my friend\\'s mother found out, my friend sheepishly told me I was no longer able to come over to her house. But why? I hadn\\'t done anything wrong: had never been impolite, had never broken anything or raised my voice. My friend shrugged, unable to provide an answer. Her mom just didn\\'t feel comfortable having me over any longer. Years of hiding has produced a tension between the two sides of myself: the side who \"came out\" after the Muslim ban and started enthusiastically, publicly claiming my \"Muslimness\"...and the side that had built a life where people were completely unaware of my religion, my heritage, and family, and the fact that, yes, I do actually pray every day. Yes, in Arabic. When those people -- the ones who I work with, who I regularly but casually chat with in the world — find out about the title of my book, I typically dread the reaction. It\\'s always the same: \"But...you\\'re not Muslim, right?\" Before writing the book, my father\\'s words would always ring in my ears: \"People will treat you differently if they know you\\'re Muslim...\" But I wanted people to know I was a Muslim. I\\'m proud of my heritage, and I feel honored to practice such a beautiful -- if wildly misunderstood -- religion.  My novel debunks myths about Islam by gently educating people — through the eyes of a young white-passing 16-year-old who is exploring her family\\'s religion herself for the first time -- but it was important to me not to \"justify\" the religion for Western eyes.  Ironically, after I started publicly identifying as Muslim, I was especially nervous about the reaction of the Muslim community. After all, I don\\'t wear a hijab, I\\'ve enjoyed many a bottle of Cabernet in my time, I rarely attend mosque and my mother-in-law is even an Episcopalian nun. (That\\'s a different story for another time.) Forget my appearance: my lifestyle disqualified me from being seen as a good Muslim.  But then I realized I was falling into my own trap: the idea that Muslims are a monolith, and the idea that it\\'s okay for anybody to believe that because you\\'re a Muslim, you can only be one way.   There is no such thing as One Muslim. We are the world\\'s second-largest religion, and that includes Muslims of every nationality, skin color, ethnicity, lifestyle and background -- yes, even basic American girls. The worry that you\\'re not \"good enough\" is a pervasive one, and as I\\'ve formed bonds with Muslim sisters outside of my family, I\\'ve realized I\\'m not the only one who struggles with feeling caught between two worlds or who desperately wants to be accepted for who she is. Luckily, the support from the Muslim community for my book -- and for me -- has been heartening and wonderfully overwhelming. So, yes, I\\'m an all-American Muslim Girl. I know the lyrics to every Pearl Jam song, and I pray multiple times a day. I choose not to wear hijab, and I choose to eat as much of my Amto\\'s koosa as I can fit into my stomach when I\\'m home visiting family. Like my Muslim sisters, I am complex, and I am empowered and I adore my religion. I am enough, exactly as I am.  © 2019 Cable News Network. Turner Broadcasting System, Inc. All Rights Reserved. Listen to CNN (low-bandwidth usage) Go to the full CNN experience',\n",
       " 'Fox\\'s prime time stars are telling Trump that the impeachment hearings are a \\'disaster\\' for Democrats New York  (CNN Business) - A version of this article first appeared in the \"Reliable Sources\" newsletter. You can sign up for free right here. I wanted to know what President Trump was hearing about day one of the televised impeachment hearings. So I decided to mute all my other TVs and just watch Fox News on Wednesday night. I heard White House press secretary Stephanie Grisham say that \"today was a joke.\" I heard Donald Trump Jr. say \"it\\'s insanity.\" I heard Jeff Sessions ask, \"Where\\'s the beef?\" Here\\'s how I would sum up everything I heard from Fox\\'s prime time hosts: Wednesday\\'s hearing was a bust. It was all just hearsay. It was a \"disaster\" for the Democrats and a \"great day\" for the Republicans. Impeachment is \"stupid.\" Impeachment is \"fake.\" There\\'s nothing impeachable here. There\\'s no reason to hold hearings. This inquiry needs to stop right now. The message was one-sided and overwhelming. Every host and practically every guest said the Republican tribe is winning and the Democrat tribe is losing. I\\'m sure the president loved watching every minute of it. That\\'s one of the reasons why this right-wing rhetoric matters so much -- because it is reassuring and emboldening Trump.  I decided to write it all down because of something that CNN\\'s Oliver Darcy wrote earlier in the day. \"Don\\'t expect viewers, listeners, and readers of right-wing media to walk away from Wednesday\\'s impeachment hearings with a different opinion of President Trump\\'s behavior,\" Darcy said. \"In fact, it\\'s possible they might be more convinced than ever that Trump did nothing wrong. Why? Because right-wing media has largely -- and unsurprisingly -- focused on the moments in the hearing favorable to its preferred narrative.\" He was right. Here\\'s what Fox News viewers heard on Wednesday night...   Tucker: \"MEDIA MELTDOWN\" On the OTHER cable news channels, 8 p.m. host Tucker Carlson said, \"it was like Christmas and New Year\\'s and the Super Bowl all put together.\" Carlson seemed reluctant to cover Wednesday\\'s news, calling the hearings \"stupid\" and the importance of the impeachment inquiry \"questionable.\" Grisham called it a \"joke\" while others made jokes — Christian Whiton said witnesses Bill Taylor and George Kent, both veteran public servants with impressive resumes, \"looked like people who sat by themselves at recess.\" It didn\\'t end there. The witnesses were insulted all evening long. And Grisham said foreign service officials who are resisting Trump\\'s policies should resign. Later in the hour, Carlson mocked news outlets for taking this once-in-a-generation impeachment inquiry seriously. \"The media went completely bonkers today,\" he said, while the on-screen graphic alleged a \"MEDIA MELTDOWN.\" He agreed with his guest Larry O\\'Connor, who said America doesn\\'t have a free press because the press is made up of \"political activists.\" Both speakers, by the way, are political activists, and the press IS free. A few minutes later, Trish Regan on the Fox Business Network ran a similar media-bashing segment. At one point her banner just said \"RPT: LIBERAL MEDIA ANTI-TRUMP BIAS,\" which is just a string of triggering words selected to keep Regan\\'s viewers angry and attentive. But I digress. Back to Fox News. Carlson wrapped his hour by calling the city where he lives, Washington, D.C., \"a city in the grip of insanity.\" Then he handed off to Sean Hannity...   Hannity: Shut this down! Hannity dubbed day one \"THE WORST SHOW ON EARTH.\" He said the Democrats are \"a national disgrace.\" He said they are guilty of \"an abuse of their power.\" (This is a classic case of \"I know you are but what am I,\" flipping the charge against Trump back on his accusers.) The Democrats are \"corrupt idiots\" who look \"dumb, bad, stupid, and shallow\" after Wednesday\\'s \"sham hearing,\" he said. House Intelligence Committee chair Adam Schiff? A \"congenital liar.\" Wednesday\\'s witnesses? Just \"self-important, uncompelling\" bureaucrats. The hearing was so bad, Hannity said, that \"I\\'m not so sure\" that all the House Democrats will vote for impeachment. \"It was that bad a day for them.\" But even though the day was \"a disaster for Democrats,\" and \"the Republicans had a great day all the way around,\" Hannity said \"this circus, this sham, this charade\" should be \"shut down immediately\" for \"the sake of the country.\"  As for Hannity\\'s guests, well, Mark Levin called Schiff \"an incompetent left-wing boob\" and likened the witnesses to \"two homeless guys.\" Donald Trump Jr. said \"everything was hearsay\" from \"career government bureaucrats.\" Steve Scalise said \"a lot\" of Democrats are worried about impeachment backfiring. Which brings me to the 10 p.m. hour...   Ed Henry shares hearsay  Laura Ingraham, like her prime time colleagues, criticized Democrats for promoting \"hearsay\" from witnesses who have never spoken directly with the president. Ingraham also welcomed Fox\\'s chief national correspondent Ed Henry, who said he had been working the phones on Capitol Hill. Henry said he spoke to \"three senior Republicans\" who told him that THEY were talking to Democrats who were \"absolutely deflated\" by Wednesday\\'s hearing. So... in other words... hearsay. Second-hand information. Then, as if to back up the \"deflated\" claim, Henry quoted what a Dem aide told the Washington Post: \"The onus is on us to wow some people this week.\" But that quote came out before Wednesday\\'s hearing, so it did not prove his point.   Ingraham\\'s angle These banners summed up Fox\\'s 10 p.m. hour: \"DEMOCRATS\\' STAR WITNESSES BURN OUT\" and \"DEMS\\' IMPEACHMENT COLLAPSE.\" Ingraham asserted that impeachment is a \"cataclysmic mistake\" for the other party -- after just one day of televised testimony. One of her guests, Republican congressman Chris Stewart, said \"it was really just a huge dud\" and \"there just wasn\\'t any surprises or any bombshells,\" even though there was, in fact, a big surprise: Taylor\\'s disclosure about a July 26 phone call with Gordon Sondland. Later in the day, Trump claimed \"I\\'ve never heard\" of that call. Pretty soon we\\'ll know whether or not that was a lie. But that new disclosure barely came up during Fox\\'s prime time shows. Another GOP lawmaker, Mark Meadows, told Ingraham that Wednesday was \"a swing and a miss for the Democrats.\" And he accused the witnesses of having a \"Ukraine first,\" not \"America first,\" sentiment. At one point in the hour, when Fox\\'s banner said the \"IMPEACHMENT STUNT WILL HAUNT 2020 DEMS,\" I looked up at MSNBC and saw a banner that said \"REPUBLICANS SCRAMBLE TO DEFEND TRUMP AS NEW EVIDENCE TIES TRUMP MORE DIRECTLY TO UKRAINE PUSH.\" Maybe Republican lawmakers are \"scrambling\" to defend Trump, but right-wing TV and radio hosts aren\\'t scrambling at all. They\\'re sounding very confident. Now, maybe that\\'s just part of the performance, part of the act -- But Fox\\'s stars on Wednesday night were much more effective than some of the GOP questioners at the hearing. They\\'re not talking about the evidence of extortion -- they\\'re talking about bitter Dems and brave Republicans and ensuring the audience that the process will hurt the Dems in 2020...   Notes and quotes  -- Try to square Fox\\'s prime time talking points with \"Fox News Sunday\" moderator Chris Wallace\\'s midday assessment: \"I think that William Taylor was a very impressive witness and was very damaging to the president...\" (The Hill)  -- This Lou Dobbs segment is sparking outrage on social media: \"The husband-and-wife Trump defense team of Joe diGenova and Victoria Toensing\" pushed \"an outlandish conspiracy theory about Ukraine, baselessly alleging that left-wing billionaire George Soros \\'controls a large part of the foreign service part of the State Department and the activities of FBI agents overseas...\\'\" (Mediaite)  -- \"The Republican playbook here is a time-honored one: delay, deny, obfuscate, and, if that fails, beg Americans to turn off the TV,\" Susan Glasser writes... (New Yorker)  -- Via Frank Pallotta, here\\'s how the late-night shows covered day one. Birthday boy Jimmy Kimmel said he \"got exactly what I wanted this year\" thanks to the hearings... (CNN)   Darcy\\'s bottom line... Oliver Darcy writes: All day long, pro-Trump websites hyped clips of GOP stars like Jim Jordan and Devin Nunes \"eviscerating\" or \"destroying\" their opponents. THOSE were the moments that generated focus -- not the instances when Taylor or Kent shed new light on the Ukraine scandal. And after the hearings wrapped, Trump\\'s defenders in media dismissed the hearings as \"boring\" and a bust for the Democrats. If you were watching the hearing through the lens of the right-wing media, you probably didn\\'t see a case against the president being built. You probably walked away thinking the Democrats\\' case collapsed... © 2019 Cable News Network. Turner Broadcasting System, Inc. All Rights Reserved. Listen to CNN (low-bandwidth usage) Go to the full CNN experience',\n",
       " 'Marine deserter wanted for murder spotted in Roanoke, Virginia, prompting a school shutdown (CNN) - The manhunt for a Marine deserter wanted for murder led Roanoke, Virginia, police to shut down all schools in the city on Thursday.  Authorities received a call about 4 a.m. regarding a sighting of Michael Alexander Brown, 22, who is suspected of killing his mother\\'s boyfriend last week in the town of Hardy, about 9 miles east of Roanoke. The caller told investigators that a man in a black jacket was tapping on a window at Brown\\'s grandmother\\'s house, Roanoke police Chief Tim Jones said. Officers responded and were \"able to confirm to the best of our ability that it was Mr. Brown,\" he said. While the search continued into the evening, officials said classes will resume Friday. He switched vehicles, police say Though Franklin County authorities said earlier this week that Brown was driving a 2008 Lincoln Town Car, Jones said Brown was believed to be driving an RV in Roanoke. The RV, located nearby, was secured by a tactical team, he said. Brown was believed to be on foot, perhaps looking for another vehicle, Jones said. In addition to asking Roanoke students, faculty and staff not to report to school Thursday, police also wanted anyone who lives within a half mile of Patrick Henry High School on Grandin Road to shelter in place and keep their doors locked. That shelter request was later lifted. \"We continue to urge residents to remain vigilant and report any suspicious activity. Remember to lock your vehicles and your homes,\" police said in a Thursday evening statement. \"The search for Brown continues tonight.\" For residents who must travel, Jones asked that they be vigilant, travel in pairs and avoid the area around the high school as Brown may be looking for \"other opportunities to go mobile again,\" Jones said. Did family bring him to Roanoke? Brown deserted his post at Camp Lejeune in North Carolina last month, police said.  Around noon Saturday, the Franklin County Sheriff\\'s Office responded to a shooting call in Hardy, where they found Rodney Brown, 54, dead in his home, authorities said.  Rodney Brown\\'s girlfriend -- who is Michael Brown\\'s mother -- called police after finding Rodney\\'s body in the house, said Capt. Phillip Young with the sheriff\\'s office. Michael Brown is charged with second-degree murder and using a firearm in the commission of a felony. The motive in the killing is unclear.  He is considered dangerous and may be armed with a \"shoulder-held, high-capacity weapon,\" Jones said. He has family ties in the Roanoke area, the chief said, but Brown is believed to be operating on his own, with no accomplices.  The Franklin County Sheriff\\'s Office warned the public Monday that Brown was armed with a high-powered firearm and possibly other weapons.  He is known to frequent national parks and forests, and he may be living in the woods, the sheriff\\'s office said this week.  \"We are receiving intelligence that he was in transit yesterday and was seen in several areas outside the Roanoke Valley,\" Jones said. \"I think family is what brought him here. We hope family can appeal to him.\" Police: Be on the lookout, but be careful Anyone who sees him should use caution and call police. Brown is about 6 feet tall and 154 pounds and has brown hair and blue eyes, police said.  Jones described Brown as a \"military-trained veteran (who) knows how to navigate avenues of approach and escape, and to maneuver his way around various types of terrain.\" \"He is navigationally savvy,\" the chief said. \"He\\'s not afraid to change his location. He\\'s not afraid to change his look.\" The US Marshals Service is offering a $10,000 reward for information leading to Brown\\'s apprehension, Jones said. State authorities, the FBI and the Bureau of Alcohol, Tobacco Firearms and Explosives are also assisting in the search.  Asked whether he had a message for Brown, Jones said, \"I\\'d like him to know that he needs to contact us so that we can make arrangements and he can turn himself in. \"We can do this the easy way. ... He may at this point and time feel like he has run out of alternatives, but he does have alternatives.\" © 2019 Cable News Network. Turner Broadcasting System, Inc. All Rights Reserved. Listen to CNN (low-bandwidth usage) Go to the full CNN experience',\n",
       " 'Trump Organization explores selling DC hotel (CNN) - The Trump Organization is considering selling its three-year-old hotel in downtown Washington, DC, that\\'s been a focus of ongoing complaints that Donald Trump is profiting off his role as President. Eric Trump, the President\\'s son and executive vice president of The Trump Organization, said the company has hired real estate firm JLL to assist the possible sale of the Trump International Hotel. \"Since we opened our doors, we have received tremendous interest in this hotel and as real estate developers, we are always willing to explore our options,\" Eric Trump said in a statement.   No asking price was floated, but it is likely to be expensive. The hotel is in the Old Post Office building, a federally owned property on Pennsylvania Avenue between the White House and Capitol building, and has been a source of controversy since Trump took office in 2017. The President has reported earning $80 million in revenue from the hotel while in office, according to his personal financial reports. Several lawsuits have been filed accusing Trump of violating the Constitution\\'s emolument clause. Although Trump resigned from his companies before taking office, he transferred his assets into a trust. This arrangement allows him to benefit financially from those businesses, including the DC hotel. \"People are objecting to us making so much money on the hotel and therefore we may be willing to sell,\" Eric Trump said. His statement did not list profit figures. A federal court recently revived a lawsuit from the District of Columbia and Maryland, who say the Trump property has harmed Washington hotels and other businesses the states partially own.  The House Transportation Committee this week issued a subpoena for documents on the lease from General Services Administration. \"The American people have a right to know whether the President of the United States, who is serving as both the landlord and tenant of the Old Post Office Building, is violating the Emoluments Clauses of the US Constitution to enrich himself,\" said Committee Chairman Peter DeFazio, D-Oregon. After news broke that the hotel might be for sale soon, DeFazio responded in a statement: \"Removing the Trump Organization from the lease of a taxpayer-owned building is a good place to start to ensure President Trump isn\\'t making a profit as both landlord and tenant of the Old Post Office Building, but ... I\\'m skeptical that this latest development isn\\'t an attempt to make a massive profit that directly benefits the Trump family so I will be following this marketing attempt closely.\" The GSA did not immediately respond to a request for comment. The Wall Street Journal first reported the possible sale.  Earlier this year, the inspector general of the General Services Administration said the agency \"ignored the Constitution\" when deciding to maintain the lease of the building to the hotel after he was elected to the White House. The Trump Organization won the contract in 2012 and the hotel opened in 2016. © 2019 Cable News Network. Turner Broadcasting System, Inc. All Rights Reserved. Listen to CNN (low-bandwidth usage) Go to the full CNN experience',\n",
       " 'Alicia Keys will return as host of the Grammy Awards in 2020 (CNN) - Alicia Keys is hosting the Grammy Awards again next year. Her 2020 return for the 62nd Annual Grammys puts her in rare company after she became the first female to host the awards in 14 years. Before that, the last woman was Queen Latifah in 2005. \"At first, I did think last year was a one-time thing, but when the opportunity came back around, there was no question about returning as host,\" Keys told Billboard in a statement. \"Last year was such a powerful experience for me. Not only did I feel the love in the room, but I felt it from around the world and it confirmed the healing and unifying power of music.\" The show will take take place on January 26 at the Staples Center in Los Angeles. This year, Keys said her status as a regular award receiver helped with her hosting duties. \"I know what it feels like to be on that stage, and I\\'m going to bring that vibe and energy,\" the entertainer said. On Wednesday, Keys had some fun with the announcement, posting a video of herself as the current Alicia Keys discussing hosting with Alicia Keys from February 2019. \"The people wanna know: How ya gonna top this Alicia, c\\'mon!,\" last year\\'s version of Keys says in the video.  © 2019 Cable News Network. Turner Broadcasting System, Inc. All Rights Reserved. Listen to CNN (low-bandwidth usage) Go to the full CNN experience',\n",
       " 'Unlike Trump Ukraine scandal, no one died at Watergate Editor\\'s Note: Paul Callan is a CNN legal analyst, a former New York homicide prosecutor and of counsel to the New York law firm of Edelman & Edelman PC, focusing on wrongful conviction and civil rights cases. Follow him on Twitter @paulcallan. The opinions expressed in this commentary are his own. View more opinion on CNN. (CNN) - Prosecutors in serious criminal cases like to start strong and finish strong to bring home a guilty verdict. They have to grab the attention of the jury before defense attorneys sully the water.  Former federal prosecutor and Harvard Law grad, House Intelligence Committee Chair Adam Schiff, successfully executed the first part of this strategy, making a compelling case against President Donald Trump in a carefully crafted and smoothly delivered opening statement. He successfully brushed aside an assortment of \"points of order\" and other parliamentary procedure stalling tactics which were employed by the minority Republicans to disrupt the flow of the proceedings.   He also hinted at a surprise. The real case against President Trump may rest on \"abuse of power\" as charged in prior impeachment cases. This relates to the President\\'s defiance of congressional subpoenas and his willful refusal to cooperate with lawful congressional investigations. Such actions may violate the Constitution\\'s requirement of checks and balances between the three branches of government. After all, the founding fathers had just fought the Revolutionary War to curb tyranny and none of them wanted a tyrannical president.  The abuse charge provides a good backup impeachment theory if the Ukraine allegations fail to resonate in the Republican-majority Senate. Republicans should fear that a tyrannical Trump may someday be followed by an equally tyrannical Democrat. Or maybe they enjoy being slapped around by the executive branch of government.   Mr. Schiff also followed another rule employed by respected trial attorneys. They never \"overpromise.\" Schiff accomplished this task, delivering a non-inflammatory but carefully constructed explanation of how the President allegedly abused his power by using $400 million of American military aid to Ukraine as his own personal weapon in an attempt to destroy his political opponent, Joe Biden. Schiff then proceeded to swear in two witnesses who would testify together. They were US chargé d\\'affaires in Ukraine, Ambassador Bill Taylor, and Deputy Assistant Secretary of State for European and Eurasian Affairs George Kent. Throughout the hearing, Kent remained relatively silent while Taylor, a gray-haired, distinguished diplomat right out of central casting did the heavy lifting. Taylor explained in somber but sometimes colorful detail the bizarre backdoor channel to Ukraine designed by Trump and his minister -- without any portfolio whatsoever -- Rudy Giuliani. The purpose of this back channel was to use Giuliani and a pair of Trump appointees rather than the so-called \"Deep State\" professional diplomats who Mr. Trump distrusts, to convey an ominous warning to Ukrainian President Volodymyr Zelensky. The message in substance: \"No Biden investigation, no $400 million in military aid.\" The announcement would be made in an interview on Trump\\'s most vilified network, CNN.   Taylor\\'s testimony revealed that in visits to Ukraine\\'s Donbass front he was told that at least one or two Ukrainians were dying every day in a hot war with Russia for control of the Ukrainian coal production region. American aid was desperately needed, and delay meant death to Ukraine\\'s soldiers. The conclusion any reasonable person would draw from such testimony is that the President\\'s threats and the actual withholding of aid was aiding and abetting Russia. It was also causing the death of brave Ukrainians, American allies defending their homeland. All of this so Trump can beat Biden in the next presidential election. In some respects, it actually sounds far worse than Richard Nixon throwing a few dollars to the Watergate burglars and then elaborately covering it up. No one died as a result of Nixon\\'s theoretically impeachable offenses. In contrast, testimony on Day 1 of the House impeachment hearing suggested that American professional diplomats feared that Trump\\'s delay in the disbursement of Ukraine\\'s $400 million in military aid could telegraph a lack of American commitment, creating the real potential to cost the lives of Ukrainian soldiers by encouraging Russian aggression. Unfortunately for the Democrats, their case against the President began to fade as Republicans successfully muddied the water throughout the afternoon. They posed questions suggesting that any presidential effort to steer the Ukrainian criminal investigations were legitimate efforts to expose what they claimed was Ukrainian sabotage of the 2016 American presidential election, citing a theory that has been debunked. (Even a former Trump official has acknowledged it had no merit.)  The Steele Dossier raised its ugly head, as did the prosecution of Paul Manafort. The Republican questions were designed to remind Americans of the perfectly legal and abundantly funded Mueller/Russia investigation which haunted the first half of the Trump presidency.  And why was Hunter Biden reportedly being paid $50,000 a month by Ukraine\\'s largest energy company, Burisma, when he didn\\'t even reside in Ukraine or have an extensive background in the energy business?  And why was his father constantly traveling to Ukraine and demanding the firing of a prosecutor investigating Burisma and maybe Hunter? Congressional questions require no supporting evidence, and none was provided. In fact, no evidence has surfaced of wrongdoing by Joe or Hunter Biden in this matter. The Republican point:  If it was proper to spend millions of dollars to investigate Russian efforts to influence the American election, how can it be an impeachable offense to compel Ukrainian cooperation in an investigation of the very same subject. And if the investigations link to Biden corruption, all the better. Those carefully prepared and distinguished \"central casting\" diplomats Taylor and Kent started to look flustered and confused since they knew nothing about the unrelated topics that Republicans like Jim Jordan threw angrily into the conspiracy questions pot. Any real American courtroom would overrule his wandering conspiracy-themed questions as not relevant to the direct testimony of the witnesses or even within their knowledge. Courts also prohibit witness speculation. But this is Congress on television and not a court of law, and as congressional cross examination goes, Jordan did a great job in establishing that virtually all the evidence produced by Taylor and Kent was classic hearsay. Like Trump, he would be entertaining on\"The Apprentice,\"  though as potential competition to Trump, he would soon be fired. There was one new testimonial nugget revealed at the first hearing. Taylor revealed that Tim Morrison, then a National Security Council official, allegedly learned of a conversation between the US Ambassador to the European Union Gordon Sondland and the President, in which Trump insisted that Zelensky publicly announce that he was beginning investigations of \"Biden and 2016 election interference.\"     This snippet is hearsay, and though Jordan and his Republican colleagues were happy to remind Schiff earlier in the day that the \"Federal Rules of Evidence\" do not apply to congressional hearings, this time they wanted the hearsay thrown out.  Having no rules of evidence in place permitted Republicans to pontificate conspiracy theories in confusing speeches posing as questions. Such repeated conduct would lead to a contempt citation in any American courtroom. But the Republicans favor strict enforcement of the hearsay rule only when it helps their case. This enables them to say the information about a direct connection to Trump is \"inadmissible\" hearsay.    Congressman Jordan should have a look at Federal Rule of Evidence 802. He will discover that the actual hearsay rule doesn\\'t apply to congressional hearings. The Sondland snippet is admissible as is most of the other testimony linking the President to the \"quid pro quo,\" which we will be hearing a lot more about as the hearings proceed. Or maybe it will all come down to multiple counts of abuse of power, but there is still a long and winding road to travel as the hearings continue. © 2019 Cable News Network. Turner Broadcasting System, Inc. All Rights Reserved. Listen to CNN (low-bandwidth usage) Go to the full CNN experience',\n",
       " 'Two teens are dead after a 16-year-old gunman shot 5 classmates and himself in 16 seconds, cops say Los Angeles  (CNN) - A teen whose birthday was Thursday went to his Southern California high school, pulled a pistol from his backpack and shot five classmates and himself in 16 seconds, authorities said. Two victims -- a 16-year-old girl and a 14-year-old boy -- died at a hospital. Three students were wounded and taken by ambulance from Saugus High School in Santa Clarita, officials said. Los Angeles County Sheriff Alex Villanueva said the 16-year-old suspected gunman is in critical condition. He used the last bullet from a .45-caliber pistol on himself, authorities said. The sheriff told \"Anderson Cooper 360˚\" the student fired one time, then apparently had a problem with the gun before firing again. The suspect\\'s name is Nathaniel Berhow, two law enforcement sources told CNN. Authorities said they are looking into biographical information on the suspected shooter\\'s social media account that was taken down after the mass shooting. \"With a heavy heart, we\\'re going to move on with the investigation and figure out what went wrong,\" the sheriff said. \"I hate to have Saugus be added to the names of Columbine, Parkland, Sandy Hook, but it\\'s a reality that affects us all throughout the nation -- something that we\\'re going to have to figure out.\" The shooting began before classes started, officials said, sending some students streaming out of the building as others hid. One student was hurt in the chaos and needed medical attention. Video obtained at the scene clearly shows the suspect shooting his classmates and then himself, Capt. Kent Wegener of the Los Angeles County Sheriff\\'s Department told reporters. Authorities are working to obtain any other video from campus and cell phone video from students.  Emergency workers took several people out of the school on gurneys, and large groups of people walked out single-file with armed escorts, aerial footage from CNN affiliates shows.  The two students who were killed died at the hospital. Officials shepherded students to nearby Central Park, where parents were told to meet them. The shooting happened about 20 minutes before the start of school, according to Hannah de Caussin, whose daughter attends Saugus.  Some students fled, and others hid Some students fled the building immediately, and others took cover inside rooms, another student told CNN affiliate KTLA. \"It was one and then four quick ones, so bang, and then bang, bang, bang, bang,\" the girl said after leaving the building. Students are trained to take cover in classrooms, but she and some others ran out because they thought the shooter was near where they would have hidden, she said. \"We ran through the fence, luckily it was open, and we got as far away from campus as we could,\" she said. \"We were texting all our friends and making sure they were safe. They said they were hiding and they were scared. It scared us because they\\'re our friends and we didn\\'t want anything bad to happen to them.\" Another student, Brooklyn Moreno, told CNN affiliate KCBS that she was waiting for a bell to ring to signal her first class when she heard the first shot. \"Everyone thought it was a balloon, and it got really quiet. And then two more shots, and then everyone just ran out of the school,\" said Brooklyn, who added that she ran across a street to someone\\'s house until someone came to pick her up. Grandfather: Students ran down my street screaming Larry Everhart, a grandfather of a Saugus High student, told KCBS that he was leaving his house to get coffee when he saw students running down his street screaming. \"They were saying, \\'Can I come in your house?\\' It was about 20 of them. I wanted to make sure they were safe, so I got them in there,\" he said. School officials are sending students to Central Park, where parents should meet them, the district said.  Everhart\\'s neighbor, a police officer, eventually told him he could go to the park, where he found his granddaughter safe.  \"My granddaughter threw her arms around me and was hugging me, and I was just so happy she was still alive,\" he said. White House sends condolences Vice President Mike Pence gave his condolences to families of the victims.  Speaking to a group at NASA in Northern California, Pence called it \"another heartbreaking day for students and parents.\" Pence pledged that the President Donald Trump will work to end gun violence. \"This administration will remain resolved to bring the scourge of mass shootings to an end, and we will not rest until we end this evil in our time and make our schools and our communities safe again,\" he added.  Pence said the President has directed federal law enforcement agencies to support local investigators. Rumors of online threats are being investigated Investigators will check rumors that the suspect may have posted threats on social media, county Undersheriff Tim Murakami said on Twitter. \"If you ever learn of posted threats please notify us ASAP,\" Murakami wrote. All schools in Santa Clarita\\'s William S. Hart school district were temporarily locked down as a precaution, but the restrictions were later lifted, the district said. Saugus High School, about 30 miles northwest of Los Angeles, has about 2,400 students, according to the district. CORRECTION: A reference to an Instagram account that police tied to the alleged gunman has been removed from this article after Facebook and Instagram reported the account did not belong to the suspect.  © 2019 Cable News Network. Turner Broadcasting System, Inc. All Rights Reserved. Listen to CNN (low-bandwidth usage) Go to the full CNN experience',\n",
       " 'Disney+ warns viewers that old movies may have \\'outdated cultural depictions\\' (CNN) - Viewers who signed up to stream Disney+ were greeted with disclaimers about racist and offensive content in some older movies. \"Dumbo,\" for example, had this statement at the bottom of the movie\\'s description: \"This program is presented as originally created. It may contain outdated cultural depictions.\" The original \"Dumbo\" notoriously featured a character named Jim Crow, leader of a group of black crows, that was voiced by a Caucasian actor using a stereotypical African-American accent.  Director Tim Burton chose to not include the original crow scene in his live-action remake of \"Dumbo.\"  He also omitted the scene in which black characters put up circus tents while singing \"Song of the Roustabouts.\"  Disney is not the first studio to add a disclaimer on old titles that feature racial prejudices or other troubling content. For example, Warner Bros. used this on an old \"Tom and Jerry\" release: \"The cartoons you are about to see are products of their time. They may depict some of the ethnic and racial prejudices that were commonplace in American society. These depictions were wrong then and are wrong today. While these cartoons do not represent today\\'s society, they are being presented as they were originally created, because to do otherwise would be that same as claiming these prejudices never existed.\"  WarnerMedia is the parent company of Warner Bros. and CNN. © 2019 Cable News Network. Turner Broadcasting System, Inc. All Rights Reserved. Listen to CNN (low-bandwidth usage) Go to the full CNN experience',\n",
       " 'Student protesters fortify campus occupations as Hong Kong braces for more violence Hong Kong  (CNN) - The threat of violence hung over Hong Kong Thursday evening as thousands of student protesters prepared to face off with riot police, amid a continued occupation of several of the city\\'s most prestigious universities.  The level of unrest and destruction in the almost six-month-long protest movement has reached new and unnerving heights in recent days, with several people critically injured and Chinese state media warning radical protesters, \"You are on the edge of doom.\" Sporadic clashes broke out Thursday morning, as police fired tear gas at protesters near the Hong Kong Polytechnic University in Kowloon. While on Hong Kong Island, roads surrounding the University of Hong Kong were blocked by protesters, resulting in traffic delays.  Universities have emerged as a new focal point of the protest movement, with numerous campuses across the city becoming home to heavily fortified temporary protest camps.  At the Chinese University of Hong Kong (CUHK) in the New Territories, several thousand protesters have effectively barricaded themselves inside the grounds, blocking all entrances for the third straight day.  The CUHK campus was on Tuesday the scene of some of the most intense fighting in the city since demonstrations began in June, with hundreds of riot police firing more than 1,567 canisters of tear gas during a chaotic and ultimately aborted clearance operation.  Throughout Wednesday and Thursday, protesters and those helping them continued to pour into the sprawling grounds by road and by foot, bringing supplies, including protective gear, food and water.  A highly organized operation was launched inside the campus, sorting and distributing the supplies, building and reinforcing barricades, and stockpiling weapons, including petrol bombs, bows and arrows, javelins, and pieces of wood hammered with nails. So far police have appeared reticent to return to the university despite a Hong Kong court rejecting an application by students to block police from entering the campus without a warrant.  Many overseas students studying at the university have been asked to leave by their home colleges and CUHK administrators announced the early cancellation of classes, stopping the fall semester around two weeks early. On Wednesday, police said they had evacuated several students from mainland China via police boat, because the roads were blocked by protesters. The effects of the campus unrest could be felt across the city Thursday, with continued travel disruptions and protesters, including large numbers of office workers on their lunch break, taking over the busy streets in Central district for a fourth straight day. Office workers also came out in support of the student protesters in Tai Koo, in the east of the city.  Two of the three tunnels connecting Hong Kong Island with the Kowloon peninsula, including the busiest Cross-Harbour Tunnel, were closed to traffic Thursday morning and the MTR continued to suspend service at several stations. All schools have suspended classes for the rest of the week -- the first such instance since protests began.   Critical injuries The protests this week have taken a dark turn, with more people critically injured than at any point in the long-running movement.  Hong Kong\\'s Hospital Authority said 67 people were treated in hospitals in total on Wednesday with injuries related to the protests. On Wednesday, a 70-year-old man was hospitalized and remains in critical condition after being hit on the head by a brick thrown by a protester, police said. The injured man was on a lunch break from his job as a cleaner when he voluntarily began clearing bricks from the road with other members of the public, according to police. Video of the alleged incident shows protesters and government supporters hurling bricks at one another before a man falls to the ground.  A 15-year-old boy was struck in the head by what is believed to be a tear gas canister and is also in critical condition, according to Hong Kong\\'s Hospital Authority.  Earlier in the week, a protester was shot by police and a man was set on fire following a dispute with protesters Monday. \\'You are on the edge of doom\\' The major escalation in political unrest this week has once again raised questions over what will happen next. Looming over those conversations is the specter of a possible Chinese intervention.  On Thursday, China\\'s top state-run television channel issued an online editorial telling protesters their actions are \"undisguised terrorism.\" \"We have had enough talking, persuasion and warnings. To stop the unrest has to be implemented and advanced more resolutely now. The country will never accept the situation to be out of control, justice to be covered or Hong Kong to be sunk,\" the editorial from CCTV read.  It echoed an editorial in the state-run tabloid Global Times suggesting the People\\'s Armed Police and the People\\'s Liberation Army were ready to back up Hong Kong\\'s government \"when necessary.\" \"We also warn the radical protesters: You are on the edge of doom. Those who are coerced to be \\'valiant\\' should walk away as soon as possible when you still can make the call,\" the editorial said. However, it is not clear if Beijing has a red line, and what it would take for protesters to cross it before provoking a Chinese military response. Analysts say it is still a question that Beijing is actively considering. \"It\\'s smart not to state a clear red line because you are going to have to act on it to keep your credibility once that line has been breached. And there is every likelihood that protesters would actively seek to breach that line,\" Adam Ni, a China researcher at Macquarie University in Sydney told CNN last month.  The Chinese government has hinted that it might be looking at new ways of resolving the crisis in Hong Kong, both short-term and long-term.  After a meeting of a top Chinese Communist Party body in October, senior Chinese official Shen Chunyao said that Beijing would work to improve the legal system and strengthen \"law enforcement\" in Hong Kong, and neighboring Macao. He added it was time to introduce new lessons in \"patriotism\" across Hong Kong, a move which has been discussed by the Chinese government for a long time. On Tuesday, the Chinese government unveiled a new range of patriotic education measures for the country, which according to state-run Xinhua would \"focus on young Chinese.\" \"Patriotism should be embedded in the whole process of school education,\" the article said. Buried in point 20 of the new patriotic education outline is a call to \"guide\" the citizens of Hong Kong and Macao to \"enhance their national identity and consciously safeguard national unity.\" © 2019 Cable News Network. Turner Broadcasting System, Inc. All Rights Reserved. Listen to CNN (low-bandwidth usage) Go to the full CNN experience']"
      ]
     },
     "execution_count": 4,
     "metadata": {},
     "output_type": "execute_result"
    },
    {
     "data": {
      "application/javascript": [
       "\n",
       "            setTimeout(function() {\n",
       "                var nbb_cell_id = 4;\n",
       "                var nbb_unformatted_code = \"raw_list = []\\n\\nfor item in corpus.fileids():\\n    raw_list.append(corpus.raw(item))\\n\\nraw_list\";\n",
       "                var nbb_formatted_code = \"raw_list = []\\n\\nfor item in corpus.fileids():\\n    raw_list.append(corpus.raw(item))\\n\\nraw_list\";\n",
       "                var nbb_cells = Jupyter.notebook.get_cells();\n",
       "                for (var i = 0; i < nbb_cells.length; ++i) {\n",
       "                    if (nbb_cells[i].input_prompt_number == nbb_cell_id) {\n",
       "                        if (nbb_cells[i].get_text() == nbb_unformatted_code) {\n",
       "                             nbb_cells[i].set_text(nbb_formatted_code);\n",
       "                        }\n",
       "                        break;\n",
       "                    }\n",
       "                }\n",
       "            }, 500);\n",
       "            "
      ],
      "text/plain": [
       "<IPython.core.display.Javascript object>"
      ]
     },
     "metadata": {},
     "output_type": "display_data"
    }
   ],
   "source": [
    "raw_list = []\n",
    "\n",
    "for item in corpus.fileids():\n",
    "    raw_list.append(corpus.raw(item))\n",
    "\n",
    "raw_list"
   ]
  },
  {
   "cell_type": "markdown",
   "metadata": {
    "colab_type": "text",
    "id": "pIF6IXkrJeLT"
   },
   "source": [
    "### Write a function that calculates the following statistics for a document and returns them as a list.\n",
    "\n",
    "- Number of sentences\n",
    "- Number of tokens\n",
    "- Number of words (no stop words or punctuation)\n",
    "- Number of unique words (vocabulary)\n",
    "- Number of unique named entities (excluding numbers, dates, times, and currency types)\n",
    "- Average sentence length\n",
    "- Average word length\n",
    "- Lexical diversity"
   ]
  },
  {
   "cell_type": "code",
   "execution_count": 8,
   "metadata": {
    "colab": {},
    "colab_type": "code",
    "id": "KXImZOGjJeLU"
   },
   "outputs": [
    {
     "data": {
      "application/javascript": [
       "\n",
       "            setTimeout(function() {\n",
       "                var nbb_cell_id = 8;\n",
       "                var nbb_unformatted_code = \"text_list = []\\nfor x in corpus.fileids():\\n    text = corpus.words(x)\\n    text_list.append(\\\" \\\".join(text))\\n\\ntext_df = pd.DataFrame({\\\"id\\\": corpus.fileids(), \\\"text\\\": text_list})\";\n",
       "                var nbb_formatted_code = \"text_list = []\\nfor x in corpus.fileids():\\n    text = corpus.words(x)\\n    text_list.append(\\\" \\\".join(text))\\n\\ntext_df = pd.DataFrame({\\\"id\\\": corpus.fileids(), \\\"text\\\": text_list})\";\n",
       "                var nbb_cells = Jupyter.notebook.get_cells();\n",
       "                for (var i = 0; i < nbb_cells.length; ++i) {\n",
       "                    if (nbb_cells[i].input_prompt_number == nbb_cell_id) {\n",
       "                        if (nbb_cells[i].get_text() == nbb_unformatted_code) {\n",
       "                             nbb_cells[i].set_text(nbb_formatted_code);\n",
       "                        }\n",
       "                        break;\n",
       "                    }\n",
       "                }\n",
       "            }, 500);\n",
       "            "
      ],
      "text/plain": [
       "<IPython.core.display.Javascript object>"
      ]
     },
     "metadata": {},
     "output_type": "display_data"
    }
   ],
   "source": [
    "text_list = []\n",
    "for x in corpus.fileids():\n",
    "    text = corpus.words(x)\n",
    "    text_list.append(\" \".join(text))\n",
    "\n",
    "text_df = pd.DataFrame({\"id\": corpus.fileids(), \"text\": text_list})"
   ]
  },
  {
   "cell_type": "code",
   "execution_count": 11,
   "metadata": {},
   "outputs": [
    {
     "data": {
      "application/javascript": [
       "\n",
       "            setTimeout(function() {\n",
       "                var nbb_cell_id = 11;\n",
       "                var nbb_unformatted_code = \"sent_token_list = []\\nword_token_list = []\\ntag_list = []\\n\\nfor x in text_df[\\\"text\\\"]:\\n    sents = sent_tokenize(x)\\n    tokenized = [word_tokenize(sent) for sent in sents]\\n    tagged = [pos_tag(tokens) for tokens in tokenized]\\n\\n    sent_token_list.append(sents)\\n    word_token_list.append(tokenized)\\n    tag_list.append(tagged)\\n\\ntext_df[\\\"sent_token\\\"] = sent_token_list\\ntext_df[\\\"word_tagged\\\"] = tag_list\\ntext_df[\\\"word_token\\\"] = word_token_list\";\n",
       "                var nbb_formatted_code = \"sent_token_list = []\\nword_token_list = []\\ntag_list = []\\n\\nfor x in text_df[\\\"text\\\"]:\\n    sents = sent_tokenize(x)\\n    tokenized = [word_tokenize(sent) for sent in sents]\\n    tagged = [pos_tag(tokens) for tokens in tokenized]\\n\\n    sent_token_list.append(sents)\\n    word_token_list.append(tokenized)\\n    tag_list.append(tagged)\\n\\ntext_df[\\\"sent_token\\\"] = sent_token_list\\ntext_df[\\\"word_tagged\\\"] = tag_list\\ntext_df[\\\"word_token\\\"] = word_token_list\";\n",
       "                var nbb_cells = Jupyter.notebook.get_cells();\n",
       "                for (var i = 0; i < nbb_cells.length; ++i) {\n",
       "                    if (nbb_cells[i].input_prompt_number == nbb_cell_id) {\n",
       "                        if (nbb_cells[i].get_text() == nbb_unformatted_code) {\n",
       "                             nbb_cells[i].set_text(nbb_formatted_code);\n",
       "                        }\n",
       "                        break;\n",
       "                    }\n",
       "                }\n",
       "            }, 500);\n",
       "            "
      ],
      "text/plain": [
       "<IPython.core.display.Javascript object>"
      ]
     },
     "metadata": {},
     "output_type": "display_data"
    }
   ],
   "source": [
    "sent_token_list = []\n",
    "word_token_list = []\n",
    "tag_list = []\n",
    "\n",
    "for x in text_df[\"text\"]:\n",
    "    sents = sent_tokenize(x)\n",
    "    tokenized = [word_tokenize(sent) for sent in sents]\n",
    "    tagged = [pos_tag(tokens) for tokens in tokenized]\n",
    "\n",
    "    sent_token_list.append(sents)\n",
    "    word_token_list.append(tokenized)\n",
    "    tag_list.append(tagged)\n",
    "\n",
    "text_df[\"sent_token\"] = sent_token_list\n",
    "text_df[\"word_tagged\"] = tag_list\n",
    "text_df[\"word_token\"] = word_token_list"
   ]
  },
  {
   "cell_type": "code",
   "execution_count": 19,
   "metadata": {},
   "outputs": [
    {
     "data": {
      "application/javascript": [
       "\n",
       "            setTimeout(function() {\n",
       "                var nbb_cell_id = 19;\n",
       "                var nbb_unformatted_code = \"word_token_2 = []\\nwords_3_list = []\\nfor x in text_df[\\\"text\\\"]:\\n    words_3 = word_tokenize(x)\\n    no_stopwords = [\\n        token.lower()\\n        for token in words_3\\n        if token.lower() not in stopwords.words(\\\"english\\\") and token.lower().isalpha()\\n    ]\\n\\n    word_token_2.append(no_stopwords)\\n    words_3_list.append(words_3)\\n\\ntext_df[\\\"no_stops\\\"] = word_token_2\\ntext_df[\\\"words_3\\\"] = words_3_list\";\n",
       "                var nbb_formatted_code = \"word_token_2 = []\\nwords_3_list = []\\nfor x in text_df[\\\"text\\\"]:\\n    words_3 = word_tokenize(x)\\n    no_stopwords = [\\n        token.lower()\\n        for token in words_3\\n        if token.lower() not in stopwords.words(\\\"english\\\") and token.lower().isalpha()\\n    ]\\n\\n    word_token_2.append(no_stopwords)\\n    words_3_list.append(words_3)\\n\\ntext_df[\\\"no_stops\\\"] = word_token_2\\ntext_df[\\\"words_3\\\"] = words_3_list\";\n",
       "                var nbb_cells = Jupyter.notebook.get_cells();\n",
       "                for (var i = 0; i < nbb_cells.length; ++i) {\n",
       "                    if (nbb_cells[i].input_prompt_number == nbb_cell_id) {\n",
       "                        if (nbb_cells[i].get_text() == nbb_unformatted_code) {\n",
       "                             nbb_cells[i].set_text(nbb_formatted_code);\n",
       "                        }\n",
       "                        break;\n",
       "                    }\n",
       "                }\n",
       "            }, 500);\n",
       "            "
      ],
      "text/plain": [
       "<IPython.core.display.Javascript object>"
      ]
     },
     "metadata": {},
     "output_type": "display_data"
    }
   ],
   "source": [
    "word_token_2 = []\n",
    "words_3_list = []\n",
    "for x in text_df[\"text\"]:\n",
    "    words_3 = word_tokenize(x)\n",
    "    no_stopwords = [\n",
    "        token.lower()\n",
    "        for token in words_3\n",
    "        if token.lower() not in stopwords.words(\"english\") and token.lower().isalpha()\n",
    "    ]\n",
    "\n",
    "    word_token_2.append(no_stopwords)\n",
    "    words_3_list.append(words_3)\n",
    "\n",
    "text_df[\"no_stops\"] = word_token_2\n",
    "text_df[\"words_3\"] = words_3_list"
   ]
  },
  {
   "cell_type": "code",
   "execution_count": 38,
   "metadata": {},
   "outputs": [
    {
     "data": {
      "application/javascript": [
       "\n",
       "            setTimeout(function() {\n",
       "                var nbb_cell_id = 38;\n",
       "                var nbb_unformatted_code = \"vocab_list = []\\nfor x in text_df[\\\"no_stops\\\"]:\\n    temp = len(set([w.lower() for w in x]))\\n    vocab_list.append(temp)\\n\\ntext_df[\\\"#_vocab\\\"] = vocab_list\";\n",
       "                var nbb_formatted_code = \"vocab_list = []\\nfor x in text_df[\\\"no_stops\\\"]:\\n    temp = len(set([w.lower() for w in x]))\\n    vocab_list.append(temp)\\n\\ntext_df[\\\"#_vocab\\\"] = vocab_list\";\n",
       "                var nbb_cells = Jupyter.notebook.get_cells();\n",
       "                for (var i = 0; i < nbb_cells.length; ++i) {\n",
       "                    if (nbb_cells[i].input_prompt_number == nbb_cell_id) {\n",
       "                        if (nbb_cells[i].get_text() == nbb_unformatted_code) {\n",
       "                             nbb_cells[i].set_text(nbb_formatted_code);\n",
       "                        }\n",
       "                        break;\n",
       "                    }\n",
       "                }\n",
       "            }, 500);\n",
       "            "
      ],
      "text/plain": [
       "<IPython.core.display.Javascript object>"
      ]
     },
     "metadata": {},
     "output_type": "display_data"
    }
   ],
   "source": [
    "vocab_list = []\n",
    "for x in text_df[\"no_stops\"]:\n",
    "    temp = len(set([w.lower() for w in x]))\n",
    "    vocab_list.append(temp)\n",
    "\n",
    "text_df[\"#_vocab\"] = vocab_list"
   ]
  },
  {
   "cell_type": "code",
   "execution_count": 24,
   "metadata": {},
   "outputs": [
    {
     "data": {
      "application/javascript": [
       "\n",
       "            setTimeout(function() {\n",
       "                var nbb_cell_id = 24;\n",
       "                var nbb_unformatted_code = \"import sys\";\n",
       "                var nbb_formatted_code = \"import sys\";\n",
       "                var nbb_cells = Jupyter.notebook.get_cells();\n",
       "                for (var i = 0; i < nbb_cells.length; ++i) {\n",
       "                    if (nbb_cells[i].input_prompt_number == nbb_cell_id) {\n",
       "                        if (nbb_cells[i].get_text() == nbb_unformatted_code) {\n",
       "                             nbb_cells[i].set_text(nbb_formatted_code);\n",
       "                        }\n",
       "                        break;\n",
       "                    }\n",
       "                }\n",
       "            }, 500);\n",
       "            "
      ],
      "text/plain": [
       "<IPython.core.display.Javascript object>"
      ]
     },
     "metadata": {},
     "output_type": "display_data"
    }
   ],
   "source": [
    "import sys"
   ]
  },
  {
   "cell_type": "code",
   "execution_count": 36,
   "metadata": {},
   "outputs": [
    {
     "data": {
      "application/javascript": [
       "\n",
       "            setTimeout(function() {\n",
       "                var nbb_cell_id = 36;\n",
       "                var nbb_unformatted_code = \"nlp = spacy.load(\\\"en_core_web_sm\\\")\\nremove = [\\\"DATE\\\", \\\"TIME\\\", \\\"PERCENT\\\", \\\"MONEY\\\", \\\"QUANTITY\\\", \\\"ORDINAL\\\", \\\"CARDINAL\\\"]\\nentity_list = []\\nfor x in text_list:\\n    spacy_doc = nlp(x)\\n    entities = [\\n        [entity.text, entity.label_]\\n        for entity in spacy_doc.ents\\n        if entity.label_ not in remove\\n    ]\\n\\n    dup_check = []\\n    new_entities = []\\n    for elem in entities:\\n        if elem[0] not in dup_check:\\n            new_entities.append(elem)\\n            dup_check.append(elem[0])\\n\\n    entity_list.append(new_entities)\\n    \\ntext_df[\\\"entities\\\"] = entity_list\";\n",
       "                var nbb_formatted_code = \"nlp = spacy.load(\\\"en_core_web_sm\\\")\\nremove = [\\\"DATE\\\", \\\"TIME\\\", \\\"PERCENT\\\", \\\"MONEY\\\", \\\"QUANTITY\\\", \\\"ORDINAL\\\", \\\"CARDINAL\\\"]\\nentity_list = []\\nfor x in text_list:\\n    spacy_doc = nlp(x)\\n    entities = [\\n        [entity.text, entity.label_]\\n        for entity in spacy_doc.ents\\n        if entity.label_ not in remove\\n    ]\\n\\n    dup_check = []\\n    new_entities = []\\n    for elem in entities:\\n        if elem[0] not in dup_check:\\n            new_entities.append(elem)\\n            dup_check.append(elem[0])\\n\\n    entity_list.append(new_entities)\\n\\ntext_df[\\\"entities\\\"] = entity_list\";\n",
       "                var nbb_cells = Jupyter.notebook.get_cells();\n",
       "                for (var i = 0; i < nbb_cells.length; ++i) {\n",
       "                    if (nbb_cells[i].input_prompt_number == nbb_cell_id) {\n",
       "                        if (nbb_cells[i].get_text() == nbb_unformatted_code) {\n",
       "                             nbb_cells[i].set_text(nbb_formatted_code);\n",
       "                        }\n",
       "                        break;\n",
       "                    }\n",
       "                }\n",
       "            }, 500);\n",
       "            "
      ],
      "text/plain": [
       "<IPython.core.display.Javascript object>"
      ]
     },
     "metadata": {},
     "output_type": "display_data"
    }
   ],
   "source": [
    "nlp = spacy.load(\"en_core_web_sm\")\n",
    "remove = [\"DATE\", \"TIME\", \"PERCENT\", \"MONEY\", \"QUANTITY\", \"ORDINAL\", \"CARDINAL\"]\n",
    "entity_list = []\n",
    "for x in text_list:\n",
    "    spacy_doc = nlp(x)\n",
    "    entities = [\n",
    "        [entity.text, entity.label_]\n",
    "        for entity in spacy_doc.ents\n",
    "        if entity.label_ not in remove\n",
    "    ]\n",
    "\n",
    "    dup_check = []\n",
    "    new_entities = []\n",
    "    for elem in entities:\n",
    "        if elem[0] not in dup_check:\n",
    "            new_entities.append(elem)\n",
    "            dup_check.append(elem[0])\n",
    "\n",
    "    entity_list.append(new_entities)\n",
    "\n",
    "text_df[\"entities\"] = entity_list"
   ]
  },
  {
   "cell_type": "code",
   "execution_count": 43,
   "metadata": {},
   "outputs": [
    {
     "data": {
      "application/javascript": [
       "\n",
       "            setTimeout(function() {\n",
       "                var nbb_cell_id = 43;\n",
       "                var nbb_unformatted_code = \"word_length_list = []\\nfor x in word_token_2:\\n    characters = sum([len(word) for word in x])\\n    char_word = characters / len(x)\\n    word_length_list.append(round(char_word,2))\\n\\ntext_df[\\\"#_char_per_words\\\"] = word_length_list\";\n",
       "                var nbb_formatted_code = \"word_length_list = []\\nfor x in word_token_2:\\n    characters = sum([len(word) for word in x])\\n    char_word = characters / len(x)\\n    word_length_list.append(round(char_word, 2))\\n\\ntext_df[\\\"#_char_per_words\\\"] = word_length_list\";\n",
       "                var nbb_cells = Jupyter.notebook.get_cells();\n",
       "                for (var i = 0; i < nbb_cells.length; ++i) {\n",
       "                    if (nbb_cells[i].input_prompt_number == nbb_cell_id) {\n",
       "                        if (nbb_cells[i].get_text() == nbb_unformatted_code) {\n",
       "                             nbb_cells[i].set_text(nbb_formatted_code);\n",
       "                        }\n",
       "                        break;\n",
       "                    }\n",
       "                }\n",
       "            }, 500);\n",
       "            "
      ],
      "text/plain": [
       "<IPython.core.display.Javascript object>"
      ]
     },
     "metadata": {},
     "output_type": "display_data"
    }
   ],
   "source": [
    "word_length_list = []\n",
    "for x in word_token_2:\n",
    "    characters = sum([len(word) for word in x])\n",
    "    char_word = characters / len(x)\n",
    "    word_length_list.append(round(char_word, 2))\n",
    "\n",
    "text_df[\"#_char_per_words\"] = word_length_list"
   ]
  },
  {
   "cell_type": "code",
   "execution_count": 44,
   "metadata": {
    "scrolled": true
   },
   "outputs": [
    {
     "data": {
      "text/html": [
       "<div>\n",
       "<style scoped>\n",
       "    .dataframe tbody tr th:only-of-type {\n",
       "        vertical-align: middle;\n",
       "    }\n",
       "\n",
       "    .dataframe tbody tr th {\n",
       "        vertical-align: top;\n",
       "    }\n",
       "\n",
       "    .dataframe thead th {\n",
       "        text-align: right;\n",
       "    }\n",
       "</style>\n",
       "<table border=\"1\" class=\"dataframe\">\n",
       "  <thead>\n",
       "    <tr style=\"text-align: right;\">\n",
       "      <th></th>\n",
       "      <th>id</th>\n",
       "      <th>text</th>\n",
       "      <th>sent_token</th>\n",
       "      <th>word_tagged</th>\n",
       "      <th>word_token</th>\n",
       "      <th>no_stops</th>\n",
       "      <th>words_3</th>\n",
       "      <th>vocab</th>\n",
       "      <th>entities</th>\n",
       "      <th>#_vocab</th>\n",
       "      <th>#_char_per_words</th>\n",
       "    </tr>\n",
       "  </thead>\n",
       "  <tbody>\n",
       "    <tr>\n",
       "      <th>0</th>\n",
       "      <td>article0.txt</td>\n",
       "      <td>Pink taking a break to focus on family ( CNN )...</td>\n",
       "      <td>[Pink taking a break to focus on family ( CNN ...</td>\n",
       "      <td>[[(Pink, NNP), (taking, VBG), (a, DT), (break,...</td>\n",
       "      <td>[[Pink, taking, a, break, to, focus, on, famil...</td>\n",
       "      <td>[pink, taking, break, focus, family, cnn, pink...</td>\n",
       "      <td>[Pink, taking, a, break, to, focus, on, family...</td>\n",
       "      <td>98</td>\n",
       "      <td>[[CNN, ORG], [Entertainment Tonight, WORK_OF_A...</td>\n",
       "      <td>98</td>\n",
       "      <td>5.72</td>\n",
       "    </tr>\n",
       "    <tr>\n",
       "      <th>1</th>\n",
       "      <td>article1.txt</td>\n",
       "      <td>Deval Patrick tells allies he ' s running for ...</td>\n",
       "      <td>[Deval Patrick tells allies he ' s running for...</td>\n",
       "      <td>[[(Deval, NNP), (Patrick, NNP), (tells, VBZ), ...</td>\n",
       "      <td>[[Deval, Patrick, tells, allies, he, ', s, run...</td>\n",
       "      <td>[deval, patrick, tells, allies, running, presi...</td>\n",
       "      <td>[Deval, Patrick, tells, allies, he, ', s, runn...</td>\n",
       "      <td>265</td>\n",
       "      <td>[[Deval Patrick, PERSON], [CNN, ORG], [Massach...</td>\n",
       "      <td>265</td>\n",
       "      <td>6.34</td>\n",
       "    </tr>\n",
       "    <tr>\n",
       "      <th>2</th>\n",
       "      <td>article10.txt</td>\n",
       "      <td>Meet Narwhal , the rescue puppy with a tail gr...</td>\n",
       "      <td>[Meet Narwhal , the rescue puppy with a tail g...</td>\n",
       "      <td>[[(Meet, NNP), (Narwhal, NNP), (,, ,), (the, D...</td>\n",
       "      <td>[[Meet, Narwhal, ,, the, rescue, puppy, with, ...</td>\n",
       "      <td>[meet, narwhal, rescue, puppy, tail, growing, ...</td>\n",
       "      <td>[Meet, Narwhal, ,, the, rescue, puppy, with, a...</td>\n",
       "      <td>181</td>\n",
       "      <td>[[Meet Narwhal, PERSON], [CNN, ORG], [Missouri...</td>\n",
       "      <td>181</td>\n",
       "      <td>5.87</td>\n",
       "    </tr>\n",
       "    <tr>\n",
       "      <th>3</th>\n",
       "      <td>article11.txt</td>\n",
       "      <td>Democrats ' 2020 uncertainty has heavyweights ...</td>\n",
       "      <td>[Democrats ' 2020 uncertainty has heavyweights...</td>\n",
       "      <td>[[(Democrats, NNPS), (', POS), (2020, CD), (un...</td>\n",
       "      <td>[[Democrats, ', 2020, uncertainty, has, heavyw...</td>\n",
       "      <td>[democrats, uncertainty, heavyweights, thinkin...</td>\n",
       "      <td>[Democrats, ', 2020, uncertainty, has, heavywe...</td>\n",
       "      <td>324</td>\n",
       "      <td>[[Democrats, NORP], [CNN, ORG], [Democratic, N...</td>\n",
       "      <td>324</td>\n",
       "      <td>6.18</td>\n",
       "    </tr>\n",
       "    <tr>\n",
       "      <th>4</th>\n",
       "      <td>article12.txt</td>\n",
       "      <td>Most important takeaways from the first day of...</td>\n",
       "      <td>[Most important takeaways from the first day o...</td>\n",
       "      <td>[[(Most, RBS), (important, JJ), (takeaways, NN...</td>\n",
       "      <td>[[Most, important, takeaways, from, the, first...</td>\n",
       "      <td>[important, takeaways, first, day, public, imp...</td>\n",
       "      <td>[Most, important, takeaways, from, the, first,...</td>\n",
       "      <td>588</td>\n",
       "      <td>[[CNN, ORG], [The House Intelligence Committee...</td>\n",
       "      <td>588</td>\n",
       "      <td>6.62</td>\n",
       "    </tr>\n",
       "    <tr>\n",
       "      <th>5</th>\n",
       "      <td>article13.txt</td>\n",
       "      <td>How I became an all - American Muslim girl Edi...</td>\n",
       "      <td>[How I became an all - American Muslim girl Ed...</td>\n",
       "      <td>[[(How, WRB), (I, PRP), (became, VBD), (an, DT...</td>\n",
       "      <td>[[How, I, became, an, all, -, American, Muslim...</td>\n",
       "      <td>[became, american, muslim, girl, editor, note,...</td>\n",
       "      <td>[How, I, became, an, all, -, American, Muslim,...</td>\n",
       "      <td>379</td>\n",
       "      <td>[[Muslim, NORP], [Jolie Courtney, PERSON], [Al...</td>\n",
       "      <td>379</td>\n",
       "      <td>6.17</td>\n",
       "    </tr>\n",
       "    <tr>\n",
       "      <th>6</th>\n",
       "      <td>article2.txt</td>\n",
       "      <td>Fox ' s prime time stars are telling Trump tha...</td>\n",
       "      <td>[Fox ' s prime time stars are telling Trump th...</td>\n",
       "      <td>[[(Fox, NNP), (', POS), (s, JJ), (prime, JJ), ...</td>\n",
       "      <td>[[Fox, ', s, prime, time, stars, are, telling,...</td>\n",
       "      <td>[fox, prime, time, stars, telling, trump, impe...</td>\n",
       "      <td>[Fox, ', s, prime, time, stars, are, telling, ...</td>\n",
       "      <td>512</td>\n",
       "      <td>[[Fox, ORG], [Trump, PRODUCT], [Democrats, NOR...</td>\n",
       "      <td>512</td>\n",
       "      <td>6.05</td>\n",
       "    </tr>\n",
       "    <tr>\n",
       "      <th>7</th>\n",
       "      <td>article3.txt</td>\n",
       "      <td>Marine deserter wanted for murder spotted in R...</td>\n",
       "      <td>[Marine deserter wanted for murder spotted in ...</td>\n",
       "      <td>[[(Marine, NNP), (deserter, NN), (wanted, VBD)...</td>\n",
       "      <td>[[Marine, deserter, wanted, for, murder, spott...</td>\n",
       "      <td>[marine, deserter, wanted, murder, spotted, ro...</td>\n",
       "      <td>[Marine, deserter, wanted, for, murder, spotte...</td>\n",
       "      <td>282</td>\n",
       "      <td>[[Roanoke, GPE], [Virginia, GPE], [CNN, ORG], ...</td>\n",
       "      <td>282</td>\n",
       "      <td>6.06</td>\n",
       "    </tr>\n",
       "    <tr>\n",
       "      <th>8</th>\n",
       "      <td>article4.txt</td>\n",
       "      <td>Trump Organization explores selling DC hotel (...</td>\n",
       "      <td>[Trump Organization explores selling DC hotel ...</td>\n",
       "      <td>[[(Trump, NNP), (Organization, NNP), (explores...</td>\n",
       "      <td>[[Trump, Organization, explores, selling, DC, ...</td>\n",
       "      <td>[trump, organization, explores, selling, dc, h...</td>\n",
       "      <td>[Trump, Organization, explores, selling, DC, h...</td>\n",
       "      <td>200</td>\n",
       "      <td>[[Trump Organization, ORG], [CNN, ORG], [The T...</td>\n",
       "      <td>200</td>\n",
       "      <td>6.62</td>\n",
       "    </tr>\n",
       "    <tr>\n",
       "      <th>9</th>\n",
       "      <td>article5.txt</td>\n",
       "      <td>Alicia Keys will return as host of the Grammy ...</td>\n",
       "      <td>[Alicia Keys will return as host of the Grammy...</td>\n",
       "      <td>[[(Alicia, NNP), (Keys, NNP), (will, MD), (ret...</td>\n",
       "      <td>[[Alicia, Keys, will, return, as, host, of, th...</td>\n",
       "      <td>[alicia, keys, return, host, grammy, awards, c...</td>\n",
       "      <td>[Alicia, Keys, will, return, as, host, of, the...</td>\n",
       "      <td>105</td>\n",
       "      <td>[[Alicia Keys, PERSON], [the Grammy Awards, EV...</td>\n",
       "      <td>105</td>\n",
       "      <td>5.40</td>\n",
       "    </tr>\n",
       "    <tr>\n",
       "      <th>10</th>\n",
       "      <td>article6.txt</td>\n",
       "      <td>Unlike Trump Ukraine scandal , no one died at ...</td>\n",
       "      <td>[Unlike Trump Ukraine scandal , no one died at...</td>\n",
       "      <td>[[(Unlike, IN), (Trump, NNP), (Ukraine, NNP), ...</td>\n",
       "      <td>[[Unlike, Trump, Ukraine, scandal, ,, no, one,...</td>\n",
       "      <td>[unlike, trump, ukraine, scandal, one, died, w...</td>\n",
       "      <td>[Unlike, Trump, Ukraine, scandal, ,, no, one, ...</td>\n",
       "      <td>537</td>\n",
       "      <td>[[Trump Ukraine, PERSON], [Watergate Editor ',...</td>\n",
       "      <td>537</td>\n",
       "      <td>7.01</td>\n",
       "    </tr>\n",
       "    <tr>\n",
       "      <th>11</th>\n",
       "      <td>article7.txt</td>\n",
       "      <td>Two teens are dead after a 16 - year - old gun...</td>\n",
       "      <td>[Two teens are dead after a 16 - year - old gu...</td>\n",
       "      <td>[[(Two, CD), (teens, NNS), (are, VBP), (dead, ...</td>\n",
       "      <td>[[Two, teens, are, dead, after, a, 16, -, year...</td>\n",
       "      <td>[two, teens, dead, year, old, gunman, shot, cl...</td>\n",
       "      <td>[Two, teens, are, dead, after, a, 16, -, year,...</td>\n",
       "      <td>338</td>\n",
       "      <td>[[Los Angeles, GPE], [CNN, ORG], [Southern Cal...</td>\n",
       "      <td>338</td>\n",
       "      <td>6.05</td>\n",
       "    </tr>\n",
       "    <tr>\n",
       "      <th>12</th>\n",
       "      <td>article8.txt</td>\n",
       "      <td>Disney + warns viewers that old movies may hav...</td>\n",
       "      <td>[Disney + warns viewers that old movies may ha...</td>\n",
       "      <td>[[(Disney, NNP), (+, NNP), (warns, VBZ), (view...</td>\n",
       "      <td>[[Disney, +, warns, viewers, that, old, movies...</td>\n",
       "      <td>[disney, warns, viewers, old, movies, may, out...</td>\n",
       "      <td>[Disney, +, warns, viewers, that, old, movies,...</td>\n",
       "      <td>116</td>\n",
       "      <td>[[CNN, ORG], [Dumbo, PERSON], [Jim Crow, PERSO...</td>\n",
       "      <td>116</td>\n",
       "      <td>6.41</td>\n",
       "    </tr>\n",
       "    <tr>\n",
       "      <th>13</th>\n",
       "      <td>article9.txt</td>\n",
       "      <td>Student protesters fortify campus occupations ...</td>\n",
       "      <td>[Student protesters fortify campus occupations...</td>\n",
       "      <td>[[(Student, NN), (protesters, NNS), (fortify, ...</td>\n",
       "      <td>[[Student, protesters, fortify, campus, occupa...</td>\n",
       "      <td>[student, protesters, fortify, campus, occupat...</td>\n",
       "      <td>[Student, protesters, fortify, campus, occupat...</td>\n",
       "      <td>438</td>\n",
       "      <td>[[Hong Kong, GPE], [CNN, ORG], [Chinese, NORP]...</td>\n",
       "      <td>438</td>\n",
       "      <td>6.44</td>\n",
       "    </tr>\n",
       "  </tbody>\n",
       "</table>\n",
       "</div>"
      ],
      "text/plain": [
       "               id                                               text  \\\n",
       "0    article0.txt  Pink taking a break to focus on family ( CNN )...   \n",
       "1    article1.txt  Deval Patrick tells allies he ' s running for ...   \n",
       "2   article10.txt  Meet Narwhal , the rescue puppy with a tail gr...   \n",
       "3   article11.txt  Democrats ' 2020 uncertainty has heavyweights ...   \n",
       "4   article12.txt  Most important takeaways from the first day of...   \n",
       "5   article13.txt  How I became an all - American Muslim girl Edi...   \n",
       "6    article2.txt  Fox ' s prime time stars are telling Trump tha...   \n",
       "7    article3.txt  Marine deserter wanted for murder spotted in R...   \n",
       "8    article4.txt  Trump Organization explores selling DC hotel (...   \n",
       "9    article5.txt  Alicia Keys will return as host of the Grammy ...   \n",
       "10   article6.txt  Unlike Trump Ukraine scandal , no one died at ...   \n",
       "11   article7.txt  Two teens are dead after a 16 - year - old gun...   \n",
       "12   article8.txt  Disney + warns viewers that old movies may hav...   \n",
       "13   article9.txt  Student protesters fortify campus occupations ...   \n",
       "\n",
       "                                           sent_token  \\\n",
       "0   [Pink taking a break to focus on family ( CNN ...   \n",
       "1   [Deval Patrick tells allies he ' s running for...   \n",
       "2   [Meet Narwhal , the rescue puppy with a tail g...   \n",
       "3   [Democrats ' 2020 uncertainty has heavyweights...   \n",
       "4   [Most important takeaways from the first day o...   \n",
       "5   [How I became an all - American Muslim girl Ed...   \n",
       "6   [Fox ' s prime time stars are telling Trump th...   \n",
       "7   [Marine deserter wanted for murder spotted in ...   \n",
       "8   [Trump Organization explores selling DC hotel ...   \n",
       "9   [Alicia Keys will return as host of the Grammy...   \n",
       "10  [Unlike Trump Ukraine scandal , no one died at...   \n",
       "11  [Two teens are dead after a 16 - year - old gu...   \n",
       "12  [Disney + warns viewers that old movies may ha...   \n",
       "13  [Student protesters fortify campus occupations...   \n",
       "\n",
       "                                          word_tagged  \\\n",
       "0   [[(Pink, NNP), (taking, VBG), (a, DT), (break,...   \n",
       "1   [[(Deval, NNP), (Patrick, NNP), (tells, VBZ), ...   \n",
       "2   [[(Meet, NNP), (Narwhal, NNP), (,, ,), (the, D...   \n",
       "3   [[(Democrats, NNPS), (', POS), (2020, CD), (un...   \n",
       "4   [[(Most, RBS), (important, JJ), (takeaways, NN...   \n",
       "5   [[(How, WRB), (I, PRP), (became, VBD), (an, DT...   \n",
       "6   [[(Fox, NNP), (', POS), (s, JJ), (prime, JJ), ...   \n",
       "7   [[(Marine, NNP), (deserter, NN), (wanted, VBD)...   \n",
       "8   [[(Trump, NNP), (Organization, NNP), (explores...   \n",
       "9   [[(Alicia, NNP), (Keys, NNP), (will, MD), (ret...   \n",
       "10  [[(Unlike, IN), (Trump, NNP), (Ukraine, NNP), ...   \n",
       "11  [[(Two, CD), (teens, NNS), (are, VBP), (dead, ...   \n",
       "12  [[(Disney, NNP), (+, NNP), (warns, VBZ), (view...   \n",
       "13  [[(Student, NN), (protesters, NNS), (fortify, ...   \n",
       "\n",
       "                                           word_token  \\\n",
       "0   [[Pink, taking, a, break, to, focus, on, famil...   \n",
       "1   [[Deval, Patrick, tells, allies, he, ', s, run...   \n",
       "2   [[Meet, Narwhal, ,, the, rescue, puppy, with, ...   \n",
       "3   [[Democrats, ', 2020, uncertainty, has, heavyw...   \n",
       "4   [[Most, important, takeaways, from, the, first...   \n",
       "5   [[How, I, became, an, all, -, American, Muslim...   \n",
       "6   [[Fox, ', s, prime, time, stars, are, telling,...   \n",
       "7   [[Marine, deserter, wanted, for, murder, spott...   \n",
       "8   [[Trump, Organization, explores, selling, DC, ...   \n",
       "9   [[Alicia, Keys, will, return, as, host, of, th...   \n",
       "10  [[Unlike, Trump, Ukraine, scandal, ,, no, one,...   \n",
       "11  [[Two, teens, are, dead, after, a, 16, -, year...   \n",
       "12  [[Disney, +, warns, viewers, that, old, movies...   \n",
       "13  [[Student, protesters, fortify, campus, occupa...   \n",
       "\n",
       "                                             no_stops  \\\n",
       "0   [pink, taking, break, focus, family, cnn, pink...   \n",
       "1   [deval, patrick, tells, allies, running, presi...   \n",
       "2   [meet, narwhal, rescue, puppy, tail, growing, ...   \n",
       "3   [democrats, uncertainty, heavyweights, thinkin...   \n",
       "4   [important, takeaways, first, day, public, imp...   \n",
       "5   [became, american, muslim, girl, editor, note,...   \n",
       "6   [fox, prime, time, stars, telling, trump, impe...   \n",
       "7   [marine, deserter, wanted, murder, spotted, ro...   \n",
       "8   [trump, organization, explores, selling, dc, h...   \n",
       "9   [alicia, keys, return, host, grammy, awards, c...   \n",
       "10  [unlike, trump, ukraine, scandal, one, died, w...   \n",
       "11  [two, teens, dead, year, old, gunman, shot, cl...   \n",
       "12  [disney, warns, viewers, old, movies, may, out...   \n",
       "13  [student, protesters, fortify, campus, occupat...   \n",
       "\n",
       "                                              words_3  vocab  \\\n",
       "0   [Pink, taking, a, break, to, focus, on, family...     98   \n",
       "1   [Deval, Patrick, tells, allies, he, ', s, runn...    265   \n",
       "2   [Meet, Narwhal, ,, the, rescue, puppy, with, a...    181   \n",
       "3   [Democrats, ', 2020, uncertainty, has, heavywe...    324   \n",
       "4   [Most, important, takeaways, from, the, first,...    588   \n",
       "5   [How, I, became, an, all, -, American, Muslim,...    379   \n",
       "6   [Fox, ', s, prime, time, stars, are, telling, ...    512   \n",
       "7   [Marine, deserter, wanted, for, murder, spotte...    282   \n",
       "8   [Trump, Organization, explores, selling, DC, h...    200   \n",
       "9   [Alicia, Keys, will, return, as, host, of, the...    105   \n",
       "10  [Unlike, Trump, Ukraine, scandal, ,, no, one, ...    537   \n",
       "11  [Two, teens, are, dead, after, a, 16, -, year,...    338   \n",
       "12  [Disney, +, warns, viewers, that, old, movies,...    116   \n",
       "13  [Student, protesters, fortify, campus, occupat...    438   \n",
       "\n",
       "                                             entities  #_vocab  \\\n",
       "0   [[CNN, ORG], [Entertainment Tonight, WORK_OF_A...       98   \n",
       "1   [[Deval Patrick, PERSON], [CNN, ORG], [Massach...      265   \n",
       "2   [[Meet Narwhal, PERSON], [CNN, ORG], [Missouri...      181   \n",
       "3   [[Democrats, NORP], [CNN, ORG], [Democratic, N...      324   \n",
       "4   [[CNN, ORG], [The House Intelligence Committee...      588   \n",
       "5   [[Muslim, NORP], [Jolie Courtney, PERSON], [Al...      379   \n",
       "6   [[Fox, ORG], [Trump, PRODUCT], [Democrats, NOR...      512   \n",
       "7   [[Roanoke, GPE], [Virginia, GPE], [CNN, ORG], ...      282   \n",
       "8   [[Trump Organization, ORG], [CNN, ORG], [The T...      200   \n",
       "9   [[Alicia Keys, PERSON], [the Grammy Awards, EV...      105   \n",
       "10  [[Trump Ukraine, PERSON], [Watergate Editor ',...      537   \n",
       "11  [[Los Angeles, GPE], [CNN, ORG], [Southern Cal...      338   \n",
       "12  [[CNN, ORG], [Dumbo, PERSON], [Jim Crow, PERSO...      116   \n",
       "13  [[Hong Kong, GPE], [CNN, ORG], [Chinese, NORP]...      438   \n",
       "\n",
       "    #_char_per_words  \n",
       "0               5.72  \n",
       "1               6.34  \n",
       "2               5.87  \n",
       "3               6.18  \n",
       "4               6.62  \n",
       "5               6.17  \n",
       "6               6.05  \n",
       "7               6.06  \n",
       "8               6.62  \n",
       "9               5.40  \n",
       "10              7.01  \n",
       "11              6.05  \n",
       "12              6.41  \n",
       "13              6.44  "
      ]
     },
     "execution_count": 44,
     "metadata": {},
     "output_type": "execute_result"
    },
    {
     "data": {
      "application/javascript": [
       "\n",
       "            setTimeout(function() {\n",
       "                var nbb_cell_id = 44;\n",
       "                var nbb_unformatted_code = \"text_df\";\n",
       "                var nbb_formatted_code = \"text_df\";\n",
       "                var nbb_cells = Jupyter.notebook.get_cells();\n",
       "                for (var i = 0; i < nbb_cells.length; ++i) {\n",
       "                    if (nbb_cells[i].input_prompt_number == nbb_cell_id) {\n",
       "                        if (nbb_cells[i].get_text() == nbb_unformatted_code) {\n",
       "                             nbb_cells[i].set_text(nbb_formatted_code);\n",
       "                        }\n",
       "                        break;\n",
       "                    }\n",
       "                }\n",
       "            }, 500);\n",
       "            "
      ],
      "text/plain": [
       "<IPython.core.display.Javascript object>"
      ]
     },
     "metadata": {},
     "output_type": "display_data"
    }
   ],
   "source": [
    "text_df"
   ]
  },
  {
   "cell_type": "code",
   "execution_count": 48,
   "metadata": {
    "scrolled": true
   },
   "outputs": [
    {
     "data": {
      "text/html": [
       "<div>\n",
       "<style scoped>\n",
       "    .dataframe tbody tr th:only-of-type {\n",
       "        vertical-align: middle;\n",
       "    }\n",
       "\n",
       "    .dataframe tbody tr th {\n",
       "        vertical-align: top;\n",
       "    }\n",
       "\n",
       "    .dataframe thead th {\n",
       "        text-align: right;\n",
       "    }\n",
       "</style>\n",
       "<table border=\"1\" class=\"dataframe\">\n",
       "  <thead>\n",
       "    <tr style=\"text-align: right;\">\n",
       "      <th></th>\n",
       "      <th>text</th>\n",
       "      <th>sent_token</th>\n",
       "      <th>word_tagged</th>\n",
       "      <th>word_token</th>\n",
       "      <th>no_stops</th>\n",
       "      <th>words_3</th>\n",
       "      <th>vocab</th>\n",
       "      <th>entities</th>\n",
       "      <th>#_vocab</th>\n",
       "      <th>#_char_per_words</th>\n",
       "      <th>#_sent</th>\n",
       "      <th>#_tokens</th>\n",
       "      <th>#_words</th>\n",
       "      <th>#_entities</th>\n",
       "      <th>#_words_per_sent</th>\n",
       "      <th>#_lex_div</th>\n",
       "    </tr>\n",
       "    <tr>\n",
       "      <th>id</th>\n",
       "      <th></th>\n",
       "      <th></th>\n",
       "      <th></th>\n",
       "      <th></th>\n",
       "      <th></th>\n",
       "      <th></th>\n",
       "      <th></th>\n",
       "      <th></th>\n",
       "      <th></th>\n",
       "      <th></th>\n",
       "      <th></th>\n",
       "      <th></th>\n",
       "      <th></th>\n",
       "      <th></th>\n",
       "      <th></th>\n",
       "      <th></th>\n",
       "    </tr>\n",
       "  </thead>\n",
       "  <tbody>\n",
       "    <tr>\n",
       "      <th>article0.txt</th>\n",
       "      <td>Pink taking a break to focus on family ( CNN )...</td>\n",
       "      <td>[Pink taking a break to focus on family ( CNN ...</td>\n",
       "      <td>[[(Pink, NNP), (taking, VBG), (a, DT), (break,...</td>\n",
       "      <td>[[Pink, taking, a, break, to, focus, on, famil...</td>\n",
       "      <td>[pink, taking, break, focus, family, cnn, pink...</td>\n",
       "      <td>[Pink, taking, a, break, to, focus, on, family...</td>\n",
       "      <td>98</td>\n",
       "      <td>[[CNN, ORG], [Entertainment Tonight, WORK_OF_A...</td>\n",
       "      <td>98</td>\n",
       "      <td>5.72</td>\n",
       "      <td>13</td>\n",
       "      <td>279</td>\n",
       "      <td>120</td>\n",
       "      <td>14</td>\n",
       "      <td>6.5</td>\n",
       "      <td>0.816667</td>\n",
       "    </tr>\n",
       "    <tr>\n",
       "      <th>article1.txt</th>\n",
       "      <td>Deval Patrick tells allies he ' s running for ...</td>\n",
       "      <td>[Deval Patrick tells allies he ' s running for...</td>\n",
       "      <td>[[(Deval, NNP), (Patrick, NNP), (tells, VBZ), ...</td>\n",
       "      <td>[[Deval, Patrick, tells, allies, he, ', s, run...</td>\n",
       "      <td>[deval, patrick, tells, allies, running, presi...</td>\n",
       "      <td>[Deval, Patrick, tells, allies, he, ', s, runn...</td>\n",
       "      <td>265</td>\n",
       "      <td>[[Deval Patrick, PERSON], [CNN, ORG], [Massach...</td>\n",
       "      <td>265</td>\n",
       "      <td>6.34</td>\n",
       "      <td>27</td>\n",
       "      <td>748</td>\n",
       "      <td>371</td>\n",
       "      <td>33</td>\n",
       "      <td>13.5</td>\n",
       "      <td>0.714286</td>\n",
       "    </tr>\n",
       "    <tr>\n",
       "      <th>article10.txt</th>\n",
       "      <td>Meet Narwhal , the rescue puppy with a tail gr...</td>\n",
       "      <td>[Meet Narwhal , the rescue puppy with a tail g...</td>\n",
       "      <td>[[(Meet, NNP), (Narwhal, NNP), (,, ,), (the, D...</td>\n",
       "      <td>[[Meet, Narwhal, ,, the, rescue, puppy, with, ...</td>\n",
       "      <td>[meet, narwhal, rescue, puppy, tail, growing, ...</td>\n",
       "      <td>[Meet, Narwhal, ,, the, rescue, puppy, with, a...</td>\n",
       "      <td>181</td>\n",
       "      <td>[[Meet Narwhal, PERSON], [CNN, ORG], [Missouri...</td>\n",
       "      <td>181</td>\n",
       "      <td>5.87</td>\n",
       "      <td>26</td>\n",
       "      <td>619</td>\n",
       "      <td>262</td>\n",
       "      <td>14</td>\n",
       "      <td>13.0</td>\n",
       "      <td>0.690840</td>\n",
       "    </tr>\n",
       "    <tr>\n",
       "      <th>article11.txt</th>\n",
       "      <td>Democrats ' 2020 uncertainty has heavyweights ...</td>\n",
       "      <td>[Democrats ' 2020 uncertainty has heavyweights...</td>\n",
       "      <td>[[(Democrats, NNPS), (', POS), (2020, CD), (un...</td>\n",
       "      <td>[[Democrats, ', 2020, uncertainty, has, heavyw...</td>\n",
       "      <td>[democrats, uncertainty, heavyweights, thinkin...</td>\n",
       "      <td>[Democrats, ', 2020, uncertainty, has, heavywe...</td>\n",
       "      <td>324</td>\n",
       "      <td>[[Democrats, NORP], [CNN, ORG], [Democratic, N...</td>\n",
       "      <td>324</td>\n",
       "      <td>6.18</td>\n",
       "      <td>43</td>\n",
       "      <td>1105</td>\n",
       "      <td>494</td>\n",
       "      <td>43</td>\n",
       "      <td>21.5</td>\n",
       "      <td>0.655870</td>\n",
       "    </tr>\n",
       "    <tr>\n",
       "      <th>article12.txt</th>\n",
       "      <td>Most important takeaways from the first day of...</td>\n",
       "      <td>[Most important takeaways from the first day o...</td>\n",
       "      <td>[[(Most, RBS), (important, JJ), (takeaways, NN...</td>\n",
       "      <td>[[Most, important, takeaways, from, the, first...</td>\n",
       "      <td>[important, takeaways, first, day, public, imp...</td>\n",
       "      <td>[Most, important, takeaways, from, the, first,...</td>\n",
       "      <td>588</td>\n",
       "      <td>[[CNN, ORG], [The House Intelligence Committee...</td>\n",
       "      <td>588</td>\n",
       "      <td>6.62</td>\n",
       "      <td>98</td>\n",
       "      <td>2144</td>\n",
       "      <td>971</td>\n",
       "      <td>78</td>\n",
       "      <td>49.0</td>\n",
       "      <td>0.605561</td>\n",
       "    </tr>\n",
       "    <tr>\n",
       "      <th>article13.txt</th>\n",
       "      <td>How I became an all - American Muslim girl Edi...</td>\n",
       "      <td>[How I became an all - American Muslim girl Ed...</td>\n",
       "      <td>[[(How, WRB), (I, PRP), (became, VBD), (an, DT...</td>\n",
       "      <td>[[How, I, became, an, all, -, American, Muslim...</td>\n",
       "      <td>[became, american, muslim, girl, editor, note,...</td>\n",
       "      <td>[How, I, became, an, all, -, American, Muslim,...</td>\n",
       "      <td>379</td>\n",
       "      <td>[[Muslim, NORP], [Jolie Courtney, PERSON], [Al...</td>\n",
       "      <td>379</td>\n",
       "      <td>6.17</td>\n",
       "      <td>60</td>\n",
       "      <td>1383</td>\n",
       "      <td>551</td>\n",
       "      <td>30</td>\n",
       "      <td>30.0</td>\n",
       "      <td>0.687840</td>\n",
       "    </tr>\n",
       "    <tr>\n",
       "      <th>article2.txt</th>\n",
       "      <td>Fox ' s prime time stars are telling Trump tha...</td>\n",
       "      <td>[Fox ' s prime time stars are telling Trump th...</td>\n",
       "      <td>[[(Fox, NNP), (', POS), (s, JJ), (prime, JJ), ...</td>\n",
       "      <td>[[Fox, ', s, prime, time, stars, are, telling,...</td>\n",
       "      <td>[fox, prime, time, stars, telling, trump, impe...</td>\n",
       "      <td>[Fox, ', s, prime, time, stars, are, telling, ...</td>\n",
       "      <td>512</td>\n",
       "      <td>[[Fox, ORG], [Trump, PRODUCT], [Democrats, NOR...</td>\n",
       "      <td>512</td>\n",
       "      <td>6.05</td>\n",
       "      <td>93</td>\n",
       "      <td>1947</td>\n",
       "      <td>865</td>\n",
       "      <td>82</td>\n",
       "      <td>46.5</td>\n",
       "      <td>0.591908</td>\n",
       "    </tr>\n",
       "    <tr>\n",
       "      <th>article3.txt</th>\n",
       "      <td>Marine deserter wanted for murder spotted in R...</td>\n",
       "      <td>[Marine deserter wanted for murder spotted in ...</td>\n",
       "      <td>[[(Marine, NNP), (deserter, NN), (wanted, VBD)...</td>\n",
       "      <td>[[Marine, deserter, wanted, for, murder, spott...</td>\n",
       "      <td>[marine, deserter, wanted, murder, spotted, ro...</td>\n",
       "      <td>[Marine, deserter, wanted, for, murder, spotte...</td>\n",
       "      <td>282</td>\n",
       "      <td>[[Roanoke, GPE], [Virginia, GPE], [CNN, ORG], ...</td>\n",
       "      <td>282</td>\n",
       "      <td>6.06</td>\n",
       "      <td>47</td>\n",
       "      <td>901</td>\n",
       "      <td>428</td>\n",
       "      <td>30</td>\n",
       "      <td>23.5</td>\n",
       "      <td>0.658879</td>\n",
       "    </tr>\n",
       "    <tr>\n",
       "      <th>article4.txt</th>\n",
       "      <td>Trump Organization explores selling DC hotel (...</td>\n",
       "      <td>[Trump Organization explores selling DC hotel ...</td>\n",
       "      <td>[[(Trump, NNP), (Organization, NNP), (explores...</td>\n",
       "      <td>[[Trump, Organization, explores, selling, DC, ...</td>\n",
       "      <td>[trump, organization, explores, selling, dc, h...</td>\n",
       "      <td>[Trump, Organization, explores, selling, DC, h...</td>\n",
       "      <td>200</td>\n",
       "      <td>[[Trump Organization, ORG], [CNN, ORG], [The T...</td>\n",
       "      <td>200</td>\n",
       "      <td>6.62</td>\n",
       "      <td>24</td>\n",
       "      <td>600</td>\n",
       "      <td>300</td>\n",
       "      <td>32</td>\n",
       "      <td>12.0</td>\n",
       "      <td>0.666667</td>\n",
       "    </tr>\n",
       "    <tr>\n",
       "      <th>article5.txt</th>\n",
       "      <td>Alicia Keys will return as host of the Grammy ...</td>\n",
       "      <td>[Alicia Keys will return as host of the Grammy...</td>\n",
       "      <td>[[(Alicia, NNP), (Keys, NNP), (will, MD), (ret...</td>\n",
       "      <td>[[Alicia, Keys, will, return, as, host, of, th...</td>\n",
       "      <td>[alicia, keys, return, host, grammy, awards, c...</td>\n",
       "      <td>[Alicia, Keys, will, return, as, host, of, the...</td>\n",
       "      <td>105</td>\n",
       "      <td>[[Alicia Keys, PERSON], [the Grammy Awards, EV...</td>\n",
       "      <td>105</td>\n",
       "      <td>5.40</td>\n",
       "      <td>15</td>\n",
       "      <td>308</td>\n",
       "      <td>141</td>\n",
       "      <td>12</td>\n",
       "      <td>7.5</td>\n",
       "      <td>0.744681</td>\n",
       "    </tr>\n",
       "    <tr>\n",
       "      <th>article6.txt</th>\n",
       "      <td>Unlike Trump Ukraine scandal , no one died at ...</td>\n",
       "      <td>[Unlike Trump Ukraine scandal , no one died at...</td>\n",
       "      <td>[[(Unlike, IN), (Trump, NNP), (Ukraine, NNP), ...</td>\n",
       "      <td>[[Unlike, Trump, Ukraine, scandal, ,, no, one,...</td>\n",
       "      <td>[unlike, trump, ukraine, scandal, one, died, w...</td>\n",
       "      <td>[Unlike, Trump, Ukraine, scandal, ,, no, one, ...</td>\n",
       "      <td>537</td>\n",
       "      <td>[[Trump Ukraine, PERSON], [Watergate Editor ',...</td>\n",
       "      <td>537</td>\n",
       "      <td>7.01</td>\n",
       "      <td>67</td>\n",
       "      <td>1529</td>\n",
       "      <td>794</td>\n",
       "      <td>63</td>\n",
       "      <td>33.5</td>\n",
       "      <td>0.676322</td>\n",
       "    </tr>\n",
       "    <tr>\n",
       "      <th>article7.txt</th>\n",
       "      <td>Two teens are dead after a 16 - year - old gun...</td>\n",
       "      <td>[Two teens are dead after a 16 - year - old gu...</td>\n",
       "      <td>[[(Two, CD), (teens, NNS), (are, VBP), (dead, ...</td>\n",
       "      <td>[[Two, teens, are, dead, after, a, 16, -, year...</td>\n",
       "      <td>[two, teens, dead, year, old, gunman, shot, cl...</td>\n",
       "      <td>[Two, teens, are, dead, after, a, 16, -, year,...</td>\n",
       "      <td>338</td>\n",
       "      <td>[[Los Angeles, GPE], [CNN, ORG], [Southern Cal...</td>\n",
       "      <td>338</td>\n",
       "      <td>6.05</td>\n",
       "      <td>52</td>\n",
       "      <td>1141</td>\n",
       "      <td>548</td>\n",
       "      <td>38</td>\n",
       "      <td>26.0</td>\n",
       "      <td>0.616788</td>\n",
       "    </tr>\n",
       "    <tr>\n",
       "      <th>article8.txt</th>\n",
       "      <td>Disney + warns viewers that old movies may hav...</td>\n",
       "      <td>[Disney + warns viewers that old movies may ha...</td>\n",
       "      <td>[[(Disney, NNP), (+, NNP), (warns, VBZ), (view...</td>\n",
       "      <td>[[Disney, +, warns, viewers, that, old, movies...</td>\n",
       "      <td>[disney, warns, viewers, old, movies, may, out...</td>\n",
       "      <td>[Disney, +, warns, viewers, that, old, movies,...</td>\n",
       "      <td>116</td>\n",
       "      <td>[[CNN, ORG], [Dumbo, PERSON], [Jim Crow, PERSO...</td>\n",
       "      <td>116</td>\n",
       "      <td>6.41</td>\n",
       "      <td>18</td>\n",
       "      <td>318</td>\n",
       "      <td>152</td>\n",
       "      <td>14</td>\n",
       "      <td>9.0</td>\n",
       "      <td>0.763158</td>\n",
       "    </tr>\n",
       "    <tr>\n",
       "      <th>article9.txt</th>\n",
       "      <td>Student protesters fortify campus occupations ...</td>\n",
       "      <td>[Student protesters fortify campus occupations...</td>\n",
       "      <td>[[(Student, NN), (protesters, NNS), (fortify, ...</td>\n",
       "      <td>[[Student, protesters, fortify, campus, occupa...</td>\n",
       "      <td>[student, protesters, fortify, campus, occupat...</td>\n",
       "      <td>[Student, protesters, fortify, campus, occupat...</td>\n",
       "      <td>438</td>\n",
       "      <td>[[Hong Kong, GPE], [CNN, ORG], [Chinese, NORP]...</td>\n",
       "      <td>438</td>\n",
       "      <td>6.44</td>\n",
       "      <td>46</td>\n",
       "      <td>1304</td>\n",
       "      <td>678</td>\n",
       "      <td>31</td>\n",
       "      <td>23.0</td>\n",
       "      <td>0.646018</td>\n",
       "    </tr>\n",
       "  </tbody>\n",
       "</table>\n",
       "</div>"
      ],
      "text/plain": [
       "                                                            text  \\\n",
       "id                                                                 \n",
       "article0.txt   Pink taking a break to focus on family ( CNN )...   \n",
       "article1.txt   Deval Patrick tells allies he ' s running for ...   \n",
       "article10.txt  Meet Narwhal , the rescue puppy with a tail gr...   \n",
       "article11.txt  Democrats ' 2020 uncertainty has heavyweights ...   \n",
       "article12.txt  Most important takeaways from the first day of...   \n",
       "article13.txt  How I became an all - American Muslim girl Edi...   \n",
       "article2.txt   Fox ' s prime time stars are telling Trump tha...   \n",
       "article3.txt   Marine deserter wanted for murder spotted in R...   \n",
       "article4.txt   Trump Organization explores selling DC hotel (...   \n",
       "article5.txt   Alicia Keys will return as host of the Grammy ...   \n",
       "article6.txt   Unlike Trump Ukraine scandal , no one died at ...   \n",
       "article7.txt   Two teens are dead after a 16 - year - old gun...   \n",
       "article8.txt   Disney + warns viewers that old movies may hav...   \n",
       "article9.txt   Student protesters fortify campus occupations ...   \n",
       "\n",
       "                                                      sent_token  \\\n",
       "id                                                                 \n",
       "article0.txt   [Pink taking a break to focus on family ( CNN ...   \n",
       "article1.txt   [Deval Patrick tells allies he ' s running for...   \n",
       "article10.txt  [Meet Narwhal , the rescue puppy with a tail g...   \n",
       "article11.txt  [Democrats ' 2020 uncertainty has heavyweights...   \n",
       "article12.txt  [Most important takeaways from the first day o...   \n",
       "article13.txt  [How I became an all - American Muslim girl Ed...   \n",
       "article2.txt   [Fox ' s prime time stars are telling Trump th...   \n",
       "article3.txt   [Marine deserter wanted for murder spotted in ...   \n",
       "article4.txt   [Trump Organization explores selling DC hotel ...   \n",
       "article5.txt   [Alicia Keys will return as host of the Grammy...   \n",
       "article6.txt   [Unlike Trump Ukraine scandal , no one died at...   \n",
       "article7.txt   [Two teens are dead after a 16 - year - old gu...   \n",
       "article8.txt   [Disney + warns viewers that old movies may ha...   \n",
       "article9.txt   [Student protesters fortify campus occupations...   \n",
       "\n",
       "                                                     word_tagged  \\\n",
       "id                                                                 \n",
       "article0.txt   [[(Pink, NNP), (taking, VBG), (a, DT), (break,...   \n",
       "article1.txt   [[(Deval, NNP), (Patrick, NNP), (tells, VBZ), ...   \n",
       "article10.txt  [[(Meet, NNP), (Narwhal, NNP), (,, ,), (the, D...   \n",
       "article11.txt  [[(Democrats, NNPS), (', POS), (2020, CD), (un...   \n",
       "article12.txt  [[(Most, RBS), (important, JJ), (takeaways, NN...   \n",
       "article13.txt  [[(How, WRB), (I, PRP), (became, VBD), (an, DT...   \n",
       "article2.txt   [[(Fox, NNP), (', POS), (s, JJ), (prime, JJ), ...   \n",
       "article3.txt   [[(Marine, NNP), (deserter, NN), (wanted, VBD)...   \n",
       "article4.txt   [[(Trump, NNP), (Organization, NNP), (explores...   \n",
       "article5.txt   [[(Alicia, NNP), (Keys, NNP), (will, MD), (ret...   \n",
       "article6.txt   [[(Unlike, IN), (Trump, NNP), (Ukraine, NNP), ...   \n",
       "article7.txt   [[(Two, CD), (teens, NNS), (are, VBP), (dead, ...   \n",
       "article8.txt   [[(Disney, NNP), (+, NNP), (warns, VBZ), (view...   \n",
       "article9.txt   [[(Student, NN), (protesters, NNS), (fortify, ...   \n",
       "\n",
       "                                                      word_token  \\\n",
       "id                                                                 \n",
       "article0.txt   [[Pink, taking, a, break, to, focus, on, famil...   \n",
       "article1.txt   [[Deval, Patrick, tells, allies, he, ', s, run...   \n",
       "article10.txt  [[Meet, Narwhal, ,, the, rescue, puppy, with, ...   \n",
       "article11.txt  [[Democrats, ', 2020, uncertainty, has, heavyw...   \n",
       "article12.txt  [[Most, important, takeaways, from, the, first...   \n",
       "article13.txt  [[How, I, became, an, all, -, American, Muslim...   \n",
       "article2.txt   [[Fox, ', s, prime, time, stars, are, telling,...   \n",
       "article3.txt   [[Marine, deserter, wanted, for, murder, spott...   \n",
       "article4.txt   [[Trump, Organization, explores, selling, DC, ...   \n",
       "article5.txt   [[Alicia, Keys, will, return, as, host, of, th...   \n",
       "article6.txt   [[Unlike, Trump, Ukraine, scandal, ,, no, one,...   \n",
       "article7.txt   [[Two, teens, are, dead, after, a, 16, -, year...   \n",
       "article8.txt   [[Disney, +, warns, viewers, that, old, movies...   \n",
       "article9.txt   [[Student, protesters, fortify, campus, occupa...   \n",
       "\n",
       "                                                        no_stops  \\\n",
       "id                                                                 \n",
       "article0.txt   [pink, taking, break, focus, family, cnn, pink...   \n",
       "article1.txt   [deval, patrick, tells, allies, running, presi...   \n",
       "article10.txt  [meet, narwhal, rescue, puppy, tail, growing, ...   \n",
       "article11.txt  [democrats, uncertainty, heavyweights, thinkin...   \n",
       "article12.txt  [important, takeaways, first, day, public, imp...   \n",
       "article13.txt  [became, american, muslim, girl, editor, note,...   \n",
       "article2.txt   [fox, prime, time, stars, telling, trump, impe...   \n",
       "article3.txt   [marine, deserter, wanted, murder, spotted, ro...   \n",
       "article4.txt   [trump, organization, explores, selling, dc, h...   \n",
       "article5.txt   [alicia, keys, return, host, grammy, awards, c...   \n",
       "article6.txt   [unlike, trump, ukraine, scandal, one, died, w...   \n",
       "article7.txt   [two, teens, dead, year, old, gunman, shot, cl...   \n",
       "article8.txt   [disney, warns, viewers, old, movies, may, out...   \n",
       "article9.txt   [student, protesters, fortify, campus, occupat...   \n",
       "\n",
       "                                                         words_3  vocab  \\\n",
       "id                                                                        \n",
       "article0.txt   [Pink, taking, a, break, to, focus, on, family...     98   \n",
       "article1.txt   [Deval, Patrick, tells, allies, he, ', s, runn...    265   \n",
       "article10.txt  [Meet, Narwhal, ,, the, rescue, puppy, with, a...    181   \n",
       "article11.txt  [Democrats, ', 2020, uncertainty, has, heavywe...    324   \n",
       "article12.txt  [Most, important, takeaways, from, the, first,...    588   \n",
       "article13.txt  [How, I, became, an, all, -, American, Muslim,...    379   \n",
       "article2.txt   [Fox, ', s, prime, time, stars, are, telling, ...    512   \n",
       "article3.txt   [Marine, deserter, wanted, for, murder, spotte...    282   \n",
       "article4.txt   [Trump, Organization, explores, selling, DC, h...    200   \n",
       "article5.txt   [Alicia, Keys, will, return, as, host, of, the...    105   \n",
       "article6.txt   [Unlike, Trump, Ukraine, scandal, ,, no, one, ...    537   \n",
       "article7.txt   [Two, teens, are, dead, after, a, 16, -, year,...    338   \n",
       "article8.txt   [Disney, +, warns, viewers, that, old, movies,...    116   \n",
       "article9.txt   [Student, protesters, fortify, campus, occupat...    438   \n",
       "\n",
       "                                                        entities  #_vocab  \\\n",
       "id                                                                          \n",
       "article0.txt   [[CNN, ORG], [Entertainment Tonight, WORK_OF_A...       98   \n",
       "article1.txt   [[Deval Patrick, PERSON], [CNN, ORG], [Massach...      265   \n",
       "article10.txt  [[Meet Narwhal, PERSON], [CNN, ORG], [Missouri...      181   \n",
       "article11.txt  [[Democrats, NORP], [CNN, ORG], [Democratic, N...      324   \n",
       "article12.txt  [[CNN, ORG], [The House Intelligence Committee...      588   \n",
       "article13.txt  [[Muslim, NORP], [Jolie Courtney, PERSON], [Al...      379   \n",
       "article2.txt   [[Fox, ORG], [Trump, PRODUCT], [Democrats, NOR...      512   \n",
       "article3.txt   [[Roanoke, GPE], [Virginia, GPE], [CNN, ORG], ...      282   \n",
       "article4.txt   [[Trump Organization, ORG], [CNN, ORG], [The T...      200   \n",
       "article5.txt   [[Alicia Keys, PERSON], [the Grammy Awards, EV...      105   \n",
       "article6.txt   [[Trump Ukraine, PERSON], [Watergate Editor ',...      537   \n",
       "article7.txt   [[Los Angeles, GPE], [CNN, ORG], [Southern Cal...      338   \n",
       "article8.txt   [[CNN, ORG], [Dumbo, PERSON], [Jim Crow, PERSO...      116   \n",
       "article9.txt   [[Hong Kong, GPE], [CNN, ORG], [Chinese, NORP]...      438   \n",
       "\n",
       "               #_char_per_words  #_sent  #_tokens  #_words  #_entities  \\\n",
       "id                                                                       \n",
       "article0.txt               5.72      13       279      120          14   \n",
       "article1.txt               6.34      27       748      371          33   \n",
       "article10.txt              5.87      26       619      262          14   \n",
       "article11.txt              6.18      43      1105      494          43   \n",
       "article12.txt              6.62      98      2144      971          78   \n",
       "article13.txt              6.17      60      1383      551          30   \n",
       "article2.txt               6.05      93      1947      865          82   \n",
       "article3.txt               6.06      47       901      428          30   \n",
       "article4.txt               6.62      24       600      300          32   \n",
       "article5.txt               5.40      15       308      141          12   \n",
       "article6.txt               7.01      67      1529      794          63   \n",
       "article7.txt               6.05      52      1141      548          38   \n",
       "article8.txt               6.41      18       318      152          14   \n",
       "article9.txt               6.44      46      1304      678          31   \n",
       "\n",
       "               #_words_per_sent  #_lex_div  \n",
       "id                                          \n",
       "article0.txt                6.5   0.816667  \n",
       "article1.txt               13.5   0.714286  \n",
       "article10.txt              13.0   0.690840  \n",
       "article11.txt              21.5   0.655870  \n",
       "article12.txt              49.0   0.605561  \n",
       "article13.txt              30.0   0.687840  \n",
       "article2.txt               46.5   0.591908  \n",
       "article3.txt               23.5   0.658879  \n",
       "article4.txt               12.0   0.666667  \n",
       "article5.txt                7.5   0.744681  \n",
       "article6.txt               33.5   0.676322  \n",
       "article7.txt               26.0   0.616788  \n",
       "article8.txt                9.0   0.763158  \n",
       "article9.txt               23.0   0.646018  "
      ]
     },
     "execution_count": 48,
     "metadata": {},
     "output_type": "execute_result"
    },
    {
     "data": {
      "application/javascript": [
       "\n",
       "            setTimeout(function() {\n",
       "                var nbb_cell_id = 48;\n",
       "                var nbb_unformatted_code = \"text_df[\\\"#_sent\\\"] = text_df[\\\"sent_token\\\"].str.len()\\ntext_df[\\\"#_tokens\\\"] = text_df[\\\"words_3\\\"].str.len()\\ntext_df[\\\"#_words\\\"] = text_df[\\\"no_stops\\\"].str.len()\\ntext_df[\\\"#_entities\\\"] = text_df[\\\"entities\\\"].str.len()\\ntext_df[\\\"#_words_per_sent\\\"] = (\\n    text_df[\\\"word_token\\\"].str.len() / text_df[\\\"#_sent\\\"].astype(str).str.len()\\n)\\ntext_df[\\\"#_lex_div\\\"] = text_df[\\\"vocab\\\"] / text_df[\\\"no_stops\\\"].str.len()\\n\\n# text_df = text_df.set_index(\\\"id\\\")\\n# drop_cols = [col for col in text_df.columns if \\\"#\\\" not in col]\\n# text_df = text_df.drop(drop_cols)\\ntext_df\";\n",
       "                var nbb_formatted_code = \"text_df[\\\"#_sent\\\"] = text_df[\\\"sent_token\\\"].str.len()\\ntext_df[\\\"#_tokens\\\"] = text_df[\\\"words_3\\\"].str.len()\\ntext_df[\\\"#_words\\\"] = text_df[\\\"no_stops\\\"].str.len()\\ntext_df[\\\"#_entities\\\"] = text_df[\\\"entities\\\"].str.len()\\ntext_df[\\\"#_words_per_sent\\\"] = (\\n    text_df[\\\"word_token\\\"].str.len() / text_df[\\\"#_sent\\\"].astype(str).str.len()\\n)\\ntext_df[\\\"#_lex_div\\\"] = text_df[\\\"vocab\\\"] / text_df[\\\"no_stops\\\"].str.len()\\n\\n# text_df = text_df.set_index(\\\"id\\\")\\n# drop_cols = [col for col in text_df.columns if \\\"#\\\" not in col]\\n# text_df = text_df.drop(drop_cols)\\ntext_df\";\n",
       "                var nbb_cells = Jupyter.notebook.get_cells();\n",
       "                for (var i = 0; i < nbb_cells.length; ++i) {\n",
       "                    if (nbb_cells[i].input_prompt_number == nbb_cell_id) {\n",
       "                        if (nbb_cells[i].get_text() == nbb_unformatted_code) {\n",
       "                             nbb_cells[i].set_text(nbb_formatted_code);\n",
       "                        }\n",
       "                        break;\n",
       "                    }\n",
       "                }\n",
       "            }, 500);\n",
       "            "
      ],
      "text/plain": [
       "<IPython.core.display.Javascript object>"
      ]
     },
     "metadata": {},
     "output_type": "display_data"
    }
   ],
   "source": [
    "text_df[\"#_sent\"] = text_df[\"sent_token\"].str.len()\n",
    "text_df[\"#_tokens\"] = text_df[\"words_3\"].str.len()\n",
    "text_df[\"#_words\"] = text_df[\"no_stops\"].str.len()\n",
    "text_df[\"#_entities\"] = text_df[\"entities\"].str.len()\n",
    "text_df[\"#_words_per_sent\"] = (\n",
    "    text_df[\"word_token\"].str.len() / text_df[\"#_sent\"].astype(str).str.len()\n",
    ")\n",
    "text_df[\"#_lex_div\"] = text_df[\"vocab\"] / text_df[\"no_stops\"].str.len()\n",
    "\n",
    "# text_df = text_df.set_index(\"id\")\n",
    "\n",
    "text_df"
   ]
  },
  {
   "cell_type": "code",
   "execution_count": 56,
   "metadata": {},
   "outputs": [
    {
     "name": "stdout",
     "output_type": "stream",
     "text": [
      "['text', 'sent_token', 'word_tagged', 'word_token', 'no_stops', 'words_3', 'vocab', 'entities']\n"
     ]
    },
    {
     "data": {
      "application/javascript": [
       "\n",
       "            setTimeout(function() {\n",
       "                var nbb_cell_id = 56;\n",
       "                var nbb_unformatted_code = \"drop_cols = [col for col in text_df.columns if \\\"#\\\" not in col]\\nprint(drop_cols)\\ntext_df = text_df.drop(drop_cols,axis=1)\";\n",
       "                var nbb_formatted_code = \"drop_cols = [col for col in text_df.columns if \\\"#\\\" not in col]\\nprint(drop_cols)\\ntext_df = text_df.drop(drop_cols, axis=1)\";\n",
       "                var nbb_cells = Jupyter.notebook.get_cells();\n",
       "                for (var i = 0; i < nbb_cells.length; ++i) {\n",
       "                    if (nbb_cells[i].input_prompt_number == nbb_cell_id) {\n",
       "                        if (nbb_cells[i].get_text() == nbb_unformatted_code) {\n",
       "                             nbb_cells[i].set_text(nbb_formatted_code);\n",
       "                        }\n",
       "                        break;\n",
       "                    }\n",
       "                }\n",
       "            }, 500);\n",
       "            "
      ],
      "text/plain": [
       "<IPython.core.display.Javascript object>"
      ]
     },
     "metadata": {},
     "output_type": "display_data"
    }
   ],
   "source": [
    "drop_cols = [col for col in text_df.columns if \"#\" not in col]\n",
    "print(drop_cols)\n",
    "text_df = text_df.drop(drop_cols, axis=1)"
   ]
  },
  {
   "cell_type": "markdown",
   "metadata": {
    "colab_type": "text",
    "id": "nTzNB5ChJeLW"
   },
   "source": [
    "### Iterate through all the documents, calculate these statistics for each one, and store all the results in a Pandas data frame."
   ]
  },
  {
   "cell_type": "code",
   "execution_count": 57,
   "metadata": {
    "scrolled": true
   },
   "outputs": [
    {
     "data": {
      "text/html": [
       "<div>\n",
       "<style scoped>\n",
       "    .dataframe tbody tr th:only-of-type {\n",
       "        vertical-align: middle;\n",
       "    }\n",
       "\n",
       "    .dataframe tbody tr th {\n",
       "        vertical-align: top;\n",
       "    }\n",
       "\n",
       "    .dataframe thead th {\n",
       "        text-align: right;\n",
       "    }\n",
       "</style>\n",
       "<table border=\"1\" class=\"dataframe\">\n",
       "  <thead>\n",
       "    <tr style=\"text-align: right;\">\n",
       "      <th></th>\n",
       "      <th>#_vocab</th>\n",
       "      <th>#_char_per_words</th>\n",
       "      <th>#_sent</th>\n",
       "      <th>#_tokens</th>\n",
       "      <th>#_words</th>\n",
       "      <th>#_entities</th>\n",
       "      <th>#_words_per_sent</th>\n",
       "      <th>#_lex_div</th>\n",
       "    </tr>\n",
       "    <tr>\n",
       "      <th>id</th>\n",
       "      <th></th>\n",
       "      <th></th>\n",
       "      <th></th>\n",
       "      <th></th>\n",
       "      <th></th>\n",
       "      <th></th>\n",
       "      <th></th>\n",
       "      <th></th>\n",
       "    </tr>\n",
       "  </thead>\n",
       "  <tbody>\n",
       "    <tr>\n",
       "      <th>article0.txt</th>\n",
       "      <td>98</td>\n",
       "      <td>5.72</td>\n",
       "      <td>13</td>\n",
       "      <td>279</td>\n",
       "      <td>120</td>\n",
       "      <td>14</td>\n",
       "      <td>6.5</td>\n",
       "      <td>0.816667</td>\n",
       "    </tr>\n",
       "    <tr>\n",
       "      <th>article1.txt</th>\n",
       "      <td>265</td>\n",
       "      <td>6.34</td>\n",
       "      <td>27</td>\n",
       "      <td>748</td>\n",
       "      <td>371</td>\n",
       "      <td>33</td>\n",
       "      <td>13.5</td>\n",
       "      <td>0.714286</td>\n",
       "    </tr>\n",
       "    <tr>\n",
       "      <th>article10.txt</th>\n",
       "      <td>181</td>\n",
       "      <td>5.87</td>\n",
       "      <td>26</td>\n",
       "      <td>619</td>\n",
       "      <td>262</td>\n",
       "      <td>14</td>\n",
       "      <td>13.0</td>\n",
       "      <td>0.690840</td>\n",
       "    </tr>\n",
       "    <tr>\n",
       "      <th>article11.txt</th>\n",
       "      <td>324</td>\n",
       "      <td>6.18</td>\n",
       "      <td>43</td>\n",
       "      <td>1105</td>\n",
       "      <td>494</td>\n",
       "      <td>43</td>\n",
       "      <td>21.5</td>\n",
       "      <td>0.655870</td>\n",
       "    </tr>\n",
       "    <tr>\n",
       "      <th>article12.txt</th>\n",
       "      <td>588</td>\n",
       "      <td>6.62</td>\n",
       "      <td>98</td>\n",
       "      <td>2144</td>\n",
       "      <td>971</td>\n",
       "      <td>78</td>\n",
       "      <td>49.0</td>\n",
       "      <td>0.605561</td>\n",
       "    </tr>\n",
       "    <tr>\n",
       "      <th>article13.txt</th>\n",
       "      <td>379</td>\n",
       "      <td>6.17</td>\n",
       "      <td>60</td>\n",
       "      <td>1383</td>\n",
       "      <td>551</td>\n",
       "      <td>30</td>\n",
       "      <td>30.0</td>\n",
       "      <td>0.687840</td>\n",
       "    </tr>\n",
       "    <tr>\n",
       "      <th>article2.txt</th>\n",
       "      <td>512</td>\n",
       "      <td>6.05</td>\n",
       "      <td>93</td>\n",
       "      <td>1947</td>\n",
       "      <td>865</td>\n",
       "      <td>82</td>\n",
       "      <td>46.5</td>\n",
       "      <td>0.591908</td>\n",
       "    </tr>\n",
       "    <tr>\n",
       "      <th>article3.txt</th>\n",
       "      <td>282</td>\n",
       "      <td>6.06</td>\n",
       "      <td>47</td>\n",
       "      <td>901</td>\n",
       "      <td>428</td>\n",
       "      <td>30</td>\n",
       "      <td>23.5</td>\n",
       "      <td>0.658879</td>\n",
       "    </tr>\n",
       "    <tr>\n",
       "      <th>article4.txt</th>\n",
       "      <td>200</td>\n",
       "      <td>6.62</td>\n",
       "      <td>24</td>\n",
       "      <td>600</td>\n",
       "      <td>300</td>\n",
       "      <td>32</td>\n",
       "      <td>12.0</td>\n",
       "      <td>0.666667</td>\n",
       "    </tr>\n",
       "    <tr>\n",
       "      <th>article5.txt</th>\n",
       "      <td>105</td>\n",
       "      <td>5.40</td>\n",
       "      <td>15</td>\n",
       "      <td>308</td>\n",
       "      <td>141</td>\n",
       "      <td>12</td>\n",
       "      <td>7.5</td>\n",
       "      <td>0.744681</td>\n",
       "    </tr>\n",
       "    <tr>\n",
       "      <th>article6.txt</th>\n",
       "      <td>537</td>\n",
       "      <td>7.01</td>\n",
       "      <td>67</td>\n",
       "      <td>1529</td>\n",
       "      <td>794</td>\n",
       "      <td>63</td>\n",
       "      <td>33.5</td>\n",
       "      <td>0.676322</td>\n",
       "    </tr>\n",
       "    <tr>\n",
       "      <th>article7.txt</th>\n",
       "      <td>338</td>\n",
       "      <td>6.05</td>\n",
       "      <td>52</td>\n",
       "      <td>1141</td>\n",
       "      <td>548</td>\n",
       "      <td>38</td>\n",
       "      <td>26.0</td>\n",
       "      <td>0.616788</td>\n",
       "    </tr>\n",
       "    <tr>\n",
       "      <th>article8.txt</th>\n",
       "      <td>116</td>\n",
       "      <td>6.41</td>\n",
       "      <td>18</td>\n",
       "      <td>318</td>\n",
       "      <td>152</td>\n",
       "      <td>14</td>\n",
       "      <td>9.0</td>\n",
       "      <td>0.763158</td>\n",
       "    </tr>\n",
       "    <tr>\n",
       "      <th>article9.txt</th>\n",
       "      <td>438</td>\n",
       "      <td>6.44</td>\n",
       "      <td>46</td>\n",
       "      <td>1304</td>\n",
       "      <td>678</td>\n",
       "      <td>31</td>\n",
       "      <td>23.0</td>\n",
       "      <td>0.646018</td>\n",
       "    </tr>\n",
       "  </tbody>\n",
       "</table>\n",
       "</div>"
      ],
      "text/plain": [
       "               #_vocab  #_char_per_words  #_sent  #_tokens  #_words  \\\n",
       "id                                                                    \n",
       "article0.txt        98              5.72      13       279      120   \n",
       "article1.txt       265              6.34      27       748      371   \n",
       "article10.txt      181              5.87      26       619      262   \n",
       "article11.txt      324              6.18      43      1105      494   \n",
       "article12.txt      588              6.62      98      2144      971   \n",
       "article13.txt      379              6.17      60      1383      551   \n",
       "article2.txt       512              6.05      93      1947      865   \n",
       "article3.txt       282              6.06      47       901      428   \n",
       "article4.txt       200              6.62      24       600      300   \n",
       "article5.txt       105              5.40      15       308      141   \n",
       "article6.txt       537              7.01      67      1529      794   \n",
       "article7.txt       338              6.05      52      1141      548   \n",
       "article8.txt       116              6.41      18       318      152   \n",
       "article9.txt       438              6.44      46      1304      678   \n",
       "\n",
       "               #_entities  #_words_per_sent  #_lex_div  \n",
       "id                                                      \n",
       "article0.txt           14               6.5   0.816667  \n",
       "article1.txt           33              13.5   0.714286  \n",
       "article10.txt          14              13.0   0.690840  \n",
       "article11.txt          43              21.5   0.655870  \n",
       "article12.txt          78              49.0   0.605561  \n",
       "article13.txt          30              30.0   0.687840  \n",
       "article2.txt           82              46.5   0.591908  \n",
       "article3.txt           30              23.5   0.658879  \n",
       "article4.txt           32              12.0   0.666667  \n",
       "article5.txt           12               7.5   0.744681  \n",
       "article6.txt           63              33.5   0.676322  \n",
       "article7.txt           38              26.0   0.616788  \n",
       "article8.txt           14               9.0   0.763158  \n",
       "article9.txt           31              23.0   0.646018  "
      ]
     },
     "execution_count": 57,
     "metadata": {},
     "output_type": "execute_result"
    },
    {
     "data": {
      "application/javascript": [
       "\n",
       "            setTimeout(function() {\n",
       "                var nbb_cell_id = 57;\n",
       "                var nbb_unformatted_code = \"text_df\";\n",
       "                var nbb_formatted_code = \"text_df\";\n",
       "                var nbb_cells = Jupyter.notebook.get_cells();\n",
       "                for (var i = 0; i < nbb_cells.length; ++i) {\n",
       "                    if (nbb_cells[i].input_prompt_number == nbb_cell_id) {\n",
       "                        if (nbb_cells[i].get_text() == nbb_unformatted_code) {\n",
       "                             nbb_cells[i].set_text(nbb_formatted_code);\n",
       "                        }\n",
       "                        break;\n",
       "                    }\n",
       "                }\n",
       "            }, 500);\n",
       "            "
      ],
      "text/plain": [
       "<IPython.core.display.Javascript object>"
      ]
     },
     "metadata": {},
     "output_type": "display_data"
    }
   ],
   "source": [
    "text_df"
   ]
  },
  {
   "cell_type": "markdown",
   "metadata": {
    "colab_type": "text",
    "id": "mMusidpEJeLY"
   },
   "source": [
    "### Summarize these statistics for the entire corpus by calling the Pandas `describe` method."
   ]
  },
  {
   "cell_type": "code",
   "execution_count": 58,
   "metadata": {
    "colab": {},
    "colab_type": "code",
    "id": "vaoJyuE4JeLZ"
   },
   "outputs": [
    {
     "data": {
      "text/html": [
       "<div>\n",
       "<style scoped>\n",
       "    .dataframe tbody tr th:only-of-type {\n",
       "        vertical-align: middle;\n",
       "    }\n",
       "\n",
       "    .dataframe tbody tr th {\n",
       "        vertical-align: top;\n",
       "    }\n",
       "\n",
       "    .dataframe thead th {\n",
       "        text-align: right;\n",
       "    }\n",
       "</style>\n",
       "<table border=\"1\" class=\"dataframe\">\n",
       "  <thead>\n",
       "    <tr style=\"text-align: right;\">\n",
       "      <th></th>\n",
       "      <th>#_vocab</th>\n",
       "      <th>#_char_per_words</th>\n",
       "      <th>#_sent</th>\n",
       "      <th>#_tokens</th>\n",
       "      <th>#_words</th>\n",
       "      <th>#_entities</th>\n",
       "      <th>#_words_per_sent</th>\n",
       "      <th>#_lex_div</th>\n",
       "    </tr>\n",
       "  </thead>\n",
       "  <tbody>\n",
       "    <tr>\n",
       "      <th>count</th>\n",
       "      <td>14.000000</td>\n",
       "      <td>14.000000</td>\n",
       "      <td>14.000000</td>\n",
       "      <td>14.000000</td>\n",
       "      <td>14.000000</td>\n",
       "      <td>14.000000</td>\n",
       "      <td>14.000000</td>\n",
       "      <td>14.000000</td>\n",
       "    </tr>\n",
       "    <tr>\n",
       "      <th>mean</th>\n",
       "      <td>311.642857</td>\n",
       "      <td>6.210000</td>\n",
       "      <td>44.928571</td>\n",
       "      <td>1023.285714</td>\n",
       "      <td>476.785714</td>\n",
       "      <td>36.714286</td>\n",
       "      <td>22.464286</td>\n",
       "      <td>0.681106</td>\n",
       "    </tr>\n",
       "    <tr>\n",
       "      <th>std</th>\n",
       "      <td>163.579953</td>\n",
       "      <td>0.408939</td>\n",
       "      <td>27.257926</td>\n",
       "      <td>594.209291</td>\n",
       "      <td>275.043543</td>\n",
       "      <td>22.879042</td>\n",
       "      <td>13.628963</td>\n",
       "      <td>0.062503</td>\n",
       "    </tr>\n",
       "    <tr>\n",
       "      <th>min</th>\n",
       "      <td>98.000000</td>\n",
       "      <td>5.400000</td>\n",
       "      <td>13.000000</td>\n",
       "      <td>279.000000</td>\n",
       "      <td>120.000000</td>\n",
       "      <td>12.000000</td>\n",
       "      <td>6.500000</td>\n",
       "      <td>0.591908</td>\n",
       "    </tr>\n",
       "    <tr>\n",
       "      <th>25%</th>\n",
       "      <td>185.750000</td>\n",
       "      <td>6.050000</td>\n",
       "      <td>24.500000</td>\n",
       "      <td>604.750000</td>\n",
       "      <td>271.500000</td>\n",
       "      <td>18.000000</td>\n",
       "      <td>12.250000</td>\n",
       "      <td>0.648481</td>\n",
       "    </tr>\n",
       "    <tr>\n",
       "      <th>50%</th>\n",
       "      <td>303.000000</td>\n",
       "      <td>6.175000</td>\n",
       "      <td>44.500000</td>\n",
       "      <td>1003.000000</td>\n",
       "      <td>461.000000</td>\n",
       "      <td>31.500000</td>\n",
       "      <td>22.250000</td>\n",
       "      <td>0.671495</td>\n",
       "    </tr>\n",
       "    <tr>\n",
       "      <th>75%</th>\n",
       "      <td>423.250000</td>\n",
       "      <td>6.432500</td>\n",
       "      <td>58.000000</td>\n",
       "      <td>1363.250000</td>\n",
       "      <td>646.250000</td>\n",
       "      <td>41.750000</td>\n",
       "      <td>29.000000</td>\n",
       "      <td>0.708424</td>\n",
       "    </tr>\n",
       "    <tr>\n",
       "      <th>max</th>\n",
       "      <td>588.000000</td>\n",
       "      <td>7.010000</td>\n",
       "      <td>98.000000</td>\n",
       "      <td>2144.000000</td>\n",
       "      <td>971.000000</td>\n",
       "      <td>82.000000</td>\n",
       "      <td>49.000000</td>\n",
       "      <td>0.816667</td>\n",
       "    </tr>\n",
       "  </tbody>\n",
       "</table>\n",
       "</div>"
      ],
      "text/plain": [
       "          #_vocab  #_char_per_words     #_sent     #_tokens     #_words  \\\n",
       "count   14.000000         14.000000  14.000000    14.000000   14.000000   \n",
       "mean   311.642857          6.210000  44.928571  1023.285714  476.785714   \n",
       "std    163.579953          0.408939  27.257926   594.209291  275.043543   \n",
       "min     98.000000          5.400000  13.000000   279.000000  120.000000   \n",
       "25%    185.750000          6.050000  24.500000   604.750000  271.500000   \n",
       "50%    303.000000          6.175000  44.500000  1003.000000  461.000000   \n",
       "75%    423.250000          6.432500  58.000000  1363.250000  646.250000   \n",
       "max    588.000000          7.010000  98.000000  2144.000000  971.000000   \n",
       "\n",
       "       #_entities  #_words_per_sent  #_lex_div  \n",
       "count   14.000000         14.000000  14.000000  \n",
       "mean    36.714286         22.464286   0.681106  \n",
       "std     22.879042         13.628963   0.062503  \n",
       "min     12.000000          6.500000   0.591908  \n",
       "25%     18.000000         12.250000   0.648481  \n",
       "50%     31.500000         22.250000   0.671495  \n",
       "75%     41.750000         29.000000   0.708424  \n",
       "max     82.000000         49.000000   0.816667  "
      ]
     },
     "execution_count": 58,
     "metadata": {},
     "output_type": "execute_result"
    },
    {
     "data": {
      "application/javascript": [
       "\n",
       "            setTimeout(function() {\n",
       "                var nbb_cell_id = 58;\n",
       "                var nbb_unformatted_code = \"text_df.describe()\";\n",
       "                var nbb_formatted_code = \"text_df.describe()\";\n",
       "                var nbb_cells = Jupyter.notebook.get_cells();\n",
       "                for (var i = 0; i < nbb_cells.length; ++i) {\n",
       "                    if (nbb_cells[i].input_prompt_number == nbb_cell_id) {\n",
       "                        if (nbb_cells[i].get_text() == nbb_unformatted_code) {\n",
       "                             nbb_cells[i].set_text(nbb_formatted_code);\n",
       "                        }\n",
       "                        break;\n",
       "                    }\n",
       "                }\n",
       "            }, 500);\n",
       "            "
      ],
      "text/plain": [
       "<IPython.core.display.Javascript object>"
      ]
     },
     "metadata": {},
     "output_type": "display_data"
    }
   ],
   "source": [
    "text_df.describe()"
   ]
  },
  {
   "cell_type": "markdown",
   "metadata": {
    "colab_type": "text",
    "id": "ljYdviFFJeLa"
   },
   "source": [
    "### Choose a document from the list of documents you created earlier and generate a frequency distribution bar chart for it showing which terms appear most frequently in the text."
   ]
  },
  {
   "cell_type": "code",
   "execution_count": 64,
   "metadata": {
    "colab": {},
    "colab_type": "code",
    "id": "l3AuhSQzJeLb"
   },
   "outputs": [
    {
     "data": {
      "image/png": "[encoded data removed]",
      "text/plain": [
       "<Figure size 2016x1152 with 1 Axes>"
      ]
     },
     "metadata": {
      "needs_background": "light"
     },
     "output_type": "display_data"
    },
    {
     "data": {
      "application/javascript": [
       "\n",
       "            setTimeout(function() {\n",
       "                var nbb_cell_id = 64;\n",
       "                var nbb_unformatted_code = \"doc = text_list[5]\\ncleaned = [\\n    token.lower()\\n    for token in word_tokenize(doc)\\n    if token.lower() not in stopwords.words(\\\"english\\\")\\n    if token.isalpha()\\n]\\n\\nfdist = FreqDist(cleaned)\\nfdist_df = pd.DataFrame.from_dict(fdist, orient=\\\"index\\\").reset_index()\\nfdist_df.columns = [\\\"Term\\\", \\\"Freq\\\"]\\nordered = fdist_df.sort_values(\\\"Freq\\\", ascending=False)\\nfiltered = ordered[ordered[\\\"Freq\\\"] > 1]\\n\\nplt.figure(figsize=(28, 16))\\nsns.barplot(data=filtered, x=\\\"Freq\\\", y=\\\"Term\\\")\\nplt.title(\\\"Term Frequency Distribution \\\\n\\\", fontsize=16)\\nplt.show()\";\n",
       "                var nbb_formatted_code = \"doc = text_list[5]\\ncleaned = [\\n    token.lower()\\n    for token in word_tokenize(doc)\\n    if token.lower() not in stopwords.words(\\\"english\\\")\\n    if token.isalpha()\\n]\\n\\nfdist = FreqDist(cleaned)\\nfdist_df = pd.DataFrame.from_dict(fdist, orient=\\\"index\\\").reset_index()\\nfdist_df.columns = [\\\"Term\\\", \\\"Freq\\\"]\\nordered = fdist_df.sort_values(\\\"Freq\\\", ascending=False)\\nfiltered = ordered[ordered[\\\"Freq\\\"] > 1]\\n\\nplt.figure(figsize=(28, 16))\\nsns.barplot(data=filtered, x=\\\"Freq\\\", y=\\\"Term\\\")\\nplt.title(\\\"Term Frequency Distribution \\\\n\\\", fontsize=16)\\nplt.show()\";\n",
       "                var nbb_cells = Jupyter.notebook.get_cells();\n",
       "                for (var i = 0; i < nbb_cells.length; ++i) {\n",
       "                    if (nbb_cells[i].input_prompt_number == nbb_cell_id) {\n",
       "                        if (nbb_cells[i].get_text() == nbb_unformatted_code) {\n",
       "                             nbb_cells[i].set_text(nbb_formatted_code);\n",
       "                        }\n",
       "                        break;\n",
       "                    }\n",
       "                }\n",
       "            }, 500);\n",
       "            "
      ],
      "text/plain": [
       "<IPython.core.display.Javascript object>"
      ]
     },
     "metadata": {},
     "output_type": "display_data"
    }
   ],
   "source": [
    "doc = text_list[5]\n",
    "cleaned = [\n",
    "    token.lower()\n",
    "    for token in word_tokenize(doc)\n",
    "    if token.lower() not in stopwords.words(\"english\")\n",
    "    if token.isalpha()\n",
    "]\n",
    "\n",
    "fdist = FreqDist(cleaned)\n",
    "fdist_df = pd.DataFrame.from_dict(fdist, orient=\"index\").reset_index()\n",
    "fdist_df.columns = [\"Term\", \"Freq\"]\n",
    "ordered = fdist_df.sort_values(\"Freq\", ascending=False)\n",
    "filtered = ordered[ordered[\"Freq\"] > 1]\n",
    "\n",
    "plt.figure(figsize=(28, 16))\n",
    "sns.barplot(data=filtered, x=\"Freq\", y=\"Term\")\n",
    "plt.title(\"Term Frequency Distribution \\n\", fontsize=16)\n",
    "plt.show()"
   ]
  },
  {
   "cell_type": "markdown",
   "metadata": {
    "colab_type": "text",
    "id": "1axjKBypJeLc"
   },
   "source": [
    "### Generate a word cloud visualization for the same document for which you generated the frequency distribution."
   ]
  },
  {
   "cell_type": "code",
   "execution_count": 72,
   "metadata": {
    "colab": {},
    "colab_type": "code",
    "id": "vMcdU5gMJeLf"
   },
   "outputs": [
    {
     "data": {
      "application/javascript": [
       "\n",
       "            setTimeout(function() {\n",
       "                var nbb_cell_id = 72;\n",
       "                var nbb_unformatted_code = \"def word_cloud(text, colormap='tab10', background_color='white'):\\n    cloud = WordCloud(width=1600,height=800, stopwords=STOPWORDS, colormap=colormap,\\n                     background_color=background_color).generate(text)\\n    \\n    plt.figure(figsize=(12,10))\\n    plt.imshow(cloud)\\n    plt.axis(\\\"off\\\")\\n    plt.tight_layout(pad=0)\\n    plt.show()\";\n",
       "                var nbb_formatted_code = \"def word_cloud(text, colormap=\\\"tab10\\\", background_color=\\\"white\\\"):\\n    cloud = WordCloud(\\n        width=1600,\\n        height=800,\\n        stopwords=STOPWORDS,\\n        colormap=colormap,\\n        background_color=background_color,\\n    ).generate(text)\\n\\n    plt.figure(figsize=(12, 10))\\n    plt.imshow(cloud)\\n    plt.axis(\\\"off\\\")\\n    plt.tight_layout(pad=0)\\n    plt.show()\";\n",
       "                var nbb_cells = Jupyter.notebook.get_cells();\n",
       "                for (var i = 0; i < nbb_cells.length; ++i) {\n",
       "                    if (nbb_cells[i].input_prompt_number == nbb_cell_id) {\n",
       "                        if (nbb_cells[i].get_text() == nbb_unformatted_code) {\n",
       "                             nbb_cells[i].set_text(nbb_formatted_code);\n",
       "                        }\n",
       "                        break;\n",
       "                    }\n",
       "                }\n",
       "            }, 500);\n",
       "            "
      ],
      "text/plain": [
       "<IPython.core.display.Javascript object>"
      ]
     },
     "metadata": {},
     "output_type": "display_data"
    }
   ],
   "source": [
    "def word_cloud(text, colormap=\"tab10\", background_color=\"white\"):\n",
    "    cloud = WordCloud(\n",
    "        width=1600,\n",
    "        height=800,\n",
    "        stopwords=STOPWORDS,\n",
    "        colormap=colormap,\n",
    "        background_color=background_color,\n",
    "    ).generate(text)\n",
    "\n",
    "    plt.figure(figsize=(12, 10))\n",
    "    plt.imshow(cloud)\n",
    "    plt.axis(\"off\")\n",
    "    plt.tight_layout(pad=0)\n",
    "    plt.show()"
   ]
  },
  {
   "cell_type": "code",
   "execution_count": 73,
   "metadata": {},
   "outputs": [
    {
     "data": {
      "image/png": "[encoded data removed]",
      "text/plain": [
       "<Figure size 864x720 with 1 Axes>"
      ]
     },
     "metadata": {
      "needs_background": "light"
     },
     "output_type": "display_data"
    },
    {
     "data": {
      "application/javascript": [
       "\n",
       "            setTimeout(function() {\n",
       "                var nbb_cell_id = 73;\n",
       "                var nbb_unformatted_code = \"word_cloud(doc)\";\n",
       "                var nbb_formatted_code = \"word_cloud(doc)\";\n",
       "                var nbb_cells = Jupyter.notebook.get_cells();\n",
       "                for (var i = 0; i < nbb_cells.length; ++i) {\n",
       "                    if (nbb_cells[i].input_prompt_number == nbb_cell_id) {\n",
       "                        if (nbb_cells[i].get_text() == nbb_unformatted_code) {\n",
       "                             nbb_cells[i].set_text(nbb_formatted_code);\n",
       "                        }\n",
       "                        break;\n",
       "                    }\n",
       "                }\n",
       "            }, 500);\n",
       "            "
      ],
      "text/plain": [
       "<IPython.core.display.Javascript object>"
      ]
     },
     "metadata": {},
     "output_type": "display_data"
    }
   ],
   "source": [
    "word_cloud(doc)"
   ]
  },
  {
   "cell_type": "markdown",
   "metadata": {
    "colab_type": "text",
    "id": "QBsZEhS1JeLf"
   },
   "source": [
    "### Choose a different article (preferably one that references several named entities) and create a dispersion plot that shows the occurrence of those entities throughout the document."
   ]
  },
  {
   "cell_type": "code",
   "execution_count": 71,
   "metadata": {
    "colab": {},
    "colab_type": "code",
    "id": "4ErgYM4QJeLd"
   },
   "outputs": [
    {
     "data": {
      "image/png": "[encoded data removed]",
      "text/plain": [
       "<Figure size 432x288 with 1 Axes>"
      ]
     },
     "metadata": {
      "needs_background": "light"
     },
     "output_type": "display_data"
    },
    {
     "data": {
      "application/javascript": [
       "\n",
       "            setTimeout(function() {\n",
       "                var nbb_cell_id = 71;\n",
       "                var nbb_unformatted_code = \"tokenized = word_tokenize(doc.lower())\\nkey_words = [\\\"time\\\", \\\"americans\\\", \\\"muslim\\\"]\\nText(tokenized).dispersion_plot(key_words)\";\n",
       "                var nbb_formatted_code = \"tokenized = word_tokenize(doc.lower())\\nkey_words = [\\\"time\\\", \\\"americans\\\", \\\"muslim\\\"]\\nText(tokenized).dispersion_plot(key_words)\";\n",
       "                var nbb_cells = Jupyter.notebook.get_cells();\n",
       "                for (var i = 0; i < nbb_cells.length; ++i) {\n",
       "                    if (nbb_cells[i].input_prompt_number == nbb_cell_id) {\n",
       "                        if (nbb_cells[i].get_text() == nbb_unformatted_code) {\n",
       "                             nbb_cells[i].set_text(nbb_formatted_code);\n",
       "                        }\n",
       "                        break;\n",
       "                    }\n",
       "                }\n",
       "            }, 500);\n",
       "            "
      ],
      "text/plain": [
       "<IPython.core.display.Javascript object>"
      ]
     },
     "metadata": {},
     "output_type": "display_data"
    }
   ],
   "source": [
    "tokenized = word_tokenize(doc.lower())\n",
    "key_words = [\"time\", \"americans\", \"muslim\"]\n",
    "Text(tokenized).dispersion_plot(key_words)"
   ]
  },
  {
   "cell_type": "markdown",
   "metadata": {
    "colab_type": "text",
    "id": "jeiGkRCjJeLg"
   },
   "source": [
    "### Choose another article and generate a POS visualization highlighting the parts of speech for tokens in the article."
   ]
  },
  {
   "cell_type": "code",
   "execution_count": 74,
   "metadata": {
    "colab": {},
    "colab_type": "code",
    "id": "WQ7zBV-qJeLh"
   },
   "outputs": [
    {
     "name": "stderr",
     "output_type": "stream",
     "text": [
      "/opt/miniconda3/lib/python3.7/site-packages/sklearn/utils/deprecation.py:144: FutureWarning: The sklearn.metrics.classification module is  deprecated in version 0.22 and will be removed in version 0.24. The corresponding classes / functions should instead be imported from sklearn.metrics. Anything that cannot be imported from sklearn.metrics is now part of the private API.\n",
      "  warnings.warn(message, FutureWarning)\n"
     ]
    },
    {
     "data": {
      "application/javascript": [
       "\n",
       "            setTimeout(function() {\n",
       "                var nbb_cell_id = 74;\n",
       "                var nbb_unformatted_code = \"from yellowbrick.text.postag import PosTagVisualizer\";\n",
       "                var nbb_formatted_code = \"from yellowbrick.text.postag import PosTagVisualizer\";\n",
       "                var nbb_cells = Jupyter.notebook.get_cells();\n",
       "                for (var i = 0; i < nbb_cells.length; ++i) {\n",
       "                    if (nbb_cells[i].input_prompt_number == nbb_cell_id) {\n",
       "                        if (nbb_cells[i].get_text() == nbb_unformatted_code) {\n",
       "                             nbb_cells[i].set_text(nbb_formatted_code);\n",
       "                        }\n",
       "                        break;\n",
       "                    }\n",
       "                }\n",
       "            }, 500);\n",
       "            "
      ],
      "text/plain": [
       "<IPython.core.display.Javascript object>"
      ]
     },
     "metadata": {},
     "output_type": "display_data"
    }
   ],
   "source": [
    "from yellowbrick.text.postag import PosTagVisualizer"
   ]
  },
  {
   "cell_type": "code",
   "execution_count": 91,
   "metadata": {
    "colab": {},
    "colab_type": "code",
    "id": "9IbXdOnPJeLi"
   },
   "outputs": [
    {
     "ename": "TypeError",
     "evalue": "_make_tag_map() takes 2 positional arguments but 3 were given",
     "output_type": "error",
     "traceback": [
      "\u001b[0;31m---------------------------------------------------------------------------\u001b[0m",
      "\u001b[0;31mTypeError\u001b[0m                                 Traceback (most recent call last)",
      "\u001b[0;32m<ipython-input-91-a3980aad1cfb>\u001b[0m in \u001b[0;36m<module>\u001b[0;34m\u001b[0m\n\u001b[1;32m      5\u001b[0m \u001b[0mvisualizer\u001b[0m\u001b[0;34m.\u001b[0m\u001b[0mtransform\u001b[0m\u001b[0;34m(\u001b[0m\u001b[0mtagged\u001b[0m\u001b[0;34m)\u001b[0m\u001b[0;34m\u001b[0m\u001b[0;34m\u001b[0m\u001b[0m\n\u001b[1;32m      6\u001b[0m \u001b[0;34m\u001b[0m\u001b[0m\n\u001b[0;32m----> 7\u001b[0;31m \u001b[0mprint\u001b[0m\u001b[0;34m(\u001b[0m\u001b[0;34m\" \"\u001b[0m\u001b[0;34m.\u001b[0m\u001b[0mjoin\u001b[0m\u001b[0;34m(\u001b[0m\u001b[0;34m(\u001b[0m\u001b[0mvisualizer\u001b[0m\u001b[0;34m.\u001b[0m\u001b[0m_make_tag_map\u001b[0m\u001b[0;34m(\u001b[0m\u001b[0mtoken\u001b[0m\u001b[0;34m,\u001b[0m \u001b[0mcolor\u001b[0m\u001b[0;34m)\u001b[0m \u001b[0;32mfor\u001b[0m \u001b[0mcolor\u001b[0m\u001b[0;34m,\u001b[0m \u001b[0mtoken\u001b[0m \u001b[0;32min\u001b[0m \u001b[0mtagged\u001b[0m\u001b[0;34m)\u001b[0m\u001b[0;34m)\u001b[0m\u001b[0;34m)\u001b[0m\u001b[0;34m\u001b[0m\u001b[0;34m\u001b[0m\u001b[0m\n\u001b[0m",
      "\u001b[0;32m<ipython-input-91-a3980aad1cfb>\u001b[0m in \u001b[0;36m<genexpr>\u001b[0;34m(.0)\u001b[0m\n\u001b[1;32m      5\u001b[0m \u001b[0mvisualizer\u001b[0m\u001b[0;34m.\u001b[0m\u001b[0mtransform\u001b[0m\u001b[0;34m(\u001b[0m\u001b[0mtagged\u001b[0m\u001b[0;34m)\u001b[0m\u001b[0;34m\u001b[0m\u001b[0;34m\u001b[0m\u001b[0m\n\u001b[1;32m      6\u001b[0m \u001b[0;34m\u001b[0m\u001b[0m\n\u001b[0;32m----> 7\u001b[0;31m \u001b[0mprint\u001b[0m\u001b[0;34m(\u001b[0m\u001b[0;34m\" \"\u001b[0m\u001b[0;34m.\u001b[0m\u001b[0mjoin\u001b[0m\u001b[0;34m(\u001b[0m\u001b[0;34m(\u001b[0m\u001b[0mvisualizer\u001b[0m\u001b[0;34m.\u001b[0m\u001b[0m_make_tag_map\u001b[0m\u001b[0;34m(\u001b[0m\u001b[0mtoken\u001b[0m\u001b[0;34m,\u001b[0m \u001b[0mcolor\u001b[0m\u001b[0;34m)\u001b[0m \u001b[0;32mfor\u001b[0m \u001b[0mcolor\u001b[0m\u001b[0;34m,\u001b[0m \u001b[0mtoken\u001b[0m \u001b[0;32min\u001b[0m \u001b[0mtagged\u001b[0m\u001b[0;34m)\u001b[0m\u001b[0;34m)\u001b[0m\u001b[0;34m)\u001b[0m\u001b[0;34m\u001b[0m\u001b[0;34m\u001b[0m\u001b[0m\n\u001b[0m",
      "\u001b[0;31mTypeError\u001b[0m: _make_tag_map() takes 2 positional arguments but 3 were given"
     ]
    },
    {
     "data": {
      "application/javascript": [
       "\n",
       "            setTimeout(function() {\n",
       "                var nbb_cell_id = 91;\n",
       "                var nbb_unformatted_code = \"tokens = word_tokenize(doc)\\ntagged = pos_tag(tokens)\\n\\nvisualizer = PosTagVisualizer()\\nvisualizer.transform(tagged)\\n\\nprint(\\\" \\\".join((visualizer._make_tag_map(token, color) for color, token in tagged)))\";\n",
       "                var nbb_formatted_code = \"tokens = word_tokenize(doc)\\ntagged = pos_tag(tokens)\\n\\nvisualizer = PosTagVisualizer()\\nvisualizer.transform(tagged)\\n\\nprint(\\\" \\\".join((visualizer._make_tag_map(token, color) for color, token in tagged)))\";\n",
       "                var nbb_cells = Jupyter.notebook.get_cells();\n",
       "                for (var i = 0; i < nbb_cells.length; ++i) {\n",
       "                    if (nbb_cells[i].input_prompt_number == nbb_cell_id) {\n",
       "                        if (nbb_cells[i].get_text() == nbb_unformatted_code) {\n",
       "                             nbb_cells[i].set_text(nbb_formatted_code);\n",
       "                        }\n",
       "                        break;\n",
       "                    }\n",
       "                }\n",
       "            }, 500);\n",
       "            "
      ],
      "text/plain": [
       "<IPython.core.display.Javascript object>"
      ]
     },
     "metadata": {},
     "output_type": "display_data"
    }
   ],
   "source": [
    "tokens = word_tokenize(doc)\n",
    "tagged = pos_tag(tokens)\n",
    "\n",
    "visualizer = PosTagVisualizer()\n",
    "visualizer.transform(tagged)\n",
    "\n",
    "print(\" \".join((visualizer._make_tag_map(token, color) for color, token in tagged)))"
   ]
  },
  {
   "cell_type": "code",
   "execution_count": 90,
   "metadata": {},
   "outputs": [
    {
     "data": {
      "image/png": "[encoded data removed]",
      "text/plain": [
       "<Figure size 576x396 with 1 Axes>"
      ]
     },
     "metadata": {},
     "output_type": "display_data"
    },
    {
     "data": {
      "text/plain": [
       "<matplotlib.axes._subplots.AxesSubplot at 0x1a2f3d7fd0>"
      ]
     },
     "execution_count": 90,
     "metadata": {},
     "output_type": "execute_result"
    },
    {
     "data": {
      "application/javascript": [
       "\n",
       "            setTimeout(function() {\n",
       "                var nbb_cell_id = 90;\n",
       "                var nbb_unformatted_code = \"viz = PosTagVisualizer(parser=\\\"spacy\\\")\\nviz.fit(doc)\\nviz.show()\";\n",
       "                var nbb_formatted_code = \"viz = PosTagVisualizer(parser=\\\"spacy\\\")\\nviz.fit(doc)\\nviz.show()\";\n",
       "                var nbb_cells = Jupyter.notebook.get_cells();\n",
       "                for (var i = 0; i < nbb_cells.length; ++i) {\n",
       "                    if (nbb_cells[i].input_prompt_number == nbb_cell_id) {\n",
       "                        if (nbb_cells[i].get_text() == nbb_unformatted_code) {\n",
       "                             nbb_cells[i].set_text(nbb_formatted_code);\n",
       "                        }\n",
       "                        break;\n",
       "                    }\n",
       "                }\n",
       "            }, 500);\n",
       "            "
      ],
      "text/plain": [
       "<IPython.core.display.Javascript object>"
      ]
     },
     "metadata": {},
     "output_type": "display_data"
    }
   ],
   "source": [
    "viz = PosTagVisualizer(parser=\"spacy\")\n",
    "viz.fit(doc)\n",
    "viz.show()"
   ]
  },
  {
   "cell_type": "code",
   "execution_count": 76,
   "metadata": {},
   "outputs": [
    {
     "data": {
      "text/plain": [
       "['__class__',\n",
       " '__delattr__',\n",
       " '__dict__',\n",
       " '__dir__',\n",
       " '__doc__',\n",
       " '__eq__',\n",
       " '__format__',\n",
       " '__ge__',\n",
       " '__getattribute__',\n",
       " '__getstate__',\n",
       " '__gt__',\n",
       " '__hash__',\n",
       " '__init__',\n",
       " '__init_subclass__',\n",
       " '__le__',\n",
       " '__lt__',\n",
       " '__module__',\n",
       " '__ne__',\n",
       " '__new__',\n",
       " '__reduce__',\n",
       " '__reduce_ex__',\n",
       " '__repr__',\n",
       " '__setattr__',\n",
       " '__setstate__',\n",
       " '__sizeof__',\n",
       " '__str__',\n",
       " '__subclasshook__',\n",
       " '__weakref__',\n",
       " '_ax',\n",
       " '_fig',\n",
       " '_get_param_names',\n",
       " '_get_tags',\n",
       " '_handle_treebank',\n",
       " '_handle_universal',\n",
       " '_make_tag_map',\n",
       " '_more_tags',\n",
       " '_parser',\n",
       " '_penn_tag_map',\n",
       " '_size',\n",
       " '_uni_tag_map',\n",
       " 'ax',\n",
       " 'color',\n",
       " 'colormap',\n",
       " 'colors',\n",
       " 'draw',\n",
       " 'fig',\n",
       " 'finalize',\n",
       " 'fit',\n",
       " 'fit_transform',\n",
       " 'fit_transform_show',\n",
       " 'frequency',\n",
       " 'get_params',\n",
       " 'parse_nltk',\n",
       " 'parse_spacy',\n",
       " 'parser',\n",
       " 'poof',\n",
       " 'punct_tags',\n",
       " 'set_params',\n",
       " 'set_title',\n",
       " 'show',\n",
       " 'size',\n",
       " 'stack',\n",
       " 'tagset',\n",
       " 'tagset_names',\n",
       " 'title',\n",
       " 'transform']"
      ]
     },
     "execution_count": 76,
     "metadata": {},
     "output_type": "execute_result"
    },
    {
     "data": {
      "application/javascript": [
       "\n",
       "            setTimeout(function() {\n",
       "                var nbb_cell_id = 76;\n",
       "                var nbb_unformatted_code = \"dir(visualizer)\";\n",
       "                var nbb_formatted_code = \"dir(visualizer)\";\n",
       "                var nbb_cells = Jupyter.notebook.get_cells();\n",
       "                for (var i = 0; i < nbb_cells.length; ++i) {\n",
       "                    if (nbb_cells[i].input_prompt_number == nbb_cell_id) {\n",
       "                        if (nbb_cells[i].get_text() == nbb_unformatted_code) {\n",
       "                             nbb_cells[i].set_text(nbb_formatted_code);\n",
       "                        }\n",
       "                        break;\n",
       "                    }\n",
       "                }\n",
       "            }, 500);\n",
       "            "
      ],
      "text/plain": [
       "<IPython.core.display.Javascript object>"
      ]
     },
     "metadata": {},
     "output_type": "display_data"
    }
   ],
   "source": [
    "dir(visualizer)"
   ]
  },
  {
   "cell_type": "code",
   "execution_count": null,
   "metadata": {},
   "outputs": [],
   "source": []
  }
 ],
 "metadata": {
  "colab": {
   "collapsed_sections": [],
   "name": "Day 73, Lecture 2: Assignment.ipynb",
   "provenance": []
  },
  "kernelspec": {
   "display_name": "Python 3",
   "language": "python",
   "name": "python3"
  },
  "language_info": {
   "codemirror_mode": {
    "name": "ipython",
    "version": 3
   },
   "file_extension": ".py",
   "mimetype": "text/x-python",
   "name": "python",
   "nbconvert_exporter": "python",
   "pygments_lexer": "ipython3",
   "version": "3.7.7"
  }
 },
 "nbformat": 4,
 "nbformat_minor": 1
}
