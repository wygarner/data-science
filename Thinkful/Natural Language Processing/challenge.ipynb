{
 "cells": [
  {
   "cell_type": "code",
   "execution_count": 1,
   "metadata": {},
   "outputs": [
    {
     "data": {
      "application/javascript": [
       "\n",
       "            setTimeout(function() {\n",
       "                var nbb_cell_id = 1;\n",
       "                var nbb_unformatted_code = \"%load_ext nb_black\";\n",
       "                var nbb_formatted_code = \"%load_ext nb_black\";\n",
       "                var nbb_cells = Jupyter.notebook.get_cells();\n",
       "                for (var i = 0; i < nbb_cells.length; ++i) {\n",
       "                    if (nbb_cells[i].input_prompt_number == nbb_cell_id) {\n",
       "                        if (nbb_cells[i].get_text() == nbb_unformatted_code) {\n",
       "                             nbb_cells[i].set_text(nbb_formatted_code);\n",
       "                        }\n",
       "                        break;\n",
       "                    }\n",
       "                }\n",
       "            }, 500);\n",
       "            "
      ],
      "text/plain": [
       "<IPython.core.display.Javascript object>"
      ]
     },
     "metadata": {},
     "output_type": "display_data"
    }
   ],
   "source": [
    "%load_ext nb_black"
   ]
  },
  {
   "cell_type": "code",
   "execution_count": 22,
   "metadata": {},
   "outputs": [
    {
     "data": {
      "application/javascript": [
       "\n",
       "            setTimeout(function() {\n",
       "                var nbb_cell_id = 22;\n",
       "                var nbb_unformatted_code = \"from nltk import word_tokenize, sent_tokenize\\nfrom nltk.corpus import stopwords\\nfrom nltk.stem.snowball import SnowballStemmer\\nfrom nltk.stem.wordnet import WordNetLemmatizer\\n\\nfrom sklearn.pipeline import Pipeline\\nfrom sklearn.metrics import classification_report\\nfrom sklearn.model_selection import cross_val_score\\nfrom sklearn.ensemble import RandomForestClassifier, GradientBoostingClassifier\\nfrom sklearn.feature_extraction.text import CountVectorizer\\nfrom sklearn.feature_extraction.text import TfidfTransformer\\nfrom sklearn.model_selection import train_test_split as ttsa\\nfrom sklearn.linear_model import LogisticRegression\\n\\nfrom tensorflow.keras.preprocessing.text import one_hot\\nfrom tensorflow.keras.preprocessing.sequence import pad_sequences\\nfrom keras.models import Sequential\\nfrom keras.layers import Dense, SimpleRNN, Flatten, Embedding\\n\\nimport markovify\\n\\nimport random\";\n",
       "                var nbb_formatted_code = \"from nltk import word_tokenize, sent_tokenize\\nfrom nltk.corpus import stopwords\\nfrom nltk.stem.snowball import SnowballStemmer\\nfrom nltk.stem.wordnet import WordNetLemmatizer\\n\\nfrom sklearn.pipeline import Pipeline\\nfrom sklearn.metrics import classification_report\\nfrom sklearn.model_selection import cross_val_score\\nfrom sklearn.ensemble import RandomForestClassifier, GradientBoostingClassifier\\nfrom sklearn.feature_extraction.text import CountVectorizer\\nfrom sklearn.feature_extraction.text import TfidfTransformer\\nfrom sklearn.model_selection import train_test_split as ttsa\\nfrom sklearn.linear_model import LogisticRegression\\n\\nfrom tensorflow.keras.preprocessing.text import one_hot\\nfrom tensorflow.keras.preprocessing.sequence import pad_sequences\\nfrom keras.models import Sequential\\nfrom keras.layers import Dense, SimpleRNN, Flatten, Embedding\\n\\nimport markovify\\n\\nimport random\";\n",
       "                var nbb_cells = Jupyter.notebook.get_cells();\n",
       "                for (var i = 0; i < nbb_cells.length; ++i) {\n",
       "                    if (nbb_cells[i].input_prompt_number == nbb_cell_id) {\n",
       "                        if (nbb_cells[i].get_text() == nbb_unformatted_code) {\n",
       "                             nbb_cells[i].set_text(nbb_formatted_code);\n",
       "                        }\n",
       "                        break;\n",
       "                    }\n",
       "                }\n",
       "            }, 500);\n",
       "            "
      ],
      "text/plain": [
       "<IPython.core.display.Javascript object>"
      ]
     },
     "metadata": {},
     "output_type": "display_data"
    }
   ],
   "source": [
    "from nltk import word_tokenize, sent_tokenize\n",
    "from nltk.corpus import stopwords\n",
    "from nltk.stem.snowball import SnowballStemmer\n",
    "from nltk.stem.wordnet import WordNetLemmatizer\n",
    "\n",
    "from sklearn.pipeline import Pipeline\n",
    "from sklearn.metrics import classification_report\n",
    "from sklearn.model_selection import cross_val_score\n",
    "from sklearn.ensemble import RandomForestClassifier, GradientBoostingClassifier\n",
    "from sklearn.feature_extraction.text import CountVectorizer\n",
    "from sklearn.feature_extraction.text import TfidfTransformer\n",
    "from sklearn.model_selection import train_test_split as ttsa\n",
    "from sklearn.linear_model import LogisticRegression\n",
    "\n",
    "from tensorflow.keras.preprocessing.text import one_hot\n",
    "from tensorflow.keras.preprocessing.sequence import pad_sequences\n",
    "from keras.models import Sequential\n",
    "from keras.layers import Dense, SimpleRNN, Flatten, Embedding\n",
    "\n",
    "import markovify\n",
    "\n",
    "import random"
   ]
  },
  {
   "cell_type": "code",
   "execution_count": 3,
   "metadata": {},
   "outputs": [
    {
     "name": "stderr",
     "output_type": "stream",
     "text": [
      "[nltk_data] Downloading package stopwords to\n",
      "[nltk_data]     /Users/wyattgarner/nltk_data...\n",
      "[nltk_data]   Package stopwords is already up-to-date!\n",
      "[nltk_data] Downloading package punkt to\n",
      "[nltk_data]     /Users/wyattgarner/nltk_data...\n",
      "[nltk_data]   Package punkt is already up-to-date!\n",
      "[nltk_data] Downloading package wordnet to\n",
      "[nltk_data]     /Users/wyattgarner/nltk_data...\n",
      "[nltk_data]   Package wordnet is already up-to-date!\n"
     ]
    },
    {
     "data": {
      "text/plain": [
       "True"
      ]
     },
     "execution_count": 3,
     "metadata": {},
     "output_type": "execute_result"
    },
    {
     "data": {
      "application/javascript": [
       "\n",
       "            setTimeout(function() {\n",
       "                var nbb_cell_id = 3;\n",
       "                var nbb_unformatted_code = \"import nltk\\n\\nnltk.download(\\\"stopwords\\\")\\nnltk.download(\\\"punkt\\\")\\nnltk.download(\\\"wordnet\\\")\";\n",
       "                var nbb_formatted_code = \"import nltk\\n\\nnltk.download(\\\"stopwords\\\")\\nnltk.download(\\\"punkt\\\")\\nnltk.download(\\\"wordnet\\\")\";\n",
       "                var nbb_cells = Jupyter.notebook.get_cells();\n",
       "                for (var i = 0; i < nbb_cells.length; ++i) {\n",
       "                    if (nbb_cells[i].input_prompt_number == nbb_cell_id) {\n",
       "                        if (nbb_cells[i].get_text() == nbb_unformatted_code) {\n",
       "                             nbb_cells[i].set_text(nbb_formatted_code);\n",
       "                        }\n",
       "                        break;\n",
       "                    }\n",
       "                }\n",
       "            }, 500);\n",
       "            "
      ],
      "text/plain": [
       "<IPython.core.display.Javascript object>"
      ]
     },
     "metadata": {},
     "output_type": "display_data"
    }
   ],
   "source": [
    "import nltk\n",
    "\n",
    "nltk.download(\"stopwords\")\n",
    "nltk.download(\"punkt\")\n",
    "nltk.download(\"wordnet\")"
   ]
  },
  {
   "cell_type": "markdown",
   "metadata": {},
   "source": [
    "##### Goals\n",
    "* Predict movie genre from conversation\n",
    "* Generate dialogue\n",
    "* Chatbot"
   ]
  },
  {
   "cell_type": "markdown",
   "metadata": {},
   "source": [
    "### Read and Process Data"
   ]
  },
  {
   "cell_type": "code",
   "execution_count": 4,
   "metadata": {},
   "outputs": [
    {
     "data": {
      "application/javascript": [
       "\n",
       "            setTimeout(function() {\n",
       "                var nbb_cell_id = 4;\n",
       "                var nbb_unformatted_code = \"with open(\\\"18754_24465_bundle_archive/movie_lines.txt\\\", encoding=\\\"latin-1\\\") as f:\\n    lines = f.readlines()\\n\\nmovie_lines = []\\n\\nfor elem in lines:\\n    line_list = elem.strip(\\\"\\\\n\\\").split(\\\" +++$+++ \\\")\\n    movie_lines.append(line_list)\";\n",
       "                var nbb_formatted_code = \"with open(\\\"18754_24465_bundle_archive/movie_lines.txt\\\", encoding=\\\"latin-1\\\") as f:\\n    lines = f.readlines()\\n\\nmovie_lines = []\\n\\nfor elem in lines:\\n    line_list = elem.strip(\\\"\\\\n\\\").split(\\\" +++$+++ \\\")\\n    movie_lines.append(line_list)\";\n",
       "                var nbb_cells = Jupyter.notebook.get_cells();\n",
       "                for (var i = 0; i < nbb_cells.length; ++i) {\n",
       "                    if (nbb_cells[i].input_prompt_number == nbb_cell_id) {\n",
       "                        if (nbb_cells[i].get_text() == nbb_unformatted_code) {\n",
       "                             nbb_cells[i].set_text(nbb_formatted_code);\n",
       "                        }\n",
       "                        break;\n",
       "                    }\n",
       "                }\n",
       "            }, 500);\n",
       "            "
      ],
      "text/plain": [
       "<IPython.core.display.Javascript object>"
      ]
     },
     "metadata": {},
     "output_type": "display_data"
    }
   ],
   "source": [
    "with open(\"18754_24465_bundle_archive/movie_lines.txt\", encoding=\"latin-1\") as f:\n",
    "    lines = f.readlines()\n",
    "\n",
    "movie_lines = []\n",
    "\n",
    "for elem in lines:\n",
    "    line_list = elem.strip(\"\\n\").split(\" +++$+++ \")\n",
    "    movie_lines.append(line_list)"
   ]
  },
  {
   "cell_type": "code",
   "execution_count": 5,
   "metadata": {},
   "outputs": [
    {
     "data": {
      "application/javascript": [
       "\n",
       "            setTimeout(function() {\n",
       "                var nbb_cell_id = 5;\n",
       "                var nbb_unformatted_code = \"with open(\\n    \\\"18754_24465_bundle_archive/movie_conversations.txt\\\", encoding=\\\"latin-1\\\"\\n) as f:\\n    lines = f.readlines()\\n\\nmovie_conversations = []\\n\\nfor elem in lines:\\n    line_list = elem.strip(\\\"\\\\n\\\").split(\\\" +++$+++ \\\")\\n    line_list[-1] = line_list[-1].strip(\\\"][\\\").split(\\\", \\\")\\n    movie_conversations.append(line_list)\\n\\n    genres = []\\n    for i in line_list[-1]:\\n        i = i.strip(\\\"'\\\")\\n        genres.append(i)\\n    line_list[-1] = genres\";\n",
       "                var nbb_formatted_code = \"with open(\\n    \\\"18754_24465_bundle_archive/movie_conversations.txt\\\", encoding=\\\"latin-1\\\"\\n) as f:\\n    lines = f.readlines()\\n\\nmovie_conversations = []\\n\\nfor elem in lines:\\n    line_list = elem.strip(\\\"\\\\n\\\").split(\\\" +++$+++ \\\")\\n    line_list[-1] = line_list[-1].strip(\\\"][\\\").split(\\\", \\\")\\n    movie_conversations.append(line_list)\\n\\n    genres = []\\n    for i in line_list[-1]:\\n        i = i.strip(\\\"'\\\")\\n        genres.append(i)\\n    line_list[-1] = genres\";\n",
       "                var nbb_cells = Jupyter.notebook.get_cells();\n",
       "                for (var i = 0; i < nbb_cells.length; ++i) {\n",
       "                    if (nbb_cells[i].input_prompt_number == nbb_cell_id) {\n",
       "                        if (nbb_cells[i].get_text() == nbb_unformatted_code) {\n",
       "                             nbb_cells[i].set_text(nbb_formatted_code);\n",
       "                        }\n",
       "                        break;\n",
       "                    }\n",
       "                }\n",
       "            }, 500);\n",
       "            "
      ],
      "text/plain": [
       "<IPython.core.display.Javascript object>"
      ]
     },
     "metadata": {},
     "output_type": "display_data"
    }
   ],
   "source": [
    "with open(\n",
    "    \"18754_24465_bundle_archive/movie_conversations.txt\", encoding=\"latin-1\"\n",
    ") as f:\n",
    "    lines = f.readlines()\n",
    "\n",
    "movie_conversations = []\n",
    "\n",
    "for elem in lines:\n",
    "    line_list = elem.strip(\"\\n\").split(\" +++$+++ \")\n",
    "    line_list[-1] = line_list[-1].strip(\"][\").split(\", \")\n",
    "    movie_conversations.append(line_list)\n",
    "\n",
    "    genres = []\n",
    "    for i in line_list[-1]:\n",
    "        i = i.strip(\"'\")\n",
    "        genres.append(i)\n",
    "    line_list[-1] = genres"
   ]
  },
  {
   "cell_type": "code",
   "execution_count": 6,
   "metadata": {
    "scrolled": true
   },
   "outputs": [
    {
     "data": {
      "application/javascript": [
       "\n",
       "            setTimeout(function() {\n",
       "                var nbb_cell_id = 6;\n",
       "                var nbb_unformatted_code = \"with open(\\n    \\\"18754_24465_bundle_archive/movie_characters_metadata.txt\\\", encoding=\\\"latin-1\\\"\\n) as f:\\n    lines = f.readlines()\\n\\ncharacters = []\\n\\nfor elem in lines:\\n    line_list = elem.strip(\\\"\\\\n\\\").split(\\\" +++$+++ \\\")\\n    characters.append(line_list)\\n\\ncharacters = characters[1:]\";\n",
       "                var nbb_formatted_code = \"with open(\\n    \\\"18754_24465_bundle_archive/movie_characters_metadata.txt\\\", encoding=\\\"latin-1\\\"\\n) as f:\\n    lines = f.readlines()\\n\\ncharacters = []\\n\\nfor elem in lines:\\n    line_list = elem.strip(\\\"\\\\n\\\").split(\\\" +++$+++ \\\")\\n    characters.append(line_list)\\n\\ncharacters = characters[1:]\";\n",
       "                var nbb_cells = Jupyter.notebook.get_cells();\n",
       "                for (var i = 0; i < nbb_cells.length; ++i) {\n",
       "                    if (nbb_cells[i].input_prompt_number == nbb_cell_id) {\n",
       "                        if (nbb_cells[i].get_text() == nbb_unformatted_code) {\n",
       "                             nbb_cells[i].set_text(nbb_formatted_code);\n",
       "                        }\n",
       "                        break;\n",
       "                    }\n",
       "                }\n",
       "            }, 500);\n",
       "            "
      ],
      "text/plain": [
       "<IPython.core.display.Javascript object>"
      ]
     },
     "metadata": {},
     "output_type": "display_data"
    }
   ],
   "source": [
    "with open(\n",
    "    \"18754_24465_bundle_archive/movie_characters_metadata.txt\", encoding=\"latin-1\"\n",
    ") as f:\n",
    "    lines = f.readlines()\n",
    "\n",
    "characters = []\n",
    "\n",
    "for elem in lines:\n",
    "    line_list = elem.strip(\"\\n\").split(\" +++$+++ \")\n",
    "    characters.append(line_list)\n",
    "\n",
    "characters = characters[1:]"
   ]
  },
  {
   "cell_type": "code",
   "execution_count": 7,
   "metadata": {},
   "outputs": [
    {
     "data": {
      "application/javascript": [
       "\n",
       "            setTimeout(function() {\n",
       "                var nbb_cell_id = 7;\n",
       "                var nbb_unformatted_code = \"with open(\\n    \\\"18754_24465_bundle_archive/movie_titles_metadata.txt\\\", encoding=\\\"latin-1\\\"\\n) as f:\\n    lines = f.readlines()\\n\\nmovie_titles = []\\n\\nfor elem in lines:\\n    line_list = elem.strip(\\\"\\\\n\\\").split(\\\" +++$+++ \\\")\\n    line_list[-1] = line_list[-1].strip(\\\"][\\\").split(\\\", \\\")\\n\\n    genres = []\\n    for i in line_list[-1]:\\n        i = i.strip(\\\"'\\\")\\n        genres.append(i)\\n    line_list[-1] = genres\\n\\n    movie_titles.append(line_list)\";\n",
       "                var nbb_formatted_code = \"with open(\\n    \\\"18754_24465_bundle_archive/movie_titles_metadata.txt\\\", encoding=\\\"latin-1\\\"\\n) as f:\\n    lines = f.readlines()\\n\\nmovie_titles = []\\n\\nfor elem in lines:\\n    line_list = elem.strip(\\\"\\\\n\\\").split(\\\" +++$+++ \\\")\\n    line_list[-1] = line_list[-1].strip(\\\"][\\\").split(\\\", \\\")\\n\\n    genres = []\\n    for i in line_list[-1]:\\n        i = i.strip(\\\"'\\\")\\n        genres.append(i)\\n    line_list[-1] = genres\\n\\n    movie_titles.append(line_list)\";\n",
       "                var nbb_cells = Jupyter.notebook.get_cells();\n",
       "                for (var i = 0; i < nbb_cells.length; ++i) {\n",
       "                    if (nbb_cells[i].input_prompt_number == nbb_cell_id) {\n",
       "                        if (nbb_cells[i].get_text() == nbb_unformatted_code) {\n",
       "                             nbb_cells[i].set_text(nbb_formatted_code);\n",
       "                        }\n",
       "                        break;\n",
       "                    }\n",
       "                }\n",
       "            }, 500);\n",
       "            "
      ],
      "text/plain": [
       "<IPython.core.display.Javascript object>"
      ]
     },
     "metadata": {},
     "output_type": "display_data"
    }
   ],
   "source": [
    "with open(\n",
    "    \"18754_24465_bundle_archive/movie_titles_metadata.txt\", encoding=\"latin-1\"\n",
    ") as f:\n",
    "    lines = f.readlines()\n",
    "\n",
    "movie_titles = []\n",
    "\n",
    "for elem in lines:\n",
    "    line_list = elem.strip(\"\\n\").split(\" +++$+++ \")\n",
    "    line_list[-1] = line_list[-1].strip(\"][\").split(\", \")\n",
    "\n",
    "    genres = []\n",
    "    for i in line_list[-1]:\n",
    "        i = i.strip(\"'\")\n",
    "        genres.append(i)\n",
    "    line_list[-1] = genres\n",
    "\n",
    "    movie_titles.append(line_list)"
   ]
  },
  {
   "cell_type": "code",
   "execution_count": 8,
   "metadata": {},
   "outputs": [
    {
     "name": "stdout",
     "output_type": "stream",
     "text": [
      "CPU times: user 1h 46min 5s, sys: 3min 37s, total: 1h 49min 42s\n",
      "Wall time: 1h 55min 48s\n"
     ]
    },
    {
     "data": {
      "application/javascript": [
       "\n",
       "            setTimeout(function() {\n",
       "                var nbb_cell_id = 8;\n",
       "                var nbb_unformatted_code = \"%%time\\n\\nmovie_d = dict()\\nfor movie_title in movie_titles:\\n    line_list= []\\n    small_d = dict()\\n    for conversation in movie_conversations:\\n        if movie_title[0] == conversation[2]:\\n            for line in movie_lines:\\n                if line[0] in conversation[-1]:\\n                    line_list.append(line[-1])\\n    \\n    small_d['title'] = movie_title[1]\\n    small_d['genres'] = movie_title[-1]\\n    small_d['lines'] = line_list\\n    movie_d[movie_title[0]] = small_d\\n    \";\n",
       "                var nbb_formatted_code = \"%%time\\n\\nmovie_d = dict()\\nfor movie_title in movie_titles:\\n    line_list= []\\n    small_d = dict()\\n    for conversation in movie_conversations:\\n        if movie_title[0] == conversation[2]:\\n            for line in movie_lines:\\n                if line[0] in conversation[-1]:\\n                    line_list.append(line[-1])\\n    \\n    small_d['title'] = movie_title[1]\\n    small_d['genres'] = movie_title[-1]\\n    small_d['lines'] = line_list\\n    movie_d[movie_title[0]] = small_d\";\n",
       "                var nbb_cells = Jupyter.notebook.get_cells();\n",
       "                for (var i = 0; i < nbb_cells.length; ++i) {\n",
       "                    if (nbb_cells[i].input_prompt_number == nbb_cell_id) {\n",
       "                        if (nbb_cells[i].get_text() == nbb_unformatted_code) {\n",
       "                             nbb_cells[i].set_text(nbb_formatted_code);\n",
       "                        }\n",
       "                        break;\n",
       "                    }\n",
       "                }\n",
       "            }, 500);\n",
       "            "
      ],
      "text/plain": [
       "<IPython.core.display.Javascript object>"
      ]
     },
     "metadata": {},
     "output_type": "display_data"
    }
   ],
   "source": [
    "%%time\n",
    "\n",
    "movie_d = dict()\n",
    "for movie_title in movie_titles:\n",
    "    line_list= []\n",
    "    small_d = dict()\n",
    "    for conversation in movie_conversations:\n",
    "        if movie_title[0] == conversation[2]:\n",
    "            for line in movie_lines:\n",
    "                if line[0] in conversation[-1]:\n",
    "                    line_list.append(line[-1])\n",
    "    \n",
    "    small_d['title'] = movie_title[1]\n",
    "    small_d['genres'] = movie_title[-1]\n",
    "    small_d['lines'] = line_list\n",
    "    movie_d[movie_title[0]] = small_d\n",
    "    \n"
   ]
  },
  {
   "cell_type": "markdown",
   "metadata": {},
   "source": [
    "### Genre Classification \n",
    "* Training set is dialogue from movies grouped by genre\n",
    "* Test set is dialogue from individual movies"
   ]
  },
  {
   "cell_type": "code",
   "execution_count": 9,
   "metadata": {},
   "outputs": [
    {
     "data": {
      "application/javascript": [
       "\n",
       "            setTimeout(function() {\n",
       "                var nbb_cell_id = 9;\n",
       "                var nbb_unformatted_code = \"train_movies = dict(list(movie_d.items())[:501])\\ntest_movies = dict(list(movie_d.items())[501:])\";\n",
       "                var nbb_formatted_code = \"train_movies = dict(list(movie_d.items())[:501])\\ntest_movies = dict(list(movie_d.items())[501:])\";\n",
       "                var nbb_cells = Jupyter.notebook.get_cells();\n",
       "                for (var i = 0; i < nbb_cells.length; ++i) {\n",
       "                    if (nbb_cells[i].input_prompt_number == nbb_cell_id) {\n",
       "                        if (nbb_cells[i].get_text() == nbb_unformatted_code) {\n",
       "                             nbb_cells[i].set_text(nbb_formatted_code);\n",
       "                        }\n",
       "                        break;\n",
       "                    }\n",
       "                }\n",
       "            }, 500);\n",
       "            "
      ],
      "text/plain": [
       "<IPython.core.display.Javascript object>"
      ]
     },
     "metadata": {},
     "output_type": "display_data"
    }
   ],
   "source": [
    "train_movies = dict(list(movie_d.items())[:501])\n",
    "test_movies = dict(list(movie_d.items())[501:])"
   ]
  },
  {
   "cell_type": "code",
   "execution_count": 10,
   "metadata": {},
   "outputs": [
    {
     "name": "stdout",
     "output_type": "stream",
     "text": [
      "CPU times: user 17.7 ms, sys: 9.71 ms, total: 27.4 ms\n",
      "Wall time: 31.2 ms\n"
     ]
    },
    {
     "data": {
      "application/javascript": [
       "\n",
       "            setTimeout(function() {\n",
       "                var nbb_cell_id = 10;\n",
       "                var nbb_unformatted_code = \"%%time\\n\\ngenre_d = dict()\\nfor k, v in train_movies.items():\\n    for genre in v[\\\"genres\\\"]:\\n        if genre not in genre_d.keys():\\n            genre_d[genre] = v[\\\"lines\\\"]\\n        else:\\n            genre_d[genre].extend(v[\\\"lines\\\"])\";\n",
       "                var nbb_formatted_code = \"%%time\\n\\ngenre_d = dict()\\nfor k, v in train_movies.items():\\n    for genre in v[\\\"genres\\\"]:\\n        if genre not in genre_d.keys():\\n            genre_d[genre] = v[\\\"lines\\\"]\\n        else:\\n            genre_d[genre].extend(v[\\\"lines\\\"])\";\n",
       "                var nbb_cells = Jupyter.notebook.get_cells();\n",
       "                for (var i = 0; i < nbb_cells.length; ++i) {\n",
       "                    if (nbb_cells[i].input_prompt_number == nbb_cell_id) {\n",
       "                        if (nbb_cells[i].get_text() == nbb_unformatted_code) {\n",
       "                             nbb_cells[i].set_text(nbb_formatted_code);\n",
       "                        }\n",
       "                        break;\n",
       "                    }\n",
       "                }\n",
       "            }, 500);\n",
       "            "
      ],
      "text/plain": [
       "<IPython.core.display.Javascript object>"
      ]
     },
     "metadata": {},
     "output_type": "display_data"
    }
   ],
   "source": [
    "%%time\n",
    "\n",
    "genre_d = dict()\n",
    "for k, v in train_movies.items():\n",
    "    for genre in v[\"genres\"]:\n",
    "        if genre not in genre_d.keys():\n",
    "            genre_d[genre] = v[\"lines\"]\n",
    "        else:\n",
    "            genre_d[genre].extend(v[\"lines\"])"
   ]
  },
  {
   "cell_type": "code",
   "execution_count": 11,
   "metadata": {},
   "outputs": [
    {
     "data": {
      "application/javascript": [
       "\n",
       "            setTimeout(function() {\n",
       "                var nbb_cell_id = 11;\n",
       "                var nbb_unformatted_code = \"all_dialogue = []\\nfor elem in genre_d.values():\\n    all_dialogue.append(\\\" \\\".join(elem))\";\n",
       "                var nbb_formatted_code = \"all_dialogue = []\\nfor elem in genre_d.values():\\n    all_dialogue.append(\\\" \\\".join(elem))\";\n",
       "                var nbb_cells = Jupyter.notebook.get_cells();\n",
       "                for (var i = 0; i < nbb_cells.length; ++i) {\n",
       "                    if (nbb_cells[i].input_prompt_number == nbb_cell_id) {\n",
       "                        if (nbb_cells[i].get_text() == nbb_unformatted_code) {\n",
       "                             nbb_cells[i].set_text(nbb_formatted_code);\n",
       "                        }\n",
       "                        break;\n",
       "                    }\n",
       "                }\n",
       "            }, 500);\n",
       "            "
      ],
      "text/plain": [
       "<IPython.core.display.Javascript object>"
      ]
     },
     "metadata": {},
     "output_type": "display_data"
    }
   ],
   "source": [
    "all_dialogue = []\n",
    "for elem in genre_d.values():\n",
    "    all_dialogue.append(\" \".join(elem))"
   ]
  },
  {
   "cell_type": "code",
   "execution_count": 12,
   "metadata": {},
   "outputs": [
    {
     "data": {
      "application/javascript": [
       "\n",
       "            setTimeout(function() {\n",
       "                var nbb_cell_id = 12;\n",
       "                var nbb_unformatted_code = \"def preprocess(docs):\\n    lemmatizer = WordNetLemmatizer()\\n    stemmer = SnowballStemmer(\\\"english\\\")\\n    preprocessed = []\\n\\n    for doc in docs:\\n        tokenized = word_tokenize(doc)\\n\\n        cleaned = [\\n            stemmer.stem(lemmatizer.lemmatize(token.lower()))\\n            for token in tokenized\\n            if not token.lower() in stopwords.words(\\\"english\\\")\\n            if token.isalpha()\\n        ]\\n\\n        untokenized = \\\" \\\".join(cleaned)\\n        preprocessed.append(untokenized)\\n\\n    return preprocessed\";\n",
       "                var nbb_formatted_code = \"def preprocess(docs):\\n    lemmatizer = WordNetLemmatizer()\\n    stemmer = SnowballStemmer(\\\"english\\\")\\n    preprocessed = []\\n\\n    for doc in docs:\\n        tokenized = word_tokenize(doc)\\n\\n        cleaned = [\\n            stemmer.stem(lemmatizer.lemmatize(token.lower()))\\n            for token in tokenized\\n            if not token.lower() in stopwords.words(\\\"english\\\")\\n            if token.isalpha()\\n        ]\\n\\n        untokenized = \\\" \\\".join(cleaned)\\n        preprocessed.append(untokenized)\\n\\n    return preprocessed\";\n",
       "                var nbb_cells = Jupyter.notebook.get_cells();\n",
       "                for (var i = 0; i < nbb_cells.length; ++i) {\n",
       "                    if (nbb_cells[i].input_prompt_number == nbb_cell_id) {\n",
       "                        if (nbb_cells[i].get_text() == nbb_unformatted_code) {\n",
       "                             nbb_cells[i].set_text(nbb_formatted_code);\n",
       "                        }\n",
       "                        break;\n",
       "                    }\n",
       "                }\n",
       "            }, 500);\n",
       "            "
      ],
      "text/plain": [
       "<IPython.core.display.Javascript object>"
      ]
     },
     "metadata": {},
     "output_type": "display_data"
    }
   ],
   "source": [
    "def preprocess(docs):\n",
    "    lemmatizer = WordNetLemmatizer()\n",
    "    stemmer = SnowballStemmer(\"english\")\n",
    "    preprocessed = []\n",
    "\n",
    "    for doc in docs:\n",
    "        tokenized = word_tokenize(doc)\n",
    "\n",
    "        cleaned = [\n",
    "            stemmer.stem(lemmatizer.lemmatize(token.lower()))\n",
    "            for token in tokenized\n",
    "            if not token.lower() in stopwords.words(\"english\")\n",
    "            if token.isalpha()\n",
    "        ]\n",
    "\n",
    "        untokenized = \" \".join(cleaned)\n",
    "        preprocessed.append(untokenized)\n",
    "\n",
    "    return preprocessed"
   ]
  },
  {
   "cell_type": "code",
   "execution_count": 13,
   "metadata": {},
   "outputs": [
    {
     "name": "stdout",
     "output_type": "stream",
     "text": [
      "CPU times: user 1h 15min 6s, sys: 15min 53s, total: 1h 31min\n",
      "Wall time: 1h 31min 43s\n"
     ]
    },
    {
     "data": {
      "application/javascript": [
       "\n",
       "            setTimeout(function() {\n",
       "                var nbb_cell_id = 13;\n",
       "                var nbb_unformatted_code = \"%%time\\n\\npreprocessed = preprocess(all_dialogue)\";\n",
       "                var nbb_formatted_code = \"%%time\\n\\npreprocessed = preprocess(all_dialogue)\";\n",
       "                var nbb_cells = Jupyter.notebook.get_cells();\n",
       "                for (var i = 0; i < nbb_cells.length; ++i) {\n",
       "                    if (nbb_cells[i].input_prompt_number == nbb_cell_id) {\n",
       "                        if (nbb_cells[i].get_text() == nbb_unformatted_code) {\n",
       "                             nbb_cells[i].set_text(nbb_formatted_code);\n",
       "                        }\n",
       "                        break;\n",
       "                    }\n",
       "                }\n",
       "            }, 500);\n",
       "            "
      ],
      "text/plain": [
       "<IPython.core.display.Javascript object>"
      ]
     },
     "metadata": {},
     "output_type": "display_data"
    }
   ],
   "source": [
    "%%time\n",
    "\n",
    "preprocessed = preprocess(all_dialogue)"
   ]
  },
  {
   "cell_type": "code",
   "execution_count": 14,
   "metadata": {},
   "outputs": [
    {
     "data": {
      "application/javascript": [
       "\n",
       "            setTimeout(function() {\n",
       "                var nbb_cell_id = 14;\n",
       "                var nbb_unformatted_code = \"y_train = list(genre_d.keys())\";\n",
       "                var nbb_formatted_code = \"y_train = list(genre_d.keys())\";\n",
       "                var nbb_cells = Jupyter.notebook.get_cells();\n",
       "                for (var i = 0; i < nbb_cells.length; ++i) {\n",
       "                    if (nbb_cells[i].input_prompt_number == nbb_cell_id) {\n",
       "                        if (nbb_cells[i].get_text() == nbb_unformatted_code) {\n",
       "                             nbb_cells[i].set_text(nbb_formatted_code);\n",
       "                        }\n",
       "                        break;\n",
       "                    }\n",
       "                }\n",
       "            }, 500);\n",
       "            "
      ],
      "text/plain": [
       "<IPython.core.display.Javascript object>"
      ]
     },
     "metadata": {},
     "output_type": "display_data"
    }
   ],
   "source": [
    "y_train = list(genre_d.keys())"
   ]
  },
  {
   "cell_type": "markdown",
   "metadata": {},
   "source": [
    "#### Random Forest"
   ]
  },
  {
   "cell_type": "code",
   "execution_count": 18,
   "metadata": {},
   "outputs": [
    {
     "data": {
      "text/plain": [
       "Pipeline(steps=[('vect', CountVectorizer()), ('tfidf', TfidfTransformer()),\n",
       "                ('clf', RandomForestClassifier())])"
      ]
     },
     "execution_count": 18,
     "metadata": {},
     "output_type": "execute_result"
    },
    {
     "data": {
      "application/javascript": [
       "\n",
       "            setTimeout(function() {\n",
       "                var nbb_cell_id = 18;\n",
       "                var nbb_unformatted_code = \"model = Pipeline(\\n    [\\n        (\\\"vect\\\", CountVectorizer()),\\n        (\\\"tfidf\\\", TfidfTransformer()),\\n        (\\\"clf\\\", RandomForestClassifier(n_estimators=100)),\\n    ]\\n)\\n\\nmodel.fit(preprocessed, y_train)\";\n",
       "                var nbb_formatted_code = \"model = Pipeline(\\n    [\\n        (\\\"vect\\\", CountVectorizer()),\\n        (\\\"tfidf\\\", TfidfTransformer()),\\n        (\\\"clf\\\", RandomForestClassifier(n_estimators=100)),\\n    ]\\n)\\n\\nmodel.fit(preprocessed, y_train)\";\n",
       "                var nbb_cells = Jupyter.notebook.get_cells();\n",
       "                for (var i = 0; i < nbb_cells.length; ++i) {\n",
       "                    if (nbb_cells[i].input_prompt_number == nbb_cell_id) {\n",
       "                        if (nbb_cells[i].get_text() == nbb_unformatted_code) {\n",
       "                             nbb_cells[i].set_text(nbb_formatted_code);\n",
       "                        }\n",
       "                        break;\n",
       "                    }\n",
       "                }\n",
       "            }, 500);\n",
       "            "
      ],
      "text/plain": [
       "<IPython.core.display.Javascript object>"
      ]
     },
     "metadata": {},
     "output_type": "display_data"
    }
   ],
   "source": [
    "model = Pipeline(\n",
    "    [\n",
    "        (\"vect\", CountVectorizer()),\n",
    "        (\"tfidf\", TfidfTransformer()),\n",
    "        (\"clf\", RandomForestClassifier(n_estimators=100)),\n",
    "    ]\n",
    ")\n",
    "\n",
    "model.fit(preprocessed, y_train)"
   ]
  },
  {
   "cell_type": "code",
   "execution_count": 19,
   "metadata": {},
   "outputs": [
    {
     "data": {
      "text/plain": [
       "0.68"
      ]
     },
     "execution_count": 19,
     "metadata": {},
     "output_type": "execute_result"
    },
    {
     "data": {
      "application/javascript": [
       "\n",
       "            setTimeout(function() {\n",
       "                var nbb_cell_id = 19;\n",
       "                var nbb_unformatted_code = \"model.score(preprocessed, y_train)\";\n",
       "                var nbb_formatted_code = \"model.score(preprocessed, y_train)\";\n",
       "                var nbb_cells = Jupyter.notebook.get_cells();\n",
       "                for (var i = 0; i < nbb_cells.length; ++i) {\n",
       "                    if (nbb_cells[i].input_prompt_number == nbb_cell_id) {\n",
       "                        if (nbb_cells[i].get_text() == nbb_unformatted_code) {\n",
       "                             nbb_cells[i].set_text(nbb_formatted_code);\n",
       "                        }\n",
       "                        break;\n",
       "                    }\n",
       "                }\n",
       "            }, 500);\n",
       "            "
      ],
      "text/plain": [
       "<IPython.core.display.Javascript object>"
      ]
     },
     "metadata": {},
     "output_type": "display_data"
    }
   ],
   "source": [
    "model.score(preprocessed, y_train)"
   ]
  },
  {
   "cell_type": "code",
   "execution_count": 20,
   "metadata": {},
   "outputs": [
    {
     "name": "stdout",
     "output_type": "stream",
     "text": [
      "0.0\n"
     ]
    },
    {
     "data": {
      "application/javascript": [
       "\n",
       "            setTimeout(function() {\n",
       "                var nbb_cell_id = 20;\n",
       "                var nbb_unformatted_code = \"yes = 0\\nno = 0\\nfor key in test_movies.keys():\\n    test = []\\n    test.append(\\\" \\\".join(test_movies[key][\\\"lines\\\"]))\\n    test = preprocess(test)\\n    predictions = model.predict(test)\\n    if predictions in test_movies[key][\\\"genres\\\"]:\\n        yes += 1\\n    else:\\n        no += 1\\n\\nprint(yes / (yes + no))\";\n",
       "                var nbb_formatted_code = \"yes = 0\\nno = 0\\nfor key in test_movies.keys():\\n    test = []\\n    test.append(\\\" \\\".join(test_movies[key][\\\"lines\\\"]))\\n    test = preprocess(test)\\n    predictions = model.predict(test)\\n    if predictions in test_movies[key][\\\"genres\\\"]:\\n        yes += 1\\n    else:\\n        no += 1\\n\\nprint(yes / (yes + no))\";\n",
       "                var nbb_cells = Jupyter.notebook.get_cells();\n",
       "                for (var i = 0; i < nbb_cells.length; ++i) {\n",
       "                    if (nbb_cells[i].input_prompt_number == nbb_cell_id) {\n",
       "                        if (nbb_cells[i].get_text() == nbb_unformatted_code) {\n",
       "                             nbb_cells[i].set_text(nbb_formatted_code);\n",
       "                        }\n",
       "                        break;\n",
       "                    }\n",
       "                }\n",
       "            }, 500);\n",
       "            "
      ],
      "text/plain": [
       "<IPython.core.display.Javascript object>"
      ]
     },
     "metadata": {},
     "output_type": "display_data"
    }
   ],
   "source": [
    "yes = 0\n",
    "no = 0\n",
    "for key in test_movies.keys():\n",
    "    test = []\n",
    "    test.append(\" \".join(test_movies[key][\"lines\"]))\n",
    "    test = preprocess(test)\n",
    "    predictions = model.predict(test)\n",
    "    if predictions in test_movies[key][\"genres\"]:\n",
    "        yes += 1\n",
    "    else:\n",
    "        no += 1\n",
    "\n",
    "print(yes / (yes + no))"
   ]
  },
  {
   "cell_type": "markdown",
   "metadata": {},
   "source": [
    "#### Logistic Regression"
   ]
  },
  {
   "cell_type": "code",
   "execution_count": 23,
   "metadata": {},
   "outputs": [
    {
     "data": {
      "text/plain": [
       "Pipeline(steps=[('vect', CountVectorizer()), ('tfidf', TfidfTransformer()),\n",
       "                ('clf', LogisticRegression())])"
      ]
     },
     "execution_count": 23,
     "metadata": {},
     "output_type": "execute_result"
    },
    {
     "data": {
      "application/javascript": [
       "\n",
       "            setTimeout(function() {\n",
       "                var nbb_cell_id = 23;\n",
       "                var nbb_unformatted_code = \"model = Pipeline(\\n    [\\n        (\\\"vect\\\", CountVectorizer()),\\n        (\\\"tfidf\\\", TfidfTransformer()),\\n        (\\\"clf\\\", LogisticRegression()),\\n    ]\\n)\\n\\nmodel.fit(preprocessed, y_train)\";\n",
       "                var nbb_formatted_code = \"model = Pipeline(\\n    [\\n        (\\\"vect\\\", CountVectorizer()),\\n        (\\\"tfidf\\\", TfidfTransformer()),\\n        (\\\"clf\\\", LogisticRegression()),\\n    ]\\n)\\n\\nmodel.fit(preprocessed, y_train)\";\n",
       "                var nbb_cells = Jupyter.notebook.get_cells();\n",
       "                for (var i = 0; i < nbb_cells.length; ++i) {\n",
       "                    if (nbb_cells[i].input_prompt_number == nbb_cell_id) {\n",
       "                        if (nbb_cells[i].get_text() == nbb_unformatted_code) {\n",
       "                             nbb_cells[i].set_text(nbb_formatted_code);\n",
       "                        }\n",
       "                        break;\n",
       "                    }\n",
       "                }\n",
       "            }, 500);\n",
       "            "
      ],
      "text/plain": [
       "<IPython.core.display.Javascript object>"
      ]
     },
     "metadata": {},
     "output_type": "display_data"
    }
   ],
   "source": [
    "model = Pipeline(\n",
    "    [\n",
    "        (\"vect\", CountVectorizer()),\n",
    "        (\"tfidf\", TfidfTransformer()),\n",
    "        (\"clf\", LogisticRegression()),\n",
    "    ]\n",
    ")\n",
    "\n",
    "model.fit(preprocessed, y_train)"
   ]
  },
  {
   "cell_type": "code",
   "execution_count": 24,
   "metadata": {},
   "outputs": [
    {
     "data": {
      "text/plain": [
       "0.68"
      ]
     },
     "execution_count": 24,
     "metadata": {},
     "output_type": "execute_result"
    },
    {
     "data": {
      "application/javascript": [
       "\n",
       "            setTimeout(function() {\n",
       "                var nbb_cell_id = 24;\n",
       "                var nbb_unformatted_code = \"model.score(preprocessed, y_train)\";\n",
       "                var nbb_formatted_code = \"model.score(preprocessed, y_train)\";\n",
       "                var nbb_cells = Jupyter.notebook.get_cells();\n",
       "                for (var i = 0; i < nbb_cells.length; ++i) {\n",
       "                    if (nbb_cells[i].input_prompt_number == nbb_cell_id) {\n",
       "                        if (nbb_cells[i].get_text() == nbb_unformatted_code) {\n",
       "                             nbb_cells[i].set_text(nbb_formatted_code);\n",
       "                        }\n",
       "                        break;\n",
       "                    }\n",
       "                }\n",
       "            }, 500);\n",
       "            "
      ],
      "text/plain": [
       "<IPython.core.display.Javascript object>"
      ]
     },
     "metadata": {},
     "output_type": "display_data"
    }
   ],
   "source": [
    "model.score(preprocessed, y_train)"
   ]
  },
  {
   "cell_type": "code",
   "execution_count": 25,
   "metadata": {},
   "outputs": [
    {
     "name": "stdout",
     "output_type": "stream",
     "text": [
      "0.04310344827586207\n"
     ]
    },
    {
     "data": {
      "application/javascript": [
       "\n",
       "            setTimeout(function() {\n",
       "                var nbb_cell_id = 25;\n",
       "                var nbb_unformatted_code = \"yes = 0\\nno = 0\\nfor key in test_movies.keys():\\n    test = []\\n    test.append(\\\" \\\".join(test_movies[key][\\\"lines\\\"]))\\n    test = preprocess(test)\\n    predictions = model.predict(test)\\n    if predictions in test_movies[key][\\\"genres\\\"]:\\n        yes += 1\\n    else:\\n        no += 1\\n\\nprint(yes / (yes + no))\";\n",
       "                var nbb_formatted_code = \"yes = 0\\nno = 0\\nfor key in test_movies.keys():\\n    test = []\\n    test.append(\\\" \\\".join(test_movies[key][\\\"lines\\\"]))\\n    test = preprocess(test)\\n    predictions = model.predict(test)\\n    if predictions in test_movies[key][\\\"genres\\\"]:\\n        yes += 1\\n    else:\\n        no += 1\\n\\nprint(yes / (yes + no))\";\n",
       "                var nbb_cells = Jupyter.notebook.get_cells();\n",
       "                for (var i = 0; i < nbb_cells.length; ++i) {\n",
       "                    if (nbb_cells[i].input_prompt_number == nbb_cell_id) {\n",
       "                        if (nbb_cells[i].get_text() == nbb_unformatted_code) {\n",
       "                             nbb_cells[i].set_text(nbb_formatted_code);\n",
       "                        }\n",
       "                        break;\n",
       "                    }\n",
       "                }\n",
       "            }, 500);\n",
       "            "
      ],
      "text/plain": [
       "<IPython.core.display.Javascript object>"
      ]
     },
     "metadata": {},
     "output_type": "display_data"
    }
   ],
   "source": [
    "yes = 0\n",
    "no = 0\n",
    "for key in test_movies.keys():\n",
    "    test = []\n",
    "    test.append(\" \".join(test_movies[key][\"lines\"]))\n",
    "    test = preprocess(test)\n",
    "    predictions = model.predict(test)\n",
    "    if predictions in test_movies[key][\"genres\"]:\n",
    "        yes += 1\n",
    "    else:\n",
    "        no += 1\n",
    "\n",
    "print(yes / (yes + no))"
   ]
  },
  {
   "cell_type": "markdown",
   "metadata": {},
   "source": [
    "#### Gradient Boosting Classifier"
   ]
  },
  {
   "cell_type": "code",
   "execution_count": 26,
   "metadata": {},
   "outputs": [
    {
     "data": {
      "text/plain": [
       "Pipeline(steps=[('vect', CountVectorizer()), ('tfidf', TfidfTransformer()),\n",
       "                ('clf', GradientBoostingClassifier())])"
      ]
     },
     "execution_count": 26,
     "metadata": {},
     "output_type": "execute_result"
    },
    {
     "data": {
      "application/javascript": [
       "\n",
       "            setTimeout(function() {\n",
       "                var nbb_cell_id = 26;\n",
       "                var nbb_unformatted_code = \"model = Pipeline(\\n    [\\n        (\\\"vect\\\", CountVectorizer()),\\n        (\\\"tfidf\\\", TfidfTransformer()),\\n        (\\\"clf\\\", GradientBoostingClassifier()),\\n    ]\\n)\\n\\nmodel.fit(preprocessed, y_train)\";\n",
       "                var nbb_formatted_code = \"model = Pipeline(\\n    [\\n        (\\\"vect\\\", CountVectorizer()),\\n        (\\\"tfidf\\\", TfidfTransformer()),\\n        (\\\"clf\\\", GradientBoostingClassifier()),\\n    ]\\n)\\n\\nmodel.fit(preprocessed, y_train)\";\n",
       "                var nbb_cells = Jupyter.notebook.get_cells();\n",
       "                for (var i = 0; i < nbb_cells.length; ++i) {\n",
       "                    if (nbb_cells[i].input_prompt_number == nbb_cell_id) {\n",
       "                        if (nbb_cells[i].get_text() == nbb_unformatted_code) {\n",
       "                             nbb_cells[i].set_text(nbb_formatted_code);\n",
       "                        }\n",
       "                        break;\n",
       "                    }\n",
       "                }\n",
       "            }, 500);\n",
       "            "
      ],
      "text/plain": [
       "<IPython.core.display.Javascript object>"
      ]
     },
     "metadata": {},
     "output_type": "display_data"
    }
   ],
   "source": [
    "model = Pipeline(\n",
    "    [\n",
    "        (\"vect\", CountVectorizer()),\n",
    "        (\"tfidf\", TfidfTransformer()),\n",
    "        (\"clf\", GradientBoostingClassifier()),\n",
    "    ]\n",
    ")\n",
    "\n",
    "model.fit(preprocessed, y_train)"
   ]
  },
  {
   "cell_type": "code",
   "execution_count": 27,
   "metadata": {},
   "outputs": [
    {
     "data": {
      "text/plain": [
       "0.68"
      ]
     },
     "execution_count": 27,
     "metadata": {},
     "output_type": "execute_result"
    },
    {
     "data": {
      "application/javascript": [
       "\n",
       "            setTimeout(function() {\n",
       "                var nbb_cell_id = 27;\n",
       "                var nbb_unformatted_code = \"model.score(preprocessed, y_train)\";\n",
       "                var nbb_formatted_code = \"model.score(preprocessed, y_train)\";\n",
       "                var nbb_cells = Jupyter.notebook.get_cells();\n",
       "                for (var i = 0; i < nbb_cells.length; ++i) {\n",
       "                    if (nbb_cells[i].input_prompt_number == nbb_cell_id) {\n",
       "                        if (nbb_cells[i].get_text() == nbb_unformatted_code) {\n",
       "                             nbb_cells[i].set_text(nbb_formatted_code);\n",
       "                        }\n",
       "                        break;\n",
       "                    }\n",
       "                }\n",
       "            }, 500);\n",
       "            "
      ],
      "text/plain": [
       "<IPython.core.display.Javascript object>"
      ]
     },
     "metadata": {},
     "output_type": "display_data"
    }
   ],
   "source": [
    "model.score(preprocessed, y_train)"
   ]
  },
  {
   "cell_type": "code",
   "execution_count": 28,
   "metadata": {},
   "outputs": [
    {
     "name": "stdout",
     "output_type": "stream",
     "text": [
      "0.034482758620689655\n"
     ]
    },
    {
     "data": {
      "application/javascript": [
       "\n",
       "            setTimeout(function() {\n",
       "                var nbb_cell_id = 28;\n",
       "                var nbb_unformatted_code = \"yes = 0\\nno = 0\\nfor key in test_movies.keys():\\n    test = []\\n    test.append(\\\" \\\".join(test_movies[key][\\\"lines\\\"]))\\n    test = preprocess(test)\\n    predictions = model.predict(test)\\n    if predictions in test_movies[key][\\\"genres\\\"]:\\n        yes += 1\\n    else:\\n        no += 1\\n\\nprint(yes / (yes + no))\";\n",
       "                var nbb_formatted_code = \"yes = 0\\nno = 0\\nfor key in test_movies.keys():\\n    test = []\\n    test.append(\\\" \\\".join(test_movies[key][\\\"lines\\\"]))\\n    test = preprocess(test)\\n    predictions = model.predict(test)\\n    if predictions in test_movies[key][\\\"genres\\\"]:\\n        yes += 1\\n    else:\\n        no += 1\\n\\nprint(yes / (yes + no))\";\n",
       "                var nbb_cells = Jupyter.notebook.get_cells();\n",
       "                for (var i = 0; i < nbb_cells.length; ++i) {\n",
       "                    if (nbb_cells[i].input_prompt_number == nbb_cell_id) {\n",
       "                        if (nbb_cells[i].get_text() == nbb_unformatted_code) {\n",
       "                             nbb_cells[i].set_text(nbb_formatted_code);\n",
       "                        }\n",
       "                        break;\n",
       "                    }\n",
       "                }\n",
       "            }, 500);\n",
       "            "
      ],
      "text/plain": [
       "<IPython.core.display.Javascript object>"
      ]
     },
     "metadata": {},
     "output_type": "display_data"
    }
   ],
   "source": [
    "yes = 0\n",
    "no = 0\n",
    "for key in test_movies.keys():\n",
    "    test = []\n",
    "    test.append(\" \".join(test_movies[key][\"lines\"]))\n",
    "    test = preprocess(test)\n",
    "    predictions = model.predict(test)\n",
    "    if predictions in test_movies[key][\"genres\"]:\n",
    "        yes += 1\n",
    "    else:\n",
    "        no += 1\n",
    "\n",
    "print(yes / (yes + no))"
   ]
  },
  {
   "cell_type": "markdown",
   "metadata": {},
   "source": [
    "The test accuracy of all three models is abysmal but logistic regression performed the best."
   ]
  },
  {
   "cell_type": "markdown",
   "metadata": {},
   "source": [
    "### Text Generation\n",
    "* Generate text from each genre of movie"
   ]
  },
  {
   "cell_type": "code",
   "execution_count": 29,
   "metadata": {},
   "outputs": [
    {
     "data": {
      "application/javascript": [
       "\n",
       "            setTimeout(function() {\n",
       "                var nbb_cell_id = 29;\n",
       "                var nbb_unformatted_code = \"tokenized_list = []\\nfor dialogue in all_dialogue:\\n    tokenized = sent_tokenize(dialogue)\\n    tokenized_list.append(tokenized)\";\n",
       "                var nbb_formatted_code = \"tokenized_list = []\\nfor dialogue in all_dialogue:\\n    tokenized = sent_tokenize(dialogue)\\n    tokenized_list.append(tokenized)\";\n",
       "                var nbb_cells = Jupyter.notebook.get_cells();\n",
       "                for (var i = 0; i < nbb_cells.length; ++i) {\n",
       "                    if (nbb_cells[i].input_prompt_number == nbb_cell_id) {\n",
       "                        if (nbb_cells[i].get_text() == nbb_unformatted_code) {\n",
       "                             nbb_cells[i].set_text(nbb_formatted_code);\n",
       "                        }\n",
       "                        break;\n",
       "                    }\n",
       "                }\n",
       "            }, 500);\n",
       "            "
      ],
      "text/plain": [
       "<IPython.core.display.Javascript object>"
      ]
     },
     "metadata": {},
     "output_type": "display_data"
    }
   ],
   "source": [
    "tokenized_list = []\n",
    "for dialogue in all_dialogue:\n",
    "    tokenized = sent_tokenize(dialogue)\n",
    "    tokenized_list.append(tokenized)"
   ]
  },
  {
   "cell_type": "code",
   "execution_count": 106,
   "metadata": {},
   "outputs": [
    {
     "name": "stdout",
     "output_type": "stream",
     "text": [
      "comedy \n",
      "\n",
      "Yes, look, I wanted to talk to you about that when we're alone...\n",
      "You stole this truck, and now you're trying to do the same thing!\n",
      "Better than spending my life crawling through windows in the middle of the night to meet that bitch in a bar...\n",
      "You know, Dwight, I hear you're the only one who came up positive for drugs?\n",
      "-- I want you to give me your word you won't come in.\n",
      "I'd be very interested to know what kind of shoes you had on?\n",
      "It is difficult to express but I'd rather not go to the trouble of bringing up those birds.\n",
      "Up at Pee Dee, I couldn't remember any of the reasons I loved him.\n",
      "I know, Sister, but I have a very good relationship with all the salesmen.\n",
      "What the hell am I supposed to do for twenty-four hours?\n",
      "```````````````````````````````````````````````````````````````````````````````````````````````````` \n",
      "\n",
      "romance \n",
      "\n",
      "These people are paying you a lot, do you think you could give me something to cement the deal...\n",
      "What's the good of -- Look, Walter, I came up here to tell you that I've reconsidered my position on your acquisition offer.\n",
      "You didn't come here to tell me how to run it.\n",
      "I have heard that Johnny Cammareri got down on his knees and proposed to me at The Grand Ticino.\n",
      "You know, Dwight, I hear you're the only one who came up positive for drugs?\n",
      "I didn't think you'd come back, I thought you'd want to -- What the hell's going on?\n",
      "Are you trying to tell me that I need someone to help me with my case load, you interested?\n",
      "Chance, assuming what you say is the truth, I would like to know where a guy runs into a girl as attractive as this.\n",
      "I think I might've said I was in love with her sister first, when I was twenty-one.\n",
      "If you won't sleep with me this time, Benjamin, I want you to know I'm having a very good time, too.\n",
      "```````````````````````````````````````````````````````````````````````````````````````````````````` \n",
      "\n",
      "adventure \n",
      "\n",
      "I talked to her and she gave me a shot ta the nuts.\n",
      "When you've got his attention you feel like you're the only person in the world that he truly hoped would not kill him.\n",
      "You don't know me, but I'm a great admirer of yours, too, Mr. Nixon.\n",
      "I can't -- I won't be able to play the harp?\n",
      "Howard Shenken, the Sheriff's uncle on his mother's side -- After all I've done for you, that's the thanks I get.\n",
      "I want you to know how much I hate my father.\n",
      "Do you have any idea what would happen if that little mirror came out of the crystal.\n",
      "Isn't it true that you've been in and out of there in less than ten minutes...\n",
      "Please don't make this personal -- I'm just saying, I know what it's like to be her just for one night.\n",
      "Maybe I could find a place for you and your mate.\n",
      "```````````````````````````````````````````````````````````````````````````````````````````````````` \n",
      "\n",
      "biography \n",
      "\n",
      "Did you see a message to call me when you lose your job Early.\n",
      "Your unfaithfulness -- that's what I'm trying to tell you that when you're ready, you won't have to.\n",
      "Well, at any rate, I would like to say I love the show.\n",
      "I've moved out of my house -- I'm going to be your own personal dating service!\n",
      "Agnes it had nothing to do with this -- Yes.\n",
      "I love him, and I don't care what you said, we had an agreement.\n",
      "I'm about to go into the shower, I won't be able to carry a weapon; but Clemenza, figure out a way to document it, to prove its existence to the planet Earth.\n",
      "For them to protect it like this, you just know there's got to be something or they wouldn't be so panicked.\n",
      "You're not suggesting that I All you gotta do is learn to feel sorry for yourself.\n",
      "That's the name for when you wake up and find out the President of the United States.\n",
      "```````````````````````````````````````````````````````````````````````````````````````````````````` \n",
      "\n",
      "drama \n",
      "\n",
      "Do you know what will happen to her if she stuck around with you, Kit?\n",
      "And are you sure you want me to tell you everything that happened was okay?\n",
      "Are you in the middle of the night.\n",
      "Mark, I'm so glad you came over here because I want you to be able to see the view.\n",
      "I didn't get to see what's on the other side of the hill.\n",
      "You caught me playing hooky-- I always wondered what you religious types did with your free time.\n",
      "You were thinking the same thing, just didn't have the guts to ask when I first came up.\n",
      "But Alfredo didn't betray you, he was the only one who could know where it was.\n",
      "You can't even begins to know how much I appreciate what you've done.\n",
      "I know I must have had something to do with that bank in Idaho.\n",
      "```````````````````````````````````````````````````````````````````````````````````````````````````` \n",
      "\n",
      "history \n",
      "\n",
      "It's gotta be, like, an emergency plan to keep it away from my sister...I'll protect Beloved...'Cause She's mine...\n",
      "No, I just keep all of my old comics down here, and I want to find out, lawsuit or no lawsuit.\n",
      "You see, somebody went to a lot of trouble here, and I want to show off his skills by performing a one-puppet extravaganza in Reno.\n",
      "Do you see the gate at the end of the evening they crack themselves open.\n",
      "The one that you see when you walk in front of your house than anyplace else I can think of or imagine.\n",
      "Oh -- you don't have to go to it, we don't have to deal with maxi-pads and underwire.\n",
      "I'm on my way and I don't like the idea that I'm not in control of my life.\n",
      "Well, seein's how this thing is out, you let me handle the questions and you handle the answers, ok?\n",
      "Herr Mozart, may I have a word with you about the security arrangements?\n",
      "Shadow gets crazy-- It's not our job to taxi drunks around.\n",
      "```````````````````````````````````````````````````````````````````````````````````````````````````` \n",
      "\n",
      "action \n",
      "\n",
      "You want to know what I do for a living.\n",
      "Yeah right, and which ever of us is still alive at the end of the day, I want to own him.\n",
      "Actually I think it's fucking crazy, I don't know if I explained about the TV option.\n",
      "I know how you feel, humiliated in the hands of a real maniac who knows how to use them.\n",
      "It was going to be a big deal.\n",
      "Not having a plan is what keeps us doing jobs like this is you dragging your feet.\n",
      "What's all of this got to do with me, Mr. Bartholomew?\n",
      "Jesus Christ, why did you have to be so brutal?\n",
      "...Should spend some time below, see more of the rest of the party are more hopeful-- Why?\n",
      "I don't know much about Merle; I don't know what he does but I think he's on drugs supplied by Frank.\n",
      "```````````````````````````````````````````````````````````````````````````````````````````````````` \n",
      "\n",
      "crime \n",
      "\n",
      "It's still early, it might mean nothing, but I thought you'd want to -- What the hell's going on?\n",
      "I guess what I'm trying to say is that -- I'm not sure I understand-- This is not a personal thing, this is Business.\n",
      "He was so confused by what I was doing, I don't think he even understands that you did it for him.\n",
      "I was worried when we couldn't get in touch with you through someone you absolutely trust.\n",
      "If I called you... if I heard your voice... it would have been so easy to let him in as you went out.\n",
      "Look, give me a break, you're going to have to let go of the fence.\n",
      "Well what's the use of hiring an expert if your not going to listen to a God damned thing I say.\n",
      "It's mission <i>impossible.</i> Difficult should be a walk in the park, do you know that?\n",
      "Damnit, I'm involved in this thing, so I just wanna know what happened to my focking money.\n",
      "Do you have any idea how hard it was for me to put that uniform on...\n",
      "```````````````````````````````````````````````````````````````````````````````````````````````````` \n",
      "\n",
      "thriller \n",
      "\n",
      "And I was wondering if I could talk to him in person.\n",
      "Mike followed them to York Estates -- What are you talking about, Nick -- what's wrong with you?\n",
      "I'm sorry, that's an unfortunate phrase, it slipped out, I'm, to tell you the truth, I did it once or twice at Stanford.\n",
      "How the hell am I supposed to tell your kids, Jim!\n",
      "Bonasera, we know each other for years, but this is the first one I've felt personally terrified of.\n",
      "That's exactly what I want you to do me one favor.\n",
      "And you hoped to spend the rest of your life hiding like your father?\n",
      "You brought a posse to my best hideout and you want to know if I think we were just having sex or making love?\n",
      "Tell him what, what do you want me to lay down to them?\n",
      "Swear to God, on the Bible, you won't try to escape and I'll do my best to get you into Mexico.\n",
      "```````````````````````````````````````````````````````````````````````````````````````````````````` \n",
      "\n",
      "mystery \n",
      "\n"
     ]
    },
    {
     "name": "stdout",
     "output_type": "stream",
     "text": [
      "Forgive me now for seeming personal, but we understand that there is a great respons- ibility in representing the Federation.\n",
      "I told you before that I would like to have died in peace...\n",
      "You are to have nothing to do with the reason he came here?\n",
      "No -- I love you so much and I want you to know I thought about what you said...\n",
      "I don't like it either, but I'm just trying to find an explanation for the continual reappearances.\n",
      "You're missing most of your life, Jim, and you don't even know how long ago it was.\n",
      "This doesn't come out of nowhere, there has to be a darn good reason for wanting them kept out of it...\n",
      "All I know is that I might be able to find something on the ship.\n",
      "I want to meet with representatives from all the nations of the Earth -- but I was not allowed the Opportunity.\n",
      "What if I had nothing to do with the investigation into Bill Tuggle's death.\n",
      "```````````````````````````````````````````````````````````````````````````````````````````````````` \n",
      "\n",
      "sci-fi \n",
      "\n",
      "We're going down into the sewer system to see if we can get an equally strong positive reaction.\n",
      "But this time I want you to make with me, Charles.\n",
      "Well, Professor, are you sure you want to do this?\n",
      "I'm sorry, Frank, but I don't think I never had a...\n",
      "This really terrible feeling came over me and -- I don't know -- But I can't stay here.\n",
      "I don't want to take up your time like that Trevor.\n",
      "Because you don't want to know how it happened and why.\n",
      "I told you before that I would like to have her right down there on the floor with her ear pressed up against the Maytag.\n",
      "You spoiled his life you've ruined mine  How do you know what to type back when they start to cyber with you.\n",
      "If some kind of payment isn't made, we're going to have to pass on the sewer trip, boys.\n",
      "```````````````````````````````````````````````````````````````````````````````````````````````````` \n",
      "\n",
      "fantasy \n",
      "\n",
      "The man who did the waking buys the man who was sleeping it drinks it while listening to a proposition.\n",
      "Norville, there really is something I have to tell you in private at a fine restaurant.\n",
      "He seemed to know a hell of a lot worse before it gets better.\n",
      "Norville, there really is something I have to tell you in private at a fine restaurant.\n",
      "What ... what's ... you've got to help me get Maxie Dean up here.\n",
      "Now what kind of nurse would I be if I put my guests to this kind of work.\n",
      "What do you think the Board is going to say when I put you on the stand?\n",
      "David, before we go in there I want you to know how much I love you.\n",
      "And if you don't stamp this form I'm going to blow the generator when you get back.\n",
      "But I couldn't go until I told you how sorry I was about what happened after we returned.\n",
      "```````````````````````````````````````````````````````````````````````````````````````````````````` \n",
      "\n",
      "horror \n",
      "\n",
      "He seemed to know a hell of a lot safer there than here.\n",
      "I think there's been some kind of misunderstanding here and I want to know what caused that noise.\n",
      "I don't want to take up your time like that Trevor.\n",
      "A meteorite just hit the ground near here and I want to cooperate in every way I can.\n",
      "The question is what are you going to do about her?\n",
      "Look, do you have to go back to the engine room.\n",
      "I don't know what happened... and I don't know what you want-- He been sleeping in a T-shirt lately?\n",
      "I was hired, you told me, to help bring Parrish Communications into the 21st century and me along with it.\n",
      "Not having a plan is what keeps us doing jobs like this is you dragging your feet.\n",
      "I was hired, you told me, to help bring Parrish Communications into the 21st century and me along with it.\n",
      "```````````````````````````````````````````````````````````````````````````````````````````````````` \n",
      "\n",
      "music \n",
      "\n",
      "Was Ma there the last time we played a wedding, Jack?\n",
      "Everybody up in here should know I had nothing to do with the job, it was stupid.\n",
      "My dear Mozart, there is no one in the world could do musical harm to the Princess!\n",
      "These changes are not the way I want to feel about my work.\n",
      "But don't wait too long, I don't want to be any part of this.\n",
      "Dunwitty, I ask you when was the last time we played the Mallory?\n",
      "My dear Mozart, there is no one in the world could do musical harm to the Princess!\n",
      "Everybody up in here should know I had nothing to do with the job, it was stupid.\n",
      "Dunwitty, I ask you when was the last time we played the Ambassador?\n",
      "Dunwitty, I ask you when was the last time we played a wedding, Jack?\n",
      "```````````````````````````````````````````````````````````````````````````````````````````````````` \n",
      "\n",
      "western \n",
      "\n",
      "I said you don't know what you're talking about, do you?\n",
      "I just thought, as long as you're here, it would be nice for you to take a few days off from your work, huh?\n",
      "I just thought, as long as you're here, it would be nice for you to take a few days off from your work, huh?\n",
      "None\n",
      "I said you don't know what you're talking about, do you?\n",
      "I just thought, as long as you're here, it would be nice for you to take a few days off from your work, huh?\n",
      "I just thought, as long as you're here, it would be nice for you to take a few days off from your work, huh?\n",
      "I said you don't know what you're talking about, do you?\n",
      "None\n",
      "I said you don't know what you're talking about, do you?\n",
      "```````````````````````````````````````````````````````````````````````````````````````````````````` \n",
      "\n",
      "war \n",
      "\n",
      "Before Rafe left, he asked me to be the one to say it, but it's late.\n",
      "I'll fix you up with a couple of crazy Yankees, but...\n",
      "Before Rafe left, he asked me to be the one to say it, but it's late.\n",
      "I'll fix you up with a couple of crazy Yankees, but...\n",
      "You've broken your ankle and I'm going to have to walk to El Taj.\n",
      "You've broken your ankle and I'm going to have to walk to El Taj.\n",
      "Before Rafe left, he asked me to be the one to say it, but it's late.\n",
      "You've broken your ankle and I'm going to have to walk to El Taj.\n",
      "Yeah but I still like a piece of pussy cept maybe the Indie 500.\n",
      "Yeah but I still like a piece of pussy cept maybe the Indie 500.\n",
      "```````````````````````````````````````````````````````````````````````````````````````````````````` \n",
      "\n",
      "adult \n",
      "\n",
      "I -- I -- I -- I -- I -- I -- I -- I -- I -- I -- I --, j-uh-j-uh- just wanted to compe-e-e-e-ete.\n",
      "I -- I -- I -- I -- I -- I -- I -- I --, j-uh-j-uh- just wanted to compe-e-e-e-ete.\n",
      "I -- I -- I -- I -- I -- I -- I -- I -- I --, j-uh-j-uh- just wanted to compe-e-e-e-ete.\n",
      "I -- I -- I -- I -- I -- I -- I -- I --, j-uh-j-uh- just wanted to compe-e-e-e-ete.\n",
      "I -- I -- I -- I -- I -- I -- I -- I --, j-uh-j-uh- just wanted to compe-e-e-e-ete.\n",
      "I -- I -- I -- I -- I -- I -- I -- I -- I --, j-uh-j-uh- just wanted to compe-e-e-e-ete.\n",
      "I -- I -- I -- I -- I -- I -- I -- I --, j-uh-j-uh- just wanted to compe-e-e-e-ete.\n",
      "I -- I -- I -- I -- I -- I -- I -- I -- I -- I -- I -- I --, j-uh-j-uh- just wanted to compe-e-e-e-ete.\n",
      "I -- I -- I -- I -- I -- I -- I -- I --, j-uh-j-uh- just wanted to compe-e-e-e-ete.\n",
      "I -- I -- I -- I -- I -- I -- I -- I -- I --, j-uh-j-uh- just wanted to compe-e-e-e-ete.\n",
      "```````````````````````````````````````````````````````````````````````````````````````````````````` \n",
      "\n",
      "musical \n",
      "\n",
      "I'm Janet Majors and this is my fiancee, Janet Weiss.\n",
      "I'm Janet Majors and this is my fiancee, Janet Weiss.\n",
      "I'm Janet Majors and this is my fiancee, Janet Weiss.\n",
      "I'm Janet Majors and this is my fiancee, Janet Weiss.\n",
      "YOUNG BLOOD I NEED SOME YOUNG BLOOD I NEED SOME YOUNG BLOOD I NEED SOME YOUNG BLOOD I NEED SOME YOUNG BLOOD I NEED SOME Good!\n",
      "I'm Janet Majors and this is my fiancee, Janet Weiss.\n",
      "I'm Janet Majors and this is my fiancee, Janet Weiss.\n",
      "YOUNG BLOOD I NEED SOME YOUNG BLOOD I NEED SOME YOUNG BLOOD I NEED SOME YOUNG BLOOD I NEED SOME Good!\n",
      "I'm Janet Majors and this is my fiancee, Janet Weiss.\n",
      "I'm Janet Majors and this is my fiancee, Janet Weiss.\n",
      "```````````````````````````````````````````````````````````````````````````````````````````````````` \n",
      "\n",
      "animation \n",
      "\n",
      "A meteorite just hit the ground near here and I want to cooperate in every way I can.\n",
      "I believe that something happened here and I want to check it out ..\n",
      "I know you fill out your own tax return, but I'd like you to come back this evening and do some more work with me.\n",
      "I know you fill out your own tax return, but I'd like you to come back this evening and do some more work with me.\n"
     ]
    },
    {
     "name": "stdout",
     "output_type": "stream",
     "text": [
      "I believe that something happened here and I want to check it out ..\n",
      "A meteorite just hit the ground near here and I want to cooperate in every way I can.\n",
      "I believe that something happened here and I want to check it out ..\n",
      "I believe that something happened here and I want to cooperate in every way I can.\n",
      "I believe that something happened here and I want to check it out ..\n",
      "I believe that something happened here and I want to cooperate in every way I can.\n",
      "```````````````````````````````````````````````````````````````````````````````````````````````````` \n",
      "\n",
      "sport \n",
      "\n",
      "None\n",
      "If he ain't gonna listen to you, he ain't gonna listen to you, he ain't gonna listen to nobody!\n",
      "None\n",
      "He ain't gonna get a shot at the title because there's nobody else.\n",
      "None\n",
      "He ain't gonna get a shot at the title because there's nobody else.\n",
      "None\n",
      "He ain't gonna get a shot at the title because there's nobody else.\n",
      "He ain't gonna get a shot at the title because there's nobody else.\n",
      "He ain't gonna get a shot at the title because there's nobody else.\n",
      "```````````````````````````````````````````````````````````````````````````````````````````````````` \n",
      "\n",
      " \n",
      "\n",
      "I'm going to ask you a question that might sound strange?\n",
      "I'm going to ask you a question that might sound strange?\n",
      "I'm going to ask you a question that might sound strange?\n",
      "I'm going to ask you a question that might sound strange?\n",
      "I'm going to ask you a question that might sound strange?\n",
      "I'm going to ask you a question that might sound strange?\n",
      "I'm going to ask you a question that might sound strange?\n",
      "I'm going to ask you a question that might sound strange?\n",
      "I'm going to ask you a question that might sound strange?\n",
      "I'm going to ask you a question that might sound strange?\n",
      "```````````````````````````````````````````````````````````````````````````````````````````````````` \n",
      "\n",
      "family \n",
      "\n",
      "None\n",
      "How would you like to go visit your Uncle Phil in Los Angeles today, said he went body surfing.\n",
      "None\n",
      "None\n",
      "How would you like to go visit your Uncle Phil in Los Angeles today, said he went body surfing.\n",
      "How would you like to go visit your Uncle Phil in Los Angeles today, said he went body surfing.\n",
      "None\n",
      "None\n",
      "How would you like to go visit your Uncle Phil in Los Angeles today, said he went body surfing.\n",
      "How would you like to go visit your Uncle Phil in Los Angeles today, said he went body surfing.\n",
      "```````````````````````````````````````````````````````````````````````````````````````````````````` \n",
      "\n",
      "short \n",
      "\n",
      "None\n",
      "None\n",
      "None\n",
      "None\n",
      "None\n",
      "None\n",
      "None\n",
      "None\n",
      "None\n",
      "None\n",
      "```````````````````````````````````````````````````````````````````````````````````````````````````` \n",
      "\n",
      "film-noir \n",
      "\n",
      "None\n",
      "None\n",
      "None\n",
      "None\n",
      "None\n",
      "None\n",
      "None\n",
      "None\n",
      "None\n",
      "None\n",
      "```````````````````````````````````````````````````````````````````````````````````````````````````` \n",
      "\n",
      "documentary \n",
      "\n",
      "None\n",
      "None\n",
      "None\n",
      "None\n",
      "None\n",
      "None\n",
      "None\n",
      "None\n",
      "None\n",
      "None\n",
      "```````````````````````````````````````````````````````````````````````````````````````````````````` \n",
      "\n"
     ]
    },
    {
     "data": {
      "application/javascript": [
       "\n",
       "            setTimeout(function() {\n",
       "                var nbb_cell_id = 106;\n",
       "                var nbb_unformatted_code = \"count = 0\\nfor dialogue in tokenized_list:\\n    print(list(genre_d.keys())[count], \\\"\\\\n\\\")\\n    count += 1\\n    model = markovify.Text(dialogue, state_size=5)\\n    for i in range(10):\\n        print(model.make_short_sentence(max_chars=200, min_chars=30, tries=100))\\n    print(\\\"`\\\" * 100, \\\"\\\\n\\\")\";\n",
       "                var nbb_formatted_code = \"count = 0\\nfor dialogue in tokenized_list:\\n    print(list(genre_d.keys())[count], \\\"\\\\n\\\")\\n    count += 1\\n    model = markovify.Text(dialogue, state_size=5)\\n    for i in range(10):\\n        print(model.make_short_sentence(max_chars=200, min_chars=30, tries=100))\\n    print(\\\"`\\\" * 100, \\\"\\\\n\\\")\";\n",
       "                var nbb_cells = Jupyter.notebook.get_cells();\n",
       "                for (var i = 0; i < nbb_cells.length; ++i) {\n",
       "                    if (nbb_cells[i].input_prompt_number == nbb_cell_id) {\n",
       "                        if (nbb_cells[i].get_text() == nbb_unformatted_code) {\n",
       "                             nbb_cells[i].set_text(nbb_formatted_code);\n",
       "                        }\n",
       "                        break;\n",
       "                    }\n",
       "                }\n",
       "            }, 500);\n",
       "            "
      ],
      "text/plain": [
       "<IPython.core.display.Javascript object>"
      ]
     },
     "metadata": {},
     "output_type": "display_data"
    }
   ],
   "source": [
    "count = 0\n",
    "for dialogue in tokenized_list:\n",
    "    print(list(genre_d.keys())[count], \"\\n\")\n",
    "    count += 1\n",
    "    model = markovify.Text(dialogue, state_size=5)\n",
    "    for i in range(10):\n",
    "        print(model.make_short_sentence(max_chars=200, min_chars=30, tries=100))\n",
    "    print(\"`\" * 100, \"\\n\")"
   ]
  },
  {
   "cell_type": "markdown",
   "metadata": {},
   "source": [
    "Generated text from most of the genres is comprehensible."
   ]
  },
  {
   "cell_type": "code",
   "execution_count": null,
   "metadata": {},
   "outputs": [],
   "source": []
  }
 ],
 "metadata": {
  "kernelspec": {
   "display_name": "Python 3",
   "language": "python",
   "name": "python3"
  },
  "language_info": {
   "codemirror_mode": {
    "name": "ipython",
    "version": 3
   },
   "file_extension": ".py",
   "mimetype": "text/x-python",
   "name": "python",
   "nbconvert_exporter": "python",
   "pygments_lexer": "ipython3",
   "version": "3.7.7"
  }
 },
 "nbformat": 4,
 "nbformat_minor": 4
}
