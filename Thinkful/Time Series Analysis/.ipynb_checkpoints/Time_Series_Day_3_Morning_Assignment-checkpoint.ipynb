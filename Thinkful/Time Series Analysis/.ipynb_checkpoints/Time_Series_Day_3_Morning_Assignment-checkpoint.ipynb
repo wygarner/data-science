{
 "cells": [
  {
   "cell_type": "markdown",
   "metadata": {
    "colab_type": "text",
    "id": "gHbm41Rf_FjW"
   },
   "source": [
    "# Time Series Decomposition & Analysis Assignment"
   ]
  },
  {
   "cell_type": "code",
   "execution_count": null,
   "metadata": {
    "colab": {
     "base_uri": "https://localhost:8080/",
     "height": 51
    },
    "colab_type": "code",
    "id": "0Pznyks6_FjX",
    "outputId": "abbf7376-192d-4d92-b856-ef4ce7a8019b"
   },
   "outputs": [],
   "source": [
    "import pandas as pd\n",
    "import statsmodels.api as sm\n",
    "import plotly.express as px"
   ]
  },
  {
   "cell_type": "markdown",
   "metadata": {
    "colab_type": "text",
    "id": "bT1N9yWv_Fja"
   },
   "source": [
    "### Import the monthly sunspots data set into a Pandas dataframe, and convert the Month field to a datetime data type."
   ]
  },
  {
   "cell_type": "code",
   "execution_count": null,
   "metadata": {
    "colab": {},
    "colab_type": "code",
    "id": "4SA6U2I-_Fja"
   },
   "outputs": [],
   "source": [
    "data = pd.read_csv('https://tf-assets-prod.s3.amazonaws.com/tf-curric/data-science/Data%20Sets%20Time%20Series%20Analysis/Time%20Series%20-%20Day%203/monthly-sunspots.csv')"
   ]
  },
  {
   "cell_type": "code",
   "execution_count": null,
   "metadata": {
    "colab": {},
    "colab_type": "code",
    "id": "GYAk6_GdFhqf"
   },
   "outputs": [],
   "source": [
    "data['Month'] = pd.to_datetime(data['Month'])"
   ]
  },
  {
   "cell_type": "markdown",
   "metadata": {
    "colab_type": "text",
    "id": "wR1dUrBH_Fjd"
   },
   "source": [
    "### Use a line chart to plot the time series."
   ]
  },
  {
   "cell_type": "code",
   "execution_count": null,
   "metadata": {
    "colab": {},
    "colab_type": "code",
    "id": "pOZ4Tf4k_Fjd"
   },
   "outputs": [],
   "source": [
    "def ilinechart(df, x, y, groups=None, title=''):\n",
    "    fig = px.line(df, x=x, y=y, color=groups, title=title, \n",
    "                  template='none').update(layout=dict(title=dict(x=0.5)))\n",
    "\n",
    "    # for item in range(len(fig.data)):\n",
    "    #     fig.data[item].update(name=fig.data[item]['name'].split('=')[1])\n",
    "    \n",
    "    fig.show()"
   ]
  },
  {
   "cell_type": "code",
   "execution_count": null,
   "metadata": {
    "colab": {
     "base_uri": "https://localhost:8080/",
     "height": 542
    },
    "colab_type": "code",
    "id": "dcs72_o6FtpC",
    "outputId": "2e0cd0b5-bace-408d-d150-e31b7ed29182"
   },
   "outputs": [],
   "source": [
    "ilinechart(data, 'Month', 'Sunspots', title='Sunspots by Month')"
   ]
  },
  {
   "cell_type": "markdown",
   "metadata": {
    "colab_type": "text",
    "id": "OBvMtDgS_Fjf"
   },
   "source": [
    "### Decompose the time series and add columns for the trend, seasonality, and residuals to the data set."
   ]
  },
  {
   "cell_type": "code",
   "execution_count": null,
   "metadata": {
    "colab": {
     "base_uri": "https://localhost:8080/",
     "height": 419
    },
    "colab_type": "code",
    "id": "a_gMwcMC_Fjf",
    "outputId": "7280b283-f7dd-4dd3-f057-5a944ab4a54f",
    "scrolled": true
   },
   "outputs": [],
   "source": [
    "series = data.set_index('Month')\n",
    "decomposition = sm.tsa.seasonal_decompose(series, model='additive')\n",
    "\n",
    "trend = decomposition.trend.reset_index()\n",
    "seasonality = decomposition.seasonal.reset_index()\n",
    "residuals = decomposition.resid.reset_index()\n",
    "\n",
    "merged = data.merge(trend, on='Month')\n",
    "merged = merged.merge(seasonality, on='Month')\n",
    "merged = merged.merge(residuals, on='Month')\n",
    "merged.columns = ['Month', 'Observed', 'Trend', 'Seasonality', 'Residuals']\n",
    "merged"
   ]
  },
  {
   "cell_type": "code",
   "execution_count": null,
   "metadata": {
    "colab": {},
    "colab_type": "code",
    "id": "sG45ZWrMHFVZ"
   },
   "outputs": [],
   "source": []
  },
  {
   "cell_type": "markdown",
   "metadata": {
    "colab_type": "text",
    "id": "gtzSxnF2_Fjh"
   },
   "source": [
    "### Plot the observed values, trend, seasonality, and residuals on a multi-line chart. You should have a line for each column.\n",
    "\n",
    "**Hint:** You may need to melt the data so that all the categories are in a single column and all the values are in a single column."
   ]
  },
  {
   "cell_type": "code",
   "execution_count": null,
   "metadata": {
    "colab": {
     "base_uri": "https://localhost:8080/",
     "height": 419
    },
    "colab_type": "code",
    "id": "GJZ2R_sS_Fji",
    "outputId": "d717c9a7-4015-4217-c7e2-a2b0bf616ea2"
   },
   "outputs": [],
   "source": [
    "melted = pd.melt(merged, id_vars='Month', value_vars=['Observed', 'Trend', 'Seasonality', 'Residuals'])\n",
    "melted"
   ]
  },
  {
   "cell_type": "code",
   "execution_count": null,
   "metadata": {
    "colab": {},
    "colab_type": "code",
    "id": "iZH5mCI_HwCc"
   },
   "outputs": [],
   "source": [
    "def multilinechart(df, x, y, groups=None, title=''):\n",
    "    fig = px.line(df, x=x, y=y, color=groups, title=title, \n",
    "                  template='none').update(layout=dict(title=dict(x=0.5)))\n",
    "\n",
    "    for item in range(len(fig.data)):\n",
    "        fig.data[item].update(name=fig.data[item]['name'].split('=')[1])\n",
    "    \n",
    "    fig.show()"
   ]
  },
  {
   "cell_type": "code",
   "execution_count": null,
   "metadata": {
    "colab": {
     "base_uri": "https://localhost:8080/",
     "height": 542
    },
    "colab_type": "code",
    "id": "x9c3C_UxHLYI",
    "outputId": "465a9cd9-3b8c-41ca-cec3-7afb3abd7aa5"
   },
   "outputs": [],
   "source": [
    "multilinechart(melted, 'Month', 'value', groups='variable', title='Observed vs. Components')"
   ]
  },
  {
   "cell_type": "code",
   "execution_count": null,
   "metadata": {
    "colab": {},
    "colab_type": "code",
    "id": "zlEooRG_HLcr"
   },
   "outputs": [],
   "source": []
  },
  {
   "cell_type": "markdown",
   "metadata": {
    "colab_type": "text",
    "id": "jl6RGK1Q_Fjj"
   },
   "source": [
    "### Add two columns to the data set - one that calculates a rolling mean and another that calculates a rolling standard deviation."
   ]
  },
  {
   "cell_type": "code",
   "execution_count": null,
   "metadata": {
    "colab": {},
    "colab_type": "code",
    "id": "Z8fpUynl_Fjk",
    "scrolled": true
   },
   "outputs": [],
   "source": [
    "merged['Rolling_Mean'] = merged['Observed'].rolling(window=12).mean()\n",
    "merged['Rolling_Std'] = merged['Observed'].rolling(window=12).std()"
   ]
  },
  {
   "cell_type": "markdown",
   "metadata": {
    "colab_type": "text",
    "id": "qxWZjjC4_Fjm"
   },
   "source": [
    "### Plot the rolling mean and standard deviation on a multi-line chart along with the observed values."
   ]
  },
  {
   "cell_type": "code",
   "execution_count": null,
   "metadata": {
    "colab": {
     "base_uri": "https://localhost:8080/",
     "height": 542
    },
    "colab_type": "code",
    "id": "Kv63qODXJPxr",
    "outputId": "23d9dd26-e857-4fea-e5b7-eead865995a8"
   },
   "outputs": [],
   "source": [
    "rolling = pd.melt(merged, id_vars='Month', value_vars=['Observed', 'Rolling_Mean', 'Rolling_Std'])\n",
    "\n",
    "multilinechart(rolling, 'Month', 'value', groups='variable', title='Rolling Mean & Standard Deviation')"
   ]
  },
  {
   "cell_type": "code",
   "execution_count": null,
   "metadata": {
    "colab": {},
    "colab_type": "code",
    "id": "Vr4bYpVt_Fjm"
   },
   "outputs": [],
   "source": []
  },
  {
   "cell_type": "markdown",
   "metadata": {
    "colab_type": "text",
    "id": "Ex_S87b1_Fjo"
   },
   "source": [
    "### Perform an Augmented Dickey Fuller Test on the data set and determine whether this time series is stationary."
   ]
  },
  {
   "cell_type": "code",
   "execution_count": null,
   "metadata": {
    "colab": {
     "base_uri": "https://localhost:8080/",
     "height": 153
    },
    "colab_type": "code",
    "id": "Wew1DQUX_Fjo",
    "outputId": "56243396-7157-4948-d92a-b918fd88654f"
   },
   "outputs": [],
   "source": [
    "adf_test = sm.tsa.stattools.adfuller(merged['Observed'])\n",
    "\n",
    "results = pd.Series(adf_test[0:4], index=['ADF Test Statistic', 'P-Value', '# Lags Used', '# Obs Used'])\n",
    "\n",
    "for key, value in adf_test[4].items():\n",
    "  results[f'Critical Value ({key})'] = value\n",
    "\n",
    "results"
   ]
  },
  {
   "cell_type": "markdown",
   "metadata": {
    "colab_type": "text",
    "id": "zPFUP4OU_Fjq"
   },
   "source": [
    "### Generate an autocorrelation plot for the data set to determine the level of autocorrelation in this time series."
   ]
  },
  {
   "cell_type": "code",
   "execution_count": null,
   "metadata": {
    "colab": {},
    "colab_type": "code",
    "id": "WAa7H8Wj_Fjq"
   },
   "outputs": [],
   "source": [
    "from statsmodels.graphics.tsaplots import plot_acf\n",
    "from pylab import rcParams"
   ]
  },
  {
   "cell_type": "code",
   "execution_count": null,
   "metadata": {
    "colab": {},
    "colab_type": "code",
    "id": "nxOwQSuzKZ6F"
   },
   "outputs": [],
   "source": [
    "rcParams['figure.figsize'] = 16, 8"
   ]
  },
  {
   "cell_type": "code",
   "execution_count": null,
   "metadata": {
    "colab": {
     "base_uri": "https://localhost:8080/",
     "height": 499
    },
    "colab_type": "code",
    "id": "gcfsyS9eKfF3",
    "outputId": "6bc0d91d-438b-41c7-f810-7c386fba77f7"
   },
   "outputs": [],
   "source": [
    "series = data.set_index('Month')\n",
    "fig = plot_acf(series, lags=300)"
   ]
  },
  {
   "cell_type": "code",
   "execution_count": null,
   "metadata": {
    "colab": {},
    "colab_type": "code",
    "id": "UFyxAcVFKjqV"
   },
   "outputs": [],
   "source": [
    "def wma(df, field, window):\n",
    "  weights=np.arange(1, window+1)\n",
    "  ma = df[field].rolling(window)\n",
    "  wma = ma.apply(lambda x: np.dot(x, weights)/weights.sum(), raw=True)\n",
    "  return wma"
   ]
  },
  {
   "cell_type": "code",
   "execution_count": 0,
   "metadata": {
    "colab": {},
    "colab_type": "code",
    "id": "M9cFHAO-O90q"
   },
   "outputs": [],
   "source": []
  }
 ],
 "metadata": {
  "colab": {
   "name": "Time Series Day 3 Morning Assignment.ipynb",
   "provenance": []
  },
  "kernelspec": {
   "display_name": "Python 3",
   "language": "python",
   "name": "python3"
  },
  "language_info": {
   "codemirror_mode": {
    "name": "ipython",
    "version": 3
   },
   "file_extension": ".py",
   "mimetype": "text/x-python",
   "name": "python",
   "nbconvert_exporter": "python",
   "pygments_lexer": "ipython3",
   "version": "3.7.7"
  }
 },
 "nbformat": 4,
 "nbformat_minor": 1
}
