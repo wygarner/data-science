{
 "cells": [
  {
   "cell_type": "code",
   "execution_count": 1,
   "metadata": {},
   "outputs": [
    {
     "data": {
      "application/javascript": [
       "\n",
       "            setTimeout(function() {\n",
       "                var nbb_cell_id = 1;\n",
       "                var nbb_unformatted_code = \"%load_ext nb_black\";\n",
       "                var nbb_formatted_code = \"%load_ext nb_black\";\n",
       "                var nbb_cells = Jupyter.notebook.get_cells();\n",
       "                for (var i = 0; i < nbb_cells.length; ++i) {\n",
       "                    if (nbb_cells[i].input_prompt_number == nbb_cell_id) {\n",
       "                        if (nbb_cells[i].get_text() == nbb_unformatted_code) {\n",
       "                             nbb_cells[i].set_text(nbb_formatted_code);\n",
       "                        }\n",
       "                        break;\n",
       "                    }\n",
       "                }\n",
       "            }, 500);\n",
       "            "
      ],
      "text/plain": [
       "<IPython.core.display.Javascript object>"
      ]
     },
     "metadata": {},
     "output_type": "display_data"
    }
   ],
   "source": [
    "%load_ext nb_black"
   ]
  },
  {
   "cell_type": "markdown",
   "metadata": {
    "colab_type": "text",
    "id": "zUGAqrFLfHFA"
   },
   "source": [
    "# Interactive Time Series Visualization Assignment"
   ]
  },
  {
   "cell_type": "code",
   "execution_count": 2,
   "metadata": {
    "colab": {},
    "colab_type": "code",
    "id": "mWelAIHEfHFE"
   },
   "outputs": [
    {
     "data": {
      "application/javascript": [
       "\n",
       "            setTimeout(function() {\n",
       "                var nbb_cell_id = 2;\n",
       "                var nbb_unformatted_code = \"import pandas as pd\\nimport plotly.express as px\\nfrom ipywidgets import interact\\nfrom datetime import datetime as dt\";\n",
       "                var nbb_formatted_code = \"import pandas as pd\\nimport plotly.express as px\\nfrom ipywidgets import interact\\nfrom datetime import datetime as dt\";\n",
       "                var nbb_cells = Jupyter.notebook.get_cells();\n",
       "                for (var i = 0; i < nbb_cells.length; ++i) {\n",
       "                    if (nbb_cells[i].input_prompt_number == nbb_cell_id) {\n",
       "                        if (nbb_cells[i].get_text() == nbb_unformatted_code) {\n",
       "                             nbb_cells[i].set_text(nbb_formatted_code);\n",
       "                        }\n",
       "                        break;\n",
       "                    }\n",
       "                }\n",
       "            }, 500);\n",
       "            "
      ],
      "text/plain": [
       "<IPython.core.display.Javascript object>"
      ]
     },
     "metadata": {},
     "output_type": "display_data"
    }
   ],
   "source": [
    "import pandas as pd\n",
    "import plotly.express as px\n",
    "from ipywidgets import interact\n",
    "from datetime import datetime as dt"
   ]
  },
  {
   "cell_type": "markdown",
   "metadata": {
    "colab_type": "text",
    "id": "h-8X_cNVfHFI"
   },
   "source": [
    "### Load the Online Retail.xlsx Excel file into a Pandas dataframe."
   ]
  },
  {
   "cell_type": "code",
   "execution_count": 3,
   "metadata": {
    "colab": {},
    "colab_type": "code",
    "id": "ssD3f8tNfHFJ"
   },
   "outputs": [
    {
     "data": {
      "text/html": [
       "<div>\n",
       "<style scoped>\n",
       "    .dataframe tbody tr th:only-of-type {\n",
       "        vertical-align: middle;\n",
       "    }\n",
       "\n",
       "    .dataframe tbody tr th {\n",
       "        vertical-align: top;\n",
       "    }\n",
       "\n",
       "    .dataframe thead th {\n",
       "        text-align: right;\n",
       "    }\n",
       "</style>\n",
       "<table border=\"1\" class=\"dataframe\">\n",
       "  <thead>\n",
       "    <tr style=\"text-align: right;\">\n",
       "      <th></th>\n",
       "      <th>InvoiceNo</th>\n",
       "      <th>InvoiceDate</th>\n",
       "      <th>StockCode</th>\n",
       "      <th>Description</th>\n",
       "      <th>Quantity</th>\n",
       "      <th>UnitPrice</th>\n",
       "      <th>Revenue</th>\n",
       "      <th>CustomerID</th>\n",
       "      <th>Country</th>\n",
       "    </tr>\n",
       "  </thead>\n",
       "  <tbody>\n",
       "    <tr>\n",
       "      <th>0</th>\n",
       "      <td>536365</td>\n",
       "      <td>2010-12-01 08:26:00</td>\n",
       "      <td>85123A</td>\n",
       "      <td>CREAM HANGING HEART T-LIGHT HOLDER</td>\n",
       "      <td>6</td>\n",
       "      <td>2.55</td>\n",
       "      <td>15.30</td>\n",
       "      <td>17850</td>\n",
       "      <td>United Kingdom</td>\n",
       "    </tr>\n",
       "    <tr>\n",
       "      <th>1</th>\n",
       "      <td>536373</td>\n",
       "      <td>2010-12-01 09:02:00</td>\n",
       "      <td>85123A</td>\n",
       "      <td>CREAM HANGING HEART T-LIGHT HOLDER</td>\n",
       "      <td>6</td>\n",
       "      <td>2.55</td>\n",
       "      <td>15.30</td>\n",
       "      <td>17850</td>\n",
       "      <td>United Kingdom</td>\n",
       "    </tr>\n",
       "    <tr>\n",
       "      <th>2</th>\n",
       "      <td>536375</td>\n",
       "      <td>2010-12-01 09:32:00</td>\n",
       "      <td>85123A</td>\n",
       "      <td>CREAM HANGING HEART T-LIGHT HOLDER</td>\n",
       "      <td>6</td>\n",
       "      <td>2.55</td>\n",
       "      <td>15.30</td>\n",
       "      <td>17850</td>\n",
       "      <td>United Kingdom</td>\n",
       "    </tr>\n",
       "    <tr>\n",
       "      <th>3</th>\n",
       "      <td>536390</td>\n",
       "      <td>2010-12-01 10:19:00</td>\n",
       "      <td>85123A</td>\n",
       "      <td>CREAM HANGING HEART T-LIGHT HOLDER</td>\n",
       "      <td>64</td>\n",
       "      <td>2.55</td>\n",
       "      <td>163.20</td>\n",
       "      <td>17511</td>\n",
       "      <td>United Kingdom</td>\n",
       "    </tr>\n",
       "    <tr>\n",
       "      <th>4</th>\n",
       "      <td>536394</td>\n",
       "      <td>2010-12-01 10:39:00</td>\n",
       "      <td>85123A</td>\n",
       "      <td>CREAM HANGING HEART T-LIGHT HOLDER</td>\n",
       "      <td>32</td>\n",
       "      <td>2.55</td>\n",
       "      <td>81.60</td>\n",
       "      <td>13408</td>\n",
       "      <td>United Kingdom</td>\n",
       "    </tr>\n",
       "    <tr>\n",
       "      <th>...</th>\n",
       "      <td>...</td>\n",
       "      <td>...</td>\n",
       "      <td>...</td>\n",
       "      <td>...</td>\n",
       "      <td>...</td>\n",
       "      <td>...</td>\n",
       "      <td>...</td>\n",
       "      <td>...</td>\n",
       "      <td>...</td>\n",
       "    </tr>\n",
       "    <tr>\n",
       "      <th>396029</th>\n",
       "      <td>580691</td>\n",
       "      <td>2011-12-05 15:48:00</td>\n",
       "      <td>90214W</td>\n",
       "      <td>LETTER \"W\" BLING KEY RING</td>\n",
       "      <td>12</td>\n",
       "      <td>0.29</td>\n",
       "      <td>3.48</td>\n",
       "      <td>13790</td>\n",
       "      <td>United Kingdom</td>\n",
       "    </tr>\n",
       "    <tr>\n",
       "      <th>396030</th>\n",
       "      <td>580691</td>\n",
       "      <td>2011-12-05 15:48:00</td>\n",
       "      <td>90214Z</td>\n",
       "      <td>LETTER \"Z\" BLING KEY RING</td>\n",
       "      <td>12</td>\n",
       "      <td>0.29</td>\n",
       "      <td>3.48</td>\n",
       "      <td>13790</td>\n",
       "      <td>United Kingdom</td>\n",
       "    </tr>\n",
       "    <tr>\n",
       "      <th>396031</th>\n",
       "      <td>580865</td>\n",
       "      <td>2011-12-06 11:58:00</td>\n",
       "      <td>90089</td>\n",
       "      <td>PINK CRYSTAL SKULL PHONE CHARM</td>\n",
       "      <td>12</td>\n",
       "      <td>0.19</td>\n",
       "      <td>2.28</td>\n",
       "      <td>17914</td>\n",
       "      <td>United Kingdom</td>\n",
       "    </tr>\n",
       "    <tr>\n",
       "      <th>396032</th>\n",
       "      <td>580865</td>\n",
       "      <td>2011-12-06 11:58:00</td>\n",
       "      <td>90089</td>\n",
       "      <td>PINK CRYSTAL SKULL PHONE CHARM</td>\n",
       "      <td>12</td>\n",
       "      <td>0.19</td>\n",
       "      <td>2.28</td>\n",
       "      <td>17914</td>\n",
       "      <td>United Kingdom</td>\n",
       "    </tr>\n",
       "    <tr>\n",
       "      <th>396033</th>\n",
       "      <td>581425</td>\n",
       "      <td>2011-12-08 15:31:00</td>\n",
       "      <td>90089</td>\n",
       "      <td>PINK CRYSTAL SKULL PHONE CHARM</td>\n",
       "      <td>1</td>\n",
       "      <td>0.19</td>\n",
       "      <td>0.19</td>\n",
       "      <td>14796</td>\n",
       "      <td>United Kingdom</td>\n",
       "    </tr>\n",
       "  </tbody>\n",
       "</table>\n",
       "<p>396034 rows × 9 columns</p>\n",
       "</div>"
      ],
      "text/plain": [
       "        InvoiceNo         InvoiceDate StockCode  \\\n",
       "0          536365 2010-12-01 08:26:00    85123A   \n",
       "1          536373 2010-12-01 09:02:00    85123A   \n",
       "2          536375 2010-12-01 09:32:00    85123A   \n",
       "3          536390 2010-12-01 10:19:00    85123A   \n",
       "4          536394 2010-12-01 10:39:00    85123A   \n",
       "...           ...                 ...       ...   \n",
       "396029     580691 2011-12-05 15:48:00    90214W   \n",
       "396030     580691 2011-12-05 15:48:00    90214Z   \n",
       "396031     580865 2011-12-06 11:58:00     90089   \n",
       "396032     580865 2011-12-06 11:58:00     90089   \n",
       "396033     581425 2011-12-08 15:31:00     90089   \n",
       "\n",
       "                               Description  Quantity  UnitPrice  Revenue  \\\n",
       "0       CREAM HANGING HEART T-LIGHT HOLDER         6       2.55    15.30   \n",
       "1       CREAM HANGING HEART T-LIGHT HOLDER         6       2.55    15.30   \n",
       "2       CREAM HANGING HEART T-LIGHT HOLDER         6       2.55    15.30   \n",
       "3       CREAM HANGING HEART T-LIGHT HOLDER        64       2.55   163.20   \n",
       "4       CREAM HANGING HEART T-LIGHT HOLDER        32       2.55    81.60   \n",
       "...                                    ...       ...        ...      ...   \n",
       "396029           LETTER \"W\" BLING KEY RING        12       0.29     3.48   \n",
       "396030           LETTER \"Z\" BLING KEY RING        12       0.29     3.48   \n",
       "396031      PINK CRYSTAL SKULL PHONE CHARM        12       0.19     2.28   \n",
       "396032      PINK CRYSTAL SKULL PHONE CHARM        12       0.19     2.28   \n",
       "396033      PINK CRYSTAL SKULL PHONE CHARM         1       0.19     0.19   \n",
       "\n",
       "        CustomerID         Country  \n",
       "0            17850  United Kingdom  \n",
       "1            17850  United Kingdom  \n",
       "2            17850  United Kingdom  \n",
       "3            17511  United Kingdom  \n",
       "4            13408  United Kingdom  \n",
       "...            ...             ...  \n",
       "396029       13790  United Kingdom  \n",
       "396030       13790  United Kingdom  \n",
       "396031       17914  United Kingdom  \n",
       "396032       17914  United Kingdom  \n",
       "396033       14796  United Kingdom  \n",
       "\n",
       "[396034 rows x 9 columns]"
      ]
     },
     "execution_count": 3,
     "metadata": {},
     "output_type": "execute_result"
    },
    {
     "data": {
      "application/javascript": [
       "\n",
       "            setTimeout(function() {\n",
       "                var nbb_cell_id = 3;\n",
       "                var nbb_unformatted_code = \"data = pd.read_excel(\\n    \\\"https://tf-assets-prod.s3.amazonaws.com/tf-curric/data-science/Data%20Sets%20Time%20Series%20Analysis/Time%20Series%20-%20Day%202/Online%20Retail.xlsx\\\"\\n)\\ndata\";\n",
       "                var nbb_formatted_code = \"data = pd.read_excel(\\n    \\\"https://tf-assets-prod.s3.amazonaws.com/tf-curric/data-science/Data%20Sets%20Time%20Series%20Analysis/Time%20Series%20-%20Day%202/Online%20Retail.xlsx\\\"\\n)\\ndata\";\n",
       "                var nbb_cells = Jupyter.notebook.get_cells();\n",
       "                for (var i = 0; i < nbb_cells.length; ++i) {\n",
       "                    if (nbb_cells[i].input_prompt_number == nbb_cell_id) {\n",
       "                        if (nbb_cells[i].get_text() == nbb_unformatted_code) {\n",
       "                             nbb_cells[i].set_text(nbb_formatted_code);\n",
       "                        }\n",
       "                        break;\n",
       "                    }\n",
       "                }\n",
       "            }, 500);\n",
       "            "
      ],
      "text/plain": [
       "<IPython.core.display.Javascript object>"
      ]
     },
     "metadata": {},
     "output_type": "display_data"
    }
   ],
   "source": [
    "data = pd.read_excel(\n",
    "    \"https://tf-assets-prod.s3.amazonaws.com/tf-curric/data-science/Data%20Sets%20Time%20Series%20Analysis/Time%20Series%20-%20Day%202/Online%20Retail.xlsx\"\n",
    ")\n",
    "data"
   ]
  },
  {
   "cell_type": "code",
   "execution_count": 4,
   "metadata": {},
   "outputs": [
    {
     "name": "stdout",
     "output_type": "stream",
     "text": [
      "<class 'pandas.core.frame.DataFrame'>\n",
      "RangeIndex: 396034 entries, 0 to 396033\n",
      "Data columns (total 9 columns):\n",
      " #   Column       Non-Null Count   Dtype         \n",
      "---  ------       --------------   -----         \n",
      " 0   InvoiceNo    396034 non-null  int64         \n",
      " 1   InvoiceDate  396034 non-null  datetime64[ns]\n",
      " 2   StockCode    396034 non-null  object        \n",
      " 3   Description  396034 non-null  object        \n",
      " 4   Quantity     396034 non-null  int64         \n",
      " 5   UnitPrice    396034 non-null  float64       \n",
      " 6   Revenue      396034 non-null  float64       \n",
      " 7   CustomerID   396034 non-null  int64         \n",
      " 8   Country      396034 non-null  object        \n",
      "dtypes: datetime64[ns](1), float64(2), int64(3), object(3)\n",
      "memory usage: 27.2+ MB\n"
     ]
    },
    {
     "data": {
      "application/javascript": [
       "\n",
       "            setTimeout(function() {\n",
       "                var nbb_cell_id = 4;\n",
       "                var nbb_unformatted_code = \"data.info()\";\n",
       "                var nbb_formatted_code = \"data.info()\";\n",
       "                var nbb_cells = Jupyter.notebook.get_cells();\n",
       "                for (var i = 0; i < nbb_cells.length; ++i) {\n",
       "                    if (nbb_cells[i].input_prompt_number == nbb_cell_id) {\n",
       "                        if (nbb_cells[i].get_text() == nbb_unformatted_code) {\n",
       "                             nbb_cells[i].set_text(nbb_formatted_code);\n",
       "                        }\n",
       "                        break;\n",
       "                    }\n",
       "                }\n",
       "            }, 500);\n",
       "            "
      ],
      "text/plain": [
       "<IPython.core.display.Javascript object>"
      ]
     },
     "metadata": {},
     "output_type": "display_data"
    }
   ],
   "source": [
    "data.info()"
   ]
  },
  {
   "cell_type": "code",
   "execution_count": 5,
   "metadata": {},
   "outputs": [
    {
     "data": {
      "application/javascript": [
       "\n",
       "            setTimeout(function() {\n",
       "                var nbb_cell_id = 5;\n",
       "                var nbb_unformatted_code = \"data[\\\"Date\\\"] = data[\\\"InvoiceDate\\\"].dt.date\";\n",
       "                var nbb_formatted_code = \"data[\\\"Date\\\"] = data[\\\"InvoiceDate\\\"].dt.date\";\n",
       "                var nbb_cells = Jupyter.notebook.get_cells();\n",
       "                for (var i = 0; i < nbb_cells.length; ++i) {\n",
       "                    if (nbb_cells[i].input_prompt_number == nbb_cell_id) {\n",
       "                        if (nbb_cells[i].get_text() == nbb_unformatted_code) {\n",
       "                             nbb_cells[i].set_text(nbb_formatted_code);\n",
       "                        }\n",
       "                        break;\n",
       "                    }\n",
       "                }\n",
       "            }, 500);\n",
       "            "
      ],
      "text/plain": [
       "<IPython.core.display.Javascript object>"
      ]
     },
     "metadata": {},
     "output_type": "display_data"
    }
   ],
   "source": [
    "data[\"Date\"] = data[\"InvoiceDate\"].dt.date"
   ]
  },
  {
   "cell_type": "code",
   "execution_count": 6,
   "metadata": {},
   "outputs": [
    {
     "data": {
      "text/html": [
       "<div>\n",
       "<style scoped>\n",
       "    .dataframe tbody tr th:only-of-type {\n",
       "        vertical-align: middle;\n",
       "    }\n",
       "\n",
       "    .dataframe tbody tr th {\n",
       "        vertical-align: top;\n",
       "    }\n",
       "\n",
       "    .dataframe thead th {\n",
       "        text-align: right;\n",
       "    }\n",
       "</style>\n",
       "<table border=\"1\" class=\"dataframe\">\n",
       "  <thead>\n",
       "    <tr style=\"text-align: right;\">\n",
       "      <th></th>\n",
       "      <th>InvoiceNo</th>\n",
       "      <th>InvoiceDate</th>\n",
       "      <th>StockCode</th>\n",
       "      <th>Description</th>\n",
       "      <th>Quantity</th>\n",
       "      <th>UnitPrice</th>\n",
       "      <th>Revenue</th>\n",
       "      <th>CustomerID</th>\n",
       "      <th>Country</th>\n",
       "      <th>Date</th>\n",
       "    </tr>\n",
       "  </thead>\n",
       "  <tbody>\n",
       "    <tr>\n",
       "      <th>0</th>\n",
       "      <td>536365</td>\n",
       "      <td>2010-12-01 08:26:00</td>\n",
       "      <td>85123A</td>\n",
       "      <td>CREAM HANGING HEART T-LIGHT HOLDER</td>\n",
       "      <td>6</td>\n",
       "      <td>2.55</td>\n",
       "      <td>15.3</td>\n",
       "      <td>17850</td>\n",
       "      <td>United Kingdom</td>\n",
       "      <td>2010-12-01</td>\n",
       "    </tr>\n",
       "    <tr>\n",
       "      <th>1</th>\n",
       "      <td>536373</td>\n",
       "      <td>2010-12-01 09:02:00</td>\n",
       "      <td>85123A</td>\n",
       "      <td>CREAM HANGING HEART T-LIGHT HOLDER</td>\n",
       "      <td>6</td>\n",
       "      <td>2.55</td>\n",
       "      <td>15.3</td>\n",
       "      <td>17850</td>\n",
       "      <td>United Kingdom</td>\n",
       "      <td>2010-12-01</td>\n",
       "    </tr>\n",
       "    <tr>\n",
       "      <th>2</th>\n",
       "      <td>536375</td>\n",
       "      <td>2010-12-01 09:32:00</td>\n",
       "      <td>85123A</td>\n",
       "      <td>CREAM HANGING HEART T-LIGHT HOLDER</td>\n",
       "      <td>6</td>\n",
       "      <td>2.55</td>\n",
       "      <td>15.3</td>\n",
       "      <td>17850</td>\n",
       "      <td>United Kingdom</td>\n",
       "      <td>2010-12-01</td>\n",
       "    </tr>\n",
       "    <tr>\n",
       "      <th>3</th>\n",
       "      <td>536390</td>\n",
       "      <td>2010-12-01 10:19:00</td>\n",
       "      <td>85123A</td>\n",
       "      <td>CREAM HANGING HEART T-LIGHT HOLDER</td>\n",
       "      <td>64</td>\n",
       "      <td>2.55</td>\n",
       "      <td>163.2</td>\n",
       "      <td>17511</td>\n",
       "      <td>United Kingdom</td>\n",
       "      <td>2010-12-01</td>\n",
       "    </tr>\n",
       "    <tr>\n",
       "      <th>4</th>\n",
       "      <td>536394</td>\n",
       "      <td>2010-12-01 10:39:00</td>\n",
       "      <td>85123A</td>\n",
       "      <td>CREAM HANGING HEART T-LIGHT HOLDER</td>\n",
       "      <td>32</td>\n",
       "      <td>2.55</td>\n",
       "      <td>81.6</td>\n",
       "      <td>13408</td>\n",
       "      <td>United Kingdom</td>\n",
       "      <td>2010-12-01</td>\n",
       "    </tr>\n",
       "  </tbody>\n",
       "</table>\n",
       "</div>"
      ],
      "text/plain": [
       "   InvoiceNo         InvoiceDate StockCode  \\\n",
       "0     536365 2010-12-01 08:26:00    85123A   \n",
       "1     536373 2010-12-01 09:02:00    85123A   \n",
       "2     536375 2010-12-01 09:32:00    85123A   \n",
       "3     536390 2010-12-01 10:19:00    85123A   \n",
       "4     536394 2010-12-01 10:39:00    85123A   \n",
       "\n",
       "                          Description  Quantity  UnitPrice  Revenue  \\\n",
       "0  CREAM HANGING HEART T-LIGHT HOLDER         6       2.55     15.3   \n",
       "1  CREAM HANGING HEART T-LIGHT HOLDER         6       2.55     15.3   \n",
       "2  CREAM HANGING HEART T-LIGHT HOLDER         6       2.55     15.3   \n",
       "3  CREAM HANGING HEART T-LIGHT HOLDER        64       2.55    163.2   \n",
       "4  CREAM HANGING HEART T-LIGHT HOLDER        32       2.55     81.6   \n",
       "\n",
       "   CustomerID         Country        Date  \n",
       "0       17850  United Kingdom  2010-12-01  \n",
       "1       17850  United Kingdom  2010-12-01  \n",
       "2       17850  United Kingdom  2010-12-01  \n",
       "3       17511  United Kingdom  2010-12-01  \n",
       "4       13408  United Kingdom  2010-12-01  "
      ]
     },
     "execution_count": 6,
     "metadata": {},
     "output_type": "execute_result"
    },
    {
     "data": {
      "application/javascript": [
       "\n",
       "            setTimeout(function() {\n",
       "                var nbb_cell_id = 6;\n",
       "                var nbb_unformatted_code = \"data.head()\";\n",
       "                var nbb_formatted_code = \"data.head()\";\n",
       "                var nbb_cells = Jupyter.notebook.get_cells();\n",
       "                for (var i = 0; i < nbb_cells.length; ++i) {\n",
       "                    if (nbb_cells[i].input_prompt_number == nbb_cell_id) {\n",
       "                        if (nbb_cells[i].get_text() == nbb_unformatted_code) {\n",
       "                             nbb_cells[i].set_text(nbb_formatted_code);\n",
       "                        }\n",
       "                        break;\n",
       "                    }\n",
       "                }\n",
       "            }, 500);\n",
       "            "
      ],
      "text/plain": [
       "<IPython.core.display.Javascript object>"
      ]
     },
     "metadata": {},
     "output_type": "display_data"
    }
   ],
   "source": [
    "data.head()"
   ]
  },
  {
   "cell_type": "markdown",
   "metadata": {
    "colab_type": "text",
    "id": "dqk9efG-fHFN"
   },
   "source": [
    "### Create an interactive histogram to explore the distributions of daily (by date) Quantity, UnitPrice, and Revenue. Include a dropdown widget where you can switch between the three fields.\n",
    "\n",
    "**Hint:** You will need to create a Date field and then aggregate on it. The Quantity and Revenue fields should be summed and the UnitPrice field should be averaged (mean)."
   ]
  },
  {
   "cell_type": "code",
   "execution_count": 16,
   "metadata": {
    "colab": {},
    "colab_type": "code",
    "id": "THi55esyfHFO"
   },
   "outputs": [
    {
     "data": {
      "text/html": [
       "<div>\n",
       "<style scoped>\n",
       "    .dataframe tbody tr th:only-of-type {\n",
       "        vertical-align: middle;\n",
       "    }\n",
       "\n",
       "    .dataframe tbody tr th {\n",
       "        vertical-align: top;\n",
       "    }\n",
       "\n",
       "    .dataframe thead th {\n",
       "        text-align: right;\n",
       "    }\n",
       "</style>\n",
       "<table border=\"1\" class=\"dataframe\">\n",
       "  <thead>\n",
       "    <tr style=\"text-align: right;\">\n",
       "      <th></th>\n",
       "      <th>Date</th>\n",
       "      <th>Quantity</th>\n",
       "      <th>Revenue</th>\n",
       "      <th>UnitPrice</th>\n",
       "    </tr>\n",
       "  </thead>\n",
       "  <tbody>\n",
       "    <tr>\n",
       "      <th>0</th>\n",
       "      <td>2010-12-01</td>\n",
       "      <td>24207</td>\n",
       "      <td>46219.29</td>\n",
       "      <td>3.109995</td>\n",
       "    </tr>\n",
       "    <tr>\n",
       "      <th>1</th>\n",
       "      <td>2010-12-02</td>\n",
       "      <td>31140</td>\n",
       "      <td>47283.53</td>\n",
       "      <td>3.184610</td>\n",
       "    </tr>\n",
       "    <tr>\n",
       "      <th>2</th>\n",
       "      <td>2010-12-03</td>\n",
       "      <td>11822</td>\n",
       "      <td>23576.01</td>\n",
       "      <td>3.166670</td>\n",
       "    </tr>\n",
       "    <tr>\n",
       "      <th>3</th>\n",
       "      <td>2010-12-05</td>\n",
       "      <td>16370</td>\n",
       "      <td>31315.64</td>\n",
       "      <td>2.840382</td>\n",
       "    </tr>\n",
       "    <tr>\n",
       "      <th>4</th>\n",
       "      <td>2010-12-06</td>\n",
       "      <td>16267</td>\n",
       "      <td>31014.21</td>\n",
       "      <td>2.878689</td>\n",
       "    </tr>\n",
       "    <tr>\n",
       "      <th>...</th>\n",
       "      <td>...</td>\n",
       "      <td>...</td>\n",
       "      <td>...</td>\n",
       "      <td>...</td>\n",
       "    </tr>\n",
       "    <tr>\n",
       "      <th>300</th>\n",
       "      <td>2011-12-05</td>\n",
       "      <td>37609</td>\n",
       "      <td>55920.60</td>\n",
       "      <td>2.581249</td>\n",
       "    </tr>\n",
       "    <tr>\n",
       "      <th>301</th>\n",
       "      <td>2011-12-06</td>\n",
       "      <td>27798</td>\n",
       "      <td>45584.19</td>\n",
       "      <td>2.318553</td>\n",
       "    </tr>\n",
       "    <tr>\n",
       "      <th>302</th>\n",
       "      <td>2011-12-07</td>\n",
       "      <td>41080</td>\n",
       "      <td>68699.21</td>\n",
       "      <td>2.397698</td>\n",
       "    </tr>\n",
       "    <tr>\n",
       "      <th>303</th>\n",
       "      <td>2011-12-08</td>\n",
       "      <td>27536</td>\n",
       "      <td>50214.15</td>\n",
       "      <td>2.572785</td>\n",
       "    </tr>\n",
       "    <tr>\n",
       "      <th>304</th>\n",
       "      <td>2011-12-09</td>\n",
       "      <td>9578</td>\n",
       "      <td>15720.68</td>\n",
       "      <td>2.369345</td>\n",
       "    </tr>\n",
       "  </tbody>\n",
       "</table>\n",
       "<p>305 rows × 4 columns</p>\n",
       "</div>"
      ],
      "text/plain": [
       "           Date  Quantity   Revenue  UnitPrice\n",
       "0    2010-12-01     24207  46219.29   3.109995\n",
       "1    2010-12-02     31140  47283.53   3.184610\n",
       "2    2010-12-03     11822  23576.01   3.166670\n",
       "3    2010-12-05     16370  31315.64   2.840382\n",
       "4    2010-12-06     16267  31014.21   2.878689\n",
       "..          ...       ...       ...        ...\n",
       "300  2011-12-05     37609  55920.60   2.581249\n",
       "301  2011-12-06     27798  45584.19   2.318553\n",
       "302  2011-12-07     41080  68699.21   2.397698\n",
       "303  2011-12-08     27536  50214.15   2.572785\n",
       "304  2011-12-09      9578  15720.68   2.369345\n",
       "\n",
       "[305 rows x 4 columns]"
      ]
     },
     "execution_count": 16,
     "metadata": {},
     "output_type": "execute_result"
    },
    {
     "data": {
      "application/javascript": [
       "\n",
       "            setTimeout(function() {\n",
       "                var nbb_cell_id = 16;\n",
       "                var nbb_unformatted_code = \"date_df = data.groupby([\\\"Date\\\"], as_index=False).agg(\\n    {\\\"Quantity\\\": \\\"sum\\\", \\\"Revenue\\\": \\\"sum\\\", \\\"UnitPrice\\\": \\\"mean\\\"}\\n)\\ndate_df\";\n",
       "                var nbb_formatted_code = \"date_df = data.groupby([\\\"Date\\\"], as_index=False).agg(\\n    {\\\"Quantity\\\": \\\"sum\\\", \\\"Revenue\\\": \\\"sum\\\", \\\"UnitPrice\\\": \\\"mean\\\"}\\n)\\ndate_df\";\n",
       "                var nbb_cells = Jupyter.notebook.get_cells();\n",
       "                for (var i = 0; i < nbb_cells.length; ++i) {\n",
       "                    if (nbb_cells[i].input_prompt_number == nbb_cell_id) {\n",
       "                        if (nbb_cells[i].get_text() == nbb_unformatted_code) {\n",
       "                             nbb_cells[i].set_text(nbb_formatted_code);\n",
       "                        }\n",
       "                        break;\n",
       "                    }\n",
       "                }\n",
       "            }, 500);\n",
       "            "
      ],
      "text/plain": [
       "<IPython.core.display.Javascript object>"
      ]
     },
     "metadata": {},
     "output_type": "display_data"
    }
   ],
   "source": [
    "date_df = data.groupby([\"Date\"], as_index=False).agg(\n",
    "    {\"Quantity\": \"sum\", \"Revenue\": \"sum\", \"UnitPrice\": \"mean\"}\n",
    ")\n",
    "date_df"
   ]
  },
  {
   "cell_type": "code",
   "execution_count": 15,
   "metadata": {},
   "outputs": [
    {
     "data": {
      "application/vnd.jupyter.widget-view+json": {
       "model_id": "37848c55f1484368813994d26cc7086c",
       "version_major": 2,
       "version_minor": 0
      },
      "text/plain": [
       "interactive(children=(Dropdown(description='Unit', options=('Quantity', 'Revenue', 'UnitPrice'), value='Quanti…"
      ]
     },
     "metadata": {},
     "output_type": "display_data"
    },
    {
     "data": {
      "application/javascript": [
       "\n",
       "            setTimeout(function() {\n",
       "                var nbb_cell_id = 15;\n",
       "                var nbb_unformatted_code = \"@interact(Unit=[\\\"Quantity\\\", \\\"Revenue\\\", \\\"UnitPrice\\\"])\\ndef viz(Unit):\\n    fig = px.histogram(date_df, x=\\\"Date\\\", y=Unit)\\n    fig.show()\";\n",
       "                var nbb_formatted_code = \"@interact(Unit=[\\\"Quantity\\\", \\\"Revenue\\\", \\\"UnitPrice\\\"])\\ndef viz(Unit):\\n    fig = px.histogram(date_df, x=\\\"Date\\\", y=Unit)\\n    fig.show()\";\n",
       "                var nbb_cells = Jupyter.notebook.get_cells();\n",
       "                for (var i = 0; i < nbb_cells.length; ++i) {\n",
       "                    if (nbb_cells[i].input_prompt_number == nbb_cell_id) {\n",
       "                        if (nbb_cells[i].get_text() == nbb_unformatted_code) {\n",
       "                             nbb_cells[i].set_text(nbb_formatted_code);\n",
       "                        }\n",
       "                        break;\n",
       "                    }\n",
       "                }\n",
       "            }, 500);\n",
       "            "
      ],
      "text/plain": [
       "<IPython.core.display.Javascript object>"
      ]
     },
     "metadata": {},
     "output_type": "display_data"
    }
   ],
   "source": [
    "@interact(Unit=[\"Quantity\", \"Revenue\", \"UnitPrice\"])\n",
    "def viz(Unit):\n",
    "    fig = px.histogram(date_df, x=\"Date\", y=Unit)\n",
    "    fig.show()"
   ]
  },
  {
   "cell_type": "markdown",
   "metadata": {
    "colab_type": "text",
    "id": "LalZadscfHFR"
   },
   "source": [
    "### Create an interactive line chart where you can explore Quantity and Revenue by day (date) for each country. Include two dropdown widgets - one to choose between the Quantity and Revenue fields and the other to choose the Country."
   ]
  },
  {
   "cell_type": "code",
   "execution_count": 26,
   "metadata": {},
   "outputs": [
    {
     "data": {
      "application/javascript": [
       "\n",
       "            setTimeout(function() {\n",
       "                var nbb_cell_id = 26;\n",
       "                var nbb_unformatted_code = \"agg_df = data.groupby([\\\"Date\\\",\\\"Country\\\"]).agg({\\\"Quantity\\\": \\\"sum\\\", \\\"Revenue\\\": \\\"sum\\\", \\\"UnitPrice\\\": \\\"mean\\\"}).reset_index()\";\n",
       "                var nbb_formatted_code = \"agg_df = (\\n    data.groupby([\\\"Date\\\", \\\"Country\\\"])\\n    .agg({\\\"Quantity\\\": \\\"sum\\\", \\\"Revenue\\\": \\\"sum\\\", \\\"UnitPrice\\\": \\\"mean\\\"})\\n    .reset_index()\\n)\";\n",
       "                var nbb_cells = Jupyter.notebook.get_cells();\n",
       "                for (var i = 0; i < nbb_cells.length; ++i) {\n",
       "                    if (nbb_cells[i].input_prompt_number == nbb_cell_id) {\n",
       "                        if (nbb_cells[i].get_text() == nbb_unformatted_code) {\n",
       "                             nbb_cells[i].set_text(nbb_formatted_code);\n",
       "                        }\n",
       "                        break;\n",
       "                    }\n",
       "                }\n",
       "            }, 500);\n",
       "            "
      ],
      "text/plain": [
       "<IPython.core.display.Javascript object>"
      ]
     },
     "metadata": {},
     "output_type": "display_data"
    }
   ],
   "source": [
    "agg_df = (\n",
    "    data.groupby([\"Date\", \"Country\"])\n",
    "    .agg({\"Quantity\": \"sum\", \"Revenue\": \"sum\", \"UnitPrice\": \"mean\"})\n",
    "    .reset_index()\n",
    ")"
   ]
  },
  {
   "cell_type": "code",
   "execution_count": 21,
   "metadata": {},
   "outputs": [
    {
     "data": {
      "text/plain": [
       "array(['United Kingdom', 'Spain', 'Cyprus', 'EIRE', 'Portugal',\n",
       "       'Netherlands', 'Australia', 'Singapore', 'Switzerland', 'Finland',\n",
       "       'Channel Islands', 'France', 'Malta', 'Italy', 'Israel', 'Germany',\n",
       "       'Austria', 'Norway', 'Denmark', 'Sweden', 'Belgium', 'Canada',\n",
       "       'Poland', 'Japan', 'Iceland', 'Greece', 'Lebanon', 'South Africa',\n",
       "       'Czech Republic', 'USA', 'Brazil', 'United Arab Emirates',\n",
       "       'Lithuania', 'Saudi Arabia', 'Bahrain'], dtype=object)"
      ]
     },
     "execution_count": 21,
     "metadata": {},
     "output_type": "execute_result"
    },
    {
     "data": {
      "application/javascript": [
       "\n",
       "            setTimeout(function() {\n",
       "                var nbb_cell_id = 21;\n",
       "                var nbb_unformatted_code = \"data['Country'].unique()\";\n",
       "                var nbb_formatted_code = \"data[\\\"Country\\\"].unique()\";\n",
       "                var nbb_cells = Jupyter.notebook.get_cells();\n",
       "                for (var i = 0; i < nbb_cells.length; ++i) {\n",
       "                    if (nbb_cells[i].input_prompt_number == nbb_cell_id) {\n",
       "                        if (nbb_cells[i].get_text() == nbb_unformatted_code) {\n",
       "                             nbb_cells[i].set_text(nbb_formatted_code);\n",
       "                        }\n",
       "                        break;\n",
       "                    }\n",
       "                }\n",
       "            }, 500);\n",
       "            "
      ],
      "text/plain": [
       "<IPython.core.display.Javascript object>"
      ]
     },
     "metadata": {},
     "output_type": "display_data"
    }
   ],
   "source": [
    "data[\"Country\"].unique()"
   ]
  },
  {
   "cell_type": "code",
   "execution_count": 25,
   "metadata": {},
   "outputs": [
    {
     "name": "stdout",
     "output_type": "stream",
     "text": [
      "<class 'pandas.core.frame.DataFrame'>\n",
      "RangeIndex: 396034 entries, 0 to 396033\n",
      "Data columns (total 10 columns):\n",
      " #   Column       Non-Null Count   Dtype         \n",
      "---  ------       --------------   -----         \n",
      " 0   InvoiceNo    396034 non-null  int64         \n",
      " 1   InvoiceDate  396034 non-null  datetime64[ns]\n",
      " 2   StockCode    396034 non-null  object        \n",
      " 3   Description  396034 non-null  object        \n",
      " 4   Quantity     396034 non-null  int64         \n",
      " 5   UnitPrice    396034 non-null  float64       \n",
      " 6   Revenue      396034 non-null  float64       \n",
      " 7   CustomerID   396034 non-null  int64         \n",
      " 8   Country      396034 non-null  object        \n",
      " 9   Date         396034 non-null  object        \n",
      "dtypes: datetime64[ns](1), float64(2), int64(3), object(4)\n",
      "memory usage: 30.2+ MB\n"
     ]
    },
    {
     "data": {
      "application/javascript": [
       "\n",
       "            setTimeout(function() {\n",
       "                var nbb_cell_id = 25;\n",
       "                var nbb_unformatted_code = \"data.info()\";\n",
       "                var nbb_formatted_code = \"data.info()\";\n",
       "                var nbb_cells = Jupyter.notebook.get_cells();\n",
       "                for (var i = 0; i < nbb_cells.length; ++i) {\n",
       "                    if (nbb_cells[i].input_prompt_number == nbb_cell_id) {\n",
       "                        if (nbb_cells[i].get_text() == nbb_unformatted_code) {\n",
       "                             nbb_cells[i].set_text(nbb_formatted_code);\n",
       "                        }\n",
       "                        break;\n",
       "                    }\n",
       "                }\n",
       "            }, 500);\n",
       "            "
      ],
      "text/plain": [
       "<IPython.core.display.Javascript object>"
      ]
     },
     "metadata": {},
     "output_type": "display_data"
    }
   ],
   "source": [
    "data.info()"
   ]
  },
  {
   "cell_type": "code",
   "execution_count": 27,
   "metadata": {
    "colab": {},
    "colab_type": "code",
    "id": "6JSMmEhPfHFS"
   },
   "outputs": [
    {
     "data": {
      "application/vnd.jupyter.widget-view+json": {
       "model_id": "312f919eb81549d4b3f048a18814b390",
       "version_major": 2,
       "version_minor": 0
      },
      "text/plain": [
       "interactive(children=(Dropdown(description='Unit', options=('Quantity', 'Revenue', 'UnitPrice'), value='Quanti…"
      ]
     },
     "metadata": {},
     "output_type": "display_data"
    },
    {
     "data": {
      "application/javascript": [
       "\n",
       "            setTimeout(function() {\n",
       "                var nbb_cell_id = 27;\n",
       "                var nbb_unformatted_code = \"@interact(\\n    Unit=[\\\"Quantity\\\", \\\"Revenue\\\", \\\"UnitPrice\\\"], Country=list(data[\\\"Country\\\"].unique())\\n)\\ndef viz(Unit, Country):\\n    print(Unit)\\n    print(Country)\\n    filter_df = agg_df.loc[agg_df[\\\"Country\\\"] == Country]\\n    fig = px.line(filter_df, x=\\\"Date\\\", y=Unit)\\n    fig.show()\";\n",
       "                var nbb_formatted_code = \"@interact(\\n    Unit=[\\\"Quantity\\\", \\\"Revenue\\\", \\\"UnitPrice\\\"], Country=list(data[\\\"Country\\\"].unique())\\n)\\ndef viz(Unit, Country):\\n    print(Unit)\\n    print(Country)\\n    filter_df = agg_df.loc[agg_df[\\\"Country\\\"] == Country]\\n    fig = px.line(filter_df, x=\\\"Date\\\", y=Unit)\\n    fig.show()\";\n",
       "                var nbb_cells = Jupyter.notebook.get_cells();\n",
       "                for (var i = 0; i < nbb_cells.length; ++i) {\n",
       "                    if (nbb_cells[i].input_prompt_number == nbb_cell_id) {\n",
       "                        if (nbb_cells[i].get_text() == nbb_unformatted_code) {\n",
       "                             nbb_cells[i].set_text(nbb_formatted_code);\n",
       "                        }\n",
       "                        break;\n",
       "                    }\n",
       "                }\n",
       "            }, 500);\n",
       "            "
      ],
      "text/plain": [
       "<IPython.core.display.Javascript object>"
      ]
     },
     "metadata": {},
     "output_type": "display_data"
    }
   ],
   "source": [
    "@interact(\n",
    "    Unit=[\"Quantity\", \"Revenue\", \"UnitPrice\"], Country=list(data[\"Country\"].unique())\n",
    ")\n",
    "def viz(Unit, Country):\n",
    "    print(Unit)\n",
    "    print(Country)\n",
    "    filter_df = agg_df.loc[agg_df[\"Country\"] == Country]\n",
    "    fig = px.line(filter_df, x=\"Date\", y=Unit)\n",
    "    fig.show()"
   ]
  },
  {
   "cell_type": "markdown",
   "metadata": {
    "colab_type": "text",
    "id": "2HGyfA4rfHFV"
   },
   "source": [
    "### Create an interactive scatter plot showing the relationships between daily Quantity, UnitPrice, and Revenue for the United Kingdom. Include two dropdown boxes that let you choose between the 3 fields - one for the x axis and one for the y axis of your scatter plot. Size the data points according to Revenue."
   ]
  },
  {
   "cell_type": "code",
   "execution_count": 35,
   "metadata": {
    "colab": {},
    "colab_type": "code",
    "id": "b8vu_sXifHFX"
   },
   "outputs": [
    {
     "data": {
      "application/vnd.jupyter.widget-view+json": {
       "model_id": "2c78b9d0b07a44af955275e3498493f2",
       "version_major": 2,
       "version_minor": 0
      },
      "text/plain": [
       "interactive(children=(Dropdown(description='Unit', options=('Quantity', 'Revenue', 'UnitPrice'), value='Quanti…"
      ]
     },
     "metadata": {},
     "output_type": "display_data"
    },
    {
     "data": {
      "application/javascript": [
       "\n",
       "            setTimeout(function() {\n",
       "                var nbb_cell_id = 35;\n",
       "                var nbb_unformatted_code = \"@interact(\\n    Unit=[\\\"Quantity\\\", \\\"Revenue\\\", \\\"UnitPrice\\\"], Un1t=[\\\"Quantity\\\", \\\"Revenue\\\", \\\"UnitPrice\\\"]\\n)\\ndef viz(Unit, Un1t):\\n    filter_df = agg_df.loc[agg_df[\\\"Country\\\"] == \\\"United Kingdom\\\"]\\n    fig = px.scatter(filter_df, x=Unit, y=Un1t, size=\\\"Revenue\\\")\\n    fig.show()\";\n",
       "                var nbb_formatted_code = \"@interact(\\n    Unit=[\\\"Quantity\\\", \\\"Revenue\\\", \\\"UnitPrice\\\"], Un1t=[\\\"Quantity\\\", \\\"Revenue\\\", \\\"UnitPrice\\\"]\\n)\\ndef viz(Unit, Un1t):\\n    filter_df = agg_df.loc[agg_df[\\\"Country\\\"] == \\\"United Kingdom\\\"]\\n    fig = px.scatter(filter_df, x=Unit, y=Un1t, size=\\\"Revenue\\\")\\n    fig.show()\";\n",
       "                var nbb_cells = Jupyter.notebook.get_cells();\n",
       "                for (var i = 0; i < nbb_cells.length; ++i) {\n",
       "                    if (nbb_cells[i].input_prompt_number == nbb_cell_id) {\n",
       "                        if (nbb_cells[i].get_text() == nbb_unformatted_code) {\n",
       "                             nbb_cells[i].set_text(nbb_formatted_code);\n",
       "                        }\n",
       "                        break;\n",
       "                    }\n",
       "                }\n",
       "            }, 500);\n",
       "            "
      ],
      "text/plain": [
       "<IPython.core.display.Javascript object>"
      ]
     },
     "metadata": {},
     "output_type": "display_data"
    }
   ],
   "source": [
    "@interact(\n",
    "    Unit=[\"Quantity\", \"Revenue\", \"UnitPrice\"], Un1t=[\"Quantity\", \"Revenue\", \"UnitPrice\"]\n",
    ")\n",
    "def viz(Unit, Un1t):\n",
    "    filter_df = agg_df.loc[agg_df[\"Country\"] == \"United Kingdom\"]\n",
    "    fig = px.scatter(filter_df, x=Unit, y=Un1t, size=\"Revenue\")\n",
    "    fig.show()"
   ]
  },
  {
   "cell_type": "markdown",
   "metadata": {
    "colab_type": "text",
    "id": "KYMEsgb7fHFb"
   },
   "source": [
    "### Create a bar chart showing the top X products sold (by quantity) in the United Kingdom in a specific month. Use a dropdown box to select the month name and a slider to show the top X products. The range for X should be from 5 to 25. Make sure the bars are sorted in descending order according to their total quantity sold for the month.\n",
    "\n",
    "Bonus points if you can figure out how to ensure that the month names in the dropdown appear in their correct order (January, February, March, April, etc.)."
   ]
  },
  {
   "cell_type": "code",
   "execution_count": 37,
   "metadata": {},
   "outputs": [
    {
     "data": {
      "application/javascript": [
       "\n",
       "            setTimeout(function() {\n",
       "                var nbb_cell_id = 37;\n",
       "                var nbb_unformatted_code = \"data[\\\"Month\\\"] = data[\\\"InvoiceDate\\\"].dt.month\";\n",
       "                var nbb_formatted_code = \"data[\\\"Month\\\"] = data[\\\"InvoiceDate\\\"].dt.month\";\n",
       "                var nbb_cells = Jupyter.notebook.get_cells();\n",
       "                for (var i = 0; i < nbb_cells.length; ++i) {\n",
       "                    if (nbb_cells[i].input_prompt_number == nbb_cell_id) {\n",
       "                        if (nbb_cells[i].get_text() == nbb_unformatted_code) {\n",
       "                             nbb_cells[i].set_text(nbb_formatted_code);\n",
       "                        }\n",
       "                        break;\n",
       "                    }\n",
       "                }\n",
       "            }, 500);\n",
       "            "
      ],
      "text/plain": [
       "<IPython.core.display.Javascript object>"
      ]
     },
     "metadata": {},
     "output_type": "display_data"
    }
   ],
   "source": [
    "data[\"Month\"] = data[\"InvoiceDate\"].dt.month"
   ]
  },
  {
   "cell_type": "code",
   "execution_count": 40,
   "metadata": {},
   "outputs": [
    {
     "data": {
      "text/html": [
       "<div>\n",
       "<style scoped>\n",
       "    .dataframe tbody tr th:only-of-type {\n",
       "        vertical-align: middle;\n",
       "    }\n",
       "\n",
       "    .dataframe tbody tr th {\n",
       "        vertical-align: top;\n",
       "    }\n",
       "\n",
       "    .dataframe thead th {\n",
       "        text-align: right;\n",
       "    }\n",
       "</style>\n",
       "<table border=\"1\" class=\"dataframe\">\n",
       "  <thead>\n",
       "    <tr style=\"text-align: right;\">\n",
       "      <th></th>\n",
       "      <th>InvoiceNo</th>\n",
       "      <th>InvoiceDate</th>\n",
       "      <th>StockCode</th>\n",
       "      <th>Description</th>\n",
       "      <th>Quantity</th>\n",
       "      <th>UnitPrice</th>\n",
       "      <th>Revenue</th>\n",
       "      <th>CustomerID</th>\n",
       "      <th>Country</th>\n",
       "      <th>Date</th>\n",
       "      <th>Month</th>\n",
       "    </tr>\n",
       "  </thead>\n",
       "  <tbody>\n",
       "    <tr>\n",
       "      <th>0</th>\n",
       "      <td>536365</td>\n",
       "      <td>2010-12-01 08:26:00</td>\n",
       "      <td>85123A</td>\n",
       "      <td>CREAM HANGING HEART T-LIGHT HOLDER</td>\n",
       "      <td>6</td>\n",
       "      <td>2.55</td>\n",
       "      <td>15.30</td>\n",
       "      <td>17850</td>\n",
       "      <td>United Kingdom</td>\n",
       "      <td>2010-12-01</td>\n",
       "      <td>12</td>\n",
       "    </tr>\n",
       "    <tr>\n",
       "      <th>1</th>\n",
       "      <td>536373</td>\n",
       "      <td>2010-12-01 09:02:00</td>\n",
       "      <td>85123A</td>\n",
       "      <td>CREAM HANGING HEART T-LIGHT HOLDER</td>\n",
       "      <td>6</td>\n",
       "      <td>2.55</td>\n",
       "      <td>15.30</td>\n",
       "      <td>17850</td>\n",
       "      <td>United Kingdom</td>\n",
       "      <td>2010-12-01</td>\n",
       "      <td>12</td>\n",
       "    </tr>\n",
       "    <tr>\n",
       "      <th>2</th>\n",
       "      <td>536375</td>\n",
       "      <td>2010-12-01 09:32:00</td>\n",
       "      <td>85123A</td>\n",
       "      <td>CREAM HANGING HEART T-LIGHT HOLDER</td>\n",
       "      <td>6</td>\n",
       "      <td>2.55</td>\n",
       "      <td>15.30</td>\n",
       "      <td>17850</td>\n",
       "      <td>United Kingdom</td>\n",
       "      <td>2010-12-01</td>\n",
       "      <td>12</td>\n",
       "    </tr>\n",
       "    <tr>\n",
       "      <th>3</th>\n",
       "      <td>536390</td>\n",
       "      <td>2010-12-01 10:19:00</td>\n",
       "      <td>85123A</td>\n",
       "      <td>CREAM HANGING HEART T-LIGHT HOLDER</td>\n",
       "      <td>64</td>\n",
       "      <td>2.55</td>\n",
       "      <td>163.20</td>\n",
       "      <td>17511</td>\n",
       "      <td>United Kingdom</td>\n",
       "      <td>2010-12-01</td>\n",
       "      <td>12</td>\n",
       "    </tr>\n",
       "    <tr>\n",
       "      <th>4</th>\n",
       "      <td>536394</td>\n",
       "      <td>2010-12-01 10:39:00</td>\n",
       "      <td>85123A</td>\n",
       "      <td>CREAM HANGING HEART T-LIGHT HOLDER</td>\n",
       "      <td>32</td>\n",
       "      <td>2.55</td>\n",
       "      <td>81.60</td>\n",
       "      <td>13408</td>\n",
       "      <td>United Kingdom</td>\n",
       "      <td>2010-12-01</td>\n",
       "      <td>12</td>\n",
       "    </tr>\n",
       "    <tr>\n",
       "      <th>...</th>\n",
       "      <td>...</td>\n",
       "      <td>...</td>\n",
       "      <td>...</td>\n",
       "      <td>...</td>\n",
       "      <td>...</td>\n",
       "      <td>...</td>\n",
       "      <td>...</td>\n",
       "      <td>...</td>\n",
       "      <td>...</td>\n",
       "      <td>...</td>\n",
       "      <td>...</td>\n",
       "    </tr>\n",
       "    <tr>\n",
       "      <th>396029</th>\n",
       "      <td>580691</td>\n",
       "      <td>2011-12-05 15:48:00</td>\n",
       "      <td>90214W</td>\n",
       "      <td>LETTER \"W\" BLING KEY RING</td>\n",
       "      <td>12</td>\n",
       "      <td>0.29</td>\n",
       "      <td>3.48</td>\n",
       "      <td>13790</td>\n",
       "      <td>United Kingdom</td>\n",
       "      <td>2011-12-05</td>\n",
       "      <td>12</td>\n",
       "    </tr>\n",
       "    <tr>\n",
       "      <th>396030</th>\n",
       "      <td>580691</td>\n",
       "      <td>2011-12-05 15:48:00</td>\n",
       "      <td>90214Z</td>\n",
       "      <td>LETTER \"Z\" BLING KEY RING</td>\n",
       "      <td>12</td>\n",
       "      <td>0.29</td>\n",
       "      <td>3.48</td>\n",
       "      <td>13790</td>\n",
       "      <td>United Kingdom</td>\n",
       "      <td>2011-12-05</td>\n",
       "      <td>12</td>\n",
       "    </tr>\n",
       "    <tr>\n",
       "      <th>396031</th>\n",
       "      <td>580865</td>\n",
       "      <td>2011-12-06 11:58:00</td>\n",
       "      <td>90089</td>\n",
       "      <td>PINK CRYSTAL SKULL PHONE CHARM</td>\n",
       "      <td>12</td>\n",
       "      <td>0.19</td>\n",
       "      <td>2.28</td>\n",
       "      <td>17914</td>\n",
       "      <td>United Kingdom</td>\n",
       "      <td>2011-12-06</td>\n",
       "      <td>12</td>\n",
       "    </tr>\n",
       "    <tr>\n",
       "      <th>396032</th>\n",
       "      <td>580865</td>\n",
       "      <td>2011-12-06 11:58:00</td>\n",
       "      <td>90089</td>\n",
       "      <td>PINK CRYSTAL SKULL PHONE CHARM</td>\n",
       "      <td>12</td>\n",
       "      <td>0.19</td>\n",
       "      <td>2.28</td>\n",
       "      <td>17914</td>\n",
       "      <td>United Kingdom</td>\n",
       "      <td>2011-12-06</td>\n",
       "      <td>12</td>\n",
       "    </tr>\n",
       "    <tr>\n",
       "      <th>396033</th>\n",
       "      <td>581425</td>\n",
       "      <td>2011-12-08 15:31:00</td>\n",
       "      <td>90089</td>\n",
       "      <td>PINK CRYSTAL SKULL PHONE CHARM</td>\n",
       "      <td>1</td>\n",
       "      <td>0.19</td>\n",
       "      <td>0.19</td>\n",
       "      <td>14796</td>\n",
       "      <td>United Kingdom</td>\n",
       "      <td>2011-12-08</td>\n",
       "      <td>12</td>\n",
       "    </tr>\n",
       "  </tbody>\n",
       "</table>\n",
       "<p>353983 rows × 11 columns</p>\n",
       "</div>"
      ],
      "text/plain": [
       "        InvoiceNo         InvoiceDate StockCode  \\\n",
       "0          536365 2010-12-01 08:26:00    85123A   \n",
       "1          536373 2010-12-01 09:02:00    85123A   \n",
       "2          536375 2010-12-01 09:32:00    85123A   \n",
       "3          536390 2010-12-01 10:19:00    85123A   \n",
       "4          536394 2010-12-01 10:39:00    85123A   \n",
       "...           ...                 ...       ...   \n",
       "396029     580691 2011-12-05 15:48:00    90214W   \n",
       "396030     580691 2011-12-05 15:48:00    90214Z   \n",
       "396031     580865 2011-12-06 11:58:00     90089   \n",
       "396032     580865 2011-12-06 11:58:00     90089   \n",
       "396033     581425 2011-12-08 15:31:00     90089   \n",
       "\n",
       "                               Description  Quantity  UnitPrice  Revenue  \\\n",
       "0       CREAM HANGING HEART T-LIGHT HOLDER         6       2.55    15.30   \n",
       "1       CREAM HANGING HEART T-LIGHT HOLDER         6       2.55    15.30   \n",
       "2       CREAM HANGING HEART T-LIGHT HOLDER         6       2.55    15.30   \n",
       "3       CREAM HANGING HEART T-LIGHT HOLDER        64       2.55   163.20   \n",
       "4       CREAM HANGING HEART T-LIGHT HOLDER        32       2.55    81.60   \n",
       "...                                    ...       ...        ...      ...   \n",
       "396029           LETTER \"W\" BLING KEY RING        12       0.29     3.48   \n",
       "396030           LETTER \"Z\" BLING KEY RING        12       0.29     3.48   \n",
       "396031      PINK CRYSTAL SKULL PHONE CHARM        12       0.19     2.28   \n",
       "396032      PINK CRYSTAL SKULL PHONE CHARM        12       0.19     2.28   \n",
       "396033      PINK CRYSTAL SKULL PHONE CHARM         1       0.19     0.19   \n",
       "\n",
       "        CustomerID         Country        Date  Month  \n",
       "0            17850  United Kingdom  2010-12-01     12  \n",
       "1            17850  United Kingdom  2010-12-01     12  \n",
       "2            17850  United Kingdom  2010-12-01     12  \n",
       "3            17511  United Kingdom  2010-12-01     12  \n",
       "4            13408  United Kingdom  2010-12-01     12  \n",
       "...            ...             ...         ...    ...  \n",
       "396029       13790  United Kingdom  2011-12-05     12  \n",
       "396030       13790  United Kingdom  2011-12-05     12  \n",
       "396031       17914  United Kingdom  2011-12-06     12  \n",
       "396032       17914  United Kingdom  2011-12-06     12  \n",
       "396033       14796  United Kingdom  2011-12-08     12  \n",
       "\n",
       "[353983 rows x 11 columns]"
      ]
     },
     "execution_count": 40,
     "metadata": {},
     "output_type": "execute_result"
    },
    {
     "data": {
      "application/javascript": [
       "\n",
       "            setTimeout(function() {\n",
       "                var nbb_cell_id = 40;\n",
       "                var nbb_unformatted_code = \"uk_df= data.loc[data['Country']=='United Kingdom']\\nuk_df\";\n",
       "                var nbb_formatted_code = \"uk_df = data.loc[data[\\\"Country\\\"] == \\\"United Kingdom\\\"]\\nuk_df\";\n",
       "                var nbb_cells = Jupyter.notebook.get_cells();\n",
       "                for (var i = 0; i < nbb_cells.length; ++i) {\n",
       "                    if (nbb_cells[i].input_prompt_number == nbb_cell_id) {\n",
       "                        if (nbb_cells[i].get_text() == nbb_unformatted_code) {\n",
       "                             nbb_cells[i].set_text(nbb_formatted_code);\n",
       "                        }\n",
       "                        break;\n",
       "                    }\n",
       "                }\n",
       "            }, 500);\n",
       "            "
      ],
      "text/plain": [
       "<IPython.core.display.Javascript object>"
      ]
     },
     "metadata": {},
     "output_type": "display_data"
    }
   ],
   "source": [
    "uk_df = data.loc[data[\"Country\"] == \"United Kingdom\"]\n",
    "uk_df"
   ]
  },
  {
   "cell_type": "code",
   "execution_count": 44,
   "metadata": {
    "colab": {},
    "colab_type": "code",
    "id": "0Gi_s3lRfHFc"
   },
   "outputs": [
    {
     "data": {
      "application/vnd.jupyter.widget-view+json": {
       "model_id": "24b8e5910c6a4b6583c1dbcd3e9526b1",
       "version_major": 2,
       "version_minor": 0
      },
      "text/plain": [
       "interactive(children=(IntSlider(value=15, description='Unit', max=26, min=5), Dropdown(description='Month', op…"
      ]
     },
     "metadata": {},
     "output_type": "display_data"
    },
    {
     "data": {
      "application/javascript": [
       "\n",
       "            setTimeout(function() {\n",
       "                var nbb_cell_id = 44;\n",
       "                var nbb_unformatted_code = \"@interact(Unit=(5, 26), Month=list(uk_df[\\\"Month\\\"].unique()))\\ndef viz(Unit, Month):\\n    fig = px.bar(uk_df, x=Month, y=\\\"Quantity\\\")\\n    fig.show()\";\n",
       "                var nbb_formatted_code = \"@interact(Unit=(5, 26), Month=list(uk_df[\\\"Month\\\"].unique()))\\ndef viz(Unit, Month):\\n    fig = px.bar(uk_df, x=Month, y=\\\"Quantity\\\")\\n    fig.show()\";\n",
       "                var nbb_cells = Jupyter.notebook.get_cells();\n",
       "                for (var i = 0; i < nbb_cells.length; ++i) {\n",
       "                    if (nbb_cells[i].input_prompt_number == nbb_cell_id) {\n",
       "                        if (nbb_cells[i].get_text() == nbb_unformatted_code) {\n",
       "                             nbb_cells[i].set_text(nbb_formatted_code);\n",
       "                        }\n",
       "                        break;\n",
       "                    }\n",
       "                }\n",
       "            }, 500);\n",
       "            "
      ],
      "text/plain": [
       "<IPython.core.display.Javascript object>"
      ]
     },
     "metadata": {},
     "output_type": "display_data"
    }
   ],
   "source": [
    "@interact(Unit=(5, 26), Month=list(uk_df[\"Month\"].unique()))\n",
    "def viz(Unit, Month):\n",
    "    fig = px.bar(uk_df, x=Month, y=\"Quantity\")\n",
    "    fig.show()"
   ]
  },
  {
   "cell_type": "code",
   "execution_count": null,
   "metadata": {},
   "outputs": [],
   "source": []
  }
 ],
 "metadata": {
  "colab": {
   "name": "Time Series Day 2 Afternoon Assignment.ipynb",
   "provenance": []
  },
  "kernelspec": {
   "display_name": "Python 3",
   "language": "python",
   "name": "python3"
  },
  "language_info": {
   "codemirror_mode": {
    "name": "ipython",
    "version": 3
   },
   "file_extension": ".py",
   "mimetype": "text/x-python",
   "name": "python",
   "nbconvert_exporter": "python",
   "pygments_lexer": "ipython3",
   "version": "3.7.7"
  }
 },
 "nbformat": 4,
 "nbformat_minor": 1
}
