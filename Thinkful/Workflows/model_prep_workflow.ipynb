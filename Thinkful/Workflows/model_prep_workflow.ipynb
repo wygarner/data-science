{
 "cells": [
  {
   "cell_type": "code",
   "execution_count": 1,
   "metadata": {},
   "outputs": [
    {
     "data": {
      "application/javascript": [
       "\n",
       "            setTimeout(function() {\n",
       "                var nbb_cell_id = 1;\n",
       "                var nbb_unformatted_code = \"%load_ext nb_black\";\n",
       "                var nbb_formatted_code = \"%load_ext nb_black\";\n",
       "                var nbb_cells = Jupyter.notebook.get_cells();\n",
       "                for (var i = 0; i < nbb_cells.length; ++i) {\n",
       "                    if (nbb_cells[i].input_prompt_number == nbb_cell_id) {\n",
       "                        if (nbb_cells[i].get_text() == nbb_unformatted_code) {\n",
       "                             nbb_cells[i].set_text(nbb_formatted_code);\n",
       "                        }\n",
       "                        break;\n",
       "                    }\n",
       "                }\n",
       "            }, 500);\n",
       "            "
      ],
      "text/plain": [
       "<IPython.core.display.Javascript object>"
      ]
     },
     "metadata": {},
     "output_type": "display_data"
    }
   ],
   "source": [
    "%load_ext nb_black"
   ]
  },
  {
   "cell_type": "markdown",
   "metadata": {},
   "source": [
    "# Model Preparation"
   ]
  },
  {
   "cell_type": "markdown",
   "metadata": {},
   "source": [
    "### Data Cleaning"
   ]
  },
  {
   "cell_type": "markdown",
   "metadata": {},
   "source": [
    "* Get to know your data\n",
    "* Missing values\n",
    "    * Options\n",
    "        * Replace missing values with mean or median `df['column'].fillna(df['column'].mean()`\n",
    "        * Interpolation\n",
    "        * Drop rows with missing values\n",
    "        * Drop columns with missing values\n",
    "* Outliers\n",
    "    * Visualize with `plt.boxplot`\n",
    "    * Tukey's method\n",
    "    * Options\n",
    "        * Limit the value of outliers\n",
    "            * Winsorization\n",
    "        * Transfrom outliers\n",
    "            * Log transformation\n",
    "            * Sqrt tranformation\n",
    "        * Drop rows with outliers\n",
    "    "
   ]
  },
  {
   "cell_type": "code",
   "execution_count": null,
   "metadata": {},
   "outputs": [],
   "source": [
    "# Tukey's method to test for outliers\n",
    "for elem in cols:\n",
    "    q75, q25 = np.percentile(winsorized_life_data[elem], [75, 25])\n",
    "    iqr = q75 - q25\n",
    "    min_val = q25 - (iqr * 1.5)\n",
    "    max_val = q75 + (iqr * 1.5)\n",
    "    print(elem)\n",
    "    print(\n",
    "        \"Outliers:\",\n",
    "        len(\n",
    "            (\n",
    "                np.where(\n",
    "                    (winsorized_life_data[elem] > max_val)\n",
    "                    | (winsorized_life_data[elem] < min_val)\n",
    "                )[0]\n",
    "            )\n",
    "        ),\n",
    "        \"\\n\",\n",
    "    )"
   ]
  },
  {
   "cell_type": "markdown",
   "metadata": {},
   "source": [
    "### Data Exploration"
   ]
  },
  {
   "cell_type": "markdown",
   "metadata": {},
   "source": [
    "* Objectives\n",
    "    * Investigate the properties of variables in our dataset.\n",
    "    * Discover associations between the variables.\n",
    "    * Identify useful features that may help us to explain our target variables.\n",
    "    * Test for assumptions in the data.\n",
    "* Methods\n",
    "    * Histograms of each variable\n",
    "    * `sns.pairplot()`\n",
    "    * Heat map \n",
    "        * `sns.heatmap(df.corr(),vmin=-1,vmax=1,annot=True)`\n",
    "    * Variance inflation factor to measure multicolinearity"
   ]
  },
  {
   "cell_type": "code",
   "execution_count": null,
   "metadata": {},
   "outputs": [],
   "source": [
    "# Variance inflation factor\n",
    "def get_vifs(self):\n",
    "    vifs = []\n",
    "    for i in range(self.X_const.shape[1]):\n",
    "        vif = variance_inflation_factor(self.X_const.values, i)\n",
    "        vifs.append(vif)\n",
    "\n",
    "    return pd.Series(vifs, index=self.X_const.columns)"
   ]
  },
  {
   "cell_type": "code",
   "execution_count": null,
   "metadata": {},
   "outputs": [],
   "source": [
    "# Encode and scale\n",
    "def one_hot_encode(X, encode_cols, numeric_cols, index=None):\n",
    "    other_cols = [c for c in X.columns if c not in encode_cols]\n",
    "\n",
    "    ct = ColumnTransformer(\n",
    "        #   Format\n",
    "        #   [(\"name of step\", what_to_do(), [what columns to do it to])]\n",
    "        [\n",
    "            (\"one hot encode\", OneHotEncoder(drop=\"first\", sparse=False), encode_cols),\n",
    "            (\"scaler\", StandardScaler(), numeric_cols),\n",
    "        ],\n",
    "        remainder=\"passthrough\",\n",
    "    )\n",
    "\n",
    "    ct.fit(X)\n",
    "\n",
    "    encoded_names = ct.transformers_[0][1].get_feature_names()\n",
    "    encoded_names = list(encoded_names)\n",
    "\n",
    "    X_encoded = ct.transform(X)\n",
    "    X_encoded = pd.DataFrame(X_encoded, columns=encoded_names + other_cols, index=index)\n",
    "\n",
    "    return X_encoded"
   ]
  },
  {
   "cell_type": "markdown",
   "metadata": {},
   "source": [
    "### Feature Engineering"
   ]
  },
  {
   "cell_type": "markdown",
   "metadata": {},
   "source": [
    "* Normality\n",
    "    * `boxcox(df['column'])`\n",
    "* Scaling\n",
    "    * `scaler= StandardScaler()`\n",
    "    * `scaler.fit_tranform(X)`\n",
    "    * `from sklearn.preprocessing import StandardScaler`\n",
    "* SelectKBest\n",
    "    * `selector = SelectKBest(f_regression, k=5)`\n",
    "    * `k_best = selector.fit_transform(X, y)`\n",
    "    * `from sklearn.feature_selection import SelectKBest, f_regression, mutual_info_regression`\n",
    "* PCA\n",
    "    * `pca = PCA()`\n",
    "    * `pca_X = pca.fit_transform(scaled_X)`\n",
    "    * `from sklearn.decomposition import PCA`"
   ]
  },
  {
   "cell_type": "code",
   "execution_count": null,
   "metadata": {},
   "outputs": [],
   "source": []
  }
 ],
 "metadata": {
  "kernelspec": {
   "display_name": "Python 3",
   "language": "python",
   "name": "python3"
  },
  "language_info": {
   "codemirror_mode": {
    "name": "ipython",
    "version": 3
   },
   "file_extension": ".py",
   "mimetype": "text/x-python",
   "name": "python",
   "nbconvert_exporter": "python",
   "pygments_lexer": "ipython3",
   "version": "3.7.6"
  }
 },
 "nbformat": 4,
 "nbformat_minor": 4
}
