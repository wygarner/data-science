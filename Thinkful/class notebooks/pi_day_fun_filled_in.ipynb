{
 "cells": [
  {
   "cell_type": "markdown",
   "metadata": {},
   "source": [
    "# $\\pi$!!!\n",
    "\n",
    "\n",
    "Some facts:\n",
    "\n",
    "* The area of the circle is $\\pi r^2$\n",
    "  * Therefore, the area of a circle with $r = 0.5$  is $\\frac{\\pi}{4}$\n",
    "* The area of a square is $a^2$\n",
    "  * Therefore, the area of a square with $a = 1$  is.... $1$\n",
    "* If, at the same center point, we draw a circle with $r = 0.5$ and a square with $a = 1$, the circle will fit nicely in the square\n",
    "\n",
    "So what? Well, if we calculate the ratio of the area of the circle to the area of the square we have:\n",
    "$$\\frac{\\frac{\\pi}{4}}{1} = \\frac{\\pi}{4}$$\n",
    "\n",
    "With this knowledge, we can approximate $\\pi$ with the following method: \n",
    "\n",
    "1. Start with 2 variables `n_in_circle` & `n_total`\n",
    "* Randomly drop a point in the square and add 1 to `n_total`\n",
    "  * If the point falls in the circle, add 1 to `n_in_circle`\n",
    "* Repeat previous steps as much as you like (the more points the better the approximation)\n",
    "* Calculate `n_in_circle / n_total`. This should approximate $\\frac{\\pi}{4}$; multiply by 4 to approximate $\\pi$"
   ]
  },
  {
   "cell_type": "code",
   "execution_count": 1,
   "metadata": {},
   "outputs": [
    {
     "data": {
      "application/javascript": [
       "\n",
       "            setTimeout(function() {\n",
       "                var nbb_cell_id = 1;\n",
       "                var nbb_unformatted_code = \"%load_ext nb_black\";\n",
       "                var nbb_formatted_code = \"%load_ext nb_black\";\n",
       "                var nbb_cells = Jupyter.notebook.get_cells();\n",
       "                for (var i = 0; i < nbb_cells.length; ++i) {\n",
       "                    if (nbb_cells[i].input_prompt_number == nbb_cell_id) {\n",
       "                        if (nbb_cells[i].get_text() == nbb_unformatted_code) {\n",
       "                             nbb_cells[i].set_text(nbb_formatted_code);\n",
       "                        }\n",
       "                        break;\n",
       "                    }\n",
       "                }\n",
       "            }, 500);\n",
       "            "
      ],
      "text/plain": [
       "<IPython.core.display.Javascript object>"
      ]
     },
     "metadata": {},
     "output_type": "display_data"
    }
   ],
   "source": [
    "%load_ext nb_black"
   ]
  },
  {
   "cell_type": "markdown",
   "metadata": {},
   "source": [
    "Note, there are 'better'/prettier ways to do/animate this approximation, but I wanted to stick with minimal libraries and only ones we've seen so far."
   ]
  },
  {
   "cell_type": "code",
   "execution_count": 2,
   "metadata": {},
   "outputs": [
    {
     "data": {
      "application/javascript": [
       "\n",
       "            setTimeout(function() {\n",
       "                var nbb_cell_id = 2;\n",
       "                var nbb_unformatted_code = \"import numpy as np\\nimport matplotlib.pyplot as plt\";\n",
       "                var nbb_formatted_code = \"import numpy as np\\nimport matplotlib.pyplot as plt\";\n",
       "                var nbb_cells = Jupyter.notebook.get_cells();\n",
       "                for (var i = 0; i < nbb_cells.length; ++i) {\n",
       "                    if (nbb_cells[i].input_prompt_number == nbb_cell_id) {\n",
       "                        if (nbb_cells[i].get_text() == nbb_unformatted_code) {\n",
       "                             nbb_cells[i].set_text(nbb_formatted_code);\n",
       "                        }\n",
       "                        break;\n",
       "                    }\n",
       "                }\n",
       "            }, 500);\n",
       "            "
      ],
      "text/plain": [
       "<IPython.core.display.Javascript object>"
      ]
     },
     "metadata": {},
     "output_type": "display_data"
    }
   ],
   "source": [
    "import numpy as np\n",
    "import matplotlib.pyplot as plt"
   ]
  },
  {
   "cell_type": "markdown",
   "metadata": {},
   "source": [
    "Let's write some code to come up with points to draw a circle.  We're gonna use some trig and work in radians (since that's what the `numpy` trig functions use).\n",
    "\n",
    "More facts:\n",
    "* In degrees, a circle goes from 0 to 360, and in radians, a circle goes from 0 to 2$\\pi$\n",
    "* Given an angle, $a$, and a radius, $r$, we can calculate the $(x, y)$ coordinates with:\n",
    "\n",
    "$$x = r * cos(a)$$\n",
    "$$y = r * sin(a)$$"
   ]
  },
  {
   "cell_type": "code",
   "execution_count": 3,
   "metadata": {},
   "outputs": [
    {
     "data": {
      "application/javascript": [
       "\n",
       "            setTimeout(function() {\n",
       "                var nbb_cell_id = 3;\n",
       "                var nbb_unformatted_code = \"r = 0.5\\nn_points = 50\\n\\nstart = 0\\nstop = 2 * np.pi\\nstep = stop / n_points\\n\\n# Using a function from `numpy` and the variables `start`, `stop`, and `step`.\\n# Calculate the angles for all the points in our circle.\\n# Hint: Use `stop + step` as the actual stop point in your function call\\n# (This will allow the circle to be 'closed' since the stop point is 'exclusive'\\n# in the function I'm intending for you to use)\\nangles = np.arange(start, stop + step, step)\\n\\ncircle_xs = []\\ncircle_ys = []\\nfor a in angles:\\n    x = r * np.cos(a)\\n    y = r * np.sin(a)\\n\\n    # Add the x and y points to our lists for cicle point xs & ys\\n    circle_xs.append(x)\\n    circle_ys.append(y)\";\n",
       "                var nbb_formatted_code = \"r = 0.5\\nn_points = 50\\n\\nstart = 0\\nstop = 2 * np.pi\\nstep = stop / n_points\\n\\n# Using a function from `numpy` and the variables `start`, `stop`, and `step`.\\n# Calculate the angles for all the points in our circle.\\n# Hint: Use `stop + step` as the actual stop point in your function call\\n# (This will allow the circle to be 'closed' since the stop point is 'exclusive'\\n# in the function I'm intending for you to use)\\nangles = np.arange(start, stop + step, step)\\n\\ncircle_xs = []\\ncircle_ys = []\\nfor a in angles:\\n    x = r * np.cos(a)\\n    y = r * np.sin(a)\\n\\n    # Add the x and y points to our lists for cicle point xs & ys\\n    circle_xs.append(x)\\n    circle_ys.append(y)\";\n",
       "                var nbb_cells = Jupyter.notebook.get_cells();\n",
       "                for (var i = 0; i < nbb_cells.length; ++i) {\n",
       "                    if (nbb_cells[i].input_prompt_number == nbb_cell_id) {\n",
       "                        if (nbb_cells[i].get_text() == nbb_unformatted_code) {\n",
       "                             nbb_cells[i].set_text(nbb_formatted_code);\n",
       "                        }\n",
       "                        break;\n",
       "                    }\n",
       "                }\n",
       "            }, 500);\n",
       "            "
      ],
      "text/plain": [
       "<IPython.core.display.Javascript object>"
      ]
     },
     "metadata": {},
     "output_type": "display_data"
    }
   ],
   "source": [
    "r = 0.5\n",
    "n_points = 50\n",
    "\n",
    "start = 0\n",
    "stop = 2 * np.pi\n",
    "step = stop / n_points\n",
    "\n",
    "# Using a function from `numpy` and the variables `start`, `stop`, and `step`.\n",
    "# Calculate the angles for all the points in our circle.\n",
    "# Hint: Use `stop + step` as the actual stop point in your function call\n",
    "# (This will allow the circle to be 'closed' since the stop point is 'exclusive'\n",
    "# in the function I'm intending for you to use)\n",
    "angles = np.arange(start, stop + step, step)\n",
    "\n",
    "circle_xs = []\n",
    "circle_ys = []\n",
    "for a in angles:\n",
    "    x = r * np.cos(a)\n",
    "    y = r * np.sin(a)\n",
    "\n",
    "    # Add the x and y points to our lists for cicle point xs & ys\n",
    "    circle_xs.append(x)\n",
    "    circle_ys.append(y)"
   ]
  },
  {
   "cell_type": "code",
   "execution_count": 4,
   "metadata": {},
   "outputs": [
    {
     "data": {
      "image/png": "[encoded data removed]",
      "text/plain": [
       "<Figure size 432x288 with 1 Axes>"
      ]
     },
     "metadata": {
      "needs_background": "light"
     },
     "output_type": "display_data"
    },
    {
     "data": {
      "application/javascript": [
       "\n",
       "            setTimeout(function() {\n",
       "                var nbb_cell_id = 4;\n",
       "                var nbb_unformatted_code = \"# Plot the circle using the color orange\\nplt.plot(circle_xs, circle_ys, c=\\\"orange\\\")\\n\\n# Comment/uncomment these `plt.axis` commands to see what they're doing\\nplt.axis(\\\"equal\\\")\\nplt.axis(\\\"off\\\")\\nplt.show()\";\n",
       "                var nbb_formatted_code = \"# Plot the circle using the color orange\\nplt.plot(circle_xs, circle_ys, c=\\\"orange\\\")\\n\\n# Comment/uncomment these `plt.axis` commands to see what they're doing\\nplt.axis(\\\"equal\\\")\\nplt.axis(\\\"off\\\")\\nplt.show()\";\n",
       "                var nbb_cells = Jupyter.notebook.get_cells();\n",
       "                for (var i = 0; i < nbb_cells.length; ++i) {\n",
       "                    if (nbb_cells[i].input_prompt_number == nbb_cell_id) {\n",
       "                        if (nbb_cells[i].get_text() == nbb_unformatted_code) {\n",
       "                             nbb_cells[i].set_text(nbb_formatted_code);\n",
       "                        }\n",
       "                        break;\n",
       "                    }\n",
       "                }\n",
       "            }, 500);\n",
       "            "
      ],
      "text/plain": [
       "<IPython.core.display.Javascript object>"
      ]
     },
     "metadata": {},
     "output_type": "display_data"
    }
   ],
   "source": [
    "# Plot the circle using the color orange\n",
    "plt.plot(circle_xs, circle_ys, c=\"orange\")\n",
    "\n",
    "# Comment/uncomment these `plt.axis` commands to see what they're doing\n",
    "plt.axis(\"equal\")\n",
    "plt.axis(\"off\")\n",
    "plt.show()"
   ]
  },
  {
   "cell_type": "markdown",
   "metadata": {},
   "source": [
    "The square is a little less work.  Let's just hardcode the vertex coordinates and call it a day."
   ]
  },
  {
   "cell_type": "code",
   "execution_count": 5,
   "metadata": {},
   "outputs": [
    {
     "data": {
      "image/png": "[encoded data removed]",
      "text/plain": [
       "<Figure size 432x288 with 1 Axes>"
      ]
     },
     "metadata": {
      "needs_background": "light"
     },
     "output_type": "display_data"
    },
    {
     "data": {
      "application/javascript": [
       "\n",
       "            setTimeout(function() {\n",
       "                var nbb_cell_id = 5;\n",
       "                var nbb_unformatted_code = \"square_xs = [-0.5, -0.5, 0.5, 0.5, -0.5]\\nsquare_ys = [-0.5, 0.5, 0.5, -0.5, -0.5]\\n\\n# Plot the square using the color black\\nplt.plot(square_xs, square_ys, c=\\\"black\\\")\\nplt.axis(\\\"equal\\\")\\nplt.axis(\\\"off\\\")\\nplt.show()\";\n",
       "                var nbb_formatted_code = \"square_xs = [-0.5, -0.5, 0.5, 0.5, -0.5]\\nsquare_ys = [-0.5, 0.5, 0.5, -0.5, -0.5]\\n\\n# Plot the square using the color black\\nplt.plot(square_xs, square_ys, c=\\\"black\\\")\\nplt.axis(\\\"equal\\\")\\nplt.axis(\\\"off\\\")\\nplt.show()\";\n",
       "                var nbb_cells = Jupyter.notebook.get_cells();\n",
       "                for (var i = 0; i < nbb_cells.length; ++i) {\n",
       "                    if (nbb_cells[i].input_prompt_number == nbb_cell_id) {\n",
       "                        if (nbb_cells[i].get_text() == nbb_unformatted_code) {\n",
       "                             nbb_cells[i].set_text(nbb_formatted_code);\n",
       "                        }\n",
       "                        break;\n",
       "                    }\n",
       "                }\n",
       "            }, 500);\n",
       "            "
      ],
      "text/plain": [
       "<IPython.core.display.Javascript object>"
      ]
     },
     "metadata": {},
     "output_type": "display_data"
    }
   ],
   "source": [
    "square_xs = [-0.5, -0.5, 0.5, 0.5, -0.5]\n",
    "square_ys = [-0.5, 0.5, 0.5, -0.5, -0.5]\n",
    "\n",
    "# Plot the square using the color black\n",
    "plt.plot(square_xs, square_ys, c=\"black\")\n",
    "plt.axis(\"equal\")\n",
    "plt.axis(\"off\")\n",
    "plt.show()"
   ]
  },
  {
   "cell_type": "markdown",
   "metadata": {},
   "source": [
    "All together now!"
   ]
  },
  {
   "cell_type": "code",
   "execution_count": 6,
   "metadata": {},
   "outputs": [
    {
     "data": {
      "image/png": "[encoded data removed]",
      "text/plain": [
       "<Figure size 432x288 with 1 Axes>"
      ]
     },
     "metadata": {
      "needs_background": "light"
     },
     "output_type": "display_data"
    },
    {
     "data": {
      "application/javascript": [
       "\n",
       "            setTimeout(function() {\n",
       "                var nbb_cell_id = 6;\n",
       "                var nbb_unformatted_code = \"# Plot the circle using the color orange\\nplt.plot(circle_xs, circle_ys, c=\\\"orange\\\")\\n\\n# Plot the square using the color black\\nplt.plot(square_xs, square_ys, c=\\\"black\\\")\\n\\nplt.axis(\\\"equal\\\")\\nplt.axis(\\\"off\\\")\\nplt.show()\";\n",
       "                var nbb_formatted_code = \"# Plot the circle using the color orange\\nplt.plot(circle_xs, circle_ys, c=\\\"orange\\\")\\n\\n# Plot the square using the color black\\nplt.plot(square_xs, square_ys, c=\\\"black\\\")\\n\\nplt.axis(\\\"equal\\\")\\nplt.axis(\\\"off\\\")\\nplt.show()\";\n",
       "                var nbb_cells = Jupyter.notebook.get_cells();\n",
       "                for (var i = 0; i < nbb_cells.length; ++i) {\n",
       "                    if (nbb_cells[i].input_prompt_number == nbb_cell_id) {\n",
       "                        if (nbb_cells[i].get_text() == nbb_unformatted_code) {\n",
       "                             nbb_cells[i].set_text(nbb_formatted_code);\n",
       "                        }\n",
       "                        break;\n",
       "                    }\n",
       "                }\n",
       "            }, 500);\n",
       "            "
      ],
      "text/plain": [
       "<IPython.core.display.Javascript object>"
      ]
     },
     "metadata": {},
     "output_type": "display_data"
    }
   ],
   "source": [
    "# Plot the circle using the color orange\n",
    "plt.plot(circle_xs, circle_ys, c=\"orange\")\n",
    "\n",
    "# Plot the square using the color black\n",
    "plt.plot(square_xs, square_ys, c=\"black\")\n",
    "\n",
    "plt.axis(\"equal\")\n",
    "plt.axis(\"off\")\n",
    "plt.show()"
   ]
  },
  {
   "cell_type": "markdown",
   "metadata": {},
   "source": [
    "Ok, now we also need a way to check if a point is in or outside of the circle.  We could do this by checking if the point is further than $r$, 0.5, away from the center point, $(0, 0)$.  We can write a quick function to give us the 'euclidean distance' between to points, $(x_1, y_1)$ & $(x_2, y_2)$.  The formula for this distance metric is:\n",
    "\n",
    "$$d = \\sqrt{(x_1 - x_2)^2 + (y_1 - y_2)^2}$$"
   ]
  },
  {
   "cell_type": "code",
   "execution_count": 7,
   "metadata": {},
   "outputs": [
    {
     "data": {
      "application/javascript": [
       "\n",
       "            setTimeout(function() {\n",
       "                var nbb_cell_id = 7;\n",
       "                var nbb_unformatted_code = \"def dist(p1, p2):\\n    x1, y1 = p1\\n    x2, y2 = p2\\n\\n    # Code out the distance calculation shown above\\n    d = np.sqrt((x1 - x2) ** 2 + (y1 - y2) ** 2)\\n\\n    return d\";\n",
       "                var nbb_formatted_code = \"def dist(p1, p2):\\n    x1, y1 = p1\\n    x2, y2 = p2\\n\\n    # Code out the distance calculation shown above\\n    d = np.sqrt((x1 - x2) ** 2 + (y1 - y2) ** 2)\\n\\n    return d\";\n",
       "                var nbb_cells = Jupyter.notebook.get_cells();\n",
       "                for (var i = 0; i < nbb_cells.length; ++i) {\n",
       "                    if (nbb_cells[i].input_prompt_number == nbb_cell_id) {\n",
       "                        if (nbb_cells[i].get_text() == nbb_unformatted_code) {\n",
       "                             nbb_cells[i].set_text(nbb_formatted_code);\n",
       "                        }\n",
       "                        break;\n",
       "                    }\n",
       "                }\n",
       "            }, 500);\n",
       "            "
      ],
      "text/plain": [
       "<IPython.core.display.Javascript object>"
      ]
     },
     "metadata": {},
     "output_type": "display_data"
    }
   ],
   "source": [
    "def dist(p1, p2):\n",
    "    x1, y1 = p1\n",
    "    x2, y2 = p2\n",
    "\n",
    "    # Code out the distance calculation shown above\n",
    "    d = np.sqrt((x1 - x2) ** 2 + (y1 - y2) ** 2)\n",
    "\n",
    "    return d"
   ]
  },
  {
   "cell_type": "markdown",
   "metadata": {},
   "source": [
    "Home stretch!  We're now all set up to generate points, approximate pi, and visualize it."
   ]
  },
  {
   "cell_type": "code",
   "execution_count": 8,
   "metadata": {},
   "outputs": [
    {
     "data": {
      "application/javascript": [
       "\n",
       "            setTimeout(function() {\n",
       "                var nbb_cell_id = 8;\n",
       "                var nbb_unformatted_code = \"n_total = 0\\nn_in_circle = 0\";\n",
       "                var nbb_formatted_code = \"n_total = 0\\nn_in_circle = 0\";\n",
       "                var nbb_cells = Jupyter.notebook.get_cells();\n",
       "                for (var i = 0; i < nbb_cells.length; ++i) {\n",
       "                    if (nbb_cells[i].input_prompt_number == nbb_cell_id) {\n",
       "                        if (nbb_cells[i].get_text() == nbb_unformatted_code) {\n",
       "                             nbb_cells[i].set_text(nbb_formatted_code);\n",
       "                        }\n",
       "                        break;\n",
       "                    }\n",
       "                }\n",
       "            }, 500);\n",
       "            "
      ],
      "text/plain": [
       "<IPython.core.display.Javascript object>"
      ]
     },
     "metadata": {},
     "output_type": "display_data"
    }
   ],
   "source": [
    "n_total = 0\n",
    "n_in_circle = 0"
   ]
  },
  {
   "cell_type": "markdown",
   "metadata": {},
   "source": [
    "We can now manually run the below code repeatedly and see our approximation of pi and where the point fell on the plot"
   ]
  },
  {
   "cell_type": "code",
   "execution_count": 9,
   "metadata": {},
   "outputs": [
    {
     "name": "stdout",
     "output_type": "stream",
     "text": [
      "Approximation of pi: 4.00000\n"
     ]
    },
    {
     "data": {
      "image/png": "[encoded data removed]",
      "text/plain": [
       "<Figure size 432x288 with 1 Axes>"
      ]
     },
     "metadata": {
      "needs_background": "light"
     },
     "output_type": "display_data"
    },
    {
     "data": {
      "application/javascript": [
       "\n",
       "            setTimeout(function() {\n",
       "                var nbb_cell_id = 9;\n",
       "                var nbb_unformatted_code = \"x, y = np.random.uniform(-0.5, 0.5, 2)\\n\\nn_total += 1\\nc = \\\"black\\\"\\n\\n# Check if the point falls within the circle\\nif dist((0, 0), (x, y)) <= 0.5:\\n    n_in_circle += 1\\n    c = \\\"red\\\"\\n\\n\\nmy_pi = 4 * n_in_circle / n_total\\nprint(f\\\"Approximation of pi: {my_pi:.5f}\\\")\\n\\nplt.plot(circle_xs, circle_ys, c=\\\"orange\\\")\\nplt.plot(square_xs, square_ys, c=\\\"black\\\")\\nplt.scatter(x, y, c=c)\\nplt.axis(\\\"equal\\\")\\nplt.axis(\\\"off\\\")\\nplt.show()\";\n",
       "                var nbb_formatted_code = \"x, y = np.random.uniform(-0.5, 0.5, 2)\\n\\nn_total += 1\\nc = \\\"black\\\"\\n\\n# Check if the point falls within the circle\\nif dist((0, 0), (x, y)) <= 0.5:\\n    n_in_circle += 1\\n    c = \\\"red\\\"\\n\\n\\nmy_pi = 4 * n_in_circle / n_total\\nprint(f\\\"Approximation of pi: {my_pi:.5f}\\\")\\n\\nplt.plot(circle_xs, circle_ys, c=\\\"orange\\\")\\nplt.plot(square_xs, square_ys, c=\\\"black\\\")\\nplt.scatter(x, y, c=c)\\nplt.axis(\\\"equal\\\")\\nplt.axis(\\\"off\\\")\\nplt.show()\";\n",
       "                var nbb_cells = Jupyter.notebook.get_cells();\n",
       "                for (var i = 0; i < nbb_cells.length; ++i) {\n",
       "                    if (nbb_cells[i].input_prompt_number == nbb_cell_id) {\n",
       "                        if (nbb_cells[i].get_text() == nbb_unformatted_code) {\n",
       "                             nbb_cells[i].set_text(nbb_formatted_code);\n",
       "                        }\n",
       "                        break;\n",
       "                    }\n",
       "                }\n",
       "            }, 500);\n",
       "            "
      ],
      "text/plain": [
       "<IPython.core.display.Javascript object>"
      ]
     },
     "metadata": {},
     "output_type": "display_data"
    }
   ],
   "source": [
    "x, y = np.random.uniform(-0.5, 0.5, 2)\n",
    "\n",
    "n_total += 1\n",
    "c = \"black\"\n",
    "\n",
    "# Check if the point falls within the circle\n",
    "if dist((0, 0), (x, y)) <= 0.5:\n",
    "    n_in_circle += 1\n",
    "    c = \"red\"\n",
    "\n",
    "\n",
    "my_pi = 4 * n_in_circle / n_total\n",
    "print(f\"Approximation of pi: {my_pi:.5f}\")\n",
    "\n",
    "plt.plot(circle_xs, circle_ys, c=\"orange\")\n",
    "plt.plot(square_xs, square_ys, c=\"black\")\n",
    "plt.scatter(x, y, c=c)\n",
    "plt.axis(\"equal\")\n",
    "plt.axis(\"off\")\n",
    "plt.show()"
   ]
  },
  {
   "cell_type": "markdown",
   "metadata": {},
   "source": [
    "Let's introduce a loop to do the above process for us."
   ]
  },
  {
   "cell_type": "code",
   "execution_count": 10,
   "metadata": {},
   "outputs": [
    {
     "name": "stdout",
     "output_type": "stream",
     "text": [
      "Approximation of pi: 3.14488\n"
     ]
    },
    {
     "data": {
      "image/png": "[encoded data removed]",
      "text/plain": [
       "<Figure size 432x288 with 1 Axes>"
      ]
     },
     "metadata": {
      "needs_background": "light"
     },
     "output_type": "display_data"
    },
    {
     "data": {
      "application/javascript": [
       "\n",
       "            setTimeout(function() {\n",
       "                var nbb_cell_id = 10;\n",
       "                var nbb_unformatted_code = \"n_iterations = 50000\\n\\nn_total = 0\\nn_in_circle = 0\\n\\nxs = []\\nys = []\\ncs = []\\nfor i in range(n_iterations):\\n    x, y = np.random.uniform(-0.5, 0.5, 2)\\n\\n    n_total += 1\\n    c = \\\"black\\\"\\n\\n    # Check if the point falls within the circle\\n    if dist((0, 0), (x, y)) <= 0.5:\\n        n_in_circle += 1\\n        c = \\\"red\\\"\\n\\n    # Store the x, y, and c for this point\\n    xs.append(x)\\n    ys.append(y)\\n    cs.append(c)\\n\\n\\nmy_pi = 4 * n_in_circle / n_total\\nprint(f\\\"Approximation of pi: {my_pi:.5f}\\\")\\n\\nplt.plot(circle_xs, circle_ys, c=\\\"orange\\\")\\nplt.plot(square_xs, square_ys, c=\\\"black\\\")\\nplt.scatter(xs, ys, c=cs)\\nplt.axis(\\\"equal\\\")\\nplt.axis(\\\"off\\\")\\nplt.show()\";\n",
       "                var nbb_formatted_code = \"n_iterations = 50000\\n\\nn_total = 0\\nn_in_circle = 0\\n\\nxs = []\\nys = []\\ncs = []\\nfor i in range(n_iterations):\\n    x, y = np.random.uniform(-0.5, 0.5, 2)\\n\\n    n_total += 1\\n    c = \\\"black\\\"\\n\\n    # Check if the point falls within the circle\\n    if dist((0, 0), (x, y)) <= 0.5:\\n        n_in_circle += 1\\n        c = \\\"red\\\"\\n\\n    # Store the x, y, and c for this point\\n    xs.append(x)\\n    ys.append(y)\\n    cs.append(c)\\n\\n\\nmy_pi = 4 * n_in_circle / n_total\\nprint(f\\\"Approximation of pi: {my_pi:.5f}\\\")\\n\\nplt.plot(circle_xs, circle_ys, c=\\\"orange\\\")\\nplt.plot(square_xs, square_ys, c=\\\"black\\\")\\nplt.scatter(xs, ys, c=cs)\\nplt.axis(\\\"equal\\\")\\nplt.axis(\\\"off\\\")\\nplt.show()\";\n",
       "                var nbb_cells = Jupyter.notebook.get_cells();\n",
       "                for (var i = 0; i < nbb_cells.length; ++i) {\n",
       "                    if (nbb_cells[i].input_prompt_number == nbb_cell_id) {\n",
       "                        if (nbb_cells[i].get_text() == nbb_unformatted_code) {\n",
       "                             nbb_cells[i].set_text(nbb_formatted_code);\n",
       "                        }\n",
       "                        break;\n",
       "                    }\n",
       "                }\n",
       "            }, 500);\n",
       "            "
      ],
      "text/plain": [
       "<IPython.core.display.Javascript object>"
      ]
     },
     "metadata": {},
     "output_type": "display_data"
    }
   ],
   "source": [
    "n_iterations = 50000\n",
    "\n",
    "n_total = 0\n",
    "n_in_circle = 0\n",
    "\n",
    "xs = []\n",
    "ys = []\n",
    "cs = []\n",
    "for i in range(n_iterations):\n",
    "    x, y = np.random.uniform(-0.5, 0.5, 2)\n",
    "\n",
    "    n_total += 1\n",
    "    c = \"black\"\n",
    "\n",
    "    # Check if the point falls within the circle\n",
    "    if dist((0, 0), (x, y)) <= 0.5:\n",
    "        n_in_circle += 1\n",
    "        c = \"red\"\n",
    "\n",
    "    # Store the x, y, and c for this point\n",
    "    xs.append(x)\n",
    "    ys.append(y)\n",
    "    cs.append(c)\n",
    "\n",
    "\n",
    "my_pi = 4 * n_in_circle / n_total\n",
    "print(f\"Approximation of pi: {my_pi:.5f}\")\n",
    "\n",
    "plt.plot(circle_xs, circle_ys, c=\"orange\")\n",
    "plt.plot(square_xs, square_ys, c=\"black\")\n",
    "plt.scatter(xs, ys, c=cs)\n",
    "plt.axis(\"equal\")\n",
    "plt.axis(\"off\")\n",
    "plt.show()"
   ]
  },
  {
   "cell_type": "markdown",
   "metadata": {},
   "source": [
    "Last bit... instead of only showing everything after the loop is down.  Let's see some updates while its running.\n",
    "\n",
    "To clean up the code, let's wrap the display code in a function (we're gonna be lazy and not use any arguments, but just ask for variables from the global environment)."
   ]
  },
  {
   "cell_type": "code",
   "execution_count": 11,
   "metadata": {},
   "outputs": [
    {
     "data": {
      "application/javascript": [
       "\n",
       "            setTimeout(function() {\n",
       "                var nbb_cell_id = 11;\n",
       "                var nbb_unformatted_code = \"# This is prolly not best practice, but it's easy\\ndef show_approximation():\\n    plt.plot(circle_xs, circle_ys, c=\\\"orange\\\")\\n    plt.plot(square_xs, square_ys, c=\\\"black\\\")\\n    plt.scatter(xs, ys, c=cs)\\n    plt.axis(\\\"equal\\\")\\n    plt.axis(\\\"off\\\")\\n    plt.show()\\n\\n    # Per Emily's suggestion, we will also include a plot\\n    # to show our approximation is changing over time\\n    if len(pis) > 1:\\n        plt.plot(pis, label=\\\"our approx\\\")\\n        plt.axhline(np.pi, c=\\\"black\\\", label=\\\"true pi\\\")\\n        plt.xlabel(\\\"Iteration\\\")\\n        plt.ylabel(\\\"Approximated Value of pi\\\")\\n        plt.legend()\\n        plt.show()\";\n",
       "                var nbb_formatted_code = \"# This is prolly not best practice, but it's easy\\ndef show_approximation():\\n    plt.plot(circle_xs, circle_ys, c=\\\"orange\\\")\\n    plt.plot(square_xs, square_ys, c=\\\"black\\\")\\n    plt.scatter(xs, ys, c=cs)\\n    plt.axis(\\\"equal\\\")\\n    plt.axis(\\\"off\\\")\\n    plt.show()\\n\\n    # Per Emily's suggestion, we will also include a plot\\n    # to show our approximation is changing over time\\n    if len(pis) > 1:\\n        plt.plot(pis, label=\\\"our approx\\\")\\n        plt.axhline(np.pi, c=\\\"black\\\", label=\\\"true pi\\\")\\n        plt.xlabel(\\\"Iteration\\\")\\n        plt.ylabel(\\\"Approximated Value of pi\\\")\\n        plt.legend()\\n        plt.show()\";\n",
       "                var nbb_cells = Jupyter.notebook.get_cells();\n",
       "                for (var i = 0; i < nbb_cells.length; ++i) {\n",
       "                    if (nbb_cells[i].input_prompt_number == nbb_cell_id) {\n",
       "                        if (nbb_cells[i].get_text() == nbb_unformatted_code) {\n",
       "                             nbb_cells[i].set_text(nbb_formatted_code);\n",
       "                        }\n",
       "                        break;\n",
       "                    }\n",
       "                }\n",
       "            }, 500);\n",
       "            "
      ],
      "text/plain": [
       "<IPython.core.display.Javascript object>"
      ]
     },
     "metadata": {},
     "output_type": "display_data"
    }
   ],
   "source": [
    "# This is prolly not best practice, but it's easy\n",
    "def show_approximation():\n",
    "    plt.plot(circle_xs, circle_ys, c=\"orange\")\n",
    "    plt.plot(square_xs, square_ys, c=\"black\")\n",
    "    plt.scatter(xs, ys, c=cs)\n",
    "    plt.axis(\"equal\")\n",
    "    plt.axis(\"off\")\n",
    "    plt.show()\n",
    "\n",
    "    # Per Emily's suggestion, we will also include a plot\n",
    "    # to show our approximation is changing over time\n",
    "    if len(pis) > 1:\n",
    "        plt.plot(pis, label=\"our approx\")\n",
    "        plt.axhline(np.pi, c=\"black\", label=\"true pi\")\n",
    "        plt.xlabel(\"Iteration\")\n",
    "        plt.ylabel(\"Approximated Value of pi\")\n",
    "        plt.legend()\n",
    "        plt.show()"
   ]
  },
  {
   "cell_type": "markdown",
   "metadata": {},
   "source": [
    "Now we need a way to print every `n` iterations.  We can do a 'modulo operation'.  This is done with `%` and will give us the remainder of dividing two given numbers.  For example: \n",
    "\n",
    "* `4 % 2 = 0` because there is no remainder when performing `4 / 2`\n",
    "* `5 % 2 = 1` because there is a remainder of 1 when performing `5 / 2`\n",
    "\n",
    "To use this in our loop to print every `n` we can check the remainder of `i % print_every_n`.  When there is no remainder we will display our simulation output."
   ]
  },
  {
   "cell_type": "code",
   "execution_count": 12,
   "metadata": {},
   "outputs": [
    {
     "name": "stdout",
     "output_type": "stream",
     "text": [
      "After 4001 iterations:\n",
      "Approximation of pi: 3.12122\n"
     ]
    },
    {
     "data": {
      "image/png": "[encoded data removed]",
      "text/plain": [
       "<Figure size 432x288 with 1 Axes>"
      ]
     },
     "metadata": {
      "needs_background": "light"
     },
     "output_type": "display_data"
    },
    {
     "data": {
      "image/png": "[encoded data removed]",
      "text/plain": [
       "<Figure size 432x288 with 1 Axes>"
      ]
     },
     "metadata": {
      "needs_background": "light"
     },
     "output_type": "display_data"
    },
    {
     "name": "stdout",
     "output_type": "stream",
     "text": [
      "After 8001 iterations:\n",
      "Approximation of pi: 3.14311\n"
     ]
    },
    {
     "data": {
      "image/png": "[encoded data removed]",
      "text/plain": [
       "<Figure size 432x288 with 1 Axes>"
      ]
     },
     "metadata": {
      "needs_background": "light"
     },
     "output_type": "display_data"
    },
    {
     "data": {
      "image/png": "[encoded data removed]",
      "text/plain": [
       "<Figure size 432x288 with 1 Axes>"
      ]
     },
     "metadata": {
      "needs_background": "light"
     },
     "output_type": "display_data"
    },
    {
     "name": "stdout",
     "output_type": "stream",
     "text": [
      "Final\n",
      "----------------------------\n",
      "After 10000 iterations:\n",
      "Approximation of pi: 3.13840\n"
     ]
    },
    {
     "data": {
      "image/png": "[encoded data removed]",
      "text/plain": [
       "<Figure size 432x288 with 1 Axes>"
      ]
     },
     "metadata": {
      "needs_background": "light"
     },
     "output_type": "display_data"
    },
    {
     "data": {
      "image/png": "[encoded data removed]",
      "text/plain": [
       "<Figure size 432x288 with 1 Axes>"
      ]
     },
     "metadata": {
      "needs_background": "light"
     },
     "output_type": "display_data"
    },
    {
     "data": {
      "application/javascript": [
       "\n",
       "            setTimeout(function() {\n",
       "                var nbb_cell_id = 12;\n",
       "                var nbb_unformatted_code = \"n_iterations = 10000\\nprint_every_n = 4000\\n\\nn_total = 0\\nn_in_circle = 0\\n\\nxs = []\\nys = []\\ncs = []\\npis = []\\nfor i in range(n_iterations):\\n    x, y = np.random.uniform(-0.5, 0.5, 2)\\n\\n    n_total += 1\\n    c = \\\"black\\\"\\n\\n    # Check if the point falls within the circle\\n    if dist((0, 0), (x, y)) <= 0.5:\\n        n_in_circle += 1\\n        c = \\\"red\\\"\\n\\n    # Store the x, y, and c for this point\\n    xs.append(x)\\n    ys.append(y)\\n    cs.append(c)\\n\\n    curr_approx_pi = 4 * n_in_circle / n_total\\n    pis.append(curr_approx_pi)\\n\\n    # Check if we should display on this iteration.\\n    # If yes, display the approximation/plot using the function defined above\\n    if i % print_every_n == 0 and i > 0:\\n        print(f\\\"After {i + 1} iterations:\\\")\\n        print(f\\\"Approximation of pi: {curr_approx_pi:.5f}\\\")\\n\\n        show_approximation()\\n\\n\\nprint(\\\"Final\\\\n----------------------------\\\")\\nprint(f\\\"After {i + 1} iterations:\\\")\\nprint(f\\\"Approximation of pi: {curr_approx_pi:.5f}\\\")\\nshow_approximation()\";\n",
       "                var nbb_formatted_code = \"n_iterations = 10000\\nprint_every_n = 4000\\n\\nn_total = 0\\nn_in_circle = 0\\n\\nxs = []\\nys = []\\ncs = []\\npis = []\\nfor i in range(n_iterations):\\n    x, y = np.random.uniform(-0.5, 0.5, 2)\\n\\n    n_total += 1\\n    c = \\\"black\\\"\\n\\n    # Check if the point falls within the circle\\n    if dist((0, 0), (x, y)) <= 0.5:\\n        n_in_circle += 1\\n        c = \\\"red\\\"\\n\\n    # Store the x, y, and c for this point\\n    xs.append(x)\\n    ys.append(y)\\n    cs.append(c)\\n\\n    curr_approx_pi = 4 * n_in_circle / n_total\\n    pis.append(curr_approx_pi)\\n\\n    # Check if we should display on this iteration.\\n    # If yes, display the approximation/plot using the function defined above\\n    if i % print_every_n == 0 and i > 0:\\n        print(f\\\"After {i + 1} iterations:\\\")\\n        print(f\\\"Approximation of pi: {curr_approx_pi:.5f}\\\")\\n\\n        show_approximation()\\n\\n\\nprint(\\\"Final\\\\n----------------------------\\\")\\nprint(f\\\"After {i + 1} iterations:\\\")\\nprint(f\\\"Approximation of pi: {curr_approx_pi:.5f}\\\")\\nshow_approximation()\";\n",
       "                var nbb_cells = Jupyter.notebook.get_cells();\n",
       "                for (var i = 0; i < nbb_cells.length; ++i) {\n",
       "                    if (nbb_cells[i].input_prompt_number == nbb_cell_id) {\n",
       "                        if (nbb_cells[i].get_text() == nbb_unformatted_code) {\n",
       "                             nbb_cells[i].set_text(nbb_formatted_code);\n",
       "                        }\n",
       "                        break;\n",
       "                    }\n",
       "                }\n",
       "            }, 500);\n",
       "            "
      ],
      "text/plain": [
       "<IPython.core.display.Javascript object>"
      ]
     },
     "metadata": {},
     "output_type": "display_data"
    }
   ],
   "source": [
    "n_iterations = 10000\n",
    "print_every_n = 4000\n",
    "\n",
    "n_total = 0\n",
    "n_in_circle = 0\n",
    "\n",
    "xs = []\n",
    "ys = []\n",
    "cs = []\n",
    "pis = []\n",
    "for i in range(n_iterations):\n",
    "    x, y = np.random.uniform(-0.5, 0.5, 2)\n",
    "\n",
    "    n_total += 1\n",
    "    c = \"black\"\n",
    "\n",
    "    # Check if the point falls within the circle\n",
    "    if dist((0, 0), (x, y)) <= 0.5:\n",
    "        n_in_circle += 1\n",
    "        c = \"red\"\n",
    "\n",
    "    # Store the x, y, and c for this point\n",
    "    xs.append(x)\n",
    "    ys.append(y)\n",
    "    cs.append(c)\n",
    "\n",
    "    curr_approx_pi = 4 * n_in_circle / n_total\n",
    "    pis.append(curr_approx_pi)\n",
    "\n",
    "    # Check if we should display on this iteration.\n",
    "    # If yes, display the approximation/plot using the function defined above\n",
    "    if i % print_every_n == 0 and i > 0:\n",
    "        print(f\"After {i + 1} iterations:\")\n",
    "        print(f\"Approximation of pi: {curr_approx_pi:.5f}\")\n",
    "\n",
    "        show_approximation()\n",
    "\n",
    "\n",
    "print(\"Final\\n----------------------------\")\n",
    "print(f\"After {i + 1} iterations:\")\n",
    "print(f\"Approximation of pi: {curr_approx_pi:.5f}\")\n",
    "show_approximation()"
   ]
  },
  {
   "cell_type": "markdown",
   "metadata": {},
   "source": [
    "For comparison:"
   ]
  },
  {
   "cell_type": "code",
   "execution_count": 13,
   "metadata": {},
   "outputs": [
    {
     "name": "stdout",
     "output_type": "stream",
     "text": [
      "3.141592653589793\n"
     ]
    },
    {
     "data": {
      "application/javascript": [
       "\n",
       "            setTimeout(function() {\n",
       "                var nbb_cell_id = 13;\n",
       "                var nbb_unformatted_code = \"print(np.pi)\";\n",
       "                var nbb_formatted_code = \"print(np.pi)\";\n",
       "                var nbb_cells = Jupyter.notebook.get_cells();\n",
       "                for (var i = 0; i < nbb_cells.length; ++i) {\n",
       "                    if (nbb_cells[i].input_prompt_number == nbb_cell_id) {\n",
       "                        if (nbb_cells[i].get_text() == nbb_unformatted_code) {\n",
       "                             nbb_cells[i].set_text(nbb_formatted_code);\n",
       "                        }\n",
       "                        break;\n",
       "                    }\n",
       "                }\n",
       "            }, 500);\n",
       "            "
      ],
      "text/plain": [
       "<IPython.core.display.Javascript object>"
      ]
     },
     "metadata": {},
     "output_type": "display_data"
    }
   ],
   "source": [
    "print(np.pi)"
   ]
  }
 ],
 "metadata": {
  "kernelspec": {
   "display_name": "Python 3",
   "language": "python",
   "name": "python3"
  },
  "language_info": {
   "codemirror_mode": {
    "name": "ipython",
    "version": 3
   },
   "file_extension": ".py",
   "mimetype": "text/x-python",
   "name": "python",
   "nbconvert_exporter": "python",
   "pygments_lexer": "ipython3",
   "version": "3.7.6"
  }
 },
 "nbformat": 4,
 "nbformat_minor": 2
}
