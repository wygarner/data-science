{
 "cells": [
  {
   "cell_type": "markdown",
   "metadata": {},
   "source": [
    "# Setup"
   ]
  },
  {
   "cell_type": "code",
   "execution_count": 1,
   "metadata": {},
   "outputs": [
    {
     "data": {
      "application/javascript": [
       "\n",
       "            setTimeout(function() {\n",
       "                var nbb_cell_id = 1;\n",
       "                var nbb_unformatted_code = \"%reload_ext nb_black\";\n",
       "                var nbb_formatted_code = \"%reload_ext nb_black\";\n",
       "                var nbb_cells = Jupyter.notebook.get_cells();\n",
       "                for (var i = 0; i < nbb_cells.length; ++i) {\n",
       "                    if (nbb_cells[i].input_prompt_number == nbb_cell_id) {\n",
       "                        if (nbb_cells[i].get_text() == nbb_unformatted_code) {\n",
       "                             nbb_cells[i].set_text(nbb_formatted_code);\n",
       "                        }\n",
       "                        break;\n",
       "                    }\n",
       "                }\n",
       "            }, 500);\n",
       "            "
      ],
      "text/plain": [
       "<IPython.core.display.Javascript object>"
      ]
     },
     "metadata": {},
     "output_type": "display_data"
    }
   ],
   "source": [
    "%reload_ext nb_black"
   ]
  },
  {
   "cell_type": "code",
   "execution_count": 2,
   "metadata": {
    "colab": {},
    "colab_type": "code",
    "id": "d-xl3rn_a9aC"
   },
   "outputs": [
    {
     "data": {
      "application/javascript": [
       "\n",
       "            setTimeout(function() {\n",
       "                var nbb_cell_id = 2;\n",
       "                var nbb_unformatted_code = \"import pandas as pd\\nimport numpy as np\\n\\nfrom sklearn.datasets import make_blobs\\nfrom sklearn.preprocessing import StandardScaler\\nfrom sklearn.decomposition import PCA, FastICA\\n\\nimport matplotlib.pyplot as plt\\n\\n%matplotlib inline\";\n",
       "                var nbb_formatted_code = \"import pandas as pd\\nimport numpy as np\\n\\nfrom sklearn.datasets import make_blobs\\nfrom sklearn.preprocessing import StandardScaler\\nfrom sklearn.decomposition import PCA, FastICA\\n\\nimport matplotlib.pyplot as plt\\n\\n%matplotlib inline\";\n",
       "                var nbb_cells = Jupyter.notebook.get_cells();\n",
       "                for (var i = 0; i < nbb_cells.length; ++i) {\n",
       "                    if (nbb_cells[i].input_prompt_number == nbb_cell_id) {\n",
       "                        if (nbb_cells[i].get_text() == nbb_unformatted_code) {\n",
       "                             nbb_cells[i].set_text(nbb_formatted_code);\n",
       "                        }\n",
       "                        break;\n",
       "                    }\n",
       "                }\n",
       "            }, 500);\n",
       "            "
      ],
      "text/plain": [
       "<IPython.core.display.Javascript object>"
      ]
     },
     "metadata": {},
     "output_type": "display_data"
    }
   ],
   "source": [
    "import pandas as pd\n",
    "import numpy as np\n",
    "\n",
    "from sklearn.datasets import make_blobs\n",
    "from sklearn.preprocessing import StandardScaler\n",
    "from sklearn.decomposition import PCA, FastICA\n",
    "\n",
    "import matplotlib.pyplot as plt\n",
    "\n",
    "%matplotlib inline"
   ]
  },
  {
   "cell_type": "markdown",
   "metadata": {},
   "source": [
    "Data A"
   ]
  },
  {
   "cell_type": "code",
   "execution_count": 3,
   "metadata": {
    "colab": {
     "base_uri": "https://localhost:8080/",
     "height": 204
    },
    "colab_type": "code",
    "id": "YfMKw1m1cGJw",
    "outputId": "d515aaa9-2ba7-46e3-c0d9-6cbc788c629a"
   },
   "outputs": [
    {
     "data": {
      "image/png": "[encoded data removed]",
      "text/plain": [
       "<Figure size 432x288 with 1 Axes>"
      ]
     },
     "metadata": {
      "needs_background": "light"
     },
     "output_type": "display_data"
    },
    {
     "data": {
      "application/javascript": [
       "\n",
       "            setTimeout(function() {\n",
       "                var nbb_cell_id = 3;\n",
       "                var nbb_unformatted_code = \"df = make_blobs(\\n    n_samples=100,\\n    n_features=2,\\n    centers=[[10, 5]],\\n    cluster_std=[[3, 2]],\\n    random_state=8675309,\\n)[0]\\ndf = pd.DataFrame(df, columns=[\\\"x\\\", \\\"y\\\"])\\n\\n# Put some trend into the y component\\ndf = df.sort_values(\\\"x\\\").reset_index(drop=True)\\ndf[\\\"y\\\"] += df.index / 10\\n\\nscaler = StandardScaler()\\ndf_scaled = scaler.fit_transform(df)\\ndf_scaled = pd.DataFrame(df_scaled, columns=[\\\"x\\\", \\\"y\\\"])\\ndf_scaled.head()\\n\\nplt.scatter(df_scaled[\\\"x\\\"], df_scaled[\\\"y\\\"])\\nplt.show()\";\n",
       "                var nbb_formatted_code = \"df = make_blobs(\\n    n_samples=100,\\n    n_features=2,\\n    centers=[[10, 5]],\\n    cluster_std=[[3, 2]],\\n    random_state=8675309,\\n)[0]\\ndf = pd.DataFrame(df, columns=[\\\"x\\\", \\\"y\\\"])\\n\\n# Put some trend into the y component\\ndf = df.sort_values(\\\"x\\\").reset_index(drop=True)\\ndf[\\\"y\\\"] += df.index / 10\\n\\nscaler = StandardScaler()\\ndf_scaled = scaler.fit_transform(df)\\ndf_scaled = pd.DataFrame(df_scaled, columns=[\\\"x\\\", \\\"y\\\"])\\ndf_scaled.head()\\n\\nplt.scatter(df_scaled[\\\"x\\\"], df_scaled[\\\"y\\\"])\\nplt.show()\";\n",
       "                var nbb_cells = Jupyter.notebook.get_cells();\n",
       "                for (var i = 0; i < nbb_cells.length; ++i) {\n",
       "                    if (nbb_cells[i].input_prompt_number == nbb_cell_id) {\n",
       "                        if (nbb_cells[i].get_text() == nbb_unformatted_code) {\n",
       "                             nbb_cells[i].set_text(nbb_formatted_code);\n",
       "                        }\n",
       "                        break;\n",
       "                    }\n",
       "                }\n",
       "            }, 500);\n",
       "            "
      ],
      "text/plain": [
       "<IPython.core.display.Javascript object>"
      ]
     },
     "metadata": {},
     "output_type": "display_data"
    }
   ],
   "source": [
    "df = make_blobs(\n",
    "    n_samples=100,\n",
    "    n_features=2,\n",
    "    centers=[[10, 5]],\n",
    "    cluster_std=[[3, 2]],\n",
    "    random_state=8675309,\n",
    ")[0]\n",
    "df = pd.DataFrame(df, columns=[\"x\", \"y\"])\n",
    "\n",
    "# Put some trend into the y component\n",
    "df = df.sort_values(\"x\").reset_index(drop=True)\n",
    "df[\"y\"] += df.index / 10\n",
    "\n",
    "scaler = StandardScaler()\n",
    "df_scaled = scaler.fit_transform(df)\n",
    "df_scaled = pd.DataFrame(df_scaled, columns=[\"x\", \"y\"])\n",
    "df_scaled.head()\n",
    "\n",
    "plt.scatter(df_scaled[\"x\"], df_scaled[\"y\"])\n",
    "plt.show()"
   ]
  },
  {
   "cell_type": "markdown",
   "metadata": {},
   "source": [
    "Data B"
   ]
  },
  {
   "cell_type": "code",
   "execution_count": 4,
   "metadata": {},
   "outputs": [
    {
     "data": {
      "image/png": "[encoded data removed]",
      "text/plain": [
       "<Figure size 432x288 with 1 Axes>"
      ]
     },
     "metadata": {
      "needs_background": "light"
     },
     "output_type": "display_data"
    },
    {
     "data": {
      "application/javascript": [
       "\n",
       "            setTimeout(function() {\n",
       "                var nbb_cell_id = 4;\n",
       "                var nbb_unformatted_code = \"def gen_correlated(x_mean, y_mean, x_std, y_std, corr, n=1000):\\n    covs = [\\n        [x_std ** 2, x_std * y_std * corr],\\n        [x_std * y_std * corr, y_std ** 2],\\n    ]\\n    xy = np.random.multivariate_normal([x_mean, y_mean], covs, n).T\\n\\n    return xy.T\\n\\n\\naxy = gen_correlated(0, 0, 10, 10, corr=-0.8, n=300)\\nbxy = gen_correlated(0, 0, 10, 2, corr=0.3, n=300)\\nxy = np.vstack((axy, bxy))\\n\\ndf = pd.DataFrame(xy, columns=[\\\"x\\\", \\\"y\\\"])\\n\\nscaler = StandardScaler()\\ndf_scaled = scaler.fit_transform(df)\\ndf_scaled = pd.DataFrame(df_scaled, columns=[\\\"x\\\", \\\"y\\\"])\\ndf_scaled.head()\\n\\nplt.scatter(df_scaled[\\\"x\\\"], df_scaled[\\\"y\\\"])\\nplt.show()\";\n",
       "                var nbb_formatted_code = \"def gen_correlated(x_mean, y_mean, x_std, y_std, corr, n=1000):\\n    covs = [\\n        [x_std ** 2, x_std * y_std * corr],\\n        [x_std * y_std * corr, y_std ** 2],\\n    ]\\n    xy = np.random.multivariate_normal([x_mean, y_mean], covs, n).T\\n\\n    return xy.T\\n\\n\\naxy = gen_correlated(0, 0, 10, 10, corr=-0.8, n=300)\\nbxy = gen_correlated(0, 0, 10, 2, corr=0.3, n=300)\\nxy = np.vstack((axy, bxy))\\n\\ndf = pd.DataFrame(xy, columns=[\\\"x\\\", \\\"y\\\"])\\n\\nscaler = StandardScaler()\\ndf_scaled = scaler.fit_transform(df)\\ndf_scaled = pd.DataFrame(df_scaled, columns=[\\\"x\\\", \\\"y\\\"])\\ndf_scaled.head()\\n\\nplt.scatter(df_scaled[\\\"x\\\"], df_scaled[\\\"y\\\"])\\nplt.show()\";\n",
       "                var nbb_cells = Jupyter.notebook.get_cells();\n",
       "                for (var i = 0; i < nbb_cells.length; ++i) {\n",
       "                    if (nbb_cells[i].input_prompt_number == nbb_cell_id) {\n",
       "                        if (nbb_cells[i].get_text() == nbb_unformatted_code) {\n",
       "                             nbb_cells[i].set_text(nbb_formatted_code);\n",
       "                        }\n",
       "                        break;\n",
       "                    }\n",
       "                }\n",
       "            }, 500);\n",
       "            "
      ],
      "text/plain": [
       "<IPython.core.display.Javascript object>"
      ]
     },
     "metadata": {},
     "output_type": "display_data"
    }
   ],
   "source": [
    "def gen_correlated(x_mean, y_mean, x_std, y_std, corr, n=1000):\n",
    "    covs = [\n",
    "        [x_std ** 2, x_std * y_std * corr],\n",
    "        [x_std * y_std * corr, y_std ** 2],\n",
    "    ]\n",
    "    xy = np.random.multivariate_normal([x_mean, y_mean], covs, n).T\n",
    "\n",
    "    return xy.T\n",
    "\n",
    "\n",
    "axy = gen_correlated(0, 0, 10, 10, corr=-0.8, n=300)\n",
    "bxy = gen_correlated(0, 0, 10, 2, corr=0.3, n=300)\n",
    "xy = np.vstack((axy, bxy))\n",
    "\n",
    "df = pd.DataFrame(xy, columns=[\"x\", \"y\"])\n",
    "\n",
    "scaler = StandardScaler()\n",
    "df_scaled = scaler.fit_transform(df)\n",
    "df_scaled = pd.DataFrame(df_scaled, columns=[\"x\", \"y\"])\n",
    "df_scaled.head()\n",
    "\n",
    "plt.scatter(df_scaled[\"x\"], df_scaled[\"y\"])\n",
    "plt.show()"
   ]
  },
  {
   "cell_type": "markdown",
   "metadata": {},
   "source": [
    "## PCA"
   ]
  },
  {
   "cell_type": "code",
   "execution_count": 5,
   "metadata": {
    "colab": {
     "base_uri": "https://localhost:8080/",
     "height": 204
    },
    "colab_type": "code",
    "id": "QTqEv-gmrzKy",
    "outputId": "5c97bb0e-cefb-42c5-8aac-97005046983b"
   },
   "outputs": [
    {
     "data": {
      "text/plain": [
       "(600, 2)"
      ]
     },
     "execution_count": 5,
     "metadata": {},
     "output_type": "execute_result"
    },
    {
     "data": {
      "application/javascript": [
       "\n",
       "            setTimeout(function() {\n",
       "                var nbb_cell_id = 5;\n",
       "                var nbb_unformatted_code = \"pca = PCA(n_components=2)\\n\\n# If in supervised pipeline:\\n#   * fit and transform training data\\n#   * transform testing/new data using learnings from the trained fit\\npca.fit(df_scaled)\\npcs = pca.transform(df_scaled)\\npcs.shape\";\n",
       "                var nbb_formatted_code = \"pca = PCA(n_components=2)\\n\\n# If in supervised pipeline:\\n#   * fit and transform training data\\n#   * transform testing/new data using learnings from the trained fit\\npca.fit(df_scaled)\\npcs = pca.transform(df_scaled)\\npcs.shape\";\n",
       "                var nbb_cells = Jupyter.notebook.get_cells();\n",
       "                for (var i = 0; i < nbb_cells.length; ++i) {\n",
       "                    if (nbb_cells[i].input_prompt_number == nbb_cell_id) {\n",
       "                        if (nbb_cells[i].get_text() == nbb_unformatted_code) {\n",
       "                             nbb_cells[i].set_text(nbb_formatted_code);\n",
       "                        }\n",
       "                        break;\n",
       "                    }\n",
       "                }\n",
       "            }, 500);\n",
       "            "
      ],
      "text/plain": [
       "<IPython.core.display.Javascript object>"
      ]
     },
     "metadata": {},
     "output_type": "display_data"
    }
   ],
   "source": [
    "pca = PCA(n_components=2)\n",
    "\n",
    "# If in supervised pipeline:\n",
    "#   * fit and transform training data\n",
    "#   * transform testing/new data using learnings from the trained fit\n",
    "pca.fit(df_scaled)\n",
    "pcs = pca.transform(df_scaled)\n",
    "pcs.shape"
   ]
  },
  {
   "cell_type": "code",
   "execution_count": 6,
   "metadata": {},
   "outputs": [
    {
     "data": {
      "text/plain": [
       "array([0.75723019, 0.24276981])"
      ]
     },
     "execution_count": 6,
     "metadata": {},
     "output_type": "execute_result"
    },
    {
     "data": {
      "application/javascript": [
       "\n",
       "            setTimeout(function() {\n",
       "                var nbb_cell_id = 6;\n",
       "                var nbb_unformatted_code = \"pca.explained_variance_ratio_\";\n",
       "                var nbb_formatted_code = \"pca.explained_variance_ratio_\";\n",
       "                var nbb_cells = Jupyter.notebook.get_cells();\n",
       "                for (var i = 0; i < nbb_cells.length; ++i) {\n",
       "                    if (nbb_cells[i].input_prompt_number == nbb_cell_id) {\n",
       "                        if (nbb_cells[i].get_text() == nbb_unformatted_code) {\n",
       "                             nbb_cells[i].set_text(nbb_formatted_code);\n",
       "                        }\n",
       "                        break;\n",
       "                    }\n",
       "                }\n",
       "            }, 500);\n",
       "            "
      ],
      "text/plain": [
       "<IPython.core.display.Javascript object>"
      ]
     },
     "metadata": {},
     "output_type": "display_data"
    }
   ],
   "source": [
    "pca.explained_variance_ratio_"
   ]
  },
  {
   "cell_type": "code",
   "execution_count": 7,
   "metadata": {
    "colab": {
     "base_uri": "https://localhost:8080/",
     "height": 265
    },
    "colab_type": "code",
    "id": "u60riVTqsL9Q",
    "outputId": "4630d90c-769d-44e5-bde6-f54a5cc78a72"
   },
   "outputs": [
    {
     "data": {
      "image/png": "[encoded data removed]",
      "text/plain": [
       "<Figure size 432x288 with 1 Axes>"
      ]
     },
     "metadata": {
      "needs_background": "light"
     },
     "output_type": "display_data"
    },
    {
     "data": {
      "application/javascript": [
       "\n",
       "            setTimeout(function() {\n",
       "                var nbb_cell_id = 7;\n",
       "                var nbb_unformatted_code = \"plt.scatter(pcs[:, 0], pcs[:, 1])\\nplt.xlabel(\\\"PC 1\\\")\\nplt.ylabel(\\\"PC 2\\\")\\nplt.title(\\\"Principal Components\\\")\\nplt.show()\";\n",
       "                var nbb_formatted_code = \"plt.scatter(pcs[:, 0], pcs[:, 1])\\nplt.xlabel(\\\"PC 1\\\")\\nplt.ylabel(\\\"PC 2\\\")\\nplt.title(\\\"Principal Components\\\")\\nplt.show()\";\n",
       "                var nbb_cells = Jupyter.notebook.get_cells();\n",
       "                for (var i = 0; i < nbb_cells.length; ++i) {\n",
       "                    if (nbb_cells[i].input_prompt_number == nbb_cell_id) {\n",
       "                        if (nbb_cells[i].get_text() == nbb_unformatted_code) {\n",
       "                             nbb_cells[i].set_text(nbb_formatted_code);\n",
       "                        }\n",
       "                        break;\n",
       "                    }\n",
       "                }\n",
       "            }, 500);\n",
       "            "
      ],
      "text/plain": [
       "<IPython.core.display.Javascript object>"
      ]
     },
     "metadata": {},
     "output_type": "display_data"
    }
   ],
   "source": [
    "plt.scatter(pcs[:, 0], pcs[:, 1])\n",
    "plt.xlabel(\"PC 1\")\n",
    "plt.ylabel(\"PC 2\")\n",
    "plt.title(\"Principal Components\")\n",
    "plt.show()"
   ]
  },
  {
   "cell_type": "markdown",
   "metadata": {},
   "source": [
    "## ICA"
   ]
  },
  {
   "cell_type": "code",
   "execution_count": 9,
   "metadata": {},
   "outputs": [
    {
     "data": {
      "text/plain": [
       "(600, 2)"
      ]
     },
     "execution_count": 9,
     "metadata": {},
     "output_type": "execute_result"
    },
    {
     "data": {
      "application/javascript": [
       "\n",
       "            setTimeout(function() {\n",
       "                var nbb_cell_id = 9;\n",
       "                var nbb_unformatted_code = \"ica = FastICA(n_components=2)\\n\\n# If in supervised pipeline:\\n#   * fit and transform training data\\n#   * transform testing/new data using learnings from the trained fit\\nica.fit(df_scaled)\\nics = ica.transform(df_scaled)\\nics.shape\";\n",
       "                var nbb_formatted_code = \"ica = FastICA(n_components=2)\\n\\n# If in supervised pipeline:\\n#   * fit and transform training data\\n#   * transform testing/new data using learnings from the trained fit\\nica.fit(df_scaled)\\nics = ica.transform(df_scaled)\\nics.shape\";\n",
       "                var nbb_cells = Jupyter.notebook.get_cells();\n",
       "                for (var i = 0; i < nbb_cells.length; ++i) {\n",
       "                    if (nbb_cells[i].input_prompt_number == nbb_cell_id) {\n",
       "                        if (nbb_cells[i].get_text() == nbb_unformatted_code) {\n",
       "                             nbb_cells[i].set_text(nbb_formatted_code);\n",
       "                        }\n",
       "                        break;\n",
       "                    }\n",
       "                }\n",
       "            }, 500);\n",
       "            "
      ],
      "text/plain": [
       "<IPython.core.display.Javascript object>"
      ]
     },
     "metadata": {},
     "output_type": "display_data"
    }
   ],
   "source": [
    "ica = FastICA(n_components=2)\n",
    "\n",
    "# If in supervised pipeline:\n",
    "#   * fit and transform training data\n",
    "#   * transform testing/new data using learnings from the trained fit\n",
    "ica.fit(df_scaled)\n",
    "ics = ica.transform(df_scaled)\n",
    "ics.shape"
   ]
  },
  {
   "cell_type": "code",
   "execution_count": 10,
   "metadata": {},
   "outputs": [
    {
     "data": {
      "image/png": "[encoded data removed]",
      "text/plain": [
       "<Figure size 432x288 with 1 Axes>"
      ]
     },
     "metadata": {
      "needs_background": "light"
     },
     "output_type": "display_data"
    },
    {
     "data": {
      "application/javascript": [
       "\n",
       "            setTimeout(function() {\n",
       "                var nbb_cell_id = 10;\n",
       "                var nbb_unformatted_code = \"plt.scatter(ics[:, 0], ics[:, 1])\\nplt.xlabel(\\\"IC 1\\\")\\nplt.ylabel(\\\"IC 2\\\")\\nplt.title(\\\"Independent Components\\\")\\nplt.show()\";\n",
       "                var nbb_formatted_code = \"plt.scatter(ics[:, 0], ics[:, 1])\\nplt.xlabel(\\\"IC 1\\\")\\nplt.ylabel(\\\"IC 2\\\")\\nplt.title(\\\"Independent Components\\\")\\nplt.show()\";\n",
       "                var nbb_cells = Jupyter.notebook.get_cells();\n",
       "                for (var i = 0; i < nbb_cells.length; ++i) {\n",
       "                    if (nbb_cells[i].input_prompt_number == nbb_cell_id) {\n",
       "                        if (nbb_cells[i].get_text() == nbb_unformatted_code) {\n",
       "                             nbb_cells[i].set_text(nbb_formatted_code);\n",
       "                        }\n",
       "                        break;\n",
       "                    }\n",
       "                }\n",
       "            }, 500);\n",
       "            "
      ],
      "text/plain": [
       "<IPython.core.display.Javascript object>"
      ]
     },
     "metadata": {},
     "output_type": "display_data"
    }
   ],
   "source": [
    "plt.scatter(ics[:, 0], ics[:, 1])\n",
    "plt.xlabel(\"IC 1\")\n",
    "plt.ylabel(\"IC 2\")\n",
    "plt.title(\"Independent Components\")\n",
    "plt.show()"
   ]
  },
  {
   "cell_type": "code",
   "execution_count": 11,
   "metadata": {},
   "outputs": [
    {
     "data": {
      "image/png": "[encoded data removed]",
      "text/plain": [
       "<Figure size 432x288 with 1 Axes>"
      ]
     },
     "metadata": {
      "needs_background": "light"
     },
     "output_type": "display_data"
    },
    {
     "data": {
      "image/png": "[encoded data removed]",
      "text/plain": [
       "<Figure size 432x288 with 1 Axes>"
      ]
     },
     "metadata": {
      "needs_background": "light"
     },
     "output_type": "display_data"
    },
    {
     "data": {
      "application/javascript": [
       "\n",
       "            setTimeout(function() {\n",
       "                var nbb_cell_id = 11;\n",
       "                var nbb_unformatted_code = \"df_x, df_y = df_scaled[\\\"x\\\"], df_scaled[\\\"y\\\"]\\n\\npca_std = pca.components_.T / pca.components_.T.std()\\npca_x, pca_y = pca_std\\n\\nica_std = ica.mixing_ / ica.mixing_.std()\\nica_x, ica_y = ica_std\\n\\n\\nplt.scatter(df_x, df_y)\\nplt.quiver(0, 0, pca_x, pca_y, zorder=11, width=0.01, scale=6, color=\\\"red\\\")\\nplt.title(\\\"PCA Projection\\\")\\nplt.show()\\n\\nplt.scatter(df_x, df_y)\\nplt.quiver(0, 0, ica_x, ica_y, zorder=11, width=0.01, scale=6, color=\\\"orange\\\")\\nplt.title(\\\"ICA Projection\\\")\\nplt.show()\";\n",
       "                var nbb_formatted_code = \"df_x, df_y = df_scaled[\\\"x\\\"], df_scaled[\\\"y\\\"]\\n\\npca_std = pca.components_.T / pca.components_.T.std()\\npca_x, pca_y = pca_std\\n\\nica_std = ica.mixing_ / ica.mixing_.std()\\nica_x, ica_y = ica_std\\n\\n\\nplt.scatter(df_x, df_y)\\nplt.quiver(0, 0, pca_x, pca_y, zorder=11, width=0.01, scale=6, color=\\\"red\\\")\\nplt.title(\\\"PCA Projection\\\")\\nplt.show()\\n\\nplt.scatter(df_x, df_y)\\nplt.quiver(0, 0, ica_x, ica_y, zorder=11, width=0.01, scale=6, color=\\\"orange\\\")\\nplt.title(\\\"ICA Projection\\\")\\nplt.show()\";\n",
       "                var nbb_cells = Jupyter.notebook.get_cells();\n",
       "                for (var i = 0; i < nbb_cells.length; ++i) {\n",
       "                    if (nbb_cells[i].input_prompt_number == nbb_cell_id) {\n",
       "                        if (nbb_cells[i].get_text() == nbb_unformatted_code) {\n",
       "                             nbb_cells[i].set_text(nbb_formatted_code);\n",
       "                        }\n",
       "                        break;\n",
       "                    }\n",
       "                }\n",
       "            }, 500);\n",
       "            "
      ],
      "text/plain": [
       "<IPython.core.display.Javascript object>"
      ]
     },
     "metadata": {},
     "output_type": "display_data"
    }
   ],
   "source": [
    "df_x, df_y = df_scaled[\"x\"], df_scaled[\"y\"]\n",
    "\n",
    "pca_std = pca.components_.T / pca.components_.T.std()\n",
    "pca_x, pca_y = pca_std\n",
    "\n",
    "ica_std = ica.mixing_ / ica.mixing_.std()\n",
    "ica_x, ica_y = ica_std\n",
    "\n",
    "\n",
    "plt.scatter(df_x, df_y)\n",
    "plt.quiver(0, 0, pca_x, pca_y, zorder=11, width=0.01, scale=6, color=\"red\")\n",
    "plt.title(\"PCA Projection\")\n",
    "plt.show()\n",
    "\n",
    "plt.scatter(df_x, df_y)\n",
    "plt.quiver(0, 0, ica_x, ica_y, zorder=11, width=0.01, scale=6, color=\"orange\")\n",
    "plt.title(\"ICA Projection\")\n",
    "plt.show()"
   ]
  },
  {
   "cell_type": "code",
   "execution_count": null,
   "metadata": {},
   "outputs": [],
   "source": []
  }
 ],
 "metadata": {
  "colab": {
   "collapsed_sections": [],
   "name": "PCA_intuition.ipynb",
   "provenance": []
  },
  "kernelspec": {
   "display_name": "Python 3",
   "language": "python",
   "name": "python3"
  },
  "language_info": {
   "codemirror_mode": {
    "name": "ipython",
    "version": 3
   },
   "file_extension": ".py",
   "mimetype": "text/x-python",
   "name": "python",
   "nbconvert_exporter": "python",
   "pygments_lexer": "ipython3",
   "version": "3.7.7"
  }
 },
 "nbformat": 4,
 "nbformat_minor": 1
}
