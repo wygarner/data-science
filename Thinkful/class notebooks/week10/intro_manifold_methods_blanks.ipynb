{
 "cells": [
  {
   "cell_type": "code",
   "execution_count": null,
   "metadata": {},
   "outputs": [],
   "source": [
    "%reload_ext nb_black"
   ]
  },
  {
   "cell_type": "code",
   "execution_count": 2,
   "metadata": {},
   "outputs": [],
   "source": [
    "import numpy as np\n",
    "import pandas as pd\n",
    "\n",
    "from sklearn.preprocessing import StandardScaler\n",
    "from sklearn.decomposition import PCA\n",
    "from sklearn.manifold import Isomap, LocallyLinearEmbedding\n",
    "\n",
    "import seaborn as sns\n",
    "import matplotlib.pyplot as plt\n",
    "\n",
    "%matplotlib inline"
   ]
  },
  {
   "cell_type": "code",
   "execution_count": null,
   "metadata": {},
   "outputs": [],
   "source": [
    "np.random.seed(42)\n",
    "\n",
    "n = 30\n",
    "sd = 0.01\n",
    "mean1 = 1\n",
    "mean3 = 1.1\n",
    "mean5 = 1.2\n",
    "\n",
    "x1 = np.random.normal(mean1, sd, n)\n",
    "y1 = np.arange(n) * 1.5\n",
    "\n",
    "x2 = np.arange(mean1, mean3, (mean3 - mean1) / n)\n",
    "y2 = np.random.normal(n * 2, 3, n)\n",
    "\n",
    "x3 = np.random.normal(mean3, sd, n)\n",
    "y3 = np.arange(n) * 2\n",
    "\n",
    "x4 = np.arange(mean1, mean3, (mean3 - mean1) / n)\n",
    "y4 = np.random.normal(-8, 3, n)\n",
    "\n",
    "x = np.hstack((x1, x2, x3, x4))\n",
    "y = np.hstack((y1, y2, y3, y4))\n",
    "group = [\"a\"] * n + [\"b\"] * n + [\"c\"] * n + [\"d\"] * n\n",
    "\n",
    "df = pd.DataFrame({\"x\": x, \"y\": y, \"group\": group})\n",
    "sns.scatterplot(\"x\", \"y\", hue=\"group\", data=df)\n",
    "plt.legend().remove()\n",
    "plt.show()"
   ]
  },
  {
   "cell_type": "markdown",
   "metadata": {},
   "source": [
    "Our data here takes an interesting shape.  It's sort of rolled up (slides have classic 3d swiss roll example).  The question that motivates the method we'll see is: \n",
    "\n",
    "How should we treat the below highlighted points?\n",
    "\n",
    "The distance between them isn't huge in terms of our dataset's x and y coordinates, but if our data's true structure is 'rolled' up, then the blue and orange points would be on opposite sides of this roll.  This means that these points should be as far away as possible."
   ]
  },
  {
   "cell_type": "code",
   "execution_count": null,
   "metadata": {},
   "outputs": [],
   "source": [
    "df = pd.DataFrame({\"x\": x, \"y\": y, \"group\": group})\n",
    "sns.scatterplot(\"x\", \"y\", hue=\"group\", data=df)\n",
    "plt.scatter([1.0, 0.997083], [58.194880, 43.5], marker=\"x\", c=\"black\", s=100)\n",
    "plt.plot([1.0, 0.997083], [58.194880, 43.5], c=\"black\", ls=\"--\")\n",
    "plt.legend().remove()\n",
    "plt.show()"
   ]
  },
  {
   "cell_type": "markdown",
   "metadata": {},
   "source": [
    "Isolate the x and y columns and scale the data"
   ]
  },
  {
   "cell_type": "code",
   "execution_count": null,
   "metadata": {},
   "outputs": [],
   "source": [
    "X = "
   ]
  },
  {
   "cell_type": "markdown",
   "metadata": {},
   "source": [
    "Perform PCA to the data with one component, what do you expect the output to look like?"
   ]
  },
  {
   "cell_type": "code",
   "execution_count": null,
   "metadata": {},
   "outputs": [],
   "source": []
  },
  {
   "cell_type": "markdown",
   "metadata": {},
   "source": [
    "Plot the first principal component colored by group (use the zero column for the y axis)"
   ]
  },
  {
   "cell_type": "code",
   "execution_count": null,
   "metadata": {},
   "outputs": [],
   "source": [
    "df[\"zero\"] = 0"
   ]
  },
  {
   "cell_type": "code",
   "execution_count": null,
   "metadata": {},
   "outputs": [],
   "source": []
  },
  {
   "cell_type": "markdown",
   "metadata": {},
   "source": [
    "Apply an Isomapping to the data:\n",
    "\n",
    "* Use 1 component\n",
    "* Start with 5 neighbors"
   ]
  },
  {
   "cell_type": "code",
   "execution_count": null,
   "metadata": {},
   "outputs": [],
   "source": []
  },
  {
   "cell_type": "markdown",
   "metadata": {},
   "source": [
    "Plot the results in the same way as PCA was plotted above\n",
    "\n",
    "Play with the number of neighbors and guess how it will effect the results."
   ]
  },
  {
   "cell_type": "code",
   "execution_count": null,
   "metadata": {},
   "outputs": [],
   "source": []
  },
  {
   "cell_type": "markdown",
   "metadata": {},
   "source": [
    "Below, the 2 points we highlighted earlier are isolated.  We can see how PCA treated them, and how isomap treated them.\n",
    "\n",
    "Verify, are these 2 points the maximum distance apart in our isomap data?"
   ]
  },
  {
   "cell_type": "code",
   "execution_count": null,
   "metadata": {},
   "outputs": [],
   "source": [
    "df[(df[\"x\"] == 1.0) & (df[\"group\"] == \"b\")]"
   ]
  },
  {
   "cell_type": "code",
   "execution_count": null,
   "metadata": {},
   "outputs": [],
   "source": [
    "df[(df[\"y\"] == 43.5) & (df[\"group\"] == \"a\")]"
   ]
  },
  {
   "cell_type": "code",
   "execution_count": null,
   "metadata": {},
   "outputs": [],
   "source": []
  },
  {
   "cell_type": "markdown",
   "metadata": {},
   "source": [
    "Repeat the process for `LocallyLinearEmbedding`"
   ]
  },
  {
   "cell_type": "code",
   "execution_count": null,
   "metadata": {},
   "outputs": [],
   "source": []
  }
 ],
 "metadata": {
  "kernelspec": {
   "display_name": "Python 3",
   "language": "python",
   "name": "python3"
  },
  "language_info": {
   "codemirror_mode": {
    "name": "ipython",
    "version": 3
   },
   "file_extension": ".py",
   "mimetype": "text/x-python",
   "name": "python",
   "nbconvert_exporter": "python",
   "pygments_lexer": "ipython3",
   "version": "3.7.7"
  }
 },
 "nbformat": 4,
 "nbformat_minor": 2
}
