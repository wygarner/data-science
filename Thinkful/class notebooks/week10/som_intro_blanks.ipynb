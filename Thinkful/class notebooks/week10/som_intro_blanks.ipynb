{
 "cells": [
  {
   "cell_type": "code",
   "execution_count": null,
   "metadata": {
    "hideOutput": true
   },
   "outputs": [],
   "source": [
    "%reload_ext nb_black"
   ]
  },
  {
   "cell_type": "markdown",
   "metadata": {
    "colab_type": "text",
    "id": "168J-d3ABCoQ"
   },
   "source": [
    "# Self Organizing Maps (SOMs) with `minisom`"
   ]
  },
  {
   "cell_type": "code",
   "execution_count": null,
   "metadata": {
    "colab": {},
    "colab_type": "code",
    "id": "xmgvUit15JFY"
   },
   "outputs": [],
   "source": [
    "import pandas as pd\n",
    "import numpy as np\n",
    "\n",
    "# !pip install minisom\n",
    "from minisom import MiniSom\n",
    "\n",
    "# We're gonna make some 3d plots which is relatively easy with plotly\n",
    "import plotly.express as px"
   ]
  },
  {
   "cell_type": "markdown",
   "metadata": {},
   "source": [
    "## The idea behind SOMs\n",
    "\n",
    "### The process\n",
    "\n",
    "One liner: SOMs work like k-means, but your centroids are constrained to a lower dimensional grid.\n",
    "\n",
    "More detail below.\n",
    "\n",
    "#### Step 1:\n",
    "\n",
    "Throw a lower-d net into a higher-d representation of the data.\n",
    "\n",
    "For example, in the below gif, we have 3d data, and we've placed a 2d grid within this higher dimensional space.  Note, that we'll talk about this net as if it's a graph. The black dots in the grid will be referred to as nodes.\n",
    "\n",
    "<img src='https://i.imgur.com/WladupI.gif' width=30%>\n",
    "\n",
    "#### Step 2: \n",
    "\n",
    "Update the positions of the nodes in our 2d net.\n",
    "\n",
    "We're allowed to move these nodes in the higher dimensional space. For example, we can move our nodes in the gif along the x, y, and z axis.  \n",
    "\n",
    "Our goal when moving these nodes is to have them represent our data's location (i.e. our observations are metal and our nodes are magnets, the nodes will gravitate towards denser areas of points).\n",
    "\n",
    "Our nodes will end up acting like centroids in k-means, they will have a location that represents the average features of the points in the vicinity.  This node movement will happen over many iterations; at the end we might end up with something like below.\n",
    "\n",
    "Note, this is just an example of what might happen, these nodes were dragged by hand rather than by a SOM.\n",
    "\n",
    "<img src='https://i.imgur.com/bkQi46c.gif' width=30% caption='s'>\n",
    "\n",
    "### Output\n",
    "\n",
    "So what do we get out of this?  We get both dimension reduction and clusters.\n",
    "\n",
    "Dimension reduction is achieved by mapping higher-d observations into lower-d based on which node of the grid they are closest to.  Each node in our example grid can be thought of as a 2d coordinate, we can assign this 2d locationg to our 3d observations.  We can adjust the number of nodes to have different levels of granularity in our reduced dimensions.\n",
    "\n",
    "Clusters are acheived very similarly to k-means.  Cluster labels can be assigned to points based on what node they are closest to."
   ]
  },
  {
   "cell_type": "markdown",
   "metadata": {
    "colab_type": "text",
    "id": "oLRjK7k1B3LB"
   },
   "source": [
    "## Example\n",
    "\n",
    "Build a completely random dataset.\n",
    "\n",
    "* Set a seed to make the dataset reproducible\n",
    "* Use np.random.random() to generate a dataset with 15 rows and 3 columns\n",
    "* Put this data into a dataframe.  Name the columns `['x0', 'x1', 'x2']`"
   ]
  },
  {
   "cell_type": "code",
   "execution_count": null,
   "metadata": {
    "colab": {
     "base_uri": "https://localhost:8080/",
     "height": 204
    },
    "colab_type": "code",
    "id": "QFoHMLRQ9k4B",
    "outputId": "eaf8f7d7-7c25-48b0-b4c2-9359b46c0d7c"
   },
   "outputs": [],
   "source": []
  },
  {
   "cell_type": "markdown",
   "metadata": {
    "colab_type": "text",
    "id": "jlSlXcKLCFYZ"
   },
   "source": [
    "Plot all three columns of the dataframe at once using `px.scatter_3d`"
   ]
  },
  {
   "cell_type": "code",
   "execution_count": null,
   "metadata": {
    "colab": {
     "base_uri": "https://localhost:8080/",
     "height": 542
    },
    "colab_type": "code",
    "id": "aTYMoqmGCEmy",
    "outputId": "a2fdfba8-7bf7-4d74-90f7-6264550e2e07"
   },
   "outputs": [],
   "source": []
  },
  {
   "cell_type": "markdown",
   "metadata": {
    "colab_type": "text",
    "id": "IO-yx6NLCLBI"
   },
   "source": [
    "Create a `MiniSom` instance\n",
    "* Set a `random_seed` when creating the instance\n",
    "* Train it using `train_random` with 100 iterations"
   ]
  },
  {
   "cell_type": "code",
   "execution_count": null,
   "metadata": {},
   "outputs": [],
   "source": [
    "n_cols = df.shape[1]"
   ]
  },
  {
   "cell_type": "code",
   "execution_count": null,
   "metadata": {
    "colab": {},
    "colab_type": "code",
    "id": "jVVQ3TLn9xPw"
   },
   "outputs": [],
   "source": []
  },
  {
   "cell_type": "markdown",
   "metadata": {
    "colab_type": "text",
    "id": "VkTH7OpwCgMC"
   },
   "source": [
    "Inspect the 'weights' using `.get_weights()`.  What do these represent?"
   ]
  },
  {
   "cell_type": "code",
   "execution_count": null,
   "metadata": {
    "colab": {
     "base_uri": "https://localhost:8080/",
     "height": 34
    },
    "colab_type": "code",
    "id": "Dq837HAP97iO",
    "outputId": "e76afae8-626c-440a-d98f-2178c041a676"
   },
   "outputs": [],
   "source": []
  },
  {
   "cell_type": "markdown",
   "metadata": {
    "colab_type": "text",
    "id": "h0al4QDNCmf9"
   },
   "source": [
    "Our weights are arranged in a 2d grid, so the first weight might be at position (0, 0) and we have a weight at position (2, 3) etc.\n",
    "\n",
    "Find the closest weight vector to the first row in the dataframe (this closest weight vector is called the 'winner').  What position is this weight at?"
   ]
  },
  {
   "cell_type": "code",
   "execution_count": null,
   "metadata": {
    "colab": {
     "base_uri": "https://localhost:8080/",
     "height": 34
    },
    "colab_type": "code",
    "id": "4rYupFd6-HVI",
    "outputId": "1038dcfb-ca15-4f39-b56b-c091cb0f75d1"
   },
   "outputs": [],
   "source": []
  },
  {
   "cell_type": "markdown",
   "metadata": {
    "colab_type": "text",
    "id": "kWDiIm2uDMXI"
   },
   "source": [
    "What are the corresponding values to the weight vector at that winning location?  What do these values represent?"
   ]
  },
  {
   "cell_type": "code",
   "execution_count": null,
   "metadata": {
    "colab": {
     "base_uri": "https://localhost:8080/",
     "height": 34
    },
    "colab_type": "code",
    "id": "ts6f_72d-WdF",
    "outputId": "5515bcfc-10a6-4728-ab9a-2ebedb88eee8"
   },
   "outputs": [],
   "source": []
  },
  {
   "cell_type": "markdown",
   "metadata": {
    "colab_type": "text",
    "id": "n5ay8DSeDXHZ"
   },
   "source": [
    "Print out the data of the first row of the dataframe.  Based on these values, does the winner seem to make sense?"
   ]
  },
  {
   "cell_type": "code",
   "execution_count": null,
   "metadata": {
    "colab": {
     "base_uri": "https://localhost:8080/",
     "height": 34
    },
    "colab_type": "code",
    "id": "QFXEUBSV9-m3",
    "outputId": "a510ee46-0033-45c5-a6a9-ec935ce76461"
   },
   "outputs": [],
   "source": []
  },
  {
   "cell_type": "markdown",
   "metadata": {
    "colab_type": "text",
    "id": "lEXPIgqlDha7"
   },
   "source": [
    "Iterate over the rows in the dataframe, and find the winner for each row.\n",
    "* Store the x and y locations for each winner\n",
    "* Create columns in your data from for `['winner_x', 'winner_y', 'winner_id']`"
   ]
  },
  {
   "cell_type": "code",
   "execution_count": null,
   "metadata": {
    "colab": {
     "base_uri": "https://localhost:8080/",
     "height": 204
    },
    "colab_type": "code",
    "id": "-x3nRszU-VXg",
    "outputId": "3fc87499-3aa2-468c-d245-1af1bf1481a2"
   },
   "outputs": [],
   "source": []
  },
  {
   "cell_type": "markdown",
   "metadata": {
    "colab_type": "text",
    "id": "T7btz6JlD3rt"
   },
   "source": [
    "Aggregate the dataframe by all of the winning columns, and count how many observations belong to each winner.\n",
    "\n",
    "Who was the biggest winner?\n",
    "Did any weight vectors never win?"
   ]
  },
  {
   "cell_type": "code",
   "execution_count": null,
   "metadata": {
    "colab": {
     "base_uri": "https://localhost:8080/",
     "height": 328
    },
    "colab_type": "code",
    "id": "E51gwMATD4J9",
    "outputId": "63283fd0-0baf-4eae-8e80-99cf68ceeab5"
   },
   "outputs": [],
   "source": []
  },
  {
   "cell_type": "markdown",
   "metadata": {
    "colab_type": "text",
    "id": "lohMKb4mEEWz"
   },
   "source": [
    "Make a 2d scatter plot using the aggregated dataframe.  Use the `winner_x` & `winner_y` as the axes.  Size by the number of observations belonging to each winner."
   ]
  },
  {
   "cell_type": "code",
   "execution_count": null,
   "metadata": {
    "colab": {
     "base_uri": "https://localhost:8080/",
     "height": 542
    },
    "colab_type": "code",
    "id": "sR7WQm2b-eSy",
    "outputId": "7a5b5de7-9485-47c8-e7b0-b692cd1fc2d9"
   },
   "outputs": [],
   "source": []
  },
  {
   "cell_type": "markdown",
   "metadata": {
    "colab_type": "text",
    "id": "eBcQ075LEROn"
   },
   "source": [
    "Make a 3d scatter plot of the original data and color by the `winner_id`.  Do the groupings make sense?"
   ]
  },
  {
   "cell_type": "code",
   "execution_count": null,
   "metadata": {
    "colab": {
     "base_uri": "https://localhost:8080/",
     "height": 542
    },
    "colab_type": "code",
    "id": "KmI9d_KlEXqU",
    "outputId": "6bb476ba-ee88-49f9-c8de-b2cd3d6cf15a"
   },
   "outputs": [],
   "source": []
  },
  {
   "cell_type": "markdown",
   "metadata": {
    "colab_type": "text",
    "id": "yiRZxCC8A-Mp"
   },
   "source": [
    "We can plot the weight vectors in our higher dimensional space as well, but this gets pretty busy.  It could be prettied up with more complex pre-processing."
   ]
  },
  {
   "cell_type": "code",
   "execution_count": null,
   "metadata": {
    "colab": {
     "base_uri": "https://localhost:8080/",
     "height": 542
    },
    "colab_type": "code",
    "id": "S3zhjkqU_Tcg",
    "outputId": "ff83da5f-1096-4673-d514-ca4e382a933f"
   },
   "outputs": [],
   "source": [
    "weight_df = pd.DataFrame(weights.reshape(9, n_cols))\n",
    "weight_df.columns = [f\"x{i}\" for i in range(n_cols)]\n",
    "weight_df[\"winner_id\"] = \"weight_vector\"\n",
    "\n",
    "plot_df = pd.concat((df, weight_df), sort=False)\n",
    "\n",
    "plot_df[\"type\"] = plot_df[\"winner_id\"]\n",
    "plot_df.loc[plot_df[\"type\"] != \"weight_vector\", \"type\"] = \"observation\"\n",
    "plot_df[\"size\"] = plot_df[\"type\"].replace({\"weight_vector\": 5, \"observation\": 15})\n",
    "\n",
    "px.scatter_3d(plot_df, \"x0\", \"x1\", \"x2\", color=\"winner_id\", symbol=\"type\", size=\"size\")"
   ]
  }
 ],
 "metadata": {
  "colab": {
   "collapsed_sections": [],
   "name": "som_intro_example.ipynb",
   "provenance": []
  },
  "kernelspec": {
   "display_name": "Python 3",
   "language": "python",
   "name": "python3"
  },
  "language_info": {
   "codemirror_mode": {
    "name": "ipython",
    "version": 3
   },
   "file_extension": ".py",
   "mimetype": "text/x-python",
   "name": "python",
   "nbconvert_exporter": "python",
   "pygments_lexer": "ipython3",
   "version": "3.7.7"
  }
 },
 "nbformat": 4,
 "nbformat_minor": 1
}
