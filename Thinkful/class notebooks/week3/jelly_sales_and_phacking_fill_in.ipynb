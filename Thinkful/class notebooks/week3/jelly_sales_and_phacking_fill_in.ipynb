{
 "cells": [
  {
   "cell_type": "markdown",
   "metadata": {},
   "source": [
    "# The setup\n",
    "\n",
    "* You are a data scientist at a luxury jelly e-commerce retailer. In hopes of generating a recurring revenue stream, the retailer has decided to roll out a “Jelly of the Month Club.”\n",
    "* The retailer is testing whether introducing a testimonial from Clark Griswold on the sidebar of the webpage will increase conversions to the Jelly of the Month Club.\n",
    "* We will also test to see if, during the experiment, purchase amount increased due to the sidebar testimonial.\n",
    "\n",
    "<img src='https://i0.wp.com/scng-dash.digitalfirstmedia.com/wp-content/uploads/2019/11/LDN-L-CHEVYCHASE-1124-02.jpg?fit=620%2C9999px&ssl=1' width='20%'>\n",
    "<center>\"I love this luxury jelly\" - Clark Griswold... prolly</center>"
   ]
  },
  {
   "cell_type": "markdown",
   "metadata": {},
   "source": [
    "## Read/inspect the data\n",
    "\n",
    "Also define our handy 95% confidence interval function for later use."
   ]
  },
  {
   "cell_type": "code",
   "execution_count": 2,
   "metadata": {},
   "outputs": [
    {
     "data": {
      "application/javascript": [
       "\n",
       "            setTimeout(function() {\n",
       "                var nbb_cell_id = 2;\n",
       "                var nbb_unformatted_code = \"%load_ext nb_black\";\n",
       "                var nbb_formatted_code = \"%load_ext nb_black\";\n",
       "                var nbb_cells = Jupyter.notebook.get_cells();\n",
       "                for (var i = 0; i < nbb_cells.length; ++i) {\n",
       "                    if (nbb_cells[i].input_prompt_number == nbb_cell_id) {\n",
       "                        if (nbb_cells[i].get_text() == nbb_unformatted_code) {\n",
       "                             nbb_cells[i].set_text(nbb_formatted_code);\n",
       "                        }\n",
       "                        break;\n",
       "                    }\n",
       "                }\n",
       "            }, 500);\n",
       "            "
      ],
      "text/plain": [
       "<IPython.core.display.Javascript object>"
      ]
     },
     "metadata": {},
     "output_type": "display_data"
    }
   ],
   "source": [
    "%load_ext nb_black"
   ]
  },
  {
   "cell_type": "code",
   "execution_count": 3,
   "metadata": {},
   "outputs": [
    {
     "data": {
      "text/html": [
       "<div>\n",
       "<style scoped>\n",
       "    .dataframe tbody tr th:only-of-type {\n",
       "        vertical-align: middle;\n",
       "    }\n",
       "\n",
       "    .dataframe tbody tr th {\n",
       "        vertical-align: top;\n",
       "    }\n",
       "\n",
       "    .dataframe thead th {\n",
       "        text-align: right;\n",
       "    }\n",
       "</style>\n",
       "<table border=\"1\" class=\"dataframe\">\n",
       "  <thead>\n",
       "    <tr style=\"text-align: right;\">\n",
       "      <th></th>\n",
       "      <th>trans_id</th>\n",
       "      <th>group</th>\n",
       "      <th>cart_amount</th>\n",
       "      <th>convert</th>\n",
       "    </tr>\n",
       "  </thead>\n",
       "  <tbody>\n",
       "    <tr>\n",
       "      <th>0</th>\n",
       "      <td>176890</td>\n",
       "      <td>treatment</td>\n",
       "      <td>49.46</td>\n",
       "      <td>1</td>\n",
       "    </tr>\n",
       "    <tr>\n",
       "      <th>1</th>\n",
       "      <td>443058</td>\n",
       "      <td>treatment</td>\n",
       "      <td>49.34</td>\n",
       "      <td>1</td>\n",
       "    </tr>\n",
       "    <tr>\n",
       "      <th>2</th>\n",
       "      <td>827633</td>\n",
       "      <td>treatment</td>\n",
       "      <td>44.08</td>\n",
       "      <td>1</td>\n",
       "    </tr>\n",
       "    <tr>\n",
       "      <th>3</th>\n",
       "      <td>277331</td>\n",
       "      <td>treatment</td>\n",
       "      <td>47.16</td>\n",
       "      <td>1</td>\n",
       "    </tr>\n",
       "    <tr>\n",
       "      <th>4</th>\n",
       "      <td>843324</td>\n",
       "      <td>treatment</td>\n",
       "      <td>44.19</td>\n",
       "      <td>1</td>\n",
       "    </tr>\n",
       "  </tbody>\n",
       "</table>\n",
       "</div>"
      ],
      "text/plain": [
       "   trans_id      group  cart_amount  convert\n",
       "0    176890  treatment        49.46        1\n",
       "1    443058  treatment        49.34        1\n",
       "2    827633  treatment        44.08        1\n",
       "3    277331  treatment        47.16        1\n",
       "4    843324  treatment        44.19        1"
      ]
     },
     "execution_count": 3,
     "metadata": {},
     "output_type": "execute_result"
    },
    {
     "data": {
      "application/javascript": [
       "\n",
       "            setTimeout(function() {\n",
       "                var nbb_cell_id = 3;\n",
       "                var nbb_unformatted_code = \"import pandas as pd\\nimport numpy as np\\nimport scipy.stats as stats\\nimport statsmodels.stats.proportion as proportion\\nfrom statsmodels.stats.weightstats import CompareMeans\\nimport matplotlib.pyplot as plt\\n%matplotlib inline\\n\\n\\ndef get_95_ci(x1, x2):\\n    \\\"\\\"\\\"Calculate a 95% CI for 2 1d numpy arrays\\\"\\\"\\\"\\n    signal = x1.mean() - x2.mean()\\n    noise = np.sqrt(x1.std()**2 / len(x1) + x2.std()**2 / len(x2))\\n\\n    ci_lower_bound = signal - 1.96 * noise\\n    ci_upper_bound = signal + 1.96 * noise\\n\\n    return (ci_lower_bound, ci_upper_bound)\\n\\n\\n# Below package is needed for pandas.read_excel()\\n# !pip3 install xlrd\\ndata_url = 'https://tf-assets-prod.s3.amazonaws.com/tf-curric/data-science/a-b-testing-drill-start-06-14-19.xlsx'\\ndf = pd.read_excel(data_url)\\ndf.head()\";\n",
       "                var nbb_formatted_code = \"import pandas as pd\\nimport numpy as np\\nimport scipy.stats as stats\\nimport statsmodels.stats.proportion as proportion\\nfrom statsmodels.stats.weightstats import CompareMeans\\nimport matplotlib.pyplot as plt\\n\\n%matplotlib inline\\n\\n\\ndef get_95_ci(x1, x2):\\n    \\\"\\\"\\\"Calculate a 95% CI for 2 1d numpy arrays\\\"\\\"\\\"\\n    signal = x1.mean() - x2.mean()\\n    noise = np.sqrt(x1.std() ** 2 / len(x1) + x2.std() ** 2 / len(x2))\\n\\n    ci_lower_bound = signal - 1.96 * noise\\n    ci_upper_bound = signal + 1.96 * noise\\n\\n    return (ci_lower_bound, ci_upper_bound)\\n\\n\\n# Below package is needed for pandas.read_excel()\\n# !pip3 install xlrd\\ndata_url = \\\"https://tf-assets-prod.s3.amazonaws.com/tf-curric/data-science/a-b-testing-drill-start-06-14-19.xlsx\\\"\\ndf = pd.read_excel(data_url)\\ndf.head()\";\n",
       "                var nbb_cells = Jupyter.notebook.get_cells();\n",
       "                for (var i = 0; i < nbb_cells.length; ++i) {\n",
       "                    if (nbb_cells[i].input_prompt_number == nbb_cell_id) {\n",
       "                        if (nbb_cells[i].get_text() == nbb_unformatted_code) {\n",
       "                             nbb_cells[i].set_text(nbb_formatted_code);\n",
       "                        }\n",
       "                        break;\n",
       "                    }\n",
       "                }\n",
       "            }, 500);\n",
       "            "
      ],
      "text/plain": [
       "<IPython.core.display.Javascript object>"
      ]
     },
     "metadata": {},
     "output_type": "display_data"
    }
   ],
   "source": [
    "import pandas as pd\n",
    "import numpy as np\n",
    "import scipy.stats as stats\n",
    "import statsmodels.stats.proportion as proportion\n",
    "from statsmodels.stats.weightstats import CompareMeans\n",
    "import matplotlib.pyplot as plt\n",
    "\n",
    "%matplotlib inline\n",
    "\n",
    "\n",
    "def get_95_ci(x1, x2):\n",
    "    \"\"\"Calculate a 95% CI for 2 1d numpy arrays\"\"\"\n",
    "    signal = x1.mean() - x2.mean()\n",
    "    noise = np.sqrt(x1.std() ** 2 / len(x1) + x2.std() ** 2 / len(x2))\n",
    "\n",
    "    ci_lower_bound = signal - 1.96 * noise\n",
    "    ci_upper_bound = signal + 1.96 * noise\n",
    "\n",
    "    return (ci_lower_bound, ci_upper_bound)\n",
    "\n",
    "\n",
    "# Below package is needed for pandas.read_excel()\n",
    "# !pip3 install xlrd\n",
    "data_url = \"https://tf-assets-prod.s3.amazonaws.com/tf-curric/data-science/a-b-testing-drill-start-06-14-19.xlsx\"\n",
    "df = pd.read_excel(data_url)\n",
    "df.head()"
   ]
  },
  {
   "cell_type": "markdown",
   "metadata": {},
   "source": [
    "## Test for treatment's effect on `'cart_amount'`"
   ]
  },
  {
   "cell_type": "markdown",
   "metadata": {},
   "source": [
    "For our analysis, let's separate the 2 groups into 2 separate DataFrames.  Do this filtering below."
   ]
  },
  {
   "cell_type": "code",
   "execution_count": 4,
   "metadata": {},
   "outputs": [
    {
     "data": {
      "application/javascript": [
       "\n",
       "            setTimeout(function() {\n",
       "                var nbb_cell_id = 4;\n",
       "                var nbb_unformatted_code = \"treatment = df[df['group'] == 'treatment']\\ncontrol = df[df['group'] == 'control']\";\n",
       "                var nbb_formatted_code = \"treatment = df[df[\\\"group\\\"] == \\\"treatment\\\"]\\ncontrol = df[df[\\\"group\\\"] == \\\"control\\\"]\";\n",
       "                var nbb_cells = Jupyter.notebook.get_cells();\n",
       "                for (var i = 0; i < nbb_cells.length; ++i) {\n",
       "                    if (nbb_cells[i].input_prompt_number == nbb_cell_id) {\n",
       "                        if (nbb_cells[i].get_text() == nbb_unformatted_code) {\n",
       "                             nbb_cells[i].set_text(nbb_formatted_code);\n",
       "                        }\n",
       "                        break;\n",
       "                    }\n",
       "                }\n",
       "            }, 500);\n",
       "            "
      ],
      "text/plain": [
       "<IPython.core.display.Javascript object>"
      ]
     },
     "metadata": {},
     "output_type": "display_data"
    }
   ],
   "source": [
    "treatment = df[df[\"group\"] == \"treatment\"]\n",
    "control = df[df[\"group\"] == \"control\"]"
   ]
  },
  {
   "cell_type": "code",
   "execution_count": 2,
   "metadata": {},
   "outputs": [],
   "source": [
    "# Assumptions\n",
    "# Continuous?\n",
    "# Independent?\n",
    "# Random sample?\n",
    "# Reasonably large?\n",
    "\n"
   ]
  },
  {
   "cell_type": "markdown",
   "metadata": {},
   "source": [
    "### Using `scipy.stats.ttest_ind`"
   ]
  },
  {
   "cell_type": "markdown",
   "metadata": {},
   "source": [
    "Perform a t-test below using `stats.ttest_ind`.\n",
    "\n",
    "* What are the hypotheses?\n",
    "* What are the conclusions?\n",
    "* Calculate a 95% confidence interval."
   ]
  },
  {
   "cell_type": "code",
   "execution_count": 69,
   "metadata": {
    "scrolled": true
   },
   "outputs": [
    {
     "data": {
      "application/javascript": [
       "\n",
       "            setTimeout(function() {\n",
       "                var nbb_cell_id = 69;\n",
       "                var nbb_unformatted_code = \"test_statistic, p_value = stats.ttest_ind(\\n    treatment[\\\"cart_amount\\\"], control[\\\"cart_amount\\\"]\\n)\\nci_lo, ci_hi = get_95_ci(treatment[\\\"cart_amount\\\"], control[\\\"cart_amount\\\"])\";\n",
       "                var nbb_formatted_code = \"test_statistic, p_value = stats.ttest_ind(\\n    treatment[\\\"cart_amount\\\"], control[\\\"cart_amount\\\"]\\n)\\nci_lo, ci_hi = get_95_ci(treatment[\\\"cart_amount\\\"], control[\\\"cart_amount\\\"])\";\n",
       "                var nbb_cells = Jupyter.notebook.get_cells();\n",
       "                for (var i = 0; i < nbb_cells.length; ++i) {\n",
       "                    if (nbb_cells[i].input_prompt_number == nbb_cell_id) {\n",
       "                        if (nbb_cells[i].get_text() == nbb_unformatted_code) {\n",
       "                             nbb_cells[i].set_text(nbb_formatted_code);\n",
       "                        }\n",
       "                        break;\n",
       "                    }\n",
       "                }\n",
       "            }, 500);\n",
       "            "
      ],
      "text/plain": [
       "<IPython.core.display.Javascript object>"
      ]
     },
     "metadata": {},
     "output_type": "display_data"
    }
   ],
   "source": []
  },
  {
   "cell_type": "markdown",
   "metadata": {},
   "source": [
    "### Using `statsmodels.stats.weightstats.CompareMeans`\n",
    "\n",
    "As, with everything in python, we have multiple options on how to do anything.  The `statsmodels` package is another option for performing t-tests and calculating confidence intervals.\n",
    "\n",
    "Perform a t-test below using `statsmodels.stats.weightstats.CompareMeans` (this is already imported as `CompareMeans`)\n",
    "\n",
    "* What are the conclusions?\n",
    "* Calculate a 95% confidence interval using the resulting object."
   ]
  },
  {
   "cell_type": "code",
   "execution_count": 73,
   "metadata": {},
   "outputs": [
    {
     "name": "stdout",
     "output_type": "stream",
     "text": [
      "                          Test for equality of means                          \n",
      "==============================================================================\n",
      "                 coef    std err          t      P>|t|      [0.025      0.975]\n",
      "------------------------------------------------------------------------------\n",
      "subset #1      0.3201      0.112      2.850      0.004       0.100       0.540\n",
      "==============================================================================\n"
     ]
    },
    {
     "data": {
      "text/plain": [
       "(0.24432258305862492, 0.3958486725288503)"
      ]
     },
     "execution_count": 73,
     "metadata": {},
     "output_type": "execute_result"
    },
    {
     "data": {
      "application/javascript": [
       "\n",
       "            setTimeout(function() {\n",
       "                var nbb_cell_id = 73;\n",
       "                var nbb_unformatted_code = \"t_test = CompareMeans.from_data(treatment[\\\"cart_amount\\\"], control[\\\"cart_amount\\\"])\\nci_lo, ci_hi = t_test.tconfint_diff(alpha=0.5)\\n\\nprint(t_test.summary())\\n(ci_lo, ci_hi)\";\n",
       "                var nbb_formatted_code = \"t_test = CompareMeans.from_data(treatment[\\\"cart_amount\\\"], control[\\\"cart_amount\\\"])\\nci_lo, ci_hi = t_test.tconfint_diff(alpha=0.5)\\n\\nprint(t_test.summary())\\n(ci_lo, ci_hi)\";\n",
       "                var nbb_cells = Jupyter.notebook.get_cells();\n",
       "                for (var i = 0; i < nbb_cells.length; ++i) {\n",
       "                    if (nbb_cells[i].input_prompt_number == nbb_cell_id) {\n",
       "                        if (nbb_cells[i].get_text() == nbb_unformatted_code) {\n",
       "                             nbb_cells[i].set_text(nbb_formatted_code);\n",
       "                        }\n",
       "                        break;\n",
       "                    }\n",
       "                }\n",
       "            }, 500);\n",
       "            "
      ],
      "text/plain": [
       "<IPython.core.display.Javascript object>"
      ]
     },
     "metadata": {},
     "output_type": "display_data"
    }
   ],
   "source": [
    "t_test = CompareMeans.from_data(____)\n",
    "ci_lo, ci_hi = ____"
   ]
  },
  {
   "cell_type": "markdown",
   "metadata": {},
   "source": [
    "## Test for treatment's effect on `'convert'`"
   ]
  },
  {
   "cell_type": "code",
   "execution_count": 3,
   "metadata": {
    "scrolled": false
   },
   "outputs": [],
   "source": [
    "# Assumptions\n",
    "# Continuous?\n",
    "# Independent?\n",
    "# Random sample?\n",
    "# Reasonably large?"
   ]
  },
  {
   "cell_type": "markdown",
   "metadata": {},
   "source": [
    "We failed to meet the assumptions.  There's another test we can do that was mentioned in the reading.\n",
    "\n",
    "\n",
    "From the reading:\n",
    "> Because the sample is a proportion, we know more about their distributions than the t-test assumes. Specifically, the distribution of the mean is normal, meaning we could use something called a two sample proportional z-test. We haven't covered this test yet, but you can read about it [here](https://newonlinecourses.science.psu.edu/stat414/node/268/). Find a python implementation for this test and go back and revise our testing. What difference does our new test make?\n",
    "\n",
    "We'll use [`proportions_ztest`](https://www.statsmodels.org/stable/generated/statsmodels.stats.proportion.proportions_ztest.html) from `statsmodels`.  Below is a snippet from the documentation.\n",
    "\n",
    "> ```\n",
    "> Parameters\n",
    "> ----------\n",
    "> count : integer or array_like\n",
    ">     the number of successes in nobs trials. If this is array_like, then\n",
    ">     the assumption is that this represents the number of successes for\n",
    ">     each independent sample\n",
    "> nobs : integer or array-like\n",
    ">     the number of trials or observations, with the same length as\n",
    ">     count.\n",
    "> ```"
   ]
  },
  {
   "cell_type": "markdown",
   "metadata": {},
   "source": [
    "Our hypotheses are listed below:\n",
    "\n",
    "* $H_o$: The 2 proportions are the same\n",
    "* $H_a$: The 2 proportions are not the same\n",
    "\n",
    "What proportions? We'll use the proportions of `group_num_converted` / `group_total`.  One way we can find these numbers is using `pd.crosstab` with the `margins` argument."
   ]
  },
  {
   "cell_type": "code",
   "execution_count": 14,
   "metadata": {},
   "outputs": [
    {
     "data": {
      "text/html": [
       "<div>\n",
       "<style scoped>\n",
       "    .dataframe tbody tr th:only-of-type {\n",
       "        vertical-align: middle;\n",
       "    }\n",
       "\n",
       "    .dataframe tbody tr th {\n",
       "        vertical-align: top;\n",
       "    }\n",
       "\n",
       "    .dataframe thead th {\n",
       "        text-align: right;\n",
       "    }\n",
       "</style>\n",
       "<table border=\"1\" class=\"dataframe\">\n",
       "  <thead>\n",
       "    <tr style=\"text-align: right;\">\n",
       "      <th>convert</th>\n",
       "      <th>0</th>\n",
       "      <th>1</th>\n",
       "      <th>All</th>\n",
       "    </tr>\n",
       "    <tr>\n",
       "      <th>group</th>\n",
       "      <th></th>\n",
       "      <th></th>\n",
       "      <th></th>\n",
       "    </tr>\n",
       "  </thead>\n",
       "  <tbody>\n",
       "    <tr>\n",
       "      <th>control</th>\n",
       "      <td>804</td>\n",
       "      <td>42</td>\n",
       "      <td>846</td>\n",
       "    </tr>\n",
       "    <tr>\n",
       "      <th>treatment</th>\n",
       "      <td>884</td>\n",
       "      <td>50</td>\n",
       "      <td>934</td>\n",
       "    </tr>\n",
       "    <tr>\n",
       "      <th>All</th>\n",
       "      <td>1688</td>\n",
       "      <td>92</td>\n",
       "      <td>1780</td>\n",
       "    </tr>\n",
       "  </tbody>\n",
       "</table>\n",
       "</div>"
      ],
      "text/plain": [
       "convert       0   1   All\n",
       "group                    \n",
       "control     804  42   846\n",
       "treatment   884  50   934\n",
       "All        1688  92  1780"
      ]
     },
     "execution_count": 14,
     "metadata": {},
     "output_type": "execute_result"
    },
    {
     "data": {
      "application/javascript": [
       "\n",
       "            setTimeout(function() {\n",
       "                var nbb_cell_id = 14;\n",
       "                var nbb_unformatted_code = \"crosstab = pd.crosstab(df['group'], df['convert'], margins=True)\\ncrosstab\";\n",
       "                var nbb_formatted_code = \"crosstab = pd.crosstab(df[\\\"group\\\"], df[\\\"convert\\\"], margins=True)\\ncrosstab\";\n",
       "                var nbb_cells = Jupyter.notebook.get_cells();\n",
       "                for (var i = 0; i < nbb_cells.length; ++i) {\n",
       "                    if (nbb_cells[i].input_prompt_number == nbb_cell_id) {\n",
       "                        if (nbb_cells[i].get_text() == nbb_unformatted_code) {\n",
       "                             nbb_cells[i].set_text(nbb_formatted_code);\n",
       "                        }\n",
       "                        break;\n",
       "                    }\n",
       "                }\n",
       "            }, 500);\n",
       "            "
      ],
      "text/plain": [
       "<IPython.core.display.Javascript object>"
      ]
     },
     "metadata": {},
     "output_type": "display_data"
    }
   ],
   "source": []
  },
  {
   "cell_type": "markdown",
   "metadata": {},
   "source": [
    "The `proportions_ztest()` function takes 2 arguments of interest.  These are `count` & `nobs`.\n",
    "\n",
    "* For `count` we want the first 2 rows of the column `1`.\n",
    "* For `nobs` we want the first 2 rows of the column `'All'`.\n",
    "\n",
    "Perform the needed subsetting of the crosstab below:"
   ]
  },
  {
   "cell_type": "code",
   "execution_count": 53,
   "metadata": {},
   "outputs": [
    {
     "name": "stdout",
     "output_type": "stream",
     "text": [
      "group\n",
      "control      42\n",
      "treatment    50\n",
      "Name: 1, dtype: int64\n",
      "\n",
      "-----------------------\n",
      "\n",
      "group\n",
      "control      846\n",
      "treatment    934\n",
      "Name: All, dtype: int64\n"
     ]
    },
    {
     "data": {
      "application/javascript": [
       "\n",
       "            setTimeout(function() {\n",
       "                var nbb_cell_id = 53;\n",
       "                var nbb_unformatted_code = \"count = crosstab.loc[[\\\"control\\\", \\\"treatment\\\"], 1]\\nnobs = crosstab.loc[[\\\"control\\\", \\\"treatment\\\"], \\\"All\\\"]\\n\\nprint(count)\\nprint(\\\"\\\\n-----------------------\\\\n\\\")\\nprint(nobs)\";\n",
       "                var nbb_formatted_code = \"count = crosstab.loc[[\\\"control\\\", \\\"treatment\\\"], 1]\\nnobs = crosstab.loc[[\\\"control\\\", \\\"treatment\\\"], \\\"All\\\"]\\n\\nprint(count)\\nprint(\\\"\\\\n-----------------------\\\\n\\\")\\nprint(nobs)\";\n",
       "                var nbb_cells = Jupyter.notebook.get_cells();\n",
       "                for (var i = 0; i < nbb_cells.length; ++i) {\n",
       "                    if (nbb_cells[i].input_prompt_number == nbb_cell_id) {\n",
       "                        if (nbb_cells[i].get_text() == nbb_unformatted_code) {\n",
       "                             nbb_cells[i].set_text(nbb_formatted_code);\n",
       "                        }\n",
       "                        break;\n",
       "                    }\n",
       "                }\n",
       "            }, 500);\n",
       "            "
      ],
      "text/plain": [
       "<IPython.core.display.Javascript object>"
      ]
     },
     "metadata": {},
     "output_type": "display_data"
    }
   ],
   "source": [
    "count = ____\n",
    "nobs = ____\n",
    "\n",
    "print(count)\n",
    "print(\"\\n-----------------------\\n\")\n",
    "print(nobs)"
   ]
  },
  {
   "cell_type": "markdown",
   "metadata": {},
   "source": [
    "Run the `proportions_ztest`.  What do we conclude in reference to our hypotheses?"
   ]
  },
  {
   "cell_type": "code",
   "execution_count": 54,
   "metadata": {},
   "outputs": [
    {
     "data": {
      "text/plain": [
       "0.7113883723113998"
      ]
     },
     "execution_count": 54,
     "metadata": {},
     "output_type": "execute_result"
    },
    {
     "data": {
      "application/javascript": [
       "\n",
       "            setTimeout(function() {\n",
       "                var nbb_cell_id = 54;\n",
       "                var nbb_unformatted_code = \"z, p_value = proportion.proportions_ztest(count=count, nobs=nobs)\\np_value\";\n",
       "                var nbb_formatted_code = \"z, p_value = proportion.proportions_ztest(count=count, nobs=nobs)\\np_value\";\n",
       "                var nbb_cells = Jupyter.notebook.get_cells();\n",
       "                for (var i = 0; i < nbb_cells.length; ++i) {\n",
       "                    if (nbb_cells[i].input_prompt_number == nbb_cell_id) {\n",
       "                        if (nbb_cells[i].get_text() == nbb_unformatted_code) {\n",
       "                             nbb_cells[i].set_text(nbb_formatted_code);\n",
       "                        }\n",
       "                        break;\n",
       "                    }\n",
       "                }\n",
       "            }, 500);\n",
       "            "
      ],
      "text/plain": [
       "<IPython.core.display.Javascript object>"
      ]
     },
     "metadata": {},
     "output_type": "display_data"
    }
   ],
   "source": []
  },
  {
   "cell_type": "markdown",
   "metadata": {},
   "source": [
    "More on proportions z-test:\n",
    "\n",
    "* [Nice intro walkthrough](https://www.youtube.com/watch?v=_58qBy9Uxks)\n",
    "* [\"Use and misuse\"](https://influentialpoints.com/Training/z-test_for_independent_proportions_use_and_misuse.htm)\n",
    "* [Python walkthrough](http://ethen8181.github.io/machine-learning/ab_tests/frequentist_ab_test.html#Comparing-Two-Proportions)"
   ]
  },
  {
   "cell_type": "markdown",
   "metadata": {},
   "source": [
    "Another potential test is [`proportions_chisquare`](https://www.statsmodels.org/stable/generated/statsmodels.stats.proportion.proportions_chisquare.html) from `statsmodels`.  It takes the same arguments.  Below is an excerpt of documentation from `proportions_ztest`.\n",
    "\n",
    "> In the one and two sample cases with two-sided alternative, this test produces the same p-value as proportions_chisquare, since the chisquare is the distribution of the square of a standard normal distribution.\n",
    "\n",
    "So in this case, these 2 functions should function the same."
   ]
  },
  {
   "cell_type": "code",
   "execution_count": 56,
   "metadata": {},
   "outputs": [
    {
     "data": {
      "text/plain": [
       "0.7113883723113994"
      ]
     },
     "execution_count": 56,
     "metadata": {},
     "output_type": "execute_result"
    },
    {
     "data": {
      "application/javascript": [
       "\n",
       "            setTimeout(function() {\n",
       "                var nbb_cell_id = 56;\n",
       "                var nbb_unformatted_code = \"chi2, p_value, expected = proportion.proportions_chisquare(count=count, nobs=nobs)\\np_value\";\n",
       "                var nbb_formatted_code = \"chi2, p_value, expected = proportion.proportions_chisquare(count=count, nobs=nobs)\\np_value\";\n",
       "                var nbb_cells = Jupyter.notebook.get_cells();\n",
       "                for (var i = 0; i < nbb_cells.length; ++i) {\n",
       "                    if (nbb_cells[i].input_prompt_number == nbb_cell_id) {\n",
       "                        if (nbb_cells[i].get_text() == nbb_unformatted_code) {\n",
       "                             nbb_cells[i].set_text(nbb_formatted_code);\n",
       "                        }\n",
       "                        break;\n",
       "                    }\n",
       "                }\n",
       "            }, 500);\n",
       "            "
      ],
      "text/plain": [
       "<IPython.core.display.Javascript object>"
      ]
     },
     "metadata": {},
     "output_type": "display_data"
    }
   ],
   "source": [
    "chi2, p_value, expected = proportion.proportions_chisquare(count=count, nobs=nobs)\n",
    "p_value"
   ]
  },
  {
   "cell_type": "markdown",
   "metadata": {},
   "source": [
    "Below slide from [lecture slides for psych10 at Stanford](https://web.stanford.edu/class/psych10/schedule/P10_W7L1)\n",
    "\n",
    "<img src='https://i.imgur.com/PeglqlG.png' width='50%'>"
   ]
  },
  {
   "cell_type": "markdown",
   "metadata": {},
   "source": [
    "# Let's p-hack!"
   ]
  },
  {
   "cell_type": "markdown",
   "metadata": {},
   "source": [
    "## First, let's go over the theory behind it\n",
    "\n",
    "### Sample size and the t statistic\n",
    "\n",
    "In a t-test, the p value is directly related to t statistic.  As t increases, p decreases.  The definition of t is below."
   ]
  },
  {
   "cell_type": "markdown",
   "metadata": {},
   "source": [
    "$$t = \\frac{signal}{noise} = \\frac{\\overline{x}_{1}-\\overline{x}_{2}}{\\sqrt{\\frac{s_{1}^{2}}{n_{1}}+\\frac{s_{2}^{2}}{n_{2}}}}$$"
   ]
  },
  {
   "cell_type": "markdown",
   "metadata": {},
   "source": [
    "The denominator (aka $noise$) is the component that is affected by sample size.  The intuition behind this is that as your sample increases you should be drowning out the 'noisy' observations and the result is less noise overall.\n",
    "\n",
    "This means as as `n` increases, our denominator decreases.  In fractions/division, when we hold the numerator constant and the denominator gets smaller, the result gets larger (e.g. $\\frac{1}{4} = 0.25$ & $\\frac{1}{2} = 0.5$).\n",
    "\n",
    "All of this builds up to... our t statistic will get larger as `n` increases (assuming everything else stays relatively the same)."
   ]
  },
  {
   "cell_type": "code",
   "execution_count": 62,
   "metadata": {},
   "outputs": [
    {
     "name": "stdout",
     "output_type": "stream",
     "text": [
      "For n=   10, t is  1.58, p is 0.13126\n",
      "For n=   50, t is  3.54, p is 0.00062\n",
      "For n=  100, t is  5.00, p is 0.00000\n",
      "For n=  500, t is 11.18, p is 0.00000\n",
      "For n= 1000, t is 15.81, p is 0.00000\n",
      "For n= 5000, t is 35.36, p is 0.00000\n"
     ]
    },
    {
     "data": {
      "application/javascript": [
       "\n",
       "            setTimeout(function() {\n",
       "                var nbb_cell_id = 62;\n",
       "                var nbb_unformatted_code = \"plot = False\\nnp.random.seed(42)\\n\\nmean_x1 = 11\\nmean_x2 = 10\\nstd_x1 = 2\\nstd_x2 = 2\\n\\nns = [10, 50, 100, 500, 1000, 5000]\\nfor n in ns:\\n    signal = mean_x1 - mean_x2\\n    noise = np.sqrt(std_x1 / n + std_x2 / n)\\n\\n    t = signal / noise\\n    p = stats.t.sf(np.abs(t), 2 * n - 2) * 2\\n\\n    # Formatting for {n:5} signifies fixed width of 5\\n    # Formatting for {t:5.2f} signifies fixed width of 5 and show 2 decimal places\\n    # See this resource for more on formatting: http://zetcode.com/python/fstring/\\n    print(f\\\"For n={n:5}, t is {t:5.2f}, p is {p:5.5f}\\\")\\n    \\n    if plot:\\n        # Adding samples with corresponding loc/scale\\n        # The sample mean's will vary from the actual\\n        # ones used in the ttest\\n        # The mean being tests\\n        sample_1 = np.random.normal(mean_x1, std_x1, n)\\n        sample_2 = np.random.normal(mean_x1, std_x1, n)\\n\\n        # Plot samples with lines for mean as is\\n        plt.hist(sample_1, alpha=0.5, bins=10, fill=\\\"blue\\\")\\n        plt.hist(sample_2, alpha=0.5, bins=10, fill=\\\"orange\\\")\\n        plt.axvline(sample_1.mean(), c=\\\"blue\\\", ls=\\\"--\\\", label=\\\"actual mean sample x1\\\")\\n        plt.axvline(sample_2.mean(), c=\\\"orange\\\", ls=\\\"--\\\", label=\\\"actual mean sample x2\\\")\\n\\n        # Add lines for mean used in ttest\\n        plt.axvline(mean_x1, c=\\\"blue\\\", label=\\\"mean x1 in ttest\\\")\\n        plt.axvline(mean_x2, c=\\\"orange\\\", label=\\\"mean x2 in ttest\\\")\\n        plt.legend(loc=\\\"upper right\\\")\\n        plt.show()\";\n",
       "                var nbb_formatted_code = \"plot = False\\nnp.random.seed(42)\\n\\nmean_x1 = 11\\nmean_x2 = 10\\nstd_x1 = 2\\nstd_x2 = 2\\n\\nns = [10, 50, 100, 500, 1000, 5000]\\nfor n in ns:\\n    signal = mean_x1 - mean_x2\\n    noise = np.sqrt(std_x1 / n + std_x2 / n)\\n\\n    t = signal / noise\\n    p = stats.t.sf(np.abs(t), 2 * n - 2) * 2\\n\\n    # Formatting for {n:5} signifies fixed width of 5\\n    # Formatting for {t:5.2f} signifies fixed width of 5 and show 2 decimal places\\n    # See this resource for more on formatting: http://zetcode.com/python/fstring/\\n    print(f\\\"For n={n:5}, t is {t:5.2f}, p is {p:5.5f}\\\")\\n\\n    if plot:\\n        # Adding samples with corresponding loc/scale\\n        # The sample mean's will vary from the actual\\n        # ones used in the ttest\\n        # The mean being tests\\n        sample_1 = np.random.normal(mean_x1, std_x1, n)\\n        sample_2 = np.random.normal(mean_x1, std_x1, n)\\n\\n        # Plot samples with lines for mean as is\\n        plt.hist(sample_1, alpha=0.5, bins=10, fill=\\\"blue\\\")\\n        plt.hist(sample_2, alpha=0.5, bins=10, fill=\\\"orange\\\")\\n        plt.axvline(sample_1.mean(), c=\\\"blue\\\", ls=\\\"--\\\", label=\\\"actual mean sample x1\\\")\\n        plt.axvline(sample_2.mean(), c=\\\"orange\\\", ls=\\\"--\\\", label=\\\"actual mean sample x2\\\")\\n\\n        # Add lines for mean used in ttest\\n        plt.axvline(mean_x1, c=\\\"blue\\\", label=\\\"mean x1 in ttest\\\")\\n        plt.axvline(mean_x2, c=\\\"orange\\\", label=\\\"mean x2 in ttest\\\")\\n        plt.legend(loc=\\\"upper right\\\")\\n        plt.show()\";\n",
       "                var nbb_cells = Jupyter.notebook.get_cells();\n",
       "                for (var i = 0; i < nbb_cells.length; ++i) {\n",
       "                    if (nbb_cells[i].input_prompt_number == nbb_cell_id) {\n",
       "                        if (nbb_cells[i].get_text() == nbb_unformatted_code) {\n",
       "                             nbb_cells[i].set_text(nbb_formatted_code);\n",
       "                        }\n",
       "                        break;\n",
       "                    }\n",
       "                }\n",
       "            }, 500);\n",
       "            "
      ],
      "text/plain": [
       "<IPython.core.display.Javascript object>"
      ]
     },
     "metadata": {},
     "output_type": "display_data"
    }
   ],
   "source": [
    "plot = False\n",
    "np.random.seed(42)\n",
    "\n",
    "mean_x1 = 11\n",
    "mean_x2 = 10\n",
    "std_x1 = 2\n",
    "std_x2 = 2\n",
    "\n",
    "ns = [10, 50, 100, 500, 1000, 5000]\n",
    "for n in ns:\n",
    "    signal = mean_x1 - mean_x2\n",
    "    noise = np.sqrt(std_x1 / n + std_x2 / n)\n",
    "\n",
    "    t = signal / noise\n",
    "    p = stats.t.sf(np.abs(t), 2 * n - 2) * 2\n",
    "\n",
    "    # Formatting for {n:5} signifies fixed width of 5\n",
    "    # Formatting for {t:5.2f} signifies fixed width of 5 and show 2 decimal places\n",
    "    # See this resource for more on formatting: http://zetcode.com/python/fstring/\n",
    "    print(f\"For n={n:5}, t is {t:5.2f}, p is {p:5.5f}\")\n",
    "\n",
    "    if plot:\n",
    "        # Adding samples with corresponding loc/scale\n",
    "        # The sample mean's will vary from the actual\n",
    "        # ones used in the ttest\n",
    "        # The mean being tests\n",
    "        sample_1 = np.random.normal(mean_x1, std_x1, n)\n",
    "        sample_2 = np.random.normal(mean_x1, std_x1, n)\n",
    "\n",
    "        # Plot samples with lines for mean as is\n",
    "        plt.hist(sample_1, alpha=0.5, bins=10, fill=\"blue\")\n",
    "        plt.hist(sample_2, alpha=0.5, bins=10, fill=\"orange\")\n",
    "        plt.axvline(sample_1.mean(), c=\"blue\", ls=\"--\", label=\"actual mean sample x1\")\n",
    "        plt.axvline(sample_2.mean(), c=\"orange\", ls=\"--\", label=\"actual mean sample x2\")\n",
    "\n",
    "        # Add lines for mean used in ttest\n",
    "        plt.axvline(mean_x1, c=\"blue\", label=\"mean x1 in ttest\")\n",
    "        plt.axvline(mean_x2, c=\"orange\", label=\"mean x2 in ttest\")\n",
    "        plt.legend(loc=\"upper right\")\n",
    "        plt.show()"
   ]
  },
  {
   "cell_type": "markdown",
   "metadata": {},
   "source": [
    "### Sample size and the confidence interval\n",
    "\n",
    "The formula for a 95% confidence interval for our t-test is shown below.  Reason out what will happen to our confidence interval as sample size increases."
   ]
  },
  {
   "cell_type": "markdown",
   "metadata": {},
   "source": [
    "$$\\overline{X}_{1}-\\overline{X}_{2} \\pm 1.96 * {\\sqrt{\\frac{s_{1}^{2}}{n_{1}}+\\frac{s_{2}^{2}}{n_{2}}}}$$"
   ]
  },
  {
   "cell_type": "code",
   "execution_count": 61,
   "metadata": {},
   "outputs": [
    {
     "name": "stdout",
     "output_type": "stream",
     "text": [
      "For n=   10, CI is (-0.24,  2.24)\n",
      "For n=   50, CI is ( 0.45,  1.55)\n",
      "For n=  100, CI is ( 0.61,  1.39)\n",
      "For n=  500, CI is ( 0.82,  1.18)\n",
      "For n= 1000, CI is ( 0.88,  1.12)\n",
      "For n= 5000, CI is ( 0.94,  1.06)\n"
     ]
    },
    {
     "data": {
      "image/png": "[encoded data removed]",
      "text/plain": [
       "<Figure size 432x288 with 1 Axes>"
      ]
     },
     "metadata": {
      "needs_background": "light"
     },
     "output_type": "display_data"
    },
    {
     "data": {
      "application/javascript": [
       "\n",
       "            setTimeout(function() {\n",
       "                var nbb_cell_id = 61;\n",
       "                var nbb_unformatted_code = \"mean_x1 = 11\\nmean_x2 = 10\\nstd_x1 = 2\\nstd_x2 = 2\\n\\nns = [10, 50, 100, 500, 1000, 5000]\\nfor i, n in enumerate(ns):\\n    signal = mean_x1 - mean_x2\\n    noise = np.sqrt(std_x1 / n + std_x2 / n)\\n\\n    ci_lo = signal - 1.96 * noise\\n    ci_hi = signal + 1.96 * noise\\n\\n    # Formatting for {n:5} signifies fixed width of 5\\n    # Formatting for {ci_lo:5.2f} signifies fixed width of 5 and show 2 decimal places\\n    # Formatting for {ci_hi:5.2f} signifies fixed width of 5 and show 2 decimal places\\n    # See this resource for more on formatting: http://zetcode.com/python/fstring/\\n    print(f\\\"For n={n:5}, CI is ({ci_lo:5.2f}, {ci_hi:5.2f})\\\")\\n\\n    color = plt.cm.RdYlBu(i * 60)\\n    plt.hlines(len(ns) - i, ci_lo, ci_hi, colors=[color], label=f\\\"n={n}\\\")\\n\\nplt.yticks([])\\nplt.legend(loc=\\\"lower right\\\")\\nplt.show()\";\n",
       "                var nbb_formatted_code = \"mean_x1 = 11\\nmean_x2 = 10\\nstd_x1 = 2\\nstd_x2 = 2\\n\\nns = [10, 50, 100, 500, 1000, 5000]\\nfor i, n in enumerate(ns):\\n    signal = mean_x1 - mean_x2\\n    noise = np.sqrt(std_x1 / n + std_x2 / n)\\n\\n    ci_lo = signal - 1.96 * noise\\n    ci_hi = signal + 1.96 * noise\\n\\n    # Formatting for {n:5} signifies fixed width of 5\\n    # Formatting for {ci_lo:5.2f} signifies fixed width of 5 and show 2 decimal places\\n    # Formatting for {ci_hi:5.2f} signifies fixed width of 5 and show 2 decimal places\\n    # See this resource for more on formatting: http://zetcode.com/python/fstring/\\n    print(f\\\"For n={n:5}, CI is ({ci_lo:5.2f}, {ci_hi:5.2f})\\\")\\n\\n    color = plt.cm.RdYlBu(i * 60)\\n    plt.hlines(len(ns) - i, ci_lo, ci_hi, colors=[color], label=f\\\"n={n}\\\")\\n\\nplt.yticks([])\\nplt.legend(loc=\\\"lower right\\\")\\nplt.show()\";\n",
       "                var nbb_cells = Jupyter.notebook.get_cells();\n",
       "                for (var i = 0; i < nbb_cells.length; ++i) {\n",
       "                    if (nbb_cells[i].input_prompt_number == nbb_cell_id) {\n",
       "                        if (nbb_cells[i].get_text() == nbb_unformatted_code) {\n",
       "                             nbb_cells[i].set_text(nbb_formatted_code);\n",
       "                        }\n",
       "                        break;\n",
       "                    }\n",
       "                }\n",
       "            }, 500);\n",
       "            "
      ],
      "text/plain": [
       "<IPython.core.display.Javascript object>"
      ]
     },
     "metadata": {},
     "output_type": "display_data"
    }
   ],
   "source": [
    "mean_x1 = 11\n",
    "mean_x2 = 10\n",
    "std_x1 = 2\n",
    "std_x2 = 2\n",
    "\n",
    "ns = [10, 50, 100, 500, 1000, 5000]\n",
    "for i, n in enumerate(ns):\n",
    "    signal = mean_x1 - mean_x2\n",
    "    noise = np.sqrt(std_x1 / n + std_x2 / n)\n",
    "\n",
    "    ci_lo = signal - 1.96 * noise\n",
    "    ci_hi = signal + 1.96 * noise\n",
    "\n",
    "    # Formatting for {n:5} signifies fixed width of 5\n",
    "    # Formatting for {ci_lo:5.2f} signifies fixed width of 5 and show 2 decimal places\n",
    "    # Formatting for {ci_hi:5.2f} signifies fixed width of 5 and show 2 decimal places\n",
    "    # See this resource for more on formatting: http://zetcode.com/python/fstring/\n",
    "    print(f\"For n={n:5}, CI is ({ci_lo:5.2f}, {ci_hi:5.2f})\")\n",
    "\n",
    "    color = plt.cm.RdYlBu(i * 60)\n",
    "    plt.hlines(len(ns) - i, ci_lo, ci_hi, colors=[color], label=f\"n={n}\")\n",
    "\n",
    "plt.yticks([])\n",
    "plt.legend(loc=\"lower right\")\n",
    "plt.show()"
   ]
  }
 ],
 "metadata": {
  "kernelspec": {
   "display_name": "Python 3",
   "language": "python",
   "name": "python3"
  },
  "language_info": {
   "codemirror_mode": {
    "name": "ipython",
    "version": 3
   },
   "file_extension": ".py",
   "mimetype": "text/x-python",
   "name": "python",
   "nbconvert_exporter": "python",
   "pygments_lexer": "ipython3",
   "version": "3.7.6"
  }
 },
 "nbformat": 4,
 "nbformat_minor": 2
}
