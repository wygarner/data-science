{
 "cells": [
  {
   "cell_type": "markdown",
   "metadata": {},
   "source": [
    "# Setup\n",
    "\n",
    "Is there a significant difference in the amount pledged between the Performances, Theater, and Music Kickstarter categories?"
   ]
  },
  {
   "cell_type": "code",
   "execution_count": null,
   "metadata": {},
   "outputs": [],
   "source": [
    "from sqlalchemy import create_engine\n",
    "import pandas as pd\n",
    "from scipy import stats\n",
    "from statsmodels.graphics.gofplots import qqplot\n",
    "from statsmodels.stats.multitest import multipletests\n",
    "import matplotlib.pyplot as plt\n",
    "\n",
    "\n",
    "# Read kickstarter data\n",
    "postgres_user = 'dsbc_student'\n",
    "postgres_pw = '7*.8G9QH21'\n",
    "postgres_host = '142.93.121.174'\n",
    "postgres_port = '5432'\n",
    "postgres_db = 'kickstarterprojects'\n",
    "\n",
    "conn_str = f'postgresql://{postgres_user}:{postgres_pw}@{postgres_host}:{postgres_port}/{postgres_db}'\n",
    "engine = create_engine(conn_str)"
   ]
  },
  {
   "cell_type": "markdown",
   "metadata": {},
   "source": [
    "Write a query to get the `category` and amount `pledged` for the `Performance`, `Theater`, and `Music` categories from the `ksprojects` table."
   ]
  },
  {
   "cell_type": "code",
   "execution_count": null,
   "metadata": {},
   "outputs": [],
   "source": [
    "query = ____"
   ]
  },
  {
   "cell_type": "markdown",
   "metadata": {},
   "source": [
    "Run the query and store the output to a pandas DataFrame."
   ]
  },
  {
   "cell_type": "code",
   "execution_count": null,
   "metadata": {},
   "outputs": [],
   "source": [
    "ks = pd.read_sql(query, engine)\n",
    "engine.dispose()"
   ]
  },
  {
   "cell_type": "markdown",
   "metadata": {},
   "source": [
    "Descriptively, how do the groups compare?  Make some visualization or print out some stats. "
   ]
  },
  {
   "cell_type": "code",
   "execution_count": null,
   "metadata": {},
   "outputs": [],
   "source": []
  },
  {
   "cell_type": "markdown",
   "metadata": {},
   "source": [
    "Let's separate the data into 3 different dataframes for analysis."
   ]
  },
  {
   "cell_type": "code",
   "execution_count": null,
   "metadata": {},
   "outputs": [],
   "source": [
    "performances = ks[ks['category'] == 'Performances']\n",
    "theater = ks[ks['category'] == 'Theater']\n",
    "music = ks[ks['category'] == 'Music']"
   ]
  },
  {
   "cell_type": "markdown",
   "metadata": {},
   "source": [
    "We have 3 groups and we want to compare their means.  This should trigger your ANOVA neurons to start firing, but we need to make sure our assumption of normality is met before performing this test.  To check for normality we could use any of the methods we've covered.  Here, let's look at QQ plots for each sample."
   ]
  },
  {
   "cell_type": "code",
   "execution_count": null,
   "metadata": {},
   "outputs": [],
   "source": []
  },
  {
   "cell_type": "markdown",
   "metadata": {},
   "source": [
    "Not looking too normal based on those plots... a non-parametric ANOVA test is the Kruskal Wallis test.  This uses the ranks of our data values rather than the values themselves a good write-up/example of this can be found [here](https://www.statisticshowto.datasciencecentral.com/kruskal-wallis/).  The below list assumptions is from that linked resource.\n",
    "\n",
    "> #### Assumptions for the Kruskal Wallis Test\n",
    "> Your variables should have:\n",
    ">\n",
    "> * One independent variable with two or more levels (independent groups). The test is more commonly used when you have three or more levels. For two levels, consider using the Mann Whitney U Test instead.\n",
    "> * Ordinal scale, Ratio Scale or Interval scale dependent variables.\n",
    "> * Your observations should be independent. In other words, there should be no relationship between the members in each group or between groups.\n",
    "> * All groups should have the same shape distributions.\n",
    "\n",
    "One way to examine the shape could be a histograms by group.  We're roughly the same shape."
   ]
  },
  {
   "cell_type": "code",
   "execution_count": null,
   "metadata": {
    "scrolled": false
   },
   "outputs": [],
   "source": []
  },
  {
   "cell_type": "markdown",
   "metadata": {},
   "source": [
    "Let's move on to performing the test with `scipy.stats`.  Note, that we call this the same way as `stats.f_oneway` (for performing an ANOVA with `scipy.stats`)."
   ]
  },
  {
   "cell_type": "code",
   "execution_count": null,
   "metadata": {
    "scrolled": true
   },
   "outputs": [],
   "source": [
    "_, p = _____"
   ]
  },
  {
   "cell_type": "markdown",
   "metadata": {},
   "source": [
    "So we've concluded at least one median is different.  Time for some post hoc analysis.  We'll be doing multiple tests to determine this, so we'll need to correct for it."
   ]
  },
  {
   "cell_type": "code",
   "execution_count": null,
   "metadata": {},
   "outputs": [],
   "source": [
    "u1, p_value_1 = stats.mannwhitneyu(performances['pledged'], theater['pledged'])\n",
    "u2, p_value_2 = stats.mannwhitneyu(performances['pledged'], music['pledged'])\n",
    "u3, p_value_3 = stats.mannwhitneyu(theater['pledged'], music['pledged'])\n",
    "\n",
    "# Could possibly reuse kruskal wallis to acheive same results, kruskal wallis is\n",
    "# a generalization of the mann whitney test to extend it to n_groups > 2\n",
    "# _, p_value_1 = stats.kruskal(performances['pledged'], theater['pledged'])\n",
    "# _, p_value_2 = stats.kruskal(performances['pledged'], music['pledged'])\n",
    "# _, p_value_3 = stats.kruskal(theater['pledged'], music['pledged'])\n",
    "\n",
    "p_values = [p_value_1, p_value_2, p_value_3]\n",
    "# See documentation for more info:\n",
    "# https://www.statsmodels.org/stable/generated/statsmodels.stats.multitest.multipletests.html\n",
    "reject_ho, corr_p_values, sidak_alpha, bonf_alpha = multipletests(p_values, alpha=0.05)"
   ]
  },
  {
   "cell_type": "markdown",
   "metadata": {},
   "source": [
    "Based on our analysis we found:\n",
    "* The mean rank of at least one of our samples is significantly different than the others\n",
    "* There is a significant difference in mean rank between the amount pledged for theater and the amount pledged for music"
   ]
  }
 ],
 "metadata": {
  "kernelspec": {
   "display_name": "Python 3",
   "language": "python",
   "name": "python3"
  },
  "language_info": {
   "codemirror_mode": {
    "name": "ipython",
    "version": 3
   },
   "file_extension": ".py",
   "mimetype": "text/x-python",
   "name": "python",
   "nbconvert_exporter": "python",
   "pygments_lexer": "ipython3",
   "version": "3.7.6"
  }
 },
 "nbformat": 4,
 "nbformat_minor": 2
}
