{
 "cells": [
  {
   "cell_type": "markdown",
   "metadata": {},
   "source": [
    "# The setup\n",
    "\n",
    "* Customers have rated two products on a scale of 1 to 10.\n",
    "* You want to test for a significant difference in the average rating.\n",
    "   * Is this possible, given the data?\n",
    "   \n",
    "# The data"
   ]
  },
  {
   "cell_type": "code",
   "execution_count": 1,
   "metadata": {},
   "outputs": [
    {
     "data": {
      "application/javascript": [
       "\n",
       "            setTimeout(function() {\n",
       "                var nbb_cell_id = 1;\n",
       "                var nbb_unformatted_code = \"%load_ext nb_black\";\n",
       "                var nbb_formatted_code = \"%load_ext nb_black\";\n",
       "                var nbb_cells = Jupyter.notebook.get_cells();\n",
       "                for (var i = 0; i < nbb_cells.length; ++i) {\n",
       "                    if (nbb_cells[i].input_prompt_number == nbb_cell_id) {\n",
       "                        if (nbb_cells[i].get_text() == nbb_unformatted_code) {\n",
       "                             nbb_cells[i].set_text(nbb_formatted_code);\n",
       "                        }\n",
       "                        break;\n",
       "                    }\n",
       "                }\n",
       "            }, 500);\n",
       "            "
      ],
      "text/plain": [
       "<IPython.core.display.Javascript object>"
      ]
     },
     "metadata": {},
     "output_type": "display_data"
    }
   ],
   "source": [
    "%load_ext nb_black"
   ]
  },
  {
   "cell_type": "code",
   "execution_count": 2,
   "metadata": {},
   "outputs": [
    {
     "data": {
      "application/javascript": [
       "\n",
       "            setTimeout(function() {\n",
       "                var nbb_cell_id = 2;\n",
       "                var nbb_unformatted_code = \"import pandas as pd\\nimport numpy as np\\n\\nimport scipy.stats as stats\\n\\nimport matplotlib.pyplot as plt\\nimport seaborn as sns\\n%matplotlib inline\\n\\n# Read\\ndf = pd.read_csv('https://tf-assets-prod.s3.amazonaws.com/tf-curric/data-science/test-for-normality-drill.csv')\";\n",
       "                var nbb_formatted_code = \"import pandas as pd\\nimport numpy as np\\n\\nimport scipy.stats as stats\\n\\nimport matplotlib.pyplot as plt\\nimport seaborn as sns\\n\\n%matplotlib inline\\n\\n# Read\\ndf = pd.read_csv(\\n    \\\"https://tf-assets-prod.s3.amazonaws.com/tf-curric/data-science/test-for-normality-drill.csv\\\"\\n)\";\n",
       "                var nbb_cells = Jupyter.notebook.get_cells();\n",
       "                for (var i = 0; i < nbb_cells.length; ++i) {\n",
       "                    if (nbb_cells[i].input_prompt_number == nbb_cell_id) {\n",
       "                        if (nbb_cells[i].get_text() == nbb_unformatted_code) {\n",
       "                             nbb_cells[i].set_text(nbb_formatted_code);\n",
       "                        }\n",
       "                        break;\n",
       "                    }\n",
       "                }\n",
       "            }, 500);\n",
       "            "
      ],
      "text/plain": [
       "<IPython.core.display.Javascript object>"
      ]
     },
     "metadata": {},
     "output_type": "display_data"
    }
   ],
   "source": [
    "import pandas as pd\n",
    "import numpy as np\n",
    "\n",
    "import scipy.stats as stats\n",
    "\n",
    "import matplotlib.pyplot as plt\n",
    "import seaborn as sns\n",
    "\n",
    "%matplotlib inline\n",
    "\n",
    "# Read\n",
    "df = pd.read_csv(\n",
    "    \"https://tf-assets-prod.s3.amazonaws.com/tf-curric/data-science/test-for-normality-drill.csv\"\n",
    ")"
   ]
  },
  {
   "cell_type": "code",
   "execution_count": 7,
   "metadata": {},
   "outputs": [
    {
     "data": {
      "text/plain": [
       "(848, 2)"
      ]
     },
     "execution_count": 7,
     "metadata": {},
     "output_type": "execute_result"
    },
    {
     "data": {
      "application/javascript": [
       "\n",
       "            setTimeout(function() {\n",
       "                var nbb_cell_id = 7;\n",
       "                var nbb_unformatted_code = \"# Inspect the data/data types\\ndf.shape\";\n",
       "                var nbb_formatted_code = \"# Inspect the data/data types\\ndf.shape\";\n",
       "                var nbb_cells = Jupyter.notebook.get_cells();\n",
       "                for (var i = 0; i < nbb_cells.length; ++i) {\n",
       "                    if (nbb_cells[i].input_prompt_number == nbb_cell_id) {\n",
       "                        if (nbb_cells[i].get_text() == nbb_unformatted_code) {\n",
       "                             nbb_cells[i].set_text(nbb_formatted_code);\n",
       "                        }\n",
       "                        break;\n",
       "                    }\n",
       "                }\n",
       "            }, 500);\n",
       "            "
      ],
      "text/plain": [
       "<IPython.core.display.Javascript object>"
      ]
     },
     "metadata": {},
     "output_type": "display_data"
    }
   ],
   "source": [
    "# Inspect the data/data types\n",
    "df.shape"
   ]
  },
  {
   "cell_type": "code",
   "execution_count": 8,
   "metadata": {},
   "outputs": [
    {
     "data": {
      "text/html": [
       "<div>\n",
       "<style scoped>\n",
       "    .dataframe tbody tr th:only-of-type {\n",
       "        vertical-align: middle;\n",
       "    }\n",
       "\n",
       "    .dataframe tbody tr th {\n",
       "        vertical-align: top;\n",
       "    }\n",
       "\n",
       "    .dataframe thead th {\n",
       "        text-align: right;\n",
       "    }\n",
       "</style>\n",
       "<table border=\"1\" class=\"dataframe\">\n",
       "  <thead>\n",
       "    <tr style=\"text-align: right;\">\n",
       "      <th></th>\n",
       "      <th>rating</th>\n",
       "      <th>product</th>\n",
       "    </tr>\n",
       "  </thead>\n",
       "  <tbody>\n",
       "    <tr>\n",
       "      <th>0</th>\n",
       "      <td>1</td>\n",
       "      <td>2</td>\n",
       "    </tr>\n",
       "    <tr>\n",
       "      <th>1</th>\n",
       "      <td>1</td>\n",
       "      <td>2</td>\n",
       "    </tr>\n",
       "    <tr>\n",
       "      <th>2</th>\n",
       "      <td>1</td>\n",
       "      <td>1</td>\n",
       "    </tr>\n",
       "    <tr>\n",
       "      <th>3</th>\n",
       "      <td>1</td>\n",
       "      <td>1</td>\n",
       "    </tr>\n",
       "    <tr>\n",
       "      <th>4</th>\n",
       "      <td>1</td>\n",
       "      <td>1</td>\n",
       "    </tr>\n",
       "  </tbody>\n",
       "</table>\n",
       "</div>"
      ],
      "text/plain": [
       "   rating  product\n",
       "0       1        2\n",
       "1       1        2\n",
       "2       1        1\n",
       "3       1        1\n",
       "4       1        1"
      ]
     },
     "execution_count": 8,
     "metadata": {},
     "output_type": "execute_result"
    },
    {
     "data": {
      "application/javascript": [
       "\n",
       "            setTimeout(function() {\n",
       "                var nbb_cell_id = 8;\n",
       "                var nbb_unformatted_code = \"df.head()\";\n",
       "                var nbb_formatted_code = \"df.head()\";\n",
       "                var nbb_cells = Jupyter.notebook.get_cells();\n",
       "                for (var i = 0; i < nbb_cells.length; ++i) {\n",
       "                    if (nbb_cells[i].input_prompt_number == nbb_cell_id) {\n",
       "                        if (nbb_cells[i].get_text() == nbb_unformatted_code) {\n",
       "                             nbb_cells[i].set_text(nbb_formatted_code);\n",
       "                        }\n",
       "                        break;\n",
       "                    }\n",
       "                }\n",
       "            }, 500);\n",
       "            "
      ],
      "text/plain": [
       "<IPython.core.display.Javascript object>"
      ]
     },
     "metadata": {},
     "output_type": "display_data"
    }
   ],
   "source": [
    "df.head()"
   ]
  },
  {
   "cell_type": "code",
   "execution_count": 9,
   "metadata": {},
   "outputs": [
    {
     "name": "stdout",
     "output_type": "stream",
     "text": [
      "<class 'pandas.core.frame.DataFrame'>\n",
      "RangeIndex: 848 entries, 0 to 847\n",
      "Data columns (total 2 columns):\n",
      "rating     848 non-null int64\n",
      "product    848 non-null int64\n",
      "dtypes: int64(2)\n",
      "memory usage: 13.4 KB\n"
     ]
    },
    {
     "data": {
      "application/javascript": [
       "\n",
       "            setTimeout(function() {\n",
       "                var nbb_cell_id = 9;\n",
       "                var nbb_unformatted_code = \"df.info()\";\n",
       "                var nbb_formatted_code = \"df.info()\";\n",
       "                var nbb_cells = Jupyter.notebook.get_cells();\n",
       "                for (var i = 0; i < nbb_cells.length; ++i) {\n",
       "                    if (nbb_cells[i].input_prompt_number == nbb_cell_id) {\n",
       "                        if (nbb_cells[i].get_text() == nbb_unformatted_code) {\n",
       "                             nbb_cells[i].set_text(nbb_formatted_code);\n",
       "                        }\n",
       "                        break;\n",
       "                    }\n",
       "                }\n",
       "            }, 500);\n",
       "            "
      ],
      "text/plain": [
       "<IPython.core.display.Javascript object>"
      ]
     },
     "metadata": {},
     "output_type": "display_data"
    }
   ],
   "source": [
    "df.info()"
   ]
  },
  {
   "cell_type": "code",
   "execution_count": 12,
   "metadata": {},
   "outputs": [
    {
     "data": {
      "text/plain": [
       "rating     0\n",
       "product    0\n",
       "dtype: int64"
      ]
     },
     "execution_count": 12,
     "metadata": {},
     "output_type": "execute_result"
    },
    {
     "data": {
      "application/javascript": [
       "\n",
       "            setTimeout(function() {\n",
       "                var nbb_cell_id = 12;\n",
       "                var nbb_unformatted_code = \"df.isna().sum()\";\n",
       "                var nbb_formatted_code = \"df.isna().sum()\";\n",
       "                var nbb_cells = Jupyter.notebook.get_cells();\n",
       "                for (var i = 0; i < nbb_cells.length; ++i) {\n",
       "                    if (nbb_cells[i].input_prompt_number == nbb_cell_id) {\n",
       "                        if (nbb_cells[i].get_text() == nbb_unformatted_code) {\n",
       "                             nbb_cells[i].set_text(nbb_formatted_code);\n",
       "                        }\n",
       "                        break;\n",
       "                    }\n",
       "                }\n",
       "            }, 500);\n",
       "            "
      ],
      "text/plain": [
       "<IPython.core.display.Javascript object>"
      ]
     },
     "metadata": {},
     "output_type": "display_data"
    }
   ],
   "source": [
    "df.isna().sum()"
   ]
  },
  {
   "cell_type": "markdown",
   "metadata": {},
   "source": [
    "# Checking assumptions\n",
    "\n",
    "## List of t-test assumptions\n",
    "\n",
    "* The test variable (i.e. the variable we are comparing averages for) is continuous.\n",
    "* There is no relationship between items (i.e. the measurement of one observation does not affect the measurement of another.  For example, don't use a t-test to check if the mean of a coins diameter is significantly different from the mean of a coin's radius.)\n",
    "* Samples are drawn at random for each population. In the next checkpoint we will get into how to randomly sample; for now, just assume that it is.\n",
    "* The test variable’s samples and populations are approximately normally distributed. This is the assumption of primary interest for this checkpoint."
   ]
  },
  {
   "cell_type": "markdown",
   "metadata": {},
   "source": [
    "### Are we independent?\n",
    "\n",
    "Here, we're just going to assume that we are\n",
    "\n",
    "### Are we random?\n",
    "\n",
    "Here, we're just going to assume that we are"
   ]
  },
  {
   "cell_type": "markdown",
   "metadata": {},
   "source": [
    "### Are we continuous?"
   ]
  },
  {
   "cell_type": "code",
   "execution_count": 16,
   "metadata": {},
   "outputs": [
    {
     "data": {
      "text/plain": [
       "pandas.core.series.Series"
      ]
     },
     "execution_count": 16,
     "metadata": {},
     "output_type": "execute_result"
    },
    {
     "data": {
      "application/javascript": [
       "\n",
       "            setTimeout(function() {\n",
       "                var nbb_cell_id = 16;\n",
       "                var nbb_unformatted_code = \"type(df[\\\"rating\\\"])\";\n",
       "                var nbb_formatted_code = \"type(df[\\\"rating\\\"])\";\n",
       "                var nbb_cells = Jupyter.notebook.get_cells();\n",
       "                for (var i = 0; i < nbb_cells.length; ++i) {\n",
       "                    if (nbb_cells[i].input_prompt_number == nbb_cell_id) {\n",
       "                        if (nbb_cells[i].get_text() == nbb_unformatted_code) {\n",
       "                             nbb_cells[i].set_text(nbb_formatted_code);\n",
       "                        }\n",
       "                        break;\n",
       "                    }\n",
       "                }\n",
       "            }, 500);\n",
       "            "
      ],
      "text/plain": [
       "<IPython.core.display.Javascript object>"
      ]
     },
     "metadata": {},
     "output_type": "display_data"
    }
   ],
   "source": [
    "type(df[\"rating\"])"
   ]
  },
  {
   "cell_type": "code",
   "execution_count": 14,
   "metadata": {},
   "outputs": [
    {
     "data": {
      "text/plain": [
       "{1, 2, 3, 4, 5, 6, 7, 8, 9, 10}"
      ]
     },
     "execution_count": 14,
     "metadata": {},
     "output_type": "execute_result"
    },
    {
     "data": {
      "application/javascript": [
       "\n",
       "            setTimeout(function() {\n",
       "                var nbb_cell_id = 14;\n",
       "                var nbb_unformatted_code = \"set(df['rating'])\";\n",
       "                var nbb_formatted_code = \"set(df[\\\"rating\\\"])\";\n",
       "                var nbb_cells = Jupyter.notebook.get_cells();\n",
       "                for (var i = 0; i < nbb_cells.length; ++i) {\n",
       "                    if (nbb_cells[i].input_prompt_number == nbb_cell_id) {\n",
       "                        if (nbb_cells[i].get_text() == nbb_unformatted_code) {\n",
       "                             nbb_cells[i].set_text(nbb_formatted_code);\n",
       "                        }\n",
       "                        break;\n",
       "                    }\n",
       "                }\n",
       "            }, 500);\n",
       "            "
      ],
      "text/plain": [
       "<IPython.core.display.Javascript object>"
      ]
     },
     "metadata": {},
     "output_type": "display_data"
    }
   ],
   "source": [
    "set(df[\"rating\"])"
   ]
  },
  {
   "cell_type": "code",
   "execution_count": 15,
   "metadata": {},
   "outputs": [
    {
     "data": {
      "text/plain": [
       "array([ 1,  2,  3,  4,  5,  6,  7,  8,  9, 10])"
      ]
     },
     "execution_count": 15,
     "metadata": {},
     "output_type": "execute_result"
    },
    {
     "data": {
      "application/javascript": [
       "\n",
       "            setTimeout(function() {\n",
       "                var nbb_cell_id = 15;\n",
       "                var nbb_unformatted_code = \"df[\\\"rating\\\"].unique()\";\n",
       "                var nbb_formatted_code = \"df[\\\"rating\\\"].unique()\";\n",
       "                var nbb_cells = Jupyter.notebook.get_cells();\n",
       "                for (var i = 0; i < nbb_cells.length; ++i) {\n",
       "                    if (nbb_cells[i].input_prompt_number == nbb_cell_id) {\n",
       "                        if (nbb_cells[i].get_text() == nbb_unformatted_code) {\n",
       "                             nbb_cells[i].set_text(nbb_formatted_code);\n",
       "                        }\n",
       "                        break;\n",
       "                    }\n",
       "                }\n",
       "            }, 500);\n",
       "            "
      ],
      "text/plain": [
       "<IPython.core.display.Javascript object>"
      ]
     },
     "metadata": {},
     "output_type": "display_data"
    }
   ],
   "source": [
    "df[\"rating\"].unique()"
   ]
  },
  {
   "cell_type": "code",
   "execution_count": 17,
   "metadata": {},
   "outputs": [
    {
     "data": {
      "text/plain": [
       "5     144\n",
       "6     128\n",
       "4     128\n",
       "7      96\n",
       "3      96\n",
       "8      64\n",
       "2      64\n",
       "9      48\n",
       "10     40\n",
       "1      40\n",
       "Name: rating, dtype: int64"
      ]
     },
     "execution_count": 17,
     "metadata": {},
     "output_type": "execute_result"
    },
    {
     "data": {
      "application/javascript": [
       "\n",
       "            setTimeout(function() {\n",
       "                var nbb_cell_id = 17;\n",
       "                var nbb_unformatted_code = \"df[\\\"rating\\\"].value_counts()\";\n",
       "                var nbb_formatted_code = \"df[\\\"rating\\\"].value_counts()\";\n",
       "                var nbb_cells = Jupyter.notebook.get_cells();\n",
       "                for (var i = 0; i < nbb_cells.length; ++i) {\n",
       "                    if (nbb_cells[i].input_prompt_number == nbb_cell_id) {\n",
       "                        if (nbb_cells[i].get_text() == nbb_unformatted_code) {\n",
       "                             nbb_cells[i].set_text(nbb_formatted_code);\n",
       "                        }\n",
       "                        break;\n",
       "                    }\n",
       "                }\n",
       "            }, 500);\n",
       "            "
      ],
      "text/plain": [
       "<IPython.core.display.Javascript object>"
      ]
     },
     "metadata": {},
     "output_type": "display_data"
    }
   ],
   "source": [
    "df[\"rating\"].value_counts()"
   ]
  },
  {
   "cell_type": "markdown",
   "metadata": {},
   "source": [
    "...we aren't continuous...  time to bring up that our assumptions are kinda fungible ¯\\\\_(ツ)_/¯\n",
    "\n",
    "In other words, the t-test is fairly 'robust', and this is generally given a disclaimer of having a 'reasonably large' sample size (often shown as $n \\geq 30$).\n",
    "\n",
    "Rank data like this isn't continuous and technically isn't normal either. We'll see some alternative ways to test without the normality assumption.  One of these alternatives is a *Mann-Whitney* which doesn't assume a normal or continuous distribtion.\n",
    "\n",
    "There is a lot of discussion about when to which test and the practical implications.\n",
    "\n",
    "* [Independent t-test for two samples](https://statistics.laerd.com/statistical-guides/independent-t-test-statistical-guide.php)\n",
    "\n",
    "> However, the t-test is described as a robust test with respect to the assumption of normality. This means that some deviation away from normality does not have a large influence on Type I error rates.\n",
    "\n",
    "* [Two-sample t-test and robustness](https://www.johndcook.com/blog/2018/05/11/two-sample-t-test/)\n",
    "\n",
    "> That is, the [t-test] test works more or less as advertised as long as the distribution is symmetric like a normal distribution, but it may not work as expected if the distribution is asymmetric.\n",
    "\n",
    "* [Best Way to Analyze Likert Item Data: Two Sample T-Test versus Mann-Whitney](https://blog.minitab.com/blog/adventures-in-statistics-2/best-way-to-analyze-likert-item-data-two-sample-t-test-versus-mann-whitney)"
   ]
  },
  {
   "cell_type": "markdown",
   "metadata": {},
   "source": [
    "### Are we normal?\n",
    "\n",
    "To check this we can use different types of plots and measures such as skewness and kurtosis.\n",
    "\n",
    "First, let's visualize:"
   ]
  },
  {
   "cell_type": "code",
   "execution_count": 18,
   "metadata": {},
   "outputs": [
    {
     "data": {
      "text/html": [
       "<div>\n",
       "<style scoped>\n",
       "    .dataframe tbody tr th:only-of-type {\n",
       "        vertical-align: middle;\n",
       "    }\n",
       "\n",
       "    .dataframe tbody tr th {\n",
       "        vertical-align: top;\n",
       "    }\n",
       "\n",
       "    .dataframe thead th {\n",
       "        text-align: right;\n",
       "    }\n",
       "</style>\n",
       "<table border=\"1\" class=\"dataframe\">\n",
       "  <thead>\n",
       "    <tr style=\"text-align: right;\">\n",
       "      <th></th>\n",
       "      <th>rating</th>\n",
       "      <th>product</th>\n",
       "    </tr>\n",
       "  </thead>\n",
       "  <tbody>\n",
       "    <tr>\n",
       "      <th>0</th>\n",
       "      <td>1</td>\n",
       "      <td>2</td>\n",
       "    </tr>\n",
       "    <tr>\n",
       "      <th>1</th>\n",
       "      <td>1</td>\n",
       "      <td>2</td>\n",
       "    </tr>\n",
       "    <tr>\n",
       "      <th>2</th>\n",
       "      <td>1</td>\n",
       "      <td>1</td>\n",
       "    </tr>\n",
       "    <tr>\n",
       "      <th>3</th>\n",
       "      <td>1</td>\n",
       "      <td>1</td>\n",
       "    </tr>\n",
       "    <tr>\n",
       "      <th>4</th>\n",
       "      <td>1</td>\n",
       "      <td>1</td>\n",
       "    </tr>\n",
       "  </tbody>\n",
       "</table>\n",
       "</div>"
      ],
      "text/plain": [
       "   rating  product\n",
       "0       1        2\n",
       "1       1        2\n",
       "2       1        1\n",
       "3       1        1\n",
       "4       1        1"
      ]
     },
     "execution_count": 18,
     "metadata": {},
     "output_type": "execute_result"
    },
    {
     "data": {
      "application/javascript": [
       "\n",
       "            setTimeout(function() {\n",
       "                var nbb_cell_id = 18;\n",
       "                var nbb_unformatted_code = \"df.head()\";\n",
       "                var nbb_formatted_code = \"df.head()\";\n",
       "                var nbb_cells = Jupyter.notebook.get_cells();\n",
       "                for (var i = 0; i < nbb_cells.length; ++i) {\n",
       "                    if (nbb_cells[i].input_prompt_number == nbb_cell_id) {\n",
       "                        if (nbb_cells[i].get_text() == nbb_unformatted_code) {\n",
       "                             nbb_cells[i].set_text(nbb_formatted_code);\n",
       "                        }\n",
       "                        break;\n",
       "                    }\n",
       "                }\n",
       "            }, 500);\n",
       "            "
      ],
      "text/plain": [
       "<IPython.core.display.Javascript object>"
      ]
     },
     "metadata": {},
     "output_type": "display_data"
    }
   ],
   "source": [
    "df.head()"
   ]
  },
  {
   "cell_type": "code",
   "execution_count": 28,
   "metadata": {},
   "outputs": [
    {
     "data": {
      "image/png": "[encoded data removed]",
      "text/plain": [
       "<Figure size 432x288 with 1 Axes>"
      ]
     },
     "metadata": {
      "needs_background": "light"
     },
     "output_type": "display_data"
    },
    {
     "data": {
      "application/javascript": [
       "\n",
       "            setTimeout(function() {\n",
       "                var nbb_cell_id = 28;\n",
       "                var nbb_unformatted_code = \"# Subset to separate products\\nproduct_1 = df[df[\\\"product\\\"] == 1]\\nproduct_2 = df[df[\\\"product\\\"] == 2]\\n\\n# Viz overlaid histograms\\nplt.hist(product_1[\\\"rating\\\"], alpha=0.3, label=\\\"product_1\\\")\\nplt.hist(product_2[\\\"rating\\\"], alpha=0.3, label=\\\"product_2\\\")\\nplt.legend(loc=\\\"upper right\\\")\\nplt.show()\";\n",
       "                var nbb_formatted_code = \"# Subset to separate products\\nproduct_1 = df[df[\\\"product\\\"] == 1]\\nproduct_2 = df[df[\\\"product\\\"] == 2]\\n\\n# Viz overlaid histograms\\nplt.hist(product_1[\\\"rating\\\"], alpha=0.3, label=\\\"product_1\\\")\\nplt.hist(product_2[\\\"rating\\\"], alpha=0.3, label=\\\"product_2\\\")\\nplt.legend(loc=\\\"upper right\\\")\\nplt.show()\";\n",
       "                var nbb_cells = Jupyter.notebook.get_cells();\n",
       "                for (var i = 0; i < nbb_cells.length; ++i) {\n",
       "                    if (nbb_cells[i].input_prompt_number == nbb_cell_id) {\n",
       "                        if (nbb_cells[i].get_text() == nbb_unformatted_code) {\n",
       "                             nbb_cells[i].set_text(nbb_formatted_code);\n",
       "                        }\n",
       "                        break;\n",
       "                    }\n",
       "                }\n",
       "            }, 500);\n",
       "            "
      ],
      "text/plain": [
       "<IPython.core.display.Javascript object>"
      ]
     },
     "metadata": {},
     "output_type": "display_data"
    }
   ],
   "source": [
    "# Subset to separate products\n",
    "product_1 = df[df[\"product\"] == 1]\n",
    "product_2 = df[df[\"product\"] == 2]\n",
    "\n",
    "# Viz overlaid histograms\n",
    "plt.hist(product_1[\"rating\"], alpha=0.3, label=\"product_1\")\n",
    "plt.hist(product_2[\"rating\"], alpha=0.3, label=\"product_2\")\n",
    "plt.legend(loc=\"upper right\")\n",
    "plt.show()"
   ]
  },
  {
   "cell_type": "code",
   "execution_count": 22,
   "metadata": {},
   "outputs": [
    {
     "data": {
      "image/png": "[encoded data removed]",
      "text/plain": [
       "<Figure size 432x288 with 1 Axes>"
      ]
     },
     "metadata": {
      "needs_background": "light"
     },
     "output_type": "display_data"
    },
    {
     "data": {
      "application/javascript": [
       "\n",
       "            setTimeout(function() {\n",
       "                var nbb_cell_id = 22;\n",
       "                var nbb_unformatted_code = \"# Viz overlaid histograms with bins chosen to highlight discrete dist\\nplt.hist(product_1['rating'], alpha=0.3, bins=19)\\nplt.hist(product_2['rating'], alpha=0.3, bins=19)\\nplt.show()\";\n",
       "                var nbb_formatted_code = \"# Viz overlaid histograms with bins chosen to highlight discrete dist\\nplt.hist(product_1[\\\"rating\\\"], alpha=0.3, bins=19)\\nplt.hist(product_2[\\\"rating\\\"], alpha=0.3, bins=19)\\nplt.show()\";\n",
       "                var nbb_cells = Jupyter.notebook.get_cells();\n",
       "                for (var i = 0; i < nbb_cells.length; ++i) {\n",
       "                    if (nbb_cells[i].input_prompt_number == nbb_cell_id) {\n",
       "                        if (nbb_cells[i].get_text() == nbb_unformatted_code) {\n",
       "                             nbb_cells[i].set_text(nbb_formatted_code);\n",
       "                        }\n",
       "                        break;\n",
       "                    }\n",
       "                }\n",
       "            }, 500);\n",
       "            "
      ],
      "text/plain": [
       "<IPython.core.display.Javascript object>"
      ]
     },
     "metadata": {},
     "output_type": "display_data"
    }
   ],
   "source": [
    "# Viz overlaid histograms with bins chosen to highlight discrete dist\n",
    "plt.hist(product_1[\"rating\"], alpha=0.3, bins=19)\n",
    "plt.hist(product_2[\"rating\"], alpha=0.3, bins=19)\n",
    "plt.show()"
   ]
  },
  {
   "cell_type": "markdown",
   "metadata": {},
   "source": [
    "Now, let's look at skewness and kurtosis:"
   ]
  },
  {
   "cell_type": "code",
   "execution_count": 29,
   "metadata": {},
   "outputs": [
    {
     "name": "stdout",
     "output_type": "stream",
     "text": [
      "DescribeResult(nobs=405, minmax=(1, 10), mean=5.298765432098765, variance=5.521904412663488, skewness=0.1261899414498835, kurtosis=-0.6970087606916238)\n",
      "DescribeResult(nobs=443, minmax=(1, 10), mean=5.250564334085778, variance=5.179156920625517, skewness=0.2139333145980557, kurtosis=-0.5520819611532364)\n"
     ]
    },
    {
     "data": {
      "application/javascript": [
       "\n",
       "            setTimeout(function() {\n",
       "                var nbb_cell_id = 29;\n",
       "                var nbb_unformatted_code = \"# from scipy import stats\\n# import scipy.stats as stats\\nprod_1_desc = stats.describe(product_1['rating'])\\nprod_2_desc = stats.describe(product_2['rating'])\\n\\nprint(prod_1_desc)\\nprint(prod_2_desc)\";\n",
       "                var nbb_formatted_code = \"# from scipy import stats\\n# import scipy.stats as stats\\nprod_1_desc = stats.describe(product_1[\\\"rating\\\"])\\nprod_2_desc = stats.describe(product_2[\\\"rating\\\"])\\n\\nprint(prod_1_desc)\\nprint(prod_2_desc)\";\n",
       "                var nbb_cells = Jupyter.notebook.get_cells();\n",
       "                for (var i = 0; i < nbb_cells.length; ++i) {\n",
       "                    if (nbb_cells[i].input_prompt_number == nbb_cell_id) {\n",
       "                        if (nbb_cells[i].get_text() == nbb_unformatted_code) {\n",
       "                             nbb_cells[i].set_text(nbb_formatted_code);\n",
       "                        }\n",
       "                        break;\n",
       "                    }\n",
       "                }\n",
       "            }, 500);\n",
       "            "
      ],
      "text/plain": [
       "<IPython.core.display.Javascript object>"
      ]
     },
     "metadata": {},
     "output_type": "display_data"
    }
   ],
   "source": [
    "# from scipy import stats\n",
    "# import scipy.stats as stats\n",
    "prod_1_desc = stats.describe(product_1[\"rating\"])\n",
    "prod_2_desc = stats.describe(product_2[\"rating\"])\n",
    "\n",
    "print(prod_1_desc)\n",
    "print(prod_2_desc)"
   ]
  },
  {
   "cell_type": "code",
   "execution_count": 35,
   "metadata": {},
   "outputs": [
    {
     "data": {
      "text/html": [
       "<div>\n",
       "<style scoped>\n",
       "    .dataframe tbody tr th:only-of-type {\n",
       "        vertical-align: middle;\n",
       "    }\n",
       "\n",
       "    .dataframe tbody tr th {\n",
       "        vertical-align: top;\n",
       "    }\n",
       "\n",
       "    .dataframe thead th {\n",
       "        text-align: right;\n",
       "    }\n",
       "</style>\n",
       "<table border=\"1\" class=\"dataframe\">\n",
       "  <thead>\n",
       "    <tr style=\"text-align: right;\">\n",
       "      <th></th>\n",
       "      <th>nobs</th>\n",
       "      <th>minmax</th>\n",
       "      <th>mean</th>\n",
       "      <th>variance</th>\n",
       "      <th>skewness</th>\n",
       "      <th>kurtosis</th>\n",
       "    </tr>\n",
       "  </thead>\n",
       "  <tbody>\n",
       "    <tr>\n",
       "      <th>0</th>\n",
       "      <td>405</td>\n",
       "      <td>(1, 10)</td>\n",
       "      <td>5.298765</td>\n",
       "      <td>5.521904</td>\n",
       "      <td>0.12619</td>\n",
       "      <td>-0.697009</td>\n",
       "    </tr>\n",
       "  </tbody>\n",
       "</table>\n",
       "</div>"
      ],
      "text/plain": [
       "   nobs   minmax      mean  variance  skewness  kurtosis\n",
       "0   405  (1, 10)  5.298765  5.521904   0.12619 -0.697009"
      ]
     },
     "execution_count": 35,
     "metadata": {},
     "output_type": "execute_result"
    },
    {
     "data": {
      "application/javascript": [
       "\n",
       "            setTimeout(function() {\n",
       "                var nbb_cell_id = 35;\n",
       "                var nbb_unformatted_code = \"pd.DataFrame([prod_1_desc])\";\n",
       "                var nbb_formatted_code = \"pd.DataFrame([prod_1_desc])\";\n",
       "                var nbb_cells = Jupyter.notebook.get_cells();\n",
       "                for (var i = 0; i < nbb_cells.length; ++i) {\n",
       "                    if (nbb_cells[i].input_prompt_number == nbb_cell_id) {\n",
       "                        if (nbb_cells[i].get_text() == nbb_unformatted_code) {\n",
       "                             nbb_cells[i].set_text(nbb_formatted_code);\n",
       "                        }\n",
       "                        break;\n",
       "                    }\n",
       "                }\n",
       "            }, 500);\n",
       "            "
      ],
      "text/plain": [
       "<IPython.core.display.Javascript object>"
      ]
     },
     "metadata": {},
     "output_type": "display_data"
    }
   ],
   "source": [
    "pd.DataFrame([prod_1_desc])"
   ]
  },
  {
   "cell_type": "markdown",
   "metadata": {},
   "source": [
    "In my opinion, looking at the `DescribeResult(...)` output isn't the easiest.  Let's write a function to convert the output to a `pandas.DataFrame` for display.  This will also allow us to more easily use some plotting functions for comparison."
   ]
  },
  {
   "cell_type": "code",
   "execution_count": 41,
   "metadata": {},
   "outputs": [
    {
     "data": {
      "text/html": [
       "<div>\n",
       "<style scoped>\n",
       "    .dataframe tbody tr th:only-of-type {\n",
       "        vertical-align: middle;\n",
       "    }\n",
       "\n",
       "    .dataframe tbody tr th {\n",
       "        vertical-align: top;\n",
       "    }\n",
       "\n",
       "    .dataframe thead th {\n",
       "        text-align: right;\n",
       "    }\n",
       "</style>\n",
       "<table border=\"1\" class=\"dataframe\">\n",
       "  <thead>\n",
       "    <tr style=\"text-align: right;\">\n",
       "      <th></th>\n",
       "      <th>nobs</th>\n",
       "      <th>minmax</th>\n",
       "      <th>mean</th>\n",
       "      <th>variance</th>\n",
       "      <th>skewness</th>\n",
       "      <th>kurtosis</th>\n",
       "      <th>name</th>\n",
       "    </tr>\n",
       "  </thead>\n",
       "  <tbody>\n",
       "    <tr>\n",
       "      <th>0</th>\n",
       "      <td>405</td>\n",
       "      <td>(1, 10)</td>\n",
       "      <td>5.298765</td>\n",
       "      <td>5.521904</td>\n",
       "      <td>0.12619</td>\n",
       "      <td>-0.697009</td>\n",
       "      <td>prod_1_rating</td>\n",
       "    </tr>\n",
       "  </tbody>\n",
       "</table>\n",
       "</div>"
      ],
      "text/plain": [
       "   nobs   minmax      mean  variance  skewness  kurtosis           name\n",
       "0   405  (1, 10)  5.298765  5.521904   0.12619 -0.697009  prod_1_rating"
      ]
     },
     "execution_count": 41,
     "metadata": {},
     "output_type": "execute_result"
    },
    {
     "data": {
      "application/javascript": [
       "\n",
       "            setTimeout(function() {\n",
       "                var nbb_cell_id = 41;\n",
       "                var nbb_unformatted_code = \"def format_description(description, name=\\\"description\\\"):\\n    \\\"\\\"\\\"Cast scipy.stats.describe output to df\\\"\\\"\\\"\\n    # Convert scipy.stats.describe output to a dataframe\\n    df = pd.DataFrame([description])\\n\\n    # Add a name column to the dataframe\\n    df[\\\"name\\\"] = name\\n\\n    return df\\n\\n\\nformat_description(prod_1_desc, \\\"prod_1_rating\\\")\";\n",
       "                var nbb_formatted_code = \"def format_description(description, name=\\\"description\\\"):\\n    \\\"\\\"\\\"Cast scipy.stats.describe output to df\\\"\\\"\\\"\\n    # Convert scipy.stats.describe output to a dataframe\\n    df = pd.DataFrame([description])\\n\\n    # Add a name column to the dataframe\\n    df[\\\"name\\\"] = name\\n\\n    return df\\n\\n\\nformat_description(prod_1_desc, \\\"prod_1_rating\\\")\";\n",
       "                var nbb_cells = Jupyter.notebook.get_cells();\n",
       "                for (var i = 0; i < nbb_cells.length; ++i) {\n",
       "                    if (nbb_cells[i].input_prompt_number == nbb_cell_id) {\n",
       "                        if (nbb_cells[i].get_text() == nbb_unformatted_code) {\n",
       "                             nbb_cells[i].set_text(nbb_formatted_code);\n",
       "                        }\n",
       "                        break;\n",
       "                    }\n",
       "                }\n",
       "            }, 500);\n",
       "            "
      ],
      "text/plain": [
       "<IPython.core.display.Javascript object>"
      ]
     },
     "metadata": {},
     "output_type": "display_data"
    }
   ],
   "source": [
    "def format_description(description, name=\"description\"):\n",
    "    \"\"\"Cast scipy.stats.describe output to df\"\"\"\n",
    "    # Convert scipy.stats.describe output to a dataframe\n",
    "    df = pd.DataFrame([description])\n",
    "\n",
    "    # Add a name column to the dataframe\n",
    "    df[\"name\"] = name\n",
    "\n",
    "    return df\n",
    "\n",
    "\n",
    "format_description(prod_1_desc, \"prod_1_rating\")"
   ]
  },
  {
   "cell_type": "code",
   "execution_count": 42,
   "metadata": {},
   "outputs": [
    {
     "data": {
      "text/html": [
       "<div>\n",
       "<style scoped>\n",
       "    .dataframe tbody tr th:only-of-type {\n",
       "        vertical-align: middle;\n",
       "    }\n",
       "\n",
       "    .dataframe tbody tr th {\n",
       "        vertical-align: top;\n",
       "    }\n",
       "\n",
       "    .dataframe thead th {\n",
       "        text-align: right;\n",
       "    }\n",
       "</style>\n",
       "<table border=\"1\" class=\"dataframe\">\n",
       "  <thead>\n",
       "    <tr style=\"text-align: right;\">\n",
       "      <th></th>\n",
       "      <th>nobs</th>\n",
       "      <th>minmax</th>\n",
       "      <th>mean</th>\n",
       "      <th>variance</th>\n",
       "      <th>skewness</th>\n",
       "      <th>kurtosis</th>\n",
       "      <th>name</th>\n",
       "    </tr>\n",
       "  </thead>\n",
       "  <tbody>\n",
       "    <tr>\n",
       "      <th>0</th>\n",
       "      <td>443</td>\n",
       "      <td>(1, 10)</td>\n",
       "      <td>5.250564</td>\n",
       "      <td>5.179157</td>\n",
       "      <td>0.213933</td>\n",
       "      <td>-0.552082</td>\n",
       "      <td>prod_2_rating</td>\n",
       "    </tr>\n",
       "  </tbody>\n",
       "</table>\n",
       "</div>"
      ],
      "text/plain": [
       "   nobs   minmax      mean  variance  skewness  kurtosis           name\n",
       "0   443  (1, 10)  5.250564  5.179157  0.213933 -0.552082  prod_2_rating"
      ]
     },
     "execution_count": 42,
     "metadata": {},
     "output_type": "execute_result"
    },
    {
     "data": {
      "application/javascript": [
       "\n",
       "            setTimeout(function() {\n",
       "                var nbb_cell_id = 42;\n",
       "                var nbb_unformatted_code = \"format_description(prod_2_desc, \\\"prod_2_rating\\\")\";\n",
       "                var nbb_formatted_code = \"format_description(prod_2_desc, \\\"prod_2_rating\\\")\";\n",
       "                var nbb_cells = Jupyter.notebook.get_cells();\n",
       "                for (var i = 0; i < nbb_cells.length; ++i) {\n",
       "                    if (nbb_cells[i].input_prompt_number == nbb_cell_id) {\n",
       "                        if (nbb_cells[i].get_text() == nbb_unformatted_code) {\n",
       "                             nbb_cells[i].set_text(nbb_formatted_code);\n",
       "                        }\n",
       "                        break;\n",
       "                    }\n",
       "                }\n",
       "            }, 500);\n",
       "            "
      ],
      "text/plain": [
       "<IPython.core.display.Javascript object>"
      ]
     },
     "metadata": {},
     "output_type": "display_data"
    }
   ],
   "source": [
    "format_description(prod_2_desc, \"prod_2_rating\")"
   ]
  },
  {
   "cell_type": "markdown",
   "metadata": {},
   "source": [
    "We can use `pandas.concat([df1, df2, ..., dfn])` to stack data frames (similarly to `UNION ALL` from SQL)."
   ]
  },
  {
   "cell_type": "code",
   "execution_count": 44,
   "metadata": {},
   "outputs": [
    {
     "data": {
      "text/html": [
       "<div>\n",
       "<style scoped>\n",
       "    .dataframe tbody tr th:only-of-type {\n",
       "        vertical-align: middle;\n",
       "    }\n",
       "\n",
       "    .dataframe tbody tr th {\n",
       "        vertical-align: top;\n",
       "    }\n",
       "\n",
       "    .dataframe thead th {\n",
       "        text-align: right;\n",
       "    }\n",
       "</style>\n",
       "<table border=\"1\" class=\"dataframe\">\n",
       "  <thead>\n",
       "    <tr style=\"text-align: right;\">\n",
       "      <th></th>\n",
       "      <th>nobs</th>\n",
       "      <th>minmax</th>\n",
       "      <th>mean</th>\n",
       "      <th>variance</th>\n",
       "      <th>skewness</th>\n",
       "      <th>kurtosis</th>\n",
       "      <th>name</th>\n",
       "    </tr>\n",
       "  </thead>\n",
       "  <tbody>\n",
       "    <tr>\n",
       "      <th>0</th>\n",
       "      <td>405</td>\n",
       "      <td>(1, 10)</td>\n",
       "      <td>5.298765</td>\n",
       "      <td>5.521904</td>\n",
       "      <td>0.126190</td>\n",
       "      <td>-0.697009</td>\n",
       "      <td>prod_1_rating</td>\n",
       "    </tr>\n",
       "    <tr>\n",
       "      <th>0</th>\n",
       "      <td>443</td>\n",
       "      <td>(1, 10)</td>\n",
       "      <td>5.250564</td>\n",
       "      <td>5.179157</td>\n",
       "      <td>0.213933</td>\n",
       "      <td>-0.552082</td>\n",
       "      <td>prod_2_rating</td>\n",
       "    </tr>\n",
       "  </tbody>\n",
       "</table>\n",
       "</div>"
      ],
      "text/plain": [
       "   nobs   minmax      mean  variance  skewness  kurtosis           name\n",
       "0   405  (1, 10)  5.298765  5.521904  0.126190 -0.697009  prod_1_rating\n",
       "0   443  (1, 10)  5.250564  5.179157  0.213933 -0.552082  prod_2_rating"
      ]
     },
     "execution_count": 44,
     "metadata": {},
     "output_type": "execute_result"
    },
    {
     "data": {
      "application/javascript": [
       "\n",
       "            setTimeout(function() {\n",
       "                var nbb_cell_id = 44;\n",
       "                var nbb_unformatted_code = \"prod_1_desc_df = format_description(prod_1_desc, \\\"prod_1_rating\\\")\\nprod_2_desc_df = format_description(prod_2_desc, \\\"prod_2_rating\\\")\\n\\n# Use pd.concat to stack 2 scipy.stats.describe dataframes\\ndescription_df = pd.concat([prod_1_desc_df, prod_2_desc_df])\\ndescription_df\";\n",
       "                var nbb_formatted_code = \"prod_1_desc_df = format_description(prod_1_desc, \\\"prod_1_rating\\\")\\nprod_2_desc_df = format_description(prod_2_desc, \\\"prod_2_rating\\\")\\n\\n# Use pd.concat to stack 2 scipy.stats.describe dataframes\\ndescription_df = pd.concat([prod_1_desc_df, prod_2_desc_df])\\ndescription_df\";\n",
       "                var nbb_cells = Jupyter.notebook.get_cells();\n",
       "                for (var i = 0; i < nbb_cells.length; ++i) {\n",
       "                    if (nbb_cells[i].input_prompt_number == nbb_cell_id) {\n",
       "                        if (nbb_cells[i].get_text() == nbb_unformatted_code) {\n",
       "                             nbb_cells[i].set_text(nbb_formatted_code);\n",
       "                        }\n",
       "                        break;\n",
       "                    }\n",
       "                }\n",
       "            }, 500);\n",
       "            "
      ],
      "text/plain": [
       "<IPython.core.display.Javascript object>"
      ]
     },
     "metadata": {},
     "output_type": "display_data"
    }
   ],
   "source": [
    "prod_1_desc_df = format_description(prod_1_desc, \"prod_1_rating\")\n",
    "prod_2_desc_df = format_description(prod_2_desc, \"prod_2_rating\")\n",
    "\n",
    "# Use pd.concat to stack 2 scipy.stats.describe dataframes\n",
    "description_df = pd.concat([prod_1_desc_df, prod_2_desc_df])\n",
    "description_df"
   ]
  },
  {
   "cell_type": "markdown",
   "metadata": {},
   "source": [
    "Let's compare our samples' to some samples from known distributions.  We'll compare visually and across our descriptive statistics of interest."
   ]
  },
  {
   "cell_type": "code",
   "execution_count": 49,
   "metadata": {},
   "outputs": [
    {
     "data": {
      "image/png": "[encoded data removed]",
      "text/plain": [
       "<Figure size 432x288 with 1 Axes>"
      ]
     },
     "metadata": {
      "needs_background": "light"
     },
     "output_type": "display_data"
    },
    {
     "data": {
      "image/png": "[encoded data removed]",
      "text/plain": [
       "<Figure size 432x288 with 1 Axes>"
      ]
     },
     "metadata": {
      "needs_background": "light"
     },
     "output_type": "display_data"
    },
    {
     "data": {
      "image/png": "[encoded data removed]",
      "text/plain": [
       "<Figure size 432x288 with 1 Axes>"
      ]
     },
     "metadata": {
      "needs_background": "light"
     },
     "output_type": "display_data"
    },
    {
     "data": {
      "image/png": "[encoded data removed]",
      "text/plain": [
       "<Figure size 432x288 with 1 Axes>"
      ]
     },
     "metadata": {
      "needs_background": "light"
     },
     "output_type": "display_data"
    },
    {
     "data": {
      "text/html": [
       "<div>\n",
       "<style scoped>\n",
       "    .dataframe tbody tr th:only-of-type {\n",
       "        vertical-align: middle;\n",
       "    }\n",
       "\n",
       "    .dataframe tbody tr th {\n",
       "        vertical-align: top;\n",
       "    }\n",
       "\n",
       "    .dataframe thead th {\n",
       "        text-align: right;\n",
       "    }\n",
       "</style>\n",
       "<table border=\"1\" class=\"dataframe\">\n",
       "  <thead>\n",
       "    <tr style=\"text-align: right;\">\n",
       "      <th></th>\n",
       "      <th>nobs</th>\n",
       "      <th>minmax</th>\n",
       "      <th>mean</th>\n",
       "      <th>variance</th>\n",
       "      <th>skewness</th>\n",
       "      <th>kurtosis</th>\n",
       "      <th>name</th>\n",
       "    </tr>\n",
       "  </thead>\n",
       "  <tbody>\n",
       "    <tr>\n",
       "      <th>0</th>\n",
       "      <td>405</td>\n",
       "      <td>(1, 10)</td>\n",
       "      <td>5.298765</td>\n",
       "      <td>5.521904</td>\n",
       "      <td>0.126190</td>\n",
       "      <td>-0.697009</td>\n",
       "      <td>prod_1_rating</td>\n",
       "    </tr>\n",
       "    <tr>\n",
       "      <th>1</th>\n",
       "      <td>443</td>\n",
       "      <td>(1, 10)</td>\n",
       "      <td>5.250564</td>\n",
       "      <td>5.179157</td>\n",
       "      <td>0.213933</td>\n",
       "      <td>-0.552082</td>\n",
       "      <td>prod_2_rating</td>\n",
       "    </tr>\n",
       "    <tr>\n",
       "      <th>2</th>\n",
       "      <td>500</td>\n",
       "      <td>(-1.4825346801381452, 12.705462981309442)</td>\n",
       "      <td>5.013676</td>\n",
       "      <td>3.851432</td>\n",
       "      <td>0.179623</td>\n",
       "      <td>0.256381</td>\n",
       "      <td>normal</td>\n",
       "    </tr>\n",
       "    <tr>\n",
       "      <th>3</th>\n",
       "      <td>500</td>\n",
       "      <td>(0.8215640329016687, 12.725321929903371)</td>\n",
       "      <td>5.062087</td>\n",
       "      <td>4.773801</td>\n",
       "      <td>0.757112</td>\n",
       "      <td>0.449211</td>\n",
       "      <td>gamma</td>\n",
       "    </tr>\n",
       "    <tr>\n",
       "      <th>4</th>\n",
       "      <td>500</td>\n",
       "      <td>(1.0289643724385082, 9.985127602536547)</td>\n",
       "      <td>5.548099</td>\n",
       "      <td>6.672517</td>\n",
       "      <td>-0.067589</td>\n",
       "      <td>-1.211579</td>\n",
       "      <td>uniform</td>\n",
       "    </tr>\n",
       "    <tr>\n",
       "      <th>5</th>\n",
       "      <td>500</td>\n",
       "      <td>(0.04882503156042033, 23.051907794157056)</td>\n",
       "      <td>1.556586</td>\n",
       "      <td>3.888054</td>\n",
       "      <td>4.879461</td>\n",
       "      <td>37.634789</td>\n",
       "      <td>log_normal</td>\n",
       "    </tr>\n",
       "  </tbody>\n",
       "</table>\n",
       "</div>"
      ],
      "text/plain": [
       "   nobs                                     minmax      mean  variance  \\\n",
       "0   405                                    (1, 10)  5.298765  5.521904   \n",
       "1   443                                    (1, 10)  5.250564  5.179157   \n",
       "2   500  (-1.4825346801381452, 12.705462981309442)  5.013676  3.851432   \n",
       "3   500   (0.8215640329016687, 12.725321929903371)  5.062087  4.773801   \n",
       "4   500    (1.0289643724385082, 9.985127602536547)  5.548099  6.672517   \n",
       "5   500  (0.04882503156042033, 23.051907794157056)  1.556586  3.888054   \n",
       "\n",
       "   skewness   kurtosis           name  \n",
       "0  0.126190  -0.697009  prod_1_rating  \n",
       "1  0.213933  -0.552082  prod_2_rating  \n",
       "2  0.179623   0.256381         normal  \n",
       "3  0.757112   0.449211          gamma  \n",
       "4 -0.067589  -1.211579        uniform  \n",
       "5  4.879461  37.634789     log_normal  "
      ]
     },
     "execution_count": 49,
     "metadata": {},
     "output_type": "execute_result"
    },
    {
     "data": {
      "application/javascript": [
       "\n",
       "            setTimeout(function() {\n",
       "                var nbb_cell_id = 49;\n",
       "                var nbb_unformatted_code = \"np.random.seed(42)\\n\\nsample_size = 500\\nsamples = {}\\n\\n# Add random samples to our dictionary\\nsamples[\\\"normal\\\"] = np.random.normal(5, 2, sample_size)\\nsamples[\\\"gamma\\\"] = np.random.gamma(5, 1, sample_size)\\nsamples[\\\"uniform\\\"] = np.random.uniform(1, 10, sample_size)\\nsamples[\\\"log_normal\\\"] = np.random.lognormal(0, 1, sample_size)\\n\\n# Starting with an empty list and building up the output later\\ndescription_dfs = []\\n\\n# Add description dfs for our 2 product rating samples\\ndescription_dfs.extend([prod_1_desc_df, prod_2_desc_df])\\n\\n\\nfor name, sample in samples.items():\\n    # Describe and store\\n    desc = stats.describe(sample)\\n    description_df = format_description(desc, name)\\n\\n    # Add the new description to the end of the list\\n    description_dfs.append(description_df)\\n\\n    # Viz\\n    plt.hist(sample, label=name)\\n    plt.hist(product_1[\\\"rating\\\"], alpha=0.3, label='product_1')\\n    plt.hist(product_2[\\\"rating\\\"], alpha=0.3, label='product_2')\\n    plt.legend()\\n    plt.title(name)\\n    plt.show()\\n\\n\\ndescription_df = pd.concat(description_dfs, ignore_index=True)\\ndescription_df\";\n",
       "                var nbb_formatted_code = \"np.random.seed(42)\\n\\nsample_size = 500\\nsamples = {}\\n\\n# Add random samples to our dictionary\\nsamples[\\\"normal\\\"] = np.random.normal(5, 2, sample_size)\\nsamples[\\\"gamma\\\"] = np.random.gamma(5, 1, sample_size)\\nsamples[\\\"uniform\\\"] = np.random.uniform(1, 10, sample_size)\\nsamples[\\\"log_normal\\\"] = np.random.lognormal(0, 1, sample_size)\\n\\n# Starting with an empty list and building up the output later\\ndescription_dfs = []\\n\\n# Add description dfs for our 2 product rating samples\\ndescription_dfs.extend([prod_1_desc_df, prod_2_desc_df])\\n\\n\\nfor name, sample in samples.items():\\n    # Describe and store\\n    desc = stats.describe(sample)\\n    description_df = format_description(desc, name)\\n\\n    # Add the new description to the end of the list\\n    description_dfs.append(description_df)\\n\\n    # Viz\\n    plt.hist(sample, label=name)\\n    plt.hist(product_1[\\\"rating\\\"], alpha=0.3, label=\\\"product_1\\\")\\n    plt.hist(product_2[\\\"rating\\\"], alpha=0.3, label=\\\"product_2\\\")\\n    plt.legend()\\n    plt.title(name)\\n    plt.show()\\n\\n\\ndescription_df = pd.concat(description_dfs, ignore_index=True)\\ndescription_df\";\n",
       "                var nbb_cells = Jupyter.notebook.get_cells();\n",
       "                for (var i = 0; i < nbb_cells.length; ++i) {\n",
       "                    if (nbb_cells[i].input_prompt_number == nbb_cell_id) {\n",
       "                        if (nbb_cells[i].get_text() == nbb_unformatted_code) {\n",
       "                             nbb_cells[i].set_text(nbb_formatted_code);\n",
       "                        }\n",
       "                        break;\n",
       "                    }\n",
       "                }\n",
       "            }, 500);\n",
       "            "
      ],
      "text/plain": [
       "<IPython.core.display.Javascript object>"
      ]
     },
     "metadata": {},
     "output_type": "display_data"
    }
   ],
   "source": [
    "np.random.seed(42)\n",
    "\n",
    "sample_size = 500\n",
    "samples = {}\n",
    "\n",
    "# Add random samples to our dictionary\n",
    "samples[\"normal\"] = np.random.normal(5, 2, sample_size)\n",
    "samples[\"gamma\"] = np.random.gamma(5, 1, sample_size)\n",
    "samples[\"uniform\"] = np.random.uniform(1, 10, sample_size)\n",
    "samples[\"log_normal\"] = np.random.lognormal(0, 1, sample_size)\n",
    "\n",
    "# Starting with an empty list and building up the output later\n",
    "description_dfs = []\n",
    "\n",
    "# Add description dfs for our 2 product rating samples\n",
    "description_dfs.extend([prod_1_desc_df, prod_2_desc_df])\n",
    "\n",
    "\n",
    "for name, sample in samples.items():\n",
    "    # Describe and store\n",
    "    desc = stats.describe(sample)\n",
    "    description_df = format_description(desc, name)\n",
    "\n",
    "    # Add the new description to the end of the list\n",
    "    description_dfs.append(description_df)\n",
    "\n",
    "    # Viz\n",
    "    plt.hist(sample, label=name)\n",
    "    plt.hist(product_1[\"rating\"], alpha=0.3, label=\"product_1\")\n",
    "    plt.hist(product_2[\"rating\"], alpha=0.3, label=\"product_2\")\n",
    "    plt.legend()\n",
    "    plt.title(name)\n",
    "    plt.show()\n",
    "\n",
    "\n",
    "description_df = pd.concat(description_dfs, ignore_index=True)\n",
    "description_df"
   ]
  },
  {
   "cell_type": "markdown",
   "metadata": {},
   "source": [
    "For checking our normality assumption we'll focus in on skewness and kurtosis.\n",
    "\n",
    "From the reading:\n",
    "> How close is close enough? The truth is there’s no definitive answer, but a good rule of thumb is that anything with kurtosis from -2.5 to 2.5 and skewness from -1.5 to 1.5 is close enough for a t-test to work well.\n",
    "\n",
    "Seeing this plotted makes it easier to see that our data is fairly in line with the normal sample's descriptive statistics."
   ]
  },
  {
   "cell_type": "code",
   "execution_count": 55,
   "metadata": {},
   "outputs": [
    {
     "data": {
      "image/png": "[encoded data removed]",
      "text/plain": [
       "<Figure size 432x288 with 1 Axes>"
      ]
     },
     "metadata": {
      "needs_background": "light"
     },
     "output_type": "display_data"
    },
    {
     "data": {
      "image/png": "[encoded data removed]",
      "text/plain": [
       "<Figure size 432x288 with 1 Axes>"
      ]
     },
     "metadata": {
      "needs_background": "light"
     },
     "output_type": "display_data"
    },
    {
     "data": {
      "application/javascript": [
       "\n",
       "            setTimeout(function() {\n",
       "                var nbb_cell_id = 55;\n",
       "                var nbb_unformatted_code = \"# Make a bar plot of skewness by name using seaborn\\nsns.barplot(x=\\\"skewness\\\", y=\\\"name\\\", data=description_df)\\nplt.show()\\n\\n# Make a bar plot of skewness by name using seaborn\\nsns.barplot(x=\\\"kurtosis\\\", y=\\\"name\\\", data=description_df)\\n# sns.barplot(x=description_df[\\\"kurtosis\\\"], y=description_df[\\\"name\\\"])\\nplt.show()\";\n",
       "                var nbb_formatted_code = \"# Make a bar plot of skewness by name using seaborn\\nsns.barplot(x=\\\"skewness\\\", y=\\\"name\\\", data=description_df)\\nplt.show()\\n\\n# Make a bar plot of skewness by name using seaborn\\nsns.barplot(x=\\\"kurtosis\\\", y=\\\"name\\\", data=description_df)\\n# sns.barplot(x=description_df[\\\"kurtosis\\\"], y=description_df[\\\"name\\\"])\\nplt.show()\";\n",
       "                var nbb_cells = Jupyter.notebook.get_cells();\n",
       "                for (var i = 0; i < nbb_cells.length; ++i) {\n",
       "                    if (nbb_cells[i].input_prompt_number == nbb_cell_id) {\n",
       "                        if (nbb_cells[i].get_text() == nbb_unformatted_code) {\n",
       "                             nbb_cells[i].set_text(nbb_formatted_code);\n",
       "                        }\n",
       "                        break;\n",
       "                    }\n",
       "                }\n",
       "            }, 500);\n",
       "            "
      ],
      "text/plain": [
       "<IPython.core.display.Javascript object>"
      ]
     },
     "metadata": {},
     "output_type": "display_data"
    }
   ],
   "source": [
    "# Make a bar plot of skewness by name using seaborn\n",
    "sns.barplot(x=\"skewness\", y=\"name\", data=description_df)\n",
    "plt.show()\n",
    "\n",
    "# Make a bar plot of skewness by name using seaborn\n",
    "sns.barplot(x=\"kurtosis\", y=\"name\", data=description_df)\n",
    "# sns.barplot(x=description_df[\"kurtosis\"], y=description_df[\"name\"])\n",
    "plt.show()"
   ]
  },
  {
   "cell_type": "markdown",
   "metadata": {},
   "source": [
    "# Let's perform the t-test...\n",
    "\n",
    "## First, what are our hypotheses?\n",
    "\n",
    "H<sub>o</sub>: `mean(x1) - mean(x2) = 0`\n",
    "\n",
    "H<sub>a</sub>: `mean(x1) - mean(x2) != 0`\n",
    "\n",
    "## By 'hand' t-test\n",
    "\n",
    "### Define t\n",
    "\n",
    "* Intuitively, a t-test is the ratio of signal to noise: `t = signal / noise`\n",
    "* The signal we want to measure is the difference of means `signal = x1.mean() - x2.mean()`\n",
    "* The noise... `np.sqrt(x1.std()**2 / len(x1) + x2.std()**2 / len(x2))`\n",
    "  * From the reading: \n",
    "      > our denominator is a \"pooled\" combination of the variances of each sample... a \"hybrid\" standard error\"\n",
    "  * SE for a single sample is defined as `x.std() / np.sqrt(len(x))`\n",
    "  \n",
    "### All together now"
   ]
  },
  {
   "cell_type": "code",
   "execution_count": 56,
   "metadata": {},
   "outputs": [
    {
     "name": "stdout",
     "output_type": "stream",
     "text": [
      "The difference in means is 0.0482\n",
      "Our test statistic is 0.303.\n"
     ]
    },
    {
     "data": {
      "application/javascript": [
       "\n",
       "            setTimeout(function() {\n",
       "                var nbb_cell_id = 56;\n",
       "                var nbb_unformatted_code = \"x1 = product_1['rating']\\nx2 = product_2['rating']\\n\\nsignal = x1.mean() - x2.mean()\\nnoise = np.sqrt(x1.std()**2 / len(x1) + x2.std()**2 / len(x2))\\n\\nt = signal / noise\\n\\nprint(f'The difference in means is {signal:.4f}')\\nprint(f'Our test statistic is {t:.3f}.')\";\n",
       "                var nbb_formatted_code = \"x1 = product_1[\\\"rating\\\"]\\nx2 = product_2[\\\"rating\\\"]\\n\\nsignal = x1.mean() - x2.mean()\\nnoise = np.sqrt(x1.std() ** 2 / len(x1) + x2.std() ** 2 / len(x2))\\n\\nt = signal / noise\\n\\nprint(f\\\"The difference in means is {signal:.4f}\\\")\\nprint(f\\\"Our test statistic is {t:.3f}.\\\")\";\n",
       "                var nbb_cells = Jupyter.notebook.get_cells();\n",
       "                for (var i = 0; i < nbb_cells.length; ++i) {\n",
       "                    if (nbb_cells[i].input_prompt_number == nbb_cell_id) {\n",
       "                        if (nbb_cells[i].get_text() == nbb_unformatted_code) {\n",
       "                             nbb_cells[i].set_text(nbb_formatted_code);\n",
       "                        }\n",
       "                        break;\n",
       "                    }\n",
       "                }\n",
       "            }, 500);\n",
       "            "
      ],
      "text/plain": [
       "<IPython.core.display.Javascript object>"
      ]
     },
     "metadata": {},
     "output_type": "display_data"
    }
   ],
   "source": [
    "x1 = product_1[\"rating\"]\n",
    "x2 = product_2[\"rating\"]\n",
    "\n",
    "signal = x1.mean() - x2.mean()\n",
    "noise = np.sqrt(x1.std() ** 2 / len(x1) + x2.std() ** 2 / len(x2))\n",
    "\n",
    "t = signal / noise\n",
    "\n",
    "print(f\"The difference in means is {signal:.4f}\")\n",
    "print(f\"Our test statistic is {t:.3f}.\")"
   ]
  },
  {
   "cell_type": "markdown",
   "metadata": {},
   "source": [
    "#### As a function"
   ]
  },
  {
   "cell_type": "code",
   "execution_count": 57,
   "metadata": {},
   "outputs": [
    {
     "name": "stdout",
     "output_type": "stream",
     "text": [
      "Our test statistic is 0.303.\n"
     ]
    },
    {
     "data": {
      "application/javascript": [
       "\n",
       "            setTimeout(function() {\n",
       "                var nbb_cell_id = 57;\n",
       "                var nbb_unformatted_code = \"def t_test(x1, x2):\\n    \\\"\\\"\\\"2 sample t-test for 2 1d numpy arrays\\\"\\\"\\\"\\n    signal = x1.mean() - x2.mean()\\n    noise = np.sqrt(x1.std()**2 / len(x1) + x2.std()**2 / len(x2))\\n    t = signal / noise\\n    return t\\n\\n\\ntest_statistic = t_test(product_1['rating'], product_2['rating'])\\nprint(f'Our test statistic is {test_statistic:.3f}.')\";\n",
       "                var nbb_formatted_code = \"def t_test(x1, x2):\\n    \\\"\\\"\\\"2 sample t-test for 2 1d numpy arrays\\\"\\\"\\\"\\n    signal = x1.mean() - x2.mean()\\n    noise = np.sqrt(x1.std() ** 2 / len(x1) + x2.std() ** 2 / len(x2))\\n    t = signal / noise\\n    return t\\n\\n\\ntest_statistic = t_test(product_1[\\\"rating\\\"], product_2[\\\"rating\\\"])\\nprint(f\\\"Our test statistic is {test_statistic:.3f}.\\\")\";\n",
       "                var nbb_cells = Jupyter.notebook.get_cells();\n",
       "                for (var i = 0; i < nbb_cells.length; ++i) {\n",
       "                    if (nbb_cells[i].input_prompt_number == nbb_cell_id) {\n",
       "                        if (nbb_cells[i].get_text() == nbb_unformatted_code) {\n",
       "                             nbb_cells[i].set_text(nbb_formatted_code);\n",
       "                        }\n",
       "                        break;\n",
       "                    }\n",
       "                }\n",
       "            }, 500);\n",
       "            "
      ],
      "text/plain": [
       "<IPython.core.display.Javascript object>"
      ]
     },
     "metadata": {},
     "output_type": "display_data"
    }
   ],
   "source": [
    "def t_test(x1, x2):\n",
    "    \"\"\"2 sample t-test for 2 1d numpy arrays\"\"\"\n",
    "    signal = x1.mean() - x2.mean()\n",
    "    noise = np.sqrt(x1.std() ** 2 / len(x1) + x2.std() ** 2 / len(x2))\n",
    "    t = signal / noise\n",
    "    return t\n",
    "\n",
    "\n",
    "test_statistic = t_test(product_1[\"rating\"], product_2[\"rating\"])\n",
    "print(f\"Our test statistic is {test_statistic:.3f}.\")"
   ]
  },
  {
   "cell_type": "markdown",
   "metadata": {},
   "source": [
    "### Conclusions?\n",
    "\n",
    "From the reading:\n",
    "> We know we can reject the null from either of these results:\n",
    "> \n",
    "> * The test statistic is greater than 1.96.\n",
    "> * The p-value is less than < .05.\n",
    "\n",
    "Note that the critical value (i.e. 1.96) varies and if doing this \"by hand\" we could use [a table](https://people.richland.edu/james/lecture/m170/tbl-t.html) to look up an appropriate value.  The other option is to use a function that does this for us."
   ]
  },
  {
   "cell_type": "code",
   "execution_count": 58,
   "metadata": {},
   "outputs": [
    {
     "data": {
      "text/plain": [
       "False"
      ]
     },
     "execution_count": 58,
     "metadata": {},
     "output_type": "execute_result"
    },
    {
     "data": {
      "application/javascript": [
       "\n",
       "            setTimeout(function() {\n",
       "                var nbb_cell_id = 58;\n",
       "                var nbb_unformatted_code = \"# Drumroll.......\\ntest_statistic > 1.96\";\n",
       "                var nbb_formatted_code = \"# Drumroll.......\\ntest_statistic > 1.96\";\n",
       "                var nbb_cells = Jupyter.notebook.get_cells();\n",
       "                for (var i = 0; i < nbb_cells.length; ++i) {\n",
       "                    if (nbb_cells[i].input_prompt_number == nbb_cell_id) {\n",
       "                        if (nbb_cells[i].get_text() == nbb_unformatted_code) {\n",
       "                             nbb_cells[i].set_text(nbb_formatted_code);\n",
       "                        }\n",
       "                        break;\n",
       "                    }\n",
       "                }\n",
       "            }, 500);\n",
       "            "
      ],
      "text/plain": [
       "<IPython.core.display.Javascript object>"
      ]
     },
     "metadata": {},
     "output_type": "display_data"
    }
   ],
   "source": [
    "# Drumroll.......\n",
    "test_statistic > 1.96"
   ]
  },
  {
   "cell_type": "markdown",
   "metadata": {},
   "source": [
    "We fail to reject the null hypothesis.\n",
    "\n",
    "## Now using `scipy.stats.ttest_ind()`"
   ]
  },
  {
   "cell_type": "code",
   "execution_count": 59,
   "metadata": {},
   "outputs": [
    {
     "data": {
      "application/javascript": [
       "\n",
       "            setTimeout(function() {\n",
       "                var nbb_cell_id = 59;\n",
       "                var nbb_unformatted_code = \"# View the documentation for the function\\nstats.ttest_ind?\";\n",
       "                var nbb_formatted_code = \"# View the documentation for the function\\nstats.ttest_ind?\";\n",
       "                var nbb_cells = Jupyter.notebook.get_cells();\n",
       "                for (var i = 0; i < nbb_cells.length; ++i) {\n",
       "                    if (nbb_cells[i].input_prompt_number == nbb_cell_id) {\n",
       "                        if (nbb_cells[i].get_text() == nbb_unformatted_code) {\n",
       "                             nbb_cells[i].set_text(nbb_formatted_code);\n",
       "                        }\n",
       "                        break;\n",
       "                    }\n",
       "                }\n",
       "            }, 500);\n",
       "            "
      ],
      "text/plain": [
       "<IPython.core.display.Javascript object>"
      ]
     },
     "metadata": {},
     "output_type": "display_data"
    }
   ],
   "source": [
    "# View the documentation for the function\n",
    "stats.ttest_ind?"
   ]
  },
  {
   "cell_type": "code",
   "execution_count": 60,
   "metadata": {},
   "outputs": [
    {
     "data": {
      "text/plain": [
       "Ttest_indResult(statistic=0.30332106983071794, pvalue=0.7617197649549227)"
      ]
     },
     "execution_count": 60,
     "metadata": {},
     "output_type": "execute_result"
    },
    {
     "data": {
      "application/javascript": [
       "\n",
       "            setTimeout(function() {\n",
       "                var nbb_cell_id = 60;\n",
       "                var nbb_unformatted_code = \"stats.ttest_ind(product_1[\\\"rating\\\"], product_2[\\\"rating\\\"])\";\n",
       "                var nbb_formatted_code = \"stats.ttest_ind(product_1[\\\"rating\\\"], product_2[\\\"rating\\\"])\";\n",
       "                var nbb_cells = Jupyter.notebook.get_cells();\n",
       "                for (var i = 0; i < nbb_cells.length; ++i) {\n",
       "                    if (nbb_cells[i].input_prompt_number == nbb_cell_id) {\n",
       "                        if (nbb_cells[i].get_text() == nbb_unformatted_code) {\n",
       "                             nbb_cells[i].set_text(nbb_formatted_code);\n",
       "                        }\n",
       "                        break;\n",
       "                    }\n",
       "                }\n",
       "            }, 500);\n",
       "            "
      ],
      "text/plain": [
       "<IPython.core.display.Javascript object>"
      ]
     },
     "metadata": {},
     "output_type": "display_data"
    }
   ],
   "source": [
    "stats.ttest_ind(product_1[\"rating\"], product_2[\"rating\"])"
   ]
  },
  {
   "cell_type": "code",
   "execution_count": 61,
   "metadata": {},
   "outputs": [
    {
     "name": "stdout",
     "output_type": "stream",
     "text": [
      "Our test statistic is 0.303.\n",
      "Our p value is 0.762.\n"
     ]
    },
    {
     "data": {
      "application/javascript": [
       "\n",
       "            setTimeout(function() {\n",
       "                var nbb_cell_id = 61;\n",
       "                var nbb_unformatted_code = \"test_statistic, p_value = stats.ttest_ind(product_1[\\\"rating\\\"], product_2[\\\"rating\\\"])\\n\\nprint(f'Our test statistic is {test_statistic:.3f}.')\\nprint(f'Our p value is {p_value:.3f}.')\";\n",
       "                var nbb_formatted_code = \"test_statistic, p_value = stats.ttest_ind(product_1[\\\"rating\\\"], product_2[\\\"rating\\\"])\\n\\nprint(f\\\"Our test statistic is {test_statistic:.3f}.\\\")\\nprint(f\\\"Our p value is {p_value:.3f}.\\\")\";\n",
       "                var nbb_cells = Jupyter.notebook.get_cells();\n",
       "                for (var i = 0; i < nbb_cells.length; ++i) {\n",
       "                    if (nbb_cells[i].input_prompt_number == nbb_cell_id) {\n",
       "                        if (nbb_cells[i].get_text() == nbb_unformatted_code) {\n",
       "                             nbb_cells[i].set_text(nbb_formatted_code);\n",
       "                        }\n",
       "                        break;\n",
       "                    }\n",
       "                }\n",
       "            }, 500);\n",
       "            "
      ],
      "text/plain": [
       "<IPython.core.display.Javascript object>"
      ]
     },
     "metadata": {},
     "output_type": "display_data"
    }
   ],
   "source": [
    "test_statistic, p_value = stats.ttest_ind(product_1[\"rating\"], product_2[\"rating\"])\n",
    "\n",
    "print(f\"Our test statistic is {test_statistic:.3f}.\")\n",
    "print(f\"Our p value is {p_value:.3f}.\")"
   ]
  },
  {
   "cell_type": "code",
   "execution_count": 63,
   "metadata": {},
   "outputs": [
    {
     "name": "stdout",
     "output_type": "stream",
     "text": [
      "False\n",
      "False\n"
     ]
    },
    {
     "data": {
      "application/javascript": [
       "\n",
       "            setTimeout(function() {\n",
       "                var nbb_cell_id = 63;\n",
       "                var nbb_unformatted_code = \"print(test_statistic > 1.96)\\nprint(p_value < 0.05)\";\n",
       "                var nbb_formatted_code = \"print(test_statistic > 1.96)\\nprint(p_value < 0.05)\";\n",
       "                var nbb_cells = Jupyter.notebook.get_cells();\n",
       "                for (var i = 0; i < nbb_cells.length; ++i) {\n",
       "                    if (nbb_cells[i].input_prompt_number == nbb_cell_id) {\n",
       "                        if (nbb_cells[i].get_text() == nbb_unformatted_code) {\n",
       "                             nbb_cells[i].set_text(nbb_formatted_code);\n",
       "                        }\n",
       "                        break;\n",
       "                    }\n",
       "                }\n",
       "            }, 500);\n",
       "            "
      ],
      "text/plain": [
       "<IPython.core.display.Javascript object>"
      ]
     },
     "metadata": {},
     "output_type": "display_data"
    }
   ],
   "source": [
    "print(test_statistic > 1.96)\n",
    "print(p_value < 0.05)"
   ]
  },
  {
   "cell_type": "markdown",
   "metadata": {},
   "source": [
    "### Interpreting the p value\n",
    "\n",
    "#### Generally: \n",
    "\n",
    "Assuming H<sub>o</sub> is true, you would obtain the observed difference of means (or greater) in `{p_value * 100}`% of samples due to random error.\n",
    "\n",
    "#### In our case:"
   ]
  },
  {
   "cell_type": "code",
   "execution_count": 64,
   "metadata": {},
   "outputs": [
    {
     "name": "stdout",
     "output_type": "stream",
     "text": [
      "Assuming there is no difference of means, we would see the observed difference of 0.0482 (or greater) in 76.2% of samples due to random error\n"
     ]
    },
    {
     "data": {
      "application/javascript": [
       "\n",
       "            setTimeout(function() {\n",
       "                var nbb_cell_id = 64;\n",
       "                var nbb_unformatted_code = \"signal = product_1[\\\"rating\\\"].mean() - product_2[\\\"rating\\\"].mean()\\n\\npart_1 = 'Assuming there is no difference of means, we would see the observed difference '\\npart_2 = f'of {signal:.4f} (or greater) in {p_value * 100:.1f}% of samples due to random error'\\nprint(part_1 + part_2)\";\n",
       "                var nbb_formatted_code = \"signal = product_1[\\\"rating\\\"].mean() - product_2[\\\"rating\\\"].mean()\\n\\npart_1 = (\\n    \\\"Assuming there is no difference of means, we would see the observed difference \\\"\\n)\\npart_2 = f\\\"of {signal:.4f} (or greater) in {p_value * 100:.1f}% of samples due to random error\\\"\\nprint(part_1 + part_2)\";\n",
       "                var nbb_cells = Jupyter.notebook.get_cells();\n",
       "                for (var i = 0; i < nbb_cells.length; ++i) {\n",
       "                    if (nbb_cells[i].input_prompt_number == nbb_cell_id) {\n",
       "                        if (nbb_cells[i].get_text() == nbb_unformatted_code) {\n",
       "                             nbb_cells[i].set_text(nbb_formatted_code);\n",
       "                        }\n",
       "                        break;\n",
       "                    }\n",
       "                }\n",
       "            }, 500);\n",
       "            "
      ],
      "text/plain": [
       "<IPython.core.display.Javascript object>"
      ]
     },
     "metadata": {},
     "output_type": "display_data"
    }
   ],
   "source": [
    "signal = product_1[\"rating\"].mean() - product_2[\"rating\"].mean()\n",
    "\n",
    "part_1 = (\n",
    "    \"Assuming there is no difference of means, we would see the observed difference \"\n",
    ")\n",
    "part_2 = f\"of {signal:.4f} (or greater) in {p_value * 100:.1f}% of samples due to random error\"\n",
    "print(part_1 + part_2)"
   ]
  },
  {
   "cell_type": "markdown",
   "metadata": {},
   "source": [
    "### Confidence Interval\n",
    "\n",
    "Slightly re-written from the function in the reading.  Neither is wrong, and they calculate the same results; just different writing styles.  We'll get to this later..."
   ]
  },
  {
   "cell_type": "code",
   "execution_count": null,
   "metadata": {},
   "outputs": [],
   "source": [
    "def get_95_ci(x1, x2):\n",
    "    signal = x1.mean() - x2.mean()\n",
    "    noise = np.sqrt(x1.std()**2 / len(x1) + x2.std()**2 / len(x2))\n",
    "\n",
    "    ci_lower_bound = signal - 1.96 * noise\n",
    "    ci_upper_bound = signal + 1.96 * noise\n",
    "\n",
    "    return (ci_lower_bound, ci_upper_bound)\n",
    "\n",
    "\n",
    "ci_lo, ci_hi = get_95_ci(product_1['rating'], product_2['rating'])\n",
    "print((ci_lo, ci_hi))\n",
    "\n",
    "# Is zero (aka our null hypothesis) contained in CI?\n",
    "ci_lo <= 0 <= ci_hi"
   ]
  }
 ],
 "metadata": {
  "kernelspec": {
   "display_name": "Python 3",
   "language": "python",
   "name": "python3"
  },
  "language_info": {
   "codemirror_mode": {
    "name": "ipython",
    "version": 3
   },
   "file_extension": ".py",
   "mimetype": "text/x-python",
   "name": "python",
   "nbconvert_exporter": "python",
   "pygments_lexer": "ipython3",
   "version": "3.7.6"
  }
 },
 "nbformat": 4,
 "nbformat_minor": 2
}
