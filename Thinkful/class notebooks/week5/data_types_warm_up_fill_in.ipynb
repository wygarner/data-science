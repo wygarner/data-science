{
 "cells": [
  {
   "cell_type": "code",
   "execution_count": 1,
   "metadata": {},
   "outputs": [
    {
     "data": {
      "application/javascript": [
       "\n",
       "            setTimeout(function() {\n",
       "                var nbb_cell_id = 1;\n",
       "                var nbb_unformatted_code = \"%load_ext nb_black\";\n",
       "                var nbb_formatted_code = \"%load_ext nb_black\";\n",
       "                var nbb_cells = Jupyter.notebook.get_cells();\n",
       "                for (var i = 0; i < nbb_cells.length; ++i) {\n",
       "                    if (nbb_cells[i].input_prompt_number == nbb_cell_id) {\n",
       "                        if (nbb_cells[i].get_text() == nbb_unformatted_code) {\n",
       "                             nbb_cells[i].set_text(nbb_formatted_code);\n",
       "                        }\n",
       "                        break;\n",
       "                    }\n",
       "                }\n",
       "            }, 500);\n",
       "            "
      ],
      "text/plain": [
       "<IPython.core.display.Javascript object>"
      ]
     },
     "metadata": {},
     "output_type": "display_data"
    }
   ],
   "source": [
    "%load_ext nb_black"
   ]
  },
  {
   "cell_type": "markdown",
   "metadata": {},
   "source": [
    "### What are the main* built-in python data types?\n",
    "\n",
    "Let's also practice our jupyter/markdown skills while doing this warmup.  Convert the below cell to markdown, and fill it with your answer as a bulleted list."
   ]
  },
  {
   "cell_type": "markdown",
   "metadata": {},
   "source": [
    "* str\n",
    "* int\n",
    "* float\n",
    "* bool\n",
    "* tuple\n",
    "* list\n",
    "* dict\n",
    "* None"
   ]
  },
  {
   "cell_type": "markdown",
   "metadata": {},
   "source": [
    "<sub>\n",
    "*This could of course be debated, but... let's not.  List as many built-in types as you'd like.\n",
    "</sub>"
   ]
  },
  {
   "cell_type": "markdown",
   "metadata": {},
   "source": [
    "### What kinds of data types are we primarily** dealing with inside of `pandas` dataframes, and what are some ways they are handled differently?\n",
    "\n",
    "Again, let's use markdown in the below cell.  Format however you'd like."
   ]
  },
  {
   "cell_type": "markdown",
   "metadata": {},
   "source": [
    "* series\n",
    "* object"
   ]
  },
  {
   "cell_type": "markdown",
   "metadata": {},
   "source": [
    "<sub>\n",
    "**This could of course be debated, but... let's not.  List as many panda-ish types as you'd like.\n",
    "</sub>"
   ]
  },
  {
   "cell_type": "markdown",
   "metadata": {},
   "source": [
    "-----\n",
    "\n",
    "### Fun with datatypes in `pandas`\n",
    "\n",
    "Below there are some lists defined with varying types of data.\n",
    "\n",
    "* Use these lists to build a dataframe where each list is its own column.  \n",
    "* Give the columns names based on the data."
   ]
  },
  {
   "cell_type": "code",
   "execution_count": 5,
   "metadata": {},
   "outputs": [
    {
     "data": {
      "application/javascript": [
       "\n",
       "            setTimeout(function() {\n",
       "                var nbb_cell_id = 5;\n",
       "                var nbb_unformatted_code = \"import pandas as pd\\n\\n\\na = [True, False, True]\\nb = [\\\"1\\\", \\\"2\\\", \\\"3\\\"]\\nc = [1, 2, 3]\\nd = [1.1, 2.2, 3.3]\\ne = [[1], [2], [3]]\\nf = [(1, 1), (2, 2), (3, 3)]\\ng = [{\\\"1\\\": 1}, {\\\"2\\\": 2}, {\\\"3\\\": 3}]\\nh = [True, 1, \\\"1\\\"]\";\n",
       "                var nbb_formatted_code = \"import pandas as pd\\n\\n\\na = [True, False, True]\\nb = [\\\"1\\\", \\\"2\\\", \\\"3\\\"]\\nc = [1, 2, 3]\\nd = [1.1, 2.2, 3.3]\\ne = [[1], [2], [3]]\\nf = [(1, 1), (2, 2), (3, 3)]\\ng = [{\\\"1\\\": 1}, {\\\"2\\\": 2}, {\\\"3\\\": 3}]\\nh = [True, 1, \\\"1\\\"]\";\n",
       "                var nbb_cells = Jupyter.notebook.get_cells();\n",
       "                for (var i = 0; i < nbb_cells.length; ++i) {\n",
       "                    if (nbb_cells[i].input_prompt_number == nbb_cell_id) {\n",
       "                        if (nbb_cells[i].get_text() == nbb_unformatted_code) {\n",
       "                             nbb_cells[i].set_text(nbb_formatted_code);\n",
       "                        }\n",
       "                        break;\n",
       "                    }\n",
       "                }\n",
       "            }, 500);\n",
       "            "
      ],
      "text/plain": [
       "<IPython.core.display.Javascript object>"
      ]
     },
     "metadata": {},
     "output_type": "display_data"
    }
   ],
   "source": [
    "import pandas as pd\n",
    "\n",
    "\n",
    "a = [True, False, True]\n",
    "b = [\"1\", \"2\", \"3\"]\n",
    "c = [1, 2, 3]\n",
    "d = [1.1, 2.2, 3.3]\n",
    "e = [[1], [2], [3]]\n",
    "f = [(1, 1), (2, 2), (3, 3)]\n",
    "g = [{\"1\": 1}, {\"2\": 2}, {\"3\": 3}]\n",
    "h = [True, 1, \"1\"]"
   ]
  },
  {
   "cell_type": "code",
   "execution_count": 7,
   "metadata": {},
   "outputs": [
    {
     "data": {
      "text/html": [
       "<div>\n",
       "<style scoped>\n",
       "    .dataframe tbody tr th:only-of-type {\n",
       "        vertical-align: middle;\n",
       "    }\n",
       "\n",
       "    .dataframe tbody tr th {\n",
       "        vertical-align: top;\n",
       "    }\n",
       "\n",
       "    .dataframe thead th {\n",
       "        text-align: right;\n",
       "    }\n",
       "</style>\n",
       "<table border=\"1\" class=\"dataframe\">\n",
       "  <thead>\n",
       "    <tr style=\"text-align: right;\">\n",
       "      <th></th>\n",
       "      <th>bool</th>\n",
       "      <th>str</th>\n",
       "      <th>int</th>\n",
       "      <th>float</th>\n",
       "      <th>list</th>\n",
       "      <th>tuple</th>\n",
       "      <th>dict</th>\n",
       "      <th>object</th>\n",
       "    </tr>\n",
       "  </thead>\n",
       "  <tbody>\n",
       "    <tr>\n",
       "      <th>0</th>\n",
       "      <td>True</td>\n",
       "      <td>1</td>\n",
       "      <td>1</td>\n",
       "      <td>1.1</td>\n",
       "      <td>[1]</td>\n",
       "      <td>(1, 1)</td>\n",
       "      <td>{'1': 1}</td>\n",
       "      <td>True</td>\n",
       "    </tr>\n",
       "    <tr>\n",
       "      <th>1</th>\n",
       "      <td>False</td>\n",
       "      <td>2</td>\n",
       "      <td>2</td>\n",
       "      <td>2.2</td>\n",
       "      <td>[2]</td>\n",
       "      <td>(2, 2)</td>\n",
       "      <td>{'2': 2}</td>\n",
       "      <td>1</td>\n",
       "    </tr>\n",
       "    <tr>\n",
       "      <th>2</th>\n",
       "      <td>True</td>\n",
       "      <td>3</td>\n",
       "      <td>3</td>\n",
       "      <td>3.3</td>\n",
       "      <td>[3]</td>\n",
       "      <td>(3, 3)</td>\n",
       "      <td>{'3': 3}</td>\n",
       "      <td>1</td>\n",
       "    </tr>\n",
       "  </tbody>\n",
       "</table>\n",
       "</div>"
      ],
      "text/plain": [
       "    bool str  int  float list   tuple      dict object\n",
       "0   True   1    1    1.1  [1]  (1, 1)  {'1': 1}   True\n",
       "1  False   2    2    2.2  [2]  (2, 2)  {'2': 2}      1\n",
       "2   True   3    3    3.3  [3]  (3, 3)  {'3': 3}      1"
      ]
     },
     "execution_count": 7,
     "metadata": {},
     "output_type": "execute_result"
    },
    {
     "data": {
      "application/javascript": [
       "\n",
       "            setTimeout(function() {\n",
       "                var nbb_cell_id = 7;\n",
       "                var nbb_unformatted_code = \"dataframe = pd.DataFrame(\\n    {\\n        \\\"bool\\\": a,\\n        \\\"str\\\": b,\\n        \\\"int\\\": c,\\n        \\\"float\\\": d,\\n        \\\"list\\\": e,\\n        \\\"tuple\\\": f,\\n        \\\"dict\\\": g,\\n        \\\"object\\\": h,\\n    }\\n)\\n\\ndataframe\";\n",
       "                var nbb_formatted_code = \"dataframe = pd.DataFrame(\\n    {\\n        \\\"bool\\\": a,\\n        \\\"str\\\": b,\\n        \\\"int\\\": c,\\n        \\\"float\\\": d,\\n        \\\"list\\\": e,\\n        \\\"tuple\\\": f,\\n        \\\"dict\\\": g,\\n        \\\"object\\\": h,\\n    }\\n)\\n\\ndataframe\";\n",
       "                var nbb_cells = Jupyter.notebook.get_cells();\n",
       "                for (var i = 0; i < nbb_cells.length; ++i) {\n",
       "                    if (nbb_cells[i].input_prompt_number == nbb_cell_id) {\n",
       "                        if (nbb_cells[i].get_text() == nbb_unformatted_code) {\n",
       "                             nbb_cells[i].set_text(nbb_formatted_code);\n",
       "                        }\n",
       "                        break;\n",
       "                    }\n",
       "                }\n",
       "            }, 500);\n",
       "            "
      ],
      "text/plain": [
       "<IPython.core.display.Javascript object>"
      ]
     },
     "metadata": {},
     "output_type": "display_data"
    }
   ],
   "source": [
    "dataframe = pd.DataFrame(\n",
    "    {\n",
    "        \"bool\": a,\n",
    "        \"str\": b,\n",
    "        \"int\": c,\n",
    "        \"float\": d,\n",
    "        \"list\": e,\n",
    "        \"tuple\": f,\n",
    "        \"dict\": g,\n",
    "        \"object\": h,\n",
    "    }\n",
    ")\n",
    "\n",
    "dataframe"
   ]
  },
  {
   "cell_type": "markdown",
   "metadata": {},
   "source": [
    "Above we let the dataframe be the last element of a cell, so it's automatically displayed.  Note that this is a different view than if you use the `print()` function.  There's also a `display()` function that can be used (this is how dataframe's are shown if they appear at the end of a cell.\n",
    "\n",
    "* Use both `print()` and `display()` below to view your dataframe.\n",
    "* Note the differences (especially when it comes to datatypes)."
   ]
  },
  {
   "cell_type": "code",
   "execution_count": 12,
   "metadata": {},
   "outputs": [
    {
     "name": "stdout",
     "output_type": "stream",
     "text": [
      "    bool str  int  float list   tuple      dict object\n",
      "0   True   1    1    1.1  [1]  (1, 1)  {'1': 1}   True\n",
      "1  False   2    2    2.2  [2]  (2, 2)  {'2': 2}      1\n",
      "2   True   3    3    3.3  [3]  (3, 3)  {'3': 3}      1\n"
     ]
    },
    {
     "data": {
      "application/javascript": [
       "\n",
       "            setTimeout(function() {\n",
       "                var nbb_cell_id = 12;\n",
       "                var nbb_unformatted_code = \"dataframe\\nprint(dataframe)\";\n",
       "                var nbb_formatted_code = \"dataframe\\nprint(dataframe)\";\n",
       "                var nbb_cells = Jupyter.notebook.get_cells();\n",
       "                for (var i = 0; i < nbb_cells.length; ++i) {\n",
       "                    if (nbb_cells[i].input_prompt_number == nbb_cell_id) {\n",
       "                        if (nbb_cells[i].get_text() == nbb_unformatted_code) {\n",
       "                             nbb_cells[i].set_text(nbb_formatted_code);\n",
       "                        }\n",
       "                        break;\n",
       "                    }\n",
       "                }\n",
       "            }, 500);\n",
       "            "
      ],
      "text/plain": [
       "<IPython.core.display.Javascript object>"
      ]
     },
     "metadata": {},
     "output_type": "display_data"
    }
   ],
   "source": [
    "display(dataframe)\n",
    "print(dataframe)"
   ]
  },
  {
   "cell_type": "markdown",
   "metadata": {},
   "source": [
    "To check the datatype of anything in python we can use the `type` function."
   ]
  },
  {
   "cell_type": "code",
   "execution_count": 16,
   "metadata": {},
   "outputs": [
    {
     "data": {
      "text/plain": [
       "int"
      ]
     },
     "execution_count": 16,
     "metadata": {},
     "output_type": "execute_result"
    },
    {
     "data": {
      "application/javascript": [
       "\n",
       "            setTimeout(function() {\n",
       "                var nbb_cell_id = 16;\n",
       "                var nbb_unformatted_code = \"type(1)\";\n",
       "                var nbb_formatted_code = \"type(1)\";\n",
       "                var nbb_cells = Jupyter.notebook.get_cells();\n",
       "                for (var i = 0; i < nbb_cells.length; ++i) {\n",
       "                    if (nbb_cells[i].input_prompt_number == nbb_cell_id) {\n",
       "                        if (nbb_cells[i].get_text() == nbb_unformatted_code) {\n",
       "                             nbb_cells[i].set_text(nbb_formatted_code);\n",
       "                        }\n",
       "                        break;\n",
       "                    }\n",
       "                }\n",
       "            }, 500);\n",
       "            "
      ],
      "text/plain": [
       "<IPython.core.display.Javascript object>"
      ]
     },
     "metadata": {},
     "output_type": "display_data"
    }
   ],
   "source": [
    "type(1)"
   ]
  },
  {
   "cell_type": "code",
   "execution_count": 17,
   "metadata": {},
   "outputs": [
    {
     "data": {
      "text/plain": [
       "str"
      ]
     },
     "execution_count": 17,
     "metadata": {},
     "output_type": "execute_result"
    },
    {
     "data": {
      "application/javascript": [
       "\n",
       "            setTimeout(function() {\n",
       "                var nbb_cell_id = 17;\n",
       "                var nbb_unformatted_code = \"type(\\\"1\\\")\";\n",
       "                var nbb_formatted_code = \"type(\\\"1\\\")\";\n",
       "                var nbb_cells = Jupyter.notebook.get_cells();\n",
       "                for (var i = 0; i < nbb_cells.length; ++i) {\n",
       "                    if (nbb_cells[i].input_prompt_number == nbb_cell_id) {\n",
       "                        if (nbb_cells[i].get_text() == nbb_unformatted_code) {\n",
       "                             nbb_cells[i].set_text(nbb_formatted_code);\n",
       "                        }\n",
       "                        break;\n",
       "                    }\n",
       "                }\n",
       "            }, 500);\n",
       "            "
      ],
      "text/plain": [
       "<IPython.core.display.Javascript object>"
      ]
     },
     "metadata": {},
     "output_type": "display_data"
    }
   ],
   "source": [
    "type(\"1\")"
   ]
  },
  {
   "cell_type": "code",
   "execution_count": 18,
   "metadata": {},
   "outputs": [
    {
     "data": {
      "text/plain": [
       "pandas.core.frame.DataFrame"
      ]
     },
     "execution_count": 18,
     "metadata": {},
     "output_type": "execute_result"
    },
    {
     "data": {
      "application/javascript": [
       "\n",
       "            setTimeout(function() {\n",
       "                var nbb_cell_id = 18;\n",
       "                var nbb_unformatted_code = \"type(dataframe)\";\n",
       "                var nbb_formatted_code = \"type(dataframe)\";\n",
       "                var nbb_cells = Jupyter.notebook.get_cells();\n",
       "                for (var i = 0; i < nbb_cells.length; ++i) {\n",
       "                    if (nbb_cells[i].input_prompt_number == nbb_cell_id) {\n",
       "                        if (nbb_cells[i].get_text() == nbb_unformatted_code) {\n",
       "                             nbb_cells[i].set_text(nbb_formatted_code);\n",
       "                        }\n",
       "                        break;\n",
       "                    }\n",
       "                }\n",
       "            }, 500);\n",
       "            "
      ],
      "text/plain": [
       "<IPython.core.display.Javascript object>"
      ]
     },
     "metadata": {},
     "output_type": "display_data"
    }
   ],
   "source": [
    "type(dataframe)"
   ]
  },
  {
   "cell_type": "code",
   "execution_count": 19,
   "metadata": {},
   "outputs": [
    {
     "data": {
      "text/plain": [
       "'bool'"
      ]
     },
     "execution_count": 19,
     "metadata": {},
     "output_type": "execute_result"
    },
    {
     "data": {
      "application/javascript": [
       "\n",
       "            setTimeout(function() {\n",
       "                var nbb_cell_id = 19;\n",
       "                var nbb_unformatted_code = \"first_column_name = dataframe.columns[0]\\nfirst_column_name\";\n",
       "                var nbb_formatted_code = \"first_column_name = dataframe.columns[0]\\nfirst_column_name\";\n",
       "                var nbb_cells = Jupyter.notebook.get_cells();\n",
       "                for (var i = 0; i < nbb_cells.length; ++i) {\n",
       "                    if (nbb_cells[i].input_prompt_number == nbb_cell_id) {\n",
       "                        if (nbb_cells[i].get_text() == nbb_unformatted_code) {\n",
       "                             nbb_cells[i].set_text(nbb_formatted_code);\n",
       "                        }\n",
       "                        break;\n",
       "                    }\n",
       "                }\n",
       "            }, 500);\n",
       "            "
      ],
      "text/plain": [
       "<IPython.core.display.Javascript object>"
      ]
     },
     "metadata": {},
     "output_type": "display_data"
    }
   ],
   "source": [
    "first_column_name = dataframe.columns[0]\n",
    "first_column_name"
   ]
  },
  {
   "cell_type": "code",
   "execution_count": 20,
   "metadata": {},
   "outputs": [
    {
     "data": {
      "text/plain": [
       "str"
      ]
     },
     "execution_count": 20,
     "metadata": {},
     "output_type": "execute_result"
    },
    {
     "data": {
      "application/javascript": [
       "\n",
       "            setTimeout(function() {\n",
       "                var nbb_cell_id = 20;\n",
       "                var nbb_unformatted_code = \"type(first_column_name)\";\n",
       "                var nbb_formatted_code = \"type(first_column_name)\";\n",
       "                var nbb_cells = Jupyter.notebook.get_cells();\n",
       "                for (var i = 0; i < nbb_cells.length; ++i) {\n",
       "                    if (nbb_cells[i].input_prompt_number == nbb_cell_id) {\n",
       "                        if (nbb_cells[i].get_text() == nbb_unformatted_code) {\n",
       "                             nbb_cells[i].set_text(nbb_formatted_code);\n",
       "                        }\n",
       "                        break;\n",
       "                    }\n",
       "                }\n",
       "            }, 500);\n",
       "            "
      ],
      "text/plain": [
       "<IPython.core.display.Javascript object>"
      ]
     },
     "metadata": {},
     "output_type": "display_data"
    }
   ],
   "source": [
    "type(first_column_name)"
   ]
  },
  {
   "cell_type": "code",
   "execution_count": 21,
   "metadata": {},
   "outputs": [
    {
     "data": {
      "text/plain": [
       "0     True\n",
       "1    False\n",
       "2     True\n",
       "Name: bool, dtype: bool"
      ]
     },
     "execution_count": 21,
     "metadata": {},
     "output_type": "execute_result"
    },
    {
     "data": {
      "application/javascript": [
       "\n",
       "            setTimeout(function() {\n",
       "                var nbb_cell_id = 21;\n",
       "                var nbb_unformatted_code = \"dataframe[first_column_name]\";\n",
       "                var nbb_formatted_code = \"dataframe[first_column_name]\";\n",
       "                var nbb_cells = Jupyter.notebook.get_cells();\n",
       "                for (var i = 0; i < nbb_cells.length; ++i) {\n",
       "                    if (nbb_cells[i].input_prompt_number == nbb_cell_id) {\n",
       "                        if (nbb_cells[i].get_text() == nbb_unformatted_code) {\n",
       "                             nbb_cells[i].set_text(nbb_formatted_code);\n",
       "                        }\n",
       "                        break;\n",
       "                    }\n",
       "                }\n",
       "            }, 500);\n",
       "            "
      ],
      "text/plain": [
       "<IPython.core.display.Javascript object>"
      ]
     },
     "metadata": {},
     "output_type": "display_data"
    }
   ],
   "source": [
    "dataframe[first_column_name]"
   ]
  },
  {
   "cell_type": "code",
   "execution_count": 22,
   "metadata": {},
   "outputs": [
    {
     "data": {
      "text/plain": [
       "pandas.core.series.Series"
      ]
     },
     "execution_count": 22,
     "metadata": {},
     "output_type": "execute_result"
    },
    {
     "data": {
      "application/javascript": [
       "\n",
       "            setTimeout(function() {\n",
       "                var nbb_cell_id = 22;\n",
       "                var nbb_unformatted_code = \"type(dataframe[first_column_name])\";\n",
       "                var nbb_formatted_code = \"type(dataframe[first_column_name])\";\n",
       "                var nbb_cells = Jupyter.notebook.get_cells();\n",
       "                for (var i = 0; i < nbb_cells.length; ++i) {\n",
       "                    if (nbb_cells[i].input_prompt_number == nbb_cell_id) {\n",
       "                        if (nbb_cells[i].get_text() == nbb_unformatted_code) {\n",
       "                             nbb_cells[i].set_text(nbb_formatted_code);\n",
       "                        }\n",
       "                        break;\n",
       "                    }\n",
       "                }\n",
       "            }, 500);\n",
       "            "
      ],
      "text/plain": [
       "<IPython.core.display.Javascript object>"
      ]
     },
     "metadata": {},
     "output_type": "display_data"
    }
   ],
   "source": [
    "type(dataframe[first_column_name])"
   ]
  },
  {
   "cell_type": "markdown",
   "metadata": {},
   "source": [
    "But what about the contents of a dataframe column (aka a 'pandas series'; aka a '`pd.Series` object')?\n",
    "\n",
    "To do this we can use the `dtype` attribute like: `my_dataframe['my_column'].dtype`\n",
    "\n",
    "Below, show the `dtype` of your dataframe's first column."
   ]
  },
  {
   "cell_type": "code",
   "execution_count": 24,
   "metadata": {},
   "outputs": [
    {
     "data": {
      "text/plain": [
       "dtype('O')"
      ]
     },
     "execution_count": 24,
     "metadata": {},
     "output_type": "execute_result"
    },
    {
     "data": {
      "application/javascript": [
       "\n",
       "            setTimeout(function() {\n",
       "                var nbb_cell_id = 24;\n",
       "                var nbb_unformatted_code = \"dataframe[\\\"str\\\"].dtype\";\n",
       "                var nbb_formatted_code = \"dataframe[\\\"str\\\"].dtype\";\n",
       "                var nbb_cells = Jupyter.notebook.get_cells();\n",
       "                for (var i = 0; i < nbb_cells.length; ++i) {\n",
       "                    if (nbb_cells[i].input_prompt_number == nbb_cell_id) {\n",
       "                        if (nbb_cells[i].get_text() == nbb_unformatted_code) {\n",
       "                             nbb_cells[i].set_text(nbb_formatted_code);\n",
       "                        }\n",
       "                        break;\n",
       "                    }\n",
       "                }\n",
       "            }, 500);\n",
       "            "
      ],
      "text/plain": [
       "<IPython.core.display.Javascript object>"
      ]
     },
     "metadata": {},
     "output_type": "display_data"
    }
   ],
   "source": [
    "dataframe[\"str\"].dtype"
   ]
  },
  {
   "cell_type": "markdown",
   "metadata": {},
   "source": [
    "But what about seeing every columns datatypes at once?!  We have a couple options here.  We can look at the `dtypes` attribute of the dataframe like so: `dataframe.dtypes`.\n",
    "\n",
    "A little more common is to use the `info()` method.  This shows the datatypes and some additional meta info as well.\n",
    "\n",
    "Below, call the `info()` method of your dataframe and note all of the output displayed."
   ]
  },
  {
   "cell_type": "code",
   "execution_count": 25,
   "metadata": {},
   "outputs": [
    {
     "data": {
      "text/plain": [
       "bool         bool\n",
       "str        object\n",
       "int         int64\n",
       "float     float64\n",
       "list       object\n",
       "tuple      object\n",
       "dict       object\n",
       "object     object\n",
       "dtype: object"
      ]
     },
     "execution_count": 25,
     "metadata": {},
     "output_type": "execute_result"
    },
    {
     "data": {
      "application/javascript": [
       "\n",
       "            setTimeout(function() {\n",
       "                var nbb_cell_id = 25;\n",
       "                var nbb_unformatted_code = \"dataframe.dtypes\";\n",
       "                var nbb_formatted_code = \"dataframe.dtypes\";\n",
       "                var nbb_cells = Jupyter.notebook.get_cells();\n",
       "                for (var i = 0; i < nbb_cells.length; ++i) {\n",
       "                    if (nbb_cells[i].input_prompt_number == nbb_cell_id) {\n",
       "                        if (nbb_cells[i].get_text() == nbb_unformatted_code) {\n",
       "                             nbb_cells[i].set_text(nbb_formatted_code);\n",
       "                        }\n",
       "                        break;\n",
       "                    }\n",
       "                }\n",
       "            }, 500);\n",
       "            "
      ],
      "text/plain": [
       "<IPython.core.display.Javascript object>"
      ]
     },
     "metadata": {},
     "output_type": "display_data"
    }
   ],
   "source": [
    "dataframe.dtypes"
   ]
  },
  {
   "cell_type": "markdown",
   "metadata": {},
   "source": [
    "### Warm-up challenge\n",
    "\n",
    "If you blew through the above stuff.\n",
    "\n",
    "Write a for loop that:\n",
    "* Iterates over the column names of your dataframe\n",
    "* Prints the following information in each iteration:\n",
    "    * The datatype of the column's contents\n",
    "    * The type of the column's first element (i.e. if the column has the values `['a', 'b', 'c']`, print the type of `'a'`)"
   ]
  },
  {
   "cell_type": "code",
   "execution_count": 26,
   "metadata": {
    "hideOutput": true,
    "scrolled": true
   },
   "outputs": [
    {
     "data": {
      "text/plain": [
       "[(dtype('bool'), True, numpy.bool_),\n",
       " (dtype('O'), '1', str),\n",
       " (dtype('int64'), 1, numpy.int64),\n",
       " (dtype('float64'), 1.1, numpy.float64),\n",
       " (dtype('O'), [1], list),\n",
       " (dtype('O'), (1, 1), tuple),\n",
       " (dtype('O'), {'1': 1}, dict),\n",
       " (dtype('O'), True, bool)]"
      ]
     },
     "execution_count": 26,
     "metadata": {},
     "output_type": "execute_result"
    },
    {
     "data": {
      "application/javascript": [
       "\n",
       "            setTimeout(function() {\n",
       "                var nbb_cell_id = 26;\n",
       "                var nbb_unformatted_code = \"[(dataframe[i].dtype,dataframe[i][0], type(dataframe[i][0])) for i in list(dataframe)]\";\n",
       "                var nbb_formatted_code = \"[(dataframe[i].dtype, dataframe[i][0], type(dataframe[i][0])) for i in list(dataframe)]\";\n",
       "                var nbb_cells = Jupyter.notebook.get_cells();\n",
       "                for (var i = 0; i < nbb_cells.length; ++i) {\n",
       "                    if (nbb_cells[i].input_prompt_number == nbb_cell_id) {\n",
       "                        if (nbb_cells[i].get_text() == nbb_unformatted_code) {\n",
       "                             nbb_cells[i].set_text(nbb_formatted_code);\n",
       "                        }\n",
       "                        break;\n",
       "                    }\n",
       "                }\n",
       "            }, 500);\n",
       "            "
      ],
      "text/plain": [
       "<IPython.core.display.Javascript object>"
      ]
     },
     "metadata": {},
     "output_type": "display_data"
    }
   ],
   "source": [
    "[(dataframe[i].dtype, dataframe[i][0], type(dataframe[i][0])) for i in list(dataframe)]"
   ]
  },
  {
   "cell_type": "code",
   "execution_count": 41,
   "metadata": {},
   "outputs": [
    {
     "name": "stdout",
     "output_type": "stream",
     "text": [
      "bool dtype is bool\n",
      "first element of bool type is <class 'numpy.bool_'>\n",
      "\n",
      "str dtype is object\n",
      "first element of str type is <class 'str'>\n",
      "\n",
      "int dtype is int64\n",
      "first element of int type is <class 'numpy.int64'>\n",
      "\n",
      "float dtype is float64\n",
      "first element of float type is <class 'numpy.float64'>\n",
      "\n",
      "list dtype is object\n",
      "first element of list type is <class 'list'>\n",
      "\n",
      "tuple dtype is object\n",
      "first element of tuple type is <class 'tuple'>\n",
      "\n",
      "dict dtype is object\n",
      "first element of dict type is <class 'dict'>\n",
      "\n",
      "object dtype is object\n",
      "first element of object type is <class 'bool'>\n",
      "\n"
     ]
    },
    {
     "data": {
      "application/javascript": [
       "\n",
       "            setTimeout(function() {\n",
       "                var nbb_cell_id = 41;\n",
       "                var nbb_unformatted_code = \"for column in dataframe.columns:\\n    dtype_col = dataframe[column].dtype\\n    dtype_el = type(dataframe[column][0])\\n\\n    print(f\\\"{column} dtype is {dtype_col}\\\")\\n    print(f\\\"first element of {column} type is {dtype_el}\\\\n\\\")\";\n",
       "                var nbb_formatted_code = \"for column in dataframe.columns:\\n    dtype_col = dataframe[column].dtype\\n    dtype_el = type(dataframe[column][0])\\n\\n    print(f\\\"{column} dtype is {dtype_col}\\\")\\n    print(f\\\"first element of {column} type is {dtype_el}\\\\n\\\")\";\n",
       "                var nbb_cells = Jupyter.notebook.get_cells();\n",
       "                for (var i = 0; i < nbb_cells.length; ++i) {\n",
       "                    if (nbb_cells[i].input_prompt_number == nbb_cell_id) {\n",
       "                        if (nbb_cells[i].get_text() == nbb_unformatted_code) {\n",
       "                             nbb_cells[i].set_text(nbb_formatted_code);\n",
       "                        }\n",
       "                        break;\n",
       "                    }\n",
       "                }\n",
       "            }, 500);\n",
       "            "
      ],
      "text/plain": [
       "<IPython.core.display.Javascript object>"
      ]
     },
     "metadata": {},
     "output_type": "display_data"
    }
   ],
   "source": [
    "for column in dataframe.columns:\n",
    "    dtype_col = dataframe[column].dtype\n",
    "    dtype_el = type(dataframe[column][0])\n",
    "\n",
    "    print(f\"{column} dtype is {dtype_col}\")\n",
    "    print(f\"first element of {column} type is {dtype_el}\\n\")"
   ]
  }
 ],
 "metadata": {
  "kernelspec": {
   "display_name": "Python 3",
   "language": "python",
   "name": "python3"
  },
  "language_info": {
   "codemirror_mode": {
    "name": "ipython",
    "version": 3
   },
   "file_extension": ".py",
   "mimetype": "text/x-python",
   "name": "python",
   "nbconvert_exporter": "python",
   "pygments_lexer": "ipython3",
   "version": "3.7.6"
  }
 },
 "nbformat": 4,
 "nbformat_minor": 2
}
