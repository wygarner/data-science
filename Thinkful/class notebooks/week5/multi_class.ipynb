{
 "cells": [
  {
   "cell_type": "code",
   "execution_count": null,
   "metadata": {},
   "outputs": [],
   "source": [
    "%load_ext nb_black"
   ]
  },
  {
   "cell_type": "markdown",
   "metadata": {},
   "source": [
    "Made up data!!"
   ]
  },
  {
   "cell_type": "code",
   "execution_count": null,
   "metadata": {},
   "outputs": [],
   "source": [
    "import pandas as pd\n",
    "import numpy as np\n",
    "\n",
    "from sklearn.model_selection import train_test_split, cross_val_score\n",
    "from sklearn.metrics import (\n",
    "    classification_report,\n",
    "    confusion_matrix,\n",
    "    roc_curve,\n",
    "    roc_auc_score,\n",
    ")\n",
    "from sklearn.linear_model import LogisticRegression\n",
    "\n",
    "from mlxtend.plotting import plot_decision_regions\n",
    "\n",
    "import seaborn as sns\n",
    "import matplotlib.pyplot as plt\n",
    "\n",
    "%matplotlib inline\n",
    "\n",
    "np.random.seed(42)\n",
    "\n",
    "n = 500\n",
    "\n",
    "# This process would be better suited as a loop\n",
    "# Making up numeric features for class 0\n",
    "x1 = np.random.normal(0, 2, n)\n",
    "x2 = np.random.normal(5, 2, n)\n",
    "class_0 = pd.DataFrame({\"x1\": x1, \"x2\": x2})\n",
    "class_0[\"label\"] = 0\n",
    "\n",
    "# Making up numeric features for class 1\n",
    "x1 = np.random.normal(5, 2, n)\n",
    "x2 = np.random.normal(0, 2, n)\n",
    "class_1 = pd.DataFrame({\"x1\": x1, \"x2\": x2})\n",
    "class_1[\"label\"] = 1\n",
    "\n",
    "# Making up numeric features for class 2\n",
    "x1 = np.random.normal(5, 2, n)\n",
    "x2 = np.random.normal(5, 2, n)\n",
    "class_2 = pd.DataFrame({\"x1\": x1, \"x2\": x2})\n",
    "class_2[\"label\"] = 2\n",
    "\n",
    "# Making up numeric features for class 3\n",
    "x1 = np.random.normal(0, 2, n)\n",
    "x2 = np.random.normal(0, 2, n)\n",
    "class_3 = pd.DataFrame({\"x1\": x1, \"x2\": x2})\n",
    "class_3[\"label\"] = 3"
   ]
  },
  {
   "cell_type": "markdown",
   "metadata": {},
   "source": [
    "* Create a new column that holds a string version of the label"
   ]
  },
  {
   "cell_type": "code",
   "execution_count": null,
   "metadata": {},
   "outputs": [],
   "source": []
  },
  {
   "cell_type": "markdown",
   "metadata": {},
   "source": [
    "* Create a pairplot/scatter matrix of the features colored by the label"
   ]
  },
  {
   "cell_type": "code",
   "execution_count": null,
   "metadata": {},
   "outputs": [],
   "source": []
  },
  {
   "cell_type": "markdown",
   "metadata": {},
   "source": [
    "* Separate the data into `X` and `y` and perform a train test split"
   ]
  },
  {
   "cell_type": "code",
   "execution_count": null,
   "metadata": {},
   "outputs": [],
   "source": []
  },
  {
   "cell_type": "markdown",
   "metadata": {},
   "source": [
    "* Fit a logistic regression model to the data"
   ]
  },
  {
   "cell_type": "code",
   "execution_count": null,
   "metadata": {},
   "outputs": [],
   "source": []
  },
  {
   "cell_type": "markdown",
   "metadata": {},
   "source": [
    "* Report the accuracy.  Are we overfitting? underfitting?"
   ]
  },
  {
   "cell_type": "code",
   "execution_count": null,
   "metadata": {},
   "outputs": [],
   "source": []
  },
  {
   "cell_type": "markdown",
   "metadata": {},
   "source": [
    "* Use the `plot_decision_regions` function to... plot the decision regions"
   ]
  },
  {
   "cell_type": "code",
   "execution_count": null,
   "metadata": {},
   "outputs": [],
   "source": []
  },
  {
   "cell_type": "markdown",
   "metadata": {},
   "source": [
    "* Generate a confusion matrix for the model on the test set"
   ]
  },
  {
   "cell_type": "code",
   "execution_count": null,
   "metadata": {},
   "outputs": [],
   "source": []
  },
  {
   "cell_type": "markdown",
   "metadata": {},
   "source": [
    "* Predict the probability of each observation belonging to each class\n",
    "* Put this data in a dataframe"
   ]
  },
  {
   "cell_type": "code",
   "execution_count": null,
   "metadata": {},
   "outputs": [],
   "source": []
  },
  {
   "cell_type": "markdown",
   "metadata": {},
   "source": [
    "* Generate a ROC Curve for each class"
   ]
  },
  {
   "cell_type": "code",
   "execution_count": null,
   "metadata": {},
   "outputs": [],
   "source": [
    "plt.plot([0, 1], [0, 1], linestyle='--', color='black')\n",
    "for i in range(0, 4):\n",
    "    true = label_df[f'true_{i}']\n",
    "    prob = label_df[f'prob_{i}']\n",
    "        \n",
    "    auc = roc_auc_score(true, prob)\n",
    "    fprs, tprs, thresholds = roc_curve(true, prob)\n",
    "    plt.plot(fprs, tprs, label=f'Class {i} (AUC: {auc:.3f})')\n",
    "\n",
    "plt.legend()\n",
    "plt.show()"
   ]
  }
 ],
 "metadata": {
  "kernelspec": {
   "display_name": "Python 3",
   "language": "python",
   "name": "python3"
  },
  "language_info": {
   "codemirror_mode": {
    "name": "ipython",
    "version": 3
   },
   "file_extension": ".py",
   "mimetype": "text/x-python",
   "name": "python",
   "nbconvert_exporter": "python",
   "pygments_lexer": "ipython3",
   "version": "3.7.6"
  }
 },
 "nbformat": 4,
 "nbformat_minor": 2
}
