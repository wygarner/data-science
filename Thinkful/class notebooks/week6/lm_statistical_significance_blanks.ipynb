{
 "cells": [
  {
   "cell_type": "markdown",
   "metadata": {},
   "source": [
    "# Statistical Significance\n",
    "\n",
    "Slides [aquí](https://docs.google.com/presentation/d/10jV-CsgaaGv2F7H_gZnkz5_eVyVmqKLrc1rf26e2aDY/edit#slide=id.p1)"
   ]
  },
  {
   "cell_type": "code",
   "execution_count": 20,
   "metadata": {},
   "outputs": [
    {
     "data": {
      "application/javascript": [
       "\n",
       "            setTimeout(function() {\n",
       "                var nbb_cell_id = 20;\n",
       "                var nbb_unformatted_code = \"%load_ext nb_black\";\n",
       "                var nbb_formatted_code = \"%load_ext nb_black\";\n",
       "                var nbb_cells = Jupyter.notebook.get_cells();\n",
       "                for (var i = 0; i < nbb_cells.length; ++i) {\n",
       "                    if (nbb_cells[i].input_prompt_number == nbb_cell_id) {\n",
       "                        if (nbb_cells[i].get_text() == nbb_unformatted_code) {\n",
       "                             nbb_cells[i].set_text(nbb_formatted_code);\n",
       "                        }\n",
       "                        break;\n",
       "                    }\n",
       "                }\n",
       "            }, 500);\n",
       "            "
      ],
      "text/plain": [
       "<IPython.core.display.Javascript object>"
      ]
     },
     "metadata": {},
     "output_type": "display_data"
    }
   ],
   "source": [
    "%load_ext nb_black"
   ]
  },
  {
   "cell_type": "code",
   "execution_count": 21,
   "metadata": {},
   "outputs": [
    {
     "data": {
      "application/javascript": [
       "\n",
       "            setTimeout(function() {\n",
       "                var nbb_cell_id = 21;\n",
       "                var nbb_unformatted_code = \"# typically I prefer to import everything up top...\\n# but for this we're just going to do some of our more generic\\n# ones for you to fill in more specific ones on your own\\nimport numpy as np\\nimport pandas as pd\\n\\nimport statsmodels.api as sm\\nimport statsmodels.stats.api as sms\\nfrom statsmodels.stats.outliers_influence import variance_inflation_factor\\n\\nfrom scipy import stats\\n\\nimport seaborn as sns\\nimport matplotlib.pyplot as plt\\n%matplotlib inline\";\n",
       "                var nbb_formatted_code = \"# typically I prefer to import everything up top...\\n# but for this we're just going to do some of our more generic\\n# ones for you to fill in more specific ones on your own\\nimport numpy as np\\nimport pandas as pd\\n\\nimport statsmodels.api as sm\\nimport statsmodels.stats.api as sms\\nfrom statsmodels.stats.outliers_influence import variance_inflation_factor\\n\\nfrom scipy import stats\\n\\nimport seaborn as sns\\nimport matplotlib.pyplot as plt\\n\\n%matplotlib inline\";\n",
       "                var nbb_cells = Jupyter.notebook.get_cells();\n",
       "                for (var i = 0; i < nbb_cells.length; ++i) {\n",
       "                    if (nbb_cells[i].input_prompt_number == nbb_cell_id) {\n",
       "                        if (nbb_cells[i].get_text() == nbb_unformatted_code) {\n",
       "                             nbb_cells[i].set_text(nbb_formatted_code);\n",
       "                        }\n",
       "                        break;\n",
       "                    }\n",
       "                }\n",
       "            }, 500);\n",
       "            "
      ],
      "text/plain": [
       "<IPython.core.display.Javascript object>"
      ]
     },
     "metadata": {},
     "output_type": "display_data"
    }
   ],
   "source": [
    "# typically I prefer to import everything up top...\n",
    "# but for this we're just going to do some of our more generic\n",
    "# ones for you to fill in more specific ones on your own\n",
    "import numpy as np\n",
    "import pandas as pd\n",
    "\n",
    "import statsmodels.api as sm\n",
    "import statsmodels.stats.api as sms\n",
    "from statsmodels.stats.outliers_influence import variance_inflation_factor\n",
    "\n",
    "from scipy import stats\n",
    "\n",
    "import seaborn as sns\n",
    "import matplotlib.pyplot as plt\n",
    "\n",
    "%matplotlib inline"
   ]
  },
  {
   "cell_type": "markdown",
   "metadata": {},
   "source": [
    "## Warm Up! 🥵\n",
    "\n",
    "### 🥵#1\n",
    "\n",
    "* How do we evaluate scedasticity and why is it important to make sure this assumption is met in linear modeling?\n",
    "  * What even is scedasticity? `________________`\n",
    "  * Do we want to have homoscedasticity or heteroscedasticity `________________`\n",
    "  * In the below cell... plot `X` with `y1` and `X` with `y2`.  Which one do you think is homoscedastic? heteroscedastic? `________________`\n",
    "  * What about something more formal than this eyeball test?  Why is this eyeball test not great to start relying on?"
   ]
  },
  {
   "cell_type": "code",
   "execution_count": 22,
   "metadata": {},
   "outputs": [
    {
     "data": {
      "application/javascript": [
       "\n",
       "            setTimeout(function() {\n",
       "                var nbb_cell_id = 22;\n",
       "                var nbb_unformatted_code = \"# set seed for reproducible random stuff\\nnp.random.seed(42)\\n\\nn = 100\\nX = np.arange(n)\\ny1 = X + np.random.normal(0, 10, size=n)\\ny2 = X + np.random.normal(0, X**0.75)\";\n",
       "                var nbb_formatted_code = \"# set seed for reproducible random stuff\\nnp.random.seed(42)\\n\\nn = 100\\nX = np.arange(n)\\ny1 = X + np.random.normal(0, 10, size=n)\\ny2 = X + np.random.normal(0, X ** 0.75)\";\n",
       "                var nbb_cells = Jupyter.notebook.get_cells();\n",
       "                for (var i = 0; i < nbb_cells.length; ++i) {\n",
       "                    if (nbb_cells[i].input_prompt_number == nbb_cell_id) {\n",
       "                        if (nbb_cells[i].get_text() == nbb_unformatted_code) {\n",
       "                             nbb_cells[i].set_text(nbb_formatted_code);\n",
       "                        }\n",
       "                        break;\n",
       "                    }\n",
       "                }\n",
       "            }, 500);\n",
       "            "
      ],
      "text/plain": [
       "<IPython.core.display.Javascript object>"
      ]
     },
     "metadata": {},
     "output_type": "display_data"
    }
   ],
   "source": [
    "# set seed for reproducible random stuff\n",
    "np.random.seed(42)\n",
    "\n",
    "n = 100\n",
    "X = np.arange(n)\n",
    "y1 = X + np.random.normal(0, 10, size=n)\n",
    "y2 = X + np.random.normal(0, X ** 0.75)"
   ]
  },
  {
   "cell_type": "code",
   "execution_count": 7,
   "metadata": {},
   "outputs": [],
   "source": [
    "# plot X with y1 and X with y2\n"
   ]
  },
  {
   "cell_type": "code",
   "execution_count": 23,
   "metadata": {},
   "outputs": [
    {
     "data": {
      "image/png": "[encoded data removed]",
      "text/plain": [
       "<Figure size 432x288 with 1 Axes>"
      ]
     },
     "metadata": {
      "needs_background": "light"
     },
     "output_type": "display_data"
    },
    {
     "data": {
      "image/png": "[encoded data removed]",
      "text/plain": [
       "<Figure size 432x288 with 1 Axes>"
      ]
     },
     "metadata": {
      "needs_background": "light"
     },
     "output_type": "display_data"
    },
    {
     "name": "stdout",
     "output_type": "stream",
     "text": [
      "Reject the null that residuals are homoscedastic for y1? False\n",
      "Reject the null that residuals are homoscedastic for y2? True\n"
     ]
    },
    {
     "data": {
      "application/javascript": [
       "\n",
       "            setTimeout(function() {\n",
       "                var nbb_cell_id = 23;\n",
       "                var nbb_unformatted_code = \"# What about something more formal than this eyeball test?\\nX_const = sm.add_constant(X)\\nlm1 = sm.OLS(y1, X_const).fit()\\nlm2 = sm.OLS(y2, X_const).fit()\\n\\nplt.scatter(X, lm1.resid)\\nplt.axhline(0, c='red', ls='--', alpha=0.5)\\nplt.xlabel('X')\\nplt.ylabel('Residual')\\nplt.show()\\n\\nplt.scatter(X, lm2.resid)\\nplt.axhline(0, c='red', ls='--', alpha=0.5)\\nplt.xlabel('X')\\nplt.ylabel('Residual')\\nplt.show()\\n\\n# Documenation: https://www.statsmodels.org/dev/generated/statsmodels.stats.diagnostic.het_breuschpagan.html\\n# Null hypothesis is homoscedastic\\n_, _, _, p1 = sms.het_breuschpagan(lm1.resid, X_const)\\n_, _, _, p2 = sms.het_breuschpagan(lm2.resid, X_const)\\n\\nprint(f'Reject the null that residuals are homoscedastic for y1? {p1 < 0.05}')\\nprint(f'Reject the null that residuals are homoscedastic for y2? {p2 < 0.05}')\";\n",
       "                var nbb_formatted_code = \"# What about something more formal than this eyeball test?\\nX_const = sm.add_constant(X)\\nlm1 = sm.OLS(y1, X_const).fit()\\nlm2 = sm.OLS(y2, X_const).fit()\\n\\nplt.scatter(X, lm1.resid)\\nplt.axhline(0, c=\\\"red\\\", ls=\\\"--\\\", alpha=0.5)\\nplt.xlabel(\\\"X\\\")\\nplt.ylabel(\\\"Residual\\\")\\nplt.show()\\n\\nplt.scatter(X, lm2.resid)\\nplt.axhline(0, c=\\\"red\\\", ls=\\\"--\\\", alpha=0.5)\\nplt.xlabel(\\\"X\\\")\\nplt.ylabel(\\\"Residual\\\")\\nplt.show()\\n\\n# Documenation: https://www.statsmodels.org/dev/generated/statsmodels.stats.diagnostic.het_breuschpagan.html\\n# Null hypothesis is homoscedastic\\n_, _, _, p1 = sms.het_breuschpagan(lm1.resid, X_const)\\n_, _, _, p2 = sms.het_breuschpagan(lm2.resid, X_const)\\n\\nprint(f\\\"Reject the null that residuals are homoscedastic for y1? {p1 < 0.05}\\\")\\nprint(f\\\"Reject the null that residuals are homoscedastic for y2? {p2 < 0.05}\\\")\";\n",
       "                var nbb_cells = Jupyter.notebook.get_cells();\n",
       "                for (var i = 0; i < nbb_cells.length; ++i) {\n",
       "                    if (nbb_cells[i].input_prompt_number == nbb_cell_id) {\n",
       "                        if (nbb_cells[i].get_text() == nbb_unformatted_code) {\n",
       "                             nbb_cells[i].set_text(nbb_formatted_code);\n",
       "                        }\n",
       "                        break;\n",
       "                    }\n",
       "                }\n",
       "            }, 500);\n",
       "            "
      ],
      "text/plain": [
       "<IPython.core.display.Javascript object>"
      ]
     },
     "metadata": {},
     "output_type": "display_data"
    }
   ],
   "source": [
    "# What about something more formal than this eyeball test?\n",
    "X_const = sm.add_constant(X)\n",
    "lm1 = sm.OLS(y1, X_const).fit()\n",
    "lm2 = sm.OLS(y2, X_const).fit()\n",
    "\n",
    "plt.scatter(X, lm1.resid)\n",
    "plt.axhline(0, c=\"red\", ls=\"--\", alpha=0.5)\n",
    "plt.xlabel(\"X\")\n",
    "plt.ylabel(\"Residual\")\n",
    "plt.show()\n",
    "\n",
    "plt.scatter(X, lm2.resid)\n",
    "plt.axhline(0, c=\"red\", ls=\"--\", alpha=0.5)\n",
    "plt.xlabel(\"X\")\n",
    "plt.ylabel(\"Residual\")\n",
    "plt.show()\n",
    "\n",
    "# Documenation: https://www.statsmodels.org/dev/generated/statsmodels.stats.diagnostic.het_breuschpagan.html\n",
    "# Null hypothesis is homoscedastic\n",
    "_, _, _, p1 = sms.het_breuschpagan(lm1.resid, X_const)\n",
    "_, _, _, p2 = sms.het_breuschpagan(lm2.resid, X_const)\n",
    "\n",
    "print(f\"Reject the null that residuals are homoscedastic for y1? {p1 < 0.05}\")\n",
    "print(f\"Reject the null that residuals are homoscedastic for y2? {p2 < 0.05}\")"
   ]
  },
  {
   "cell_type": "markdown",
   "metadata": {},
   "source": [
    "### 🥵 #2\n",
    "\n",
    "* How do we evaluate for multicollinearity and why is this assumption important?\n",
    "  * What even is multicollinearity? `________________`\n",
    "  * Do we want to have multicollinearity or no multicollinearity? `________________`\n",
    "  * In the below cell... Does `X` contain significant multicollinearity?\n",
    "  * When creating dummies/one-hot-encoded variables, what do we need to do to avoid multicolinearararity?"
   ]
  },
  {
   "cell_type": "code",
   "execution_count": 24,
   "metadata": {},
   "outputs": [
    {
     "data": {
      "application/javascript": [
       "\n",
       "            setTimeout(function() {\n",
       "                var nbb_cell_id = 24;\n",
       "                var nbb_unformatted_code = \"# set seed for reproducible random stuff\\nnp.random.seed(42)\\n\\nn = 20\\nx1 = np.arange(n)\\nx2 = np.random.normal(size=n)\\nx3 = 2 * np.arange(n) + np.random.normal(0, 1, n)\\nX = pd.concat((pd.Series(x) for x in [x1, x2, x3]), axis=1)\\nX.columns = ['x1', 'x2', 'x3']\";\n",
       "                var nbb_formatted_code = \"# set seed for reproducible random stuff\\nnp.random.seed(42)\\n\\nn = 20\\nx1 = np.arange(n)\\nx2 = np.random.normal(size=n)\\nx3 = 2 * np.arange(n) + np.random.normal(0, 1, n)\\nX = pd.concat((pd.Series(x) for x in [x1, x2, x3]), axis=1)\\nX.columns = [\\\"x1\\\", \\\"x2\\\", \\\"x3\\\"]\";\n",
       "                var nbb_cells = Jupyter.notebook.get_cells();\n",
       "                for (var i = 0; i < nbb_cells.length; ++i) {\n",
       "                    if (nbb_cells[i].input_prompt_number == nbb_cell_id) {\n",
       "                        if (nbb_cells[i].get_text() == nbb_unformatted_code) {\n",
       "                             nbb_cells[i].set_text(nbb_formatted_code);\n",
       "                        }\n",
       "                        break;\n",
       "                    }\n",
       "                }\n",
       "            }, 500);\n",
       "            "
      ],
      "text/plain": [
       "<IPython.core.display.Javascript object>"
      ]
     },
     "metadata": {},
     "output_type": "display_data"
    }
   ],
   "source": [
    "# set seed for reproducible random stuff\n",
    "np.random.seed(42)\n",
    "\n",
    "n = 20\n",
    "x1 = np.arange(n)\n",
    "x2 = np.random.normal(size=n)\n",
    "x3 = 2 * np.arange(n) + np.random.normal(0, 1, n)\n",
    "X = pd.concat((pd.Series(x) for x in [x1, x2, x3]), axis=1)\n",
    "X.columns = [\"x1\", \"x2\", \"x3\"]"
   ]
  },
  {
   "cell_type": "code",
   "execution_count": 10,
   "metadata": {},
   "outputs": [],
   "source": [
    "# Does X contain significant multicollinearity?\n"
   ]
  },
  {
   "cell_type": "markdown",
   "metadata": {},
   "source": [
    "## t-tests again!! 🎉\n",
    "\n",
    "I can feel the excitement bubbling up in you all just writing this... I know, I missed them too.\n",
    "\n",
    "Let's look more at this $t$ distribution to start.  We didn't really do that before.\n",
    "\n",
    "* Generate a t distribution with `np.random._______`.\n",
    "    * Use a large-ish sample size\n",
    "    * Play with the value of the degrees of freedom parameter (From the slide: \"more degrees of freedom means closer to the normal distribution\")\n",
    "    "
   ]
  },
  {
   "cell_type": "code",
   "execution_count": 25,
   "metadata": {},
   "outputs": [
    {
     "data": {
      "image/png": "[encoded data removed]",
      "text/plain": [
       "<Figure size 432x288 with 1 Axes>"
      ]
     },
     "metadata": {
      "needs_background": "light"
     },
     "output_type": "display_data"
    },
    {
     "data": {
      "image/png": "[encoded data removed]",
      "text/plain": [
       "<Figure size 432x288 with 1 Axes>"
      ]
     },
     "metadata": {
      "needs_background": "light"
     },
     "output_type": "display_data"
    },
    {
     "data": {
      "image/png": "[encoded data removed]",
      "text/plain": [
       "<Figure size 432x288 with 1 Axes>"
      ]
     },
     "metadata": {
      "needs_background": "light"
     },
     "output_type": "display_data"
    },
    {
     "data": {
      "application/javascript": [
       "\n",
       "            setTimeout(function() {\n",
       "                var nbb_cell_id = 25;\n",
       "                var nbb_unformatted_code = \"# set seed for reproducible random stuff\\nnp.random.seed(42)\\n\\n# Generate a t distribution with an np.random function\\nn = 1000\\nplt.hist(np.random.standard_t(df=5, size=n))\\nplt.show()\\n\\nplt.hist(np.random.standard_t(df=10, size=n))\\nplt.show()\\n\\nplt.hist(np.random.standard_t(df=100, size=n))\\nplt.show()\";\n",
       "                var nbb_formatted_code = \"# set seed for reproducible random stuff\\nnp.random.seed(42)\\n\\n# Generate a t distribution with an np.random function\\nn = 1000\\nplt.hist(np.random.standard_t(df=5, size=n))\\nplt.show()\\n\\nplt.hist(np.random.standard_t(df=10, size=n))\\nplt.show()\\n\\nplt.hist(np.random.standard_t(df=100, size=n))\\nplt.show()\";\n",
       "                var nbb_cells = Jupyter.notebook.get_cells();\n",
       "                for (var i = 0; i < nbb_cells.length; ++i) {\n",
       "                    if (nbb_cells[i].input_prompt_number == nbb_cell_id) {\n",
       "                        if (nbb_cells[i].get_text() == nbb_unformatted_code) {\n",
       "                             nbb_cells[i].set_text(nbb_formatted_code);\n",
       "                        }\n",
       "                        break;\n",
       "                    }\n",
       "                }\n",
       "            }, 500);\n",
       "            "
      ],
      "text/plain": [
       "<IPython.core.display.Javascript object>"
      ]
     },
     "metadata": {},
     "output_type": "display_data"
    }
   ],
   "source": [
    "# set seed for reproducible random stuff\n",
    "np.random.seed(42)\n",
    "\n",
    "# Generate a t distribution with an np.random function\n",
    "n = 1000\n",
    "plt.hist(np.random.standard_t(df=5, size=n))\n",
    "plt.show()\n",
    "\n",
    "plt.hist(np.random.standard_t(df=10, size=n))\n",
    "plt.show()\n",
    "\n",
    "plt.hist(np.random.standard_t(df=100, size=n))\n",
    "plt.show()"
   ]
  },
  {
   "cell_type": "markdown",
   "metadata": {},
   "source": [
    "* What's the null hypothesis in a t-test?\n",
    "* When do we reject this null hypothesis?"
   ]
  },
  {
   "cell_type": "markdown",
   "metadata": {},
   "source": [
    "Below are the average heights (in cm) by sex in USA according to [this big ole report](https://www.cdc.gov/nchs/data/series/sr_03/sr03_039.pdf) that I really found from [this wikipedia page](https://en.wikipedia.org/wiki/Average_human_height_by_country); the info also gives the sample size and standard deviation.\n",
    "\n",
    "* Generate random normal samples using this information.\n",
    "* Plot overlaid histograms of these samples you generated."
   ]
  },
  {
   "cell_type": "code",
   "execution_count": 13,
   "metadata": {},
   "outputs": [
    {
     "data": {
      "image/png": "[encoded data removed]",
      "text/plain": [
       "<Figure size 432x288 with 1 Axes>"
      ]
     },
     "metadata": {
      "needs_background": "light"
     },
     "output_type": "display_data"
    }
   ],
   "source": [
    "male_n = 5232\n",
    "male_avg = 175.3\n",
    "male_sd = 15.2\n",
    "\n",
    "female_n = 5547\n",
    "female_avg = 161.5\n",
    "female_sd = 15.2\n",
    "\n",
    "# Generate random normal samples using this information.\n",
    "np.random.seed(42)\n",
    "female_height = _____\n",
    "male_height = _____\n",
    "\n",
    "# Plot overlaid histograms of these samples you generated.\n",
    "_____\n",
    "_____\n",
    "plt.show()"
   ]
  },
  {
   "cell_type": "markdown",
   "metadata": {},
   "source": [
    "According to the histograms (and the average) men are taller.  Is this difference significant?"
   ]
  },
  {
   "cell_type": "code",
   "execution_count": 26,
   "metadata": {},
   "outputs": [
    {
     "data": {
      "text/plain": [
       "Ttest_indResult(statistic=-46.343565222289186, pvalue=0.0)"
      ]
     },
     "execution_count": 26,
     "metadata": {},
     "output_type": "execute_result"
    },
    {
     "data": {
      "application/javascript": [
       "\n",
       "            setTimeout(function() {\n",
       "                var nbb_cell_id = 26;\n",
       "                var nbb_unformatted_code = \"stats.ttest_ind(female_height, male_height)\";\n",
       "                var nbb_formatted_code = \"stats.ttest_ind(female_height, male_height)\";\n",
       "                var nbb_cells = Jupyter.notebook.get_cells();\n",
       "                for (var i = 0; i < nbb_cells.length; ++i) {\n",
       "                    if (nbb_cells[i].input_prompt_number == nbb_cell_id) {\n",
       "                        if (nbb_cells[i].get_text() == nbb_unformatted_code) {\n",
       "                             nbb_cells[i].set_text(nbb_formatted_code);\n",
       "                        }\n",
       "                        break;\n",
       "                    }\n",
       "                }\n",
       "            }, 500);\n",
       "            "
      ],
      "text/plain": [
       "<IPython.core.display.Javascript object>"
      ]
     },
     "metadata": {},
     "output_type": "display_data"
    }
   ],
   "source": [
    "stats.ttest_ind(female_height, male_height)"
   ]
  },
  {
   "cell_type": "markdown",
   "metadata": {},
   "source": [
    "What if we had biased samples?? What is a biased sample??\n",
    "\n",
    "Let's say we took a random sample of women and only ended up with WNBA players (not likely with a random sample, but the beauty of randomness is that *anything* is possible, some things are just unlikely).  Below is the average height for WNBA players according to [reference.com](https://www.reference.com/world-view/average-height-wnba-player-a3cf4bccebffecfb); also is the number of WNBA players according to the [New York Times](https://www.nytimes.com/2018/05/05/sports/wnba-los-angeles-sparks.html).\n",
    "\n",
    "Let's say our sample of men ended up with only marathon runners.  Below is the average height for top 100 male marathon runners according to [runnersworld.com](https://www.runnersworld.com/news/a20855134/great-marathoners-over-six-feet-tall-are-rare/).  \n",
    "\n",
    "Use the same standard deviations from before and:\n",
    "* generate some more normal distributions\n",
    "* re-plot\n",
    "* re-ttest"
   ]
  },
  {
   "cell_type": "code",
   "execution_count": null,
   "metadata": {},
   "outputs": [],
   "source": [
    "wnba_avg = 180.3\n",
    "wnba_n = 144\n",
    "\n",
    "marathon_avg = 169.92\n",
    "marathon_n = 100\n",
    "\n",
    "# generate some more normal distributions\n",
    "\n",
    "# re-plot\n",
    "\n",
    "# re-test\n"
   ]
  },
  {
   "cell_type": "markdown",
   "metadata": {},
   "source": [
    "We conclude the opposite! Kinda forced us into this.. but! This is the whole idea about the p-value and the typical 5% cutoff.  The p-value is trying to help us differentiate from results that occur purely from chance related to sampling.  AKA every p-value is trying to protect against the chance that you're comparing WNBA players and marathoners when you want to be comparing women and men.  AKA a p-value is the probability that random chance generated differences that you're seeing in the data.\n",
    "\n",
    "When we reject the null at the 5% level we're still saying there's a 5% chance these results happened due to sampling bias.  Typically 5% is pretty good in practice; here we forced the issue and got a reallllly unlikely sample to happen randomly."
   ]
  },
  {
   "cell_type": "markdown",
   "metadata": {},
   "source": [
    "## Regression and t-tests!\n",
    "\n",
    "So why are we talking about t-tests?  I thought this was a linear regression class?\n",
    "\n",
    "This is how we test if a predictor is 'significant'.  In a business context maybe we discover that our company's number of hours worked isn't a significant predictor of success; with that information we could argue that taking next Monday off isn't such a bad thing.\n",
    "\n",
    "Enough about stats and business, lets get back to some snails.\n",
    "\n",
    "* With the imported abalone dataset\n",
    "  * Use `Whole_Weight` and `Diameter` as the predictors and `Rings` as the target.\n",
    "  * Build a regression model using `statsmodels`\n",
    "  * Print the model summary\n",
    "* Use the output to identify if any of the predictors are significant.  Which ones are if any? `____________`"
   ]
  },
  {
   "cell_type": "code",
   "execution_count": 27,
   "metadata": {},
   "outputs": [
    {
     "data": {
      "application/javascript": [
       "\n",
       "            setTimeout(function() {\n",
       "                var nbb_cell_id = 27;\n",
       "                var nbb_unformatted_code = \"cols = ['Sex', 'Length', 'Diameter', 'Height', 'Whole_Weight', \\n        'Shucked_Weight', 'Visecra_Weight', 'Shell_Weight', 'Rings']\\nabalone = pd.read_csv(\\\"https://docs.google.com/spreadsheets/d/1GwCnxFT4Sd6iZDj07kNNhEREr7OJQnGvtxd67b5AMio/export?format=csv\\\", names=cols)\";\n",
       "                var nbb_formatted_code = \"cols = [\\n    \\\"Sex\\\",\\n    \\\"Length\\\",\\n    \\\"Diameter\\\",\\n    \\\"Height\\\",\\n    \\\"Whole_Weight\\\",\\n    \\\"Shucked_Weight\\\",\\n    \\\"Visecra_Weight\\\",\\n    \\\"Shell_Weight\\\",\\n    \\\"Rings\\\",\\n]\\nabalone = pd.read_csv(\\n    \\\"https://docs.google.com/spreadsheets/d/1GwCnxFT4Sd6iZDj07kNNhEREr7OJQnGvtxd67b5AMio/export?format=csv\\\",\\n    names=cols,\\n)\";\n",
       "                var nbb_cells = Jupyter.notebook.get_cells();\n",
       "                for (var i = 0; i < nbb_cells.length; ++i) {\n",
       "                    if (nbb_cells[i].input_prompt_number == nbb_cell_id) {\n",
       "                        if (nbb_cells[i].get_text() == nbb_unformatted_code) {\n",
       "                             nbb_cells[i].set_text(nbb_formatted_code);\n",
       "                        }\n",
       "                        break;\n",
       "                    }\n",
       "                }\n",
       "            }, 500);\n",
       "            "
      ],
      "text/plain": [
       "<IPython.core.display.Javascript object>"
      ]
     },
     "metadata": {},
     "output_type": "display_data"
    }
   ],
   "source": [
    "cols = [\n",
    "    \"Sex\",\n",
    "    \"Length\",\n",
    "    \"Diameter\",\n",
    "    \"Height\",\n",
    "    \"Whole_Weight\",\n",
    "    \"Shucked_Weight\",\n",
    "    \"Visecra_Weight\",\n",
    "    \"Shell_Weight\",\n",
    "    \"Rings\",\n",
    "]\n",
    "abalone = pd.read_csv(\n",
    "    \"https://docs.google.com/spreadsheets/d/1GwCnxFT4Sd6iZDj07kNNhEREr7OJQnGvtxd67b5AMio/export?format=csv\",\n",
    "    names=cols,\n",
    ")"
   ]
  },
  {
   "cell_type": "code",
   "execution_count": 19,
   "metadata": {},
   "outputs": [
    {
     "name": "stderr",
     "output_type": "stream",
     "text": [
      "/usr/local/lib/python3.7/site-packages/numpy/core/fromnumeric.py:2542: FutureWarning: Method .ptp is deprecated and will be removed in a future version. Use numpy.ptp instead.\n",
      "  return ptp(axis=axis, out=out, **kwargs)\n"
     ]
    },
    {
     "data": {
      "text/html": [
       "<table class=\"simpletable\">\n",
       "<caption>OLS Regression Results</caption>\n",
       "<tr>\n",
       "  <th>Dep. Variable:</th>          <td>Rings</td>      <th>  R-squared:         </th> <td>   0.331</td> \n",
       "</tr>\n",
       "<tr>\n",
       "  <th>Model:</th>                   <td>OLS</td>       <th>  Adj. R-squared:    </th> <td>   0.330</td> \n",
       "</tr>\n",
       "<tr>\n",
       "  <th>Method:</th>             <td>Least Squares</td>  <th>  F-statistic:       </th> <td>   1031.</td> \n",
       "</tr>\n",
       "<tr>\n",
       "  <th>Date:</th>             <td>Tue, 07 Apr 2020</td> <th>  Prob (F-statistic):</th>  <td>  0.00</td>  \n",
       "</tr>\n",
       "<tr>\n",
       "  <th>Time:</th>                 <td>08:22:06</td>     <th>  Log-Likelihood:    </th> <td> -9977.6</td> \n",
       "</tr>\n",
       "<tr>\n",
       "  <th>No. Observations:</th>      <td>  4177</td>      <th>  AIC:               </th> <td>1.996e+04</td>\n",
       "</tr>\n",
       "<tr>\n",
       "  <th>Df Residuals:</th>          <td>  4174</td>      <th>  BIC:               </th> <td>1.998e+04</td>\n",
       "</tr>\n",
       "<tr>\n",
       "  <th>Df Model:</th>              <td>     2</td>      <th>                     </th>     <td> </td>    \n",
       "</tr>\n",
       "<tr>\n",
       "  <th>Covariance Type:</th>      <td>nonrobust</td>    <th>                     </th>     <td> </td>    \n",
       "</tr>\n",
       "</table>\n",
       "<table class=\"simpletable\">\n",
       "<tr>\n",
       "        <td></td>          <th>coef</th>     <th>std err</th>      <th>t</th>      <th>P>|t|</th>  <th>[0.025</th>    <th>0.975]</th>  \n",
       "</tr>\n",
       "<tr>\n",
       "  <th>const</th>        <td>    2.7254</td> <td>    0.286</td> <td>    9.535</td> <td> 0.000</td> <td>    2.165</td> <td>    3.286</td>\n",
       "</tr>\n",
       "<tr>\n",
       "  <th>Whole_Weight</th> <td>    0.3925</td> <td>    0.220</td> <td>    1.786</td> <td> 0.074</td> <td>   -0.038</td> <td>    0.823</td>\n",
       "</tr>\n",
       "<tr>\n",
       "  <th>Diameter</th>     <td>   16.8749</td> <td>    1.086</td> <td>   15.541</td> <td> 0.000</td> <td>   14.746</td> <td>   19.004</td>\n",
       "</tr>\n",
       "</table>\n",
       "<table class=\"simpletable\">\n",
       "<tr>\n",
       "  <th>Omnibus:</th>       <td>1406.407</td> <th>  Durbin-Watson:     </th> <td>   0.962</td>\n",
       "</tr>\n",
       "<tr>\n",
       "  <th>Prob(Omnibus):</th>  <td> 0.000</td>  <th>  Jarque-Bera (JB):  </th> <td>4665.317</td>\n",
       "</tr>\n",
       "<tr>\n",
       "  <th>Skew:</th>           <td> 1.707</td>  <th>  Prob(JB):          </th> <td>    0.00</td>\n",
       "</tr>\n",
       "<tr>\n",
       "  <th>Kurtosis:</th>       <td> 6.892</td>  <th>  Cond. No.          </th> <td>    39.1</td>\n",
       "</tr>\n",
       "</table><br/><br/>Warnings:<br/>[1] Standard Errors assume that the covariance matrix of the errors is correctly specified."
      ],
      "text/plain": [
       "<class 'statsmodels.iolib.summary.Summary'>\n",
       "\"\"\"\n",
       "                            OLS Regression Results                            \n",
       "==============================================================================\n",
       "Dep. Variable:                  Rings   R-squared:                       0.331\n",
       "Model:                            OLS   Adj. R-squared:                  0.330\n",
       "Method:                 Least Squares   F-statistic:                     1031.\n",
       "Date:                Tue, 07 Apr 2020   Prob (F-statistic):               0.00\n",
       "Time:                        08:22:06   Log-Likelihood:                -9977.6\n",
       "No. Observations:                4177   AIC:                         1.996e+04\n",
       "Df Residuals:                    4174   BIC:                         1.998e+04\n",
       "Df Model:                           2                                         \n",
       "Covariance Type:            nonrobust                                         \n",
       "================================================================================\n",
       "                   coef    std err          t      P>|t|      [0.025      0.975]\n",
       "--------------------------------------------------------------------------------\n",
       "const            2.7254      0.286      9.535      0.000       2.165       3.286\n",
       "Whole_Weight     0.3925      0.220      1.786      0.074      -0.038       0.823\n",
       "Diameter        16.8749      1.086     15.541      0.000      14.746      19.004\n",
       "==============================================================================\n",
       "Omnibus:                     1406.407   Durbin-Watson:                   0.962\n",
       "Prob(Omnibus):                  0.000   Jarque-Bera (JB):             4665.317\n",
       "Skew:                           1.707   Prob(JB):                         0.00\n",
       "Kurtosis:                       6.892   Cond. No.                         39.1\n",
       "==============================================================================\n",
       "\n",
       "Warnings:\n",
       "[1] Standard Errors assume that the covariance matrix of the errors is correctly specified.\n",
       "\"\"\""
      ]
     },
     "execution_count": 19,
     "metadata": {},
     "output_type": "execute_result"
    }
   ],
   "source": [
    "# Use `Whole_Weight` and `Diameter` as the predictors\n",
    "X = ____\n",
    "\n",
    "# `Rings` as the target\n",
    "y = ____\n",
    "\n",
    "\n",
    "# Build a regression model using `statsmodels`\n",
    "X_const = sm.add_constant(X)\n",
    "lm_results = sm.OLS(y, X_const).fit()\n",
    "\n",
    "# Print the model summary\n",
    "lm_results.summary()"
   ]
  },
  {
   "cell_type": "markdown",
   "metadata": {},
   "source": [
    "Let's rebuild our model and use an *interaction term* (\\**gasp*\\*)\n",
    "\n",
    "* Create a new feature that captures the interaction between our current 2 predictors\n",
    "* Rebuild the model and re-print the summary\n",
    "* Interpret the t-tests for these coefficients"
   ]
  },
  {
   "cell_type": "code",
   "execution_count": 46,
   "metadata": {},
   "outputs": [
    {
     "data": {
      "text/html": [
       "<table class=\"simpletable\">\n",
       "<caption>OLS Regression Results</caption>\n",
       "<tr>\n",
       "  <th>Dep. Variable:</th>          <td>Rings</td>      <th>  R-squared:         </th> <td>   0.344</td> \n",
       "</tr>\n",
       "<tr>\n",
       "  <th>Model:</th>                   <td>OLS</td>       <th>  Adj. R-squared:    </th> <td>   0.344</td> \n",
       "</tr>\n",
       "<tr>\n",
       "  <th>Method:</th>             <td>Least Squares</td>  <th>  F-statistic:       </th> <td>   729.7</td> \n",
       "</tr>\n",
       "<tr>\n",
       "  <th>Date:</th>             <td>Tue, 31 Dec 2019</td> <th>  Prob (F-statistic):</th>  <td>  0.00</td>  \n",
       "</tr>\n",
       "<tr>\n",
       "  <th>Time:</th>                 <td>10:52:29</td>     <th>  Log-Likelihood:    </th> <td> -9935.6</td> \n",
       "</tr>\n",
       "<tr>\n",
       "  <th>No. Observations:</th>      <td>  4177</td>      <th>  AIC:               </th> <td>1.988e+04</td>\n",
       "</tr>\n",
       "<tr>\n",
       "  <th>Df Residuals:</th>          <td>  4173</td>      <th>  BIC:               </th> <td>1.990e+04</td>\n",
       "</tr>\n",
       "<tr>\n",
       "  <th>Df Model:</th>              <td>     3</td>      <th>                     </th>     <td> </td>    \n",
       "</tr>\n",
       "<tr>\n",
       "  <th>Covariance Type:</th>      <td>nonrobust</td>    <th>                     </th>     <td> </td>    \n",
       "</tr>\n",
       "</table>\n",
       "<table class=\"simpletable\">\n",
       "<tr>\n",
       "          <td></td>            <th>coef</th>     <th>std err</th>      <th>t</th>      <th>P>|t|</th>  <th>[0.025</th>    <th>0.975]</th>  \n",
       "</tr>\n",
       "<tr>\n",
       "  <th>const</th>            <td>    2.6674</td> <td>    0.283</td> <td>    9.423</td> <td> 0.000</td> <td>    2.112</td> <td>    3.222</td>\n",
       "</tr>\n",
       "<tr>\n",
       "  <th>Whole_Weight</th>     <td>    7.3842</td> <td>    0.790</td> <td>    9.352</td> <td> 0.000</td> <td>    5.836</td> <td>    8.932</td>\n",
       "</tr>\n",
       "<tr>\n",
       "  <th>Diameter</th>         <td>   13.0543</td> <td>    1.152</td> <td>   11.329</td> <td> 0.000</td> <td>   10.795</td> <td>   15.313</td>\n",
       "</tr>\n",
       "<tr>\n",
       "  <th>ww_d_interaction</th> <td>  -10.9069</td> <td>    1.184</td> <td>   -9.211</td> <td> 0.000</td> <td>  -13.228</td> <td>   -8.585</td>\n",
       "</tr>\n",
       "</table>\n",
       "<table class=\"simpletable\">\n",
       "<tr>\n",
       "  <th>Omnibus:</th>       <td>1371.274</td> <th>  Durbin-Watson:     </th> <td>   0.943</td>\n",
       "</tr>\n",
       "<tr>\n",
       "  <th>Prob(Omnibus):</th>  <td> 0.000</td>  <th>  Jarque-Bera (JB):  </th> <td>4486.551</td>\n",
       "</tr>\n",
       "<tr>\n",
       "  <th>Skew:</th>           <td> 1.667</td>  <th>  Prob(JB):          </th> <td>    0.00</td>\n",
       "</tr>\n",
       "<tr>\n",
       "  <th>Kurtosis:</th>       <td> 6.830</td>  <th>  Cond. No.          </th> <td>    57.0</td>\n",
       "</tr>\n",
       "</table><br/><br/>Warnings:<br/>[1] Standard Errors assume that the covariance matrix of the errors is correctly specified."
      ],
      "text/plain": [
       "<class 'statsmodels.iolib.summary.Summary'>\n",
       "\"\"\"\n",
       "                            OLS Regression Results                            \n",
       "==============================================================================\n",
       "Dep. Variable:                  Rings   R-squared:                       0.344\n",
       "Model:                            OLS   Adj. R-squared:                  0.344\n",
       "Method:                 Least Squares   F-statistic:                     729.7\n",
       "Date:                Tue, 31 Dec 2019   Prob (F-statistic):               0.00\n",
       "Time:                        10:52:29   Log-Likelihood:                -9935.6\n",
       "No. Observations:                4177   AIC:                         1.988e+04\n",
       "Df Residuals:                    4173   BIC:                         1.990e+04\n",
       "Df Model:                           3                                         \n",
       "Covariance Type:            nonrobust                                         \n",
       "====================================================================================\n",
       "                       coef    std err          t      P>|t|      [0.025      0.975]\n",
       "------------------------------------------------------------------------------------\n",
       "const                2.6674      0.283      9.423      0.000       2.112       3.222\n",
       "Whole_Weight         7.3842      0.790      9.352      0.000       5.836       8.932\n",
       "Diameter            13.0543      1.152     11.329      0.000      10.795      15.313\n",
       "ww_d_interaction   -10.9069      1.184     -9.211      0.000     -13.228      -8.585\n",
       "==============================================================================\n",
       "Omnibus:                     1371.274   Durbin-Watson:                   0.943\n",
       "Prob(Omnibus):                  0.000   Jarque-Bera (JB):             4486.551\n",
       "Skew:                           1.667   Prob(JB):                         0.00\n",
       "Kurtosis:                       6.830   Cond. No.                         57.0\n",
       "==============================================================================\n",
       "\n",
       "Warnings:\n",
       "[1] Standard Errors assume that the covariance matrix of the errors is correctly specified.\n",
       "\"\"\""
      ]
     },
     "execution_count": 46,
     "metadata": {},
     "output_type": "execute_result"
    }
   ],
   "source": [
    "# Create a new feature that captures the interaction between our current 2 predictors\n",
    "X[\"ww_d_interaction\"] = _____\n",
    "\n",
    "# Build a regression model using `statsmodels`\n",
    "____\n",
    "\n",
    "# Print the model summary\n",
    "____"
   ]
  },
  {
   "cell_type": "markdown",
   "metadata": {},
   "source": [
    "Wait, what did we just do?"
   ]
  },
  {
   "cell_type": "code",
   "execution_count": 29,
   "metadata": {
    "scrolled": false
   },
   "outputs": [
    {
     "data": {
      "image/png": "[encoded data removed]",
      "text/plain": [
       "<Figure size 432x288 with 1 Axes>"
      ]
     },
     "metadata": {
      "needs_background": "light"
     },
     "output_type": "display_data"
    },
    {
     "data": {
      "image/png": "[encoded data removed]",
      "text/plain": [
       "<Figure size 432x288 with 1 Axes>"
      ]
     },
     "metadata": {
      "needs_background": "light"
     },
     "output_type": "display_data"
    },
    {
     "data": {
      "image/png": "[encoded data removed]",
      "text/plain": [
       "<Figure size 432x288 with 1 Axes>"
      ]
     },
     "metadata": {
      "needs_background": "light"
     },
     "output_type": "display_data"
    },
    {
     "data": {
      "image/png": "[encoded data removed]",
      "text/plain": [
       "<Figure size 432x288 with 1 Axes>"
      ]
     },
     "metadata": {
      "needs_background": "light"
     },
     "output_type": "display_data"
    },
    {
     "data": {
      "image/png": "[encoded data removed]",
      "text/plain": [
       "<Figure size 432x288 with 1 Axes>"
      ]
     },
     "metadata": {
      "needs_background": "light"
     },
     "output_type": "display_data"
    },
    {
     "name": "stderr",
     "output_type": "stream",
     "text": [
      "No handles with labels found to put in legend.\n"
     ]
    },
    {
     "data": {
      "image/png": "[encoded data removed]",
      "text/plain": [
       "<Figure size 432x288 with 1 Axes>"
      ]
     },
     "metadata": {
      "needs_background": "light"
     },
     "output_type": "display_data"
    },
    {
     "data": {
      "application/javascript": [
       "\n",
       "            setTimeout(function() {\n",
       "                var nbb_cell_id = 29;\n",
       "                var nbb_unformatted_code = \"# its easier to see if we bin we'll bin weight and then a model\\n# for diameter when within each bin of weight\\ndef bin_array(x, n_bins=5):\\n    percentiles = np.linspace(0, 100, n_bins + 1)[:-1]\\n    bins = np.percentile(x, percentiles)\\n    binned = np.digitize(x, bins)\\n    return binned\\n\\n\\nabalone[\\\"binned_weight\\\"] = bin_array(abalone[\\\"Whole_Weight\\\"])\\nfor b in abalone[\\\"binned_weight\\\"].unique():\\n    subset = abalone[abalone[\\\"binned_weight\\\"] == b]\\n\\n    # if we have only 1 row we wont fit a model\\n    if subset.shape[0] <= 1:\\n        continue\\n\\n    X = subset[\\\"Diameter\\\"]\\n    y = subset[\\\"Rings\\\"]\\n\\n    X_const = sm.add_constant(X)\\n    y_pred = sm.OLS(y, X_const).fit().predict()\\n\\n    lab = f\\\"Weight: Bin {b}\\\"\\n    plt.plot(X, y_pred, label=lab, lw=4)\\n    ## (un)comment below to toggle plotting on same axes\\n    plt.scatter(X, y, label=lab, alpha=0.1)\\n    plt.show()\\n\\n\\nplt.xlabel(\\\"Diameter\\\")\\nplt.ylabel(\\\"Rings\\\")\\nplt.title(\\\"Interaction between Diameter and Weight\\\")\\nplt.legend()\\nplt.show()\";\n",
       "                var nbb_formatted_code = \"# its easier to see if we bin we'll bin weight and then a model\\n# for diameter when within each bin of weight\\ndef bin_array(x, n_bins=5):\\n    percentiles = np.linspace(0, 100, n_bins + 1)[:-1]\\n    bins = np.percentile(x, percentiles)\\n    binned = np.digitize(x, bins)\\n    return binned\\n\\n\\nabalone[\\\"binned_weight\\\"] = bin_array(abalone[\\\"Whole_Weight\\\"])\\nfor b in abalone[\\\"binned_weight\\\"].unique():\\n    subset = abalone[abalone[\\\"binned_weight\\\"] == b]\\n\\n    # if we have only 1 row we wont fit a model\\n    if subset.shape[0] <= 1:\\n        continue\\n\\n    X = subset[\\\"Diameter\\\"]\\n    y = subset[\\\"Rings\\\"]\\n\\n    X_const = sm.add_constant(X)\\n    y_pred = sm.OLS(y, X_const).fit().predict()\\n\\n    lab = f\\\"Weight: Bin {b}\\\"\\n    plt.plot(X, y_pred, label=lab, lw=4)\\n    ## (un)comment below to toggle plotting on same axes\\n    plt.scatter(X, y, label=lab, alpha=0.1)\\n    plt.show()\\n\\n\\nplt.xlabel(\\\"Diameter\\\")\\nplt.ylabel(\\\"Rings\\\")\\nplt.title(\\\"Interaction between Diameter and Weight\\\")\\nplt.legend()\\nplt.show()\";\n",
       "                var nbb_cells = Jupyter.notebook.get_cells();\n",
       "                for (var i = 0; i < nbb_cells.length; ++i) {\n",
       "                    if (nbb_cells[i].input_prompt_number == nbb_cell_id) {\n",
       "                        if (nbb_cells[i].get_text() == nbb_unformatted_code) {\n",
       "                             nbb_cells[i].set_text(nbb_formatted_code);\n",
       "                        }\n",
       "                        break;\n",
       "                    }\n",
       "                }\n",
       "            }, 500);\n",
       "            "
      ],
      "text/plain": [
       "<IPython.core.display.Javascript object>"
      ]
     },
     "metadata": {},
     "output_type": "display_data"
    }
   ],
   "source": [
    "# its easier to see if we bin we'll bin weight and then a model\n",
    "# for diameter when within each bin of weight\n",
    "def bin_array(x, n_bins=5):\n",
    "    percentiles = np.linspace(0, 100, n_bins + 1)[:-1]\n",
    "    bins = np.percentile(x, percentiles)\n",
    "    binned = np.digitize(x, bins)\n",
    "    return binned\n",
    "\n",
    "\n",
    "abalone[\"binned_weight\"] = bin_array(abalone[\"Whole_Weight\"])\n",
    "for b in abalone[\"binned_weight\"].unique():\n",
    "    subset = abalone[abalone[\"binned_weight\"] == b]\n",
    "\n",
    "    # if we have only 1 row we wont fit a model\n",
    "    if subset.shape[0] <= 1:\n",
    "        continue\n",
    "\n",
    "    X = subset[\"Diameter\"]\n",
    "    y = subset[\"Rings\"]\n",
    "\n",
    "    X_const = sm.add_constant(X)\n",
    "    y_pred = sm.OLS(y, X_const).fit().predict()\n",
    "\n",
    "    lab = f\"Weight: Bin {b}\"\n",
    "    plt.plot(X, y_pred, label=lab, lw=4)\n",
    "    ## (un)comment below to toggle plotting on same axes\n",
    "#     plt.scatter(X, y, label=lab, alpha=0.1)\n",
    "#     plt.show()\n",
    "\n",
    "\n",
    "plt.xlabel(\"Diameter\")\n",
    "plt.ylabel(\"Rings\")\n",
    "plt.title(\"Interaction between Diameter and Weight\")\n",
    "plt.legend()\n",
    "plt.show()"
   ]
  },
  {
   "cell_type": "markdown",
   "metadata": {},
   "source": [
    "So what do we see here? How Diameter affects Rings depends on how heavy our snail is! When our snail is lighter a higher diameter means more Rings.  When we go up in weight we start to see this trend taper off, at a certain weight diameter starts to matter less for predicting rings! In other words the effects of diameter and weight interact with each other."
   ]
  }
 ],
 "metadata": {
  "kernelspec": {
   "display_name": "Python 3",
   "language": "python",
   "name": "python3"
  },
  "language_info": {
   "codemirror_mode": {
    "name": "ipython",
    "version": 3
   },
   "file_extension": ".py",
   "mimetype": "text/x-python",
   "name": "python",
   "nbconvert_exporter": "python",
   "pygments_lexer": "ipython3",
   "version": "3.7.7"
  }
 },
 "nbformat": 4,
 "nbformat_minor": 2
}
