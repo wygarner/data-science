{
 "cells": [
  {
   "cell_type": "code",
   "execution_count": 1,
   "metadata": {},
   "outputs": [
    {
     "data": {
      "application/javascript": [
       "\n",
       "            setTimeout(function() {\n",
       "                var nbb_cell_id = 1;\n",
       "                var nbb_unformatted_code = \"%load_ext nb_black\";\n",
       "                var nbb_formatted_code = \"%load_ext nb_black\";\n",
       "                var nbb_cells = Jupyter.notebook.get_cells();\n",
       "                for (var i = 0; i < nbb_cells.length; ++i) {\n",
       "                    if (nbb_cells[i].input_prompt_number == nbb_cell_id) {\n",
       "                        if (nbb_cells[i].get_text() == nbb_unformatted_code) {\n",
       "                             nbb_cells[i].set_text(nbb_formatted_code);\n",
       "                        }\n",
       "                        break;\n",
       "                    }\n",
       "                }\n",
       "            }, 500);\n",
       "            "
      ],
      "text/plain": [
       "<IPython.core.display.Javascript object>"
      ]
     },
     "metadata": {},
     "output_type": "display_data"
    }
   ],
   "source": [
    "%load_ext nb_black"
   ]
  },
  {
   "cell_type": "markdown",
   "metadata": {},
   "source": [
    "# 🏢 Chicago Salaries 💰\n",
    "\n",
    "Chicago has public data on many job salaries of public servant type roles.  This data can be found [here](https://data.cityofchicago.org/Administration-Finance/Current-Employee-Names-Salaries-and-Position-Title/xzkq-xp2w).\n",
    "\n",
    "### Warm Up 🥵\n",
    "\n",
    "* What are C and epsilon used for in SVR?\n",
    "\n",
    "----\n",
    "\n",
    "#### Boosting 🚀\n",
    "\n",
    "Boosting is an 'ensembling' technique.\n",
    "\n",
    "What does ensembling mean in the context of machine learning?\n",
    "\n",
    "In boosting, we'll iteratively build models (aka build models in a series; aka build one model after another). The overview is.\n",
    "\n",
    "1. Build a pretty dumb model (more typically called a 'weak learner')\n",
    "   * In the image doing classification, this is the first grid\n",
    "* See where that model makes mistakes\n",
    "* Build another model with a focus on not making the same mistakes again\n",
    "   * In the image, this is the second/third grids.  The mistakes are enlarged in these to show that they're a priority.\n",
    "* Repeat steps 1-3 as much as you want\n",
    "* Combine the output of these models somehow\n",
    "   * In the image, this is the final grid.\n",
    "\n",
    "\n",
    "<img src='https://d1jnx9ba8s6j9r.cloudfront.net/blog/wp-content/uploads/2019/06/How-Does-Boosting-Algorithm-Work-Boosting-Machine-Learning-Edureka-min-528x254.png' width='50%'>\n",
    "\n",
    "----"
   ]
  },
  {
   "cell_type": "markdown",
   "metadata": {},
   "source": [
    "This image is more focused on boosting in a regression setting."
   ]
  },
  {
   "cell_type": "markdown",
   "metadata": {},
   "source": [
    "<p align='center'><img src='https://i.imgur.com/RewteYv.png' width=70%></p>"
   ]
  },
  {
   "cell_type": "markdown",
   "metadata": {},
   "source": [
    "## Data Import and EDA"
   ]
  },
  {
   "cell_type": "code",
   "execution_count": 2,
   "metadata": {},
   "outputs": [
    {
     "data": {
      "application/javascript": [
       "\n",
       "            setTimeout(function() {\n",
       "                var nbb_cell_id = 2;\n",
       "                var nbb_unformatted_code = \"# !pip install gender_guesser\\nimport pandas as pd\\nimport numpy as np\\n\\nfrom sklearn.model_selection import train_test_split, GridSearchCV\\nfrom sklearn.ensemble import GradientBoostingRegressor\\n\\nfrom category_encoders import LeaveOneOutEncoder\\nfrom sklearn.pipeline import Pipeline\\n\\nfrom gender_guesser.detector import Detector\\n\\nimport seaborn as sns\\nimport matplotlib.pyplot as plt\\n\\n%matplotlib inline\";\n",
       "                var nbb_formatted_code = \"# !pip install gender_guesser\\nimport pandas as pd\\nimport numpy as np\\n\\nfrom sklearn.model_selection import train_test_split, GridSearchCV\\nfrom sklearn.ensemble import GradientBoostingRegressor\\n\\nfrom category_encoders import LeaveOneOutEncoder\\nfrom sklearn.pipeline import Pipeline\\n\\nfrom gender_guesser.detector import Detector\\n\\nimport seaborn as sns\\nimport matplotlib.pyplot as plt\\n\\n%matplotlib inline\";\n",
       "                var nbb_cells = Jupyter.notebook.get_cells();\n",
       "                for (var i = 0; i < nbb_cells.length; ++i) {\n",
       "                    if (nbb_cells[i].input_prompt_number == nbb_cell_id) {\n",
       "                        if (nbb_cells[i].get_text() == nbb_unformatted_code) {\n",
       "                             nbb_cells[i].set_text(nbb_formatted_code);\n",
       "                        }\n",
       "                        break;\n",
       "                    }\n",
       "                }\n",
       "            }, 500);\n",
       "            "
      ],
      "text/plain": [
       "<IPython.core.display.Javascript object>"
      ]
     },
     "metadata": {},
     "output_type": "display_data"
    }
   ],
   "source": [
    "# !pip install gender_guesser\n",
    "import pandas as pd\n",
    "import numpy as np\n",
    "\n",
    "from sklearn.model_selection import train_test_split, GridSearchCV\n",
    "from sklearn.ensemble import GradientBoostingRegressor\n",
    "\n",
    "from category_encoders import LeaveOneOutEncoder\n",
    "from sklearn.pipeline import Pipeline\n",
    "\n",
    "from gender_guesser.detector import Detector\n",
    "\n",
    "import seaborn as sns\n",
    "import matplotlib.pyplot as plt\n",
    "\n",
    "%matplotlib inline"
   ]
  },
  {
   "cell_type": "code",
   "execution_count": 3,
   "metadata": {},
   "outputs": [
    {
     "data": {
      "application/javascript": [
       "\n",
       "            setTimeout(function() {\n",
       "                var nbb_cell_id = 3;\n",
       "                var nbb_unformatted_code = \"# This is a direct link to the published data.\\n# The data might change (last updated Oct 2019)\\n# The data might be moved and this link might break\\n# A snapshot of the data can be found on kaggle:\\n# https://www.kaggle.com/chicago/chicago-citywide-payroll-data\\n\\n# The commentary in this notebook also falls out of date pretty quickly... sorry\\ndata_url = (\\n    \\\"https://data.cityofchicago.org/api/views/xzkq-xp2w/rows.csv?accessType=DOWNLOAD\\\"\\n)\\nchicago = pd.read_csv(data_url)\";\n",
       "                var nbb_formatted_code = \"# This is a direct link to the published data.\\n# The data might change (last updated Oct 2019)\\n# The data might be moved and this link might break\\n# A snapshot of the data can be found on kaggle:\\n# https://www.kaggle.com/chicago/chicago-citywide-payroll-data\\n\\n# The commentary in this notebook also falls out of date pretty quickly... sorry\\ndata_url = (\\n    \\\"https://data.cityofchicago.org/api/views/xzkq-xp2w/rows.csv?accessType=DOWNLOAD\\\"\\n)\\nchicago = pd.read_csv(data_url)\";\n",
       "                var nbb_cells = Jupyter.notebook.get_cells();\n",
       "                for (var i = 0; i < nbb_cells.length; ++i) {\n",
       "                    if (nbb_cells[i].input_prompt_number == nbb_cell_id) {\n",
       "                        if (nbb_cells[i].get_text() == nbb_unformatted_code) {\n",
       "                             nbb_cells[i].set_text(nbb_formatted_code);\n",
       "                        }\n",
       "                        break;\n",
       "                    }\n",
       "                }\n",
       "            }, 500);\n",
       "            "
      ],
      "text/plain": [
       "<IPython.core.display.Javascript object>"
      ]
     },
     "metadata": {},
     "output_type": "display_data"
    }
   ],
   "source": [
    "# This is a direct link to the published data.\n",
    "# The data might change (last updated Oct 2019)\n",
    "# The data might be moved and this link might break\n",
    "# A snapshot of the data can be found on kaggle:\n",
    "# https://www.kaggle.com/chicago/chicago-citywide-payroll-data\n",
    "\n",
    "# The commentary in this notebook also falls out of date pretty quickly... sorry\n",
    "data_url = (\n",
    "    \"https://data.cityofchicago.org/api/views/xzkq-xp2w/rows.csv?accessType=DOWNLOAD\"\n",
    ")\n",
    "chicago = pd.read_csv(data_url)"
   ]
  },
  {
   "cell_type": "markdown",
   "metadata": {},
   "source": [
    "Do some general 'get to know you' EDA"
   ]
  },
  {
   "cell_type": "code",
   "execution_count": 4,
   "metadata": {},
   "outputs": [
    {
     "data": {
      "text/plain": [
       "(33702, 8)"
      ]
     },
     "execution_count": 4,
     "metadata": {},
     "output_type": "execute_result"
    },
    {
     "data": {
      "application/javascript": [
       "\n",
       "            setTimeout(function() {\n",
       "                var nbb_cell_id = 4;\n",
       "                var nbb_unformatted_code = \"chicago.shape\";\n",
       "                var nbb_formatted_code = \"chicago.shape\";\n",
       "                var nbb_cells = Jupyter.notebook.get_cells();\n",
       "                for (var i = 0; i < nbb_cells.length; ++i) {\n",
       "                    if (nbb_cells[i].input_prompt_number == nbb_cell_id) {\n",
       "                        if (nbb_cells[i].get_text() == nbb_unformatted_code) {\n",
       "                             nbb_cells[i].set_text(nbb_formatted_code);\n",
       "                        }\n",
       "                        break;\n",
       "                    }\n",
       "                }\n",
       "            }, 500);\n",
       "            "
      ],
      "text/plain": [
       "<IPython.core.display.Javascript object>"
      ]
     },
     "metadata": {},
     "output_type": "display_data"
    }
   ],
   "source": [
    "chicago.shape"
   ]
  },
  {
   "cell_type": "code",
   "execution_count": 5,
   "metadata": {},
   "outputs": [
    {
     "name": "stdout",
     "output_type": "stream",
     "text": [
      "<class 'pandas.core.frame.DataFrame'>\n",
      "RangeIndex: 33702 entries, 0 to 33701\n",
      "Data columns (total 8 columns):\n",
      "Name                 33702 non-null object\n",
      "Job Titles           33702 non-null object\n",
      "Department           33702 non-null object\n",
      "Full or Part-Time    33702 non-null object\n",
      "Salary or Hourly     33702 non-null object\n",
      "Typical Hours        8174 non-null float64\n",
      "Annual Salary        25528 non-null float64\n",
      "Hourly Rate          8174 non-null float64\n",
      "dtypes: float64(3), object(5)\n",
      "memory usage: 2.1+ MB\n"
     ]
    },
    {
     "data": {
      "application/javascript": [
       "\n",
       "            setTimeout(function() {\n",
       "                var nbb_cell_id = 5;\n",
       "                var nbb_unformatted_code = \"chicago.info()\";\n",
       "                var nbb_formatted_code = \"chicago.info()\";\n",
       "                var nbb_cells = Jupyter.notebook.get_cells();\n",
       "                for (var i = 0; i < nbb_cells.length; ++i) {\n",
       "                    if (nbb_cells[i].input_prompt_number == nbb_cell_id) {\n",
       "                        if (nbb_cells[i].get_text() == nbb_unformatted_code) {\n",
       "                             nbb_cells[i].set_text(nbb_formatted_code);\n",
       "                        }\n",
       "                        break;\n",
       "                    }\n",
       "                }\n",
       "            }, 500);\n",
       "            "
      ],
      "text/plain": [
       "<IPython.core.display.Javascript object>"
      ]
     },
     "metadata": {},
     "output_type": "display_data"
    }
   ],
   "source": [
    "chicago.info()"
   ]
  },
  {
   "cell_type": "markdown",
   "metadata": {},
   "source": [
    "If you didn't already run an `np.nan` check, do one now to show the percent of missing values by column"
   ]
  },
  {
   "cell_type": "code",
   "execution_count": 6,
   "metadata": {},
   "outputs": [
    {
     "data": {
      "text/html": [
       "<div>\n",
       "<style scoped>\n",
       "    .dataframe tbody tr th:only-of-type {\n",
       "        vertical-align: middle;\n",
       "    }\n",
       "\n",
       "    .dataframe tbody tr th {\n",
       "        vertical-align: top;\n",
       "    }\n",
       "\n",
       "    .dataframe thead th {\n",
       "        text-align: right;\n",
       "    }\n",
       "</style>\n",
       "<table border=\"1\" class=\"dataframe\">\n",
       "  <thead>\n",
       "    <tr style=\"text-align: right;\">\n",
       "      <th></th>\n",
       "      <th>Name</th>\n",
       "      <th>Job Titles</th>\n",
       "      <th>Department</th>\n",
       "      <th>Full or Part-Time</th>\n",
       "      <th>Salary or Hourly</th>\n",
       "      <th>Typical Hours</th>\n",
       "      <th>Annual Salary</th>\n",
       "      <th>Hourly Rate</th>\n",
       "    </tr>\n",
       "  </thead>\n",
       "  <tbody>\n",
       "    <tr>\n",
       "      <th>0</th>\n",
       "      <td>ADRIANO,  RACQUEL ANNE</td>\n",
       "      <td>PARAMEDIC</td>\n",
       "      <td>FIRE</td>\n",
       "      <td>F</td>\n",
       "      <td>Salary</td>\n",
       "      <td>NaN</td>\n",
       "      <td>72510.0</td>\n",
       "      <td>NaN</td>\n",
       "    </tr>\n",
       "    <tr>\n",
       "      <th>1</th>\n",
       "      <td>AFFANEH,  MAHIR A</td>\n",
       "      <td>POLICE OFFICER</td>\n",
       "      <td>POLICE</td>\n",
       "      <td>F</td>\n",
       "      <td>Salary</td>\n",
       "      <td>NaN</td>\n",
       "      <td>93354.0</td>\n",
       "      <td>NaN</td>\n",
       "    </tr>\n",
       "    <tr>\n",
       "      <th>2</th>\n",
       "      <td>AFOENYI,  PHYLLIS</td>\n",
       "      <td>TITLE V PROGRAM TRAINEE I</td>\n",
       "      <td>FAMILY &amp; SUPPORT</td>\n",
       "      <td>P</td>\n",
       "      <td>Hourly</td>\n",
       "      <td>20.0</td>\n",
       "      <td>NaN</td>\n",
       "      <td>13.0</td>\n",
       "    </tr>\n",
       "    <tr>\n",
       "      <th>3</th>\n",
       "      <td>AGAR,  BULENT B</td>\n",
       "      <td>DEPUTY COMMISSIONER</td>\n",
       "      <td>WATER MGMNT</td>\n",
       "      <td>F</td>\n",
       "      <td>Salary</td>\n",
       "      <td>NaN</td>\n",
       "      <td>132972.0</td>\n",
       "      <td>NaN</td>\n",
       "    </tr>\n",
       "    <tr>\n",
       "      <th>4</th>\n",
       "      <td>AGEE,  LAWRENCE</td>\n",
       "      <td>POLICE OFFICER</td>\n",
       "      <td>POLICE</td>\n",
       "      <td>F</td>\n",
       "      <td>Salary</td>\n",
       "      <td>NaN</td>\n",
       "      <td>90024.0</td>\n",
       "      <td>NaN</td>\n",
       "    </tr>\n",
       "  </tbody>\n",
       "</table>\n",
       "</div>"
      ],
      "text/plain": [
       "                     Name                 Job Titles        Department  \\\n",
       "0  ADRIANO,  RACQUEL ANNE                  PARAMEDIC              FIRE   \n",
       "1       AFFANEH,  MAHIR A             POLICE OFFICER            POLICE   \n",
       "2       AFOENYI,  PHYLLIS  TITLE V PROGRAM TRAINEE I  FAMILY & SUPPORT   \n",
       "3         AGAR,  BULENT B        DEPUTY COMMISSIONER       WATER MGMNT   \n",
       "4         AGEE,  LAWRENCE             POLICE OFFICER            POLICE   \n",
       "\n",
       "  Full or Part-Time Salary or Hourly  Typical Hours  Annual Salary  \\\n",
       "0                 F           Salary            NaN        72510.0   \n",
       "1                 F           Salary            NaN        93354.0   \n",
       "2                 P           Hourly           20.0            NaN   \n",
       "3                 F           Salary            NaN       132972.0   \n",
       "4                 F           Salary            NaN        90024.0   \n",
       "\n",
       "   Hourly Rate  \n",
       "0          NaN  \n",
       "1          NaN  \n",
       "2         13.0  \n",
       "3          NaN  \n",
       "4          NaN  "
      ]
     },
     "execution_count": 6,
     "metadata": {},
     "output_type": "execute_result"
    },
    {
     "data": {
      "application/javascript": [
       "\n",
       "            setTimeout(function() {\n",
       "                var nbb_cell_id = 6;\n",
       "                var nbb_unformatted_code = \"chicago.head()\";\n",
       "                var nbb_formatted_code = \"chicago.head()\";\n",
       "                var nbb_cells = Jupyter.notebook.get_cells();\n",
       "                for (var i = 0; i < nbb_cells.length; ++i) {\n",
       "                    if (nbb_cells[i].input_prompt_number == nbb_cell_id) {\n",
       "                        if (nbb_cells[i].get_text() == nbb_unformatted_code) {\n",
       "                             nbb_cells[i].set_text(nbb_formatted_code);\n",
       "                        }\n",
       "                        break;\n",
       "                    }\n",
       "                }\n",
       "            }, 500);\n",
       "            "
      ],
      "text/plain": [
       "<IPython.core.display.Javascript object>"
      ]
     },
     "metadata": {},
     "output_type": "display_data"
    }
   ],
   "source": [
    "chicago.head()"
   ]
  },
  {
   "cell_type": "code",
   "execution_count": 7,
   "metadata": {},
   "outputs": [
    {
     "data": {
      "text/plain": [
       "Name                 0.000000\n",
       "Job Titles           0.000000\n",
       "Department           0.000000\n",
       "Full or Part-Time    0.000000\n",
       "Salary or Hourly     0.000000\n",
       "Typical Hours        0.757462\n",
       "Annual Salary        0.242538\n",
       "Hourly Rate          0.757462\n",
       "dtype: float64"
      ]
     },
     "execution_count": 7,
     "metadata": {},
     "output_type": "execute_result"
    },
    {
     "data": {
      "application/javascript": [
       "\n",
       "            setTimeout(function() {\n",
       "                var nbb_cell_id = 7;\n",
       "                var nbb_unformatted_code = \"chicago.isna().mean()\";\n",
       "                var nbb_formatted_code = \"chicago.isna().mean()\";\n",
       "                var nbb_cells = Jupyter.notebook.get_cells();\n",
       "                for (var i = 0; i < nbb_cells.length; ++i) {\n",
       "                    if (nbb_cells[i].input_prompt_number == nbb_cell_id) {\n",
       "                        if (nbb_cells[i].get_text() == nbb_unformatted_code) {\n",
       "                             nbb_cells[i].set_text(nbb_formatted_code);\n",
       "                        }\n",
       "                        break;\n",
       "                    }\n",
       "                }\n",
       "            }, 500);\n",
       "            "
      ],
      "text/plain": [
       "<IPython.core.display.Javascript object>"
      ]
     },
     "metadata": {},
     "output_type": "display_data"
    }
   ],
   "source": [
    "chicago.isna().mean()"
   ]
  },
  {
   "cell_type": "markdown",
   "metadata": {},
   "source": [
    "Those percents look suspiciously related...\n",
    "\n",
    "Let's say we want to only predict salary, drop hourly data from the dataset and re-check for missing values."
   ]
  },
  {
   "cell_type": "code",
   "execution_count": 8,
   "metadata": {},
   "outputs": [
    {
     "data": {
      "application/javascript": [
       "\n",
       "            setTimeout(function() {\n",
       "                var nbb_cell_id = 8;\n",
       "                var nbb_unformatted_code = \"chicago = chicago[chicago[\\\"Salary or Hourly\\\"] == \\\"Salary\\\"]\";\n",
       "                var nbb_formatted_code = \"chicago = chicago[chicago[\\\"Salary or Hourly\\\"] == \\\"Salary\\\"]\";\n",
       "                var nbb_cells = Jupyter.notebook.get_cells();\n",
       "                for (var i = 0; i < nbb_cells.length; ++i) {\n",
       "                    if (nbb_cells[i].input_prompt_number == nbb_cell_id) {\n",
       "                        if (nbb_cells[i].get_text() == nbb_unformatted_code) {\n",
       "                             nbb_cells[i].set_text(nbb_formatted_code);\n",
       "                        }\n",
       "                        break;\n",
       "                    }\n",
       "                }\n",
       "            }, 500);\n",
       "            "
      ],
      "text/plain": [
       "<IPython.core.display.Javascript object>"
      ]
     },
     "metadata": {},
     "output_type": "display_data"
    }
   ],
   "source": [
    "chicago = chicago[chicago[\"Salary or Hourly\"] == \"Salary\"]"
   ]
  },
  {
   "cell_type": "code",
   "execution_count": 9,
   "metadata": {},
   "outputs": [
    {
     "data": {
      "text/plain": [
       "Name                 0.0\n",
       "Job Titles           0.0\n",
       "Department           0.0\n",
       "Full or Part-Time    0.0\n",
       "Salary or Hourly     0.0\n",
       "Typical Hours        1.0\n",
       "Annual Salary        0.0\n",
       "Hourly Rate          1.0\n",
       "dtype: float64"
      ]
     },
     "execution_count": 9,
     "metadata": {},
     "output_type": "execute_result"
    },
    {
     "data": {
      "application/javascript": [
       "\n",
       "            setTimeout(function() {\n",
       "                var nbb_cell_id = 9;\n",
       "                var nbb_unformatted_code = \"chicago.isna().mean()\";\n",
       "                var nbb_formatted_code = \"chicago.isna().mean()\";\n",
       "                var nbb_cells = Jupyter.notebook.get_cells();\n",
       "                for (var i = 0; i < nbb_cells.length; ++i) {\n",
       "                    if (nbb_cells[i].input_prompt_number == nbb_cell_id) {\n",
       "                        if (nbb_cells[i].get_text() == nbb_unformatted_code) {\n",
       "                             nbb_cells[i].set_text(nbb_formatted_code);\n",
       "                        }\n",
       "                        break;\n",
       "                    }\n",
       "                }\n",
       "            }, 500);\n",
       "            "
      ],
      "text/plain": [
       "<IPython.core.display.Javascript object>"
      ]
     },
     "metadata": {},
     "output_type": "display_data"
    }
   ],
   "source": [
    "chicago.isna().mean()"
   ]
  },
  {
   "cell_type": "markdown",
   "metadata": {},
   "source": [
    "We now see that the missing values were directly related to the `'Salary or Hourly'` distinction.  We can now drop some columns that don't give us any info going forward."
   ]
  },
  {
   "cell_type": "code",
   "execution_count": 10,
   "metadata": {},
   "outputs": [
    {
     "data": {
      "text/html": [
       "<div>\n",
       "<style scoped>\n",
       "    .dataframe tbody tr th:only-of-type {\n",
       "        vertical-align: middle;\n",
       "    }\n",
       "\n",
       "    .dataframe tbody tr th {\n",
       "        vertical-align: top;\n",
       "    }\n",
       "\n",
       "    .dataframe thead th {\n",
       "        text-align: right;\n",
       "    }\n",
       "</style>\n",
       "<table border=\"1\" class=\"dataframe\">\n",
       "  <thead>\n",
       "    <tr style=\"text-align: right;\">\n",
       "      <th></th>\n",
       "      <th>Name</th>\n",
       "      <th>Job Titles</th>\n",
       "      <th>Department</th>\n",
       "      <th>Full or Part-Time</th>\n",
       "      <th>Annual Salary</th>\n",
       "    </tr>\n",
       "  </thead>\n",
       "  <tbody>\n",
       "    <tr>\n",
       "      <th>0</th>\n",
       "      <td>ADRIANO,  RACQUEL ANNE</td>\n",
       "      <td>PARAMEDIC</td>\n",
       "      <td>FIRE</td>\n",
       "      <td>F</td>\n",
       "      <td>72510.0</td>\n",
       "    </tr>\n",
       "    <tr>\n",
       "      <th>1</th>\n",
       "      <td>AFFANEH,  MAHIR A</td>\n",
       "      <td>POLICE OFFICER</td>\n",
       "      <td>POLICE</td>\n",
       "      <td>F</td>\n",
       "      <td>93354.0</td>\n",
       "    </tr>\n",
       "    <tr>\n",
       "      <th>3</th>\n",
       "      <td>AGAR,  BULENT B</td>\n",
       "      <td>DEPUTY COMMISSIONER</td>\n",
       "      <td>WATER MGMNT</td>\n",
       "      <td>F</td>\n",
       "      <td>132972.0</td>\n",
       "    </tr>\n",
       "    <tr>\n",
       "      <th>4</th>\n",
       "      <td>AGEE,  LAWRENCE</td>\n",
       "      <td>POLICE OFFICER</td>\n",
       "      <td>POLICE</td>\n",
       "      <td>F</td>\n",
       "      <td>90024.0</td>\n",
       "    </tr>\n",
       "    <tr>\n",
       "      <th>6</th>\n",
       "      <td>AGNEW,  MELISSA M</td>\n",
       "      <td>SERGEANT</td>\n",
       "      <td>POLICE</td>\n",
       "      <td>F</td>\n",
       "      <td>111444.0</td>\n",
       "    </tr>\n",
       "  </tbody>\n",
       "</table>\n",
       "</div>"
      ],
      "text/plain": [
       "                     Name           Job Titles   Department Full or Part-Time  \\\n",
       "0  ADRIANO,  RACQUEL ANNE            PARAMEDIC         FIRE                 F   \n",
       "1       AFFANEH,  MAHIR A       POLICE OFFICER       POLICE                 F   \n",
       "3         AGAR,  BULENT B  DEPUTY COMMISSIONER  WATER MGMNT                 F   \n",
       "4         AGEE,  LAWRENCE       POLICE OFFICER       POLICE                 F   \n",
       "6       AGNEW,  MELISSA M             SERGEANT       POLICE                 F   \n",
       "\n",
       "   Annual Salary  \n",
       "0        72510.0  \n",
       "1        93354.0  \n",
       "3       132972.0  \n",
       "4        90024.0  \n",
       "6       111444.0  "
      ]
     },
     "execution_count": 10,
     "metadata": {},
     "output_type": "execute_result"
    },
    {
     "data": {
      "application/javascript": [
       "\n",
       "            setTimeout(function() {\n",
       "                var nbb_cell_id = 10;\n",
       "                var nbb_unformatted_code = \"drop_cols = [\\\"Salary or Hourly\\\", \\\"Typical Hours\\\", \\\"Hourly Rate\\\"]\\nchicago = chicago.drop(columns=drop_cols)\\nchicago.head()\";\n",
       "                var nbb_formatted_code = \"drop_cols = [\\\"Salary or Hourly\\\", \\\"Typical Hours\\\", \\\"Hourly Rate\\\"]\\nchicago = chicago.drop(columns=drop_cols)\\nchicago.head()\";\n",
       "                var nbb_cells = Jupyter.notebook.get_cells();\n",
       "                for (var i = 0; i < nbb_cells.length; ++i) {\n",
       "                    if (nbb_cells[i].input_prompt_number == nbb_cell_id) {\n",
       "                        if (nbb_cells[i].get_text() == nbb_unformatted_code) {\n",
       "                             nbb_cells[i].set_text(nbb_formatted_code);\n",
       "                        }\n",
       "                        break;\n",
       "                    }\n",
       "                }\n",
       "            }, 500);\n",
       "            "
      ],
      "text/plain": [
       "<IPython.core.display.Javascript object>"
      ]
     },
     "metadata": {},
     "output_type": "display_data"
    }
   ],
   "source": [
    "drop_cols = [\"Salary or Hourly\", \"Typical Hours\", \"Hourly Rate\"]\n",
    "chicago = chicago.drop(columns=drop_cols)\n",
    "chicago.head()"
   ]
  },
  {
   "cell_type": "markdown",
   "metadata": {},
   "source": [
    "All categorical variables... "
   ]
  },
  {
   "cell_type": "markdown",
   "metadata": {},
   "source": [
    "Filter the dataframe to just full-time workers and drop the `'Full or Part-Time'` column."
   ]
  },
  {
   "cell_type": "code",
   "execution_count": 11,
   "metadata": {},
   "outputs": [
    {
     "data": {
      "application/javascript": [
       "\n",
       "            setTimeout(function() {\n",
       "                var nbb_cell_id = 11;\n",
       "                var nbb_unformatted_code = \"chicago = chicago[chicago[\\\"Full or Part-Time\\\"] == \\\"F\\\"]\\nchicago = chicago.drop(columns=[\\\"Full or Part-Time\\\"])\";\n",
       "                var nbb_formatted_code = \"chicago = chicago[chicago[\\\"Full or Part-Time\\\"] == \\\"F\\\"]\\nchicago = chicago.drop(columns=[\\\"Full or Part-Time\\\"])\";\n",
       "                var nbb_cells = Jupyter.notebook.get_cells();\n",
       "                for (var i = 0; i < nbb_cells.length; ++i) {\n",
       "                    if (nbb_cells[i].input_prompt_number == nbb_cell_id) {\n",
       "                        if (nbb_cells[i].get_text() == nbb_unformatted_code) {\n",
       "                             nbb_cells[i].set_text(nbb_formatted_code);\n",
       "                        }\n",
       "                        break;\n",
       "                    }\n",
       "                }\n",
       "            }, 500);\n",
       "            "
      ],
      "text/plain": [
       "<IPython.core.display.Javascript object>"
      ]
     },
     "metadata": {},
     "output_type": "display_data"
    }
   ],
   "source": [
    "chicago = chicago[chicago[\"Full or Part-Time\"] == \"F\"]\n",
    "chicago = chicago.drop(columns=[\"Full or Part-Time\"])"
   ]
  },
  {
   "cell_type": "markdown",
   "metadata": {},
   "source": [
    "If there are any NAs remaining in the salary column, drop them."
   ]
  },
  {
   "cell_type": "code",
   "execution_count": 12,
   "metadata": {},
   "outputs": [
    {
     "data": {
      "application/javascript": [
       "\n",
       "            setTimeout(function() {\n",
       "                var nbb_cell_id = 12;\n",
       "                var nbb_unformatted_code = \"chicago = chicago.dropna()\";\n",
       "                var nbb_formatted_code = \"chicago = chicago.dropna()\";\n",
       "                var nbb_cells = Jupyter.notebook.get_cells();\n",
       "                for (var i = 0; i < nbb_cells.length; ++i) {\n",
       "                    if (nbb_cells[i].input_prompt_number == nbb_cell_id) {\n",
       "                        if (nbb_cells[i].get_text() == nbb_unformatted_code) {\n",
       "                             nbb_cells[i].set_text(nbb_formatted_code);\n",
       "                        }\n",
       "                        break;\n",
       "                    }\n",
       "                }\n",
       "            }, 500);\n",
       "            "
      ],
      "text/plain": [
       "<IPython.core.display.Javascript object>"
      ]
     },
     "metadata": {},
     "output_type": "display_data"
    }
   ],
   "source": [
    "chicago = chicago.dropna()"
   ]
  },
  {
   "cell_type": "markdown",
   "metadata": {},
   "source": [
    "In general, names aren't too informative for prediction.  BUT! We don't have a lot of features here, we probably want to put our feature engineering hats on.\n",
    "\n",
    "* Maybe we wanted to investigate nepotism, if that was the case, name could be valuable and we might want to restrict to surname...\n",
    "* Maybe we want to investigate if there's a gender pay gap in our data.  To do this we might try and guess the gender of the person based on their first name.  This, of course, won't be amazingly accurate... but it's kind of neat that we can do this.\n",
    "    * Note, this type of feature is definitely a bit of a stretch, we're almost surely introducing some bias.  This type of feature might not be to good to use in practice unless you're wanting to do some analysis that can generate clicks but might not have the strongest backing.  \n",
    "\n",
    "Let's go down this maybe ill advised rabbit trail of engineering a gender column.\n",
    "\n",
    "First, we need to isolate first name.  Below are some example names in the form we'll be working with in the dataframe. However, before we think about doing this in pandas, let's figure out how to isolate the name in a string.  \n",
    "\n",
    "Write some code to extract the first names."
   ]
  },
  {
   "cell_type": "code",
   "execution_count": 13,
   "metadata": {},
   "outputs": [
    {
     "data": {
      "application/javascript": [
       "\n",
       "            setTimeout(function() {\n",
       "                var nbb_cell_id = 13;\n",
       "                var nbb_unformatted_code = \"name = \\\"ADRIANO,  RACQUEL ANNE\\\"  # Expected output: 'RACQUEL'\\n# name = \\\"AFFANEH,  MAHIR A\\\"  # Expected output: 'MAHIR'\\n# name = \\\"SPANNBAUER,  ADAM M\\\"  # Expected output: 'ADAM'\";\n",
       "                var nbb_formatted_code = \"name = \\\"ADRIANO,  RACQUEL ANNE\\\"  # Expected output: 'RACQUEL'\\n# name = \\\"AFFANEH,  MAHIR A\\\"  # Expected output: 'MAHIR'\\n# name = \\\"SPANNBAUER,  ADAM M\\\"  # Expected output: 'ADAM'\";\n",
       "                var nbb_cells = Jupyter.notebook.get_cells();\n",
       "                for (var i = 0; i < nbb_cells.length; ++i) {\n",
       "                    if (nbb_cells[i].input_prompt_number == nbb_cell_id) {\n",
       "                        if (nbb_cells[i].get_text() == nbb_unformatted_code) {\n",
       "                             nbb_cells[i].set_text(nbb_formatted_code);\n",
       "                        }\n",
       "                        break;\n",
       "                    }\n",
       "                }\n",
       "            }, 500);\n",
       "            "
      ],
      "text/plain": [
       "<IPython.core.display.Javascript object>"
      ]
     },
     "metadata": {},
     "output_type": "display_data"
    }
   ],
   "source": [
    "name = \"ADRIANO,  RACQUEL ANNE\"  # Expected output: 'RACQUEL'\n",
    "# name = \"AFFANEH,  MAHIR A\"  # Expected output: 'MAHIR'\n",
    "# name = \"SPANNBAUER,  ADAM M\"  # Expected output: 'ADAM'"
   ]
  },
  {
   "cell_type": "code",
   "execution_count": 14,
   "metadata": {},
   "outputs": [
    {
     "data": {
      "text/plain": [
       "'RACQUEL'"
      ]
     },
     "execution_count": 14,
     "metadata": {},
     "output_type": "execute_result"
    },
    {
     "data": {
      "application/javascript": [
       "\n",
       "            setTimeout(function() {\n",
       "                var nbb_cell_id = 14;\n",
       "                var nbb_unformatted_code = \"split_name = name.split(\\\",  \\\")\\nfirst_name = split_name[1].split(\\\" \\\")[0]\\nfirst_name\";\n",
       "                var nbb_formatted_code = \"split_name = name.split(\\\",  \\\")\\nfirst_name = split_name[1].split(\\\" \\\")[0]\\nfirst_name\";\n",
       "                var nbb_cells = Jupyter.notebook.get_cells();\n",
       "                for (var i = 0; i < nbb_cells.length; ++i) {\n",
       "                    if (nbb_cells[i].input_prompt_number == nbb_cell_id) {\n",
       "                        if (nbb_cells[i].get_text() == nbb_unformatted_code) {\n",
       "                             nbb_cells[i].set_text(nbb_formatted_code);\n",
       "                        }\n",
       "                        break;\n",
       "                    }\n",
       "                }\n",
       "            }, 500);\n",
       "            "
      ],
      "text/plain": [
       "<IPython.core.display.Javascript object>"
      ]
     },
     "metadata": {},
     "output_type": "display_data"
    }
   ],
   "source": [
    "split_name = name.split(\",  \")\n",
    "first_name = split_name[1].split(\" \")[0]\n",
    "first_name"
   ]
  },
  {
   "cell_type": "markdown",
   "metadata": {},
   "source": [
    "Now translate this to pandas and apply it to the `'Name'` column"
   ]
  },
  {
   "cell_type": "code",
   "execution_count": 15,
   "metadata": {},
   "outputs": [
    {
     "data": {
      "text/plain": [
       "0    RACQUEL\n",
       "1      MAHIR\n",
       "3     BULENT\n",
       "Name: Name, dtype: object"
      ]
     },
     "execution_count": 15,
     "metadata": {},
     "output_type": "execute_result"
    },
    {
     "data": {
      "application/javascript": [
       "\n",
       "            setTimeout(function() {\n",
       "                var nbb_cell_id = 15;\n",
       "                var nbb_unformatted_code = \"split_name = chicago[\\\"Name\\\"].str.split(\\\",  \\\")\\nfirst_name = split_name.str[1].str.split(\\\" \\\").str[0]\\n\\nfirst_name.head(3)\";\n",
       "                var nbb_formatted_code = \"split_name = chicago[\\\"Name\\\"].str.split(\\\",  \\\")\\nfirst_name = split_name.str[1].str.split(\\\" \\\").str[0]\\n\\nfirst_name.head(3)\";\n",
       "                var nbb_cells = Jupyter.notebook.get_cells();\n",
       "                for (var i = 0; i < nbb_cells.length; ++i) {\n",
       "                    if (nbb_cells[i].input_prompt_number == nbb_cell_id) {\n",
       "                        if (nbb_cells[i].get_text() == nbb_unformatted_code) {\n",
       "                             nbb_cells[i].set_text(nbb_formatted_code);\n",
       "                        }\n",
       "                        break;\n",
       "                    }\n",
       "                }\n",
       "            }, 500);\n",
       "            "
      ],
      "text/plain": [
       "<IPython.core.display.Javascript object>"
      ]
     },
     "metadata": {},
     "output_type": "display_data"
    }
   ],
   "source": [
    "split_name = chicago[\"Name\"].str.split(\",  \")\n",
    "first_name = split_name.str[1].str.split(\" \").str[0]\n",
    "\n",
    "first_name.head(3)"
   ]
  },
  {
   "cell_type": "markdown",
   "metadata": {},
   "source": [
    "We prolly want this as a function so we can hide away all this logic."
   ]
  },
  {
   "cell_type": "code",
   "execution_count": 16,
   "metadata": {},
   "outputs": [
    {
     "data": {
      "application/javascript": [
       "\n",
       "            setTimeout(function() {\n",
       "                var nbb_cell_id = 16;\n",
       "                var nbb_unformatted_code = \"def get_first_name(chitown_names):\\n    split_name = chitown_names.str.split(\\\",  \\\")\\n    first_name = split_name.str[1].str.split(\\\" \\\").str[0]\\n\\n    return first_name\";\n",
       "                var nbb_formatted_code = \"def get_first_name(chitown_names):\\n    split_name = chitown_names.str.split(\\\",  \\\")\\n    first_name = split_name.str[1].str.split(\\\" \\\").str[0]\\n\\n    return first_name\";\n",
       "                var nbb_cells = Jupyter.notebook.get_cells();\n",
       "                for (var i = 0; i < nbb_cells.length; ++i) {\n",
       "                    if (nbb_cells[i].input_prompt_number == nbb_cell_id) {\n",
       "                        if (nbb_cells[i].get_text() == nbb_unformatted_code) {\n",
       "                             nbb_cells[i].set_text(nbb_formatted_code);\n",
       "                        }\n",
       "                        break;\n",
       "                    }\n",
       "                }\n",
       "            }, 500);\n",
       "            "
      ],
      "text/plain": [
       "<IPython.core.display.Javascript object>"
      ]
     },
     "metadata": {},
     "output_type": "display_data"
    }
   ],
   "source": [
    "def get_first_name(chitown_names):\n",
    "    split_name = chitown_names.str.split(\",  \")\n",
    "    first_name = split_name.str[1].str.split(\" \").str[0]\n",
    "\n",
    "    return first_name"
   ]
  },
  {
   "cell_type": "code",
   "execution_count": 17,
   "metadata": {},
   "outputs": [
    {
     "data": {
      "text/html": [
       "<div>\n",
       "<style scoped>\n",
       "    .dataframe tbody tr th:only-of-type {\n",
       "        vertical-align: middle;\n",
       "    }\n",
       "\n",
       "    .dataframe tbody tr th {\n",
       "        vertical-align: top;\n",
       "    }\n",
       "\n",
       "    .dataframe thead th {\n",
       "        text-align: right;\n",
       "    }\n",
       "</style>\n",
       "<table border=\"1\" class=\"dataframe\">\n",
       "  <thead>\n",
       "    <tr style=\"text-align: right;\">\n",
       "      <th></th>\n",
       "      <th>Name</th>\n",
       "      <th>Job Titles</th>\n",
       "      <th>Department</th>\n",
       "      <th>Annual Salary</th>\n",
       "      <th>First Name</th>\n",
       "    </tr>\n",
       "  </thead>\n",
       "  <tbody>\n",
       "    <tr>\n",
       "      <th>0</th>\n",
       "      <td>ADRIANO,  RACQUEL ANNE</td>\n",
       "      <td>PARAMEDIC</td>\n",
       "      <td>FIRE</td>\n",
       "      <td>72510.0</td>\n",
       "      <td>RACQUEL</td>\n",
       "    </tr>\n",
       "    <tr>\n",
       "      <th>1</th>\n",
       "      <td>AFFANEH,  MAHIR A</td>\n",
       "      <td>POLICE OFFICER</td>\n",
       "      <td>POLICE</td>\n",
       "      <td>93354.0</td>\n",
       "      <td>MAHIR</td>\n",
       "    </tr>\n",
       "    <tr>\n",
       "      <th>3</th>\n",
       "      <td>AGAR,  BULENT B</td>\n",
       "      <td>DEPUTY COMMISSIONER</td>\n",
       "      <td>WATER MGMNT</td>\n",
       "      <td>132972.0</td>\n",
       "      <td>BULENT</td>\n",
       "    </tr>\n",
       "    <tr>\n",
       "      <th>4</th>\n",
       "      <td>AGEE,  LAWRENCE</td>\n",
       "      <td>POLICE OFFICER</td>\n",
       "      <td>POLICE</td>\n",
       "      <td>90024.0</td>\n",
       "      <td>LAWRENCE</td>\n",
       "    </tr>\n",
       "    <tr>\n",
       "      <th>6</th>\n",
       "      <td>AGNEW,  MELISSA M</td>\n",
       "      <td>SERGEANT</td>\n",
       "      <td>POLICE</td>\n",
       "      <td>111444.0</td>\n",
       "      <td>MELISSA</td>\n",
       "    </tr>\n",
       "  </tbody>\n",
       "</table>\n",
       "</div>"
      ],
      "text/plain": [
       "                     Name           Job Titles   Department  Annual Salary  \\\n",
       "0  ADRIANO,  RACQUEL ANNE            PARAMEDIC         FIRE        72510.0   \n",
       "1       AFFANEH,  MAHIR A       POLICE OFFICER       POLICE        93354.0   \n",
       "3         AGAR,  BULENT B  DEPUTY COMMISSIONER  WATER MGMNT       132972.0   \n",
       "4         AGEE,  LAWRENCE       POLICE OFFICER       POLICE        90024.0   \n",
       "6       AGNEW,  MELISSA M             SERGEANT       POLICE       111444.0   \n",
       "\n",
       "  First Name  \n",
       "0    RACQUEL  \n",
       "1      MAHIR  \n",
       "3     BULENT  \n",
       "4   LAWRENCE  \n",
       "6    MELISSA  "
      ]
     },
     "execution_count": 17,
     "metadata": {},
     "output_type": "execute_result"
    },
    {
     "data": {
      "application/javascript": [
       "\n",
       "            setTimeout(function() {\n",
       "                var nbb_cell_id = 17;\n",
       "                var nbb_unformatted_code = \"chicago[\\\"First Name\\\"] = get_first_name(chicago[\\\"Name\\\"])\\nchicago.head()\";\n",
       "                var nbb_formatted_code = \"chicago[\\\"First Name\\\"] = get_first_name(chicago[\\\"Name\\\"])\\nchicago.head()\";\n",
       "                var nbb_cells = Jupyter.notebook.get_cells();\n",
       "                for (var i = 0; i < nbb_cells.length; ++i) {\n",
       "                    if (nbb_cells[i].input_prompt_number == nbb_cell_id) {\n",
       "                        if (nbb_cells[i].get_text() == nbb_unformatted_code) {\n",
       "                             nbb_cells[i].set_text(nbb_formatted_code);\n",
       "                        }\n",
       "                        break;\n",
       "                    }\n",
       "                }\n",
       "            }, 500);\n",
       "            "
      ],
      "text/plain": [
       "<IPython.core.display.Javascript object>"
      ]
     },
     "metadata": {},
     "output_type": "display_data"
    }
   ],
   "source": [
    "chicago[\"First Name\"] = get_first_name(chicago[\"Name\"])\n",
    "chicago.head()"
   ]
  },
  {
   "cell_type": "markdown",
   "metadata": {},
   "source": [
    "Now we need to classify these as male/female... A couple ways we could do this:\n",
    "\n",
    "* Find a database (like Social Security or something idk) of names by gender and look up the names and label with the most common\n",
    "* Use a model trained on a database like this to make predictions\n",
    "   * ^One of those is `pip` installable (`!pip install gender_guesser`)\n",
    "   \n",
    "Below is an example on how to use it."
   ]
  },
  {
   "cell_type": "code",
   "execution_count": 18,
   "metadata": {},
   "outputs": [
    {
     "name": "stdout",
     "output_type": "stream",
     "text": [
      "Title case:\n",
      "female\n",
      "male\n",
      "unknown\n",
      "\n",
      "Upper case:\n",
      "unknown\n",
      "unknown\n",
      "unknown\n"
     ]
    },
    {
     "data": {
      "application/javascript": [
       "\n",
       "            setTimeout(function() {\n",
       "                var nbb_cell_id = 18;\n",
       "                var nbb_unformatted_code = \"# from gender_guesser.detector import Detector\\n\\ngd = Detector()\\nprint(\\\"Title case:\\\")\\nprint(gd.get_gender(\\\"Candy\\\"))\\nprint(gd.get_gender(\\\"Scott\\\"))\\nprint(gd.get_gender(\\\"Tonks\\\"))  # my dog's name (she's a lady)\\n\\n# It doesn't know how to handle casing...\\nprint(\\\"\\\\nUpper case:\\\")\\nprint(gd.get_gender(\\\"candy\\\"))\\nprint(gd.get_gender(\\\"SCOTT\\\"))\\nprint(gd.get_gender(\\\"TONKS\\\"))\";\n",
       "                var nbb_formatted_code = \"# from gender_guesser.detector import Detector\\n\\ngd = Detector()\\nprint(\\\"Title case:\\\")\\nprint(gd.get_gender(\\\"Candy\\\"))\\nprint(gd.get_gender(\\\"Scott\\\"))\\nprint(gd.get_gender(\\\"Tonks\\\"))  # my dog's name (she's a lady)\\n\\n# It doesn't know how to handle casing...\\nprint(\\\"\\\\nUpper case:\\\")\\nprint(gd.get_gender(\\\"candy\\\"))\\nprint(gd.get_gender(\\\"SCOTT\\\"))\\nprint(gd.get_gender(\\\"TONKS\\\"))\";\n",
       "                var nbb_cells = Jupyter.notebook.get_cells();\n",
       "                for (var i = 0; i < nbb_cells.length; ++i) {\n",
       "                    if (nbb_cells[i].input_prompt_number == nbb_cell_id) {\n",
       "                        if (nbb_cells[i].get_text() == nbb_unformatted_code) {\n",
       "                             nbb_cells[i].set_text(nbb_formatted_code);\n",
       "                        }\n",
       "                        break;\n",
       "                    }\n",
       "                }\n",
       "            }, 500);\n",
       "            "
      ],
      "text/plain": [
       "<IPython.core.display.Javascript object>"
      ]
     },
     "metadata": {},
     "output_type": "display_data"
    }
   ],
   "source": [
    "# from gender_guesser.detector import Detector\n",
    "\n",
    "gd = Detector()\n",
    "print(\"Title case:\")\n",
    "print(gd.get_gender(\"Candy\"))\n",
    "print(gd.get_gender(\"Scott\"))\n",
    "print(gd.get_gender(\"Tonks\"))  # my dog's name (she's a lady)\n",
    "\n",
    "# It doesn't know how to handle casing...\n",
    "print(\"\\nUpper case:\")\n",
    "print(gd.get_gender(\"candy\"))\n",
    "print(gd.get_gender(\"SCOTT\"))\n",
    "print(gd.get_gender(\"TONKS\"))"
   ]
  },
  {
   "cell_type": "markdown",
   "metadata": {},
   "source": [
    "We need to change our first names to title case to get predictions it seems."
   ]
  },
  {
   "cell_type": "code",
   "execution_count": 19,
   "metadata": {},
   "outputs": [
    {
     "data": {
      "text/plain": [
       "'The Great Gatsby'"
      ]
     },
     "execution_count": 19,
     "metadata": {},
     "output_type": "execute_result"
    },
    {
     "data": {
      "application/javascript": [
       "\n",
       "            setTimeout(function() {\n",
       "                var nbb_cell_id = 19;\n",
       "                var nbb_unformatted_code = \"# Example in string land\\n\\\"THE GREAT GATSBY\\\".title()\";\n",
       "                var nbb_formatted_code = \"# Example in string land\\n\\\"THE GREAT GATSBY\\\".title()\";\n",
       "                var nbb_cells = Jupyter.notebook.get_cells();\n",
       "                for (var i = 0; i < nbb_cells.length; ++i) {\n",
       "                    if (nbb_cells[i].input_prompt_number == nbb_cell_id) {\n",
       "                        if (nbb_cells[i].get_text() == nbb_unformatted_code) {\n",
       "                             nbb_cells[i].set_text(nbb_formatted_code);\n",
       "                        }\n",
       "                        break;\n",
       "                    }\n",
       "                }\n",
       "            }, 500);\n",
       "            "
      ],
      "text/plain": [
       "<IPython.core.display.Javascript object>"
      ]
     },
     "metadata": {},
     "output_type": "display_data"
    }
   ],
   "source": [
    "# Example in string land\n",
    "\"THE GREAT GATSBY\".title()"
   ]
  },
  {
   "cell_type": "markdown",
   "metadata": {},
   "source": [
    "Apply title casing the the first names in the dataframe"
   ]
  },
  {
   "cell_type": "code",
   "execution_count": 20,
   "metadata": {},
   "outputs": [
    {
     "data": {
      "text/html": [
       "<div>\n",
       "<style scoped>\n",
       "    .dataframe tbody tr th:only-of-type {\n",
       "        vertical-align: middle;\n",
       "    }\n",
       "\n",
       "    .dataframe tbody tr th {\n",
       "        vertical-align: top;\n",
       "    }\n",
       "\n",
       "    .dataframe thead th {\n",
       "        text-align: right;\n",
       "    }\n",
       "</style>\n",
       "<table border=\"1\" class=\"dataframe\">\n",
       "  <thead>\n",
       "    <tr style=\"text-align: right;\">\n",
       "      <th></th>\n",
       "      <th>Name</th>\n",
       "      <th>Job Titles</th>\n",
       "      <th>Department</th>\n",
       "      <th>Annual Salary</th>\n",
       "      <th>First Name</th>\n",
       "    </tr>\n",
       "  </thead>\n",
       "  <tbody>\n",
       "    <tr>\n",
       "      <th>0</th>\n",
       "      <td>ADRIANO,  RACQUEL ANNE</td>\n",
       "      <td>PARAMEDIC</td>\n",
       "      <td>FIRE</td>\n",
       "      <td>72510.0</td>\n",
       "      <td>Racquel</td>\n",
       "    </tr>\n",
       "    <tr>\n",
       "      <th>1</th>\n",
       "      <td>AFFANEH,  MAHIR A</td>\n",
       "      <td>POLICE OFFICER</td>\n",
       "      <td>POLICE</td>\n",
       "      <td>93354.0</td>\n",
       "      <td>Mahir</td>\n",
       "    </tr>\n",
       "    <tr>\n",
       "      <th>3</th>\n",
       "      <td>AGAR,  BULENT B</td>\n",
       "      <td>DEPUTY COMMISSIONER</td>\n",
       "      <td>WATER MGMNT</td>\n",
       "      <td>132972.0</td>\n",
       "      <td>Bulent</td>\n",
       "    </tr>\n",
       "    <tr>\n",
       "      <th>4</th>\n",
       "      <td>AGEE,  LAWRENCE</td>\n",
       "      <td>POLICE OFFICER</td>\n",
       "      <td>POLICE</td>\n",
       "      <td>90024.0</td>\n",
       "      <td>Lawrence</td>\n",
       "    </tr>\n",
       "    <tr>\n",
       "      <th>6</th>\n",
       "      <td>AGNEW,  MELISSA M</td>\n",
       "      <td>SERGEANT</td>\n",
       "      <td>POLICE</td>\n",
       "      <td>111444.0</td>\n",
       "      <td>Melissa</td>\n",
       "    </tr>\n",
       "  </tbody>\n",
       "</table>\n",
       "</div>"
      ],
      "text/plain": [
       "                     Name           Job Titles   Department  Annual Salary  \\\n",
       "0  ADRIANO,  RACQUEL ANNE            PARAMEDIC         FIRE        72510.0   \n",
       "1       AFFANEH,  MAHIR A       POLICE OFFICER       POLICE        93354.0   \n",
       "3         AGAR,  BULENT B  DEPUTY COMMISSIONER  WATER MGMNT       132972.0   \n",
       "4         AGEE,  LAWRENCE       POLICE OFFICER       POLICE        90024.0   \n",
       "6       AGNEW,  MELISSA M             SERGEANT       POLICE       111444.0   \n",
       "\n",
       "  First Name  \n",
       "0    Racquel  \n",
       "1      Mahir  \n",
       "3     Bulent  \n",
       "4   Lawrence  \n",
       "6    Melissa  "
      ]
     },
     "execution_count": 20,
     "metadata": {},
     "output_type": "execute_result"
    },
    {
     "data": {
      "application/javascript": [
       "\n",
       "            setTimeout(function() {\n",
       "                var nbb_cell_id = 20;\n",
       "                var nbb_unformatted_code = \"chicago[\\\"First Name\\\"] = chicago[\\\"First Name\\\"].str.title()\\nchicago.head()\";\n",
       "                var nbb_formatted_code = \"chicago[\\\"First Name\\\"] = chicago[\\\"First Name\\\"].str.title()\\nchicago.head()\";\n",
       "                var nbb_cells = Jupyter.notebook.get_cells();\n",
       "                for (var i = 0; i < nbb_cells.length; ++i) {\n",
       "                    if (nbb_cells[i].input_prompt_number == nbb_cell_id) {\n",
       "                        if (nbb_cells[i].get_text() == nbb_unformatted_code) {\n",
       "                             nbb_cells[i].set_text(nbb_formatted_code);\n",
       "                        }\n",
       "                        break;\n",
       "                    }\n",
       "                }\n",
       "            }, 500);\n",
       "            "
      ],
      "text/plain": [
       "<IPython.core.display.Javascript object>"
      ]
     },
     "metadata": {},
     "output_type": "display_data"
    }
   ],
   "source": [
    "chicago[\"First Name\"] = chicago[\"First Name\"].str.title()\n",
    "chicago.head()"
   ]
  },
  {
   "cell_type": "markdown",
   "metadata": {},
   "source": [
    "Create a new column named `'gender_guess'` by applying the `gd.get_gender` to the title cased first name column"
   ]
  },
  {
   "cell_type": "code",
   "execution_count": 21,
   "metadata": {},
   "outputs": [
    {
     "data": {
      "text/html": [
       "<div>\n",
       "<style scoped>\n",
       "    .dataframe tbody tr th:only-of-type {\n",
       "        vertical-align: middle;\n",
       "    }\n",
       "\n",
       "    .dataframe tbody tr th {\n",
       "        vertical-align: top;\n",
       "    }\n",
       "\n",
       "    .dataframe thead th {\n",
       "        text-align: right;\n",
       "    }\n",
       "</style>\n",
       "<table border=\"1\" class=\"dataframe\">\n",
       "  <thead>\n",
       "    <tr style=\"text-align: right;\">\n",
       "      <th></th>\n",
       "      <th>Name</th>\n",
       "      <th>Job Titles</th>\n",
       "      <th>Department</th>\n",
       "      <th>Annual Salary</th>\n",
       "      <th>First Name</th>\n",
       "      <th>gender_guess</th>\n",
       "    </tr>\n",
       "  </thead>\n",
       "  <tbody>\n",
       "    <tr>\n",
       "      <th>0</th>\n",
       "      <td>ADRIANO,  RACQUEL ANNE</td>\n",
       "      <td>PARAMEDIC</td>\n",
       "      <td>FIRE</td>\n",
       "      <td>72510.0</td>\n",
       "      <td>Racquel</td>\n",
       "      <td>female</td>\n",
       "    </tr>\n",
       "    <tr>\n",
       "      <th>1</th>\n",
       "      <td>AFFANEH,  MAHIR A</td>\n",
       "      <td>POLICE OFFICER</td>\n",
       "      <td>POLICE</td>\n",
       "      <td>93354.0</td>\n",
       "      <td>Mahir</td>\n",
       "      <td>male</td>\n",
       "    </tr>\n",
       "    <tr>\n",
       "      <th>3</th>\n",
       "      <td>AGAR,  BULENT B</td>\n",
       "      <td>DEPUTY COMMISSIONER</td>\n",
       "      <td>WATER MGMNT</td>\n",
       "      <td>132972.0</td>\n",
       "      <td>Bulent</td>\n",
       "      <td>unknown</td>\n",
       "    </tr>\n",
       "    <tr>\n",
       "      <th>4</th>\n",
       "      <td>AGEE,  LAWRENCE</td>\n",
       "      <td>POLICE OFFICER</td>\n",
       "      <td>POLICE</td>\n",
       "      <td>90024.0</td>\n",
       "      <td>Lawrence</td>\n",
       "      <td>male</td>\n",
       "    </tr>\n",
       "    <tr>\n",
       "      <th>6</th>\n",
       "      <td>AGNEW,  MELISSA M</td>\n",
       "      <td>SERGEANT</td>\n",
       "      <td>POLICE</td>\n",
       "      <td>111444.0</td>\n",
       "      <td>Melissa</td>\n",
       "      <td>female</td>\n",
       "    </tr>\n",
       "  </tbody>\n",
       "</table>\n",
       "</div>"
      ],
      "text/plain": [
       "                     Name           Job Titles   Department  Annual Salary  \\\n",
       "0  ADRIANO,  RACQUEL ANNE            PARAMEDIC         FIRE        72510.0   \n",
       "1       AFFANEH,  MAHIR A       POLICE OFFICER       POLICE        93354.0   \n",
       "3         AGAR,  BULENT B  DEPUTY COMMISSIONER  WATER MGMNT       132972.0   \n",
       "4         AGEE,  LAWRENCE       POLICE OFFICER       POLICE        90024.0   \n",
       "6       AGNEW,  MELISSA M             SERGEANT       POLICE       111444.0   \n",
       "\n",
       "  First Name gender_guess  \n",
       "0    Racquel       female  \n",
       "1      Mahir         male  \n",
       "3     Bulent      unknown  \n",
       "4   Lawrence         male  \n",
       "6    Melissa       female  "
      ]
     },
     "execution_count": 21,
     "metadata": {},
     "output_type": "execute_result"
    },
    {
     "data": {
      "application/javascript": [
       "\n",
       "            setTimeout(function() {\n",
       "                var nbb_cell_id = 21;\n",
       "                var nbb_unformatted_code = \"chicago[\\\"gender_guess\\\"] = chicago[\\\"First Name\\\"].apply(gd.get_gender)\\nchicago.head()\";\n",
       "                var nbb_formatted_code = \"chicago[\\\"gender_guess\\\"] = chicago[\\\"First Name\\\"].apply(gd.get_gender)\\nchicago.head()\";\n",
       "                var nbb_cells = Jupyter.notebook.get_cells();\n",
       "                for (var i = 0; i < nbb_cells.length; ++i) {\n",
       "                    if (nbb_cells[i].input_prompt_number == nbb_cell_id) {\n",
       "                        if (nbb_cells[i].get_text() == nbb_unformatted_code) {\n",
       "                             nbb_cells[i].set_text(nbb_formatted_code);\n",
       "                        }\n",
       "                        break;\n",
       "                    }\n",
       "                }\n",
       "            }, 500);\n",
       "            "
      ],
      "text/plain": [
       "<IPython.core.display.Javascript object>"
      ]
     },
     "metadata": {},
     "output_type": "display_data"
    }
   ],
   "source": [
    "chicago[\"gender_guess\"] = chicago[\"First Name\"].apply(gd.get_gender)\n",
    "chicago.head()"
   ]
  },
  {
   "cell_type": "markdown",
   "metadata": {},
   "source": [
    "We can now drop our name columns (unless we (1) wanted to investigate nepotism, (2) check if bradley's make more money, or something else name related)."
   ]
  },
  {
   "cell_type": "code",
   "execution_count": 22,
   "metadata": {},
   "outputs": [
    {
     "data": {
      "application/javascript": [
       "\n",
       "            setTimeout(function() {\n",
       "                var nbb_cell_id = 22;\n",
       "                var nbb_unformatted_code = \"drop_cols = [\\\"Name\\\", \\\"First Name\\\"]\\nchicago = chicago.drop(columns=drop_cols)\";\n",
       "                var nbb_formatted_code = \"drop_cols = [\\\"Name\\\", \\\"First Name\\\"]\\nchicago = chicago.drop(columns=drop_cols)\";\n",
       "                var nbb_cells = Jupyter.notebook.get_cells();\n",
       "                for (var i = 0; i < nbb_cells.length; ++i) {\n",
       "                    if (nbb_cells[i].input_prompt_number == nbb_cell_id) {\n",
       "                        if (nbb_cells[i].get_text() == nbb_unformatted_code) {\n",
       "                             nbb_cells[i].set_text(nbb_formatted_code);\n",
       "                        }\n",
       "                        break;\n",
       "                    }\n",
       "                }\n",
       "            }, 500);\n",
       "            "
      ],
      "text/plain": [
       "<IPython.core.display.Javascript object>"
      ]
     },
     "metadata": {},
     "output_type": "display_data"
    }
   ],
   "source": [
    "drop_cols = [\"Name\", \"First Name\"]\n",
    "chicago = chicago.drop(columns=drop_cols)"
   ]
  },
  {
   "cell_type": "markdown",
   "metadata": {},
   "source": [
    "Create a violin plot of `'Annual Salary'` by `'gender_guess'`."
   ]
  },
  {
   "cell_type": "code",
   "execution_count": 23,
   "metadata": {},
   "outputs": [
    {
     "data": {
      "image/png": "[encoded data removed]",
      "text/plain": [
       "<Figure size 432x288 with 1 Axes>"
      ]
     },
     "metadata": {
      "needs_background": "light"
     },
     "output_type": "display_data"
    },
    {
     "data": {
      "application/javascript": [
       "\n",
       "            setTimeout(function() {\n",
       "                var nbb_cell_id = 23;\n",
       "                var nbb_unformatted_code = \"sns.violinplot(\\\"Annual Salary\\\", \\\"gender_guess\\\", data=chicago)\\nplt.show()\";\n",
       "                var nbb_formatted_code = \"sns.violinplot(\\\"Annual Salary\\\", \\\"gender_guess\\\", data=chicago)\\nplt.show()\";\n",
       "                var nbb_cells = Jupyter.notebook.get_cells();\n",
       "                for (var i = 0; i < nbb_cells.length; ++i) {\n",
       "                    if (nbb_cells[i].input_prompt_number == nbb_cell_id) {\n",
       "                        if (nbb_cells[i].get_text() == nbb_unformatted_code) {\n",
       "                             nbb_cells[i].set_text(nbb_formatted_code);\n",
       "                        }\n",
       "                        break;\n",
       "                    }\n",
       "                }\n",
       "            }, 500);\n",
       "            "
      ],
      "text/plain": [
       "<IPython.core.display.Javascript object>"
      ]
     },
     "metadata": {},
     "output_type": "display_data"
    }
   ],
   "source": [
    "sns.violinplot(\"Annual Salary\", \"gender_guess\", data=chicago)\n",
    "plt.show()"
   ]
  },
  {
   "cell_type": "markdown",
   "metadata": {},
   "source": [
    "Ah, of course, the very often forgotten gender, 'andy'.\n",
    "\n",
    "Per documentation, andy is their shorthand for androgynous.  Let's collapse down to 3 categories: male, female, other."
   ]
  },
  {
   "cell_type": "code",
   "execution_count": 24,
   "metadata": {},
   "outputs": [
    {
     "data": {
      "image/png": "[encoded data removed]",
      "text/plain": [
       "<Figure size 432x288 with 1 Axes>"
      ]
     },
     "metadata": {
      "needs_background": "light"
     },
     "output_type": "display_data"
    },
    {
     "data": {
      "application/javascript": [
       "\n",
       "            setTimeout(function() {\n",
       "                var nbb_cell_id = 24;\n",
       "                var nbb_unformatted_code = \"replacements = {\\n    \\\"mostly_male\\\": \\\"male\\\",\\n    \\\"mostly_female\\\": \\\"female\\\",\\n    \\\"unknown\\\": \\\"other\\\",\\n    \\\"andy\\\": \\\"other\\\",\\n}\\n\\nchicago[\\\"gender_guess\\\"] = chicago[\\\"gender_guess\\\"].replace(replacements)\\n\\nsns.violinplot(\\\"Annual Salary\\\", \\\"gender_guess\\\", data=chicago)\\nplt.show()\";\n",
       "                var nbb_formatted_code = \"replacements = {\\n    \\\"mostly_male\\\": \\\"male\\\",\\n    \\\"mostly_female\\\": \\\"female\\\",\\n    \\\"unknown\\\": \\\"other\\\",\\n    \\\"andy\\\": \\\"other\\\",\\n}\\n\\nchicago[\\\"gender_guess\\\"] = chicago[\\\"gender_guess\\\"].replace(replacements)\\n\\nsns.violinplot(\\\"Annual Salary\\\", \\\"gender_guess\\\", data=chicago)\\nplt.show()\";\n",
       "                var nbb_cells = Jupyter.notebook.get_cells();\n",
       "                for (var i = 0; i < nbb_cells.length; ++i) {\n",
       "                    if (nbb_cells[i].input_prompt_number == nbb_cell_id) {\n",
       "                        if (nbb_cells[i].get_text() == nbb_unformatted_code) {\n",
       "                             nbb_cells[i].set_text(nbb_formatted_code);\n",
       "                        }\n",
       "                        break;\n",
       "                    }\n",
       "                }\n",
       "            }, 500);\n",
       "            "
      ],
      "text/plain": [
       "<IPython.core.display.Javascript object>"
      ]
     },
     "metadata": {},
     "output_type": "display_data"
    }
   ],
   "source": [
    "replacements = {\n",
    "    \"mostly_male\": \"male\",\n",
    "    \"mostly_female\": \"female\",\n",
    "    \"unknown\": \"other\",\n",
    "    \"andy\": \"other\",\n",
    "}\n",
    "\n",
    "chicago[\"gender_guess\"] = chicago[\"gender_guess\"].replace(replacements)\n",
    "\n",
    "sns.violinplot(\"Annual Salary\", \"gender_guess\", data=chicago)\n",
    "plt.show()"
   ]
  },
  {
   "cell_type": "markdown",
   "metadata": {},
   "source": [
    "In our plot we might be seeing a gender pay gap, with the biggest loser being... Andy.  At least Andy has Woody and Buzz to help cope."
   ]
  },
  {
   "cell_type": "markdown",
   "metadata": {},
   "source": [
    "💥BOOM 💥 new feature is now engineered.  Let's get back to some more on topic stuff."
   ]
  },
  {
   "cell_type": "markdown",
   "metadata": {},
   "source": [
    "Look at the value counts for `'Job Titles'` and `'Department'`.  Spoiler, there's a lot, create an 'other' category for both.  Decide some cutoff point for what's too few (threshold by count, threshold by count percentile, take the top n, etc.)\n",
    "\n",
    "* Perform the process on one of the columns\n",
    "* Translate this logic into a function\n",
    "* Use your function on the other column"
   ]
  },
  {
   "cell_type": "code",
   "execution_count": 25,
   "metadata": {},
   "outputs": [
    {
     "data": {
      "application/javascript": [
       "\n",
       "            setTimeout(function() {\n",
       "                var nbb_cell_id = 25;\n",
       "                var nbb_unformatted_code = \"def make_other_cat(series, percentile=50, thresh=None):\\n    series_copy = series.copy()\\n    counts = series_copy.value_counts()\\n    \\n    if thresh is None:\\n        thresh = np.percentile(counts, percentile)\\n\\n    below_thresh_names = counts[counts < thresh].index\\n    below_thresh_names\\n\\n    series_copy[series_copy.isin(below_thresh_names)] = \\\"other\\\"\\n\\n    return series_copy\";\n",
       "                var nbb_formatted_code = \"def make_other_cat(series, percentile=50, thresh=None):\\n    series_copy = series.copy()\\n    counts = series_copy.value_counts()\\n\\n    if thresh is None:\\n        thresh = np.percentile(counts, percentile)\\n\\n    below_thresh_names = counts[counts < thresh].index\\n    below_thresh_names\\n\\n    series_copy[series_copy.isin(below_thresh_names)] = \\\"other\\\"\\n\\n    return series_copy\";\n",
       "                var nbb_cells = Jupyter.notebook.get_cells();\n",
       "                for (var i = 0; i < nbb_cells.length; ++i) {\n",
       "                    if (nbb_cells[i].input_prompt_number == nbb_cell_id) {\n",
       "                        if (nbb_cells[i].get_text() == nbb_unformatted_code) {\n",
       "                             nbb_cells[i].set_text(nbb_formatted_code);\n",
       "                        }\n",
       "                        break;\n",
       "                    }\n",
       "                }\n",
       "            }, 500);\n",
       "            "
      ],
      "text/plain": [
       "<IPython.core.display.Javascript object>"
      ]
     },
     "metadata": {},
     "output_type": "display_data"
    }
   ],
   "source": [
    "def make_other_cat(series, percentile=50, thresh=None):\n",
    "    series_copy = series.copy()\n",
    "    counts = series_copy.value_counts()\n",
    "\n",
    "    if thresh is None:\n",
    "        thresh = np.percentile(counts, percentile)\n",
    "\n",
    "    below_thresh_names = counts[counts < thresh].index\n",
    "    below_thresh_names\n",
    "\n",
    "    series_copy[series_copy.isin(below_thresh_names)] = \"other\"\n",
    "\n",
    "    return series_copy"
   ]
  },
  {
   "cell_type": "code",
   "execution_count": 26,
   "metadata": {},
   "outputs": [
    {
     "data": {
      "application/javascript": [
       "\n",
       "            setTimeout(function() {\n",
       "                var nbb_cell_id = 26;\n",
       "                var nbb_unformatted_code = \"chicago[\\\"Job Titles\\\"] = make_other_cat(chicago[\\\"Job Titles\\\"], 90)\";\n",
       "                var nbb_formatted_code = \"chicago[\\\"Job Titles\\\"] = make_other_cat(chicago[\\\"Job Titles\\\"], 90)\";\n",
       "                var nbb_cells = Jupyter.notebook.get_cells();\n",
       "                for (var i = 0; i < nbb_cells.length; ++i) {\n",
       "                    if (nbb_cells[i].input_prompt_number == nbb_cell_id) {\n",
       "                        if (nbb_cells[i].get_text() == nbb_unformatted_code) {\n",
       "                             nbb_cells[i].set_text(nbb_formatted_code);\n",
       "                        }\n",
       "                        break;\n",
       "                    }\n",
       "                }\n",
       "            }, 500);\n",
       "            "
      ],
      "text/plain": [
       "<IPython.core.display.Javascript object>"
      ]
     },
     "metadata": {},
     "output_type": "display_data"
    }
   ],
   "source": [
    "chicago[\"Job Titles\"] = make_other_cat(chicago[\"Job Titles\"], 90)"
   ]
  },
  {
   "cell_type": "code",
   "execution_count": 27,
   "metadata": {},
   "outputs": [
    {
     "data": {
      "application/javascript": [
       "\n",
       "            setTimeout(function() {\n",
       "                var nbb_cell_id = 27;\n",
       "                var nbb_unformatted_code = \"chicago[\\\"Department\\\"] = make_other_cat(chicago[\\\"Department\\\"], 50)\";\n",
       "                var nbb_formatted_code = \"chicago[\\\"Department\\\"] = make_other_cat(chicago[\\\"Department\\\"], 50)\";\n",
       "                var nbb_cells = Jupyter.notebook.get_cells();\n",
       "                for (var i = 0; i < nbb_cells.length; ++i) {\n",
       "                    if (nbb_cells[i].input_prompt_number == nbb_cell_id) {\n",
       "                        if (nbb_cells[i].get_text() == nbb_unformatted_code) {\n",
       "                             nbb_cells[i].set_text(nbb_formatted_code);\n",
       "                        }\n",
       "                        break;\n",
       "                    }\n",
       "                }\n",
       "            }, 500);\n",
       "            "
      ],
      "text/plain": [
       "<IPython.core.display.Javascript object>"
      ]
     },
     "metadata": {},
     "output_type": "display_data"
    }
   ],
   "source": [
    "chicago[\"Department\"] = make_other_cat(chicago[\"Department\"], 50)"
   ]
  },
  {
   "cell_type": "markdown",
   "metadata": {},
   "source": [
    "## Model Prep"
   ]
  },
  {
   "cell_type": "markdown",
   "metadata": {},
   "source": [
    "Perform a train test split stratified by our gender guess feature."
   ]
  },
  {
   "cell_type": "code",
   "execution_count": 30,
   "metadata": {},
   "outputs": [
    {
     "data": {
      "application/javascript": [
       "\n",
       "            setTimeout(function() {\n",
       "                var nbb_cell_id = 30;\n",
       "                var nbb_unformatted_code = \"X = chicago.dropna().drop(columns=[\\\"Annual Salary\\\"])\\ny = chicago.dropna()[\\\"Annual Salary\\\"]\\n\\nX_train, X_test, y_train, y_test = train_test_split(\\n    X, y, test_size=0.2, random_state=42, stratify=chicago[\\\"gender_guess\\\"],\\n)\";\n",
       "                var nbb_formatted_code = \"X = chicago.dropna().drop(columns=[\\\"Annual Salary\\\"])\\ny = chicago.dropna()[\\\"Annual Salary\\\"]\\n\\nX_train, X_test, y_train, y_test = train_test_split(\\n    X, y, test_size=0.2, random_state=42, stratify=chicago[\\\"gender_guess\\\"],\\n)\";\n",
       "                var nbb_cells = Jupyter.notebook.get_cells();\n",
       "                for (var i = 0; i < nbb_cells.length; ++i) {\n",
       "                    if (nbb_cells[i].input_prompt_number == nbb_cell_id) {\n",
       "                        if (nbb_cells[i].get_text() == nbb_unformatted_code) {\n",
       "                             nbb_cells[i].set_text(nbb_formatted_code);\n",
       "                        }\n",
       "                        break;\n",
       "                    }\n",
       "                }\n",
       "            }, 500);\n",
       "            "
      ],
      "text/plain": [
       "<IPython.core.display.Javascript object>"
      ]
     },
     "metadata": {},
     "output_type": "display_data"
    }
   ],
   "source": [
    "X = chicago.dropna().drop(columns=[\"Annual Salary\"])\n",
    "y = chicago.dropna()[\"Annual Salary\"]\n",
    "\n",
    "X_train, X_test, y_train, y_test = train_test_split(\n",
    "    X, y, test_size=0.2, random_state=42, stratify=chicago[\"gender_guess\"],\n",
    ")"
   ]
  },
  {
   "cell_type": "markdown",
   "metadata": {},
   "source": [
    "Our `X` data is all categories; let's use the `LeaveOneOutEncoder()`.  If we get poor performance we can come back and drop in a `OneHotEncoder()` with fairly little effort.\n",
    "\n",
    "* Complete the `Pipeline`\n",
    "    * Fill in the category encoder\n",
    "    * Fill in the gradient boosted regressor\n",
    "* Fit the pipeline to the training data\n",
    "* Report the scores for the training and testing data"
   ]
  },
  {
   "cell_type": "code",
   "execution_count": 31,
   "metadata": {},
   "outputs": [
    {
     "name": "stdout",
     "output_type": "stream",
     "text": [
      "train_score 0.42855354224411446\n",
      "test_score 0.4202556949747164\n"
     ]
    },
    {
     "data": {
      "application/javascript": [
       "\n",
       "            setTimeout(function() {\n",
       "                var nbb_cell_id = 31;\n",
       "                var nbb_unformatted_code = \"# fmt: off\\npipeline = Pipeline([\\n    (\\\"encode_cats\\\", LeaveOneOutEncoder()),\\n    (\\\"gbr\\\", GradientBoostingRegressor())\\n])\\n# fmt: on\\n\\npipeline.fit(X_train, y_train)\\n\\ntrain_score = pipeline.score(X_train, y_train)\\ntest_score = pipeline.score(X_test, y_test)\\n\\nprint(f\\\"train_score {train_score}\\\")\\nprint(f\\\"test_score {test_score}\\\")\";\n",
       "                var nbb_formatted_code = \"# fmt: off\\npipeline = Pipeline([\\n    (\\\"encode_cats\\\", LeaveOneOutEncoder()),\\n    (\\\"gbr\\\", GradientBoostingRegressor())\\n])\\n# fmt: on\\n\\npipeline.fit(X_train, y_train)\\n\\ntrain_score = pipeline.score(X_train, y_train)\\ntest_score = pipeline.score(X_test, y_test)\\n\\nprint(f\\\"train_score {train_score}\\\")\\nprint(f\\\"test_score {test_score}\\\")\";\n",
       "                var nbb_cells = Jupyter.notebook.get_cells();\n",
       "                for (var i = 0; i < nbb_cells.length; ++i) {\n",
       "                    if (nbb_cells[i].input_prompt_number == nbb_cell_id) {\n",
       "                        if (nbb_cells[i].get_text() == nbb_unformatted_code) {\n",
       "                             nbb_cells[i].set_text(nbb_formatted_code);\n",
       "                        }\n",
       "                        break;\n",
       "                    }\n",
       "                }\n",
       "            }, 500);\n",
       "            "
      ],
      "text/plain": [
       "<IPython.core.display.Javascript object>"
      ]
     },
     "metadata": {},
     "output_type": "display_data"
    }
   ],
   "source": [
    "# fmt: off\n",
    "pipeline = Pipeline([\n",
    "    (\"encode_cats\", LeaveOneOutEncoder()),\n",
    "    (\"gbr\", GradientBoostingRegressor())\n",
    "])\n",
    "# fmt: on\n",
    "\n",
    "pipeline.fit(X_train, y_train)\n",
    "\n",
    "train_score = pipeline.score(X_train, y_train)\n",
    "test_score = pipeline.score(X_test, y_test)\n",
    "\n",
    "print(f\"train_score {train_score}\")\n",
    "print(f\"test_score {test_score}\")"
   ]
  },
  {
   "cell_type": "code",
   "execution_count": 32,
   "metadata": {},
   "outputs": [
    {
     "data": {
      "text/plain": [
       "11277.96647035942"
      ]
     },
     "execution_count": 32,
     "metadata": {},
     "output_type": "execute_result"
    },
    {
     "data": {
      "application/javascript": [
       "\n",
       "            setTimeout(function() {\n",
       "                var nbb_cell_id = 32;\n",
       "                var nbb_unformatted_code = \"from sklearn.metrics import mean_absolute_error\\n\\ny_pred = pipeline.predict(X_test)\\n\\nmean_absolute_error(y_test, y_pred)\";\n",
       "                var nbb_formatted_code = \"from sklearn.metrics import mean_absolute_error\\n\\ny_pred = pipeline.predict(X_test)\\n\\nmean_absolute_error(y_test, y_pred)\";\n",
       "                var nbb_cells = Jupyter.notebook.get_cells();\n",
       "                for (var i = 0; i < nbb_cells.length; ++i) {\n",
       "                    if (nbb_cells[i].input_prompt_number == nbb_cell_id) {\n",
       "                        if (nbb_cells[i].get_text() == nbb_unformatted_code) {\n",
       "                             nbb_cells[i].set_text(nbb_formatted_code);\n",
       "                        }\n",
       "                        break;\n",
       "                    }\n",
       "                }\n",
       "            }, 500);\n",
       "            "
      ],
      "text/plain": [
       "<IPython.core.display.Javascript object>"
      ]
     },
     "metadata": {},
     "output_type": "display_data"
    }
   ],
   "source": [
    "from sklearn.metrics import mean_absolute_error\n",
    "\n",
    "\n",
    "y_pred = pipeline.predict(X_test)\n",
    "mean_absolute_error(y_test, y_pred)"
   ]
  },
  {
   "cell_type": "markdown",
   "metadata": {},
   "source": [
    "A pretty smart guy said this is his parameter grid for this model type. (the names don't line up with sklearn's names).\n",
    "\n",
    "<img src='https://i.stack.imgur.com/9GgQK.jpg' width='70%'>\n",
    "\n",
    "* Grid search some hyperparams to increase performance\n",
    "* Print out the best parameters from the CV"
   ]
  },
  {
   "cell_type": "code",
   "execution_count": 33,
   "metadata": {},
   "outputs": [
    {
     "name": "stdout",
     "output_type": "stream",
     "text": [
      "Fitting 5 folds for each of 27 candidates, totalling 135 fits\n"
     ]
    },
    {
     "name": "stderr",
     "output_type": "stream",
     "text": [
      "[Parallel(n_jobs=1)]: Using backend SequentialBackend with 1 concurrent workers.\n",
      "[Parallel(n_jobs=1)]: Done 135 out of 135 | elapsed:  1.9min finished\n"
     ]
    },
    {
     "data": {
      "text/plain": [
       "{'gbr__max_depth': 5, 'gbr__max_features': 1.0, 'gbr__subsample': 0.5}"
      ]
     },
     "execution_count": 33,
     "metadata": {},
     "output_type": "execute_result"
    },
    {
     "data": {
      "application/javascript": [
       "\n",
       "            setTimeout(function() {\n",
       "                var nbb_cell_id = 33;\n",
       "                var nbb_unformatted_code = \"# Adjusted max_features/max_depth to have smaller grid\\ngrid = {\\n    \\\"gbr__subsample\\\": [0.5, 0.75, 1.0],\\n    \\\"gbr__max_features\\\": [0.5, 0.75, 1.0],\\n    \\\"gbr__max_depth\\\": [5, 7, 9],\\n}\\n\\nn_trees = 100\\nlearning_rate = 2 / n_trees\\n\\n# fmt: off\\npipeline = Pipeline([\\n    (\\\"encode_cats\\\", LeaveOneOutEncoder()),\\n    (\\\"gbr\\\", GradientBoostingRegressor(n_estimators=n_trees, \\n                                      learning_rate=learning_rate))\\n])\\n# fmt: on\\n\\npipeline_cv = GridSearchCV(pipeline, grid, verbose=1)\\npipeline_cv.fit(X_train, y_train)\\n\\npipeline_cv.best_params_\";\n",
       "                var nbb_formatted_code = \"# Adjusted max_features/max_depth to have smaller grid\\ngrid = {\\n    \\\"gbr__subsample\\\": [0.5, 0.75, 1.0],\\n    \\\"gbr__max_features\\\": [0.5, 0.75, 1.0],\\n    \\\"gbr__max_depth\\\": [5, 7, 9],\\n}\\n\\nn_trees = 100\\nlearning_rate = 2 / n_trees\\n\\n# fmt: off\\npipeline = Pipeline([\\n    (\\\"encode_cats\\\", LeaveOneOutEncoder()),\\n    (\\\"gbr\\\", GradientBoostingRegressor(n_estimators=n_trees, \\n                                      learning_rate=learning_rate))\\n])\\n# fmt: on\\n\\npipeline_cv = GridSearchCV(pipeline, grid, verbose=1)\\npipeline_cv.fit(X_train, y_train)\\n\\npipeline_cv.best_params_\";\n",
       "                var nbb_cells = Jupyter.notebook.get_cells();\n",
       "                for (var i = 0; i < nbb_cells.length; ++i) {\n",
       "                    if (nbb_cells[i].input_prompt_number == nbb_cell_id) {\n",
       "                        if (nbb_cells[i].get_text() == nbb_unformatted_code) {\n",
       "                             nbb_cells[i].set_text(nbb_formatted_code);\n",
       "                        }\n",
       "                        break;\n",
       "                    }\n",
       "                }\n",
       "            }, 500);\n",
       "            "
      ],
      "text/plain": [
       "<IPython.core.display.Javascript object>"
      ]
     },
     "metadata": {},
     "output_type": "display_data"
    }
   ],
   "source": [
    "# Adjusted max_features/max_depth to have smaller grid\n",
    "grid = {\n",
    "    \"gbr__subsample\": [0.5, 0.75, 1.0],\n",
    "    \"gbr__max_features\": [0.5, 0.75, 1.0],\n",
    "    \"gbr__max_depth\": [5, 7, 9],\n",
    "}\n",
    "\n",
    "n_trees = 100\n",
    "learning_rate = 2 / n_trees\n",
    "\n",
    "# fmt: off\n",
    "pipeline = Pipeline([\n",
    "    (\"encode_cats\", LeaveOneOutEncoder()),\n",
    "    (\"gbr\", GradientBoostingRegressor(n_estimators=n_trees, \n",
    "                                      learning_rate=learning_rate))\n",
    "])\n",
    "# fmt: on\n",
    "\n",
    "pipeline_cv = GridSearchCV(pipeline, grid, verbose=1)\n",
    "pipeline_cv.fit(X_train, y_train)\n",
    "\n",
    "pipeline_cv.best_params_"
   ]
  },
  {
   "cell_type": "markdown",
   "metadata": {},
   "source": [
    "Print out the train and test scores"
   ]
  },
  {
   "cell_type": "code",
   "execution_count": 34,
   "metadata": {},
   "outputs": [
    {
     "name": "stdout",
     "output_type": "stream",
     "text": [
      "train_score 0.4327432829206985\n",
      "test_score 0.4220408038158011\n"
     ]
    },
    {
     "data": {
      "application/javascript": [
       "\n",
       "            setTimeout(function() {\n",
       "                var nbb_cell_id = 34;\n",
       "                var nbb_unformatted_code = \"train_score = pipeline_cv.score(X_train, y_train)\\ntest_score = pipeline_cv.score(X_test, y_test)\\n\\nprint(f\\\"train_score {train_score}\\\")\\nprint(f\\\"test_score {test_score}\\\")\";\n",
       "                var nbb_formatted_code = \"train_score = pipeline_cv.score(X_train, y_train)\\ntest_score = pipeline_cv.score(X_test, y_test)\\n\\nprint(f\\\"train_score {train_score}\\\")\\nprint(f\\\"test_score {test_score}\\\")\";\n",
       "                var nbb_cells = Jupyter.notebook.get_cells();\n",
       "                for (var i = 0; i < nbb_cells.length; ++i) {\n",
       "                    if (nbb_cells[i].input_prompt_number == nbb_cell_id) {\n",
       "                        if (nbb_cells[i].get_text() == nbb_unformatted_code) {\n",
       "                             nbb_cells[i].set_text(nbb_formatted_code);\n",
       "                        }\n",
       "                        break;\n",
       "                    }\n",
       "                }\n",
       "            }, 500);\n",
       "            "
      ],
      "text/plain": [
       "<IPython.core.display.Javascript object>"
      ]
     },
     "metadata": {},
     "output_type": "display_data"
    }
   ],
   "source": [
    "train_score = pipeline_cv.score(X_train, y_train)\n",
    "test_score = pipeline_cv.score(X_test, y_test)\n",
    "\n",
    "print(f\"train_score {train_score}\")\n",
    "print(f\"test_score {test_score}\")"
   ]
  },
  {
   "cell_type": "markdown",
   "metadata": {},
   "source": [
    "Extract the `.feature_importances_` from the gbtree regressor in your pipeline.  What was most important?"
   ]
  },
  {
   "cell_type": "code",
   "execution_count": 36,
   "metadata": {},
   "outputs": [
    {
     "data": {
      "text/html": [
       "<div>\n",
       "<style scoped>\n",
       "    .dataframe tbody tr th:only-of-type {\n",
       "        vertical-align: middle;\n",
       "    }\n",
       "\n",
       "    .dataframe tbody tr th {\n",
       "        vertical-align: top;\n",
       "    }\n",
       "\n",
       "    .dataframe thead th {\n",
       "        text-align: right;\n",
       "    }\n",
       "</style>\n",
       "<table border=\"1\" class=\"dataframe\">\n",
       "  <thead>\n",
       "    <tr style=\"text-align: right;\">\n",
       "      <th></th>\n",
       "      <th>feat</th>\n",
       "      <th>importance</th>\n",
       "    </tr>\n",
       "  </thead>\n",
       "  <tbody>\n",
       "    <tr>\n",
       "      <th>0</th>\n",
       "      <td>Job Titles</td>\n",
       "      <td>0.769767</td>\n",
       "    </tr>\n",
       "    <tr>\n",
       "      <th>1</th>\n",
       "      <td>Department</td>\n",
       "      <td>0.055760</td>\n",
       "    </tr>\n",
       "    <tr>\n",
       "      <th>2</th>\n",
       "      <td>gender_guess</td>\n",
       "      <td>0.174473</td>\n",
       "    </tr>\n",
       "  </tbody>\n",
       "</table>\n",
       "</div>"
      ],
      "text/plain": [
       "           feat  importance\n",
       "0    Job Titles    0.769767\n",
       "1    Department    0.055760\n",
       "2  gender_guess    0.174473"
      ]
     },
     "execution_count": 36,
     "metadata": {},
     "output_type": "execute_result"
    },
    {
     "data": {
      "application/javascript": [
       "\n",
       "            setTimeout(function() {\n",
       "                var nbb_cell_id = 36;\n",
       "                var nbb_unformatted_code = \"importance_df = pd.DataFrame()\\n\\nimportance_df['feat'] = X_train.columns\\nimportance_df['importance'] = pipeline_cv.best_estimator_[\\\"gbr\\\"].feature_importances_\\nimportance_df\";\n",
       "                var nbb_formatted_code = \"importance_df = pd.DataFrame()\\n\\nimportance_df[\\\"feat\\\"] = X_train.columns\\nimportance_df[\\\"importance\\\"] = pipeline_cv.best_estimator_[\\\"gbr\\\"].feature_importances_\\nimportance_df\";\n",
       "                var nbb_cells = Jupyter.notebook.get_cells();\n",
       "                for (var i = 0; i < nbb_cells.length; ++i) {\n",
       "                    if (nbb_cells[i].input_prompt_number == nbb_cell_id) {\n",
       "                        if (nbb_cells[i].get_text() == nbb_unformatted_code) {\n",
       "                             nbb_cells[i].set_text(nbb_formatted_code);\n",
       "                        }\n",
       "                        break;\n",
       "                    }\n",
       "                }\n",
       "            }, 500);\n",
       "            "
      ],
      "text/plain": [
       "<IPython.core.display.Javascript object>"
      ]
     },
     "metadata": {},
     "output_type": "display_data"
    }
   ],
   "source": [
    "importance_df = pd.DataFrame()\n",
    "\n",
    "importance_df[\"feat\"] = X_train.columns\n",
    "importance_df[\"importance\"] = pipeline_cv.best_estimator_[\"gbr\"].feature_importances_\n",
    "importance_df"
   ]
  }
 ],
 "metadata": {
  "kernelspec": {
   "display_name": "Python 3",
   "language": "python",
   "name": "python3"
  },
  "language_info": {
   "codemirror_mode": {
    "name": "ipython",
    "version": 3
   },
   "file_extension": ".py",
   "mimetype": "text/x-python",
   "name": "python",
   "nbconvert_exporter": "python",
   "pygments_lexer": "ipython3",
   "version": "3.7.7"
  }
 },
 "nbformat": 4,
 "nbformat_minor": 2
}
