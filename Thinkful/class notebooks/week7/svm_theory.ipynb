{
 "cells": [
  {
   "cell_type": "code",
   "execution_count": 1,
   "metadata": {},
   "outputs": [
    {
     "data": {
      "application/javascript": [
       "\n",
       "            setTimeout(function() {\n",
       "                var nbb_cell_id = 1;\n",
       "                var nbb_unformatted_code = \"%load_ext nb_black\";\n",
       "                var nbb_formatted_code = \"%load_ext nb_black\";\n",
       "                var nbb_cells = Jupyter.notebook.get_cells();\n",
       "                for (var i = 0; i < nbb_cells.length; ++i) {\n",
       "                    if (nbb_cells[i].input_prompt_number == nbb_cell_id) {\n",
       "                        if (nbb_cells[i].get_text() == nbb_unformatted_code) {\n",
       "                             nbb_cells[i].set_text(nbb_formatted_code);\n",
       "                        }\n",
       "                        break;\n",
       "                    }\n",
       "                }\n",
       "            }, 500);\n",
       "            "
      ],
      "text/plain": [
       "<IPython.core.display.Javascript object>"
      ]
     },
     "metadata": {},
     "output_type": "display_data"
    }
   ],
   "source": [
    "%load_ext nb_black"
   ]
  },
  {
   "cell_type": "code",
   "execution_count": 7,
   "metadata": {},
   "outputs": [
    {
     "data": {
      "application/javascript": [
       "\n",
       "            setTimeout(function() {\n",
       "                var nbb_cell_id = 7;\n",
       "                var nbb_unformatted_code = \"import pandas as pd\\nimport numpy as np\\n\\nfrom sklearn.model_selection import train_test_split, GridSearchCV\\nfrom sklearn.preprocessing import StandardScaler\\nfrom sklearn.svm import SVC\\n\\n# Use when preprocessing is different for different subsets of columns\\n# If applying same thing to every feature (ie all numeric and want to scale)\\n# ColumnTransformer is overkill, but could be used to future-proof.\\n# from sklearn.compose import ColumnTransformer\\nfrom sklearn.pipeline import Pipeline\\n\\nfrom mlxtend.plotting import plot_decision_regions\\nimport seaborn as sns\\nimport matplotlib.pyplot as plt\\n\\n%matplotlib inline\\n\\n# fmt: off\\n\\n# Some fake data\\ntest_grade = [90, 100, 85, 93, 88, 100, \\n              97, 92, 89, 84, 55, 65, 75, \\n              58, 69, 71, 72, 63, 70, 59]\\n\\nproject_grade = [100, 85, 98, 88, 87, 99, \\n                 99, 86, 89, 100, 67, 71,\\n                 74, 73, 55, 59, 56, 72, 67, 72]\\n\\npass_fail = [\\\"pass\\\", \\\"pass\\\", \\\"pass\\\", \\\"pass\\\", \\\"pass\\\",\\n             \\\"pass\\\", \\\"pass\\\", \\\"pass\\\", \\\"pass\\\", \\\"pass\\\",\\n             \\\"fail\\\", \\\"fail\\\", \\\"fail\\\", \\\"fail\\\", \\\"fail\\\",\\n             \\\"fail\\\", \\\"fail\\\", \\\"fail\\\", \\\"fail\\\", \\\"fail\\\"]\\n# fmt: on\";\n",
       "                var nbb_formatted_code = \"import pandas as pd\\nimport numpy as np\\n\\nfrom sklearn.model_selection import train_test_split, GridSearchCV\\nfrom sklearn.preprocessing import StandardScaler\\nfrom sklearn.svm import SVC\\n\\n# Use when preprocessing is different for different subsets of columns\\n# If applying same thing to every feature (ie all numeric and want to scale)\\n# ColumnTransformer is overkill, but could be used to future-proof.\\n# from sklearn.compose import ColumnTransformer\\nfrom sklearn.pipeline import Pipeline\\n\\nfrom mlxtend.plotting import plot_decision_regions\\nimport seaborn as sns\\nimport matplotlib.pyplot as plt\\n\\n%matplotlib inline\\n\\n# fmt: off\\n\\n# Some fake data\\ntest_grade = [90, 100, 85, 93, 88, 100, \\n              97, 92, 89, 84, 55, 65, 75, \\n              58, 69, 71, 72, 63, 70, 59]\\n\\nproject_grade = [100, 85, 98, 88, 87, 99, \\n                 99, 86, 89, 100, 67, 71,\\n                 74, 73, 55, 59, 56, 72, 67, 72]\\n\\npass_fail = [\\\"pass\\\", \\\"pass\\\", \\\"pass\\\", \\\"pass\\\", \\\"pass\\\",\\n             \\\"pass\\\", \\\"pass\\\", \\\"pass\\\", \\\"pass\\\", \\\"pass\\\",\\n             \\\"fail\\\", \\\"fail\\\", \\\"fail\\\", \\\"fail\\\", \\\"fail\\\",\\n             \\\"fail\\\", \\\"fail\\\", \\\"fail\\\", \\\"fail\\\", \\\"fail\\\"]\\n# fmt: on\";\n",
       "                var nbb_cells = Jupyter.notebook.get_cells();\n",
       "                for (var i = 0; i < nbb_cells.length; ++i) {\n",
       "                    if (nbb_cells[i].input_prompt_number == nbb_cell_id) {\n",
       "                        if (nbb_cells[i].get_text() == nbb_unformatted_code) {\n",
       "                             nbb_cells[i].set_text(nbb_formatted_code);\n",
       "                        }\n",
       "                        break;\n",
       "                    }\n",
       "                }\n",
       "            }, 500);\n",
       "            "
      ],
      "text/plain": [
       "<IPython.core.display.Javascript object>"
      ]
     },
     "metadata": {},
     "output_type": "display_data"
    }
   ],
   "source": [
    "import pandas as pd\n",
    "import numpy as np\n",
    "\n",
    "from sklearn.model_selection import train_test_split, GridSearchCV\n",
    "from sklearn.preprocessing import StandardScaler\n",
    "from sklearn.svm import SVC\n",
    "\n",
    "# Use when preprocessing is different for different subsets of columns\n",
    "# If applying same thing to every feature (ie all numeric and want to scale)\n",
    "# ColumnTransformer is overkill, but could be used to future-proof.\n",
    "# from sklearn.compose import ColumnTransformer\n",
    "from sklearn.pipeline import Pipeline\n",
    "\n",
    "from mlxtend.plotting import plot_decision_regions\n",
    "import seaborn as sns\n",
    "import matplotlib.pyplot as plt\n",
    "\n",
    "%matplotlib inline\n",
    "\n",
    "# fmt: off\n",
    "\n",
    "# Some fake data\n",
    "test_grade = [90, 100, 85, 93, 88, 100, \n",
    "              97, 92, 89, 84, 55, 65, 75, \n",
    "              58, 69, 71, 72, 63, 70, 59]\n",
    "\n",
    "project_grade = [100, 85, 98, 88, 87, 99, \n",
    "                 99, 86, 89, 100, 67, 71,\n",
    "                 74, 73, 55, 59, 56, 72, 67, 72]\n",
    "\n",
    "pass_fail = [\"pass\", \"pass\", \"pass\", \"pass\", \"pass\",\n",
    "             \"pass\", \"pass\", \"pass\", \"pass\", \"pass\",\n",
    "             \"fail\", \"fail\", \"fail\", \"fail\", \"fail\",\n",
    "             \"fail\", \"fail\", \"fail\", \"fail\", \"fail\"]\n",
    "# fmt: on"
   ]
  },
  {
   "cell_type": "markdown",
   "metadata": {},
   "source": [
    "Create a dataframe using the 3 lists above as the columns."
   ]
  },
  {
   "cell_type": "code",
   "execution_count": 3,
   "metadata": {},
   "outputs": [
    {
     "data": {
      "text/html": [
       "<div>\n",
       "<style scoped>\n",
       "    .dataframe tbody tr th:only-of-type {\n",
       "        vertical-align: middle;\n",
       "    }\n",
       "\n",
       "    .dataframe tbody tr th {\n",
       "        vertical-align: top;\n",
       "    }\n",
       "\n",
       "    .dataframe thead th {\n",
       "        text-align: right;\n",
       "    }\n",
       "</style>\n",
       "<table border=\"1\" class=\"dataframe\">\n",
       "  <thead>\n",
       "    <tr style=\"text-align: right;\">\n",
       "      <th></th>\n",
       "      <th>test_grades</th>\n",
       "      <th>project_grades</th>\n",
       "      <th>pass</th>\n",
       "    </tr>\n",
       "  </thead>\n",
       "  <tbody>\n",
       "    <tr>\n",
       "      <th>0</th>\n",
       "      <td>90</td>\n",
       "      <td>100</td>\n",
       "      <td>1</td>\n",
       "    </tr>\n",
       "    <tr>\n",
       "      <th>1</th>\n",
       "      <td>100</td>\n",
       "      <td>85</td>\n",
       "      <td>1</td>\n",
       "    </tr>\n",
       "    <tr>\n",
       "      <th>2</th>\n",
       "      <td>85</td>\n",
       "      <td>98</td>\n",
       "      <td>1</td>\n",
       "    </tr>\n",
       "    <tr>\n",
       "      <th>3</th>\n",
       "      <td>93</td>\n",
       "      <td>88</td>\n",
       "      <td>1</td>\n",
       "    </tr>\n",
       "    <tr>\n",
       "      <th>4</th>\n",
       "      <td>88</td>\n",
       "      <td>87</td>\n",
       "      <td>1</td>\n",
       "    </tr>\n",
       "  </tbody>\n",
       "</table>\n",
       "</div>"
      ],
      "text/plain": [
       "   test_grades  project_grades  pass\n",
       "0           90             100     1\n",
       "1          100              85     1\n",
       "2           85              98     1\n",
       "3           93              88     1\n",
       "4           88              87     1"
      ]
     },
     "execution_count": 3,
     "metadata": {},
     "output_type": "execute_result"
    },
    {
     "data": {
      "application/javascript": [
       "\n",
       "            setTimeout(function() {\n",
       "                var nbb_cell_id = 3;\n",
       "                var nbb_unformatted_code = \"df = pd.DataFrame(\\n    {\\\"test_grades\\\": test_grade, \\\"project_grades\\\": project_grade, \\\"pass_fail\\\": pass_fail}\\n)\\n\\ndf[\\\"pass\\\"] = (df[\\\"pass_fail\\\"] == \\\"pass\\\").astype(int)\\ndf = df.drop(columns=[\\\"pass_fail\\\"])\\ndf.head()\";\n",
       "                var nbb_formatted_code = \"df = pd.DataFrame(\\n    {\\\"test_grades\\\": test_grade, \\\"project_grades\\\": project_grade, \\\"pass_fail\\\": pass_fail}\\n)\\n\\ndf[\\\"pass\\\"] = (df[\\\"pass_fail\\\"] == \\\"pass\\\").astype(int)\\ndf = df.drop(columns=[\\\"pass_fail\\\"])\\ndf.head()\";\n",
       "                var nbb_cells = Jupyter.notebook.get_cells();\n",
       "                for (var i = 0; i < nbb_cells.length; ++i) {\n",
       "                    if (nbb_cells[i].input_prompt_number == nbb_cell_id) {\n",
       "                        if (nbb_cells[i].get_text() == nbb_unformatted_code) {\n",
       "                             nbb_cells[i].set_text(nbb_formatted_code);\n",
       "                        }\n",
       "                        break;\n",
       "                    }\n",
       "                }\n",
       "            }, 500);\n",
       "            "
      ],
      "text/plain": [
       "<IPython.core.display.Javascript object>"
      ]
     },
     "metadata": {},
     "output_type": "display_data"
    }
   ],
   "source": [
    "df = pd.DataFrame(\n",
    "    {\"test_grades\": test_grade, \"project_grades\": project_grade, \"pass_fail\": pass_fail}\n",
    ")\n",
    "\n",
    "df[\"pass\"] = (df[\"pass_fail\"] == \"pass\").astype(int)\n",
    "df = df.drop(columns=[\"pass_fail\"])\n",
    "df.head()"
   ]
  },
  {
   "cell_type": "markdown",
   "metadata": {},
   "source": [
    "Make a scatter plot of test scores by project scores and color by whether the record passed or failed."
   ]
  },
  {
   "cell_type": "code",
   "execution_count": 4,
   "metadata": {},
   "outputs": [
    {
     "data": {
      "image/png": "[encoded data removed]",
      "text/plain": [
       "<Figure size 432x288 with 1 Axes>"
      ]
     },
     "metadata": {
      "needs_background": "light"
     },
     "output_type": "display_data"
    },
    {
     "data": {
      "application/javascript": [
       "\n",
       "            setTimeout(function() {\n",
       "                var nbb_cell_id = 4;\n",
       "                var nbb_unformatted_code = \"sns.scatterplot(\\\"test_grades\\\", \\\"project_grades\\\", hue=\\\"pass\\\", data=df)\\nplt.show()\";\n",
       "                var nbb_formatted_code = \"sns.scatterplot(\\\"test_grades\\\", \\\"project_grades\\\", hue=\\\"pass\\\", data=df)\\nplt.show()\";\n",
       "                var nbb_cells = Jupyter.notebook.get_cells();\n",
       "                for (var i = 0; i < nbb_cells.length; ++i) {\n",
       "                    if (nbb_cells[i].input_prompt_number == nbb_cell_id) {\n",
       "                        if (nbb_cells[i].get_text() == nbb_unformatted_code) {\n",
       "                             nbb_cells[i].set_text(nbb_formatted_code);\n",
       "                        }\n",
       "                        break;\n",
       "                    }\n",
       "                }\n",
       "            }, 500);\n",
       "            "
      ],
      "text/plain": [
       "<IPython.core.display.Javascript object>"
      ]
     },
     "metadata": {},
     "output_type": "display_data"
    }
   ],
   "source": [
    "sns.scatterplot(\"test_grades\", \"project_grades\", hue=\"pass\", data=df)\n",
    "plt.show()"
   ]
  },
  {
   "cell_type": "markdown",
   "metadata": {},
   "source": [
    "Look at the documenation for `SVC` which has already been loaded using `from sklearn.svm import SVC`."
   ]
  },
  {
   "cell_type": "code",
   "execution_count": 5,
   "metadata": {},
   "outputs": [
    {
     "data": {
      "application/javascript": [
       "\n",
       "            setTimeout(function() {\n",
       "                var nbb_cell_id = 5;\n",
       "                var nbb_unformatted_code = \"# SVC?\";\n",
       "                var nbb_formatted_code = \"# SVC?\";\n",
       "                var nbb_cells = Jupyter.notebook.get_cells();\n",
       "                for (var i = 0; i < nbb_cells.length; ++i) {\n",
       "                    if (nbb_cells[i].input_prompt_number == nbb_cell_id) {\n",
       "                        if (nbb_cells[i].get_text() == nbb_unformatted_code) {\n",
       "                             nbb_cells[i].set_text(nbb_formatted_code);\n",
       "                        }\n",
       "                        break;\n",
       "                    }\n",
       "                }\n",
       "            }, 500);\n",
       "            "
      ],
      "text/plain": [
       "<IPython.core.display.Javascript object>"
      ]
     },
     "metadata": {},
     "output_type": "display_data"
    }
   ],
   "source": [
    "# SVC?"
   ]
  },
  {
   "cell_type": "markdown",
   "metadata": {},
   "source": [
    "Use the documentation to fit an `SVC` model with a kernel type of `'linear'`.  No need to do a train/test split.  The target variable should be the pass/fail column."
   ]
  },
  {
   "cell_type": "code",
   "execution_count": 6,
   "metadata": {},
   "outputs": [
    {
     "data": {
      "application/javascript": [
       "\n",
       "            setTimeout(function() {\n",
       "                var nbb_cell_id = 6;\n",
       "                var nbb_unformatted_code = \"X = df.drop(columns=[\\\"pass\\\"])\\ny = df[\\\"pass\\\"]\\n\\nX_train, X_test, y_train, y_test = train_test_split(\\n    X, y, test_size=0.2, random_state=42, stratify=y\\n)\";\n",
       "                var nbb_formatted_code = \"X = df.drop(columns=[\\\"pass\\\"])\\ny = df[\\\"pass\\\"]\\n\\nX_train, X_test, y_train, y_test = train_test_split(\\n    X, y, test_size=0.2, random_state=42, stratify=y\\n)\";\n",
       "                var nbb_cells = Jupyter.notebook.get_cells();\n",
       "                for (var i = 0; i < nbb_cells.length; ++i) {\n",
       "                    if (nbb_cells[i].input_prompt_number == nbb_cell_id) {\n",
       "                        if (nbb_cells[i].get_text() == nbb_unformatted_code) {\n",
       "                             nbb_cells[i].set_text(nbb_formatted_code);\n",
       "                        }\n",
       "                        break;\n",
       "                    }\n",
       "                }\n",
       "            }, 500);\n",
       "            "
      ],
      "text/plain": [
       "<IPython.core.display.Javascript object>"
      ]
     },
     "metadata": {},
     "output_type": "display_data"
    }
   ],
   "source": [
    "X = df.drop(columns=[\"pass\"])\n",
    "y = df[\"pass\"]\n",
    "\n",
    "X_train, X_test, y_train, y_test = train_test_split(\n",
    "    X, y, test_size=0.2, random_state=42, stratify=y\n",
    ")"
   ]
  },
  {
   "cell_type": "code",
   "execution_count": 26,
   "metadata": {},
   "outputs": [
    {
     "name": "stdout",
     "output_type": "stream",
     "text": [
      "Fitting 5 folds for each of 4 candidates, totalling 20 fits\n"
     ]
    },
    {
     "name": "stderr",
     "output_type": "stream",
     "text": [
      "[Parallel(n_jobs=1)]: Using backend SequentialBackend with 1 concurrent workers.\n",
      "[Parallel(n_jobs=1)]: Done  20 out of  20 | elapsed:    0.1s finished\n"
     ]
    },
    {
     "data": {
      "text/plain": [
       "{'svm__C': 1.0}"
      ]
     },
     "execution_count": 26,
     "metadata": {},
     "output_type": "execute_result"
    },
    {
     "data": {
      "application/javascript": [
       "\n",
       "            setTimeout(function() {\n",
       "                var nbb_cell_id = 26;\n",
       "                var nbb_unformatted_code = \"# fmt: off\\npipeline = Pipeline([\\n    (\\\"svm\\\", SVC(kernel=\\\"linear\\\"))\\n])\\n# fmt:on\\n\\ngrid = {\\\"svm__C\\\": [1.0, 5.0, 10.0, 50.0]}\\n\\npipeline_cv = GridSearchCV(pipeline, grid, verbose=1)\\n\\npipeline_cv.fit(X_train, y_train)\\npipeline_cv.best_params_\";\n",
       "                var nbb_formatted_code = \"# fmt: off\\npipeline = Pipeline([\\n    (\\\"svm\\\", SVC(kernel=\\\"linear\\\"))\\n])\\n# fmt:on\\n\\ngrid = {\\\"svm__C\\\": [1.0, 5.0, 10.0, 50.0]}\\n\\npipeline_cv = GridSearchCV(pipeline, grid, verbose=1)\\n\\npipeline_cv.fit(X_train, y_train)\\npipeline_cv.best_params_\";\n",
       "                var nbb_cells = Jupyter.notebook.get_cells();\n",
       "                for (var i = 0; i < nbb_cells.length; ++i) {\n",
       "                    if (nbb_cells[i].input_prompt_number == nbb_cell_id) {\n",
       "                        if (nbb_cells[i].get_text() == nbb_unformatted_code) {\n",
       "                             nbb_cells[i].set_text(nbb_formatted_code);\n",
       "                        }\n",
       "                        break;\n",
       "                    }\n",
       "                }\n",
       "            }, 500);\n",
       "            "
      ],
      "text/plain": [
       "<IPython.core.display.Javascript object>"
      ]
     },
     "metadata": {},
     "output_type": "display_data"
    }
   ],
   "source": [
    "# fmt: off\n",
    "pipeline = Pipeline([\n",
    "    (\"svm\", SVC(kernel=\"linear\"))\n",
    "])\n",
    "# fmt:on\n",
    "\n",
    "grid = {\"svm__C\": [1.0, 5.0, 10.0, 50.0]}\n",
    "\n",
    "pipeline_cv = GridSearchCV(pipeline, grid, verbose=1)\n",
    "\n",
    "pipeline_cv.fit(X_train, y_train)\n",
    "pipeline_cv.best_params_"
   ]
  },
  {
   "cell_type": "code",
   "execution_count": 27,
   "metadata": {},
   "outputs": [
    {
     "data": {
      "text/plain": [
       "array([1., 1., 1., 1.])"
      ]
     },
     "execution_count": 27,
     "metadata": {},
     "output_type": "execute_result"
    },
    {
     "data": {
      "application/javascript": [
       "\n",
       "            setTimeout(function() {\n",
       "                var nbb_cell_id = 27;\n",
       "                var nbb_unformatted_code = \"pipeline_cv.cv_results_[\\\"mean_test_score\\\"]\";\n",
       "                var nbb_formatted_code = \"pipeline_cv.cv_results_[\\\"mean_test_score\\\"]\";\n",
       "                var nbb_cells = Jupyter.notebook.get_cells();\n",
       "                for (var i = 0; i < nbb_cells.length; ++i) {\n",
       "                    if (nbb_cells[i].input_prompt_number == nbb_cell_id) {\n",
       "                        if (nbb_cells[i].get_text() == nbb_unformatted_code) {\n",
       "                             nbb_cells[i].set_text(nbb_formatted_code);\n",
       "                        }\n",
       "                        break;\n",
       "                    }\n",
       "                }\n",
       "            }, 500);\n",
       "            "
      ],
      "text/plain": [
       "<IPython.core.display.Javascript object>"
      ]
     },
     "metadata": {},
     "output_type": "display_data"
    }
   ],
   "source": [
    "pipeline_cv.cv_results_[\"mean_test_score\"]"
   ]
  },
  {
   "cell_type": "markdown",
   "metadata": {},
   "source": [
    "Use the documentation of `plot_decision_regions` to plot the decision boundary of the `SVC` classifier.  The `plot_decision_regions` function was imported with the line: `from mlxtend.plotting import plot_decision_regions`."
   ]
  },
  {
   "cell_type": "code",
   "execution_count": 28,
   "metadata": {},
   "outputs": [
    {
     "data": {
      "image/png": "[encoded data removed]",
      "text/plain": [
       "<Figure size 432x288 with 1 Axes>"
      ]
     },
     "metadata": {
      "needs_background": "light"
     },
     "output_type": "display_data"
    },
    {
     "data": {
      "application/javascript": [
       "\n",
       "            setTimeout(function() {\n",
       "                var nbb_cell_id = 28;\n",
       "                var nbb_unformatted_code = \"plot_decision_regions(np.array(X), np.array(y), pipeline_cv)\\n\\n# These axes labels might be different depending\\n# on how you built the dataframe, and the order of columns in it\\nplt.xlabel(\\\"Test Score\\\")\\nplt.ylabel(\\\"Project Score\\\")\\nplt.legend(loc=\\\"upper left\\\")\\nplt.show()\";\n",
       "                var nbb_formatted_code = \"plot_decision_regions(np.array(X), np.array(y), pipeline_cv)\\n\\n# These axes labels might be different depending\\n# on how you built the dataframe, and the order of columns in it\\nplt.xlabel(\\\"Test Score\\\")\\nplt.ylabel(\\\"Project Score\\\")\\nplt.legend(loc=\\\"upper left\\\")\\nplt.show()\";\n",
       "                var nbb_cells = Jupyter.notebook.get_cells();\n",
       "                for (var i = 0; i < nbb_cells.length; ++i) {\n",
       "                    if (nbb_cells[i].input_prompt_number == nbb_cell_id) {\n",
       "                        if (nbb_cells[i].get_text() == nbb_unformatted_code) {\n",
       "                             nbb_cells[i].set_text(nbb_formatted_code);\n",
       "                        }\n",
       "                        break;\n",
       "                    }\n",
       "                }\n",
       "            }, 500);\n",
       "            "
      ],
      "text/plain": [
       "<IPython.core.display.Javascript object>"
      ]
     },
     "metadata": {},
     "output_type": "display_data"
    }
   ],
   "source": [
    "plot_decision_regions(np.array(X), np.array(y), pipeline_cv)\n",
    "\n",
    "# These axes labels might be different depending\n",
    "# on how you built the dataframe, and the order of columns in it\n",
    "plt.xlabel(\"Test Score\")\n",
    "plt.ylabel(\"Project Score\")\n",
    "plt.legend(loc=\"upper left\")\n",
    "plt.show()"
   ]
  },
  {
   "cell_type": "markdown",
   "metadata": {},
   "source": [
    "Create a dataframe with new records to classify.\n",
    "\n",
    "* For the 1st record, use 90 as the test score and 73 as the project score.\n",
    "* For the 2nd record, use 90 as the test score and 72 as the project score.\n",
    "\n",
    "Make predictions of pass/fail for both of these records and add a column to the dataframe to hold these predictions. Call this column the same thing as the y column in your original dataframe."
   ]
  },
  {
   "cell_type": "code",
   "execution_count": 46,
   "metadata": {},
   "outputs": [
    {
     "data": {
      "text/html": [
       "<div>\n",
       "<style scoped>\n",
       "    .dataframe tbody tr th:only-of-type {\n",
       "        vertical-align: middle;\n",
       "    }\n",
       "\n",
       "    .dataframe tbody tr th {\n",
       "        vertical-align: top;\n",
       "    }\n",
       "\n",
       "    .dataframe thead th {\n",
       "        text-align: right;\n",
       "    }\n",
       "</style>\n",
       "<table border=\"1\" class=\"dataframe\">\n",
       "  <thead>\n",
       "    <tr style=\"text-align: right;\">\n",
       "      <th></th>\n",
       "      <th>test_grades</th>\n",
       "      <th>project_grades</th>\n",
       "      <th>pass</th>\n",
       "    </tr>\n",
       "  </thead>\n",
       "  <tbody>\n",
       "    <tr>\n",
       "      <th>0</th>\n",
       "      <td>90</td>\n",
       "      <td>73.0</td>\n",
       "      <td>1</td>\n",
       "    </tr>\n",
       "    <tr>\n",
       "      <th>1</th>\n",
       "      <td>90</td>\n",
       "      <td>71.5</td>\n",
       "      <td>0</td>\n",
       "    </tr>\n",
       "  </tbody>\n",
       "</table>\n",
       "</div>"
      ],
      "text/plain": [
       "   test_grades  project_grades  pass\n",
       "0           90            73.0     1\n",
       "1           90            71.5     0"
      ]
     },
     "execution_count": 46,
     "metadata": {},
     "output_type": "execute_result"
    },
    {
     "data": {
      "application/javascript": [
       "\n",
       "            setTimeout(function() {\n",
       "                var nbb_cell_id = 46;\n",
       "                var nbb_unformatted_code = \"new_records = pd.DataFrame({\\\"test_grades\\\": [90, 90], \\\"project_grades\\\": [73, 71.5]})\\nnew_records[\\\"pass\\\"] = pipeline_cv.predict(new_records)\\nnew_records\";\n",
       "                var nbb_formatted_code = \"new_records = pd.DataFrame({\\\"test_grades\\\": [90, 90], \\\"project_grades\\\": [73, 71.5]})\\nnew_records[\\\"pass\\\"] = pipeline_cv.predict(new_records)\\nnew_records\";\n",
       "                var nbb_cells = Jupyter.notebook.get_cells();\n",
       "                for (var i = 0; i < nbb_cells.length; ++i) {\n",
       "                    if (nbb_cells[i].input_prompt_number == nbb_cell_id) {\n",
       "                        if (nbb_cells[i].get_text() == nbb_unformatted_code) {\n",
       "                             nbb_cells[i].set_text(nbb_formatted_code);\n",
       "                        }\n",
       "                        break;\n",
       "                    }\n",
       "                }\n",
       "            }, 500);\n",
       "            "
      ],
      "text/plain": [
       "<IPython.core.display.Javascript object>"
      ]
     },
     "metadata": {},
     "output_type": "display_data"
    }
   ],
   "source": [
    "new_records = pd.DataFrame({\"test_grades\": [90, 90], \"project_grades\": [73, 71.5]})\n",
    "new_records[\"pass\"] = pipeline_cv.predict(new_records)\n",
    "new_records"
   ]
  },
  {
   "cell_type": "markdown",
   "metadata": {},
   "source": [
    "Combine this dataframe with the original one and replot the decision boundary with these 2 points included."
   ]
  },
  {
   "cell_type": "code",
   "execution_count": 47,
   "metadata": {},
   "outputs": [
    {
     "data": {
      "application/javascript": [
       "\n",
       "            setTimeout(function() {\n",
       "                var nbb_cell_id = 47;\n",
       "                var nbb_unformatted_code = \"new_df = df.append(new_records, sort=False)\\nnew_X = new_df[[\\\"test_grades\\\", \\\"project_grades\\\"]].values\\nnew_y = new_df[\\\"pass\\\"].values\";\n",
       "                var nbb_formatted_code = \"new_df = df.append(new_records, sort=False)\\nnew_X = new_df[[\\\"test_grades\\\", \\\"project_grades\\\"]].values\\nnew_y = new_df[\\\"pass\\\"].values\";\n",
       "                var nbb_cells = Jupyter.notebook.get_cells();\n",
       "                for (var i = 0; i < nbb_cells.length; ++i) {\n",
       "                    if (nbb_cells[i].input_prompt_number == nbb_cell_id) {\n",
       "                        if (nbb_cells[i].get_text() == nbb_unformatted_code) {\n",
       "                             nbb_cells[i].set_text(nbb_formatted_code);\n",
       "                        }\n",
       "                        break;\n",
       "                    }\n",
       "                }\n",
       "            }, 500);\n",
       "            "
      ],
      "text/plain": [
       "<IPython.core.display.Javascript object>"
      ]
     },
     "metadata": {},
     "output_type": "display_data"
    }
   ],
   "source": [
    "new_df = df.append(new_records, sort=False)\n",
    "new_X = new_df[[\"test_grades\", \"project_grades\"]].values\n",
    "new_y = new_df[\"pass\"].values"
   ]
  },
  {
   "cell_type": "markdown",
   "metadata": {
    "hideCode": true,
    "hideOutput": false
   },
   "source": [
    "Re-plot the decision boundary and include these 2 new points."
   ]
  },
  {
   "cell_type": "code",
   "execution_count": 48,
   "metadata": {},
   "outputs": [
    {
     "data": {
      "image/png": "[encoded data removed]",
      "text/plain": [
       "<Figure size 432x288 with 1 Axes>"
      ]
     },
     "metadata": {
      "needs_background": "light"
     },
     "output_type": "display_data"
    },
    {
     "data": {
      "application/javascript": [
       "\n",
       "            setTimeout(function() {\n",
       "                var nbb_cell_id = 48;\n",
       "                var nbb_unformatted_code = \"plot_decision_regions(new_X, new_y, pipeline_cv)\\n\\n# These axes labels might be different depending\\n# on how you built the dataframe, and the order of columns in it\\nplt.xlabel(\\\"Test Score\\\")\\nplt.ylabel(\\\"Project Score\\\")\\nplt.legend(loc=\\\"upper left\\\")\\nplt.show()\";\n",
       "                var nbb_formatted_code = \"plot_decision_regions(new_X, new_y, pipeline_cv)\\n\\n# These axes labels might be different depending\\n# on how you built the dataframe, and the order of columns in it\\nplt.xlabel(\\\"Test Score\\\")\\nplt.ylabel(\\\"Project Score\\\")\\nplt.legend(loc=\\\"upper left\\\")\\nplt.show()\";\n",
       "                var nbb_cells = Jupyter.notebook.get_cells();\n",
       "                for (var i = 0; i < nbb_cells.length; ++i) {\n",
       "                    if (nbb_cells[i].input_prompt_number == nbb_cell_id) {\n",
       "                        if (nbb_cells[i].get_text() == nbb_unformatted_code) {\n",
       "                             nbb_cells[i].set_text(nbb_formatted_code);\n",
       "                        }\n",
       "                        break;\n",
       "                    }\n",
       "                }\n",
       "            }, 500);\n",
       "            "
      ],
      "text/plain": [
       "<IPython.core.display.Javascript object>"
      ]
     },
     "metadata": {},
     "output_type": "display_data"
    }
   ],
   "source": [
    "plot_decision_regions(new_X, new_y, pipeline_cv)\n",
    "\n",
    "# These axes labels might be different depending\n",
    "# on how you built the dataframe, and the order of columns in it\n",
    "plt.xlabel(\"Test Score\")\n",
    "plt.ylabel(\"Project Score\")\n",
    "plt.legend(loc=\"upper left\")\n",
    "plt.show()"
   ]
  },
  {
   "cell_type": "code",
   "execution_count": 57,
   "metadata": {},
   "outputs": [
    {
     "data": {
      "text/plain": [
       "array([[0.07692308, 0.07692308]])"
      ]
     },
     "execution_count": 57,
     "metadata": {},
     "output_type": "execute_result"
    },
    {
     "data": {
      "application/javascript": [
       "\n",
       "            setTimeout(function() {\n",
       "                var nbb_cell_id = 57;\n",
       "                var nbb_unformatted_code = \"# View coefficients\\nmodel = pipeline_cv.best_estimator_\\nmodel[\\\"svm\\\"].coef_\";\n",
       "                var nbb_formatted_code = \"# View coefficients\\nmodel = pipeline_cv.best_estimator_\\nmodel[\\\"svm\\\"].coef_\";\n",
       "                var nbb_cells = Jupyter.notebook.get_cells();\n",
       "                for (var i = 0; i < nbb_cells.length; ++i) {\n",
       "                    if (nbb_cells[i].input_prompt_number == nbb_cell_id) {\n",
       "                        if (nbb_cells[i].get_text() == nbb_unformatted_code) {\n",
       "                             nbb_cells[i].set_text(nbb_formatted_code);\n",
       "                        }\n",
       "                        break;\n",
       "                    }\n",
       "                }\n",
       "            }, 500);\n",
       "            "
      ],
      "text/plain": [
       "<IPython.core.display.Javascript object>"
      ]
     },
     "metadata": {},
     "output_type": "display_data"
    }
   ],
   "source": [
    "# View coefficients\n",
    "model = pipeline_cv.best_estimator_\n",
    "model[\"svm\"].coef_"
   ]
  }
 ],
 "metadata": {
  "kernelspec": {
   "display_name": "Python 3",
   "language": "python",
   "name": "python3"
  },
  "language_info": {
   "codemirror_mode": {
    "name": "ipython",
    "version": 3
   },
   "file_extension": ".py",
   "mimetype": "text/x-python",
   "name": "python",
   "nbconvert_exporter": "python",
   "pygments_lexer": "ipython3",
   "version": "3.7.7"
  }
 },
 "nbformat": 4,
 "nbformat_minor": 2
}
