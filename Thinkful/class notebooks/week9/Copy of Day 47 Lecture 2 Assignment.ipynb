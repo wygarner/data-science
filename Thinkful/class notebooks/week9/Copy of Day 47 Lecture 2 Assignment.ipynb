{
 "cells": [
  {
   "cell_type": "markdown",
   "metadata": {
    "colab_type": "text",
    "id": "xdL0Yz0D1D_q"
   },
   "source": [
    "## Day 47 Lecture 2 Assignment\n",
    "\n",
    "In this assignment, we will perform K-Medoids clustering using responses to a survey about student life at a university."
   ]
  },
  {
   "cell_type": "code",
   "execution_count": 1,
   "metadata": {},
   "outputs": [
    {
     "data": {
      "application/javascript": [
       "\n",
       "            setTimeout(function() {\n",
       "                var nbb_cell_id = 1;\n",
       "                var nbb_unformatted_code = \"%reload_ext nb_black\";\n",
       "                var nbb_formatted_code = \"%reload_ext nb_black\";\n",
       "                var nbb_cells = Jupyter.notebook.get_cells();\n",
       "                for (var i = 0; i < nbb_cells.length; ++i) {\n",
       "                    if (nbb_cells[i].input_prompt_number == nbb_cell_id) {\n",
       "                        if (nbb_cells[i].get_text() == nbb_unformatted_code) {\n",
       "                             nbb_cells[i].set_text(nbb_formatted_code);\n",
       "                        }\n",
       "                        break;\n",
       "                    }\n",
       "                }\n",
       "            }, 500);\n",
       "            "
      ],
      "text/plain": [
       "<IPython.core.display.Javascript object>"
      ]
     },
     "metadata": {},
     "output_type": "display_data"
    }
   ],
   "source": [
    "%reload_ext nb_black"
   ]
  },
  {
   "cell_type": "code",
   "execution_count": 2,
   "metadata": {
    "colab": {},
    "colab_type": "code",
    "id": "OulyiH_C1D_r"
   },
   "outputs": [
    {
     "data": {
      "application/javascript": [
       "\n",
       "            setTimeout(function() {\n",
       "                var nbb_cell_id = 2;\n",
       "                var nbb_unformatted_code = \"import numpy as np\\nimport pandas as pd\\n\\nfrom scipy.spatial.distance import pdist, squareform\\n# !pip3 install pyclustering\\nfrom pyclustering.cluster.kmedoids import kmedoids\\n\\nimport matplotlib.pyplot as plt\\n\\n%matplotlib inline\";\n",
       "                var nbb_formatted_code = \"import numpy as np\\nimport pandas as pd\\n\\nfrom scipy.spatial.distance import pdist, squareform\\n\\n# !pip3 install pyclustering\\nfrom pyclustering.cluster.kmedoids import kmedoids\\n\\nimport matplotlib.pyplot as plt\\n\\n%matplotlib inline\";\n",
       "                var nbb_cells = Jupyter.notebook.get_cells();\n",
       "                for (var i = 0; i < nbb_cells.length; ++i) {\n",
       "                    if (nbb_cells[i].input_prompt_number == nbb_cell_id) {\n",
       "                        if (nbb_cells[i].get_text() == nbb_unformatted_code) {\n",
       "                             nbb_cells[i].set_text(nbb_formatted_code);\n",
       "                        }\n",
       "                        break;\n",
       "                    }\n",
       "                }\n",
       "            }, 500);\n",
       "            "
      ],
      "text/plain": [
       "<IPython.core.display.Javascript object>"
      ]
     },
     "metadata": {},
     "output_type": "display_data"
    }
   ],
   "source": [
    "import numpy as np\n",
    "import pandas as pd\n",
    "\n",
    "from scipy.spatial.distance import pdist, squareform\n",
    "\n",
    "# !pip3 install pyclustering\n",
    "from pyclustering.cluster.kmedoids import kmedoids\n",
    "\n",
    "import matplotlib.pyplot as plt\n",
    "\n",
    "%matplotlib inline"
   ]
  },
  {
   "cell_type": "markdown",
   "metadata": {
    "colab_type": "text",
    "id": "ezMvoRlB1D_t"
   },
   "source": [
    "This dataset consists of 35 binary features, each corresponding to a yes/no question that characterizes the student taking the survey.\n",
    "\n",
    "This dataset contains a large number of features, each corresponding to a survey question. The feature name summarizes the survey question, so we will not list them all out here.\n",
    "\n",
    "Load the dataset."
   ]
  },
  {
   "cell_type": "code",
   "execution_count": 3,
   "metadata": {
    "colab": {
     "base_uri": "https://localhost:8080/",
     "height": 377
    },
    "colab_type": "code",
    "executionInfo": {
     "elapsed": 11445,
     "status": "ok",
     "timestamp": 1580308782864,
     "user": {
      "displayName": "Adam Spannbauer",
      "photoUrl": "https://lh3.googleusercontent.com/a-/AAuE7mAU2JSQZkFVVbFv_OhPGdmiwr3ChGbq34PCZXJz=s64",
      "userId": "04097551985177324740"
     },
     "user_tz": 300
    },
    "id": "wP1U4eQ91D_u",
    "outputId": "f7b6c4e2-d9b5-4331-ccf7-b8c4120a4e12"
   },
   "outputs": [
    {
     "data": {
      "text/html": [
       "<div>\n",
       "<style scoped>\n",
       "    .dataframe tbody tr th:only-of-type {\n",
       "        vertical-align: middle;\n",
       "    }\n",
       "\n",
       "    .dataframe tbody tr th {\n",
       "        vertical-align: top;\n",
       "    }\n",
       "\n",
       "    .dataframe thead th {\n",
       "        text-align: right;\n",
       "    }\n",
       "</style>\n",
       "<table border=\"1\" class=\"dataframe\">\n",
       "  <thead>\n",
       "    <tr style=\"text-align: right;\">\n",
       "      <th></th>\n",
       "      <th>Q2-Participated in Societies and Interest Groups</th>\n",
       "      <th>Q2-Participated in Clubs</th>\n",
       "      <th>Q2-Participated in Halls, JCRCs and/or Residential College CSCs</th>\n",
       "      <th>Q2-Participated in University organised events</th>\n",
       "      <th>Q3-Interested in Arts &amp; Culture</th>\n",
       "      <th>Q3-Interested in Science &amp; Technology</th>\n",
       "      <th>Q3-Interested in Research and independent study</th>\n",
       "      <th>Q3-Interested in Sports</th>\n",
       "      <th>Q3-Interested in Other competitions (eg case, debates)</th>\n",
       "      <th>Q3-Interested in Entrepreneurship</th>\n",
       "      <th>...</th>\n",
       "      <th>Q5-Stressed about Academic issues</th>\n",
       "      <th>Q5-Stressed about Financial issues</th>\n",
       "      <th>Q5-Stressed about Family issues</th>\n",
       "      <th>Q5-Stressed about Friendships</th>\n",
       "      <th>Q5-Stressed about Romantic relationships</th>\n",
       "      <th>Q5-Stressed about  Health related issues</th>\n",
       "      <th>Q5-Stressed about Career related issues</th>\n",
       "      <th>Q5-Stressed about My involvement in hostel, clubs, societies, interest groups, etc.</th>\n",
       "      <th>Q5-Stressed about Others</th>\n",
       "      <th>response_id</th>\n",
       "    </tr>\n",
       "  </thead>\n",
       "  <tbody>\n",
       "    <tr>\n",
       "      <th>0</th>\n",
       "      <td>0</td>\n",
       "      <td>1</td>\n",
       "      <td>0</td>\n",
       "      <td>0</td>\n",
       "      <td>0</td>\n",
       "      <td>1</td>\n",
       "      <td>1</td>\n",
       "      <td>0</td>\n",
       "      <td>1</td>\n",
       "      <td>0</td>\n",
       "      <td>...</td>\n",
       "      <td>1</td>\n",
       "      <td>0</td>\n",
       "      <td>0</td>\n",
       "      <td>0</td>\n",
       "      <td>0</td>\n",
       "      <td>0</td>\n",
       "      <td>0</td>\n",
       "      <td>0</td>\n",
       "      <td>0</td>\n",
       "      <td>1</td>\n",
       "    </tr>\n",
       "    <tr>\n",
       "      <th>1</th>\n",
       "      <td>0</td>\n",
       "      <td>1</td>\n",
       "      <td>0</td>\n",
       "      <td>0</td>\n",
       "      <td>1</td>\n",
       "      <td>0</td>\n",
       "      <td>0</td>\n",
       "      <td>1</td>\n",
       "      <td>0</td>\n",
       "      <td>0</td>\n",
       "      <td>...</td>\n",
       "      <td>1</td>\n",
       "      <td>0</td>\n",
       "      <td>0</td>\n",
       "      <td>0</td>\n",
       "      <td>0</td>\n",
       "      <td>0</td>\n",
       "      <td>0</td>\n",
       "      <td>0</td>\n",
       "      <td>0</td>\n",
       "      <td>2</td>\n",
       "    </tr>\n",
       "    <tr>\n",
       "      <th>2</th>\n",
       "      <td>0</td>\n",
       "      <td>0</td>\n",
       "      <td>1</td>\n",
       "      <td>0</td>\n",
       "      <td>0</td>\n",
       "      <td>0</td>\n",
       "      <td>0</td>\n",
       "      <td>1</td>\n",
       "      <td>0</td>\n",
       "      <td>0</td>\n",
       "      <td>...</td>\n",
       "      <td>1</td>\n",
       "      <td>0</td>\n",
       "      <td>0</td>\n",
       "      <td>0</td>\n",
       "      <td>0</td>\n",
       "      <td>0</td>\n",
       "      <td>1</td>\n",
       "      <td>0</td>\n",
       "      <td>0</td>\n",
       "      <td>3</td>\n",
       "    </tr>\n",
       "    <tr>\n",
       "      <th>3</th>\n",
       "      <td>1</td>\n",
       "      <td>1</td>\n",
       "      <td>1</td>\n",
       "      <td>1</td>\n",
       "      <td>0</td>\n",
       "      <td>1</td>\n",
       "      <td>1</td>\n",
       "      <td>0</td>\n",
       "      <td>0</td>\n",
       "      <td>0</td>\n",
       "      <td>...</td>\n",
       "      <td>1</td>\n",
       "      <td>0</td>\n",
       "      <td>1</td>\n",
       "      <td>1</td>\n",
       "      <td>1</td>\n",
       "      <td>1</td>\n",
       "      <td>0</td>\n",
       "      <td>1</td>\n",
       "      <td>0</td>\n",
       "      <td>4</td>\n",
       "    </tr>\n",
       "    <tr>\n",
       "      <th>4</th>\n",
       "      <td>1</td>\n",
       "      <td>0</td>\n",
       "      <td>1</td>\n",
       "      <td>1</td>\n",
       "      <td>0</td>\n",
       "      <td>1</td>\n",
       "      <td>1</td>\n",
       "      <td>0</td>\n",
       "      <td>0</td>\n",
       "      <td>1</td>\n",
       "      <td>...</td>\n",
       "      <td>1</td>\n",
       "      <td>1</td>\n",
       "      <td>0</td>\n",
       "      <td>1</td>\n",
       "      <td>0</td>\n",
       "      <td>0</td>\n",
       "      <td>0</td>\n",
       "      <td>1</td>\n",
       "      <td>0</td>\n",
       "      <td>5</td>\n",
       "    </tr>\n",
       "  </tbody>\n",
       "</table>\n",
       "<p>5 rows × 36 columns</p>\n",
       "</div>"
      ],
      "text/plain": [
       "   Q2-Participated in Societies and Interest Groups  Q2-Participated in Clubs  \\\n",
       "0                                                 0                         1   \n",
       "1                                                 0                         1   \n",
       "2                                                 0                         0   \n",
       "3                                                 1                         1   \n",
       "4                                                 1                         0   \n",
       "\n",
       "   Q2-Participated in Halls, JCRCs and/or Residential College CSCs  \\\n",
       "0                                                  0                 \n",
       "1                                                  0                 \n",
       "2                                                  1                 \n",
       "3                                                  1                 \n",
       "4                                                  1                 \n",
       "\n",
       "   Q2-Participated in University organised events  \\\n",
       "0                                               0   \n",
       "1                                               0   \n",
       "2                                               0   \n",
       "3                                               1   \n",
       "4                                               1   \n",
       "\n",
       "   Q3-Interested in Arts & Culture  Q3-Interested in Science & Technology  \\\n",
       "0                                0                                      1   \n",
       "1                                1                                      0   \n",
       "2                                0                                      0   \n",
       "3                                0                                      1   \n",
       "4                                0                                      1   \n",
       "\n",
       "   Q3-Interested in Research and independent study  Q3-Interested in Sports  \\\n",
       "0                                                1                        0   \n",
       "1                                                0                        1   \n",
       "2                                                0                        1   \n",
       "3                                                1                        0   \n",
       "4                                                1                        0   \n",
       "\n",
       "   Q3-Interested in Other competitions (eg case, debates)  \\\n",
       "0                                                  1        \n",
       "1                                                  0        \n",
       "2                                                  0        \n",
       "3                                                  0        \n",
       "4                                                  0        \n",
       "\n",
       "   Q3-Interested in Entrepreneurship  ...  Q5-Stressed about Academic issues  \\\n",
       "0                                  0  ...                                  1   \n",
       "1                                  0  ...                                  1   \n",
       "2                                  0  ...                                  1   \n",
       "3                                  0  ...                                  1   \n",
       "4                                  1  ...                                  1   \n",
       "\n",
       "   Q5-Stressed about Financial issues  Q5-Stressed about Family issues  \\\n",
       "0                                   0                                0   \n",
       "1                                   0                                0   \n",
       "2                                   0                                0   \n",
       "3                                   0                                1   \n",
       "4                                   1                                0   \n",
       "\n",
       "   Q5-Stressed about Friendships  Q5-Stressed about Romantic relationships  \\\n",
       "0                              0                                         0   \n",
       "1                              0                                         0   \n",
       "2                              0                                         0   \n",
       "3                              1                                         1   \n",
       "4                              1                                         0   \n",
       "\n",
       "   Q5-Stressed about  Health related issues  \\\n",
       "0                                         0   \n",
       "1                                         0   \n",
       "2                                         0   \n",
       "3                                         1   \n",
       "4                                         0   \n",
       "\n",
       "   Q5-Stressed about Career related issues  \\\n",
       "0                                        0   \n",
       "1                                        0   \n",
       "2                                        1   \n",
       "3                                        0   \n",
       "4                                        0   \n",
       "\n",
       "   Q5-Stressed about My involvement in hostel, clubs, societies, interest groups, etc.  \\\n",
       "0                                                  0                                     \n",
       "1                                                  0                                     \n",
       "2                                                  0                                     \n",
       "3                                                  1                                     \n",
       "4                                                  1                                     \n",
       "\n",
       "   Q5-Stressed about Others  response_id  \n",
       "0                         0            1  \n",
       "1                         0            2  \n",
       "2                         0            3  \n",
       "3                         0            4  \n",
       "4                         0            5  \n",
       "\n",
       "[5 rows x 36 columns]"
      ]
     },
     "execution_count": 3,
     "metadata": {},
     "output_type": "execute_result"
    },
    {
     "data": {
      "application/javascript": [
       "\n",
       "            setTimeout(function() {\n",
       "                var nbb_cell_id = 3;\n",
       "                var nbb_unformatted_code = \"# answer goes here\\nurl = \\\"https://tf-assets-prod.s3.amazonaws.com/tf-curric/data-science/Data%20Sets%20Clustering/student_life_survey.csv\\\"\\nsl = pd.read_csv(url)\\nsl.head()\";\n",
       "                var nbb_formatted_code = \"# answer goes here\\nurl = \\\"https://tf-assets-prod.s3.amazonaws.com/tf-curric/data-science/Data%20Sets%20Clustering/student_life_survey.csv\\\"\\nsl = pd.read_csv(url)\\nsl.head()\";\n",
       "                var nbb_cells = Jupyter.notebook.get_cells();\n",
       "                for (var i = 0; i < nbb_cells.length; ++i) {\n",
       "                    if (nbb_cells[i].input_prompt_number == nbb_cell_id) {\n",
       "                        if (nbb_cells[i].get_text() == nbb_unformatted_code) {\n",
       "                             nbb_cells[i].set_text(nbb_formatted_code);\n",
       "                        }\n",
       "                        break;\n",
       "                    }\n",
       "                }\n",
       "            }, 500);\n",
       "            "
      ],
      "text/plain": [
       "<IPython.core.display.Javascript object>"
      ]
     },
     "metadata": {},
     "output_type": "display_data"
    }
   ],
   "source": [
    "# answer goes here\n",
    "url = \"https://tf-assets-prod.s3.amazonaws.com/tf-curric/data-science/Data%20Sets%20Clustering/student_life_survey.csv\"\n",
    "sl = pd.read_csv(url)\n",
    "sl.head()"
   ]
  },
  {
   "cell_type": "markdown",
   "metadata": {
    "colab_type": "text",
    "id": "o_K1eQ0x1D_y"
   },
   "source": [
    "For our analysis, we will focus on a specific subset of the survey that is focused on stress. These questions all begin with the string 'Q5'. Filter the columns that meet this criteria (should be 10 in total)."
   ]
  },
  {
   "cell_type": "code",
   "execution_count": 4,
   "metadata": {
    "colab": {},
    "colab_type": "code",
    "id": "urdZqR8WC4XM"
   },
   "outputs": [
    {
     "data": {
      "application/javascript": [
       "\n",
       "            setTimeout(function() {\n",
       "                var nbb_cell_id = 4;\n",
       "                var nbb_unformatted_code = \"# answer goes here\\nsl_q5 = sl.filter(regex=\\\"Q5\\\")\\nsl_q5 = sl_q5.sample(500)\";\n",
       "                var nbb_formatted_code = \"# answer goes here\\nsl_q5 = sl.filter(regex=\\\"Q5\\\")\\nsl_q5 = sl_q5.sample(500)\";\n",
       "                var nbb_cells = Jupyter.notebook.get_cells();\n",
       "                for (var i = 0; i < nbb_cells.length; ++i) {\n",
       "                    if (nbb_cells[i].input_prompt_number == nbb_cell_id) {\n",
       "                        if (nbb_cells[i].get_text() == nbb_unformatted_code) {\n",
       "                             nbb_cells[i].set_text(nbb_formatted_code);\n",
       "                        }\n",
       "                        break;\n",
       "                    }\n",
       "                }\n",
       "            }, 500);\n",
       "            "
      ],
      "text/plain": [
       "<IPython.core.display.Javascript object>"
      ]
     },
     "metadata": {},
     "output_type": "display_data"
    }
   ],
   "source": [
    "# answer goes here\n",
    "sl_q5 = sl.filter(regex=\"Q5\")\n",
    "sl_q5 = sl_q5.sample(500)"
   ]
  },
  {
   "cell_type": "markdown",
   "metadata": {
    "colab_type": "text",
    "id": "OxdvGscfC4XU"
   },
   "source": [
    "The pyclustering implementation of kmedoids supports a variety of distance metrics, but they are primarily for numeric data. We will be using SMC/Hamming dissimilarity and precomputing the similarity matrix (an alternative would be to specify a user-defined function, which you are welcome to try in addition).\n",
    "\n",
    "We'll assume for the next step that a pair of negative values (i.e. both responses are \"no\") is as informative as a pair of positive values. Compute the full distance/dissimilarity matrix for the survey data using matching/hamming distance."
   ]
  },
  {
   "cell_type": "code",
   "execution_count": 5,
   "metadata": {
    "colab": {
     "base_uri": "https://localhost:8080/",
     "height": 34
    },
    "colab_type": "code",
    "executionInfo": {
     "elapsed": 11428,
     "status": "ok",
     "timestamp": 1580308782865,
     "user": {
      "displayName": "Adam Spannbauer",
      "photoUrl": "https://lh3.googleusercontent.com/a-/AAuE7mAU2JSQZkFVVbFv_OhPGdmiwr3ChGbq34PCZXJz=s64",
      "userId": "04097551985177324740"
     },
     "user_tz": 300
    },
    "id": "xfYVreyw1D_y",
    "outputId": "a02a28f9-e143-4157-d14f-38cd451be676"
   },
   "outputs": [
    {
     "data": {
      "text/plain": [
       "(500, 500)"
      ]
     },
     "execution_count": 5,
     "metadata": {},
     "output_type": "execute_result"
    },
    {
     "data": {
      "application/javascript": [
       "\n",
       "            setTimeout(function() {\n",
       "                var nbb_cell_id = 5;\n",
       "                var nbb_unformatted_code = \"# answer goes here\\nhamming_dist = pdist(sl_q5, metric=\\\"hamming\\\")\\nhamming_dist = squareform(hamming_dist)\\nhamming_dist.shape\";\n",
       "                var nbb_formatted_code = \"# answer goes here\\nhamming_dist = pdist(sl_q5, metric=\\\"hamming\\\")\\nhamming_dist = squareform(hamming_dist)\\nhamming_dist.shape\";\n",
       "                var nbb_cells = Jupyter.notebook.get_cells();\n",
       "                for (var i = 0; i < nbb_cells.length; ++i) {\n",
       "                    if (nbb_cells[i].input_prompt_number == nbb_cell_id) {\n",
       "                        if (nbb_cells[i].get_text() == nbb_unformatted_code) {\n",
       "                             nbb_cells[i].set_text(nbb_formatted_code);\n",
       "                        }\n",
       "                        break;\n",
       "                    }\n",
       "                }\n",
       "            }, 500);\n",
       "            "
      ],
      "text/plain": [
       "<IPython.core.display.Javascript object>"
      ]
     },
     "metadata": {},
     "output_type": "display_data"
    }
   ],
   "source": [
    "# answer goes here\n",
    "hamming_dist = pdist(sl_q5, metric=\"hamming\")\n",
    "hamming_dist = squareform(hamming_dist)\n",
    "hamming_dist.shape"
   ]
  },
  {
   "cell_type": "markdown",
   "metadata": {
    "colab_type": "text",
    "id": "3XUT0a6aC4Xb"
   },
   "source": [
    "Using the dissimilarity matrix, perform kmedoids clustering using k=2. Set the initial medoids randomly. Note that pyclustering expects the distance matrix to be a numpy array; a pandas dataframe may cause errors. \n",
    "\n",
    "Which survey responses are chosen as the cluster representatives? Print out the details of these responses."
   ]
  },
  {
   "cell_type": "code",
   "execution_count": 6,
   "metadata": {
    "colab": {},
    "colab_type": "code",
    "id": "Nv0mDzNSC4Xd"
   },
   "outputs": [
    {
     "name": "stdout",
     "output_type": "stream",
     "text": [
      "[20, 187]\n",
      "[20, 287]\n",
      "[438, 370]\n",
      "[497, 4]\n",
      "[20, 85]\n"
     ]
    },
    {
     "data": {
      "application/javascript": [
       "\n",
       "            setTimeout(function() {\n",
       "                var nbb_cell_id = 6;\n",
       "                var nbb_unformatted_code = \"# answer goes here\\nfor i in range(5):\\n    init_medoids = np.random.randint(0, hamming_dist.shape[0], size=2)\\n    kmed = kmedoids(\\n        hamming_dist, initial_index_medoids=init_medoids, data_type=\\\"distance_matrix\\\"\\n    )\\n\\n    kmed.process()\\n    # print medoids to show how its changing\\n    print(kmed.get_medoids())\\n\\n    # put in labels to show how its changing\\n    sl_q5[f\\\"label_{i}\\\"] = kmed.predict(hamming_dist)\";\n",
       "                var nbb_formatted_code = \"# answer goes here\\nfor i in range(5):\\n    init_medoids = np.random.randint(0, hamming_dist.shape[0], size=2)\\n    kmed = kmedoids(\\n        hamming_dist, initial_index_medoids=init_medoids, data_type=\\\"distance_matrix\\\"\\n    )\\n\\n    kmed.process()\\n    # print medoids to show how its changing\\n    print(kmed.get_medoids())\\n\\n    # put in labels to show how its changing\\n    sl_q5[f\\\"label_{i}\\\"] = kmed.predict(hamming_dist)\";\n",
       "                var nbb_cells = Jupyter.notebook.get_cells();\n",
       "                for (var i = 0; i < nbb_cells.length; ++i) {\n",
       "                    if (nbb_cells[i].input_prompt_number == nbb_cell_id) {\n",
       "                        if (nbb_cells[i].get_text() == nbb_unformatted_code) {\n",
       "                             nbb_cells[i].set_text(nbb_formatted_code);\n",
       "                        }\n",
       "                        break;\n",
       "                    }\n",
       "                }\n",
       "            }, 500);\n",
       "            "
      ],
      "text/plain": [
       "<IPython.core.display.Javascript object>"
      ]
     },
     "metadata": {},
     "output_type": "display_data"
    }
   ],
   "source": [
    "# answer goes here\n",
    "for i in range(5):\n",
    "    init_medoids = np.random.randint(0, hamming_dist.shape[0], size=2)\n",
    "    kmed = kmedoids(\n",
    "        hamming_dist, initial_index_medoids=init_medoids, data_type=\"distance_matrix\"\n",
    "    )\n",
    "\n",
    "    kmed.process()\n",
    "    # print medoids to show how its changing\n",
    "    print(kmed.get_medoids())\n",
    "\n",
    "    # put in labels to show how its changing\n",
    "    sl_q5[f\"label_{i}\"] = kmed.predict(hamming_dist)"
   ]
  },
  {
   "cell_type": "markdown",
   "metadata": {
    "colab_type": "text",
    "id": "H0tWAoZAC4Xn"
   },
   "source": [
    "If you run the previous cell a few times, you'll probably notice that the medoids are very sensitive to initialization. A common approach to produce well-separated clusters is to choose initial centroids that are far apart. Re-run the previous process, except with a random pair of centroids that have a dissimilarity of 0.8 or higher. Are the results more stable now? How would you describe the typical clusters you see?"
   ]
  },
  {
   "cell_type": "code",
   "execution_count": 7,
   "metadata": {
    "colab": {},
    "colab_type": "code",
    "id": "gCKakjHYZKME"
   },
   "outputs": [
    {
     "name": "stdout",
     "output_type": "stream",
     "text": [
      "[4, 40]\n",
      "[33, 4]\n",
      "[33, 4]\n",
      "[286, 4]\n",
      "[94, 4]\n"
     ]
    },
    {
     "data": {
      "application/javascript": [
       "\n",
       "            setTimeout(function() {\n",
       "                var nbb_cell_id = 7;\n",
       "                var nbb_unformatted_code = \"init_val = 0.8\\n\\nfor i in range(5):\\n    dissimiliar_idxs = np.where(hamming_dist > init_val)\\n    dissimiliar_pairs_df = pd.DataFrame(dissimiliar_idxs).T\\n    dissimiliar_pair = dissimiliar_pairs_df.sample(1).values[0]\\n\\n    kmed = kmedoids(\\n        hamming_dist,\\n        initial_index_medoids=dissimiliar_pair,\\n        data_type=\\\"distance_matrix\\\",\\n    )\\n\\n    kmed.process()\\n\\n    # print medoids to show how its changing\\n    print(kmed.get_medoids())\\n\\n    sl_q5[f\\\"dissimiliar_label_{i}\\\"] = kmed.predict(hamming_dist)\";\n",
       "                var nbb_formatted_code = \"init_val = 0.8\\n\\nfor i in range(5):\\n    dissimiliar_idxs = np.where(hamming_dist > init_val)\\n    dissimiliar_pairs_df = pd.DataFrame(dissimiliar_idxs).T\\n    dissimiliar_pair = dissimiliar_pairs_df.sample(1).values[0]\\n\\n    kmed = kmedoids(\\n        hamming_dist,\\n        initial_index_medoids=dissimiliar_pair,\\n        data_type=\\\"distance_matrix\\\",\\n    )\\n\\n    kmed.process()\\n\\n    # print medoids to show how its changing\\n    print(kmed.get_medoids())\\n\\n    sl_q5[f\\\"dissimiliar_label_{i}\\\"] = kmed.predict(hamming_dist)\";\n",
       "                var nbb_cells = Jupyter.notebook.get_cells();\n",
       "                for (var i = 0; i < nbb_cells.length; ++i) {\n",
       "                    if (nbb_cells[i].input_prompt_number == nbb_cell_id) {\n",
       "                        if (nbb_cells[i].get_text() == nbb_unformatted_code) {\n",
       "                             nbb_cells[i].set_text(nbb_formatted_code);\n",
       "                        }\n",
       "                        break;\n",
       "                    }\n",
       "                }\n",
       "            }, 500);\n",
       "            "
      ],
      "text/plain": [
       "<IPython.core.display.Javascript object>"
      ]
     },
     "metadata": {},
     "output_type": "display_data"
    }
   ],
   "source": [
    "init_val = 0.8\n",
    "\n",
    "for i in range(5):\n",
    "    dissimiliar_idxs = np.where(hamming_dist > init_val)\n",
    "    dissimiliar_pairs_df = pd.DataFrame(dissimiliar_idxs).T\n",
    "    dissimiliar_pair = dissimiliar_pairs_df.sample(1).values[0]\n",
    "\n",
    "    kmed = kmedoids(\n",
    "        hamming_dist,\n",
    "        initial_index_medoids=dissimiliar_pair,\n",
    "        data_type=\"distance_matrix\",\n",
    "    )\n",
    "\n",
    "    kmed.process()\n",
    "\n",
    "    # print medoids to show how its changing\n",
    "    print(kmed.get_medoids())\n",
    "\n",
    "    sl_q5[f\"dissimiliar_label_{i}\"] = kmed.predict(hamming_dist)"
   ]
  }
 ],
 "metadata": {
  "colab": {
   "collapsed_sections": [],
   "name": "Copy of Day 47 Lecture 2 Assignment.ipynb",
   "provenance": [
    {
     "file_id": "1qMZdrjQvxUtPb0NepTjv3gxXS5HuNkI_",
     "timestamp": 1580210278881
    }
   ]
  },
  "kernelspec": {
   "display_name": "Python 3",
   "language": "python",
   "name": "python3"
  },
  "language_info": {
   "codemirror_mode": {
    "name": "ipython",
    "version": 3
   },
   "file_extension": ".py",
   "mimetype": "text/x-python",
   "name": "python",
   "nbconvert_exporter": "python",
   "pygments_lexer": "ipython3",
   "version": "3.7.7"
  }
 },
 "nbformat": 4,
 "nbformat_minor": 1
}
