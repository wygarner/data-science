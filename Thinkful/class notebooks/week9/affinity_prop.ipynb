{
 "cells": [
  {
   "cell_type": "code",
   "execution_count": 29,
   "metadata": {},
   "outputs": [
    {
     "data": {
      "application/javascript": [
       "\n",
       "            setTimeout(function() {\n",
       "                var nbb_cell_id = 29;\n",
       "                var nbb_unformatted_code = \"%reload_ext nb_black\";\n",
       "                var nbb_formatted_code = \"%reload_ext nb_black\";\n",
       "                var nbb_cells = Jupyter.notebook.get_cells();\n",
       "                for (var i = 0; i < nbb_cells.length; ++i) {\n",
       "                    if (nbb_cells[i].input_prompt_number == nbb_cell_id) {\n",
       "                        if (nbb_cells[i].get_text() == nbb_unformatted_code) {\n",
       "                             nbb_cells[i].set_text(nbb_formatted_code);\n",
       "                        }\n",
       "                        break;\n",
       "                    }\n",
       "                }\n",
       "            }, 500);\n",
       "            "
      ],
      "text/plain": [
       "<IPython.core.display.Javascript object>"
      ]
     },
     "metadata": {},
     "output_type": "display_data"
    },
    {
     "data": {
      "application/javascript": [
       "\n",
       "            setTimeout(function() {\n",
       "                var nbb_cell_id = 29;\n",
       "                var nbb_unformatted_code = \"%reload_ext nb_black\";\n",
       "                var nbb_formatted_code = \"%reload_ext nb_black\";\n",
       "                var nbb_cells = Jupyter.notebook.get_cells();\n",
       "                for (var i = 0; i < nbb_cells.length; ++i) {\n",
       "                    if (nbb_cells[i].input_prompt_number == nbb_cell_id) {\n",
       "                        if (nbb_cells[i].get_text() == nbb_unformatted_code) {\n",
       "                             nbb_cells[i].set_text(nbb_formatted_code);\n",
       "                        }\n",
       "                        break;\n",
       "                    }\n",
       "                }\n",
       "            }, 500);\n",
       "            "
      ],
      "text/plain": [
       "<IPython.core.display.Javascript object>"
      ]
     },
     "metadata": {},
     "output_type": "display_data"
    }
   ],
   "source": [
    "%reload_ext nb_black"
   ]
  },
  {
   "cell_type": "code",
   "execution_count": 2,
   "metadata": {},
   "outputs": [
    {
     "data": {
      "application/javascript": [
       "\n",
       "            setTimeout(function() {\n",
       "                var nbb_cell_id = 2;\n",
       "                var nbb_unformatted_code = \"import pandas as pd\\nimport numpy as np\\n\\nfrom scipy.spatial.distance import pdist, squareform\\n\\nfrom sklearn.preprocessing import StandardScaler\\nfrom sklearn.cluster import AffinityPropagation\\n\\nfrom tqdm.notebook import tqdm\\n\\nimport seaborn as sns\\nimport matplotlib.pyplot as plt\\n\\n%matplotlib inline\";\n",
       "                var nbb_formatted_code = \"import pandas as pd\\nimport numpy as np\\n\\nfrom scipy.spatial.distance import pdist, squareform\\n\\nfrom sklearn.preprocessing import StandardScaler\\nfrom sklearn.cluster import AffinityPropagation\\n\\nfrom tqdm.notebook import tqdm\\n\\nimport seaborn as sns\\nimport matplotlib.pyplot as plt\\n\\n%matplotlib inline\";\n",
       "                var nbb_cells = Jupyter.notebook.get_cells();\n",
       "                for (var i = 0; i < nbb_cells.length; ++i) {\n",
       "                    if (nbb_cells[i].input_prompt_number == nbb_cell_id) {\n",
       "                        if (nbb_cells[i].get_text() == nbb_unformatted_code) {\n",
       "                             nbb_cells[i].set_text(nbb_formatted_code);\n",
       "                        }\n",
       "                        break;\n",
       "                    }\n",
       "                }\n",
       "            }, 500);\n",
       "            "
      ],
      "text/plain": [
       "<IPython.core.display.Javascript object>"
      ]
     },
     "metadata": {},
     "output_type": "display_data"
    }
   ],
   "source": [
    "import pandas as pd\n",
    "import numpy as np\n",
    "\n",
    "from scipy.spatial.distance import pdist, squareform\n",
    "\n",
    "from sklearn.preprocessing import StandardScaler\n",
    "from sklearn.cluster import AffinityPropagation\n",
    "\n",
    "from tqdm.notebook import tqdm\n",
    "\n",
    "import seaborn as sns\n",
    "import matplotlib.pyplot as plt\n",
    "\n",
    "%matplotlib inline"
   ]
  },
  {
   "cell_type": "code",
   "execution_count": 3,
   "metadata": {},
   "outputs": [
    {
     "data": {
      "application/javascript": [
       "\n",
       "            setTimeout(function() {\n",
       "                var nbb_cell_id = 3;\n",
       "                var nbb_unformatted_code = \"data_url = \\\"https://docs.google.com/spreadsheets/d/198EG3tckqzD1uOKSYxAY62i5v_0LIZQMgzaIae6u1vo/export?format=csv\\\"\\nzillow = pd.read_csv(data_url)\\n\\n# Drop columns with higher than 20% missing values\\ndrop = zillow.columns[zillow.isna().mean() > 0.2]\\nzillow = zillow.drop(columns=drop)\\n\\n# Drop remaining missing values\\nzillow = zillow.dropna()\\n\\n# Manually selected features to use\\nkeep_cols = [\\n    # How much\\n    \\\"taxamount\\\",\\n    # How big\\n    \\\"garagetotalsqft\\\",\\n    \\\"lotsizesquarefeet\\\",\\n    \\\"numberofstories\\\",\\n    #     \\\"poolcnt\\\",  # dropped because 0 variance\\n    \\\"roomcnt\\\",\\n]\\n\\nzillow = zillow[keep_cols]\\n# zillow = zillow.sample(1500, random_state=1337)\";\n",
       "                var nbb_formatted_code = \"data_url = \\\"https://docs.google.com/spreadsheets/d/198EG3tckqzD1uOKSYxAY62i5v_0LIZQMgzaIae6u1vo/export?format=csv\\\"\\nzillow = pd.read_csv(data_url)\\n\\n# Drop columns with higher than 20% missing values\\ndrop = zillow.columns[zillow.isna().mean() > 0.2]\\nzillow = zillow.drop(columns=drop)\\n\\n# Drop remaining missing values\\nzillow = zillow.dropna()\\n\\n# Manually selected features to use\\nkeep_cols = [\\n    # How much\\n    \\\"taxamount\\\",\\n    # How big\\n    \\\"garagetotalsqft\\\",\\n    \\\"lotsizesquarefeet\\\",\\n    \\\"numberofstories\\\",\\n    #     \\\"poolcnt\\\",  # dropped because 0 variance\\n    \\\"roomcnt\\\",\\n]\\n\\nzillow = zillow[keep_cols]\\n# zillow = zillow.sample(1500, random_state=1337)\";\n",
       "                var nbb_cells = Jupyter.notebook.get_cells();\n",
       "                for (var i = 0; i < nbb_cells.length; ++i) {\n",
       "                    if (nbb_cells[i].input_prompt_number == nbb_cell_id) {\n",
       "                        if (nbb_cells[i].get_text() == nbb_unformatted_code) {\n",
       "                             nbb_cells[i].set_text(nbb_formatted_code);\n",
       "                        }\n",
       "                        break;\n",
       "                    }\n",
       "                }\n",
       "            }, 500);\n",
       "            "
      ],
      "text/plain": [
       "<IPython.core.display.Javascript object>"
      ]
     },
     "metadata": {},
     "output_type": "display_data"
    }
   ],
   "source": [
    "data_url = \"https://docs.google.com/spreadsheets/d/198EG3tckqzD1uOKSYxAY62i5v_0LIZQMgzaIae6u1vo/export?format=csv\"\n",
    "zillow = pd.read_csv(data_url)\n",
    "\n",
    "# Drop columns with higher than 20% missing values\n",
    "drop = zillow.columns[zillow.isna().mean() > 0.2]\n",
    "zillow = zillow.drop(columns=drop)\n",
    "\n",
    "# Drop remaining missing values\n",
    "zillow = zillow.dropna()\n",
    "\n",
    "# Manually selected features to use\n",
    "keep_cols = [\n",
    "    # How much\n",
    "    \"taxamount\",\n",
    "    # How big\n",
    "    \"garagetotalsqft\",\n",
    "    \"lotsizesquarefeet\",\n",
    "    \"numberofstories\",\n",
    "    #     \"poolcnt\",  # dropped because 0 variance\n",
    "    \"roomcnt\",\n",
    "]\n",
    "\n",
    "zillow = zillow[keep_cols]\n",
    "# zillow = zillow.sample(1500, random_state=1337)"
   ]
  },
  {
   "cell_type": "code",
   "execution_count": 4,
   "metadata": {},
   "outputs": [
    {
     "data": {
      "application/javascript": [
       "\n",
       "            setTimeout(function() {\n",
       "                var nbb_cell_id = 4;\n",
       "                var nbb_unformatted_code = \"scaler = StandardScaler()\\nscaled = scaler.fit_transform(zillow)\";\n",
       "                var nbb_formatted_code = \"scaler = StandardScaler()\\nscaled = scaler.fit_transform(zillow)\";\n",
       "                var nbb_cells = Jupyter.notebook.get_cells();\n",
       "                for (var i = 0; i < nbb_cells.length; ++i) {\n",
       "                    if (nbb_cells[i].input_prompt_number == nbb_cell_id) {\n",
       "                        if (nbb_cells[i].get_text() == nbb_unformatted_code) {\n",
       "                             nbb_cells[i].set_text(nbb_formatted_code);\n",
       "                        }\n",
       "                        break;\n",
       "                    }\n",
       "                }\n",
       "            }, 500);\n",
       "            "
      ],
      "text/plain": [
       "<IPython.core.display.Javascript object>"
      ]
     },
     "metadata": {},
     "output_type": "display_data"
    }
   ],
   "source": [
    "scaler = StandardScaler()\n",
    "scaled = scaler.fit_transform(zillow)"
   ]
  },
  {
   "cell_type": "code",
   "execution_count": 5,
   "metadata": {},
   "outputs": [
    {
     "data": {
      "text/plain": [
       "-43.07119774057715"
      ]
     },
     "execution_count": 5,
     "metadata": {},
     "output_type": "execute_result"
    },
    {
     "data": {
      "application/javascript": [
       "\n",
       "            setTimeout(function() {\n",
       "                var nbb_cell_id = 5;\n",
       "                var nbb_unformatted_code = \"sim_mat = -squareform(pdist(scaled))\\nsim_mat.min() - 1\";\n",
       "                var nbb_formatted_code = \"sim_mat = -squareform(pdist(scaled))\\nsim_mat.min() - 1\";\n",
       "                var nbb_cells = Jupyter.notebook.get_cells();\n",
       "                for (var i = 0; i < nbb_cells.length; ++i) {\n",
       "                    if (nbb_cells[i].input_prompt_number == nbb_cell_id) {\n",
       "                        if (nbb_cells[i].get_text() == nbb_unformatted_code) {\n",
       "                             nbb_cells[i].set_text(nbb_formatted_code);\n",
       "                        }\n",
       "                        break;\n",
       "                    }\n",
       "                }\n",
       "            }, 500);\n",
       "            "
      ],
      "text/plain": [
       "<IPython.core.display.Javascript object>"
      ]
     },
     "metadata": {},
     "output_type": "display_data"
    }
   ],
   "source": [
    "sim_mat = -squareform(pdist(scaled))\n",
    "sim_mat.min() - 1"
   ]
  },
  {
   "cell_type": "code",
   "execution_count": 6,
   "metadata": {},
   "outputs": [
    {
     "name": "stdout",
     "output_type": "stream",
     "text": [
      "Converged after 15 iterations.\n"
     ]
    },
    {
     "data": {
      "text/plain": [
       "AffinityPropagation(affinity='precomputed', convergence_iter=15, copy=True,\n",
       "                    damping=0.99, max_iter=200, preference=None, verbose=1)"
      ]
     },
     "execution_count": 6,
     "metadata": {},
     "output_type": "execute_result"
    },
    {
     "data": {
      "application/javascript": [
       "\n",
       "            setTimeout(function() {\n",
       "                var nbb_cell_id = 6;\n",
       "                var nbb_unformatted_code = \"clst = AffinityPropagation(affinity=\\\"precomputed\\\", damping=0.99, verbose=1)\\nclst.fit(sim_mat)\";\n",
       "                var nbb_formatted_code = \"clst = AffinityPropagation(affinity=\\\"precomputed\\\", damping=0.99, verbose=1)\\nclst.fit(sim_mat)\";\n",
       "                var nbb_cells = Jupyter.notebook.get_cells();\n",
       "                for (var i = 0; i < nbb_cells.length; ++i) {\n",
       "                    if (nbb_cells[i].input_prompt_number == nbb_cell_id) {\n",
       "                        if (nbb_cells[i].get_text() == nbb_unformatted_code) {\n",
       "                             nbb_cells[i].set_text(nbb_formatted_code);\n",
       "                        }\n",
       "                        break;\n",
       "                    }\n",
       "                }\n",
       "            }, 500);\n",
       "            "
      ],
      "text/plain": [
       "<IPython.core.display.Javascript object>"
      ]
     },
     "metadata": {},
     "output_type": "display_data"
    }
   ],
   "source": [
    "clst = AffinityPropagation(affinity=\"precomputed\", damping=0.99, verbose=1)\n",
    "clst.fit(sim_mat)"
   ]
  },
  {
   "cell_type": "code",
   "execution_count": 21,
   "metadata": {},
   "outputs": [
    {
     "data": {
      "application/javascript": [
       "\n",
       "            setTimeout(function() {\n",
       "                var nbb_cell_id = 21;\n",
       "                var nbb_unformatted_code = \"cluster_df = zillow.copy()\\ncluster_df[\\\"label\\\"] = clst.labels_\\ncluster_df[\\\"label\\\"] = \\\"Cluster \\\" + cluster_df[\\\"label\\\"].astype(str)\";\n",
       "                var nbb_formatted_code = \"cluster_df = zillow.copy()\\ncluster_df[\\\"label\\\"] = clst.labels_\\ncluster_df[\\\"label\\\"] = \\\"Cluster \\\" + cluster_df[\\\"label\\\"].astype(str)\";\n",
       "                var nbb_cells = Jupyter.notebook.get_cells();\n",
       "                for (var i = 0; i < nbb_cells.length; ++i) {\n",
       "                    if (nbb_cells[i].input_prompt_number == nbb_cell_id) {\n",
       "                        if (nbb_cells[i].get_text() == nbb_unformatted_code) {\n",
       "                             nbb_cells[i].set_text(nbb_formatted_code);\n",
       "                        }\n",
       "                        break;\n",
       "                    }\n",
       "                }\n",
       "            }, 500);\n",
       "            "
      ],
      "text/plain": [
       "<IPython.core.display.Javascript object>"
      ]
     },
     "metadata": {},
     "output_type": "display_data"
    }
   ],
   "source": [
    "cluster_df = zillow.copy()\n",
    "cluster_df[\"label\"] = clst.labels_\n",
    "cluster_df[\"label\"] = \"Cluster \" + cluster_df[\"label\"].astype(str)"
   ]
  },
  {
   "cell_type": "code",
   "execution_count": 8,
   "metadata": {},
   "outputs": [
    {
     "data": {
      "application/javascript": [
       "\n",
       "            setTimeout(function() {\n",
       "                var nbb_cell_id = 8;\n",
       "                var nbb_unformatted_code = \"cluster_sizes = cluster_df[\\\"label\\\"].value_counts().reset_index()\\ncluster_sizes.columns = [\\\"label\\\", \\\"count\\\"]\";\n",
       "                var nbb_formatted_code = \"cluster_sizes = cluster_df[\\\"label\\\"].value_counts().reset_index()\\ncluster_sizes.columns = [\\\"label\\\", \\\"count\\\"]\";\n",
       "                var nbb_cells = Jupyter.notebook.get_cells();\n",
       "                for (var i = 0; i < nbb_cells.length; ++i) {\n",
       "                    if (nbb_cells[i].input_prompt_number == nbb_cell_id) {\n",
       "                        if (nbb_cells[i].get_text() == nbb_unformatted_code) {\n",
       "                             nbb_cells[i].set_text(nbb_formatted_code);\n",
       "                        }\n",
       "                        break;\n",
       "                    }\n",
       "                }\n",
       "            }, 500);\n",
       "            "
      ],
      "text/plain": [
       "<IPython.core.display.Javascript object>"
      ]
     },
     "metadata": {},
     "output_type": "display_data"
    }
   ],
   "source": [
    "cluster_sizes = cluster_df[\"label\"].value_counts().reset_index()\n",
    "cluster_sizes.columns = [\"label\", \"count\"]"
   ]
  },
  {
   "cell_type": "code",
   "execution_count": 19,
   "metadata": {
    "scrolled": true
   },
   "outputs": [
    {
     "data": {
      "text/html": [
       "<style  type=\"text/css\" >\n",
       "    #T_141e3106_9141_11ea_afa6_a683e7ada4efrow0_col0 {\n",
       "            background-color:  #023858;\n",
       "            color:  #f1f1f1;\n",
       "        }    #T_141e3106_9141_11ea_afa6_a683e7ada4efrow0_col1 {\n",
       "            background-color:  #023858;\n",
       "            color:  #f1f1f1;\n",
       "        }    #T_141e3106_9141_11ea_afa6_a683e7ada4efrow0_col2 {\n",
       "            background-color:  #023858;\n",
       "            color:  #f1f1f1;\n",
       "        }    #T_141e3106_9141_11ea_afa6_a683e7ada4efrow0_col3 {\n",
       "            background-color:  #023858;\n",
       "            color:  #f1f1f1;\n",
       "        }    #T_141e3106_9141_11ea_afa6_a683e7ada4efrow0_col4 {\n",
       "            background-color:  #023858;\n",
       "            color:  #f1f1f1;\n",
       "        }    #T_141e3106_9141_11ea_afa6_a683e7ada4efrow0_col6 {\n",
       "            background-color:  #fff7fb;\n",
       "            color:  #000000;\n",
       "        }    #T_141e3106_9141_11ea_afa6_a683e7ada4efrow1_col0 {\n",
       "            background-color:  #2d8abd;\n",
       "            color:  #000000;\n",
       "        }    #T_141e3106_9141_11ea_afa6_a683e7ada4efrow1_col1 {\n",
       "            background-color:  #f6eff7;\n",
       "            color:  #000000;\n",
       "        }    #T_141e3106_9141_11ea_afa6_a683e7ada4efrow1_col2 {\n",
       "            background-color:  #045280;\n",
       "            color:  #f1f1f1;\n",
       "        }    #T_141e3106_9141_11ea_afa6_a683e7ada4efrow1_col3 {\n",
       "            background-color:  #fff7fb;\n",
       "            color:  #000000;\n",
       "        }    #T_141e3106_9141_11ea_afa6_a683e7ada4efrow1_col4 {\n",
       "            background-color:  #fff7fb;\n",
       "            color:  #000000;\n",
       "        }    #T_141e3106_9141_11ea_afa6_a683e7ada4efrow1_col6 {\n",
       "            background-color:  #f7f0f7;\n",
       "            color:  #000000;\n",
       "        }    #T_141e3106_9141_11ea_afa6_a683e7ada4efrow2_col0 {\n",
       "            background-color:  #dddbec;\n",
       "            color:  #000000;\n",
       "        }    #T_141e3106_9141_11ea_afa6_a683e7ada4efrow2_col1 {\n",
       "            background-color:  #d3d4e7;\n",
       "            color:  #000000;\n",
       "        }    #T_141e3106_9141_11ea_afa6_a683e7ada4efrow2_col2 {\n",
       "            background-color:  #dddbec;\n",
       "            color:  #000000;\n",
       "        }    #T_141e3106_9141_11ea_afa6_a683e7ada4efrow2_col3 {\n",
       "            background-color:  #023858;\n",
       "            color:  #f1f1f1;\n",
       "        }    #T_141e3106_9141_11ea_afa6_a683e7ada4efrow2_col4 {\n",
       "            background-color:  #2685bb;\n",
       "            color:  #000000;\n",
       "        }    #T_141e3106_9141_11ea_afa6_a683e7ada4efrow2_col6 {\n",
       "            background-color:  #b9c6e0;\n",
       "            color:  #000000;\n",
       "        }    #T_141e3106_9141_11ea_afa6_a683e7ada4efrow3_col0 {\n",
       "            background-color:  #fff7fb;\n",
       "            color:  #000000;\n",
       "        }    #T_141e3106_9141_11ea_afa6_a683e7ada4efrow3_col1 {\n",
       "            background-color:  #fff7fb;\n",
       "            color:  #000000;\n",
       "        }    #T_141e3106_9141_11ea_afa6_a683e7ada4efrow3_col2 {\n",
       "            background-color:  #fff7fb;\n",
       "            color:  #000000;\n",
       "        }    #T_141e3106_9141_11ea_afa6_a683e7ada4efrow3_col3 {\n",
       "            background-color:  #023858;\n",
       "            color:  #f1f1f1;\n",
       "        }    #T_141e3106_9141_11ea_afa6_a683e7ada4efrow3_col4 {\n",
       "            background-color:  #fff7fb;\n",
       "            color:  #000000;\n",
       "        }    #T_141e3106_9141_11ea_afa6_a683e7ada4efrow3_col6 {\n",
       "            background-color:  #023858;\n",
       "            color:  #f1f1f1;\n",
       "        }    #T_141e3106_9141_11ea_afa6_a683e7ada4efrow4_col0 {\n",
       "            background-color:  #8bb2d4;\n",
       "            color:  #000000;\n",
       "        }    #T_141e3106_9141_11ea_afa6_a683e7ada4efrow4_col1 {\n",
       "            background-color:  #e6e2ef;\n",
       "            color:  #000000;\n",
       "        }    #T_141e3106_9141_11ea_afa6_a683e7ada4efrow4_col2 {\n",
       "            background-color:  #03517e;\n",
       "            color:  #f1f1f1;\n",
       "        }    #T_141e3106_9141_11ea_afa6_a683e7ada4efrow4_col3 {\n",
       "            background-color:  #fff7fb;\n",
       "            color:  #000000;\n",
       "        }    #T_141e3106_9141_11ea_afa6_a683e7ada4efrow4_col4 {\n",
       "            background-color:  #023858;\n",
       "            color:  #f1f1f1;\n",
       "        }    #T_141e3106_9141_11ea_afa6_a683e7ada4efrow4_col6 {\n",
       "            background-color:  #f8f1f8;\n",
       "            color:  #000000;\n",
       "        }</style><table id=\"T_141e3106_9141_11ea_afa6_a683e7ada4ef\" ><thead>    <tr>        <th class=\"blank level0\" ></th>        <th class=\"col_heading level0 col0\" >taxamount</th>        <th class=\"col_heading level0 col1\" >garagetotalsqft</th>        <th class=\"col_heading level0 col2\" >lotsizesquarefeet</th>        <th class=\"col_heading level0 col3\" >numberofstories</th>        <th class=\"col_heading level0 col4\" >roomcnt</th>        <th class=\"col_heading level0 col5\" >label</th>        <th class=\"col_heading level0 col6\" >count</th>    </tr></thead><tbody>\n",
       "                <tr>\n",
       "                        <th id=\"T_141e3106_9141_11ea_afa6_a683e7ada4eflevel0_row0\" class=\"row_heading level0 row0\" >16</th>\n",
       "                        <td id=\"T_141e3106_9141_11ea_afa6_a683e7ada4efrow0_col0\" class=\"data row0 col0\" >34143.8</td>\n",
       "                        <td id=\"T_141e3106_9141_11ea_afa6_a683e7ada4efrow0_col1\" class=\"data row0 col1\" >1269</td>\n",
       "                        <td id=\"T_141e3106_9141_11ea_afa6_a683e7ada4efrow0_col2\" class=\"data row0 col2\" >95242</td>\n",
       "                        <td id=\"T_141e3106_9141_11ea_afa6_a683e7ada4efrow0_col3\" class=\"data row0 col3\" >2</td>\n",
       "                        <td id=\"T_141e3106_9141_11ea_afa6_a683e7ada4efrow0_col4\" class=\"data row0 col4\" >11</td>\n",
       "                        <td id=\"T_141e3106_9141_11ea_afa6_a683e7ada4efrow0_col5\" class=\"data row0 col5\" >Cluster 16</td>\n",
       "                        <td id=\"T_141e3106_9141_11ea_afa6_a683e7ada4efrow0_col6\" class=\"data row0 col6\" >218</td>\n",
       "            </tr>\n",
       "            <tr>\n",
       "                        <th id=\"T_141e3106_9141_11ea_afa6_a683e7ada4eflevel0_row1\" class=\"row_heading level0 row1\" >20</th>\n",
       "                        <td id=\"T_141e3106_9141_11ea_afa6_a683e7ada4efrow1_col0\" class=\"data row1 col0\" >24461.6</td>\n",
       "                        <td id=\"T_141e3106_9141_11ea_afa6_a683e7ada4efrow1_col1\" class=\"data row1 col1\" >604</td>\n",
       "                        <td id=\"T_141e3106_9141_11ea_afa6_a683e7ada4efrow1_col2\" class=\"data row1 col2\" >87377</td>\n",
       "                        <td id=\"T_141e3106_9141_11ea_afa6_a683e7ada4efrow1_col3\" class=\"data row1 col3\" >1</td>\n",
       "                        <td id=\"T_141e3106_9141_11ea_afa6_a683e7ada4efrow1_col4\" class=\"data row1 col4\" >8</td>\n",
       "                        <td id=\"T_141e3106_9141_11ea_afa6_a683e7ada4efrow1_col5\" class=\"data row1 col5\" >Cluster 20</td>\n",
       "                        <td id=\"T_141e3106_9141_11ea_afa6_a683e7ada4efrow1_col6\" class=\"data row1 col6\" >672</td>\n",
       "            </tr>\n",
       "            <tr>\n",
       "                        <th id=\"T_141e3106_9141_11ea_afa6_a683e7ada4eflevel0_row2\" class=\"row_heading level0 row2\" >29</th>\n",
       "                        <td id=\"T_141e3106_9141_11ea_afa6_a683e7ada4efrow2_col0\" class=\"data row2 col0\" >12028.5</td>\n",
       "                        <td id=\"T_141e3106_9141_11ea_afa6_a683e7ada4efrow2_col1\" class=\"data row2 col1\" >730</td>\n",
       "                        <td id=\"T_141e3106_9141_11ea_afa6_a683e7ada4efrow2_col2\" class=\"data row2 col2\" >28448</td>\n",
       "                        <td id=\"T_141e3106_9141_11ea_afa6_a683e7ada4efrow2_col3\" class=\"data row2 col3\" >2</td>\n",
       "                        <td id=\"T_141e3106_9141_11ea_afa6_a683e7ada4efrow2_col4\" class=\"data row2 col4\" >10</td>\n",
       "                        <td id=\"T_141e3106_9141_11ea_afa6_a683e7ada4efrow2_col5\" class=\"data row2 col5\" >Cluster 29</td>\n",
       "                        <td id=\"T_141e3106_9141_11ea_afa6_a683e7ada4efrow2_col6\" class=\"data row2 col6\" >2704</td>\n",
       "            </tr>\n",
       "            <tr>\n",
       "                        <th id=\"T_141e3106_9141_11ea_afa6_a683e7ada4eflevel0_row3\" class=\"row_heading level0 row3\" >36</th>\n",
       "                        <td id=\"T_141e3106_9141_11ea_afa6_a683e7ada4efrow3_col0\" class=\"data row3 col0\" >6704.42</td>\n",
       "                        <td id=\"T_141e3106_9141_11ea_afa6_a683e7ada4efrow3_col1\" class=\"data row3 col1\" >562</td>\n",
       "                        <td id=\"T_141e3106_9141_11ea_afa6_a683e7ada4efrow3_col2\" class=\"data row3 col2\" >12403</td>\n",
       "                        <td id=\"T_141e3106_9141_11ea_afa6_a683e7ada4efrow3_col3\" class=\"data row3 col3\" >2</td>\n",
       "                        <td id=\"T_141e3106_9141_11ea_afa6_a683e7ada4efrow3_col4\" class=\"data row3 col4\" >8</td>\n",
       "                        <td id=\"T_141e3106_9141_11ea_afa6_a683e7ada4efrow3_col5\" class=\"data row3 col5\" >Cluster 36</td>\n",
       "                        <td id=\"T_141e3106_9141_11ea_afa6_a683e7ada4efrow3_col6\" class=\"data row3 col6\" >7994</td>\n",
       "            </tr>\n",
       "            <tr>\n",
       "                        <th id=\"T_141e3106_9141_11ea_afa6_a683e7ada4eflevel0_row4\" class=\"row_heading level0 row4\" >8</th>\n",
       "                        <td id=\"T_141e3106_9141_11ea_afa6_a683e7ada4efrow4_col0\" class=\"data row4 col0\" >18849.7</td>\n",
       "                        <td id=\"T_141e3106_9141_11ea_afa6_a683e7ada4efrow4_col1\" class=\"data row4 col1\" >671</td>\n",
       "                        <td id=\"T_141e3106_9141_11ea_afa6_a683e7ada4efrow4_col2\" class=\"data row4 col2\" >87556</td>\n",
       "                        <td id=\"T_141e3106_9141_11ea_afa6_a683e7ada4efrow4_col3\" class=\"data row4 col3\" >1</td>\n",
       "                        <td id=\"T_141e3106_9141_11ea_afa6_a683e7ada4efrow4_col4\" class=\"data row4 col4\" >11</td>\n",
       "                        <td id=\"T_141e3106_9141_11ea_afa6_a683e7ada4efrow4_col5\" class=\"data row4 col5\" >Cluster 8</td>\n",
       "                        <td id=\"T_141e3106_9141_11ea_afa6_a683e7ada4efrow4_col6\" class=\"data row4 col6\" >570</td>\n",
       "            </tr>\n",
       "    </tbody></table>"
      ],
      "text/plain": [
       "<pandas.io.formats.style.Styler at 0x12da3cbd0>"
      ]
     },
     "execution_count": 19,
     "metadata": {},
     "output_type": "execute_result"
    },
    {
     "data": {
      "application/javascript": [
       "\n",
       "            setTimeout(function() {\n",
       "                var nbb_cell_id = 19;\n",
       "                var nbb_unformatted_code = \"exemplar_idxs = clst.cluster_centers_indices_\\nexemplars = cluster_df.iloc[exemplar_idxs, :]\\n\\nexemplars = pd.merge(exemplars, cluster_sizes, on=\\\"label\\\")\\n\\n# Threshold to be displayed\\nthresh = 100\\ndisplay_exemplars = exemplars[exemplars[\\\"count\\\"] >= thresh]\\n\\nlarge_cluster_labels = display_exemplars[\\\"label\\\"]\\n\\ndisplay_exemplars.sort_values(\\\"label\\\").style.background_gradient()\";\n",
       "                var nbb_formatted_code = \"exemplar_idxs = clst.cluster_centers_indices_\\nexemplars = cluster_df.iloc[exemplar_idxs, :]\\n\\nexemplars = pd.merge(exemplars, cluster_sizes, on=\\\"label\\\")\\n\\n# Threshold to be displayed\\nthresh = 100\\ndisplay_exemplars = exemplars[exemplars[\\\"count\\\"] >= thresh]\\n\\nlarge_cluster_labels = display_exemplars[\\\"label\\\"]\\n\\ndisplay_exemplars.sort_values(\\\"label\\\").style.background_gradient()\";\n",
       "                var nbb_cells = Jupyter.notebook.get_cells();\n",
       "                for (var i = 0; i < nbb_cells.length; ++i) {\n",
       "                    if (nbb_cells[i].input_prompt_number == nbb_cell_id) {\n",
       "                        if (nbb_cells[i].get_text() == nbb_unformatted_code) {\n",
       "                             nbb_cells[i].set_text(nbb_formatted_code);\n",
       "                        }\n",
       "                        break;\n",
       "                    }\n",
       "                }\n",
       "            }, 500);\n",
       "            "
      ],
      "text/plain": [
       "<IPython.core.display.Javascript object>"
      ]
     },
     "metadata": {},
     "output_type": "display_data"
    }
   ],
   "source": [
    "exemplar_idxs = clst.cluster_centers_indices_\n",
    "exemplars = cluster_df.iloc[exemplar_idxs, :]\n",
    "\n",
    "exemplars = pd.merge(exemplars, cluster_sizes, on=\"label\")\n",
    "\n",
    "# Threshold to be displayed\n",
    "thresh = 100\n",
    "display_exemplars = exemplars[exemplars[\"count\"] >= thresh]\n",
    "\n",
    "large_cluster_labels = display_exemplars[\"label\"]\n",
    "\n",
    "display_exemplars.sort_values(\"label\").style.background_gradient()"
   ]
  },
  {
   "cell_type": "code",
   "execution_count": 20,
   "metadata": {},
   "outputs": [
    {
     "data": {
      "text/html": [
       "<style  type=\"text/css\" >\n",
       "    #T_14e7c20a_9141_11ea_afa6_a683e7ada4efrow0_col0 {\n",
       "            background-color:  #023858;\n",
       "            color:  #f1f1f1;\n",
       "        }    #T_14e7c20a_9141_11ea_afa6_a683e7ada4efrow0_col1 {\n",
       "            background-color:  #023858;\n",
       "            color:  #f1f1f1;\n",
       "        }    #T_14e7c20a_9141_11ea_afa6_a683e7ada4efrow0_col2 {\n",
       "            background-color:  #023858;\n",
       "            color:  #f1f1f1;\n",
       "        }    #T_14e7c20a_9141_11ea_afa6_a683e7ada4efrow0_col3 {\n",
       "            background-color:  #034b76;\n",
       "            color:  #f1f1f1;\n",
       "        }    #T_14e7c20a_9141_11ea_afa6_a683e7ada4efrow0_col4 {\n",
       "            background-color:  #023858;\n",
       "            color:  #f1f1f1;\n",
       "        }    #T_14e7c20a_9141_11ea_afa6_a683e7ada4efrow1_col0 {\n",
       "            background-color:  #b3c3de;\n",
       "            color:  #000000;\n",
       "        }    #T_14e7c20a_9141_11ea_afa6_a683e7ada4efrow1_col1 {\n",
       "            background-color:  #d6d6e9;\n",
       "            color:  #000000;\n",
       "        }    #T_14e7c20a_9141_11ea_afa6_a683e7ada4efrow1_col2 {\n",
       "            background-color:  #4e9ac6;\n",
       "            color:  #000000;\n",
       "        }    #T_14e7c20a_9141_11ea_afa6_a683e7ada4efrow1_col3 {\n",
       "            background-color:  #fdf5fa;\n",
       "            color:  #000000;\n",
       "        }    #T_14e7c20a_9141_11ea_afa6_a683e7ada4efrow1_col4 {\n",
       "            background-color:  #fff7fb;\n",
       "            color:  #000000;\n",
       "        }    #T_14e7c20a_9141_11ea_afa6_a683e7ada4efrow2_col0 {\n",
       "            background-color:  #bfc9e1;\n",
       "            color:  #000000;\n",
       "        }    #T_14e7c20a_9141_11ea_afa6_a683e7ada4efrow2_col1 {\n",
       "            background-color:  #b1c2de;\n",
       "            color:  #000000;\n",
       "        }    #T_14e7c20a_9141_11ea_afa6_a683e7ada4efrow2_col2 {\n",
       "            background-color:  #d5d5e8;\n",
       "            color:  #000000;\n",
       "        }    #T_14e7c20a_9141_11ea_afa6_a683e7ada4efrow2_col3 {\n",
       "            background-color:  #023858;\n",
       "            color:  #f1f1f1;\n",
       "        }    #T_14e7c20a_9141_11ea_afa6_a683e7ada4efrow2_col4 {\n",
       "            background-color:  #167bb6;\n",
       "            color:  #000000;\n",
       "        }    #T_14e7c20a_9141_11ea_afa6_a683e7ada4efrow3_col0 {\n",
       "            background-color:  #fff7fb;\n",
       "            color:  #000000;\n",
       "        }    #T_14e7c20a_9141_11ea_afa6_a683e7ada4efrow3_col1 {\n",
       "            background-color:  #fff7fb;\n",
       "            color:  #000000;\n",
       "        }    #T_14e7c20a_9141_11ea_afa6_a683e7ada4efrow3_col2 {\n",
       "            background-color:  #fff7fb;\n",
       "            color:  #000000;\n",
       "        }    #T_14e7c20a_9141_11ea_afa6_a683e7ada4efrow3_col3 {\n",
       "            background-color:  #3f93c2;\n",
       "            color:  #000000;\n",
       "        }    #T_14e7c20a_9141_11ea_afa6_a683e7ada4efrow3_col4 {\n",
       "            background-color:  #f7f0f7;\n",
       "            color:  #000000;\n",
       "        }    #T_14e7c20a_9141_11ea_afa6_a683e7ada4efrow4_col0 {\n",
       "            background-color:  #c8cde4;\n",
       "            color:  #000000;\n",
       "        }    #T_14e7c20a_9141_11ea_afa6_a683e7ada4efrow4_col1 {\n",
       "            background-color:  #b0c2de;\n",
       "            color:  #000000;\n",
       "        }    #T_14e7c20a_9141_11ea_afa6_a683e7ada4efrow4_col2 {\n",
       "            background-color:  #69a5cc;\n",
       "            color:  #000000;\n",
       "        }    #T_14e7c20a_9141_11ea_afa6_a683e7ada4efrow4_col3 {\n",
       "            background-color:  #fff7fb;\n",
       "            color:  #000000;\n",
       "        }    #T_14e7c20a_9141_11ea_afa6_a683e7ada4efrow4_col4 {\n",
       "            background-color:  #3790c0;\n",
       "            color:  #000000;\n",
       "        }</style><table id=\"T_14e7c20a_9141_11ea_afa6_a683e7ada4ef\" ><thead>    <tr>        <th class=\"blank level0\" ></th>        <th class=\"col_heading level0 col0\" >taxamount</th>        <th class=\"col_heading level0 col1\" >garagetotalsqft</th>        <th class=\"col_heading level0 col2\" >lotsizesquarefeet</th>        <th class=\"col_heading level0 col3\" >numberofstories</th>        <th class=\"col_heading level0 col4\" >roomcnt</th>    </tr>    <tr>        <th class=\"index_name level0\" >label</th>        <th class=\"blank\" ></th>        <th class=\"blank\" ></th>        <th class=\"blank\" ></th>        <th class=\"blank\" ></th>        <th class=\"blank\" ></th>    </tr></thead><tbody>\n",
       "                <tr>\n",
       "                        <th id=\"T_14e7c20a_9141_11ea_afa6_a683e7ada4eflevel0_row0\" class=\"row_heading level0 row0\" >Cluster 16</th>\n",
       "                        <td id=\"T_14e7c20a_9141_11ea_afa6_a683e7ada4efrow0_col0\" class=\"data row0 col0\" >29520.6</td>\n",
       "                        <td id=\"T_14e7c20a_9141_11ea_afa6_a683e7ada4efrow0_col1\" class=\"data row0 col1\" >1143.89</td>\n",
       "                        <td id=\"T_14e7c20a_9141_11ea_afa6_a683e7ada4efrow0_col2\" class=\"data row0 col2\" >83048.7</td>\n",
       "                        <td id=\"T_14e7c20a_9141_11ea_afa6_a683e7ada4efrow0_col3\" class=\"data row0 col3\" >1.92661</td>\n",
       "                        <td id=\"T_14e7c20a_9141_11ea_afa6_a683e7ada4efrow0_col4\" class=\"data row0 col4\" >11.055</td>\n",
       "            </tr>\n",
       "            <tr>\n",
       "                        <th id=\"T_14e7c20a_9141_11ea_afa6_a683e7ada4eflevel0_row1\" class=\"row_heading level0 row1\" >Cluster 20</th>\n",
       "                        <td id=\"T_14e7c20a_9141_11ea_afa6_a683e7ada4efrow1_col0\" class=\"data row1 col0\" >13773.3</td>\n",
       "                        <td id=\"T_14e7c20a_9141_11ea_afa6_a683e7ada4efrow1_col1\" class=\"data row1 col1\" >668.388</td>\n",
       "                        <td id=\"T_14e7c20a_9141_11ea_afa6_a683e7ada4efrow1_col2\" class=\"data row1 col2\" >53410.8</td>\n",
       "                        <td id=\"T_14e7c20a_9141_11ea_afa6_a683e7ada4efrow1_col3\" class=\"data row1 col3\" >1.03571</td>\n",
       "                        <td id=\"T_14e7c20a_9141_11ea_afa6_a683e7ada4efrow1_col4\" class=\"data row1 col4\" >7.35119</td>\n",
       "            </tr>\n",
       "            <tr>\n",
       "                        <th id=\"T_14e7c20a_9141_11ea_afa6_a683e7ada4eflevel0_row2\" class=\"row_heading level0 row2\" >Cluster 29</th>\n",
       "                        <td id=\"T_14e7c20a_9141_11ea_afa6_a683e7ada4efrow2_col0\" class=\"data row2 col0\" >12940.9</td>\n",
       "                        <td id=\"T_14e7c20a_9141_11ea_afa6_a683e7ada4efrow2_col1\" class=\"data row2 col1\" >741.172</td>\n",
       "                        <td id=\"T_14e7c20a_9141_11ea_afa6_a683e7ada4efrow2_col2\" class=\"data row2 col2\" >29465.3</td>\n",
       "                        <td id=\"T_14e7c20a_9141_11ea_afa6_a683e7ada4efrow2_col3\" class=\"data row2 col3\" >1.99778</td>\n",
       "                        <td id=\"T_14e7c20a_9141_11ea_afa6_a683e7ada4efrow2_col4\" class=\"data row2 col4\" >9.95636</td>\n",
       "            </tr>\n",
       "            <tr>\n",
       "                        <th id=\"T_14e7c20a_9141_11ea_afa6_a683e7ada4eflevel0_row3\" class=\"row_heading level0 row3\" >Cluster 36</th>\n",
       "                        <td id=\"T_14e7c20a_9141_11ea_afa6_a683e7ada4efrow3_col0\" class=\"data row3 col0\" >5799.89</td>\n",
       "                        <td id=\"T_14e7c20a_9141_11ea_afa6_a683e7ada4efrow3_col1\" class=\"data row3 col1\" >531.932</td>\n",
       "                        <td id=\"T_14e7c20a_9141_11ea_afa6_a683e7ada4efrow3_col2\" class=\"data row3 col2\" >13435.6</td>\n",
       "                        <td id=\"T_14e7c20a_9141_11ea_afa6_a683e7ada4efrow3_col3\" class=\"data row3 col3\" >1.61659</td>\n",
       "                        <td id=\"T_14e7c20a_9141_11ea_afa6_a683e7ada4efrow3_col4\" class=\"data row3 col4\" >7.54228</td>\n",
       "            </tr>\n",
       "            <tr>\n",
       "                        <th id=\"T_14e7c20a_9141_11ea_afa6_a683e7ada4eflevel0_row4\" class=\"row_heading level0 row4\" >Cluster 8</th>\n",
       "                        <td id=\"T_14e7c20a_9141_11ea_afa6_a683e7ada4efrow4_col0\" class=\"data row4 col0\" >12330</td>\n",
       "                        <td id=\"T_14e7c20a_9141_11ea_afa6_a683e7ada4efrow4_col1\" class=\"data row4 col1\" >743.888</td>\n",
       "                        <td id=\"T_14e7c20a_9141_11ea_afa6_a683e7ada4efrow4_col2\" class=\"data row4 col2\" >49622.7</td>\n",
       "                        <td id=\"T_14e7c20a_9141_11ea_afa6_a683e7ada4efrow4_col3\" class=\"data row4 col3\" >1.02281</td>\n",
       "                        <td id=\"T_14e7c20a_9141_11ea_afa6_a683e7ada4efrow4_col4\" class=\"data row4 col4\" >9.66316</td>\n",
       "            </tr>\n",
       "    </tbody></table>"
      ],
      "text/plain": [
       "<pandas.io.formats.style.Styler at 0x12dabc350>"
      ]
     },
     "execution_count": 20,
     "metadata": {},
     "output_type": "execute_result"
    },
    {
     "data": {
      "application/javascript": [
       "\n",
       "            setTimeout(function() {\n",
       "                var nbb_cell_id = 20;\n",
       "                var nbb_unformatted_code = \"large_cluster_df = cluster_df[cluster_df[\\\"label\\\"].isin(large_cluster_labels)]\\nmean_cluster_df = large_cluster_df.groupby(\\\"label\\\").mean()\\nmean_cluster_df.sort_values(\\\"label\\\").style.background_gradient()\";\n",
       "                var nbb_formatted_code = \"large_cluster_df = cluster_df[cluster_df[\\\"label\\\"].isin(large_cluster_labels)]\\nmean_cluster_df = large_cluster_df.groupby(\\\"label\\\").mean()\\nmean_cluster_df.sort_values(\\\"label\\\").style.background_gradient()\";\n",
       "                var nbb_cells = Jupyter.notebook.get_cells();\n",
       "                for (var i = 0; i < nbb_cells.length; ++i) {\n",
       "                    if (nbb_cells[i].input_prompt_number == nbb_cell_id) {\n",
       "                        if (nbb_cells[i].get_text() == nbb_unformatted_code) {\n",
       "                             nbb_cells[i].set_text(nbb_formatted_code);\n",
       "                        }\n",
       "                        break;\n",
       "                    }\n",
       "                }\n",
       "            }, 500);\n",
       "            "
      ],
      "text/plain": [
       "<IPython.core.display.Javascript object>"
      ]
     },
     "metadata": {},
     "output_type": "display_data"
    }
   ],
   "source": [
    "large_cluster_df = cluster_df[cluster_df[\"label\"].isin(large_cluster_labels)]\n",
    "mean_cluster_df = large_cluster_df.groupby(\"label\").mean()\n",
    "mean_cluster_df.sort_values(\"label\").style.background_gradient()"
   ]
  },
  {
   "cell_type": "code",
   "execution_count": 11,
   "metadata": {},
   "outputs": [
    {
     "data": {
      "text/plain": [
       "taxamount            6.906484\n",
       "garagetotalsqft      5.916120\n",
       "lotsizesquarefeet    7.957650\n",
       "numberofstories      0.944576\n",
       "roomcnt              1.972318\n",
       "dtype: float64"
      ]
     },
     "execution_count": 11,
     "metadata": {},
     "output_type": "execute_result"
    },
    {
     "data": {
      "application/javascript": [
       "\n",
       "            setTimeout(function() {\n",
       "                var nbb_cell_id = 11;\n",
       "                var nbb_unformatted_code = \"scaled_exemplars = pd.DataFrame(scaled[exemplar_idxs, :], columns=zillow.columns)\\nscaled_exemplars.std()\";\n",
       "                var nbb_formatted_code = \"scaled_exemplars = pd.DataFrame(scaled[exemplar_idxs, :], columns=zillow.columns)\\nscaled_exemplars.std()\";\n",
       "                var nbb_cells = Jupyter.notebook.get_cells();\n",
       "                for (var i = 0; i < nbb_cells.length; ++i) {\n",
       "                    if (nbb_cells[i].input_prompt_number == nbb_cell_id) {\n",
       "                        if (nbb_cells[i].get_text() == nbb_unformatted_code) {\n",
       "                             nbb_cells[i].set_text(nbb_formatted_code);\n",
       "                        }\n",
       "                        break;\n",
       "                    }\n",
       "                }\n",
       "            }, 500);\n",
       "            "
      ],
      "text/plain": [
       "<IPython.core.display.Javascript object>"
      ]
     },
     "metadata": {},
     "output_type": "display_data"
    }
   ],
   "source": [
    "scaled_exemplars = pd.DataFrame(scaled[exemplar_idxs, :], columns=zillow.columns)\n",
    "scaled_exemplars.std()"
   ]
  },
  {
   "cell_type": "code",
   "execution_count": 55,
   "metadata": {},
   "outputs": [
    {
     "data": {
      "image/png": "[encoded data removed]",
      "text/plain": [
       "<Figure size 432x288 with 1 Axes>"
      ]
     },
     "metadata": {
      "needs_background": "light"
     },
     "output_type": "display_data"
    },
    {
     "data": {
      "image/png": "[encoded data removed]",
      "text/plain": [
       "<Figure size 432x288 with 1 Axes>"
      ]
     },
     "metadata": {
      "needs_background": "light"
     },
     "output_type": "display_data"
    },
    {
     "data": {
      "image/png": "[encoded data removed]",
      "text/plain": [
       "<Figure size 432x288 with 1 Axes>"
      ]
     },
     "metadata": {
      "needs_background": "light"
     },
     "output_type": "display_data"
    },
    {
     "data": {
      "image/png": "[encoded data removed]",
      "text/plain": [
       "<Figure size 432x288 with 1 Axes>"
      ]
     },
     "metadata": {
      "needs_background": "light"
     },
     "output_type": "display_data"
    },
    {
     "data": {
      "image/png": "[encoded data removed]",
      "text/plain": [
       "<Figure size 432x288 with 1 Axes>"
      ]
     },
     "metadata": {
      "needs_background": "light"
     },
     "output_type": "display_data"
    },
    {
     "data": {
      "application/javascript": [
       "\n",
       "            setTimeout(function() {\n",
       "                var nbb_cell_id = 55;\n",
       "                var nbb_unformatted_code = \"# Distplot per feature\\n# Colored by label\\nplot_columns = {\\n    \\\"taxamount\\\": \\\"Tax Amount\\\",\\n    \\\"garagetotalsqft\\\": \\\"Garage Sq Ft\\\",\\n    \\\"lotsizesquarefeet\\\": \\\"Lot Sq Ft\\\",\\n    \\\"numberofstories\\\": \\\"Number of Stories\\\",\\n    \\\"roomcnt\\\": \\\"Number of Rooms\\\",\\n}\\nlabels = {\\n    \\\"Cluster 36\\\": \\\"Typical\\\",\\n    \\\"Cluster 8\\\": \\\"1 Story More Rooms\\\",\\n    \\\"Cluster 20\\\": \\\"1 Story Less Rooms\\\",\\n    \\\"Cluster 29\\\": \\\"Above Avg Interior\\\",\\n    \\\"Cluster 16\\\": \\\"Big Time\\\",\\n}\\n\\nplot_cluster_df = large_cluster_df.copy()\\nplot_cluster_df[\\\"label\\\"] = plot_cluster_df[\\\"label\\\"].replace(labels)\\n\\nfor c in plot_columns.keys():\\n    plot_df = plot_cluster_df[[\\\"label\\\", c]]\\n    plot_df = plot_df.sort_values(\\\"label\\\")\\n    sns.violinplot(c, \\\"label\\\", data=plot_df)\\n    plt.ylabel(\\\"\\\")\\n    plt.xlabel(plot_columns[c])\\n    plt.show()\";\n",
       "                var nbb_formatted_code = \"# Distplot per feature\\n# Colored by label\\nplot_columns = {\\n    \\\"taxamount\\\": \\\"Tax Amount\\\",\\n    \\\"garagetotalsqft\\\": \\\"Garage Sq Ft\\\",\\n    \\\"lotsizesquarefeet\\\": \\\"Lot Sq Ft\\\",\\n    \\\"numberofstories\\\": \\\"Number of Stories\\\",\\n    \\\"roomcnt\\\": \\\"Number of Rooms\\\",\\n}\\nlabels = {\\n    \\\"Cluster 36\\\": \\\"Typical\\\",\\n    \\\"Cluster 8\\\": \\\"1 Story More Rooms\\\",\\n    \\\"Cluster 20\\\": \\\"1 Story Less Rooms\\\",\\n    \\\"Cluster 29\\\": \\\"Above Avg Interior\\\",\\n    \\\"Cluster 16\\\": \\\"Big Time\\\",\\n}\\n\\nplot_cluster_df = large_cluster_df.copy()\\nplot_cluster_df[\\\"label\\\"] = plot_cluster_df[\\\"label\\\"].replace(labels)\\n\\nfor c in plot_columns.keys():\\n    plot_df = plot_cluster_df[[\\\"label\\\", c]]\\n    plot_df = plot_df.sort_values(\\\"label\\\")\\n    sns.violinplot(c, \\\"label\\\", data=plot_df)\\n    plt.ylabel(\\\"\\\")\\n    plt.xlabel(plot_columns[c])\\n    plt.show()\";\n",
       "                var nbb_cells = Jupyter.notebook.get_cells();\n",
       "                for (var i = 0; i < nbb_cells.length; ++i) {\n",
       "                    if (nbb_cells[i].input_prompt_number == nbb_cell_id) {\n",
       "                        if (nbb_cells[i].get_text() == nbb_unformatted_code) {\n",
       "                             nbb_cells[i].set_text(nbb_formatted_code);\n",
       "                        }\n",
       "                        break;\n",
       "                    }\n",
       "                }\n",
       "            }, 500);\n",
       "            "
      ],
      "text/plain": [
       "<IPython.core.display.Javascript object>"
      ]
     },
     "metadata": {},
     "output_type": "display_data"
    },
    {
     "data": {
      "application/javascript": [
       "\n",
       "            setTimeout(function() {\n",
       "                var nbb_cell_id = 55;\n",
       "                var nbb_unformatted_code = \"# Distplot per feature\\n# Colored by label\\nplot_columns = {\\n    \\\"taxamount\\\": \\\"Tax Amount\\\",\\n    \\\"garagetotalsqft\\\": \\\"Garage Sq Ft\\\",\\n    \\\"lotsizesquarefeet\\\": \\\"Lot Sq Ft\\\",\\n    \\\"numberofstories\\\": \\\"Number of Stories\\\",\\n    \\\"roomcnt\\\": \\\"Number of Rooms\\\",\\n}\\nlabels = {\\n    \\\"Cluster 36\\\": \\\"Typical\\\",\\n    \\\"Cluster 8\\\": \\\"1 Story More Rooms\\\",\\n    \\\"Cluster 20\\\": \\\"1 Story Less Rooms\\\",\\n    \\\"Cluster 29\\\": \\\"Above Avg Interior\\\",\\n    \\\"Cluster 16\\\": \\\"Big Time\\\",\\n}\\n\\nplot_cluster_df = large_cluster_df.copy()\\nplot_cluster_df[\\\"label\\\"] = plot_cluster_df[\\\"label\\\"].replace(labels)\\n\\nfor c in plot_columns.keys():\\n    plot_df = plot_cluster_df[[\\\"label\\\", c]]\\n    plot_df = plot_df.sort_values(\\\"label\\\")\\n    sns.violinplot(c, \\\"label\\\", data=plot_df)\\n    plt.ylabel(\\\"\\\")\\n    plt.xlabel(plot_columns[c])\\n    plt.show()\";\n",
       "                var nbb_formatted_code = \"# Distplot per feature\\n# Colored by label\\nplot_columns = {\\n    \\\"taxamount\\\": \\\"Tax Amount\\\",\\n    \\\"garagetotalsqft\\\": \\\"Garage Sq Ft\\\",\\n    \\\"lotsizesquarefeet\\\": \\\"Lot Sq Ft\\\",\\n    \\\"numberofstories\\\": \\\"Number of Stories\\\",\\n    \\\"roomcnt\\\": \\\"Number of Rooms\\\",\\n}\\nlabels = {\\n    \\\"Cluster 36\\\": \\\"Typical\\\",\\n    \\\"Cluster 8\\\": \\\"1 Story More Rooms\\\",\\n    \\\"Cluster 20\\\": \\\"1 Story Less Rooms\\\",\\n    \\\"Cluster 29\\\": \\\"Above Avg Interior\\\",\\n    \\\"Cluster 16\\\": \\\"Big Time\\\",\\n}\\n\\nplot_cluster_df = large_cluster_df.copy()\\nplot_cluster_df[\\\"label\\\"] = plot_cluster_df[\\\"label\\\"].replace(labels)\\n\\nfor c in plot_columns.keys():\\n    plot_df = plot_cluster_df[[\\\"label\\\", c]]\\n    plot_df = plot_df.sort_values(\\\"label\\\")\\n    sns.violinplot(c, \\\"label\\\", data=plot_df)\\n    plt.ylabel(\\\"\\\")\\n    plt.xlabel(plot_columns[c])\\n    plt.show()\";\n",
       "                var nbb_cells = Jupyter.notebook.get_cells();\n",
       "                for (var i = 0; i < nbb_cells.length; ++i) {\n",
       "                    if (nbb_cells[i].input_prompt_number == nbb_cell_id) {\n",
       "                        if (nbb_cells[i].get_text() == nbb_unformatted_code) {\n",
       "                             nbb_cells[i].set_text(nbb_formatted_code);\n",
       "                        }\n",
       "                        break;\n",
       "                    }\n",
       "                }\n",
       "            }, 500);\n",
       "            "
      ],
      "text/plain": [
       "<IPython.core.display.Javascript object>"
      ]
     },
     "metadata": {},
     "output_type": "display_data"
    }
   ],
   "source": [
    "# Distplot per feature\n",
    "# Colored by label\n",
    "plot_columns = {\n",
    "    \"taxamount\": \"Tax Amount\",\n",
    "    \"garagetotalsqft\": \"Garage Sq Ft\",\n",
    "    \"lotsizesquarefeet\": \"Lot Sq Ft\",\n",
    "    \"numberofstories\": \"Number of Stories\",\n",
    "    \"roomcnt\": \"Number of Rooms\",\n",
    "}\n",
    "labels = {\n",
    "    \"Cluster 36\": \"Typical\",\n",
    "    \"Cluster 8\": \"1 Story More Rooms\",\n",
    "    \"Cluster 20\": \"1 Story Less Rooms\",\n",
    "    \"Cluster 29\": \"Above Avg Interior\",\n",
    "    \"Cluster 16\": \"Big Time\",\n",
    "}\n",
    "\n",
    "plot_cluster_df = large_cluster_df.copy()\n",
    "plot_cluster_df[\"label\"] = plot_cluster_df[\"label\"].replace(labels)\n",
    "\n",
    "for c in plot_columns.keys():\n",
    "    plot_df = plot_cluster_df[[\"label\", c]]\n",
    "    plot_df = plot_df.sort_values(\"label\")\n",
    "    sns.violinplot(c, \"label\", data=plot_df)\n",
    "    plt.ylabel(\"\")\n",
    "    plt.xlabel(plot_columns[c])\n",
    "    plt.show()"
   ]
  },
  {
   "cell_type": "code",
   "execution_count": 44,
   "metadata": {
    "scrolled": false
   },
   "outputs": [
    {
     "data": {
      "image/png": "[encoded data removed]",
      "text/plain": [
       "<Figure size 432x288 with 1 Axes>"
      ]
     },
     "metadata": {
      "needs_background": "light"
     },
     "output_type": "display_data"
    },
    {
     "data": {
      "image/png": "[encoded data removed]",
      "text/plain": [
       "<Figure size 432x288 with 1 Axes>"
      ]
     },
     "metadata": {
      "needs_background": "light"
     },
     "output_type": "display_data"
    },
    {
     "data": {
      "image/png": "[encoded data removed]",
      "text/plain": [
       "<Figure size 432x288 with 1 Axes>"
      ]
     },
     "metadata": {
      "needs_background": "light"
     },
     "output_type": "display_data"
    },
    {
     "data": {
      "image/png": "[encoded data removed]",
      "text/plain": [
       "<Figure size 432x288 with 1 Axes>"
      ]
     },
     "metadata": {
      "needs_background": "light"
     },
     "output_type": "display_data"
    },
    {
     "data": {
      "image/png": "[encoded data removed]",
      "text/plain": [
       "<Figure size 432x288 with 1 Axes>"
      ]
     },
     "metadata": {
      "needs_background": "light"
     },
     "output_type": "display_data"
    },
    {
     "data": {
      "application/javascript": [
       "\n",
       "            setTimeout(function() {\n",
       "                var nbb_cell_id = 44;\n",
       "                var nbb_unformatted_code = \"# Distplot per feature\\n# Colored by label\\nplot_columns = {\\n    \\\"taxamount\\\": \\\"Tax Amount\\\",\\n    \\\"garagetotalsqft\\\": \\\"Garage Sq Ft\\\",\\n    \\\"lotsizesquarefeet\\\": \\\"Lot Sq Ft\\\",\\n    \\\"numberofstories\\\": \\\"Number of Stories\\\",\\n    \\\"roomcnt\\\": \\\"Number of Rooms\\\",\\n}\\nlabels = large_cluster_df[\\\"label\\\"].unique()\\n\\nfor c in plot_columns.keys():\\n    plot_df = large_cluster_df[[\\\"label\\\", c]]\\n    for label in labels:\\n        plot_data = large_cluster_df.loc[cluster_df[\\\"label\\\"] == label, c]\\n        plt.hist(plot_data, alpha=0.3, label=label)\\n\\n    plt.legend()\\n    plt.show()\";\n",
       "                var nbb_formatted_code = \"# Distplot per feature\\n# Colored by label\\nplot_columns = {\\n    \\\"taxamount\\\": \\\"Tax Amount\\\",\\n    \\\"garagetotalsqft\\\": \\\"Garage Sq Ft\\\",\\n    \\\"lotsizesquarefeet\\\": \\\"Lot Sq Ft\\\",\\n    \\\"numberofstories\\\": \\\"Number of Stories\\\",\\n    \\\"roomcnt\\\": \\\"Number of Rooms\\\",\\n}\\nlabels = large_cluster_df[\\\"label\\\"].unique()\\n\\nfor c in plot_columns.keys():\\n    plot_df = large_cluster_df[[\\\"label\\\", c]]\\n    for label in labels:\\n        plot_data = large_cluster_df.loc[cluster_df[\\\"label\\\"] == label, c]\\n        plt.hist(plot_data, alpha=0.3, label=label)\\n\\n    plt.legend()\\n    plt.show()\";\n",
       "                var nbb_cells = Jupyter.notebook.get_cells();\n",
       "                for (var i = 0; i < nbb_cells.length; ++i) {\n",
       "                    if (nbb_cells[i].input_prompt_number == nbb_cell_id) {\n",
       "                        if (nbb_cells[i].get_text() == nbb_unformatted_code) {\n",
       "                             nbb_cells[i].set_text(nbb_formatted_code);\n",
       "                        }\n",
       "                        break;\n",
       "                    }\n",
       "                }\n",
       "            }, 500);\n",
       "            "
      ],
      "text/plain": [
       "<IPython.core.display.Javascript object>"
      ]
     },
     "metadata": {},
     "output_type": "display_data"
    },
    {
     "data": {
      "application/javascript": [
       "\n",
       "            setTimeout(function() {\n",
       "                var nbb_cell_id = 44;\n",
       "                var nbb_unformatted_code = \"# Distplot per feature\\n# Colored by label\\nplot_columns = {\\n    \\\"taxamount\\\": \\\"Tax Amount\\\",\\n    \\\"garagetotalsqft\\\": \\\"Garage Sq Ft\\\",\\n    \\\"lotsizesquarefeet\\\": \\\"Lot Sq Ft\\\",\\n    \\\"numberofstories\\\": \\\"Number of Stories\\\",\\n    \\\"roomcnt\\\": \\\"Number of Rooms\\\",\\n}\\nlabels = large_cluster_df[\\\"label\\\"].unique()\\n\\nfor c in plot_columns.keys():\\n    plot_df = large_cluster_df[[\\\"label\\\", c]]\\n    for label in labels:\\n        plot_data = large_cluster_df.loc[cluster_df[\\\"label\\\"] == label, c]\\n        plt.hist(plot_data, alpha=0.3, label=label)\\n\\n    plt.legend()\\n    plt.show()\";\n",
       "                var nbb_formatted_code = \"# Distplot per feature\\n# Colored by label\\nplot_columns = {\\n    \\\"taxamount\\\": \\\"Tax Amount\\\",\\n    \\\"garagetotalsqft\\\": \\\"Garage Sq Ft\\\",\\n    \\\"lotsizesquarefeet\\\": \\\"Lot Sq Ft\\\",\\n    \\\"numberofstories\\\": \\\"Number of Stories\\\",\\n    \\\"roomcnt\\\": \\\"Number of Rooms\\\",\\n}\\nlabels = large_cluster_df[\\\"label\\\"].unique()\\n\\nfor c in plot_columns.keys():\\n    plot_df = large_cluster_df[[\\\"label\\\", c]]\\n    for label in labels:\\n        plot_data = large_cluster_df.loc[cluster_df[\\\"label\\\"] == label, c]\\n        plt.hist(plot_data, alpha=0.3, label=label)\\n\\n    plt.legend()\\n    plt.show()\";\n",
       "                var nbb_cells = Jupyter.notebook.get_cells();\n",
       "                for (var i = 0; i < nbb_cells.length; ++i) {\n",
       "                    if (nbb_cells[i].input_prompt_number == nbb_cell_id) {\n",
       "                        if (nbb_cells[i].get_text() == nbb_unformatted_code) {\n",
       "                             nbb_cells[i].set_text(nbb_formatted_code);\n",
       "                        }\n",
       "                        break;\n",
       "                    }\n",
       "                }\n",
       "            }, 500);\n",
       "            "
      ],
      "text/plain": [
       "<IPython.core.display.Javascript object>"
      ]
     },
     "metadata": {},
     "output_type": "display_data"
    }
   ],
   "source": [
    "# Distplot per feature\n",
    "# Colored by label\n",
    "plot_columns = {\n",
    "    \"taxamount\": \"Tax Amount\",\n",
    "    \"garagetotalsqft\": \"Garage Sq Ft\",\n",
    "    \"lotsizesquarefeet\": \"Lot Sq Ft\",\n",
    "    \"numberofstories\": \"Number of Stories\",\n",
    "    \"roomcnt\": \"Number of Rooms\",\n",
    "}\n",
    "labels = large_cluster_df[\"label\"].unique()\n",
    "\n",
    "for c in plot_columns.keys():\n",
    "    plot_df = large_cluster_df[[\"label\", c]]\n",
    "    for label in labels:\n",
    "        plot_data = large_cluster_df.loc[cluster_df[\"label\"] == label, c]\n",
    "        plt.hist(plot_data, alpha=0.3, label=label)\n",
    "\n",
    "    plt.legend()\n",
    "    plt.show()"
   ]
  }
 ],
 "metadata": {
  "kernelspec": {
   "display_name": "Python 3",
   "language": "python",
   "name": "python3"
  },
  "language_info": {
   "codemirror_mode": {
    "name": "ipython",
    "version": 3
   },
   "file_extension": ".py",
   "mimetype": "text/x-python",
   "name": "python",
   "nbconvert_exporter": "python",
   "pygments_lexer": "ipython3",
   "version": "3.7.7"
  }
 },
 "nbformat": 4,
 "nbformat_minor": 2
}
