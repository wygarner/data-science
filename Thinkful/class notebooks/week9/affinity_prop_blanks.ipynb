{
 "cells": [
  {
   "cell_type": "code",
   "execution_count": 1,
   "metadata": {},
   "outputs": [
    {
     "data": {
      "application/javascript": [
       "\n",
       "            setTimeout(function() {\n",
       "                var nbb_cell_id = 1;\n",
       "                var nbb_unformatted_code = \"%reload_ext nb_black\";\n",
       "                var nbb_formatted_code = \"%reload_ext nb_black\";\n",
       "                var nbb_cells = Jupyter.notebook.get_cells();\n",
       "                for (var i = 0; i < nbb_cells.length; ++i) {\n",
       "                    if (nbb_cells[i].input_prompt_number == nbb_cell_id) {\n",
       "                        if (nbb_cells[i].get_text() == nbb_unformatted_code) {\n",
       "                             nbb_cells[i].set_text(nbb_formatted_code);\n",
       "                        }\n",
       "                        break;\n",
       "                    }\n",
       "                }\n",
       "            }, 500);\n",
       "            "
      ],
      "text/plain": [
       "<IPython.core.display.Javascript object>"
      ]
     },
     "metadata": {},
     "output_type": "display_data"
    }
   ],
   "source": [
    "%reload_ext nb_black"
   ]
  },
  {
   "cell_type": "code",
   "execution_count": 2,
   "metadata": {},
   "outputs": [
    {
     "data": {
      "application/javascript": [
       "\n",
       "            setTimeout(function() {\n",
       "                var nbb_cell_id = 2;\n",
       "                var nbb_unformatted_code = \"import pandas as pd\\nimport numpy as np\\n\\nfrom scipy.spatial.distance import pdist, squareform\\n\\nfrom sklearn.preprocessing import StandardScaler\\nfrom sklearn.cluster import AffinityPropagation\\n\\nfrom tqdm.notebook import tqdm\\n\\nimport seaborn as sns\\nimport matplotlib.pyplot as plt\\n\\n%matplotlib inline\";\n",
       "                var nbb_formatted_code = \"import pandas as pd\\nimport numpy as np\\n\\nfrom scipy.spatial.distance import pdist, squareform\\n\\nfrom sklearn.preprocessing import StandardScaler\\nfrom sklearn.cluster import AffinityPropagation\\n\\nfrom tqdm.notebook import tqdm\\n\\nimport seaborn as sns\\nimport matplotlib.pyplot as plt\\n\\n%matplotlib inline\";\n",
       "                var nbb_cells = Jupyter.notebook.get_cells();\n",
       "                for (var i = 0; i < nbb_cells.length; ++i) {\n",
       "                    if (nbb_cells[i].input_prompt_number == nbb_cell_id) {\n",
       "                        if (nbb_cells[i].get_text() == nbb_unformatted_code) {\n",
       "                             nbb_cells[i].set_text(nbb_formatted_code);\n",
       "                        }\n",
       "                        break;\n",
       "                    }\n",
       "                }\n",
       "            }, 500);\n",
       "            "
      ],
      "text/plain": [
       "<IPython.core.display.Javascript object>"
      ]
     },
     "metadata": {},
     "output_type": "display_data"
    }
   ],
   "source": [
    "import pandas as pd\n",
    "import numpy as np\n",
    "\n",
    "from scipy.spatial.distance import pdist, squareform\n",
    "\n",
    "from sklearn.preprocessing import StandardScaler\n",
    "from sklearn.cluster import AffinityPropagation\n",
    "\n",
    "from tqdm.notebook import tqdm\n",
    "\n",
    "import seaborn as sns\n",
    "import matplotlib.pyplot as plt\n",
    "\n",
    "%matplotlib inline"
   ]
  },
  {
   "cell_type": "code",
   "execution_count": 3,
   "metadata": {},
   "outputs": [
    {
     "data": {
      "text/html": [
       "<div>\n",
       "<style scoped>\n",
       "    .dataframe tbody tr th:only-of-type {\n",
       "        vertical-align: middle;\n",
       "    }\n",
       "\n",
       "    .dataframe tbody tr th {\n",
       "        vertical-align: top;\n",
       "    }\n",
       "\n",
       "    .dataframe thead th {\n",
       "        text-align: right;\n",
       "    }\n",
       "</style>\n",
       "<table border=\"1\" class=\"dataframe\">\n",
       "  <thead>\n",
       "    <tr style=\"text-align: right;\">\n",
       "      <th></th>\n",
       "      <th>taxamount</th>\n",
       "      <th>garagetotalsqft</th>\n",
       "      <th>lotsizesquarefeet</th>\n",
       "      <th>numberofstories</th>\n",
       "      <th>poolcnt</th>\n",
       "      <th>roomcnt</th>\n",
       "      <th>latitude</th>\n",
       "      <th>longitude</th>\n",
       "    </tr>\n",
       "  </thead>\n",
       "  <tbody>\n",
       "    <tr>\n",
       "      <th>0</th>\n",
       "      <td>283062.46</td>\n",
       "      <td>4000.0</td>\n",
       "      <td>709157.0</td>\n",
       "      <td>2.0</td>\n",
       "      <td>1.0</td>\n",
       "      <td>21</td>\n",
       "      <td>34199400</td>\n",
       "      <td>-118824100</td>\n",
       "    </tr>\n",
       "    <tr>\n",
       "      <th>1</th>\n",
       "      <td>11525.74</td>\n",
       "      <td>484.0</td>\n",
       "      <td>55757.0</td>\n",
       "      <td>2.0</td>\n",
       "      <td>1.0</td>\n",
       "      <td>9</td>\n",
       "      <td>34241795</td>\n",
       "      <td>-118927823</td>\n",
       "    </tr>\n",
       "    <tr>\n",
       "      <th>2</th>\n",
       "      <td>24503.28</td>\n",
       "      <td>623.0</td>\n",
       "      <td>172063.0</td>\n",
       "      <td>2.0</td>\n",
       "      <td>1.0</td>\n",
       "      <td>10</td>\n",
       "      <td>34409445</td>\n",
       "      <td>-119292877</td>\n",
       "    </tr>\n",
       "    <tr>\n",
       "      <th>3</th>\n",
       "      <td>75722.34</td>\n",
       "      <td>2697.0</td>\n",
       "      <td>187308.0</td>\n",
       "      <td>3.0</td>\n",
       "      <td>1.0</td>\n",
       "      <td>19</td>\n",
       "      <td>34180610</td>\n",
       "      <td>-118808544</td>\n",
       "    </tr>\n",
       "    <tr>\n",
       "      <th>4</th>\n",
       "      <td>4427.28</td>\n",
       "      <td>452.0</td>\n",
       "      <td>10710.0</td>\n",
       "      <td>2.0</td>\n",
       "      <td>1.0</td>\n",
       "      <td>8</td>\n",
       "      <td>34172331</td>\n",
       "      <td>-118905951</td>\n",
       "    </tr>\n",
       "  </tbody>\n",
       "</table>\n",
       "</div>"
      ],
      "text/plain": [
       "   taxamount  garagetotalsqft  lotsizesquarefeet  numberofstories  poolcnt  \\\n",
       "0  283062.46           4000.0           709157.0              2.0      1.0   \n",
       "1   11525.74            484.0            55757.0              2.0      1.0   \n",
       "2   24503.28            623.0           172063.0              2.0      1.0   \n",
       "3   75722.34           2697.0           187308.0              3.0      1.0   \n",
       "4    4427.28            452.0            10710.0              2.0      1.0   \n",
       "\n",
       "   roomcnt  latitude  longitude  \n",
       "0       21  34199400 -118824100  \n",
       "1        9  34241795 -118927823  \n",
       "2       10  34409445 -119292877  \n",
       "3       19  34180610 -118808544  \n",
       "4        8  34172331 -118905951  "
      ]
     },
     "execution_count": 3,
     "metadata": {},
     "output_type": "execute_result"
    },
    {
     "data": {
      "application/javascript": [
       "\n",
       "            setTimeout(function() {\n",
       "                var nbb_cell_id = 3;\n",
       "                var nbb_unformatted_code = \"data_url = \\\"https://docs.google.com/spreadsheets/d/198EG3tckqzD1uOKSYxAY62i5v_0LIZQMgzaIae6u1vo/export?format=csv\\\"\\nzillow = pd.read_csv(data_url)\\n\\n# Drop columns with higher than 20% missing values\\ndrop = zillow.columns[zillow.isna().mean() > 0.2]\\nzillow = zillow.drop(columns=drop)\\n\\n# Drop remaining missing values\\nzillow = zillow.dropna()\\n\\n# Manually selected features to use\\nkeep_cols = [\\n    # How much\\n    \\\"taxamount\\\",\\n    # How big\\n    \\\"garagetotalsqft\\\",\\n    \\\"lotsizesquarefeet\\\",\\n    \\\"numberofstories\\\",\\n    \\\"poolcnt\\\",\\n    \\\"roomcnt\\\",\\n    # Where\\n    \\\"latitude\\\",\\n    \\\"longitude\\\",\\n]\\n\\nzillow = zillow[keep_cols]\\n\\nzillow.head()\";\n",
       "                var nbb_formatted_code = \"data_url = \\\"https://docs.google.com/spreadsheets/d/198EG3tckqzD1uOKSYxAY62i5v_0LIZQMgzaIae6u1vo/export?format=csv\\\"\\nzillow = pd.read_csv(data_url)\\n\\n# Drop columns with higher than 20% missing values\\ndrop = zillow.columns[zillow.isna().mean() > 0.2]\\nzillow = zillow.drop(columns=drop)\\n\\n# Drop remaining missing values\\nzillow = zillow.dropna()\\n\\n# Manually selected features to use\\nkeep_cols = [\\n    # How much\\n    \\\"taxamount\\\",\\n    # How big\\n    \\\"garagetotalsqft\\\",\\n    \\\"lotsizesquarefeet\\\",\\n    \\\"numberofstories\\\",\\n    \\\"poolcnt\\\",\\n    \\\"roomcnt\\\",\\n    # Where\\n    \\\"latitude\\\",\\n    \\\"longitude\\\",\\n]\\n\\nzillow = zillow[keep_cols]\\n\\nzillow.head()\";\n",
       "                var nbb_cells = Jupyter.notebook.get_cells();\n",
       "                for (var i = 0; i < nbb_cells.length; ++i) {\n",
       "                    if (nbb_cells[i].input_prompt_number == nbb_cell_id) {\n",
       "                        if (nbb_cells[i].get_text() == nbb_unformatted_code) {\n",
       "                             nbb_cells[i].set_text(nbb_formatted_code);\n",
       "                        }\n",
       "                        break;\n",
       "                    }\n",
       "                }\n",
       "            }, 500);\n",
       "            "
      ],
      "text/plain": [
       "<IPython.core.display.Javascript object>"
      ]
     },
     "metadata": {},
     "output_type": "display_data"
    }
   ],
   "source": [
    "data_url = \"https://docs.google.com/spreadsheets/d/198EG3tckqzD1uOKSYxAY62i5v_0LIZQMgzaIae6u1vo/export?format=csv\"\n",
    "zillow = pd.read_csv(data_url)\n",
    "\n",
    "# Drop columns with higher than 20% missing values\n",
    "drop = zillow.columns[zillow.isna().mean() > 0.2]\n",
    "zillow = zillow.drop(columns=drop)\n",
    "\n",
    "# Drop remaining missing values\n",
    "zillow = zillow.dropna()\n",
    "\n",
    "# Manually selected features to use\n",
    "keep_cols = [\n",
    "    # How much\n",
    "    \"taxamount\",\n",
    "    # How big\n",
    "    \"garagetotalsqft\",\n",
    "    \"lotsizesquarefeet\",\n",
    "    \"numberofstories\",\n",
    "    \"poolcnt\",\n",
    "    \"roomcnt\",\n",
    "    # Where\n",
    "    \"latitude\",\n",
    "    \"longitude\",\n",
    "]\n",
    "\n",
    "zillow = zillow[keep_cols]\n",
    "\n",
    "zillow.head()"
   ]
  }
 ],
 "metadata": {
  "kernelspec": {
   "display_name": "Python 3",
   "language": "python",
   "name": "python3"
  },
  "language_info": {
   "codemirror_mode": {
    "name": "ipython",
    "version": 3
   },
   "file_extension": ".py",
   "mimetype": "text/x-python",
   "name": "python",
   "nbconvert_exporter": "python",
   "pygments_lexer": "ipython3",
   "version": "3.7.7"
  }
 },
 "nbformat": 4,
 "nbformat_minor": 2
}
