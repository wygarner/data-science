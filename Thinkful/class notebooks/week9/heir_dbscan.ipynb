{
 "cells": [
  {
   "cell_type": "code",
   "execution_count": 1,
   "metadata": {},
   "outputs": [
    {
     "data": {
      "application/javascript": [
       "\n",
       "            setTimeout(function() {\n",
       "                var nbb_cell_id = 1;\n",
       "                var nbb_unformatted_code = \"%reload_ext nb_black\";\n",
       "                var nbb_formatted_code = \"%reload_ext nb_black\";\n",
       "                var nbb_cells = Jupyter.notebook.get_cells();\n",
       "                for (var i = 0; i < nbb_cells.length; ++i) {\n",
       "                    if (nbb_cells[i].input_prompt_number == nbb_cell_id) {\n",
       "                        if (nbb_cells[i].get_text() == nbb_unformatted_code) {\n",
       "                             nbb_cells[i].set_text(nbb_formatted_code);\n",
       "                        }\n",
       "                        break;\n",
       "                    }\n",
       "                }\n",
       "            }, 500);\n",
       "            "
      ],
      "text/plain": [
       "<IPython.core.display.Javascript object>"
      ]
     },
     "metadata": {},
     "output_type": "display_data"
    }
   ],
   "source": [
    "%reload_ext nb_black"
   ]
  },
  {
   "cell_type": "markdown",
   "metadata": {
    "colab_type": "text",
    "id": "onblHDz_LiO4"
   },
   "source": [
    "# Zillow\n",
    "\n",
    "Data provided by Zillow * Kaggle (see [here](https://www.kaggle.com/pratyushakar/zillow-zestimate#properties_2017.csv))"
   ]
  },
  {
   "cell_type": "code",
   "execution_count": 2,
   "metadata": {
    "colab": {},
    "colab_type": "code",
    "id": "mM4--G_zipCj"
   },
   "outputs": [
    {
     "data": {
      "application/javascript": [
       "\n",
       "            setTimeout(function() {\n",
       "                var nbb_cell_id = 2;\n",
       "                var nbb_unformatted_code = \"data_url = \\\"https://docs.google.com/spreadsheets/d/198EG3tckqzD1uOKSYxAY62i5v_0LIZQMgzaIae6u1vo/export?format=csv\\\"\";\n",
       "                var nbb_formatted_code = \"data_url = \\\"https://docs.google.com/spreadsheets/d/198EG3tckqzD1uOKSYxAY62i5v_0LIZQMgzaIae6u1vo/export?format=csv\\\"\";\n",
       "                var nbb_cells = Jupyter.notebook.get_cells();\n",
       "                for (var i = 0; i < nbb_cells.length; ++i) {\n",
       "                    if (nbb_cells[i].input_prompt_number == nbb_cell_id) {\n",
       "                        if (nbb_cells[i].get_text() == nbb_unformatted_code) {\n",
       "                             nbb_cells[i].set_text(nbb_formatted_code);\n",
       "                        }\n",
       "                        break;\n",
       "                    }\n",
       "                }\n",
       "            }, 500);\n",
       "            "
      ],
      "text/plain": [
       "<IPython.core.display.Javascript object>"
      ]
     },
     "metadata": {},
     "output_type": "display_data"
    }
   ],
   "source": [
    "data_url = \"https://docs.google.com/spreadsheets/d/198EG3tckqzD1uOKSYxAY62i5v_0LIZQMgzaIae6u1vo/export?format=csv\""
   ]
  },
  {
   "cell_type": "markdown",
   "metadata": {
    "colab_type": "text",
    "id": "97m5nEXWir7a"
   },
   "source": [
    "Load all the usual suspects and some new ones including: `AgglomerativeClustering`, `DBSCAN`, `dendrogram`."
   ]
  },
  {
   "cell_type": "code",
   "execution_count": 55,
   "metadata": {
    "colab": {},
    "colab_type": "code",
    "id": "W8FU94m0Jx83"
   },
   "outputs": [
    {
     "data": {
      "application/javascript": [
       "\n",
       "            setTimeout(function() {\n",
       "                var nbb_cell_id = 55;\n",
       "                var nbb_unformatted_code = \"import numpy as np\\nimport pandas as pd\\n\\nfrom sklearn.preprocessing import StandardScaler\\nfrom sklearn.cluster import AgglomerativeClustering, DBSCAN\\n\\nfrom scipy.cluster.hierarchy import dendrogram\\nfrom scipy.spatial.distance import pdist, squareform\\n\\nimport seaborn as sns\\nimport matplotlib.pyplot as plt\\n\\n%matplotlib inline\";\n",
       "                var nbb_formatted_code = \"import numpy as np\\nimport pandas as pd\\n\\nfrom sklearn.preprocessing import StandardScaler\\nfrom sklearn.cluster import AgglomerativeClustering, DBSCAN\\n\\nfrom scipy.cluster.hierarchy import dendrogram\\nfrom scipy.spatial.distance import pdist, squareform\\n\\nimport seaborn as sns\\nimport matplotlib.pyplot as plt\\n\\n%matplotlib inline\";\n",
       "                var nbb_cells = Jupyter.notebook.get_cells();\n",
       "                for (var i = 0; i < nbb_cells.length; ++i) {\n",
       "                    if (nbb_cells[i].input_prompt_number == nbb_cell_id) {\n",
       "                        if (nbb_cells[i].get_text() == nbb_unformatted_code) {\n",
       "                             nbb_cells[i].set_text(nbb_formatted_code);\n",
       "                        }\n",
       "                        break;\n",
       "                    }\n",
       "                }\n",
       "            }, 500);\n",
       "            "
      ],
      "text/plain": [
       "<IPython.core.display.Javascript object>"
      ]
     },
     "metadata": {},
     "output_type": "display_data"
    }
   ],
   "source": [
    "import numpy as np\n",
    "import pandas as pd\n",
    "\n",
    "from sklearn.preprocessing import StandardScaler\n",
    "from sklearn.cluster import AgglomerativeClustering, DBSCAN\n",
    "\n",
    "from scipy.cluster.hierarchy import dendrogram\n",
    "from scipy.spatial.distance import pdist, squareform\n",
    "\n",
    "import seaborn as sns\n",
    "import matplotlib.pyplot as plt\n",
    "\n",
    "%matplotlib inline"
   ]
  },
  {
   "cell_type": "markdown",
   "metadata": {
    "colab_type": "text",
    "id": "58b310hxikJF"
   },
   "source": [
    "Function that will also be used in your exercise to produce a dendrogram from our `AgglomerativeClustering` object."
   ]
  },
  {
   "cell_type": "code",
   "execution_count": 4,
   "metadata": {
    "colab": {},
    "colab_type": "code",
    "id": "Ky5AfTm0ijeN"
   },
   "outputs": [
    {
     "data": {
      "application/javascript": [
       "\n",
       "            setTimeout(function() {\n",
       "                var nbb_cell_id = 4;\n",
       "                var nbb_unformatted_code = \"def plot_dendrogram(model, **kwargs):\\n    \\\"\\\"\\\"\\n    A function for plotting a dendrogram. Sourced from the following link:\\n    https://github.com/scikit-learn/scikit-learn/blob/70cf4a676caa2d2dad2e3f6e4478d64bcb0506f7/examples/cluster/plot_hierarchical_clustering_dendrogram.py\\n    \\n    Parameters:\\n        model (object of class sklearn.cluster.hierarchical.AgglomerativeClustering): a fitted scikit-learn hierarchical clustering model.\\n    \\n    Output: a dendrogram based on the model based in the parameters.\\n    \\n    Returns: None   \\n    \\\"\\\"\\\"\\n    # Children of hierarchical clustering\\n    children = model.children_\\n\\n    # Distances between each pair of children\\n    # Since we don't have this information, we can use a uniform one for plotting\\n    distance = np.arange(children.shape[0])\\n\\n    # The number of observations contained in each cluster level\\n    no_of_observations = np.arange(2, children.shape[0] + 2)\\n\\n    # Create linkage matrix and then plot the dendrogram\\n    linkage_matrix = np.column_stack([children, distance, no_of_observations]).astype(\\n        float\\n    )\\n\\n    # Plot the corresponding dendrogram\\n    dendrogram(linkage_matrix, **kwargs)\";\n",
       "                var nbb_formatted_code = \"def plot_dendrogram(model, **kwargs):\\n    \\\"\\\"\\\"\\n    A function for plotting a dendrogram. Sourced from the following link:\\n    https://github.com/scikit-learn/scikit-learn/blob/70cf4a676caa2d2dad2e3f6e4478d64bcb0506f7/examples/cluster/plot_hierarchical_clustering_dendrogram.py\\n    \\n    Parameters:\\n        model (object of class sklearn.cluster.hierarchical.AgglomerativeClustering): a fitted scikit-learn hierarchical clustering model.\\n    \\n    Output: a dendrogram based on the model based in the parameters.\\n    \\n    Returns: None   \\n    \\\"\\\"\\\"\\n    # Children of hierarchical clustering\\n    children = model.children_\\n\\n    # Distances between each pair of children\\n    # Since we don't have this information, we can use a uniform one for plotting\\n    distance = np.arange(children.shape[0])\\n\\n    # The number of observations contained in each cluster level\\n    no_of_observations = np.arange(2, children.shape[0] + 2)\\n\\n    # Create linkage matrix and then plot the dendrogram\\n    linkage_matrix = np.column_stack([children, distance, no_of_observations]).astype(\\n        float\\n    )\\n\\n    # Plot the corresponding dendrogram\\n    dendrogram(linkage_matrix, **kwargs)\";\n",
       "                var nbb_cells = Jupyter.notebook.get_cells();\n",
       "                for (var i = 0; i < nbb_cells.length; ++i) {\n",
       "                    if (nbb_cells[i].input_prompt_number == nbb_cell_id) {\n",
       "                        if (nbb_cells[i].get_text() == nbb_unformatted_code) {\n",
       "                             nbb_cells[i].set_text(nbb_formatted_code);\n",
       "                        }\n",
       "                        break;\n",
       "                    }\n",
       "                }\n",
       "            }, 500);\n",
       "            "
      ],
      "text/plain": [
       "<IPython.core.display.Javascript object>"
      ]
     },
     "metadata": {},
     "output_type": "display_data"
    }
   ],
   "source": [
    "def plot_dendrogram(model, **kwargs):\n",
    "    \"\"\"\n",
    "    A function for plotting a dendrogram. Sourced from the following link:\n",
    "    https://github.com/scikit-learn/scikit-learn/blob/70cf4a676caa2d2dad2e3f6e4478d64bcb0506f7/examples/cluster/plot_hierarchical_clustering_dendrogram.py\n",
    "    \n",
    "    Parameters:\n",
    "        model (object of class sklearn.cluster.hierarchical.AgglomerativeClustering): a fitted scikit-learn hierarchical clustering model.\n",
    "    \n",
    "    Output: a dendrogram based on the model based in the parameters.\n",
    "    \n",
    "    Returns: None   \n",
    "    \"\"\"\n",
    "    # Children of hierarchical clustering\n",
    "    children = model.children_\n",
    "\n",
    "    # Distances between each pair of children\n",
    "    # Since we don't have this information, we can use a uniform one for plotting\n",
    "    distance = np.arange(children.shape[0])\n",
    "\n",
    "    # The number of observations contained in each cluster level\n",
    "    no_of_observations = np.arange(2, children.shape[0] + 2)\n",
    "\n",
    "    # Create linkage matrix and then plot the dendrogram\n",
    "    linkage_matrix = np.column_stack([children, distance, no_of_observations]).astype(\n",
    "        float\n",
    "    )\n",
    "\n",
    "    # Plot the corresponding dendrogram\n",
    "    dendrogram(linkage_matrix, **kwargs)"
   ]
  },
  {
   "cell_type": "markdown",
   "metadata": {
    "colab_type": "text",
    "id": "bphdy-BGjAwi"
   },
   "source": [
    "Read data and do some inspection & cleaning."
   ]
  },
  {
   "cell_type": "code",
   "execution_count": 5,
   "metadata": {
    "colab": {
     "base_uri": "https://localhost:8080/",
     "height": 224
    },
    "colab_type": "code",
    "id": "kxGpm68dLxuX",
    "outputId": "d4a04517-b481-44ca-906e-c415bfa48845"
   },
   "outputs": [
    {
     "data": {
      "text/html": [
       "<div>\n",
       "<style scoped>\n",
       "    .dataframe tbody tr th:only-of-type {\n",
       "        vertical-align: middle;\n",
       "    }\n",
       "\n",
       "    .dataframe tbody tr th {\n",
       "        vertical-align: top;\n",
       "    }\n",
       "\n",
       "    .dataframe thead th {\n",
       "        text-align: right;\n",
       "    }\n",
       "</style>\n",
       "<table border=\"1\" class=\"dataframe\">\n",
       "  <thead>\n",
       "    <tr style=\"text-align: right;\">\n",
       "      <th></th>\n",
       "      <th>parcelid</th>\n",
       "      <th>airconditioningtypeid</th>\n",
       "      <th>architecturalstyletypeid</th>\n",
       "      <th>basementsqft</th>\n",
       "      <th>bathroomcnt</th>\n",
       "      <th>bedroomcnt</th>\n",
       "      <th>buildingclasstypeid</th>\n",
       "      <th>buildingqualitytypeid</th>\n",
       "      <th>calculatedbathnbr</th>\n",
       "      <th>decktypeid</th>\n",
       "      <th>...</th>\n",
       "      <th>numberofstories</th>\n",
       "      <th>fireplaceflag</th>\n",
       "      <th>structuretaxvaluedollarcnt</th>\n",
       "      <th>taxvaluedollarcnt</th>\n",
       "      <th>assessmentyear</th>\n",
       "      <th>landtaxvaluedollarcnt</th>\n",
       "      <th>taxamount</th>\n",
       "      <th>taxdelinquencyflag</th>\n",
       "      <th>taxdelinquencyyear</th>\n",
       "      <th>censustractandblock</th>\n",
       "    </tr>\n",
       "  </thead>\n",
       "  <tbody>\n",
       "    <tr>\n",
       "      <th>0</th>\n",
       "      <td>17291058</td>\n",
       "      <td>NaN</td>\n",
       "      <td>NaN</td>\n",
       "      <td>8516.0</td>\n",
       "      <td>9.5</td>\n",
       "      <td>6</td>\n",
       "      <td>NaN</td>\n",
       "      <td>NaN</td>\n",
       "      <td>9.5</td>\n",
       "      <td>66.0</td>\n",
       "      <td>...</td>\n",
       "      <td>2.0</td>\n",
       "      <td>NaN</td>\n",
       "      <td>12956457</td>\n",
       "      <td>26879210</td>\n",
       "      <td>2016</td>\n",
       "      <td>13922753</td>\n",
       "      <td>283062.46</td>\n",
       "      <td>NaN</td>\n",
       "      <td>NaN</td>\n",
       "      <td>6.111007e+13</td>\n",
       "    </tr>\n",
       "    <tr>\n",
       "      <th>1</th>\n",
       "      <td>17214945</td>\n",
       "      <td>NaN</td>\n",
       "      <td>NaN</td>\n",
       "      <td>296.0</td>\n",
       "      <td>2.5</td>\n",
       "      <td>3</td>\n",
       "      <td>NaN</td>\n",
       "      <td>NaN</td>\n",
       "      <td>2.5</td>\n",
       "      <td>66.0</td>\n",
       "      <td>...</td>\n",
       "      <td>2.0</td>\n",
       "      <td>NaN</td>\n",
       "      <td>321000</td>\n",
       "      <td>1074000</td>\n",
       "      <td>2016</td>\n",
       "      <td>753000</td>\n",
       "      <td>11525.74</td>\n",
       "      <td>NaN</td>\n",
       "      <td>NaN</td>\n",
       "      <td>6.111005e+13</td>\n",
       "    </tr>\n",
       "    <tr>\n",
       "      <th>2</th>\n",
       "      <td>17060678</td>\n",
       "      <td>NaN</td>\n",
       "      <td>NaN</td>\n",
       "      <td>1146.0</td>\n",
       "      <td>6.5</td>\n",
       "      <td>4</td>\n",
       "      <td>NaN</td>\n",
       "      <td>NaN</td>\n",
       "      <td>6.5</td>\n",
       "      <td>66.0</td>\n",
       "      <td>...</td>\n",
       "      <td>2.0</td>\n",
       "      <td>NaN</td>\n",
       "      <td>1804157</td>\n",
       "      <td>2275709</td>\n",
       "      <td>2016</td>\n",
       "      <td>471552</td>\n",
       "      <td>24503.28</td>\n",
       "      <td>NaN</td>\n",
       "      <td>NaN</td>\n",
       "      <td>6.111001e+13</td>\n",
       "    </tr>\n",
       "    <tr>\n",
       "      <th>3</th>\n",
       "      <td>17284901</td>\n",
       "      <td>NaN</td>\n",
       "      <td>NaN</td>\n",
       "      <td>2322.0</td>\n",
       "      <td>1.5</td>\n",
       "      <td>6</td>\n",
       "      <td>NaN</td>\n",
       "      <td>NaN</td>\n",
       "      <td>1.5</td>\n",
       "      <td>66.0</td>\n",
       "      <td>...</td>\n",
       "      <td>3.0</td>\n",
       "      <td>NaN</td>\n",
       "      <td>4481348</td>\n",
       "      <td>7138171</td>\n",
       "      <td>2016</td>\n",
       "      <td>2656823</td>\n",
       "      <td>75722.34</td>\n",
       "      <td>NaN</td>\n",
       "      <td>NaN</td>\n",
       "      <td>6.111007e+13</td>\n",
       "    </tr>\n",
       "    <tr>\n",
       "      <th>4</th>\n",
       "      <td>17277746</td>\n",
       "      <td>NaN</td>\n",
       "      <td>NaN</td>\n",
       "      <td>182.0</td>\n",
       "      <td>3.5</td>\n",
       "      <td>4</td>\n",
       "      <td>NaN</td>\n",
       "      <td>NaN</td>\n",
       "      <td>3.5</td>\n",
       "      <td>66.0</td>\n",
       "      <td>...</td>\n",
       "      <td>2.0</td>\n",
       "      <td>NaN</td>\n",
       "      <td>254934</td>\n",
       "      <td>420023</td>\n",
       "      <td>2016</td>\n",
       "      <td>165089</td>\n",
       "      <td>4427.28</td>\n",
       "      <td>NaN</td>\n",
       "      <td>NaN</td>\n",
       "      <td>6.111006e+13</td>\n",
       "    </tr>\n",
       "  </tbody>\n",
       "</table>\n",
       "<p>5 rows × 58 columns</p>\n",
       "</div>"
      ],
      "text/plain": [
       "   parcelid  airconditioningtypeid  architecturalstyletypeid  basementsqft  \\\n",
       "0  17291058                    NaN                       NaN        8516.0   \n",
       "1  17214945                    NaN                       NaN         296.0   \n",
       "2  17060678                    NaN                       NaN        1146.0   \n",
       "3  17284901                    NaN                       NaN        2322.0   \n",
       "4  17277746                    NaN                       NaN         182.0   \n",
       "\n",
       "   bathroomcnt  bedroomcnt  buildingclasstypeid  buildingqualitytypeid  \\\n",
       "0          9.5           6                  NaN                    NaN   \n",
       "1          2.5           3                  NaN                    NaN   \n",
       "2          6.5           4                  NaN                    NaN   \n",
       "3          1.5           6                  NaN                    NaN   \n",
       "4          3.5           4                  NaN                    NaN   \n",
       "\n",
       "   calculatedbathnbr  decktypeid  ...  numberofstories  fireplaceflag  \\\n",
       "0                9.5        66.0  ...              2.0            NaN   \n",
       "1                2.5        66.0  ...              2.0            NaN   \n",
       "2                6.5        66.0  ...              2.0            NaN   \n",
       "3                1.5        66.0  ...              3.0            NaN   \n",
       "4                3.5        66.0  ...              2.0            NaN   \n",
       "\n",
       "   structuretaxvaluedollarcnt  taxvaluedollarcnt  assessmentyear  \\\n",
       "0                    12956457           26879210            2016   \n",
       "1                      321000            1074000            2016   \n",
       "2                     1804157            2275709            2016   \n",
       "3                     4481348            7138171            2016   \n",
       "4                      254934             420023            2016   \n",
       "\n",
       "   landtaxvaluedollarcnt  taxamount  taxdelinquencyflag  taxdelinquencyyear  \\\n",
       "0               13922753  283062.46                 NaN                 NaN   \n",
       "1                 753000   11525.74                 NaN                 NaN   \n",
       "2                 471552   24503.28                 NaN                 NaN   \n",
       "3                2656823   75722.34                 NaN                 NaN   \n",
       "4                 165089    4427.28                 NaN                 NaN   \n",
       "\n",
       "   censustractandblock  \n",
       "0         6.111007e+13  \n",
       "1         6.111005e+13  \n",
       "2         6.111001e+13  \n",
       "3         6.111007e+13  \n",
       "4         6.111006e+13  \n",
       "\n",
       "[5 rows x 58 columns]"
      ]
     },
     "execution_count": 5,
     "metadata": {},
     "output_type": "execute_result"
    },
    {
     "data": {
      "application/javascript": [
       "\n",
       "            setTimeout(function() {\n",
       "                var nbb_cell_id = 5;\n",
       "                var nbb_unformatted_code = \"zillow = pd.read_csv(data_url)\\nzillow.head()\";\n",
       "                var nbb_formatted_code = \"zillow = pd.read_csv(data_url)\\nzillow.head()\";\n",
       "                var nbb_cells = Jupyter.notebook.get_cells();\n",
       "                for (var i = 0; i < nbb_cells.length; ++i) {\n",
       "                    if (nbb_cells[i].input_prompt_number == nbb_cell_id) {\n",
       "                        if (nbb_cells[i].get_text() == nbb_unformatted_code) {\n",
       "                             nbb_cells[i].set_text(nbb_formatted_code);\n",
       "                        }\n",
       "                        break;\n",
       "                    }\n",
       "                }\n",
       "            }, 500);\n",
       "            "
      ],
      "text/plain": [
       "<IPython.core.display.Javascript object>"
      ]
     },
     "metadata": {},
     "output_type": "display_data"
    }
   ],
   "source": [
    "zillow = pd.read_csv(data_url)\n",
    "zillow.head()"
   ]
  },
  {
   "cell_type": "code",
   "execution_count": 6,
   "metadata": {},
   "outputs": [
    {
     "data": {
      "text/plain": [
       "(15000, 58)"
      ]
     },
     "execution_count": 6,
     "metadata": {},
     "output_type": "execute_result"
    },
    {
     "data": {
      "application/javascript": [
       "\n",
       "            setTimeout(function() {\n",
       "                var nbb_cell_id = 6;\n",
       "                var nbb_unformatted_code = \"zillow.shape\";\n",
       "                var nbb_formatted_code = \"zillow.shape\";\n",
       "                var nbb_cells = Jupyter.notebook.get_cells();\n",
       "                for (var i = 0; i < nbb_cells.length; ++i) {\n",
       "                    if (nbb_cells[i].input_prompt_number == nbb_cell_id) {\n",
       "                        if (nbb_cells[i].get_text() == nbb_unformatted_code) {\n",
       "                             nbb_cells[i].set_text(nbb_formatted_code);\n",
       "                        }\n",
       "                        break;\n",
       "                    }\n",
       "                }\n",
       "            }, 500);\n",
       "            "
      ],
      "text/plain": [
       "<IPython.core.display.Javascript object>"
      ]
     },
     "metadata": {},
     "output_type": "display_data"
    }
   ],
   "source": [
    "zillow.shape"
   ]
  },
  {
   "cell_type": "markdown",
   "metadata": {
    "colab_type": "text",
    "id": "ibTTfwWEjGPW"
   },
   "source": [
    "Drop columns that have more than 20% of their values missing.  How many columns does this remove?"
   ]
  },
  {
   "cell_type": "code",
   "execution_count": 7,
   "metadata": {},
   "outputs": [
    {
     "name": "stdout",
     "output_type": "stream",
     "text": [
      "Dropping 24 columns\n"
     ]
    },
    {
     "data": {
      "application/javascript": [
       "\n",
       "            setTimeout(function() {\n",
       "                var nbb_cell_id = 7;\n",
       "                var nbb_unformatted_code = \"zillow_mask = zillow.isna().mean()\\ndrop = zillow_mask[zillow_mask > 0.2].index\\nprint(f\\\"Dropping {len(drop)} columns\\\")\\n\\nzillow = zillow.drop(columns=drop)\";\n",
       "                var nbb_formatted_code = \"zillow_mask = zillow.isna().mean()\\ndrop = zillow_mask[zillow_mask > 0.2].index\\nprint(f\\\"Dropping {len(drop)} columns\\\")\\n\\nzillow = zillow.drop(columns=drop)\";\n",
       "                var nbb_cells = Jupyter.notebook.get_cells();\n",
       "                for (var i = 0; i < nbb_cells.length; ++i) {\n",
       "                    if (nbb_cells[i].input_prompt_number == nbb_cell_id) {\n",
       "                        if (nbb_cells[i].get_text() == nbb_unformatted_code) {\n",
       "                             nbb_cells[i].set_text(nbb_formatted_code);\n",
       "                        }\n",
       "                        break;\n",
       "                    }\n",
       "                }\n",
       "            }, 500);\n",
       "            "
      ],
      "text/plain": [
       "<IPython.core.display.Javascript object>"
      ]
     },
     "metadata": {},
     "output_type": "display_data"
    }
   ],
   "source": [
    "zillow_mask = zillow.isna().mean()\n",
    "drop = zillow_mask[zillow_mask > 0.2].index\n",
    "print(f\"Dropping {len(drop)} columns\")\n",
    "\n",
    "zillow = zillow.drop(columns=drop)"
   ]
  },
  {
   "cell_type": "markdown",
   "metadata": {},
   "source": [
    "Drop all NAs from the dataframe.  How many rows does this remove?"
   ]
  },
  {
   "cell_type": "code",
   "execution_count": 8,
   "metadata": {
    "colab": {
     "base_uri": "https://localhost:8080/",
     "height": 241
    },
    "colab_type": "code",
    "id": "MrbxUB9jL1_t",
    "outputId": "f7f482d6-be64-478b-ca61-4c8e471ff9f1"
   },
   "outputs": [
    {
     "name": "stdout",
     "output_type": "stream",
     "text": [
      "Dropping 2575 rows\n"
     ]
    },
    {
     "data": {
      "application/javascript": [
       "\n",
       "            setTimeout(function() {\n",
       "                var nbb_cell_id = 8;\n",
       "                var nbb_unformatted_code = \"og_nrows = zillow.shape[0]\\nzillow = zillow.dropna()\\nnew_nrows = zillow.shape[0]\\n\\nprint(f\\\"Dropping {og_nrows  - new_nrows} rows\\\")\";\n",
       "                var nbb_formatted_code = \"og_nrows = zillow.shape[0]\\nzillow = zillow.dropna()\\nnew_nrows = zillow.shape[0]\\n\\nprint(f\\\"Dropping {og_nrows  - new_nrows} rows\\\")\";\n",
       "                var nbb_cells = Jupyter.notebook.get_cells();\n",
       "                for (var i = 0; i < nbb_cells.length; ++i) {\n",
       "                    if (nbb_cells[i].input_prompt_number == nbb_cell_id) {\n",
       "                        if (nbb_cells[i].get_text() == nbb_unformatted_code) {\n",
       "                             nbb_cells[i].set_text(nbb_formatted_code);\n",
       "                        }\n",
       "                        break;\n",
       "                    }\n",
       "                }\n",
       "            }, 500);\n",
       "            "
      ],
      "text/plain": [
       "<IPython.core.display.Javascript object>"
      ]
     },
     "metadata": {},
     "output_type": "display_data"
    }
   ],
   "source": [
    "og_nrows = zillow.shape[0]\n",
    "zillow = zillow.dropna()\n",
    "new_nrows = zillow.shape[0]\n",
    "\n",
    "print(f\"Dropping {og_nrows  - new_nrows} rows\")"
   ]
  },
  {
   "cell_type": "markdown",
   "metadata": {
    "colab_type": "text",
    "id": "YYPhn06mjhR6"
   },
   "source": [
    "For the sake of time & plotting, downsample to 100 random records in the `zillow` dataframe.  Use a random seed of `42` to obtain consistent results."
   ]
  },
  {
   "cell_type": "code",
   "execution_count": 9,
   "metadata": {
    "colab": {},
    "colab_type": "code",
    "id": "tZLSy9UkL7nB"
   },
   "outputs": [
    {
     "data": {
      "text/plain": [
       "(100, 34)"
      ]
     },
     "execution_count": 9,
     "metadata": {},
     "output_type": "execute_result"
    },
    {
     "data": {
      "application/javascript": [
       "\n",
       "            setTimeout(function() {\n",
       "                var nbb_cell_id = 9;\n",
       "                var nbb_unformatted_code = \"# If we calc a distance matrix it will be 12425 * 12425 (154,380,625) elements large\\n# Let's down sample to have a quicker demo and a prettier dendrogram to look at\\nzillow = zillow.sample(100, random_state=42)\\nzillow.shape\";\n",
       "                var nbb_formatted_code = \"# If we calc a distance matrix it will be 12425 * 12425 (154,380,625) elements large\\n# Let's down sample to have a quicker demo and a prettier dendrogram to look at\\nzillow = zillow.sample(100, random_state=42)\\nzillow.shape\";\n",
       "                var nbb_cells = Jupyter.notebook.get_cells();\n",
       "                for (var i = 0; i < nbb_cells.length; ++i) {\n",
       "                    if (nbb_cells[i].input_prompt_number == nbb_cell_id) {\n",
       "                        if (nbb_cells[i].get_text() == nbb_unformatted_code) {\n",
       "                             nbb_cells[i].set_text(nbb_formatted_code);\n",
       "                        }\n",
       "                        break;\n",
       "                    }\n",
       "                }\n",
       "            }, 500);\n",
       "            "
      ],
      "text/plain": [
       "<IPython.core.display.Javascript object>"
      ]
     },
     "metadata": {},
     "output_type": "display_data"
    }
   ],
   "source": [
    "# If we calc a distance matrix it will be 12425 * 12425 (154,380,625) elements large\n",
    "# Let's down sample to have a quicker demo and a prettier dendrogram to look at\n",
    "zillow = zillow.sample(100, random_state=42)\n",
    "zillow.shape"
   ]
  },
  {
   "cell_type": "markdown",
   "metadata": {
    "colab_type": "text",
    "id": "siio9UX5j7Z-"
   },
   "source": [
    "Dropping a lot of columns based on being ID, having 0 variance, or being collinear (based on my understanding... rather than analysis... might be wrong)."
   ]
  },
  {
   "cell_type": "code",
   "execution_count": 10,
   "metadata": {
    "colab": {
     "base_uri": "https://localhost:8080/",
     "height": 224
    },
    "colab_type": "code",
    "id": "tNnwfPxSj5ih",
    "outputId": "22d9b902-d7f7-46be-ccab-87775b4e820f"
   },
   "outputs": [
    {
     "data": {
      "text/html": [
       "<div>\n",
       "<style scoped>\n",
       "    .dataframe tbody tr th:only-of-type {\n",
       "        vertical-align: middle;\n",
       "    }\n",
       "\n",
       "    .dataframe tbody tr th {\n",
       "        vertical-align: top;\n",
       "    }\n",
       "\n",
       "    .dataframe thead th {\n",
       "        text-align: right;\n",
       "    }\n",
       "</style>\n",
       "<table border=\"1\" class=\"dataframe\">\n",
       "  <thead>\n",
       "    <tr style=\"text-align: right;\">\n",
       "      <th></th>\n",
       "      <th>bathroomcnt</th>\n",
       "      <th>bedroomcnt</th>\n",
       "      <th>calculatedfinishedsquarefeet</th>\n",
       "      <th>fireplacecnt</th>\n",
       "      <th>fullbathcnt</th>\n",
       "      <th>garagecarcnt</th>\n",
       "      <th>garagetotalsqft</th>\n",
       "      <th>lotsizesquarefeet</th>\n",
       "      <th>poolsizesum</th>\n",
       "      <th>roomcnt</th>\n",
       "      <th>yearbuilt</th>\n",
       "      <th>numberofstories</th>\n",
       "      <th>taxamount</th>\n",
       "    </tr>\n",
       "  </thead>\n",
       "  <tbody>\n",
       "    <tr>\n",
       "      <th>11325</th>\n",
       "      <td>4.0</td>\n",
       "      <td>5</td>\n",
       "      <td>3705</td>\n",
       "      <td>2.0</td>\n",
       "      <td>4.0</td>\n",
       "      <td>4.0</td>\n",
       "      <td>948.0</td>\n",
       "      <td>59349.0</td>\n",
       "      <td>684.0</td>\n",
       "      <td>10</td>\n",
       "      <td>2001.0</td>\n",
       "      <td>2.0</td>\n",
       "      <td>15108.92</td>\n",
       "    </tr>\n",
       "    <tr>\n",
       "      <th>1766</th>\n",
       "      <td>3.0</td>\n",
       "      <td>5</td>\n",
       "      <td>3642</td>\n",
       "      <td>2.0</td>\n",
       "      <td>3.0</td>\n",
       "      <td>2.0</td>\n",
       "      <td>471.0</td>\n",
       "      <td>7720.0</td>\n",
       "      <td>640.0</td>\n",
       "      <td>10</td>\n",
       "      <td>1998.0</td>\n",
       "      <td>2.0</td>\n",
       "      <td>8078.32</td>\n",
       "    </tr>\n",
       "    <tr>\n",
       "      <th>14591</th>\n",
       "      <td>3.0</td>\n",
       "      <td>3</td>\n",
       "      <td>2779</td>\n",
       "      <td>2.0</td>\n",
       "      <td>3.0</td>\n",
       "      <td>2.0</td>\n",
       "      <td>659.0</td>\n",
       "      <td>11610.0</td>\n",
       "      <td>420.0</td>\n",
       "      <td>8</td>\n",
       "      <td>1988.0</td>\n",
       "      <td>2.0</td>\n",
       "      <td>7340.82</td>\n",
       "    </tr>\n",
       "    <tr>\n",
       "      <th>14939</th>\n",
       "      <td>3.0</td>\n",
       "      <td>3</td>\n",
       "      <td>2902</td>\n",
       "      <td>2.0</td>\n",
       "      <td>3.0</td>\n",
       "      <td>3.0</td>\n",
       "      <td>774.0</td>\n",
       "      <td>43560.0</td>\n",
       "      <td>525.0</td>\n",
       "      <td>7</td>\n",
       "      <td>1977.0</td>\n",
       "      <td>2.0</td>\n",
       "      <td>11795.98</td>\n",
       "    </tr>\n",
       "    <tr>\n",
       "      <th>12049</th>\n",
       "      <td>3.0</td>\n",
       "      <td>4</td>\n",
       "      <td>2295</td>\n",
       "      <td>2.0</td>\n",
       "      <td>3.0</td>\n",
       "      <td>2.0</td>\n",
       "      <td>487.0</td>\n",
       "      <td>8539.0</td>\n",
       "      <td>396.0</td>\n",
       "      <td>8</td>\n",
       "      <td>1979.0</td>\n",
       "      <td>2.0</td>\n",
       "      <td>4799.22</td>\n",
       "    </tr>\n",
       "  </tbody>\n",
       "</table>\n",
       "</div>"
      ],
      "text/plain": [
       "       bathroomcnt  bedroomcnt  calculatedfinishedsquarefeet  fireplacecnt  \\\n",
       "11325          4.0           5                          3705           2.0   \n",
       "1766           3.0           5                          3642           2.0   \n",
       "14591          3.0           3                          2779           2.0   \n",
       "14939          3.0           3                          2902           2.0   \n",
       "12049          3.0           4                          2295           2.0   \n",
       "\n",
       "       fullbathcnt  garagecarcnt  garagetotalsqft  lotsizesquarefeet  \\\n",
       "11325          4.0           4.0            948.0            59349.0   \n",
       "1766           3.0           2.0            471.0             7720.0   \n",
       "14591          3.0           2.0            659.0            11610.0   \n",
       "14939          3.0           3.0            774.0            43560.0   \n",
       "12049          3.0           2.0            487.0             8539.0   \n",
       "\n",
       "       poolsizesum  roomcnt  yearbuilt  numberofstories  taxamount  \n",
       "11325        684.0       10     2001.0              2.0   15108.92  \n",
       "1766         640.0       10     1998.0              2.0    8078.32  \n",
       "14591        420.0        8     1988.0              2.0    7340.82  \n",
       "14939        525.0        7     1977.0              2.0   11795.98  \n",
       "12049        396.0        8     1979.0              2.0    4799.22  "
      ]
     },
     "execution_count": 10,
     "metadata": {},
     "output_type": "execute_result"
    },
    {
     "data": {
      "application/javascript": [
       "\n",
       "            setTimeout(function() {\n",
       "                var nbb_cell_id = 10;\n",
       "                var nbb_unformatted_code = \"# Id columns aren\\\"t too useful for clustering but we might want it later\\n# fmt: off\\nid_cols = [\\\"parcelid\\\", \\\"pooltypeid7\\\", \\\"propertycountylandusecode\\\", \\n           \\\"propertylandusetypeid\\\", \\\"regionidcity\\\", \\\"regionidcounty\\\", \\\"regionidzip\\\",\\n           \\\"latitude\\\", \\\"longitude\\\", \\\"fips\\\",\\n           \\\"rawcensustractandblock\\\", \\\"censustractandblock\\\"]\\n# fmt: on\\nzillow_sub = zillow.drop(columns=id_cols)\\n\\n# Some columns that duplicate info\\n# Idk much about real estate so some of these might be bad assumptions\\n# fmt: off\\ndup_cols = [\\\"calculatedbathnbr\\\", \\\"finishedsquarefeet50\\\", \\\"finishedsquarefeet12\\\",\\n            \\\"finishedfloor1squarefeet\\\", \\\"structuretaxvaluedollarcnt\\\", \\n            \\\"taxvaluedollarcnt\\\", \\\"landtaxvaluedollarcnt\\\"]\\n# fmt: on\\nzillow_sub = zillow_sub.drop(columns=dup_cols)\\n\\n# That sample ends up with poolcnt and assessmentyear having 0 variance\\nno_var_cols = [\\\"poolcnt\\\", \\\"assessmentyear\\\"]\\nzillow_sub = zillow_sub.drop(columns=no_var_cols)\\n\\nzillow_sub.head()\";\n",
       "                var nbb_formatted_code = \"# Id columns aren\\\"t too useful for clustering but we might want it later\\n# fmt: off\\nid_cols = [\\\"parcelid\\\", \\\"pooltypeid7\\\", \\\"propertycountylandusecode\\\", \\n           \\\"propertylandusetypeid\\\", \\\"regionidcity\\\", \\\"regionidcounty\\\", \\\"regionidzip\\\",\\n           \\\"latitude\\\", \\\"longitude\\\", \\\"fips\\\",\\n           \\\"rawcensustractandblock\\\", \\\"censustractandblock\\\"]\\n# fmt: on\\nzillow_sub = zillow.drop(columns=id_cols)\\n\\n# Some columns that duplicate info\\n# Idk much about real estate so some of these might be bad assumptions\\n# fmt: off\\ndup_cols = [\\\"calculatedbathnbr\\\", \\\"finishedsquarefeet50\\\", \\\"finishedsquarefeet12\\\",\\n            \\\"finishedfloor1squarefeet\\\", \\\"structuretaxvaluedollarcnt\\\", \\n            \\\"taxvaluedollarcnt\\\", \\\"landtaxvaluedollarcnt\\\"]\\n# fmt: on\\nzillow_sub = zillow_sub.drop(columns=dup_cols)\\n\\n# That sample ends up with poolcnt and assessmentyear having 0 variance\\nno_var_cols = [\\\"poolcnt\\\", \\\"assessmentyear\\\"]\\nzillow_sub = zillow_sub.drop(columns=no_var_cols)\\n\\nzillow_sub.head()\";\n",
       "                var nbb_cells = Jupyter.notebook.get_cells();\n",
       "                for (var i = 0; i < nbb_cells.length; ++i) {\n",
       "                    if (nbb_cells[i].input_prompt_number == nbb_cell_id) {\n",
       "                        if (nbb_cells[i].get_text() == nbb_unformatted_code) {\n",
       "                             nbb_cells[i].set_text(nbb_formatted_code);\n",
       "                        }\n",
       "                        break;\n",
       "                    }\n",
       "                }\n",
       "            }, 500);\n",
       "            "
      ],
      "text/plain": [
       "<IPython.core.display.Javascript object>"
      ]
     },
     "metadata": {},
     "output_type": "display_data"
    }
   ],
   "source": [
    "# Id columns aren\"t too useful for clustering but we might want it later\n",
    "# fmt: off\n",
    "id_cols = [\"parcelid\", \"pooltypeid7\", \"propertycountylandusecode\", \n",
    "           \"propertylandusetypeid\", \"regionidcity\", \"regionidcounty\", \"regionidzip\",\n",
    "           \"latitude\", \"longitude\", \"fips\",\n",
    "           \"rawcensustractandblock\", \"censustractandblock\"]\n",
    "# fmt: on\n",
    "zillow_sub = zillow.drop(columns=id_cols)\n",
    "\n",
    "# Some columns that duplicate info\n",
    "# Idk much about real estate so some of these might be bad assumptions\n",
    "# fmt: off\n",
    "dup_cols = [\"calculatedbathnbr\", \"finishedsquarefeet50\", \"finishedsquarefeet12\",\n",
    "            \"finishedfloor1squarefeet\", \"structuretaxvaluedollarcnt\", \n",
    "            \"taxvaluedollarcnt\", \"landtaxvaluedollarcnt\"]\n",
    "# fmt: on\n",
    "zillow_sub = zillow_sub.drop(columns=dup_cols)\n",
    "\n",
    "# That sample ends up with poolcnt and assessmentyear having 0 variance\n",
    "no_var_cols = [\"poolcnt\", \"assessmentyear\"]\n",
    "zillow_sub = zillow_sub.drop(columns=no_var_cols)\n",
    "\n",
    "zillow_sub.head()"
   ]
  },
  {
   "cell_type": "code",
   "execution_count": 11,
   "metadata": {},
   "outputs": [
    {
     "data": {
      "application/javascript": [
       "\n",
       "            setTimeout(function() {\n",
       "                var nbb_cell_id = 11;\n",
       "                var nbb_unformatted_code = \"# zillow_sub.boxplot(rot=90, figsize=(6, 4))\\n# plt.show()\";\n",
       "                var nbb_formatted_code = \"# zillow_sub.boxplot(rot=90, figsize=(6, 4))\\n# plt.show()\";\n",
       "                var nbb_cells = Jupyter.notebook.get_cells();\n",
       "                for (var i = 0; i < nbb_cells.length; ++i) {\n",
       "                    if (nbb_cells[i].input_prompt_number == nbb_cell_id) {\n",
       "                        if (nbb_cells[i].get_text() == nbb_unformatted_code) {\n",
       "                             nbb_cells[i].set_text(nbb_formatted_code);\n",
       "                        }\n",
       "                        break;\n",
       "                    }\n",
       "                }\n",
       "            }, 500);\n",
       "            "
      ],
      "text/plain": [
       "<IPython.core.display.Javascript object>"
      ]
     },
     "metadata": {},
     "output_type": "display_data"
    }
   ],
   "source": [
    "# zillow_sub.boxplot(rot=90, figsize=(6, 4))\n",
    "# plt.show()"
   ]
  },
  {
   "cell_type": "code",
   "execution_count": 12,
   "metadata": {},
   "outputs": [
    {
     "data": {
      "application/javascript": [
       "\n",
       "            setTimeout(function() {\n",
       "                var nbb_cell_id = 12;\n",
       "                var nbb_unformatted_code = \"# zillow_sub[\\\"lotsizesquarefeet\\\"] = np.log(zillow_sub[\\\"lotsizesquarefeet\\\"])\";\n",
       "                var nbb_formatted_code = \"# zillow_sub[\\\"lotsizesquarefeet\\\"] = np.log(zillow_sub[\\\"lotsizesquarefeet\\\"])\";\n",
       "                var nbb_cells = Jupyter.notebook.get_cells();\n",
       "                for (var i = 0; i < nbb_cells.length; ++i) {\n",
       "                    if (nbb_cells[i].input_prompt_number == nbb_cell_id) {\n",
       "                        if (nbb_cells[i].get_text() == nbb_unformatted_code) {\n",
       "                             nbb_cells[i].set_text(nbb_formatted_code);\n",
       "                        }\n",
       "                        break;\n",
       "                    }\n",
       "                }\n",
       "            }, 500);\n",
       "            "
      ],
      "text/plain": [
       "<IPython.core.display.Javascript object>"
      ]
     },
     "metadata": {},
     "output_type": "display_data"
    }
   ],
   "source": [
    "# zillow_sub[\"lotsizesquarefeet\"] = np.log(zillow_sub[\"lotsizesquarefeet\"])"
   ]
  },
  {
   "cell_type": "code",
   "execution_count": 13,
   "metadata": {},
   "outputs": [
    {
     "data": {
      "application/javascript": [
       "\n",
       "            setTimeout(function() {\n",
       "                var nbb_cell_id = 13;\n",
       "                var nbb_unformatted_code = \"# zillow_sub.boxplot(rot=90, figsize=(6, 4))\\n# plt.show()\";\n",
       "                var nbb_formatted_code = \"# zillow_sub.boxplot(rot=90, figsize=(6, 4))\\n# plt.show()\";\n",
       "                var nbb_cells = Jupyter.notebook.get_cells();\n",
       "                for (var i = 0; i < nbb_cells.length; ++i) {\n",
       "                    if (nbb_cells[i].input_prompt_number == nbb_cell_id) {\n",
       "                        if (nbb_cells[i].get_text() == nbb_unformatted_code) {\n",
       "                             nbb_cells[i].set_text(nbb_formatted_code);\n",
       "                        }\n",
       "                        break;\n",
       "                    }\n",
       "                }\n",
       "            }, 500);\n",
       "            "
      ],
      "text/plain": [
       "<IPython.core.display.Javascript object>"
      ]
     },
     "metadata": {},
     "output_type": "display_data"
    }
   ],
   "source": [
    "# zillow_sub.boxplot(rot=90, figsize=(6, 4))\n",
    "# plt.show()"
   ]
  },
  {
   "cell_type": "markdown",
   "metadata": {
    "colab_type": "text",
    "id": "UqLa0chVfimW"
   },
   "source": [
    "## Heirarchical Clustering"
   ]
  },
  {
   "cell_type": "code",
   "execution_count": 14,
   "metadata": {},
   "outputs": [
    {
     "data": {
      "application/javascript": [
       "\n",
       "            setTimeout(function() {\n",
       "                var nbb_cell_id = 14;\n",
       "                var nbb_unformatted_code = \"# Dropping outlier rows (determined by agg clustering)\\n# drop_rows = [378, 6365, 229, 4086, 1541, 1845, 8068, 12753, 2869, 2153]\\n\\n# zillow_sub = zillow_sub.drop(columns=[\\\"label\\\"], errors=\\\"ignore\\\")\\n# zillow_sub = zillow_sub.drop(labels=drop_rows, errors=\\\"ignore\\\")\";\n",
       "                var nbb_formatted_code = \"# Dropping outlier rows (determined by agg clustering)\\n# drop_rows = [378, 6365, 229, 4086, 1541, 1845, 8068, 12753, 2869, 2153]\\n\\n# zillow_sub = zillow_sub.drop(columns=[\\\"label\\\"], errors=\\\"ignore\\\")\\n# zillow_sub = zillow_sub.drop(labels=drop_rows, errors=\\\"ignore\\\")\";\n",
       "                var nbb_cells = Jupyter.notebook.get_cells();\n",
       "                for (var i = 0; i < nbb_cells.length; ++i) {\n",
       "                    if (nbb_cells[i].input_prompt_number == nbb_cell_id) {\n",
       "                        if (nbb_cells[i].get_text() == nbb_unformatted_code) {\n",
       "                             nbb_cells[i].set_text(nbb_formatted_code);\n",
       "                        }\n",
       "                        break;\n",
       "                    }\n",
       "                }\n",
       "            }, 500);\n",
       "            "
      ],
      "text/plain": [
       "<IPython.core.display.Javascript object>"
      ]
     },
     "metadata": {},
     "output_type": "display_data"
    }
   ],
   "source": [
    "# Dropping outlier rows (determined by agg clustering)\n",
    "# drop_rows = [378, 6365, 229, 4086, 1541, 1845, 8068, 12753, 2869, 2153]\n",
    "\n",
    "# zillow_sub = zillow_sub.drop(columns=[\"label\"], errors=\"ignore\")\n",
    "# zillow_sub = zillow_sub.drop(labels=drop_rows, errors=\"ignore\")"
   ]
  },
  {
   "cell_type": "markdown",
   "metadata": {
    "colab_type": "text",
    "id": "bveQM2RjlPsY"
   },
   "source": [
    "Prep data for clustering"
   ]
  },
  {
   "cell_type": "code",
   "execution_count": 15,
   "metadata": {
    "colab": {},
    "colab_type": "code",
    "id": "qnJHCNWYNskO"
   },
   "outputs": [
    {
     "data": {
      "application/javascript": [
       "\n",
       "            setTimeout(function() {\n",
       "                var nbb_cell_id = 15;\n",
       "                var nbb_unformatted_code = \"scaler = StandardScaler()\\nscaled = scaler.fit_transform(zillow_sub)\";\n",
       "                var nbb_formatted_code = \"scaler = StandardScaler()\\nscaled = scaler.fit_transform(zillow_sub)\";\n",
       "                var nbb_cells = Jupyter.notebook.get_cells();\n",
       "                for (var i = 0; i < nbb_cells.length; ++i) {\n",
       "                    if (nbb_cells[i].input_prompt_number == nbb_cell_id) {\n",
       "                        if (nbb_cells[i].get_text() == nbb_unformatted_code) {\n",
       "                             nbb_cells[i].set_text(nbb_formatted_code);\n",
       "                        }\n",
       "                        break;\n",
       "                    }\n",
       "                }\n",
       "            }, 500);\n",
       "            "
      ],
      "text/plain": [
       "<IPython.core.display.Javascript object>"
      ]
     },
     "metadata": {},
     "output_type": "display_data"
    }
   ],
   "source": [
    "scaler = StandardScaler()\n",
    "scaled = scaler.fit_transform(zillow_sub)"
   ]
  },
  {
   "cell_type": "markdown",
   "metadata": {
    "colab_type": "text",
    "id": "GfFgoSBulT_W"
   },
   "source": [
    "Calculate distance matrix using euclidean distance"
   ]
  },
  {
   "cell_type": "code",
   "execution_count": 16,
   "metadata": {
    "colab": {},
    "colab_type": "code",
    "id": "FW6IRyyeN7LG"
   },
   "outputs": [
    {
     "data": {
      "application/javascript": [
       "\n",
       "            setTimeout(function() {\n",
       "                var nbb_cell_id = 16;\n",
       "                var nbb_unformatted_code = \"dist_mat = squareform(pdist(scaled, metric=\\\"euclid\\\"))\";\n",
       "                var nbb_formatted_code = \"dist_mat = squareform(pdist(scaled, metric=\\\"euclid\\\"))\";\n",
       "                var nbb_cells = Jupyter.notebook.get_cells();\n",
       "                for (var i = 0; i < nbb_cells.length; ++i) {\n",
       "                    if (nbb_cells[i].input_prompt_number == nbb_cell_id) {\n",
       "                        if (nbb_cells[i].get_text() == nbb_unformatted_code) {\n",
       "                             nbb_cells[i].set_text(nbb_formatted_code);\n",
       "                        }\n",
       "                        break;\n",
       "                    }\n",
       "                }\n",
       "            }, 500);\n",
       "            "
      ],
      "text/plain": [
       "<IPython.core.display.Javascript object>"
      ]
     },
     "metadata": {},
     "output_type": "display_data"
    }
   ],
   "source": [
    "dist_mat = squareform(pdist(scaled, metric=\"euclid\"))"
   ]
  },
  {
   "cell_type": "markdown",
   "metadata": {
    "colab_type": "text",
    "id": "F4lK-6P3labM"
   },
   "source": [
    "Perform heirarchical clustering with the distance matrix and [`sklearn.cluster.AgglomerativeClustering`](https://scikit-learn.org/stable/modules/generated/sklearn.cluster.AgglomerativeClustering.html)."
   ]
  },
  {
   "cell_type": "code",
   "execution_count": 17,
   "metadata": {
    "colab": {
     "base_uri": "https://localhost:8080/",
     "height": 68
    },
    "colab_type": "code",
    "id": "XfGryvX-PF2V",
    "outputId": "e1aa028a-e636-40da-90e8-b95602de7ef4"
   },
   "outputs": [
    {
     "data": {
      "text/plain": [
       "AgglomerativeClustering(affinity='euclidean', compute_full_tree='auto',\n",
       "                        connectivity=None, distance_threshold=None,\n",
       "                        linkage='ward', memory=None, n_clusters=5)"
      ]
     },
     "execution_count": 17,
     "metadata": {},
     "output_type": "execute_result"
    },
    {
     "data": {
      "application/javascript": [
       "\n",
       "            setTimeout(function() {\n",
       "                var nbb_cell_id = 17;\n",
       "                var nbb_unformatted_code = \"clst = AgglomerativeClustering(n_clusters=5, linkage=\\\"ward\\\", affinity=\\\"euclidean\\\")\\nclst.fit(scaled)\";\n",
       "                var nbb_formatted_code = \"clst = AgglomerativeClustering(n_clusters=5, linkage=\\\"ward\\\", affinity=\\\"euclidean\\\")\\nclst.fit(scaled)\";\n",
       "                var nbb_cells = Jupyter.notebook.get_cells();\n",
       "                for (var i = 0; i < nbb_cells.length; ++i) {\n",
       "                    if (nbb_cells[i].input_prompt_number == nbb_cell_id) {\n",
       "                        if (nbb_cells[i].get_text() == nbb_unformatted_code) {\n",
       "                             nbb_cells[i].set_text(nbb_formatted_code);\n",
       "                        }\n",
       "                        break;\n",
       "                    }\n",
       "                }\n",
       "            }, 500);\n",
       "            "
      ],
      "text/plain": [
       "<IPython.core.display.Javascript object>"
      ]
     },
     "metadata": {},
     "output_type": "display_data"
    }
   ],
   "source": [
    "clst = AgglomerativeClustering(n_clusters=5, linkage=\"ward\", affinity=\"euclidean\")\n",
    "clst.fit(scaled)"
   ]
  },
  {
   "cell_type": "markdown",
   "metadata": {
    "colab_type": "text",
    "id": "yHEGxCXrlpkL"
   },
   "source": [
    "Use the `plot_dendrogram()` helper function to plot the heirarchical clusters."
   ]
  },
  {
   "cell_type": "code",
   "execution_count": 18,
   "metadata": {
    "colab": {
     "base_uri": "https://localhost:8080/",
     "height": 585
    },
    "colab_type": "code",
    "id": "r_A8wFeLPU62",
    "outputId": "93e0ec6b-6918-4712-8634-9d7267bf3794"
   },
   "outputs": [
    {
     "data": {
      "application/javascript": [
       "\n",
       "            setTimeout(function() {\n",
       "                var nbb_cell_id = 18;\n",
       "                var nbb_unformatted_code = \"# plt.figure(figsize=(20, 10))\\n# plot_dendrogram(clst)\";\n",
       "                var nbb_formatted_code = \"# plt.figure(figsize=(20, 10))\\n# plot_dendrogram(clst)\";\n",
       "                var nbb_cells = Jupyter.notebook.get_cells();\n",
       "                for (var i = 0; i < nbb_cells.length; ++i) {\n",
       "                    if (nbb_cells[i].input_prompt_number == nbb_cell_id) {\n",
       "                        if (nbb_cells[i].get_text() == nbb_unformatted_code) {\n",
       "                             nbb_cells[i].set_text(nbb_formatted_code);\n",
       "                        }\n",
       "                        break;\n",
       "                    }\n",
       "                }\n",
       "            }, 500);\n",
       "            "
      ],
      "text/plain": [
       "<IPython.core.display.Javascript object>"
      ]
     },
     "metadata": {},
     "output_type": "display_data"
    }
   ],
   "source": [
    "# plt.figure(figsize=(20, 10))\n",
    "# plot_dendrogram(clst)"
   ]
  },
  {
   "cell_type": "markdown",
   "metadata": {
    "colab_type": "text",
    "id": "iM7eMeD5lzp4"
   },
   "source": [
    "Assign the cluster labels to a column in our original dataframe."
   ]
  },
  {
   "cell_type": "code",
   "execution_count": 19,
   "metadata": {
    "colab": {},
    "colab_type": "code",
    "id": "IP9cOceDP6Xw"
   },
   "outputs": [
    {
     "data": {
      "text/html": [
       "<div>\n",
       "<style scoped>\n",
       "    .dataframe tbody tr th:only-of-type {\n",
       "        vertical-align: middle;\n",
       "    }\n",
       "\n",
       "    .dataframe tbody tr th {\n",
       "        vertical-align: top;\n",
       "    }\n",
       "\n",
       "    .dataframe thead th {\n",
       "        text-align: right;\n",
       "    }\n",
       "</style>\n",
       "<table border=\"1\" class=\"dataframe\">\n",
       "  <thead>\n",
       "    <tr style=\"text-align: right;\">\n",
       "      <th></th>\n",
       "      <th>bathroomcnt</th>\n",
       "      <th>bedroomcnt</th>\n",
       "      <th>calculatedfinishedsquarefeet</th>\n",
       "      <th>fireplacecnt</th>\n",
       "      <th>fullbathcnt</th>\n",
       "      <th>garagecarcnt</th>\n",
       "      <th>garagetotalsqft</th>\n",
       "      <th>lotsizesquarefeet</th>\n",
       "      <th>poolsizesum</th>\n",
       "      <th>roomcnt</th>\n",
       "      <th>yearbuilt</th>\n",
       "      <th>numberofstories</th>\n",
       "      <th>taxamount</th>\n",
       "      <th>label</th>\n",
       "    </tr>\n",
       "  </thead>\n",
       "  <tbody>\n",
       "    <tr>\n",
       "      <th>11325</th>\n",
       "      <td>4.0</td>\n",
       "      <td>5</td>\n",
       "      <td>3705</td>\n",
       "      <td>2.0</td>\n",
       "      <td>4.0</td>\n",
       "      <td>4.0</td>\n",
       "      <td>948.0</td>\n",
       "      <td>59349.0</td>\n",
       "      <td>684.0</td>\n",
       "      <td>10</td>\n",
       "      <td>2001.0</td>\n",
       "      <td>2.0</td>\n",
       "      <td>15108.92</td>\n",
       "      <td>1</td>\n",
       "    </tr>\n",
       "    <tr>\n",
       "      <th>1766</th>\n",
       "      <td>3.0</td>\n",
       "      <td>5</td>\n",
       "      <td>3642</td>\n",
       "      <td>2.0</td>\n",
       "      <td>3.0</td>\n",
       "      <td>2.0</td>\n",
       "      <td>471.0</td>\n",
       "      <td>7720.0</td>\n",
       "      <td>640.0</td>\n",
       "      <td>10</td>\n",
       "      <td>1998.0</td>\n",
       "      <td>2.0</td>\n",
       "      <td>8078.32</td>\n",
       "      <td>3</td>\n",
       "    </tr>\n",
       "    <tr>\n",
       "      <th>14591</th>\n",
       "      <td>3.0</td>\n",
       "      <td>3</td>\n",
       "      <td>2779</td>\n",
       "      <td>2.0</td>\n",
       "      <td>3.0</td>\n",
       "      <td>2.0</td>\n",
       "      <td>659.0</td>\n",
       "      <td>11610.0</td>\n",
       "      <td>420.0</td>\n",
       "      <td>8</td>\n",
       "      <td>1988.0</td>\n",
       "      <td>2.0</td>\n",
       "      <td>7340.82</td>\n",
       "      <td>4</td>\n",
       "    </tr>\n",
       "    <tr>\n",
       "      <th>14939</th>\n",
       "      <td>3.0</td>\n",
       "      <td>3</td>\n",
       "      <td>2902</td>\n",
       "      <td>2.0</td>\n",
       "      <td>3.0</td>\n",
       "      <td>3.0</td>\n",
       "      <td>774.0</td>\n",
       "      <td>43560.0</td>\n",
       "      <td>525.0</td>\n",
       "      <td>7</td>\n",
       "      <td>1977.0</td>\n",
       "      <td>2.0</td>\n",
       "      <td>11795.98</td>\n",
       "      <td>4</td>\n",
       "    </tr>\n",
       "    <tr>\n",
       "      <th>12049</th>\n",
       "      <td>3.0</td>\n",
       "      <td>4</td>\n",
       "      <td>2295</td>\n",
       "      <td>2.0</td>\n",
       "      <td>3.0</td>\n",
       "      <td>2.0</td>\n",
       "      <td>487.0</td>\n",
       "      <td>8539.0</td>\n",
       "      <td>396.0</td>\n",
       "      <td>8</td>\n",
       "      <td>1979.0</td>\n",
       "      <td>2.0</td>\n",
       "      <td>4799.22</td>\n",
       "      <td>4</td>\n",
       "    </tr>\n",
       "  </tbody>\n",
       "</table>\n",
       "</div>"
      ],
      "text/plain": [
       "       bathroomcnt  bedroomcnt  calculatedfinishedsquarefeet  fireplacecnt  \\\n",
       "11325          4.0           5                          3705           2.0   \n",
       "1766           3.0           5                          3642           2.0   \n",
       "14591          3.0           3                          2779           2.0   \n",
       "14939          3.0           3                          2902           2.0   \n",
       "12049          3.0           4                          2295           2.0   \n",
       "\n",
       "       fullbathcnt  garagecarcnt  garagetotalsqft  lotsizesquarefeet  \\\n",
       "11325          4.0           4.0            948.0            59349.0   \n",
       "1766           3.0           2.0            471.0             7720.0   \n",
       "14591          3.0           2.0            659.0            11610.0   \n",
       "14939          3.0           3.0            774.0            43560.0   \n",
       "12049          3.0           2.0            487.0             8539.0   \n",
       "\n",
       "       poolsizesum  roomcnt  yearbuilt  numberofstories  taxamount  label  \n",
       "11325        684.0       10     2001.0              2.0   15108.92      1  \n",
       "1766         640.0       10     1998.0              2.0    8078.32      3  \n",
       "14591        420.0        8     1988.0              2.0    7340.82      4  \n",
       "14939        525.0        7     1977.0              2.0   11795.98      4  \n",
       "12049        396.0        8     1979.0              2.0    4799.22      4  "
      ]
     },
     "execution_count": 19,
     "metadata": {},
     "output_type": "execute_result"
    },
    {
     "data": {
      "application/javascript": [
       "\n",
       "            setTimeout(function() {\n",
       "                var nbb_cell_id = 19;\n",
       "                var nbb_unformatted_code = \"zillow_sub[\\\"label\\\"] = clst.labels_\\nzillow_sub.head()\";\n",
       "                var nbb_formatted_code = \"zillow_sub[\\\"label\\\"] = clst.labels_\\nzillow_sub.head()\";\n",
       "                var nbb_cells = Jupyter.notebook.get_cells();\n",
       "                for (var i = 0; i < nbb_cells.length; ++i) {\n",
       "                    if (nbb_cells[i].input_prompt_number == nbb_cell_id) {\n",
       "                        if (nbb_cells[i].get_text() == nbb_unformatted_code) {\n",
       "                             nbb_cells[i].set_text(nbb_formatted_code);\n",
       "                        }\n",
       "                        break;\n",
       "                    }\n",
       "                }\n",
       "            }, 500);\n",
       "            "
      ],
      "text/plain": [
       "<IPython.core.display.Javascript object>"
      ]
     },
     "metadata": {},
     "output_type": "display_data"
    }
   ],
   "source": [
    "zillow_sub[\"label\"] = clst.labels_\n",
    "zillow_sub.head()"
   ]
  },
  {
   "cell_type": "markdown",
   "metadata": {
    "colab_type": "text",
    "id": "tdHy6u_8l5y3"
   },
   "source": [
    "Interpret the clusters"
   ]
  },
  {
   "cell_type": "code",
   "execution_count": 20,
   "metadata": {},
   "outputs": [
    {
     "data": {
      "text/plain": [
       "0    35\n",
       "4    25\n",
       "3    23\n",
       "1    15\n",
       "2     2\n",
       "Name: label, dtype: int64"
      ]
     },
     "execution_count": 20,
     "metadata": {},
     "output_type": "execute_result"
    },
    {
     "data": {
      "application/javascript": [
       "\n",
       "            setTimeout(function() {\n",
       "                var nbb_cell_id = 20;\n",
       "                var nbb_unformatted_code = \"zillow_sub[\\\"label\\\"].value_counts()\";\n",
       "                var nbb_formatted_code = \"zillow_sub[\\\"label\\\"].value_counts()\";\n",
       "                var nbb_cells = Jupyter.notebook.get_cells();\n",
       "                for (var i = 0; i < nbb_cells.length; ++i) {\n",
       "                    if (nbb_cells[i].input_prompt_number == nbb_cell_id) {\n",
       "                        if (nbb_cells[i].get_text() == nbb_unformatted_code) {\n",
       "                             nbb_cells[i].set_text(nbb_formatted_code);\n",
       "                        }\n",
       "                        break;\n",
       "                    }\n",
       "                }\n",
       "            }, 500);\n",
       "            "
      ],
      "text/plain": [
       "<IPython.core.display.Javascript object>"
      ]
     },
     "metadata": {},
     "output_type": "display_data"
    }
   ],
   "source": [
    "zillow_sub[\"label\"].value_counts()"
   ]
  },
  {
   "cell_type": "code",
   "execution_count": 21,
   "metadata": {},
   "outputs": [
    {
     "data": {
      "application/javascript": [
       "\n",
       "            setTimeout(function() {\n",
       "                var nbb_cell_id = 21;\n",
       "                var nbb_unformatted_code = \"# Isolate onsie/twosie clusters to drop and re-cluster\\ndrop_rows = zillow_sub[~zillow_sub[\\\"label\\\"].isin([0, 1])].index\";\n",
       "                var nbb_formatted_code = \"# Isolate onsie/twosie clusters to drop and re-cluster\\ndrop_rows = zillow_sub[~zillow_sub[\\\"label\\\"].isin([0, 1])].index\";\n",
       "                var nbb_cells = Jupyter.notebook.get_cells();\n",
       "                for (var i = 0; i < nbb_cells.length; ++i) {\n",
       "                    if (nbb_cells[i].input_prompt_number == nbb_cell_id) {\n",
       "                        if (nbb_cells[i].get_text() == nbb_unformatted_code) {\n",
       "                             nbb_cells[i].set_text(nbb_formatted_code);\n",
       "                        }\n",
       "                        break;\n",
       "                    }\n",
       "                }\n",
       "            }, 500);\n",
       "            "
      ],
      "text/plain": [
       "<IPython.core.display.Javascript object>"
      ]
     },
     "metadata": {},
     "output_type": "display_data"
    }
   ],
   "source": [
    "# Isolate onsie/twosie clusters to drop and re-cluster\n",
    "drop_rows = zillow_sub[~zillow_sub[\"label\"].isin([0, 1])].index"
   ]
  },
  {
   "cell_type": "code",
   "execution_count": 22,
   "metadata": {
    "colab": {
     "base_uri": "https://localhost:8080/",
     "height": 255
    },
    "colab_type": "code",
    "id": "tJwjQsjbQKRr",
    "outputId": "34461db4-c1c7-464a-bbcc-a8d51fcf8658"
   },
   "outputs": [
    {
     "data": {
      "text/html": [
       "<div>\n",
       "<style scoped>\n",
       "    .dataframe tbody tr th:only-of-type {\n",
       "        vertical-align: middle;\n",
       "    }\n",
       "\n",
       "    .dataframe tbody tr th {\n",
       "        vertical-align: top;\n",
       "    }\n",
       "\n",
       "    .dataframe thead th {\n",
       "        text-align: right;\n",
       "    }\n",
       "</style>\n",
       "<table border=\"1\" class=\"dataframe\">\n",
       "  <thead>\n",
       "    <tr style=\"text-align: right;\">\n",
       "      <th></th>\n",
       "      <th>bathroomcnt</th>\n",
       "      <th>bedroomcnt</th>\n",
       "      <th>calculatedfinishedsquarefeet</th>\n",
       "      <th>fireplacecnt</th>\n",
       "      <th>fullbathcnt</th>\n",
       "      <th>garagecarcnt</th>\n",
       "      <th>garagetotalsqft</th>\n",
       "      <th>lotsizesquarefeet</th>\n",
       "      <th>poolsizesum</th>\n",
       "      <th>roomcnt</th>\n",
       "      <th>yearbuilt</th>\n",
       "      <th>numberofstories</th>\n",
       "      <th>taxamount</th>\n",
       "    </tr>\n",
       "    <tr>\n",
       "      <th>label</th>\n",
       "      <th></th>\n",
       "      <th></th>\n",
       "      <th></th>\n",
       "      <th></th>\n",
       "      <th></th>\n",
       "      <th></th>\n",
       "      <th></th>\n",
       "      <th></th>\n",
       "      <th></th>\n",
       "      <th></th>\n",
       "      <th></th>\n",
       "      <th></th>\n",
       "      <th></th>\n",
       "    </tr>\n",
       "  </thead>\n",
       "  <tbody>\n",
       "    <tr>\n",
       "      <th>4</th>\n",
       "      <td>2.680000</td>\n",
       "      <td>3.800000</td>\n",
       "      <td>2385.440000</td>\n",
       "      <td>1.480000</td>\n",
       "      <td>2.360000</td>\n",
       "      <td>2.080000</td>\n",
       "      <td>552.960000</td>\n",
       "      <td>10235.320000</td>\n",
       "      <td>460.000000</td>\n",
       "      <td>7.560000</td>\n",
       "      <td>1976.400000</td>\n",
       "      <td>2.000000</td>\n",
       "      <td>5085.256800</td>\n",
       "    </tr>\n",
       "    <tr>\n",
       "      <th>0</th>\n",
       "      <td>2.685714</td>\n",
       "      <td>3.685714</td>\n",
       "      <td>2429.400000</td>\n",
       "      <td>1.342857</td>\n",
       "      <td>2.371429</td>\n",
       "      <td>2.085714</td>\n",
       "      <td>543.371429</td>\n",
       "      <td>22888.542857</td>\n",
       "      <td>546.142857</td>\n",
       "      <td>7.542857</td>\n",
       "      <td>1976.285714</td>\n",
       "      <td>1.000000</td>\n",
       "      <td>7355.421143</td>\n",
       "    </tr>\n",
       "    <tr>\n",
       "      <th>3</th>\n",
       "      <td>3.630435</td>\n",
       "      <td>4.695652</td>\n",
       "      <td>3432.304348</td>\n",
       "      <td>2.086957</td>\n",
       "      <td>3.304348</td>\n",
       "      <td>2.000000</td>\n",
       "      <td>630.173913</td>\n",
       "      <td>16227.260870</td>\n",
       "      <td>529.434783</td>\n",
       "      <td>9.043478</td>\n",
       "      <td>1993.000000</td>\n",
       "      <td>2.000000</td>\n",
       "      <td>9598.466957</td>\n",
       "    </tr>\n",
       "    <tr>\n",
       "      <th>1</th>\n",
       "      <td>4.633333</td>\n",
       "      <td>4.266667</td>\n",
       "      <td>4697.266667</td>\n",
       "      <td>2.266667</td>\n",
       "      <td>4.266667</td>\n",
       "      <td>3.800000</td>\n",
       "      <td>1005.933333</td>\n",
       "      <td>94056.400000</td>\n",
       "      <td>650.133333</td>\n",
       "      <td>9.400000</td>\n",
       "      <td>1995.200000</td>\n",
       "      <td>1.666667</td>\n",
       "      <td>16415.148000</td>\n",
       "    </tr>\n",
       "    <tr>\n",
       "      <th>2</th>\n",
       "      <td>7.250000</td>\n",
       "      <td>6.000000</td>\n",
       "      <td>12733.500000</td>\n",
       "      <td>4.000000</td>\n",
       "      <td>7.000000</td>\n",
       "      <td>7.000000</td>\n",
       "      <td>1863.500000</td>\n",
       "      <td>78844.000000</td>\n",
       "      <td>700.000000</td>\n",
       "      <td>16.500000</td>\n",
       "      <td>1999.000000</td>\n",
       "      <td>2.000000</td>\n",
       "      <td>56187.890000</td>\n",
       "    </tr>\n",
       "  </tbody>\n",
       "</table>\n",
       "</div>"
      ],
      "text/plain": [
       "       bathroomcnt  bedroomcnt  calculatedfinishedsquarefeet  fireplacecnt  \\\n",
       "label                                                                        \n",
       "4         2.680000    3.800000                   2385.440000      1.480000   \n",
       "0         2.685714    3.685714                   2429.400000      1.342857   \n",
       "3         3.630435    4.695652                   3432.304348      2.086957   \n",
       "1         4.633333    4.266667                   4697.266667      2.266667   \n",
       "2         7.250000    6.000000                  12733.500000      4.000000   \n",
       "\n",
       "       fullbathcnt  garagecarcnt  garagetotalsqft  lotsizesquarefeet  \\\n",
       "label                                                                  \n",
       "4         2.360000      2.080000       552.960000       10235.320000   \n",
       "0         2.371429      2.085714       543.371429       22888.542857   \n",
       "3         3.304348      2.000000       630.173913       16227.260870   \n",
       "1         4.266667      3.800000      1005.933333       94056.400000   \n",
       "2         7.000000      7.000000      1863.500000       78844.000000   \n",
       "\n",
       "       poolsizesum    roomcnt    yearbuilt  numberofstories     taxamount  \n",
       "label                                                                      \n",
       "4       460.000000   7.560000  1976.400000         2.000000   5085.256800  \n",
       "0       546.142857   7.542857  1976.285714         1.000000   7355.421143  \n",
       "3       529.434783   9.043478  1993.000000         2.000000   9598.466957  \n",
       "1       650.133333   9.400000  1995.200000         1.666667  16415.148000  \n",
       "2       700.000000  16.500000  1999.000000         2.000000  56187.890000  "
      ]
     },
     "execution_count": 22,
     "metadata": {},
     "output_type": "execute_result"
    },
    {
     "data": {
      "application/javascript": [
       "\n",
       "            setTimeout(function() {\n",
       "                var nbb_cell_id = 22;\n",
       "                var nbb_unformatted_code = \"cluster_desc = zillow_sub.groupby(\\\"label\\\").mean()\\ncluster_desc.sort_values([\\\"bathroomcnt\\\", \\\"bedroomcnt\\\"])\";\n",
       "                var nbb_formatted_code = \"cluster_desc = zillow_sub.groupby(\\\"label\\\").mean()\\ncluster_desc.sort_values([\\\"bathroomcnt\\\", \\\"bedroomcnt\\\"])\";\n",
       "                var nbb_cells = Jupyter.notebook.get_cells();\n",
       "                for (var i = 0; i < nbb_cells.length; ++i) {\n",
       "                    if (nbb_cells[i].input_prompt_number == nbb_cell_id) {\n",
       "                        if (nbb_cells[i].get_text() == nbb_unformatted_code) {\n",
       "                             nbb_cells[i].set_text(nbb_formatted_code);\n",
       "                        }\n",
       "                        break;\n",
       "                    }\n",
       "                }\n",
       "            }, 500);\n",
       "            "
      ],
      "text/plain": [
       "<IPython.core.display.Javascript object>"
      ]
     },
     "metadata": {},
     "output_type": "display_data"
    }
   ],
   "source": [
    "cluster_desc = zillow_sub.groupby(\"label\").mean()\n",
    "cluster_desc.sort_values([\"bathroomcnt\", \"bedroomcnt\"])"
   ]
  },
  {
   "cell_type": "markdown",
   "metadata": {
    "colab_type": "text",
    "id": "31YU3r06fp9i"
   },
   "source": [
    "## DBSCAN Clustering"
   ]
  },
  {
   "cell_type": "markdown",
   "metadata": {
    "colab_type": "text",
    "id": "Y0rnvLQvmEOI"
   },
   "source": [
    "Perform clustering with [`sklearn.cluster.DBSCAN`](https://scikit-learn.org/stable/modules/generated/sklearn.cluster.DBSCAN.html)."
   ]
  },
  {
   "cell_type": "code",
   "execution_count": 87,
   "metadata": {
    "colab": {
     "base_uri": "https://localhost:8080/",
     "height": 51
    },
    "colab_type": "code",
    "id": "Uq8aembmd2MC",
    "outputId": "54160fed-d335-47ca-b4d6-717ba45db663"
   },
   "outputs": [
    {
     "data": {
      "text/plain": [
       "DBSCAN(algorithm='auto', eps=2.0, leaf_size=30, metric='precomputed',\n",
       "       metric_params=None, min_samples=2, n_jobs=None, p=None)"
      ]
     },
     "execution_count": 87,
     "metadata": {},
     "output_type": "execute_result"
    },
    {
     "data": {
      "application/javascript": [
       "\n",
       "            setTimeout(function() {\n",
       "                var nbb_cell_id = 87;\n",
       "                var nbb_unformatted_code = \"clst = DBSCAN(eps=2.0, min_samples=2, metric=\\\"precomputed\\\")\\nclst.fit(dist_mat)\";\n",
       "                var nbb_formatted_code = \"clst = DBSCAN(eps=2.0, min_samples=2, metric=\\\"precomputed\\\")\\nclst.fit(dist_mat)\";\n",
       "                var nbb_cells = Jupyter.notebook.get_cells();\n",
       "                for (var i = 0; i < nbb_cells.length; ++i) {\n",
       "                    if (nbb_cells[i].input_prompt_number == nbb_cell_id) {\n",
       "                        if (nbb_cells[i].get_text() == nbb_unformatted_code) {\n",
       "                             nbb_cells[i].set_text(nbb_formatted_code);\n",
       "                        }\n",
       "                        break;\n",
       "                    }\n",
       "                }\n",
       "            }, 500);\n",
       "            "
      ],
      "text/plain": [
       "<IPython.core.display.Javascript object>"
      ]
     },
     "metadata": {},
     "output_type": "display_data"
    }
   ],
   "source": [
    "clst = DBSCAN(eps=2.0, min_samples=2, metric=\"precomputed\")\n",
    "clst.fit(dist_mat)"
   ]
  },
  {
   "cell_type": "markdown",
   "metadata": {
    "colab_type": "text",
    "id": "EEPF55HamK2m"
   },
   "source": [
    "Assign the labels to the dataframe"
   ]
  },
  {
   "cell_type": "code",
   "execution_count": 88,
   "metadata": {
    "colab": {},
    "colab_type": "code",
    "id": "GaKLFy69gXMy"
   },
   "outputs": [
    {
     "data": {
      "text/plain": [
       " 0    47\n",
       " 1    25\n",
       "-1    22\n",
       " 4     2\n",
       " 3     2\n",
       " 2     2\n",
       "Name: label, dtype: int64"
      ]
     },
     "execution_count": 88,
     "metadata": {},
     "output_type": "execute_result"
    },
    {
     "data": {
      "application/javascript": [
       "\n",
       "            setTimeout(function() {\n",
       "                var nbb_cell_id = 88;\n",
       "                var nbb_unformatted_code = \"zillow_sub[\\\"label\\\"] = clst.labels_\\nzillow_sub[\\\"label\\\"].value_counts()\";\n",
       "                var nbb_formatted_code = \"zillow_sub[\\\"label\\\"] = clst.labels_\\nzillow_sub[\\\"label\\\"].value_counts()\";\n",
       "                var nbb_cells = Jupyter.notebook.get_cells();\n",
       "                for (var i = 0; i < nbb_cells.length; ++i) {\n",
       "                    if (nbb_cells[i].input_prompt_number == nbb_cell_id) {\n",
       "                        if (nbb_cells[i].get_text() == nbb_unformatted_code) {\n",
       "                             nbb_cells[i].set_text(nbb_formatted_code);\n",
       "                        }\n",
       "                        break;\n",
       "                    }\n",
       "                }\n",
       "            }, 500);\n",
       "            "
      ],
      "text/plain": [
       "<IPython.core.display.Javascript object>"
      ]
     },
     "metadata": {},
     "output_type": "display_data"
    }
   ],
   "source": [
    "zillow_sub[\"label\"] = clst.labels_\n",
    "zillow_sub[\"label\"].value_counts()"
   ]
  },
  {
   "cell_type": "code",
   "execution_count": 52,
   "metadata": {},
   "outputs": [
    {
     "data": {
      "text/html": [
       "<div>\n",
       "<style scoped>\n",
       "    .dataframe tbody tr th:only-of-type {\n",
       "        vertical-align: middle;\n",
       "    }\n",
       "\n",
       "    .dataframe tbody tr th {\n",
       "        vertical-align: top;\n",
       "    }\n",
       "\n",
       "    .dataframe thead th {\n",
       "        text-align: right;\n",
       "    }\n",
       "</style>\n",
       "<table border=\"1\" class=\"dataframe\">\n",
       "  <thead>\n",
       "    <tr style=\"text-align: right;\">\n",
       "      <th></th>\n",
       "      <th>bathroomcnt</th>\n",
       "      <th>bedroomcnt</th>\n",
       "      <th>calculatedfinishedsquarefeet</th>\n",
       "      <th>fireplacecnt</th>\n",
       "      <th>fullbathcnt</th>\n",
       "      <th>garagecarcnt</th>\n",
       "      <th>garagetotalsqft</th>\n",
       "      <th>lotsizesquarefeet</th>\n",
       "      <th>poolsizesum</th>\n",
       "      <th>roomcnt</th>\n",
       "      <th>yearbuilt</th>\n",
       "      <th>numberofstories</th>\n",
       "      <th>taxamount</th>\n",
       "    </tr>\n",
       "    <tr>\n",
       "      <th>label</th>\n",
       "      <th></th>\n",
       "      <th></th>\n",
       "      <th></th>\n",
       "      <th></th>\n",
       "      <th></th>\n",
       "      <th></th>\n",
       "      <th></th>\n",
       "      <th></th>\n",
       "      <th></th>\n",
       "      <th></th>\n",
       "      <th></th>\n",
       "      <th></th>\n",
       "      <th></th>\n",
       "    </tr>\n",
       "  </thead>\n",
       "  <tbody>\n",
       "    <tr>\n",
       "      <th>0</th>\n",
       "      <td>3.034091</td>\n",
       "      <td>4.136364</td>\n",
       "      <td>2798.090909</td>\n",
       "      <td>1.704545</td>\n",
       "      <td>2.727273</td>\n",
       "      <td>2.045455</td>\n",
       "      <td>582.363636</td>\n",
       "      <td>11593.045455</td>\n",
       "      <td>489.727273</td>\n",
       "      <td>8.136364</td>\n",
       "      <td>1983.454545</td>\n",
       "      <td>2.0</td>\n",
       "      <td>6918.925000</td>\n",
       "    </tr>\n",
       "    <tr>\n",
       "      <th>1</th>\n",
       "      <td>2.386364</td>\n",
       "      <td>3.727273</td>\n",
       "      <td>2006.590909</td>\n",
       "      <td>1.136364</td>\n",
       "      <td>2.136364</td>\n",
       "      <td>2.000000</td>\n",
       "      <td>489.636364</td>\n",
       "      <td>15960.681818</td>\n",
       "      <td>516.727273</td>\n",
       "      <td>7.318182</td>\n",
       "      <td>1971.045455</td>\n",
       "      <td>1.0</td>\n",
       "      <td>5255.057273</td>\n",
       "    </tr>\n",
       "  </tbody>\n",
       "</table>\n",
       "</div>"
      ],
      "text/plain": [
       "       bathroomcnt  bedroomcnt  calculatedfinishedsquarefeet  fireplacecnt  \\\n",
       "label                                                                        \n",
       "0         3.034091    4.136364                   2798.090909      1.704545   \n",
       "1         2.386364    3.727273                   2006.590909      1.136364   \n",
       "\n",
       "       fullbathcnt  garagecarcnt  garagetotalsqft  lotsizesquarefeet  \\\n",
       "label                                                                  \n",
       "0         2.727273      2.045455       582.363636       11593.045455   \n",
       "1         2.136364      2.000000       489.636364       15960.681818   \n",
       "\n",
       "       poolsizesum   roomcnt    yearbuilt  numberofstories    taxamount  \n",
       "label                                                                    \n",
       "0       489.727273  8.136364  1983.454545              2.0  6918.925000  \n",
       "1       516.727273  7.318182  1971.045455              1.0  5255.057273  "
      ]
     },
     "execution_count": 52,
     "metadata": {},
     "output_type": "execute_result"
    },
    {
     "data": {
      "application/javascript": [
       "\n",
       "            setTimeout(function() {\n",
       "                var nbb_cell_id = 52;\n",
       "                var nbb_unformatted_code = \"cluster_df = zillow_sub[zillow_sub[\\\"label\\\"] != -1]\\ncluster_summary = cluster_df.groupby(\\\"label\\\").mean()\\ncluster_summary\";\n",
       "                var nbb_formatted_code = \"cluster_df = zillow_sub[zillow_sub[\\\"label\\\"] != -1]\\ncluster_summary = cluster_df.groupby(\\\"label\\\").mean()\\ncluster_summary\";\n",
       "                var nbb_cells = Jupyter.notebook.get_cells();\n",
       "                for (var i = 0; i < nbb_cells.length; ++i) {\n",
       "                    if (nbb_cells[i].input_prompt_number == nbb_cell_id) {\n",
       "                        if (nbb_cells[i].get_text() == nbb_unformatted_code) {\n",
       "                             nbb_cells[i].set_text(nbb_formatted_code);\n",
       "                        }\n",
       "                        break;\n",
       "                    }\n",
       "                }\n",
       "            }, 500);\n",
       "            "
      ],
      "text/plain": [
       "<IPython.core.display.Javascript object>"
      ]
     },
     "metadata": {},
     "output_type": "display_data"
    }
   ],
   "source": [
    "cluster_df = zillow_sub[zillow_sub[\"label\"] != -1]\n",
    "cluster_summary = cluster_df.groupby(\"label\").mean()\n",
    "cluster_summary"
   ]
  },
  {
   "cell_type": "code",
   "execution_count": 73,
   "metadata": {},
   "outputs": [
    {
     "data": {
      "text/html": [
       "<div>\n",
       "<style scoped>\n",
       "    .dataframe tbody tr th:only-of-type {\n",
       "        vertical-align: middle;\n",
       "    }\n",
       "\n",
       "    .dataframe tbody tr th {\n",
       "        vertical-align: top;\n",
       "    }\n",
       "\n",
       "    .dataframe thead th {\n",
       "        text-align: right;\n",
       "    }\n",
       "</style>\n",
       "<table border=\"1\" class=\"dataframe\">\n",
       "  <thead>\n",
       "    <tr style=\"text-align: right;\">\n",
       "      <th>label</th>\n",
       "      <th>0</th>\n",
       "      <th>1</th>\n",
       "      <th>diff</th>\n",
       "      <th>perc_diff</th>\n",
       "      <th>abs_perc_diff</th>\n",
       "    </tr>\n",
       "  </thead>\n",
       "  <tbody>\n",
       "    <tr>\n",
       "      <th>numberofstories</th>\n",
       "      <td>2.000000</td>\n",
       "      <td>1.000000</td>\n",
       "      <td>1.000000</td>\n",
       "      <td>0.500000</td>\n",
       "      <td>0.500000</td>\n",
       "    </tr>\n",
       "    <tr>\n",
       "      <th>lotsizesquarefeet</th>\n",
       "      <td>11593.045455</td>\n",
       "      <td>15960.681818</td>\n",
       "      <td>-4367.636364</td>\n",
       "      <td>-0.376746</td>\n",
       "      <td>0.376746</td>\n",
       "    </tr>\n",
       "    <tr>\n",
       "      <th>fireplacecnt</th>\n",
       "      <td>1.704545</td>\n",
       "      <td>1.136364</td>\n",
       "      <td>0.568182</td>\n",
       "      <td>0.333333</td>\n",
       "      <td>0.333333</td>\n",
       "    </tr>\n",
       "    <tr>\n",
       "      <th>calculatedfinishedsquarefeet</th>\n",
       "      <td>2798.090909</td>\n",
       "      <td>2006.590909</td>\n",
       "      <td>791.500000</td>\n",
       "      <td>0.282871</td>\n",
       "      <td>0.282871</td>\n",
       "    </tr>\n",
       "    <tr>\n",
       "      <th>taxamount</th>\n",
       "      <td>6918.925000</td>\n",
       "      <td>5255.057273</td>\n",
       "      <td>1663.867727</td>\n",
       "      <td>0.240481</td>\n",
       "      <td>0.240481</td>\n",
       "    </tr>\n",
       "    <tr>\n",
       "      <th>fullbathcnt</th>\n",
       "      <td>2.727273</td>\n",
       "      <td>2.136364</td>\n",
       "      <td>0.590909</td>\n",
       "      <td>0.216667</td>\n",
       "      <td>0.216667</td>\n",
       "    </tr>\n",
       "    <tr>\n",
       "      <th>bathroomcnt</th>\n",
       "      <td>3.034091</td>\n",
       "      <td>2.386364</td>\n",
       "      <td>0.647727</td>\n",
       "      <td>0.213483</td>\n",
       "      <td>0.213483</td>\n",
       "    </tr>\n",
       "    <tr>\n",
       "      <th>garagetotalsqft</th>\n",
       "      <td>582.363636</td>\n",
       "      <td>489.636364</td>\n",
       "      <td>92.727273</td>\n",
       "      <td>0.159226</td>\n",
       "      <td>0.159226</td>\n",
       "    </tr>\n",
       "    <tr>\n",
       "      <th>roomcnt</th>\n",
       "      <td>8.136364</td>\n",
       "      <td>7.318182</td>\n",
       "      <td>0.818182</td>\n",
       "      <td>0.100559</td>\n",
       "      <td>0.100559</td>\n",
       "    </tr>\n",
       "    <tr>\n",
       "      <th>bedroomcnt</th>\n",
       "      <td>4.136364</td>\n",
       "      <td>3.727273</td>\n",
       "      <td>0.409091</td>\n",
       "      <td>0.098901</td>\n",
       "      <td>0.098901</td>\n",
       "    </tr>\n",
       "    <tr>\n",
       "      <th>poolsizesum</th>\n",
       "      <td>489.727273</td>\n",
       "      <td>516.727273</td>\n",
       "      <td>-27.000000</td>\n",
       "      <td>-0.055133</td>\n",
       "      <td>0.055133</td>\n",
       "    </tr>\n",
       "    <tr>\n",
       "      <th>garagecarcnt</th>\n",
       "      <td>2.045455</td>\n",
       "      <td>2.000000</td>\n",
       "      <td>0.045455</td>\n",
       "      <td>0.022222</td>\n",
       "      <td>0.022222</td>\n",
       "    </tr>\n",
       "    <tr>\n",
       "      <th>yearbuilt</th>\n",
       "      <td>1983.454545</td>\n",
       "      <td>1971.045455</td>\n",
       "      <td>12.409091</td>\n",
       "      <td>0.006256</td>\n",
       "      <td>0.006256</td>\n",
       "    </tr>\n",
       "  </tbody>\n",
       "</table>\n",
       "</div>"
      ],
      "text/plain": [
       "label                                    0             1         diff  \\\n",
       "numberofstories                   2.000000      1.000000     1.000000   \n",
       "lotsizesquarefeet             11593.045455  15960.681818 -4367.636364   \n",
       "fireplacecnt                      1.704545      1.136364     0.568182   \n",
       "calculatedfinishedsquarefeet   2798.090909   2006.590909   791.500000   \n",
       "taxamount                      6918.925000   5255.057273  1663.867727   \n",
       "fullbathcnt                       2.727273      2.136364     0.590909   \n",
       "bathroomcnt                       3.034091      2.386364     0.647727   \n",
       "garagetotalsqft                 582.363636    489.636364    92.727273   \n",
       "roomcnt                           8.136364      7.318182     0.818182   \n",
       "bedroomcnt                        4.136364      3.727273     0.409091   \n",
       "poolsizesum                     489.727273    516.727273   -27.000000   \n",
       "garagecarcnt                      2.045455      2.000000     0.045455   \n",
       "yearbuilt                      1983.454545   1971.045455    12.409091   \n",
       "\n",
       "label                         perc_diff  abs_perc_diff  \n",
       "numberofstories                0.500000       0.500000  \n",
       "lotsizesquarefeet             -0.376746       0.376746  \n",
       "fireplacecnt                   0.333333       0.333333  \n",
       "calculatedfinishedsquarefeet   0.282871       0.282871  \n",
       "taxamount                      0.240481       0.240481  \n",
       "fullbathcnt                    0.216667       0.216667  \n",
       "bathroomcnt                    0.213483       0.213483  \n",
       "garagetotalsqft                0.159226       0.159226  \n",
       "roomcnt                        0.100559       0.100559  \n",
       "bedroomcnt                     0.098901       0.098901  \n",
       "poolsizesum                   -0.055133       0.055133  \n",
       "garagecarcnt                   0.022222       0.022222  \n",
       "yearbuilt                      0.006256       0.006256  "
      ]
     },
     "metadata": {},
     "output_type": "display_data"
    },
    {
     "data": {
      "application/javascript": [
       "\n",
       "            setTimeout(function() {\n",
       "                var nbb_cell_id = 73;\n",
       "                var nbb_unformatted_code = \"clst_sum_tall = cluster_summary.T\\nclst_sum_tall[\\\"diff\\\"] = clst_sum_tall[0] - clst_sum_tall[1]\\nclst_sum_tall[\\\"perc_diff\\\"] = clst_sum_tall[\\\"diff\\\"] / clst_sum_tall[0]\\nclst_sum_tall[\\\"abs_perc_diff\\\"] = clst_sum_tall[\\\"perc_diff\\\"].abs()\\nclst_sum_tall = clst_sum_tall.sort_values(\\\"abs_perc_diff\\\", ascending=False)\\n\\ndisplay(clst_sum_tall)\\n\\nbiggest_diffs = clst_sum_tall.head().index\";\n",
       "                var nbb_formatted_code = \"clst_sum_tall = cluster_summary.T\\nclst_sum_tall[\\\"diff\\\"] = clst_sum_tall[0] - clst_sum_tall[1]\\nclst_sum_tall[\\\"perc_diff\\\"] = clst_sum_tall[\\\"diff\\\"] / clst_sum_tall[0]\\nclst_sum_tall[\\\"abs_perc_diff\\\"] = clst_sum_tall[\\\"perc_diff\\\"].abs()\\nclst_sum_tall = clst_sum_tall.sort_values(\\\"abs_perc_diff\\\", ascending=False)\\n\\ndisplay(clst_sum_tall)\\n\\nbiggest_diffs = clst_sum_tall.head().index\";\n",
       "                var nbb_cells = Jupyter.notebook.get_cells();\n",
       "                for (var i = 0; i < nbb_cells.length; ++i) {\n",
       "                    if (nbb_cells[i].input_prompt_number == nbb_cell_id) {\n",
       "                        if (nbb_cells[i].get_text() == nbb_unformatted_code) {\n",
       "                             nbb_cells[i].set_text(nbb_formatted_code);\n",
       "                        }\n",
       "                        break;\n",
       "                    }\n",
       "                }\n",
       "            }, 500);\n",
       "            "
      ],
      "text/plain": [
       "<IPython.core.display.Javascript object>"
      ]
     },
     "metadata": {},
     "output_type": "display_data"
    }
   ],
   "source": [
    "clst_sum_tall = cluster_summary.T\n",
    "clst_sum_tall[\"diff\"] = clst_sum_tall[0] - clst_sum_tall[1]\n",
    "clst_sum_tall[\"perc_diff\"] = clst_sum_tall[\"diff\"] / clst_sum_tall[0]\n",
    "clst_sum_tall[\"abs_perc_diff\"] = clst_sum_tall[\"perc_diff\"].abs()\n",
    "clst_sum_tall = clst_sum_tall.sort_values(\"abs_perc_diff\", ascending=False)\n",
    "\n",
    "display(clst_sum_tall)\n",
    "\n",
    "biggest_diffs = clst_sum_tall.head().index"
   ]
  },
  {
   "cell_type": "code",
   "execution_count": 76,
   "metadata": {},
   "outputs": [
    {
     "data": {
      "image/png": "[encoded data removed]",
      "text/plain": [
       "<Figure size 432x288 with 1 Axes>"
      ]
     },
     "metadata": {
      "needs_background": "light"
     },
     "output_type": "display_data"
    },
    {
     "data": {
      "image/png": "[encoded data removed]",
      "text/plain": [
       "<Figure size 432x288 with 1 Axes>"
      ]
     },
     "metadata": {
      "needs_background": "light"
     },
     "output_type": "display_data"
    },
    {
     "data": {
      "image/png": "[encoded data removed]",
      "text/plain": [
       "<Figure size 432x288 with 1 Axes>"
      ]
     },
     "metadata": {
      "needs_background": "light"
     },
     "output_type": "display_data"
    },
    {
     "data": {
      "image/png": "[encoded data removed]",
      "text/plain": [
       "<Figure size 432x288 with 1 Axes>"
      ]
     },
     "metadata": {
      "needs_background": "light"
     },
     "output_type": "display_data"
    },
    {
     "data": {
      "image/png": "[encoded data removed]",
      "text/plain": [
       "<Figure size 432x288 with 1 Axes>"
      ]
     },
     "metadata": {
      "needs_background": "light"
     },
     "output_type": "display_data"
    },
    {
     "data": {
      "application/javascript": [
       "\n",
       "            setTimeout(function() {\n",
       "                var nbb_cell_id = 76;\n",
       "                var nbb_unformatted_code = \"for column in biggest_diffs:\\n    sns.violinplot(\\\"label\\\", column, data=cluster_df)\\n    plt.show()\";\n",
       "                var nbb_formatted_code = \"for column in biggest_diffs:\\n    sns.violinplot(\\\"label\\\", column, data=cluster_df)\\n    plt.show()\";\n",
       "                var nbb_cells = Jupyter.notebook.get_cells();\n",
       "                for (var i = 0; i < nbb_cells.length; ++i) {\n",
       "                    if (nbb_cells[i].input_prompt_number == nbb_cell_id) {\n",
       "                        if (nbb_cells[i].get_text() == nbb_unformatted_code) {\n",
       "                             nbb_cells[i].set_text(nbb_formatted_code);\n",
       "                        }\n",
       "                        break;\n",
       "                    }\n",
       "                }\n",
       "            }, 500);\n",
       "            "
      ],
      "text/plain": [
       "<IPython.core.display.Javascript object>"
      ]
     },
     "metadata": {},
     "output_type": "display_data"
    }
   ],
   "source": [
    "for column in biggest_diffs:\n",
    "    sns.violinplot(\"label\", column, data=cluster_df)\n",
    "    plt.show()"
   ]
  },
  {
   "cell_type": "code",
   "execution_count": 58,
   "metadata": {
    "colab": {
     "base_uri": "https://localhost:8080/",
     "height": 204
    },
    "colab_type": "code",
    "id": "AbWifg-1gflL",
    "outputId": "c96feb38-5490-4b41-a723-9c892f9bf602"
   },
   "outputs": [
    {
     "data": {
      "image/png": "[encoded data removed]",
      "text/plain": [
       "<Figure size 432x288 with 1 Axes>"
      ]
     },
     "metadata": {
      "needs_background": "light"
     },
     "output_type": "display_data"
    },
    {
     "data": {
      "application/javascript": [
       "\n",
       "            setTimeout(function() {\n",
       "                var nbb_cell_id = 58;\n",
       "                var nbb_unformatted_code = \"cluster_summary_lab = cluster_summary.reset_index()\\nbarplot_df = pd.melt(cluster_summary_lab, \\\"label\\\")\\n\\nsns.barplot(\\\"value\\\", \\\"variable\\\", hue=\\\"label\\\", data=barplot_df)\\nplt.show()\";\n",
       "                var nbb_formatted_code = \"cluster_summary_lab = cluster_summary.reset_index()\\nbarplot_df = pd.melt(cluster_summary_lab, \\\"label\\\")\\n\\nsns.barplot(\\\"value\\\", \\\"variable\\\", hue=\\\"label\\\", data=barplot_df)\\nplt.show()\";\n",
       "                var nbb_cells = Jupyter.notebook.get_cells();\n",
       "                for (var i = 0; i < nbb_cells.length; ++i) {\n",
       "                    if (nbb_cells[i].input_prompt_number == nbb_cell_id) {\n",
       "                        if (nbb_cells[i].get_text() == nbb_unformatted_code) {\n",
       "                             nbb_cells[i].set_text(nbb_formatted_code);\n",
       "                        }\n",
       "                        break;\n",
       "                    }\n",
       "                }\n",
       "            }, 500);\n",
       "            "
      ],
      "text/plain": [
       "<IPython.core.display.Javascript object>"
      ]
     },
     "metadata": {},
     "output_type": "display_data"
    }
   ],
   "source": [
    "barplot_df = pd.melt(cluster_summary_lab, \"label\")\n",
    "\n",
    "sns.barplot(\"value\", \"variable\", hue=\"label\", data=barplot_df)\n",
    "plt.show()"
   ]
  },
  {
   "cell_type": "code",
   "execution_count": 59,
   "metadata": {},
   "outputs": [
    {
     "data": {
      "text/html": [
       "<div>\n",
       "<style scoped>\n",
       "    .dataframe tbody tr th:only-of-type {\n",
       "        vertical-align: middle;\n",
       "    }\n",
       "\n",
       "    .dataframe tbody tr th {\n",
       "        vertical-align: top;\n",
       "    }\n",
       "\n",
       "    .dataframe thead th {\n",
       "        text-align: right;\n",
       "    }\n",
       "</style>\n",
       "<table border=\"1\" class=\"dataframe\">\n",
       "  <thead>\n",
       "    <tr style=\"text-align: right;\">\n",
       "      <th></th>\n",
       "      <th>label</th>\n",
       "      <th>variable</th>\n",
       "      <th>value</th>\n",
       "    </tr>\n",
       "  </thead>\n",
       "  <tbody>\n",
       "    <tr>\n",
       "      <th>0</th>\n",
       "      <td>0</td>\n",
       "      <td>bathroomcnt</td>\n",
       "      <td>3.034091</td>\n",
       "    </tr>\n",
       "    <tr>\n",
       "      <th>1</th>\n",
       "      <td>1</td>\n",
       "      <td>bathroomcnt</td>\n",
       "      <td>2.386364</td>\n",
       "    </tr>\n",
       "    <tr>\n",
       "      <th>2</th>\n",
       "      <td>0</td>\n",
       "      <td>bedroomcnt</td>\n",
       "      <td>4.136364</td>\n",
       "    </tr>\n",
       "    <tr>\n",
       "      <th>3</th>\n",
       "      <td>1</td>\n",
       "      <td>bedroomcnt</td>\n",
       "      <td>3.727273</td>\n",
       "    </tr>\n",
       "    <tr>\n",
       "      <th>4</th>\n",
       "      <td>0</td>\n",
       "      <td>calculatedfinishedsquarefeet</td>\n",
       "      <td>2798.090909</td>\n",
       "    </tr>\n",
       "    <tr>\n",
       "      <th>5</th>\n",
       "      <td>1</td>\n",
       "      <td>calculatedfinishedsquarefeet</td>\n",
       "      <td>2006.590909</td>\n",
       "    </tr>\n",
       "    <tr>\n",
       "      <th>6</th>\n",
       "      <td>0</td>\n",
       "      <td>fireplacecnt</td>\n",
       "      <td>1.704545</td>\n",
       "    </tr>\n",
       "    <tr>\n",
       "      <th>7</th>\n",
       "      <td>1</td>\n",
       "      <td>fireplacecnt</td>\n",
       "      <td>1.136364</td>\n",
       "    </tr>\n",
       "    <tr>\n",
       "      <th>8</th>\n",
       "      <td>0</td>\n",
       "      <td>fullbathcnt</td>\n",
       "      <td>2.727273</td>\n",
       "    </tr>\n",
       "    <tr>\n",
       "      <th>9</th>\n",
       "      <td>1</td>\n",
       "      <td>fullbathcnt</td>\n",
       "      <td>2.136364</td>\n",
       "    </tr>\n",
       "    <tr>\n",
       "      <th>10</th>\n",
       "      <td>0</td>\n",
       "      <td>garagecarcnt</td>\n",
       "      <td>2.045455</td>\n",
       "    </tr>\n",
       "    <tr>\n",
       "      <th>11</th>\n",
       "      <td>1</td>\n",
       "      <td>garagecarcnt</td>\n",
       "      <td>2.000000</td>\n",
       "    </tr>\n",
       "    <tr>\n",
       "      <th>12</th>\n",
       "      <td>0</td>\n",
       "      <td>garagetotalsqft</td>\n",
       "      <td>582.363636</td>\n",
       "    </tr>\n",
       "    <tr>\n",
       "      <th>13</th>\n",
       "      <td>1</td>\n",
       "      <td>garagetotalsqft</td>\n",
       "      <td>489.636364</td>\n",
       "    </tr>\n",
       "    <tr>\n",
       "      <th>14</th>\n",
       "      <td>0</td>\n",
       "      <td>lotsizesquarefeet</td>\n",
       "      <td>11593.045455</td>\n",
       "    </tr>\n",
       "    <tr>\n",
       "      <th>15</th>\n",
       "      <td>1</td>\n",
       "      <td>lotsizesquarefeet</td>\n",
       "      <td>15960.681818</td>\n",
       "    </tr>\n",
       "    <tr>\n",
       "      <th>16</th>\n",
       "      <td>0</td>\n",
       "      <td>poolsizesum</td>\n",
       "      <td>489.727273</td>\n",
       "    </tr>\n",
       "    <tr>\n",
       "      <th>17</th>\n",
       "      <td>1</td>\n",
       "      <td>poolsizesum</td>\n",
       "      <td>516.727273</td>\n",
       "    </tr>\n",
       "    <tr>\n",
       "      <th>18</th>\n",
       "      <td>0</td>\n",
       "      <td>roomcnt</td>\n",
       "      <td>8.136364</td>\n",
       "    </tr>\n",
       "    <tr>\n",
       "      <th>19</th>\n",
       "      <td>1</td>\n",
       "      <td>roomcnt</td>\n",
       "      <td>7.318182</td>\n",
       "    </tr>\n",
       "    <tr>\n",
       "      <th>20</th>\n",
       "      <td>0</td>\n",
       "      <td>yearbuilt</td>\n",
       "      <td>1983.454545</td>\n",
       "    </tr>\n",
       "    <tr>\n",
       "      <th>21</th>\n",
       "      <td>1</td>\n",
       "      <td>yearbuilt</td>\n",
       "      <td>1971.045455</td>\n",
       "    </tr>\n",
       "    <tr>\n",
       "      <th>22</th>\n",
       "      <td>0</td>\n",
       "      <td>numberofstories</td>\n",
       "      <td>2.000000</td>\n",
       "    </tr>\n",
       "    <tr>\n",
       "      <th>23</th>\n",
       "      <td>1</td>\n",
       "      <td>numberofstories</td>\n",
       "      <td>1.000000</td>\n",
       "    </tr>\n",
       "    <tr>\n",
       "      <th>24</th>\n",
       "      <td>0</td>\n",
       "      <td>taxamount</td>\n",
       "      <td>6918.925000</td>\n",
       "    </tr>\n",
       "    <tr>\n",
       "      <th>25</th>\n",
       "      <td>1</td>\n",
       "      <td>taxamount</td>\n",
       "      <td>5255.057273</td>\n",
       "    </tr>\n",
       "  </tbody>\n",
       "</table>\n",
       "</div>"
      ],
      "text/plain": [
       "    label                      variable         value\n",
       "0       0                   bathroomcnt      3.034091\n",
       "1       1                   bathroomcnt      2.386364\n",
       "2       0                    bedroomcnt      4.136364\n",
       "3       1                    bedroomcnt      3.727273\n",
       "4       0  calculatedfinishedsquarefeet   2798.090909\n",
       "5       1  calculatedfinishedsquarefeet   2006.590909\n",
       "6       0                  fireplacecnt      1.704545\n",
       "7       1                  fireplacecnt      1.136364\n",
       "8       0                   fullbathcnt      2.727273\n",
       "9       1                   fullbathcnt      2.136364\n",
       "10      0                  garagecarcnt      2.045455\n",
       "11      1                  garagecarcnt      2.000000\n",
       "12      0               garagetotalsqft    582.363636\n",
       "13      1               garagetotalsqft    489.636364\n",
       "14      0             lotsizesquarefeet  11593.045455\n",
       "15      1             lotsizesquarefeet  15960.681818\n",
       "16      0                   poolsizesum    489.727273\n",
       "17      1                   poolsizesum    516.727273\n",
       "18      0                       roomcnt      8.136364\n",
       "19      1                       roomcnt      7.318182\n",
       "20      0                     yearbuilt   1983.454545\n",
       "21      1                     yearbuilt   1971.045455\n",
       "22      0               numberofstories      2.000000\n",
       "23      1               numberofstories      1.000000\n",
       "24      0                     taxamount   6918.925000\n",
       "25      1                     taxamount   5255.057273"
      ]
     },
     "execution_count": 59,
     "metadata": {},
     "output_type": "execute_result"
    },
    {
     "data": {
      "application/javascript": [
       "\n",
       "            setTimeout(function() {\n",
       "                var nbb_cell_id = 59;\n",
       "                var nbb_unformatted_code = \"barplot_df\";\n",
       "                var nbb_formatted_code = \"barplot_df\";\n",
       "                var nbb_cells = Jupyter.notebook.get_cells();\n",
       "                for (var i = 0; i < nbb_cells.length; ++i) {\n",
       "                    if (nbb_cells[i].input_prompt_number == nbb_cell_id) {\n",
       "                        if (nbb_cells[i].get_text() == nbb_unformatted_code) {\n",
       "                             nbb_cells[i].set_text(nbb_formatted_code);\n",
       "                        }\n",
       "                        break;\n",
       "                    }\n",
       "                }\n",
       "            }, 500);\n",
       "            "
      ],
      "text/plain": [
       "<IPython.core.display.Javascript object>"
      ]
     },
     "metadata": {},
     "output_type": "display_data"
    }
   ],
   "source": [
    "barplot_df"
   ]
  },
  {
   "cell_type": "code",
   "execution_count": null,
   "metadata": {},
   "outputs": [],
   "source": []
  }
 ],
 "metadata": {
  "colab": {
   "collapsed_sections": [],
   "name": "Copy of zillow_clustering.ipynb",
   "provenance": []
  },
  "kernelspec": {
   "display_name": "Python 3",
   "language": "python",
   "name": "python3"
  },
  "language_info": {
   "codemirror_mode": {
    "name": "ipython",
    "version": 3
   },
   "file_extension": ".py",
   "mimetype": "text/x-python",
   "name": "python",
   "nbconvert_exporter": "python",
   "pygments_lexer": "ipython3",
   "version": "3.7.7"
  }
 },
 "nbformat": 4,
 "nbformat_minor": 1
}
