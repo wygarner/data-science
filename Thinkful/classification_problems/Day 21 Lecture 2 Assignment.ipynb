{
 "cells": [
  {
   "cell_type": "markdown",
   "metadata": {
    "colab_type": "text",
    "id": "R76jIygVnkFi"
   },
   "source": [
    "## Day 21 Lecture 2 Assignment\n",
    "\n",
    "In this assignment, we will apply techniques for identifying and dealing with outliers to a dataset containing information about Uber rides."
   ]
  },
  {
   "cell_type": "code",
   "execution_count": 18,
   "metadata": {},
   "outputs": [
    {
     "name": "stdout",
     "output_type": "stream",
     "text": [
      "The nb_black extension is already loaded. To reload it, use:\n",
      "  %reload_ext nb_black\n"
     ]
    },
    {
     "data": {
      "application/javascript": [
       "\n",
       "            setTimeout(function() {\n",
       "                var nbb_cell_id = 18;\n",
       "                var nbb_unformatted_code = \"%load_ext nb_black\";\n",
       "                var nbb_formatted_code = \"%load_ext nb_black\";\n",
       "                var nbb_cells = Jupyter.notebook.get_cells();\n",
       "                for (var i = 0; i < nbb_cells.length; ++i) {\n",
       "                    if (nbb_cells[i].input_prompt_number == nbb_cell_id) {\n",
       "                        if (nbb_cells[i].get_text() == nbb_unformatted_code) {\n",
       "                             nbb_cells[i].set_text(nbb_formatted_code);\n",
       "                        }\n",
       "                        break;\n",
       "                    }\n",
       "                }\n",
       "            }, 500);\n",
       "            "
      ],
      "text/plain": [
       "<IPython.core.display.Javascript object>"
      ]
     },
     "metadata": {},
     "output_type": "display_data"
    }
   ],
   "source": [
    "%load_ext nb_black"
   ]
  },
  {
   "cell_type": "code",
   "execution_count": 61,
   "metadata": {
    "colab": {},
    "colab_type": "code",
    "id": "QEtvln--nkFj"
   },
   "outputs": [
    {
     "data": {
      "application/javascript": [
       "\n",
       "            setTimeout(function() {\n",
       "                var nbb_cell_id = 61;\n",
       "                var nbb_unformatted_code = \"%matplotlib inline\\n\\nimport matplotlib.pyplot as plt\\nimport numpy as np\\nimport pandas as pd\\nimport ssl\\nfrom scipy.stats.mstats import winsorize\\n\\nssl._create_default_https_context = ssl._create_unverified_context\";\n",
       "                var nbb_formatted_code = \"%matplotlib inline\\n\\nimport matplotlib.pyplot as plt\\nimport numpy as np\\nimport pandas as pd\\nimport ssl\\nfrom scipy.stats.mstats import winsorize\\n\\nssl._create_default_https_context = ssl._create_unverified_context\";\n",
       "                var nbb_cells = Jupyter.notebook.get_cells();\n",
       "                for (var i = 0; i < nbb_cells.length; ++i) {\n",
       "                    if (nbb_cells[i].input_prompt_number == nbb_cell_id) {\n",
       "                        if (nbb_cells[i].get_text() == nbb_unformatted_code) {\n",
       "                             nbb_cells[i].set_text(nbb_formatted_code);\n",
       "                        }\n",
       "                        break;\n",
       "                    }\n",
       "                }\n",
       "            }, 500);\n",
       "            "
      ],
      "text/plain": [
       "<IPython.core.display.Javascript object>"
      ]
     },
     "metadata": {},
     "output_type": "display_data"
    }
   ],
   "source": [
    "%matplotlib inline\n",
    "\n",
    "import matplotlib.pyplot as plt\n",
    "import numpy as np\n",
    "import pandas as pd\n",
    "import ssl\n",
    "from scipy.stats.mstats import winsorize\n",
    "\n",
    "ssl._create_default_https_context = ssl._create_unverified_context"
   ]
  },
  {
   "cell_type": "code",
   "execution_count": 47,
   "metadata": {
    "colab": {},
    "colab_type": "code",
    "id": "4pEWovz1nkFl"
   },
   "outputs": [
    {
     "data": {
      "application/javascript": [
       "\n",
       "            setTimeout(function() {\n",
       "                var nbb_cell_id = 47;\n",
       "                var nbb_unformatted_code = \"uber_data = pd.read_csv(\\n    \\\"https://tf-assets-prod.s3.amazonaws.com/tf-curric/data-science/uber_rides.csv\\\"\\n)\";\n",
       "                var nbb_formatted_code = \"uber_data = pd.read_csv(\\n    \\\"https://tf-assets-prod.s3.amazonaws.com/tf-curric/data-science/uber_rides.csv\\\"\\n)\";\n",
       "                var nbb_cells = Jupyter.notebook.get_cells();\n",
       "                for (var i = 0; i < nbb_cells.length; ++i) {\n",
       "                    if (nbb_cells[i].input_prompt_number == nbb_cell_id) {\n",
       "                        if (nbb_cells[i].get_text() == nbb_unformatted_code) {\n",
       "                             nbb_cells[i].set_text(nbb_formatted_code);\n",
       "                        }\n",
       "                        break;\n",
       "                    }\n",
       "                }\n",
       "            }, 500);\n",
       "            "
      ],
      "text/plain": [
       "<IPython.core.display.Javascript object>"
      ]
     },
     "metadata": {},
     "output_type": "display_data"
    }
   ],
   "source": [
    "uber_data = pd.read_csv(\n",
    "    \"https://tf-assets-prod.s3.amazonaws.com/tf-curric/data-science/uber_rides.csv\"\n",
    ")"
   ]
  },
  {
   "cell_type": "code",
   "execution_count": 48,
   "metadata": {
    "colab": {},
    "colab_type": "code",
    "id": "pkrBu-8kRS6s",
    "outputId": "27cb6395-8d53-45da-d2dd-26cf307e6fce"
   },
   "outputs": [
    {
     "data": {
      "text/html": [
       "<div>\n",
       "<style scoped>\n",
       "    .dataframe tbody tr th:only-of-type {\n",
       "        vertical-align: middle;\n",
       "    }\n",
       "\n",
       "    .dataframe tbody tr th {\n",
       "        vertical-align: top;\n",
       "    }\n",
       "\n",
       "    .dataframe thead th {\n",
       "        text-align: right;\n",
       "    }\n",
       "</style>\n",
       "<table border=\"1\" class=\"dataframe\">\n",
       "  <thead>\n",
       "    <tr style=\"text-align: right;\">\n",
       "      <th></th>\n",
       "      <th>trip_uid</th>\n",
       "      <th>trip_time</th>\n",
       "      <th>total_time</th>\n",
       "      <th>wait_time</th>\n",
       "      <th>price_rub</th>\n",
       "      <th>price_usd</th>\n",
       "      <th>distance_kms</th>\n",
       "      <th>temperature_value</th>\n",
       "      <th>feels_like</th>\n",
       "      <th>humidity</th>\n",
       "      <th>wind_speed</th>\n",
       "      <th>cloudness</th>\n",
       "    </tr>\n",
       "  </thead>\n",
       "  <tbody>\n",
       "    <tr>\n",
       "      <th>0</th>\n",
       "      <td>ee89076fd9da9bddf5f096b0ca42f8d5</td>\n",
       "      <td>0:21:33</td>\n",
       "      <td>0:29:00</td>\n",
       "      <td>0:07:27</td>\n",
       "      <td>265</td>\n",
       "      <td>5.17</td>\n",
       "      <td>9.29</td>\n",
       "      <td>12</td>\n",
       "      <td>12</td>\n",
       "      <td>0.69</td>\n",
       "      <td>4.81</td>\n",
       "      <td>0.78</td>\n",
       "    </tr>\n",
       "    <tr>\n",
       "      <th>1</th>\n",
       "      <td>518be51d403944a03c47e8d1f2c87311</td>\n",
       "      <td>0:19:27</td>\n",
       "      <td>0:26:00</td>\n",
       "      <td>0:06:33</td>\n",
       "      <td>255</td>\n",
       "      <td>4.97</td>\n",
       "      <td>9.93</td>\n",
       "      <td>10</td>\n",
       "      <td>10</td>\n",
       "      <td>0.70</td>\n",
       "      <td>6.53</td>\n",
       "      <td>0.66</td>\n",
       "    </tr>\n",
       "    <tr>\n",
       "      <th>2</th>\n",
       "      <td>6e460cc8a12c3c6568d0d4a67ac58393</td>\n",
       "      <td>1:06:53</td>\n",
       "      <td>1:23:00</td>\n",
       "      <td>0:16:07</td>\n",
       "      <td>644</td>\n",
       "      <td>13.01</td>\n",
       "      <td>18.01</td>\n",
       "      <td>14</td>\n",
       "      <td>14</td>\n",
       "      <td>0.61</td>\n",
       "      <td>5.25</td>\n",
       "      <td>0.86</td>\n",
       "    </tr>\n",
       "    <tr>\n",
       "      <th>3</th>\n",
       "      <td>49613a86a04e6c15d72b51d1a2935d81</td>\n",
       "      <td>0:13:37</td>\n",
       "      <td>0:20:00</td>\n",
       "      <td>0:06:23</td>\n",
       "      <td>1287</td>\n",
       "      <td>25.99</td>\n",
       "      <td>5.10</td>\n",
       "      <td>3</td>\n",
       "      <td>3</td>\n",
       "      <td>0.84</td>\n",
       "      <td>0.87</td>\n",
       "      <td>0.56</td>\n",
       "    </tr>\n",
       "    <tr>\n",
       "      <th>4</th>\n",
       "      <td>9896148fdecdb4c5d977a8691510bdb6</td>\n",
       "      <td>0:38:54</td>\n",
       "      <td>0:49:00</td>\n",
       "      <td>0:10:06</td>\n",
       "      <td>665</td>\n",
       "      <td>13.43</td>\n",
       "      <td>21.92</td>\n",
       "      <td>3</td>\n",
       "      <td>1</td>\n",
       "      <td>0.90</td>\n",
       "      <td>1.61</td>\n",
       "      <td>0.31</td>\n",
       "    </tr>\n",
       "  </tbody>\n",
       "</table>\n",
       "</div>"
      ],
      "text/plain": [
       "                           trip_uid trip_time total_time wait_time price_rub  \\\n",
       "0  ee89076fd9da9bddf5f096b0ca42f8d5   0:21:33    0:29:00   0:07:27       265   \n",
       "1  518be51d403944a03c47e8d1f2c87311   0:19:27    0:26:00   0:06:33       255   \n",
       "2  6e460cc8a12c3c6568d0d4a67ac58393   1:06:53    1:23:00   0:16:07       644   \n",
       "3  49613a86a04e6c15d72b51d1a2935d81   0:13:37    0:20:00   0:06:23      1287   \n",
       "4  9896148fdecdb4c5d977a8691510bdb6   0:38:54    0:49:00   0:10:06       665   \n",
       "\n",
       "   price_usd  distance_kms  temperature_value  feels_like  humidity  \\\n",
       "0       5.17          9.29                 12          12      0.69   \n",
       "1       4.97          9.93                 10          10      0.70   \n",
       "2      13.01         18.01                 14          14      0.61   \n",
       "3      25.99          5.10                  3           3      0.84   \n",
       "4      13.43         21.92                  3           1      0.90   \n",
       "\n",
       "   wind_speed cloudness  \n",
       "0        4.81      0.78  \n",
       "1        6.53      0.66  \n",
       "2        5.25      0.86  \n",
       "3        0.87      0.56  \n",
       "4        1.61      0.31  "
      ]
     },
     "execution_count": 48,
     "metadata": {},
     "output_type": "execute_result"
    },
    {
     "data": {
      "application/javascript": [
       "\n",
       "            setTimeout(function() {\n",
       "                var nbb_cell_id = 48;\n",
       "                var nbb_unformatted_code = \"uber_data.head()\";\n",
       "                var nbb_formatted_code = \"uber_data.head()\";\n",
       "                var nbb_cells = Jupyter.notebook.get_cells();\n",
       "                for (var i = 0; i < nbb_cells.length; ++i) {\n",
       "                    if (nbb_cells[i].input_prompt_number == nbb_cell_id) {\n",
       "                        if (nbb_cells[i].get_text() == nbb_unformatted_code) {\n",
       "                             nbb_cells[i].set_text(nbb_formatted_code);\n",
       "                        }\n",
       "                        break;\n",
       "                    }\n",
       "                }\n",
       "            }, 500);\n",
       "            "
      ],
      "text/plain": [
       "<IPython.core.display.Javascript object>"
      ]
     },
     "metadata": {},
     "output_type": "display_data"
    }
   ],
   "source": [
    "uber_data.head()"
   ]
  },
  {
   "cell_type": "markdown",
   "metadata": {
    "colab_type": "text",
    "id": "5NS7puiURS6v"
   },
   "source": [
    "Before we identify outliers in the given columns, we need to address three time columns (trip_time, total_time, and wait_time), which are provided as formatted strings (HH:MM:SS) instead of numeric values. Convert the values in these three columns into their numeric equivalents in minutes - \"2:15\" should be converted to \"2.25\", \"1:22:30\" should be converted to \"82.5\", and so on. You may find it helpful to write a function that does this and use the .apply() function to apply it to all of the necessary columns."
   ]
  },
  {
   "cell_type": "code",
   "execution_count": 67,
   "metadata": {},
   "outputs": [
    {
     "data": {
      "text/plain": [
       "82.5"
      ]
     },
     "execution_count": 67,
     "metadata": {},
     "output_type": "execute_result"
    },
    {
     "data": {
      "application/javascript": [
       "\n",
       "            setTimeout(function() {\n",
       "                var nbb_cell_id = 67;\n",
       "                var nbb_unformatted_code = \"s = \\\"1:22:30\\\"\\n\\ntime_split = s.split(\\\":\\\")\\ntime_split\\ntime_split = [int(i) for i in time_split]\\nhours = time_split[0] * 60\\nminutes = time_split[1]\\nseconds = time_split[2] / 60\\ntime_int = hours + minutes + seconds\\ntime_int\";\n",
       "                var nbb_formatted_code = \"s = \\\"1:22:30\\\"\\n\\ntime_split = s.split(\\\":\\\")\\ntime_split\\ntime_split = [int(i) for i in time_split]\\nhours = time_split[0] * 60\\nminutes = time_split[1]\\nseconds = time_split[2] / 60\\ntime_int = hours + minutes + seconds\\ntime_int\";\n",
       "                var nbb_cells = Jupyter.notebook.get_cells();\n",
       "                for (var i = 0; i < nbb_cells.length; ++i) {\n",
       "                    if (nbb_cells[i].input_prompt_number == nbb_cell_id) {\n",
       "                        if (nbb_cells[i].get_text() == nbb_unformatted_code) {\n",
       "                             nbb_cells[i].set_text(nbb_formatted_code);\n",
       "                        }\n",
       "                        break;\n",
       "                    }\n",
       "                }\n",
       "            }, 500);\n",
       "            "
      ],
      "text/plain": [
       "<IPython.core.display.Javascript object>"
      ]
     },
     "metadata": {},
     "output_type": "display_data"
    }
   ],
   "source": [
    "s = \"1:22:30\"\n",
    "\n",
    "time_split = s.split(\":\")\n",
    "time_split\n",
    "time_split = [int(i) for i in time_split]\n",
    "hours = time_split[0] * 60\n",
    "minutes = time_split[1]\n",
    "seconds = time_split[2] / 60\n",
    "time_int = hours + minutes + seconds\n",
    "time_int"
   ]
  },
  {
   "cell_type": "code",
   "execution_count": 49,
   "metadata": {
    "colab": {},
    "colab_type": "code",
    "id": "caYPANrJnkFn",
    "scrolled": true
   },
   "outputs": [
    {
     "data": {
      "text/html": [
       "<div>\n",
       "<style scoped>\n",
       "    .dataframe tbody tr th:only-of-type {\n",
       "        vertical-align: middle;\n",
       "    }\n",
       "\n",
       "    .dataframe tbody tr th {\n",
       "        vertical-align: top;\n",
       "    }\n",
       "\n",
       "    .dataframe thead th {\n",
       "        text-align: right;\n",
       "    }\n",
       "</style>\n",
       "<table border=\"1\" class=\"dataframe\">\n",
       "  <thead>\n",
       "    <tr style=\"text-align: right;\">\n",
       "      <th></th>\n",
       "      <th>trip_uid</th>\n",
       "      <th>trip_time</th>\n",
       "      <th>total_time</th>\n",
       "      <th>wait_time</th>\n",
       "      <th>price_rub</th>\n",
       "      <th>price_usd</th>\n",
       "      <th>distance_kms</th>\n",
       "      <th>temperature_value</th>\n",
       "      <th>feels_like</th>\n",
       "      <th>humidity</th>\n",
       "      <th>wind_speed</th>\n",
       "      <th>cloudness</th>\n",
       "    </tr>\n",
       "  </thead>\n",
       "  <tbody>\n",
       "    <tr>\n",
       "      <th>0</th>\n",
       "      <td>ee89076fd9da9bddf5f096b0ca42f8d5</td>\n",
       "      <td>21.550000</td>\n",
       "      <td>29.0</td>\n",
       "      <td>7.450000</td>\n",
       "      <td>265</td>\n",
       "      <td>5.17</td>\n",
       "      <td>9.29</td>\n",
       "      <td>12</td>\n",
       "      <td>12</td>\n",
       "      <td>0.69</td>\n",
       "      <td>4.81</td>\n",
       "      <td>0.78</td>\n",
       "    </tr>\n",
       "    <tr>\n",
       "      <th>1</th>\n",
       "      <td>518be51d403944a03c47e8d1f2c87311</td>\n",
       "      <td>19.450000</td>\n",
       "      <td>26.0</td>\n",
       "      <td>6.550000</td>\n",
       "      <td>255</td>\n",
       "      <td>4.97</td>\n",
       "      <td>9.93</td>\n",
       "      <td>10</td>\n",
       "      <td>10</td>\n",
       "      <td>0.70</td>\n",
       "      <td>6.53</td>\n",
       "      <td>0.66</td>\n",
       "    </tr>\n",
       "    <tr>\n",
       "      <th>2</th>\n",
       "      <td>6e460cc8a12c3c6568d0d4a67ac58393</td>\n",
       "      <td>66.883333</td>\n",
       "      <td>83.0</td>\n",
       "      <td>16.116667</td>\n",
       "      <td>644</td>\n",
       "      <td>13.01</td>\n",
       "      <td>18.01</td>\n",
       "      <td>14</td>\n",
       "      <td>14</td>\n",
       "      <td>0.61</td>\n",
       "      <td>5.25</td>\n",
       "      <td>0.86</td>\n",
       "    </tr>\n",
       "    <tr>\n",
       "      <th>3</th>\n",
       "      <td>49613a86a04e6c15d72b51d1a2935d81</td>\n",
       "      <td>13.616667</td>\n",
       "      <td>20.0</td>\n",
       "      <td>6.383333</td>\n",
       "      <td>1287</td>\n",
       "      <td>25.99</td>\n",
       "      <td>5.10</td>\n",
       "      <td>3</td>\n",
       "      <td>3</td>\n",
       "      <td>0.84</td>\n",
       "      <td>0.87</td>\n",
       "      <td>0.56</td>\n",
       "    </tr>\n",
       "    <tr>\n",
       "      <th>4</th>\n",
       "      <td>9896148fdecdb4c5d977a8691510bdb6</td>\n",
       "      <td>38.900000</td>\n",
       "      <td>49.0</td>\n",
       "      <td>10.100000</td>\n",
       "      <td>665</td>\n",
       "      <td>13.43</td>\n",
       "      <td>21.92</td>\n",
       "      <td>3</td>\n",
       "      <td>1</td>\n",
       "      <td>0.90</td>\n",
       "      <td>1.61</td>\n",
       "      <td>0.31</td>\n",
       "    </tr>\n",
       "    <tr>\n",
       "      <th>...</th>\n",
       "      <td>...</td>\n",
       "      <td>...</td>\n",
       "      <td>...</td>\n",
       "      <td>...</td>\n",
       "      <td>...</td>\n",
       "      <td>...</td>\n",
       "      <td>...</td>\n",
       "      <td>...</td>\n",
       "      <td>...</td>\n",
       "      <td>...</td>\n",
       "      <td>...</td>\n",
       "      <td>...</td>\n",
       "    </tr>\n",
       "    <tr>\n",
       "      <th>673</th>\n",
       "      <td>ce5bdea8e9c366b2f9f9cdf1bb879965</td>\n",
       "      <td>10.616667</td>\n",
       "      <td>12.0</td>\n",
       "      <td>1.383333</td>\n",
       "      <td>161</td>\n",
       "      <td>2.60</td>\n",
       "      <td>5.79</td>\n",
       "      <td>6</td>\n",
       "      <td>4</td>\n",
       "      <td>0.39</td>\n",
       "      <td>2.57</td>\n",
       "      <td>0.18</td>\n",
       "    </tr>\n",
       "    <tr>\n",
       "      <th>674</th>\n",
       "      <td>3a1df88ce67d8f749ac5f09da8b4dadf</td>\n",
       "      <td>23.683333</td>\n",
       "      <td>37.0</td>\n",
       "      <td>13.316667</td>\n",
       "      <td>241</td>\n",
       "      <td>3.92</td>\n",
       "      <td>11.46</td>\n",
       "      <td>7</td>\n",
       "      <td>3</td>\n",
       "      <td>0.62</td>\n",
       "      <td>5.37</td>\n",
       "      <td>0.48</td>\n",
       "    </tr>\n",
       "    <tr>\n",
       "      <th>675</th>\n",
       "      <td>1879ce44367d4cc555479253323ec36d</td>\n",
       "      <td>16.333333</td>\n",
       "      <td>35.0</td>\n",
       "      <td>18.666667</td>\n",
       "      <td>174</td>\n",
       "      <td>2.78</td>\n",
       "      <td>6.68</td>\n",
       "      <td>8</td>\n",
       "      <td>6</td>\n",
       "      <td>0.76</td>\n",
       "      <td>4.02</td>\n",
       "      <td>0.9</td>\n",
       "    </tr>\n",
       "    <tr>\n",
       "      <th>676</th>\n",
       "      <td>7a237cb245b6ca854498ecb7c842beb3</td>\n",
       "      <td>19.316667</td>\n",
       "      <td>23.0</td>\n",
       "      <td>3.683333</td>\n",
       "      <td>209</td>\n",
       "      <td>3.33</td>\n",
       "      <td>7.48</td>\n",
       "      <td>9</td>\n",
       "      <td>7</td>\n",
       "      <td>0.68</td>\n",
       "      <td>4.28</td>\n",
       "      <td>0.79</td>\n",
       "    </tr>\n",
       "    <tr>\n",
       "      <th>677</th>\n",
       "      <td>f794daa1e63029828ec58248549815d2</td>\n",
       "      <td>32.766667</td>\n",
       "      <td>50.0</td>\n",
       "      <td>17.233333</td>\n",
       "      <td>212</td>\n",
       "      <td>3.41</td>\n",
       "      <td>9.03</td>\n",
       "      <td>8</td>\n",
       "      <td>7</td>\n",
       "      <td>0.77</td>\n",
       "      <td>1.56</td>\n",
       "      <td>0.75</td>\n",
       "    </tr>\n",
       "  </tbody>\n",
       "</table>\n",
       "<p>678 rows × 12 columns</p>\n",
       "</div>"
      ],
      "text/plain": [
       "                             trip_uid  trip_time  total_time  wait_time  \\\n",
       "0    ee89076fd9da9bddf5f096b0ca42f8d5  21.550000        29.0   7.450000   \n",
       "1    518be51d403944a03c47e8d1f2c87311  19.450000        26.0   6.550000   \n",
       "2    6e460cc8a12c3c6568d0d4a67ac58393  66.883333        83.0  16.116667   \n",
       "3    49613a86a04e6c15d72b51d1a2935d81  13.616667        20.0   6.383333   \n",
       "4    9896148fdecdb4c5d977a8691510bdb6  38.900000        49.0  10.100000   \n",
       "..                                ...        ...         ...        ...   \n",
       "673  ce5bdea8e9c366b2f9f9cdf1bb879965  10.616667        12.0   1.383333   \n",
       "674  3a1df88ce67d8f749ac5f09da8b4dadf  23.683333        37.0  13.316667   \n",
       "675  1879ce44367d4cc555479253323ec36d  16.333333        35.0  18.666667   \n",
       "676  7a237cb245b6ca854498ecb7c842beb3  19.316667        23.0   3.683333   \n",
       "677  f794daa1e63029828ec58248549815d2  32.766667        50.0  17.233333   \n",
       "\n",
       "    price_rub  price_usd  distance_kms  temperature_value  feels_like  \\\n",
       "0         265       5.17          9.29                 12          12   \n",
       "1         255       4.97          9.93                 10          10   \n",
       "2         644      13.01         18.01                 14          14   \n",
       "3        1287      25.99          5.10                  3           3   \n",
       "4         665      13.43         21.92                  3           1   \n",
       "..        ...        ...           ...                ...         ...   \n",
       "673       161       2.60          5.79                  6           4   \n",
       "674       241       3.92         11.46                  7           3   \n",
       "675       174       2.78          6.68                  8           6   \n",
       "676       209       3.33          7.48                  9           7   \n",
       "677       212       3.41          9.03                  8           7   \n",
       "\n",
       "     humidity  wind_speed cloudness  \n",
       "0        0.69        4.81      0.78  \n",
       "1        0.70        6.53      0.66  \n",
       "2        0.61        5.25      0.86  \n",
       "3        0.84        0.87      0.56  \n",
       "4        0.90        1.61      0.31  \n",
       "..        ...         ...       ...  \n",
       "673      0.39        2.57      0.18  \n",
       "674      0.62        5.37      0.48  \n",
       "675      0.76        4.02       0.9  \n",
       "676      0.68        4.28      0.79  \n",
       "677      0.77        1.56      0.75  \n",
       "\n",
       "[678 rows x 12 columns]"
      ]
     },
     "execution_count": 49,
     "metadata": {},
     "output_type": "execute_result"
    },
    {
     "data": {
      "application/javascript": [
       "\n",
       "            setTimeout(function() {\n",
       "                var nbb_cell_id = 49;\n",
       "                var nbb_unformatted_code = \"def time_to_int(time):\\n    time_split = time.split(\\\":\\\")\\n    time_split = [int(i) for i in time_split]\\n    hours = time_split[0] * 60\\n    minutes = time_split[1]\\n    seconds = time_split[2] / 60\\n    time_int = hours + minutes + seconds\\n\\n    return time_int\\n\\n\\nfor elem in list(uber_data):\\n    if elem.endswith(\\\"time\\\") == True:\\n        uber_data[elem] = uber_data[elem].apply(time_to_int)\\n\\nuber_data\";\n",
       "                var nbb_formatted_code = \"def time_to_int(time):\\n    time_split = time.split(\\\":\\\")\\n    time_split = [int(i) for i in time_split]\\n    hours = time_split[0] * 60\\n    minutes = time_split[1]\\n    seconds = time_split[2] / 60\\n    time_int = hours + minutes + seconds\\n\\n    return time_int\\n\\n\\nfor elem in list(uber_data):\\n    if elem.endswith(\\\"time\\\") == True:\\n        uber_data[elem] = uber_data[elem].apply(time_to_int)\\n\\nuber_data\";\n",
       "                var nbb_cells = Jupyter.notebook.get_cells();\n",
       "                for (var i = 0; i < nbb_cells.length; ++i) {\n",
       "                    if (nbb_cells[i].input_prompt_number == nbb_cell_id) {\n",
       "                        if (nbb_cells[i].get_text() == nbb_unformatted_code) {\n",
       "                             nbb_cells[i].set_text(nbb_formatted_code);\n",
       "                        }\n",
       "                        break;\n",
       "                    }\n",
       "                }\n",
       "            }, 500);\n",
       "            "
      ],
      "text/plain": [
       "<IPython.core.display.Javascript object>"
      ]
     },
     "metadata": {},
     "output_type": "display_data"
    }
   ],
   "source": [
    "def time_to_int(time):\n",
    "    time_split = time.split(\":\")\n",
    "    time_split = [int(i) for i in time_split]\n",
    "    hours = time_split[0] * 60\n",
    "    minutes = time_split[1]\n",
    "    seconds = time_split[2] / 60\n",
    "    time_int = hours + minutes + seconds\n",
    "\n",
    "    return time_int\n",
    "\n",
    "\n",
    "for elem in list(uber_data):\n",
    "    if elem.endswith(\"time\") == True:\n",
    "        uber_data[elem] = uber_data[elem].apply(time_to_int)\n",
    "\n",
    "uber_data\n",
    "\n",
    "\n",
    "\n"
   ]
  },
  {
   "cell_type": "markdown",
   "metadata": {
    "colab_type": "text",
    "id": "xA9ellO5nkFn"
   },
   "source": [
    "Plot histograms for each of the column, excluding the trip ID. Which features appear to have outliers? What do you suspect the nature of these outliers is (i.e. do you think these are most likely data errors, or correct values that are simply unusually large or small?)"
   ]
  },
  {
   "cell_type": "code",
   "execution_count": 50,
   "metadata": {
    "colab": {},
    "colab_type": "code",
    "id": "NiYLMnxGnkFp",
    "scrolled": true
   },
   "outputs": [
    {
     "data": {
      "image/png": "[encoded data removed]",
      "text/plain": [
       "<Figure size 432x288 with 1 Axes>"
      ]
     },
     "metadata": {
      "needs_background": "light"
     },
     "output_type": "display_data"
    },
    {
     "data": {
      "image/png": "[encoded data removed]",
      "text/plain": [
       "<Figure size 432x288 with 1 Axes>"
      ]
     },
     "metadata": {
      "needs_background": "light"
     },
     "output_type": "display_data"
    },
    {
     "data": {
      "image/png": "[encoded data removed]",
      "text/plain": [
       "<Figure size 432x288 with 1 Axes>"
      ]
     },
     "metadata": {
      "needs_background": "light"
     },
     "output_type": "display_data"
    },
    {
     "data": {
      "image/png": "[encoded data removed]",
      "text/plain": [
       "<Figure size 432x288 with 1 Axes>"
      ]
     },
     "metadata": {
      "needs_background": "light"
     },
     "output_type": "display_data"
    },
    {
     "data": {
      "image/png": "[encoded data removed]",
      "text/plain": [
       "<Figure size 432x288 with 1 Axes>"
      ]
     },
     "metadata": {
      "needs_background": "light"
     },
     "output_type": "display_data"
    },
    {
     "data": {
      "image/png": "[encoded data removed]",
      "text/plain": [
       "<Figure size 432x288 with 1 Axes>"
      ]
     },
     "metadata": {
      "needs_background": "light"
     },
     "output_type": "display_data"
    },
    {
     "data": {
      "image/png": "[encoded data removed]",
      "text/plain": [
       "<Figure size 432x288 with 1 Axes>"
      ]
     },
     "metadata": {
      "needs_background": "light"
     },
     "output_type": "display_data"
    },
    {
     "data": {
      "image/png": "[encoded data removed]",
      "text/plain": [
       "<Figure size 432x288 with 1 Axes>"
      ]
     },
     "metadata": {
      "needs_background": "light"
     },
     "output_type": "display_data"
    },
    {
     "data": {
      "image/png": "[encoded data removed]",
      "text/plain": [
       "<Figure size 432x288 with 1 Axes>"
      ]
     },
     "metadata": {
      "needs_background": "light"
     },
     "output_type": "display_data"
    },
    {
     "data": {
      "image/png": "[encoded data removed]",
      "text/plain": [
       "<Figure size 432x288 with 1 Axes>"
      ]
     },
     "metadata": {
      "needs_background": "light"
     },
     "output_type": "display_data"
    },
    {
     "data": {
      "image/png": "[encoded data removed]",
      "text/plain": [
       "<Figure size 432x288 with 1 Axes>"
      ]
     },
     "metadata": {
      "needs_background": "light"
     },
     "output_type": "display_data"
    },
    {
     "data": {
      "application/javascript": [
       "\n",
       "            setTimeout(function() {\n",
       "                var nbb_cell_id = 50;\n",
       "                var nbb_unformatted_code = \"for column in list(uber_data):\\n    if column!='trip_uid':\\n        plt.hist(uber_data[column])\\n        plt.title(column)\\n        plt.show()\";\n",
       "                var nbb_formatted_code = \"for column in list(uber_data):\\n    if column != \\\"trip_uid\\\":\\n        plt.hist(uber_data[column])\\n        plt.title(column)\\n        plt.show()\";\n",
       "                var nbb_cells = Jupyter.notebook.get_cells();\n",
       "                for (var i = 0; i < nbb_cells.length; ++i) {\n",
       "                    if (nbb_cells[i].input_prompt_number == nbb_cell_id) {\n",
       "                        if (nbb_cells[i].get_text() == nbb_unformatted_code) {\n",
       "                             nbb_cells[i].set_text(nbb_formatted_code);\n",
       "                        }\n",
       "                        break;\n",
       "                    }\n",
       "                }\n",
       "            }, 500);\n",
       "            "
      ],
      "text/plain": [
       "<IPython.core.display.Javascript object>"
      ]
     },
     "metadata": {},
     "output_type": "display_data"
    }
   ],
   "source": [
    "for column in list(uber_data):\n",
    "    if column!='trip_uid':\n",
    "        plt.hist(uber_data[column])\n",
    "        plt.title(column)\n",
    "        plt.show()\n",
    "\n",
    "\n"
   ]
  },
  {
   "cell_type": "markdown",
   "metadata": {
    "colab_type": "text",
    "id": "ZkttxvvlnkFq"
   },
   "source": [
    "Using Tukey's IQR method and a threshold value of 1.5, how many trips have trip_time values that are identified as outliers? Print these trips out."
   ]
  },
  {
   "cell_type": "code",
   "execution_count": 64,
   "metadata": {},
   "outputs": [
    {
     "name": "stdout",
     "output_type": "stream",
     "text": [
      "-8.545833333333336 47.487500000000004 \n",
      "\n",
      "Outliers: 30\n",
      "(array([  2,  13,  29,  45,  47,  79, 106, 108, 117, 201, 253, 277, 291,\n",
      "       339, 367, 411, 413, 414, 432, 472, 473, 474, 519, 520, 590, 591,\n",
      "       600, 601, 646, 647]),)\n"
     ]
    },
    {
     "data": {
      "application/javascript": [
       "\n",
       "            setTimeout(function() {\n",
       "                var nbb_cell_id = 64;\n",
       "                var nbb_unformatted_code = \"q75, q25 = np.percentile(uber_data[\\\"trip_time\\\"], [75, 25])\\niqr = q75 - q25\\n\\nthreshold = 1.5\\n\\nmin_val = q25 - (iqr * threshold)\\nmax_val = q75 + (iqr * threshold)\\n\\nprint(min_val, max_val, \\\"\\\\n\\\")\\n\\nprint(\\n    \\\"Outliers:\\\",\\n    len(\\n        (\\n            np.where(\\n                (uber_data[\\\"trip_time\\\"] > max_val) | (uber_data[\\\"trip_time\\\"] < min_val)\\n            )[0]\\n        )\\n    ),\\n)\\n\\nprint(np.where(\\n                (uber_data[\\\"trip_time\\\"] > max_val) | (uber_data[\\\"trip_time\\\"] < min_val)\\n            ))\";\n",
       "                var nbb_formatted_code = \"q75, q25 = np.percentile(uber_data[\\\"trip_time\\\"], [75, 25])\\niqr = q75 - q25\\n\\nthreshold = 1.5\\n\\nmin_val = q25 - (iqr * threshold)\\nmax_val = q75 + (iqr * threshold)\\n\\nprint(min_val, max_val, \\\"\\\\n\\\")\\n\\nprint(\\n    \\\"Outliers:\\\",\\n    len(\\n        (\\n            np.where(\\n                (uber_data[\\\"trip_time\\\"] > max_val) | (uber_data[\\\"trip_time\\\"] < min_val)\\n            )[0]\\n        )\\n    ),\\n)\\n\\nprint(np.where((uber_data[\\\"trip_time\\\"] > max_val) | (uber_data[\\\"trip_time\\\"] < min_val)))\";\n",
       "                var nbb_cells = Jupyter.notebook.get_cells();\n",
       "                for (var i = 0; i < nbb_cells.length; ++i) {\n",
       "                    if (nbb_cells[i].input_prompt_number == nbb_cell_id) {\n",
       "                        if (nbb_cells[i].get_text() == nbb_unformatted_code) {\n",
       "                             nbb_cells[i].set_text(nbb_formatted_code);\n",
       "                        }\n",
       "                        break;\n",
       "                    }\n",
       "                }\n",
       "            }, 500);\n",
       "            "
      ],
      "text/plain": [
       "<IPython.core.display.Javascript object>"
      ]
     },
     "metadata": {},
     "output_type": "display_data"
    }
   ],
   "source": [
    "q75, q25 = np.percentile(uber_data[\"trip_time\"], [75, 25])\n",
    "iqr = q75 - q25\n",
    "\n",
    "threshold = 1.5\n",
    "\n",
    "min_val = q25 - (iqr * threshold)\n",
    "max_val = q75 + (iqr * threshold)\n",
    "\n",
    "print(min_val, max_val, \"\\n\")\n",
    "\n",
    "print(\n",
    "    \"Outliers:\",\n",
    "    len(\n",
    "        (\n",
    "            np.where(\n",
    "                (uber_data[\"trip_time\"] > max_val) | (uber_data[\"trip_time\"] < min_val)\n",
    "            )[0]\n",
    "        )\n",
    "    ),\n",
    ")\n",
    "\n",
    "print(np.where((uber_data[\"trip_time\"] > max_val) | (uber_data[\"trip_time\"] < min_val)))"
   ]
  },
  {
   "cell_type": "markdown",
   "metadata": {
    "colab_type": "text",
    "id": "4_btClOuRS61"
   },
   "source": [
    "There are various ways of handling outliers, including \"clipping\" (also called \"winsorizing\"). Clip the outliers to the appropriate upper/lower threshold calculated as part of Tukey's method. Plot the histogram for trip_time after clipping; how does it look different?"
   ]
  },
  {
   "cell_type": "code",
   "execution_count": 70,
   "metadata": {
    "colab": {},
    "colab_type": "code",
    "id": "siXVYqAfnkFt"
   },
   "outputs": [
    {
     "data": {
      "text/plain": [
       "masked_array(data=[21.55      , 19.45      , 36.7       , 13.61666667,\n",
       "                   36.7       , 16.63333333, 36.7       , 36.7       ,\n",
       "                   10.1       , 25.5       , 17.78333333, 14.46666667,\n",
       "                   15.31666667, 36.7       , 12.65      , 16.3       ,\n",
       "                   11.45      , 16.65      , 16.46666667, 14.21666667,\n",
       "                   21.2       ,  1.        , 36.7       , 30.73333333,\n",
       "                   25.3       , 30.3       ,  9.55      , 22.51666667,\n",
       "                   36.7       , 36.7       , 12.46666667, 10.58333333,\n",
       "                    5.76666667, 16.51666667,  8.85      , 12.1       ,\n",
       "                   17.51666667,  9.71666667, 18.4       ,  7.5       ,\n",
       "                   10.33333333, 31.15      , 28.28333333, 29.83333333,\n",
       "                   11.65      , 36.7       , 31.33333333, 36.7       ,\n",
       "                   36.7       , 36.7       ,  5.4       , 23.66666667,\n",
       "                   13.48333333, 30.41666667, 24.58333333, 11.45      ,\n",
       "                   12.38333333, 14.88333333, 15.61666667, 15.68333333,\n",
       "                   13.86666667, 18.76666667, 20.01666667, 13.        ,\n",
       "                   29.61666667, 32.65      , 16.01666667,  7.75      ,\n",
       "                   11.45      , 10.78333333, 29.08333333, 17.7       ,\n",
       "                   36.16666667,  5.65      ,  4.95      ,  6.85      ,\n",
       "                    6.16666667, 18.53333333,  4.25      , 36.7       ,\n",
       "                   22.3       , 14.55      , 36.7       ,  6.73333333,\n",
       "                   16.06666667, 10.4       , 17.65      , 17.56666667,\n",
       "                   17.48333333, 23.31666667, 10.68333333, 11.4       ,\n",
       "                    5.7       , 10.91666667,  5.81666667, 32.25      ,\n",
       "                   25.86666667, 16.73333333, 22.1       ,  7.35      ,\n",
       "                   23.88333333, 14.33333333, 34.28333333,  2.93333333,\n",
       "                   33.51666667, 20.03333333, 36.7       , 36.7       ,\n",
       "                   36.7       , 36.7       ,  4.2       , 25.61666667,\n",
       "                    9.71666667, 17.61666667, 11.28333333, 10.58333333,\n",
       "                   27.36666667, 36.7       , 26.48333333, 34.7       ,\n",
       "                   10.16666667,  0.15      ,  1.        , 25.51666667,\n",
       "                   16.5       , 11.51666667, 13.25      , 36.7       ,\n",
       "                   18.63333333,  8.16666667,  6.85      , 31.53333333,\n",
       "                   30.1       ,  5.23333333, 26.41666667, 18.01666667,\n",
       "                   11.05      , 10.83333333,  8.16666667, 19.26666667,\n",
       "                   14.71666667, 11.23333333,  4.66666667, 36.7       ,\n",
       "                   16.06666667, 30.61666667, 36.7       , 12.15      ,\n",
       "                   16.3       , 17.11666667, 15.71666667, 15.91666667,\n",
       "                   20.26666667,  6.53333333, 18.03333333,  1.        ,\n",
       "                   20.23333333, 14.48333333, 28.9       , 24.11666667,\n",
       "                   15.31666667,  8.55      , 19.46666667, 17.73333333,\n",
       "                   31.63333333, 17.06666667, 18.01666667, 26.91666667,\n",
       "                   36.4       ,  8.36666667, 12.35      ,  9.23333333,\n",
       "                   19.21666667, 24.5       , 33.56666667, 26.43333333,\n",
       "                   32.26666667,  2.66666667, 15.53333333,  5.8       ,\n",
       "                   16.4       , 21.53333333,  8.65      , 12.88333333,\n",
       "                   14.75      , 17.41666667, 26.68333333, 36.48333333,\n",
       "                   18.45      ,  3.7       , 16.78333333,  7.96666667,\n",
       "                   14.71666667,  5.7       , 16.23333333,  9.21666667,\n",
       "                   21.8       ,  8.63333333, 21.51666667, 21.93333333,\n",
       "                   18.36666667, 36.7       , 14.51666667, 11.38333333,\n",
       "                    5.8       , 14.6       , 36.7       , 12.8       ,\n",
       "                   10.75      , 26.51666667, 36.7       ,  5.95      ,\n",
       "                   30.26666667,  9.65      ,  8.3       ,  3.76666667,\n",
       "                    5.05      ,  9.03333333,  2.23333333, 13.2       ,\n",
       "                   24.9       , 29.13333333, 15.01666667, 15.1       ,\n",
       "                   26.91666667, 22.15      , 18.98333333, 21.35      ,\n",
       "                   16.85      , 30.43333333,  9.61666667, 12.7       ,\n",
       "                   26.45      , 26.11666667, 23.81666667, 10.41666667,\n",
       "                   15.56666667,  8.45      , 14.46666667, 16.9       ,\n",
       "                   14.86666667, 20.06666667, 22.41666667, 12.25      ,\n",
       "                   11.65      , 15.75      ,  7.75      , 18.18333333,\n",
       "                   16.53333333, 35.1       , 36.7       , 16.76666667,\n",
       "                   26.86666667, 36.7       , 11.06666667, 21.33333333,\n",
       "                   36.18333333, 18.71666667, 35.66666667, 20.51666667,\n",
       "                    9.11666667, 18.63333333, 25.53333333,  8.96666667,\n",
       "                    5.93333333,  9.86666667, 23.21666667, 36.7       ,\n",
       "                   14.15      , 12.08333333,  7.9       , 13.5       ,\n",
       "                   14.11666667, 24.11666667,  7.86666667, 23.03333333,\n",
       "                   10.01666667, 36.7       ,  6.68333333, 15.45      ,\n",
       "                    7.48333333, 15.66666667, 29.13333333, 11.43333333,\n",
       "                    5.        ,  6.83333333, 30.71666667, 17.23333333,\n",
       "                   25.48333333, 35.25      , 25.13333333, 36.7       ,\n",
       "                   31.33333333, 14.66666667, 23.6       ,  7.48333333,\n",
       "                   13.16666667, 25.71666667, 17.5       , 11.31666667,\n",
       "                    9.13333333, 36.7       , 36.7       , 11.96666667,\n",
       "                   11.85      , 16.33333333,  6.06666667, 11.15      ,\n",
       "                   14.26666667, 17.93333333, 18.43333333, 24.08333333,\n",
       "                   36.7       , 33.2       , 34.9       , 36.7       ,\n",
       "                   35.        , 32.3       , 34.3       , 31.35      ,\n",
       "                   15.98333333, 19.        , 36.7       , 23.05      ,\n",
       "                   20.23333333, 19.65      , 14.68333333, 29.23333333,\n",
       "                   32.01666667, 26.98333333, 14.06666667, 13.18333333,\n",
       "                    9.8       , 21.71666667, 10.63333333, 18.6       ,\n",
       "                   17.88333333, 19.56666667, 29.5       , 36.7       ,\n",
       "                   17.8       , 16.38333333, 16.33333333, 20.91666667,\n",
       "                   18.25      , 15.78333333, 25.23333333, 25.55      ,\n",
       "                   36.7       , 36.46666667, 33.65      , 31.38333333,\n",
       "                    9.18333333,  9.1       , 23.86666667, 30.7       ,\n",
       "                   36.03333333, 10.88333333, 15.4       , 26.06666667,\n",
       "                   13.28333333, 13.1       , 24.75      ,  0.43333333,\n",
       "                    1.16666667, 28.93333333, 25.75      , 36.7       ,\n",
       "                    9.75      , 25.21666667, 17.95      , 36.7       ,\n",
       "                   13.43333333, 13.38333333,  9.68333333, 20.86666667,\n",
       "                   22.56666667, 22.18333333,  3.81666667,  3.36666667,\n",
       "                   17.76666667, 26.15      , 27.36666667, 35.25      ,\n",
       "                   15.46666667, 19.4       , 10.61666667, 20.73333333,\n",
       "                   16.21666667, 28.73333333, 16.46666667, 12.11666667,\n",
       "                   27.81666667, 29.88333333, 32.5       , 35.75      ,\n",
       "                   10.03333333, 15.56666667, 34.03333333, 36.7       ,\n",
       "                   30.25      , 36.7       , 36.7       , 36.7       ,\n",
       "                   36.31666667, 14.51666667, 25.65      ,  4.13333333,\n",
       "                    5.41666667, 26.48333333,  9.15      , 36.7       ,\n",
       "                   36.7       , 36.7       , 36.7       , 20.13333333,\n",
       "                   20.58333333, 26.58333333, 16.6       , 10.95      ,\n",
       "                   15.23333333, 20.35      , 17.75      , 15.9       ,\n",
       "                   20.53333333, 19.95      , 36.7       , 14.31666667,\n",
       "                   18.58333333, 19.18333333, 23.35      , 29.63333333,\n",
       "                   36.7       , 32.5       , 17.5       , 17.03333333,\n",
       "                   11.66666667,  8.51666667, 24.16666667, 23.31666667,\n",
       "                   10.23333333, 24.21666667, 22.48333333, 21.        ,\n",
       "                   22.46666667, 36.7       , 26.83333333, 30.26666667,\n",
       "                   26.1       , 32.35      ,  4.65      ,  5.08333333,\n",
       "                    3.18333333,  7.1       ,  8.98333333, 11.05      ,\n",
       "                    4.5       , 20.68333333, 31.58333333, 19.26666667,\n",
       "                   18.61666667, 23.93333333, 25.65      , 31.48333333,\n",
       "                   23.96666667, 11.76666667, 23.33333333, 24.95      ,\n",
       "                   21.11666667, 26.13333333, 24.16666667, 36.7       ,\n",
       "                   36.7       , 36.7       , 36.7       , 13.25      ,\n",
       "                    6.65      , 29.53333333, 11.35      , 19.21666667,\n",
       "                   24.76666667, 27.33333333, 19.85      ,  9.88333333,\n",
       "                   11.71666667,  8.2       , 18.98333333, 20.83333333,\n",
       "                   36.7       , 33.68333333, 16.78333333, 27.03333333,\n",
       "                   31.56666667, 12.18333333, 36.7       , 36.7       ,\n",
       "                    9.88333333, 15.46666667, 15.1       , 17.9       ,\n",
       "                   18.65      , 16.1       , 20.5       , 23.56666667,\n",
       "                   18.93333333, 14.08333333,  4.53333333, 18.33333333,\n",
       "                   26.65      , 19.98333333, 17.43333333, 18.76666667,\n",
       "                   31.66666667, 15.8       , 26.68333333, 25.63333333,\n",
       "                   28.36666667, 15.68333333, 23.03333333, 36.7       ,\n",
       "                   36.7       , 11.43333333, 17.73333333, 23.05      ,\n",
       "                   16.23333333, 12.46666667, 18.11666667, 15.2       ,\n",
       "                   16.28333333, 14.41666667, 25.38333333, 23.73333333,\n",
       "                   13.55      , 14.25      ,  5.05      , 24.58333333,\n",
       "                   24.68333333, 19.        , 18.55      , 13.76666667,\n",
       "                   17.88333333,  8.        , 23.95      ,  9.56666667,\n",
       "                   15.08333333, 14.81666667, 26.73333333,  9.95      ,\n",
       "                   10.13333333, 18.96666667, 13.66666667,  3.45      ,\n",
       "                    8.81666667, 12.4       , 12.        , 16.56666667,\n",
       "                   11.36666667,  7.9       , 15.66666667, 14.4       ,\n",
       "                   36.7       , 35.23333333, 14.78333333, 25.65      ,\n",
       "                   19.4       , 20.26666667, 12.56666667, 23.3       ,\n",
       "                   14.65      , 13.1       , 24.36666667, 15.28333333,\n",
       "                   12.6       ,  9.63333333, 15.86666667, 12.73333333,\n",
       "                   10.9       , 16.05      ,  4.56666667, 11.23333333,\n",
       "                   33.48333333, 20.25      , 16.15      , 12.35      ,\n",
       "                   19.6       , 16.63333333, 21.23333333, 19.18333333,\n",
       "                   29.21666667, 18.88333333, 36.7       , 36.7       ,\n",
       "                   25.13333333, 28.2       , 13.61666667, 33.86666667,\n",
       "                   17.81666667, 11.18333333, 23.83333333, 30.1       ,\n",
       "                   36.7       , 36.7       , 36.7       , 21.93333333,\n",
       "                   14.85      , 11.03333333, 10.98333333, 10.75      ,\n",
       "                    7.4       , 11.31666667, 20.66666667, 11.4       ,\n",
       "                   17.81666667, 16.3       , 17.48333333, 13.01666667,\n",
       "                   14.11666667, 18.25      , 15.63333333, 10.98333333,\n",
       "                   12.16666667, 15.18333333, 16.75      , 17.06666667,\n",
       "                   24.33333333, 15.5       , 10.        , 30.25      ,\n",
       "                   28.78333333, 14.91666667, 13.55      , 11.1       ,\n",
       "                   16.31666667, 25.41666667, 10.8       , 13.93333333,\n",
       "                   17.58333333, 18.26666667, 18.05      , 28.56666667,\n",
       "                   23.4       , 11.36666667, 18.26666667, 23.41666667,\n",
       "                   26.43333333, 29.03333333, 36.7       , 36.7       ,\n",
       "                   21.58333333, 19.9       , 17.95      , 19.2       ,\n",
       "                   23.81666667, 14.7       , 13.21666667, 28.        ,\n",
       "                   16.31666667, 16.31666667, 21.31666667, 25.83333333,\n",
       "                   36.61666667, 14.35      , 21.71666667, 36.7       ,\n",
       "                   17.16666667, 23.4       , 31.21666667, 20.61666667,\n",
       "                   26.9       , 26.73333333, 16.7       , 18.68333333,\n",
       "                   10.65      , 10.61666667, 23.68333333, 16.33333333,\n",
       "                   19.31666667, 32.76666667],\n",
       "             mask=False,\n",
       "       fill_value=1e+20)"
      ]
     },
     "execution_count": 70,
     "metadata": {},
     "output_type": "execute_result"
    },
    {
     "data": {
      "application/javascript": [
       "\n",
       "            setTimeout(function() {\n",
       "                var nbb_cell_id = 70;\n",
       "                var nbb_unformatted_code = \"winsorized_time = winsorize(uber_data[\\\"trip_time\\\"], (0, 0.10))\\nwinsorized_time\";\n",
       "                var nbb_formatted_code = \"winsorized_time = winsorize(uber_data[\\\"trip_time\\\"], (0, 0.10))\\nwinsorized_time\";\n",
       "                var nbb_cells = Jupyter.notebook.get_cells();\n",
       "                for (var i = 0; i < nbb_cells.length; ++i) {\n",
       "                    if (nbb_cells[i].input_prompt_number == nbb_cell_id) {\n",
       "                        if (nbb_cells[i].get_text() == nbb_unformatted_code) {\n",
       "                             nbb_cells[i].set_text(nbb_formatted_code);\n",
       "                        }\n",
       "                        break;\n",
       "                    }\n",
       "                }\n",
       "            }, 500);\n",
       "            "
      ],
      "text/plain": [
       "<IPython.core.display.Javascript object>"
      ]
     },
     "metadata": {},
     "output_type": "display_data"
    }
   ],
   "source": [
    "winsorized_time = winsorize(uber_data[\"trip_time\"], (0, 0.10))\n",
    "winsorized_time"
   ]
  },
  {
   "cell_type": "code",
   "execution_count": null,
   "metadata": {},
   "outputs": [],
   "source": []
  }
 ],
 "metadata": {
  "colab": {
   "collapsed_sections": [],
   "name": "Day 21 Lecture 2 Assignment.ipynb",
   "provenance": []
  },
  "kernelspec": {
   "display_name": "Python3 (data_science_env)",
   "language": "python",
   "name": "data_science-env"
  },
  "language_info": {
   "codemirror_mode": {
    "name": "ipython",
    "version": 3
   },
   "file_extension": ".py",
   "mimetype": "text/x-python",
   "name": "python",
   "nbconvert_exporter": "python",
   "pygments_lexer": "ipython3",
   "version": "3.7.3"
  }
 },
 "nbformat": 4,
 "nbformat_minor": 1
}
