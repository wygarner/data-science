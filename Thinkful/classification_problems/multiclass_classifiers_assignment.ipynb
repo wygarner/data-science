{
 "cells": [
  {
   "cell_type": "code",
   "execution_count": 1,
   "metadata": {},
   "outputs": [
    {
     "data": {
      "application/javascript": [
       "\n",
       "            setTimeout(function() {\n",
       "                var nbb_cell_id = 1;\n",
       "                var nbb_unformatted_code = \"%load_ext nb_black\";\n",
       "                var nbb_formatted_code = \"%load_ext nb_black\";\n",
       "                var nbb_cells = Jupyter.notebook.get_cells();\n",
       "                for (var i = 0; i < nbb_cells.length; ++i) {\n",
       "                    if (nbb_cells[i].input_prompt_number == nbb_cell_id) {\n",
       "                        if (nbb_cells[i].get_text() == nbb_unformatted_code) {\n",
       "                             nbb_cells[i].set_text(nbb_formatted_code);\n",
       "                        }\n",
       "                        break;\n",
       "                    }\n",
       "                }\n",
       "            }, 500);\n",
       "            "
      ],
      "text/plain": [
       "<IPython.core.display.Javascript object>"
      ]
     },
     "metadata": {},
     "output_type": "display_data"
    }
   ],
   "source": [
    "%load_ext nb_black"
   ]
  },
  {
   "cell_type": "code",
   "execution_count": 26,
   "metadata": {},
   "outputs": [
    {
     "data": {
      "application/javascript": [
       "\n",
       "            setTimeout(function() {\n",
       "                var nbb_cell_id = 26;\n",
       "                var nbb_unformatted_code = \"import numpy as np\\nfrom sklearn.datasets import load_digits\\nfrom sklearn.model_selection import train_test_split,cross_val_score\\nfrom sklearn.linear_model import LogisticRegression\\nfrom sklearn.ensemble import RandomForestClassifier\";\n",
       "                var nbb_formatted_code = \"import numpy as np\\nfrom sklearn.datasets import load_digits\\nfrom sklearn.model_selection import train_test_split, cross_val_score\\nfrom sklearn.linear_model import LogisticRegression\\nfrom sklearn.ensemble import RandomForestClassifier\";\n",
       "                var nbb_cells = Jupyter.notebook.get_cells();\n",
       "                for (var i = 0; i < nbb_cells.length; ++i) {\n",
       "                    if (nbb_cells[i].input_prompt_number == nbb_cell_id) {\n",
       "                        if (nbb_cells[i].get_text() == nbb_unformatted_code) {\n",
       "                             nbb_cells[i].set_text(nbb_formatted_code);\n",
       "                        }\n",
       "                        break;\n",
       "                    }\n",
       "                }\n",
       "            }, 500);\n",
       "            "
      ],
      "text/plain": [
       "<IPython.core.display.Javascript object>"
      ]
     },
     "metadata": {},
     "output_type": "display_data"
    }
   ],
   "source": [
    "import numpy as np\n",
    "from sklearn.datasets import load_digits\n",
    "from sklearn.model_selection import train_test_split, cross_val_score\n",
    "from sklearn.linear_model import LogisticRegression\n",
    "from sklearn.ensemble import RandomForestClassifier"
   ]
  },
  {
   "cell_type": "markdown",
   "metadata": {
    "colab_type": "text",
    "id": "iD1KjC8-hl_P"
   },
   "source": [
    "# Multiclass Classifiers\n",
    "In this assignment you will load a dataset and train two models to perform multiclass classification and compare the results of the models. The dataset is the **digits** dataset available from the sklearn's *datasets* library. This dataset contain 1797 samples of written digits. The goal is to correctly identify digits from 0 to 9."
   ]
  },
  {
   "cell_type": "markdown",
   "metadata": {
    "colab_type": "text",
    "id": "sZYeUk8FjHsd"
   },
   "source": [
    "## Load the data\n",
    "\n",
    "1. import the *load_digits* function from the *sklearn.datasets* library\n",
    "2. invoke *load_digits* with the *return_X_y* parameter set to true and store the returned dataset in variable **X** and **y**."
   ]
  },
  {
   "cell_type": "code",
   "execution_count": 27,
   "metadata": {
    "colab": {},
    "colab_type": "code",
    "id": "yU07T75-he8U"
   },
   "outputs": [
    {
     "data": {
      "application/javascript": [
       "\n",
       "            setTimeout(function() {\n",
       "                var nbb_cell_id = 27;\n",
       "                var nbb_unformatted_code = \"X, y = load_digits(return_X_y=True)\";\n",
       "                var nbb_formatted_code = \"X, y = load_digits(return_X_y=True)\";\n",
       "                var nbb_cells = Jupyter.notebook.get_cells();\n",
       "                for (var i = 0; i < nbb_cells.length; ++i) {\n",
       "                    if (nbb_cells[i].input_prompt_number == nbb_cell_id) {\n",
       "                        if (nbb_cells[i].get_text() == nbb_unformatted_code) {\n",
       "                             nbb_cells[i].set_text(nbb_formatted_code);\n",
       "                        }\n",
       "                        break;\n",
       "                    }\n",
       "                }\n",
       "            }, 500);\n",
       "            "
      ],
      "text/plain": [
       "<IPython.core.display.Javascript object>"
      ]
     },
     "metadata": {},
     "output_type": "display_data"
    }
   ],
   "source": [
    "X, y = load_digits(return_X_y=True)"
   ]
  },
  {
   "cell_type": "markdown",
   "metadata": {
    "colab_type": "text",
    "id": "isPHrCpCj5lL"
   },
   "source": [
    "## Exploratory Data Analysis\n",
    "Perform a few exploratory  steps including:\n",
    "\n",
    "1. Display the number of rows of data returned\n",
    "2. Display the number of features in the dataset\n",
    "3. Use Numpy's **bincount** to display how many samples belong to each class. Is this a balanced dataset?"
   ]
  },
  {
   "cell_type": "code",
   "execution_count": 28,
   "metadata": {
    "colab": {},
    "colab_type": "code",
    "id": "EX7gj8IGkTu7"
   },
   "outputs": [
    {
     "name": "stdout",
     "output_type": "stream",
     "text": [
      "The number of rows in the dataset is 1797\n",
      "The number of features in the dataset is 64\n"
     ]
    },
    {
     "data": {
      "text/plain": [
       "array([178, 182, 177, 183, 181, 182, 181, 179, 174, 180])"
      ]
     },
     "execution_count": 28,
     "metadata": {},
     "output_type": "execute_result"
    },
    {
     "data": {
      "application/javascript": [
       "\n",
       "            setTimeout(function() {\n",
       "                var nbb_cell_id = 28;\n",
       "                var nbb_unformatted_code = \"print(\\\"The number of rows in the dataset is\\\", np.shape(X)[0])\\nprint(\\\"The number of features in the dataset is\\\", np.shape(X)[1])\\nnp.bincount(y)\";\n",
       "                var nbb_formatted_code = \"print(\\\"The number of rows in the dataset is\\\", np.shape(X)[0])\\nprint(\\\"The number of features in the dataset is\\\", np.shape(X)[1])\\nnp.bincount(y)\";\n",
       "                var nbb_cells = Jupyter.notebook.get_cells();\n",
       "                for (var i = 0; i < nbb_cells.length; ++i) {\n",
       "                    if (nbb_cells[i].input_prompt_number == nbb_cell_id) {\n",
       "                        if (nbb_cells[i].get_text() == nbb_unformatted_code) {\n",
       "                             nbb_cells[i].set_text(nbb_formatted_code);\n",
       "                        }\n",
       "                        break;\n",
       "                    }\n",
       "                }\n",
       "            }, 500);\n",
       "            "
      ],
      "text/plain": [
       "<IPython.core.display.Javascript object>"
      ]
     },
     "metadata": {},
     "output_type": "display_data"
    }
   ],
   "source": [
    "print(\"The number of rows in the dataset is\", np.shape(X)[0])\n",
    "print(\"The number of features in the dataset is\", np.shape(X)[1])\n",
    "np.bincount(y)"
   ]
  },
  {
   "cell_type": "markdown",
   "metadata": {
    "colab_type": "text",
    "id": "6AdSZLoalPDO"
   },
   "source": [
    "## Prepare training and testing data\n",
    "1. Use *train_test_split* to split the dataset into a training set and a test set. Set the proportion of test data to 20%. Set a random state value so that the results will be repeatable."
   ]
  },
  {
   "cell_type": "code",
   "execution_count": 29,
   "metadata": {
    "colab": {},
    "colab_type": "code",
    "id": "K8oYDSclmIRw"
   },
   "outputs": [
    {
     "data": {
      "application/javascript": [
       "\n",
       "            setTimeout(function() {\n",
       "                var nbb_cell_id = 29;\n",
       "                var nbb_unformatted_code = \"X_train, X_test, y_train, y_test = train_test_split(X, y, test_size=.2,random_state=69420)\";\n",
       "                var nbb_formatted_code = \"X_train, X_test, y_train, y_test = train_test_split(\\n    X, y, test_size=0.2, random_state=69420\\n)\";\n",
       "                var nbb_cells = Jupyter.notebook.get_cells();\n",
       "                for (var i = 0; i < nbb_cells.length; ++i) {\n",
       "                    if (nbb_cells[i].input_prompt_number == nbb_cell_id) {\n",
       "                        if (nbb_cells[i].get_text() == nbb_unformatted_code) {\n",
       "                             nbb_cells[i].set_text(nbb_formatted_code);\n",
       "                        }\n",
       "                        break;\n",
       "                    }\n",
       "                }\n",
       "            }, 500);\n",
       "            "
      ],
      "text/plain": [
       "<IPython.core.display.Javascript object>"
      ]
     },
     "metadata": {},
     "output_type": "display_data"
    }
   ],
   "source": [
    "X_train, X_test, y_train, y_test = train_test_split(\n",
    "    X, y, test_size=0.2, random_state=69420\n",
    ")"
   ]
  },
  {
   "cell_type": "markdown",
   "metadata": {
    "colab_type": "text",
    "id": "of-cq2s0mdx6"
   },
   "source": [
    "## Cross validation with Logistic Regression\n",
    "In this step you will create a LogisticRegression classifier and use 5-fold cross validation to train the model.\n",
    "\n",
    "1. import *LogisticRegression* classifier from sklearn\n",
    "2. instantiate a LogisticRegression classifier with the 'lbfgs' solver and 'ovr' multiclass strategy. You may have to set the maximum number of iterations to 1000.\n",
    "3. perform cross validation on the model\n",
    "4. print the cross validation scores and the mean of the cross validation scores."
   ]
  },
  {
   "cell_type": "code",
   "execution_count": 34,
   "metadata": {
    "colab": {},
    "colab_type": "code",
    "id": "UMdjcXaplne9"
   },
   "outputs": [
    {
     "name": "stdout",
     "output_type": "stream",
     "text": [
      "Accuracy scores for the 5 folds: [0.96180556 0.93055556 0.95470383 0.96864111 0.96864111]\n",
      "Mean cross validation score: 0.957\n"
     ]
    },
    {
     "data": {
      "application/javascript": [
       "\n",
       "            setTimeout(function() {\n",
       "                var nbb_cell_id = 34;\n",
       "                var nbb_unformatted_code = \"model = LogisticRegression(solver=\\\"lbfgs\\\", multi_class=\\\"ovr\\\", max_iter=1000)\\nlr_cv_scores = cross_val_score(model, X_train, y_train, cv=5)\\n\\nprint(\\\"Accuracy scores for the 5 folds:\\\", lr_cv_scores)\\nprint(\\\"Mean cross validation score:\\\", round(np.mean(lr_cv_scores),3))\";\n",
       "                var nbb_formatted_code = \"model = LogisticRegression(solver=\\\"lbfgs\\\", multi_class=\\\"ovr\\\", max_iter=1000)\\nlr_cv_scores = cross_val_score(model, X_train, y_train, cv=5)\\n\\nprint(\\\"Accuracy scores for the 5 folds:\\\", lr_cv_scores)\\nprint(\\\"Mean cross validation score:\\\", round(np.mean(lr_cv_scores), 3))\";\n",
       "                var nbb_cells = Jupyter.notebook.get_cells();\n",
       "                for (var i = 0; i < nbb_cells.length; ++i) {\n",
       "                    if (nbb_cells[i].input_prompt_number == nbb_cell_id) {\n",
       "                        if (nbb_cells[i].get_text() == nbb_unformatted_code) {\n",
       "                             nbb_cells[i].set_text(nbb_formatted_code);\n",
       "                        }\n",
       "                        break;\n",
       "                    }\n",
       "                }\n",
       "            }, 500);\n",
       "            "
      ],
      "text/plain": [
       "<IPython.core.display.Javascript object>"
      ]
     },
     "metadata": {},
     "output_type": "display_data"
    }
   ],
   "source": [
    "model = LogisticRegression(solver=\"lbfgs\", multi_class=\"ovr\", max_iter=1000)\n",
    "lr_cv_scores = cross_val_score(model, X_train, y_train, cv=5)\n",
    "\n",
    "print(\"Accuracy scores for the 5 folds:\", lr_cv_scores)\n",
    "print(\"Mean cross validation score:\", round(np.mean(lr_cv_scores), 3))"
   ]
  },
  {
   "cell_type": "markdown",
   "metadata": {
    "colab_type": "text",
    "id": "PcZHs1vYoRBN"
   },
   "source": [
    "## Cross validation with RandomForest\n",
    "Perform the same steps as above but this time with a RandomForestClassifier."
   ]
  },
  {
   "cell_type": "code",
   "execution_count": 35,
   "metadata": {
    "colab": {},
    "colab_type": "code",
    "id": "pCD2ROdToySP"
   },
   "outputs": [
    {
     "name": "stdout",
     "output_type": "stream",
     "text": [
      "Accuracy scores for the 5 folds: [0.97222222 0.96180556 0.97212544 0.96864111 0.95121951]\n",
      "Mean cross validation score: 0.965\n"
     ]
    },
    {
     "data": {
      "application/javascript": [
       "\n",
       "            setTimeout(function() {\n",
       "                var nbb_cell_id = 35;\n",
       "                var nbb_unformatted_code = \"model = RandomForestClassifier(n_estimators=24)\\nrf_cv_scores = cross_val_score(model, X_train, y_train, cv=5)\\n\\nprint(\\\"Accuracy scores for the 5 folds:\\\", rf_cv_scores)\\nprint(\\\"Mean cross validation score:\\\", round(np.mean(rf_cv_scores), 3))\";\n",
       "                var nbb_formatted_code = \"model = RandomForestClassifier(n_estimators=24)\\nrf_cv_scores = cross_val_score(model, X_train, y_train, cv=5)\\n\\nprint(\\\"Accuracy scores for the 5 folds:\\\", rf_cv_scores)\\nprint(\\\"Mean cross validation score:\\\", round(np.mean(rf_cv_scores), 3))\";\n",
       "                var nbb_cells = Jupyter.notebook.get_cells();\n",
       "                for (var i = 0; i < nbb_cells.length; ++i) {\n",
       "                    if (nbb_cells[i].input_prompt_number == nbb_cell_id) {\n",
       "                        if (nbb_cells[i].get_text() == nbb_unformatted_code) {\n",
       "                             nbb_cells[i].set_text(nbb_formatted_code);\n",
       "                        }\n",
       "                        break;\n",
       "                    }\n",
       "                }\n",
       "            }, 500);\n",
       "            "
      ],
      "text/plain": [
       "<IPython.core.display.Javascript object>"
      ]
     },
     "metadata": {},
     "output_type": "display_data"
    }
   ],
   "source": [
    "model = RandomForestClassifier(n_estimators=24)\n",
    "rf_cv_scores = cross_val_score(model, X_train, y_train, cv=5)\n",
    "\n",
    "print(\"Accuracy scores for the 5 folds:\", rf_cv_scores)\n",
    "print(\"Mean cross validation score:\", round(np.mean(rf_cv_scores), 3))"
   ]
  },
  {
   "cell_type": "code",
   "execution_count": null,
   "metadata": {},
   "outputs": [],
   "source": []
  }
 ],
 "metadata": {
  "colab": {
   "collapsed_sections": [],
   "name": "Copy of multiclass classifiers assignment.ipynb",
   "provenance": [],
   "version": "0.3.2"
  },
  "kernelspec": {
   "display_name": "Python 3",
   "language": "python",
   "name": "python3"
  },
  "language_info": {
   "codemirror_mode": {
    "name": "ipython",
    "version": 3
   },
   "file_extension": ".py",
   "mimetype": "text/x-python",
   "name": "python",
   "nbconvert_exporter": "python",
   "pygments_lexer": "ipython3",
   "version": "3.7.6"
  }
 },
 "nbformat": 4,
 "nbformat_minor": 1
}
