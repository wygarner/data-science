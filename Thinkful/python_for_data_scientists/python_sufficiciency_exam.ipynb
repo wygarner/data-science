{
  "nbformat": 4,
  "nbformat_minor": 0,
  "metadata": {
    "kernelspec": {
      "display_name": "Python 3",
      "language": "python",
      "name": "python3"
    },
    "language_info": {
      "codemirror_mode": {
        "name": "ipython",
        "version": 3
      },
      "file_extension": ".py",
      "mimetype": "text/x-python",
      "name": "python",
      "nbconvert_exporter": "python",
      "pygments_lexer": "ipython3",
      "version": "3.7.6"
    },
    "colab": {
      "name": "python_sufficiciency_exam.ipynb",
      "provenance": []
    }
  },
  "cells": [
    {
      "cell_type": "code",
      "metadata": {
        "id": "HN3vmR5y0Ptf",
        "colab_type": "code",
        "colab": {}
      },
      "source": [
        "import pandas as pd\n",
        "import matplotlib.pyplot as plt\n",
        "import numpy as np\n",
        "import seaborn as sns"
      ],
      "execution_count": 0,
      "outputs": []
    },
    {
      "cell_type": "markdown",
      "metadata": {
        "id": "XvlZK4BD0Ptk",
        "colab_type": "text"
      },
      "source": [
        "1. Create a function that reverses a string. For example, given the string \"forward\", your function should return \"drawrof\". Assume all inputs are strings."
      ]
    },
    {
      "cell_type": "code",
      "metadata": {
        "id": "vzkNXQj90Ptl",
        "colab_type": "code",
        "colab": {},
        "outputId": "392eb609-a8a9-4acd-8dbf-8f1b937d1255"
      },
      "source": [
        "def reverse_string(s):\n",
        "    return s[::-1]\n",
        "\n",
        "reverse_string('forward')"
      ],
      "execution_count": 0,
      "outputs": [
        {
          "output_type": "execute_result",
          "data": {
            "text/plain": [
              "'drawrof'"
            ]
          },
          "metadata": {
            "tags": []
          },
          "execution_count": 1
        }
      ]
    },
    {
      "cell_type": "markdown",
      "metadata": {
        "id": "NwdgK6IB0Ptr",
        "colab_type": "text"
      },
      "source": [
        "2. Complete the function below that can be used to calculate and return the posterior probability of an event A, given the known outcome of Event B using Bayes Theorem:"
      ]
    },
    {
      "cell_type": "code",
      "metadata": {
        "id": "rtXuKmd_0Pts",
        "colab_type": "code",
        "colab": {
          "base_uri": "https://localhost:8080/",
          "height": 34
        },
        "outputId": "563dc2a4-c14a-4794-88df-7154435498ab"
      },
      "source": [
        "def bayes(a, b_given_a, b_given_not_a):\n",
        "    prob_b= b_given_a*b_given_not_a\n",
        "    denominator= (b_given_a*prob_b)+(b_given_not_a+(1-a))\n",
        "    posterior= (b_given_a*a)/denominator\n",
        "    \n",
        "    return posterior\n",
        "    \n",
        "    \n",
        "\n",
        "a= .4\n",
        "b= .3\n",
        "b_given_a= b*a\n",
        "b_given_not_a= b*(1-a)\n",
        "\n",
        "bayes(a,b_given_a,b_given_not_a)"
      ],
      "execution_count": 10,
      "outputs": [
        {
          "output_type": "execute_result",
          "data": {
            "text/plain": [
              "0.06133464180569185"
            ]
          },
          "metadata": {
            "tags": []
          },
          "execution_count": 10
        }
      ]
    },
    {
      "cell_type": "markdown",
      "metadata": {
        "id": "phMjVa3U0Ptw",
        "colab_type": "text"
      },
      "source": [
        "3. Analyze the teams dataset from the Lahman baseball records. This dataset contains season statistics for each Major League Baseball team."
      ]
    },
    {
      "cell_type": "markdown",
      "metadata": {
        "id": "3LCXbroB0Ptx",
        "colab_type": "text"
      },
      "source": [
        "a. For all records since 1995, plot histograms for the following variables. Which distribution do they appear to follow? Consider what each variable is measuring along with the histogram's shape."
      ]
    },
    {
      "cell_type": "code",
      "metadata": {
        "id": "YKPAZ9-S0Pty",
        "colab_type": "code",
        "colab": {
          "base_uri": "https://localhost:8080/",
          "height": 761
        },
        "outputId": "996399df-33a8-436f-e209-f8b7ed03f0d3"
      },
      "source": [
        "df= pd.read_csv('https://tf-assets-prod.s3.amazonaws.com/tf-curric/data-science/lahman-teams.csv')\n",
        "series_1995= df['yearID']>=1995\n",
        "df_1995= df.iloc[series_1995.values]\n",
        "plt.hist(df_1995['SB'])\n",
        "plt.show()\n",
        "plt.hist(df_1995['W'])\n",
        "plt.show()\n",
        "plt.hist(df_1995['ERA'])\n",
        "plt.show()"
      ],
      "execution_count": 7,
      "outputs": [
        {
          "output_type": "display_data",
          "data": {
            "image/png": "[encoded data removed]",
            "text/plain": [
              "<Figure size 432x288 with 1 Axes>"
            ]
          },
          "metadata": {
            "tags": []
          }
        },
        {
          "output_type": "display_data",
          "data": {
            "image/png": "[encoded data removed]",
            "text/plain": [
              "<Figure size 432x288 with 1 Axes>"
            ]
          },
          "metadata": {
            "tags": []
          }
        },
        {
          "output_type": "display_data",
          "data": {
            "image/png": "[encoded data removed]",
            "text/plain": [
              "<Figure size 432x288 with 1 Axes>"
            ]
          },
          "metadata": {
            "tags": []
          }
        }
      ]
    },
    {
      "cell_type": "markdown",
      "metadata": {
        "id": "yn5DX6Qh0Pt3",
        "colab_type": "text"
      },
      "source": [
        "b. Conduct some further exploratory data analysis on this dataset. Consider qualities like distributions, correlations and trends over time. Try to find something interesting to say about the data, and use visualizations to support your argument."
      ]
    },
    {
      "cell_type": "code",
      "metadata": {
        "id": "slQzX3hi0Pt5",
        "colab_type": "code",
        "colab": {},
        "outputId": "e141beda-4e87-4b3d-c45d-8aeeef79ac29"
      },
      "source": [
        "c= df_1995.corr(method='pearson')\n",
        "print(c['attendance'])\n",
        "sns.heatmap(c)\n"
      ],
      "execution_count": 0,
      "outputs": [
        {
          "output_type": "stream",
          "text": [
            "yearID        0.160323\n",
            "Rank         -0.411316\n",
            "G             0.184114\n",
            "Ghome         0.202183\n",
            "W             0.499520\n",
            "L            -0.441406\n",
            "R             0.297219\n",
            "AB            0.221599\n",
            "H             0.296032\n",
            "2B            0.103523\n",
            "3B           -0.042101\n",
            "HR            0.289766\n",
            "BB            0.196771\n",
            "SO           -0.069951\n",
            "SB           -0.023717\n",
            "CS           -0.142764\n",
            "HBP           0.049221\n",
            "SF            0.119851\n",
            "RA           -0.263484\n",
            "ER           -0.236377\n",
            "ERA          -0.276035\n",
            "CG           -0.024618\n",
            "SHO           0.238260\n",
            "SV            0.280130\n",
            "IPouts        0.236324\n",
            "HA           -0.195195\n",
            "HRA          -0.142126\n",
            "BBA          -0.169990\n",
            "SOA           0.311596\n",
            "E            -0.258419\n",
            "DP           -0.144979\n",
            "FP            0.265264\n",
            "attendance    1.000000\n",
            "BPF           0.153190\n",
            "PPF           0.062770\n",
            "Name: attendance, dtype: float64\n"
          ],
          "name": "stdout"
        },
        {
          "output_type": "execute_result",
          "data": {
            "text/plain": [
              "<matplotlib.axes._subplots.AxesSubplot at 0x1a21d64e50>"
            ]
          },
          "metadata": {
            "tags": []
          },
          "execution_count": 69
        },
        {
          "output_type": "display_data",
          "data": {
            "image/png": "[encoded data removed]",
            "text/plain": [
              "<Figure size 432x288 with 2 Axes>"
            ]
          },
          "metadata": {
            "tags": [],
            "needs_background": "light"
          }
        }
      ]
    },
    {
      "cell_type": "markdown",
      "metadata": {
        "id": "Heb00Lkl0Pt_",
        "colab_type": "text"
      },
      "source": [
        "Attendance is positively correlated with wins, home runs, and hits."
      ]
    },
    {
      "cell_type": "markdown",
      "metadata": {
        "id": "Rlnmhmgl0PuB",
        "colab_type": "text"
      },
      "source": [
        "4. Choose any two of the variables from 3. Draw 1,000 samples, taking the mean of 100 observations each time. Plot the frequencies of the sample means. What distribution does this appear to follow?"
      ]
    },
    {
      "cell_type": "code",
      "metadata": {
        "scrolled": true,
        "id": "imoUknpj0PuC",
        "colab_type": "code",
        "colab": {
          "base_uri": "https://localhost:8080/",
          "height": 513
        },
        "outputId": "b8686d5f-6f39-4d15-fa82-ba0c12f56ae8"
      },
      "source": [
        "stolen_bases_mean_list=[]\n",
        "wins_mean_list=[]\n",
        "for i in range(1000):\n",
        "    stolen_bases_sample= df['SB'].sample(n=100)\n",
        "    mean= np.mean(stolen_bases_sample)\n",
        "    stolen_bases_mean_list.append(mean)\n",
        "    wins_sample= df['W'].sample(n=100)\n",
        "    mean= np.mean(wins_sample)\n",
        "    wins_mean_list.append(mean)\n",
        "\n",
        "plt.hist(stolen_bases_mean_list)\n",
        "plt.show()\n",
        "plt.hist(wins_mean_list)\n",
        "plt.show()"
      ],
      "execution_count": 9,
      "outputs": [
        {
          "output_type": "display_data",
          "data": {
            "image/png": "[encoded data removed]",
            "text/plain": [
              "<Figure size 432x288 with 1 Axes>"
            ]
          },
          "metadata": {
            "tags": []
          }
        },
        {
          "output_type": "display_data",
          "data": {
            "image/png": "[encoded data removed]",
            "text/plain": [
              "<Figure size 432x288 with 1 Axes>"
            ]
          },
          "metadata": {
            "tags": []
          }
        }
      ]
    },
    {
      "cell_type": "markdown",
      "metadata": {
        "id": "JNgmc_9u0PuK",
        "colab_type": "text"
      },
      "source": [
        "The sample means appear to follow a normal distribution."
      ]
    }
  ]
}