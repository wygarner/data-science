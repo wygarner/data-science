{
 "cells": [
  {
   "cell_type": "code",
   "execution_count": 1,
   "metadata": {},
   "outputs": [],
   "source": [
    "import pandas as pd\n",
    "import numpy as np\n",
    "import scipy.stats as stats\n",
    "import matplotlib.pyplot as plt\n",
    "import seaborn as sns\n",
    "import statsmodels.stats.proportion as proportion\n",
    "from statsmodels.stats.multicomp import pairwise_tukeyhsd"
   ]
  },
  {
   "cell_type": "code",
   "execution_count": 32,
   "metadata": {},
   "outputs": [],
   "source": [
    "df= pd.read_csv('https://tf-assets-prod.s3.amazonaws.com/tf-curric/data-science/Doctor.csv')"
   ]
  },
  {
   "cell_type": "code",
   "execution_count": 33,
   "metadata": {},
   "outputs": [
    {
     "data": {
      "text/html": [
       "<div>\n",
       "<style scoped>\n",
       "    .dataframe tbody tr th:only-of-type {\n",
       "        vertical-align: middle;\n",
       "    }\n",
       "\n",
       "    .dataframe tbody tr th {\n",
       "        vertical-align: top;\n",
       "    }\n",
       "\n",
       "    .dataframe thead th {\n",
       "        text-align: right;\n",
       "    }\n",
       "</style>\n",
       "<table border=\"1\" class=\"dataframe\">\n",
       "  <thead>\n",
       "    <tr style=\"text-align: right;\">\n",
       "      <th></th>\n",
       "      <th>doctor</th>\n",
       "      <th>children</th>\n",
       "      <th>access</th>\n",
       "      <th>health</th>\n",
       "    </tr>\n",
       "  </thead>\n",
       "  <tbody>\n",
       "    <tr>\n",
       "      <th>0</th>\n",
       "      <td>0</td>\n",
       "      <td>1</td>\n",
       "      <td>0.50</td>\n",
       "      <td>0.495</td>\n",
       "    </tr>\n",
       "    <tr>\n",
       "      <th>1</th>\n",
       "      <td>1</td>\n",
       "      <td>3</td>\n",
       "      <td>0.17</td>\n",
       "      <td>0.520</td>\n",
       "    </tr>\n",
       "    <tr>\n",
       "      <th>2</th>\n",
       "      <td>0</td>\n",
       "      <td>4</td>\n",
       "      <td>0.42</td>\n",
       "      <td>-1.227</td>\n",
       "    </tr>\n",
       "    <tr>\n",
       "      <th>3</th>\n",
       "      <td>0</td>\n",
       "      <td>2</td>\n",
       "      <td>0.33</td>\n",
       "      <td>-1.524</td>\n",
       "    </tr>\n",
       "    <tr>\n",
       "      <th>4</th>\n",
       "      <td>11</td>\n",
       "      <td>1</td>\n",
       "      <td>0.67</td>\n",
       "      <td>0.173</td>\n",
       "    </tr>\n",
       "  </tbody>\n",
       "</table>\n",
       "</div>"
      ],
      "text/plain": [
       "   doctor  children  access  health\n",
       "0       0         1    0.50   0.495\n",
       "1       1         3    0.17   0.520\n",
       "2       0         4    0.42  -1.227\n",
       "3       0         2    0.33  -1.524\n",
       "4      11         1    0.67   0.173"
      ]
     },
     "execution_count": 33,
     "metadata": {},
     "output_type": "execute_result"
    }
   ],
   "source": [
    "df.head()"
   ]
  },
  {
   "cell_type": "code",
   "execution_count": 4,
   "metadata": {},
   "outputs": [
    {
     "data": {
      "text/plain": [
       "doctor      0\n",
       "children    0\n",
       "access      0\n",
       "health      0\n",
       "dtype: int64"
      ]
     },
     "execution_count": 4,
     "metadata": {},
     "output_type": "execute_result"
    }
   ],
   "source": [
    "df.isnull().sum()"
   ]
  },
  {
   "cell_type": "code",
   "execution_count": 5,
   "metadata": {},
   "outputs": [
    {
     "data": {
      "text/html": [
       "<div>\n",
       "<style scoped>\n",
       "    .dataframe tbody tr th:only-of-type {\n",
       "        vertical-align: middle;\n",
       "    }\n",
       "\n",
       "    .dataframe tbody tr th {\n",
       "        vertical-align: top;\n",
       "    }\n",
       "\n",
       "    .dataframe thead tr th {\n",
       "        text-align: left;\n",
       "    }\n",
       "\n",
       "    .dataframe thead tr:last-of-type th {\n",
       "        text-align: right;\n",
       "    }\n",
       "</style>\n",
       "<table border=\"1\" class=\"dataframe\">\n",
       "  <thead>\n",
       "    <tr>\n",
       "      <th></th>\n",
       "      <th colspan=\"8\" halign=\"left\">doctor</th>\n",
       "      <th colspan=\"5\" halign=\"left\">access</th>\n",
       "      <th colspan=\"8\" halign=\"left\">health</th>\n",
       "    </tr>\n",
       "    <tr>\n",
       "      <th></th>\n",
       "      <th>count</th>\n",
       "      <th>mean</th>\n",
       "      <th>std</th>\n",
       "      <th>min</th>\n",
       "      <th>25%</th>\n",
       "      <th>50%</th>\n",
       "      <th>75%</th>\n",
       "      <th>max</th>\n",
       "      <th>count</th>\n",
       "      <th>mean</th>\n",
       "      <th>...</th>\n",
       "      <th>75%</th>\n",
       "      <th>max</th>\n",
       "      <th>count</th>\n",
       "      <th>mean</th>\n",
       "      <th>std</th>\n",
       "      <th>min</th>\n",
       "      <th>25%</th>\n",
       "      <th>50%</th>\n",
       "      <th>75%</th>\n",
       "      <th>max</th>\n",
       "    </tr>\n",
       "    <tr>\n",
       "      <th>children</th>\n",
       "      <th></th>\n",
       "      <th></th>\n",
       "      <th></th>\n",
       "      <th></th>\n",
       "      <th></th>\n",
       "      <th></th>\n",
       "      <th></th>\n",
       "      <th></th>\n",
       "      <th></th>\n",
       "      <th></th>\n",
       "      <th></th>\n",
       "      <th></th>\n",
       "      <th></th>\n",
       "      <th></th>\n",
       "      <th></th>\n",
       "      <th></th>\n",
       "      <th></th>\n",
       "      <th></th>\n",
       "      <th></th>\n",
       "      <th></th>\n",
       "      <th></th>\n",
       "    </tr>\n",
       "  </thead>\n",
       "  <tbody>\n",
       "    <tr>\n",
       "      <th>1</th>\n",
       "      <td>171.0</td>\n",
       "      <td>2.05</td>\n",
       "      <td>4.72</td>\n",
       "      <td>0.0</td>\n",
       "      <td>0.0</td>\n",
       "      <td>1.0</td>\n",
       "      <td>2.0</td>\n",
       "      <td>48.0</td>\n",
       "      <td>171.0</td>\n",
       "      <td>0.39</td>\n",
       "      <td>...</td>\n",
       "      <td>0.50</td>\n",
       "      <td>0.75</td>\n",
       "      <td>171.0</td>\n",
       "      <td>-0.06</td>\n",
       "      <td>1.46</td>\n",
       "      <td>-1.52</td>\n",
       "      <td>-1.07</td>\n",
       "      <td>-0.49</td>\n",
       "      <td>0.50</td>\n",
       "      <td>7.22</td>\n",
       "    </tr>\n",
       "    <tr>\n",
       "      <th>2</th>\n",
       "      <td>142.0</td>\n",
       "      <td>1.50</td>\n",
       "      <td>2.48</td>\n",
       "      <td>0.0</td>\n",
       "      <td>0.0</td>\n",
       "      <td>0.0</td>\n",
       "      <td>2.0</td>\n",
       "      <td>16.0</td>\n",
       "      <td>142.0</td>\n",
       "      <td>0.38</td>\n",
       "      <td>...</td>\n",
       "      <td>0.50</td>\n",
       "      <td>0.92</td>\n",
       "      <td>142.0</td>\n",
       "      <td>0.01</td>\n",
       "      <td>1.45</td>\n",
       "      <td>-1.52</td>\n",
       "      <td>-1.17</td>\n",
       "      <td>-0.43</td>\n",
       "      <td>0.79</td>\n",
       "      <td>5.71</td>\n",
       "    </tr>\n",
       "    <tr>\n",
       "      <th>3</th>\n",
       "      <td>93.0</td>\n",
       "      <td>1.45</td>\n",
       "      <td>2.23</td>\n",
       "      <td>0.0</td>\n",
       "      <td>0.0</td>\n",
       "      <td>1.0</td>\n",
       "      <td>2.0</td>\n",
       "      <td>9.0</td>\n",
       "      <td>93.0</td>\n",
       "      <td>0.35</td>\n",
       "      <td>...</td>\n",
       "      <td>0.50</td>\n",
       "      <td>0.83</td>\n",
       "      <td>93.0</td>\n",
       "      <td>0.22</td>\n",
       "      <td>1.51</td>\n",
       "      <td>-1.52</td>\n",
       "      <td>-0.93</td>\n",
       "      <td>-0.17</td>\n",
       "      <td>0.82</td>\n",
       "      <td>5.26</td>\n",
       "    </tr>\n",
       "    <tr>\n",
       "      <th>4</th>\n",
       "      <td>49.0</td>\n",
       "      <td>1.06</td>\n",
       "      <td>1.82</td>\n",
       "      <td>0.0</td>\n",
       "      <td>0.0</td>\n",
       "      <td>0.0</td>\n",
       "      <td>1.0</td>\n",
       "      <td>9.0</td>\n",
       "      <td>49.0</td>\n",
       "      <td>0.36</td>\n",
       "      <td>...</td>\n",
       "      <td>0.50</td>\n",
       "      <td>0.67</td>\n",
       "      <td>49.0</td>\n",
       "      <td>-0.17</td>\n",
       "      <td>1.29</td>\n",
       "      <td>-1.52</td>\n",
       "      <td>-1.20</td>\n",
       "      <td>-0.42</td>\n",
       "      <td>0.58</td>\n",
       "      <td>4.39</td>\n",
       "    </tr>\n",
       "    <tr>\n",
       "      <th>5</th>\n",
       "      <td>19.0</td>\n",
       "      <td>0.84</td>\n",
       "      <td>1.17</td>\n",
       "      <td>0.0</td>\n",
       "      <td>0.0</td>\n",
       "      <td>0.0</td>\n",
       "      <td>1.5</td>\n",
       "      <td>3.0</td>\n",
       "      <td>19.0</td>\n",
       "      <td>0.45</td>\n",
       "      <td>...</td>\n",
       "      <td>0.54</td>\n",
       "      <td>0.67</td>\n",
       "      <td>19.0</td>\n",
       "      <td>-0.20</td>\n",
       "      <td>1.18</td>\n",
       "      <td>-1.52</td>\n",
       "      <td>-1.20</td>\n",
       "      <td>-0.45</td>\n",
       "      <td>0.58</td>\n",
       "      <td>2.10</td>\n",
       "    </tr>\n",
       "    <tr>\n",
       "      <th>6</th>\n",
       "      <td>6.0</td>\n",
       "      <td>2.00</td>\n",
       "      <td>3.35</td>\n",
       "      <td>0.0</td>\n",
       "      <td>0.0</td>\n",
       "      <td>0.0</td>\n",
       "      <td>3.0</td>\n",
       "      <td>8.0</td>\n",
       "      <td>6.0</td>\n",
       "      <td>0.41</td>\n",
       "      <td>...</td>\n",
       "      <td>0.50</td>\n",
       "      <td>0.50</td>\n",
       "      <td>6.0</td>\n",
       "      <td>0.61</td>\n",
       "      <td>1.51</td>\n",
       "      <td>-1.52</td>\n",
       "      <td>-0.37</td>\n",
       "      <td>0.69</td>\n",
       "      <td>1.83</td>\n",
       "      <td>2.31</td>\n",
       "    </tr>\n",
       "    <tr>\n",
       "      <th>7</th>\n",
       "      <td>4.0</td>\n",
       "      <td>0.50</td>\n",
       "      <td>1.00</td>\n",
       "      <td>0.0</td>\n",
       "      <td>0.0</td>\n",
       "      <td>0.0</td>\n",
       "      <td>0.5</td>\n",
       "      <td>2.0</td>\n",
       "      <td>4.0</td>\n",
       "      <td>0.30</td>\n",
       "      <td>...</td>\n",
       "      <td>0.33</td>\n",
       "      <td>0.33</td>\n",
       "      <td>4.0</td>\n",
       "      <td>-0.29</td>\n",
       "      <td>0.28</td>\n",
       "      <td>-0.58</td>\n",
       "      <td>-0.41</td>\n",
       "      <td>-0.33</td>\n",
       "      <td>-0.21</td>\n",
       "      <td>0.09</td>\n",
       "    </tr>\n",
       "    <tr>\n",
       "      <th>9</th>\n",
       "      <td>1.0</td>\n",
       "      <td>0.00</td>\n",
       "      <td>NaN</td>\n",
       "      <td>0.0</td>\n",
       "      <td>0.0</td>\n",
       "      <td>0.0</td>\n",
       "      <td>0.0</td>\n",
       "      <td>0.0</td>\n",
       "      <td>1.0</td>\n",
       "      <td>0.67</td>\n",
       "      <td>...</td>\n",
       "      <td>0.67</td>\n",
       "      <td>0.67</td>\n",
       "      <td>1.0</td>\n",
       "      <td>-1.23</td>\n",
       "      <td>NaN</td>\n",
       "      <td>-1.23</td>\n",
       "      <td>-1.23</td>\n",
       "      <td>-1.23</td>\n",
       "      <td>-1.23</td>\n",
       "      <td>-1.23</td>\n",
       "    </tr>\n",
       "  </tbody>\n",
       "</table>\n",
       "<p>8 rows × 24 columns</p>\n",
       "</div>"
      ],
      "text/plain": [
       "         doctor                                       access        ...        \\\n",
       "          count  mean   std  min  25%  50%  75%   max  count  mean  ...   75%   \n",
       "children                                                            ...         \n",
       "1         171.0  2.05  4.72  0.0  0.0  1.0  2.0  48.0  171.0  0.39  ...  0.50   \n",
       "2         142.0  1.50  2.48  0.0  0.0  0.0  2.0  16.0  142.0  0.38  ...  0.50   \n",
       "3          93.0  1.45  2.23  0.0  0.0  1.0  2.0   9.0   93.0  0.35  ...  0.50   \n",
       "4          49.0  1.06  1.82  0.0  0.0  0.0  1.0   9.0   49.0  0.36  ...  0.50   \n",
       "5          19.0  0.84  1.17  0.0  0.0  0.0  1.5   3.0   19.0  0.45  ...  0.54   \n",
       "6           6.0  2.00  3.35  0.0  0.0  0.0  3.0   8.0    6.0  0.41  ...  0.50   \n",
       "7           4.0  0.50  1.00  0.0  0.0  0.0  0.5   2.0    4.0  0.30  ...  0.33   \n",
       "9           1.0  0.00   NaN  0.0  0.0  0.0  0.0   0.0    1.0  0.67  ...  0.67   \n",
       "\n",
       "               health                                            \n",
       "           max  count  mean   std   min   25%   50%   75%   max  \n",
       "children                                                         \n",
       "1         0.75  171.0 -0.06  1.46 -1.52 -1.07 -0.49  0.50  7.22  \n",
       "2         0.92  142.0  0.01  1.45 -1.52 -1.17 -0.43  0.79  5.71  \n",
       "3         0.83   93.0  0.22  1.51 -1.52 -0.93 -0.17  0.82  5.26  \n",
       "4         0.67   49.0 -0.17  1.29 -1.52 -1.20 -0.42  0.58  4.39  \n",
       "5         0.67   19.0 -0.20  1.18 -1.52 -1.20 -0.45  0.58  2.10  \n",
       "6         0.50    6.0  0.61  1.51 -1.52 -0.37  0.69  1.83  2.31  \n",
       "7         0.33    4.0 -0.29  0.28 -0.58 -0.41 -0.33 -0.21  0.09  \n",
       "9         0.67    1.0 -1.23   NaN -1.23 -1.23 -1.23 -1.23 -1.23  \n",
       "\n",
       "[8 rows x 24 columns]"
      ]
     },
     "execution_count": 5,
     "metadata": {},
     "output_type": "execute_result"
    }
   ],
   "source": [
    "df.groupby('children').describe().round(2)"
   ]
  },
  {
   "cell_type": "code",
   "execution_count": 6,
   "metadata": {},
   "outputs": [
    {
     "data": {
      "image/png": "[encoded data removed]",
      "text/plain": [
       "<Figure size 432x288 with 1 Axes>"
      ]
     },
     "metadata": {
      "needs_background": "light"
     },
     "output_type": "display_data"
    }
   ],
   "source": [
    "sns.swarmplot('children','health',data=df)\n",
    "plt.show()"
   ]
  },
  {
   "cell_type": "code",
   "execution_count": 7,
   "metadata": {},
   "outputs": [
    {
     "data": {
      "image/png": "[encoded data removed]",
      "text/plain": [
       "<Figure size 432x288 with 1 Axes>"
      ]
     },
     "metadata": {
      "needs_background": "light"
     },
     "output_type": "display_data"
    }
   ],
   "source": [
    "sns.swarmplot('children','doctor',data=df)\n",
    "plt.show()"
   ]
  },
  {
   "cell_type": "code",
   "execution_count": 8,
   "metadata": {},
   "outputs": [
    {
     "data": {
      "image/png": "[encoded data removed]",
      "text/plain": [
       "<Figure size 432x288 with 1 Axes>"
      ]
     },
     "metadata": {
      "needs_background": "light"
     },
     "output_type": "display_data"
    }
   ],
   "source": [
    "sns.swarmplot('children','access',data=df)\n",
    "plt.show()"
   ]
  },
  {
   "cell_type": "code",
   "execution_count": 11,
   "metadata": {},
   "outputs": [
    {
     "data": {
      "image/png": "[encoded data removed]",
      "text/plain": [
       "<Figure size 432x288 with 1 Axes>"
      ]
     },
     "metadata": {
      "needs_background": "light"
     },
     "output_type": "display_data"
    }
   ],
   "source": [
    "sns.scatterplot(x='children', y='access', data=df)\n",
    "plt.show()"
   ]
  },
  {
   "cell_type": "code",
   "execution_count": 14,
   "metadata": {},
   "outputs": [
    {
     "data": {
      "image/png": "[encoded data removed]",
      "text/plain": [
       "<Figure size 432x288 with 1 Axes>"
      ]
     },
     "metadata": {
      "needs_background": "light"
     },
     "output_type": "display_data"
    }
   ],
   "source": [
    "sns.scatterplot(x='children', y='health',data=df)\n",
    "plt.show()"
   ]
  },
  {
   "cell_type": "code",
   "execution_count": 16,
   "metadata": {},
   "outputs": [
    {
     "data": {
      "image/png": "[encoded data removed]",
      "text/plain": [
       "<Figure size 432x288 with 1 Axes>"
      ]
     },
     "metadata": {
      "needs_background": "light"
     },
     "output_type": "display_data"
    }
   ],
   "source": [
    "sns.scatterplot(x='children', y='doctor',data=df)\n",
    "plt.show()"
   ]
  },
  {
   "cell_type": "code",
   "execution_count": 21,
   "metadata": {},
   "outputs": [],
   "source": [
    "children_nums= df.children.unique()"
   ]
  },
  {
   "cell_type": "code",
   "execution_count": 34,
   "metadata": {},
   "outputs": [],
   "source": [
    "df_list=[]\n",
    "for num in children_nums:\n",
    "    child_df= df[df['children']==num]\n",
    "    df_list.append(child_df)"
   ]
  },
  {
   "cell_type": "code",
   "execution_count": 37,
   "metadata": {},
   "outputs": [
    {
     "name": "stdout",
     "output_type": "stream",
     "text": [
      "[0      0.495\n",
      "4      0.173\n",
      "5     -0.905\n",
      "7      0.656\n",
      "8     -1.227\n",
      "       ...  \n",
      "473   -0.880\n",
      "475   -1.041\n",
      "476   -1.363\n",
      "477    1.226\n",
      "482   -1.066\n",
      "Name: health, Length: 171, dtype: float64, 1      0.520\n",
      "21    -1.202\n",
      "26    -1.066\n",
      "29     0.928\n",
      "49    -0.310\n",
      "       ...  \n",
      "467   -1.363\n",
      "469    1.140\n",
      "471    3.414\n",
      "472    4.001\n",
      "484   -0.099\n",
      "Name: health, Length: 93, dtype: float64, 2     -1.227\n",
      "20     0.581\n",
      "27     0.978\n",
      "28     0.657\n",
      "30     1.003\n",
      "31    -1.041\n",
      "32     1.667\n",
      "63    -0.285\n",
      "68    -0.421\n",
      "89    -0.310\n",
      "90     0.792\n",
      "96    -0.471\n",
      "101   -1.524\n",
      "119   -0.421\n",
      "139   -0.421\n",
      "143   -0.421\n",
      "153   -0.421\n",
      "168   -0.880\n",
      "173    0.062\n",
      "174   -1.363\n",
      "175   -1.363\n",
      "176    0.105\n",
      "180    0.012\n",
      "191   -1.066\n",
      "203   -1.363\n",
      "222    2.125\n",
      "228   -0.880\n",
      "236   -1.202\n",
      "261   -0.905\n",
      "288    0.861\n",
      "296    1.047\n",
      "301   -1.524\n",
      "310    0.012\n",
      "314   -1.524\n",
      "358    0.309\n",
      "381   -1.524\n",
      "382   -0.583\n",
      "387    0.495\n",
      "402   -1.202\n",
      "415   -0.285\n",
      "427   -0.744\n",
      "428   -1.524\n",
      "429    0.631\n",
      "433    4.392\n",
      "439    3.822\n",
      "443    0.792\n",
      "455   -1.524\n",
      "470   -0.675\n",
      "478   -1.524\n",
      "Name: health, dtype: float64, 3     -1.524\n",
      "6     -1.202\n",
      "13    -0.260\n",
      "18     0.223\n",
      "19    -1.363\n",
      "       ...  \n",
      "474   -0.285\n",
      "479   -1.524\n",
      "480   -0.421\n",
      "481   -0.930\n",
      "483   -1.363\n",
      "Name: health, Length: 142, dtype: float64, 24    -0.633\n",
      "147    0.979\n",
      "169   -1.524\n",
      "178    0.402\n",
      "309    2.311\n",
      "384    2.117\n",
      "Name: health, dtype: float64, 60    -1.066\n",
      "79    -1.202\n",
      "83     1.437\n",
      "110   -1.524\n",
      "170    0.335\n",
      "171   -0.769\n",
      "190   -0.446\n",
      "220   -0.285\n",
      "237   -0.310\n",
      "245    2.100\n",
      "255   -0.905\n",
      "295    1.642\n",
      "343    0.359\n",
      "353    1.344\n",
      "379    0.792\n",
      "383   -1.227\n",
      "421   -1.202\n",
      "438   -1.524\n",
      "447   -1.363\n",
      "Name: health, dtype: float64, 94    -0.583\n",
      "357   -0.353\n",
      "385    0.087\n",
      "389   -0.310\n",
      "Name: health, dtype: float64, 118   -1.227\n",
      "Name: health, dtype: float64]\n"
     ]
    }
   ],
   "source": [
    "health_list=[]\n",
    "for i in df_list:\n",
    "    health= i['health']\n",
    "    health_list.append(health)\n",
    "print(health_list)"
   ]
  },
  {
   "cell_type": "code",
   "execution_count": 40,
   "metadata": {},
   "outputs": [
    {
     "data": {
      "text/plain": [
       "KruskalResult(statistic=6.3215182769054765, pvalue=0.5027485130885504)"
      ]
     },
     "execution_count": 40,
     "metadata": {},
     "output_type": "execute_result"
    }
   ],
   "source": [
    "stats.kruskal(*health_list)"
   ]
  },
  {
   "cell_type": "code",
   "execution_count": null,
   "metadata": {},
   "outputs": [],
   "source": []
  }
 ],
 "metadata": {
  "kernelspec": {
   "display_name": "Python 3",
   "language": "python",
   "name": "python3"
  },
  "language_info": {
   "codemirror_mode": {
    "name": "ipython",
    "version": 3
   },
   "file_extension": ".py",
   "mimetype": "text/x-python",
   "name": "python",
   "nbconvert_exporter": "python",
   "pygments_lexer": "ipython3",
   "version": "3.7.6"
  }
 },
 "nbformat": 4,
 "nbformat_minor": 4
}
