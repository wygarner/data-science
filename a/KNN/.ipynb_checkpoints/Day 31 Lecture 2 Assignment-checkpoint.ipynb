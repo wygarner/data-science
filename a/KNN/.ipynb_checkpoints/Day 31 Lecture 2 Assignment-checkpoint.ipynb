{
 "cells": [
  {
   "cell_type": "code",
   "execution_count": 1,
   "metadata": {},
   "outputs": [
    {
     "data": {
      "application/javascript": [
       "\n",
       "            setTimeout(function() {\n",
       "                var nbb_cell_id = 1;\n",
       "                var nbb_unformatted_code = \"%load_ext nb_black\";\n",
       "                var nbb_formatted_code = \"%load_ext nb_black\";\n",
       "                var nbb_cells = Jupyter.notebook.get_cells();\n",
       "                for (var i = 0; i < nbb_cells.length; ++i) {\n",
       "                    if (nbb_cells[i].input_prompt_number == nbb_cell_id) {\n",
       "                        if (nbb_cells[i].get_text() == nbb_unformatted_code) {\n",
       "                             nbb_cells[i].set_text(nbb_formatted_code);\n",
       "                        }\n",
       "                        break;\n",
       "                    }\n",
       "                }\n",
       "            }, 500);\n",
       "            "
      ],
      "text/plain": [
       "<IPython.core.display.Javascript object>"
      ]
     },
     "metadata": {},
     "output_type": "display_data"
    }
   ],
   "source": [
    "%load_ext nb_black"
   ]
  },
  {
   "cell_type": "markdown",
   "metadata": {
    "colab_type": "text",
    "id": "vliMc6Csnjac"
   },
   "source": [
    "## Day 31 Lecture 2 Assignment\n",
    "\n",
    "In this assignment, we will learn about the weighting and scaling with the K nearest neighbor algorithm. We will use the acute nephritis dataset loaded below and analyze the model generated for this dataset."
   ]
  },
  {
   "cell_type": "code",
   "execution_count": 17,
   "metadata": {
    "colab": {},
    "colab_type": "code",
    "id": "6RVluDSdnjad"
   },
   "outputs": [
    {
     "data": {
      "application/javascript": [
       "\n",
       "            setTimeout(function() {\n",
       "                var nbb_cell_id = 17;\n",
       "                var nbb_unformatted_code = \"%matplotlib inline\\n\\nimport math\\n\\nimport matplotlib.pyplot as plt\\nimport numpy as np\\nimport pandas as pd\\n\\nfrom sklearn.compose import ColumnTransformer\\nfrom sklearn.preprocessing import MinMaxScaler, StandardScaler\\nfrom sklearn.model_selection import train_test_split, cross_val_score\\nfrom sklearn.neighbors import KNeighborsClassifier\\n\\nimport warnings\\nimport statsmodels.api as sm\\nfrom statsmodels.stats.outliers_influence import variance_inflation_factor\\n\\nimport warnings\\n\\nimport ssl\\n\\nssl._create_default_https_context = ssl._create_unverified_context\";\n",
       "                var nbb_formatted_code = \"%matplotlib inline\\n\\nimport math\\n\\nimport matplotlib.pyplot as plt\\nimport numpy as np\\nimport pandas as pd\\n\\nfrom sklearn.compose import ColumnTransformer\\nfrom sklearn.preprocessing import MinMaxScaler, StandardScaler\\nfrom sklearn.model_selection import train_test_split, cross_val_score\\nfrom sklearn.neighbors import KNeighborsClassifier\\n\\nimport warnings\\nimport statsmodels.api as sm\\nfrom statsmodels.stats.outliers_influence import variance_inflation_factor\\n\\nimport warnings\\n\\nimport ssl\\n\\nssl._create_default_https_context = ssl._create_unverified_context\";\n",
       "                var nbb_cells = Jupyter.notebook.get_cells();\n",
       "                for (var i = 0; i < nbb_cells.length; ++i) {\n",
       "                    if (nbb_cells[i].input_prompt_number == nbb_cell_id) {\n",
       "                        if (nbb_cells[i].get_text() == nbb_unformatted_code) {\n",
       "                             nbb_cells[i].set_text(nbb_formatted_code);\n",
       "                        }\n",
       "                        break;\n",
       "                    }\n",
       "                }\n",
       "            }, 500);\n",
       "            "
      ],
      "text/plain": [
       "<IPython.core.display.Javascript object>"
      ]
     },
     "metadata": {},
     "output_type": "display_data"
    }
   ],
   "source": [
    "%matplotlib inline\n",
    "\n",
    "import math\n",
    "\n",
    "import matplotlib.pyplot as plt\n",
    "import numpy as np\n",
    "import pandas as pd\n",
    "\n",
    "from sklearn.compose import ColumnTransformer\n",
    "from sklearn.preprocessing import MinMaxScaler, StandardScaler\n",
    "from sklearn.model_selection import train_test_split, cross_val_score\n",
    "from sklearn.neighbors import KNeighborsClassifier\n",
    "\n",
    "import warnings\n",
    "import statsmodels.api as sm\n",
    "from statsmodels.stats.outliers_influence import variance_inflation_factor\n",
    "\n",
    "import warnings\n",
    "\n",
    "import ssl\n",
    "\n",
    "ssl._create_default_https_context = ssl._create_unverified_context"
   ]
  },
  {
   "cell_type": "code",
   "execution_count": 3,
   "metadata": {
    "colab": {},
    "colab_type": "code",
    "id": "fovh3n2tnjaf"
   },
   "outputs": [
    {
     "data": {
      "application/javascript": [
       "\n",
       "            setTimeout(function() {\n",
       "                var nbb_cell_id = 3;\n",
       "                var nbb_unformatted_code = \"# columns:\\n# Temperature of patient { 35C-42C }\\n# Occurrence of nausea { yes, no }\\n# Lumbar pain { yes, no }\\n# Urine pushing (continuous need for urination) { yes, no }\\n# Micturition pains { yes, no }\\n# Burning of urethra, itch, swelling of urethra outlet { yes, no }\\n# decision: Nephritis of renal pelvis origin { yes, no }\\n\\ncols = [\\n    \\\"temp\\\",\\n    \\\"nausea\\\",\\n    \\\"lumbar_pain\\\",\\n    \\\"urine_pushing\\\",\\n    \\\"micturition_pains\\\",\\n    \\\"burning\\\",\\n    \\\"nephritis\\\",\\n]\\nnephritis = pd.read_csv(\\n    \\\"https://tf-assets-prod.s3.amazonaws.com/tf-curric/data-science/acute.csv\\\",\\n    names=cols,\\n)\";\n",
       "                var nbb_formatted_code = \"# columns:\\n# Temperature of patient { 35C-42C }\\n# Occurrence of nausea { yes, no }\\n# Lumbar pain { yes, no }\\n# Urine pushing (continuous need for urination) { yes, no }\\n# Micturition pains { yes, no }\\n# Burning of urethra, itch, swelling of urethra outlet { yes, no }\\n# decision: Nephritis of renal pelvis origin { yes, no }\\n\\ncols = [\\n    \\\"temp\\\",\\n    \\\"nausea\\\",\\n    \\\"lumbar_pain\\\",\\n    \\\"urine_pushing\\\",\\n    \\\"micturition_pains\\\",\\n    \\\"burning\\\",\\n    \\\"nephritis\\\",\\n]\\nnephritis = pd.read_csv(\\n    \\\"https://tf-assets-prod.s3.amazonaws.com/tf-curric/data-science/acute.csv\\\",\\n    names=cols,\\n)\";\n",
       "                var nbb_cells = Jupyter.notebook.get_cells();\n",
       "                for (var i = 0; i < nbb_cells.length; ++i) {\n",
       "                    if (nbb_cells[i].input_prompt_number == nbb_cell_id) {\n",
       "                        if (nbb_cells[i].get_text() == nbb_unformatted_code) {\n",
       "                             nbb_cells[i].set_text(nbb_formatted_code);\n",
       "                        }\n",
       "                        break;\n",
       "                    }\n",
       "                }\n",
       "            }, 500);\n",
       "            "
      ],
      "text/plain": [
       "<IPython.core.display.Javascript object>"
      ]
     },
     "metadata": {},
     "output_type": "display_data"
    }
   ],
   "source": [
    "# columns:\n",
    "# Temperature of patient { 35C-42C }\n",
    "# Occurrence of nausea { yes, no }\n",
    "# Lumbar pain { yes, no }\n",
    "# Urine pushing (continuous need for urination) { yes, no }\n",
    "# Micturition pains { yes, no }\n",
    "# Burning of urethra, itch, swelling of urethra outlet { yes, no }\n",
    "# decision: Nephritis of renal pelvis origin { yes, no }\n",
    "\n",
    "cols = [\n",
    "    \"temp\",\n",
    "    \"nausea\",\n",
    "    \"lumbar_pain\",\n",
    "    \"urine_pushing\",\n",
    "    \"micturition_pains\",\n",
    "    \"burning\",\n",
    "    \"nephritis\",\n",
    "]\n",
    "nephritis = pd.read_csv(\n",
    "    \"https://tf-assets-prod.s3.amazonaws.com/tf-curric/data-science/acute.csv\",\n",
    "    names=cols,\n",
    ")"
   ]
  },
  {
   "cell_type": "markdown",
   "metadata": {
    "colab_type": "text",
    "id": "1Lo-pnPdnjah"
   },
   "source": [
    "Recall that we need to check for missing data and create dummy variables from the non-numeric columns. Perform both steps below:"
   ]
  },
  {
   "cell_type": "code",
   "execution_count": 4,
   "metadata": {
    "colab": {},
    "colab_type": "code",
    "id": "ERbtxOpvnjah"
   },
   "outputs": [
    {
     "data": {
      "application/javascript": [
       "\n",
       "            setTimeout(function() {\n",
       "                var nbb_cell_id = 4;\n",
       "                var nbb_unformatted_code = \"for col in nephritis.columns:\\n    if col != \\\"temp\\\":\\n        nephritis[col] = (nephritis[col] == \\\"yes\\\").astype(int)\";\n",
       "                var nbb_formatted_code = \"for col in nephritis.columns:\\n    if col != \\\"temp\\\":\\n        nephritis[col] = (nephritis[col] == \\\"yes\\\").astype(int)\";\n",
       "                var nbb_cells = Jupyter.notebook.get_cells();\n",
       "                for (var i = 0; i < nbb_cells.length; ++i) {\n",
       "                    if (nbb_cells[i].input_prompt_number == nbb_cell_id) {\n",
       "                        if (nbb_cells[i].get_text() == nbb_unformatted_code) {\n",
       "                             nbb_cells[i].set_text(nbb_formatted_code);\n",
       "                        }\n",
       "                        break;\n",
       "                    }\n",
       "                }\n",
       "            }, 500);\n",
       "            "
      ],
      "text/plain": [
       "<IPython.core.display.Javascript object>"
      ]
     },
     "metadata": {},
     "output_type": "display_data"
    }
   ],
   "source": [
    "for col in nephritis.columns:\n",
    "    if col != \"temp\":\n",
    "        nephritis[col] = (nephritis[col] == \"yes\").astype(int)"
   ]
  },
  {
   "cell_type": "code",
   "execution_count": 5,
   "metadata": {},
   "outputs": [
    {
     "data": {
      "text/html": [
       "<div>\n",
       "<style scoped>\n",
       "    .dataframe tbody tr th:only-of-type {\n",
       "        vertical-align: middle;\n",
       "    }\n",
       "\n",
       "    .dataframe tbody tr th {\n",
       "        vertical-align: top;\n",
       "    }\n",
       "\n",
       "    .dataframe thead th {\n",
       "        text-align: right;\n",
       "    }\n",
       "</style>\n",
       "<table border=\"1\" class=\"dataframe\">\n",
       "  <thead>\n",
       "    <tr style=\"text-align: right;\">\n",
       "      <th></th>\n",
       "      <th>temp</th>\n",
       "      <th>nausea</th>\n",
       "      <th>lumbar_pain</th>\n",
       "      <th>urine_pushing</th>\n",
       "      <th>micturition_pains</th>\n",
       "      <th>burning</th>\n",
       "      <th>nephritis</th>\n",
       "    </tr>\n",
       "  </thead>\n",
       "  <tbody>\n",
       "    <tr>\n",
       "      <th>35</th>\n",
       "      <td>5</td>\n",
       "      <td>0</td>\n",
       "      <td>1</td>\n",
       "      <td>0</td>\n",
       "      <td>0</td>\n",
       "      <td>0</td>\n",
       "      <td>0</td>\n",
       "    </tr>\n",
       "    <tr>\n",
       "      <th>35</th>\n",
       "      <td>9</td>\n",
       "      <td>0</td>\n",
       "      <td>0</td>\n",
       "      <td>1</td>\n",
       "      <td>1</td>\n",
       "      <td>1</td>\n",
       "      <td>0</td>\n",
       "    </tr>\n",
       "    <tr>\n",
       "      <th>35</th>\n",
       "      <td>9</td>\n",
       "      <td>0</td>\n",
       "      <td>1</td>\n",
       "      <td>0</td>\n",
       "      <td>0</td>\n",
       "      <td>0</td>\n",
       "      <td>0</td>\n",
       "    </tr>\n",
       "    <tr>\n",
       "      <th>36</th>\n",
       "      <td>0</td>\n",
       "      <td>0</td>\n",
       "      <td>0</td>\n",
       "      <td>1</td>\n",
       "      <td>1</td>\n",
       "      <td>1</td>\n",
       "      <td>0</td>\n",
       "    </tr>\n",
       "    <tr>\n",
       "      <th>36</th>\n",
       "      <td>0</td>\n",
       "      <td>0</td>\n",
       "      <td>1</td>\n",
       "      <td>0</td>\n",
       "      <td>0</td>\n",
       "      <td>0</td>\n",
       "      <td>0</td>\n",
       "    </tr>\n",
       "    <tr>\n",
       "      <th>...</th>\n",
       "      <td>...</td>\n",
       "      <td>...</td>\n",
       "      <td>...</td>\n",
       "      <td>...</td>\n",
       "      <td>...</td>\n",
       "      <td>...</td>\n",
       "      <td>...</td>\n",
       "    </tr>\n",
       "    <tr>\n",
       "      <th>41</th>\n",
       "      <td>4</td>\n",
       "      <td>0</td>\n",
       "      <td>1</td>\n",
       "      <td>1</td>\n",
       "      <td>0</td>\n",
       "      <td>1</td>\n",
       "      <td>1</td>\n",
       "    </tr>\n",
       "    <tr>\n",
       "      <th>41</th>\n",
       "      <td>5</td>\n",
       "      <td>0</td>\n",
       "      <td>0</td>\n",
       "      <td>0</td>\n",
       "      <td>0</td>\n",
       "      <td>0</td>\n",
       "      <td>0</td>\n",
       "    </tr>\n",
       "    <tr>\n",
       "      <th>41</th>\n",
       "      <td>5</td>\n",
       "      <td>1</td>\n",
       "      <td>1</td>\n",
       "      <td>0</td>\n",
       "      <td>1</td>\n",
       "      <td>0</td>\n",
       "      <td>1</td>\n",
       "    </tr>\n",
       "    <tr>\n",
       "      <th>41</th>\n",
       "      <td>5</td>\n",
       "      <td>0</td>\n",
       "      <td>1</td>\n",
       "      <td>1</td>\n",
       "      <td>0</td>\n",
       "      <td>1</td>\n",
       "      <td>1</td>\n",
       "    </tr>\n",
       "    <tr>\n",
       "      <th>41</th>\n",
       "      <td>5</td>\n",
       "      <td>0</td>\n",
       "      <td>1</td>\n",
       "      <td>1</td>\n",
       "      <td>0</td>\n",
       "      <td>1</td>\n",
       "      <td>1</td>\n",
       "    </tr>\n",
       "  </tbody>\n",
       "</table>\n",
       "<p>120 rows × 7 columns</p>\n",
       "</div>"
      ],
      "text/plain": [
       "    temp  nausea  lumbar_pain  urine_pushing  micturition_pains  burning  \\\n",
       "35     5       0            1              0                  0        0   \n",
       "35     9       0            0              1                  1        1   \n",
       "35     9       0            1              0                  0        0   \n",
       "36     0       0            0              1                  1        1   \n",
       "36     0       0            1              0                  0        0   \n",
       "..   ...     ...          ...            ...                ...      ...   \n",
       "41     4       0            1              1                  0        1   \n",
       "41     5       0            0              0                  0        0   \n",
       "41     5       1            1              0                  1        0   \n",
       "41     5       0            1              1                  0        1   \n",
       "41     5       0            1              1                  0        1   \n",
       "\n",
       "    nephritis  \n",
       "35          0  \n",
       "35          0  \n",
       "35          0  \n",
       "36          0  \n",
       "36          0  \n",
       "..        ...  \n",
       "41          1  \n",
       "41          0  \n",
       "41          1  \n",
       "41          1  \n",
       "41          1  \n",
       "\n",
       "[120 rows x 7 columns]"
      ]
     },
     "execution_count": 5,
     "metadata": {},
     "output_type": "execute_result"
    },
    {
     "data": {
      "application/javascript": [
       "\n",
       "            setTimeout(function() {\n",
       "                var nbb_cell_id = 5;\n",
       "                var nbb_unformatted_code = \"nephritis\";\n",
       "                var nbb_formatted_code = \"nephritis\";\n",
       "                var nbb_cells = Jupyter.notebook.get_cells();\n",
       "                for (var i = 0; i < nbb_cells.length; ++i) {\n",
       "                    if (nbb_cells[i].input_prompt_number == nbb_cell_id) {\n",
       "                        if (nbb_cells[i].get_text() == nbb_unformatted_code) {\n",
       "                             nbb_cells[i].set_text(nbb_formatted_code);\n",
       "                        }\n",
       "                        break;\n",
       "                    }\n",
       "                }\n",
       "            }, 500);\n",
       "            "
      ],
      "text/plain": [
       "<IPython.core.display.Javascript object>"
      ]
     },
     "metadata": {},
     "output_type": "display_data"
    }
   ],
   "source": [
    "nephritis"
   ]
  },
  {
   "cell_type": "markdown",
   "metadata": {
    "colab_type": "text",
    "id": "YErN51WPnjal"
   },
   "source": [
    "Create a train test split with 20% of the data in the test subsample."
   ]
  },
  {
   "cell_type": "code",
   "execution_count": 6,
   "metadata": {
    "colab": {},
    "colab_type": "code",
    "id": "QgDv0Ab7njaj"
   },
   "outputs": [
    {
     "data": {
      "application/javascript": [
       "\n",
       "            setTimeout(function() {\n",
       "                var nbb_cell_id = 6;\n",
       "                var nbb_unformatted_code = \"X = nephritis.drop(columns=[\\\"nephritis\\\"])\\ny = nephritis[\\\"nephritis\\\"]\\n\\nX_train, X_test, y_train, y_test = train_test_split(\\n    X, y, test_size=0.2, random_state=11\\n)\";\n",
       "                var nbb_formatted_code = \"X = nephritis.drop(columns=[\\\"nephritis\\\"])\\ny = nephritis[\\\"nephritis\\\"]\\n\\nX_train, X_test, y_train, y_test = train_test_split(\\n    X, y, test_size=0.2, random_state=11\\n)\";\n",
       "                var nbb_cells = Jupyter.notebook.get_cells();\n",
       "                for (var i = 0; i < nbb_cells.length; ++i) {\n",
       "                    if (nbb_cells[i].input_prompt_number == nbb_cell_id) {\n",
       "                        if (nbb_cells[i].get_text() == nbb_unformatted_code) {\n",
       "                             nbb_cells[i].set_text(nbb_formatted_code);\n",
       "                        }\n",
       "                        break;\n",
       "                    }\n",
       "                }\n",
       "            }, 500);\n",
       "            "
      ],
      "text/plain": [
       "<IPython.core.display.Javascript object>"
      ]
     },
     "metadata": {},
     "output_type": "display_data"
    }
   ],
   "source": [
    "X = nephritis.drop(columns=[\"nephritis\"])\n",
    "y = nephritis[\"nephritis\"]\n",
    "\n",
    "X_train, X_test, y_train, y_test = train_test_split(\n",
    "    X, y, test_size=0.2, random_state=11\n",
    ")"
   ]
  },
  {
   "cell_type": "markdown",
   "metadata": {
    "colab_type": "text",
    "id": "7bdvaPDTnjaj"
   },
   "source": [
    "Scale only the independent variables using the minmax scaler."
   ]
  },
  {
   "cell_type": "code",
   "execution_count": 7,
   "metadata": {},
   "outputs": [
    {
     "data": {
      "application/javascript": [
       "\n",
       "            setTimeout(function() {\n",
       "                var nbb_cell_id = 7;\n",
       "                var nbb_unformatted_code = \"def print_vif(x):\\n    \\\"\\\"\\\"Utility for checking multicollinearity assumption\\n    \\n    :param x: input features to check using VIF. This is assumed to be a pandas.DataFrame\\n    :return: nothing is returned the VIFs are printed as a pandas series\\n    \\\"\\\"\\\"\\n    # Silence numpy FutureWarning about .ptp\\n    with warnings.catch_warnings():\\n        warnings.simplefilter(\\\"ignore\\\")\\n        x = sm.add_constant(x)\\n\\n    vifs = []\\n    for i in range(x.shape[1]):\\n        vif = variance_inflation_factor(x.values, i)\\n        vifs.append(vif)\\n\\n    print(\\\"VIF results\\\\n-------------------------------\\\")\\n    print(pd.Series(vifs, index=x.columns))\\n    print(\\\"-------------------------------\\\\n\\\")\";\n",
       "                var nbb_formatted_code = \"def print_vif(x):\\n    \\\"\\\"\\\"Utility for checking multicollinearity assumption\\n    \\n    :param x: input features to check using VIF. This is assumed to be a pandas.DataFrame\\n    :return: nothing is returned the VIFs are printed as a pandas series\\n    \\\"\\\"\\\"\\n    # Silence numpy FutureWarning about .ptp\\n    with warnings.catch_warnings():\\n        warnings.simplefilter(\\\"ignore\\\")\\n        x = sm.add_constant(x)\\n\\n    vifs = []\\n    for i in range(x.shape[1]):\\n        vif = variance_inflation_factor(x.values, i)\\n        vifs.append(vif)\\n\\n    print(\\\"VIF results\\\\n-------------------------------\\\")\\n    print(pd.Series(vifs, index=x.columns))\\n    print(\\\"-------------------------------\\\\n\\\")\";\n",
       "                var nbb_cells = Jupyter.notebook.get_cells();\n",
       "                for (var i = 0; i < nbb_cells.length; ++i) {\n",
       "                    if (nbb_cells[i].input_prompt_number == nbb_cell_id) {\n",
       "                        if (nbb_cells[i].get_text() == nbb_unformatted_code) {\n",
       "                             nbb_cells[i].set_text(nbb_formatted_code);\n",
       "                        }\n",
       "                        break;\n",
       "                    }\n",
       "                }\n",
       "            }, 500);\n",
       "            "
      ],
      "text/plain": [
       "<IPython.core.display.Javascript object>"
      ]
     },
     "metadata": {},
     "output_type": "display_data"
    }
   ],
   "source": [
    "def print_vif(x):\n",
    "    \"\"\"Utility for checking multicollinearity assumption\n",
    "    \n",
    "    :param x: input features to check using VIF. This is assumed to be a pandas.DataFrame\n",
    "    :return: nothing is returned the VIFs are printed as a pandas series\n",
    "    \"\"\"\n",
    "    # Silence numpy FutureWarning about .ptp\n",
    "    with warnings.catch_warnings():\n",
    "        warnings.simplefilter(\"ignore\")\n",
    "        x = sm.add_constant(x)\n",
    "\n",
    "    vifs = []\n",
    "    for i in range(x.shape[1]):\n",
    "        vif = variance_inflation_factor(x.values, i)\n",
    "        vifs.append(vif)\n",
    "\n",
    "    print(\"VIF results\\n-------------------------------\")\n",
    "    print(pd.Series(vifs, index=x.columns))\n",
    "    print(\"-------------------------------\\n\")"
   ]
  },
  {
   "cell_type": "code",
   "execution_count": 8,
   "metadata": {
    "colab": {},
    "colab_type": "code",
    "id": "Uh6ruAjbnjal"
   },
   "outputs": [
    {
     "name": "stdout",
     "output_type": "stream",
     "text": [
      "VIF results\n",
      "-------------------------------\n",
      "const                9.130360\n",
      "temp                 1.069727\n",
      "nausea               4.079909\n",
      "lumbar_pain          2.725381\n",
      "urine_pushing        1.921461\n",
      "micturition_pains    3.175521\n",
      "burning              2.012064\n",
      "dtype: float64\n",
      "-------------------------------\n",
      "\n"
     ]
    },
    {
     "data": {
      "application/javascript": [
       "\n",
       "            setTimeout(function() {\n",
       "                var nbb_cell_id = 8;\n",
       "                var nbb_unformatted_code = \"print_vif(X)\";\n",
       "                var nbb_formatted_code = \"print_vif(X)\";\n",
       "                var nbb_cells = Jupyter.notebook.get_cells();\n",
       "                for (var i = 0; i < nbb_cells.length; ++i) {\n",
       "                    if (nbb_cells[i].input_prompt_number == nbb_cell_id) {\n",
       "                        if (nbb_cells[i].get_text() == nbb_unformatted_code) {\n",
       "                             nbb_cells[i].set_text(nbb_formatted_code);\n",
       "                        }\n",
       "                        break;\n",
       "                    }\n",
       "                }\n",
       "            }, 500);\n",
       "            "
      ],
      "text/plain": [
       "<IPython.core.display.Javascript object>"
      ]
     },
     "metadata": {},
     "output_type": "display_data"
    }
   ],
   "source": [
    "print_vif(X)"
   ]
  },
  {
   "cell_type": "code",
   "execution_count": 9,
   "metadata": {},
   "outputs": [
    {
     "data": {
      "application/javascript": [
       "\n",
       "            setTimeout(function() {\n",
       "                var nbb_cell_id = 9;\n",
       "                var nbb_unformatted_code = \"transformer = ColumnTransformer(\\n    [(\\\"scale_temp\\\", StandardScaler(), [\\\"temp\\\"])], remainder=\\\"passthrough\\\"\\n)\\n\\ntransformer.fit(X_train)\\n\\nX_train = transformer.transform(X_train)\\nX_test = transformer.transform(X_test)\\n\\nX_train = pd.DataFrame(X_train, columns=X.columns, index=y_train.index)\\nX_test = pd.DataFrame(X_test, columns=X.columns, index=y_test.index)\";\n",
       "                var nbb_formatted_code = \"transformer = ColumnTransformer(\\n    [(\\\"scale_temp\\\", StandardScaler(), [\\\"temp\\\"])], remainder=\\\"passthrough\\\"\\n)\\n\\ntransformer.fit(X_train)\\n\\nX_train = transformer.transform(X_train)\\nX_test = transformer.transform(X_test)\\n\\nX_train = pd.DataFrame(X_train, columns=X.columns, index=y_train.index)\\nX_test = pd.DataFrame(X_test, columns=X.columns, index=y_test.index)\";\n",
       "                var nbb_cells = Jupyter.notebook.get_cells();\n",
       "                for (var i = 0; i < nbb_cells.length; ++i) {\n",
       "                    if (nbb_cells[i].input_prompt_number == nbb_cell_id) {\n",
       "                        if (nbb_cells[i].get_text() == nbb_unformatted_code) {\n",
       "                             nbb_cells[i].set_text(nbb_formatted_code);\n",
       "                        }\n",
       "                        break;\n",
       "                    }\n",
       "                }\n",
       "            }, 500);\n",
       "            "
      ],
      "text/plain": [
       "<IPython.core.display.Javascript object>"
      ]
     },
     "metadata": {},
     "output_type": "display_data"
    }
   ],
   "source": [
    "transformer = ColumnTransformer(\n",
    "    [(\"scale_temp\", StandardScaler(), [\"temp\"])], remainder=\"passthrough\"\n",
    ")\n",
    "\n",
    "transformer.fit(X_train)\n",
    "\n",
    "X_train = transformer.transform(X_train)\n",
    "X_test = transformer.transform(X_test)\n",
    "\n",
    "X_train = pd.DataFrame(X_train, columns=X.columns, index=y_train.index)\n",
    "X_test = pd.DataFrame(X_test, columns=X.columns, index=y_test.index)"
   ]
  },
  {
   "cell_type": "markdown",
   "metadata": {
    "colab_type": "text",
    "id": "OP3laD_Nnjan"
   },
   "source": [
    "Create a KNN model for our scaled data with k=5 and report the accuracy score."
   ]
  },
  {
   "cell_type": "code",
   "execution_count": 10,
   "metadata": {
    "colab": {},
    "colab_type": "code",
    "id": "6JBzmK3_njan"
   },
   "outputs": [
    {
     "data": {
      "text/plain": [
       "KNeighborsClassifier(algorithm='auto', leaf_size=30, metric='minkowski',\n",
       "                     metric_params=None, n_jobs=None, n_neighbors=5, p=2,\n",
       "                     weights='uniform')"
      ]
     },
     "execution_count": 10,
     "metadata": {},
     "output_type": "execute_result"
    },
    {
     "data": {
      "application/javascript": [
       "\n",
       "            setTimeout(function() {\n",
       "                var nbb_cell_id = 10;\n",
       "                var nbb_unformatted_code = \"model = KNeighborsClassifier(n_neighbors=5)\\nmodel.fit(X_train, y_train)\";\n",
       "                var nbb_formatted_code = \"model = KNeighborsClassifier(n_neighbors=5)\\nmodel.fit(X_train, y_train)\";\n",
       "                var nbb_cells = Jupyter.notebook.get_cells();\n",
       "                for (var i = 0; i < nbb_cells.length; ++i) {\n",
       "                    if (nbb_cells[i].input_prompt_number == nbb_cell_id) {\n",
       "                        if (nbb_cells[i].get_text() == nbb_unformatted_code) {\n",
       "                             nbb_cells[i].set_text(nbb_formatted_code);\n",
       "                        }\n",
       "                        break;\n",
       "                    }\n",
       "                }\n",
       "            }, 500);\n",
       "            "
      ],
      "text/plain": [
       "<IPython.core.display.Javascript object>"
      ]
     },
     "metadata": {},
     "output_type": "display_data"
    }
   ],
   "source": [
    "model = KNeighborsClassifier(n_neighbors=5)\n",
    "model.fit(X_train, y_train)"
   ]
  },
  {
   "cell_type": "code",
   "execution_count": 11,
   "metadata": {},
   "outputs": [
    {
     "name": "stdout",
     "output_type": "stream",
     "text": [
      "1.0 \n",
      "\n",
      "1.0\n"
     ]
    },
    {
     "data": {
      "application/javascript": [
       "\n",
       "            setTimeout(function() {\n",
       "                var nbb_cell_id = 11;\n",
       "                var nbb_unformatted_code = \"train_score = model.score(X_train, y_train)\\ntest_score = model.score(X_test, y_test)\\n\\nprint(train_score, \\\"\\\\n\\\")\\nprint(test_score)\";\n",
       "                var nbb_formatted_code = \"train_score = model.score(X_train, y_train)\\ntest_score = model.score(X_test, y_test)\\n\\nprint(train_score, \\\"\\\\n\\\")\\nprint(test_score)\";\n",
       "                var nbb_cells = Jupyter.notebook.get_cells();\n",
       "                for (var i = 0; i < nbb_cells.length; ++i) {\n",
       "                    if (nbb_cells[i].input_prompt_number == nbb_cell_id) {\n",
       "                        if (nbb_cells[i].get_text() == nbb_unformatted_code) {\n",
       "                             nbb_cells[i].set_text(nbb_formatted_code);\n",
       "                        }\n",
       "                        break;\n",
       "                    }\n",
       "                }\n",
       "            }, 500);\n",
       "            "
      ],
      "text/plain": [
       "<IPython.core.display.Javascript object>"
      ]
     },
     "metadata": {},
     "output_type": "display_data"
    }
   ],
   "source": [
    "train_score = model.score(X_train, y_train)\n",
    "test_score = model.score(X_test, y_test)\n",
    "\n",
    "print(train_score, \"\\n\")\n",
    "print(test_score)"
   ]
  },
  {
   "cell_type": "code",
   "execution_count": 20,
   "metadata": {},
   "outputs": [
    {
     "data": {
      "application/vnd.jupyter.widget-view+json": {
       "model_id": "7c98d3b9cf3642f880bed2e432b8f4bc",
       "version_major": 2,
       "version_minor": 0
      },
      "text/plain": [
       "HBox(children=(FloatProgress(value=0.0, max=75.0), HTML(value='')))"
      ]
     },
     "metadata": {},
     "output_type": "display_data"
    },
    {
     "name": "stdout",
     "output_type": "stream",
     "text": [
      "\n"
     ]
    },
    {
     "data": {
      "image/png": "[encoded data removed]",
      "text/plain": [
       "<Figure size 432x288 with 1 Axes>"
      ]
     },
     "metadata": {
      "needs_background": "light"
     },
     "output_type": "display_data"
    },
    {
     "data": {
      "application/javascript": [
       "\n",
       "            setTimeout(function() {\n",
       "                var nbb_cell_id = 20;\n",
       "                var nbb_unformatted_code = \"from tqdm.notebook import tqdm\\n\\nks = range(1, 76)\\n\\ntrain_scores = []\\ntest_scores = []\\nfor k in tqdm(ks):\\n    model = KNeighborsClassifier(n_neighbors=k)\\n    model.fit(X_train, y_train)\\n\\n    train_score = model.score(X_train, y_train)\\n    test_score = model.score(X_test, y_test)\\n\\n    train_scores.append(train_score)\\n    test_scores.append(test_score)\\n\\n\\nplt.plot(ks, train_scores, label=\\\"train\\\")\\nplt.plot(ks, test_scores, label=\\\"test\\\")\\nplt.title(\\\"Score for Each k\\\")\\nplt.xlabel(\\\"k\\\")\\nplt.ylabel(\\\"score\\\")\\nplt.legend()\\nplt.show()\";\n",
       "                var nbb_formatted_code = \"from tqdm.notebook import tqdm\\n\\nks = range(1, 76)\\n\\ntrain_scores = []\\ntest_scores = []\\nfor k in tqdm(ks):\\n    model = KNeighborsClassifier(n_neighbors=k)\\n    model.fit(X_train, y_train)\\n\\n    train_score = model.score(X_train, y_train)\\n    test_score = model.score(X_test, y_test)\\n\\n    train_scores.append(train_score)\\n    test_scores.append(test_score)\\n\\n\\nplt.plot(ks, train_scores, label=\\\"train\\\")\\nplt.plot(ks, test_scores, label=\\\"test\\\")\\nplt.title(\\\"Score for Each k\\\")\\nplt.xlabel(\\\"k\\\")\\nplt.ylabel(\\\"score\\\")\\nplt.legend()\\nplt.show()\";\n",
       "                var nbb_cells = Jupyter.notebook.get_cells();\n",
       "                for (var i = 0; i < nbb_cells.length; ++i) {\n",
       "                    if (nbb_cells[i].input_prompt_number == nbb_cell_id) {\n",
       "                        if (nbb_cells[i].get_text() == nbb_unformatted_code) {\n",
       "                             nbb_cells[i].set_text(nbb_formatted_code);\n",
       "                        }\n",
       "                        break;\n",
       "                    }\n",
       "                }\n",
       "            }, 500);\n",
       "            "
      ],
      "text/plain": [
       "<IPython.core.display.Javascript object>"
      ]
     },
     "metadata": {},
     "output_type": "display_data"
    }
   ],
   "source": [
    "from tqdm.notebook import tqdm\n",
    "\n",
    "ks = range(1, 76)\n",
    "\n",
    "train_scores = []\n",
    "test_scores = []\n",
    "for k in tqdm(ks):\n",
    "    model = KNeighborsClassifier(n_neighbors=k)\n",
    "    model.fit(X_train, y_train)\n",
    "\n",
    "    train_score = model.score(X_train, y_train)\n",
    "    test_score = model.score(X_test, y_test)\n",
    "\n",
    "    train_scores.append(train_score)\n",
    "    test_scores.append(test_score)\n",
    "\n",
    "\n",
    "plt.plot(ks, train_scores, label=\"train\")\n",
    "plt.plot(ks, test_scores, label=\"test\")\n",
    "plt.title(\"Score for Each k\")\n",
    "plt.xlabel(\"k\")\n",
    "plt.ylabel(\"score\")\n",
    "plt.legend()\n",
    "plt.show()"
   ]
  },
  {
   "cell_type": "markdown",
   "metadata": {
    "colab_type": "text",
    "id": "Hxx2nBnEnjap"
   },
   "source": [
    "When generating a KNN model, we can use the weighted model by setting `weights='distance'`. We can also write our own custom weights function.\n",
    "\n",
    "Write a custom weight function that assigns the weight of 1/sqrt(distance) and use this function in your model. Report the accuracy score.\n",
    "\n",
    "Hint: Use the `_get_weights` function in scikit learn as a resource. The code is <a href=\"https://github.com/scikit-learn/scikit-learn/blob/fdbaa58acbead5a254f2e6d597dc1ab3b947f4c6/sklearn/neighbors/base.py#L63\" title=\"_get_weights\">here</a>."
   ]
  },
  {
   "cell_type": "code",
   "execution_count": 19,
   "metadata": {
    "colab": {},
    "colab_type": "code",
    "id": "S3YLU1c5njaq"
   },
   "outputs": [
    {
     "name": "stdout",
     "output_type": "stream",
     "text": [
      "train_score: 1.0\n",
      "test_score: 1.0\n"
     ]
    },
    {
     "data": {
      "application/javascript": [
       "\n",
       "            setTimeout(function() {\n",
       "                var nbb_cell_id = 19;\n",
       "                var nbb_unformatted_code = \"def custom_weight(dist):\\n    with warnings.catch_warnings():\\n        warnings.simplefilter(\\\"ignore\\\")\\n        return 1 / np.sqrt(dist)\\n\\n\\nmodel = KNeighborsClassifier(n_neighbors=10, weights=custom_weight)\\nmodel.fit(X_train, y_train)\\n\\nmodel = KNeighborsClassifier(n_neighbors=5, weights=custom_weight)\\nmodel.fit(X_train, y_train)\\n\\ntrain_score = model.score(X_train, y_train)\\ntest_score = model.score(X_test, y_test)\\n\\nprint(f\\\"train_score: {train_score}\\\")\\nprint(f\\\"test_score: {test_score}\\\")\";\n",
       "                var nbb_formatted_code = \"def custom_weight(dist):\\n    with warnings.catch_warnings():\\n        warnings.simplefilter(\\\"ignore\\\")\\n        return 1 / np.sqrt(dist)\\n\\n\\nmodel = KNeighborsClassifier(n_neighbors=10, weights=custom_weight)\\nmodel.fit(X_train, y_train)\\n\\nmodel = KNeighborsClassifier(n_neighbors=5, weights=custom_weight)\\nmodel.fit(X_train, y_train)\\n\\ntrain_score = model.score(X_train, y_train)\\ntest_score = model.score(X_test, y_test)\\n\\nprint(f\\\"train_score: {train_score}\\\")\\nprint(f\\\"test_score: {test_score}\\\")\";\n",
       "                var nbb_cells = Jupyter.notebook.get_cells();\n",
       "                for (var i = 0; i < nbb_cells.length; ++i) {\n",
       "                    if (nbb_cells[i].input_prompt_number == nbb_cell_id) {\n",
       "                        if (nbb_cells[i].get_text() == nbb_unformatted_code) {\n",
       "                             nbb_cells[i].set_text(nbb_formatted_code);\n",
       "                        }\n",
       "                        break;\n",
       "                    }\n",
       "                }\n",
       "            }, 500);\n",
       "            "
      ],
      "text/plain": [
       "<IPython.core.display.Javascript object>"
      ]
     },
     "metadata": {},
     "output_type": "display_data"
    }
   ],
   "source": [
    "def custom_weight(dist):\n",
    "    with warnings.catch_warnings():\n",
    "        warnings.simplefilter(\"ignore\")\n",
    "        return 1 / np.sqrt(dist)\n",
    "\n",
    "\n",
    "model = KNeighborsClassifier(n_neighbors=10, weights=custom_weight)\n",
    "model.fit(X_train, y_train)\n",
    "\n",
    "model = KNeighborsClassifier(n_neighbors=5, weights=custom_weight)\n",
    "model.fit(X_train, y_train)\n",
    "\n",
    "train_score = model.score(X_train, y_train)\n",
    "test_score = model.score(X_test, y_test)\n",
    "\n",
    "print(f\"train_score: {train_score}\")\n",
    "print(f\"test_score: {test_score}\")"
   ]
  },
  {
   "cell_type": "code",
   "execution_count": null,
   "metadata": {
    "colab": {},
    "colab_type": "code",
    "id": "eExsEiA-njas"
   },
   "outputs": [],
   "source": []
  }
 ],
 "metadata": {
  "colab": {
   "collapsed_sections": [],
   "name": "Day 31 Lecture 2 Assignment.ipynb",
   "provenance": []
  },
  "kernelspec": {
   "display_name": "Python3 (data_science_env)",
   "language": "python",
   "name": "data_science-env"
  },
  "language_info": {
   "codemirror_mode": {
    "name": "ipython",
    "version": 3
   },
   "file_extension": ".py",
   "mimetype": "text/x-python",
   "name": "python",
   "nbconvert_exporter": "python",
   "pygments_lexer": "ipython3",
   "version": "3.7.3"
  }
 },
 "nbformat": 4,
 "nbformat_minor": 1
}
