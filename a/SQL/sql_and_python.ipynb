{
 "cells": [
  {
   "cell_type": "code",
   "execution_count": 25,
   "metadata": {},
   "outputs": [],
   "source": [
    "from sqlalchemy import create_engine\n",
    "import numpy as np"
   ]
  },
  {
   "cell_type": "code",
   "execution_count": 53,
   "metadata": {},
   "outputs": [],
   "source": [
    "# Database credentials\n",
    "postgres_user = 'dsbc_student'\n",
    "postgres_pw = '7*.8G9QH21'\n",
    "postgres_host = '142.93.121.174'\n",
    "postgres_port = '5432'\n",
    "postgres_db = 'dvdrentals'\n",
    "\n",
    "# use the credentials to start a connection\n",
    "engine = create_engine('postgresql://{}:{}@{}:{}/{}'.format(\n",
    "postgres_user, postgres_pw, postgres_host, postgres_port, postgres_db))"
   ]
  },
  {
   "cell_type": "markdown",
   "metadata": {},
   "source": [
    "1. How many movies are released for each rating?"
   ]
  },
  {
   "cell_type": "code",
   "execution_count": 52,
   "metadata": {},
   "outputs": [
    {
     "name": "stdout",
     "output_type": "stream",
     "text": [
      "('R', 195)\n",
      "('NC-17', 210)\n",
      "('PG', 194)\n",
      "('PG-13', 223)\n",
      "('G', 178)\n"
     ]
    }
   ],
   "source": [
    "rentals= engine.execute('SELECT rating, COUNT(rating) FROM film GROUP BY rating')\n",
    "\n",
    "for row in rentals:\n",
    "    print(row)"
   ]
  },
  {
   "cell_type": "markdown",
   "metadata": {},
   "source": [
    "2. What is the average rental duration for each rating?"
   ]
  },
  {
   "cell_type": "code",
   "execution_count": 45,
   "metadata": {},
   "outputs": [
    {
     "name": "stdout",
     "output_type": "stream",
     "text": [
      "('R', Decimal('4.774'))\n",
      "('NC-17', Decimal('5.143'))\n",
      "('PG', Decimal('5.082'))\n",
      "('PG-13', Decimal('5.054'))\n",
      "('G', Decimal('4.837'))\n"
     ]
    }
   ],
   "source": [
    "rentals= engine.execute('SELECT rating, ROUND(AVG(rental_duration),3) FROM film GROUP BY rating')\n",
    "\n",
    "for row in rentals:\n",
    "    print(row)"
   ]
  },
  {
   "cell_type": "markdown",
   "metadata": {},
   "source": [
    "3. What is the mean movie length?"
   ]
  },
  {
   "cell_type": "code",
   "execution_count": 46,
   "metadata": {},
   "outputs": [
    {
     "name": "stdout",
     "output_type": "stream",
     "text": [
      "(Decimal('115.27'),)\n"
     ]
    }
   ],
   "source": [
    "rentals= engine.execute('SELECT ROUND(AVG(length),2) FROM film')\n",
    "\n",
    "for row in rentals:\n",
    "    print(row)"
   ]
  },
  {
   "cell_type": "markdown",
   "metadata": {},
   "source": [
    "4. What is the median movie length? Calculate this by defining a function."
   ]
  },
  {
   "cell_type": "code",
   "execution_count": 49,
   "metadata": {},
   "outputs": [
    {
     "data": {
      "text/plain": [
       "114.0"
      ]
     },
     "execution_count": 49,
     "metadata": {},
     "output_type": "execute_result"
    }
   ],
   "source": [
    "rentals= engine.execute('SELECT length FROM film')\n",
    "\n",
    "def get_median(x):\n",
    "    length_list= [i[0] for i in rentals]\n",
    "    \n",
    "    return np.median(length_list)\n",
    "    \n",
    "    \n",
    "get_median(rentals)   "
   ]
  },
  {
   "cell_type": "markdown",
   "metadata": {},
   "source": [
    "5. Calculate the standard deviation of the movie lengths. Calculate this by defining a function."
   ]
  },
  {
   "cell_type": "code",
   "execution_count": 51,
   "metadata": {},
   "outputs": [
    {
     "data": {
      "text/plain": [
       "40.40611359683086"
      ]
     },
     "execution_count": 51,
     "metadata": {},
     "output_type": "execute_result"
    }
   ],
   "source": [
    "rentals= engine.execute('SELECT length FROM film')\n",
    "\n",
    "def get_std(x):\n",
    "    length_list= [i[0] for i in rentals]\n",
    "    return np.std(length_list)\n",
    "    \n",
    "    \n",
    "get_std(rentals)"
   ]
  },
  {
   "cell_type": "code",
   "execution_count": null,
   "metadata": {},
   "outputs": [],
   "source": []
  }
 ],
 "metadata": {
  "kernelspec": {
   "display_name": "Python 3",
   "language": "python",
   "name": "python3"
  }
 },
 "nbformat": 4,
 "nbformat_minor": 4
}
