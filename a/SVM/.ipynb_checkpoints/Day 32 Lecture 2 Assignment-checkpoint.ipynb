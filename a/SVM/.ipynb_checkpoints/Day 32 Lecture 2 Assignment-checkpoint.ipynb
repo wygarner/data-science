{
 "cells": [
  {
   "cell_type": "code",
   "execution_count": null,
   "metadata": {},
   "outputs": [],
   "source": [
    "%load_ext nb_black"
   ]
  },
  {
   "cell_type": "markdown",
   "metadata": {
    "colab_type": "text",
    "id": "TNewN9PjovQQ"
   },
   "source": [
    "## Day 32 Lecture 2 Assignment\n",
    "\n",
    "In this assignment, we will learn about SVM. We will use the csection dataset loaded below and analyze the model generated for this dataset."
   ]
  },
  {
   "cell_type": "code",
   "execution_count": null,
   "metadata": {
    "colab": {},
    "colab_type": "code",
    "id": "LytTJ7m3ovQR"
   },
   "outputs": [],
   "source": [
    "%matplotlib inline\n",
    "\n",
    "import matplotlib.pyplot as plt\n",
    "import numpy as np\n",
    "import pandas as pd\n",
    "\n",
    "import ssl\n",
    "\n",
    "ssl._create_default_https_context= ssl._create_unverified_context"
   ]
  },
  {
   "cell_type": "code",
   "execution_count": null,
   "metadata": {
    "colab": {},
    "colab_type": "code",
    "id": "suyUnuV1ovQT"
   },
   "outputs": [],
   "source": [
    "# Age -  ranges from 18 to 40  \n",
    "# Delivery number - ranges from 1 to 4\n",
    "# Delivery time -  {0 = timely , 1 = premature , 2 = latecomer}\n",
    "# Blood of Pressure - {0 = low , 1 = normal , 2 = high }\n",
    "# Heart Problem - {0 = apt, 1 = inept }\n",
    "\n",
    "# Target - Caesarian - {0 = No, 1 = Yes }\n",
    "\n",
    "csection = pd.read_csv('https://tf-assets-prod.s3.amazonaws.com/tf-curric/data-science/csection.csv')"
   ]
  },
  {
   "cell_type": "markdown",
   "metadata": {
    "colab_type": "text",
    "id": "3Bmh_TY6ovQU"
   },
   "source": [
    "Our goal is to predict the patient needed a csection."
   ]
  },
  {
   "cell_type": "code",
   "execution_count": null,
   "metadata": {
    "colab": {},
    "colab_type": "code",
    "id": "azzR0Ke4ovQV",
    "outputId": "d011b425-c84a-4f26-ede7-0e639f3f6740"
   },
   "outputs": [],
   "source": [
    "csection.head()"
   ]
  },
  {
   "cell_type": "markdown",
   "metadata": {
    "colab_type": "text",
    "id": "czH3rbgvovQX"
   },
   "source": [
    "Check whether the data has missing values and remove all rows containing missing values."
   ]
  },
  {
   "cell_type": "code",
   "execution_count": 0,
   "metadata": {
    "colab": {},
    "colab_type": "code",
    "id": "SQ5lvwgtovQY"
   },
   "outputs": [],
   "source": [
    "# answer below:\n",
    "\n"
   ]
  },
  {
   "cell_type": "markdown",
   "metadata": {
    "colab_type": "text",
    "id": "ctUa7VJaovQa"
   },
   "source": [
    "Examine the distribution of delivery number, blood pressure and heart problem."
   ]
  },
  {
   "cell_type": "code",
   "execution_count": 0,
   "metadata": {
    "colab": {},
    "colab_type": "code",
    "id": "hwLw5sCDovQa"
   },
   "outputs": [],
   "source": [
    "# answer below:\n"
   ]
  },
  {
   "cell_type": "markdown",
   "metadata": {
    "colab_type": "text",
    "id": "bfwT1rHQovQc"
   },
   "source": [
    "What are your conclusions from the distribtuions of these variables? Write them below."
   ]
  },
  {
   "cell_type": "code",
   "execution_count": 0,
   "metadata": {
    "colab": {},
    "colab_type": "code",
    "id": "x1eDQXs8ovQc"
   },
   "outputs": [],
   "source": [
    "# answer below:\n",
    "\n"
   ]
  },
  {
   "cell_type": "markdown",
   "metadata": {
    "colab_type": "text",
    "id": "uuntXGeFovQe"
   },
   "source": [
    "Create dummy variables from all columns containing categorical variables with more than two values."
   ]
  },
  {
   "cell_type": "code",
   "execution_count": 0,
   "metadata": {
    "colab": {},
    "colab_type": "code",
    "id": "bCNx1HLBovQe"
   },
   "outputs": [],
   "source": [
    "# answer below:\n",
    "\n"
   ]
  },
  {
   "cell_type": "markdown",
   "metadata": {
    "colab_type": "text",
    "id": "-H-fgAcvovQg"
   },
   "source": [
    "Split the data into test and train with test containing 20% of the data."
   ]
  },
  {
   "cell_type": "code",
   "execution_count": 0,
   "metadata": {
    "colab": {},
    "colab_type": "code",
    "id": "Fjauxq1WovQg"
   },
   "outputs": [],
   "source": [
    "# answer below:\n",
    "\n"
   ]
  },
  {
   "cell_type": "markdown",
   "metadata": {
    "colab_type": "text",
    "id": "Dqv8gMI-ovQi"
   },
   "source": [
    "Use the linear kernel to train a SVC model on our training data. Report the scores for the training and test data."
   ]
  },
  {
   "cell_type": "code",
   "execution_count": 0,
   "metadata": {
    "colab": {},
    "colab_type": "code",
    "id": "Fw3loKixovQi"
   },
   "outputs": [],
   "source": [
    "# answer below:\n",
    "\n"
   ]
  },
  {
   "cell_type": "code",
   "execution_count": 0,
   "metadata": {
    "colab": {},
    "colab_type": "code",
    "id": "bnixBOTNovQj"
   },
   "outputs": [],
   "source": []
  }
 ],
 "metadata": {
  "colab": {
   "collapsed_sections": [],
   "name": "Day 32 Lecture 2 Assignment.ipynb",
   "provenance": []
  },
  "kernelspec": {
   "display_name": "Python3 (data_science_env)",
   "language": "python",
   "name": "data_science-env"
  },
  "language_info": {
   "codemirror_mode": {
    "name": "ipython",
    "version": 3
   },
   "file_extension": ".py",
   "mimetype": "text/x-python",
   "name": "python",
   "nbconvert_exporter": "python",
   "pygments_lexer": "ipython3",
   "version": "3.7.3"
  }
 },
 "nbformat": 4,
 "nbformat_minor": 1
}
