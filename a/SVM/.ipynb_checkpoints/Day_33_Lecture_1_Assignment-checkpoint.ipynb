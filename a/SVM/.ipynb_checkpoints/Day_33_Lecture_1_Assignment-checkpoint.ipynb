{
 "cells": [
  {
   "cell_type": "code",
   "execution_count": 1,
   "metadata": {},
   "outputs": [
    {
     "data": {
      "application/javascript": [
       "\n",
       "            setTimeout(function() {\n",
       "                var nbb_cell_id = 1;\n",
       "                var nbb_unformatted_code = \"%load_ext nb_black\";\n",
       "                var nbb_formatted_code = \"%load_ext nb_black\";\n",
       "                var nbb_cells = Jupyter.notebook.get_cells();\n",
       "                for (var i = 0; i < nbb_cells.length; ++i) {\n",
       "                    if (nbb_cells[i].input_prompt_number == nbb_cell_id) {\n",
       "                        if (nbb_cells[i].get_text() == nbb_unformatted_code) {\n",
       "                             nbb_cells[i].set_text(nbb_formatted_code);\n",
       "                        }\n",
       "                        break;\n",
       "                    }\n",
       "                }\n",
       "            }, 500);\n",
       "            "
      ],
      "text/plain": [
       "<IPython.core.display.Javascript object>"
      ]
     },
     "metadata": {},
     "output_type": "display_data"
    }
   ],
   "source": [
    "%load_ext nb_black"
   ]
  },
  {
   "cell_type": "markdown",
   "metadata": {
    "colab_type": "text",
    "id": "N-dUAbfgpuRb"
   },
   "source": [
    "## Day 33 Lecture 1 Assignment\n",
    "\n",
    "In this assignment, we will learn about SVM. We will use the csection dataset loaded below and analyze the model generated for this dataset."
   ]
  },
  {
   "cell_type": "code",
   "execution_count": 5,
   "metadata": {
    "colab": {},
    "colab_type": "code",
    "id": "frNvugKHpuRd"
   },
   "outputs": [
    {
     "data": {
      "application/javascript": [
       "\n",
       "            setTimeout(function() {\n",
       "                var nbb_cell_id = 5;\n",
       "                var nbb_unformatted_code = \"%matplotlib inline\\n\\nimport matplotlib.pyplot as plt\\nimport numpy as np\\nimport pandas as pd\\n\\nfrom sklearn.model_selection import train_test_split, GridSearchCV\\nfrom sklearn.preprocessing import OneHotEncoder, StandardScaler\\nfrom sklearn.compose import ColumnTransformer\\nfrom sklearn.pipeline import Pipeline\\nfrom sklearn.svm import SVC\\nfrom sklearn.metrics import confusion_matrix\\n\\nimport ssl\\n\\nssl._create_default_https_context = ssl._create_unverified_context\";\n",
       "                var nbb_formatted_code = \"%matplotlib inline\\n\\nimport matplotlib.pyplot as plt\\nimport numpy as np\\nimport pandas as pd\\n\\nfrom sklearn.model_selection import train_test_split, GridSearchCV\\nfrom sklearn.preprocessing import OneHotEncoder, StandardScaler\\nfrom sklearn.compose import ColumnTransformer\\nfrom sklearn.pipeline import Pipeline\\nfrom sklearn.svm import SVC\\nfrom sklearn.metrics import confusion_matrix\\n\\nimport ssl\\n\\nssl._create_default_https_context = ssl._create_unverified_context\";\n",
       "                var nbb_cells = Jupyter.notebook.get_cells();\n",
       "                for (var i = 0; i < nbb_cells.length; ++i) {\n",
       "                    if (nbb_cells[i].input_prompt_number == nbb_cell_id) {\n",
       "                        if (nbb_cells[i].get_text() == nbb_unformatted_code) {\n",
       "                             nbb_cells[i].set_text(nbb_formatted_code);\n",
       "                        }\n",
       "                        break;\n",
       "                    }\n",
       "                }\n",
       "            }, 500);\n",
       "            "
      ],
      "text/plain": [
       "<IPython.core.display.Javascript object>"
      ]
     },
     "metadata": {},
     "output_type": "display_data"
    }
   ],
   "source": [
    "%matplotlib inline\n",
    "\n",
    "import matplotlib.pyplot as plt\n",
    "import numpy as np\n",
    "import pandas as pd\n",
    "\n",
    "from sklearn.model_selection import train_test_split, GridSearchCV\n",
    "from sklearn.preprocessing import OneHotEncoder, StandardScaler\n",
    "from sklearn.compose import ColumnTransformer\n",
    "from sklearn.pipeline import Pipeline\n",
    "from sklearn.svm import SVC\n",
    "from sklearn.metrics import confusion_matrix\n",
    "\n",
    "import ssl\n",
    "\n",
    "ssl._create_default_https_context = ssl._create_unverified_context"
   ]
  },
  {
   "cell_type": "code",
   "execution_count": 3,
   "metadata": {
    "colab": {},
    "colab_type": "code",
    "id": "B_1e4lobpuRf"
   },
   "outputs": [
    {
     "data": {
      "application/javascript": [
       "\n",
       "            setTimeout(function() {\n",
       "                var nbb_cell_id = 3;\n",
       "                var nbb_unformatted_code = \"# Age -  ranges from 18 to 40  \\n# Delivery number - ranges from 1 to 4\\n# Delivery time -  {0 = timely , 1 = premature , 2 = latecomer}\\n# Blood of Pressure - {0 = low , 1 = normal , 2 = high }\\n# Heart Problem - {0 = apt, 1 = inept }\\n\\n# Target - Caesarian - {0 = No, 1 = Yes }\\n\\ncsection = pd.read_csv('https://tf-assets-prod.s3.amazonaws.com/tf-curric/data-science/csection.csv')\";\n",
       "                var nbb_formatted_code = \"# Age -  ranges from 18 to 40\\n# Delivery number - ranges from 1 to 4\\n# Delivery time -  {0 = timely , 1 = premature , 2 = latecomer}\\n# Blood of Pressure - {0 = low , 1 = normal , 2 = high }\\n# Heart Problem - {0 = apt, 1 = inept }\\n\\n# Target - Caesarian - {0 = No, 1 = Yes }\\n\\ncsection = pd.read_csv(\\n    \\\"https://tf-assets-prod.s3.amazonaws.com/tf-curric/data-science/csection.csv\\\"\\n)\";\n",
       "                var nbb_cells = Jupyter.notebook.get_cells();\n",
       "                for (var i = 0; i < nbb_cells.length; ++i) {\n",
       "                    if (nbb_cells[i].input_prompt_number == nbb_cell_id) {\n",
       "                        if (nbb_cells[i].get_text() == nbb_unformatted_code) {\n",
       "                             nbb_cells[i].set_text(nbb_formatted_code);\n",
       "                        }\n",
       "                        break;\n",
       "                    }\n",
       "                }\n",
       "            }, 500);\n",
       "            "
      ],
      "text/plain": [
       "<IPython.core.display.Javascript object>"
      ]
     },
     "metadata": {},
     "output_type": "display_data"
    }
   ],
   "source": [
    "# Age -  ranges from 18 to 40\n",
    "# Delivery number - ranges from 1 to 4\n",
    "# Delivery time -  {0 = timely , 1 = premature , 2 = latecomer}\n",
    "# Blood of Pressure - {0 = low , 1 = normal , 2 = high }\n",
    "# Heart Problem - {0 = apt, 1 = inept }\n",
    "\n",
    "# Target - Caesarian - {0 = No, 1 = Yes }\n",
    "\n",
    "csection = pd.read_csv(\n",
    "    \"https://tf-assets-prod.s3.amazonaws.com/tf-curric/data-science/csection.csv\"\n",
    ")"
   ]
  },
  {
   "cell_type": "markdown",
   "metadata": {
    "colab_type": "text",
    "id": "XSlVp6FRpuRg"
   },
   "source": [
    "Recall our c section dataset. Process the data by removing any missing values, creating the appropriate dummy variables and splitting the data into train and test (20% in the test dataset)."
   ]
  },
  {
   "cell_type": "code",
   "execution_count": 20,
   "metadata": {},
   "outputs": [
    {
     "data": {
      "text/html": [
       "<div>\n",
       "<style scoped>\n",
       "    .dataframe tbody tr th:only-of-type {\n",
       "        vertical-align: middle;\n",
       "    }\n",
       "\n",
       "    .dataframe tbody tr th {\n",
       "        vertical-align: top;\n",
       "    }\n",
       "\n",
       "    .dataframe thead th {\n",
       "        text-align: right;\n",
       "    }\n",
       "</style>\n",
       "<table border=\"1\" class=\"dataframe\">\n",
       "  <thead>\n",
       "    <tr style=\"text-align: right;\">\n",
       "      <th></th>\n",
       "      <th>Age</th>\n",
       "      <th>Delivery number</th>\n",
       "      <th>Delivery time</th>\n",
       "      <th>Blood Pressure</th>\n",
       "      <th>Heart Problem</th>\n",
       "      <th>Caesarian</th>\n",
       "    </tr>\n",
       "  </thead>\n",
       "  <tbody>\n",
       "    <tr>\n",
       "      <th>0</th>\n",
       "      <td>22</td>\n",
       "      <td>1</td>\n",
       "      <td>0</td>\n",
       "      <td>2</td>\n",
       "      <td>0</td>\n",
       "      <td>0</td>\n",
       "    </tr>\n",
       "    <tr>\n",
       "      <th>1</th>\n",
       "      <td>26</td>\n",
       "      <td>2</td>\n",
       "      <td>0</td>\n",
       "      <td>1</td>\n",
       "      <td>0</td>\n",
       "      <td>1</td>\n",
       "    </tr>\n",
       "    <tr>\n",
       "      <th>2</th>\n",
       "      <td>26</td>\n",
       "      <td>2</td>\n",
       "      <td>1</td>\n",
       "      <td>1</td>\n",
       "      <td>0</td>\n",
       "      <td>0</td>\n",
       "    </tr>\n",
       "    <tr>\n",
       "      <th>3</th>\n",
       "      <td>28</td>\n",
       "      <td>1</td>\n",
       "      <td>0</td>\n",
       "      <td>2</td>\n",
       "      <td>0</td>\n",
       "      <td>0</td>\n",
       "    </tr>\n",
       "    <tr>\n",
       "      <th>4</th>\n",
       "      <td>22</td>\n",
       "      <td>2</td>\n",
       "      <td>0</td>\n",
       "      <td>1</td>\n",
       "      <td>0</td>\n",
       "      <td>1</td>\n",
       "    </tr>\n",
       "    <tr>\n",
       "      <th>...</th>\n",
       "      <td>...</td>\n",
       "      <td>...</td>\n",
       "      <td>...</td>\n",
       "      <td>...</td>\n",
       "      <td>...</td>\n",
       "      <td>...</td>\n",
       "    </tr>\n",
       "    <tr>\n",
       "      <th>75</th>\n",
       "      <td>27</td>\n",
       "      <td>2</td>\n",
       "      <td>1</td>\n",
       "      <td>1</td>\n",
       "      <td>0</td>\n",
       "      <td>0</td>\n",
       "    </tr>\n",
       "    <tr>\n",
       "      <th>76</th>\n",
       "      <td>33</td>\n",
       "      <td>4</td>\n",
       "      <td>0</td>\n",
       "      <td>1</td>\n",
       "      <td>0</td>\n",
       "      <td>1</td>\n",
       "    </tr>\n",
       "    <tr>\n",
       "      <th>77</th>\n",
       "      <td>29</td>\n",
       "      <td>2</td>\n",
       "      <td>1</td>\n",
       "      <td>2</td>\n",
       "      <td>0</td>\n",
       "      <td>1</td>\n",
       "    </tr>\n",
       "    <tr>\n",
       "      <th>78</th>\n",
       "      <td>25</td>\n",
       "      <td>1</td>\n",
       "      <td>2</td>\n",
       "      <td>0</td>\n",
       "      <td>0</td>\n",
       "      <td>1</td>\n",
       "    </tr>\n",
       "    <tr>\n",
       "      <th>79</th>\n",
       "      <td>24</td>\n",
       "      <td>2</td>\n",
       "      <td>2</td>\n",
       "      <td>1</td>\n",
       "      <td>0</td>\n",
       "      <td>0</td>\n",
       "    </tr>\n",
       "  </tbody>\n",
       "</table>\n",
       "<p>80 rows × 6 columns</p>\n",
       "</div>"
      ],
      "text/plain": [
       "    Age  Delivery number  Delivery time  Blood Pressure  Heart Problem  \\\n",
       "0    22                1              0               2              0   \n",
       "1    26                2              0               1              0   \n",
       "2    26                2              1               1              0   \n",
       "3    28                1              0               2              0   \n",
       "4    22                2              0               1              0   \n",
       "..  ...              ...            ...             ...            ...   \n",
       "75   27                2              1               1              0   \n",
       "76   33                4              0               1              0   \n",
       "77   29                2              1               2              0   \n",
       "78   25                1              2               0              0   \n",
       "79   24                2              2               1              0   \n",
       "\n",
       "    Caesarian  \n",
       "0           0  \n",
       "1           1  \n",
       "2           0  \n",
       "3           0  \n",
       "4           1  \n",
       "..        ...  \n",
       "75          0  \n",
       "76          1  \n",
       "77          1  \n",
       "78          1  \n",
       "79          0  \n",
       "\n",
       "[80 rows x 6 columns]"
      ]
     },
     "execution_count": 20,
     "metadata": {},
     "output_type": "execute_result"
    },
    {
     "data": {
      "application/javascript": [
       "\n",
       "            setTimeout(function() {\n",
       "                var nbb_cell_id = 20;\n",
       "                var nbb_unformatted_code = \"csection\";\n",
       "                var nbb_formatted_code = \"csection\";\n",
       "                var nbb_cells = Jupyter.notebook.get_cells();\n",
       "                for (var i = 0; i < nbb_cells.length; ++i) {\n",
       "                    if (nbb_cells[i].input_prompt_number == nbb_cell_id) {\n",
       "                        if (nbb_cells[i].get_text() == nbb_unformatted_code) {\n",
       "                             nbb_cells[i].set_text(nbb_formatted_code);\n",
       "                        }\n",
       "                        break;\n",
       "                    }\n",
       "                }\n",
       "            }, 500);\n",
       "            "
      ],
      "text/plain": [
       "<IPython.core.display.Javascript object>"
      ]
     },
     "metadata": {},
     "output_type": "display_data"
    }
   ],
   "source": [
    "csection"
   ]
  },
  {
   "cell_type": "code",
   "execution_count": 19,
   "metadata": {},
   "outputs": [
    {
     "data": {
      "text/plain": [
       "(80, 6)"
      ]
     },
     "execution_count": 19,
     "metadata": {},
     "output_type": "execute_result"
    },
    {
     "data": {
      "application/javascript": [
       "\n",
       "            setTimeout(function() {\n",
       "                var nbb_cell_id = 19;\n",
       "                var nbb_unformatted_code = \"csection.shape\";\n",
       "                var nbb_formatted_code = \"csection.shape\";\n",
       "                var nbb_cells = Jupyter.notebook.get_cells();\n",
       "                for (var i = 0; i < nbb_cells.length; ++i) {\n",
       "                    if (nbb_cells[i].input_prompt_number == nbb_cell_id) {\n",
       "                        if (nbb_cells[i].get_text() == nbb_unformatted_code) {\n",
       "                             nbb_cells[i].set_text(nbb_formatted_code);\n",
       "                        }\n",
       "                        break;\n",
       "                    }\n",
       "                }\n",
       "            }, 500);\n",
       "            "
      ],
      "text/plain": [
       "<IPython.core.display.Javascript object>"
      ]
     },
     "metadata": {},
     "output_type": "display_data"
    }
   ],
   "source": [
    "csection.shape"
   ]
  },
  {
   "cell_type": "code",
   "execution_count": 6,
   "metadata": {
    "colab": {},
    "colab_type": "code",
    "id": "p8LyaYcIpuRh"
   },
   "outputs": [
    {
     "data": {
      "application/javascript": [
       "\n",
       "            setTimeout(function() {\n",
       "                var nbb_cell_id = 6;\n",
       "                var nbb_unformatted_code = \"X = csection.drop(columns=[\\\"Caesarian\\\"])\\ny = csection[\\\"Caesarian\\\"]\\n\\nX_train, X_test, y_train, y_test = train_test_split(\\n    X, y, test_size=0.2, random_state=42, stratify=y\\n)\";\n",
       "                var nbb_formatted_code = \"X = csection.drop(columns=[\\\"Caesarian\\\"])\\ny = csection[\\\"Caesarian\\\"]\\n\\nX_train, X_test, y_train, y_test = train_test_split(\\n    X, y, test_size=0.2, random_state=42, stratify=y\\n)\";\n",
       "                var nbb_cells = Jupyter.notebook.get_cells();\n",
       "                for (var i = 0; i < nbb_cells.length; ++i) {\n",
       "                    if (nbb_cells[i].input_prompt_number == nbb_cell_id) {\n",
       "                        if (nbb_cells[i].get_text() == nbb_unformatted_code) {\n",
       "                             nbb_cells[i].set_text(nbb_formatted_code);\n",
       "                        }\n",
       "                        break;\n",
       "                    }\n",
       "                }\n",
       "            }, 500);\n",
       "            "
      ],
      "text/plain": [
       "<IPython.core.display.Javascript object>"
      ]
     },
     "metadata": {},
     "output_type": "display_data"
    }
   ],
   "source": [
    "X = csection.drop(columns=[\"Caesarian\"])\n",
    "y = csection[\"Caesarian\"]\n",
    "\n",
    "X_train, X_test, y_train, y_test = train_test_split(\n",
    "    X, y, test_size=0.2, random_state=42, stratify=y\n",
    ")"
   ]
  },
  {
   "cell_type": "markdown",
   "metadata": {
    "colab_type": "text",
    "id": "P_h8WYktpuRj"
   },
   "source": [
    "Generate an SVC model with a linear kernel. Set C=10. Check the score for both train and test. Does the model overfit?"
   ]
  },
  {
   "cell_type": "code",
   "execution_count": 11,
   "metadata": {},
   "outputs": [
    {
     "name": "stdout",
     "output_type": "stream",
     "text": [
      "Fitting 5 folds for each of 4 candidates, totalling 20 fits\n"
     ]
    },
    {
     "name": "stderr",
     "output_type": "stream",
     "text": [
      "[Parallel(n_jobs=1)]: Using backend SequentialBackend with 1 concurrent workers.\n",
      "[Parallel(n_jobs=1)]: Done  20 out of  20 | elapsed:    1.4s finished\n"
     ]
    },
    {
     "data": {
      "text/plain": [
       "{'svm__C': 5.0}"
      ]
     },
     "execution_count": 11,
     "metadata": {},
     "output_type": "execute_result"
    },
    {
     "data": {
      "application/javascript": [
       "\n",
       "            setTimeout(function() {\n",
       "                var nbb_cell_id = 11;\n",
       "                var nbb_unformatted_code = \"# What columns to encode as categorical\\n# Going to use OneHotEncoder\\ncat_cols = [\\\"Delivery time\\\", \\\"Blood Pressure\\\"]\\n# What category to drop from onehotencoding\\ndrop_cats = [0, 1]\\n\\n# Dividing up remaining columns in case of wanting\\n# to do some numeric processing.  We wouldn't want to include\\n# the binary columns in the numeric processing.\\nnum_cols = [\\\"Age\\\", \\\"Delivery number\\\"]\\nbin_cols = [\\\"Heart Problem\\\"]\\n\\npreprocessing = ColumnTransformer(\\n    [(\\\"encode_cats\\\", OneHotEncoder(drop=drop_cats), cat_cols),], remainder=\\\"passthrough\\\"\\n)\\n\\npipeline = Pipeline([(\\\"preprocessing\\\", preprocessing), (\\\"svm\\\", SVC(kernel=\\\"linear\\\"))])\\n\\ngrid = {\\\"svm__C\\\": [0.5, 1.0, 5.0, 10.0]}\\n# grid = {\\\"svm__C\\\": [10]}\\n\\npipeline_cv = GridSearchCV(pipeline, grid, verbose=1)\\n\\npipeline_cv.fit(X_train, y_train)\\npipeline_cv.best_params_\";\n",
       "                var nbb_formatted_code = \"# What columns to encode as categorical\\n# Going to use OneHotEncoder\\ncat_cols = [\\\"Delivery time\\\", \\\"Blood Pressure\\\"]\\n# What category to drop from onehotencoding\\ndrop_cats = [0, 1]\\n\\n# Dividing up remaining columns in case of wanting\\n# to do some numeric processing.  We wouldn't want to include\\n# the binary columns in the numeric processing.\\nnum_cols = [\\\"Age\\\", \\\"Delivery number\\\"]\\nbin_cols = [\\\"Heart Problem\\\"]\\n\\npreprocessing = ColumnTransformer(\\n    [(\\\"encode_cats\\\", OneHotEncoder(drop=drop_cats), cat_cols),], remainder=\\\"passthrough\\\"\\n)\\n\\npipeline = Pipeline([(\\\"preprocessing\\\", preprocessing), (\\\"svm\\\", SVC(kernel=\\\"linear\\\"))])\\n\\ngrid = {\\\"svm__C\\\": [0.5, 1.0, 5.0, 10.0]}\\n# grid = {\\\"svm__C\\\": [10]}\\n\\npipeline_cv = GridSearchCV(pipeline, grid, verbose=1)\\n\\npipeline_cv.fit(X_train, y_train)\\npipeline_cv.best_params_\";\n",
       "                var nbb_cells = Jupyter.notebook.get_cells();\n",
       "                for (var i = 0; i < nbb_cells.length; ++i) {\n",
       "                    if (nbb_cells[i].input_prompt_number == nbb_cell_id) {\n",
       "                        if (nbb_cells[i].get_text() == nbb_unformatted_code) {\n",
       "                             nbb_cells[i].set_text(nbb_formatted_code);\n",
       "                        }\n",
       "                        break;\n",
       "                    }\n",
       "                }\n",
       "            }, 500);\n",
       "            "
      ],
      "text/plain": [
       "<IPython.core.display.Javascript object>"
      ]
     },
     "metadata": {},
     "output_type": "display_data"
    }
   ],
   "source": [
    "# What columns to encode as categorical\n",
    "# Going to use OneHotEncoder\n",
    "cat_cols = [\"Delivery time\", \"Blood Pressure\"]\n",
    "# What category to drop from onehotencoding\n",
    "drop_cats = [0, 1]\n",
    "\n",
    "# Dividing up remaining columns in case of wanting\n",
    "# to do some numeric processing.  We wouldn't want to include\n",
    "# the binary columns in the numeric processing.\n",
    "num_cols = [\"Age\", \"Delivery number\"]\n",
    "bin_cols = [\"Heart Problem\"]\n",
    "\n",
    "preprocessing = ColumnTransformer(\n",
    "    [(\"encode_cats\", OneHotEncoder(drop=drop_cats), cat_cols),], remainder=\"passthrough\"\n",
    ")\n",
    "\n",
    "pipeline = Pipeline([(\"preprocessing\", preprocessing), (\"svm\", SVC(kernel=\"linear\"))])\n",
    "\n",
    "grid = {\"svm__C\": [0.5, 1.0, 5.0, 10.0]}\n",
    "# grid = {\"svm__C\": [10]}\n",
    "\n",
    "pipeline_cv = GridSearchCV(pipeline, grid, verbose=1)\n",
    "\n",
    "pipeline_cv.fit(X_train, y_train)\n",
    "pipeline_cv.best_params_"
   ]
  },
  {
   "cell_type": "code",
   "execution_count": 13,
   "metadata": {
    "colab": {},
    "colab_type": "code",
    "id": "s7ZPqXMGpuRj"
   },
   "outputs": [
    {
     "name": "stdout",
     "output_type": "stream",
     "text": [
      "train_score: 0.65625\n",
      "test_score: 0.875\n"
     ]
    },
    {
     "data": {
      "application/javascript": [
       "\n",
       "            setTimeout(function() {\n",
       "                var nbb_cell_id = 13;\n",
       "                var nbb_unformatted_code = \"train_score = pipeline_cv.score(X_train, y_train)\\ntest_score = pipeline_cv.score(X_test, y_test)\\n\\nprint(f\\\"train_score: {train_score}\\\")\\nprint(f\\\"test_score: {test_score}\\\")\";\n",
       "                var nbb_formatted_code = \"train_score = pipeline_cv.score(X_train, y_train)\\ntest_score = pipeline_cv.score(X_test, y_test)\\n\\nprint(f\\\"train_score: {train_score}\\\")\\nprint(f\\\"test_score: {test_score}\\\")\";\n",
       "                var nbb_cells = Jupyter.notebook.get_cells();\n",
       "                for (var i = 0; i < nbb_cells.length; ++i) {\n",
       "                    if (nbb_cells[i].input_prompt_number == nbb_cell_id) {\n",
       "                        if (nbb_cells[i].get_text() == nbb_unformatted_code) {\n",
       "                             nbb_cells[i].set_text(nbb_formatted_code);\n",
       "                        }\n",
       "                        break;\n",
       "                    }\n",
       "                }\n",
       "            }, 500);\n",
       "            "
      ],
      "text/plain": [
       "<IPython.core.display.Javascript object>"
      ]
     },
     "metadata": {},
     "output_type": "display_data"
    }
   ],
   "source": [
    "train_score = pipeline_cv.score(X_train, y_train)\n",
    "test_score = pipeline_cv.score(X_test, y_test)\n",
    "\n",
    "print(f\"train_score: {train_score}\")\n",
    "print(f\"test_score: {test_score}\")"
   ]
  },
  {
   "cell_type": "code",
   "execution_count": 0,
   "metadata": {
    "colab": {},
    "colab_type": "code",
    "id": "7TR-44hppuRm"
   },
   "outputs": [],
   "source": []
  },
  {
   "cell_type": "markdown",
   "metadata": {
    "colab_type": "text",
    "id": "ahsyvz1LpuRn"
   },
   "source": [
    "If you have determined the model to overfit, pick a value of C based on your conclusion and show that the difference between the scores has improved."
   ]
  },
  {
   "cell_type": "code",
   "execution_count": 0,
   "metadata": {
    "colab": {},
    "colab_type": "code",
    "id": "tE_-fqFcpuRo"
   },
   "outputs": [],
   "source": [
    "# answer below:\n",
    "\n"
   ]
  },
  {
   "cell_type": "code",
   "execution_count": 0,
   "metadata": {
    "colab": {},
    "colab_type": "code",
    "id": "pDFBrtDApuRp"
   },
   "outputs": [],
   "source": []
  },
  {
   "cell_type": "markdown",
   "metadata": {
    "colab_type": "text",
    "id": "oUzyujbwpuRr"
   },
   "source": [
    "What if we switched up the target variable? Let assume that we know whether a patient received a c section. Let's try to predict whether she has high blood pressure. \n",
    "\n",
    "Create the SVC model with a linear kernel with Blood Pressure as the target variable. Report both the train and the test scores."
   ]
  },
  {
   "cell_type": "code",
   "execution_count": 14,
   "metadata": {
    "colab": {},
    "colab_type": "code",
    "id": "lKPF7TSdpuRs"
   },
   "outputs": [
    {
     "data": {
      "application/javascript": [
       "\n",
       "            setTimeout(function() {\n",
       "                var nbb_cell_id = 14;\n",
       "                var nbb_unformatted_code = \"X = csection.drop(columns=[\\\"Blood Pressure\\\"])\\ny = csection[\\\"Blood Pressure\\\"]\\n\\nX_train, X_test, y_train, y_test = train_test_split(\\n    X, y, test_size=0.2, random_state=42, stratify=y\\n)\";\n",
       "                var nbb_formatted_code = \"X = csection.drop(columns=[\\\"Blood Pressure\\\"])\\ny = csection[\\\"Blood Pressure\\\"]\\n\\nX_train, X_test, y_train, y_test = train_test_split(\\n    X, y, test_size=0.2, random_state=42, stratify=y\\n)\";\n",
       "                var nbb_cells = Jupyter.notebook.get_cells();\n",
       "                for (var i = 0; i < nbb_cells.length; ++i) {\n",
       "                    if (nbb_cells[i].input_prompt_number == nbb_cell_id) {\n",
       "                        if (nbb_cells[i].get_text() == nbb_unformatted_code) {\n",
       "                             nbb_cells[i].set_text(nbb_formatted_code);\n",
       "                        }\n",
       "                        break;\n",
       "                    }\n",
       "                }\n",
       "            }, 500);\n",
       "            "
      ],
      "text/plain": [
       "<IPython.core.display.Javascript object>"
      ]
     },
     "metadata": {},
     "output_type": "display_data"
    }
   ],
   "source": [
    "X = csection.drop(columns=[\"Blood Pressure\"])\n",
    "y = csection[\"Blood Pressure\"]\n",
    "\n",
    "X_train, X_test, y_train, y_test = train_test_split(\n",
    "    X, y, test_size=0.2, random_state=42, stratify=y\n",
    ")"
   ]
  },
  {
   "cell_type": "code",
   "execution_count": 16,
   "metadata": {},
   "outputs": [
    {
     "name": "stdout",
     "output_type": "stream",
     "text": [
      "Fitting 5 folds for each of 4 candidates, totalling 20 fits\n"
     ]
    },
    {
     "name": "stderr",
     "output_type": "stream",
     "text": [
      "[Parallel(n_jobs=1)]: Using backend SequentialBackend with 1 concurrent workers.\n",
      "[Parallel(n_jobs=1)]: Done  20 out of  20 | elapsed:    1.2s finished\n"
     ]
    },
    {
     "data": {
      "text/plain": [
       "{'svm__C': 1.0}"
      ]
     },
     "execution_count": 16,
     "metadata": {},
     "output_type": "execute_result"
    },
    {
     "data": {
      "application/javascript": [
       "\n",
       "            setTimeout(function() {\n",
       "                var nbb_cell_id = 16;\n",
       "                var nbb_unformatted_code = \"# What columns to encode as categorical\\n# Going to use OneHotEncoder\\ncat_cols = [\\\"Delivery time\\\", \\\"Caesarian\\\"]\\n# What category to drop from onehotencoding\\ndrop_cats = [0, 1]\\n\\n# Dividing up remaining columns in case of wanting\\n# to do some numeric processing.  We wouldn't want to include\\n# the binary columns in the numeric processing.\\nnum_cols = [\\\"Age\\\", \\\"Delivery number\\\"]\\nbin_cols = [\\\"Heart Problem\\\"]\\n\\npreprocessing = ColumnTransformer(\\n    [(\\\"encode_cats\\\", OneHotEncoder(drop=drop_cats), cat_cols),], remainder=\\\"passthrough\\\"\\n)\\n\\npipeline = Pipeline([(\\\"preprocessing\\\", preprocessing), (\\\"svm\\\", SVC(kernel=\\\"linear\\\"))])\\n\\ngrid = {\\\"svm__C\\\": [0.5, 1.0, 5.0, 10.0]}\\n# grid = {\\\"svm__C\\\": [10]}\\n\\npipeline_cv = GridSearchCV(pipeline, grid, verbose=1)\\n\\npipeline_cv.fit(X_train, y_train)\\npipeline_cv.best_params_\";\n",
       "                var nbb_formatted_code = \"# What columns to encode as categorical\\n# Going to use OneHotEncoder\\ncat_cols = [\\\"Delivery time\\\", \\\"Caesarian\\\"]\\n# What category to drop from onehotencoding\\ndrop_cats = [0, 1]\\n\\n# Dividing up remaining columns in case of wanting\\n# to do some numeric processing.  We wouldn't want to include\\n# the binary columns in the numeric processing.\\nnum_cols = [\\\"Age\\\", \\\"Delivery number\\\"]\\nbin_cols = [\\\"Heart Problem\\\"]\\n\\npreprocessing = ColumnTransformer(\\n    [(\\\"encode_cats\\\", OneHotEncoder(drop=drop_cats), cat_cols),], remainder=\\\"passthrough\\\"\\n)\\n\\npipeline = Pipeline([(\\\"preprocessing\\\", preprocessing), (\\\"svm\\\", SVC(kernel=\\\"linear\\\"))])\\n\\ngrid = {\\\"svm__C\\\": [0.5, 1.0, 5.0, 10.0]}\\n# grid = {\\\"svm__C\\\": [10]}\\n\\npipeline_cv = GridSearchCV(pipeline, grid, verbose=1)\\n\\npipeline_cv.fit(X_train, y_train)\\npipeline_cv.best_params_\";\n",
       "                var nbb_cells = Jupyter.notebook.get_cells();\n",
       "                for (var i = 0; i < nbb_cells.length; ++i) {\n",
       "                    if (nbb_cells[i].input_prompt_number == nbb_cell_id) {\n",
       "                        if (nbb_cells[i].get_text() == nbb_unformatted_code) {\n",
       "                             nbb_cells[i].set_text(nbb_formatted_code);\n",
       "                        }\n",
       "                        break;\n",
       "                    }\n",
       "                }\n",
       "            }, 500);\n",
       "            "
      ],
      "text/plain": [
       "<IPython.core.display.Javascript object>"
      ]
     },
     "metadata": {},
     "output_type": "display_data"
    }
   ],
   "source": [
    "# What columns to encode as categorical\n",
    "# Going to use OneHotEncoder\n",
    "cat_cols = [\"Delivery time\", \"Caesarian\"]\n",
    "# What category to drop from onehotencoding\n",
    "drop_cats = [0, 1]\n",
    "\n",
    "# Dividing up remaining columns in case of wanting\n",
    "# to do some numeric processing.  We wouldn't want to include\n",
    "# the binary columns in the numeric processing.\n",
    "num_cols = [\"Age\", \"Delivery number\"]\n",
    "bin_cols = [\"Heart Problem\"]\n",
    "\n",
    "preprocessing = ColumnTransformer(\n",
    "    [(\"encode_cats\", OneHotEncoder(drop=drop_cats), cat_cols),], remainder=\"passthrough\"\n",
    ")\n",
    "\n",
    "pipeline = Pipeline([(\"preprocessing\", preprocessing), (\"svm\", SVC(kernel=\"linear\"))])\n",
    "\n",
    "grid = {\"svm__C\": [0.5, 1.0, 5.0, 10.0]}\n",
    "# grid = {\"svm__C\": [10]}\n",
    "\n",
    "pipeline_cv = GridSearchCV(pipeline, grid, verbose=1)\n",
    "\n",
    "pipeline_cv.fit(X_train, y_train)\n",
    "pipeline_cv.best_params_"
   ]
  },
  {
   "cell_type": "code",
   "execution_count": 17,
   "metadata": {},
   "outputs": [
    {
     "name": "stdout",
     "output_type": "stream",
     "text": [
      "train_score: 0.65625\n",
      "test_score: 0.25\n"
     ]
    },
    {
     "data": {
      "application/javascript": [
       "\n",
       "            setTimeout(function() {\n",
       "                var nbb_cell_id = 17;\n",
       "                var nbb_unformatted_code = \"train_score = pipeline_cv.score(X_train, y_train)\\ntest_score = pipeline_cv.score(X_test, y_test)\\n\\nprint(f\\\"train_score: {train_score}\\\")\\nprint(f\\\"test_score: {test_score}\\\")\";\n",
       "                var nbb_formatted_code = \"train_score = pipeline_cv.score(X_train, y_train)\\ntest_score = pipeline_cv.score(X_test, y_test)\\n\\nprint(f\\\"train_score: {train_score}\\\")\\nprint(f\\\"test_score: {test_score}\\\")\";\n",
       "                var nbb_cells = Jupyter.notebook.get_cells();\n",
       "                for (var i = 0; i < nbb_cells.length; ++i) {\n",
       "                    if (nbb_cells[i].input_prompt_number == nbb_cell_id) {\n",
       "                        if (nbb_cells[i].get_text() == nbb_unformatted_code) {\n",
       "                             nbb_cells[i].set_text(nbb_formatted_code);\n",
       "                        }\n",
       "                        break;\n",
       "                    }\n",
       "                }\n",
       "            }, 500);\n",
       "            "
      ],
      "text/plain": [
       "<IPython.core.display.Javascript object>"
      ]
     },
     "metadata": {},
     "output_type": "display_data"
    }
   ],
   "source": [
    "train_score = pipeline_cv.score(X_train, y_train)\n",
    "test_score = pipeline_cv.score(X_test, y_test)\n",
    "\n",
    "print(f\"train_score: {train_score}\")\n",
    "print(f\"test_score: {test_score}\")"
   ]
  },
  {
   "cell_type": "markdown",
   "metadata": {
    "colab_type": "text",
    "id": "EQKgbtUm4psY"
   },
   "source": [
    "Show confusion matrices for the training and test sets, and a classification report for the test set. What trends do you notice?"
   ]
  },
  {
   "cell_type": "code",
   "execution_count": 18,
   "metadata": {
    "colab": {},
    "colab_type": "code",
    "id": "rBSLoqCSpuRt"
   },
   "outputs": [
    {
     "data": {
      "text/plain": [
       "array([[0, 3, 3],\n",
       "       [2, 4, 1],\n",
       "       [2, 1, 0]])"
      ]
     },
     "execution_count": 18,
     "metadata": {},
     "output_type": "execute_result"
    },
    {
     "data": {
      "application/javascript": [
       "\n",
       "            setTimeout(function() {\n",
       "                var nbb_cell_id = 18;\n",
       "                var nbb_unformatted_code = \"y_pred= pipeline_cv.predict(X_test)\\nconfusion_matrix(y_pred,y_test)\";\n",
       "                var nbb_formatted_code = \"y_pred = pipeline_cv.predict(X_test)\\nconfusion_matrix(y_pred, y_test)\";\n",
       "                var nbb_cells = Jupyter.notebook.get_cells();\n",
       "                for (var i = 0; i < nbb_cells.length; ++i) {\n",
       "                    if (nbb_cells[i].input_prompt_number == nbb_cell_id) {\n",
       "                        if (nbb_cells[i].get_text() == nbb_unformatted_code) {\n",
       "                             nbb_cells[i].set_text(nbb_formatted_code);\n",
       "                        }\n",
       "                        break;\n",
       "                    }\n",
       "                }\n",
       "            }, 500);\n",
       "            "
      ],
      "text/plain": [
       "<IPython.core.display.Javascript object>"
      ]
     },
     "metadata": {},
     "output_type": "display_data"
    }
   ],
   "source": [
    "y_pred = pipeline_cv.predict(X_test)\n",
    "confusion_matrix(y_pred, y_test)"
   ]
  },
  {
   "cell_type": "markdown",
   "metadata": {
    "colab_type": "text",
    "id": "-Gs6homepuRv"
   },
   "source": [
    "Now try to generate the model using the one vs. one decision function."
   ]
  },
  {
   "cell_type": "code",
   "execution_count": 21,
   "metadata": {
    "colab": {},
    "colab_type": "code",
    "id": "a9BWcNAmpuRv"
   },
   "outputs": [
    {
     "name": "stdout",
     "output_type": "stream",
     "text": [
      "Fitting 5 folds for each of 4 candidates, totalling 20 fits\n"
     ]
    },
    {
     "name": "stderr",
     "output_type": "stream",
     "text": [
      "[Parallel(n_jobs=1)]: Using backend SequentialBackend with 1 concurrent workers.\n",
      "[Parallel(n_jobs=1)]: Done  20 out of  20 | elapsed:    1.2s finished\n"
     ]
    },
    {
     "data": {
      "text/plain": [
       "{'svm__C': 1.0, 'svm__decision_function_shape': 'ovo'}"
      ]
     },
     "execution_count": 21,
     "metadata": {},
     "output_type": "execute_result"
    },
    {
     "data": {
      "application/javascript": [
       "\n",
       "            setTimeout(function() {\n",
       "                var nbb_cell_id = 21;\n",
       "                var nbb_unformatted_code = \"# What columns to encode as categorical\\n# Going to use OneHotEncoder\\ncat_cols = [\\\"Delivery time\\\", \\\"Caesarian\\\"]\\n# What category to drop from onehotencoding\\ndrop_cats = [0, 1]\\n\\n# Dividing up remaining columns in case of wanting\\n# to do some numeric processing.  We wouldn't want to include\\n# the binary columns in the numeric processing.\\nnum_cols = [\\\"Age\\\", \\\"Delivery number\\\"]\\nbin_cols = [\\\"Heart Problem\\\"]\\n\\npreprocessing = ColumnTransformer(\\n    [(\\\"encode_cats\\\", OneHotEncoder(drop=drop_cats), cat_cols),], remainder=\\\"passthrough\\\"\\n)\\n\\npipeline = Pipeline([(\\\"preprocessing\\\", preprocessing), (\\\"svm\\\", SVC(kernel=\\\"linear\\\"))])\\n\\ngrid = {\\\"svm__C\\\": [0.5, 1.0, 5.0, 10.0],\\\"svm__decision_function_shape\\\":['ovo']}\\n# grid = {\\\"svm__C\\\": [10]}\\n\\npipeline_cv = GridSearchCV(pipeline, grid, verbose=1)\\n\\npipeline_cv.fit(X_train, y_train)\\npipeline_cv.best_params_\";\n",
       "                var nbb_formatted_code = \"# What columns to encode as categorical\\n# Going to use OneHotEncoder\\ncat_cols = [\\\"Delivery time\\\", \\\"Caesarian\\\"]\\n# What category to drop from onehotencoding\\ndrop_cats = [0, 1]\\n\\n# Dividing up remaining columns in case of wanting\\n# to do some numeric processing.  We wouldn't want to include\\n# the binary columns in the numeric processing.\\nnum_cols = [\\\"Age\\\", \\\"Delivery number\\\"]\\nbin_cols = [\\\"Heart Problem\\\"]\\n\\npreprocessing = ColumnTransformer(\\n    [(\\\"encode_cats\\\", OneHotEncoder(drop=drop_cats), cat_cols),], remainder=\\\"passthrough\\\"\\n)\\n\\npipeline = Pipeline([(\\\"preprocessing\\\", preprocessing), (\\\"svm\\\", SVC(kernel=\\\"linear\\\"))])\\n\\ngrid = {\\\"svm__C\\\": [0.5, 1.0, 5.0, 10.0], \\\"svm__decision_function_shape\\\": [\\\"ovo\\\"]}\\n# grid = {\\\"svm__C\\\": [10]}\\n\\npipeline_cv = GridSearchCV(pipeline, grid, verbose=1)\\n\\npipeline_cv.fit(X_train, y_train)\\npipeline_cv.best_params_\";\n",
       "                var nbb_cells = Jupyter.notebook.get_cells();\n",
       "                for (var i = 0; i < nbb_cells.length; ++i) {\n",
       "                    if (nbb_cells[i].input_prompt_number == nbb_cell_id) {\n",
       "                        if (nbb_cells[i].get_text() == nbb_unformatted_code) {\n",
       "                             nbb_cells[i].set_text(nbb_formatted_code);\n",
       "                        }\n",
       "                        break;\n",
       "                    }\n",
       "                }\n",
       "            }, 500);\n",
       "            "
      ],
      "text/plain": [
       "<IPython.core.display.Javascript object>"
      ]
     },
     "metadata": {},
     "output_type": "display_data"
    }
   ],
   "source": [
    "# What columns to encode as categorical\n",
    "# Going to use OneHotEncoder\n",
    "cat_cols = [\"Delivery time\", \"Caesarian\"]\n",
    "# What category to drop from onehotencoding\n",
    "drop_cats = [0, 1]\n",
    "\n",
    "# Dividing up remaining columns in case of wanting\n",
    "# to do some numeric processing.  We wouldn't want to include\n",
    "# the binary columns in the numeric processing.\n",
    "num_cols = [\"Age\", \"Delivery number\"]\n",
    "bin_cols = [\"Heart Problem\"]\n",
    "\n",
    "preprocessing = ColumnTransformer(\n",
    "    [(\"encode_cats\", OneHotEncoder(drop=drop_cats), cat_cols),], remainder=\"passthrough\"\n",
    ")\n",
    "\n",
    "pipeline = Pipeline([(\"preprocessing\", preprocessing), (\"svm\", SVC(kernel=\"linear\"))])\n",
    "\n",
    "grid = {\"svm__C\": [0.5, 1.0, 5.0, 10.0], \"svm__decision_function_shape\": [\"ovo\"]}\n",
    "# grid = {\"svm__C\": [10]}\n",
    "\n",
    "pipeline_cv = GridSearchCV(pipeline, grid, verbose=1)\n",
    "\n",
    "pipeline_cv.fit(X_train, y_train)\n",
    "pipeline_cv.best_params_"
   ]
  },
  {
   "cell_type": "code",
   "execution_count": 22,
   "metadata": {
    "colab": {},
    "colab_type": "code",
    "id": "ZlA3z02spuRx"
   },
   "outputs": [
    {
     "name": "stdout",
     "output_type": "stream",
     "text": [
      "train_score: 0.65625\n",
      "test_score: 0.25\n"
     ]
    },
    {
     "data": {
      "application/javascript": [
       "\n",
       "            setTimeout(function() {\n",
       "                var nbb_cell_id = 22;\n",
       "                var nbb_unformatted_code = \"train_score = pipeline_cv.score(X_train, y_train)\\ntest_score = pipeline_cv.score(X_test, y_test)\\n\\nprint(f\\\"train_score: {train_score}\\\")\\nprint(f\\\"test_score: {test_score}\\\")\";\n",
       "                var nbb_formatted_code = \"train_score = pipeline_cv.score(X_train, y_train)\\ntest_score = pipeline_cv.score(X_test, y_test)\\n\\nprint(f\\\"train_score: {train_score}\\\")\\nprint(f\\\"test_score: {test_score}\\\")\";\n",
       "                var nbb_cells = Jupyter.notebook.get_cells();\n",
       "                for (var i = 0; i < nbb_cells.length; ++i) {\n",
       "                    if (nbb_cells[i].input_prompt_number == nbb_cell_id) {\n",
       "                        if (nbb_cells[i].get_text() == nbb_unformatted_code) {\n",
       "                             nbb_cells[i].set_text(nbb_formatted_code);\n",
       "                        }\n",
       "                        break;\n",
       "                    }\n",
       "                }\n",
       "            }, 500);\n",
       "            "
      ],
      "text/plain": [
       "<IPython.core.display.Javascript object>"
      ]
     },
     "metadata": {},
     "output_type": "display_data"
    }
   ],
   "source": [
    "train_score = pipeline_cv.score(X_train, y_train)\n",
    "test_score = pipeline_cv.score(X_test, y_test)\n",
    "\n",
    "print(f\"train_score: {train_score}\")\n",
    "print(f\"test_score: {test_score}\")"
   ]
  },
  {
   "cell_type": "code",
   "execution_count": 0,
   "metadata": {
    "colab": {},
    "colab_type": "code",
    "id": "aSwZbqEqpuRz"
   },
   "outputs": [],
   "source": []
  }
 ],
 "metadata": {
  "colab": {
   "collapsed_sections": [],
   "name": "Day 33 Lecture 1 Assignment.ipynb",
   "provenance": []
  },
  "kernelspec": {
   "display_name": "Python3 (data_science_env)",
   "language": "python",
   "name": "data_science-env"
  },
  "language_info": {
   "codemirror_mode": {
    "name": "ipython",
    "version": 3
   },
   "file_extension": ".py",
   "mimetype": "text/x-python",
   "name": "python",
   "nbconvert_exporter": "python",
   "pygments_lexer": "ipython3",
   "version": "3.7.3"
  }
 },
 "nbformat": 4,
 "nbformat_minor": 1
}
