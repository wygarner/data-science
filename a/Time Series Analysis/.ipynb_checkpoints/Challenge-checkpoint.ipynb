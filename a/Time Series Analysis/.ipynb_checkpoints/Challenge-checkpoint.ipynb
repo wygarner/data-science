{
 "cells": [
  {
   "cell_type": "code",
   "execution_count": 1,
   "metadata": {},
   "outputs": [
    {
     "data": {
      "application/javascript": [
       "\n",
       "            setTimeout(function() {\n",
       "                var nbb_cell_id = 1;\n",
       "                var nbb_unformatted_code = \"%load_ext nb_black\";\n",
       "                var nbb_formatted_code = \"%load_ext nb_black\";\n",
       "                var nbb_cells = Jupyter.notebook.get_cells();\n",
       "                for (var i = 0; i < nbb_cells.length; ++i) {\n",
       "                    if (nbb_cells[i].input_prompt_number == nbb_cell_id) {\n",
       "                        if (nbb_cells[i].get_text() == nbb_unformatted_code) {\n",
       "                             nbb_cells[i].set_text(nbb_formatted_code);\n",
       "                        }\n",
       "                        break;\n",
       "                    }\n",
       "                }\n",
       "            }, 500);\n",
       "            "
      ],
      "text/plain": [
       "<IPython.core.display.Javascript object>"
      ]
     },
     "metadata": {},
     "output_type": "display_data"
    }
   ],
   "source": [
    "%load_ext nb_black"
   ]
  },
  {
   "cell_type": "code",
   "execution_count": null,
   "metadata": {
    "colab": {
     "base_uri": "https://localhost:8080/",
     "height": 85
    },
    "colab_type": "code",
    "id": "EdJZSonnKoHW",
    "outputId": "06d160ec-c114-404b-8e19-ec4e4ddb672e"
   },
   "outputs": [],
   "source": [
    "import pandas as pd\n",
    "import plotly.express as px\n",
    "import statsmodels.api as sm\n",
    "from statsmodels.tsa.stattools import adfuller\n",
    "from statsmodels.tsa.arima_model import ARMA\n",
    "from statsmodels.tsa.arima_model import ARIMA\n",
    "from statsmodels.tsa.statespace.sarimax import SARIMAX\n",
    "from fbprophet import Prophet"
   ]
  },
  {
   "cell_type": "code",
   "execution_count": null,
   "metadata": {
    "colab": {},
    "colab_type": "code",
    "id": "wKwak_ORKt_7"
   },
   "outputs": [],
   "source": [
    "data = pd.read_csv('https://tf-assets-prod.s3.amazonaws.com/tf-curric/data-science/Data%20Sets%20Time%20Series%20Analysis/Time%20Series%20-%20Day%204/MSFT_data.csv')\n",
    "data['date'] = pd.to_datetime(data['date'])\n",
    "data.columns = ['Date', 'Open', 'High', 'Low', 'Observed', 'Volume', 'Ticker']\n",
    "\n",
    "train = data.iloc[:-30]\n",
    "test = data.iloc[-30:]"
   ]
  },
  {
   "cell_type": "code",
   "execution_count": null,
   "metadata": {
    "colab": {},
    "colab_type": "code",
    "id": "LQFRMppm3vVr"
   },
   "outputs": [],
   "source": [
    "# def test_split(data, test_size=0.20):\n",
    "  \n",
    "#   ts = int(len(data) * test_size)\n",
    "\n",
    "#   train = data.iloc[:-ts]\n",
    "#   test = data.iloc[-ts:]\n",
    "\n",
    "#   return train, test"
   ]
  },
  {
   "cell_type": "code",
   "execution_count": null,
   "metadata": {
    "colab": {},
    "colab_type": "code",
    "id": "9avD9um84LoW"
   },
   "outputs": [],
   "source": [
    "# train, test = test_split(data, test_size=0.30)"
   ]
  },
  {
   "cell_type": "code",
   "execution_count": null,
   "metadata": {
    "colab": {},
    "colab_type": "code",
    "id": "Fm3RKsDM4mtO"
   },
   "outputs": [],
   "source": [
    "from sklearn.model_selection import train_test_split\n",
    "\n",
    "train, test = train_test_split(data, test_size=30, shuffle=False)"
   ]
  },
  {
   "cell_type": "code",
   "execution_count": null,
   "metadata": {
    "colab": {
     "base_uri": "https://localhost:8080/",
     "height": 204
    },
    "colab_type": "code",
    "id": "Sm5DzvSG2ntt",
    "outputId": "830cb5f8-bdb4-4c8b-e5dd-811a047c5dd3"
   },
   "outputs": [],
   "source": [
    "train.tail()"
   ]
  },
  {
   "cell_type": "code",
   "execution_count": null,
   "metadata": {
    "colab": {
     "base_uri": "https://localhost:8080/",
     "height": 204
    },
    "colab_type": "code",
    "id": "FQJ1X3jS2pH-",
    "outputId": "d56dfb73-0d76-4d10-8e77-7e4cab5575db"
   },
   "outputs": [],
   "source": [
    "test.head()"
   ]
  },
  {
   "cell_type": "code",
   "execution_count": null,
   "metadata": {
    "colab": {},
    "colab_type": "code",
    "id": "Ikv6p3LaKwBK"
   },
   "outputs": [],
   "source": [
    "def ilinechart(df, x, y, groups=None, title=''):\n",
    "    fig = px.line(df, x=x, y=y, color=groups, title=title, \n",
    "                  template='none').update(layout=dict(title=dict(x=0.5)))\n",
    "    \n",
    "    fig.show()\n",
    "\n",
    "def multiline_chart(df, x, y, groups=None, title=''):\n",
    "    fig = px.line(df, x=x, y=y, color=groups, title=title, \n",
    "                  template='none').update(layout=dict(title=dict(x=0.5)))\n",
    "\n",
    "    for item in range(len(fig.data)):\n",
    "        fig.data[item].update(name=fig.data[item]['name'].split('=')[1])\n",
    "\n",
    "    fig.show()"
   ]
  },
  {
   "cell_type": "code",
   "execution_count": null,
   "metadata": {
    "colab": {
     "base_uri": "https://localhost:8080/",
     "height": 542
    },
    "colab_type": "code",
    "id": "_1OL4mSTLNnY",
    "outputId": "af567c8b-9dea-45e7-d7b7-6b15edfc5c2e"
   },
   "outputs": [],
   "source": [
    "ilinechart(train, 'Date', 'Observed', title='Observations Over Time')"
   ]
  },
  {
   "cell_type": "code",
   "execution_count": null,
   "metadata": {
    "colab": {},
    "colab_type": "code",
    "id": "peMNk6nTLO1k"
   },
   "outputs": [],
   "source": [
    "def ts_decomp(data, time_field, obs_values, model='additive', freq=None, viz='separate'):\n",
    "    series = data[[time_field, obs_values]].set_index('Date')\n",
    "    decomposition = sm.tsa.seasonal_decompose(series, model=model, freq=freq)\n",
    "\n",
    "    trend = decomposition.trend\n",
    "    trend = trend[trend[obs_values].isna()==False].reset_index()\n",
    "    seasonality = decomposition.seasonal.reset_index()\n",
    "    residuals = decomposition.resid.reset_index()\n",
    "\n",
    "    if viz == 'combined':\n",
    "        merged = series.merge(trend, on=time_field)\n",
    "        merged = merged.merge(seasonality, on=time_field)\n",
    "        merged = merged.merge(residuals, on=time_field)\n",
    "        merged.columns = [time_field, obs_values, 'Trend', 'Seasonality', 'Residuals']\n",
    "        merged['T+S'] = merged['Trend'] + merged['Seasonality']\n",
    "        merged['Total'] = merged['Trend'] + merged['Seasonality'] + merged['Residuals']\n",
    "\n",
    "        melted = pd.melt(merged, id_vars=time_field, var_name='Variable', value_name='Value',\n",
    "                         value_vars=[obs_values, 'Trend', 'Seasonality', 'Residuals', 'T+S'])\n",
    "\n",
    "        multiline_chart(melted, 'Date', 'Value', groups='Variable', title='Observed vs. Components')\n",
    "    else:\n",
    "        ilinechart(trend, time_field, obs_values, title='Trend')\n",
    "        ilinechart(seasonality, time_field, obs_values, title='Seasonality')\n",
    "        ilinechart(residuals, time_field, obs_values, title='Residuals')"
   ]
  },
  {
   "cell_type": "code",
   "execution_count": null,
   "metadata": {
    "colab": {
     "base_uri": "https://localhost:8080/",
     "height": 542
    },
    "colab_type": "code",
    "id": "Iuhl-etgLl1k",
    "outputId": "ebc75f32-8707-404b-a3a9-78bcfebeff4c"
   },
   "outputs": [],
   "source": [
    "ts_decomp(train, 'Date', 'Observed', freq=365, viz='combined')"
   ]
  },
  {
   "cell_type": "code",
   "execution_count": null,
   "metadata": {
    "colab": {},
    "colab_type": "code",
    "id": "9bEmNNRWL93J"
   },
   "outputs": [],
   "source": [
    "model = sm.tsa.ExponentialSmoothing(train['Observed']).fit()\n",
    "single_exp = model.forecast(30)"
   ]
  },
  {
   "cell_type": "code",
   "execution_count": null,
   "metadata": {
    "colab": {},
    "colab_type": "code",
    "id": "uWwU0WIGLn-t"
   },
   "outputs": [],
   "source": [
    "model = sm.tsa.ExponentialSmoothing(train['Observed'], trend='additive').fit()\n",
    "double_exp = model.forecast(30)"
   ]
  },
  {
   "cell_type": "code",
   "execution_count": null,
   "metadata": {
    "colab": {
     "base_uri": "https://localhost:8080/",
     "height": 85
    },
    "colab_type": "code",
    "id": "P2vKJvZnL8wL",
    "outputId": "3f617e45-995b-4c26-b7fa-9f2fea67b3c6"
   },
   "outputs": [],
   "source": [
    "model = sm.tsa.ExponentialSmoothing(train['Observed'], trend='additive', \n",
    "                                    seasonal='additive', \n",
    "                                    seasonal_periods=4).fit()\n",
    "\n",
    "triple_exp = model.forecast(30)"
   ]
  },
  {
   "cell_type": "code",
   "execution_count": null,
   "metadata": {
    "colab": {},
    "colab_type": "code",
    "id": "SZoNeBaCL8ya"
   },
   "outputs": [],
   "source": [
    "def forecast(data, field, model, periods):\n",
    "    model_results = model.forecast(periods)[0]\n",
    "    current_value = data[field].iloc[-1]\n",
    "    forecasts = []\n",
    "    \n",
    "    for result in model_results:\n",
    "        forecast = current_value + result\n",
    "        forecasts.append(forecast)\n",
    "        current_value = forecast\n",
    "    \n",
    "    forecasts = pd.Series(forecasts)\n",
    "    forecasts.index = [x + periods \n",
    "                       for x in list(data[field].tail(periods).index)]\n",
    "    \n",
    "    return forecasts"
   ]
  },
  {
   "cell_type": "code",
   "execution_count": null,
   "metadata": {
    "colab": {
     "base_uri": "https://localhost:8080/",
     "height": 289
    },
    "colab_type": "code",
    "id": "ZgVZQkePMRYG",
    "outputId": "02ae9ac2-6c59-4161-abf8-8d57b5e95244"
   },
   "outputs": [],
   "source": [
    "train['Shift'] = train['Observed'].shift(1).fillna(method='bfill')\n",
    "train['Diff'] = train['Observed'] - train['Shift']"
   ]
  },
  {
   "cell_type": "code",
   "execution_count": null,
   "metadata": {
    "colab": {
     "base_uri": "https://localhost:8080/",
     "height": 374
    },
    "colab_type": "code",
    "id": "XSAHOgt2L80g",
    "outputId": "4392df4e-f9e7-4008-f72d-a99fc0828f83"
   },
   "outputs": [],
   "source": [
    "model = ARMA(train['Diff'], order=(2, 1)).fit()\n",
    "arma_forecasts = forecast(train, 'Observed', model, 30)\n",
    "arma_forecasts.head(20)"
   ]
  },
  {
   "cell_type": "code",
   "execution_count": null,
   "metadata": {
    "colab": {
     "base_uri": "https://localhost:8080/",
     "height": 374
    },
    "colab_type": "code",
    "id": "DY6OQJM4L82m",
    "outputId": "53a00e64-d2a7-427c-bc13-f495d3affdab"
   },
   "outputs": [],
   "source": [
    "model = ARIMA(train['Diff'], order=(2, 1, 1)).fit()\n",
    "arima_forecasts = forecast(train, 'Observed', model, 30)\n",
    "arima_forecasts.head(20)"
   ]
  },
  {
   "cell_type": "code",
   "execution_count": null,
   "metadata": {
    "colab": {
     "base_uri": "https://localhost:8080/",
     "height": 374
    },
    "colab_type": "code",
    "id": "QBdSR2h-Mfw0",
    "outputId": "236d3da6-7fc2-4562-bc65-5fbf323b0adb"
   },
   "outputs": [],
   "source": [
    "model = SARIMAX(train['Observed'], order=(2, 1, 1), \n",
    "                seasonal_order=(1, 1, 1, 1)).fit()\n",
    "\n",
    "sarima_forecasts = model.forecast(30)\n",
    "sarima_forecasts.head(20)"
   ]
  },
  {
   "cell_type": "code",
   "execution_count": null,
   "metadata": {
    "colab": {
     "base_uri": "https://localhost:8080/",
     "height": 391
    },
    "colab_type": "code",
    "id": "1r11iSC3Msfl",
    "outputId": "14ff5296-43ee-4056-f710-bcad4f118e89"
   },
   "outputs": [],
   "source": [
    "series = train[['Date', 'Observed']]\n",
    "series.columns = ['ds', 'y']\n",
    "\n",
    "model = Prophet()\n",
    "model.fit(series)\n",
    "\n",
    "future = model.make_future_dataframe(30)\n",
    "results = model.predict(future)\n",
    "prophet_forecasts = results.iloc[-30:]['yhat']\n",
    "prophet_forecasts.head(20)"
   ]
  },
  {
   "cell_type": "code",
   "execution_count": null,
   "metadata": {
    "colab": {
     "base_uri": "https://localhost:8080/",
     "height": 204
    },
    "colab_type": "code",
    "id": "ubQv26nnYGy7",
    "outputId": "410fc623-b0fe-4f94-b626-804e18be035e"
   },
   "outputs": [],
   "source": [
    "train.tail()"
   ]
  },
  {
   "cell_type": "code",
   "execution_count": null,
   "metadata": {
    "colab": {
     "base_uri": "https://localhost:8080/",
     "height": 119
    },
    "colab_type": "code",
    "id": "Rc5rXm0lYA54",
    "outputId": "56531690-16ce-45e5-b1a5-69d194ecf02b"
   },
   "outputs": [],
   "source": [
    "results.head(5)['yhat']"
   ]
  },
  {
   "cell_type": "code",
   "execution_count": null,
   "metadata": {
    "colab": {
     "base_uri": "https://localhost:8080/",
     "height": 542
    },
    "colab_type": "code",
    "id": "l0NqCElWMYao",
    "outputId": "8b8003ae-205d-4338-837c-595e8bb16964"
   },
   "outputs": [],
   "source": [
    "future_dates = pd.DataFrame({'Date': pd.date_range(start=train.Date.iloc[-1], periods=31, \n",
    "                                                   freq='D', closed='right')})\n",
    "\n",
    "fcast_df = pd.concat([pd.DataFrame(train['Date']), future_dates], ignore_index=True)\n",
    "fcast_df = fcast_df.merge(train[['Date', 'Observed']], on='Date', how='left')\n",
    "\n",
    "fcast_df['Double_Exp_Smooth'] = double_exp\n",
    "fcast_df['Triple_Exp_Smooth'] = triple_exp\n",
    "fcast_df['ARMA'] = arma_forecasts\n",
    "fcast_df['ARIMA'] = arima_forecasts\n",
    "fcast_df['SARIMA'] = sarima_forecasts\n",
    "fcast_df['Prophet'] = prophet_forecasts\n",
    "\n",
    "melted = pd.melt(fcast_df, id_vars='Date', var_name='Variable', value_name='Value', \n",
    "                 value_vars=list(fcast_df.columns)[1:])\n",
    "\n",
    "multiline_chart(melted, 'Date', 'Value', groups='Variable', \n",
    "                title='Forecast Comparison')"
   ]
  },
  {
   "cell_type": "code",
   "execution_count": null,
   "metadata": {
    "colab": {
     "base_uri": "https://localhost:8080/",
     "height": 68
    },
    "colab_type": "code",
    "id": "FtcTNy1XgLbp",
    "outputId": "dc968d96-d86a-4521-f2d4-90c391657cd3"
   },
   "outputs": [],
   "source": [
    "fcast_df.columns"
   ]
  },
  {
   "cell_type": "code",
   "execution_count": null,
   "metadata": {
    "colab": {
     "base_uri": "https://localhost:8080/",
     "height": 204
    },
    "colab_type": "code",
    "id": "5K-5X-B3fWa1",
    "outputId": "b7d733a1-3e96-4078-d9ea-abfb39f06cba"
   },
   "outputs": [],
   "source": [
    "test.head()"
   ]
  },
  {
   "cell_type": "code",
   "execution_count": null,
   "metadata": {
    "colab": {
     "base_uri": "https://localhost:8080/",
     "height": 979
    },
    "colab_type": "code",
    "id": "_kUMihRGfj-F",
    "outputId": "6332e78a-9be3-45bd-ef4c-f18daa50736d"
   },
   "outputs": [],
   "source": [
    "fcast_df.iloc[-30:]"
   ]
  },
  {
   "cell_type": "code",
   "execution_count": null,
   "metadata": {
    "colab": {
     "base_uri": "https://localhost:8080/",
     "height": 119
    },
    "colab_type": "code",
    "id": "zj8SS3DtOh1e",
    "outputId": "9869a1e3-3625-42b8-a2dd-56be0189f4d1"
   },
   "outputs": [],
   "source": [
    "import numpy as np\n",
    "\n",
    "models = ['Double_Exp_Smooth', 'Triple_Exp_Smooth', 'ARMA', 'ARIMA', 'SARIMA', 'Prophet']\n",
    "predictions = fcast_df.iloc[-30:][models]\n",
    "\n",
    "for model in models:\n",
    "  error = test['Observed'] - predictions[model]\n",
    "  mae = error.abs().mean()\n",
    "  rmse = np.sqrt(np.mean(error**2))\n",
    "  print(f'Model: {model} - mae: {mae}| rmse: {rmse}')"
   ]
  },
  {
   "cell_type": "code",
   "execution_count": null,
   "metadata": {
    "colab": {},
    "colab_type": "code",
    "id": "TzIHuOdLOh4R"
   },
   "outputs": [],
   "source": []
  },
  {
   "cell_type": "code",
   "execution_count": null,
   "metadata": {},
   "outputs": [],
   "source": []
  }
 ],
 "metadata": {
  "colab": {
   "name": "Time Series Forecasting With Validation.ipynb",
   "provenance": []
  },
  "kernelspec": {
   "display_name": "Python 3",
   "language": "python",
   "name": "python3"
  },
  "language_info": {
   "codemirror_mode": {
    "name": "ipython",
    "version": 3
   },
   "file_extension": ".py",
   "mimetype": "text/x-python",
   "name": "python",
   "nbconvert_exporter": "python",
   "pygments_lexer": "ipython3",
   "version": "3.7.7"
  }
 },
 "nbformat": 4,
 "nbformat_minor": 1
}
