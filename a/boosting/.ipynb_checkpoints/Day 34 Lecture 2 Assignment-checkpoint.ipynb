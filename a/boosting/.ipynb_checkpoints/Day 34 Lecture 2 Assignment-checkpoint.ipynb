{
 "cells": [
  {
   "cell_type": "code",
   "execution_count": 2,
   "metadata": {},
   "outputs": [
    {
     "data": {
      "application/javascript": [
       "\n",
       "            setTimeout(function() {\n",
       "                var nbb_cell_id = 2;\n",
       "                var nbb_unformatted_code = \"%load_ext nb_black\";\n",
       "                var nbb_formatted_code = \"%load_ext nb_black\";\n",
       "                var nbb_cells = Jupyter.notebook.get_cells();\n",
       "                for (var i = 0; i < nbb_cells.length; ++i) {\n",
       "                    if (nbb_cells[i].input_prompt_number == nbb_cell_id) {\n",
       "                        if (nbb_cells[i].get_text() == nbb_unformatted_code) {\n",
       "                             nbb_cells[i].set_text(nbb_formatted_code);\n",
       "                        }\n",
       "                        break;\n",
       "                    }\n",
       "                }\n",
       "            }, 500);\n",
       "            "
      ],
      "text/plain": [
       "<IPython.core.display.Javascript object>"
      ]
     },
     "metadata": {},
     "output_type": "display_data"
    }
   ],
   "source": [
    "%load_ext nb_black"
   ]
  },
  {
   "cell_type": "markdown",
   "metadata": {
    "colab_type": "text",
    "id": "dNper0elrrdZ"
   },
   "source": [
    "## Day 34 Lecture 2 Assignment\n",
    "\n",
    "In this assignment, we will learn about gradient boosting. We will use a dataset describing TripAdvisor reviews for Las Vegas hotels loaded below and analyze the model generated for this dataset."
   ]
  },
  {
   "cell_type": "code",
   "execution_count": 25,
   "metadata": {
    "colab": {},
    "colab_type": "code",
    "id": "GahGJXj_rrda"
   },
   "outputs": [
    {
     "data": {
      "application/javascript": [
       "\n",
       "            setTimeout(function() {\n",
       "                var nbb_cell_id = 25;\n",
       "                var nbb_unformatted_code = \"%matplotlib inline\\n\\nimport matplotlib.pyplot as plt\\nimport numpy as np\\nimport pandas as pd\\n\\nfrom sklearn.compose import ColumnTransformer\\nfrom sklearn.preprocessing import OneHotEncoder, StandardScaler\\nfrom sklearn.model_selection import train_test_split\\nfrom sklearn.pipeline import Pipeline\\nfrom sklearn.ensemble import GradientBoostingRegressor\\n\\nimport ssl\\n\\nssl._create_default_https_context = ssl._create_unverified_context\";\n",
       "                var nbb_formatted_code = \"%matplotlib inline\\n\\nimport matplotlib.pyplot as plt\\nimport numpy as np\\nimport pandas as pd\\n\\nfrom sklearn.compose import ColumnTransformer\\nfrom sklearn.preprocessing import OneHotEncoder, StandardScaler\\nfrom sklearn.model_selection import train_test_split\\nfrom sklearn.pipeline import Pipeline\\nfrom sklearn.ensemble import GradientBoostingRegressor\\n\\nimport ssl\\n\\nssl._create_default_https_context = ssl._create_unverified_context\";\n",
       "                var nbb_cells = Jupyter.notebook.get_cells();\n",
       "                for (var i = 0; i < nbb_cells.length; ++i) {\n",
       "                    if (nbb_cells[i].input_prompt_number == nbb_cell_id) {\n",
       "                        if (nbb_cells[i].get_text() == nbb_unformatted_code) {\n",
       "                             nbb_cells[i].set_text(nbb_formatted_code);\n",
       "                        }\n",
       "                        break;\n",
       "                    }\n",
       "                }\n",
       "            }, 500);\n",
       "            "
      ],
      "text/plain": [
       "<IPython.core.display.Javascript object>"
      ]
     },
     "metadata": {},
     "output_type": "display_data"
    }
   ],
   "source": [
    "%matplotlib inline\n",
    "\n",
    "import matplotlib.pyplot as plt\n",
    "import numpy as np\n",
    "import pandas as pd\n",
    "\n",
    "from sklearn.compose import ColumnTransformer\n",
    "from sklearn.preprocessing import OneHotEncoder, StandardScaler\n",
    "from sklearn.model_selection import train_test_split\n",
    "from sklearn.pipeline import Pipeline\n",
    "from sklearn.ensemble import GradientBoostingRegressor\n",
    "\n",
    "import ssl\n",
    "\n",
    "ssl._create_default_https_context = ssl._create_unverified_context"
   ]
  },
  {
   "cell_type": "code",
   "execution_count": 64,
   "metadata": {
    "colab": {},
    "colab_type": "code",
    "id": "LM7xH1Werrdc"
   },
   "outputs": [
    {
     "data": {
      "application/javascript": [
       "\n",
       "            setTimeout(function() {\n",
       "                var nbb_cell_id = 64;\n",
       "                var nbb_unformatted_code = \"vegas = pd.read_csv(\\n    \\\"https://tf-assets-prod.s3.amazonaws.com/tf-curric/data-science/LasVegasTripAdvisorReviews-Dataset.csv\\\",\\n    sep=\\\";\\\",\\n)\";\n",
       "                var nbb_formatted_code = \"vegas = pd.read_csv(\\n    \\\"https://tf-assets-prod.s3.amazonaws.com/tf-curric/data-science/LasVegasTripAdvisorReviews-Dataset.csv\\\",\\n    sep=\\\";\\\",\\n)\";\n",
       "                var nbb_cells = Jupyter.notebook.get_cells();\n",
       "                for (var i = 0; i < nbb_cells.length; ++i) {\n",
       "                    if (nbb_cells[i].input_prompt_number == nbb_cell_id) {\n",
       "                        if (nbb_cells[i].get_text() == nbb_unformatted_code) {\n",
       "                             nbb_cells[i].set_text(nbb_formatted_code);\n",
       "                        }\n",
       "                        break;\n",
       "                    }\n",
       "                }\n",
       "            }, 500);\n",
       "            "
      ],
      "text/plain": [
       "<IPython.core.display.Javascript object>"
      ]
     },
     "metadata": {},
     "output_type": "display_data"
    }
   ],
   "source": [
    "vegas = pd.read_csv(\n",
    "    \"https://tf-assets-prod.s3.amazonaws.com/tf-curric/data-science/LasVegasTripAdvisorReviews-Dataset.csv\",\n",
    "    sep=\";\",\n",
    ")"
   ]
  },
  {
   "cell_type": "code",
   "execution_count": 65,
   "metadata": {
    "colab": {},
    "colab_type": "code",
    "id": "2lUxIVfprrdd",
    "outputId": "567ec96b-15f5-41ce-8a25-9b7e8878920a"
   },
   "outputs": [
    {
     "data": {
      "text/html": [
       "<div>\n",
       "<style scoped>\n",
       "    .dataframe tbody tr th:only-of-type {\n",
       "        vertical-align: middle;\n",
       "    }\n",
       "\n",
       "    .dataframe tbody tr th {\n",
       "        vertical-align: top;\n",
       "    }\n",
       "\n",
       "    .dataframe thead th {\n",
       "        text-align: right;\n",
       "    }\n",
       "</style>\n",
       "<table border=\"1\" class=\"dataframe\">\n",
       "  <thead>\n",
       "    <tr style=\"text-align: right;\">\n",
       "      <th></th>\n",
       "      <th>User country</th>\n",
       "      <th>Nr. reviews</th>\n",
       "      <th>Nr. hotel reviews</th>\n",
       "      <th>Helpful votes</th>\n",
       "      <th>Score</th>\n",
       "      <th>Period of stay</th>\n",
       "      <th>Traveler type</th>\n",
       "      <th>Pool</th>\n",
       "      <th>Gym</th>\n",
       "      <th>Tennis court</th>\n",
       "      <th>Spa</th>\n",
       "      <th>Casino</th>\n",
       "      <th>Free internet</th>\n",
       "      <th>Hotel name</th>\n",
       "      <th>Hotel stars</th>\n",
       "      <th>Nr. rooms</th>\n",
       "      <th>User continent</th>\n",
       "      <th>Member years</th>\n",
       "      <th>Review month</th>\n",
       "      <th>Review weekday</th>\n",
       "    </tr>\n",
       "  </thead>\n",
       "  <tbody>\n",
       "    <tr>\n",
       "      <th>0</th>\n",
       "      <td>USA</td>\n",
       "      <td>11</td>\n",
       "      <td>4</td>\n",
       "      <td>13</td>\n",
       "      <td>5</td>\n",
       "      <td>Dec-Feb</td>\n",
       "      <td>Friends</td>\n",
       "      <td>NO</td>\n",
       "      <td>YES</td>\n",
       "      <td>NO</td>\n",
       "      <td>NO</td>\n",
       "      <td>YES</td>\n",
       "      <td>YES</td>\n",
       "      <td>Circus Circus Hotel &amp; Casino Las Vegas</td>\n",
       "      <td>3</td>\n",
       "      <td>3773</td>\n",
       "      <td>North America</td>\n",
       "      <td>9</td>\n",
       "      <td>January</td>\n",
       "      <td>Thursday</td>\n",
       "    </tr>\n",
       "    <tr>\n",
       "      <th>1</th>\n",
       "      <td>USA</td>\n",
       "      <td>119</td>\n",
       "      <td>21</td>\n",
       "      <td>75</td>\n",
       "      <td>3</td>\n",
       "      <td>Dec-Feb</td>\n",
       "      <td>Business</td>\n",
       "      <td>NO</td>\n",
       "      <td>YES</td>\n",
       "      <td>NO</td>\n",
       "      <td>NO</td>\n",
       "      <td>YES</td>\n",
       "      <td>YES</td>\n",
       "      <td>Circus Circus Hotel &amp; Casino Las Vegas</td>\n",
       "      <td>3</td>\n",
       "      <td>3773</td>\n",
       "      <td>North America</td>\n",
       "      <td>3</td>\n",
       "      <td>January</td>\n",
       "      <td>Friday</td>\n",
       "    </tr>\n",
       "    <tr>\n",
       "      <th>2</th>\n",
       "      <td>USA</td>\n",
       "      <td>36</td>\n",
       "      <td>9</td>\n",
       "      <td>25</td>\n",
       "      <td>5</td>\n",
       "      <td>Mar-May</td>\n",
       "      <td>Families</td>\n",
       "      <td>NO</td>\n",
       "      <td>YES</td>\n",
       "      <td>NO</td>\n",
       "      <td>NO</td>\n",
       "      <td>YES</td>\n",
       "      <td>YES</td>\n",
       "      <td>Circus Circus Hotel &amp; Casino Las Vegas</td>\n",
       "      <td>3</td>\n",
       "      <td>3773</td>\n",
       "      <td>North America</td>\n",
       "      <td>2</td>\n",
       "      <td>February</td>\n",
       "      <td>Saturday</td>\n",
       "    </tr>\n",
       "    <tr>\n",
       "      <th>3</th>\n",
       "      <td>UK</td>\n",
       "      <td>14</td>\n",
       "      <td>7</td>\n",
       "      <td>14</td>\n",
       "      <td>4</td>\n",
       "      <td>Mar-May</td>\n",
       "      <td>Friends</td>\n",
       "      <td>NO</td>\n",
       "      <td>YES</td>\n",
       "      <td>NO</td>\n",
       "      <td>NO</td>\n",
       "      <td>YES</td>\n",
       "      <td>YES</td>\n",
       "      <td>Circus Circus Hotel &amp; Casino Las Vegas</td>\n",
       "      <td>3</td>\n",
       "      <td>3773</td>\n",
       "      <td>Europe</td>\n",
       "      <td>6</td>\n",
       "      <td>February</td>\n",
       "      <td>Friday</td>\n",
       "    </tr>\n",
       "    <tr>\n",
       "      <th>4</th>\n",
       "      <td>Canada</td>\n",
       "      <td>5</td>\n",
       "      <td>5</td>\n",
       "      <td>2</td>\n",
       "      <td>4</td>\n",
       "      <td>Mar-May</td>\n",
       "      <td>Solo</td>\n",
       "      <td>NO</td>\n",
       "      <td>YES</td>\n",
       "      <td>NO</td>\n",
       "      <td>NO</td>\n",
       "      <td>YES</td>\n",
       "      <td>YES</td>\n",
       "      <td>Circus Circus Hotel &amp; Casino Las Vegas</td>\n",
       "      <td>3</td>\n",
       "      <td>3773</td>\n",
       "      <td>North America</td>\n",
       "      <td>7</td>\n",
       "      <td>March</td>\n",
       "      <td>Tuesday</td>\n",
       "    </tr>\n",
       "  </tbody>\n",
       "</table>\n",
       "</div>"
      ],
      "text/plain": [
       "  User country  Nr. reviews  Nr. hotel reviews  Helpful votes  Score  \\\n",
       "0          USA           11                  4             13      5   \n",
       "1          USA          119                 21             75      3   \n",
       "2          USA           36                  9             25      5   \n",
       "3           UK           14                  7             14      4   \n",
       "4       Canada            5                  5              2      4   \n",
       "\n",
       "  Period of stay Traveler type Pool  Gym Tennis court Spa Casino  \\\n",
       "0        Dec-Feb       Friends   NO  YES           NO  NO    YES   \n",
       "1        Dec-Feb      Business   NO  YES           NO  NO    YES   \n",
       "2        Mar-May      Families   NO  YES           NO  NO    YES   \n",
       "3        Mar-May       Friends   NO  YES           NO  NO    YES   \n",
       "4        Mar-May          Solo   NO  YES           NO  NO    YES   \n",
       "\n",
       "  Free internet                              Hotel name Hotel stars  \\\n",
       "0           YES  Circus Circus Hotel & Casino Las Vegas           3   \n",
       "1           YES  Circus Circus Hotel & Casino Las Vegas           3   \n",
       "2           YES  Circus Circus Hotel & Casino Las Vegas           3   \n",
       "3           YES  Circus Circus Hotel & Casino Las Vegas           3   \n",
       "4           YES  Circus Circus Hotel & Casino Las Vegas           3   \n",
       "\n",
       "   Nr. rooms User continent  Member years Review month Review weekday  \n",
       "0       3773  North America             9      January       Thursday  \n",
       "1       3773  North America             3      January         Friday  \n",
       "2       3773  North America             2     February       Saturday  \n",
       "3       3773         Europe             6     February         Friday  \n",
       "4       3773  North America             7        March        Tuesday  "
      ]
     },
     "execution_count": 65,
     "metadata": {},
     "output_type": "execute_result"
    },
    {
     "data": {
      "application/javascript": [
       "\n",
       "            setTimeout(function() {\n",
       "                var nbb_cell_id = 65;\n",
       "                var nbb_unformatted_code = \"vegas.head()\";\n",
       "                var nbb_formatted_code = \"vegas.head()\";\n",
       "                var nbb_cells = Jupyter.notebook.get_cells();\n",
       "                for (var i = 0; i < nbb_cells.length; ++i) {\n",
       "                    if (nbb_cells[i].input_prompt_number == nbb_cell_id) {\n",
       "                        if (nbb_cells[i].get_text() == nbb_unformatted_code) {\n",
       "                             nbb_cells[i].set_text(nbb_formatted_code);\n",
       "                        }\n",
       "                        break;\n",
       "                    }\n",
       "                }\n",
       "            }, 500);\n",
       "            "
      ],
      "text/plain": [
       "<IPython.core.display.Javascript object>"
      ]
     },
     "metadata": {},
     "output_type": "display_data"
    }
   ],
   "source": [
    "vegas.head()"
   ]
  },
  {
   "cell_type": "markdown",
   "metadata": {
    "colab_type": "text",
    "id": "GdcrlA-drrdf"
   },
   "source": [
    "Check for missing data and remove all rows with missing data"
   ]
  },
  {
   "cell_type": "code",
   "execution_count": 66,
   "metadata": {
    "colab": {},
    "colab_type": "code",
    "id": "OFRXxDeFrrdg"
   },
   "outputs": [
    {
     "data": {
      "text/plain": [
       "User country         0.0\n",
       "Nr. reviews          0.0\n",
       "Nr. hotel reviews    0.0\n",
       "Helpful votes        0.0\n",
       "Score                0.0\n",
       "Period of stay       0.0\n",
       "Traveler type        0.0\n",
       "Pool                 0.0\n",
       "Gym                  0.0\n",
       "Tennis court         0.0\n",
       "Spa                  0.0\n",
       "Casino               0.0\n",
       "Free internet        0.0\n",
       "Hotel name           0.0\n",
       "Hotel stars          0.0\n",
       "Nr. rooms            0.0\n",
       "User continent       0.0\n",
       "Member years         0.0\n",
       "Review month         0.0\n",
       "Review weekday       0.0\n",
       "dtype: float64"
      ]
     },
     "execution_count": 66,
     "metadata": {},
     "output_type": "execute_result"
    },
    {
     "data": {
      "application/javascript": [
       "\n",
       "            setTimeout(function() {\n",
       "                var nbb_cell_id = 66;\n",
       "                var nbb_unformatted_code = \"vegas.isna().mean()\";\n",
       "                var nbb_formatted_code = \"vegas.isna().mean()\";\n",
       "                var nbb_cells = Jupyter.notebook.get_cells();\n",
       "                for (var i = 0; i < nbb_cells.length; ++i) {\n",
       "                    if (nbb_cells[i].input_prompt_number == nbb_cell_id) {\n",
       "                        if (nbb_cells[i].get_text() == nbb_unformatted_code) {\n",
       "                             nbb_cells[i].set_text(nbb_formatted_code);\n",
       "                        }\n",
       "                        break;\n",
       "                    }\n",
       "                }\n",
       "            }, 500);\n",
       "            "
      ],
      "text/plain": [
       "<IPython.core.display.Javascript object>"
      ]
     },
     "metadata": {},
     "output_type": "display_data"
    }
   ],
   "source": [
    "vegas.isna().mean()"
   ]
  },
  {
   "cell_type": "markdown",
   "metadata": {
    "colab_type": "text",
    "id": "Bog4DfbRrrdh"
   },
   "source": [
    "How many reviews do we have for each hotel in the dataset?"
   ]
  },
  {
   "cell_type": "code",
   "execution_count": 67,
   "metadata": {
    "colab": {},
    "colab_type": "code",
    "id": "FBR4vkh-rrdh"
   },
   "outputs": [
    {
     "data": {
      "text/plain": [
       "Caesars Palace                                         24\n",
       "The Venetian Las Vegas Hotel                           24\n",
       "Circus Circus Hotel & Casino Las Vegas                 24\n",
       "Monte Carlo Resort&Casino                              24\n",
       "Paris Las Vegas                                        24\n",
       "The Westin las Vegas Hotel Casino & Spa                24\n",
       "The Cosmopolitan Las Vegas                             24\n",
       "The Palazzo Resort Hotel Casino                        24\n",
       "Treasure Island- TI Hotel & Casino                     24\n",
       "Excalibur Hotel & Casino                               24\n",
       "Hilton Grand Vacations on the Boulevard                24\n",
       "Trump International Hotel Las Vegas                    24\n",
       "Bellagio Las Vegas                                     24\n",
       "Wyndham Grand Desert                                   24\n",
       "Tuscany Las Vegas Suites & Casino                      24\n",
       "Marriott's Grand Chateau                               24\n",
       "Tropicana Las Vegas - A Double Tree by Hilton Hotel    24\n",
       "Wynn Las Vegas                                         24\n",
       "The Cromwell                                           24\n",
       "Encore at wynn Las Vegas                               24\n",
       "Hilton Grand Vacations at the Flamingo                 24\n",
       "Name: Hotel name, dtype: int64"
      ]
     },
     "execution_count": 67,
     "metadata": {},
     "output_type": "execute_result"
    },
    {
     "data": {
      "application/javascript": [
       "\n",
       "            setTimeout(function() {\n",
       "                var nbb_cell_id = 67;\n",
       "                var nbb_unformatted_code = \"vegas[\\\"Hotel name\\\"].value_counts()\";\n",
       "                var nbb_formatted_code = \"vegas[\\\"Hotel name\\\"].value_counts()\";\n",
       "                var nbb_cells = Jupyter.notebook.get_cells();\n",
       "                for (var i = 0; i < nbb_cells.length; ++i) {\n",
       "                    if (nbb_cells[i].input_prompt_number == nbb_cell_id) {\n",
       "                        if (nbb_cells[i].get_text() == nbb_unformatted_code) {\n",
       "                             nbb_cells[i].set_text(nbb_formatted_code);\n",
       "                        }\n",
       "                        break;\n",
       "                    }\n",
       "                }\n",
       "            }, 500);\n",
       "            "
      ],
      "text/plain": [
       "<IPython.core.display.Javascript object>"
      ]
     },
     "metadata": {},
     "output_type": "display_data"
    }
   ],
   "source": [
    "vegas[\"Hotel name\"].value_counts()"
   ]
  },
  {
   "cell_type": "markdown",
   "metadata": {
    "colab_type": "text",
    "id": "jiD4nUMGrrdj"
   },
   "source": [
    "We would like to predict the score variable. Examine the dataset and decide which columns should be turned into dummy variables and transform the data. Also, where we have two columns with redundant information, remove one of the two columns. Remove the hotel stars column."
   ]
  },
  {
   "cell_type": "code",
   "execution_count": 68,
   "metadata": {
    "colab": {},
    "colab_type": "code",
    "id": "9eo_8lZKrrdj"
   },
   "outputs": [
    {
     "data": {
      "text/plain": [
       "Index(['User country', 'Nr. reviews', 'Nr. hotel reviews', 'Helpful votes',\n",
       "       'Score', 'Period of stay', 'Traveler type', 'Pool', 'Gym',\n",
       "       'Tennis court', 'Spa', 'Casino', 'Free internet', 'Hotel name',\n",
       "       'Hotel stars', 'Nr. rooms', 'User continent', 'Member years',\n",
       "       'Review month', 'Review weekday'],\n",
       "      dtype='object')"
      ]
     },
     "execution_count": 68,
     "metadata": {},
     "output_type": "execute_result"
    },
    {
     "data": {
      "application/javascript": [
       "\n",
       "            setTimeout(function() {\n",
       "                var nbb_cell_id = 68;\n",
       "                var nbb_unformatted_code = \"vegas.columns\";\n",
       "                var nbb_formatted_code = \"vegas.columns\";\n",
       "                var nbb_cells = Jupyter.notebook.get_cells();\n",
       "                for (var i = 0; i < nbb_cells.length; ++i) {\n",
       "                    if (nbb_cells[i].input_prompt_number == nbb_cell_id) {\n",
       "                        if (nbb_cells[i].get_text() == nbb_unformatted_code) {\n",
       "                             nbb_cells[i].set_text(nbb_formatted_code);\n",
       "                        }\n",
       "                        break;\n",
       "                    }\n",
       "                }\n",
       "            }, 500);\n",
       "            "
      ],
      "text/plain": [
       "<IPython.core.display.Javascript object>"
      ]
     },
     "metadata": {},
     "output_type": "display_data"
    }
   ],
   "source": [
    "vegas.columns"
   ]
  },
  {
   "cell_type": "code",
   "execution_count": 69,
   "metadata": {},
   "outputs": [
    {
     "data": {
      "text/html": [
       "<div>\n",
       "<style scoped>\n",
       "    .dataframe tbody tr th:only-of-type {\n",
       "        vertical-align: middle;\n",
       "    }\n",
       "\n",
       "    .dataframe tbody tr th {\n",
       "        vertical-align: top;\n",
       "    }\n",
       "\n",
       "    .dataframe thead th {\n",
       "        text-align: right;\n",
       "    }\n",
       "</style>\n",
       "<table border=\"1\" class=\"dataframe\">\n",
       "  <thead>\n",
       "    <tr style=\"text-align: right;\">\n",
       "      <th></th>\n",
       "      <th>User country</th>\n",
       "      <th>Nr. reviews</th>\n",
       "      <th>Nr. hotel reviews</th>\n",
       "      <th>Helpful votes</th>\n",
       "      <th>Score</th>\n",
       "      <th>Period of stay</th>\n",
       "      <th>Traveler type</th>\n",
       "      <th>Pool</th>\n",
       "      <th>Gym</th>\n",
       "      <th>Tennis court</th>\n",
       "      <th>Spa</th>\n",
       "      <th>Casino</th>\n",
       "      <th>Free internet</th>\n",
       "      <th>Hotel name</th>\n",
       "      <th>Hotel stars</th>\n",
       "      <th>Nr. rooms</th>\n",
       "      <th>User continent</th>\n",
       "      <th>Member years</th>\n",
       "      <th>Review month</th>\n",
       "      <th>Review weekday</th>\n",
       "    </tr>\n",
       "  </thead>\n",
       "  <tbody>\n",
       "    <tr>\n",
       "      <th>0</th>\n",
       "      <td>USA</td>\n",
       "      <td>11</td>\n",
       "      <td>4</td>\n",
       "      <td>13</td>\n",
       "      <td>5</td>\n",
       "      <td>Dec-Feb</td>\n",
       "      <td>Friends</td>\n",
       "      <td>NO</td>\n",
       "      <td>YES</td>\n",
       "      <td>NO</td>\n",
       "      <td>NO</td>\n",
       "      <td>YES</td>\n",
       "      <td>YES</td>\n",
       "      <td>Circus Circus Hotel &amp; Casino Las Vegas</td>\n",
       "      <td>3</td>\n",
       "      <td>3773</td>\n",
       "      <td>North America</td>\n",
       "      <td>9</td>\n",
       "      <td>January</td>\n",
       "      <td>Thursday</td>\n",
       "    </tr>\n",
       "    <tr>\n",
       "      <th>1</th>\n",
       "      <td>USA</td>\n",
       "      <td>119</td>\n",
       "      <td>21</td>\n",
       "      <td>75</td>\n",
       "      <td>3</td>\n",
       "      <td>Dec-Feb</td>\n",
       "      <td>Business</td>\n",
       "      <td>NO</td>\n",
       "      <td>YES</td>\n",
       "      <td>NO</td>\n",
       "      <td>NO</td>\n",
       "      <td>YES</td>\n",
       "      <td>YES</td>\n",
       "      <td>Circus Circus Hotel &amp; Casino Las Vegas</td>\n",
       "      <td>3</td>\n",
       "      <td>3773</td>\n",
       "      <td>North America</td>\n",
       "      <td>3</td>\n",
       "      <td>January</td>\n",
       "      <td>Friday</td>\n",
       "    </tr>\n",
       "    <tr>\n",
       "      <th>2</th>\n",
       "      <td>USA</td>\n",
       "      <td>36</td>\n",
       "      <td>9</td>\n",
       "      <td>25</td>\n",
       "      <td>5</td>\n",
       "      <td>Mar-May</td>\n",
       "      <td>Families</td>\n",
       "      <td>NO</td>\n",
       "      <td>YES</td>\n",
       "      <td>NO</td>\n",
       "      <td>NO</td>\n",
       "      <td>YES</td>\n",
       "      <td>YES</td>\n",
       "      <td>Circus Circus Hotel &amp; Casino Las Vegas</td>\n",
       "      <td>3</td>\n",
       "      <td>3773</td>\n",
       "      <td>North America</td>\n",
       "      <td>2</td>\n",
       "      <td>February</td>\n",
       "      <td>Saturday</td>\n",
       "    </tr>\n",
       "  </tbody>\n",
       "</table>\n",
       "</div>"
      ],
      "text/plain": [
       "  User country  Nr. reviews  Nr. hotel reviews  Helpful votes  Score  \\\n",
       "0          USA           11                  4             13      5   \n",
       "1          USA          119                 21             75      3   \n",
       "2          USA           36                  9             25      5   \n",
       "\n",
       "  Period of stay Traveler type Pool  Gym Tennis court Spa Casino  \\\n",
       "0        Dec-Feb       Friends   NO  YES           NO  NO    YES   \n",
       "1        Dec-Feb      Business   NO  YES           NO  NO    YES   \n",
       "2        Mar-May      Families   NO  YES           NO  NO    YES   \n",
       "\n",
       "  Free internet                              Hotel name Hotel stars  \\\n",
       "0           YES  Circus Circus Hotel & Casino Las Vegas           3   \n",
       "1           YES  Circus Circus Hotel & Casino Las Vegas           3   \n",
       "2           YES  Circus Circus Hotel & Casino Las Vegas           3   \n",
       "\n",
       "   Nr. rooms User continent  Member years Review month Review weekday  \n",
       "0       3773  North America             9      January       Thursday  \n",
       "1       3773  North America             3      January         Friday  \n",
       "2       3773  North America             2     February       Saturday  "
      ]
     },
     "execution_count": 69,
     "metadata": {},
     "output_type": "execute_result"
    },
    {
     "data": {
      "application/javascript": [
       "\n",
       "            setTimeout(function() {\n",
       "                var nbb_cell_id = 69;\n",
       "                var nbb_unformatted_code = \"vegas.head(3)\";\n",
       "                var nbb_formatted_code = \"vegas.head(3)\";\n",
       "                var nbb_cells = Jupyter.notebook.get_cells();\n",
       "                for (var i = 0; i < nbb_cells.length; ++i) {\n",
       "                    if (nbb_cells[i].input_prompt_number == nbb_cell_id) {\n",
       "                        if (nbb_cells[i].get_text() == nbb_unformatted_code) {\n",
       "                             nbb_cells[i].set_text(nbb_formatted_code);\n",
       "                        }\n",
       "                        break;\n",
       "                    }\n",
       "                }\n",
       "            }, 500);\n",
       "            "
      ],
      "text/plain": [
       "<IPython.core.display.Javascript object>"
      ]
     },
     "metadata": {},
     "output_type": "display_data"
    }
   ],
   "source": [
    "vegas.head(3)"
   ]
  },
  {
   "cell_type": "code",
   "execution_count": 70,
   "metadata": {},
   "outputs": [
    {
     "data": {
      "application/javascript": [
       "\n",
       "            setTimeout(function() {\n",
       "                var nbb_cell_id = 70;\n",
       "                var nbb_unformatted_code = \"vegas = vegas.drop(columns=[\\\"Hotel stars\\\", \\\"User country\\\"])\\n# vegas = vegas.drop(columns=[\\\"Hotel name\\\"])\";\n",
       "                var nbb_formatted_code = \"vegas = vegas.drop(columns=[\\\"Hotel stars\\\", \\\"User country\\\"])\\n# vegas = vegas.drop(columns=[\\\"Hotel name\\\"])\";\n",
       "                var nbb_cells = Jupyter.notebook.get_cells();\n",
       "                for (var i = 0; i < nbb_cells.length; ++i) {\n",
       "                    if (nbb_cells[i].input_prompt_number == nbb_cell_id) {\n",
       "                        if (nbb_cells[i].get_text() == nbb_unformatted_code) {\n",
       "                             nbb_cells[i].set_text(nbb_formatted_code);\n",
       "                        }\n",
       "                        break;\n",
       "                    }\n",
       "                }\n",
       "            }, 500);\n",
       "            "
      ],
      "text/plain": [
       "<IPython.core.display.Javascript object>"
      ]
     },
     "metadata": {},
     "output_type": "display_data"
    }
   ],
   "source": [
    "vegas = vegas.drop(columns=[\"Hotel stars\", \"User country\"])\n",
    "# vegas = vegas.drop(columns=[\"Hotel name\"])"
   ]
  },
  {
   "cell_type": "code",
   "execution_count": 71,
   "metadata": {},
   "outputs": [
    {
     "data": {
      "application/javascript": [
       "\n",
       "            setTimeout(function() {\n",
       "                var nbb_cell_id = 71;\n",
       "                var nbb_unformatted_code = \"cols_to_encode = [\\n    \\\"Review month\\\",\\n    \\\"Review weekday\\\",\\n    \\\"User continent\\\",\\n    \\\"Traveler type\\\",\\n    \\\"Period of stay\\\",\\n        \\\"Hotel name\\\",\\n]\\n\\nbinary_cols = [\\\"Pool\\\", \\\"Gym\\\", \\\"Tennis court\\\", \\\"Spa\\\", \\\"Casino\\\", \\\"Free internet\\\"]\\n\\nnumeric_cols = [\\n    \\\"Nr. reviews\\\",\\n    \\\"Nr. hotel reviews\\\",\\n    \\\"Helpful votes\\\",\\n    \\\"Nr. rooms\\\",\\n    \\\"Member years\\\",\\n]\";\n",
       "                var nbb_formatted_code = \"cols_to_encode = [\\n    \\\"Review month\\\",\\n    \\\"Review weekday\\\",\\n    \\\"User continent\\\",\\n    \\\"Traveler type\\\",\\n    \\\"Period of stay\\\",\\n    \\\"Hotel name\\\",\\n]\\n\\nbinary_cols = [\\\"Pool\\\", \\\"Gym\\\", \\\"Tennis court\\\", \\\"Spa\\\", \\\"Casino\\\", \\\"Free internet\\\"]\\n\\nnumeric_cols = [\\n    \\\"Nr. reviews\\\",\\n    \\\"Nr. hotel reviews\\\",\\n    \\\"Helpful votes\\\",\\n    \\\"Nr. rooms\\\",\\n    \\\"Member years\\\",\\n]\";\n",
       "                var nbb_cells = Jupyter.notebook.get_cells();\n",
       "                for (var i = 0; i < nbb_cells.length; ++i) {\n",
       "                    if (nbb_cells[i].input_prompt_number == nbb_cell_id) {\n",
       "                        if (nbb_cells[i].get_text() == nbb_unformatted_code) {\n",
       "                             nbb_cells[i].set_text(nbb_formatted_code);\n",
       "                        }\n",
       "                        break;\n",
       "                    }\n",
       "                }\n",
       "            }, 500);\n",
       "            "
      ],
      "text/plain": [
       "<IPython.core.display.Javascript object>"
      ]
     },
     "metadata": {},
     "output_type": "display_data"
    }
   ],
   "source": [
    "cols_to_encode = [\n",
    "    \"Review month\",\n",
    "    \"Review weekday\",\n",
    "    \"User continent\",\n",
    "    \"Traveler type\",\n",
    "    \"Period of stay\",\n",
    "    \"Hotel name\",\n",
    "]\n",
    "\n",
    "binary_cols = [\"Pool\", \"Gym\", \"Tennis court\", \"Spa\", \"Casino\", \"Free internet\"]\n",
    "\n",
    "numeric_cols = [\n",
    "    \"Nr. reviews\",\n",
    "    \"Nr. hotel reviews\",\n",
    "    \"Helpful votes\",\n",
    "    \"Nr. rooms\",\n",
    "    \"Member years\",\n",
    "]"
   ]
  },
  {
   "cell_type": "code",
   "execution_count": 72,
   "metadata": {},
   "outputs": [
    {
     "data": {
      "application/javascript": [
       "\n",
       "            setTimeout(function() {\n",
       "                var nbb_cell_id = 72;\n",
       "                var nbb_unformatted_code = \"vegas = vegas.replace(\\\"YES\\\", 1)\\nvegas = vegas.replace(\\\"NO\\\", 0)\";\n",
       "                var nbb_formatted_code = \"vegas = vegas.replace(\\\"YES\\\", 1)\\nvegas = vegas.replace(\\\"NO\\\", 0)\";\n",
       "                var nbb_cells = Jupyter.notebook.get_cells();\n",
       "                for (var i = 0; i < nbb_cells.length; ++i) {\n",
       "                    if (nbb_cells[i].input_prompt_number == nbb_cell_id) {\n",
       "                        if (nbb_cells[i].get_text() == nbb_unformatted_code) {\n",
       "                             nbb_cells[i].set_text(nbb_formatted_code);\n",
       "                        }\n",
       "                        break;\n",
       "                    }\n",
       "                }\n",
       "            }, 500);\n",
       "            "
      ],
      "text/plain": [
       "<IPython.core.display.Javascript object>"
      ]
     },
     "metadata": {},
     "output_type": "display_data"
    }
   ],
   "source": [
    "vegas = vegas.replace(\"YES\", 1)\n",
    "vegas = vegas.replace(\"NO\", 0)"
   ]
  },
  {
   "cell_type": "code",
   "execution_count": 73,
   "metadata": {},
   "outputs": [
    {
     "data": {
      "application/javascript": [
       "\n",
       "            setTimeout(function() {\n",
       "                var nbb_cell_id = 73;\n",
       "                var nbb_unformatted_code = \"def one_hot_encode(X, encode_cols, numeric_cols, index=None):\\n    other_cols = [c for c in X.columns if c not in encode_cols]\\n\\n    ct = ColumnTransformer(\\n        #   Format\\n        #   [(\\\"name of step\\\", what_to_do(), [what columns to do it to])]\\n        [\\n            (\\\"one hot encode\\\", OneHotEncoder(drop=\\\"first\\\", sparse=False), encode_cols),\\n            (\\\"scaler\\\", StandardScaler(), numeric_cols),\\n        ],\\n        remainder=\\\"passthrough\\\",\\n    )\\n\\n    ct.fit(X)\\n\\n    encoded_names = ct.transformers_[0][1].get_feature_names()\\n    encoded_names = list(encoded_names)\\n\\n    X_encoded = ct.transform(X)\\n    X_encoded = pd.DataFrame(X_encoded, columns=encoded_names + other_cols, index=index)\\n\\n    return X_encoded\";\n",
       "                var nbb_formatted_code = \"def one_hot_encode(X, encode_cols, numeric_cols, index=None):\\n    other_cols = [c for c in X.columns if c not in encode_cols]\\n\\n    ct = ColumnTransformer(\\n        #   Format\\n        #   [(\\\"name of step\\\", what_to_do(), [what columns to do it to])]\\n        [\\n            (\\\"one hot encode\\\", OneHotEncoder(drop=\\\"first\\\", sparse=False), encode_cols),\\n            (\\\"scaler\\\", StandardScaler(), numeric_cols),\\n        ],\\n        remainder=\\\"passthrough\\\",\\n    )\\n\\n    ct.fit(X)\\n\\n    encoded_names = ct.transformers_[0][1].get_feature_names()\\n    encoded_names = list(encoded_names)\\n\\n    X_encoded = ct.transform(X)\\n    X_encoded = pd.DataFrame(X_encoded, columns=encoded_names + other_cols, index=index)\\n\\n    return X_encoded\";\n",
       "                var nbb_cells = Jupyter.notebook.get_cells();\n",
       "                for (var i = 0; i < nbb_cells.length; ++i) {\n",
       "                    if (nbb_cells[i].input_prompt_number == nbb_cell_id) {\n",
       "                        if (nbb_cells[i].get_text() == nbb_unformatted_code) {\n",
       "                             nbb_cells[i].set_text(nbb_formatted_code);\n",
       "                        }\n",
       "                        break;\n",
       "                    }\n",
       "                }\n",
       "            }, 500);\n",
       "            "
      ],
      "text/plain": [
       "<IPython.core.display.Javascript object>"
      ]
     },
     "metadata": {},
     "output_type": "display_data"
    }
   ],
   "source": [
    "def one_hot_encode(X, encode_cols, numeric_cols, index=None):\n",
    "    other_cols = [c for c in X.columns if c not in encode_cols]\n",
    "\n",
    "    ct = ColumnTransformer(\n",
    "        #   Format\n",
    "        #   [(\"name of step\", what_to_do(), [what columns to do it to])]\n",
    "        [\n",
    "            (\"one hot encode\", OneHotEncoder(drop=\"first\", sparse=False), encode_cols),\n",
    "            (\"scaler\", StandardScaler(), numeric_cols),\n",
    "        ],\n",
    "        remainder=\"passthrough\",\n",
    "    )\n",
    "\n",
    "    ct.fit(X)\n",
    "\n",
    "    encoded_names = ct.transformers_[0][1].get_feature_names()\n",
    "    encoded_names = list(encoded_names)\n",
    "\n",
    "    X_encoded = ct.transform(X)\n",
    "    X_encoded = pd.DataFrame(X_encoded, columns=encoded_names + other_cols, index=index)\n",
    "\n",
    "    return X_encoded"
   ]
  },
  {
   "cell_type": "code",
   "execution_count": 74,
   "metadata": {},
   "outputs": [
    {
     "data": {
      "text/html": [
       "<div>\n",
       "<style scoped>\n",
       "    .dataframe tbody tr th:only-of-type {\n",
       "        vertical-align: middle;\n",
       "    }\n",
       "\n",
       "    .dataframe tbody tr th {\n",
       "        vertical-align: top;\n",
       "    }\n",
       "\n",
       "    .dataframe thead th {\n",
       "        text-align: right;\n",
       "    }\n",
       "</style>\n",
       "<table border=\"1\" class=\"dataframe\">\n",
       "  <thead>\n",
       "    <tr style=\"text-align: right;\">\n",
       "      <th></th>\n",
       "      <th>x0_August</th>\n",
       "      <th>x0_December</th>\n",
       "      <th>x0_February</th>\n",
       "      <th>x0_January</th>\n",
       "      <th>x0_July</th>\n",
       "      <th>x0_June</th>\n",
       "      <th>x0_March</th>\n",
       "      <th>x0_May</th>\n",
       "      <th>x0_November</th>\n",
       "      <th>x0_October</th>\n",
       "      <th>...</th>\n",
       "      <th>Helpful votes</th>\n",
       "      <th>Score</th>\n",
       "      <th>Pool</th>\n",
       "      <th>Gym</th>\n",
       "      <th>Tennis court</th>\n",
       "      <th>Spa</th>\n",
       "      <th>Casino</th>\n",
       "      <th>Free internet</th>\n",
       "      <th>Nr. rooms</th>\n",
       "      <th>Member years</th>\n",
       "    </tr>\n",
       "  </thead>\n",
       "  <tbody>\n",
       "    <tr>\n",
       "      <th>0</th>\n",
       "      <td>0.0</td>\n",
       "      <td>0.0</td>\n",
       "      <td>0.0</td>\n",
       "      <td>1.0</td>\n",
       "      <td>0.0</td>\n",
       "      <td>0.0</td>\n",
       "      <td>0.0</td>\n",
       "      <td>0.0</td>\n",
       "      <td>0.0</td>\n",
       "      <td>0.0</td>\n",
       "      <td>...</td>\n",
       "      <td>-0.386857</td>\n",
       "      <td>1.227704</td>\n",
       "      <td>0.102120</td>\n",
       "      <td>5.0</td>\n",
       "      <td>0.0</td>\n",
       "      <td>1.0</td>\n",
       "      <td>0.0</td>\n",
       "      <td>0.0</td>\n",
       "      <td>1.0</td>\n",
       "      <td>1.0</td>\n",
       "    </tr>\n",
       "    <tr>\n",
       "      <th>1</th>\n",
       "      <td>0.0</td>\n",
       "      <td>0.0</td>\n",
       "      <td>0.0</td>\n",
       "      <td>1.0</td>\n",
       "      <td>0.0</td>\n",
       "      <td>0.0</td>\n",
       "      <td>0.0</td>\n",
       "      <td>0.0</td>\n",
       "      <td>0.0</td>\n",
       "      <td>0.0</td>\n",
       "      <td>...</td>\n",
       "      <td>0.892215</td>\n",
       "      <td>1.227704</td>\n",
       "      <td>0.027690</td>\n",
       "      <td>3.0</td>\n",
       "      <td>0.0</td>\n",
       "      <td>1.0</td>\n",
       "      <td>0.0</td>\n",
       "      <td>0.0</td>\n",
       "      <td>1.0</td>\n",
       "      <td>1.0</td>\n",
       "    </tr>\n",
       "    <tr>\n",
       "      <th>2</th>\n",
       "      <td>0.0</td>\n",
       "      <td>0.0</td>\n",
       "      <td>1.0</td>\n",
       "      <td>0.0</td>\n",
       "      <td>0.0</td>\n",
       "      <td>0.0</td>\n",
       "      <td>0.0</td>\n",
       "      <td>0.0</td>\n",
       "      <td>0.0</td>\n",
       "      <td>0.0</td>\n",
       "      <td>...</td>\n",
       "      <td>-0.139295</td>\n",
       "      <td>1.227704</td>\n",
       "      <td>0.015285</td>\n",
       "      <td>5.0</td>\n",
       "      <td>0.0</td>\n",
       "      <td>1.0</td>\n",
       "      <td>0.0</td>\n",
       "      <td>0.0</td>\n",
       "      <td>1.0</td>\n",
       "      <td>1.0</td>\n",
       "    </tr>\n",
       "    <tr>\n",
       "      <th>3</th>\n",
       "      <td>0.0</td>\n",
       "      <td>0.0</td>\n",
       "      <td>1.0</td>\n",
       "      <td>0.0</td>\n",
       "      <td>0.0</td>\n",
       "      <td>0.0</td>\n",
       "      <td>0.0</td>\n",
       "      <td>0.0</td>\n",
       "      <td>0.0</td>\n",
       "      <td>0.0</td>\n",
       "      <td>...</td>\n",
       "      <td>-0.366227</td>\n",
       "      <td>1.227704</td>\n",
       "      <td>0.064905</td>\n",
       "      <td>4.0</td>\n",
       "      <td>0.0</td>\n",
       "      <td>1.0</td>\n",
       "      <td>0.0</td>\n",
       "      <td>0.0</td>\n",
       "      <td>1.0</td>\n",
       "      <td>1.0</td>\n",
       "    </tr>\n",
       "    <tr>\n",
       "      <th>4</th>\n",
       "      <td>0.0</td>\n",
       "      <td>0.0</td>\n",
       "      <td>0.0</td>\n",
       "      <td>0.0</td>\n",
       "      <td>0.0</td>\n",
       "      <td>0.0</td>\n",
       "      <td>1.0</td>\n",
       "      <td>0.0</td>\n",
       "      <td>0.0</td>\n",
       "      <td>0.0</td>\n",
       "      <td>...</td>\n",
       "      <td>-0.613789</td>\n",
       "      <td>1.227704</td>\n",
       "      <td>0.077310</td>\n",
       "      <td>4.0</td>\n",
       "      <td>0.0</td>\n",
       "      <td>1.0</td>\n",
       "      <td>0.0</td>\n",
       "      <td>0.0</td>\n",
       "      <td>1.0</td>\n",
       "      <td>1.0</td>\n",
       "    </tr>\n",
       "    <tr>\n",
       "      <th>...</th>\n",
       "      <td>...</td>\n",
       "      <td>...</td>\n",
       "      <td>...</td>\n",
       "      <td>...</td>\n",
       "      <td>...</td>\n",
       "      <td>...</td>\n",
       "      <td>...</td>\n",
       "      <td>...</td>\n",
       "      <td>...</td>\n",
       "      <td>...</td>\n",
       "      <td>...</td>\n",
       "      <td>...</td>\n",
       "      <td>...</td>\n",
       "      <td>...</td>\n",
       "      <td>...</td>\n",
       "      <td>...</td>\n",
       "      <td>...</td>\n",
       "      <td>...</td>\n",
       "      <td>...</td>\n",
       "      <td>...</td>\n",
       "      <td>...</td>\n",
       "    </tr>\n",
       "    <tr>\n",
       "      <th>499</th>\n",
       "      <td>0.0</td>\n",
       "      <td>0.0</td>\n",
       "      <td>0.0</td>\n",
       "      <td>0.0</td>\n",
       "      <td>0.0</td>\n",
       "      <td>0.0</td>\n",
       "      <td>0.0</td>\n",
       "      <td>0.0</td>\n",
       "      <td>0.0</td>\n",
       "      <td>1.0</td>\n",
       "      <td>...</td>\n",
       "      <td>-0.490008</td>\n",
       "      <td>-1.067108</td>\n",
       "      <td>0.002880</td>\n",
       "      <td>5.0</td>\n",
       "      <td>1.0</td>\n",
       "      <td>1.0</td>\n",
       "      <td>0.0</td>\n",
       "      <td>1.0</td>\n",
       "      <td>1.0</td>\n",
       "      <td>1.0</td>\n",
       "    </tr>\n",
       "    <tr>\n",
       "      <th>500</th>\n",
       "      <td>0.0</td>\n",
       "      <td>0.0</td>\n",
       "      <td>0.0</td>\n",
       "      <td>0.0</td>\n",
       "      <td>0.0</td>\n",
       "      <td>0.0</td>\n",
       "      <td>0.0</td>\n",
       "      <td>0.0</td>\n",
       "      <td>1.0</td>\n",
       "      <td>0.0</td>\n",
       "      <td>...</td>\n",
       "      <td>-0.056774</td>\n",
       "      <td>-1.067108</td>\n",
       "      <td>0.089715</td>\n",
       "      <td>4.0</td>\n",
       "      <td>1.0</td>\n",
       "      <td>1.0</td>\n",
       "      <td>0.0</td>\n",
       "      <td>1.0</td>\n",
       "      <td>1.0</td>\n",
       "      <td>1.0</td>\n",
       "    </tr>\n",
       "    <tr>\n",
       "      <th>501</th>\n",
       "      <td>0.0</td>\n",
       "      <td>0.0</td>\n",
       "      <td>0.0</td>\n",
       "      <td>0.0</td>\n",
       "      <td>0.0</td>\n",
       "      <td>0.0</td>\n",
       "      <td>0.0</td>\n",
       "      <td>0.0</td>\n",
       "      <td>1.0</td>\n",
       "      <td>0.0</td>\n",
       "      <td>...</td>\n",
       "      <td>-0.015514</td>\n",
       "      <td>-1.067108</td>\n",
       "      <td>0.040095</td>\n",
       "      <td>4.0</td>\n",
       "      <td>1.0</td>\n",
       "      <td>1.0</td>\n",
       "      <td>0.0</td>\n",
       "      <td>1.0</td>\n",
       "      <td>1.0</td>\n",
       "      <td>1.0</td>\n",
       "    </tr>\n",
       "    <tr>\n",
       "      <th>502</th>\n",
       "      <td>0.0</td>\n",
       "      <td>1.0</td>\n",
       "      <td>0.0</td>\n",
       "      <td>0.0</td>\n",
       "      <td>0.0</td>\n",
       "      <td>0.0</td>\n",
       "      <td>0.0</td>\n",
       "      <td>0.0</td>\n",
       "      <td>0.0</td>\n",
       "      <td>0.0</td>\n",
       "      <td>...</td>\n",
       "      <td>-0.551899</td>\n",
       "      <td>-1.067108</td>\n",
       "      <td>0.102120</td>\n",
       "      <td>2.0</td>\n",
       "      <td>1.0</td>\n",
       "      <td>1.0</td>\n",
       "      <td>0.0</td>\n",
       "      <td>1.0</td>\n",
       "      <td>1.0</td>\n",
       "      <td>1.0</td>\n",
       "    </tr>\n",
       "    <tr>\n",
       "      <th>503</th>\n",
       "      <td>0.0</td>\n",
       "      <td>1.0</td>\n",
       "      <td>0.0</td>\n",
       "      <td>0.0</td>\n",
       "      <td>0.0</td>\n",
       "      <td>0.0</td>\n",
       "      <td>0.0</td>\n",
       "      <td>0.0</td>\n",
       "      <td>0.0</td>\n",
       "      <td>0.0</td>\n",
       "      <td>...</td>\n",
       "      <td>1.655533</td>\n",
       "      <td>-1.067108</td>\n",
       "      <td>0.052500</td>\n",
       "      <td>4.0</td>\n",
       "      <td>1.0</td>\n",
       "      <td>1.0</td>\n",
       "      <td>0.0</td>\n",
       "      <td>1.0</td>\n",
       "      <td>1.0</td>\n",
       "      <td>1.0</td>\n",
       "    </tr>\n",
       "  </tbody>\n",
       "</table>\n",
       "<p>504 rows × 61 columns</p>\n",
       "</div>"
      ],
      "text/plain": [
       "     x0_August  x0_December  x0_February  x0_January  x0_July  x0_June  \\\n",
       "0          0.0          0.0          0.0         1.0      0.0      0.0   \n",
       "1          0.0          0.0          0.0         1.0      0.0      0.0   \n",
       "2          0.0          0.0          1.0         0.0      0.0      0.0   \n",
       "3          0.0          0.0          1.0         0.0      0.0      0.0   \n",
       "4          0.0          0.0          0.0         0.0      0.0      0.0   \n",
       "..         ...          ...          ...         ...      ...      ...   \n",
       "499        0.0          0.0          0.0         0.0      0.0      0.0   \n",
       "500        0.0          0.0          0.0         0.0      0.0      0.0   \n",
       "501        0.0          0.0          0.0         0.0      0.0      0.0   \n",
       "502        0.0          1.0          0.0         0.0      0.0      0.0   \n",
       "503        0.0          1.0          0.0         0.0      0.0      0.0   \n",
       "\n",
       "     x0_March  x0_May  x0_November  x0_October  ...  Helpful votes     Score  \\\n",
       "0         0.0     0.0          0.0         0.0  ...      -0.386857  1.227704   \n",
       "1         0.0     0.0          0.0         0.0  ...       0.892215  1.227704   \n",
       "2         0.0     0.0          0.0         0.0  ...      -0.139295  1.227704   \n",
       "3         0.0     0.0          0.0         0.0  ...      -0.366227  1.227704   \n",
       "4         1.0     0.0          0.0         0.0  ...      -0.613789  1.227704   \n",
       "..        ...     ...          ...         ...  ...            ...       ...   \n",
       "499       0.0     0.0          0.0         1.0  ...      -0.490008 -1.067108   \n",
       "500       0.0     0.0          1.0         0.0  ...      -0.056774 -1.067108   \n",
       "501       0.0     0.0          1.0         0.0  ...      -0.015514 -1.067108   \n",
       "502       0.0     0.0          0.0         0.0  ...      -0.551899 -1.067108   \n",
       "503       0.0     0.0          0.0         0.0  ...       1.655533 -1.067108   \n",
       "\n",
       "         Pool  Gym  Tennis court  Spa  Casino  Free internet  Nr. rooms  \\\n",
       "0    0.102120  5.0           0.0  1.0     0.0            0.0        1.0   \n",
       "1    0.027690  3.0           0.0  1.0     0.0            0.0        1.0   \n",
       "2    0.015285  5.0           0.0  1.0     0.0            0.0        1.0   \n",
       "3    0.064905  4.0           0.0  1.0     0.0            0.0        1.0   \n",
       "4    0.077310  4.0           0.0  1.0     0.0            0.0        1.0   \n",
       "..        ...  ...           ...  ...     ...            ...        ...   \n",
       "499  0.002880  5.0           1.0  1.0     0.0            1.0        1.0   \n",
       "500  0.089715  4.0           1.0  1.0     0.0            1.0        1.0   \n",
       "501  0.040095  4.0           1.0  1.0     0.0            1.0        1.0   \n",
       "502  0.102120  2.0           1.0  1.0     0.0            1.0        1.0   \n",
       "503  0.052500  4.0           1.0  1.0     0.0            1.0        1.0   \n",
       "\n",
       "     Member years  \n",
       "0             1.0  \n",
       "1             1.0  \n",
       "2             1.0  \n",
       "3             1.0  \n",
       "4             1.0  \n",
       "..            ...  \n",
       "499           1.0  \n",
       "500           1.0  \n",
       "501           1.0  \n",
       "502           1.0  \n",
       "503           1.0  \n",
       "\n",
       "[504 rows x 61 columns]"
      ]
     },
     "execution_count": 74,
     "metadata": {},
     "output_type": "execute_result"
    },
    {
     "data": {
      "application/javascript": [
       "\n",
       "            setTimeout(function() {\n",
       "                var nbb_cell_id = 74;\n",
       "                var nbb_unformatted_code = \"vegas = one_hot_encode(vegas, cols_to_encode, numeric_cols, index=vegas.index)\\nvegas\";\n",
       "                var nbb_formatted_code = \"vegas = one_hot_encode(vegas, cols_to_encode, numeric_cols, index=vegas.index)\\nvegas\";\n",
       "                var nbb_cells = Jupyter.notebook.get_cells();\n",
       "                for (var i = 0; i < nbb_cells.length; ++i) {\n",
       "                    if (nbb_cells[i].input_prompt_number == nbb_cell_id) {\n",
       "                        if (nbb_cells[i].get_text() == nbb_unformatted_code) {\n",
       "                             nbb_cells[i].set_text(nbb_formatted_code);\n",
       "                        }\n",
       "                        break;\n",
       "                    }\n",
       "                }\n",
       "            }, 500);\n",
       "            "
      ],
      "text/plain": [
       "<IPython.core.display.Javascript object>"
      ]
     },
     "metadata": {},
     "output_type": "display_data"
    }
   ],
   "source": [
    "vegas = one_hot_encode(vegas, cols_to_encode, numeric_cols, index=vegas.index)\n",
    "vegas"
   ]
  },
  {
   "cell_type": "markdown",
   "metadata": {
    "colab_type": "text",
    "id": "ipD7WyBHrrdl"
   },
   "source": [
    "Split the data into train and test (20% in test)"
   ]
  },
  {
   "cell_type": "code",
   "execution_count": 75,
   "metadata": {
    "colab": {},
    "colab_type": "code",
    "id": "w0jc_sQVrrdl"
   },
   "outputs": [
    {
     "data": {
      "application/javascript": [
       "\n",
       "            setTimeout(function() {\n",
       "                var nbb_cell_id = 75;\n",
       "                var nbb_unformatted_code = \"X = vegas.drop(columns=[\\\"Score\\\"])\\ny = vegas[\\\"Score\\\"]\\n\\nX_train, X_test, y_train, y_test = train_test_split(\\n    X, y, test_size=0.2, random_state=33\\n)\";\n",
       "                var nbb_formatted_code = \"X = vegas.drop(columns=[\\\"Score\\\"])\\ny = vegas[\\\"Score\\\"]\\n\\nX_train, X_test, y_train, y_test = train_test_split(\\n    X, y, test_size=0.2, random_state=33\\n)\";\n",
       "                var nbb_cells = Jupyter.notebook.get_cells();\n",
       "                for (var i = 0; i < nbb_cells.length; ++i) {\n",
       "                    if (nbb_cells[i].input_prompt_number == nbb_cell_id) {\n",
       "                        if (nbb_cells[i].get_text() == nbb_unformatted_code) {\n",
       "                             nbb_cells[i].set_text(nbb_formatted_code);\n",
       "                        }\n",
       "                        break;\n",
       "                    }\n",
       "                }\n",
       "            }, 500);\n",
       "            "
      ],
      "text/plain": [
       "<IPython.core.display.Javascript object>"
      ]
     },
     "metadata": {},
     "output_type": "display_data"
    }
   ],
   "source": [
    "X = vegas.drop(columns=[\"Score\"])\n",
    "y = vegas[\"Score\"]\n",
    "\n",
    "X_train, X_test, y_train, y_test = train_test_split(\n",
    "    X, y, test_size=0.2, random_state=33\n",
    ")"
   ]
  },
  {
   "cell_type": "markdown",
   "metadata": {
    "colab_type": "text",
    "id": "0VZ7h_b3rrdn"
   },
   "source": [
    "Create a graident boosted regression model for predicting the score. To produce the accuracy score for the test data, first round the prediction and then compare to the observed."
   ]
  },
  {
   "cell_type": "code",
   "execution_count": 76,
   "metadata": {
    "colab": {},
    "colab_type": "code",
    "id": "PDRCmva3rrdn"
   },
   "outputs": [
    {
     "name": "stdout",
     "output_type": "stream",
     "text": [
      "0.9782654573401339 \n",
      "\n",
      "0.9501786173759806\n"
     ]
    },
    {
     "data": {
      "application/javascript": [
       "\n",
       "            setTimeout(function() {\n",
       "                var nbb_cell_id = 76;\n",
       "                var nbb_unformatted_code = \"model = GradientBoostingRegressor()\\nmodel.fit(X_train, y_train)\\n\\nprint(model.score(X_train, y_train), \\\"\\\\n\\\")\\nprint(model.score(X_test, y_test))\";\n",
       "                var nbb_formatted_code = \"model = GradientBoostingRegressor()\\nmodel.fit(X_train, y_train)\\n\\nprint(model.score(X_train, y_train), \\\"\\\\n\\\")\\nprint(model.score(X_test, y_test))\";\n",
       "                var nbb_cells = Jupyter.notebook.get_cells();\n",
       "                for (var i = 0; i < nbb_cells.length; ++i) {\n",
       "                    if (nbb_cells[i].input_prompt_number == nbb_cell_id) {\n",
       "                        if (nbb_cells[i].get_text() == nbb_unformatted_code) {\n",
       "                             nbb_cells[i].set_text(nbb_formatted_code);\n",
       "                        }\n",
       "                        break;\n",
       "                    }\n",
       "                }\n",
       "            }, 500);\n",
       "            "
      ],
      "text/plain": [
       "<IPython.core.display.Javascript object>"
      ]
     },
     "metadata": {},
     "output_type": "display_data"
    }
   ],
   "source": [
    "model = GradientBoostingRegressor()\n",
    "model.fit(X_train, y_train)\n",
    "\n",
    "print(model.score(X_train, y_train), \"\\n\")\n",
    "print(model.score(X_test, y_test))"
   ]
  },
  {
   "cell_type": "code",
   "execution_count": 77,
   "metadata": {},
   "outputs": [
    {
     "data": {
      "text/plain": [
       "0.12572072365779688"
      ]
     },
     "execution_count": 77,
     "metadata": {},
     "output_type": "execute_result"
    },
    {
     "data": {
      "application/javascript": [
       "\n",
       "            setTimeout(function() {\n",
       "                var nbb_cell_id = 77;\n",
       "                var nbb_unformatted_code = \"y_pred= model.predict(X_test)\\n\\nerrors= y_pred- y_test\\nmae= np.abs(errors).mean()\\nmae\";\n",
       "                var nbb_formatted_code = \"y_pred = model.predict(X_test)\\n\\nerrors = y_pred - y_test\\nmae = np.abs(errors).mean()\\nmae\";\n",
       "                var nbb_cells = Jupyter.notebook.get_cells();\n",
       "                for (var i = 0; i < nbb_cells.length; ++i) {\n",
       "                    if (nbb_cells[i].input_prompt_number == nbb_cell_id) {\n",
       "                        if (nbb_cells[i].get_text() == nbb_unformatted_code) {\n",
       "                             nbb_cells[i].set_text(nbb_formatted_code);\n",
       "                        }\n",
       "                        break;\n",
       "                    }\n",
       "                }\n",
       "            }, 500);\n",
       "            "
      ],
      "text/plain": [
       "<IPython.core.display.Javascript object>"
      ]
     },
     "metadata": {},
     "output_type": "display_data"
    }
   ],
   "source": [
    "y_pred= model.predict(X_test)\n",
    "\n",
    "errors= y_pred- y_test\n",
    "mae= np.abs(errors).mean()\n",
    "mae\n"
   ]
  },
  {
   "cell_type": "markdown",
   "metadata": {
    "colab_type": "text",
    "id": "xxYf4M0errdp"
   },
   "source": [
    "Try again with a learning rate of 0.8 and 0.3 and compare the results."
   ]
  },
  {
   "cell_type": "code",
   "execution_count": 78,
   "metadata": {
    "colab": {},
    "colab_type": "code",
    "id": "0unoTHTSrrdp"
   },
   "outputs": [
    {
     "name": "stdout",
     "output_type": "stream",
     "text": [
      "0.9998783599387276 \n",
      "\n",
      "0.9616369118013208\n"
     ]
    },
    {
     "data": {
      "application/javascript": [
       "\n",
       "            setTimeout(function() {\n",
       "                var nbb_cell_id = 78;\n",
       "                var nbb_unformatted_code = \"model = GradientBoostingRegressor(learning_rate=0.8)\\nmodel.fit(X_train, y_train)\\n\\nprint(model.score(X_train, y_train), \\\"\\\\n\\\")\\nprint(model.score(X_test, y_test))\";\n",
       "                var nbb_formatted_code = \"model = GradientBoostingRegressor(learning_rate=0.8)\\nmodel.fit(X_train, y_train)\\n\\nprint(model.score(X_train, y_train), \\\"\\\\n\\\")\\nprint(model.score(X_test, y_test))\";\n",
       "                var nbb_cells = Jupyter.notebook.get_cells();\n",
       "                for (var i = 0; i < nbb_cells.length; ++i) {\n",
       "                    if (nbb_cells[i].input_prompt_number == nbb_cell_id) {\n",
       "                        if (nbb_cells[i].get_text() == nbb_unformatted_code) {\n",
       "                             nbb_cells[i].set_text(nbb_formatted_code);\n",
       "                        }\n",
       "                        break;\n",
       "                    }\n",
       "                }\n",
       "            }, 500);\n",
       "            "
      ],
      "text/plain": [
       "<IPython.core.display.Javascript object>"
      ]
     },
     "metadata": {},
     "output_type": "display_data"
    }
   ],
   "source": [
    "model = GradientBoostingRegressor(learning_rate=0.8)\n",
    "model.fit(X_train, y_train)\n",
    "\n",
    "print(model.score(X_train, y_train), \"\\n\")\n",
    "print(model.score(X_test, y_test))"
   ]
  },
  {
   "cell_type": "code",
   "execution_count": null,
   "metadata": {},
   "outputs": [],
   "source": []
  },
  {
   "cell_type": "code",
   "execution_count": null,
   "metadata": {},
   "outputs": [],
   "source": []
  }
 ],
 "metadata": {
  "colab": {
   "collapsed_sections": [],
   "name": "Day 34 Lecture 2 Assignment.ipynb",
   "provenance": []
  },
  "kernelspec": {
   "display_name": "Python 3",
   "language": "python",
   "name": "python3"
  },
  "language_info": {
   "codemirror_mode": {
    "name": "ipython",
    "version": 3
   },
   "file_extension": ".py",
   "mimetype": "text/x-python",
   "name": "python",
   "nbconvert_exporter": "python",
   "pygments_lexer": "ipython3",
   "version": "3.7.3"
  }
 },
 "nbformat": 4,
 "nbformat_minor": 1
}
