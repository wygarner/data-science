{
 "cells": [
  {
   "cell_type": "markdown",
   "metadata": {},
   "source": [
    "Generate a series of 10, 100 and 1000 numbers, each between 1 and 10. Find the descriptive statistics for each using scipy."
   ]
  },
  {
   "cell_type": "code",
   "execution_count": 15,
   "metadata": {},
   "outputs": [],
   "source": [
    "import numpy as np\n",
    "from scipy import stats"
   ]
  },
  {
   "cell_type": "code",
   "execution_count": 16,
   "metadata": {},
   "outputs": [],
   "source": [
    "x= np.random.choice(11,10)\n",
    "y= np.random.choice(11,100)\n",
    "z= np.random.choice(11,1000)"
   ]
  },
  {
   "cell_type": "code",
   "execution_count": 17,
   "metadata": {},
   "outputs": [
    {
     "name": "stdout",
     "output_type": "stream",
     "text": [
      "DescribeResult(nobs=10, minmax=(0, 10), mean=4.5, variance=12.944444444444445, skewness=0.4602165174315696, kurtosis=-1.145020169831826) \n",
      "\n",
      "DescribeResult(nobs=100, minmax=(0, 10), mean=5.47, variance=9.443535353535355, skewness=-0.24893417754627659, kurtosis=-1.1375569106509782) \n",
      "\n",
      "DescribeResult(nobs=1000, minmax=(0, 10), mean=5.181, variance=10.198437437437438, skewness=-0.05975251530361362, kurtosis=-1.2248581744093665) \n",
      "\n"
     ]
    }
   ],
   "source": [
    "print(stats.describe(x),'\\n')\n",
    "print(stats.describe(y),'\\n')\n",
    "print(stats.describe(z),'\\n')\n"
   ]
  },
  {
   "cell_type": "code",
   "execution_count": 23,
   "metadata": {},
   "outputs": [
    {
     "name": "stdout",
     "output_type": "stream",
     "text": [
      "DescribeResult(nobs=10, minmax=(0, 10), mean=4.3, variance=12.899999999999999, skewness=0.5617898633988133, kurtosis=-0.8785574228756725) \n",
      "\n",
      "DescribeResult(nobs=100, minmax=(0, 10), mean=5.7, variance=11.848484848484848, skewness=-0.37725723591017346, kurtosis=-1.199830805223235) \n",
      "\n",
      "DescribeResult(nobs=1000, minmax=(0, 10), mean=4.962, variance=10.008564564564566, skewness=0.006765269087148796, kurtosis=-1.1981808547553134) \n",
      "\n"
     ]
    }
   ],
   "source": [
    "for i in (10,100,1000):\n",
    "    print(stats.describe(np.random.choice(11,i)),'\\n')\n",
    "    \n",
    "    \n"
   ]
  },
  {
   "cell_type": "code",
   "execution_count": 24,
   "metadata": {},
   "outputs": [
    {
     "data": {
      "text/plain": [
       "[DescribeResult(nobs=10, minmax=(0, 10), mean=5.1, variance=12.322222222222225, skewness=0.07505781312569462, kurtosis=-1.1483924054441044),\n",
       " DescribeResult(nobs=100, minmax=(0, 10), mean=5.28, variance=10.183434343434342, skewness=-0.005326231038037165, kurtosis=-1.2612676433969654),\n",
       " DescribeResult(nobs=1000, minmax=(0, 10), mean=5.179, variance=10.717676676676678, skewness=-0.09785629549469661, kurtosis=-1.2776684390399748)]"
      ]
     },
     "execution_count": 24,
     "metadata": {},
     "output_type": "execute_result"
    }
   ],
   "source": [
    "[stats.describe(np.random.choice(11,i)) for i in (10,100,1000)]"
   ]
  },
  {
   "cell_type": "code",
   "execution_count": null,
   "metadata": {},
   "outputs": [],
   "source": []
  }
 ],
 "metadata": {
  "kernelspec": {
   "display_name": "Python 3",
   "language": "python",
   "name": "python3"
  }
 },
 "nbformat": 4,
 "nbformat_minor": 4
}
