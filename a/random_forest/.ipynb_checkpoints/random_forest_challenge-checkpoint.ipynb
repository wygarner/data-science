{
 "cells": [
  {
   "cell_type": "code",
   "execution_count": 21,
   "metadata": {
    "colab": {},
    "colab_type": "code",
    "id": "JOsKrr-kcSjL"
   },
   "outputs": [],
   "source": [
    "%matplotlib inline\n",
    "\n",
    "import matplotlib.pyplot as plt\n",
    "import numpy as np\n",
    "import pandas as pd\n",
    "\n",
    "from sklearn.compose import ColumnTransformer\n",
    "from sklearn.preprocessing import OneHotEncoder\n",
    "from sklearn.model_selection import train_test_split, cross_val_score, GridSearchCV\n",
    "from sklearn.tree import DecisionTreeRegressor\n",
    "from sklearn.ensemble import RandomForestRegressor\n",
    "\n",
    "import ssl\n",
    "ssl._create_default_https_context= ssl._create_unverified_context"
   ]
  },
  {
   "cell_type": "code",
   "execution_count": 2,
   "metadata": {
    "colab": {},
    "colab_type": "code",
    "id": "2vSkCX1rcSjN"
   },
   "outputs": [],
   "source": [
    "chicago = pd.read_csv('https://tf-assets-prod.s3.amazonaws.com/tf-curric/data-science/Current_Employee_Names__Salaries__and_Position_Titles.csv')"
   ]
  },
  {
   "cell_type": "code",
   "execution_count": 3,
   "metadata": {
    "colab": {},
    "colab_type": "code",
    "id": "PoyrvgWqcSjP",
    "outputId": "1189719f-2d1d-4b49-f2c3-7d77a8a7c0bb"
   },
   "outputs": [
    {
     "data": {
      "text/plain": [
       "(32658, 8)"
      ]
     },
     "execution_count": 3,
     "metadata": {},
     "output_type": "execute_result"
    }
   ],
   "source": [
    "chicago.head()\n",
    "chicago.shape"
   ]
  },
  {
   "cell_type": "code",
   "execution_count": 4,
   "metadata": {
    "colab": {},
    "colab_type": "code",
    "id": "X8mndXF2cSjR"
   },
   "outputs": [
    {
     "data": {
      "text/html": [
       "<div>\n",
       "<style scoped>\n",
       "    .dataframe tbody tr th:only-of-type {\n",
       "        vertical-align: middle;\n",
       "    }\n",
       "\n",
       "    .dataframe tbody tr th {\n",
       "        vertical-align: top;\n",
       "    }\n",
       "\n",
       "    .dataframe thead th {\n",
       "        text-align: right;\n",
       "    }\n",
       "</style>\n",
       "<table border=\"1\" class=\"dataframe\">\n",
       "  <thead>\n",
       "    <tr style=\"text-align: right;\">\n",
       "      <th></th>\n",
       "      <th>Name</th>\n",
       "      <th>Job Titles</th>\n",
       "      <th>Department</th>\n",
       "      <th>Full or Part-Time</th>\n",
       "      <th>Salary or Hourly</th>\n",
       "      <th>Typical Hours</th>\n",
       "      <th>Annual Salary</th>\n",
       "      <th>Hourly Rate</th>\n",
       "    </tr>\n",
       "  </thead>\n",
       "  <tbody>\n",
       "    <tr>\n",
       "      <th>0</th>\n",
       "      <td>ALLISON,  PAUL W</td>\n",
       "      <td>LIEUTENANT</td>\n",
       "      <td>FIRE</td>\n",
       "      <td>F</td>\n",
       "      <td>Salary</td>\n",
       "      <td>NaN</td>\n",
       "      <td>$107790.00</td>\n",
       "      <td>NaN</td>\n",
       "    </tr>\n",
       "    <tr>\n",
       "      <th>1</th>\n",
       "      <td>BRUNO,  KEVIN D</td>\n",
       "      <td>SERGEANT</td>\n",
       "      <td>POLICE</td>\n",
       "      <td>F</td>\n",
       "      <td>Salary</td>\n",
       "      <td>NaN</td>\n",
       "      <td>$104628.00</td>\n",
       "      <td>NaN</td>\n",
       "    </tr>\n",
       "    <tr>\n",
       "      <th>2</th>\n",
       "      <td>COOPER,  JOHN E</td>\n",
       "      <td>LIEUTENANT-EMT</td>\n",
       "      <td>FIRE</td>\n",
       "      <td>F</td>\n",
       "      <td>Salary</td>\n",
       "      <td>NaN</td>\n",
       "      <td>$114324.00</td>\n",
       "      <td>NaN</td>\n",
       "    </tr>\n",
       "    <tr>\n",
       "      <th>3</th>\n",
       "      <td>CRESPO,  VILMA I</td>\n",
       "      <td>STAFF ASST</td>\n",
       "      <td>LAW</td>\n",
       "      <td>F</td>\n",
       "      <td>Salary</td>\n",
       "      <td>NaN</td>\n",
       "      <td>$76932.00</td>\n",
       "      <td>NaN</td>\n",
       "    </tr>\n",
       "    <tr>\n",
       "      <th>4</th>\n",
       "      <td>DOLAN,  ROBERT J</td>\n",
       "      <td>SERGEANT</td>\n",
       "      <td>POLICE</td>\n",
       "      <td>F</td>\n",
       "      <td>Salary</td>\n",
       "      <td>NaN</td>\n",
       "      <td>$111474.00</td>\n",
       "      <td>NaN</td>\n",
       "    </tr>\n",
       "    <tr>\n",
       "      <th>...</th>\n",
       "      <td>...</td>\n",
       "      <td>...</td>\n",
       "      <td>...</td>\n",
       "      <td>...</td>\n",
       "      <td>...</td>\n",
       "      <td>...</td>\n",
       "      <td>...</td>\n",
       "      <td>...</td>\n",
       "    </tr>\n",
       "    <tr>\n",
       "      <th>32653</th>\n",
       "      <td>ZYGOWICZ,  PETER J</td>\n",
       "      <td>POLICE OFFICER</td>\n",
       "      <td>POLICE</td>\n",
       "      <td>F</td>\n",
       "      <td>Salary</td>\n",
       "      <td>NaN</td>\n",
       "      <td>$90024.00</td>\n",
       "      <td>NaN</td>\n",
       "    </tr>\n",
       "    <tr>\n",
       "      <th>32654</th>\n",
       "      <td>ZYLINSKA,  KATARZYNA</td>\n",
       "      <td>POLICE OFFICER</td>\n",
       "      <td>POLICE</td>\n",
       "      <td>F</td>\n",
       "      <td>Salary</td>\n",
       "      <td>NaN</td>\n",
       "      <td>$48078.00</td>\n",
       "      <td>NaN</td>\n",
       "    </tr>\n",
       "    <tr>\n",
       "      <th>32655</th>\n",
       "      <td>ZYMANTAS,  MARK E</td>\n",
       "      <td>POLICE OFFICER</td>\n",
       "      <td>POLICE</td>\n",
       "      <td>F</td>\n",
       "      <td>Salary</td>\n",
       "      <td>NaN</td>\n",
       "      <td>$87006.00</td>\n",
       "      <td>NaN</td>\n",
       "    </tr>\n",
       "    <tr>\n",
       "      <th>32656</th>\n",
       "      <td>ZYRKOWSKI,  CARLO E</td>\n",
       "      <td>POLICE OFFICER</td>\n",
       "      <td>POLICE</td>\n",
       "      <td>F</td>\n",
       "      <td>Salary</td>\n",
       "      <td>NaN</td>\n",
       "      <td>$93354.00</td>\n",
       "      <td>NaN</td>\n",
       "    </tr>\n",
       "    <tr>\n",
       "      <th>32657</th>\n",
       "      <td>ZYSKOWSKI,  DARIUSZ</td>\n",
       "      <td>CHIEF DATA BASE ANALYST</td>\n",
       "      <td>DoIT</td>\n",
       "      <td>F</td>\n",
       "      <td>Salary</td>\n",
       "      <td>NaN</td>\n",
       "      <td>$115932.00</td>\n",
       "      <td>NaN</td>\n",
       "    </tr>\n",
       "  </tbody>\n",
       "</table>\n",
       "<p>24775 rows × 8 columns</p>\n",
       "</div>"
      ],
      "text/plain": [
       "                        Name               Job Titles Department  \\\n",
       "0           ALLISON,  PAUL W               LIEUTENANT       FIRE   \n",
       "1            BRUNO,  KEVIN D                 SERGEANT     POLICE   \n",
       "2            COOPER,  JOHN E           LIEUTENANT-EMT       FIRE   \n",
       "3           CRESPO,  VILMA I               STAFF ASST        LAW   \n",
       "4           DOLAN,  ROBERT J                 SERGEANT     POLICE   \n",
       "...                      ...                      ...        ...   \n",
       "32653     ZYGOWICZ,  PETER J           POLICE OFFICER     POLICE   \n",
       "32654  ZYLINSKA,  KATARZYNA            POLICE OFFICER     POLICE   \n",
       "32655      ZYMANTAS,  MARK E           POLICE OFFICER     POLICE   \n",
       "32656    ZYRKOWSKI,  CARLO E           POLICE OFFICER     POLICE   \n",
       "32657   ZYSKOWSKI,  DARIUSZ   CHIEF DATA BASE ANALYST       DoIT   \n",
       "\n",
       "      Full or Part-Time Salary or Hourly  Typical Hours Annual Salary  \\\n",
       "0                     F           Salary            NaN    $107790.00   \n",
       "1                     F           Salary            NaN    $104628.00   \n",
       "2                     F           Salary            NaN    $114324.00   \n",
       "3                     F           Salary            NaN     $76932.00   \n",
       "4                     F           Salary            NaN    $111474.00   \n",
       "...                 ...              ...            ...           ...   \n",
       "32653                 F           Salary            NaN     $90024.00   \n",
       "32654                 F           Salary            NaN     $48078.00   \n",
       "32655                 F           Salary            NaN     $87006.00   \n",
       "32656                 F           Salary            NaN     $93354.00   \n",
       "32657                 F           Salary            NaN    $115932.00   \n",
       "\n",
       "      Hourly Rate  \n",
       "0             NaN  \n",
       "1             NaN  \n",
       "2             NaN  \n",
       "3             NaN  \n",
       "4             NaN  \n",
       "...           ...  \n",
       "32653         NaN  \n",
       "32654         NaN  \n",
       "32655         NaN  \n",
       "32656         NaN  \n",
       "32657         NaN  \n",
       "\n",
       "[24775 rows x 8 columns]"
      ]
     },
     "execution_count": 4,
     "metadata": {},
     "output_type": "execute_result"
    }
   ],
   "source": [
    "salary_df= chicago.loc[chicago['Salary or Hourly']=='Salary']\n",
    "salary_df"
   ]
  },
  {
   "cell_type": "code",
   "execution_count": 5,
   "metadata": {
    "colab": {},
    "colab_type": "code",
    "id": "RSpn997lcSjT",
    "scrolled": true
   },
   "outputs": [
    {
     "data": {
      "text/plain": [
       "POLICE OFFICER                                      9393\n",
       "FIREFIGHTER-EMT                                     1424\n",
       "SERGEANT                                            1118\n",
       "POLICE OFFICER (ASSIGNED AS DETECTIVE)               845\n",
       "FIREFIGHTER                                          564\n",
       "LIEUTENANT-EMT                                       398\n",
       "LIEUTENANT                                           356\n",
       "FIREFIGHTER-EMT (RECRUIT)                            319\n",
       "PARAMEDIC I/C                                        291\n",
       "FIREFIGHTER/PARAMEDIC                                278\n",
       "PARAMEDIC                                            252\n",
       "AVIATION SECURITY OFFICER                            251\n",
       "POLICE COMMUNICATIONS OPERATOR I                     245\n",
       "POLICE COMMUNICATIONS OPERATOR II                    227\n",
       "FIRE ENGINEER-EMT                                    226\n",
       "DETENTION AIDE                                       226\n",
       "ASST CORPORATION COUNSEL                             136\n",
       "SENIOR DATA ENTRY OPERATOR                           135\n",
       "CAPTAIN-EMT                                          132\n",
       "ADMINISTRATIVE ASST II                               131\n",
       "POLICE ADMINISTRATIVE CLERK                          131\n",
       "STAFF ASST                                           128\n",
       "POLICE OFFICER / FLD TRNG OFFICER                    126\n",
       "LIBRARIAN I                                          118\n",
       "FIRE ENGINEER                                        116\n",
       "ADMINISTRATIVE ASST III                              109\n",
       "PARKING ENFORCEMENT AIDE                             109\n",
       "FIREFIGHTER (PER ARBITRATORS AWARD)-PARAMEDIC        108\n",
       "STAFF ASST TO THE ALDERMAN                           107\n",
       "POLICE OFFICER (ASSIGNED AS EVIDENCE TECHNICIAN)      97\n",
       "Name: Job Titles, dtype: int64"
      ]
     },
     "execution_count": 5,
     "metadata": {},
     "output_type": "execute_result"
    }
   ],
   "source": [
    "job_titles= salary_df['Job Titles'].nunique()\n",
    "department_titles= salary_df['Department'].nunique()\n",
    "\n",
    "salary_df['Job Titles'].value_counts().head(30)"
   ]
  },
  {
   "cell_type": "code",
   "execution_count": 6,
   "metadata": {
    "colab": {},
    "colab_type": "code",
    "id": "1Y017CXqcSjV"
   },
   "outputs": [],
   "source": [
    "def one_hot_encode(X, encode_cols, index=None):\n",
    "    other_cols = [c for c in X.columns if c not in encode_cols]\n",
    "\n",
    "    ct = ColumnTransformer(\n",
    "        #   Format\n",
    "        #   [(\"name of step\", what_to_do(), [what columns to do it to])]\n",
    "        [(\"one hot encode\", OneHotEncoder(drop=\"first\", sparse=False), encode_cols)],\n",
    "        remainder=\"passthrough\",\n",
    "    )\n",
    "\n",
    "    ct.fit(X)\n",
    "\n",
    "    # This is not the flexible and definitely not the most\n",
    "    # readable way to get column names, a function would be better\n",
    "    encoded_names = ct.transformers_[0][1].get_feature_names()\n",
    "    encoded_names = list(encoded_names)\n",
    "\n",
    "    X_encoded = ct.transform(X)\n",
    "    X_encoded = pd.DataFrame(X_encoded, columns=encoded_names + other_cols, index=index)\n",
    "\n",
    "    return X_encoded"
   ]
  },
  {
   "cell_type": "code",
   "execution_count": 7,
   "metadata": {},
   "outputs": [],
   "source": [
    "salary_df= one_hot_encode(salary_df, encode_cols= ['Department'], index= salary_df.index)"
   ]
  },
  {
   "cell_type": "code",
   "execution_count": 8,
   "metadata": {
    "colab": {},
    "colab_type": "code",
    "id": "h-MaRcptcSjX"
   },
   "outputs": [
    {
     "data": {
      "text/plain": [
       "Index(['x0_ANIMAL CONTRL', 'x0_AVIATION', 'x0_BOARD OF ELECTION',\n",
       "       'x0_BOARD OF ETHICS', 'x0_BUDGET & MGMT', 'x0_BUILDINGS',\n",
       "       'x0_BUSINESS AFFAIRS', 'x0_CITY CLERK', 'x0_CITY COUNCIL',\n",
       "       'x0_COMMUNITY DEVELOPMENT', 'x0_COPA', 'x0_CULTURAL AFFAIRS',\n",
       "       'x0_DISABILITIES', 'x0_DoIT', 'x0_FAMILY & SUPPORT', 'x0_FINANCE',\n",
       "       'x0_FIRE', 'x0_GENERAL SERVICES', 'x0_HEALTH', 'x0_HUMAN RELATIONS',\n",
       "       'x0_HUMAN RESOURCES', 'x0_INSPECTOR GEN', 'x0_IPRA', 'x0_LAW',\n",
       "       'x0_LICENSE APPL COMM', 'x0_MAYOR'S OFFICE', 'x0_OEMC', 'x0_POLICE',\n",
       "       'x0_POLICE BOARD', 'x0_PROCUREMENT', 'x0_PUBLIC LIBRARY',\n",
       "       'x0_STREETS & SAN', 'x0_TRANSPORTN', 'x0_TREASURER', 'x0_WATER MGMNT',\n",
       "       'Name', 'Job Titles', 'Full or Part-Time', 'Salary or Hourly',\n",
       "       'Typical Hours', 'Annual Salary', 'Hourly Rate'],\n",
       "      dtype='object')"
      ]
     },
     "execution_count": 8,
     "metadata": {},
     "output_type": "execute_result"
    }
   ],
   "source": [
    "salary_df.columns"
   ]
  },
  {
   "cell_type": "code",
   "execution_count": 9,
   "metadata": {},
   "outputs": [],
   "source": [
    "salary_df= salary_df.drop(columns=['Name', 'Job Titles', 'Full or Part-Time', 'Salary or Hourly',\n",
    "       'Typical Hours', 'Hourly Rate'])"
   ]
  },
  {
   "cell_type": "code",
   "execution_count": 10,
   "metadata": {},
   "outputs": [
    {
     "data": {
      "text/plain": [
       "Index(['x0_ANIMAL CONTRL', 'x0_AVIATION', 'x0_BOARD OF ELECTION',\n",
       "       'x0_BOARD OF ETHICS', 'x0_BUDGET & MGMT', 'x0_BUILDINGS',\n",
       "       'x0_BUSINESS AFFAIRS', 'x0_CITY CLERK', 'x0_CITY COUNCIL',\n",
       "       'x0_COMMUNITY DEVELOPMENT', 'x0_COPA', 'x0_CULTURAL AFFAIRS',\n",
       "       'x0_DISABILITIES', 'x0_DoIT', 'x0_FAMILY & SUPPORT', 'x0_FINANCE',\n",
       "       'x0_FIRE', 'x0_GENERAL SERVICES', 'x0_HEALTH', 'x0_HUMAN RELATIONS',\n",
       "       'x0_HUMAN RESOURCES', 'x0_INSPECTOR GEN', 'x0_IPRA', 'x0_LAW',\n",
       "       'x0_LICENSE APPL COMM', 'x0_MAYOR'S OFFICE', 'x0_OEMC', 'x0_POLICE',\n",
       "       'x0_POLICE BOARD', 'x0_PROCUREMENT', 'x0_PUBLIC LIBRARY',\n",
       "       'x0_STREETS & SAN', 'x0_TRANSPORTN', 'x0_TREASURER', 'x0_WATER MGMNT',\n",
       "       'Annual Salary'],\n",
       "      dtype='object')"
      ]
     },
     "execution_count": 10,
     "metadata": {},
     "output_type": "execute_result"
    }
   ],
   "source": [
    "salary_df.columns"
   ]
  },
  {
   "cell_type": "code",
   "execution_count": 11,
   "metadata": {},
   "outputs": [],
   "source": [
    "salary_df['Annual Salary']= salary_df['Annual Salary'].str.strip('$')"
   ]
  },
  {
   "cell_type": "code",
   "execution_count": 12,
   "metadata": {
    "colab": {},
    "colab_type": "code",
    "id": "W34P6H5KcSjZ"
   },
   "outputs": [],
   "source": [
    "for col in salary_df.columns:\n",
    "    salary_df[col]= pd.to_numeric(salary_df[col])"
   ]
  },
  {
   "cell_type": "code",
   "execution_count": 13,
   "metadata": {
    "scrolled": true
   },
   "outputs": [
    {
     "name": "stdout",
     "output_type": "stream",
     "text": [
      "<class 'pandas.core.frame.DataFrame'>\n",
      "Int64Index: 24775 entries, 0 to 32657\n",
      "Data columns (total 36 columns):\n",
      " #   Column                    Non-Null Count  Dtype  \n",
      "---  ------                    --------------  -----  \n",
      " 0   x0_ANIMAL CONTRL          24775 non-null  float64\n",
      " 1   x0_AVIATION               24775 non-null  float64\n",
      " 2   x0_BOARD OF ELECTION      24775 non-null  float64\n",
      " 3   x0_BOARD OF ETHICS        24775 non-null  float64\n",
      " 4   x0_BUDGET & MGMT          24775 non-null  float64\n",
      " 5   x0_BUILDINGS              24775 non-null  float64\n",
      " 6   x0_BUSINESS AFFAIRS       24775 non-null  float64\n",
      " 7   x0_CITY CLERK             24775 non-null  float64\n",
      " 8   x0_CITY COUNCIL           24775 non-null  float64\n",
      " 9   x0_COMMUNITY DEVELOPMENT  24775 non-null  float64\n",
      " 10  x0_COPA                   24775 non-null  float64\n",
      " 11  x0_CULTURAL AFFAIRS       24775 non-null  float64\n",
      " 12  x0_DISABILITIES           24775 non-null  float64\n",
      " 13  x0_DoIT                   24775 non-null  float64\n",
      " 14  x0_FAMILY & SUPPORT       24775 non-null  float64\n",
      " 15  x0_FINANCE                24775 non-null  float64\n",
      " 16  x0_FIRE                   24775 non-null  float64\n",
      " 17  x0_GENERAL SERVICES       24775 non-null  float64\n",
      " 18  x0_HEALTH                 24775 non-null  float64\n",
      " 19  x0_HUMAN RELATIONS        24775 non-null  float64\n",
      " 20  x0_HUMAN RESOURCES        24775 non-null  float64\n",
      " 21  x0_INSPECTOR GEN          24775 non-null  float64\n",
      " 22  x0_IPRA                   24775 non-null  float64\n",
      " 23  x0_LAW                    24775 non-null  float64\n",
      " 24  x0_LICENSE APPL COMM      24775 non-null  float64\n",
      " 25  x0_MAYOR'S OFFICE         24775 non-null  float64\n",
      " 26  x0_OEMC                   24775 non-null  float64\n",
      " 27  x0_POLICE                 24775 non-null  float64\n",
      " 28  x0_POLICE BOARD           24775 non-null  float64\n",
      " 29  x0_PROCUREMENT            24775 non-null  float64\n",
      " 30  x0_PUBLIC LIBRARY         24775 non-null  float64\n",
      " 31  x0_STREETS & SAN          24775 non-null  float64\n",
      " 32  x0_TRANSPORTN             24775 non-null  float64\n",
      " 33  x0_TREASURER              24775 non-null  float64\n",
      " 34  x0_WATER MGMNT            24775 non-null  float64\n",
      " 35  Annual Salary             24775 non-null  float64\n",
      "dtypes: float64(36)\n",
      "memory usage: 7.0 MB\n"
     ]
    }
   ],
   "source": [
    "salary_df.info()"
   ]
  },
  {
   "cell_type": "code",
   "execution_count": 14,
   "metadata": {
    "colab": {},
    "colab_type": "code",
    "id": "_s85YxVZcSjb"
   },
   "outputs": [],
   "source": [
    "X= salary_df.drop(columns=['Annual Salary'])\n",
    "y= salary_df['Annual Salary']\n",
    "\n",
    "X_train, X_test, y_train, y_test = train_test_split(X, y, test_size=0.2, random_state=1)"
   ]
  },
  {
   "cell_type": "code",
   "execution_count": 17,
   "metadata": {
    "colab": {},
    "colab_type": "code",
    "id": "OkLxsJCwcSjd"
   },
   "outputs": [
    {
     "name": "stdout",
     "output_type": "stream",
     "text": [
      "Fitting 5 folds for each of 48 candidates, totalling 240 fits\n"
     ]
    },
    {
     "name": "stderr",
     "output_type": "stream",
     "text": [
      "[Parallel(n_jobs=1)]: Using backend SequentialBackend with 1 concurrent workers.\n",
      "[Parallel(n_jobs=1)]: Done 240 out of 240 | elapsed:    7.6s finished\n"
     ]
    },
    {
     "data": {
      "text/plain": [
       "GridSearchCV(cv=None, error_score=nan,\n",
       "             estimator=DecisionTreeRegressor(ccp_alpha=0.0, criterion='mse',\n",
       "                                             max_depth=None, max_features=None,\n",
       "                                             max_leaf_nodes=None,\n",
       "                                             min_impurity_decrease=0.0,\n",
       "                                             min_impurity_split=None,\n",
       "                                             min_samples_leaf=1,\n",
       "                                             min_samples_split=2,\n",
       "                                             min_weight_fraction_leaf=0.0,\n",
       "                                             presort='deprecated',\n",
       "                                             random_state=None,\n",
       "                                             splitter='best'),\n",
       "             iid='deprecated', n_jobs=None,\n",
       "             param_grid={'max_depth': [20, 30, 40, 50],\n",
       "                         'max_leaf_nodes': [30, 40, 50, 60],\n",
       "                         'min_samples_leaf': [1, 3, 5]},\n",
       "             pre_dispatch='2*n_jobs', refit=True, return_train_score=False,\n",
       "             scoring=None, verbose=1)"
      ]
     },
     "execution_count": 17,
     "metadata": {},
     "output_type": "execute_result"
    }
   ],
   "source": [
    "grid= {'max_depth': [20,30,40,50],'max_leaf_nodes': [30,40,50,60],'min_samples_leaf':[1,3,5]}\n",
    "model= GridSearchCV(DecisionTreeRegressor(), grid, verbose=1)\n",
    "model.fit(X_train, y_train)"
   ]
  },
  {
   "cell_type": "code",
   "execution_count": 18,
   "metadata": {},
   "outputs": [
    {
     "data": {
      "text/plain": [
       "1"
      ]
     },
     "execution_count": 18,
     "metadata": {},
     "output_type": "execute_result"
    }
   ],
   "source": [
    "model.best_estimator_.min_samples_leaf"
   ]
  },
  {
   "cell_type": "code",
   "execution_count": 19,
   "metadata": {
    "colab": {},
    "colab_type": "code",
    "id": "APiJlRhIcSjf"
   },
   "outputs": [
    {
     "name": "stdout",
     "output_type": "stream",
     "text": [
      "train_score: 0.14226037540462222\n",
      "test_score: 0.15621225953167028\n"
     ]
    }
   ],
   "source": [
    "train_score = model.score(X_train, y_train)\n",
    "test_score = model.score(X_test, y_test)\n",
    "\n",
    "print(f\"train_score: {train_score}\")\n",
    "print(f\"test_score: {test_score}\")"
   ]
  },
  {
   "cell_type": "code",
   "execution_count": 28,
   "metadata": {},
   "outputs": [
    {
     "name": "stdout",
     "output_type": "stream",
     "text": [
      "Fitting 2 folds for each of 27 candidates, totalling 54 fits\n"
     ]
    },
    {
     "name": "stderr",
     "output_type": "stream",
     "text": [
      "[Parallel(n_jobs=1)]: Using backend SequentialBackend with 1 concurrent workers.\n",
      "[Parallel(n_jobs=1)]: Done  54 out of  54 | elapsed:  3.7min finished\n"
     ]
    },
    {
     "data": {
      "text/plain": [
       "GridSearchCV(cv=2, error_score=nan,\n",
       "             estimator=RandomForestRegressor(bootstrap=True, ccp_alpha=0.0,\n",
       "                                             criterion='mse', max_depth=None,\n",
       "                                             max_features='auto',\n",
       "                                             max_leaf_nodes=None,\n",
       "                                             max_samples=None,\n",
       "                                             min_impurity_decrease=0.0,\n",
       "                                             min_impurity_split=None,\n",
       "                                             min_samples_leaf=1,\n",
       "                                             min_samples_split=2,\n",
       "                                             min_weight_fraction_leaf=0.0,\n",
       "                                             n_estimators=100, n_jobs=None,\n",
       "                                             oob_score=False, random_state=None,\n",
       "                                             verbose=0, warm_start=False),\n",
       "             iid='deprecated', n_jobs=None,\n",
       "             param_grid={'max_depth': [50, 100, 150],\n",
       "                         'min_samples_leaf': [0.01, 0.1, 1],\n",
       "                         'n_estimators': [150, 500, 1000]},\n",
       "             pre_dispatch='2*n_jobs', refit=True, return_train_score=False,\n",
       "             scoring=None, verbose=1)"
      ]
     },
     "execution_count": 28,
     "metadata": {},
     "output_type": "execute_result"
    }
   ],
   "source": [
    "grid = {\n",
    "    'n_estimators': [150,500,1000],\n",
    "    'max_depth': [50,100,150], \n",
    "    'min_samples_leaf': [.01,.1,1],\n",
    "}\n",
    "\n",
    "model = GridSearchCV(RandomForestRegressor(), grid, verbose=1, cv=2)\n",
    "model.fit(X_train, y_train)"
   ]
  },
  {
   "cell_type": "code",
   "execution_count": 29,
   "metadata": {},
   "outputs": [
    {
     "data": {
      "text/plain": [
       "{'max_depth': 100, 'min_samples_leaf': 1, 'n_estimators': 1000}"
      ]
     },
     "execution_count": 29,
     "metadata": {},
     "output_type": "execute_result"
    }
   ],
   "source": [
    "model.best_params_"
   ]
  },
  {
   "cell_type": "code",
   "execution_count": 30,
   "metadata": {},
   "outputs": [
    {
     "name": "stdout",
     "output_type": "stream",
     "text": [
      "train_score: 0.14233249465346576\n",
      "test_score: 0.1564883871611945\n"
     ]
    }
   ],
   "source": [
    "train_score = model.score(X_train, y_train)\n",
    "test_score = model.score(X_test, y_test)\n",
    "\n",
    "print(f\"train_score: {train_score}\")\n",
    "print(f\"test_score: {test_score}\")"
   ]
  },
  {
   "cell_type": "code",
   "execution_count": 25,
   "metadata": {
    "scrolled": true
   },
   "outputs": [
    {
     "data": {
      "text/plain": [
       "['__abstractmethods__',\n",
       " '__class__',\n",
       " '__delattr__',\n",
       " '__dict__',\n",
       " '__dir__',\n",
       " '__doc__',\n",
       " '__eq__',\n",
       " '__format__',\n",
       " '__ge__',\n",
       " '__getattribute__',\n",
       " '__getstate__',\n",
       " '__gt__',\n",
       " '__hash__',\n",
       " '__init__',\n",
       " '__init_subclass__',\n",
       " '__le__',\n",
       " '__lt__',\n",
       " '__module__',\n",
       " '__ne__',\n",
       " '__new__',\n",
       " '__reduce__',\n",
       " '__reduce_ex__',\n",
       " '__repr__',\n",
       " '__setattr__',\n",
       " '__setstate__',\n",
       " '__sizeof__',\n",
       " '__str__',\n",
       " '__subclasshook__',\n",
       " '__weakref__',\n",
       " '_abc_impl',\n",
       " '_check_is_fitted',\n",
       " '_estimator_type',\n",
       " '_format_results',\n",
       " '_get_param_names',\n",
       " '_get_tags',\n",
       " '_more_tags',\n",
       " '_pairwise',\n",
       " '_required_parameters',\n",
       " '_run_search',\n",
       " 'best_estimator_',\n",
       " 'best_index_',\n",
       " 'best_params_',\n",
       " 'best_score_',\n",
       " 'classes_',\n",
       " 'cv',\n",
       " 'cv_results_',\n",
       " 'decision_function',\n",
       " 'error_score',\n",
       " 'estimator',\n",
       " 'fit',\n",
       " 'get_params',\n",
       " 'iid',\n",
       " 'inverse_transform',\n",
       " 'multimetric_',\n",
       " 'n_jobs',\n",
       " 'n_splits_',\n",
       " 'param_grid',\n",
       " 'pre_dispatch',\n",
       " 'predict',\n",
       " 'predict_log_proba',\n",
       " 'predict_proba',\n",
       " 'refit',\n",
       " 'refit_time_',\n",
       " 'return_train_score',\n",
       " 'score',\n",
       " 'scorer_',\n",
       " 'scoring',\n",
       " 'set_params',\n",
       " 'transform',\n",
       " 'verbose']"
      ]
     },
     "execution_count": 25,
     "metadata": {},
     "output_type": "execute_result"
    }
   ],
   "source": [
    "dir(model)"
   ]
  },
  {
   "cell_type": "code",
   "execution_count": null,
   "metadata": {},
   "outputs": [],
   "source": []
  }
 ],
 "metadata": {
  "colab": {
   "collapsed_sections": [],
   "name": "Day 29 Lecture 1 Assignment.ipynb",
   "provenance": []
  },
  "kernelspec": {
   "display_name": "Python 3",
   "language": "python",
   "name": "python3"
  }
 },
 "nbformat": 4,
 "nbformat_minor": 1
}
