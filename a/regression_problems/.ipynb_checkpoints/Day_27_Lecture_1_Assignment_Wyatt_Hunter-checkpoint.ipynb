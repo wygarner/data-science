{
 "cells": [
  {
   "cell_type": "markdown",
   "metadata": {
    "colab_type": "text",
    "id": "NQ9CFZorWMLh"
   },
   "source": [
    "## Day 27 Lecture 1 Assignment\n",
    "\n",
    "In this assignment, we will learn statistical significance in linear models. We will use the google play store dataset loaded below and analyze the regression from this dataset."
   ]
  },
  {
   "cell_type": "code",
   "execution_count": 0,
   "metadata": {
    "colab": {},
    "colab_type": "code",
    "id": "Jnh84h3tWMLi"
   },
   "outputs": [],
   "source": [
    "%matplotlib inline\n",
    "\n",
    "import matplotlib.pyplot as plt\n",
    "import numpy as np\n",
    "import pandas as pd"
   ]
  },
  {
   "cell_type": "code",
   "execution_count": 0,
   "metadata": {
    "colab": {},
    "colab_type": "code",
    "id": "v2e0QnpnWMLk"
   },
   "outputs": [],
   "source": [
    "reviews = pd.read_csv('https://tf-assets-prod.s3.amazonaws.com/tf-curric/data-science/googleplaystore.csv')"
   ]
  },
  {
   "cell_type": "code",
   "execution_count": 0,
   "metadata": {
    "colab": {
     "base_uri": "https://localhost:8080/",
     "height": 204
    },
    "colab_type": "code",
    "id": "JflXCj5CWMLm",
    "outputId": "dd752dbc-c758-4544-d27f-4f8d29a8e3fb"
   },
   "outputs": [
    {
     "data": {
      "text/html": [
       "<div>\n",
       "<style scoped>\n",
       "    .dataframe tbody tr th:only-of-type {\n",
       "        vertical-align: middle;\n",
       "    }\n",
       "\n",
       "    .dataframe tbody tr th {\n",
       "        vertical-align: top;\n",
       "    }\n",
       "\n",
       "    .dataframe thead th {\n",
       "        text-align: right;\n",
       "    }\n",
       "</style>\n",
       "<table border=\"1\" class=\"dataframe\">\n",
       "  <thead>\n",
       "    <tr style=\"text-align: right;\">\n",
       "      <th></th>\n",
       "      <th>App</th>\n",
       "      <th>Category</th>\n",
       "      <th>Rating</th>\n",
       "      <th>Reviews</th>\n",
       "      <th>Size</th>\n",
       "      <th>Installs</th>\n",
       "      <th>Type</th>\n",
       "      <th>Price</th>\n",
       "      <th>Content Rating</th>\n",
       "      <th>Genres</th>\n",
       "      <th>Last Updated</th>\n",
       "      <th>Current Ver</th>\n",
       "      <th>Android Ver</th>\n",
       "    </tr>\n",
       "  </thead>\n",
       "  <tbody>\n",
       "    <tr>\n",
       "      <th>0</th>\n",
       "      <td>Photo Editor &amp; Candy Camera &amp; Grid &amp; ScrapBook</td>\n",
       "      <td>ART_AND_DESIGN</td>\n",
       "      <td>4.1</td>\n",
       "      <td>159</td>\n",
       "      <td>19M</td>\n",
       "      <td>10,000+</td>\n",
       "      <td>Free</td>\n",
       "      <td>0</td>\n",
       "      <td>Everyone</td>\n",
       "      <td>Art &amp; Design</td>\n",
       "      <td>January 7, 2018</td>\n",
       "      <td>1.0.0</td>\n",
       "      <td>4.0.3 and up</td>\n",
       "    </tr>\n",
       "    <tr>\n",
       "      <th>1</th>\n",
       "      <td>Coloring book moana</td>\n",
       "      <td>ART_AND_DESIGN</td>\n",
       "      <td>3.9</td>\n",
       "      <td>967</td>\n",
       "      <td>14M</td>\n",
       "      <td>500,000+</td>\n",
       "      <td>Free</td>\n",
       "      <td>0</td>\n",
       "      <td>Everyone</td>\n",
       "      <td>Art &amp; Design;Pretend Play</td>\n",
       "      <td>January 15, 2018</td>\n",
       "      <td>2.0.0</td>\n",
       "      <td>4.0.3 and up</td>\n",
       "    </tr>\n",
       "    <tr>\n",
       "      <th>2</th>\n",
       "      <td>U Launcher Lite – FREE Live Cool Themes, Hide ...</td>\n",
       "      <td>ART_AND_DESIGN</td>\n",
       "      <td>4.7</td>\n",
       "      <td>87510</td>\n",
       "      <td>8.7M</td>\n",
       "      <td>5,000,000+</td>\n",
       "      <td>Free</td>\n",
       "      <td>0</td>\n",
       "      <td>Everyone</td>\n",
       "      <td>Art &amp; Design</td>\n",
       "      <td>August 1, 2018</td>\n",
       "      <td>1.2.4</td>\n",
       "      <td>4.0.3 and up</td>\n",
       "    </tr>\n",
       "    <tr>\n",
       "      <th>3</th>\n",
       "      <td>Sketch - Draw &amp; Paint</td>\n",
       "      <td>ART_AND_DESIGN</td>\n",
       "      <td>4.5</td>\n",
       "      <td>215644</td>\n",
       "      <td>25M</td>\n",
       "      <td>50,000,000+</td>\n",
       "      <td>Free</td>\n",
       "      <td>0</td>\n",
       "      <td>Teen</td>\n",
       "      <td>Art &amp; Design</td>\n",
       "      <td>June 8, 2018</td>\n",
       "      <td>Varies with device</td>\n",
       "      <td>4.2 and up</td>\n",
       "    </tr>\n",
       "    <tr>\n",
       "      <th>4</th>\n",
       "      <td>Pixel Draw - Number Art Coloring Book</td>\n",
       "      <td>ART_AND_DESIGN</td>\n",
       "      <td>4.3</td>\n",
       "      <td>967</td>\n",
       "      <td>2.8M</td>\n",
       "      <td>100,000+</td>\n",
       "      <td>Free</td>\n",
       "      <td>0</td>\n",
       "      <td>Everyone</td>\n",
       "      <td>Art &amp; Design;Creativity</td>\n",
       "      <td>June 20, 2018</td>\n",
       "      <td>1.1</td>\n",
       "      <td>4.4 and up</td>\n",
       "    </tr>\n",
       "  </tbody>\n",
       "</table>\n",
       "</div>"
      ],
      "text/plain": [
       "                                                 App  ...   Android Ver\n",
       "0     Photo Editor & Candy Camera & Grid & ScrapBook  ...  4.0.3 and up\n",
       "1                                Coloring book moana  ...  4.0.3 and up\n",
       "2  U Launcher Lite – FREE Live Cool Themes, Hide ...  ...  4.0.3 and up\n",
       "3                              Sketch - Draw & Paint  ...    4.2 and up\n",
       "4              Pixel Draw - Number Art Coloring Book  ...    4.4 and up\n",
       "\n",
       "[5 rows x 13 columns]"
      ]
     },
     "execution_count": 7,
     "metadata": {
      "tags": []
     },
     "output_type": "execute_result"
    }
   ],
   "source": [
    "reviews.head()"
   ]
  },
  {
   "cell_type": "markdown",
   "metadata": {
    "colab_type": "text",
    "id": "RD7HAGooWMLo"
   },
   "source": [
    "We will predict app ratings using other features describing the app. To use these features, we must clean the data.\n",
    "\n",
    "Start by creating dummy variables out of the type and content rating columns."
   ]
  },
  {
   "cell_type": "code",
   "execution_count": 0,
   "metadata": {
    "colab": {
     "base_uri": "https://localhost:8080/",
     "height": 85
    },
    "colab_type": "code",
    "id": "tf-gD95RO6Dv",
    "outputId": "c68ff839-25c2-4299-9990-0a8df29baf61"
   },
   "outputs": [
    {
     "data": {
      "text/plain": [
       "Index(['App', 'Category', 'Rating', 'Reviews', 'Size', 'Installs', 'Type',\n",
       "       'Price', 'Content Rating', 'Genres', 'Last Updated', 'Current Ver',\n",
       "       'Android Ver'],\n",
       "      dtype='object')"
      ]
     },
     "execution_count": 8,
     "metadata": {
      "tags": []
     },
     "output_type": "execute_result"
    }
   ],
   "source": [
    "reviews.columns"
   ]
  },
  {
   "cell_type": "code",
   "execution_count": 0,
   "metadata": {
    "colab": {
     "base_uri": "https://localhost:8080/",
     "height": 119
    },
    "colab_type": "code",
    "id": "vNbj5FIGWMLp",
    "outputId": "134f7200-4e3b-45ef-8719-3f222f22dd84"
   },
   "outputs": [
    {
     "data": {
      "text/plain": [
       "Index(['App', 'Category', 'Rating', 'Reviews', 'Size', 'Installs', 'Price',\n",
       "       'Genres', 'Last Updated', 'Current Ver', 'Android Ver', 'Type_Free',\n",
       "       'Type_Paid', 'Content Rating_Everyone', 'Content Rating_Everyone 10+',\n",
       "       'Content Rating_Mature 17+', 'Content Rating_Teen',\n",
       "       'Content Rating_Unrated'],\n",
       "      dtype='object')"
      ]
     },
     "execution_count": 9,
     "metadata": {
      "tags": []
     },
     "output_type": "execute_result"
    }
   ],
   "source": [
    "# Create dummy variables out of the 'Type' and 'Content Rating' columns using pandas.get_dummies\n",
    "\n",
    "reviews = pd.get_dummies(reviews, columns=['Type', 'Content Rating'], drop_first=True)\n",
    "reviews.columns"
   ]
  },
  {
   "cell_type": "markdown",
   "metadata": {
    "colab_type": "text",
    "id": "DKtcnNARWMLq"
   },
   "source": [
    "Next, check for missing values and remove all rows containing missing values"
   ]
  },
  {
   "cell_type": "code",
   "execution_count": 0,
   "metadata": {
    "colab": {
     "base_uri": "https://localhost:8080/",
     "height": 340
    },
    "colab_type": "code",
    "id": "jPxJSCQTWMLr",
    "outputId": "b1f8570e-529c-4b07-93bb-c43cbe66fa25"
   },
   "outputs": [
    {
     "data": {
      "text/plain": [
       "App                            0.000000\n",
       "Category                       0.000000\n",
       "Rating                         0.001254\n",
       "Reviews                        0.000000\n",
       "Size                           0.000000\n",
       "Installs                       0.000000\n",
       "Price                          0.000000\n",
       "Genres                         0.000000\n",
       "Last Updated                   0.000000\n",
       "Current Ver                    0.000007\n",
       "Android Ver                    0.000003\n",
       "Type_Free                      0.000000\n",
       "Type_Paid                      0.000000\n",
       "Content Rating_Everyone        0.000000\n",
       "Content Rating_Everyone 10+    0.000000\n",
       "Content Rating_Mature 17+      0.000000\n",
       "Content Rating_Teen            0.000000\n",
       "Content Rating_Unrated         0.000000\n",
       "dtype: float64"
      ]
     },
     "execution_count": 10,
     "metadata": {
      "tags": []
     },
     "output_type": "execute_result"
    }
   ],
   "source": [
    "reviews.isna().mean()*100/reviews.isna().count()"
   ]
  },
  {
   "cell_type": "code",
   "execution_count": 0,
   "metadata": {
    "colab": {
     "base_uri": "https://localhost:8080/",
     "height": 340
    },
    "colab_type": "code",
    "id": "9anNopjfWMLs",
    "outputId": "3a6871ac-04a2-45a6-84be-4bdfb7c343cd"
   },
   "outputs": [
    {
     "data": {
      "text/plain": [
       "App                            0.0\n",
       "Category                       0.0\n",
       "Rating                         0.0\n",
       "Reviews                        0.0\n",
       "Size                           0.0\n",
       "Installs                       0.0\n",
       "Price                          0.0\n",
       "Genres                         0.0\n",
       "Last Updated                   0.0\n",
       "Current Ver                    0.0\n",
       "Android Ver                    0.0\n",
       "Type_Free                      0.0\n",
       "Type_Paid                      0.0\n",
       "Content Rating_Everyone        0.0\n",
       "Content Rating_Everyone 10+    0.0\n",
       "Content Rating_Mature 17+      0.0\n",
       "Content Rating_Teen            0.0\n",
       "Content Rating_Unrated         0.0\n",
       "dtype: float64"
      ]
     },
     "execution_count": 13,
     "metadata": {
      "tags": []
     },
     "output_type": "execute_result"
    }
   ],
   "source": [
    "# We have very low missing value counts, so we drop every row with missing values\n",
    "reviews = reviews.dropna()\n",
    "reviews.isna().mean()*100/reviews.isna().count()"
   ]
  },
  {
   "cell_type": "markdown",
   "metadata": {
    "colab_type": "text",
    "id": "ieg0JuQlWMLu"
   },
   "source": [
    "To simplify, we will remove the app, category, size, installs, genres, last updated, current ver, and android ver columns. "
   ]
  },
  {
   "cell_type": "code",
   "execution_count": 0,
   "metadata": {
    "colab": {
     "base_uri": "https://localhost:8080/",
     "height": 204
    },
    "colab_type": "code",
    "id": "RNxRhhpuWMLu",
    "outputId": "247f3362-4625-40d8-aade-0e3092e02820"
   },
   "outputs": [
    {
     "data": {
      "text/html": [
       "<div>\n",
       "<style scoped>\n",
       "    .dataframe tbody tr th:only-of-type {\n",
       "        vertical-align: middle;\n",
       "    }\n",
       "\n",
       "    .dataframe tbody tr th {\n",
       "        vertical-align: top;\n",
       "    }\n",
       "\n",
       "    .dataframe thead th {\n",
       "        text-align: right;\n",
       "    }\n",
       "</style>\n",
       "<table border=\"1\" class=\"dataframe\">\n",
       "  <thead>\n",
       "    <tr style=\"text-align: right;\">\n",
       "      <th></th>\n",
       "      <th>Rating</th>\n",
       "      <th>Reviews</th>\n",
       "      <th>Price</th>\n",
       "      <th>Type_Free</th>\n",
       "      <th>Type_Paid</th>\n",
       "      <th>Content Rating_Everyone</th>\n",
       "      <th>Content Rating_Everyone 10+</th>\n",
       "      <th>Content Rating_Mature 17+</th>\n",
       "      <th>Content Rating_Teen</th>\n",
       "      <th>Content Rating_Unrated</th>\n",
       "    </tr>\n",
       "  </thead>\n",
       "  <tbody>\n",
       "    <tr>\n",
       "      <th>0</th>\n",
       "      <td>4.1</td>\n",
       "      <td>159</td>\n",
       "      <td>0</td>\n",
       "      <td>1</td>\n",
       "      <td>0</td>\n",
       "      <td>1</td>\n",
       "      <td>0</td>\n",
       "      <td>0</td>\n",
       "      <td>0</td>\n",
       "      <td>0</td>\n",
       "    </tr>\n",
       "    <tr>\n",
       "      <th>1</th>\n",
       "      <td>3.9</td>\n",
       "      <td>967</td>\n",
       "      <td>0</td>\n",
       "      <td>1</td>\n",
       "      <td>0</td>\n",
       "      <td>1</td>\n",
       "      <td>0</td>\n",
       "      <td>0</td>\n",
       "      <td>0</td>\n",
       "      <td>0</td>\n",
       "    </tr>\n",
       "    <tr>\n",
       "      <th>2</th>\n",
       "      <td>4.7</td>\n",
       "      <td>87510</td>\n",
       "      <td>0</td>\n",
       "      <td>1</td>\n",
       "      <td>0</td>\n",
       "      <td>1</td>\n",
       "      <td>0</td>\n",
       "      <td>0</td>\n",
       "      <td>0</td>\n",
       "      <td>0</td>\n",
       "    </tr>\n",
       "    <tr>\n",
       "      <th>3</th>\n",
       "      <td>4.5</td>\n",
       "      <td>215644</td>\n",
       "      <td>0</td>\n",
       "      <td>1</td>\n",
       "      <td>0</td>\n",
       "      <td>0</td>\n",
       "      <td>0</td>\n",
       "      <td>0</td>\n",
       "      <td>1</td>\n",
       "      <td>0</td>\n",
       "    </tr>\n",
       "    <tr>\n",
       "      <th>4</th>\n",
       "      <td>4.3</td>\n",
       "      <td>967</td>\n",
       "      <td>0</td>\n",
       "      <td>1</td>\n",
       "      <td>0</td>\n",
       "      <td>1</td>\n",
       "      <td>0</td>\n",
       "      <td>0</td>\n",
       "      <td>0</td>\n",
       "      <td>0</td>\n",
       "    </tr>\n",
       "  </tbody>\n",
       "</table>\n",
       "</div>"
      ],
      "text/plain": [
       "   Rating Reviews  ... Content Rating_Teen  Content Rating_Unrated\n",
       "0     4.1     159  ...                   0                       0\n",
       "1     3.9     967  ...                   0                       0\n",
       "2     4.7   87510  ...                   0                       0\n",
       "3     4.5  215644  ...                   1                       0\n",
       "4     4.3     967  ...                   0                       0\n",
       "\n",
       "[5 rows x 10 columns]"
      ]
     },
     "execution_count": 14,
     "metadata": {
      "tags": []
     },
     "output_type": "execute_result"
    }
   ],
   "source": [
    "reviews = reviews.drop(columns=['App', 'Category', 'Size', 'Installs', 'Genres', 'Last Updated', 'Current Ver', 'Android Ver'])\n",
    "reviews.head()"
   ]
  },
  {
   "cell_type": "markdown",
   "metadata": {
    "colab_type": "text",
    "id": "0SeSNeEYWMLw"
   },
   "source": [
    "Next, check that all the columns are of numeric type and change the type of columns that are not numeric. If coercing to numeric causes missing values, remove those rows containing missing values from our dataset."
   ]
  },
  {
   "cell_type": "code",
   "execution_count": 0,
   "metadata": {
    "colab": {
     "base_uri": "https://localhost:8080/",
     "height": 306
    },
    "colab_type": "code",
    "id": "qXqE-KMvWMLw",
    "outputId": "89781f55-3980-4458-e86a-372c1bce2a1d"
   },
   "outputs": [
    {
     "name": "stdout",
     "output_type": "stream",
     "text": [
      "<class 'pandas.core.frame.DataFrame'>\n",
      "Int64Index: 9360 entries, 0 to 10840\n",
      "Data columns (total 10 columns):\n",
      " #   Column                       Non-Null Count  Dtype  \n",
      "---  ------                       --------------  -----  \n",
      " 0   Rating                       9360 non-null   float64\n",
      " 1   Reviews                      9360 non-null   object \n",
      " 2   Price                        9360 non-null   object \n",
      " 3   Type_Free                    9360 non-null   uint8  \n",
      " 4   Type_Paid                    9360 non-null   uint8  \n",
      " 5   Content Rating_Everyone      9360 non-null   uint8  \n",
      " 6   Content Rating_Everyone 10+  9360 non-null   uint8  \n",
      " 7   Content Rating_Mature 17+    9360 non-null   uint8  \n",
      " 8   Content Rating_Teen          9360 non-null   uint8  \n",
      " 9   Content Rating_Unrated       9360 non-null   uint8  \n",
      "dtypes: float64(1), object(2), uint8(7)\n",
      "memory usage: 356.5+ KB\n"
     ]
    }
   ],
   "source": [
    "reviews.info()"
   ]
  },
  {
   "cell_type": "code",
   "execution_count": 0,
   "metadata": {
    "colab": {
     "base_uri": "https://localhost:8080/",
     "height": 323
    },
    "colab_type": "code",
    "id": "8pX6hcccWMLy",
    "outputId": "6f7f2bcd-f0f6-40b0-f88c-99a4c0149a95"
   },
   "outputs": [
    {
     "name": "stdout",
     "output_type": "stream",
     "text": [
      "<class 'pandas.core.frame.DataFrame'>\n",
      "Int64Index: 9360 entries, 0 to 10840\n",
      "Data columns (total 10 columns):\n",
      " #   Column                       Non-Null Count  Dtype  \n",
      "---  ------                       --------------  -----  \n",
      " 0   Rating                       9360 non-null   float64\n",
      " 1   Reviews                      9360 non-null   int64  \n",
      " 2   Price                        9360 non-null   object \n",
      " 3   Type_Free                    9360 non-null   uint8  \n",
      " 4   Type_Paid                    9360 non-null   uint8  \n",
      " 5   Content Rating_Everyone      9360 non-null   uint8  \n",
      " 6   Content Rating_Everyone 10+  9360 non-null   uint8  \n",
      " 7   Content Rating_Mature 17+    9360 non-null   uint8  \n",
      " 8   Content Rating_Teen          9360 non-null   uint8  \n",
      " 9   Content Rating_Unrated       9360 non-null   uint8  \n",
      "dtypes: float64(1), int64(1), object(1), uint8(7)\n",
      "memory usage: 356.5+ KB\n",
      "ERROR! Session/line number was not unique in database. History logging moved to new session 59\n"
     ]
    }
   ],
   "source": [
    "reviews['Reviews'] = pd.to_numeric(reviews['Reviews'])\n",
    "reviews.info()"
   ]
  },
  {
   "cell_type": "code",
   "execution_count": 0,
   "metadata": {
    "colab": {
     "base_uri": "https://localhost:8080/",
     "height": 204
    },
    "colab_type": "code",
    "id": "kk1iwstgWMLz",
    "outputId": "923587ef-0c2d-4720-9f25-15231212b74b"
   },
   "outputs": [
    {
     "data": {
      "text/plain": [
       "array(['0', '$4.99', '$3.99', '$6.99', '$7.99', '$5.99', '$2.99', '$3.49',\n",
       "       '$1.99', '$9.99', '$7.49', '$0.99', '$9.00', '$5.49', '$10.00',\n",
       "       '$24.99', '$11.99', '$79.99', '$16.99', '$14.99', '$29.99',\n",
       "       '$12.99', '$2.49', '$10.99', '$1.50', '$19.99', '$15.99', '$33.99',\n",
       "       '$39.99', '$3.95', '$4.49', '$1.70', '$8.99', '$1.49', '$3.88',\n",
       "       '$399.99', '$17.99', '$400.00', '$3.02', '$1.76', '$4.84', '$4.77',\n",
       "       '$1.61', '$2.50', '$1.59', '$6.49', '$1.29', '$299.99', '$379.99',\n",
       "       '$37.99', '$18.99', '$389.99', '$8.49', '$1.75', '$14.00', '$2.00',\n",
       "       '$3.08', '$2.59', '$19.40', '$3.90', '$4.59', '$15.46', '$3.04',\n",
       "       '$13.99', '$4.29', '$3.28', '$4.60', '$1.00', '$2.95', '$2.90',\n",
       "       '$1.97', '$2.56', '$1.20'], dtype=object)"
      ]
     },
     "execution_count": 19,
     "metadata": {
      "tags": []
     },
     "output_type": "execute_result"
    }
   ],
   "source": [
    "reviews['Price'].unique()"
   ]
  },
  {
   "cell_type": "code",
   "execution_count": 0,
   "metadata": {
    "colab": {
     "base_uri": "https://localhost:8080/",
     "height": 306
    },
    "colab_type": "code",
    "id": "4MBaNb9FSHMf",
    "outputId": "49837494-53fd-4bb5-d1b0-37e8ab9daaa6"
   },
   "outputs": [
    {
     "name": "stdout",
     "output_type": "stream",
     "text": [
      "<class 'pandas.core.frame.DataFrame'>\n",
      "Int64Index: 9360 entries, 0 to 10840\n",
      "Data columns (total 10 columns):\n",
      " #   Column                       Non-Null Count  Dtype  \n",
      "---  ------                       --------------  -----  \n",
      " 0   Rating                       9360 non-null   float64\n",
      " 1   Reviews                      9360 non-null   int64  \n",
      " 2   Price                        9360 non-null   float64\n",
      " 3   Type_Free                    9360 non-null   uint8  \n",
      " 4   Type_Paid                    9360 non-null   uint8  \n",
      " 5   Content Rating_Everyone      9360 non-null   uint8  \n",
      " 6   Content Rating_Everyone 10+  9360 non-null   uint8  \n",
      " 7   Content Rating_Mature 17+    9360 non-null   uint8  \n",
      " 8   Content Rating_Teen          9360 non-null   uint8  \n",
      " 9   Content Rating_Unrated       9360 non-null   uint8  \n",
      "dtypes: float64(2), int64(1), uint8(7)\n",
      "memory usage: 356.5 KB\n"
     ]
    }
   ],
   "source": [
    "reviews['Price'] = reviews['Price'].str.strip('$')\n",
    "reviews['Price'] = pd.to_numeric(reviews['Price'])\n",
    "reviews.info()"
   ]
  },
  {
   "cell_type": "markdown",
   "metadata": {
    "colab_type": "text",
    "id": "GvmM687VWML1"
   },
   "source": [
    "Perform a train test split with 20% of the data in the test sample."
   ]
  },
  {
   "cell_type": "code",
   "execution_count": 0,
   "metadata": {
    "colab": {},
    "colab_type": "code",
    "id": "COJv_NenWML1"
   },
   "outputs": [],
   "source": [
    "from sklearn.model_selection import train_test_split\n",
    "\n",
    "X = reviews.drop(columns='Rating')\n",
    "y = reviews['Rating']\n",
    "\n",
    "X_train, X_test, y_train, y_test = train_test_split(X, y, test_size=0.2, random_state=42)"
   ]
  },
  {
   "cell_type": "markdown",
   "metadata": {
    "colab_type": "text",
    "id": "ke4J9CM2WML3"
   },
   "source": [
    "Now generate a linear model using statsmodels or sklearn and produce a p value for each coefficient in the model. Analyze the results."
   ]
  },
  {
   "cell_type": "code",
   "execution_count": 0,
   "metadata": {
    "colab": {
     "base_uri": "https://localhost:8080/",
     "height": 680
    },
    "colab_type": "code",
    "id": "lo0tMmlEWML3",
    "outputId": "30cb2f6b-6bd3-43b5-8061-32bf9a5e558a"
   },
   "outputs": [
    {
     "name": "stderr",
     "output_type": "stream",
     "text": [
      "/usr/local/lib/python3.6/dist-packages/statsmodels/tools/_testing.py:19: FutureWarning: pandas.util.testing is deprecated. Use the functions in the public API at pandas.testing instead.\n",
      "  import pandas.util.testing as tm\n"
     ]
    },
    {
     "data": {
      "text/html": [
       "<table class=\"simpletable\">\n",
       "<caption>OLS Regression Results</caption>\n",
       "<tr>\n",
       "  <th>Dep. Variable:</th>         <td>Rating</td>      <th>  R-squared:         </th> <td>   0.009</td> \n",
       "</tr>\n",
       "<tr>\n",
       "  <th>Model:</th>                   <td>OLS</td>       <th>  Adj. R-squared:    </th> <td>   0.008</td> \n",
       "</tr>\n",
       "<tr>\n",
       "  <th>Method:</th>             <td>Least Squares</td>  <th>  F-statistic:       </th> <td>   8.720</td> \n",
       "</tr>\n",
       "<tr>\n",
       "  <th>Date:</th>             <td>Tue, 07 Apr 2020</td> <th>  Prob (F-statistic):</th> <td>6.29e-12</td> \n",
       "</tr>\n",
       "<tr>\n",
       "  <th>Time:</th>                 <td>15:44:35</td>     <th>  Log-Likelihood:    </th> <td> -5649.6</td> \n",
       "</tr>\n",
       "<tr>\n",
       "  <th>No. Observations:</th>      <td>  7488</td>      <th>  AIC:               </th> <td>1.132e+04</td>\n",
       "</tr>\n",
       "<tr>\n",
       "  <th>Df Residuals:</th>          <td>  7479</td>      <th>  BIC:               </th> <td>1.138e+04</td>\n",
       "</tr>\n",
       "<tr>\n",
       "  <th>Df Model:</th>              <td>     8</td>      <th>                     </th>     <td> </td>    \n",
       "</tr>\n",
       "<tr>\n",
       "  <th>Covariance Type:</th>      <td>nonrobust</td>    <th>                     </th>     <td> </td>    \n",
       "</tr>\n",
       "</table>\n",
       "<table class=\"simpletable\">\n",
       "<tr>\n",
       "               <td></td>                  <th>coef</th>     <th>std err</th>      <th>t</th>      <th>P>|t|</th>  <th>[0.025</th>    <th>0.975]</th>  \n",
       "</tr>\n",
       "<tr>\n",
       "  <th>const</th>                       <td>    2.7997</td> <td>    0.243</td> <td>   11.529</td> <td> 0.000</td> <td>    2.324</td> <td>    3.276</td>\n",
       "</tr>\n",
       "<tr>\n",
       "  <th>Reviews</th>                     <td> 1.088e-08</td> <td>  1.9e-09</td> <td>    5.718</td> <td> 0.000</td> <td> 7.15e-09</td> <td> 1.46e-08</td>\n",
       "</tr>\n",
       "<tr>\n",
       "  <th>Price</th>                       <td>   -0.0010</td> <td>    0.000</td> <td>   -2.719</td> <td> 0.007</td> <td>   -0.002</td> <td>   -0.000</td>\n",
       "</tr>\n",
       "<tr>\n",
       "  <th>Type_Free</th>                   <td>    1.3499</td> <td>    0.122</td> <td>   11.100</td> <td> 0.000</td> <td>    1.112</td> <td>    1.588</td>\n",
       "</tr>\n",
       "<tr>\n",
       "  <th>Type_Paid</th>                   <td>    1.4498</td> <td>    0.122</td> <td>   11.845</td> <td> 0.000</td> <td>    1.210</td> <td>    1.690</td>\n",
       "</tr>\n",
       "<tr>\n",
       "  <th>Content Rating_Everyone</th>     <td>    0.0278</td> <td>    0.364</td> <td>    0.076</td> <td> 0.939</td> <td>   -0.686</td> <td>    0.742</td>\n",
       "</tr>\n",
       "<tr>\n",
       "  <th>Content Rating_Everyone 10+</th> <td>    0.0878</td> <td>    0.365</td> <td>    0.241</td> <td> 0.810</td> <td>   -0.628</td> <td>    0.804</td>\n",
       "</tr>\n",
       "<tr>\n",
       "  <th>Content Rating_Mature 17+</th>   <td>   -0.0361</td> <td>    0.365</td> <td>   -0.099</td> <td> 0.921</td> <td>   -0.752</td> <td>    0.680</td>\n",
       "</tr>\n",
       "<tr>\n",
       "  <th>Content Rating_Teen</th>         <td>    0.0646</td> <td>    0.364</td> <td>    0.177</td> <td> 0.859</td> <td>   -0.650</td> <td>    0.779</td>\n",
       "</tr>\n",
       "<tr>\n",
       "  <th>Content Rating_Unrated</th>      <td>   -0.0497</td> <td>    0.631</td> <td>   -0.079</td> <td> 0.937</td> <td>   -1.286</td> <td>    1.186</td>\n",
       "</tr>\n",
       "</table>\n",
       "<table class=\"simpletable\">\n",
       "<tr>\n",
       "  <th>Omnibus:</th>       <td>2924.472</td> <th>  Durbin-Watson:     </th> <td>   2.038</td> \n",
       "</tr>\n",
       "<tr>\n",
       "  <th>Prob(Omnibus):</th>  <td> 0.000</td>  <th>  Jarque-Bera (JB):  </th> <td>14563.566</td>\n",
       "</tr>\n",
       "<tr>\n",
       "  <th>Skew:</th>           <td>-1.836</td>  <th>  Prob(JB):          </th> <td>    0.00</td> \n",
       "</tr>\n",
       "<tr>\n",
       "  <th>Kurtosis:</th>       <td> 8.761</td>  <th>  Cond. No.          </th> <td>9.76e+20</td> \n",
       "</tr>\n",
       "</table><br/><br/>Warnings:<br/>[1] Standard Errors assume that the covariance matrix of the errors is correctly specified.<br/>[2] The smallest eigenvalue is 8.02e-26. This might indicate that there are<br/>strong multicollinearity problems or that the design matrix is singular."
      ],
      "text/plain": [
       "<class 'statsmodels.iolib.summary.Summary'>\n",
       "\"\"\"\n",
       "                            OLS Regression Results                            \n",
       "==============================================================================\n",
       "Dep. Variable:                 Rating   R-squared:                       0.009\n",
       "Model:                            OLS   Adj. R-squared:                  0.008\n",
       "Method:                 Least Squares   F-statistic:                     8.720\n",
       "Date:                Tue, 07 Apr 2020   Prob (F-statistic):           6.29e-12\n",
       "Time:                        15:44:35   Log-Likelihood:                -5649.6\n",
       "No. Observations:                7488   AIC:                         1.132e+04\n",
       "Df Residuals:                    7479   BIC:                         1.138e+04\n",
       "Df Model:                           8                                         \n",
       "Covariance Type:            nonrobust                                         \n",
       "===============================================================================================\n",
       "                                  coef    std err          t      P>|t|      [0.025      0.975]\n",
       "-----------------------------------------------------------------------------------------------\n",
       "const                           2.7997      0.243     11.529      0.000       2.324       3.276\n",
       "Reviews                      1.088e-08    1.9e-09      5.718      0.000    7.15e-09    1.46e-08\n",
       "Price                          -0.0010      0.000     -2.719      0.007      -0.002      -0.000\n",
       "Type_Free                       1.3499      0.122     11.100      0.000       1.112       1.588\n",
       "Type_Paid                       1.4498      0.122     11.845      0.000       1.210       1.690\n",
       "Content Rating_Everyone         0.0278      0.364      0.076      0.939      -0.686       0.742\n",
       "Content Rating_Everyone 10+     0.0878      0.365      0.241      0.810      -0.628       0.804\n",
       "Content Rating_Mature 17+      -0.0361      0.365     -0.099      0.921      -0.752       0.680\n",
       "Content Rating_Teen             0.0646      0.364      0.177      0.859      -0.650       0.779\n",
       "Content Rating_Unrated         -0.0497      0.631     -0.079      0.937      -1.286       1.186\n",
       "==============================================================================\n",
       "Omnibus:                     2924.472   Durbin-Watson:                   2.038\n",
       "Prob(Omnibus):                  0.000   Jarque-Bera (JB):            14563.566\n",
       "Skew:                          -1.836   Prob(JB):                         0.00\n",
       "Kurtosis:                       8.761   Cond. No.                     9.76e+20\n",
       "==============================================================================\n",
       "\n",
       "Warnings:\n",
       "[1] Standard Errors assume that the covariance matrix of the errors is correctly specified.\n",
       "[2] The smallest eigenvalue is 8.02e-26. This might indicate that there are\n",
       "strong multicollinearity problems or that the design matrix is singular.\n",
       "\"\"\""
      ]
     },
     "execution_count": 26,
     "metadata": {
      "tags": []
     },
     "output_type": "execute_result"
    }
   ],
   "source": [
    "import statsmodels.api as sm\n",
    "\n",
    "X_const = sm.add_constant(X_train)\n",
    "lm = sm.OLS(y_train, X_const).fit()\n",
    "\n",
    "lm.summary()"
   ]
  },
  {
   "cell_type": "markdown",
   "metadata": {
    "colab_type": "text",
    "id": "_W5cMhmxUPc4"
   },
   "source": [
    "We have generated p-values and coefficients for each feature using the summary function from statsmodels.api. The p-values produced for the Content Rating encoded features are extremely high, indicating that they are useless to our model's predictions.\n",
    "\n",
    "All other p-values are significantly 0.05, indicating that they are all statistically significant to our model's predictions. However, there is probably multicollinearity between our Type_Free/Paid and Price features since they contain some shared data."
   ]
  }
 ],
 "metadata": {
  "colab": {
   "collapsed_sections": [],
   "name": "Day 27 Lecture 1 Assignment-Wyatt-Hunter.ipynb",
   "provenance": []
  },
  "kernelspec": {
   "display_name": "Python 3",
   "language": "python",
   "name": "python3"
  },
  "language_info": {
   "codemirror_mode": {
    "name": "ipython",
    "version": 3
   },
   "file_extension": ".py",
   "mimetype": "text/x-python",
   "name": "python",
   "nbconvert_exporter": "python",
   "pygments_lexer": "ipython3",
   "version": "3.7.3"
  }
 },
 "nbformat": 4,
 "nbformat_minor": 1
}
