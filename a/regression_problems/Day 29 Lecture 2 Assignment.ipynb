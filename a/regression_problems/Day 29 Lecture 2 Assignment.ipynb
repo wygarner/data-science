{
 "cells": [
  {
   "cell_type": "code",
   "execution_count": 1,
   "metadata": {},
   "outputs": [
    {
     "data": {
      "application/javascript": [
       "\n",
       "            setTimeout(function() {\n",
       "                var nbb_cell_id = 1;\n",
       "                var nbb_unformatted_code = \"%load_ext nb_black\";\n",
       "                var nbb_formatted_code = \"%load_ext nb_black\";\n",
       "                var nbb_cells = Jupyter.notebook.get_cells();\n",
       "                for (var i = 0; i < nbb_cells.length; ++i) {\n",
       "                    if (nbb_cells[i].input_prompt_number == nbb_cell_id) {\n",
       "                        if (nbb_cells[i].get_text() == nbb_unformatted_code) {\n",
       "                             nbb_cells[i].set_text(nbb_formatted_code);\n",
       "                        }\n",
       "                        break;\n",
       "                    }\n",
       "                }\n",
       "            }, 500);\n",
       "            "
      ],
      "text/plain": [
       "<IPython.core.display.Javascript object>"
      ]
     },
     "metadata": {},
     "output_type": "display_data"
    }
   ],
   "source": [
    "%load_ext nb_black"
   ]
  },
  {
   "cell_type": "markdown",
   "metadata": {
    "colab_type": "text",
    "id": "YRVfAWX8cTwI"
   },
   "source": [
    "## Day 29 Lecture 2 Assignment\n",
    "\n",
    "In this assignment, we will learn about entropy and information gain in the ID3 algorithm."
   ]
  },
  {
   "cell_type": "code",
   "execution_count": 2,
   "metadata": {
    "colab": {},
    "colab_type": "code",
    "id": "KufburMWcTwI"
   },
   "outputs": [
    {
     "data": {
      "application/javascript": [
       "\n",
       "            setTimeout(function() {\n",
       "                var nbb_cell_id = 2;\n",
       "                var nbb_unformatted_code = \"import numpy as np\\nimport pandas as pd\\nimport ssl\\n\\nssl._create_default_https_context = ssl._create_unverified_context\";\n",
       "                var nbb_formatted_code = \"import numpy as np\\nimport pandas as pd\\nimport ssl\\n\\nssl._create_default_https_context = ssl._create_unverified_context\";\n",
       "                var nbb_cells = Jupyter.notebook.get_cells();\n",
       "                for (var i = 0; i < nbb_cells.length; ++i) {\n",
       "                    if (nbb_cells[i].input_prompt_number == nbb_cell_id) {\n",
       "                        if (nbb_cells[i].get_text() == nbb_unformatted_code) {\n",
       "                             nbb_cells[i].set_text(nbb_formatted_code);\n",
       "                        }\n",
       "                        break;\n",
       "                    }\n",
       "                }\n",
       "            }, 500);\n",
       "            "
      ],
      "text/plain": [
       "<IPython.core.display.Javascript object>"
      ]
     },
     "metadata": {},
     "output_type": "display_data"
    }
   ],
   "source": [
    "import numpy as np\n",
    "import pandas as pd\n",
    "import ssl\n",
    "\n",
    "ssl._create_default_https_context = ssl._create_unverified_context"
   ]
  },
  {
   "cell_type": "code",
   "execution_count": 3,
   "metadata": {
    "colab": {},
    "colab_type": "code",
    "id": "8MiCqim1cTwK"
   },
   "outputs": [
    {
     "data": {
      "application/javascript": [
       "\n",
       "            setTimeout(function() {\n",
       "                var nbb_cell_id = 3;\n",
       "                var nbb_unformatted_code = \"tennis = pd.read_csv(\\n    \\\"https://tf-assets-prod.s3.amazonaws.com/tf-curric/data-science/tennis_decision.csv\\\"\\n)\\ntennis = tennis.set_index(\\\"Day\\\")\";\n",
       "                var nbb_formatted_code = \"tennis = pd.read_csv(\\n    \\\"https://tf-assets-prod.s3.amazonaws.com/tf-curric/data-science/tennis_decision.csv\\\"\\n)\\ntennis = tennis.set_index(\\\"Day\\\")\";\n",
       "                var nbb_cells = Jupyter.notebook.get_cells();\n",
       "                for (var i = 0; i < nbb_cells.length; ++i) {\n",
       "                    if (nbb_cells[i].input_prompt_number == nbb_cell_id) {\n",
       "                        if (nbb_cells[i].get_text() == nbb_unformatted_code) {\n",
       "                             nbb_cells[i].set_text(nbb_formatted_code);\n",
       "                        }\n",
       "                        break;\n",
       "                    }\n",
       "                }\n",
       "            }, 500);\n",
       "            "
      ],
      "text/plain": [
       "<IPython.core.display.Javascript object>"
      ]
     },
     "metadata": {},
     "output_type": "display_data"
    }
   ],
   "source": [
    "tennis = pd.read_csv(\n",
    "    \"https://tf-assets-prod.s3.amazonaws.com/tf-curric/data-science/tennis_decision.csv\"\n",
    ")\n",
    "tennis = tennis.set_index(\"Day\")"
   ]
  },
  {
   "cell_type": "code",
   "execution_count": 4,
   "metadata": {
    "colab": {},
    "colab_type": "code",
    "id": "Ugm_tVeDcTwM",
    "outputId": "997bddc0-1798-432c-8b48-6adadecf56fc",
    "scrolled": true
   },
   "outputs": [
    {
     "name": "stdout",
     "output_type": "stream",
     "text": [
      "(14, 5)\n"
     ]
    },
    {
     "data": {
      "text/html": [
       "<div>\n",
       "<style scoped>\n",
       "    .dataframe tbody tr th:only-of-type {\n",
       "        vertical-align: middle;\n",
       "    }\n",
       "\n",
       "    .dataframe tbody tr th {\n",
       "        vertical-align: top;\n",
       "    }\n",
       "\n",
       "    .dataframe thead th {\n",
       "        text-align: right;\n",
       "    }\n",
       "</style>\n",
       "<table border=\"1\" class=\"dataframe\">\n",
       "  <thead>\n",
       "    <tr style=\"text-align: right;\">\n",
       "      <th></th>\n",
       "      <th>Outlook</th>\n",
       "      <th>Temp.</th>\n",
       "      <th>Humidity</th>\n",
       "      <th>Wind</th>\n",
       "      <th>Decision</th>\n",
       "    </tr>\n",
       "    <tr>\n",
       "      <th>Day</th>\n",
       "      <th></th>\n",
       "      <th></th>\n",
       "      <th></th>\n",
       "      <th></th>\n",
       "      <th></th>\n",
       "    </tr>\n",
       "  </thead>\n",
       "  <tbody>\n",
       "    <tr>\n",
       "      <th>1</th>\n",
       "      <td>Sunny</td>\n",
       "      <td>Hot</td>\n",
       "      <td>High</td>\n",
       "      <td>Weak</td>\n",
       "      <td>No</td>\n",
       "    </tr>\n",
       "    <tr>\n",
       "      <th>2</th>\n",
       "      <td>Sunny</td>\n",
       "      <td>Hot</td>\n",
       "      <td>High</td>\n",
       "      <td>Strong</td>\n",
       "      <td>No</td>\n",
       "    </tr>\n",
       "    <tr>\n",
       "      <th>3</th>\n",
       "      <td>Overcast</td>\n",
       "      <td>Hot</td>\n",
       "      <td>High</td>\n",
       "      <td>Weak</td>\n",
       "      <td>Yes</td>\n",
       "    </tr>\n",
       "    <tr>\n",
       "      <th>4</th>\n",
       "      <td>Rain</td>\n",
       "      <td>Mild</td>\n",
       "      <td>High</td>\n",
       "      <td>Weak</td>\n",
       "      <td>Yes</td>\n",
       "    </tr>\n",
       "    <tr>\n",
       "      <th>5</th>\n",
       "      <td>Rain</td>\n",
       "      <td>Cool</td>\n",
       "      <td>Normal</td>\n",
       "      <td>Weak</td>\n",
       "      <td>Yes</td>\n",
       "    </tr>\n",
       "    <tr>\n",
       "      <th>6</th>\n",
       "      <td>Rain</td>\n",
       "      <td>Cool</td>\n",
       "      <td>Normal</td>\n",
       "      <td>Strong</td>\n",
       "      <td>No</td>\n",
       "    </tr>\n",
       "    <tr>\n",
       "      <th>7</th>\n",
       "      <td>Overcast</td>\n",
       "      <td>Cool</td>\n",
       "      <td>Normal</td>\n",
       "      <td>Strong</td>\n",
       "      <td>Yes</td>\n",
       "    </tr>\n",
       "    <tr>\n",
       "      <th>8</th>\n",
       "      <td>Sunny</td>\n",
       "      <td>Mild</td>\n",
       "      <td>High</td>\n",
       "      <td>Weak</td>\n",
       "      <td>No</td>\n",
       "    </tr>\n",
       "    <tr>\n",
       "      <th>9</th>\n",
       "      <td>Sunny</td>\n",
       "      <td>Cool</td>\n",
       "      <td>Normal</td>\n",
       "      <td>Weak</td>\n",
       "      <td>Yes</td>\n",
       "    </tr>\n",
       "    <tr>\n",
       "      <th>10</th>\n",
       "      <td>Rain</td>\n",
       "      <td>Mild</td>\n",
       "      <td>Normal</td>\n",
       "      <td>Weak</td>\n",
       "      <td>Yes</td>\n",
       "    </tr>\n",
       "    <tr>\n",
       "      <th>11</th>\n",
       "      <td>Sunny</td>\n",
       "      <td>Mild</td>\n",
       "      <td>Normal</td>\n",
       "      <td>Strong</td>\n",
       "      <td>Yes</td>\n",
       "    </tr>\n",
       "    <tr>\n",
       "      <th>12</th>\n",
       "      <td>Overcast</td>\n",
       "      <td>Mild</td>\n",
       "      <td>High</td>\n",
       "      <td>Strong</td>\n",
       "      <td>Yes</td>\n",
       "    </tr>\n",
       "    <tr>\n",
       "      <th>13</th>\n",
       "      <td>Overcast</td>\n",
       "      <td>Hot</td>\n",
       "      <td>Normal</td>\n",
       "      <td>Weak</td>\n",
       "      <td>Yes</td>\n",
       "    </tr>\n",
       "    <tr>\n",
       "      <th>14</th>\n",
       "      <td>Rain</td>\n",
       "      <td>Mild</td>\n",
       "      <td>High</td>\n",
       "      <td>Strong</td>\n",
       "      <td>No</td>\n",
       "    </tr>\n",
       "  </tbody>\n",
       "</table>\n",
       "</div>"
      ],
      "text/plain": [
       "      Outlook Temp. Humidity    Wind Decision\n",
       "Day                                          \n",
       "1       Sunny   Hot     High    Weak       No\n",
       "2       Sunny   Hot     High  Strong       No\n",
       "3    Overcast   Hot     High    Weak      Yes\n",
       "4        Rain  Mild     High    Weak      Yes\n",
       "5        Rain  Cool   Normal    Weak      Yes\n",
       "6        Rain  Cool   Normal  Strong       No\n",
       "7    Overcast  Cool   Normal  Strong      Yes\n",
       "8       Sunny  Mild     High    Weak       No\n",
       "9       Sunny  Cool   Normal    Weak      Yes\n",
       "10       Rain  Mild   Normal    Weak      Yes\n",
       "11      Sunny  Mild   Normal  Strong      Yes\n",
       "12   Overcast  Mild     High  Strong      Yes\n",
       "13   Overcast   Hot   Normal    Weak      Yes\n",
       "14       Rain  Mild     High  Strong       No"
      ]
     },
     "execution_count": 4,
     "metadata": {},
     "output_type": "execute_result"
    },
    {
     "data": {
      "application/javascript": [
       "\n",
       "            setTimeout(function() {\n",
       "                var nbb_cell_id = 4;\n",
       "                var nbb_unformatted_code = \"print(tennis.shape)\\ntennis\";\n",
       "                var nbb_formatted_code = \"print(tennis.shape)\\ntennis\";\n",
       "                var nbb_cells = Jupyter.notebook.get_cells();\n",
       "                for (var i = 0; i < nbb_cells.length; ++i) {\n",
       "                    if (nbb_cells[i].input_prompt_number == nbb_cell_id) {\n",
       "                        if (nbb_cells[i].get_text() == nbb_unformatted_code) {\n",
       "                             nbb_cells[i].set_text(nbb_formatted_code);\n",
       "                        }\n",
       "                        break;\n",
       "                    }\n",
       "                }\n",
       "            }, 500);\n",
       "            "
      ],
      "text/plain": [
       "<IPython.core.display.Javascript object>"
      ]
     },
     "metadata": {},
     "output_type": "display_data"
    }
   ],
   "source": [
    "print(tennis.shape)\n",
    "tennis"
   ]
  },
  {
   "cell_type": "markdown",
   "metadata": {
    "colab_type": "text",
    "id": "42CeoZiTcTwN"
   },
   "source": [
    "Write a function to compute entropy given an input of a sequence of probabilities."
   ]
  },
  {
   "cell_type": "code",
   "execution_count": 25,
   "metadata": {},
   "outputs": [
    {
     "data": {
      "application/javascript": [
       "\n",
       "            setTimeout(function() {\n",
       "                var nbb_cell_id = 25;\n",
       "                var nbb_unformatted_code = \"class Entropy:\\n    ''' \\n    params: \\n        df: Categorical dataframe with no nulls\\n        target: The column name of the target variable of the model\\n        \\n    get_wae_d: Returns a dict: {feature: {value: weighted average entropy}}\\n    \\n    display_wae: params: Feature to display\\n                 function: displays weighted average \\n                           entropy of each value of each feature\\n                         \\n    display_best_questions: Display the best question (smallest \\n                            weighted average entropy) of each feature\\n    '''\\n    \\n    def __init__(self, df, target):\\n        # Initialize class\\n        self.df = df\\n        self.target = target\\n        self.columns = df.drop(columns=[target]).columns\\n        self.col_values_d = self.get_col_values_d\\n        self.wae_d=self.get_wae_d\\n        self.best_questions= {k: min(v,key=v.get) for k,v in self.wae_d().items()}\\n\\n    def get_col_values_d(self):\\n        # Returns {feature: [value,value,...], ...}\\n        col_values_d = dict()\\n        for col in self.columns:\\n            col_values_d[col] = tennis[col].unique()\\n\\n        return col_values_d\\n\\n    def get_entropy(self,probs):\\n        # Returns entropy of given probabilities\\n        entropy = 0\\n        for prob in probs:\\n            entropy += -prob * np.log2(prob)\\n\\n        return entropy\\n\\n    def get_wae_d(self):\\n        # Returns {feature: {value: weighted average entropy}, ...}\\n        entropy_d = dict()\\n        \\n        # Iterate through values of each feature\\n        # Fill a dict of dicts with features, values, and entropy\\n        for k, v in self.col_values_d().items(): \\n            value_dict = dict()\\n            for value in v:\\n                yes = self.df[self.df[k] == value]\\n                no= self.df[self.df[k] != value]\\n                yes_probs = yes[self.target].value_counts(normalize=True)\\n                no_probs = no[self.target].value_counts(normalize=True)\\n                yes_entropy = self.get_entropy(yes_probs)\\n                no_entropy= self.get_entropy(no_probs)\\n                no_weight= no.shape[0]/ self.df.shape[0]\\n                yes_weight= yes.shape[0]/ self.df.shape[0]\\n                weighted_average_entropy= yes_weight*yes_entropy+no_weight*no_entropy\\n                value_dict[value] = weighted_average_entropy\\n            entropy_d[k] = value_dict\\n        \\n        return entropy_d\\n    \\n    def display_wae(self,column):\\n        # Display weighted average entropy\\n        for k,v in self.wae_d().items():\\n            if k==column:\\n                print(k,'\\\\n')\\n                for key,value in v.items():\\n                    print(key+':',round(value,5),'\\\\n')\\n                    \\n\\n    def display_best_questions(self):\\n        # Display values with smallest weighted average entropy\\n        for k,v in self.best_questions.items():\\n            print(k,':',v,'\\\\n')\\n            \";\n",
       "                var nbb_formatted_code = \"class Entropy:\\n    \\\"\\\"\\\" \\n    params: \\n        df: Categorical dataframe with no nulls\\n        target: The column name of the target variable of the model\\n        \\n    get_wae_d: Returns a dict: {feature: {value: weighted average entropy}}\\n    \\n    display_wae: params: Feature to display\\n                 function: displays weighted average \\n                           entropy of each value of each feature\\n                         \\n    display_best_questions: Display the best question (smallest \\n                            weighted average entropy) of each feature\\n    \\\"\\\"\\\"\\n\\n    def __init__(self, df, target):\\n        # Initialize class\\n        self.df = df\\n        self.target = target\\n        self.columns = df.drop(columns=[target]).columns\\n        self.col_values_d = self.get_col_values_d\\n        self.wae_d = self.get_wae_d\\n        self.best_questions = {k: min(v, key=v.get) for k, v in self.wae_d().items()}\\n\\n    def get_col_values_d(self):\\n        # Returns {feature: [value,value,...], ...}\\n        col_values_d = dict()\\n        for col in self.columns:\\n            col_values_d[col] = tennis[col].unique()\\n\\n        return col_values_d\\n\\n    def get_entropy(self, probs):\\n        # Returns entropy of given probabilities\\n        entropy = 0\\n        for prob in probs:\\n            entropy += -prob * np.log2(prob)\\n\\n        return entropy\\n\\n    def get_wae_d(self):\\n        # Returns {feature: {value: weighted average entropy}, ...}\\n        entropy_d = dict()\\n\\n        # Iterate through values of each feature\\n        # Fill a dict of dicts with features, values, and entropy\\n        for k, v in self.col_values_d().items():\\n            value_dict = dict()\\n            for value in v:\\n                yes = self.df[self.df[k] == value]\\n                no = self.df[self.df[k] != value]\\n                yes_probs = yes[self.target].value_counts(normalize=True)\\n                no_probs = no[self.target].value_counts(normalize=True)\\n                yes_entropy = self.get_entropy(yes_probs)\\n                no_entropy = self.get_entropy(no_probs)\\n                no_weight = no.shape[0] / self.df.shape[0]\\n                yes_weight = yes.shape[0] / self.df.shape[0]\\n                weighted_average_entropy = (\\n                    yes_weight * yes_entropy + no_weight * no_entropy\\n                )\\n                value_dict[value] = weighted_average_entropy\\n            entropy_d[k] = value_dict\\n\\n        return entropy_d\\n\\n    def display_wae(self, column):\\n        # Display weighted average entropy\\n        for k, v in self.wae_d().items():\\n            if k == column:\\n                print(k, \\\"\\\\n\\\")\\n                for key, value in v.items():\\n                    print(key + \\\":\\\", round(value, 5), \\\"\\\\n\\\")\\n\\n    def display_best_questions(self):\\n        # Display values with smallest weighted average entropy\\n        for k, v in self.best_questions.items():\\n            print(k, \\\":\\\", v, \\\"\\\\n\\\")\";\n",
       "                var nbb_cells = Jupyter.notebook.get_cells();\n",
       "                for (var i = 0; i < nbb_cells.length; ++i) {\n",
       "                    if (nbb_cells[i].input_prompt_number == nbb_cell_id) {\n",
       "                        if (nbb_cells[i].get_text() == nbb_unformatted_code) {\n",
       "                             nbb_cells[i].set_text(nbb_formatted_code);\n",
       "                        }\n",
       "                        break;\n",
       "                    }\n",
       "                }\n",
       "            }, 500);\n",
       "            "
      ],
      "text/plain": [
       "<IPython.core.display.Javascript object>"
      ]
     },
     "metadata": {},
     "output_type": "display_data"
    }
   ],
   "source": [
    "class Entropy:\n",
    "    ''' \n",
    "    params: \n",
    "        df: Categorical dataframe with no nulls\n",
    "        target: The column name of the target variable of the model\n",
    "        \n",
    "    get_wae_d: Returns a dict: {feature: {value: weighted average entropy}}\n",
    "    \n",
    "    display_wae: params: Feature to display\n",
    "                 function: displays weighted average \n",
    "                           entropy of each value of each feature\n",
    "                         \n",
    "    display_best_questions: Display the best question (smallest \n",
    "                            weighted average entropy) of each feature\n",
    "    '''\n",
    "    \n",
    "    def __init__(self, df, target):\n",
    "        # Initialize class\n",
    "        self.df = df\n",
    "        self.target = target\n",
    "        self.columns = df.drop(columns=[target]).columns\n",
    "        self.col_values_d = self.get_col_values_d\n",
    "        self.wae_d=self.get_wae_d\n",
    "        self.best_questions= {k: min(v,key=v.get) for k,v in self.wae_d().items()}\n",
    "\n",
    "    def get_col_values_d(self):\n",
    "        # Returns {feature: [value,value,...], ...}\n",
    "        col_values_d = dict()\n",
    "        for col in self.columns:\n",
    "            col_values_d[col] = tennis[col].unique()\n",
    "\n",
    "        return col_values_d\n",
    "\n",
    "    def get_entropy(self,probs):\n",
    "        # Returns entropy of given probabilities\n",
    "        entropy = 0\n",
    "        for prob in probs:\n",
    "            entropy += -prob * np.log2(prob)\n",
    "\n",
    "        return entropy\n",
    "\n",
    "    def get_wae_d(self):\n",
    "        # Returns {feature: {value: weighted average entropy}, ...}\n",
    "        entropy_d = dict()\n",
    "        \n",
    "        # Iterate through values of each feature\n",
    "        # Fill a dict of dicts with features, values, and entropy\n",
    "        for k, v in self.col_values_d().items(): \n",
    "            value_dict = dict()\n",
    "            for value in v:\n",
    "                yes = self.df[self.df[k] == value]\n",
    "                no= self.df[self.df[k] != value]\n",
    "                yes_probs = yes[self.target].value_counts(normalize=True)\n",
    "                no_probs = no[self.target].value_counts(normalize=True)\n",
    "                yes_entropy = self.get_entropy(yes_probs)\n",
    "                no_entropy= self.get_entropy(no_probs)\n",
    "                no_weight= no.shape[0]/ self.df.shape[0]\n",
    "                yes_weight= yes.shape[0]/ self.df.shape[0]\n",
    "                weighted_average_entropy= yes_weight*yes_entropy+no_weight*no_entropy\n",
    "                value_dict[value] = weighted_average_entropy\n",
    "            entropy_d[k] = value_dict\n",
    "        \n",
    "        return entropy_d\n",
    "    \n",
    "    def display_wae(self,column):\n",
    "        # Display weighted average entropy\n",
    "        for k,v in self.wae_d().items():\n",
    "            if k==column:\n",
    "                print(k,'\\n')\n",
    "                for key,value in v.items():\n",
    "                    print(key+':',round(value,5),'\\n')\n",
    "                    \n",
    "\n",
    "    def display_best_questions(self):\n",
    "        # Display values with smallest weighted average entropy\n",
    "        for k,v in self.best_questions.items():\n",
    "            print(k,':',v,'\\n')\n",
    "            \n"
   ]
  },
  {
   "cell_type": "code",
   "execution_count": 17,
   "metadata": {},
   "outputs": [
    {
     "data": {
      "application/javascript": [
       "\n",
       "            setTimeout(function() {\n",
       "                var nbb_cell_id = 17;\n",
       "                var nbb_unformatted_code = \"tennis_entropy = Entropy(tennis, \\\"Decision\\\")\";\n",
       "                var nbb_formatted_code = \"tennis_entropy = Entropy(tennis, \\\"Decision\\\")\";\n",
       "                var nbb_cells = Jupyter.notebook.get_cells();\n",
       "                for (var i = 0; i < nbb_cells.length; ++i) {\n",
       "                    if (nbb_cells[i].input_prompt_number == nbb_cell_id) {\n",
       "                        if (nbb_cells[i].get_text() == nbb_unformatted_code) {\n",
       "                             nbb_cells[i].set_text(nbb_formatted_code);\n",
       "                        }\n",
       "                        break;\n",
       "                    }\n",
       "                }\n",
       "            }, 500);\n",
       "            "
      ],
      "text/plain": [
       "<IPython.core.display.Javascript object>"
      ]
     },
     "metadata": {},
     "output_type": "display_data"
    }
   ],
   "source": [
    "tennis_entropy = Entropy(tennis, \"Decision\")"
   ]
  },
  {
   "cell_type": "markdown",
   "metadata": {
    "colab_type": "text",
    "id": "RsTiwQkVcTwQ"
   },
   "source": [
    "Aggregate the tennis decision table for each value of each column. Start with Outlook below. Compute the weighted mean of the entropy for outlook (the weighted mean of the yes decision and the no decision)."
   ]
  },
  {
   "cell_type": "code",
   "execution_count": 18,
   "metadata": {},
   "outputs": [
    {
     "name": "stdout",
     "output_type": "stream",
     "text": [
      "Outlook \n",
      "\n",
      "Sunny: 0.83804 \n",
      "\n",
      "Overcast: 0.71429 \n",
      "\n",
      "Rain: 0.9371 \n",
      "\n"
     ]
    },
    {
     "data": {
      "application/javascript": [
       "\n",
       "            setTimeout(function() {\n",
       "                var nbb_cell_id = 18;\n",
       "                var nbb_unformatted_code = \"tennis_entropy.display_wae(\\\"Outlook\\\")\";\n",
       "                var nbb_formatted_code = \"tennis_entropy.display_wae(\\\"Outlook\\\")\";\n",
       "                var nbb_cells = Jupyter.notebook.get_cells();\n",
       "                for (var i = 0; i < nbb_cells.length; ++i) {\n",
       "                    if (nbb_cells[i].input_prompt_number == nbb_cell_id) {\n",
       "                        if (nbb_cells[i].get_text() == nbb_unformatted_code) {\n",
       "                             nbb_cells[i].set_text(nbb_formatted_code);\n",
       "                        }\n",
       "                        break;\n",
       "                    }\n",
       "                }\n",
       "            }, 500);\n",
       "            "
      ],
      "text/plain": [
       "<IPython.core.display.Javascript object>"
      ]
     },
     "metadata": {},
     "output_type": "display_data"
    }
   ],
   "source": [
    "tennis_entropy.display_wae(\"Outlook\")"
   ]
  },
  {
   "cell_type": "markdown",
   "metadata": {
    "colab_type": "text",
    "id": "z-t3UYlacTwS"
   },
   "source": [
    "Compute the weighted mean of the entropy for temperature, humidity and wind as well and decide based on these values which should be the first variable chosen for a split."
   ]
  },
  {
   "cell_type": "code",
   "execution_count": 19,
   "metadata": {
    "scrolled": true
   },
   "outputs": [
    {
     "data": {
      "text/plain": [
       "{'Outlook': {'Sunny': 0.8380423950607804,\n",
       "  'Overcast': 0.7142857142857143,\n",
       "  'Rain': 0.9371011056259821},\n",
       " 'Temp.': {'Hot': 0.9152077851647805,\n",
       "  'Mild': 0.9389462162661898,\n",
       "  'Cool': 0.9253298887416583},\n",
       " 'Humidity': {'High': 0.7884504573082896, 'Normal': 0.7884504573082896},\n",
       " 'Wind': {'Weak': 0.8921589282623617, 'Strong': 0.8921589282623617}}"
      ]
     },
     "execution_count": 19,
     "metadata": {},
     "output_type": "execute_result"
    },
    {
     "data": {
      "application/javascript": [
       "\n",
       "            setTimeout(function() {\n",
       "                var nbb_cell_id = 19;\n",
       "                var nbb_unformatted_code = \"tennis_entropy.wae_d()\";\n",
       "                var nbb_formatted_code = \"tennis_entropy.wae_d()\";\n",
       "                var nbb_cells = Jupyter.notebook.get_cells();\n",
       "                for (var i = 0; i < nbb_cells.length; ++i) {\n",
       "                    if (nbb_cells[i].input_prompt_number == nbb_cell_id) {\n",
       "                        if (nbb_cells[i].get_text() == nbb_unformatted_code) {\n",
       "                             nbb_cells[i].set_text(nbb_formatted_code);\n",
       "                        }\n",
       "                        break;\n",
       "                    }\n",
       "                }\n",
       "            }, 500);\n",
       "            "
      ],
      "text/plain": [
       "<IPython.core.display.Javascript object>"
      ]
     },
     "metadata": {},
     "output_type": "display_data"
    }
   ],
   "source": [
    "tennis_entropy.wae_d()"
   ]
  },
  {
   "cell_type": "code",
   "execution_count": 20,
   "metadata": {
    "colab": {},
    "colab_type": "code",
    "id": "t8sJ83cRcTwU"
   },
   "outputs": [
    {
     "name": "stdout",
     "output_type": "stream",
     "text": [
      "Outlook : Overcast \n",
      "\n",
      "Temp. : Hot \n",
      "\n",
      "Humidity : High \n",
      "\n",
      "Wind : Weak \n",
      "\n"
     ]
    },
    {
     "data": {
      "application/javascript": [
       "\n",
       "            setTimeout(function() {\n",
       "                var nbb_cell_id = 20;\n",
       "                var nbb_unformatted_code = \"tennis_entropy.display_best_questions()\";\n",
       "                var nbb_formatted_code = \"tennis_entropy.display_best_questions()\";\n",
       "                var nbb_cells = Jupyter.notebook.get_cells();\n",
       "                for (var i = 0; i < nbb_cells.length; ++i) {\n",
       "                    if (nbb_cells[i].input_prompt_number == nbb_cell_id) {\n",
       "                        if (nbb_cells[i].get_text() == nbb_unformatted_code) {\n",
       "                             nbb_cells[i].set_text(nbb_formatted_code);\n",
       "                        }\n",
       "                        break;\n",
       "                    }\n",
       "                }\n",
       "            }, 500);\n",
       "            "
      ],
      "text/plain": [
       "<IPython.core.display.Javascript object>"
      ]
     },
     "metadata": {},
     "output_type": "display_data"
    }
   ],
   "source": [
    "tennis_entropy.display_best_questions()"
   ]
  },
  {
   "cell_type": "code",
   "execution_count": null,
   "metadata": {},
   "outputs": [],
   "source": []
  },
  {
   "cell_type": "code",
   "execution_count": null,
   "metadata": {},
   "outputs": [],
   "source": []
  }
 ],
 "metadata": {
  "colab": {
   "collapsed_sections": [],
   "name": "Day 29 Lecture 2 Assignment.ipynb",
   "provenance": []
  },
  "kernelspec": {
   "display_name": "Python 3",
   "language": "python",
   "name": "python3"
  },
  "language_info": {
   "codemirror_mode": {
    "name": "ipython",
    "version": 3
   },
   "file_extension": ".py",
   "mimetype": "text/x-python",
   "name": "python",
   "nbconvert_exporter": "python",
   "pygments_lexer": "ipython3",
   "version": "3.7.6"
  }
 },
 "nbformat": 4,
 "nbformat_minor": 1
}
