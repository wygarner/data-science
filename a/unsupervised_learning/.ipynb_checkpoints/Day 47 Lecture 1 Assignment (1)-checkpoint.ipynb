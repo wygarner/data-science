{
 "cells": [
  {
   "cell_type": "markdown",
   "metadata": {
    "colab_type": "text",
    "id": "xdL0Yz0D1D_q"
   },
   "source": [
    "## Day 47 Lecture 1 Assignment\n",
    "\n",
    "In this assignment, we will apply k-means clustering to a dataset containing player-season statistics for NBA players from the past four years."
   ]
  },
  {
   "cell_type": "code",
   "execution_count": 44,
   "metadata": {
    "colab": {},
    "colab_type": "code",
    "id": "OulyiH_C1D_r"
   },
   "outputs": [],
   "source": [
    "%matplotlib inline\n",
    "\n",
    "import matplotlib.pyplot as plt\n",
    "import numpy as np\n",
    "import pandas as pd\n",
    "from sklearn.cluster import KMeans\n",
    "from sklearn.preprocessing import StandardScaler\n",
    "import seaborn as sns"
   ]
  },
  {
   "cell_type": "markdown",
   "metadata": {
    "colab_type": "text",
    "id": "ezMvoRlB1D_t"
   },
   "source": [
    "This dataset contains player-season statistics for NBA players from the past four years. Each row in this dataset represents a player's per-game averages for a single season. \n",
    "\n",
    "This dataset contains the following variables:\n",
    "\n",
    "- Seas: season ('2019' = 2018-2019 season, '2018' = 2017-2018 season, etc.)\n",
    "- Player: player name\n",
    "- Pos: position\n",
    "- Age: age\n",
    "- Tm: team\n",
    "- G: games played\n",
    "- GS: games started\n",
    "- MP: minutes played\n",
    "- FG: field goals\n",
    "- FGA: field goals attempted\n",
    "- FG%: field goal percentage\n",
    "- 3P: 3 pointers\n",
    "- 3PA: 3 pointers attempted\n",
    "- 3P%: 3 point percentage\n",
    "- 2P: 2 pointers\n",
    "- 2PA: 2 pointers attempted\n",
    "- 2P%: 2 point percentage\n",
    "- eFG%: effective field goal percentage\n",
    "- FT: free throws\n",
    "- FTA: free throws attempted\n",
    "- FT%: free throw percentage\n",
    "- ORB: offensive rebound\n",
    "- DRB: defensive rebound\n",
    "- TRB: total rebounds\n",
    "- AST: assists\n",
    "- STL: steals\n",
    "- BLK: blocks\n",
    "- TOV: turnovers\n",
    "- PF: personal fouls\n",
    "- PTS: points\n",
    "\n",
    "Load the dataset."
   ]
  },
  {
   "cell_type": "code",
   "execution_count": 21,
   "metadata": {
    "colab": {},
    "colab_type": "code",
    "id": "wP1U4eQ91D_u"
   },
   "outputs": [],
   "source": [
    "nba_data = pd.read_csv(r'C:\\Users\\Adam Parente\\Documents\\Python Scripts\\thinkful_assignments\\nba_player_seasons.csv')"
   ]
  },
  {
   "cell_type": "code",
   "execution_count": 22,
   "metadata": {},
   "outputs": [
    {
     "name": "stdout",
     "output_type": "stream",
     "text": [
      "<class 'pandas.core.frame.DataFrame'>\n",
      "RangeIndex: 2141 entries, 0 to 2140\n",
      "Data columns (total 30 columns):\n",
      "Seas      2141 non-null int64\n",
      "Player    2141 non-null object\n",
      "Pos       2141 non-null object\n",
      "Age       2141 non-null int64\n",
      "Tm        2141 non-null object\n",
      "G         2141 non-null int64\n",
      "GS        2141 non-null int64\n",
      "MP        2141 non-null float64\n",
      "FG        2141 non-null float64\n",
      "FGA       2141 non-null float64\n",
      "FG%       2131 non-null float64\n",
      "3P        2141 non-null float64\n",
      "3PA       2141 non-null float64\n",
      "3P%       1967 non-null float64\n",
      "2P        2141 non-null float64\n",
      "2PA       2141 non-null float64\n",
      "2P%       2110 non-null float64\n",
      "eFG%      2131 non-null float64\n",
      "FT        2141 non-null float64\n",
      "FTA       2141 non-null float64\n",
      "FT%       2037 non-null float64\n",
      "ORB       2141 non-null float64\n",
      "DRB       2141 non-null float64\n",
      "TRB       2141 non-null float64\n",
      "AST       2141 non-null float64\n",
      "STL       2141 non-null float64\n",
      "BLK       2141 non-null float64\n",
      "TOV       2141 non-null float64\n",
      "PF        2141 non-null float64\n",
      "PTS       2141 non-null float64\n",
      "dtypes: float64(23), int64(4), object(3)\n",
      "memory usage: 501.9+ KB\n"
     ]
    }
   ],
   "source": [
    "nba_data.info()"
   ]
  },
  {
   "cell_type": "code",
   "execution_count": 23,
   "metadata": {},
   "outputs": [],
   "source": [
    "nba_data=nba_data.dropna()"
   ]
  },
  {
   "cell_type": "markdown",
   "metadata": {
    "colab_type": "text",
    "id": "o_K1eQ0x1D_y"
   },
   "source": [
    "The goal is to cluster these player-seasons to identify potential player \"archetypes\".\n",
    "\n",
    "Begin by removing players whose season did not meet one of the following criteria:\n",
    "1. Started at least 20 games\n",
    "2. Averaged at least 10 minutes per game"
   ]
  },
  {
   "cell_type": "code",
   "execution_count": 27,
   "metadata": {
    "colab": {},
    "colab_type": "code",
    "id": "xfYVreyw1D_y"
   },
   "outputs": [],
   "source": [
    "nba_data=nba_data[nba_data['GS']>=20]\n",
    "nba_data=nba_data[nba_data['MP']>=10]"
   ]
  },
  {
   "cell_type": "code",
   "execution_count": 28,
   "metadata": {},
   "outputs": [
    {
     "name": "stdout",
     "output_type": "stream",
     "text": [
      "<class 'pandas.core.frame.DataFrame'>\n",
      "Int64Index: 771 entries, 3 to 2139\n",
      "Data columns (total 31 columns):\n",
      "Seas            771 non-null int64\n",
      "Player          771 non-null object\n",
      "Pos             771 non-null object\n",
      "Age             771 non-null int64\n",
      "Tm              771 non-null object\n",
      "G               771 non-null int64\n",
      "GS              771 non-null int64\n",
      "MP              771 non-null float64\n",
      "FG              771 non-null float64\n",
      "FGA             771 non-null float64\n",
      "FG%             771 non-null float64\n",
      "3P              771 non-null float64\n",
      "3PA             771 non-null float64\n",
      "3P%             771 non-null float64\n",
      "2P              771 non-null float64\n",
      "2PA             771 non-null float64\n",
      "2P%             771 non-null float64\n",
      "eFG%            771 non-null float64\n",
      "FT              771 non-null float64\n",
      "FTA             771 non-null float64\n",
      "FT%             771 non-null float64\n",
      "ORB             771 non-null float64\n",
      "DRB             771 non-null float64\n",
      "TRB             771 non-null float64\n",
      "AST             771 non-null float64\n",
      "STL             771 non-null float64\n",
      "BLK             771 non-null float64\n",
      "TOV             771 non-null float64\n",
      "PF              771 non-null float64\n",
      "PTS             771 non-null float64\n",
      "avg_playtime    771 non-null float64\n",
      "dtypes: float64(24), int64(4), object(3)\n",
      "memory usage: 192.8+ KB\n"
     ]
    }
   ],
   "source": [
    "nba_data.info()"
   ]
  },
  {
   "cell_type": "markdown",
   "metadata": {
    "colab_type": "text",
    "id": "86lfEP_91D_0"
   },
   "source": [
    "Choose a subset of numeric columns that is interesting to you from an \"archetypal\" standpoint. \n",
    "\n",
    "We will choose the following basic statistics: **points, total rebounds, assists, steals, blocks**, and **turnovers**, but you should feel free to choose other reasonable feature sets if you like. Be careful not to include too many dimensions (curse of dimensionality)."
   ]
  },
  {
   "cell_type": "markdown",
   "metadata": {
    "colab": {},
    "colab_type": "code",
    "id": "o3PUI4l61D_0"
   },
   "source": [
    "- 3P: 3 pointers\n",
    "- TRB: total rebounds\n",
    "- AST: assists\n",
    "- STL: steals\n",
    "- BLK: blocks\n",
    "- TOV: turnovers\n",
    "- PTS: points"
   ]
  },
  {
   "cell_type": "code",
   "execution_count": 29,
   "metadata": {},
   "outputs": [],
   "source": [
    "sub_data = nba_data[['3P','TRB','AST','STL','BLK','TOV','PTS']]"
   ]
  },
  {
   "cell_type": "code",
   "execution_count": 30,
   "metadata": {},
   "outputs": [
    {
     "name": "stdout",
     "output_type": "stream",
     "text": [
      "<class 'pandas.core.frame.DataFrame'>\n",
      "Int64Index: 771 entries, 3 to 2139\n",
      "Data columns (total 7 columns):\n",
      "3P     771 non-null float64\n",
      "TRB    771 non-null float64\n",
      "AST    771 non-null float64\n",
      "STL    771 non-null float64\n",
      "BLK    771 non-null float64\n",
      "TOV    771 non-null float64\n",
      "PTS    771 non-null float64\n",
      "dtypes: float64(7)\n",
      "memory usage: 48.2 KB\n"
     ]
    }
   ],
   "source": [
    "sub_data.info()"
   ]
  },
  {
   "cell_type": "markdown",
   "metadata": {
    "colab_type": "text",
    "id": "MUjcLMMk1D_2"
   },
   "source": [
    "Standardize the features in your dataset using scikit-learn's StandardScaler, which will set the mean of each feature to 0 and the variance to 1."
   ]
  },
  {
   "cell_type": "code",
   "execution_count": 32,
   "metadata": {
    "colab": {},
    "colab_type": "code",
    "id": "6OTdN8oF1D_2"
   },
   "outputs": [],
   "source": [
    "scaler = StandardScaler()\n",
    "sub_data_scaled = scaler.fit_transform(sub_data)\n",
    "\n",
    "\n"
   ]
  },
  {
   "cell_type": "code",
   "execution_count": 33,
   "metadata": {},
   "outputs": [
    {
     "data": {
      "text/plain": [
       "array([[-1.43979394,  1.72130219, -0.65280583, ...,  0.90468682,\n",
       "         0.00202423,  0.08230929],\n",
       "       [-1.43979394,  0.84454991, -0.36683236, ...,  0.4820794 ,\n",
       "        -0.23808092, -0.77758856],\n",
       "       [-1.32453268,  1.60174506, -0.27150788, ...,  1.53859794,\n",
       "         0.12207681,  1.3549581 ],\n",
       "       ...,\n",
       "       [ 0.75016986,  0.48587852, -0.74813031, ...,  0.90468682,\n",
       "        -1.07844895, -0.29604576],\n",
       "       [-1.32453268,  1.52204031, -0.55748134, ..., -0.15183172,\n",
       "         0.24212938,  0.28868477],\n",
       "       [-1.43979394,  0.40617377, -0.93877929, ...,  0.69338311,\n",
       "        -0.95839637, -0.81198447]])"
      ]
     },
     "execution_count": 33,
     "metadata": {},
     "output_type": "execute_result"
    }
   ],
   "source": [
    "sub_data_scaled"
   ]
  },
  {
   "cell_type": "markdown",
   "metadata": {
    "colab_type": "text",
    "id": "ao3Y5FVp1D_4"
   },
   "source": [
    "Run K-means clustering with K = 3 and print out the resulting centroids. When printing the centroids, transform the scaled centroids back into their corresponding unscaled values. What \"archetypes\" do you see?"
   ]
  },
  {
   "cell_type": "code",
   "execution_count": 34,
   "metadata": {
    "colab": {},
    "colab_type": "code",
    "id": "sUhMxZdL1D_4"
   },
   "outputs": [
    {
     "data": {
      "text/plain": [
       "KMeans(algorithm='auto', copy_x=True, init='k-means++', max_iter=300,\n",
       "       n_clusters=3, n_init=10, n_jobs=None, precompute_distances='auto',\n",
       "       random_state=None, tol=0.0001, verbose=0)"
      ]
     },
     "execution_count": 34,
     "metadata": {},
     "output_type": "execute_result"
    }
   ],
   "source": [
    "clst = KMeans(n_clusters=3)\n",
    "clst.fit(sub_data_scaled)"
   ]
  },
  {
   "cell_type": "code",
   "execution_count": 39,
   "metadata": {},
   "outputs": [],
   "source": [
    "centroids =scaler.inverse_transform(clst.cluster_centers_)"
   ]
  },
  {
   "cell_type": "code",
   "execution_count": 41,
   "metadata": {},
   "outputs": [],
   "source": [
    "centroids_df =pd.DataFrame(centroids)"
   ]
  },
  {
   "cell_type": "code",
   "execution_count": 42,
   "metadata": {},
   "outputs": [
    {
     "data": {
      "text/html": [
       "<div>\n",
       "<style scoped>\n",
       "    .dataframe tbody tr th:only-of-type {\n",
       "        vertical-align: middle;\n",
       "    }\n",
       "\n",
       "    .dataframe tbody tr th {\n",
       "        vertical-align: top;\n",
       "    }\n",
       "\n",
       "    .dataframe thead th {\n",
       "        text-align: right;\n",
       "    }\n",
       "</style>\n",
       "<table border=\"1\" class=\"dataframe\">\n",
       "  <thead>\n",
       "    <tr style=\"text-align: right;\">\n",
       "      <th></th>\n",
       "      <th>0</th>\n",
       "      <th>1</th>\n",
       "      <th>2</th>\n",
       "      <th>3</th>\n",
       "      <th>4</th>\n",
       "      <th>5</th>\n",
       "      <th>6</th>\n",
       "    </tr>\n",
       "  </thead>\n",
       "  <tbody>\n",
       "    <tr>\n",
       "      <td>0</td>\n",
       "      <td>0.508571</td>\n",
       "      <td>8.190857</td>\n",
       "      <td>1.980571</td>\n",
       "      <td>0.773714</td>\n",
       "      <td>1.176000</td>\n",
       "      <td>1.673143</td>\n",
       "      <td>13.578857</td>\n",
       "    </tr>\n",
       "    <tr>\n",
       "      <td>1</td>\n",
       "      <td>1.780925</td>\n",
       "      <td>5.346243</td>\n",
       "      <td>5.964740</td>\n",
       "      <td>1.372832</td>\n",
       "      <td>0.501156</td>\n",
       "      <td>2.816763</td>\n",
       "      <td>19.694220</td>\n",
       "    </tr>\n",
       "    <tr>\n",
       "      <td>2</td>\n",
       "      <td>1.338061</td>\n",
       "      <td>3.867849</td>\n",
       "      <td>2.153901</td>\n",
       "      <td>0.831678</td>\n",
       "      <td>0.350827</td>\n",
       "      <td>1.251300</td>\n",
       "      <td>10.790780</td>\n",
       "    </tr>\n",
       "  </tbody>\n",
       "</table>\n",
       "</div>"
      ],
      "text/plain": [
       "          0         1         2         3         4         5          6\n",
       "0  0.508571  8.190857  1.980571  0.773714  1.176000  1.673143  13.578857\n",
       "1  1.780925  5.346243  5.964740  1.372832  0.501156  2.816763  19.694220\n",
       "2  1.338061  3.867849  2.153901  0.831678  0.350827  1.251300  10.790780"
      ]
     },
     "execution_count": 42,
     "metadata": {},
     "output_type": "execute_result"
    }
   ],
   "source": [
    "centroids_df"
   ]
  },
  {
   "cell_type": "code",
   "execution_count": 49,
   "metadata": {},
   "outputs": [],
   "source": [
    "tall_centroids_df = pd.melt(centroids_df.reset_index(), \"index\")"
   ]
  },
  {
   "cell_type": "code",
   "execution_count": 51,
   "metadata": {},
   "outputs": [
    {
     "data": {
      "text/html": [
       "<div>\n",
       "<style scoped>\n",
       "    .dataframe tbody tr th:only-of-type {\n",
       "        vertical-align: middle;\n",
       "    }\n",
       "\n",
       "    .dataframe tbody tr th {\n",
       "        vertical-align: top;\n",
       "    }\n",
       "\n",
       "    .dataframe thead th {\n",
       "        text-align: right;\n",
       "    }\n",
       "</style>\n",
       "<table border=\"1\" class=\"dataframe\">\n",
       "  <thead>\n",
       "    <tr style=\"text-align: right;\">\n",
       "      <th></th>\n",
       "      <th>index</th>\n",
       "      <th>variable</th>\n",
       "      <th>value</th>\n",
       "    </tr>\n",
       "  </thead>\n",
       "  <tbody>\n",
       "    <tr>\n",
       "      <td>0</td>\n",
       "      <td>0</td>\n",
       "      <td>0</td>\n",
       "      <td>0.508571</td>\n",
       "    </tr>\n",
       "    <tr>\n",
       "      <td>1</td>\n",
       "      <td>1</td>\n",
       "      <td>0</td>\n",
       "      <td>1.780925</td>\n",
       "    </tr>\n",
       "    <tr>\n",
       "      <td>2</td>\n",
       "      <td>2</td>\n",
       "      <td>0</td>\n",
       "      <td>1.338061</td>\n",
       "    </tr>\n",
       "    <tr>\n",
       "      <td>3</td>\n",
       "      <td>0</td>\n",
       "      <td>1</td>\n",
       "      <td>8.190857</td>\n",
       "    </tr>\n",
       "    <tr>\n",
       "      <td>4</td>\n",
       "      <td>1</td>\n",
       "      <td>1</td>\n",
       "      <td>5.346243</td>\n",
       "    </tr>\n",
       "    <tr>\n",
       "      <td>5</td>\n",
       "      <td>2</td>\n",
       "      <td>1</td>\n",
       "      <td>3.867849</td>\n",
       "    </tr>\n",
       "    <tr>\n",
       "      <td>6</td>\n",
       "      <td>0</td>\n",
       "      <td>2</td>\n",
       "      <td>1.980571</td>\n",
       "    </tr>\n",
       "    <tr>\n",
       "      <td>7</td>\n",
       "      <td>1</td>\n",
       "      <td>2</td>\n",
       "      <td>5.964740</td>\n",
       "    </tr>\n",
       "    <tr>\n",
       "      <td>8</td>\n",
       "      <td>2</td>\n",
       "      <td>2</td>\n",
       "      <td>2.153901</td>\n",
       "    </tr>\n",
       "    <tr>\n",
       "      <td>9</td>\n",
       "      <td>0</td>\n",
       "      <td>3</td>\n",
       "      <td>0.773714</td>\n",
       "    </tr>\n",
       "    <tr>\n",
       "      <td>10</td>\n",
       "      <td>1</td>\n",
       "      <td>3</td>\n",
       "      <td>1.372832</td>\n",
       "    </tr>\n",
       "    <tr>\n",
       "      <td>11</td>\n",
       "      <td>2</td>\n",
       "      <td>3</td>\n",
       "      <td>0.831678</td>\n",
       "    </tr>\n",
       "    <tr>\n",
       "      <td>12</td>\n",
       "      <td>0</td>\n",
       "      <td>4</td>\n",
       "      <td>1.176000</td>\n",
       "    </tr>\n",
       "    <tr>\n",
       "      <td>13</td>\n",
       "      <td>1</td>\n",
       "      <td>4</td>\n",
       "      <td>0.501156</td>\n",
       "    </tr>\n",
       "    <tr>\n",
       "      <td>14</td>\n",
       "      <td>2</td>\n",
       "      <td>4</td>\n",
       "      <td>0.350827</td>\n",
       "    </tr>\n",
       "    <tr>\n",
       "      <td>15</td>\n",
       "      <td>0</td>\n",
       "      <td>5</td>\n",
       "      <td>1.673143</td>\n",
       "    </tr>\n",
       "    <tr>\n",
       "      <td>16</td>\n",
       "      <td>1</td>\n",
       "      <td>5</td>\n",
       "      <td>2.816763</td>\n",
       "    </tr>\n",
       "    <tr>\n",
       "      <td>17</td>\n",
       "      <td>2</td>\n",
       "      <td>5</td>\n",
       "      <td>1.251300</td>\n",
       "    </tr>\n",
       "    <tr>\n",
       "      <td>18</td>\n",
       "      <td>0</td>\n",
       "      <td>6</td>\n",
       "      <td>13.578857</td>\n",
       "    </tr>\n",
       "    <tr>\n",
       "      <td>19</td>\n",
       "      <td>1</td>\n",
       "      <td>6</td>\n",
       "      <td>19.694220</td>\n",
       "    </tr>\n",
       "    <tr>\n",
       "      <td>20</td>\n",
       "      <td>2</td>\n",
       "      <td>6</td>\n",
       "      <td>10.790780</td>\n",
       "    </tr>\n",
       "  </tbody>\n",
       "</table>\n",
       "</div>"
      ],
      "text/plain": [
       "    index variable      value\n",
       "0       0        0   0.508571\n",
       "1       1        0   1.780925\n",
       "2       2        0   1.338061\n",
       "3       0        1   8.190857\n",
       "4       1        1   5.346243\n",
       "5       2        1   3.867849\n",
       "6       0        2   1.980571\n",
       "7       1        2   5.964740\n",
       "8       2        2   2.153901\n",
       "9       0        3   0.773714\n",
       "10      1        3   1.372832\n",
       "11      2        3   0.831678\n",
       "12      0        4   1.176000\n",
       "13      1        4   0.501156\n",
       "14      2        4   0.350827\n",
       "15      0        5   1.673143\n",
       "16      1        5   2.816763\n",
       "17      2        5   1.251300\n",
       "18      0        6  13.578857\n",
       "19      1        6  19.694220\n",
       "20      2        6  10.790780"
      ]
     },
     "execution_count": 51,
     "metadata": {},
     "output_type": "execute_result"
    }
   ],
   "source": [
    "tall_centroids_df"
   ]
  },
  {
   "cell_type": "code",
   "execution_count": 54,
   "metadata": {},
   "outputs": [],
   "source": [
    "var_dic = {0: '3 pointers',\n",
    "1: 'total rebounds',\n",
    "2: 'assists',\n",
    "3: 'steals',\n",
    "4: 'blocks',\n",
    "5: 'turnovers',\n",
    "6: 'points'\n",
    "          }\n",
    "\n",
    "tall_centroids_df['variable']=tall_centroids_df['variable'].replace(var_dic)"
   ]
  },
  {
   "cell_type": "code",
   "execution_count": 55,
   "metadata": {},
   "outputs": [
    {
     "data": {
      "text/plain": [
       "<matplotlib.axes._subplots.AxesSubplot at 0x2735b3d2d08>"
      ]
     },
     "execution_count": 55,
     "metadata": {},
     "output_type": "execute_result"
    },
    {
     "data": {
      "image/png": "[encoded data removed]",
      "text/plain": [
       "<Figure size 432x288 with 1 Axes>"
      ]
     },
     "metadata": {
      "needs_background": "light"
     },
     "output_type": "display_data"
    }
   ],
   "source": [
    "sns.barplot(data=tall_centroids_df,x='variable',y='value', hue='index')"
   ]
  },
  {
   "cell_type": "markdown",
   "metadata": {
    "colab_type": "text",
    "id": "y0wBOUWJ1D_6"
   },
   "source": [
    "Experiment with different values of K. Do any further interesting archetypes come out?"
   ]
  },
  {
   "cell_type": "code",
   "execution_count": 57,
   "metadata": {
    "colab": {},
    "colab_type": "code",
    "id": "AdKYEBx61D_6"
   },
   "outputs": [
    {
     "data": {
      "image/png": "[encoded data removed]",
      "text/plain": [
       "<Figure size 432x288 with 1 Axes>"
      ]
     },
     "metadata": {
      "needs_background": "light"
     },
     "output_type": "display_data"
    },
    {
     "data": {
      "image/png": "[encoded data removed]",
      "text/plain": [
       "<Figure size 432x288 with 1 Axes>"
      ]
     },
     "metadata": {
      "needs_background": "light"
     },
     "output_type": "display_data"
    },
    {
     "data": {
      "image/png": "[encoded data removed]",
      "text/plain": [
       "<Figure size 432x288 with 1 Axes>"
      ]
     },
     "metadata": {
      "needs_background": "light"
     },
     "output_type": "display_data"
    },
    {
     "data": {
      "image/png": "[encoded data removed]",
      "text/plain": [
       "<Figure size 432x288 with 1 Axes>"
      ]
     },
     "metadata": {
      "needs_background": "light"
     },
     "output_type": "display_data"
    }
   ],
   "source": [
    "for k in range(2,6):\n",
    "    clst = KMeans(n_clusters=k)\n",
    "    clst.fit(sub_data_scaled)\n",
    "    centroids =scaler.inverse_transform(clst.cluster_centers_)\n",
    "    centroids_df =pd.DataFrame(centroids)\n",
    "    tall_centroids_df = pd.melt(centroids_df.reset_index(), \"index\")\n",
    "    tall_centroids_df['variable']=tall_centroids_df['variable'].replace(var_dic)\n",
    "    sns.barplot(data=tall_centroids_df,x='variable',y='value', hue='index')\n",
    "    plt.show()"
   ]
  },
  {
   "cell_type": "markdown",
   "metadata": {},
   "source": [
    "Primarily there is one group of high performing players with some differentiation based on offensive and defense (blocks vs points)."
   ]
  }
 ],
 "metadata": {
  "colab": {
   "collapsed_sections": [],
   "name": "Day 26 Lecture 1 Assignment.ipynb",
   "provenance": []
  },
  "kernelspec": {
   "display_name": "Python 3",
   "language": "python",
   "name": "python3"
  },
  "language_info": {
   "codemirror_mode": {
    "name": "ipython",
    "version": 3
   },
   "file_extension": ".py",
   "mimetype": "text/x-python",
   "name": "python",
   "nbconvert_exporter": "python",
   "pygments_lexer": "ipython3",
   "version": "3.7.7"
  }
 },
 "nbformat": 4,
 "nbformat_minor": 1
}
