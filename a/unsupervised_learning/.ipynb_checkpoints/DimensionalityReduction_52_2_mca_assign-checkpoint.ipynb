{
 "cells": [
  {
   "cell_type": "markdown",
   "metadata": {
    "colab_type": "text",
    "id": "2549x-oTKtbR"
   },
   "source": [
    "### Correspondence Analysis Assignment \n",
    "\n",
    "Jay Urbain, PhD\n",
    "\n",
    "Objectives:    \n",
    "- Students can explain factor analysis\n",
    "\n",
    "- Students understand how factor analysis differs from PCA and ICA\n",
    "\n",
    "- Students can identify common use cases for factor analysis\n",
    "\n",
    "- **Students can apply factor analysis to an appropriate dataset (i.e. purely quantitative)**\n",
    "\n",
    "- **Students can explain dimensionality reduction techniques for categorical (MCA) and mixed (FAMD) data**\n",
    "\n",
    "- **Students can apply MCA and FAMD to appropriate datasets**\n",
    "\n",
    "References\n",
    "\n",
    "- Phillip M. Yelland, An Introduction to Correspondence Analysis, The Mathematical Journal, Volume 12   \n",
    "https://www.mathematica-journal.com/2010/09/an-introduction-to-correspondence-analysis/\n",
    "\n",
    "- Theory of Correspondence  Analysis  \n",
    "http://statmath.wu.ac.at/courses/CAandRelMeth/caipA.pdf\n",
    "\n",
    "-  Dr J Maiti, IIT Kharagpur, Mod-01 Lec-41 Correspondence Analysis  \n",
    "https://www.youtube.com/watch?v=jr47E7MZfwY\n",
    "\n",
    "- Wikipedia - Correspondence Analysis  \n",
    "https://en.wikipedia.org/wiki/Correspondence_analysis\n",
    "\n",
    "- Wikipedia - Multiple Correspondence Analysis    \n",
    "https://en.wikipedia.org/wiki/Multiple_correspondence_analysis\n",
    "\n",
    "- Wikipedia Factor Analysis of Mixed Data     \n",
    "https://en.wikipedia.org/wiki/Factor_analysis_of_mixed_data\n",
    "\n",
    "- Prince factor analysis library   \n",
    "https://github.com/MaxHalford/prince\n",
    "\n",
    "- Elena, Introduction to Correspondence Analysis    \n",
    "https://codefying.com/2018/12/21/introduction-to-correspondence-analysis/\n",
    "\n"
   ]
  },
  {
   "cell_type": "markdown",
   "metadata": {
    "colab_type": "text",
    "id": "ELgJd-T0KtbW"
   },
   "source": [
    "### Correspondence Analysis\n",
    "\n",
    "Correspondence analysis (CA) is a data analysis technique for nominal (categorical) data. \n",
    "\n",
    "CA is used to detect and represent underlying structures using cross tabulations of a data set. It does this by representing data as points in a low-dimensional Euclidean space. \n",
    "\n",
    "CA is conceptually similar to principal component analysis, but applies to categorical rather than continuous data.\n",
    "\n",
    "MCA can be viewed as an extension of simple correspondence analysis (CA) in that it is applicable to a large set of categorical variables.\n",
    "\n",
    "CA and MCA provide a means of displaying or summarising a set of data in two-dimensional graphical form.\n"
   ]
  },
  {
   "cell_type": "markdown",
   "metadata": {
    "colab_type": "text",
    "id": "91GzlXQwKtbX"
   },
   "source": [
    "### Introduction\n",
    "\n",
    "CA essentially provides a graphical representation of cross tabulations (cross tabs, or contingency tables). \n",
    "\n",
    "A contingency table is a tabulation of frequencies of how categorical values are distributed by variables. \n",
    "\n",
    "Cross tabulations arise whenever it is possible to place events into two or more different sets of categories, such as product and location for purchases in market research or symptom and treatment in medical testing. \n",
    "\n",
    "An introduction to correspondence analysis is provided in the form of an exercise in textual analysis—identifying the author of a text based on examination of its characters (from Yelland). \n"
   ]
  },
  {
   "cell_type": "code",
   "execution_count": 1,
   "metadata": {
    "colab": {},
    "colab_type": "code",
    "id": "oFgQhd7zKtbY"
   },
   "outputs": [],
   "source": [
    "%matplotlib inline\n",
    "\n",
    "import pandas as pd\n",
    "import numpy as np\n",
    "import itertools\n",
    "\n",
    "from scipy.stats import chi2_contingency\n",
    "\n",
    "import seaborn as sns; \n",
    "sns.set()\n",
    "import matplotlib.pyplot as plt\n"
   ]
  },
  {
   "cell_type": "markdown",
   "metadata": {
    "colab_type": "text",
    "id": "BnESy5ZuKtbc"
   },
   "source": [
    "Sample dataset\n",
    "\n",
    "Consider the following list of seventeenth- and eighteenth-century writers.\n"
   ]
  },
  {
   "cell_type": "code",
   "execution_count": 2,
   "metadata": {
    "colab": {},
    "colab_type": "code",
    "id": "t_T2sIKZKtbd"
   },
   "outputs": [],
   "source": [
    "authors = [\"Charles Darwin\", \"Rene Descartes\",\"Thomas Hobbes\", \"Mary Shelley\", \"Mark Twain\"]\n",
    "initials=['CD1','CD2','CD3','RD1','RD2','RD3','TB1','TB2','TB3','MS1','MS2','MS3','MT1','MT2','MT3']\n",
    "chars=[\"B\", \"C\", \"D\", \"F\", \"G\", \"H\", \"I\", \"L\", \"M\", \"N\",\"P\", \"R\", \"S\", \"U\", \"W\", \"Y\"]"
   ]
  },
  {
   "cell_type": "code",
   "execution_count": 3,
   "metadata": {
    "colab": {},
    "colab_type": "code",
    "id": "3uoKe6YVKtbj"
   },
   "outputs": [
    {
     "data": {
      "text/plain": [
       "['Charles Darwin: 1',\n",
       " 'Charles Darwin: 2',\n",
       " 'Charles Darwin: 3',\n",
       " 'Rene Descartes: 1',\n",
       " 'Rene Descartes: 2',\n",
       " 'Rene Descartes: 3',\n",
       " 'Thomas Hobbes: 1',\n",
       " 'Thomas Hobbes: 2',\n",
       " 'Thomas Hobbes: 3',\n",
       " 'Mary Shelley: 1',\n",
       " 'Mary Shelley: 2',\n",
       " 'Mary Shelley: 3',\n",
       " 'Mark Twain: 1',\n",
       " 'Mark Twain: 2',\n",
       " 'Mark Twain: 3']"
      ]
     },
     "execution_count": 3,
     "metadata": {},
     "output_type": "execute_result"
    }
   ],
   "source": [
    "authorSamples = list(itertools.chain.from_iterable([[a+\": \"+str(i) for i in [1,2,3]] for a in authors]))\n",
    "authorSamples"
   ]
  },
  {
   "cell_type": "markdown",
   "metadata": {
    "colab_type": "text",
    "id": "CQU4iSHFKtbm"
   },
   "source": [
    "The contingency table built from how often these letters appear in three passages per author are shown below. \n",
    "\n",
    "Where rows=authors, and columns=characters.\n",
    "\n",
    "A contingency table is a type of table in a matrix format that displays the (multivariate) frequency distribution of the variables. \n",
    "\n",
    "For example, 'Charles Darwin: 1' uses the character \"B\" 34 times. 'Mark Twain: 3' uses the character \"C\" 17 times."
   ]
  },
  {
   "cell_type": "code",
   "execution_count": 4,
   "metadata": {
    "colab": {},
    "colab_type": "code",
    "id": "wxmvcPWkKtbn"
   },
   "outputs": [],
   "source": [
    "sampleCrosstab=[[34, 37, 44, 27, 19, 39, 74, 44, 27, 61, 12, 65, 69,22, 14, 21],\n",
    "                [18, 33, 47, 24, 14, 38, 66, 41, 36,72, 15, 62, 63, 31, 12, 18],\n",
    "                [32, 43, 36, 12, 21, 51, 75, 33, 23, 60, 24, 68, 85,18, 13, 14],\n",
    "                [13, 31, 55, 29, 15, 62, 74, 43, 28,73, 8, 59, 54, 32, 19, 20],\n",
    "                [8, 28, 34, 24, 17, 68, 75, 34, 25, 70, 16, 56, 72,31, 14, 11], \n",
    "                [9, 34, 43, 25, 18, 68, 84, 25, 32, 76,14, 69, 64, 27, 11, 18],\n",
    "                [15, 20, 28, 18, 19, 65, 82, 34, 29, 89, 11, 47, 74,18, 22, 17], \n",
    "                [18, 14, 40, 25, 21, 60, 70, 15, 37,80, 15, 65, 68, 21, 25, 9],\n",
    "                [19, 18, 41, 26, 19, 58, 64, 18, 38, 78, 15, 65, 72,20, 20, 11], \n",
    "                [13, 29, 49, 31, 16, 61, 73, 36, 29,69, 13, 63, 58, 18, 20, 25],\n",
    "                [17, 34, 43, 29, 14, 62, 64, 26, 26, 71, 26, 78, 64, 21, 18, 12],\n",
    "                [13, 22, 43, 16, 11, 70, 68, 46, 35,57, 30, 71, 57, 19, 22, 20],\n",
    "                [16, 18, 56, 13, 27, 67, 61, 43, 20, 63, 14, 43, 67,34, 41, 23], \n",
    "                [15, 21, 66, 21, 19, 50, 62, 50, 24, 68, 14, 40, 58, 31, 36, 26],\n",
    "                [19, 17, 70, 12, 28, 53, 72, 39, 22, 71, 11, 40, 67,25, 41, 17]]"
   ]
  },
  {
   "cell_type": "code",
   "execution_count": 5,
   "metadata": {
    "colab": {},
    "colab_type": "code",
    "id": "011nRX85Ktbq"
   },
   "outputs": [],
   "source": [
    "dfTableForm = pd.DataFrame(data=np.transpose(sampleCrosstab), columns=authorSamples)"
   ]
  },
  {
   "cell_type": "code",
   "execution_count": 6,
   "metadata": {
    "colab": {},
    "colab_type": "code",
    "id": "5KnYYKZAKtbt"
   },
   "outputs": [
    {
     "data": {
      "text/html": [
       "<div>\n",
       "<style scoped>\n",
       "    .dataframe tbody tr th:only-of-type {\n",
       "        vertical-align: middle;\n",
       "    }\n",
       "\n",
       "    .dataframe tbody tr th {\n",
       "        vertical-align: top;\n",
       "    }\n",
       "\n",
       "    .dataframe thead th {\n",
       "        text-align: right;\n",
       "    }\n",
       "</style>\n",
       "<table border=\"1\" class=\"dataframe\">\n",
       "  <thead>\n",
       "    <tr style=\"text-align: right;\">\n",
       "      <th></th>\n",
       "      <th>Charles Darwin: 1</th>\n",
       "      <th>Charles Darwin: 2</th>\n",
       "      <th>Charles Darwin: 3</th>\n",
       "      <th>Rene Descartes: 1</th>\n",
       "      <th>Rene Descartes: 2</th>\n",
       "      <th>Rene Descartes: 3</th>\n",
       "      <th>Thomas Hobbes: 1</th>\n",
       "      <th>Thomas Hobbes: 2</th>\n",
       "      <th>Thomas Hobbes: 3</th>\n",
       "      <th>Mary Shelley: 1</th>\n",
       "      <th>Mary Shelley: 2</th>\n",
       "      <th>Mary Shelley: 3</th>\n",
       "      <th>Mark Twain: 1</th>\n",
       "      <th>Mark Twain: 2</th>\n",
       "      <th>Mark Twain: 3</th>\n",
       "    </tr>\n",
       "  </thead>\n",
       "  <tbody>\n",
       "    <tr>\n",
       "      <th>0</th>\n",
       "      <td>34</td>\n",
       "      <td>18</td>\n",
       "      <td>32</td>\n",
       "      <td>13</td>\n",
       "      <td>8</td>\n",
       "      <td>9</td>\n",
       "      <td>15</td>\n",
       "      <td>18</td>\n",
       "      <td>19</td>\n",
       "      <td>13</td>\n",
       "      <td>17</td>\n",
       "      <td>13</td>\n",
       "      <td>16</td>\n",
       "      <td>15</td>\n",
       "      <td>19</td>\n",
       "    </tr>\n",
       "    <tr>\n",
       "      <th>1</th>\n",
       "      <td>37</td>\n",
       "      <td>33</td>\n",
       "      <td>43</td>\n",
       "      <td>31</td>\n",
       "      <td>28</td>\n",
       "      <td>34</td>\n",
       "      <td>20</td>\n",
       "      <td>14</td>\n",
       "      <td>18</td>\n",
       "      <td>29</td>\n",
       "      <td>34</td>\n",
       "      <td>22</td>\n",
       "      <td>18</td>\n",
       "      <td>21</td>\n",
       "      <td>17</td>\n",
       "    </tr>\n",
       "    <tr>\n",
       "      <th>2</th>\n",
       "      <td>44</td>\n",
       "      <td>47</td>\n",
       "      <td>36</td>\n",
       "      <td>55</td>\n",
       "      <td>34</td>\n",
       "      <td>43</td>\n",
       "      <td>28</td>\n",
       "      <td>40</td>\n",
       "      <td>41</td>\n",
       "      <td>49</td>\n",
       "      <td>43</td>\n",
       "      <td>43</td>\n",
       "      <td>56</td>\n",
       "      <td>66</td>\n",
       "      <td>70</td>\n",
       "    </tr>\n",
       "    <tr>\n",
       "      <th>3</th>\n",
       "      <td>27</td>\n",
       "      <td>24</td>\n",
       "      <td>12</td>\n",
       "      <td>29</td>\n",
       "      <td>24</td>\n",
       "      <td>25</td>\n",
       "      <td>18</td>\n",
       "      <td>25</td>\n",
       "      <td>26</td>\n",
       "      <td>31</td>\n",
       "      <td>29</td>\n",
       "      <td>16</td>\n",
       "      <td>13</td>\n",
       "      <td>21</td>\n",
       "      <td>12</td>\n",
       "    </tr>\n",
       "    <tr>\n",
       "      <th>4</th>\n",
       "      <td>19</td>\n",
       "      <td>14</td>\n",
       "      <td>21</td>\n",
       "      <td>15</td>\n",
       "      <td>17</td>\n",
       "      <td>18</td>\n",
       "      <td>19</td>\n",
       "      <td>21</td>\n",
       "      <td>19</td>\n",
       "      <td>16</td>\n",
       "      <td>14</td>\n",
       "      <td>11</td>\n",
       "      <td>27</td>\n",
       "      <td>19</td>\n",
       "      <td>28</td>\n",
       "    </tr>\n",
       "  </tbody>\n",
       "</table>\n",
       "</div>"
      ],
      "text/plain": [
       "   Charles Darwin: 1  Charles Darwin: 2  Charles Darwin: 3  Rene Descartes: 1  \\\n",
       "0                 34                 18                 32                 13   \n",
       "1                 37                 33                 43                 31   \n",
       "2                 44                 47                 36                 55   \n",
       "3                 27                 24                 12                 29   \n",
       "4                 19                 14                 21                 15   \n",
       "\n",
       "   Rene Descartes: 2  Rene Descartes: 3  Thomas Hobbes: 1  Thomas Hobbes: 2  \\\n",
       "0                  8                  9                15                18   \n",
       "1                 28                 34                20                14   \n",
       "2                 34                 43                28                40   \n",
       "3                 24                 25                18                25   \n",
       "4                 17                 18                19                21   \n",
       "\n",
       "   Thomas Hobbes: 3  Mary Shelley: 1  Mary Shelley: 2  Mary Shelley: 3  \\\n",
       "0                19               13               17               13   \n",
       "1                18               29               34               22   \n",
       "2                41               49               43               43   \n",
       "3                26               31               29               16   \n",
       "4                19               16               14               11   \n",
       "\n",
       "   Mark Twain: 1  Mark Twain: 2  Mark Twain: 3  \n",
       "0             16             15             19  \n",
       "1             18             21             17  \n",
       "2             56             66             70  \n",
       "3             13             21             12  \n",
       "4             27             19             28  "
      ]
     },
     "execution_count": 6,
     "metadata": {},
     "output_type": "execute_result"
    }
   ],
   "source": [
    "dfTableForm.head()"
   ]
  },
  {
   "cell_type": "markdown",
   "metadata": {
    "colab_type": "text",
    "id": "5nHFy_BOKtbw"
   },
   "source": [
    "Can you spot patterns in the use of letters by author in the cross tab?\n",
    "\n",
    "Very difficult, so CA uses the $\\chi^2$ statistic.\n",
    "\n"
   ]
  },
  {
   "cell_type": "markdown",
   "metadata": {
    "colab_type": "text",
    "id": "mJ3TYX6OKtbx"
   },
   "source": [
    "### Chi-Squared Statistic and Chi-Squared Distances\n",
    "\n",
    "Pearson's chi-squared test ($\\chi^2$) is a independence test applied to sets of categorical data to evaluate how likely it is that any observed difference between the sets arose by chance. \n",
    "\n",
    "The $\\chi^2$  test we can be used to say with reasonable certainty if the distribution of letters differs from one author to another. $\\chi^2$  is defined as.\n",
    "\n",
    "$$\n",
    "\\chi^2 = \\sum_I \\sum_J \\dfrac{\\left(n_{ij} - \\left(\\dfrac{n_i n_j}{n}\\right)\\right)^2}  {\\dfrac{n_i n_j}{n}}\n",
    "$$\n",
    "\n",
    "Where $n$ is the total number of frequencies, $n_{ij}$  is the letter frequency in row $i$  and column $j$ , and $n_{i}$  and $n_{j}$  are the total frequencies in row $i$  and column $j$  respectively. \n",
    "\n",
    "The product of $n_{i}$  and $n_{j}$ are normalized by $n$ is the expected frequency for $n_{ij}$  under the independence assumption. This is called the  `independence model`. \n",
    "\n",
    "The greater the value for $\\chi^2$, the greater is the certainty that the use of these letters is different by author. \n"
   ]
  },
  {
   "cell_type": "markdown",
   "metadata": {
    "colab_type": "text",
    "id": "uSXqOy9fKtby"
   },
   "source": [
    "#### Calculate Chi-Squared Statistic\n"
   ]
  },
  {
   "cell_type": "code",
   "execution_count": 7,
   "metadata": {
    "colab": {},
    "colab_type": "code",
    "id": "DpitXsDDKtbz"
   },
   "outputs": [
    {
     "name": "stdout",
     "output_type": "stream",
     "text": [
      "grandTotal 8994\n",
      "correspondenceMatrix [[0.0037803  0.00411385 0.00489215 0.003002   0.00211252 0.00433622\n",
      "  0.00822771 0.00489215 0.003002   0.0067823  0.00133422 0.00722704\n",
      "  0.00767178 0.00244608 0.00155659 0.00233489]\n",
      " [0.00200133 0.00366911 0.00522571 0.00266845 0.00155659 0.00422504\n",
      "  0.00733823 0.00455859 0.00400267 0.00800534 0.00166778 0.00689348\n",
      "  0.00700467 0.00344674 0.00133422 0.00200133]\n",
      " [0.00355793 0.00478097 0.00400267 0.00133422 0.00233489 0.00567045\n",
      "  0.00833889 0.00366911 0.00255726 0.00667111 0.00266845 0.0075606\n",
      "  0.00945074 0.00200133 0.00144541 0.00155659]\n",
      " [0.00144541 0.00344674 0.00611519 0.00322437 0.00166778 0.00689348\n",
      "  0.00822771 0.00478097 0.00311319 0.00811652 0.00088948 0.00655993\n",
      "  0.006004   0.00355793 0.00211252 0.0022237 ]\n",
      " [0.00088948 0.00311319 0.0037803  0.00266845 0.00189015 0.0075606\n",
      "  0.00833889 0.0037803  0.00277963 0.00778297 0.00177896 0.00622637\n",
      "  0.00800534 0.00344674 0.00155659 0.00122304]\n",
      " [0.00100067 0.0037803  0.00478097 0.00277963 0.00200133 0.0075606\n",
      "  0.00933956 0.00277963 0.00355793 0.00845008 0.00155659 0.00767178\n",
      "  0.00711586 0.003002   0.00122304 0.00200133]\n",
      " [0.00166778 0.0022237  0.00311319 0.00200133 0.00211252 0.00722704\n",
      "  0.00911719 0.0037803  0.00322437 0.00989549 0.00122304 0.00522571\n",
      "  0.00822771 0.00200133 0.00244608 0.00189015]\n",
      " [0.00200133 0.00155659 0.00444741 0.00277963 0.00233489 0.00667111\n",
      "  0.00778297 0.00166778 0.00411385 0.00889482 0.00166778 0.00722704\n",
      "  0.0075606  0.00233489 0.00277963 0.00100067]\n",
      " [0.00211252 0.00200133 0.00455859 0.00289082 0.00211252 0.00644874\n",
      "  0.00711586 0.00200133 0.00422504 0.00867245 0.00166778 0.00722704\n",
      "  0.00800534 0.0022237  0.0022237  0.00122304]\n",
      " [0.00144541 0.00322437 0.00544808 0.00344674 0.00177896 0.0067823\n",
      "  0.00811652 0.00400267 0.00322437 0.00767178 0.00144541 0.00700467\n",
      "  0.00644874 0.00200133 0.0022237  0.00277963]\n",
      " [0.00189015 0.0037803  0.00478097 0.00322437 0.00155659 0.00689348\n",
      "  0.00711586 0.00289082 0.00289082 0.00789415 0.00289082 0.00867245\n",
      "  0.00711586 0.00233489 0.00200133 0.00133422]\n",
      " [0.00144541 0.00244608 0.00478097 0.00177896 0.00122304 0.00778297\n",
      "  0.0075606  0.00511452 0.00389148 0.00633756 0.00333556 0.00789415\n",
      "  0.00633756 0.00211252 0.00244608 0.0022237 ]\n",
      " [0.00177896 0.00200133 0.00622637 0.00144541 0.003002   0.00744941\n",
      "  0.0067823  0.00478097 0.0022237  0.00700467 0.00155659 0.00478097\n",
      "  0.00744941 0.0037803  0.00455859 0.00255726]\n",
      " [0.00166778 0.00233489 0.00733823 0.00233489 0.00211252 0.00555926\n",
      "  0.00689348 0.00555926 0.00266845 0.0075606  0.00155659 0.00444741\n",
      "  0.00644874 0.00344674 0.00400267 0.00289082]\n",
      " [0.00211252 0.00189015 0.00778297 0.00133422 0.00311319 0.00589282\n",
      "  0.00800534 0.00433622 0.00244608 0.00789415 0.00122304 0.00444741\n",
      "  0.00744941 0.00277963 0.00455859 0.00189015]]\n",
      "rowTotals [0.06771181 0.06559929 0.06760062 0.06837892 0.06482099 0.06860129\n",
      " 0.06537692 0.06482099 0.06470981 0.0670447  0.06726707 0.06671114\n",
      " 0.06737825 0.06682233 0.06715588]\n",
      "columnTotals [0.02879698 0.04436291 0.07727374 0.0369135  0.0309095  0.09695352\n",
      " 0.11830109 0.05859462 0.04792084 0.11763398 0.02646209 0.09906604\n",
      " 0.11029575 0.04091617 0.03646876 0.02913053]\n"
     ]
    }
   ],
   "source": [
    "grandTotal = np.sum(sampleCrosstab)\n",
    "print('grandTotal', grandTotal)\n",
    "\n",
    "correspondenceMatrix = np.divide(sampleCrosstab,grandTotal)\n",
    "print('correspondenceMatrix', correspondenceMatrix)\n",
    "\n",
    "rowTotals = np.sum(correspondenceMatrix, axis=1)\n",
    "print('rowTotals', rowTotals)\n",
    "\n",
    "columnTotals = np.sum(correspondenceMatrix, axis=0)\n",
    "print('columnTotals', columnTotals)"
   ]
  },
  {
   "cell_type": "code",
   "execution_count": 8,
   "metadata": {
    "colab": {},
    "colab_type": "code",
    "id": "JS08mGGwKtb2"
   },
   "outputs": [],
   "source": [
    "# Compute the outer product of two vectors.\n",
    "# https://docs.scipy.org/doc/numpy/reference/generated/numpy.outer.html\n",
    "\n",
    "independenceModel = np.outer(rowTotals, columnTotals)"
   ]
  },
  {
   "cell_type": "code",
   "execution_count": 9,
   "metadata": {
    "colab": {},
    "colab_type": "code",
    "id": "NVNx4RA3Ktb5"
   },
   "outputs": [
    {
     "name": "stdout",
     "output_type": "stream",
     "text": [
      "448.49666422103445\n"
     ]
    }
   ],
   "source": [
    "chiSquaredStatistic = grandTotal*np.sum(np.square(correspondenceMatrix-independenceModel)/independenceModel)\n",
    "print(chiSquaredStatistic)"
   ]
  },
  {
   "cell_type": "code",
   "execution_count": 10,
   "metadata": {
    "colab": {},
    "colab_type": "code",
    "id": "BWNqRnV-Ktb8"
   },
   "outputs": [
    {
     "name": "stdout",
     "output_type": "stream",
     "text": [
      "448.49666422103445\n",
      "0.0\n"
     ]
    }
   ],
   "source": [
    "# Quick check - compare to scipy Chi-Squared test\n",
    "statistic, prob, dof, ex = chi2_contingency(sampleCrosstab)\n",
    "print(statistic)\n",
    "print(np.round(prob, decimals=2))"
   ]
  },
  {
   "cell_type": "markdown",
   "metadata": {
    "colab_type": "text",
    "id": "xbtl7AX-Ktb-"
   },
   "source": [
    "#### Calculating Chi-Squared Distances"
   ]
  },
  {
   "cell_type": "markdown",
   "metadata": {
    "colab_type": "text",
    "id": "S6sOFmd3Ktb_"
   },
   "source": [
    "The correspondenceMatrix holds normalized frequencies. \n",
    "\n",
    "The $\\chi^2$ statistic is $448.50$ for the contigency table, which is very unlikely to be observed under the null hypothesis (that the letter frequencies follow the same distribution). \n",
    "\n",
    "Having established this, we can continue with the CA as we now know that it should be able to show us some meaningful associations.\n",
    "\n",
    "For the purposes of CA, the differences between the distributions of letters in the text samples are measured by $\\chi^2$ distances, which are weighted Euclidean distances between normalized rows. \n",
    "\n",
    "These are calculated by dividing row entries by their respective row totals. The weights are inversely proportional to the square roots of the column totals. \n",
    "\n",
    "$\\chi^2$-distances between row $i$ and row $k$ are defined as:\n",
    "\n",
    "$$\n",
    "\\chi_{distance_{ik}}^2 = \\sqrt{\\sum_J \\dfrac{ (p_{ij}/p_i - p_{kj}/p_k)^2} {p_j} }\n",
    "$$"
   ]
  },
  {
   "cell_type": "code",
   "execution_count": 0,
   "metadata": {
    "colab": {},
    "colab_type": "code",
    "id": "UmPp3YkAKtcA"
   },
   "outputs": [],
   "source": [
    "# pre-calculate normalised rows\n",
    "norm_correspondenceMatrix = np.divide(correspondenceMatrix,rowTotals[:, None])"
   ]
  },
  {
   "cell_type": "code",
   "execution_count": 0,
   "metadata": {
    "colab": {},
    "colab_type": "code",
    "id": "EB5tt0CYKtcD"
   },
   "outputs": [],
   "source": [
    "chiSquaredDistances = np.zeros((correspondenceMatrix.shape[0],correspondenceMatrix.shape[0]))\n",
    "\n",
    "norm_columnTotals = np.sum(norm_correspondenceMatrix, axis=0)\n",
    "for row in range(correspondenceMatrix.shape[0]):\n",
    "    chiSquaredDistances[row]=np.sqrt(np.sum(np.square(norm_correspondenceMatrix\n",
    "                                -norm_correspondenceMatrix[row])/columnTotals, axis=1))"
   ]
  },
  {
   "cell_type": "code",
   "execution_count": 0,
   "metadata": {
    "colab": {},
    "colab_type": "code",
    "id": "lfpVv4isKtcG"
   },
   "outputs": [],
   "source": [
    "dfchiSquaredDistances = pd.DataFrame(data=np.round(chiSquaredDistances*100).astype(int), columns=authorSamples)"
   ]
  },
  {
   "cell_type": "code",
   "execution_count": 0,
   "metadata": {
    "colab": {},
    "colab_type": "code",
    "id": "HAsoASQfKtcK",
    "scrolled": true
   },
   "outputs": [],
   "source": [
    "dfchiSquaredDistances"
   ]
  },
  {
   "cell_type": "markdown",
   "metadata": {
    "colab_type": "text",
    "id": "biVZJT94KtcN"
   },
   "source": [
    "#### Chi-Squared Distances in Graphical Form\n",
    "\n",
    "CA provides a means of representing a table of $\\chi^2$-distances in a graphical form. This is where the similarity with the PCA analysis comes in. \n",
    "\n",
    "To calculate such representation we need to transform the distances to points in a Cartesian coordinate system. This is achieved by a singular value decomposition (SVD) of a matrix of standardized residuals.\n",
    "\n",
    "$$\n",
    "\\Omega = \\frac{p_{ij}-\\mu_{ij}}{\\sqrt{\\mu_{ij}}}  \n",
    "$$"
   ]
  },
  {
   "cell_type": "code",
   "execution_count": 0,
   "metadata": {
    "colab": {},
    "colab_type": "code",
    "id": "Su4xE6aaKtcO"
   },
   "outputs": [],
   "source": [
    "standardizedResiduals = np.divide((correspondenceMatrix-independenceModel),\n",
    "                                  np.sqrt(independenceModel))"
   ]
  },
  {
   "cell_type": "code",
   "execution_count": 0,
   "metadata": {
    "colab": {},
    "colab_type": "code",
    "id": "tsHllGdiKtcR"
   },
   "outputs": [],
   "source": [
    "\n",
    "u,s,vh = np.linalg.svd(standardizedResiduals, full_matrices=False)"
   ]
  },
  {
   "cell_type": "markdown",
   "metadata": {
    "colab_type": "text",
    "id": "YbxHJYG0KtcU"
   },
   "source": [
    "#### Calculating Row Scores\n",
    "\n",
    "We are after the row scores, which are coordinates of points in a high-dimensional space (14 dimensions in this case). \n",
    "\n",
    "These points are arranged so that the Euclidean distance between two points is equal to the $\\chi^2$-distance between the two rows to which they correspond. The row scores are defined as:\n",
    "\n",
    "$$R = \\delta_{r}\\cdot U\\cdot S $$\n",
    "\n",
    "where $U$ and $S$ are the left singular vectors matrix and singular values on the diagonal matrix from SVD. The $\\delta_{r}$  is diagonal matrix made of the reciprocals of the square roots of the row totals.\n"
   ]
  },
  {
   "cell_type": "code",
   "execution_count": 0,
   "metadata": {
    "colab": {},
    "colab_type": "code",
    "id": "Fxu48jpJKtcV"
   },
   "outputs": [],
   "source": [
    "deltaR = np.diag(np.divide(1.0,np.sqrt(rowTotals)))"
   ]
  },
  {
   "cell_type": "code",
   "execution_count": 0,
   "metadata": {
    "colab": {},
    "colab_type": "code",
    "id": "pWExgJt3Ktcb"
   },
   "outputs": [],
   "source": [
    "rowScores=np.dot(np.dot(deltaR,u),np.diag(s))"
   ]
  },
  {
   "cell_type": "code",
   "execution_count": 0,
   "metadata": {
    "colab": {},
    "colab_type": "code",
    "id": "zIoGV25_Ktcj"
   },
   "outputs": [],
   "source": [
    "dfFirstTwoComponents = pd.DataFrame(data=[l[0:2] for l in rowScores], \n",
    "                                    columns=['X', 'Y'], index=initials)"
   ]
  },
  {
   "cell_type": "markdown",
   "metadata": {
    "colab_type": "text",
    "id": "4QsEJ8j0Ktcl"
   },
   "source": [
    "Extracting the first two components"
   ]
  },
  {
   "cell_type": "code",
   "execution_count": 0,
   "metadata": {
    "colab": {},
    "colab_type": "code",
    "id": "80z4VMTEKtcn"
   },
   "outputs": [],
   "source": [
    "dfFirstTwoComponents"
   ]
  },
  {
   "cell_type": "code",
   "execution_count": 0,
   "metadata": {
    "colab": {},
    "colab_type": "code",
    "id": "AFsAR-beKtcp"
   },
   "outputs": [],
   "source": [
    "ax = sns.scatterplot(data=dfFirstTwoComponents,x='X', y='Y', hue=initials)\n",
    "ax.axhline(y=0, color='k')\n",
    "ax.axvline(x=0, color='k')\n",
    "ax.get_legend().set_visible(False)\n",
    "\n",
    "for label in initials:\n",
    "    plt.annotate(label, \n",
    "                 (dfFirstTwoComponents.loc[label,:]['X'],\n",
    "                  dfFirstTwoComponents.loc[label,:]['Y']),\n",
    "                 horizontalalignment='center', verticalalignment='center',size=11)"
   ]
  },
  {
   "cell_type": "markdown",
   "metadata": {
    "colab_type": "text",
    "id": "xw4wB9P8Ktcs"
   },
   "source": [
    "The plot clearly shows letters associations by author. Mark Twain and Charles Darwin’s samples stand out as significantly different from the rest."
   ]
  },
  {
   "cell_type": "markdown",
   "metadata": {
    "colab_type": "text",
    "id": "8wboqzAXKtct"
   },
   "source": [
    "### Prince\n",
    "\n",
    "Prince is a library for doing factor analysis. This includes a variety of methods including principal component analysis (PCA) and correspondence analysis (CA), multiple correspondence analysis (MCA), multiple factor analyis (MFA), and Factor analysis of mixed data (FAMD). \n",
    "\n",
    "The goal of the Prince library is to provide an efficient implementation for each algorithm along with a scikit-learn API.\n",
    "\n",
    "Each estimator provided by prince extends scikit-learn's `TransformerMixin`. This means that each estimator implements a fit and a transform method which makes them usable in a transformation pipeline. \n",
    "\n",
    "Prince uses a randomised version of `SVD` for all methods. So if you want reproducible results then you should set the random_state parameter.\n",
    "\n",
    "Because each of Prince's algorithms use SVD, they all possess a `n_iter` parameter which controls the number of iterations used for computing the `SVD`. The higher `n_iter` is the more precise the results will be. On the other hand increasing `n_iter` increases the computation time. In general the algorithm converges very quickly so using a low `n_iter` (which is the default behaviour) is recommended.\n",
    "\n",
    "https://github.com/MaxHalford/prince\n",
    "\n",
    "Installation:"
   ]
  },
  {
   "cell_type": "markdown",
   "metadata": {
    "colab_type": "raw",
    "id": "gI69RsvWKtcu"
   },
   "source": [
    "pip install prince  # doctest: +SKIP"
   ]
  },
  {
   "cell_type": "markdown",
   "metadata": {
    "colab_type": "text",
    "id": "gwfrkXM6Ktcv"
   },
   "source": [
    "### Correspondence analysis (CA) with Prince\n",
    "\n",
    "You should be using correspondence analysis to analyse the dependencies between two categorical variables in the form of a contingency table. \n",
    "\n",
    "The following example comes from section 17.2.3 of *Theory of Correspondence Analysis* (references at the top of the notebook). It shows the number of occurrences between different hair and eye colors."
   ]
  },
  {
   "cell_type": "code",
   "execution_count": 0,
   "metadata": {
    "colab": {},
    "colab_type": "code",
    "id": "P4OWOehqKtcv"
   },
   "outputs": [],
   "source": [
    "import pandas as pd\n",
    "\n",
    "pd.set_option('display.float_format', lambda x: '{:.6f}'.format(x))\n",
    "X = pd.DataFrame(\n",
    "    data=[\n",
    "        [326, 38, 241, 110, 3],\n",
    "        [688, 116, 584, 188, 4],\n",
    "        [343, 84, 909, 412, 26],\n",
    "        [98, 48, 403, 681, 85]\n",
    "    ],\n",
    "    columns=pd.Series(['Fair', 'Red', 'Medium', 'Dark', 'Black']),\n",
    "    index=pd.Series(['Blue', 'Light', 'Medium', 'Dark'])\n",
    " )\n",
    "X"
   ]
  },
  {
   "cell_type": "markdown",
   "metadata": {
    "colab_type": "text",
    "id": "bWPZ4lBNKtcy"
   },
   "source": [
    "Unlike the PCA class, the CA only exposes scikit-learn's fit method."
   ]
  },
  {
   "cell_type": "code",
   "execution_count": 0,
   "metadata": {
    "colab": {},
    "colab_type": "code",
    "id": "FKSeYttmKtcy"
   },
   "outputs": [],
   "source": [
    "import prince\n",
    "ca = prince.CA(\n",
    "     n_components=2,\n",
    "     n_iter=3,\n",
    "     copy=True,\n",
    "     check_input=True,\n",
    "     engine='auto',\n",
    "     random_state=42\n",
    ")\n",
    "X.columns.rename('Hair color', inplace=True)\n",
    "X.index.rename('Eye color', inplace=True)\n",
    "ca = ca.fit(X)"
   ]
  },
  {
   "cell_type": "code",
   "execution_count": 0,
   "metadata": {
    "colab": {},
    "colab_type": "code",
    "id": "wVdwqlD8Ktc0"
   },
   "outputs": [],
   "source": [
    "ca.row_coordinates(X)"
   ]
  },
  {
   "cell_type": "code",
   "execution_count": 0,
   "metadata": {
    "colab": {},
    "colab_type": "code",
    "id": "uxZT4UvqKtc3"
   },
   "outputs": [],
   "source": [
    "ca.column_coordinates(X)"
   ]
  },
  {
   "cell_type": "code",
   "execution_count": 0,
   "metadata": {
    "colab": {},
    "colab_type": "code",
    "id": "Wc1dFPtZKtc7"
   },
   "outputs": [],
   "source": [
    "ax = ca.plot_coordinates(\n",
    "     X=X,\n",
    "     ax=None,\n",
    "     figsize=(6, 6),\n",
    "     x_component=0,\n",
    "     y_component=1,\n",
    "     show_row_labels=True,\n",
    "     show_col_labels=True\n",
    ")\n",
    "ax.get_figure().savefig('ca_coordinates.svg')"
   ]
  },
  {
   "cell_type": "markdown",
   "metadata": {
    "colab_type": "text",
    "id": "N9ikQJliKtc_"
   },
   "source": [
    "Like for the PCA you can access the inertia contribution of each principal component as well as the eigenvalues and the total inertia"
   ]
  },
  {
   "cell_type": "code",
   "execution_count": 0,
   "metadata": {
    "colab": {},
    "colab_type": "code",
    "id": "VsLfwTYNKtdA"
   },
   "outputs": [],
   "source": [
    "ca.eigenvalues_"
   ]
  },
  {
   "cell_type": "code",
   "execution_count": 0,
   "metadata": {
    "colab": {},
    "colab_type": "code",
    "id": "1hC_Y50nKtdD"
   },
   "outputs": [],
   "source": [
    "ca.total_inertia_"
   ]
  },
  {
   "cell_type": "code",
   "execution_count": 0,
   "metadata": {
    "colab": {},
    "colab_type": "code",
    "id": "XJ--JnTDKtdH"
   },
   "outputs": [],
   "source": [
    "ca.explained_inertia_"
   ]
  },
  {
   "cell_type": "markdown",
   "metadata": {
    "colab_type": "text",
    "id": "53pI_NsEKtdN"
   },
   "source": [
    "### Assignment Part 1:\n",
    "\n",
    "1) Reproduce the results from textual analysis—identifying the author of a text based on examination of its characteristics earlier in the notebook. Use `n_components=2`.\n",
    "\n",
    "2) After plotting both sets of principal coordinates with the plot_coordinates method, record your observations."
   ]
  },
  {
   "cell_type": "markdown",
   "metadata": {
    "colab_type": "text",
    "id": "7UAI_oR_KtdN"
   },
   "source": [
    "#### Instantiate a `prince` object and fit the data in `dfTableForm`\n",
    "\n",
    "Use the following parmaeters:\n",
    "\n",
    "```\n",
    "n_components=2\n",
    "n_iter=3\n",
    "copy=True\n",
    "engine='auto'\n",
    "```"
   ]
  },
  {
   "cell_type": "code",
   "execution_count": 0,
   "metadata": {
    "colab": {},
    "colab_type": "code",
    "id": "JAiPf7YxKtdW"
   },
   "outputs": [],
   "source": [
    "import prince\n",
    "ca = ? intantiate a Prince CA model\n",
    "\n",
    "X = dfTableForm\n",
    "ca = ? fit the model"
   ]
  },
  {
   "cell_type": "code",
   "execution_count": 0,
   "metadata": {
    "colab": {},
    "colab_type": "code",
    "id": "30yD-WEdKtdY"
   },
   "outputs": [],
   "source": [
    "ca.row_coordinates(X)"
   ]
  },
  {
   "cell_type": "code",
   "execution_count": 0,
   "metadata": {
    "colab": {},
    "colab_type": "code",
    "id": "KBEIUv89Ktdb"
   },
   "outputs": [],
   "source": [
    "ca.column_coordinates(X)"
   ]
  },
  {
   "cell_type": "code",
   "execution_count": 0,
   "metadata": {
    "colab": {},
    "colab_type": "code",
    "id": "VKoOqlYbKtde"
   },
   "outputs": [],
   "source": [
    "ax = ca.plot_coordinates(\n",
    "     X=X,\n",
    "     ax=None,\n",
    "     figsize=(6, 6),\n",
    "     x_component=0,\n",
    "     y_component=1,\n",
    "     show_row_labels=True,\n",
    "     show_col_labels=True\n",
    ")\n",
    "ax.get_figure().savefig('ca_coordinates.svg')"
   ]
  },
  {
   "cell_type": "markdown",
   "metadata": {
    "colab_type": "text",
    "id": "NCteXhRFKtdh"
   },
   "source": [
    "### Multiple correspondence analysis (MCA)\n",
    "\n",
    "Multiple correspondence analysis (MCA) is an extension of correspondence analysis (CA). It should be used when you have more than two categorical variables. \n",
    "\n",
    "The idea is simply to compute the one-hot encoded version of a dataset and apply CA on it. \n",
    "\n",
    "A one-hot encoded table is also called\n",
    "MCA is performed by applying the CA algorithm to either an indicator matrix (also called complete disjunctive table – CDT) or a Burt table formed from these variables.\n",
    "\n",
    "An [indicator matrix](https://www.xlstat.com/en/solutions/features/complete-disjuncive-tables-creating-dummy-variables) is an individuals × variables matrix, where the rows represent individuals and the columns are dummy variables representing categories of the variables (essentially one-hot encoded). Analyzing the indicator matrix allows the direct representation of individuals as points in geometric space. \n",
    "\n",
    "The [Burt table](https://documentation.statsoft.com/STATISTICAHelp.aspx?path=Glossary/GlossaryTwo/B/BurtTables) is the symmetric matrix of all two-way cross-tabulations between the categorical variables, and has an analogy to the covariance matrix of continuous variables. \n",
    "\n",
    "Analyzing the Burt table is a more natural generalization of simple correspondence analysis, and individuals or the means of groups of individuals can be added as supplementary points to the graphical display.\n",
    "\n",
    "The Prince library takes a category table as shown below and handles these table representations automatically.\n",
    "\n",
    "The example below uses the balloons dataset taken from the UCI datasets website."
   ]
  },
  {
   "cell_type": "code",
   "execution_count": 0,
   "metadata": {
    "colab": {},
    "colab_type": "code",
    "id": "Q2br6YGHKtdh"
   },
   "outputs": [],
   "source": [
    "import pandas as pd\n",
    "\n",
    "X = pd.read_csv('https://archive.ics.uci.edu/ml/machine-learning-databases/balloons/adult+stretch.data')\n",
    "X.columns = ['Color', 'Size', 'Action', 'Age', 'Inflated']\n",
    "X.head()"
   ]
  },
  {
   "cell_type": "markdown",
   "metadata": {
    "colab_type": "text",
    "id": "e43WN34BKtdm"
   },
   "source": [
    "The MCA also implements the fit and transform methods.\n",
    "\n",
    "#### Instantiate a `prince` object and fit the data in `X`\n",
    "\n",
    "Use the following parmaeters:\n",
    "\n",
    "```\n",
    "n_components=2\n",
    "n_iter=3\n",
    "copy=True\n",
    "engine='auto'\n",
    "```"
   ]
  },
  {
   "cell_type": "code",
   "execution_count": 0,
   "metadata": {
    "colab": {},
    "colab_type": "code",
    "id": "i6TBUzAXKtdn"
   },
   "outputs": [],
   "source": [
    "import warnings\n",
    "warnings.filterwarnings('ignore')\n",
    "\n",
    "import prince\n",
    "mca = ? instantiate MCA model\n",
    "\n",
    "mca = ? fit model to X"
   ]
  },
  {
   "cell_type": "markdown",
   "metadata": {
    "colab_type": "text",
    "id": "m0ZmcIrsKtdq"
   },
   "source": [
    "Like the CA class, the MCA class also has plot_coordinates method."
   ]
  },
  {
   "cell_type": "code",
   "execution_count": 0,
   "metadata": {
    "colab": {},
    "colab_type": "code",
    "id": "Ryqy7A_ZKtdr"
   },
   "outputs": [],
   "source": [
    "ax = mca.plot_coordinates(\n",
    "     X=X,\n",
    "     ax=None,\n",
    "     figsize=(6, 6),\n",
    "     show_row_points=True,\n",
    "     row_points_size=10,\n",
    "     show_row_labels=False,\n",
    "     show_column_points=True,\n",
    "     column_points_size=30,\n",
    "     show_column_labels=False,\n",
    "     legend_n_cols=1\n",
    ")\n",
    "ax.get_figure().savefig('mca_coordinates.svg')"
   ]
  },
  {
   "cell_type": "markdown",
   "metadata": {
    "colab_type": "text",
    "id": "U-EoiMGZKtdv"
   },
   "source": [
    "Percentage of variance explained by an Eigenvector is also referred as its inertia."
   ]
  },
  {
   "cell_type": "code",
   "execution_count": 0,
   "metadata": {
    "colab": {},
    "colab_type": "code",
    "id": "dnlu_dxVKtdv"
   },
   "outputs": [],
   "source": [
    "mca.eigenvalues_"
   ]
  },
  {
   "cell_type": "code",
   "execution_count": 0,
   "metadata": {
    "colab": {},
    "colab_type": "code",
    "id": "NLShzg1mKtd2"
   },
   "outputs": [],
   "source": [
    "mca.total_inertia_"
   ]
  },
  {
   "cell_type": "code",
   "execution_count": 0,
   "metadata": {
    "colab": {},
    "colab_type": "code",
    "id": "m46gUIq9Ktd8"
   },
   "outputs": [],
   "source": [
    "mca.explained_inertia_"
   ]
  },
  {
   "cell_type": "markdown",
   "metadata": {
    "colab_type": "text",
    "id": "jL8T8T9-KteA"
   },
   "source": [
    "### Factor analysis of mixed data (FAMD)\n",
    "\n",
    "When data include both numeric and categorical variables _and_ the active variables are homogeneous, i.e, there is no dependence between numeric and categorical variables, PCA or MCA can be used.\n",
    "\n",
    "When the active variables are mixed, the usual practice is to perform discretization on the quantitative variables (e.g. usually in surveys the age is transformed into age classes). Data thus obtained can be processed by MCA.\n",
    "\n",
    "This practice reaches its limits:  \n",
    "\n",
    "- When there are few individuals ( less than a hundred to fix ideas ) in which case the MCA is unstable.\n",
    "\n",
    "- When there are few qualitative variables with respect to quantitative variables (one can be reluctant to discretize twenty quantitative variables to take into account a single qualitative variable).\n",
    "\n",
    "#### FAMD criteria:\n",
    "\n",
    "The data include ${\\displaystyle K}$ quantitative variables ${\\displaystyle {k=1,\\dots ,K}}$; and ${\\displaystyle Q}$ qualitative variables ${\\displaystyle {q=1,\\dots ,Q}}$ .\n",
    "\n",
    "If ${\\displaystyle z}$ is a quantitative variable:\n",
    "\n",
    "- ${\\displaystyle r(z,k)}$ the correlation coefficient between variables ${\\displaystyle k}$ and ${\\displaystyle z}$ \n",
    "\n",
    "- ${\\displaystyle \\eta ^{2}(z,q)}$ the squared correlation ratio between variables ${\\displaystyle z}$ and ${\\displaystyle q}$ .\n",
    "\n",
    "In the PCA of ${\\displaystyle K}$, we look for the function on ${\\displaystyle I}$ (a function on ${\\displaystyle I}$ assigns a value to each individual, it is the case for initial variables and principal components) the most correlated to all ${\\displaystyle K}$ variables in the following sense:\n",
    "\n",
    "${\\displaystyle \\sum _{k}r^{2}(z,k)}$ maximum.\n",
    "\n",
    "In MCA of $Q$, we look for the function on ${\\displaystyle I}$ more related to all ${\\displaystyle Q}$ variables in the following sense:\n",
    "\n",
    "${\\displaystyle \\sum _{q}\\eta ^{2}(z,q)}$ maximum.\n",
    "\n",
    "In FAMD ${\\displaystyle \\{K,Q\\}}$, we look for the function on ${\\displaystyle I}$ the more related to all ${\\displaystyle K+Q}$ variables in the following sense:\n",
    "\n",
    "${\\displaystyle \\sum _{k}r^{2}(z,k)+\\sum _{q}\\eta ^{2}(z,q)}$ maximum.\n",
    "\n",
    "In this criterion, both types of variables play the same role. The contribution of each variable in this criterion is bounded by 1.\n",
    "\n"
   ]
  },
  {
   "cell_type": "code",
   "execution_count": 0,
   "metadata": {
    "colab": {},
    "colab_type": "code",
    "id": "keal400oKteE"
   },
   "outputs": [],
   "source": [
    "import pandas as pd\n",
    "\n",
    "X = pd.DataFrame(\n",
    "    data=[\n",
    "         ['A', 'A', 'A', 2, 5, 7, 6, 3, 6, 7],\n",
    "         ['A', 'A', 'A', 4, 4, 4, 2, 4, 4, 3],\n",
    "         ['B', 'A', 'B', 5, 2, 1, 1, 7, 1, 1],\n",
    "         ['B', 'A', 'B', 7, 2, 1, 2, 2, 2, 2],\n",
    "         ['B', 'B', 'B', 3, 5, 6, 5, 2, 6, 6],\n",
    "         ['B', 'B', 'A', 3, 5, 4, 5, 1, 7, 5]\n",
    "     ],\n",
    "     columns=['E1 fruity', 'E1 woody', 'E1 coffee',\n",
    "              'E2 red fruit', 'E2 roasted', 'E2 vanillin', 'E2 woody',\n",
    "              'E3 fruity', 'E3 butter', 'E3 woody'],\n",
    "     index=['Wine {}'.format(i+1) for i in range(6)]\n",
    ")\n",
    "X['Oak type'] = [1, 2, 2, 2, 1, 1]"
   ]
  },
  {
   "cell_type": "markdown",
   "metadata": {
    "colab_type": "text",
    "id": "uVAjpNUyKteH"
   },
   "source": [
    "Now we can fit an FAMD."
   ]
  },
  {
   "cell_type": "code",
   "execution_count": 0,
   "metadata": {
    "colab": {},
    "colab_type": "code",
    "id": "bTOCPymwKteI"
   },
   "outputs": [],
   "source": [
    "import prince\n",
    "famd = prince.FAMD(\n",
    "     n_components=2,\n",
    "     n_iter=3,\n",
    "     copy=True,\n",
    "     check_input=True,\n",
    "     engine='auto',\n",
    "     random_state=42\n",
    ")\n",
    "famd = famd.fit(X.drop('Oak type', axis='columns'))  # No need for 'Oak type'"
   ]
  },
  {
   "cell_type": "markdown",
   "metadata": {
    "colab_type": "text",
    "id": "wGAWYp6xKteP"
   },
   "source": [
    "The FAMD inherits from the MFA class, which entails that you have access to all it's methods and properties. The row_coordinates method will return the global coordinates of each wine."
   ]
  },
  {
   "cell_type": "code",
   "execution_count": 9,
   "metadata": {
    "colab": {
     "base_uri": "https://localhost:8080/",
     "height": 225
    },
    "colab_type": "code",
    "executionInfo": {
     "elapsed": 882,
     "status": "ok",
     "timestamp": 1589301414048,
     "user": {
      "displayName": "Adam Spannbauer",
      "photoUrl": "https://lh3.googleusercontent.com/a-/AOh14Gh0dsIFeXnf3iRsUkFzJFh96GSrIp79KYpNuPtB=s64",
      "userId": "04097551985177324740"
     },
     "user_tz": 240
    },
    "id": "qVxwHKAIKteQ",
    "outputId": "5cf1ded8-fa3f-4a2d-a68a-85371cc3dcd8"
   },
   "outputs": [
    {
     "data": {
      "text/html": [
       "<div>\n",
       "<style scoped>\n",
       "    .dataframe tbody tr th:only-of-type {\n",
       "        vertical-align: middle;\n",
       "    }\n",
       "\n",
       "    .dataframe tbody tr th {\n",
       "        vertical-align: top;\n",
       "    }\n",
       "\n",
       "    .dataframe thead th {\n",
       "        text-align: right;\n",
       "    }\n",
       "</style>\n",
       "<table border=\"1\" class=\"dataframe\">\n",
       "  <thead>\n",
       "    <tr style=\"text-align: right;\">\n",
       "      <th></th>\n",
       "      <th>0</th>\n",
       "      <th>1</th>\n",
       "    </tr>\n",
       "  </thead>\n",
       "  <tbody>\n",
       "    <tr>\n",
       "      <th>Wine 1</th>\n",
       "      <td>3.351475</td>\n",
       "      <td>4.278852</td>\n",
       "    </tr>\n",
       "    <tr>\n",
       "      <th>Wine 2</th>\n",
       "      <td>3.396873</td>\n",
       "      <td>4.135743</td>\n",
       "    </tr>\n",
       "    <tr>\n",
       "      <th>Wine 3</th>\n",
       "      <td>4.777638</td>\n",
       "      <td>-1.643254</td>\n",
       "    </tr>\n",
       "    <tr>\n",
       "      <th>Wine 4</th>\n",
       "      <td>4.769714</td>\n",
       "      <td>-1.665251</td>\n",
       "    </tr>\n",
       "    <tr>\n",
       "      <th>Wine 5</th>\n",
       "      <td>3.779385</td>\n",
       "      <td>-3.053543</td>\n",
       "    </tr>\n",
       "    <tr>\n",
       "      <th>Wine 6</th>\n",
       "      <td>3.465413</td>\n",
       "      <td>-0.304409</td>\n",
       "    </tr>\n",
       "  </tbody>\n",
       "</table>\n",
       "</div>"
      ],
      "text/plain": [
       "               0         1\n",
       "Wine 1  3.351475  4.278852\n",
       "Wine 2  3.396873  4.135743\n",
       "Wine 3  4.777638 -1.643254\n",
       "Wine 4  4.769714 -1.665251\n",
       "Wine 5  3.779385 -3.053543\n",
       "Wine 6  3.465413 -0.304409"
      ]
     },
     "execution_count": 9,
     "metadata": {
      "tags": []
     },
     "output_type": "execute_result"
    }
   ],
   "source": [
    "famd.row_coordinates(X)"
   ]
  },
  {
   "cell_type": "markdown",
   "metadata": {
    "colab_type": "text",
    "id": "a37aTsFEKteS"
   },
   "source": [
    "Just like for the MFA you can plot the row coordinates with the plot_row_coordinates method."
   ]
  },
  {
   "cell_type": "code",
   "execution_count": 10,
   "metadata": {
    "colab": {
     "base_uri": "https://localhost:8080/",
     "height": 404
    },
    "colab_type": "code",
    "executionInfo": {
     "elapsed": 1114,
     "status": "ok",
     "timestamp": 1589301425026,
     "user": {
      "displayName": "Adam Spannbauer",
      "photoUrl": "https://lh3.googleusercontent.com/a-/AOh14Gh0dsIFeXnf3iRsUkFzJFh96GSrIp79KYpNuPtB=s64",
      "userId": "04097551985177324740"
     },
     "user_tz": 240
    },
    "id": "wIKpSp4iKteS",
    "outputId": "cdbc1840-a3ad-40e7-a80d-79b54b459479"
   },
   "outputs": [
    {
     "data": {
      "image/png": "[encoded data removed]",
      "text/plain": [
       "<Figure size 432x432 with 1 Axes>"
      ]
     },
     "metadata": {
      "needs_background": "light",
      "tags": []
     },
     "output_type": "display_data"
    }
   ],
   "source": [
    "ax = famd.plot_row_coordinates(\n",
    "     X,\n",
    "     ax=None,\n",
    "     figsize=(6, 6),\n",
    "     x_component=0,\n",
    "     y_component=1,\n",
    "     labels=X.index,\n",
    "     color_labels=['Oak type {}'.format(t) for t in X['Oak type']],\n",
    "     ellipse_outline=False,\n",
    "     ellipse_fill=True,\n",
    "     show_points=True\n",
    ")\n",
    "ax.get_figure().savefig('famd_row_coordinates.svg')"
   ]
  },
  {
   "cell_type": "markdown",
   "metadata": {
    "colab_type": "text",
    "id": "0W-4lopwKteU"
   },
   "source": [
    "### Assignment Part 2: Travel Review Ratings Data Set\n",
    "\n",
    "Abstract: Google reviews on attractions from 24 categories across Europe are considered. \n",
    "    Google user rating ranges from 1 to 5 and average user rating per category is calculated.\n",
    "\n",
    "Data Set Information:\n",
    "\n",
    "This data set is populated by capturing user ratings from Google reviews. Reviews on attractions from 24 categories across Europe are considered. Google user rating ranges from 1 to 5 and average user rating per category is calculated.\n",
    "\n",
    "https://archive.ics.uci.edu/ml/datasets/Tarvel+Review+Ratings#\n",
    "    \n",
    "Step 4 is your primary task.\n",
    "\n",
    "1) Download the Google Travel Reviews Ratings Data Set\n",
    "\n",
    "2) Drop the 'User', and 'Unnamed: 25' columns\n",
    "\n",
    "3) Drop any na rows \n",
    "\n",
    "**4) Use the Prince factor analysis library to perform MCA**\n",
    "\n",
    "5) List the top 2 components\n",
    "\n",
    "6) Plot the top 2 components\n",
    "\n",
    "7) List the MCA eigenvalues_, total_inertia_, and explained_inertia_\n",
    "\n",
    "8) From the plot (6) and calculations (7) record your observations.\n",
    "    "
   ]
  },
  {
   "cell_type": "code",
   "execution_count": 0,
   "metadata": {
    "colab": {},
    "colab_type": "code",
    "id": "dS5HmpaHKteV"
   },
   "outputs": [],
   "source": [
    "import pandas as pd\n",
    "\n",
    "df = pd.read_csv(\"https://tf-assets-prod.s3.amazonaws.com/tf-curric/data-science/google_review_ratings.csv\")\n",
    "df.head()"
   ]
  },
  {
   "cell_type": "code",
   "execution_count": 0,
   "metadata": {
    "colab": {},
    "colab_type": "code",
    "id": "YizFOOPsKteZ"
   },
   "outputs": [],
   "source": [
    "df.shape"
   ]
  },
  {
   "cell_type": "code",
   "execution_count": 0,
   "metadata": {
    "colab": {},
    "colab_type": "code",
    "id": "RxSAADDdKteg"
   },
   "outputs": [],
   "source": [
    "df.isnull().sum()"
   ]
  },
  {
   "cell_type": "code",
   "execution_count": 0,
   "metadata": {
    "colab": {},
    "colab_type": "code",
    "id": "FtjAhIILKtei"
   },
   "outputs": [],
   "source": [
    "df = df.drop(['User','Unnamed: 25'], axis=1)\n",
    "df.head()"
   ]
  },
  {
   "cell_type": "code",
   "execution_count": 0,
   "metadata": {
    "colab": {},
    "colab_type": "code",
    "id": "mq3Ddo0PKtej"
   },
   "outputs": [],
   "source": [
    "df.shape"
   ]
  },
  {
   "cell_type": "code",
   "execution_count": 0,
   "metadata": {
    "colab": {},
    "colab_type": "code",
    "id": "h7flhQCoKtel"
   },
   "outputs": [],
   "source": [
    "df = df.dropna()"
   ]
  },
  {
   "cell_type": "code",
   "execution_count": 0,
   "metadata": {
    "colab": {},
    "colab_type": "code",
    "id": "wS8V6j6XKtet"
   },
   "outputs": [],
   "source": [
    "df.shape"
   ]
  },
  {
   "cell_type": "code",
   "execution_count": 0,
   "metadata": {
    "colab": {},
    "colab_type": "code",
    "id": "fuVvkpHzKtew"
   },
   "outputs": [],
   "source": [
    "#### Instantiate a `prince` object and fit the data in `df` dataframe\n",
    "\n",
    "Use the following parmaeters:\n",
    "\n",
    "```\n",
    "n_components=2\n",
    "n_iter=3\n",
    "copy=True\n",
    "engine='auto'\n",
    "```"
   ]
  },
  {
   "cell_type": "code",
   "execution_count": 0,
   "metadata": {
    "colab": {},
    "colab_type": "code",
    "id": "LuWLdK-sKtey"
   },
   "outputs": [],
   "source": [
    "import warnings\n",
    "warnings.filterwarnings('ignore')\n",
    "\n",
    "import prince\n",
    "mca = prince.MCA(\n",
    "     n_components=2,\n",
    "     n_iter=3,\n",
    "     copy=True,\n",
    "     check_input=True,\n",
    "     engine='auto',\n",
    "     random_state=42\n",
    ")\n",
    "mca = mca.fit(df)"
   ]
  },
  {
   "cell_type": "code",
   "execution_count": 0,
   "metadata": {
    "colab": {},
    "colab_type": "code",
    "id": "TGysuSqEKte9"
   },
   "outputs": [],
   "source": [
    "mca.column_coordinates(df)"
   ]
  },
  {
   "cell_type": "code",
   "execution_count": 0,
   "metadata": {
    "colab": {},
    "colab_type": "code",
    "id": "aBn1Xlj4Kte-"
   },
   "outputs": [],
   "source": [
    "ax = mca.plot_coordinates(\n",
    "     X=df,\n",
    "     ax=None,\n",
    "     figsize=(6, 6),\n",
    "     show_row_points=True,\n",
    "     row_points_size=10,\n",
    "     show_row_labels=False,\n",
    "     show_column_points=True,\n",
    "     column_points_size=30,\n",
    "     show_column_labels=False,\n",
    "     legend_n_cols=1\n",
    ")\n",
    "ax.get_figure().savefig('mca_coordinates.svg')"
   ]
  },
  {
   "cell_type": "markdown",
   "metadata": {
    "colab_type": "text",
    "id": "QQ65S1QxKtfC"
   },
   "source": [
    "Percentage of variance explained by an Eigenvector is also referred as its inertia."
   ]
  },
  {
   "cell_type": "code",
   "execution_count": 0,
   "metadata": {
    "colab": {},
    "colab_type": "code",
    "id": "s9wtAlf6KtfC"
   },
   "outputs": [],
   "source": [
    "mca.eigenvalues_"
   ]
  },
  {
   "cell_type": "code",
   "execution_count": 0,
   "metadata": {
    "colab": {},
    "colab_type": "code",
    "id": "im0QTuyJKtfE"
   },
   "outputs": [],
   "source": [
    "mca.total_inertia_"
   ]
  },
  {
   "cell_type": "code",
   "execution_count": 0,
   "metadata": {
    "colab": {},
    "colab_type": "code",
    "id": "eoq7a3R9KtfF"
   },
   "outputs": [],
   "source": [
    "mca.explained_inertia_"
   ]
  },
  {
   "cell_type": "code",
   "execution_count": 0,
   "metadata": {
    "colab": {},
    "colab_type": "code",
    "id": "P4SpXArfKtfI"
   },
   "outputs": [],
   "source": [
    "The "
   ]
  }
 ],
 "metadata": {
  "colab": {
   "collapsed_sections": [
    "xbtl7AX-Ktb-",
    "biVZJT94KtcN",
    "YbxHJYG0KtcU",
    "8wboqzAXKtct",
    "gwfrkXM6Ktcv",
    "7UAI_oR_KtdN",
    "NCteXhRFKtdh",
    "e43WN34BKtdm",
    "jL8T8T9-KteA"
   ],
   "name": "DimensionalityReduction_52_2_mca_assign.ipynb",
   "provenance": []
  },
  "kernelspec": {
   "display_name": "Python 3",
   "language": "python",
   "name": "python3"
  },
  "language_info": {
   "codemirror_mode": {
    "name": "ipython",
    "version": 3
   },
   "file_extension": ".py",
   "mimetype": "text/x-python",
   "name": "python",
   "nbconvert_exporter": "python",
   "pygments_lexer": "ipython3",
   "version": "3.7.7"
  }
 },
 "nbformat": 4,
 "nbformat_minor": 1
}
