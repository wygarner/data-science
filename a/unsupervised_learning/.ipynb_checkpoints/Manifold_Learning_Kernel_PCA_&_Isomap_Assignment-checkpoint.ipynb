{
 "cells": [
  {
   "cell_type": "markdown",
   "metadata": {
    "colab_type": "text",
    "id": "SVv4Ef7aNMBH"
   },
   "source": [
    "# Manifold Learning - Kernel PCA & Isomap Assignment"
   ]
  },
  {
   "cell_type": "code",
   "execution_count": 0,
   "metadata": {
    "colab": {},
    "colab_type": "code",
    "id": "KQTFQGXJNMBJ"
   },
   "outputs": [],
   "source": [
    "import pandas as pd\n",
    "import matplotlib.pyplot as plt\n",
    "from sklearn.datasets import make_circles, make_moons\n",
    "from sklearn.decomposition import PCA\n",
    "from sklearn.decomposition import KernelPCA\n",
    "from sklearn.manifold import Isomap"
   ]
  },
  {
   "cell_type": "markdown",
   "metadata": {
    "colab_type": "text",
    "id": "4c943evZNMBS"
   },
   "source": [
    "### Create and visualize moons and circles data sets."
   ]
  },
  {
   "cell_type": "code",
   "execution_count": 0,
   "metadata": {
    "colab": {},
    "colab_type": "code",
    "id": "jLfLdApdNMBT"
   },
   "outputs": [],
   "source": [
    "moons_x, moons_y = make_moons(n_samples = 1000, noise = 0.02, random_state = 0) \n",
    "\n",
    "plt.figure(figsize=(15,8))\n",
    "plt.title(\"Moons Data\")\n",
    "plt.scatter(moons_x[:, 0], moons_x[:, 1], c = moons_y) \n",
    "plt.show() "
   ]
  },
  {
   "cell_type": "code",
   "execution_count": 0,
   "metadata": {
    "colab": {},
    "colab_type": "code",
    "id": "0Tg_EY5gNMBY"
   },
   "outputs": [],
   "source": [
    "circles_x, circles_y = make_circles(n_samples=1000, factor=.3, noise=.05)\n",
    "\n",
    "plt.figure(figsize=(15,8))\n",
    "plt.title(\"Circles Data\")\n",
    "plt.scatter(circles_x[:, 0], circles_x[:, 1], c = circles_y) \n",
    "plt.show()"
   ]
  },
  {
   "cell_type": "markdown",
   "metadata": {
    "colab_type": "text",
    "id": "bSmFzuwvNMBd"
   },
   "source": [
    "### Use regular (linear) PCA to reduce the dimension of each data set to two components."
   ]
  },
  {
   "cell_type": "code",
   "execution_count": 0,
   "metadata": {
    "colab": {},
    "colab_type": "code",
    "id": "IZEyWbHvNMBd"
   },
   "outputs": [],
   "source": []
  },
  {
   "cell_type": "markdown",
   "metadata": {
    "colab_type": "text",
    "id": "9VI6JmeONMBh"
   },
   "source": [
    "### Plot the PCA results for each data set."
   ]
  },
  {
   "cell_type": "code",
   "execution_count": 0,
   "metadata": {
    "colab": {},
    "colab_type": "code",
    "id": "lVnNQsKFNMBi"
   },
   "outputs": [],
   "source": []
  },
  {
   "cell_type": "markdown",
   "metadata": {
    "colab_type": "text",
    "id": "s62lwwr1NMBo"
   },
   "source": [
    "### Use Kernel PCA to reduce the dimensions of each data set to two linearly separable dimensions.\n",
    "\n",
    "Experiment with different kernels and gamma values until you arrive at a linearly separable solution for each."
   ]
  },
  {
   "cell_type": "code",
   "execution_count": 0,
   "metadata": {
    "colab": {},
    "colab_type": "code",
    "id": "gbVX_9URNMBp"
   },
   "outputs": [],
   "source": []
  },
  {
   "cell_type": "markdown",
   "metadata": {
    "colab_type": "text",
    "id": "ndHb4q4KNMB2"
   },
   "source": [
    "### Use Isomap to reduce the dimensions of each data set to two linearly separable dimensions.\n",
    "\n",
    "Experiment with different n_neighbors values until you arrive at a linearly separable solution for each."
   ]
  },
  {
   "cell_type": "code",
   "execution_count": 0,
   "metadata": {
    "colab": {},
    "colab_type": "code",
    "id": "a8W6WNvLNMB3"
   },
   "outputs": [],
   "source": []
  }
 ],
 "metadata": {
  "colab": {
   "name": "Manifold Learning - Kernel PCA & Isomap Assignment.ipynb",
   "provenance": []
  },
  "kernelspec": {
   "display_name": "Python 3",
   "language": "python",
   "name": "python3"
  },
  "language_info": {
   "codemirror_mode": {
    "name": "ipython",
    "version": 3
   },
   "file_extension": ".py",
   "mimetype": "text/x-python",
   "name": "python",
   "nbconvert_exporter": "python",
   "pygments_lexer": "ipython3",
   "version": "3.7.7"
  }
 },
 "nbformat": 4,
 "nbformat_minor": 1
}
