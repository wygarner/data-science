{
 "cells": [
  {
   "cell_type": "markdown",
   "metadata": {
    "colab_type": "text",
    "id": "6GTbCtztSUAt"
   },
   "source": [
    "## Correspondance Analysis"
   ]
  },
  {
   "cell_type": "markdown",
   "metadata": {
    "colab_type": "text",
    "id": "o53rj0TXoGmS"
   },
   "source": [
    "Resources:\n",
    "\n",
    "* Correspondance Analysis\n",
    "  * [Very comprehensive & good overview of interpretations](https://www.mathematica-journal.com/2010/09/20/an-introduction-to-correspondence-analysis/)\n",
    "  * [Less comprehensive & more to the point](https://www.displayr.com/how-correspondence-analysis-works/)\n",
    "  * [Fully devoted to interpreting the output plot](https://www.displayr.com/interpret-correspondence-analysis-plots-probably-isnt-way-think/)\n",
    "\n",
    "* Multiple Correspondance Analysis\n",
    "  * [Compare and contrast CA vs MCA](https://www.displayr.com/correspondence-analysis-versus-multiple-correspondence-analysis-use/)"
   ]
  },
  {
   "cell_type": "code",
   "execution_count": 0,
   "metadata": {
    "colab": {},
    "colab_type": "code",
    "id": "Peckotk2elJp"
   },
   "outputs": [],
   "source": [
    "import pandas as pd\n",
    "import numpy as np\n",
    "# !pip install prince\n",
    "import prince\n",
    "import matplotlib.pyplot as plt\n",
    "%matplotlib inline"
   ]
  },
  {
   "cell_type": "code",
   "execution_count": 0,
   "metadata": {
    "colab": {},
    "colab_type": "code",
    "id": "9ecoNN4_durm"
   },
   "outputs": [],
   "source": [
    "authors = ['Charles Darwin', 'Rene Descartes','Thomas Hobbes', 'Mary Shelley', 'Mark Twain']\n",
    "\n",
    "chars = ['B', 'C', 'D', 'F', \n",
    "         'G', 'H', 'I', 'L', \n",
    "         'M', 'N', 'P', 'R', \n",
    "         'S', 'U', 'W', 'Y']\n",
    "\n",
    "long_names = ['Charles Darwin: 1', 'Charles Darwin: 2', 'Charles Darwin: 3',\n",
    "              'Rene Descartes: 1', 'Rene Descartes: 2', 'Rene Descartes: 3',\n",
    "              'Thomas Hobbes: 1', 'Thomas Hobbes: 2', 'Thomas Hobbes: 3', \n",
    "              'Mary Shelley: 1', 'Mary Shelley: 2', 'Mary Shelley: 3',\n",
    "              'Mark Twain: 1', 'Mark Twain: 2', 'Mark Twain: 3']\n",
    "\n",
    "short_names = ['CD1', 'CD2', 'CD3',\n",
    "               'RD1', 'RD2', 'RD3',\n",
    "               'TB1', 'TB2', 'TB3',\n",
    "               'MS1', 'MS2', 'MS3',\n",
    "               'MT1', 'MT2', 'MT3']\n",
    "\n",
    "sample_crosstab = [[34, 37, 44, 27, 19, 39, 74, 44, 27, 61, 12, 65, 69,22, 14, 21],\n",
    "                   [18, 33, 47, 24, 14, 38, 66, 41, 36,72, 15, 62, 63, 31, 12, 18],\n",
    "                   [32, 43, 36, 12, 21, 51, 75, 33, 23, 60, 24, 68, 85,18, 13, 14],\n",
    "                   [13, 31, 55, 29, 15, 62, 74, 43, 28,73, 8, 59, 54, 32, 19, 20],\n",
    "                   [8, 28, 34, 24, 17, 68, 75, 34, 25, 70, 16, 56, 72,31, 14, 11], \n",
    "                   [9, 34, 43, 25, 18, 68, 84, 25, 32, 76,14, 69, 64, 27, 11, 18],\n",
    "                   [15, 20, 28, 18, 19, 65, 82, 34, 29, 89, 11, 47, 74,18, 22, 17], \n",
    "                   [18, 14, 40, 25, 21, 60, 70, 15, 37,80, 15, 65, 68, 21, 25, 9],\n",
    "                   [19, 18, 41, 26, 19, 58, 64, 18, 38, 78, 15, 65, 72,20, 20, 11], \n",
    "                   [13, 29, 49, 31, 16, 61, 73, 36, 29,69, 13, 63, 58, 18, 20, 25],\n",
    "                   [17, 34, 43, 29, 14, 62, 64, 26, 26, 71, 26, 78, 64, 21, 18, 12],\n",
    "                   [13, 22, 43, 16, 11, 70, 68, 46, 35,57, 30, 71, 57, 19, 22, 20],\n",
    "                   [16, 18, 56, 13, 27, 67, 61, 43, 20, 63, 14, 43, 67,34, 41, 23], \n",
    "                   [15, 21, 66, 21, 19, 50, 62, 50, 24, 68, 14, 40, 58, 31, 36, 26],\n",
    "                   [19, 17, 70, 12, 28, 53, 72, 39, 22, 71, 11, 40, 67,25, 41, 17]]\n",
    "\n",
    "crosstab = pd.DataFrame(np.transpose(sample_crosstab),\n",
    "                        columns=long_names,\n",
    "                        index=chars)\n",
    "\n",
    "crosstab.columns.name = 'Author Sample'\n",
    "crosstab.index.name = 'Character'\n",
    "crosstab"
   ]
  },
  {
   "cell_type": "markdown",
   "metadata": {
    "colab_type": "text",
    "id": "FuEJY0zjx9Jc"
   },
   "source": [
    "Do some analysis, which of these author samples appear to be most similar? Which letters appear to be most similar?"
   ]
  },
  {
   "cell_type": "code",
   "execution_count": 0,
   "metadata": {
    "colab": {},
    "colab_type": "code",
    "id": "IXKb-TulyFFu"
   },
   "outputs": [],
   "source": []
  },
  {
   "cell_type": "markdown",
   "metadata": {
    "colab_type": "text",
    "id": "pwmZW5RWyFZ9"
   },
   "source": [
    "Run the corrspondance analysis"
   ]
  },
  {
   "cell_type": "code",
   "execution_count": 0,
   "metadata": {
    "colab": {},
    "colab_type": "code",
    "id": "7eOk4uqxebZn"
   },
   "outputs": [],
   "source": [
    "ca = prince.CA(n_components=5, random_state=42)\n",
    "ca.fit(crosstab)"
   ]
  },
  {
   "cell_type": "markdown",
   "metadata": {
    "colab_type": "text",
    "id": "7qz1NeA4xw4n"
   },
   "source": [
    "Plot the variance explained by the components."
   ]
  },
  {
   "cell_type": "code",
   "execution_count": 0,
   "metadata": {
    "colab": {},
    "colab_type": "code",
    "id": "2c5BwqEPrmnr"
   },
   "outputs": [],
   "source": []
  },
  {
   "cell_type": "markdown",
   "metadata": {
    "colab_type": "text",
    "id": "A781WKsBrxZc"
   },
   "source": [
    "This plot can be confusing to read.  A lot of misinterpretation can occur.  Double check your interpretation! Remember, we have a table showing us this information.  The main value of this plot is to try and uncover things we can easily overlook in the table, its not adding new information, but visualizing info we already have.  Double check your interpretation!\n",
    "\n",
    "Interpretation guide:\n",
    "* Start with interpreting just rows or just columns\n",
    "* Rows plotted closer together are more similar in your contingency table\n",
    "* Columns plotted closer together are more similar in your contingency table\n",
    "* How close row points and column points are (in terms of euclidean distance) does not necesarily indicate that they are related/unrelated.\n",
    "* You will use angles as a way to relate rows to columns\n",
    "\n",
    "From the first resource linked above\n",
    "> Possibly the simplest way to determine the relationship between a text sample and a character is to draw lines from their corresponding points in the plot to the origin. If the angle between the two lines is acute, then the character occurs more often in the sample than it does on average in the texts as a whole. Conversely, if the angle is obtuse, the character occurs less often than overall. The following draws the appropriate lines for our chosen text sample and characters; it appears the character “Y” occurs more often than average in “MT2”, while “P” occurs less often."
   ]
  },
  {
   "cell_type": "markdown",
   "metadata": {
    "colab_type": "text",
    "id": "Ap1GoqHmtK1y"
   },
   "source": [
    "Which author samples are most similar?  Confirm this in the contingency table"
   ]
  },
  {
   "cell_type": "code",
   "execution_count": 0,
   "metadata": {
    "colab": {},
    "colab_type": "code",
    "id": "CwDgqEPEfvlz"
   },
   "outputs": [],
   "source": [
    "ca.plot_coordinates(crosstab, show_row_labels=False)\n",
    "plt.show()"
   ]
  },
  {
   "cell_type": "markdown",
   "metadata": {
    "colab_type": "text",
    "id": "n8wd2IVCtURq"
   },
   "source": [
    "Which letters are most similar?  Confirm this in the contingency table"
   ]
  },
  {
   "cell_type": "code",
   "execution_count": 0,
   "metadata": {
    "colab": {},
    "colab_type": "code",
    "id": "nZArdsY3s5f9"
   },
   "outputs": [],
   "source": [
    "ca.plot_coordinates(crosstab, show_col_labels=False)\n",
    "plt.show()"
   ]
  },
  {
   "cell_type": "markdown",
   "metadata": {
    "colab_type": "text",
    "id": "xHq0Joa3tZ5m"
   },
   "source": [
    "Which letter/author sample pairs are most associated? Confirm this in the contingency table"
   ]
  },
  {
   "cell_type": "code",
   "execution_count": 0,
   "metadata": {
    "colab": {},
    "colab_type": "code",
    "id": "MVyH8Ygltf3A"
   },
   "outputs": [],
   "source": [
    "ca.plot_coordinates(crosstab)\n",
    "plt.show()"
   ]
  },
  {
   "cell_type": "markdown",
   "metadata": {
    "colab_type": "text",
    "id": "w_tA9fA8SSB6"
   },
   "source": [
    "## Multiple Correspondance Analysis"
   ]
  },
  {
   "cell_type": "code",
   "execution_count": 0,
   "metadata": {
    "colab": {
     "base_uri": "https://localhost:8080/",
     "height": 195
    },
    "colab_type": "code",
    "id": "FQk9nvKpf-Nv",
    "outputId": "b64584c6-1190-4093-de22-4d2c32bf5ee5"
   },
   "outputs": [
    {
     "data": {
      "text/html": [
       "<div>\n",
       "<style scoped>\n",
       "    .dataframe tbody tr th:only-of-type {\n",
       "        vertical-align: middle;\n",
       "    }\n",
       "\n",
       "    .dataframe tbody tr th {\n",
       "        vertical-align: top;\n",
       "    }\n",
       "\n",
       "    .dataframe thead th {\n",
       "        text-align: right;\n",
       "    }\n",
       "</style>\n",
       "<table border=\"1\" class=\"dataframe\">\n",
       "  <thead>\n",
       "    <tr style=\"text-align: right;\">\n",
       "      <th></th>\n",
       "      <th>Color</th>\n",
       "      <th>Size</th>\n",
       "      <th>Action</th>\n",
       "      <th>Age</th>\n",
       "      <th>Inflated</th>\n",
       "    </tr>\n",
       "  </thead>\n",
       "  <tbody>\n",
       "    <tr>\n",
       "      <th>0</th>\n",
       "      <td>YELLOW</td>\n",
       "      <td>SMALL</td>\n",
       "      <td>STRETCH</td>\n",
       "      <td>CHILD</td>\n",
       "      <td>T</td>\n",
       "    </tr>\n",
       "    <tr>\n",
       "      <th>1</th>\n",
       "      <td>YELLOW</td>\n",
       "      <td>SMALL</td>\n",
       "      <td>STRETCH</td>\n",
       "      <td>ADULT</td>\n",
       "      <td>T</td>\n",
       "    </tr>\n",
       "    <tr>\n",
       "      <th>2</th>\n",
       "      <td>YELLOW</td>\n",
       "      <td>SMALL</td>\n",
       "      <td>STRETCH</td>\n",
       "      <td>ADULT</td>\n",
       "      <td>F</td>\n",
       "    </tr>\n",
       "    <tr>\n",
       "      <th>3</th>\n",
       "      <td>YELLOW</td>\n",
       "      <td>SMALL</td>\n",
       "      <td>DIP</td>\n",
       "      <td>ADULT</td>\n",
       "      <td>F</td>\n",
       "    </tr>\n",
       "    <tr>\n",
       "      <th>4</th>\n",
       "      <td>YELLOW</td>\n",
       "      <td>SMALL</td>\n",
       "      <td>DIP</td>\n",
       "      <td>ADULT</td>\n",
       "      <td>F</td>\n",
       "    </tr>\n",
       "  </tbody>\n",
       "</table>\n",
       "</div>"
      ],
      "text/plain": [
       "    Color   Size   Action    Age Inflated\n",
       "0  YELLOW  SMALL  STRETCH  CHILD        T\n",
       "1  YELLOW  SMALL  STRETCH  ADULT        T\n",
       "2  YELLOW  SMALL  STRETCH  ADULT        F\n",
       "3  YELLOW  SMALL      DIP  ADULT        F\n",
       "4  YELLOW  SMALL      DIP  ADULT        F"
      ]
     },
     "execution_count": 25,
     "metadata": {
      "tags": []
     },
     "output_type": "execute_result"
    }
   ],
   "source": [
    "data_url = 'https://archive.ics.uci.edu/ml/machine-learning-databases/balloons/adult+stretch.data'\n",
    "columns = ['Color', 'Size', 'Action', 'Age', 'Inflated']\n",
    "\n",
    "df = pd.read_csv(data_url, names=columns)\n",
    "df.loc[df['Color'] == 'YELLOW', 'Age'] = 'ADULT'\n",
    "df.loc[df['Color'] == 'PURPLE', 'Age'] = 'CHILD'\n",
    "df.loc[0, 'Age'] = 'CHILD'\n",
    "df.head()"
   ]
  },
  {
   "cell_type": "markdown",
   "metadata": {
    "colab_type": "text",
    "id": "QJsl0VBSxVBW"
   },
   "source": [
    "Do some preliminary analysis, what do you expect to be related in our MCA?"
   ]
  },
  {
   "cell_type": "code",
   "execution_count": 0,
   "metadata": {
    "colab": {},
    "colab_type": "code",
    "id": "u1cbRdylxbeO"
   },
   "outputs": [],
   "source": []
  },
  {
   "cell_type": "markdown",
   "metadata": {
    "colab_type": "text",
    "id": "Y7ymX-sJxb4v"
   },
   "source": [
    "Perform MCA and plot."
   ]
  },
  {
   "cell_type": "code",
   "execution_count": 0,
   "metadata": {
    "colab": {},
    "colab_type": "code",
    "id": "iSrHni41SXBx"
   },
   "outputs": [],
   "source": [
    "mca = prince.MCA(2)\n",
    "mca.fit(df)"
   ]
  },
  {
   "cell_type": "code",
   "execution_count": 0,
   "metadata": {
    "colab": {},
    "colab_type": "code",
    "id": "SEPwLWMVS5sC"
   },
   "outputs": [],
   "source": [
    "mca.plot_coordinates(df, show_column_labels=True)\n",
    "plt.show()"
   ]
  },
  {
   "cell_type": "markdown",
   "metadata": {
    "colab_type": "text",
    "id": "kF-Xd2RpuQfA"
   },
   "source": [
    "## Factor Analysis of Mixed Data"
   ]
  },
  {
   "cell_type": "code",
   "execution_count": 0,
   "metadata": {
    "colab": {},
    "colab_type": "code",
    "id": "1MOek0dHuWDz"
   },
   "outputs": [],
   "source": [
    "df = pd.read_csv('https://github.com/nchelaru/data-prep/raw/master/telco_cleaned_renamed.csv')\n",
    "df.head()"
   ]
  },
  {
   "cell_type": "code",
   "execution_count": 0,
   "metadata": {
    "colab": {},
    "colab_type": "code",
    "id": "RPhJMPB4wyJ6"
   },
   "outputs": [],
   "source": [
    "# scale numeric data\n"
   ]
  },
  {
   "cell_type": "code",
   "execution_count": 0,
   "metadata": {
    "colab": {},
    "colab_type": "code",
    "id": "mwJdbBxHvWYY"
   },
   "outputs": [],
   "source": [
    "# separate x and y\n"
   ]
  },
  {
   "cell_type": "code",
   "execution_count": 0,
   "metadata": {
    "colab": {},
    "colab_type": "code",
    "id": "AgavZHcnuR2A"
   },
   "outputs": [],
   "source": [
    "# perform famd on x\n",
    "famd = prince.FAMD(n_components=25, random_state=42)\n",
    "famd = famd.fit(X)"
   ]
  },
  {
   "cell_type": "code",
   "execution_count": 0,
   "metadata": {
    "colab": {},
    "colab_type": "code",
    "id": "n8oLp2HcuSqD"
   },
   "outputs": [],
   "source": [
    "# plot row coordinates\n",
    "famd.plot_row_coordinates(X, color_labels=y)"
   ]
  }
 ],
 "metadata": {
  "colab": {
   "collapsed_sections": [],
   "name": "correspondance_analysis.ipynb",
   "provenance": []
  },
  "kernelspec": {
   "display_name": "Python 3",
   "language": "python",
   "name": "python3"
  },
  "language_info": {
   "codemirror_mode": {
    "name": "ipython",
    "version": 3
   },
   "file_extension": ".py",
   "mimetype": "text/x-python",
   "name": "python",
   "nbconvert_exporter": "python",
   "pygments_lexer": "ipython3",
   "version": "3.7.7"
  }
 },
 "nbformat": 4,
 "nbformat_minor": 1
}
