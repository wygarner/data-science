{
 "cells": [
  {
   "cell_type": "markdown",
   "metadata": {
    "colab_type": "text",
    "id": "S6IqmS27zGMx"
   },
   "source": [
    "### Nonlinear Dimensionality Reduction LLE MLLE ISO\n",
    "\n",
    "Jay Urbain, PhD\n",
    "\n",
    "#### Objectives:    \n",
    "-Students can explain commonly used nonlinear manifold learning techniques: kernel PCA, Isomap, LLE, and variants of LLE (e.g. MLLE)\n",
    "\n",
    "-Students can explain the differences between these techniques\n",
    "\n",
    "-Students can connect kernel PCA to classical (linear) PCA and understand how the former is a generalization of the latter\n",
    "\n",
    "-Students can apply these techniques to a dataset\n",
    "\n",
    "#### References\n",
    "\n",
    "1. Ali Ghodsi, Dimensionality Reduction, A Short Tutorial, 2006.   \n",
    "https://www.math.uwaterloo.ca/~aghodsib/courses/f06stat890/readings/tutorial_stat890.pdf\n",
    "\n",
    "2. A global geometric framework for nonlinear dimensionality reduction, Tenenbaum, J.B.; De Silva, V.; & Langford, J.C. Science 290 (5500)   \n",
    "http://science.sciencemag.org/content/290/5500/2319.full\n",
    "\n",
    "3. S. T. Roweis and L. K. Saul. Nonlinear dimensionality reduction by locally linear embedding. Science, 290(5500):2323–2326, 2000.\n",
    "\n",
    "4. Manifold Learning, Scikit-Learn    \n",
    "https://scikit-learn.org/stable/modules/manifold.html\n",
    "\n",
    "5. Ben Alex Keen, Isomap for Dimensionality Reduction in Python    \n",
    "http://benalexkeen.com/isomap-for-dimensionality-reduction-in-python/\n",
    "\n",
    "6. Partial eigenvalue decomposition for large image sets using run-length encoding   \n",
    "https://www.sciencedirect.com/science/article/abs/pii/003132039400113Z\n",
    "\n",
    "7. Comparison of Manifold Learning methods   \n",
    "https://scikit-learn.org/stable/auto_examples/manifold/plot_lle_digits.html#sphx-glr-auto-examples-manifold-plot-lle-digits-py\n",
    "\n",
    "8. Comparison of Manifold Learning methods   \n",
    "https://scikit-learn.org/stable/auto_examples/manifold/plot_compare_methods.html#sphx-glr-auto-examples-manifold-plot-compare-methods-py\n",
    "\n",
    "9. Manifold learning on handwritten digits: Locally Linear Embedding, Isomap…      \n",
    "https://scikit-learn.org/stable/auto_examples/manifold/plot_lle_digits.html#sphx-glr-auto-examples-manifold-plot-lle-digits-py\n",
    "\n",
    "10. Zhang and Wang, MLLE: Modified Locally Linear Embedding UsingMultiple Weights    \n",
    "https://pdfs.semanticscholar.org/0af7/50dce2aa1d1f41a0709075eff88f900a4ae3.pdf\n",
    "\n",
    "11. Jake VanderPlas, Python Data Science Handbook  \n",
    "https://jakevdp.github.io/PythonDataScienceHandbook/\n",
    "\n"
   ]
  },
  {
   "cell_type": "markdown",
   "metadata": {
    "colab_type": "text",
    "id": "KiLWu8YFzGMz"
   },
   "source": [
    "### Assignment 1: Manifold Learning PCA LLE on Wine Dataset\n",
    "    \n",
    "Data Set Information: Kaggle Red Wine Dataset. 1599 examples with 12 features on wine quality. Predict wine quality (0-10)\n",
    "\n",
    "https://www.kaggle.com/piyushgoyal443/red-wine-dataset#wineQualityInfo.txt\n",
    "\n",
    "Using the notebook (DimensionalityReduction_53_2_nonlinear_lle_mlle_iso):\n",
    "\n",
    "1) Load the the wine quality data set.\n",
    "\n",
    "2) Fit PCA to 12-components (max) and plot the cumulative sum of the ‘pca.explained_variance_ratio_’\n",
    "\n",
    "3) Identify the number of principal components to explain 90% of the variance.\n",
    "\n",
    "4) Build a logistic regression model and record the accuracy.\n",
    "\n",
    "5) Repeat step 4 using LLE with the same number of components and 30 neighbors.\n",
    "\n",
    "6) Record your observations and identify your top performing model. Does manifold learning improve predictive performance over PCA?\n"
   ]
  },
  {
   "cell_type": "markdown",
   "metadata": {
    "colab_type": "text",
    "id": "yS2MkA02zGM1"
   },
   "source": [
    "#### Red Wine Dataset\n",
    "\n",
    "Citation Request: This dataset is public available for research. The details are described in [Cortez et al., 2009]. Please include this citation if you plan to use this database:\n",
    "\n",
    "P. Cortez, A. Cerdeira, F. Almeida, T. Matos and J. Reis. Modeling wine preferences by data mining from physicochemical properties. In Decision Support Systems, Elsevier, 47(4):547-553. ISSN: 0167-9236.\n",
    "\n",
    "Available at: [@Elsevier] http://dx.doi.org/10.1016/j.dss.2009.05.016 \n",
    "\n",
    "Description of attributes:\n",
    "\n",
    "1 - fixed acidity: most acids involved with wine or fixed or nonvolatile (do not evaporate readily)\n",
    "\n",
    "2 - volatile acidity: the amount of acetic acid in wine, which at too high of levels can lead to an unpleasant, vinegar taste\n",
    "\n",
    "3 - citric acid: found in small quantities, citric acid can add 'freshness' and flavor to wines\n",
    "\n",
    "4 - residual sugar: the amount of sugar remaining after fermentation stops, it's rare to find wines with less than 1 gram/liter and wines with greater than 45 grams/liter are considered sweet\n",
    "\n",
    "5 - chlorides: the amount of salt in the wine\n",
    "\n",
    "6 - free sulfur dioxide: the free form of SO2 exists in equilibrium between molecular SO2 (as a dissolved gas) and bisulfite ion; it prevents microbial growth and the oxidation of wine\n",
    "\n",
    "7 - total sulfur dioxide: amount of free and bound forms of S02; in low concentrations, SO2 is mostly undetectable in wine, but at free SO2 concentrations over 50 ppm, SO2 becomes evident in the nose and taste of wine\n",
    "\n",
    "8 - density: the density of water is close to that of water depending on the percent alcohol and sugar content\n",
    "\n",
    "9 - pH: describes how acidic or basic a wine is on a scale from 0 (very acidic) to 14 (very basic); most wines are between 3-4 on the pH scale\n",
    "\n",
    "10 - sulphates: a wine additive which can contribute to sulfur dioxide gas (S02) levels, wich acts as an antimicrobial and antioxidant\n",
    "\n",
    "11 - alcohol: the percent alcohol content of the wine\n",
    "\n",
    "Output variable (based on sensory data): 12 - quality (score between 0 and 10)\n",
    "\n",
    "https://www.kaggle.com/piyushgoyal443/red-wine-dataset#wineQualityInfo.txt"
   ]
  },
  {
   "cell_type": "code",
   "execution_count": 1,
   "metadata": {
    "colab": {
     "base_uri": "https://localhost:8080/",
     "height": 233
    },
    "colab_type": "code",
    "executionInfo": {
     "elapsed": 2528,
     "status": "ok",
     "timestamp": 1576073366819,
     "user": {
      "displayName": "Mike Swirsky",
      "photoUrl": "https://lh3.googleusercontent.com/a-/AAuE7mAEvj_9k9NYcdWSI5G-tvxoZDUz8RATiP7-zeMD=s64",
      "userId": "09733430627481200667"
     },
     "user_tz": 480
    },
    "id": "31lN5AxazGNB",
    "outputId": "7369dcdf-4f6d-420a-fc2a-adeb0b49d6cf"
   },
   "outputs": [
    {
     "data": {
      "text/html": [
       "<div>\n",
       "<style scoped>\n",
       "    .dataframe tbody tr th:only-of-type {\n",
       "        vertical-align: middle;\n",
       "    }\n",
       "\n",
       "    .dataframe tbody tr th {\n",
       "        vertical-align: top;\n",
       "    }\n",
       "\n",
       "    .dataframe thead th {\n",
       "        text-align: right;\n",
       "    }\n",
       "</style>\n",
       "<table border=\"1\" class=\"dataframe\">\n",
       "  <thead>\n",
       "    <tr style=\"text-align: right;\">\n",
       "      <th></th>\n",
       "      <th>Unnamed: 0</th>\n",
       "      <th>fixed.acidity</th>\n",
       "      <th>volatile.acidity</th>\n",
       "      <th>citric.acid</th>\n",
       "      <th>residual.sugar</th>\n",
       "      <th>chlorides</th>\n",
       "      <th>free.sulfur.dioxide</th>\n",
       "      <th>total.sulfur.dioxide</th>\n",
       "      <th>density</th>\n",
       "      <th>pH</th>\n",
       "      <th>sulphates</th>\n",
       "      <th>alcohol</th>\n",
       "      <th>quality</th>\n",
       "    </tr>\n",
       "  </thead>\n",
       "  <tbody>\n",
       "    <tr>\n",
       "      <th>0</th>\n",
       "      <td>1</td>\n",
       "      <td>7.4</td>\n",
       "      <td>0.70</td>\n",
       "      <td>0.00</td>\n",
       "      <td>1.9</td>\n",
       "      <td>0.076</td>\n",
       "      <td>11.0</td>\n",
       "      <td>34.0</td>\n",
       "      <td>0.9978</td>\n",
       "      <td>3.51</td>\n",
       "      <td>0.56</td>\n",
       "      <td>9.4</td>\n",
       "      <td>5</td>\n",
       "    </tr>\n",
       "    <tr>\n",
       "      <th>1</th>\n",
       "      <td>2</td>\n",
       "      <td>7.8</td>\n",
       "      <td>0.88</td>\n",
       "      <td>0.00</td>\n",
       "      <td>2.6</td>\n",
       "      <td>0.098</td>\n",
       "      <td>25.0</td>\n",
       "      <td>67.0</td>\n",
       "      <td>0.9968</td>\n",
       "      <td>3.20</td>\n",
       "      <td>0.68</td>\n",
       "      <td>9.8</td>\n",
       "      <td>5</td>\n",
       "    </tr>\n",
       "    <tr>\n",
       "      <th>2</th>\n",
       "      <td>3</td>\n",
       "      <td>7.8</td>\n",
       "      <td>0.76</td>\n",
       "      <td>0.04</td>\n",
       "      <td>2.3</td>\n",
       "      <td>0.092</td>\n",
       "      <td>15.0</td>\n",
       "      <td>54.0</td>\n",
       "      <td>0.9970</td>\n",
       "      <td>3.26</td>\n",
       "      <td>0.65</td>\n",
       "      <td>9.8</td>\n",
       "      <td>5</td>\n",
       "    </tr>\n",
       "    <tr>\n",
       "      <th>3</th>\n",
       "      <td>4</td>\n",
       "      <td>11.2</td>\n",
       "      <td>0.28</td>\n",
       "      <td>0.56</td>\n",
       "      <td>1.9</td>\n",
       "      <td>0.075</td>\n",
       "      <td>17.0</td>\n",
       "      <td>60.0</td>\n",
       "      <td>0.9980</td>\n",
       "      <td>3.16</td>\n",
       "      <td>0.58</td>\n",
       "      <td>9.8</td>\n",
       "      <td>6</td>\n",
       "    </tr>\n",
       "    <tr>\n",
       "      <th>4</th>\n",
       "      <td>5</td>\n",
       "      <td>7.4</td>\n",
       "      <td>0.70</td>\n",
       "      <td>0.00</td>\n",
       "      <td>1.9</td>\n",
       "      <td>0.076</td>\n",
       "      <td>11.0</td>\n",
       "      <td>34.0</td>\n",
       "      <td>0.9978</td>\n",
       "      <td>3.51</td>\n",
       "      <td>0.56</td>\n",
       "      <td>9.4</td>\n",
       "      <td>5</td>\n",
       "    </tr>\n",
       "  </tbody>\n",
       "</table>\n",
       "</div>"
      ],
      "text/plain": [
       "   Unnamed: 0  fixed.acidity  volatile.acidity  citric.acid  residual.sugar  \\\n",
       "0           1            7.4              0.70         0.00             1.9   \n",
       "1           2            7.8              0.88         0.00             2.6   \n",
       "2           3            7.8              0.76         0.04             2.3   \n",
       "3           4           11.2              0.28         0.56             1.9   \n",
       "4           5            7.4              0.70         0.00             1.9   \n",
       "\n",
       "   chlorides  free.sulfur.dioxide  total.sulfur.dioxide  density    pH  \\\n",
       "0      0.076                 11.0                  34.0   0.9978  3.51   \n",
       "1      0.098                 25.0                  67.0   0.9968  3.20   \n",
       "2      0.092                 15.0                  54.0   0.9970  3.26   \n",
       "3      0.075                 17.0                  60.0   0.9980  3.16   \n",
       "4      0.076                 11.0                  34.0   0.9978  3.51   \n",
       "\n",
       "   sulphates  alcohol  quality  \n",
       "0       0.56      9.4        5  \n",
       "1       0.68      9.8        5  \n",
       "2       0.65      9.8        5  \n",
       "3       0.58      9.8        6  \n",
       "4       0.56      9.4        5  "
      ]
     },
     "execution_count": 1,
     "metadata": {},
     "output_type": "execute_result"
    }
   ],
   "source": [
    "import numpy as np \n",
    "import pandas as pd \n",
    "import matplotlib.pyplot as plt\n",
    "from sklearn.metrics import confusion_matrix\n",
    "from sklearn.metrics import accuracy_score\n",
    "import os\n",
    "\n",
    "import matplotlib.pyplot as plt\n",
    "from sklearn.decomposition import PCA\n",
    "#from sklearn.discriminant_analysis import LinearDiscriminantAnalysis\n",
    "import pandas as pd\n",
    "\n",
    "df = pd.read_csv('https://tf-assets-prod.s3.amazonaws.com/tf-curric/data-science/wineQualityReds.csv')\n",
    "df.head()"
   ]
  },
  {
   "cell_type": "code",
   "execution_count": 2,
   "metadata": {
    "colab": {},
    "colab_type": "code",
    "id": "Zmcl-HtAzGNE"
   },
   "outputs": [
    {
     "data": {
      "text/plain": [
       "(1599, 13)"
      ]
     },
     "execution_count": 2,
     "metadata": {},
     "output_type": "execute_result"
    }
   ],
   "source": [
    "df.shape"
   ]
  },
  {
   "cell_type": "code",
   "execution_count": 3,
   "metadata": {
    "colab": {},
    "colab_type": "code",
    "id": "3AyVA1aZzGNO"
   },
   "outputs": [
    {
     "data": {
      "text/plain": [
       "Unnamed: 0              0\n",
       "fixed.acidity           0\n",
       "volatile.acidity        0\n",
       "citric.acid             0\n",
       "residual.sugar          0\n",
       "chlorides               0\n",
       "free.sulfur.dioxide     0\n",
       "total.sulfur.dioxide    0\n",
       "density                 0\n",
       "pH                      0\n",
       "sulphates               0\n",
       "alcohol                 0\n",
       "quality                 0\n",
       "dtype: int64"
      ]
     },
     "execution_count": 3,
     "metadata": {},
     "output_type": "execute_result"
    }
   ],
   "source": [
    "#Checking if there is any existing null value or not\n",
    "df.isnull().sum()"
   ]
  },
  {
   "cell_type": "code",
   "execution_count": 4,
   "metadata": {
    "colab": {},
    "colab_type": "code",
    "id": "-XXKgz3gzGNT"
   },
   "outputs": [
    {
     "data": {
      "text/plain": [
       "array([5, 6, 7, 4, 8, 3])"
      ]
     },
     "execution_count": 4,
     "metadata": {},
     "output_type": "execute_result"
    }
   ],
   "source": [
    "#Checking the unique values from \"quality column\"\n",
    "df[\"quality\"].unique()"
   ]
  },
  {
   "cell_type": "code",
   "execution_count": 5,
   "metadata": {
    "colab": {},
    "colab_type": "code",
    "id": "AbYXlmzLzGNc"
   },
   "outputs": [
    {
     "data": {
      "text/plain": [
       "5    681\n",
       "6    638\n",
       "7    199\n",
       "4     53\n",
       "8     18\n",
       "3     10\n",
       "Name: quality, dtype: int64"
      ]
     },
     "execution_count": 5,
     "metadata": {},
     "output_type": "execute_result"
    }
   ],
   "source": [
    "#Count the unique values in \"quality column\"\n",
    "df[\"quality\"].value_counts()"
   ]
  },
  {
   "cell_type": "code",
   "execution_count": 6,
   "metadata": {
    "colab": {},
    "colab_type": "code",
    "id": "vd0ZyW5vzGNg"
   },
   "outputs": [
    {
     "data": {
      "text/plain": [
       "<matplotlib.legend.Legend at 0x1a1b5237d0>"
      ]
     },
     "execution_count": 6,
     "metadata": {},
     "output_type": "execute_result"
    },
    {
     "data": {
      "image/png": "[encoded data removed]",
      "text/plain": [
       "<Figure size 432x288 with 1 Axes>"
      ]
     },
     "metadata": {
      "needs_background": "light"
     },
     "output_type": "display_data"
    }
   ],
   "source": [
    "#Plot for quality\n",
    "df[\"quality\"].value_counts().plot.bar(color='Yellow')\n",
    "plt.xlabel(\"Quality score\")\n",
    "plt.legend()"
   ]
  },
  {
   "cell_type": "code",
   "execution_count": 7,
   "metadata": {
    "colab": {},
    "colab_type": "code",
    "id": "sSqTBCjMzGNj"
   },
   "outputs": [
    {
     "data": {
      "text/plain": [
       "(1599, 13)"
      ]
     },
     "execution_count": 7,
     "metadata": {},
     "output_type": "execute_result"
    }
   ],
   "source": [
    "#Checking the dimensions\n",
    "df.shape"
   ]
  },
  {
   "cell_type": "code",
   "execution_count": 8,
   "metadata": {
    "colab": {},
    "colab_type": "code",
    "id": "Zm6w5vd9zGNp"
   },
   "outputs": [],
   "source": [
    "#Separating dependent and independent variable.\n",
    "X = df.iloc[:, 1:12].values\n",
    "y = df.iloc[:, 12].values"
   ]
  },
  {
   "cell_type": "code",
   "execution_count": 9,
   "metadata": {
    "colab": {},
    "colab_type": "code",
    "id": "nxXaQcdOzGNu"
   },
   "outputs": [
    {
     "name": "stdout",
     "output_type": "stream",
     "text": [
      "[[ 7.4    0.7    0.    ...  3.51   0.56   9.4  ]\n",
      " [ 7.8    0.88   0.    ...  3.2    0.68   9.8  ]\n",
      " [ 7.8    0.76   0.04  ...  3.26   0.65   9.8  ]\n",
      " ...\n",
      " [ 6.3    0.51   0.13  ...  3.42   0.75  11.   ]\n",
      " [ 5.9    0.645  0.12  ...  3.57   0.71  10.2  ]\n",
      " [ 6.     0.31   0.47  ...  3.39   0.66  11.   ]]\n"
     ]
    }
   ],
   "source": [
    "print(X)"
   ]
  },
  {
   "cell_type": "code",
   "execution_count": 10,
   "metadata": {
    "colab": {},
    "colab_type": "code",
    "id": "1Fn16JMAzGNz"
   },
   "outputs": [
    {
     "name": "stdout",
     "output_type": "stream",
     "text": [
      "[5 5 5 ... 6 5 6]\n"
     ]
    }
   ],
   "source": [
    "print(y)"
   ]
  },
  {
   "cell_type": "code",
   "execution_count": 11,
   "metadata": {
    "colab": {},
    "colab_type": "code",
    "id": "RuZoRSttzGN4"
   },
   "outputs": [],
   "source": [
    "# Splitting the dataset into the Training set and Test set\n",
    "from sklearn.model_selection import train_test_split\n",
    "X_train, X_test, y_train, y_test = train_test_split(X, y, test_size = 0.2, random_state = 0)"
   ]
  },
  {
   "cell_type": "code",
   "execution_count": 12,
   "metadata": {
    "colab": {},
    "colab_type": "code",
    "id": "Gubrg6mLzGN-"
   },
   "outputs": [],
   "source": [
    "# Feature Scaling\n",
    "from sklearn.preprocessing import StandardScaler\n",
    "sc = StandardScaler()\n",
    "X_train = sc.fit_transform(X_train)\n",
    "X_test = sc.transform(X_test)"
   ]
  },
  {
   "cell_type": "markdown",
   "metadata": {
    "colab_type": "text",
    "id": "MUHHP6YYzGOB"
   },
   "source": [
    "We would like to plot a low-dimensional embedding of the 4096-dimensional data to learn the fundamental relationships between the images. \n",
    "\n",
    "One useful way to start is to compute a PCA, and examine the explained variance ratio, which will give us an idea of how many linear features are required to describe the data:"
   ]
  },
  {
   "cell_type": "code",
   "execution_count": 13,
   "metadata": {
    "colab": {},
    "colab_type": "code",
    "id": "xgctYGxUzGOC"
   },
   "outputs": [
    {
     "data": {
      "image/png": "[encoded data removed]",
      "text/plain": [
       "<Figure size 432x288 with 1 Axes>"
      ]
     },
     "metadata": {
      "needs_background": "light"
     },
     "output_type": "display_data"
    }
   ],
   "source": [
    "from sklearn.decomposition import PCA\n",
    "import numpy as np\n",
    "model = PCA(11).fit(X_train)\n",
    "plt.plot(np.cumsum(model.explained_variance_ratio_))\n",
    "plt.xlabel('n components')\n",
    "plt.ylabel('cumulative variance');"
   ]
  },
  {
   "cell_type": "code",
   "execution_count": 0,
   "metadata": {
    "colab": {},
    "colab_type": "code",
    "id": "9t4KgEvRzGOI"
   },
   "outputs": [],
   "source": [
    "Identify the `n_components` that explain 90% of the variance.\n",
    "\n",
    "Build a PCA model and transform the data."
   ]
  },
  {
   "cell_type": "code",
   "execution_count": 14,
   "metadata": {
    "colab": {},
    "colab_type": "code",
    "id": "O4OyhrHczGOQ"
   },
   "outputs": [],
   "source": [
    "# Applying PCA\n",
    "from sklearn.decomposition import PCA\n",
    "pca = PCA(n_components = 6)\n",
    "X_train = pca.fit_transform(X_train)\n",
    "X_test = pca.transform(X_test)\n",
    "explained_variance = pca.explained_variance_ratio_"
   ]
  },
  {
   "cell_type": "code",
   "execution_count": 15,
   "metadata": {
    "colab": {},
    "colab_type": "code",
    "id": "_z-Knrm1zGOU"
   },
   "outputs": [
    {
     "name": "stdout",
     "output_type": "stream",
     "text": [
      "[0.28263119 0.17942214 0.1358536  0.10862763 0.08692731 0.06008452]\n"
     ]
    }
   ],
   "source": [
    "print(explained_variance)"
   ]
  },
  {
   "cell_type": "code",
   "execution_count": 16,
   "metadata": {
    "colab": {},
    "colab_type": "code",
    "id": "5TjG-SqDzGOa"
   },
   "outputs": [],
   "source": [
    "#### Build a logistic regression model on your PCA transformed data"
   ]
  },
  {
   "cell_type": "code",
   "execution_count": 17,
   "metadata": {
    "colab": {},
    "colab_type": "code",
    "id": "1DFGAGpLzGOi"
   },
   "outputs": [
    {
     "name": "stdout",
     "output_type": "stream",
     "text": [
      "The accuracy of  LogisticRegression is: 0.609375\n"
     ]
    }
   ],
   "source": [
    "#Fitting Logistic regression into dataset\n",
    "from sklearn.linear_model import LogisticRegression\n",
    "lr_c=LogisticRegression(random_state=0, solver=\"lbfgs\", multi_class=\"auto\")\n",
    "lr_c.fit(X_train,y_train)\n",
    "lr_pred=lr_c.predict(X_test)\n",
    "lr_cm=confusion_matrix(y_test,lr_pred)\n",
    "print(\"The accuracy of  LogisticRegression is:\",accuracy_score(y_test, lr_pred))"
   ]
  },
  {
   "cell_type": "markdown",
   "metadata": {
    "colab_type": "text",
    "id": "zCz_Ur3tzGOr"
   },
   "source": [
    "#### Fit and transform the data using `LocallyLinearEmbedding`\n",
    "\n",
    "Use `n_neighbors` = 30  \n",
    "Set `n_components` to the same value you used for PCA  \n",
    "Use `method`='standard')  \n"
   ]
  },
  {
   "cell_type": "code",
   "execution_count": 19,
   "metadata": {
    "colab": {},
    "colab_type": "code",
    "id": "c7Rpw_nCzGOv"
   },
   "outputs": [],
   "source": [
    "from sklearn.manifold import Isomap, LocallyLinearEmbedding\n",
    "\n",
    "n_neighbors = 30\n",
    "lle = LocallyLinearEmbedding(n_neighbors=n_neighbors, n_components=1)\n",
    "X_lle = lle.fit_transform(X_train)\n",
    "X_test = lle.fit_transform(X_test)"
   ]
  },
  {
   "cell_type": "code",
   "execution_count": 20,
   "metadata": {
    "colab": {},
    "colab_type": "code",
    "id": "3TEjF-rUzGPB"
   },
   "outputs": [
    {
     "name": "stdout",
     "output_type": "stream",
     "text": [
      "The accuracy of  LogisticRegression is: 0.49375\n"
     ]
    }
   ],
   "source": [
    "#Fitting Logistic regression into dataset\n",
    "from sklearn.linear_model import LogisticRegression\n",
    "lr_c=LogisticRegression(random_state=0, solver=\"lbfgs\", multi_class=\"auto\")\n",
    "lr_c.fit(X_lle,y_train)\n",
    "lr_pred=lr_c.predict(X_test)\n",
    "lr_cm=confusion_matrix(y_test,lr_pred)\n",
    "print(\"The accuracy of  LogisticRegression is:\",accuracy_score(y_test, lr_pred))"
   ]
  },
  {
   "cell_type": "markdown",
   "metadata": {
    "colab_type": "text",
    "id": "M_o-8kmlzGPG"
   },
   "source": [
    "Conclusion: LLE and other manifold methoods do not, in general improve predictive performance than PCA!"
   ]
  },
  {
   "cell_type": "markdown",
   "metadata": {
    "colab_type": "text",
    "id": "gPl7Xl2HzGPH"
   },
   "source": [
    "### Assignment 2: Manifold Learning\n",
    "\n",
    "The facial data used in Tenenbaum et al. contains images of 698 synthetic faces in different poses and light conditions.\n",
    "\n",
    "https://github.com/JasonFil/DimReduce/blob/master/ISOMAP/face_data.mat\n",
    "\n",
    "Using the notebook (DimensionalityReduction_53_2_nonlinear_lle_mlle_iso):\n",
    "\n",
    "1) Load face_data.mat\n",
    "\n",
    "2) Experiment with Isomap, LLE, MLLE, and MDS and try to find the best model for only two components!\n",
    "\n",
    "3) Record your observations and identify your top performing model. In terms of how the algorithms work, why do you think this is your top model."
   ]
  },
  {
   "cell_type": "markdown",
   "metadata": {
    "colab_type": "text",
    "id": "BQw97d9izGPI"
   },
   "source": [
    "The facial data used in Tenenbaum et al. contains images of faces in different poses and light conditions.\n"
   ]
  },
  {
   "cell_type": "code",
   "execution_count": 22,
   "metadata": {
    "colab": {
     "base_uri": "https://localhost:8080/",
     "height": 153
    },
    "colab_type": "code",
    "executionInfo": {
     "elapsed": 981,
     "status": "ok",
     "timestamp": 1576073536093,
     "user": {
      "displayName": "Mike Swirsky",
      "photoUrl": "https://lh3.googleusercontent.com/a-/AAuE7mAEvj_9k9NYcdWSI5G-tvxoZDUz8RATiP7-zeMD=s64",
      "userId": "09733430627481200667"
     },
     "user_tz": 480
    },
    "id": "5d5c5Q40zGPK",
    "outputId": "f125eb8b-7fd0-4b4c-f1a3-ac6d0bb986b3",
    "scrolled": true
   },
   "outputs": [
    {
     "name": "stdout",
     "output_type": "stream",
     "text": [
      "       0         1         2     ...  4093  4094  4095\n",
      "0  0.016176  0.000000  0.000000  ...   0.0   0.0   0.0\n",
      "1  0.016176  0.000000  0.000000  ...   0.0   0.0   0.0\n",
      "2  0.016176  0.000000  0.000000  ...   0.0   0.0   0.0\n",
      "3  0.016176  0.110754  0.384988  ...   0.0   0.0   0.0\n",
      "4  0.016176  0.000000  0.000000  ...   0.0   0.0   0.0\n",
      "\n",
      "[5 rows x 4096 columns]\n"
     ]
    }
   ],
   "source": [
    "import math\n",
    "import pandas as pd\n",
    "import scipy.io\n",
    "pd.options.display.max_columns = 7\n",
    "\n",
    "mat = scipy.io.loadmat('face_data.mat')\n",
    "df = pd.DataFrame(mat['images']).T\n",
    "\n",
    "num_images, num_pixels = df.shape\n",
    "pixels_per_dimension = int(math.sqrt(num_pixels))\n",
    "\n",
    "# Rotate the pictures\n",
    "for idx in df.index:\n",
    "    df.loc[idx] = df.loc[idx].values.reshape(pixels_per_dimension, pixels_per_dimension).T.reshape(-1)\n",
    "    \n",
    "# Show first 5 rows\n",
    "print(df.head())"
   ]
  },
  {
   "cell_type": "markdown",
   "metadata": {
    "colab_type": "text",
    "id": "sAef7TEGzGPR"
   },
   "source": [
    "Fit our isomap to our data. If your data is not on the same scale, it may require scaling before this step.\n",
    "\n",
    "Fit a manifold using $6$ nearest neighbours and our aim is to reduce down to $2$ components."
   ]
  },
  {
   "cell_type": "code",
   "execution_count": 23,
   "metadata": {},
   "outputs": [],
   "source": [
    "scaler = StandardScaler()\n",
    "scaled = scaler.fit_transform(df)"
   ]
  },
  {
   "cell_type": "code",
   "execution_count": 24,
   "metadata": {
    "colab": {},
    "colab_type": "code",
    "id": "D4gng1YazGPU"
   },
   "outputs": [
    {
     "data": {
      "text/html": [
       "<div>\n",
       "<style scoped>\n",
       "    .dataframe tbody tr th:only-of-type {\n",
       "        vertical-align: middle;\n",
       "    }\n",
       "\n",
       "    .dataframe tbody tr th {\n",
       "        vertical-align: top;\n",
       "    }\n",
       "\n",
       "    .dataframe thead th {\n",
       "        text-align: right;\n",
       "    }\n",
       "</style>\n",
       "<table border=\"1\" class=\"dataframe\">\n",
       "  <thead>\n",
       "    <tr style=\"text-align: right;\">\n",
       "      <th></th>\n",
       "      <th>Component 1</th>\n",
       "      <th>Component 2</th>\n",
       "    </tr>\n",
       "  </thead>\n",
       "  <tbody>\n",
       "    <tr>\n",
       "      <th>0</th>\n",
       "      <td>-113.431952</td>\n",
       "      <td>0.022980</td>\n",
       "    </tr>\n",
       "    <tr>\n",
       "      <th>1</th>\n",
       "      <td>135.683614</td>\n",
       "      <td>-44.135798</td>\n",
       "    </tr>\n",
       "    <tr>\n",
       "      <th>2</th>\n",
       "      <td>-91.458500</td>\n",
       "      <td>28.285376</td>\n",
       "    </tr>\n",
       "    <tr>\n",
       "      <th>3</th>\n",
       "      <td>262.674512</td>\n",
       "      <td>-126.444916</td>\n",
       "    </tr>\n",
       "    <tr>\n",
       "      <th>4</th>\n",
       "      <td>-184.562745</td>\n",
       "      <td>65.665735</td>\n",
       "    </tr>\n",
       "  </tbody>\n",
       "</table>\n",
       "</div>"
      ],
      "text/plain": [
       "   Component 1  Component 2\n",
       "0  -113.431952     0.022980\n",
       "1   135.683614   -44.135798\n",
       "2   -91.458500    28.285376\n",
       "3   262.674512  -126.444916\n",
       "4  -184.562745    65.665735"
      ]
     },
     "execution_count": 24,
     "metadata": {},
     "output_type": "execute_result"
    }
   ],
   "source": [
    "from sklearn import manifold\n",
    "\n",
    "isomap = Isomap(n_neighbors=6, n_components=2)\n",
    "manifold_2Da = isomap.fit_transform(scaled)\n",
    "manifold_2D = pd.DataFrame(manifold_2Da, columns=['Component 1', 'Component 2'])\n",
    "\n",
    "# Left with 2 dimensions\n",
    "manifold_2D.head()"
   ]
  },
  {
   "cell_type": "code",
   "execution_count": 25,
   "metadata": {
    "colab": {},
    "colab_type": "code",
    "id": "_uzXbk4fzGPY"
   },
   "outputs": [
    {
     "data": {
      "image/png": "[encoded data removed]",
      "text/plain": [
       "<Figure size 720x720 with 1 Axes>"
      ]
     },
     "metadata": {
      "needs_background": "light"
     },
     "output_type": "display_data"
    }
   ],
   "source": [
    "import matplotlib.pyplot as plt\n",
    "import numpy as np\n",
    "%matplotlib inline\n",
    "\n",
    "fig = plt.figure()\n",
    "fig.set_size_inches(10, 10)\n",
    "ax = fig.add_subplot(111)\n",
    "ax.set_title('2D Components from Isomap of Facial Images')\n",
    "ax.set_xlabel('Component: 1')\n",
    "ax.set_ylabel('Component: 2')\n",
    "\n",
    "# Show 40 of the images ont the plot\n",
    "x_size = (max(manifold_2D['Component 1']) - min(manifold_2D['Component 1'])) * 0.08\n",
    "y_size = (max(manifold_2D['Component 2']) - min(manifold_2D['Component 2'])) * 0.08\n",
    "for i in range(40):\n",
    "    img_num = np.random.randint(0, num_images)\n",
    "    x0 = manifold_2D.loc[img_num, 'Component 1'] - (x_size / 2.)\n",
    "    y0 = manifold_2D.loc[img_num, 'Component 2'] - (y_size / 2.)\n",
    "    x1 = manifold_2D.loc[img_num, 'Component 1'] + (x_size / 2.)\n",
    "    y1 = manifold_2D.loc[img_num, 'Component 2'] + (y_size / 2.)\n",
    "    img = df.iloc[img_num,:].values.reshape(pixels_per_dimension, pixels_per_dimension)\n",
    "    ax.imshow(img, aspect='auto', cmap=plt.cm.gray, \n",
    "              interpolation='nearest', zorder=100000, extent=(x0, x1, y0, y1))\n",
    "\n",
    "# Show 2D components plot\n",
    "ax.scatter(manifold_2D['Component 1'], manifold_2D['Component 2'], marker='.',alpha=0.7)\n",
    "\n",
    "ax.set_ylabel('Up-Down Pose')\n",
    "ax.set_xlabel('Right-Left Pose')\n",
    "\n",
    "plt.show()"
   ]
  },
  {
   "cell_type": "markdown",
   "metadata": {
    "colab_type": "text",
    "id": "y7BzCcwQzGPc"
   },
   "source": [
    "We have reduced the dimensions from 4096 dimensions (pixels) to just 2 dimensions.\n",
    "\n",
    "These 2 dimensions represent the different points of view of the face, from left to right and from bottom to top."
   ]
  },
  {
   "cell_type": "code",
   "execution_count": 0,
   "metadata": {
    "colab": {},
    "colab_type": "code",
    "id": "4BuSfRWtzGPe"
   },
   "outputs": [],
   "source": []
  }
 ],
 "metadata": {
  "colab": {
   "collapsed_sections": [],
   "name": "DimensionalityReduction_53_2_nonlinear_lle_mlle_iso_assign.ipynb",
   "provenance": []
  },
  "kernelspec": {
   "display_name": "Python 3",
   "language": "python",
   "name": "python3"
  },
  "language_info": {
   "codemirror_mode": {
    "name": "ipython",
    "version": 3
   },
   "file_extension": ".py",
   "mimetype": "text/x-python",
   "name": "python",
   "nbconvert_exporter": "python",
   "pygments_lexer": "ipython3",
   "version": "3.7.7"
  }
 },
 "nbformat": 4,
 "nbformat_minor": 1
}
